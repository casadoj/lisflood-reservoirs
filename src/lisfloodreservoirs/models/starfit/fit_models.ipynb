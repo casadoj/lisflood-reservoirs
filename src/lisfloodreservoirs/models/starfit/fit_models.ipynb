{
 "cells": [
  {
   "cell_type": "code",
   "execution_count": 1,
   "id": "9308b28d-3d86-4b1f-b4cc-81ea425b4d6a",
   "metadata": {},
   "outputs": [],
   "source": [
    "import numpy as np\n",
    "import pandas as pd\n",
    "from pathlib import Path\n",
    "from tqdm.auto import tqdm\n",
    "import matplotlib.pyplot as plt\n",
    "import pickle\n",
    "\n",
    "from storage import fit_storage, create_storage_harmonic\n",
    "from release import fit_release, create_release_harmonic, create_release_linear\n",
    "from inputs import read_reservoir_attributes, read_reservoir_data#, rank_and_filter_data\n",
    "from functions import plot_nor, plot_release, epiweek_to_date\n",
    "\n",
    "from lisfloodreservoirs.utils.metrics import KGEmod"
   ]
  },
  {
   "cell_type": "markdown",
   "id": "c78b52d4-857e-4d5d-b831-49a68cbf0389",
   "metadata": {},
   "source": [
    "## Configuration "
   ]
  },
  {
   "cell_type": "code",
   "execution_count": 2,
   "id": "54c98759-8e5d-4b67-ab07-688b0f94366f",
   "metadata": {},
   "outputs": [],
   "source": [
    "# list of reservoirs to be trained\n",
    "reservoirs = pd.read_csv('Z:/nahaUsers/casadje/datasets/reservoirs/ResOpsUS/v1.1/selection/reservoirs.txt',\n",
    "                         header=None).squeeze().tolist()"
   ]
  },
  {
   "cell_type": "code",
   "execution_count": 3,
   "id": "72800cb4-d23d-49c4-9c97-9893e894de02",
   "metadata": {},
   "outputs": [],
   "source": [
    "USRDATS_path = Path('Z:/nahaUsers/casadje/datasets/reservoirs/ResOpsUS/raw')\n",
    "GRanD_path = Path('Z:/nahaUsers/casadje/datasets/reservoirs/GRanD/v1_3')\n",
    "\n",
    "# dam_id = 753\n",
    "cutoff_year = 1982"
   ]
  },
  {
   "cell_type": "code",
   "execution_count": 4,
   "id": "e1712436-e861-44d4-8afd-0d4abaf19ca8",
   "metadata": {},
   "outputs": [],
   "source": [
    "path_results = Path('Z:/nahaUsers/casadje/datasets/reservoirs/ResOpsUS/results/starfit')\n",
    "path_nor = path_results / 'NOR'\n",
    "path_nor.mkdir(parents=True, exist_ok=True)\n",
    "\n",
    "path_release = path_results / 'release'\n",
    "path_release.mkdir(parents=True, exist_ok=True)"
   ]
  },
  {
   "cell_type": "markdown",
   "id": "fa4b2a42-9688-4b13-b408-8456c6411fec",
   "metadata": {
    "tags": []
   },
   "source": [
    "## Data"
   ]
  },
  {
   "cell_type": "code",
   "execution_count": null,
   "id": "5034d4aa-bed1-4f10-9894-662c6da126de",
   "metadata": {},
   "outputs": [],
   "source": [
    "# # read reservoir attributes and extract storage capacity\n",
    "# attributes = read_reservoir_attributes(GRanD_path, dam_id)\n",
    "# Vtot = attributes.loc[dam_id, 'CAP_MCM']"
   ]
  },
  {
   "cell_type": "code",
   "execution_count": null,
   "id": "d908647e-f408-4fb1-95df-a133c5e61d8e",
   "metadata": {},
   "outputs": [],
   "source": [
    "# # read daily time series\n",
    "# daily = (\n",
    "#     read_reservoir_data(USRDATS_path, dam_id)\n",
    "#     .assign(\n",
    "#         i=lambda x: x['i_cumecs'] * 1e-6 * 86400,  # MCM/day\n",
    "#         r=lambda x: x['r_cumecs'] * 1e-6 * 86400,  # MCM/day\n",
    "#         year=lambda x: x.date.dt.year,\n",
    "#         epiweek=lambda x: x.date.dt.isocalendar().week\n",
    "#     )\n",
    "#     .rename(columns={'s_MCM': 's'})\n",
    "#     .loc[:, ['date', 's', 'i', 'r', 'year', 'epiweek']]\n",
    "#     .query('year >= @cutoff_year')\n",
    "#     .set_index('date')\n",
    "#     )\n",
    "# daily.epiweek = daily.epiweek.astype(int)"
   ]
  },
  {
   "cell_type": "markdown",
   "id": "04c5348e-8ed1-4c51-994c-a4b3e0b5f574",
   "metadata": {},
   "source": [
    "## Fit reservoir\n",
    "\n",
    "### Storage functions"
   ]
  },
  {
   "cell_type": "code",
   "execution_count": 5,
   "id": "23f75a5f-2f72-40a9-9a44-58ab5cae66ce",
   "metadata": {},
   "outputs": [
    {
     "data": {
      "application/vnd.jupyter.widget-view+json": {
       "model_id": "e46bd663fe624aa7bfe996d273a9478b",
       "version_major": 2,
       "version_minor": 0
      },
      "text/plain": [
       "  0%|          | 0/90 [00:00<?, ?it/s]"
      ]
     },
     "metadata": {},
     "output_type": "display_data"
    },
    {
     "name": "stdout",
     "output_type": "stream",
     "text": [
      "Fitting targets for dam 41: Ross\n"
     ]
    },
    {
     "ename": "ValueError",
     "evalue": "\"freq\" must be either \"W\" for weekly or \"D\" for daily, not \"flood\"",
     "output_type": "error",
     "traceback": [
      "\u001b[1;31m---------------------------------------------------------------------------\u001b[0m",
      "\u001b[1;31mValueError\u001b[0m                                Traceback (most recent call last)",
      "Cell \u001b[1;32mIn [5], line 17\u001b[0m\n\u001b[0;32m     11\u001b[0m pd\u001b[38;5;241m.\u001b[39mDataFrame({\n\u001b[0;32m     12\u001b[0m             \u001b[38;5;124m'\u001b[39m\u001b[38;5;124mflood\u001b[39m\u001b[38;5;124m'\u001b[39m: model_storage[\u001b[38;5;124m\"\u001b[39m\u001b[38;5;124mNSR upper bound\u001b[39m\u001b[38;5;124m\"\u001b[39m],\n\u001b[0;32m     13\u001b[0m             \u001b[38;5;124m'\u001b[39m\u001b[38;5;124mconservation\u001b[39m\u001b[38;5;124m'\u001b[39m: model_storage[\u001b[38;5;124m\"\u001b[39m\u001b[38;5;124mNSR lower bound\u001b[39m\u001b[38;5;124m\"\u001b[39m]\n\u001b[0;32m     14\u001b[0m         })\u001b[38;5;241m.\u001b[39mto_csv(path_nor \u001b[38;5;241m/\u001b[39m \u001b[38;5;124mf\u001b[39m\u001b[38;5;124m'\u001b[39m\u001b[38;5;132;01m{\u001b[39;00mdam_id\u001b[38;5;132;01m}\u001b[39;00m\u001b[38;5;124m.csv\u001b[39m\u001b[38;5;124m'\u001b[39m, index\u001b[38;5;241m=\u001b[39m\u001b[38;5;28;01mFalse\u001b[39;00m)\n\u001b[0;32m     16\u001b[0m \u001b[38;5;66;03m# define normal operating range (NOR)\u001b[39;00m\n\u001b[1;32m---> 17\u001b[0m NORup \u001b[38;5;241m=\u001b[39m \u001b[43mcreate_storage_harmonic\u001b[49m\u001b[43m(\u001b[49m\u001b[43mmodel_storage\u001b[49m\u001b[43m[\u001b[49m\u001b[38;5;124;43m'\u001b[39;49m\u001b[38;5;124;43mNSR upper bound\u001b[39;49m\u001b[38;5;124;43m'\u001b[39;49m\u001b[43m]\u001b[49m\u001b[43m,\u001b[49m\u001b[43m \u001b[49m\u001b[38;5;124;43m'\u001b[39;49m\u001b[38;5;124;43mflood\u001b[39;49m\u001b[38;5;124;43m'\u001b[39;49m\u001b[43m)\u001b[49m\u001b[38;5;241m.\u001b[39mset_index(\u001b[38;5;124m'\u001b[39m\u001b[38;5;124mepiweek\u001b[39m\u001b[38;5;124m'\u001b[39m)\n\u001b[0;32m     18\u001b[0m NORdown \u001b[38;5;241m=\u001b[39m create_storage_harmonic(model_storage[\u001b[38;5;124m'\u001b[39m\u001b[38;5;124mNSR lower bound\u001b[39m\u001b[38;5;124m'\u001b[39m], \u001b[38;5;124m'\u001b[39m\u001b[38;5;124mconservation\u001b[39m\u001b[38;5;124m'\u001b[39m)\u001b[38;5;241m.\u001b[39mset_index(\u001b[38;5;124m'\u001b[39m\u001b[38;5;124mepiweek\u001b[39m\u001b[38;5;124m'\u001b[39m)\n\u001b[0;32m     19\u001b[0m NOR \u001b[38;5;241m=\u001b[39m pd\u001b[38;5;241m.\u001b[39mconcat((NORup, NORdown), axis\u001b[38;5;241m=\u001b[39m\u001b[38;5;241m1\u001b[39m)\n",
      "File \u001b[1;32mE:\\casadje\\GitHub\\lisflood-reservoirs\\src\\lisfloodreservoirs\\models\\starfit\\storage.py:241\u001b[0m, in \u001b[0;36mcreate_storage_harmonic\u001b[1;34m(parameters, freq, name, constrain)\u001b[0m\n\u001b[0;32m    239\u001b[0m     col, t \u001b[38;5;241m=\u001b[39m \u001b[38;5;124m'\u001b[39m\u001b[38;5;124mdoy\u001b[39m\u001b[38;5;124m'\u001b[39m, \u001b[38;5;241m365\u001b[39m\n\u001b[0;32m    240\u001b[0m \u001b[38;5;28;01melse\u001b[39;00m:\n\u001b[1;32m--> 241\u001b[0m     \u001b[38;5;28;01mraise\u001b[39;00m \u001b[38;5;167;01mValueError\u001b[39;00m(\u001b[38;5;124mf\u001b[39m\u001b[38;5;124m'\u001b[39m\u001b[38;5;124m\"\u001b[39m\u001b[38;5;124mfreq\u001b[39m\u001b[38;5;124m\"\u001b[39m\u001b[38;5;124m must be either \u001b[39m\u001b[38;5;124m\"\u001b[39m\u001b[38;5;124mW\u001b[39m\u001b[38;5;124m\"\u001b[39m\u001b[38;5;124m for weekly or \u001b[39m\u001b[38;5;124m\"\u001b[39m\u001b[38;5;124mD\u001b[39m\u001b[38;5;124m\"\u001b[39m\u001b[38;5;124m for daily, not \u001b[39m\u001b[38;5;124m\"\u001b[39m\u001b[38;5;132;01m{\u001b[39;00mfreq\u001b[38;5;132;01m}\u001b[39;00m\u001b[38;5;124m\"\u001b[39m\u001b[38;5;124m'\u001b[39m)\n\u001b[0;32m    242\u001b[0m storage_harmonic \u001b[38;5;241m=\u001b[39m pd\u001b[38;5;241m.\u001b[39mDataFrame({col: np\u001b[38;5;241m.\u001b[39marange(\u001b[38;5;241m1\u001b[39m, t \u001b[38;5;241m+\u001b[39m \u001b[38;5;241m1\u001b[39m)})\n\u001b[0;32m    243\u001b[0m storage_harmonic[name] \u001b[38;5;241m=\u001b[39m (p1 \u001b[38;5;241m+\u001b[39m\n\u001b[0;32m    244\u001b[0m                           p2 \u001b[38;5;241m*\u001b[39m np\u001b[38;5;241m.\u001b[39msin(\u001b[38;5;241m2\u001b[39m \u001b[38;5;241m*\u001b[39m np\u001b[38;5;241m.\u001b[39mpi \u001b[38;5;241m*\u001b[39m storage_harmonic[col] \u001b[38;5;241m/\u001b[39m t) \u001b[38;5;241m+\u001b[39m\n\u001b[0;32m    245\u001b[0m                           p3 \u001b[38;5;241m*\u001b[39m np\u001b[38;5;241m.\u001b[39mcos(\u001b[38;5;241m2\u001b[39m \u001b[38;5;241m*\u001b[39m np\u001b[38;5;241m.\u001b[39mpi \u001b[38;5;241m*\u001b[39m storage_harmonic[col] \u001b[38;5;241m/\u001b[39m t))\n",
      "\u001b[1;31mValueError\u001b[0m: \"freq\" must be either \"W\" for weekly or \"D\" for daily, not \"flood\""
     ]
    }
   ],
   "source": [
    "for dam_id in tqdm(reservoirs):\n",
    "    \n",
    "    # read reservoir attributes and extract storage capacity\n",
    "    attributes = read_reservoir_attributes(GRanD_path, dam_id)\n",
    "    Vtot = attributes.loc[dam_id, 'CAP_MCM']\n",
    "\n",
    "    # fit storage model\n",
    "    model_storage = fit_storage(dam_id, USRDATS_path, attributes, cutoff_year=cutoff_year)\n",
    "    \n",
    "    # export parameters of the storage harmonics\n",
    "    pd.DataFrame({\n",
    "                'flood': model_storage[\"NSR upper bound\"],\n",
    "                'conservation': model_storage[\"NSR lower bound\"]\n",
    "            }).to_csv(path_nor / f'{dam_id}.csv', index=False)\n",
    "    \n",
    "    # define normal operating range (NOR)\n",
    "    NORup = create_storage_harmonic(model_storage['NSR upper bound'], name='flood').set_index('epiweek')\n",
    "    NORdown = create_storage_harmonic(model_storage['NSR lower bound'], name='conservation').set_index('epiweek')\n",
    "    NOR = pd.concat((NORup, NORdown), axis=1)\n",
    "\n",
    "    # weekly time series of standardised storage combined with NOR\n",
    "    weekly_storage = (model_storage['weekly storage']\n",
    "          .merge(NORup, on='epiweek')\n",
    "          .merge(NORdown, on='epiweek')\n",
    "          )\n",
    "    weekly_storage.sort_values(['year', 'epiweek'], inplace=True)\n",
    "    weekly_storage['date'] = weekly_storage.apply(lambda row: epiweek_to_date(row['year'], row['epiweek']), axis=1)\n",
    "    weekly_storage.set_index('date', inplace=True)\n",
    "\n",
    "    # plot\n",
    "    plot_nor(weekly_storage,\n",
    "             NOR,\n",
    "             title='{0} - {1}'.format(*attributes.loc[dam_id, ['GRAND_ID', 'DAM_NAME']]),\n",
    "             save=path_nor / f'{dam_id}.jpg')\n",
    "\n",
    "    # # plot time series\n",
    "    # fig, ax = plt.subplots(figsize=(12, 4))\n",
    "    # ax.plot(weekly_storage.s_pct, c='k', lw=1)\n",
    "    # ax.fill_between(weekly_storage.index, weekly_storage.flood, 1, color='whitesmoke', zorder=0)\n",
    "    # ax.fill_between(weekly_storage.index, weekly_storage.conservation, weekly_storage.flood, color='lightsteelblue', zorder=0)\n",
    "    # ax.fill_between(weekly_storage.index, 0, weekly_storage.conservation, color='whitesmoke', zorder=0)\n",
    "    # ax.set_title('{0} - {1}'.format(*attributes.loc[dam_id, ['GRAND_ID', 'DAM_NAME']]))\n",
    "    # ax.text(0.01, 0.99, 'flood pool', va='top', transform=ax.transAxes)\n",
    "    # ax.text(0.01, 0.01, 'conservation pool', va='bottom', transform=ax.transAxes)\n",
    "    # ax.set(xlim=(weekly_storage.index.min(), weekly_storage.index.max()),\n",
    "    #        ylim=(0, 1),\n",
    "    #        ylabel='storage (% of capacity)');"
   ]
  },
  {
   "cell_type": "markdown",
   "id": "72d49d9c-15e6-47b2-927f-7f59c4b201f4",
   "metadata": {},
   "source": [
    "### Release function"
   ]
  },
  {
   "cell_type": "code",
   "execution_count": 7,
   "id": "a3a6c548-f19d-4822-9890-96b7b2bf9d63",
   "metadata": {
    "tags": []
   },
   "outputs": [
    {
     "data": {
      "application/vnd.jupyter.widget-view+json": {
       "model_id": "ccc1dbf0b6704aa49e4eb03c5891b72c",
       "version_major": 2,
       "version_minor": 0
      },
      "text/plain": [
       "  0%|          | 0/90 [00:00<?, ?it/s]"
      ]
     },
     "metadata": {},
     "output_type": "display_data"
    },
    {
     "name": "stdout",
     "output_type": "stream",
     "text": [
      "Fitting release function for dam 41: Ross\n",
      "Release residual model will be discarded; (release will be based harmonic function only)\n",
      "Fitting release function for dam 63: Tieton\n",
      "Release residual model will be discarded; (release will be based harmonic function only)\n",
      "Fitting release function for dam 293: Fresno\n",
      "Release residual model will be discarded; (release will be based harmonic function only)\n",
      "Fitting release function for dam 300: Tiber Dike\n",
      "Fitting release function for dam 307: Fort Peck Dam\n",
      "Release residual model will be discarded; (release will be based harmonic function only)\n",
      "Fitting release function for dam 319: Gibson\n",
      "Fitting release function for dam 355: Yellowtail\n",
      "Fitting release function for dam 362: Clark Canyon\n",
      "Fitting release function for dam 364: Hebgen Dam\n",
      "Fitting release function for dam 367: Mason\n",
      "Release residual model will be discarded; (release will be based harmonic function only)\n",
      "Fitting release function for dam 368: Lima\n",
      "Release residual model will be discarded; (release will be based harmonic function only)\n",
      "Fitting release function for dam 372: Unity\n",
      "Fitting release function for dam 373: Buffalo Bill\n",
      "Release residual model will be discarded; (release will be based harmonic function only)\n",
      "Fitting release function for dam 384: Jackson Lake\n",
      "Release residual model will be discarded; (release will be based harmonic function only)\n",
      "Fitting release function for dam 391: Lucky Peak\n",
      "Fitting release function for dam 393: Boysen\n",
      "Fitting release function for dam 398: Bull Lake\n",
      "Release residual model will be discarded; (release will be based harmonic function only)\n",
      "Fitting release function for dam 416: Pathfinder Dike\n",
      "Fitting release function for dam 419: Big Sandy Dike\n",
      "Release residual model will be discarded; (release will be based harmonic function only)\n",
      "Fitting release function for dam 421: Seminoe\n",
      "Fitting release function for dam 423: Fontenelle\n",
      "Fitting release function for dam 438: Pineview\n",
      "Fitting release function for dam 442: Lost Creek\n",
      "Release residual model will be discarded; (release will be based harmonic function only)\n",
      "Fitting release function for dam 445: Meeks Cabin\n",
      "Fitting release function for dam 449: Echo\n",
      "Fitting release function for dam 451: Flaming Gorge\n",
      "Fitting release function for dam 456: Wanship\n",
      "Fitting release function for dam 467: Bor Jordanelle\n",
      "Release residual model will be discarded; (release will be based harmonic function only)\n",
      "Fitting release function for dam 471: Moon Lake\n",
      "Release residual model will be discarded; (release will be based harmonic function only)\n",
      "Fitting release function for dam 477: Deer Creek\n",
      "Fitting release function for dam 488: Bor Starvation\n",
      "Release residual model will be discarded; (release will be based harmonic function only)\n",
      "Fitting release function for dam 497: Williams Fork\n",
      "Release residual model will be discarded; (release will be based harmonic function only)\n",
      "Fitting release function for dam 502: Green Mountain\n",
      "Release residual model will be discarded; (release will be based harmonic function only)\n",
      "Fitting release function for dam 511: Chatfield Dam\n",
      "Fitting release function for dam 517: Ruedi\n",
      "Release residual model will be discarded; (release will be based harmonic function only)\n",
      "Fitting release function for dam 518: Joes Valley\n",
      "Release residual model will be discarded; (release will be based harmonic function only)\n",
      "Fitting release function for dam 522: Cheesman\n",
      "Release residual model will be discarded; (release will be based harmonic function only)\n",
      "Fitting release function for dam 530: Spinney Mountain\n",
      "Fitting release function for dam 533: Eleven Mile Canyon\n",
      "Fitting release function for dam 536: Taylor Park\n",
      "Release residual model will be discarded; (release will be based harmonic function only)\n",
      "Fitting release function for dam 541: Blue Mesa\n",
      "Release residual model will be discarded; (release will be based harmonic function only)\n",
      "Fitting release function for dam 575: Vallecito\n",
      "Fitting release function for dam 595: Friant\n",
      "Fitting release function for dam 597: Glen Canyon\n",
      "Release residual model will be discarded; (release will be based harmonic function only)\n",
      "Fitting release function for dam 601: Navajo\n",
      "Release residual model will be discarded; (release will be based harmonic function only)\n",
      "Fitting release function for dam 753: Garrison Dam\n",
      "Fitting release function for dam 780: Jamestown\n",
      "Release residual model will be discarded; (release will be based harmonic function only)\n",
      "Fitting release function for dam 789: Sandy Lake Dam and Lock\n",
      "Fitting release function for dam 870: Oahe Dam\n",
      "Fitting release function for dam 882: Pactola\n",
      "Fitting release function for dam 898: Glendo\n",
      "Release residual model will be discarded; (release will be based harmonic function only)\n",
      "Fitting release function for dam 952: Lovewell\n",
      "Release residual model will be discarded; (release will be based harmonic function only)\n",
      "Fitting release function for dam 957: Cherry Creek Dam\n",
      "Fitting release function for dam 982: Melvern Dam\n",
      "Fitting release function for dam 987: Pueblo\n",
      "Fitting release function for dam 989: Harry S. Truman Dam\n",
      "Fitting release function for dam 1006: Stockton Dam\n",
      "Fitting release function for dam 1023: Kaw Lake\n",
      "Fitting release function for dam 1026: Table Rock Dam\n",
      "Fitting release function for dam 1027: Fort Supply Lake\n",
      "Fitting release function for dam 1032: Oologah Lake\n",
      "Fitting release function for dam 1033: Beaver\n",
      "Fitting release function for dam 1036: Bull Shoals\n",
      "Fitting release function for dam 1042: Norfork\n",
      "Fitting release function for dam 1048: Keystone Lake\n",
      "Fitting release function for dam 1053: Fort Gibson Lake\n",
      "Fitting release function for dam 1067: Greers Ferry\n",
      "Fitting release function for dam 1070: Conchas Dam\n",
      "Fitting release function for dam 1086: Santa Rosa Dam\n",
      "Release residual model will be discarded; (release will be based harmonic function only)\n",
      "Fitting release function for dam 1112: Blakely Mountain Dam\n",
      "Fitting release function for dam 1121: Degray Dam\n",
      "Fitting release function for dam 1124: Dierks\n",
      "Fitting release function for dam 1125: Narrows Dam\n",
      "Release residual model will be discarded; (release will be based harmonic function only)\n",
      "Fitting release function for dam 1134: Pat Mayse Lake\n",
      "Fitting release function for dam 1207: Ross Barnett Reservoir\n",
      "Fitting release function for dam 1636: Senecaville Dam\n",
      "Fitting release function for dam 1723: Paintsville Dam\n",
      "Fitting release function for dam 1753: Kentucky\n",
      "Fitting release function for dam 1755: Barren River Lake Dam\n",
      "Release residual model will be discarded; (release will be based harmonic function only)\n",
      "Fitting release function for dam 1756: Wolf Creek\n",
      "Fitting release function for dam 1761: John H. Kerr Dam\n",
      "Fitting release function for dam 1777: Center Hill Dam\n",
      "Fitting release function for dam 1796: B. Everett Jordan Dam\n",
      "Fitting release function for dam 1848: Sardis Dam\n",
      "Fitting release function for dam 1851: Hartwell Dam\n",
      "Fitting release function for dam 1864: Enid Dam\n",
      "Release residual model will be discarded; (release will be based harmonic function only)\n",
      "Fitting release function for dam 1872: J. Strom Thurmond Dam\n",
      "Fitting release function for dam 1910: Walter F. George Lock and Dam\n",
      "Fitting release function for dam 7308: Richard B. Russell Dam\n",
      "Fitting release function for dam 7313: Canyon Ferry Dam\n"
     ]
    }
   ],
   "source": [
    "for dam_id in tqdm(reservoirs):\n",
    "    \n",
    "    # read reservoir attributes and extract storage capacity\n",
    "    attributes = read_reservoir_attributes(GRanD_path, dam_id)\n",
    "    Vtot = attributes.loc[dam_id, 'CAP_MCM']\n",
    "    title = '{0} - {1}'.format(*attributes.loc[dam_id, ['GRAND_ID', 'DAM_NAME']])\n",
    "    \n",
    "    # fit release model\n",
    "    model_release = fit_release(dam_id, USRDATS_path, GRanD_path, NOR_path=path_nor, cutoff_year=cutoff_year)\n",
    "\n",
    "    # export fitted parameters\n",
    "    pars_to_export = ['mean inflow (MCM/wk)', 'harmonic parameters', 'residual parameters', 'constraints']\n",
    "    pars = {key: value for key, value in model_release.items() if key in pars_to_export}\n",
    "    with open(path_release / f'{dam_id}.pkl', 'wb') as file:\n",
    "             pickle.dump(pars, file)\n",
    "\n",
    "    # extract info from the fitted release: average inflow, harmonic release (standardised) and release contraints\n",
    "    avg_inflow = model_release['mean inflow (MCM/wk)']\n",
    "    release_harmonic = create_release_harmonic(model_release['harmonic parameters']).set_index('epiweek').squeeze()\n",
    "    release_linear = create_release_linear(model_release['residual parameters'])\n",
    "    Qmin, Qmax = model_release['constraints']\n",
    "\n",
    "    # combine weekly observed and harmonic releases\n",
    "    weekly_release = (\n",
    "        model_release['weekly release']\n",
    "        # .merge(avg_inflow * (release_harmonic + 1), on='epiweek')\n",
    "        .merge(release_harmonic, on='epiweek')\n",
    "        .rename(columns={'release_harmonic': 'harmonic'})\n",
    "        .sort_values(['year', 'epiweek'])\n",
    "    )\n",
    "    # weekly_release.sort_values(['year', 'epiweek'], inplace=True)\n",
    "    weekly_release['date'] = weekly_release.apply(lambda row: epiweek_to_date(row['year'], row['epiweek']), axis=1)\n",
    "    weekly_release.set_index('epiweek', inplace=True)\n",
    "    \n",
    "    plot_release(weekly_release.r, avg_inflow, release_harmonic, release_linear, Qmin, Qmax, title=title,\n",
    "                 save=path_release / f'{dam_id}.jpg')"
   ]
  },
  {
   "cell_type": "code",
   "execution_count": null,
   "id": "acfb38eb-085a-4fcc-8e52-ce1a7dd7dfd0",
   "metadata": {},
   "outputs": [],
   "source": [
    "plt.hlines([None, None], 1, 52, color='k', ls=':', lw=.5, label='min-max')\n",
    "plt.legend()"
   ]
  },
  {
   "cell_type": "code",
   "execution_count": null,
   "id": "4fc0234e-5cc2-46b0-81e0-cb13062cd461",
   "metadata": {},
   "outputs": [],
   "source": []
  }
 ],
 "metadata": {
  "kernelspec": {
   "display_name": "Python 3 (ipykernel)",
   "language": "python",
   "name": "python3"
  },
  "language_info": {
   "codemirror_mode": {
    "name": "ipython",
    "version": 3
   },
   "file_extension": ".py",
   "mimetype": "text/x-python",
   "name": "python",
   "nbconvert_exporter": "python",
   "pygments_lexer": "ipython3",
   "version": "3.9.13"
  }
 },
 "nbformat": 4,
 "nbformat_minor": 5
}
