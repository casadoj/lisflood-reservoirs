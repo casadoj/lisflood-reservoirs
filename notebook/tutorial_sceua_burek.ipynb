{
 "cells": [
  {
   "cell_type": "markdown",
   "id": "4516f5e0-f0dd-4bdb-af93-3cf34cfb94c6",
   "metadata": {},
   "source": [
    "# Calibrate a LISFLOOD reservoir\n",
    "***\n",
    "\n",
    "**Autor:** Chus Casado<br>\n",
    "**Date:** 31-10-2023<br>\n",
    "\n"
   ]
  },
  {
   "cell_type": "code",
   "execution_count": null,
   "id": "de47e30a-87f9-40d4-8020-4119f7e50429",
   "metadata": {},
   "outputs": [],
   "source": [
    "# -*- coding: utf-8 -*-\n",
    "\"\"\"\n",
    "Copyright 2015 by Tobias Houska\n",
    "This file is part of Statistical Parameter Estimation Tool (SPOTPY).\n",
    "\n",
    ":author: Tobias Houska\n",
    "\n",
    "This class holds example code how to use the dream algorithm\n",
    "\"\"\""
   ]
  },
  {
   "cell_type": "code",
   "execution_count": 1,
   "id": "5da5798f-2a47-45b6-a6c6-fb8438b1e563",
   "metadata": {},
   "outputs": [],
   "source": [
    "import pandas as pd\n",
    "import matplotlib.pyplot as plt\n",
    "from datetime import datetime\n",
    "import spotpy\n",
    "from spotpy.objectivefunctions import kge\n",
    "\n",
    "from spot_setup_burek import spot_setup\n",
    "from reservoirs.reservoirs import Lisflood"
   ]
  },
  {
   "cell_type": "markdown",
   "id": "e9584ca2-5df3-4035-b9e8-bfb7066245f2",
   "metadata": {},
   "source": [
    "## Configuration"
   ]
  },
  {
   "cell_type": "code",
   "execution_count": 2,
   "id": "c6a8432b-a6b3-4f10-a372-0263a590a12a",
   "metadata": {},
   "outputs": [],
   "source": [
    "ResID = 146"
   ]
  },
  {
   "cell_type": "code",
   "execution_count": 7,
   "id": "7881186f-d310-48ef-8d3d-2849b7f66aaf",
   "metadata": {},
   "outputs": [],
   "source": [
    "# sequential mode\n",
    "parallel = \"seq\"  \n",
    "\n",
    "# input file\n",
    "input_file = f'reservoirs/input_{ResID:03}.csv'\n",
    "\n",
    "# output file\n",
    "output_file = 'reservoirs/SCEUA_burek'\n",
    "\n",
    "# calibration period\n",
    "start, end = datetime(2000, 1, 1), datetime(2019, 12, 31)"
   ]
  },
  {
   "cell_type": "markdown",
   "id": "f0f4c35b-03a5-424f-9923-898962503117",
   "metadata": {},
   "source": [
    "### Reservoir"
   ]
  },
  {
   "cell_type": "code",
   "execution_count": 8,
   "id": "ee6e7805-92a7-4bef-9efa-8db5d7ab6ed9",
   "metadata": {},
   "outputs": [],
   "source": [
    "# storage limits\n",
    "Vc, Vn, Vf, Vtot = 109 * 1e6, 730.3 * 1e6, 1057.3 * 1e6, 1090 * 1e6\n",
    "# outflow limits\n",
    "Qmin, Qn, Qnd = 2.1, 14.3, 77.9"
   ]
  },
  {
   "cell_type": "code",
   "execution_count": 9,
   "id": "9fddd1e0-f775-49f7-9217-baf42ba2294f",
   "metadata": {},
   "outputs": [],
   "source": [
    "# parameters GloFAS\n",
    "alpha_glofas, beta_glofas = 0.01, 1.59126"
   ]
  },
  {
   "cell_type": "code",
   "execution_count": 10,
   "id": "a0701499-174d-42a2-a6a9-1d464ed8c968",
   "metadata": {},
   "outputs": [],
   "source": [
    "Vn_adj = Vn + alpha_glofas * (Vf - Vn)\n",
    "Qn_adj = max(Qmin, min(Qn * beta_glofas, Qnd))\n",
    "\n",
    "reservoir = Lisflood(Vc, Vn, Vn_adj, Vf, Vtot, Qmin, Qn_adj, Qnd)"
   ]
  },
  {
   "cell_type": "code",
   "execution_count": 20,
   "id": "d0e8a2a4-7cea-4b9c-8ef6-d020a676b193",
   "metadata": {},
   "outputs": [
    {
     "data": {
      "text/plain": [
       "(0.686154778835329, 0.7258592765734516, 1.0924697505702703, 1.1216348298660457)"
      ]
     },
     "execution_count": 20,
     "metadata": {},
     "output_type": "execute_result"
    }
   ],
   "source": [
    "sim = reservoir.simulate(data.inflow, data.storage[0], k=1.2)\n",
    "kge(data.outflow, sim.outflow, return_all=True)"
   ]
  },
  {
   "cell_type": "markdown",
   "id": "c6db69c6-9546-41d0-91fd-07aac0fcc178",
   "metadata": {},
   "source": [
    "### Time series"
   ]
  },
  {
   "cell_type": "code",
   "execution_count": 11,
   "id": "d08617cb-7356-4f85-822a-257134d78cef",
   "metadata": {},
   "outputs": [],
   "source": [
    "# time series\n",
    "data = pd.read_csv(input_file, sep=',', parse_dates=True, dayfirst=False, index_col='date')\n",
    "# data.storage *= Vtot\n",
    "\n",
    "train = data.loc[start:end]\n",
    "test = data.loc[:start]"
   ]
  },
  {
   "cell_type": "markdown",
   "id": "3c86218e-cf79-4776-9923-40692c9caf8c",
   "metadata": {},
   "source": [
    "## Calibration\n",
    "### Setup"
   ]
  },
  {
   "cell_type": "code",
   "execution_count": 12,
   "id": "09388bad-0f69-4afd-97fb-17ac41157169",
   "metadata": {},
   "outputs": [],
   "source": [
    "# initialize the calibration setup of the LISFLOOD reservoir routine\n",
    "setup = spot_setup(train.inflow, train.storage[0], train.outflow,\n",
    "                        Vc, Vn, Vf, Vtot,\n",
    "                        Qmin, Qn, Qnd,\n",
    "                        spotpy.objectivefunctions.kge)"
   ]
  },
  {
   "cell_type": "code",
   "execution_count": null,
   "id": "36cd87d1-4db8-4c39-9764-7d64e64ac33e",
   "metadata": {},
   "outputs": [],
   "source": [
    "from spotpy.parameter import Uniform"
   ]
  },
  {
   "cell_type": "code",
   "execution_count": 13,
   "id": "6f770516-9990-4b75-a71a-3213fc6b4792",
   "metadata": {},
   "outputs": [],
   "source": [
    "# Select number of maximum allowed repetitions\n",
    "max_iter = 2000\n",
    "sampler = spotpy.algorithms.sceua(setup, dbname=\"SCEUA_burek\", dbformat=\"csv\", save_sim=False)"
   ]
  },
  {
   "cell_type": "markdown",
   "id": "b2f0ab36-4f69-46ee-a117-b23adc5761f9",
   "metadata": {},
   "source": [
    "### Launch"
   ]
  },
  {
   "cell_type": "code",
   "execution_count": 14,
   "id": "cd5a84de-11cf-4b80-9277-63ed0d24123a",
   "metadata": {},
   "outputs": [
    {
     "name": "stdout",
     "output_type": "stream",
     "text": [
      "Initializing the  Shuffled Complex Evolution (SCE-UA) algorithm  with  2000  repetitions\n",
      "The objective function will be minimized\n",
      "Starting burn-in sampling...\n",
      "Initialize database...\n",
      "['csv', 'hdf5', 'ram', 'sql', 'custom', 'noData']\n",
      "* Database file 'SCEUA_burek.csv' created.\n",
      "4 of 2000, minimal objective function=0.656103, time remaining: 00:13:55\n",
      "8 of 2000, minimal objective function=0.656103, time remaining: 00:15:32\n",
      "12 of 2000, minimal objective function=0.646377, time remaining: 00:16:10\n",
      "16 of 2000, minimal objective function=0.646377, time remaining: 00:16:23\n",
      "20 of 2000, minimal objective function=0.646377, time remaining: 00:16:35\n",
      "24 of 2000, minimal objective function=0.646377, time remaining: 00:16:35\n",
      "28 of 2000, minimal objective function=0.646377, time remaining: 00:16:45\n",
      "32 of 2000, minimal objective function=0.646377, time remaining: 00:16:44\n",
      "Burn-in sampling completed...\n",
      "Starting Complex Evolution...\n",
      "ComplexEvo loop #1 in progress...\n",
      "43 of 2000, minimal objective function=0.646377, time remaining: 00:16:20\n",
      "56 of 2000, minimal objective function=0.646377, time remaining: 00:14:52\n",
      "68 of 2000, minimal objective function=0.646377, time remaining: 00:13:58\n",
      "81 of 2000, minimal objective function=0.646377, time remaining: 00:13:18\n",
      "95 of 2000, minimal objective function=0.646377, time remaining: 00:12:49\n",
      "106 of 2000, minimal objective function=0.646377, time remaining: 00:12:21\n",
      "118 of 2000, minimal objective function=0.646377, time remaining: 00:12:00\n",
      "ComplexEvo loop #2 in progress...\n",
      "132 of 2000, minimal objective function=0.646377, time remaining: 00:11:44\n",
      "145 of 2000, minimal objective function=0.646377, time remaining: 00:11:29\n",
      "158 of 2000, minimal objective function=0.646377, time remaining: 00:11:14\n",
      "171 of 2000, minimal objective function=0.646377, time remaining: 00:11:02\n",
      "183 of 2000, minimal objective function=0.646377, time remaining: 00:10:49\n",
      "196 of 2000, minimal objective function=0.646377, time remaining: 00:10:39\n",
      "209 of 2000, minimal objective function=0.646377, time remaining: 00:10:32\n",
      "ComplexEvo loop #3 in progress...\n",
      "224 of 2000, minimal objective function=0.646377, time remaining: 00:10:27\n",
      "236 of 2000, minimal objective function=0.646377, time remaining: 00:10:18\n",
      "249 of 2000, minimal objective function=0.646377, time remaining: 00:10:10\n",
      "264 of 2000, minimal objective function=0.646377, time remaining: 00:10:05\n",
      "278 of 2000, minimal objective function=0.646377, time remaining: 00:09:59\n",
      "292 of 2000, minimal objective function=0.646377, time remaining: 00:09:53\n",
      "305 of 2000, minimal objective function=0.646377, time remaining: 00:09:46\n",
      "ComplexEvo loop #4 in progress...\n",
      "319 of 2000, minimal objective function=0.644452, time remaining: 00:09:39\n",
      "332 of 2000, minimal objective function=0.644452, time remaining: 00:09:33\n",
      "346 of 2000, minimal objective function=0.644452, time remaining: 00:09:28\n",
      "360 of 2000, minimal objective function=0.644452, time remaining: 00:09:23\n",
      "374 of 2000, minimal objective function=0.644452, time remaining: 00:09:17\n",
      "388 of 2000, minimal objective function=0.644452, time remaining: 00:09:12\n",
      "402 of 2000, minimal objective function=0.644452, time remaining: 00:09:07\n",
      "ComplexEvo loop #5 in progress...\n",
      "416 of 2000, minimal objective function=0.644452, time remaining: 00:09:03\n",
      "429 of 2000, minimal objective function=0.643202, time remaining: 00:08:57\n",
      "442 of 2000, minimal objective function=0.643202, time remaining: 00:08:51\n",
      "455 of 2000, minimal objective function=0.643202, time remaining: 00:08:46\n",
      "469 of 2000, minimal objective function=0.643202, time remaining: 00:08:42\n",
      "483 of 2000, minimal objective function=0.643202, time remaining: 00:08:37\n",
      "497 of 2000, minimal objective function=0.643202, time remaining: 00:08:31\n",
      "ComplexEvo loop #6 in progress...\n",
      "512 of 2000, minimal objective function=0.643202, time remaining: 00:08:26\n",
      "526 of 2000, minimal objective function=0.642832, time remaining: 00:08:21\n",
      "540 of 2000, minimal objective function=0.642832, time remaining: 00:08:15\n",
      "554 of 2000, minimal objective function=0.642832, time remaining: 00:08:11\n",
      "568 of 2000, minimal objective function=0.642832, time remaining: 00:08:06\n",
      "582 of 2000, minimal objective function=0.642832, time remaining: 00:08:01\n",
      "596 of 2000, minimal objective function=0.642832, time remaining: 00:07:56\n",
      "ComplexEvo loop #7 in progress...\n",
      "610 of 2000, minimal objective function=0.642782, time remaining: 00:07:51\n",
      "623 of 2000, minimal objective function=0.642782, time remaining: 00:07:46\n",
      "637 of 2000, minimal objective function=0.642782, time remaining: 00:07:41\n",
      "652 of 2000, minimal objective function=0.642782, time remaining: 00:07:36\n",
      "665 of 2000, minimal objective function=0.64256, time remaining: 00:07:31\n",
      "679 of 2000, minimal objective function=0.64256, time remaining: 00:07:26\n",
      "691 of 2000, minimal objective function=0.64256, time remaining: 00:07:21\n",
      "ComplexEvo loop #8 in progress...\n",
      "704 of 2000, minimal objective function=0.642372, time remaining: 00:07:16\n",
      "717 of 2000, minimal objective function=0.642372, time remaining: 00:07:11\n",
      "732 of 2000, minimal objective function=0.642372, time remaining: 00:07:06\n",
      "746 of 2000, minimal objective function=0.642372, time remaining: 00:07:01\n",
      "761 of 2000, minimal objective function=0.642372, time remaining: 00:06:56\n",
      "775 of 2000, minimal objective function=0.642372, time remaining: 00:06:51\n",
      "788 of 2000, minimal objective function=0.642372, time remaining: 00:06:46\n",
      "THE POPULATION HAS CONVERGED TO A PRESPECIFIED SMALL PARAMETER SPACE\n",
      "SEARCH WAS STOPPED AT TRIAL NUMBER: 792\n",
      "NUMBER OF DISCARDED TRIALS: 0\n",
      "NORMALIZED GEOMETRIC RANGE = 0.057006\n",
      "THE BEST POINT HAS IMPROVED IN LAST 10 LOOPS BY 100000.000000 PERCENT\n",
      "\n",
      "*** Final SPOTPY summary ***\n",
      "Total Duration: 264.67 seconds\n",
      "Total Repetitions: 792\n",
      "Minimal objective value: 0.642372\n",
      "Corresponding parameter setting:\n",
      "alpha: 0.0157927\n",
      "beta: 1.99805\n",
      "******************************\n",
      "\n"
     ]
    }
   ],
   "source": [
    "# Start the sampler, one can specify ngs, kstop, peps and pcento id desired\n",
    "sampler.sample(max_iter, ngs=7, kstop=10, peps=0.1, pcento=0.01)"
   ]
  },
  {
   "cell_type": "markdown",
   "id": "b4809a96-fa5a-4d7c-ab7e-85eba26e5652",
   "metadata": {},
   "source": [
    "### Analyse results "
   ]
  },
  {
   "cell_type": "code",
   "execution_count": 15,
   "id": "d0a0037a-74c0-4a86-82bf-0dade7b27e20",
   "metadata": {},
   "outputs": [],
   "source": [
    "# Load the results gained with the sceua sampler, stored in SCEUA_hymod.csv\n",
    "# results = spotpy.analyser.load_csv_results(\"SCEUA_burek\")\n",
    "results = pd.read_csv('SCEUA_burek.csv')\n",
    "results.columns = ['KGE', 'alpha', 'beta', 'chain']\n",
    "results.KGE = 1 - results.KGE\n",
    "results.index.name = 'iteration'"
   ]
  },
  {
   "cell_type": "code",
   "execution_count": 16,
   "id": "033d66b8-da1b-40e3-a6db-30cf77c78065",
   "metadata": {},
   "outputs": [
    {
     "name": "stdout",
     "output_type": "stream",
     "text": [
      "iteration 284 got the highest performance:\tKGE = 0.358\n",
      "best parameters:\n",
      "alpha = 0.016\n",
      "beta  = 1.998\n"
     ]
    }
   ],
   "source": [
    "best_iter = results.KGE.idxmax()\n",
    "best_of = results.loc[best_iter, 'KGE']\n",
    "alpha, beta = results.loc[best_iter, ['alpha', 'beta']]\n",
    "print(f'iteration {best_iter} got the highest performance:\\tKGE = {best_of:.3f}')\n",
    "print('best parameters:\\nalpha = {0:.3f}\\nbeta  = {1:.3f}'.format(alpha, beta))"
   ]
  },
  {
   "cell_type": "code",
   "execution_count": 17,
   "id": "490cbadb-5ee5-45e8-a105-55090dde3f3e",
   "metadata": {},
   "outputs": [
    {
     "data": {
      "image/png": "[encoded data removed]",
      "text/plain": [
       "<Figure size 1200x400 with 1 Axes>"
      ]
     },
     "metadata": {},
     "output_type": "display_data"
    }
   ],
   "source": [
    "# Plot how the objective function was minimized during sampling\n",
    "fig = plt.figure(figsize=(12, 4))\n",
    "plt.plot(results.KGE, c='gray', lw=.5, zorder=0)\n",
    "plt.scatter(results.index, results.KGE, c=results.chain, cmap='coolwarm', zorder=2, s=3)\n",
    "plt.ylabel(\"KGE\")\n",
    "plt.xlabel(\"Iteration\");\n",
    "# fig.savefig(\"SCEUA_objectivefunctiontrace.png\", dpi=150);"
   ]
  },
  {
   "cell_type": "code",
   "execution_count": null,
   "id": "f7201aff-ed3f-4bad-8258-fb5f796a7b14",
   "metadata": {},
   "outputs": [],
   "source": [
    "# declare the reservoir\n",
    "Vn_adj = Vn + alpha * (Vf - Vn)\n",
    "Qn_adj = min(Qmin, max(Qn * beta, Qmin + .01))\n",
    "res = Lisflood(Vc, Vn, Vn_adj, Vf, Vtot, Qmin, Qn_adj, Qnd)\n",
    "\n",
    "# simulate calibration period and get performance\n",
    "y_train = res.simulate(train.inflow, train.storage[0]).outflow\n",
    "of_train = kge(train.outflow, y_train)\n",
    "\n",
    "# simulate calibration period and get performance\n",
    "y_test = res.simulate(test.inflow, test.storage[0]).outflow\n",
    "of_test = kge(test.outflow, y_test)"
   ]
  },
  {
   "cell_type": "code",
   "execution_count": null,
   "id": "925457a7-b535-4fdd-a599-97bd9e89dffd",
   "metadata": {},
   "outputs": [],
   "source": []
  },
  {
   "cell_type": "code",
   "execution_count": null,
   "id": "4afb91c5-9142-4716-bf83-c92214c55461",
   "metadata": {},
   "outputs": [],
   "source": [
    "fig, ax = plt.subplots(figsize=(4.5, 4))\n",
    "sct = ax.scatter(results.alpha, results.beta, s=1, c=results.KGE, cmap='viridis')\n",
    "ax.set(xlabel='alpha',\n",
    "       xlim=(0, 1),\n",
    "       ylabel='beta',\n",
    "       ylim=(.25, 2));\n",
    "cbar = plt.colorbar(sct, shrink=.666)\n",
    "cbar.set_label('KGE (-)')"
   ]
  },
  {
   "cell_type": "code",
   "execution_count": null,
   "id": "1ada730b-ab95-48af-b32a-ef7e869903fd",
   "metadata": {},
   "outputs": [],
   "source": [
    "# declare the reservoir with the effect of the parameters in 'x'\n",
    "Vn_adj = Vn + alpha * (Vf - Vn)\n",
    "#Qn = np.max(self.Qn * x[1], self.Qmin + .01)\n",
    "Qn = Qn * beta\n",
    "res = Lisflood(Vc, Vn, Vn_adj, Vf, Vtot, Qmin, Qn, Qnd)\n",
    "\n",
    "sim = res.simulate(train.inflow, train.storage[0])\n",
    "\n",
    "kge(train.outflow, sim.outflow)"
   ]
  },
  {
   "cell_type": "code",
   "execution_count": null,
   "id": "f58cd77c-e47f-42a7-8c7a-4ebbe44bbcf8",
   "metadata": {},
   "outputs": [],
   "source": [
    "KGE(train.outflow, sim.outflow)"
   ]
  },
  {
   "cell_type": "code",
   "execution_count": null,
   "id": "e04c56cf-8c4a-474c-84cf-cfed0aa997f0",
   "metadata": {},
   "outputs": [],
   "source": [
    "plt.plot(train.outflow)\n",
    "plt.plot(sim.outflow);"
   ]
  },
  {
   "cell_type": "code",
   "execution_count": null,
   "id": "4b9f570a-2975-4410-8365-23649345725d",
   "metadata": {},
   "outputs": [],
   "source": []
  },
  {
   "cell_type": "code",
   "execution_count": null,
   "id": "ea1563ab-84f7-470b-bb6a-6bc9b6dbe71d",
   "metadata": {},
   "outputs": [],
   "source": [
    "pars = spotpy.analyser.get_best_paradmeterset(results)\n",
    "pars"
   ]
  },
  {
   "cell_type": "code",
   "execution_count": null,
   "id": "d6f9c647-207c-461b-9d24-ab5d44d333ac",
   "metadata": {},
   "outputs": [],
   "source": [
    "# Plot the best model run\n",
    "# Find the run_id with the minimal objective function value\n",
    "bestindex, bestobjf = spotpy.analyser.get_minlikeindex(results)\n",
    "\n",
    "bestindex, bestobjf"
   ]
  },
  {
   "cell_type": "code",
   "execution_count": null,
   "id": "0ef19631-77f7-4b09-aed8-d6af64de16c5",
   "metadata": {},
   "outputs": [],
   "source": []
  },
  {
   "cell_type": "code",
   "execution_count": null,
   "id": "b4f18ebd-7a55-4e98-985a-ad2a1187ca95",
   "metadata": {},
   "outputs": [],
   "source": [
    "# Select best model run\n",
    "best_model_run = results[bestindex]"
   ]
  },
  {
   "cell_type": "code",
   "execution_count": null,
   "id": "3a6a5e2b-b730-45aa-b2f4-942d474dfd80",
   "metadata": {},
   "outputs": [],
   "source": []
  },
  {
   "cell_type": "code",
   "execution_count": null,
   "id": "8ae374c0-dc19-4ea9-a502-aa695fb57f45",
   "metadata": {
    "tags": []
   },
   "outputs": [],
   "source": [
    "best_model_run"
   ]
  },
  {
   "cell_type": "code",
   "execution_count": null,
   "id": "74655eff-b1b7-4c53-a340-2c724400138f",
   "metadata": {},
   "outputs": [],
   "source": [
    "# Filter results for simulation results\n",
    "fields = [word for word in best_model_run.dtype.names if word.startswith(\"sim\")]\n",
    "best_simulation = list(best_model_run[fields])"
   ]
  },
  {
   "cell_type": "code",
   "execution_count": null,
   "id": "112fa85f-e60f-460f-ae72-4ac7c7effaec",
   "metadata": {},
   "outputs": [],
   "source": [
    "fields"
   ]
  },
  {
   "cell_type": "code",
   "execution_count": null,
   "id": "290137ad-1b44-41d8-8d94-733af0a22772",
   "metadata": {},
   "outputs": [],
   "source": [
    "fig = plt.figure(figsize=(9, 6))\n",
    "ax = plt.subplot(1, 1, 1)\n",
    "ax.plot(\n",
    "    best_simulation,\n",
    "    color=\"black\",\n",
    "    linestyle=\"solid\",\n",
    "    label=\"Best objf.=\" + str(bestobjf),\n",
    ")\n",
    "ax.plot(setup.evaluation(), \"r.\", markersize=3, label=\"Observation data\")\n",
    "plt.xlabel(\"Number of Observation Points\")\n",
    "plt.ylabel(\"Discharge [l s-1]\")\n",
    "plt.legend(loc=\"upper right\");\n",
    "# fig.savefig(\"SCEUA_best_modelrun.png\", dpi=150);"
   ]
  },
  {
   "cell_type": "code",
   "execution_count": null,
   "id": "4c0b3f28-c2be-4529-acb6-7ed5e80900b6",
   "metadata": {},
   "outputs": [],
   "source": []
  }
 ],
 "metadata": {
  "kernelspec": {
   "display_name": "Python 3 (ipykernel)",
   "language": "python",
   "name": "python3"
  },
  "language_info": {
   "codemirror_mode": {
    "name": "ipython",
    "version": 3
   },
   "file_extension": ".py",
   "mimetype": "text/x-python",
   "name": "python",
   "nbconvert_exporter": "python",
   "pygments_lexer": "ipython3",
   "version": "3.9.13"
  }
 },
 "nbformat": 4,
 "nbformat_minor": 5
}
