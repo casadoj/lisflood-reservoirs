{
 "cells": [
  {
   "cell_type": "markdown",
   "id": "e7bfb620-0515-4bbe-adde-71b978d69700",
   "metadata": {},
   "source": [
    "# Hydrological Data Colection Center\n",
    "***\n",
    "\n",
    "**_Autor:_** Chus Casado Rodríguez<br>\n",
    "**_Fecha:_** 04-09-2024<br>\n",
    "\n",
    "**Introduction:**<br>\n",
    "This code downloads the reservoir time series available in the HYDRO data base for a specific country."
   ]
  },
  {
   "cell_type": "code",
   "execution_count": 1,
   "id": "c94e2991-91d0-4ec2-99c5-b9f00261c3a9",
   "metadata": {},
   "outputs": [],
   "source": [
    "import os\n",
    "os.environ['USE_PYGEOS'] = '0'\n",
    "import geopandas as gpd\n",
    "from shapely.geometry import Point\n",
    "import re\n",
    "import requests\n",
    "from pathlib import Path\n",
    "import numpy as np\n",
    "import pandas as pd\n",
    "import xarray as xr\n",
    "from datetime import datetime, timedelta\n",
    "from tqdm.notebook import tqdm\n",
    "import matplotlib.pyplot as plt\n",
    "import cartopy.crs as ccrs\n",
    "import cartopy.feature as cfeature\n",
    "\n",
    "from lisfloodreservoirs.utils import DatasetConfig, APIConfig"
   ]
  },
  {
   "cell_type": "markdown",
   "id": "e0f8d181-fc8f-4b5b-87dd-46f1b68d2830",
   "metadata": {},
   "source": [
    "## Configuration"
   ]
  },
  {
   "cell_type": "code",
   "execution_count": 7,
   "id": "25409bab-6422-4c84-af54-b306600e8dcc",
   "metadata": {},
   "outputs": [],
   "source": [
    "# dataset cofiguration\n",
    "cfg = DatasetConfig('config_dataset.yml')\n",
    "\n",
    "# HDMS API configuration\n",
    "api = APIConfig('../HDMS_API.yml')\n",
    "\n",
    "# filters\n",
    "COUNTRY_ID = 'PT'\n",
    "\n",
    "# study period\n",
    "strftime = '%Y-%m-%dT%H:%M:%S'\n",
    "\n",
    "# variables of interest\n",
    "VARIABLES = {\n",
    "    'O': 'outflow',\n",
    "    'V': 'volume',\n",
    "    'R': 'level'\n",
    "}\n",
    "\n",
    "# directory of the HDMS dataset\n",
    "PATH_HDMS = Path('Z:/nahaUsers/casadje/datasets/hDMS/reservoirs')"
   ]
  },
  {
   "cell_type": "markdown",
   "id": "dd555531-7479-47be-8da7-69b89bc182c8",
   "metadata": {},
   "source": [
    "## Reservoirs"
   ]
  },
  {
   "cell_type": "code",
   "execution_count": 8,
   "id": "40e15ac3-c652-46c9-894b-3f37c6c22ff1",
   "metadata": {
    "tags": []
   },
   "outputs": [],
   "source": [
    "service = 'stationsmdv2'\n",
    "\n",
    "url = f'{api.URL}/{service}/json/' #provider/{PROVIDER_ID}/'\n",
    "response = requests.get(url, auth=requests.auth.HTTPBasicAuth(api.USERNAME, api.PASSWORD))\n",
    "if response.status_code == 200:\n",
    "    # convert to pandas\n",
    "    reservoirs = pd.DataFrame(response.json())\n",
    "    reservoirs.columns = reservoirs.columns.str.upper()\n",
    "    reservoirs.set_index('EFAS_ID', drop=True, inplace=True)\n",
    "    \n",
    "    # keep only reservoirs in the specific country\n",
    "    mask_type = reservoirs.TYPE == 'RESERVOIR'\n",
    "    mask_country = reservoirs['COUNTRY-CODE'] == COUNTRY_ID\n",
    "    reservoirs = reservoirs[mask_type & mask_country]\n",
    "\n",
    "    # organize fields\n",
    "    reservoirs.dropna(axis=1, how='all', inplace=True)\n",
    "    reservoirs.drop(['LATITUDE_GEODESIC', 'LONGITUDE_GEODESIC', 'GEODESIC_REFERENCE_SYSTEM', 'VARIABLES', 'CATCHMENT_AREA_UNITS', 'HEIGHT_UNITS', 'TYPE'],\n",
    "                    axis=1,\n",
    "                    inplace=True,\n",
    "                    errors='ignore')\n",
    "    reservoirs.rename(columns={\n",
    "         'HAS_RTDATA': 'DATA_RT',\n",
    "         'HAS_HISTORICAL_DATA': 'DATA_HIST',\n",
    "         'NAME': 'RES_NAME',\n",
    "         'NATIONAL_STATION_IDENTIFIER': 'LOCAL_ID',\n",
    "         'PROVIDER_ID': 'PROV_ID',\n",
    "         'COUNTRY-CODE': 'COUNTRY_ID',\n",
    "         'BASIN_ENGLISH': 'BASIN_EN',\n",
    "         'BASIN_LOCAL': 'BASIN_LOC',\n",
    "         'RIVERNAME_LOCAL': 'RIVER_LOC',\n",
    "         'RIVERNAME_ENGLISH': 'RIVER_EN',\n",
    "         'CATCHMENT_AREA': 'CATCH_SKM',\n",
    "         'LATITUDE_WGS84': 'LAT',\n",
    "         'LONGITUDE_WGS84': 'LON',\n",
    "         'COORDINATES_CHECKED': 'COORD_TEST',\n",
    "         'HEIGHT': 'DAM_HGT_M',\n",
    "         'DATE_OF_STARTING_MEASUREMENT': 'START',\n",
    "         'DATE_OF_ENDING_MEASUREMENT': 'END',\n",
    "         'DATE_OF_REGISTRATION': 'REGISTERED',\n",
    "         'LAST_CHANGE_COMMENT': 'COMMENT',\n",
    "    }, inplace=True)\n",
    "    reservoirs.sort_index(axis=1, inplace=True)\n",
    "\n",
    "    # convert to geopandas\n",
    "    geometry = [Point(xy) for xy in zip(reservoirs.LON, reservoirs.LAT)]\n",
    "    reservoirs = gpd.GeoDataFrame(reservoirs, geometry=geometry)\n",
    "    reservoirs.set_crs(epsg=4326, inplace=True)"
   ]
  },
  {
   "cell_type": "code",
   "execution_count": 9,
   "id": "31c2e278-0c27-42e1-a572-34594e2f4aaa",
   "metadata": {},
   "outputs": [
    {
     "data": {
      "image/png": "[encoded data removed]",
      "text/plain": [
       "<Figure size 640x480 with 1 Axes>"
      ]
     },
     "metadata": {},
     "output_type": "display_data"
    }
   ],
   "source": [
    "fig, ax = plt.subplots(subplot_kw=dict(projection=ccrs.PlateCarree()))\n",
    "ax.add_feature(cfeature.NaturalEarthFeature('physical', 'land', '10m', edgecolor='face', facecolor='lightgray'),\n",
    "               alpha=.5,\n",
    "               zorder=0)\n",
    "reservoirs.plot(markersize=5, ax=ax)\n",
    "ax.set_title(f'{reservoirs.shape[0]} reservoirs')\n",
    "ax.set_extent([-10, 4.5, 35.5, 44])\n",
    "ax.axis('off');"
   ]
  },
  {
   "cell_type": "code",
   "execution_count": 10,
   "id": "b62afcfb-7f43-4f04-b1ec-68cc1782d129",
   "metadata": {
    "tags": []
   },
   "outputs": [],
   "source": [
    "# export\n",
    "reservoirs.to_file(cfg.PATH_RESOPS / 'GIS' / 'reservoirs_HDMS.shp')"
   ]
  },
  {
   "cell_type": "code",
   "execution_count": null,
   "id": "874f9a27-67c3-4b38-9291-972012bf9b78",
   "metadata": {
    "tags": []
   },
   "outputs": [],
   "source": [
    "# # summarize data availability\n",
    "# data_cols = reservoirs.columns[hdcc.columns.str.contains('[O|V|R]_Has_')].tolist()\n",
    "# reservoirs[data_cols].astype(bool).sum()"
   ]
  },
  {
   "cell_type": "markdown",
   "id": "baac74e5-f926-42c1-9152-d86dd58c88a1",
   "metadata": {},
   "source": [
    "## Timeseries"
   ]
  },
  {
   "cell_type": "markdown",
   "id": "6fb65aad-9d5c-410f-8706-abacdaf352e8",
   "metadata": {},
   "source": [
    "### Data range"
   ]
  },
  {
   "cell_type": "markdown",
   "id": "227b2d56-de89-4564-8f52-d5037885f50d",
   "metadata": {},
   "source": [
    "```Python\n",
    "service = 'hdatarange'\n",
    "url = f'{api.URL}/{service}/'\n",
    "response = requests.get(url + '9142', auth=requests.auth.HTTPBasicAuth(api.USERNAME, api.PASSWORD))\n",
    "\n",
    "if response.status_code == 200:\n",
    "    data = response.json()\n",
    "    # Do something with the data\n",
    "else:\n",
    "    print(\"Failed to retrieve data from the API\")\n",
    "```"
   ]
  },
  {
   "cell_type": "markdown",
   "id": "e824922a-21b0-46a6-8d7c-bd685f02d9fc",
   "metadata": {
    "tags": []
   },
   "source": [
    "### Operational"
   ]
  },
  {
   "cell_type": "code",
   "execution_count": null,
   "id": "1f9f9a81-cbdc-4b7f-8db9-52bbb344efc0",
   "metadata": {
    "tags": []
   },
   "outputs": [],
   "source": [
    "service = 'nhoperational24hw'\n",
    "\n",
    "# data must be downloaded in 4 batches due to server limitations\n",
    "dates = [date.date() for date in pd.date_range(cfg.START, cfg.END, periods=4)]\n",
    "\n",
    "# path where the data will be saved\n",
    "path_out = PATH_HDMS / service\n",
    "path_out.mkdir(parents=True, exist_ok=True)\n",
    "\n",
    "pbar = tqdm(reservoirs.index, desc='reservoir', total=reservoirs.shape[0])\n",
    "for ID in pbar:\n",
    "    \n",
    "    file_out = path_out / f'{ID}.nc'\n",
    "    if file_out.exists():\n",
    "        continue\n",
    "    \n",
    "    # download data\n",
    "    data = {}\n",
    "    for var, variable in VARIABLES.items(): # for each variable\n",
    "        if 'serie' in locals():\n",
    "            del serie\n",
    "        serie = pd.DataFrame(columns=[ID], dtype=float)\n",
    "        for i, (st, en) in enumerate(zip(dates[:-1], dates[1:])): # for each batch\n",
    "            if i > 0:\n",
    "                st += timedelta(days=1)           \n",
    "            url = f'{api.URL}/{service}/{st.strftime(strftime)}/{en.strftime(strftime)}/{ID}/{var}/'\n",
    "            response = requests.get(url, auth=requests.auth.HTTPBasicAuth(api.USERNAME, api.PASSWORD))\n",
    "            if response.status_code == 200:\n",
    "                serie_i = pd.DataFrame(response.json())\n",
    "                if serie_i.shape[0] > 0:\n",
    "                    serie_i = serie_i[['Timestamp', 'AvgValue']].set_index('Timestamp', drop=True)\n",
    "                    serie_i.index = pd.to_datetime(serie_i.index)\n",
    "                    serie_i.columns = [ID]\n",
    "                    serie = pd.concat((serie, serie_i), axis=0)\n",
    "        if serie.shape[0] > 0:\n",
    "            data[variable] = serie.sort_index().copy()\n",
    "        \n",
    "    if len(data) > 0:\n",
    "                        \n",
    "        # convert to xarray.Dataset\n",
    "        data = xr.Dataset({var: xr.DataArray(serie, dims=['date', 'ID']) for var, serie in data.items()})\n",
    "        \n",
    "        # export as NetCDF\n",
    "        data.to_netcdf(file_out)\n",
    "    else:\n",
    "        print(f'No data was found for reservoir {ID}')"
   ]
  }
 ],
 "metadata": {
  "kernelspec": {
   "display_name": "Python 3 (ipykernel)",
   "language": "python",
   "name": "python3"
  },
  "language_info": {
   "codemirror_mode": {
    "name": "ipython",
    "version": 3
   },
   "file_extension": ".py",
   "mimetype": "text/x-python",
   "name": "python",
   "nbconvert_exporter": "python",
   "pygments_lexer": "ipython3",
   "version": "3.9.13"
  }
 },
 "nbformat": 4,
 "nbformat_minor": 5
}
