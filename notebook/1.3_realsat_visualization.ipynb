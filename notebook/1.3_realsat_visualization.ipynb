{
 "cells": [
  {
   "cell_type": "markdown",
   "metadata": {},
   "source": [
    "## Code to visualize ReaLSAT based maps and timeseries"
   ]
  },
  {
   "cell_type": "code",
   "execution_count": 1,
   "metadata": {},
   "outputs": [],
   "source": [
    "import pandas as pd"
   ]
  },
  {
   "cell_type": "code",
   "execution_count": 2,
   "metadata": {},
   "outputs": [
    {
     "ename": "ModuleNotFoundError",
     "evalue": "No module named 'gdal'",
     "output_type": "error",
     "traceback": [
      "\u001b[1;31m---------------------------------------------------------------------------\u001b[0m",
      "\u001b[1;31mModuleNotFoundError\u001b[0m                       Traceback (most recent call last)",
      "Cell \u001b[1;32mIn [2], line 1\u001b[0m\n\u001b[1;32m----> 1\u001b[0m \u001b[38;5;28;01mimport\u001b[39;00m \u001b[38;5;21;01mgdal\u001b[39;00m\n",
      "\u001b[1;31mModuleNotFoundError\u001b[0m: No module named 'gdal'"
     ]
    }
   ],
   "source": [
    "import gdal"
   ]
  },
  {
   "cell_type": "code",
   "execution_count": 3,
   "metadata": {},
   "outputs": [],
   "source": [
    "import glob\n",
    "from tqdm import tqdm\n",
    "import matplotlib.pyplot as plt\n",
    "import numpy as np\n",
    "import time\n",
    "from IPython.display import clear_output\n",
    "import os\n",
    "os.environ['USE_PYGEOS'] = '0'\n",
    "import geopandas\n",
    "import matplotlib.gridspec as gridspec\n",
    "from matplotlib.colors import LinearSegmentedColormap\n",
    "\n",
    "colors = [(1, 1, 1), (0*1.0/255.0, 153*1.0/255.0, 76*1.0/255.0), (51*1.0/255.0, 51*1.0/255.0, 255*1.0/255.0)]\n",
    "color_map = LinearSegmentedColormap.from_list('custom_colormap', colors, N=3)"
   ]
  },
  {
   "cell_type": "code",
   "execution_count": 4,
   "metadata": {},
   "outputs": [],
   "source": [
    "# check if the average missing percentage before and after any given timestep is more than the threshold.\n",
    "def prune_time_steps(fill_ts,window_size):\n",
    "    T = fill_ts.shape[0]\n",
    "    prn_ts = np.zeros((T,)).astype(bool)\n",
    "    for j in range(1,T-1):\n",
    "        cur_ts_before = fill_ts[max(0,j-window_size):j]\n",
    "        cur_ts_after = fill_ts[j+1:min(j+window_size+1,T)]\n",
    "        \n",
    "        if np.mean(cur_ts_before)>90 or np.mean(cur_ts_after)>90:\n",
    "            prn_ts[j] = 1#max([cur_sm,inp_ts[j]])\n",
    "    if fill_ts[0]>90:\n",
    "        prn_ts[0] = 1\n",
    "    if fill_ts[T-1]>90:\n",
    "        prn_ts[T-1] = 1\n",
    "    return prn_ts\n",
    "\n",
    "# create month and year information for monthly extents\n",
    "year_arr = []\n",
    "month_arr = []\n",
    "for year in range(1984, 2021):\n",
    "    for month in range(1,13):\n",
    "        year_arr.append(year)\n",
    "        month_arr.append(month)\n",
    "\n",
    "year_arr = np.array(year_arr)[2:]# removing fist 2 dates because dataset starts from March, 1984\n",
    "month_arr = np.array(month_arr)[2:]"
   ]
  },
  {
   "cell_type": "code",
   "execution_count": 5,
   "metadata": {},
   "outputs": [
    {
     "name": "stdout",
     "output_type": "stream",
     "text": [
      "reading reference shapefile...\n"
     ]
    }
   ],
   "source": [
    "#set a working directory and zenodo record id\n",
    "working_dir = 'E:/casadje/jrcbox/datasets/lakes/ReaLSAT/' #'../'\n",
    "zenodo_record_id = ''\n",
    "\n",
    "# create working directory if absent\n",
    "if os.path.isdir(working_dir) is False:\n",
    "    os.mkdir(workding_dir)\n",
    "\n",
    "# check for reference shapefile in the working directory\n",
    "if os.path.isfile(f\"{working_dir}ReaLSAT-2-0/ReaLSAT.shp\") is False:\n",
    "    \n",
    "    print('downloading reference shapefile...')\n",
    "    os.system(f\"wget 'https://zenodo.org/record/7265435/files/ReaLSAT-2-0.zip?download=1' -O {working_dir}ReaLSAT-2-0.zip\")\n",
    "    \n",
    "    print('unzipping reference shapefile...')\n",
    "    os.system(f\"cd {working_dir} && unzip ReaLSAT-2-0.zip && cd -\")\n",
    "\n",
    "\n",
    "print('reading reference shapefile...')\n",
    "realsat = geopandas.read_file(f\"{working_dir}ReaLSAT-2-0/ReaLSAT.shp\")\n",
    "\n",
    "# check of timeseries zip file in the working directory\n",
    "if os.path.isfile(f\"{working_dir}monthly_timeseries.zip\") is False:\n",
    "    print('downloading timeseries file...')\n",
    "    os.system(f\"wget 'https://zenodo.org/record/7265435/files/monthly_timeseries.zip?download=1' -O {working_dir}monthly_timeseries.zip\")\n",
    "\n",
    "    print('unzipping timeseries file...')\n",
    "    os.system(f\"cd {working_dir} && unzip monthly_timeseries.zip && cd -\")\n"
   ]
  },
  {
   "cell_type": "code",
   "execution_count": 6,
   "metadata": {},
   "outputs": [],
   "source": [
    "ID = 801275 # set waterbody ID"
   ]
  },
  {
   "cell_type": "code",
   "execution_count": 7,
   "metadata": {},
   "outputs": [],
   "source": [
    "# read metadata \n",
    "# blon = realsat[realsat['ID'] == ID]['BLON'].values[0]\n",
    "# blat = realsat[realsat['ID'] == ID]['BLAT'].values[0]\n",
    "# pixel_resolution = realsat[realsat['ID'] == ID]['RES'].values[0]\n",
    "blon, blat, pixel_resolution = realsat.loc[realsat['ID'] == ID, ['BLON', 'BLAT', 'RES']].values[0]\n",
    "ID_str = str(ID).zfill(6)\n",
    "box_id_str = str(int(blon)) + '_' + str(int(blat))"
   ]
  },
  {
   "cell_type": "code",
   "execution_count": 8,
   "metadata": {},
   "outputs": [],
   "source": [
    "# check if timeseries zip file is already unzipped\n",
    "csv_timeseries = f'{working_dir}monthly_timeseries/{box_id_str}/ID_{ID:06}.csv'\n",
    "if os.path.isfile(csv_timeseries) is False:\n",
    "    print('timeseries for this waterbody is not present in the working directory... unzipping...')\n",
    "    command = f'unzip {working_dir}/monthly_timeseries/monthly_timeseries_{box_id_str}.zip -d {working_dir}'\n",
    "    os.system(command)\n",
    "\n",
    "# load timeseries array    \n",
    "info_arr = np.loadtxt(csv_timeseries, delimiter=',').astype(float)\n",
    "scaling = (pixel_resolution * 0.001)**2 # scaling for converting to sq. kms\n",
    "realsat_timeseries = info_arr[2,:].copy()\n",
    "gsw_timeseries = info_arr[3,:].copy()\n",
    "\n",
    "# extracting timesteps where area values were potentially affected by large amount of missing data around them.\n",
    "bad_ts = prune_time_steps(info_arr[0,:], 6)\n",
    "realsat_timeseries[bad_ts] = np.nan\n",
    "gsw_timeseries[bad_ts] = np.nan"
   ]
  },
  {
   "cell_type": "code",
   "execution_count": null,
   "metadata": {},
   "outputs": [],
   "source": [
    "# check if monthly shapes are already unzipped\n",
    "tif_shapes = f'{working_dir}monthly_shapes/{box_id_str}/ID_{ID:06}.tif'\n",
    "if os.path.isfile(tif_shapes) is False:\n",
    "    print('realsat shapes for this waterbody is not present in the working directory... unzipping...')\n",
    "    command = f'wget https://zenodo.org/record/{zenodo_record_id}/files/monthly_shapes_{box_id_str}.zip?download=1 -O {working_dir}monthly_shapes_{box_id_str}.zip'\n",
    "    os.system(command)\n",
    "    command = f'unzip {working_dir}monthly_shapes_{box_id_str}.zip -d {working_dir}'\n",
    "    os.system(command)\n",
    "\n",
    "maps_arr = gdal.Open(f'{working_dir}monthly_shapes/{box_id_str}/ID_{ID_str}.tif',0).ReadAsArray()\n",
    "T = maps_arr.shape[0]"
   ]
  },
  {
   "cell_type": "markdown",
   "metadata": {},
   "source": [
    "***"
   ]
  },
  {
   "cell_type": "code",
   "execution_count": 12,
   "metadata": {},
   "outputs": [],
   "source": [
    "import xarray as xr"
   ]
  },
  {
   "cell_type": "code",
   "execution_count": 14,
   "metadata": {},
   "outputs": [
    {
     "name": "stderr",
     "output_type": "stream",
     "text": [
      "C:\\Users\\casadje\\AppData\\Local\\Temp\\ipykernel_16180\\505715998.py:1: DeprecationWarning: open_rasterio is Deprecated in favor of rioxarray. For information about transitioning, see: https://corteva.github.io/rioxarray/stable/getting_started/getting_started.html\n",
      "  xr.open_rasterio(f'{working_dir}monthly_shapes/{box_id_str}/ID_{ID_str}.tif')\n"
     ]
    },
    {
     "ename": "RasterioIOError",
     "evalue": "E:/casadje/jrcbox/datasets/lakes/ReaLSAT/monthly_shapes/0_40/ID_801275.tif: Cannot open TIFF file due to missing codec.",
     "output_type": "error",
     "traceback": [
      "\u001b[1;31m---------------------------------------------------------------------------\u001b[0m",
      "\u001b[1;31mKeyError\u001b[0m                                  Traceback (most recent call last)",
      "File \u001b[1;32mC:\\DEV\\Anaconda3\\envs\\xr\\lib\\site-packages\\xarray\\backends\\file_manager.py:199\u001b[0m, in \u001b[0;36mCachingFileManager._acquire_with_cache_info\u001b[1;34m(self, needs_lock)\u001b[0m\n\u001b[0;32m    198\u001b[0m \u001b[38;5;28;01mtry\u001b[39;00m:\n\u001b[1;32m--> 199\u001b[0m     file \u001b[38;5;241m=\u001b[39m \u001b[38;5;28;43mself\u001b[39;49m\u001b[38;5;241;43m.\u001b[39;49m\u001b[43m_cache\u001b[49m\u001b[43m[\u001b[49m\u001b[38;5;28;43mself\u001b[39;49m\u001b[38;5;241;43m.\u001b[39;49m\u001b[43m_key\u001b[49m\u001b[43m]\u001b[49m\n\u001b[0;32m    200\u001b[0m \u001b[38;5;28;01mexcept\u001b[39;00m \u001b[38;5;167;01mKeyError\u001b[39;00m:\n",
      "File \u001b[1;32mC:\\DEV\\Anaconda3\\envs\\xr\\lib\\site-packages\\xarray\\backends\\lru_cache.py:53\u001b[0m, in \u001b[0;36mLRUCache.__getitem__\u001b[1;34m(self, key)\u001b[0m\n\u001b[0;32m     52\u001b[0m \u001b[38;5;28;01mwith\u001b[39;00m \u001b[38;5;28mself\u001b[39m\u001b[38;5;241m.\u001b[39m_lock:\n\u001b[1;32m---> 53\u001b[0m     value \u001b[38;5;241m=\u001b[39m \u001b[38;5;28;43mself\u001b[39;49m\u001b[38;5;241;43m.\u001b[39;49m\u001b[43m_cache\u001b[49m\u001b[43m[\u001b[49m\u001b[43mkey\u001b[49m\u001b[43m]\u001b[49m\n\u001b[0;32m     54\u001b[0m     \u001b[38;5;28mself\u001b[39m\u001b[38;5;241m.\u001b[39m_cache\u001b[38;5;241m.\u001b[39mmove_to_end(key)\n",
      "\u001b[1;31mKeyError\u001b[0m: [<function open at 0x000001BDF03255E0>, ('E:/casadje/jrcbox/datasets/lakes/ReaLSAT/monthly_shapes/0_40/ID_801275.tif',), 'r', ()]",
      "\nDuring handling of the above exception, another exception occurred:\n",
      "\u001b[1;31mCPLE_AppDefinedError\u001b[0m                      Traceback (most recent call last)",
      "File \u001b[1;32mrasterio\\_base.pyx:302\u001b[0m, in \u001b[0;36mrasterio._base.DatasetBase.__init__\u001b[1;34m()\u001b[0m\n",
      "File \u001b[1;32mrasterio\\_base.pyx:213\u001b[0m, in \u001b[0;36mrasterio._base.open_dataset\u001b[1;34m()\u001b[0m\n",
      "File \u001b[1;32mrasterio\\_err.pyx:217\u001b[0m, in \u001b[0;36mrasterio._err.exc_wrap_pointer\u001b[1;34m()\u001b[0m\n",
      "\u001b[1;31mCPLE_AppDefinedError\u001b[0m: E:/casadje/jrcbox/datasets/lakes/ReaLSAT/monthly_shapes/0_40/ID_801275.tif: Cannot open TIFF file due to missing codec.",
      "\nDuring handling of the above exception, another exception occurred:\n",
      "\u001b[1;31mRasterioIOError\u001b[0m                           Traceback (most recent call last)",
      "Cell \u001b[1;32mIn [14], line 1\u001b[0m\n\u001b[1;32m----> 1\u001b[0m \u001b[43mxr\u001b[49m\u001b[38;5;241;43m.\u001b[39;49m\u001b[43mopen_rasterio\u001b[49m\u001b[43m(\u001b[49m\u001b[38;5;124;43mf\u001b[39;49m\u001b[38;5;124;43m'\u001b[39;49m\u001b[38;5;132;43;01m{\u001b[39;49;00m\u001b[43mworking_dir\u001b[49m\u001b[38;5;132;43;01m}\u001b[39;49;00m\u001b[38;5;124;43mmonthly_shapes/\u001b[39;49m\u001b[38;5;132;43;01m{\u001b[39;49;00m\u001b[43mbox_id_str\u001b[49m\u001b[38;5;132;43;01m}\u001b[39;49;00m\u001b[38;5;124;43m/ID_\u001b[39;49m\u001b[38;5;132;43;01m{\u001b[39;49;00m\u001b[43mID_str\u001b[49m\u001b[38;5;132;43;01m}\u001b[39;49;00m\u001b[38;5;124;43m.tif\u001b[39;49m\u001b[38;5;124;43m'\u001b[39;49m\u001b[43m)\u001b[49m\n",
      "File \u001b[1;32mC:\\DEV\\Anaconda3\\envs\\xr\\lib\\site-packages\\xarray\\backends\\rasterio_.py:302\u001b[0m, in \u001b[0;36mopen_rasterio\u001b[1;34m(filename, parse_coordinates, chunks, cache, lock, **kwargs)\u001b[0m\n\u001b[0;32m    293\u001b[0m     lock \u001b[38;5;241m=\u001b[39m RASTERIO_LOCK\n\u001b[0;32m    295\u001b[0m manager \u001b[38;5;241m=\u001b[39m CachingFileManager(\n\u001b[0;32m    296\u001b[0m     rasterio\u001b[38;5;241m.\u001b[39mopen,\n\u001b[0;32m    297\u001b[0m     filename,\n\u001b[1;32m   (...)\u001b[0m\n\u001b[0;32m    300\u001b[0m     kwargs\u001b[38;5;241m=\u001b[39mkwargs,\n\u001b[0;32m    301\u001b[0m )\n\u001b[1;32m--> 302\u001b[0m riods \u001b[38;5;241m=\u001b[39m \u001b[43mmanager\u001b[49m\u001b[38;5;241;43m.\u001b[39;49m\u001b[43macquire\u001b[49m\u001b[43m(\u001b[49m\u001b[43m)\u001b[49m\n\u001b[0;32m    303\u001b[0m \u001b[38;5;28;01mif\u001b[39;00m vrt_params \u001b[38;5;129;01mis\u001b[39;00m \u001b[38;5;129;01mnot\u001b[39;00m \u001b[38;5;28;01mNone\u001b[39;00m:\n\u001b[0;32m    304\u001b[0m     riods \u001b[38;5;241m=\u001b[39m WarpedVRT(riods, \u001b[38;5;241m*\u001b[39m\u001b[38;5;241m*\u001b[39mvrt_params)\n",
      "File \u001b[1;32mC:\\DEV\\Anaconda3\\envs\\xr\\lib\\site-packages\\xarray\\backends\\file_manager.py:181\u001b[0m, in \u001b[0;36mCachingFileManager.acquire\u001b[1;34m(self, needs_lock)\u001b[0m\n\u001b[0;32m    166\u001b[0m \u001b[38;5;28;01mdef\u001b[39;00m \u001b[38;5;21macquire\u001b[39m(\u001b[38;5;28mself\u001b[39m, needs_lock\u001b[38;5;241m=\u001b[39m\u001b[38;5;28;01mTrue\u001b[39;00m):\n\u001b[0;32m    167\u001b[0m     \u001b[38;5;124;03m\"\"\"Acquire a file object from the manager.\u001b[39;00m\n\u001b[0;32m    168\u001b[0m \n\u001b[0;32m    169\u001b[0m \u001b[38;5;124;03m    A new file is only opened if it has expired from the\u001b[39;00m\n\u001b[1;32m   (...)\u001b[0m\n\u001b[0;32m    179\u001b[0m \u001b[38;5;124;03m        An open file object, as returned by ``opener(*args, **kwargs)``.\u001b[39;00m\n\u001b[0;32m    180\u001b[0m \u001b[38;5;124;03m    \"\"\"\u001b[39;00m\n\u001b[1;32m--> 181\u001b[0m     file, _ \u001b[38;5;241m=\u001b[39m \u001b[38;5;28;43mself\u001b[39;49m\u001b[38;5;241;43m.\u001b[39;49m\u001b[43m_acquire_with_cache_info\u001b[49m\u001b[43m(\u001b[49m\u001b[43mneeds_lock\u001b[49m\u001b[43m)\u001b[49m\n\u001b[0;32m    182\u001b[0m     \u001b[38;5;28;01mreturn\u001b[39;00m file\n",
      "File \u001b[1;32mC:\\DEV\\Anaconda3\\envs\\xr\\lib\\site-packages\\xarray\\backends\\file_manager.py:205\u001b[0m, in \u001b[0;36mCachingFileManager._acquire_with_cache_info\u001b[1;34m(self, needs_lock)\u001b[0m\n\u001b[0;32m    203\u001b[0m     kwargs \u001b[38;5;241m=\u001b[39m kwargs\u001b[38;5;241m.\u001b[39mcopy()\n\u001b[0;32m    204\u001b[0m     kwargs[\u001b[38;5;124m\"\u001b[39m\u001b[38;5;124mmode\u001b[39m\u001b[38;5;124m\"\u001b[39m] \u001b[38;5;241m=\u001b[39m \u001b[38;5;28mself\u001b[39m\u001b[38;5;241m.\u001b[39m_mode\n\u001b[1;32m--> 205\u001b[0m file \u001b[38;5;241m=\u001b[39m \u001b[38;5;28mself\u001b[39m\u001b[38;5;241m.\u001b[39m_opener(\u001b[38;5;241m*\u001b[39m\u001b[38;5;28mself\u001b[39m\u001b[38;5;241m.\u001b[39m_args, \u001b[38;5;241m*\u001b[39m\u001b[38;5;241m*\u001b[39mkwargs)\n\u001b[0;32m    206\u001b[0m \u001b[38;5;28;01mif\u001b[39;00m \u001b[38;5;28mself\u001b[39m\u001b[38;5;241m.\u001b[39m_mode \u001b[38;5;241m==\u001b[39m \u001b[38;5;124m\"\u001b[39m\u001b[38;5;124mw\u001b[39m\u001b[38;5;124m\"\u001b[39m:\n\u001b[0;32m    207\u001b[0m     \u001b[38;5;66;03m# ensure file doesn't get overriden when opened again\u001b[39;00m\n\u001b[0;32m    208\u001b[0m     \u001b[38;5;28mself\u001b[39m\u001b[38;5;241m.\u001b[39m_mode \u001b[38;5;241m=\u001b[39m \u001b[38;5;124m\"\u001b[39m\u001b[38;5;124ma\u001b[39m\u001b[38;5;124m\"\u001b[39m\n",
      "File \u001b[1;32mC:\\DEV\\Anaconda3\\envs\\xr\\lib\\site-packages\\rasterio\\env.py:444\u001b[0m, in \u001b[0;36mensure_env_with_credentials.<locals>.wrapper\u001b[1;34m(*args, **kwds)\u001b[0m\n\u001b[0;32m    441\u001b[0m     session \u001b[38;5;241m=\u001b[39m DummySession()\n\u001b[0;32m    443\u001b[0m \u001b[38;5;28;01mwith\u001b[39;00m env_ctor(session\u001b[38;5;241m=\u001b[39msession):\n\u001b[1;32m--> 444\u001b[0m     \u001b[38;5;28;01mreturn\u001b[39;00m f(\u001b[38;5;241m*\u001b[39margs, \u001b[38;5;241m*\u001b[39m\u001b[38;5;241m*\u001b[39mkwds)\n",
      "File \u001b[1;32mC:\\DEV\\Anaconda3\\envs\\xr\\lib\\site-packages\\rasterio\\__init__.py:304\u001b[0m, in \u001b[0;36mopen\u001b[1;34m(fp, mode, driver, width, height, count, crs, transform, dtype, nodata, sharing, **kwargs)\u001b[0m\n\u001b[0;32m    301\u001b[0m path \u001b[38;5;241m=\u001b[39m _parse_path(raw_dataset_path)\n\u001b[0;32m    303\u001b[0m \u001b[38;5;28;01mif\u001b[39;00m mode \u001b[38;5;241m==\u001b[39m \u001b[38;5;124m\"\u001b[39m\u001b[38;5;124mr\u001b[39m\u001b[38;5;124m\"\u001b[39m:\n\u001b[1;32m--> 304\u001b[0m     dataset \u001b[38;5;241m=\u001b[39m DatasetReader(path, driver\u001b[38;5;241m=\u001b[39mdriver, sharing\u001b[38;5;241m=\u001b[39msharing, \u001b[38;5;241m*\u001b[39m\u001b[38;5;241m*\u001b[39mkwargs)\n\u001b[0;32m    305\u001b[0m \u001b[38;5;28;01melif\u001b[39;00m mode \u001b[38;5;241m==\u001b[39m \u001b[38;5;124m\"\u001b[39m\u001b[38;5;124mr+\u001b[39m\u001b[38;5;124m\"\u001b[39m:\n\u001b[0;32m    306\u001b[0m     dataset \u001b[38;5;241m=\u001b[39m get_writer_for_path(path, driver\u001b[38;5;241m=\u001b[39mdriver)(\n\u001b[0;32m    307\u001b[0m         path, mode, driver\u001b[38;5;241m=\u001b[39mdriver, sharing\u001b[38;5;241m=\u001b[39msharing, \u001b[38;5;241m*\u001b[39m\u001b[38;5;241m*\u001b[39mkwargs\n\u001b[0;32m    308\u001b[0m     )\n",
      "File \u001b[1;32mrasterio\\_base.pyx:304\u001b[0m, in \u001b[0;36mrasterio._base.DatasetBase.__init__\u001b[1;34m()\u001b[0m\n",
      "\u001b[1;31mRasterioIOError\u001b[0m: E:/casadje/jrcbox/datasets/lakes/ReaLSAT/monthly_shapes/0_40/ID_801275.tif: Cannot open TIFF file due to missing codec."
     ]
    }
   ],
   "source": [
    "xr.riorasterio(f'{working_dir}monthly_shapes/{box_id_str}/ID_{ID_str}.tif')"
   ]
  },
  {
   "cell_type": "markdown",
   "metadata": {},
   "source": [
    "***"
   ]
  },
  {
   "cell_type": "code",
   "execution_count": null,
   "metadata": {},
   "outputs": [],
   "source": [
    "# iterate over months \n",
    "# change the start and end month as needed\n",
    "for t in range(300, 301):\n",
    "    f = plt.figure(figsize=(15, 4))\n",
    "    gridspec.GridSpec(1,3)\n",
    "    ax1 = plt.subplot2grid((1,3), (0,0), colspan=1, rowspan=1)\n",
    "    ax2 = plt.subplot2grid((1,3), (0,1), colspan=3, rowspan=1)\n",
    "    ax1.imshow(maps_arr[t],vmin=0,vmax=2,cmap=color_map)\n",
    "    ax2.set_title('ReaLSAT Map')\n",
    "    ax1.set_title(f'ID: {ID:06}')\n",
    "    ax2.plot(realsat_timeseries * scaling, '.-b', label='ReaLSAT Area', markersize=10)\n",
    "#         ax2.plot(gsw_timeseries*scaling,'.-r',label='ReaLSAT Area',markersize=10)\n",
    "    ax2.plot([t, t], [np.nanmin(realsat_timeseries * scaling), np.nanmax(realsat_timeseries * scaling)], '--k')\n",
    "    ax2.set_ylabel('Area (km²)')\n",
    "    ax2.set_title('Year: {} Month: {}'.format(year_arr[t], month_arr[t]))\n",
    "    ax2.set_xticks(np.arange(10, 442, 24))\n",
    "    ax2.set_xticklabels(year_arr[np.arange(10, 442, 24)])\n",
    "    plt.grid()\n",
    "    plt.tight_layout()\n",
    "    plt.show()\n",
    "    time.sleep(0.5)\n",
    "#     clear_output(wait=True)\n"
   ]
  }
 ],
 "metadata": {
  "kernelspec": {
   "display_name": "Python 3 (ipykernel)",
   "language": "python",
   "name": "python3"
  },
  "language_info": {
   "codemirror_mode": {
    "name": "ipython",
    "version": 3
   },
   "file_extension": ".py",
   "mimetype": "text/x-python",
   "name": "python",
   "nbconvert_exporter": "python",
   "pygments_lexer": "ipython3",
   "version": "3.9.13"
  }
 },
 "nbformat": 4,
 "nbformat_minor": 4
}
