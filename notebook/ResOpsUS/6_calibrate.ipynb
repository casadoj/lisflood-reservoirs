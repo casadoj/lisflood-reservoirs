{
 "cells": [
  {
   "cell_type": "markdown",
   "id": "4516f5e0-f0dd-4bdb-af93-3cf34cfb94c6",
   "metadata": {},
   "source": [
    "# Reservoir calibration with SCE-UA\n",
    "***\n",
    "\n",
    "**Autor:** Chus Casado<br>\n",
    "**Date:** 20-06-2024<br>\n",
    "\n",
    "**Introduction:**<br>\n",
    "This code calibrates a reservoir model using the genetic algorithm SCE-UA (Shuffle Complex Evolution-University of Arizona) ([Duan et al., 2023](https://link.springer.com/article/10.1007/BF00939380)).\n",
    "\n",
    "The setup of the calibration (reservoir model, target variable(s), etc) is defined in the _config*.yml_ file.\n",
    "\n",
    "**To do:**<br>\n",
    "* [ ] Make sure that all the input data is defined in the configuration file.\n",
    "* [ ] Convert this notebook into a executable script with several arguments:\n",
    "    * [ ] `--config-file` to define the configuration file\n",
    "    * [ ] `--id` to define a list of reservoirs to be calibrated. By default it would include all the reservoirs in the input data.\n",
    "    * [ ] `--overwrite` to allow for overwriting the results of previous calibrations. By default is False, so the calibration would skip a reservoir if already calibrated with the same setup.\n",
    "* [ ] Should we apply split sampling or not? If yes, what would be the best parameter set, the one with the best performance in the calibration or the validation set?\n",
    "    \n",
    "All these arguments can be added to the configuration file, instead.\n",
    "\n",
    "**Questions:**<br>"
   ]
  },
  {
   "cell_type": "code",
   "execution_count": 1,
   "id": "bd31a8cb-3683-4fb1-bc9d-b9d606fe64ec",
   "metadata": {},
   "outputs": [],
   "source": [
    "import sys\n",
    "sys.path.append('../../src/')\n",
    "import os\n",
    "os.environ['USE_PYGEOS'] = '0'\n",
    "import numpy as np\n",
    "import pandas as pd\n",
    "import geopandas as gpd\n",
    "import seaborn as sns\n",
    "from datetime import datetime, timedelta\n",
    "import spotpy\n",
    "# from spotpy.objectivefunctions import kge\n",
    "import yaml\n",
    "from pathlib import Path\n",
    "from tqdm.auto import tqdm\n",
    "\n",
    "from lisfloodreservoirs.calibration import get_calibrator\n",
    "from lisfloodreservoirs.models import get_model\n",
    "from lisfloodreservoirs.utils.metrics import KGEmod"
   ]
  },
  {
   "cell_type": "markdown",
   "id": "58c16a79-1c1c-42d0-8b03-11e6ece2dfb2",
   "metadata": {
    "tags": []
   },
   "source": [
    "## Configuration"
   ]
  },
  {
   "cell_type": "code",
   "execution_count": 15,
   "id": "1b20a888-de22-4e04-8d27-7c1c220cfbfb",
   "metadata": {},
   "outputs": [
    {
     "name": "stdout",
     "output_type": "stream",
     "text": [
      "Results will be saved in linear\\calibration\\sceua\\bivariate\n"
     ]
    }
   ],
   "source": [
    "with open('config_linear_2var.yml', 'r', encoding='utf8') as ymlfile:\n",
    "    cfg = yaml.load(ymlfile, Loader=yaml.FullLoader)\n",
    "\n",
    "### Paths\n",
    "PATH_GLOFAS = Path(cfg['paths']['GloFAS']['root'])\n",
    "# PATH_GLOFAS_TS = PATH_GLOFAS / cfg['paths']['GloFAS']['timeseries']\n",
    "PATH_RESOPS = Path(cfg['paths']['ResOpsUS']['root'])\n",
    "PATH_RESOPS_TS = PATH_RESOPS / cfg['paths']['ResOpsUS']['timeseries']\n",
    "PATH_GRAND = Path(cfg['paths']['GRanD'])\n",
    "\n",
    "### Reservoir model\n",
    "MODEL = cfg['simulation']['model'].lower()\n",
    "MODEL_CFG = cfg['simulation'].get('config', {})\n",
    "\n",
    "# calibration\n",
    "ALGORITHM = cfg['calibration']['algorithm'].lower()\n",
    "TARGET = cfg['calibration']['target']\n",
    "MAX_ITER = cfg['calibration'].get('max_iter', 1000)\n",
    "COMPLEXES = cfg['calibration'].get('COMPLEXES', 4)\n",
    "TRAIN_SIZE = cfg['calibration'].get('TRAIN_SIZE', 0.7)\n",
    "# # sequential mode\n",
    "# parallel = \"seq\"  \n",
    "\n",
    "# results will be saved in this path\n",
    "PATH_OUT = Path('./') / MODEL / 'calibration' / ALGORITHM\n",
    "if len(TARGET) == 1:\n",
    "    PATH_OUT = PATH_OUT / 'univariate' / TARGET[0]\n",
    "elif len(TARGET) == 2:\n",
    "    PATH_OUT /= 'bivariate'\n",
    "else:\n",
    "    print('ERROR. Only univariate or bivariate calibrations are supported')\n",
    "    sys.exit()\n",
    "PATH_OUT.mkdir(parents=True, exist_ok=True)\n",
    "print(f'Results will be saved in {PATH_OUT}')"
   ]
  },
  {
   "cell_type": "markdown",
   "id": "0f351856-cee6-4d5e-b561-724f4ea6ebb0",
   "metadata": {
    "tags": []
   },
   "source": [
    "## Data"
   ]
  },
  {
   "cell_type": "markdown",
   "id": "ead0d0d9-7665-4ffb-8088-ae15c2191fc7",
   "metadata": {
    "tags": []
   },
   "source": [
    "### Reservoirs"
   ]
  },
  {
   "cell_type": "markdown",
   "id": "a54c98ca-b485-44de-aa1a-3ffd79dad967",
   "metadata": {},
   "source": [
    "#### GloFAS"
   ]
  },
  {
   "cell_type": "code",
   "execution_count": 6,
   "id": "f401f6cb-8316-499b-a41e-50669573f733",
   "metadata": {},
   "outputs": [
    {
     "name": "stdout",
     "output_type": "stream",
     "text": [
      "GloFASv4 contains 685 reservoirs worldwide\n",
      "655 of those reservoirs have a GRAND_ID assigned\n"
     ]
    }
   ],
   "source": [
    "# load shapefile of GloFAS reservoirs\n",
    "glofas_res = gpd.read_file(PATH_GLOFAS / 'tables' / 'GloFAS_reservoirs.shp')\n",
    "glofas_res.rename(columns={'stor': 'CAP_GLWD'}, inplace=True)\n",
    "print(f'GloFASv4 contains {glofas_res.shape[0]} reservoirs worldwide')\n",
    "\n",
    "# remove those without GRAND_ID\n",
    "glofas_res = glofas_res.loc[~glofas_res.GRAND_ID.isnull()]\n",
    "glofas_res.GRAND_ID = glofas_res.GRAND_ID.astype(int)\n",
    "glofas_res.set_index('GRAND_ID', drop=False, inplace=True)\n",
    "print(f'{glofas_res.shape[0]} of those reservoirs have a GRAND_ID assigned')\n",
    "\n",
    "# # select only those reservoirs included in ResOpsUS\n",
    "# resopsus = gpd.read_file('../../GIS/reservoirs_GloFAS_ResOpsUS.shp')\n",
    "# resopsus.set_index('ResID', drop=True, inplace=True)\n",
    "# mask = reservoirs.index.intersection(resopsus.index)\n",
    "# reservoirs = reservoirs.loc[mask]\n",
    "# reservoirs.GRAND_ID = reservoirs.GRAND_ID.astype(int)\n",
    "\n"
   ]
  },
  {
   "cell_type": "code",
   "execution_count": 7,
   "id": "4aba78dc-e927-4deb-84be-e7aa9d5c0666",
   "metadata": {},
   "outputs": [],
   "source": [
    "# # load shapefile of GloFAS reservoirs\n",
    "# reservoirs = gpd.read_file('../../GIS/reservoirs_analysis_US.shp')\n",
    "# reservoirs.set_index('ResID', drop=True, inplace=True)\n",
    "\n",
    "# print(f'{reservoirs.shape[0]} reservoirs in the shape file')"
   ]
  },
  {
   "cell_type": "markdown",
   "id": "2afc941d-c9ee-47d8-886c-94e53685ed2f",
   "metadata": {},
   "source": [
    "#### GRanD\n"
   ]
  },
  {
   "cell_type": "code",
   "execution_count": 8,
   "id": "7b00bc4f-fca3-4035-91f6-e971005d7849",
   "metadata": {},
   "outputs": [
    {
     "name": "stdout",
     "output_type": "stream",
     "text": [
      "GraND contains 7320 reservoirs worldwide\n",
      "655 reservoirs are both in GloFASv4 and GRanD worldwide\n"
     ]
    }
   ],
   "source": [
    "# load GRanD data set\n",
    "grand = gpd.read_file(PATH_GRAND / 'grand_dams_v1_3.shp')\n",
    "grand.set_index('GRAND_ID', drop=True, inplace=True)\n",
    "grand = grand.replace(-99, np.nan)\n",
    "print(f'GraND contains {grand.shape[0]} reservoirs worldwide')\n",
    "\n",
    "# filter reservoirs represented in GloFAS4\n",
    "mask_glofas = grand.index.intersection(glofas_res.index)\n",
    "grand = grand.loc[mask_glofas]\n",
    "print(f'{len(mask_glofas)} reservoirs are both in GloFASv4 and GRanD worldwide')\n",
    "\n",
    "# add GRanD capacity to the reservoirs\n",
    "glofas_res.loc[mask_glofas, 'CAP_GRAND'] = grand.loc[mask_glofas, 'CAP_MCM'].values"
   ]
  },
  {
   "cell_type": "markdown",
   "id": "e1228fdc-7588-4e0f-ad5e-25b95df3412a",
   "metadata": {},
   "source": [
    "#### ResOpsUS"
   ]
  },
  {
   "cell_type": "code",
   "execution_count": 9,
   "id": "db5586c4-e192-4be2-9fd3-47614213fa09",
   "metadata": {
    "tags": []
   },
   "outputs": [
    {
     "name": "stdout",
     "output_type": "stream",
     "text": [
      "ResOpsUS contains 677 reservoirs\n",
      "121 reservoirs are both in GloFASv4 and ResOpsUS\n",
      "Of those, 102 reservoirs have records of both storage and outflow\n"
     ]
    }
   ],
   "source": [
    "resops_res = gpd.read_file(PATH_RESOPS / 'raw' / 'GIS' / 'reservoirs.shp')\n",
    "resops_res.set_index('DAM_ID', drop=True, inplace=True)\n",
    "resops_res.index.name = 'GRAND_ID'\n",
    "print(f'ResOpsUS contains {resops_res.shape[0]} reservoirs')\n",
    "\n",
    "# filter reservoirs represented in GloFAS4\n",
    "mask_glofas = resops_res.index.intersection(glofas_res.index)\n",
    "resops_res = resops_res.loc[mask_glofas]\n",
    "print(f'{len(mask_glofas)} reservoirs are both in GloFASv4 and ResOpsUS')\n",
    "\n",
    "# filter reservoirs with observed storage and outflow\n",
    "mask_ts = resops_res.STORAGE & resops_res.OUTFLOW\n",
    "resops_res = resops_res.loc[mask_ts == 1]\n",
    "print(f'Of those, {mask_ts.sum()} reservoirs have records of both storage and outflow')\n",
    "\n",
    "glofas_res = glofas_res.loc[resops_res.index]\n",
    "# glofas_res.set_index('ResID', inplace=True, drop=True)"
   ]
  },
  {
   "cell_type": "markdown",
   "id": "3ae70c9c-e57e-440a-84fc-65863d1287cc",
   "metadata": {},
   "source": [
    "### Time series\n",
    "\n",
    "#### GloFASv4"
   ]
  },
  {
   "cell_type": "code",
   "execution_count": 12,
   "id": "0bc1d43d-17d5-4f3f-8be7-069bf436d047",
   "metadata": {},
   "outputs": [
    {
     "data": {
      "application/vnd.jupyter.widget-view+json": {
       "model_id": "b69f732c564c455088985a5093bde5d1",
       "version_major": 2,
       "version_minor": 0
      },
      "text/plain": [
       "  0%|          | 0/102 [00:00<?, ?it/s]"
      ]
     },
     "metadata": {},
     "output_type": "display_data"
    },
    {
     "name": "stdout",
     "output_type": "stream",
     "text": [
      "Z:\\nahaUsers\\casadje\\datasets\\reservoirs\\ResOpsUS\\ancillary\\LiSFLOOD\\296.csv doesn't exist\n",
      "Z:\\nahaUsers\\casadje\\datasets\\reservoirs\\ResOpsUS\\ancillary\\LiSFLOOD\\197.csv doesn't exist\n",
      "Z:\\nahaUsers\\casadje\\datasets\\reservoirs\\ResOpsUS\\ancillary\\LiSFLOOD\\323.csv doesn't exist\n",
      "Z:\\nahaUsers\\casadje\\datasets\\reservoirs\\ResOpsUS\\ancillary\\LiSFLOOD\\068.csv doesn't exist\n",
      "Z:\\nahaUsers\\casadje\\datasets\\reservoirs\\ResOpsUS\\ancillary\\LiSFLOOD\\185.csv doesn't exist\n",
      "97 reservoirs in the GloFAS time series\n"
     ]
    }
   ],
   "source": [
    "path_ts_sim = PATH_RESOPS / 'ancillary' / 'LiSFLOOD'\n",
    "glofas_ts = {}\n",
    "for ID in tqdm(glofas_res.index): # ID refers to GRanD\n",
    "    ResID = glofas_res.loc[ID, 'ResID']\n",
    "    file = path_ts_sim / f'{ResID:03}.csv'\n",
    "    if file.is_file():\n",
    "        df = pd.read_csv(file, parse_dates=True, dayfirst=False, index_col='date')\n",
    "        # convert storage time series into volume\n",
    "        df.storage *= glofas_res.loc[ID, 'CAP_GLWD'] * 1e6\n",
    "        glofas_ts[ID] = df.copy()\n",
    "    else:\n",
    "        print(f\"{file} doesn't exist\")\n",
    "\n",
    "print(f'{len(glofas_ts)} reservoirs in the GloFAS time series')\n",
    "\n",
    "# period of GloFAS simulation\n",
    "start, end = glofas_ts[ID].first_valid_index(), glofas_ts[ID].last_valid_index()"
   ]
  },
  {
   "cell_type": "markdown",
   "id": "1a584801-07e2-4bb7-8011-7ec602f3b091",
   "metadata": {},
   "source": [
    "#### ResOpsUS"
   ]
  },
  {
   "cell_type": "code",
   "execution_count": 16,
   "id": "7e52e667-f2a2-423c-854a-3a8cb5986780",
   "metadata": {},
   "outputs": [
    {
     "data": {
      "application/vnd.jupyter.widget-view+json": {
       "model_id": "607d10b86d814d728384634ed9ab10d9",
       "version_major": 2,
       "version_minor": 0
      },
      "text/plain": [
       "  0%|          | 0/102 [00:00<?, ?it/s]"
      ]
     },
     "metadata": {},
     "output_type": "display_data"
    },
    {
     "name": "stdout",
     "output_type": "stream",
     "text": [
      "102 reservoirs in the ResOpsUS time series\n"
     ]
    }
   ],
   "source": [
    "resops_ts = {}\n",
    "for ID in tqdm(glofas_res.index): # ID refers to GRanD\n",
    "    # load timeseries\n",
    "    file = PATH_RESOPS_TS / f'ResOpsUS_{ID}.csv'\n",
    "    if file.is_file():\n",
    "        series_id = pd.read_csv(file, parse_dates=True, index_col='date')\n",
    "    else:\n",
    "        print(f\"{file} doesn't exist\")\n",
    "    # remove empty time series\n",
    "    series_id = series_id.loc[start:end]#.dropna(axis=1, how='all')\n",
    "    # remove duplicated index\n",
    "    series_id = series_id[~series_id.index.duplicated(keep='first')]\n",
    "    # convert storage from hm3 to m3\n",
    "    series_id.storage *= 1e6\n",
    "    # save in dictionary\n",
    "    resops_ts[ID] = series_id\n",
    "\n",
    "print(f'{len(resops_ts)} reservoirs in the ResOpsUS time series')\n",
    "    \n",
    "# approximate the ResOpsUS reservoir capacity as the maximum value in the records\n",
    "glofas_res['CAP_RESOPS'] = pd.Series({ID: df.storage.max() for ID, df in resops_ts.items()})"
   ]
  },
  {
   "cell_type": "markdown",
   "id": "bf47920d-e947-4f12-b926-12c1196aebfd",
   "metadata": {},
   "source": [
    "### Correct reservoir capacity"
   ]
  },
  {
   "cell_type": "code",
   "execution_count": 17,
   "id": "dd58d56e-f66e-4bdc-b15d-fe77d6468b0b",
   "metadata": {
    "tags": []
   },
   "outputs": [],
   "source": [
    "try:\n",
    "    # import DataFrame with the fraction fill and the selected data source\n",
    "    ff = pd.read_excel('fraction_fill.xlsx', index_col='ResID')\n",
    "except:\n",
    "    # create DataFrame with the fraction fill according to each data source\n",
    "    ff = pd.DataFrame(columns=['GLOFAS', 'GRAND'], dtype=float)\n",
    "    ff.index.name = 'ResID'\n",
    "    for ID in glofas_res.index:\n",
    "        ResID = cap_resops, cap_glofas, cap_grand = glofas_res.loc[ID, ['ResID', 'CAP_RESOPS', 'CAP_GLWD', 'CAP_GRAND']]\n",
    "        if np.isnan(cap_resops):\n",
    "            continue\n",
    "        ff.loc[ResID, :] = cap_resops / cap_glofas, cap_resops / cap_grand\n",
    "    # export\n",
    "    ff.to_excel('fraction_fill.xlsx', index=True)\n",
    "\n",
    "# define de capacity  ('CAP') as that of the most reliable source\n",
    "glofas_res['CAP'] = np.nan\n",
    "for ID in glofas_res.index:\n",
    "    ResID = glofas_res.loc[ID, 'ResID']\n",
    "    if ff.loc[ResID, 'selection'] == 'GLOFAS':\n",
    "        glofas_res.loc[ID, 'CAP'] = glofas_res.loc[ID, 'CAP_GLWD']\n",
    "    elif ff.loc[ResID, 'selection']:\n",
    "        glofas_res.loc[ID, 'CAP'] = glofas_res.loc[ID, 'CAP_GRAND']\n",
    "\n",
    "# convert storage time series into volume\n",
    "for ID, df in glofas_ts.items():\n",
    "    df.storage *= glofas_res.loc[ID, 'CAP'] * 1e6"
   ]
  },
  {
   "cell_type": "markdown",
   "id": "da9ae7fd-9a8b-4edc-8b04-4733285c0a84",
   "metadata": {},
   "source": [
    "## Calibration"
   ]
  },
  {
   "cell_type": "code",
   "execution_count": null,
   "id": "c8533d51-ed81-40bf-949f-0b6a8b9e4960",
   "metadata": {
    "tags": []
   },
   "outputs": [
    {
     "data": {
      "application/vnd.jupyter.widget-view+json": {
       "model_id": "0ed912a21c7140619d2acd77fae1081c",
       "version_major": 2,
       "version_minor": 0
      },
      "text/plain": [
       "  0%|          | 0/1 [00:00<?, ?it/s]"
      ]
     },
     "metadata": {},
     "output_type": "display_data"
    },
    {
     "name": "stdout",
     "output_type": "stream",
     "text": [
      "Initializing the  Shuffled Complex Evolution (SCE-UA) algorithm  with  1000  repetitions\n",
      "The objective function will be minimized\n",
      "Starting burn-in sampling...\n"
     ]
    },
    {
     "data": {
      "application/vnd.jupyter.widget-view+json": {
       "model_id": "7ea18ebe4a0f4fcf85f5f4ca4c4f0bc5",
       "version_major": 2,
       "version_minor": 0
      },
      "text/plain": [
       "  0%|          | 0/9714 [00:00<?, ?it/s]"
      ]
     },
     "metadata": {},
     "output_type": "display_data"
    },
    {
     "name": "stdout",
     "output_type": "stream",
     "text": [
      "Initialize database...\n",
      "['csv', 'hdf5', 'ram', 'sql', 'custom', 'noData']\n",
      "* Database file 'linear\\calibration\\sceua\\bivariate/393_samples.csv' created.\n"
     ]
    },
    {
     "data": {
      "application/vnd.jupyter.widget-view+json": {
       "model_id": "bdfd7d4bb1c74cab920d46a954ffb7d0",
       "version_major": 2,
       "version_minor": 0
      },
      "text/plain": [
       "  0%|          | 0/9714 [00:00<?, ?it/s]"
      ]
     },
     "metadata": {},
     "output_type": "display_data"
    },
    {
     "data": {
      "application/vnd.jupyter.widget-view+json": {
       "model_id": "3a7c762b1d70467a9c8fee0b60e88363",
       "version_major": 2,
       "version_minor": 0
      },
      "text/plain": [
       "  0%|          | 0/9714 [00:00<?, ?it/s]"
      ]
     },
     "metadata": {},
     "output_type": "display_data"
    },
    {
     "data": {
      "application/vnd.jupyter.widget-view+json": {
       "model_id": "27da034406784bfd9120951e3ab1028b",
       "version_major": 2,
       "version_minor": 0
      },
      "text/plain": [
       "  0%|          | 0/9714 [00:00<?, ?it/s]"
      ]
     },
     "metadata": {},
     "output_type": "display_data"
    },
    {
     "data": {
      "application/vnd.jupyter.widget-view+json": {
       "model_id": "bef465f924cd4eec995d19f1cf0d1f19",
       "version_major": 2,
       "version_minor": 0
      },
      "text/plain": [
       "  0%|          | 0/9714 [00:00<?, ?it/s]"
      ]
     },
     "metadata": {},
     "output_type": "display_data"
    },
    {
     "name": "stdout",
     "output_type": "stream",
     "text": [
      "5 of 1000, minimal objective function=0.474263, time remaining: 00:06:24\n"
     ]
    },
    {
     "data": {
      "application/vnd.jupyter.widget-view+json": {
       "model_id": "4e0e8645dc9447078dbb5afad9283562",
       "version_major": 2,
       "version_minor": 0
      },
      "text/plain": [
       "  0%|          | 0/9714 [00:00<?, ?it/s]"
      ]
     },
     "metadata": {},
     "output_type": "display_data"
    },
    {
     "data": {
      "application/vnd.jupyter.widget-view+json": {
       "model_id": "6b278637d42e4972808fcefddacbc611",
       "version_major": 2,
       "version_minor": 0
      },
      "text/plain": [
       "  0%|          | 0/9714 [00:00<?, ?it/s]"
      ]
     },
     "metadata": {},
     "output_type": "display_data"
    },
    {
     "data": {
      "application/vnd.jupyter.widget-view+json": {
       "model_id": "4166c28e06c74fcf8cb0da03ca050631",
       "version_major": 2,
       "version_minor": 0
      },
      "text/plain": [
       "  0%|          | 0/9714 [00:00<?, ?it/s]"
      ]
     },
     "metadata": {},
     "output_type": "display_data"
    },
    {
     "data": {
      "application/vnd.jupyter.widget-view+json": {
       "model_id": "21f3063d822d49c9a8c1258716863ee4",
       "version_major": 2,
       "version_minor": 0
      },
      "text/plain": [
       "  0%|          | 0/9714 [00:00<?, ?it/s]"
      ]
     },
     "metadata": {},
     "output_type": "display_data"
    },
    {
     "data": {
      "application/vnd.jupyter.widget-view+json": {
       "model_id": "eeed51d7051e48169822db8842dc1f0e",
       "version_major": 2,
       "version_minor": 0
      },
      "text/plain": [
       "  0%|          | 0/9714 [00:00<?, ?it/s]"
      ]
     },
     "metadata": {},
     "output_type": "display_data"
    },
    {
     "name": "stdout",
     "output_type": "stream",
     "text": [
      "10 of 1000, minimal objective function=0.474263, time remaining: 00:07:03\n"
     ]
    },
    {
     "data": {
      "application/vnd.jupyter.widget-view+json": {
       "model_id": "938aec55501c4487a0357a59fe5cceec",
       "version_major": 2,
       "version_minor": 0
      },
      "text/plain": [
       "  0%|          | 0/9714 [00:00<?, ?it/s]"
      ]
     },
     "metadata": {},
     "output_type": "display_data"
    },
    {
     "data": {
      "application/vnd.jupyter.widget-view+json": {
       "model_id": "044042a06bf34a17b2e7470ab721cba7",
       "version_major": 2,
       "version_minor": 0
      },
      "text/plain": [
       "  0%|          | 0/9714 [00:00<?, ?it/s]"
      ]
     },
     "metadata": {},
     "output_type": "display_data"
    },
    {
     "name": "stdout",
     "output_type": "stream",
     "text": [
      "Burn-in sampling completed...\n",
      "Starting Complex Evolution...\n",
      "ComplexEvo loop #1 in progress...\n"
     ]
    },
    {
     "data": {
      "application/vnd.jupyter.widget-view+json": {
       "model_id": "b3a7da7e97604d48a3fa23fdcc0a3e8d",
       "version_major": 2,
       "version_minor": 0
      },
      "text/plain": [
       "  0%|          | 0/9714 [00:00<?, ?it/s]"
      ]
     },
     "metadata": {},
     "output_type": "display_data"
    },
    {
     "data": {
      "application/vnd.jupyter.widget-view+json": {
       "model_id": "b4eb8b847e32469d86ab5e61b638b7f0",
       "version_major": 2,
       "version_minor": 0
      },
      "text/plain": [
       "  0%|          | 0/9714 [00:00<?, ?it/s]"
      ]
     },
     "metadata": {},
     "output_type": "display_data"
    },
    {
     "data": {
      "application/vnd.jupyter.widget-view+json": {
       "model_id": "b535adc052d446ddb98e79a2a9c75ca0",
       "version_major": 2,
       "version_minor": 0
      },
      "text/plain": [
       "  0%|          | 0/9714 [00:00<?, ?it/s]"
      ]
     },
     "metadata": {},
     "output_type": "display_data"
    },
    {
     "data": {
      "application/vnd.jupyter.widget-view+json": {
       "model_id": "b5b5a51fb4ff4c94b92d98241be54c3f",
       "version_major": 2,
       "version_minor": 0
      },
      "text/plain": [
       "  0%|          | 0/9714 [00:00<?, ?it/s]"
      ]
     },
     "metadata": {},
     "output_type": "display_data"
    },
    {
     "data": {
      "application/vnd.jupyter.widget-view+json": {
       "model_id": "00c12bf4aeeb4250a74580844bf64691",
       "version_major": 2,
       "version_minor": 0
      },
      "text/plain": [
       "  0%|          | 0/9714 [00:00<?, ?it/s]"
      ]
     },
     "metadata": {},
     "output_type": "display_data"
    },
    {
     "name": "stdout",
     "output_type": "stream",
     "text": [
      "18 of 1000, minimal objective function=0.474263, time remaining: 00:06:54\n"
     ]
    },
    {
     "data": {
      "application/vnd.jupyter.widget-view+json": {
       "model_id": "91178c195ca1451fa43db9870f9656fd",
       "version_major": 2,
       "version_minor": 0
      },
      "text/plain": [
       "  0%|          | 0/9714 [00:00<?, ?it/s]"
      ]
     },
     "metadata": {},
     "output_type": "display_data"
    },
    {
     "data": {
      "application/vnd.jupyter.widget-view+json": {
       "model_id": "4e9cd9028b8b49379f72fbe607ffba93",
       "version_major": 2,
       "version_minor": 0
      },
      "text/plain": [
       "  0%|          | 0/9714 [00:00<?, ?it/s]"
      ]
     },
     "metadata": {},
     "output_type": "display_data"
    },
    {
     "data": {
      "application/vnd.jupyter.widget-view+json": {
       "model_id": "561a81e036cf4ea1a5f49a513603d0c0",
       "version_major": 2,
       "version_minor": 0
      },
      "text/plain": [
       "  0%|          | 0/9714 [00:00<?, ?it/s]"
      ]
     },
     "metadata": {},
     "output_type": "display_data"
    },
    {
     "data": {
      "application/vnd.jupyter.widget-view+json": {
       "model_id": "da6764e9f815429dbe93be7a5749aa63",
       "version_major": 2,
       "version_minor": 0
      },
      "text/plain": [
       "  0%|          | 0/9714 [00:00<?, ?it/s]"
      ]
     },
     "metadata": {},
     "output_type": "display_data"
    },
    {
     "data": {
      "application/vnd.jupyter.widget-view+json": {
       "model_id": "b4bbd37037f14ebbad3747ec0f1ca5eb",
       "version_major": 2,
       "version_minor": 0
      },
      "text/plain": [
       "  0%|          | 0/9714 [00:00<?, ?it/s]"
      ]
     },
     "metadata": {},
     "output_type": "display_data"
    },
    {
     "name": "stdout",
     "output_type": "stream",
     "text": [
      "26 of 1000, minimal objective function=0.474263, time remaining: 00:06:16\n"
     ]
    },
    {
     "data": {
      "application/vnd.jupyter.widget-view+json": {
       "model_id": "5c6dbd1c04fc4455b1e2b0c4367cc288",
       "version_major": 2,
       "version_minor": 0
      },
      "text/plain": [
       "  0%|          | 0/9714 [00:00<?, ?it/s]"
      ]
     },
     "metadata": {},
     "output_type": "display_data"
    },
    {
     "data": {
      "application/vnd.jupyter.widget-view+json": {
       "model_id": "91f7512d048740f3be78ac1f6de2d736",
       "version_major": 2,
       "version_minor": 0
      },
      "text/plain": [
       "  0%|          | 0/9714 [00:00<?, ?it/s]"
      ]
     },
     "metadata": {},
     "output_type": "display_data"
    },
    {
     "data": {
      "application/vnd.jupyter.widget-view+json": {
       "model_id": "d7a372a7fe4943dea7bb2615bb882b7e",
       "version_major": 2,
       "version_minor": 0
      },
      "text/plain": [
       "  0%|          | 0/9714 [00:00<?, ?it/s]"
      ]
     },
     "metadata": {},
     "output_type": "display_data"
    },
    {
     "data": {
      "application/vnd.jupyter.widget-view+json": {
       "model_id": "6e2b3dc7a5db4dce8fabe52175cba7fb",
       "version_major": 2,
       "version_minor": 0
      },
      "text/plain": [
       "  0%|          | 0/9714 [00:00<?, ?it/s]"
      ]
     },
     "metadata": {},
     "output_type": "display_data"
    },
    {
     "data": {
      "application/vnd.jupyter.widget-view+json": {
       "model_id": "afe7b904b8114d7c88373e4f1e983fa0",
       "version_major": 2,
       "version_minor": 0
      },
      "text/plain": [
       "  0%|          | 0/9714 [00:00<?, ?it/s]"
      ]
     },
     "metadata": {},
     "output_type": "display_data"
    },
    {
     "name": "stdout",
     "output_type": "stream",
     "text": [
      "34 of 1000, minimal objective function=0.474263, time remaining: 00:05:52\n"
     ]
    },
    {
     "data": {
      "application/vnd.jupyter.widget-view+json": {
       "model_id": "be69d62920be4b16a9c749fc9c7819a1",
       "version_major": 2,
       "version_minor": 0
      },
      "text/plain": [
       "  0%|          | 0/9714 [00:00<?, ?it/s]"
      ]
     },
     "metadata": {},
     "output_type": "display_data"
    },
    {
     "data": {
      "application/vnd.jupyter.widget-view+json": {
       "model_id": "31427a1753fe4a7ea164eaa404a96598",
       "version_major": 2,
       "version_minor": 0
      },
      "text/plain": [
       "  0%|          | 0/9714 [00:00<?, ?it/s]"
      ]
     },
     "metadata": {},
     "output_type": "display_data"
    },
    {
     "data": {
      "application/vnd.jupyter.widget-view+json": {
       "model_id": "e3db2b4f232841f9ad859b88eff75882",
       "version_major": 2,
       "version_minor": 0
      },
      "text/plain": [
       "  0%|          | 0/9714 [00:00<?, ?it/s]"
      ]
     },
     "metadata": {},
     "output_type": "display_data"
    },
    {
     "data": {
      "application/vnd.jupyter.widget-view+json": {
       "model_id": "1725c35f5c994468853163b50360b8d3",
       "version_major": 2,
       "version_minor": 0
      },
      "text/plain": [
       "  0%|          | 0/9714 [00:00<?, ?it/s]"
      ]
     },
     "metadata": {},
     "output_type": "display_data"
    },
    {
     "name": "stdout",
     "output_type": "stream",
     "text": [
      "ComplexEvo loop #2 in progress...\n"
     ]
    },
    {
     "data": {
      "application/vnd.jupyter.widget-view+json": {
       "model_id": "17d45836c4364c709c75f75574915555",
       "version_major": 2,
       "version_minor": 0
      },
      "text/plain": [
       "  0%|          | 0/9714 [00:00<?, ?it/s]"
      ]
     },
     "metadata": {},
     "output_type": "display_data"
    },
    {
     "data": {
      "application/vnd.jupyter.widget-view+json": {
       "model_id": "20bbd1a3bff946ff8c52c8f8d9853c90",
       "version_major": 2,
       "version_minor": 0
      },
      "text/plain": [
       "  0%|          | 0/9714 [00:00<?, ?it/s]"
      ]
     },
     "metadata": {},
     "output_type": "display_data"
    },
    {
     "data": {
      "application/vnd.jupyter.widget-view+json": {
       "model_id": "a3b869af43f6491db18a120279901c0a",
       "version_major": 2,
       "version_minor": 0
      },
      "text/plain": [
       "  0%|          | 0/9714 [00:00<?, ?it/s]"
      ]
     },
     "metadata": {},
     "output_type": "display_data"
    },
    {
     "data": {
      "application/vnd.jupyter.widget-view+json": {
       "model_id": "a976ac4c4d2941d28b4eacd276416aec",
       "version_major": 2,
       "version_minor": 0
      },
      "text/plain": [
       "  0%|          | 0/9714 [00:00<?, ?it/s]"
      ]
     },
     "metadata": {},
     "output_type": "display_data"
    },
    {
     "data": {
      "application/vnd.jupyter.widget-view+json": {
       "model_id": "c62064445b6843cb950906462153df87",
       "version_major": 2,
       "version_minor": 0
      },
      "text/plain": [
       "  0%|          | 0/9714 [00:00<?, ?it/s]"
      ]
     },
     "metadata": {},
     "output_type": "display_data"
    },
    {
     "data": {
      "application/vnd.jupyter.widget-view+json": {
       "model_id": "371e67258e3e415abaf91e5837191cd0",
       "version_major": 2,
       "version_minor": 0
      },
      "text/plain": [
       "  0%|          | 0/9714 [00:00<?, ?it/s]"
      ]
     },
     "metadata": {},
     "output_type": "display_data"
    },
    {
     "name": "stdout",
     "output_type": "stream",
     "text": [
      "50 of 1000, minimal objective function=0.471092, time remaining: 00:05:26\n"
     ]
    },
    {
     "data": {
      "application/vnd.jupyter.widget-view+json": {
       "model_id": "895a58cc891e4898a142686ddccf6a7b",
       "version_major": 2,
       "version_minor": 0
      },
      "text/plain": [
       "  0%|          | 0/9714 [00:00<?, ?it/s]"
      ]
     },
     "metadata": {},
     "output_type": "display_data"
    },
    {
     "data": {
      "application/vnd.jupyter.widget-view+json": {
       "model_id": "0c217c6820dc4b44988f755411b8cc05",
       "version_major": 2,
       "version_minor": 0
      },
      "text/plain": [
       "  0%|          | 0/9714 [00:00<?, ?it/s]"
      ]
     },
     "metadata": {},
     "output_type": "display_data"
    },
    {
     "data": {
      "application/vnd.jupyter.widget-view+json": {
       "model_id": "4cc929c7540246bd9a3372e46709618f",
       "version_major": 2,
       "version_minor": 0
      },
      "text/plain": [
       "  0%|          | 0/9714 [00:00<?, ?it/s]"
      ]
     },
     "metadata": {},
     "output_type": "display_data"
    },
    {
     "data": {
      "application/vnd.jupyter.widget-view+json": {
       "model_id": "e4552953447a410692ca0ed26945b3fc",
       "version_major": 2,
       "version_minor": 0
      },
      "text/plain": [
       "  0%|          | 0/9714 [00:00<?, ?it/s]"
      ]
     },
     "metadata": {},
     "output_type": "display_data"
    },
    {
     "data": {
      "application/vnd.jupyter.widget-view+json": {
       "model_id": "49eb20494f734f33be5257608db12223",
       "version_major": 2,
       "version_minor": 0
      },
      "text/plain": [
       "  0%|          | 0/9714 [00:00<?, ?it/s]"
      ]
     },
     "metadata": {},
     "output_type": "display_data"
    },
    {
     "data": {
      "application/vnd.jupyter.widget-view+json": {
       "model_id": "65e67a42654b402da366b6f3d58a10f5",
       "version_major": 2,
       "version_minor": 0
      },
      "text/plain": [
       "  0%|          | 0/9714 [00:00<?, ?it/s]"
      ]
     },
     "metadata": {},
     "output_type": "display_data"
    },
    {
     "name": "stdout",
     "output_type": "stream",
     "text": [
      "59 of 1000, minimal objective function=0.471092, time remaining: 00:05:18\n"
     ]
    },
    {
     "data": {
      "application/vnd.jupyter.widget-view+json": {
       "model_id": "ed5aead50f1d4a9b805e5aa7dabdeadd",
       "version_major": 2,
       "version_minor": 0
      },
      "text/plain": [
       "  0%|          | 0/9714 [00:00<?, ?it/s]"
      ]
     },
     "metadata": {},
     "output_type": "display_data"
    },
    {
     "data": {
      "application/vnd.jupyter.widget-view+json": {
       "model_id": "c27c99aa6391471b857d7c19213c0f23",
       "version_major": 2,
       "version_minor": 0
      },
      "text/plain": [
       "  0%|          | 0/9714 [00:00<?, ?it/s]"
      ]
     },
     "metadata": {},
     "output_type": "display_data"
    },
    {
     "data": {
      "application/vnd.jupyter.widget-view+json": {
       "model_id": "1b58c6d36f7d4bf3bc479b26bb54fe39",
       "version_major": 2,
       "version_minor": 0
      },
      "text/plain": [
       "  0%|          | 0/9714 [00:00<?, ?it/s]"
      ]
     },
     "metadata": {},
     "output_type": "display_data"
    },
    {
     "data": {
      "application/vnd.jupyter.widget-view+json": {
       "model_id": "705fc5a3ea7d4131b4a20a3db33efbad",
       "version_major": 2,
       "version_minor": 0
      },
      "text/plain": [
       "  0%|          | 0/9714 [00:00<?, ?it/s]"
      ]
     },
     "metadata": {},
     "output_type": "display_data"
    },
    {
     "data": {
      "application/vnd.jupyter.widget-view+json": {
       "model_id": "bed0152f6e2946599666104756b6143c",
       "version_major": 2,
       "version_minor": 0
      },
      "text/plain": [
       "  0%|          | 0/9714 [00:00<?, ?it/s]"
      ]
     },
     "metadata": {},
     "output_type": "display_data"
    },
    {
     "name": "stdout",
     "output_type": "stream",
     "text": [
      "67 of 1000, minimal objective function=0.469788, time remaining: 00:05:10\n"
     ]
    },
    {
     "data": {
      "application/vnd.jupyter.widget-view+json": {
       "model_id": "0c647ea93de646bcb18255650ab8adb1",
       "version_major": 2,
       "version_minor": 0
      },
      "text/plain": [
       "  0%|          | 0/9714 [00:00<?, ?it/s]"
      ]
     },
     "metadata": {},
     "output_type": "display_data"
    },
    {
     "data": {
      "application/vnd.jupyter.widget-view+json": {
       "model_id": "9c183f8a895449a7aace83920ae2bace",
       "version_major": 2,
       "version_minor": 0
      },
      "text/plain": [
       "  0%|          | 0/9714 [00:00<?, ?it/s]"
      ]
     },
     "metadata": {},
     "output_type": "display_data"
    },
    {
     "data": {
      "application/vnd.jupyter.widget-view+json": {
       "model_id": "6318650bdb134c41ac3c72f5e6fe8134",
       "version_major": 2,
       "version_minor": 0
      },
      "text/plain": [
       "  0%|          | 0/9714 [00:00<?, ?it/s]"
      ]
     },
     "metadata": {},
     "output_type": "display_data"
    },
    {
     "data": {
      "application/vnd.jupyter.widget-view+json": {
       "model_id": "3e9ef629792d45da98147e1b4d31ceda",
       "version_major": 2,
       "version_minor": 0
      },
      "text/plain": [
       "  0%|          | 0/9714 [00:00<?, ?it/s]"
      ]
     },
     "metadata": {},
     "output_type": "display_data"
    },
    {
     "name": "stdout",
     "output_type": "stream",
     "text": [
      "ComplexEvo loop #3 in progress...\n"
     ]
    },
    {
     "data": {
      "application/vnd.jupyter.widget-view+json": {
       "model_id": "0bf752b8781a43d193d2a164e4988634",
       "version_major": 2,
       "version_minor": 0
      },
      "text/plain": [
       "  0%|          | 0/9714 [00:00<?, ?it/s]"
      ]
     },
     "metadata": {},
     "output_type": "display_data"
    },
    {
     "data": {
      "application/vnd.jupyter.widget-view+json": {
       "model_id": "ca0c74cc40604bedb86fc6245564c173",
       "version_major": 2,
       "version_minor": 0
      },
      "text/plain": [
       "  0%|          | 0/9714 [00:00<?, ?it/s]"
      ]
     },
     "metadata": {},
     "output_type": "display_data"
    },
    {
     "data": {
      "application/vnd.jupyter.widget-view+json": {
       "model_id": "4d33c763222a4765a53ea539456326ad",
       "version_major": 2,
       "version_minor": 0
      },
      "text/plain": [
       "  0%|          | 0/9714 [00:00<?, ?it/s]"
      ]
     },
     "metadata": {},
     "output_type": "display_data"
    },
    {
     "data": {
      "application/vnd.jupyter.widget-view+json": {
       "model_id": "b49cccd2d3d9491b8b982d943c75f853",
       "version_major": 2,
       "version_minor": 0
      },
      "text/plain": [
       "  0%|          | 0/9714 [00:00<?, ?it/s]"
      ]
     },
     "metadata": {},
     "output_type": "display_data"
    },
    {
     "data": {
      "application/vnd.jupyter.widget-view+json": {
       "model_id": "c66d2001613d4a98b9ede5329484ff38",
       "version_major": 2,
       "version_minor": 0
      },
      "text/plain": [
       "  0%|          | 0/9714 [00:00<?, ?it/s]"
      ]
     },
     "metadata": {},
     "output_type": "display_data"
    },
    {
     "data": {
      "application/vnd.jupyter.widget-view+json": {
       "model_id": "168f62ea60b742c59574fdbc0ee6d24c",
       "version_major": 2,
       "version_minor": 0
      },
      "text/plain": [
       "  0%|          | 0/9714 [00:00<?, ?it/s]"
      ]
     },
     "metadata": {},
     "output_type": "display_data"
    },
    {
     "name": "stdout",
     "output_type": "stream",
     "text": [
      "83 of 1000, minimal objective function=0.469255, time remaining: 00:04:58\n"
     ]
    },
    {
     "data": {
      "application/vnd.jupyter.widget-view+json": {
       "model_id": "c891fbccf2804886b6e017bbbd10dcf6",
       "version_major": 2,
       "version_minor": 0
      },
      "text/plain": [
       "  0%|          | 0/9714 [00:00<?, ?it/s]"
      ]
     },
     "metadata": {},
     "output_type": "display_data"
    },
    {
     "data": {
      "application/vnd.jupyter.widget-view+json": {
       "model_id": "b0f5924b6ac24d23be8f04e978d2aa07",
       "version_major": 2,
       "version_minor": 0
      },
      "text/plain": [
       "  0%|          | 0/9714 [00:00<?, ?it/s]"
      ]
     },
     "metadata": {},
     "output_type": "display_data"
    },
    {
     "data": {
      "application/vnd.jupyter.widget-view+json": {
       "model_id": "f45192dde1e249aba63874237c3a4def",
       "version_major": 2,
       "version_minor": 0
      },
      "text/plain": [
       "  0%|          | 0/9714 [00:00<?, ?it/s]"
      ]
     },
     "metadata": {},
     "output_type": "display_data"
    },
    {
     "data": {
      "application/vnd.jupyter.widget-view+json": {
       "model_id": "394f8fddec3e4d7bb04fce01be9bb844",
       "version_major": 2,
       "version_minor": 0
      },
      "text/plain": [
       "  0%|          | 0/9714 [00:00<?, ?it/s]"
      ]
     },
     "metadata": {},
     "output_type": "display_data"
    },
    {
     "data": {
      "application/vnd.jupyter.widget-view+json": {
       "model_id": "c50cfca6f7994e0f915b55e453b350e3",
       "version_major": 2,
       "version_minor": 0
      },
      "text/plain": [
       "  0%|          | 0/9714 [00:00<?, ?it/s]"
      ]
     },
     "metadata": {},
     "output_type": "display_data"
    }
   ],
   "source": [
    "for ID in tqdm([393]):#reservoirs.index):\n",
    "    \n",
    "    # file where the calibration results will be saved\n",
    "    dbname = f'{PATH_OUT}/{ID:03}_samples'\n",
    "    if os.path.isfile(dbname + '.csv'):\n",
    "        print(f'The file {dbname}.csv already exists.')\n",
    "        continue   \n",
    "\n",
    "    ## TIME SERIES\n",
    "    try:\n",
    "        # observed time series\n",
    "        obs = resops_ts[ID][['storage', 'inflow', 'outflow']].copy()\n",
    "        obs[obs < 0] = np.nan\n",
    "\n",
    "        # define calibration period\n",
    "        if obs.outflow.isnull().all():\n",
    "            print(f'Reservoir {ID} is missing outflow records')\n",
    "            continue\n",
    "        elif obs.storage.isnull().all():\n",
    "            print(f'Reservoir {ID} is missing storage records')\n",
    "            continue\n",
    "        else:\n",
    "            start_obs = max([obs[var].first_valid_index() for var in ['storage', 'outflow']])\n",
    "            end_obs = min([obs[var].last_valid_index() for var in ['storage', 'outflow']])\n",
    "            cal_days = timedelta(days=np.floor((end_obs - start_obs).days * TRAIN_SIZE))\n",
    "            start_cal = end_obs - cal_days\n",
    "\n",
    "        # define train and test time series\n",
    "        x_train = glofas_ts[ID].inflow[start_cal:end_obs]\n",
    "        y_train = obs.loc[start_cal:end_obs, ['storage', 'outflow']]\n",
    "        x_test = glofas_ts[ID].inflow[start:start_cal]\n",
    "        y_test = obs.loc[start_obs:start_cal, ['storage', 'outflow']]\n",
    "        \n",
    "    except Exception as e:\n",
    "        print(f'ERROR. The time series of reservoir {ID} could not be set up\\n', e)\n",
    "        continue\n",
    "\n",
    "    ## SET UP SPOTPY\n",
    "    try:\n",
    "        # extract GloFAS reservoir parameters\n",
    "        Vmin, Vtot, Qmin = glofas_res.loc[ID, ['clim', 'CAP', 'minq']]\n",
    "        Vtot *= 1e6\n",
    "        Vmin *= Vtot\n",
    "\n",
    "        # initialize the calibration setup of the LISFLOOD reservoir routine\n",
    "        setup = get_calibrator(MODEL,\n",
    "                               inflow=x_train,\n",
    "                               storage=y_train.storage, \n",
    "                               outflow=y_train.outflow,\n",
    "                               Vmin=Vmin,\n",
    "                               Vtot=Vtot,\n",
    "                               Qmin=Qmin,\n",
    "                               target=TARGET,\n",
    "                               obj_func=KGEmod)\n",
    "\n",
    "        # define the sampling method\n",
    "        sceua = spotpy.algorithms.sceua(setup, dbname=dbname, dbformat='csv', save_sim=False)\n",
    "    except Exception as e:\n",
    "        print(f'ERROR. The SpotPY set up of reservoir {ID} could not be done\\n', e)\n",
    "        continue\n",
    "        \n",
    "    ## LAUNCH SAMPLING\n",
    "    try:\n",
    "        # start the sampler\n",
    "        sceua.sample(MAX_ITER, ngs=COMPLEXES, kstop=3, pcento=0.01, peps=0.1)\n",
    "    except Exception as e:\n",
    "        print(f'ERROR. While sampling the reservoir {ID}\\n', e)\n",
    "        continue\n",
    "\n",
    "    ### VALIDATION\n",
    "    # read CSV of results\n",
    "    try:\n",
    "        results = pd.read_csv(f'{dbname}.csv')\n",
    "        results.index.name = 'iteration'\n",
    "        parcols = [col for col in results.columns if col.startswith('par')]\n",
    "    except Exception as e:\n",
    "        print(f'ERROR while reading results form reservoir {ID}\\n', e)\n",
    "        continue\n",
    "    \n",
    "    # compute validation KGE of each simulation and overwrite CSV file\n",
    "    try:       \n",
    "        results['like_val'] = np.nan\n",
    "        for i in tqdm(results.index):\n",
    "            sim = setup.simulation(pars=results.loc[i, parcols],\n",
    "                                   inflow=x_test,\n",
    "                                   storage_init=y_test.storage[0])\n",
    "            results.loc[i, 'like_val'] = np.sqrt(np.sum([(1 - KGEmod(y_test[var], sim[var])[0])**2 for var in TARGET]))\n",
    "        results.to_csv(f'{dbname}.csv', index=False, float_format='%.8f')\n",
    "    except Exception as e:\n",
    "        print(f'ERROR while computing KGE for the validation period in reservoir {ID}\\n', e)\n",
    "    \n",
    "    # select optimal parameters (best validation) and export them\n",
    "    try:\n",
    "        best_iter = results.like_val.idxmin() # results.like1.idxmin()\n",
    "        parvalues = {col[3:]: float(results.loc[best_iter, col]) for col in parcols}\n",
    "        with open(f'{PATH_OUT}/{ID:03}_optimal_parameters.yml', 'w') as file:\n",
    "            yaml.dump(parvalues, file)\n",
    "    except Exception as e:\n",
    "        print(f'ERROR while searching for optimal parameters in reservoir {ID}\\n', e)\n",
    "        continue\n",
    "    \n",
    "    # simulate the whole observed period with the optimal parameterization\n",
    "    try:       \n",
    "        if MODEL.lower() == 'linear':\n",
    "            kwargs = {'Vmin': Vmin, 'Vtot': Vtot, 'Qmin': Qmin, 'T': parvalues['T']}\n",
    "        elif MODEL.lower() == 'lisflood':\n",
    "            Vf = parvalues['FFf'] * Vtot\n",
    "            Vn = Vmin + parvalues['alpha'] * (Vf - Vmin)\n",
    "            Vn_adj = Vn + parvalues['beta'] * (Vf - Vn)\n",
    "            Qf = setup.inflow.quantile(parvalues['QQf'])\n",
    "            Qn = parvalues['gamma'] * Qf\n",
    "            k = parvalues['k']\n",
    "            kwargs = {'Vmin': Vmin, 'Vn': Vn, 'Vn_adj': Vn_adj, 'Vf': Vf, 'Vtot': Vtot, 'Qmin': Qmin, 'Qn': Qn, 'Qf': Qf}\n",
    "        else:\n",
    "            raise ValueError(f'Model {MODEL} is not supported')\n",
    "        res = get_model(MODEL, **kwargs)  \n",
    "        sim = res.simulate(glofas_ts[ID].inflow[start_obs:end_obs],\n",
    "                           obs.storage[start_obs])\n",
    "        \n",
    "        # performance\n",
    "        performance = pd.DataFrame(index=['KGE', 'alpha', 'beta', 'rho'], columns=obs.columns)\n",
    "        for var in performance.columns:\n",
    "            try:\n",
    "                performance[var] = KGEmod(obs[var], sim[var])\n",
    "            except:\n",
    "                continue\n",
    "        file_out = PATH_OUT / f'{ID:03}_performance.csv'\n",
    "        performance.to_csv(file_out, float_format='%.3f')\n",
    "        \n",
    "        res.scatter(sim,\n",
    "                    obs,\n",
    "                    norm=False,\n",
    "                    title=ID,\n",
    "                    save=PATH_OUT / f'{ID:03}_scatter.jpg'\n",
    "                   )\n",
    "        \n",
    "        res.lineplot({'GloFAS': glofas_ts[ID], 'cal': sim},\n",
    "                     obs,\n",
    "                     save=PATH_OUT / f'{ID:03}_lineplot.jpg'\n",
    "                    )\n",
    "    except Exception as e:\n",
    "        print(f'ERROR while simulating with optimal parameters in reservoir {ID}\\n', e)"
   ]
  },
  {
   "cell_type": "code",
   "execution_count": null,
   "id": "0d452751-b901-45fd-bcee-cc9466913003",
   "metadata": {},
   "outputs": [],
   "source": []
  }
 ],
 "metadata": {
  "kernelspec": {
   "display_name": "Python 3 (ipykernel)",
   "language": "python",
   "name": "python3"
  },
  "language_info": {
   "codemirror_mode": {
    "name": "ipython",
    "version": 3
   },
   "file_extension": ".py",
   "mimetype": "text/x-python",
   "name": "python",
   "nbconvert_exporter": "python",
   "pygments_lexer": "ipython3",
   "version": "3.9.13"
  }
 },
 "nbformat": 4,
 "nbformat_minor": 5
}
