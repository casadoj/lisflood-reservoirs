{
 "cells": [
  {
   "cell_type": "markdown",
   "id": "e4e30dfb-f1c4-474d-9e85-31cb575eb53e",
   "metadata": {},
   "source": [
    "This is a conversion into notebook format of the script `lisfloodreservoirs.calibrate.py`.\n",
    "\n",
    "Description:\n",
    "\n",
    "```Text\n",
    "Run the calibration script with a specified configuration file.\n",
    "It calibrates the reservoir model parameters of the defined routine using the\n",
    "SCE-UA (Shuffle Complex Evolution-University of Arizona) algorithm for each of\n",
    "the selected reservoirs.\n",
    "The optimal parameters are simulated and plotted, if possible comparing against\n",
    "a simulation with default parameters\n",
    "```"
   ]
  },
  {
   "cell_type": "code",
   "execution_count": 1,
   "id": "e8e5cadb-389f-4876-a0f5-2f70a8a62a85",
   "metadata": {},
   "outputs": [],
   "source": [
    "# Path to the configuration file\n",
    "CONFIG_FILE = './camaflood_2var.yml'\n",
    "# Overwrite existing simulation file\n",
    "OVERWRITE = False"
   ]
  },
  {
   "cell_type": "code",
   "execution_count": 2,
   "id": "8bbb989a-1679-4e7e-9a21-f09adcdddb85",
   "metadata": {},
   "outputs": [],
   "source": [
    "# %load ../../../src/lisfloodreservoirs/calibrate.py\n",
    "#!/usr/bin/env python3\n",
    "\n",
    "import argparse\n",
    "import logging\n",
    "import yaml\n",
    "import pickle\n",
    "from pathlib import Path\n",
    "\n",
    "import pandas as pd\n",
    "from tqdm import tqdm\n",
    "import spotpy\n",
    "from datetime import datetime\n",
    "\n",
    "from lisfloodreservoirs import Config, read_attributes, read_timeseries\n",
    "from lisfloodreservoirs.models import get_model\n",
    "from lisfloodreservoirs.calibration import get_calibrator, read_results\n",
    "from lisfloodreservoirs.utils.metrics import KGEmod, compute_performance\n",
    "from lisfloodreservoirs.utils.timeseries import create_demand\n",
    "from lisfloodreservoirs.utils.logging import setup_logger"
   ]
  },
  {
   "cell_type": "code",
   "execution_count": 3,
   "id": "5e9b12e4-0d00-40a5-bc7c-1785f53e6e69",
   "metadata": {},
   "outputs": [
    {
     "name": "stderr",
     "output_type": "stream",
     "text": [
      "2025-05-08 13:45:19 | INFO | __main__ | Calibration results will be saved in: Z:\\nahaUsers\\casadje\\datasets\\reservoirs\\ResOpsUS\\v2.0\\test\\no_meteo\\camaflood\\calibration\\bivariate\n",
      "INFO: 4197965295.<module>(): Calibration results will be saved in: Z:\\nahaUsers\\casadje\\datasets\\reservoirs\\ResOpsUS\\v2.0\\test\\no_meteo\\camaflood\\calibration\\bivariate\n"
     ]
    }
   ],
   "source": [
    "# === Configuration ===\n",
    "\n",
    "# read configuration file\n",
    "cfg = Config(CONFIG_FILE) #Config(args.config_file)\n",
    "\n",
    "# set up logger\n",
    "logger = setup_logger(\n",
    "    name=__name__,\n",
    "    log_level=logging.INFO,\n",
    "    log_file=None #f'{datetime.now():%Y%m%d%H%M}_calibrate_{cfg.MODEL}.log'\n",
    ")\n",
    "\n",
    "logger.info(f'Calibration results will be saved in: {cfg.PATH_CALIB}')"
   ]
  },
  {
   "cell_type": "code",
   "execution_count": 4,
   "id": "e16995a6-4055-4e93-9201-0963e9af7fc9",
   "metadata": {},
   "outputs": [],
   "source": [
    "# === Load reservoir list ===\n",
    "try:\n",
    "    reservoirs = pd.read_csv(cfg.RESERVOIRS_FILE, header=None).squeeze().tolist()\n",
    "except IOError:\n",
    "    logger.exception(f'Failed to open {cfg.RESERVOIRS_FILE}')\n",
    "    raise"
   ]
  },
  {
   "cell_type": "code",
   "execution_count": 5,
   "id": "8a922896-e73a-4d3f-bdba-5b5011d59bdd",
   "metadata": {},
   "outputs": [
    {
     "name": "stderr",
     "output_type": "stream",
     "text": [
      "2025-05-08 13:45:19 | INFO | __main__ | 5 reservoirs in the attribute tables\n",
      "INFO: 3498897491.<module>(): 5 reservoirs in the attribute tables\n"
     ]
    }
   ],
   "source": [
    "# === Load attributes ===\n",
    "try:\n",
    "    attributes = read_attributes(cfg.PATH_DATA / 'attributes', reservoirs)\n",
    "    logger.info(f'{attributes.shape[0]} reservoirs in the attribute tables')\n",
    "except IOError:\n",
    "    logger.exception('Failed to read attribute tables from {0}'.format(cfg.PATH_DATA / 'attributes'))\n",
    "    raise"
   ]
  },
  {
   "cell_type": "code",
   "execution_count": 6,
   "id": "0a69dd57-de53-426e-8d20-b681bd69e251",
   "metadata": {},
   "outputs": [],
   "source": [
    "# === Load time periods ===\n",
    "try:\n",
    "    with open(cfg.PERIODS_FILE, 'rb') as file:\n",
    "        periods = pickle.load(file)\n",
    "except IOError:\n",
    "    logger.exception(f'Failed to open {cfg.PERIODS_FILE}')\n",
    "    raise"
   ]
  },
  {
   "cell_type": "code",
   "execution_count": 7,
   "id": "ead84908-6e0b-4094-8854-f6d11bdfbb14",
   "metadata": {},
   "outputs": [
    {
     "data": {
      "application/vnd.jupyter.widget-view+json": {
       "model_id": "7430ccad19f24268bc4e88439beb9ad6",
       "version_major": 2,
       "version_minor": 0
      },
      "text/plain": [
       "  0%|          | 0/5 [00:00<?, ?it/s]"
      ]
     },
     "metadata": {},
     "output_type": "display_data"
    },
    {
     "name": "stderr",
     "output_type": "stream",
     "text": [
      "2025-05-08 13:45:20 | INFO | __main__ | 5 reservoirs with timeseries\n",
      "INFO: 2671642390.<module>(): 5 reservoirs with timeseries\n"
     ]
    }
   ],
   "source": [
    "# === read time series ===\n",
    "try:\n",
    "    inputs = [var for var in [cfg.INFLOW, cfg.PRECIPITATION, cfg.EVAPORATION, cfg.DEMAND] if var]\n",
    "    outputs = ['storage', 'outflow']\n",
    "    timeseries = read_timeseries(\n",
    "        path=cfg.PATH_DATA / 'time_series' / 'csv',\n",
    "        reservoirs=attributes.index,\n",
    "        periods=periods,\n",
    "        variables=inputs + outputs\n",
    "    )\n",
    "    logger.info(f'{len(timeseries)} reservoirs with timeseries')\n",
    "except IOError:\n",
    "    logger.exception('Failed to read time series from {0}'.format(cfg.PATH_DATA / 'time_series' / 'csv'))\n",
    "    raise"
   ]
  },
  {
   "cell_type": "code",
   "execution_count": null,
   "id": "5b3c464f-e5cc-42e6-a369-b63944956fff",
   "metadata": {},
   "outputs": [
    {
     "name": "stderr",
     "output_type": "stream",
     "text": [
      "simulating reservoir:   0%|                                                                      | 0/5 [00:00<?, ?it/s]2025-05-08 13:45:20 | INFO | __main__ | Calibrating reservoir 41\n",
      "INFO: 3828140465.<module>(): Calibrating reservoir 41\n"
     ]
    },
    {
     "name": "stdout",
     "output_type": "stream",
     "text": [
      "Initializing the  Shuffled Complex Evolution (SCE-UA) algorithm  with  1000  repetitions\n",
      "The objective function will be minimized\n",
      "Starting burn-in sampling...\n"
     ]
    },
    {
     "data": {
      "application/vnd.jupyter.widget-view+json": {
       "model_id": "db70574e6a2a4d90bfbe5abcad077872",
       "version_major": 2,
       "version_minor": 0
      },
      "text/plain": [
       "timesteps:   0%|          | 0/7544 [00:00<?, ?it/s]"
      ]
     },
     "metadata": {},
     "output_type": "display_data"
    },
    {
     "name": "stdout",
     "output_type": "stream",
     "text": [
      "Initialize database...\n",
      "['csv', 'hdf5', 'ram', 'sql', 'custom', 'noData']\n",
      "* Database file 'Z:\\nahaUsers\\casadje\\datasets\\reservoirs\\ResOpsUS\\v2.0\\test\\no_meteo\\camaflood\\calibration\\bivariate/41_samples.csv' created.\n"
     ]
    },
    {
     "data": {
      "application/vnd.jupyter.widget-view+json": {
       "model_id": "8f4730f6c2b34d24acececc905e841a3",
       "version_major": 2,
       "version_minor": 0
      },
      "text/plain": [
       "timesteps:   0%|          | 0/7544 [00:00<?, ?it/s]"
      ]
     },
     "metadata": {},
     "output_type": "display_data"
    },
    {
     "data": {
      "application/vnd.jupyter.widget-view+json": {
       "model_id": "26a09b6b9b9c4e169ed6a631e79960ce",
       "version_major": 2,
       "version_minor": 0
      },
      "text/plain": [
       "timesteps:   0%|          | 0/7544 [00:00<?, ?it/s]"
      ]
     },
     "metadata": {},
     "output_type": "display_data"
    },
    {
     "data": {
      "application/vnd.jupyter.widget-view+json": {
       "model_id": "f7ce0c33fe294164a88b4418198e8862",
       "version_major": 2,
       "version_minor": 0
      },
      "text/plain": [
       "timesteps:   0%|          | 0/7544 [00:00<?, ?it/s]"
      ]
     },
     "metadata": {},
     "output_type": "display_data"
    },
    {
     "data": {
      "application/vnd.jupyter.widget-view+json": {
       "model_id": "3e2f0a3fa27e4876bd047f6d6671dfaf",
       "version_major": 2,
       "version_minor": 0
      },
      "text/plain": [
       "timesteps:   0%|          | 0/7544 [00:00<?, ?it/s]"
      ]
     },
     "metadata": {},
     "output_type": "display_data"
    },
    {
     "data": {
      "application/vnd.jupyter.widget-view+json": {
       "model_id": "d29caefa8c144ed99fd8928450ba7d3e",
       "version_major": 2,
       "version_minor": 0
      },
      "text/plain": [
       "timesteps:   0%|          | 0/7544 [00:00<?, ?it/s]"
      ]
     },
     "metadata": {},
     "output_type": "display_data"
    },
    {
     "data": {
      "application/vnd.jupyter.widget-view+json": {
       "model_id": "84dbcb1a4a214446b61b62d32c78e9ad",
       "version_major": 2,
       "version_minor": 0
      },
      "text/plain": [
       "timesteps:   0%|          | 0/7544 [00:00<?, ?it/s]"
      ]
     },
     "metadata": {},
     "output_type": "display_data"
    },
    {
     "data": {
      "application/vnd.jupyter.widget-view+json": {
       "model_id": "7df3aadf1a2f4b2dbe5a2602c9b00896",
       "version_major": 2,
       "version_minor": 0
      },
      "text/plain": [
       "timesteps:   0%|          | 0/7544 [00:00<?, ?it/s]"
      ]
     },
     "metadata": {},
     "output_type": "display_data"
    },
    {
     "name": "stdout",
     "output_type": "stream",
     "text": [
      "8 of 1000, minimal objective function=1.12192, time remaining: 00:03:54\n"
     ]
    },
    {
     "data": {
      "application/vnd.jupyter.widget-view+json": {
       "model_id": "9ae508495a3c4f00bf83070318313cef",
       "version_major": 2,
       "version_minor": 0
      },
      "text/plain": [
       "timesteps:   0%|          | 0/7544 [00:00<?, ?it/s]"
      ]
     },
     "metadata": {},
     "output_type": "display_data"
    },
    {
     "data": {
      "application/vnd.jupyter.widget-view+json": {
       "model_id": "d0cfdd8ec9004968ae046a3804e3a9ed",
       "version_major": 2,
       "version_minor": 0
      },
      "text/plain": [
       "timesteps:   0%|          | 0/7544 [00:00<?, ?it/s]"
      ]
     },
     "metadata": {},
     "output_type": "display_data"
    },
    {
     "data": {
      "application/vnd.jupyter.widget-view+json": {
       "model_id": "0ceaedcfffbd4f4dad059db68e2c1f1b",
       "version_major": 2,
       "version_minor": 0
      },
      "text/plain": [
       "timesteps:   0%|          | 0/7544 [00:00<?, ?it/s]"
      ]
     },
     "metadata": {},
     "output_type": "display_data"
    },
    {
     "data": {
      "application/vnd.jupyter.widget-view+json": {
       "model_id": "08bc2c44536147dfb4b45fb4b2da7750",
       "version_major": 2,
       "version_minor": 0
      },
      "text/plain": [
       "timesteps:   0%|          | 0/7544 [00:00<?, ?it/s]"
      ]
     },
     "metadata": {},
     "output_type": "display_data"
    },
    {
     "data": {
      "application/vnd.jupyter.widget-view+json": {
       "model_id": "d9e14e25dc354489800535d14f6637d8",
       "version_major": 2,
       "version_minor": 0
      },
      "text/plain": [
       "timesteps:   0%|          | 0/7544 [00:00<?, ?it/s]"
      ]
     },
     "metadata": {},
     "output_type": "display_data"
    },
    {
     "data": {
      "application/vnd.jupyter.widget-view+json": {
       "model_id": "8c61b20943e740dfbd41d2d32cdaa55c",
       "version_major": 2,
       "version_minor": 0
      },
      "text/plain": [
       "timesteps:   0%|          | 0/7544 [00:00<?, ?it/s]"
      ]
     },
     "metadata": {},
     "output_type": "display_data"
    },
    {
     "data": {
      "application/vnd.jupyter.widget-view+json": {
       "model_id": "3593748428ca4fd0a3c127c172a096f8",
       "version_major": 2,
       "version_minor": 0
      },
      "text/plain": [
       "timesteps:   0%|          | 0/7544 [00:00<?, ?it/s]"
      ]
     },
     "metadata": {},
     "output_type": "display_data"
    },
    {
     "data": {
      "application/vnd.jupyter.widget-view+json": {
       "model_id": "881257d2994c4407ac9662aa6b179cb9",
       "version_major": 2,
       "version_minor": 0
      },
      "text/plain": [
       "timesteps:   0%|          | 0/7544 [00:00<?, ?it/s]"
      ]
     },
     "metadata": {},
     "output_type": "display_data"
    },
    {
     "name": "stdout",
     "output_type": "stream",
     "text": [
      "16 of 1000, minimal objective function=1.12192, time remaining: 00:04:04\n"
     ]
    },
    {
     "data": {
      "application/vnd.jupyter.widget-view+json": {
       "model_id": "bbc5d622a418451d8e705d574ab5b5e5",
       "version_major": 2,
       "version_minor": 0
      },
      "text/plain": [
       "timesteps:   0%|          | 0/7544 [00:00<?, ?it/s]"
      ]
     },
     "metadata": {},
     "output_type": "display_data"
    },
    {
     "data": {
      "application/vnd.jupyter.widget-view+json": {
       "model_id": "ee0f8b8360e040feb668ac4485728e58",
       "version_major": 2,
       "version_minor": 0
      },
      "text/plain": [
       "timesteps:   0%|          | 0/7544 [00:00<?, ?it/s]"
      ]
     },
     "metadata": {},
     "output_type": "display_data"
    },
    {
     "data": {
      "application/vnd.jupyter.widget-view+json": {
       "model_id": "d3486cbb9951435885b290d5bb75481f",
       "version_major": 2,
       "version_minor": 0
      },
      "text/plain": [
       "timesteps:   0%|          | 0/7544 [00:00<?, ?it/s]"
      ]
     },
     "metadata": {},
     "output_type": "display_data"
    },
    {
     "data": {
      "application/vnd.jupyter.widget-view+json": {
       "model_id": "d1dd2d6e87f34f369bc5d619196de4df",
       "version_major": 2,
       "version_minor": 0
      },
      "text/plain": [
       "timesteps:   0%|          | 0/7544 [00:00<?, ?it/s]"
      ]
     },
     "metadata": {},
     "output_type": "display_data"
    },
    {
     "data": {
      "application/vnd.jupyter.widget-view+json": {
       "model_id": "daa2093b6a3f4b99a8c621d1c99b086e",
       "version_major": 2,
       "version_minor": 0
      },
      "text/plain": [
       "timesteps:   0%|          | 0/7544 [00:00<?, ?it/s]"
      ]
     },
     "metadata": {},
     "output_type": "display_data"
    },
    {
     "data": {
      "application/vnd.jupyter.widget-view+json": {
       "model_id": "b722c8434db348a4813f82f220c23c4d",
       "version_major": 2,
       "version_minor": 0
      },
      "text/plain": [
       "timesteps:   0%|          | 0/7544 [00:00<?, ?it/s]"
      ]
     },
     "metadata": {},
     "output_type": "display_data"
    },
    {
     "data": {
      "application/vnd.jupyter.widget-view+json": {
       "model_id": "619439e29b8f405c838280a2b51c5e64",
       "version_major": 2,
       "version_minor": 0
      },
      "text/plain": [
       "timesteps:   0%|          | 0/7544 [00:00<?, ?it/s]"
      ]
     },
     "metadata": {},
     "output_type": "display_data"
    },
    {
     "data": {
      "application/vnd.jupyter.widget-view+json": {
       "model_id": "bd5774407fb94959ad244eec37058a0c",
       "version_major": 2,
       "version_minor": 0
      },
      "text/plain": [
       "timesteps:   0%|          | 0/7544 [00:00<?, ?it/s]"
      ]
     },
     "metadata": {},
     "output_type": "display_data"
    },
    {
     "name": "stdout",
     "output_type": "stream",
     "text": [
      "24 of 1000, minimal objective function=1.12192, time remaining: 00:04:07\n"
     ]
    },
    {
     "data": {
      "application/vnd.jupyter.widget-view+json": {
       "model_id": "8d2796aadbab49feb103dbb5969b9727",
       "version_major": 2,
       "version_minor": 0
      },
      "text/plain": [
       "timesteps:   0%|          | 0/7544 [00:00<?, ?it/s]"
      ]
     },
     "metadata": {},
     "output_type": "display_data"
    },
    {
     "data": {
      "application/vnd.jupyter.widget-view+json": {
       "model_id": "791760970d4f4abba1ca7db15e2ec7ed",
       "version_major": 2,
       "version_minor": 0
      },
      "text/plain": [
       "timesteps:   0%|          | 0/7544 [00:00<?, ?it/s]"
      ]
     },
     "metadata": {},
     "output_type": "display_data"
    },
    {
     "data": {
      "application/vnd.jupyter.widget-view+json": {
       "model_id": "37600ec41b6144979e754bd7036e677c",
       "version_major": 2,
       "version_minor": 0
      },
      "text/plain": [
       "timesteps:   0%|          | 0/7544 [00:00<?, ?it/s]"
      ]
     },
     "metadata": {},
     "output_type": "display_data"
    },
    {
     "data": {
      "application/vnd.jupyter.widget-view+json": {
       "model_id": "376f71522f594c8aa9e43a983eb014bb",
       "version_major": 2,
       "version_minor": 0
      },
      "text/plain": [
       "timesteps:   0%|          | 0/7544 [00:00<?, ?it/s]"
      ]
     },
     "metadata": {},
     "output_type": "display_data"
    },
    {
     "data": {
      "application/vnd.jupyter.widget-view+json": {
       "model_id": "9117a7fbed464b3e8f4858d83d9328ae",
       "version_major": 2,
       "version_minor": 0
      },
      "text/plain": [
       "timesteps:   0%|          | 0/7544 [00:00<?, ?it/s]"
      ]
     },
     "metadata": {},
     "output_type": "display_data"
    },
    {
     "data": {
      "application/vnd.jupyter.widget-view+json": {
       "model_id": "c75139bf6eb34a97af0bedf6254b5b3d",
       "version_major": 2,
       "version_minor": 0
      },
      "text/plain": [
       "timesteps:   0%|          | 0/7544 [00:00<?, ?it/s]"
      ]
     },
     "metadata": {},
     "output_type": "display_data"
    },
    {
     "data": {
      "application/vnd.jupyter.widget-view+json": {
       "model_id": "a807ff065d884f72ad47dc52cbf0b8e1",
       "version_major": 2,
       "version_minor": 0
      },
      "text/plain": [
       "timesteps:   0%|          | 0/7544 [00:00<?, ?it/s]"
      ]
     },
     "metadata": {},
     "output_type": "display_data"
    },
    {
     "data": {
      "application/vnd.jupyter.widget-view+json": {
       "model_id": "ddff25aca0d4476aa509017cecf1be52",
       "version_major": 2,
       "version_minor": 0
      },
      "text/plain": [
       "timesteps:   0%|          | 0/7544 [00:00<?, ?it/s]"
      ]
     },
     "metadata": {},
     "output_type": "display_data"
    },
    {
     "name": "stdout",
     "output_type": "stream",
     "text": [
      "32 of 1000, minimal objective function=1.12192, time remaining: 00:04:06\n"
     ]
    },
    {
     "data": {
      "application/vnd.jupyter.widget-view+json": {
       "model_id": "4fe7e0b9bfd94a978c3a2b120759989d",
       "version_major": 2,
       "version_minor": 0
      },
      "text/plain": [
       "timesteps:   0%|          | 0/7544 [00:00<?, ?it/s]"
      ]
     },
     "metadata": {},
     "output_type": "display_data"
    },
    {
     "data": {
      "application/vnd.jupyter.widget-view+json": {
       "model_id": "6984177379bb46bba46035ff8bc4ae1b",
       "version_major": 2,
       "version_minor": 0
      },
      "text/plain": [
       "timesteps:   0%|          | 0/7544 [00:00<?, ?it/s]"
      ]
     },
     "metadata": {},
     "output_type": "display_data"
    },
    {
     "data": {
      "application/vnd.jupyter.widget-view+json": {
       "model_id": "8e5add4eac9f41809e2100f90855a974",
       "version_major": 2,
       "version_minor": 0
      },
      "text/plain": [
       "timesteps:   0%|          | 0/7544 [00:00<?, ?it/s]"
      ]
     },
     "metadata": {},
     "output_type": "display_data"
    },
    {
     "data": {
      "application/vnd.jupyter.widget-view+json": {
       "model_id": "794d883b839b4340b110b627c3bb86ec",
       "version_major": 2,
       "version_minor": 0
      },
      "text/plain": [
       "timesteps:   0%|          | 0/7544 [00:00<?, ?it/s]"
      ]
     },
     "metadata": {},
     "output_type": "display_data"
    },
    {
     "data": {
      "application/vnd.jupyter.widget-view+json": {
       "model_id": "8c17624e08794531aef3e29f2b8788b2",
       "version_major": 2,
       "version_minor": 0
      },
      "text/plain": [
       "timesteps:   0%|          | 0/7544 [00:00<?, ?it/s]"
      ]
     },
     "metadata": {},
     "output_type": "display_data"
    },
    {
     "data": {
      "application/vnd.jupyter.widget-view+json": {
       "model_id": "a6b045aeeaef4d038aeca4ff47f6a111",
       "version_major": 2,
       "version_minor": 0
      },
      "text/plain": [
       "timesteps:   0%|          | 0/7544 [00:00<?, ?it/s]"
      ]
     },
     "metadata": {},
     "output_type": "display_data"
    },
    {
     "data": {
      "application/vnd.jupyter.widget-view+json": {
       "model_id": "40ca458417384548acd447377aec1c24",
       "version_major": 2,
       "version_minor": 0
      },
      "text/plain": [
       "timesteps:   0%|          | 0/7544 [00:00<?, ?it/s]"
      ]
     },
     "metadata": {},
     "output_type": "display_data"
    },
    {
     "data": {
      "application/vnd.jupyter.widget-view+json": {
       "model_id": "490ae218a0c34775a5b9e1bebb247de0",
       "version_major": 2,
       "version_minor": 0
      },
      "text/plain": [
       "timesteps:   0%|          | 0/7544 [00:00<?, ?it/s]"
      ]
     },
     "metadata": {},
     "output_type": "display_data"
    },
    {
     "name": "stdout",
     "output_type": "stream",
     "text": [
      "40 of 1000, minimal objective function=1.0766, time remaining: 00:04:06\n"
     ]
    },
    {
     "data": {
      "application/vnd.jupyter.widget-view+json": {
       "model_id": "5097cb3caca54214a9394588960d50b4",
       "version_major": 2,
       "version_minor": 0
      },
      "text/plain": [
       "timesteps:   0%|          | 0/7544 [00:00<?, ?it/s]"
      ]
     },
     "metadata": {},
     "output_type": "display_data"
    },
    {
     "data": {
      "application/vnd.jupyter.widget-view+json": {
       "model_id": "bea31a5509424c4b8fe8471f3da80bdc",
       "version_major": 2,
       "version_minor": 0
      },
      "text/plain": [
       "timesteps:   0%|          | 0/7544 [00:00<?, ?it/s]"
      ]
     },
     "metadata": {},
     "output_type": "display_data"
    },
    {
     "data": {
      "application/vnd.jupyter.widget-view+json": {
       "model_id": "543cd6a5d0c0428088f0424c42c474e7",
       "version_major": 2,
       "version_minor": 0
      },
      "text/plain": [
       "timesteps:   0%|          | 0/7544 [00:00<?, ?it/s]"
      ]
     },
     "metadata": {},
     "output_type": "display_data"
    },
    {
     "data": {
      "application/vnd.jupyter.widget-view+json": {
       "model_id": "1efac110bb144cfcbb45172ea2350ba6",
       "version_major": 2,
       "version_minor": 0
      },
      "text/plain": [
       "timesteps:   0%|          | 0/7544 [00:00<?, ?it/s]"
      ]
     },
     "metadata": {},
     "output_type": "display_data"
    },
    {
     "name": "stdout",
     "output_type": "stream",
     "text": [
      "Burn-in sampling completed...\n",
      "Starting Complex Evolution...\n",
      "ComplexEvo loop #1 in progress...\n"
     ]
    },
    {
     "data": {
      "application/vnd.jupyter.widget-view+json": {
       "model_id": "a7e956d77e9f452fae4898cf2a5db29d",
       "version_major": 2,
       "version_minor": 0
      },
      "text/plain": [
       "timesteps:   0%|          | 0/7544 [00:00<?, ?it/s]"
      ]
     },
     "metadata": {},
     "output_type": "display_data"
    },
    {
     "data": {
      "application/vnd.jupyter.widget-view+json": {
       "model_id": "9a203494761941d7a9ea27acddeec8f5",
       "version_major": 2,
       "version_minor": 0
      },
      "text/plain": [
       "timesteps:   0%|          | 0/7544 [00:00<?, ?it/s]"
      ]
     },
     "metadata": {},
     "output_type": "display_data"
    },
    {
     "data": {
      "application/vnd.jupyter.widget-view+json": {
       "model_id": "21b4038603bb432789b93ec8e26e9287",
       "version_major": 2,
       "version_minor": 0
      },
      "text/plain": [
       "timesteps:   0%|          | 0/7544 [00:00<?, ?it/s]"
      ]
     },
     "metadata": {},
     "output_type": "display_data"
    },
    {
     "data": {
      "application/vnd.jupyter.widget-view+json": {
       "model_id": "a83e652d31644db096dc4b3328e024fc",
       "version_major": 2,
       "version_minor": 0
      },
      "text/plain": [
       "timesteps:   0%|          | 0/7544 [00:00<?, ?it/s]"
      ]
     },
     "metadata": {},
     "output_type": "display_data"
    },
    {
     "data": {
      "application/vnd.jupyter.widget-view+json": {
       "model_id": "8a5993734894413eb01e5d094169cae8",
       "version_major": 2,
       "version_minor": 0
      },
      "text/plain": [
       "timesteps:   0%|          | 0/7544 [00:00<?, ?it/s]"
      ]
     },
     "metadata": {},
     "output_type": "display_data"
    },
    {
     "data": {
      "application/vnd.jupyter.widget-view+json": {
       "model_id": "e81e92522fa54a31944f2beb6901d28b",
       "version_major": 2,
       "version_minor": 0
      },
      "text/plain": [
       "timesteps:   0%|          | 0/7544 [00:00<?, ?it/s]"
      ]
     },
     "metadata": {},
     "output_type": "display_data"
    },
    {
     "data": {
      "application/vnd.jupyter.widget-view+json": {
       "model_id": "1dd06342069c40f9ba407b97a37dc4ae",
       "version_major": 2,
       "version_minor": 0
      },
      "text/plain": [
       "timesteps:   0%|          | 0/7544 [00:00<?, ?it/s]"
      ]
     },
     "metadata": {},
     "output_type": "display_data"
    },
    {
     "data": {
      "application/vnd.jupyter.widget-view+json": {
       "model_id": "73c509be55f041b99d9a7c58abe72bcc",
       "version_major": 2,
       "version_minor": 0
      },
      "text/plain": [
       "timesteps:   0%|          | 0/7544 [00:00<?, ?it/s]"
      ]
     },
     "metadata": {},
     "output_type": "display_data"
    },
    {
     "data": {
      "application/vnd.jupyter.widget-view+json": {
       "model_id": "e09a7a6023d24e6d8804ec24ea57e8dd",
       "version_major": 2,
       "version_minor": 0
      },
      "text/plain": [
       "timesteps:   0%|          | 0/7544 [00:00<?, ?it/s]"
      ]
     },
     "metadata": {},
     "output_type": "display_data"
    },
    {
     "data": {
      "application/vnd.jupyter.widget-view+json": {
       "model_id": "4ab237c4b35d467d8172bfa19f0bfe2d",
       "version_major": 2,
       "version_minor": 0
      },
      "text/plain": [
       "timesteps:   0%|          | 0/7544 [00:00<?, ?it/s]"
      ]
     },
     "metadata": {},
     "output_type": "display_data"
    },
    {
     "data": {
      "application/vnd.jupyter.widget-view+json": {
       "model_id": "1dc2718a67804d27a0433f3ec4b63a0e",
       "version_major": 2,
       "version_minor": 0
      },
      "text/plain": [
       "timesteps:   0%|          | 0/7544 [00:00<?, ?it/s]"
      ]
     },
     "metadata": {},
     "output_type": "display_data"
    },
    {
     "data": {
      "application/vnd.jupyter.widget-view+json": {
       "model_id": "55b89f1a98bb483e998a37147b2ccdc3",
       "version_major": 2,
       "version_minor": 0
      },
      "text/plain": [
       "timesteps:   0%|          | 0/7544 [00:00<?, ?it/s]"
      ]
     },
     "metadata": {},
     "output_type": "display_data"
    },
    {
     "data": {
      "application/vnd.jupyter.widget-view+json": {
       "model_id": "19fc9925b16f448ca2839f6cae049165",
       "version_major": 2,
       "version_minor": 0
      },
      "text/plain": [
       "timesteps:   0%|          | 0/7544 [00:00<?, ?it/s]"
      ]
     },
     "metadata": {},
     "output_type": "display_data"
    },
    {
     "data": {
      "application/vnd.jupyter.widget-view+json": {
       "model_id": "b5bbed0ad02e482da8b58c8139a2e99b",
       "version_major": 2,
       "version_minor": 0
      },
      "text/plain": [
       "timesteps:   0%|          | 0/7544 [00:00<?, ?it/s]"
      ]
     },
     "metadata": {},
     "output_type": "display_data"
    },
    {
     "data": {
      "application/vnd.jupyter.widget-view+json": {
       "model_id": "9778c65f5af4424e93e759cf88cf4314",
       "version_major": 2,
       "version_minor": 0
      },
      "text/plain": [
       "timesteps:   0%|          | 0/7544 [00:00<?, ?it/s]"
      ]
     },
     "metadata": {},
     "output_type": "display_data"
    },
    {
     "name": "stdout",
     "output_type": "stream",
     "text": [
      "60 of 1000, minimal objective function=1.0766, time remaining: 00:03:57\n"
     ]
    },
    {
     "data": {
      "application/vnd.jupyter.widget-view+json": {
       "model_id": "301eea58f5884f849bb95e84b799b61b",
       "version_major": 2,
       "version_minor": 0
      },
      "text/plain": [
       "timesteps:   0%|          | 0/7544 [00:00<?, ?it/s]"
      ]
     },
     "metadata": {},
     "output_type": "display_data"
    },
    {
     "data": {
      "application/vnd.jupyter.widget-view+json": {
       "model_id": "3b8d23a63dc1482082e42dedb3c72735",
       "version_major": 2,
       "version_minor": 0
      },
      "text/plain": [
       "timesteps:   0%|          | 0/7544 [00:00<?, ?it/s]"
      ]
     },
     "metadata": {},
     "output_type": "display_data"
    },
    {
     "data": {
      "application/vnd.jupyter.widget-view+json": {
       "model_id": "76ce758bb9784032adbd882e0b94af72",
       "version_major": 2,
       "version_minor": 0
      },
      "text/plain": [
       "timesteps:   0%|          | 0/7544 [00:00<?, ?it/s]"
      ]
     },
     "metadata": {},
     "output_type": "display_data"
    },
    {
     "data": {
      "application/vnd.jupyter.widget-view+json": {
       "model_id": "5f297a43664e4a8db44079caf976af07",
       "version_major": 2,
       "version_minor": 0
      },
      "text/plain": [
       "timesteps:   0%|          | 0/7544 [00:00<?, ?it/s]"
      ]
     },
     "metadata": {},
     "output_type": "display_data"
    },
    {
     "data": {
      "application/vnd.jupyter.widget-view+json": {
       "model_id": "6fcc1aa4b7b34516a15b6128e424853f",
       "version_major": 2,
       "version_minor": 0
      },
      "text/plain": [
       "timesteps:   0%|          | 0/7544 [00:00<?, ?it/s]"
      ]
     },
     "metadata": {},
     "output_type": "display_data"
    },
    {
     "data": {
      "application/vnd.jupyter.widget-view+json": {
       "model_id": "bff660130fb04b4e870abe813c15a0a7",
       "version_major": 2,
       "version_minor": 0
      },
      "text/plain": [
       "timesteps:   0%|          | 0/7544 [00:00<?, ?it/s]"
      ]
     },
     "metadata": {},
     "output_type": "display_data"
    },
    {
     "data": {
      "application/vnd.jupyter.widget-view+json": {
       "model_id": "c2cc939ca7764bae91399d9218f173b0",
       "version_major": 2,
       "version_minor": 0
      },
      "text/plain": [
       "timesteps:   0%|          | 0/7544 [00:00<?, ?it/s]"
      ]
     },
     "metadata": {},
     "output_type": "display_data"
    },
    {
     "data": {
      "application/vnd.jupyter.widget-view+json": {
       "model_id": "ca86a6ae26314bbcb3efe8db7888d49d",
       "version_major": 2,
       "version_minor": 0
      },
      "text/plain": [
       "timesteps:   0%|          | 0/7544 [00:00<?, ?it/s]"
      ]
     },
     "metadata": {},
     "output_type": "display_data"
    },
    {
     "data": {
      "application/vnd.jupyter.widget-view+json": {
       "model_id": "e94b9cc601c24015867be463be11a00c",
       "version_major": 2,
       "version_minor": 0
      },
      "text/plain": [
       "timesteps:   0%|          | 0/7544 [00:00<?, ?it/s]"
      ]
     },
     "metadata": {},
     "output_type": "display_data"
    },
    {
     "data": {
      "application/vnd.jupyter.widget-view+json": {
       "model_id": "e639bfdbc6204025a174014c6b2ab2a3",
       "version_major": 2,
       "version_minor": 0
      },
      "text/plain": [
       "timesteps:   0%|          | 0/7544 [00:00<?, ?it/s]"
      ]
     },
     "metadata": {},
     "output_type": "display_data"
    },
    {
     "data": {
      "application/vnd.jupyter.widget-view+json": {
       "model_id": "e03d611d2f774dd0a4e6b10d4c1ce178",
       "version_major": 2,
       "version_minor": 0
      },
      "text/plain": [
       "timesteps:   0%|          | 0/7544 [00:00<?, ?it/s]"
      ]
     },
     "metadata": {},
     "output_type": "display_data"
    },
    {
     "data": {
      "application/vnd.jupyter.widget-view+json": {
       "model_id": "da19297fe1e445c28cce29c595a9d1f7",
       "version_major": 2,
       "version_minor": 0
      },
      "text/plain": [
       "timesteps:   0%|          | 0/7544 [00:00<?, ?it/s]"
      ]
     },
     "metadata": {},
     "output_type": "display_data"
    },
    {
     "data": {
      "application/vnd.jupyter.widget-view+json": {
       "model_id": "8447c1477a7341be87bb2b43098f9767",
       "version_major": 2,
       "version_minor": 0
      },
      "text/plain": [
       "timesteps:   0%|          | 0/7544 [00:00<?, ?it/s]"
      ]
     },
     "metadata": {},
     "output_type": "display_data"
    },
    {
     "data": {
      "application/vnd.jupyter.widget-view+json": {
       "model_id": "4ab5f8007a92415e97091dfcc037c7a0",
       "version_major": 2,
       "version_minor": 0
      },
      "text/plain": [
       "timesteps:   0%|          | 0/7544 [00:00<?, ?it/s]"
      ]
     },
     "metadata": {},
     "output_type": "display_data"
    },
    {
     "data": {
      "application/vnd.jupyter.widget-view+json": {
       "model_id": "460a75f22d444995aec982e86752051b",
       "version_major": 2,
       "version_minor": 0
      },
      "text/plain": [
       "timesteps:   0%|          | 0/7544 [00:00<?, ?it/s]"
      ]
     },
     "metadata": {},
     "output_type": "display_data"
    },
    {
     "data": {
      "application/vnd.jupyter.widget-view+json": {
       "model_id": "85c5901b0ba54ac9a1938975c7dc975e",
       "version_major": 2,
       "version_minor": 0
      },
      "text/plain": [
       "timesteps:   0%|          | 0/7544 [00:00<?, ?it/s]"
      ]
     },
     "metadata": {},
     "output_type": "display_data"
    },
    {
     "name": "stdout",
     "output_type": "stream",
     "text": [
      "87 of 1000, minimal objective function=1.0766, time remaining: 00:03:23\n"
     ]
    },
    {
     "data": {
      "application/vnd.jupyter.widget-view+json": {
       "model_id": "8cdc642ecca74408b65dc3d0576c3e6d",
       "version_major": 2,
       "version_minor": 0
      },
      "text/plain": [
       "timesteps:   0%|          | 0/7544 [00:00<?, ?it/s]"
      ]
     },
     "metadata": {},
     "output_type": "display_data"
    },
    {
     "data": {
      "application/vnd.jupyter.widget-view+json": {
       "model_id": "ffa57d324455408bb7d13f99dc3d62d3",
       "version_major": 2,
       "version_minor": 0
      },
      "text/plain": [
       "timesteps:   0%|          | 0/7544 [00:00<?, ?it/s]"
      ]
     },
     "metadata": {},
     "output_type": "display_data"
    },
    {
     "data": {
      "application/vnd.jupyter.widget-view+json": {
       "model_id": "30a91620d33e42428c7268a0644326cc",
       "version_major": 2,
       "version_minor": 0
      },
      "text/plain": [
       "timesteps:   0%|          | 0/7544 [00:00<?, ?it/s]"
      ]
     },
     "metadata": {},
     "output_type": "display_data"
    },
    {
     "data": {
      "application/vnd.jupyter.widget-view+json": {
       "model_id": "ddce99af5f924aab951970b9eda2ac05",
       "version_major": 2,
       "version_minor": 0
      },
      "text/plain": [
       "timesteps:   0%|          | 0/7544 [00:00<?, ?it/s]"
      ]
     },
     "metadata": {},
     "output_type": "display_data"
    },
    {
     "data": {
      "application/vnd.jupyter.widget-view+json": {
       "model_id": "310e9c2bdef946c9b1ba6c0ea958cfad",
       "version_major": 2,
       "version_minor": 0
      },
      "text/plain": [
       "timesteps:   0%|          | 0/7544 [00:00<?, ?it/s]"
      ]
     },
     "metadata": {},
     "output_type": "display_data"
    },
    {
     "data": {
      "application/vnd.jupyter.widget-view+json": {
       "model_id": "ab4146cd9c9b483da33588adf6f7adab",
       "version_major": 2,
       "version_minor": 0
      },
      "text/plain": [
       "timesteps:   0%|          | 0/7544 [00:00<?, ?it/s]"
      ]
     },
     "metadata": {},
     "output_type": "display_data"
    },
    {
     "data": {
      "application/vnd.jupyter.widget-view+json": {
       "model_id": "a9fa897d936548ea83032b3a575f9304",
       "version_major": 2,
       "version_minor": 0
      },
      "text/plain": [
       "timesteps:   0%|          | 0/7544 [00:00<?, ?it/s]"
      ]
     },
     "metadata": {},
     "output_type": "display_data"
    },
    {
     "data": {
      "application/vnd.jupyter.widget-view+json": {
       "model_id": "54ad96e438d049cea366af7d12587e25",
       "version_major": 2,
       "version_minor": 0
      },
      "text/plain": [
       "timesteps:   0%|          | 0/7544 [00:00<?, ?it/s]"
      ]
     },
     "metadata": {},
     "output_type": "display_data"
    },
    {
     "data": {
      "application/vnd.jupyter.widget-view+json": {
       "model_id": "21ae93e82ee0469b9e7cd9322184fdc2",
       "version_major": 2,
       "version_minor": 0
      },
      "text/plain": [
       "timesteps:   0%|          | 0/7544 [00:00<?, ?it/s]"
      ]
     },
     "metadata": {},
     "output_type": "display_data"
    },
    {
     "data": {
      "application/vnd.jupyter.widget-view+json": {
       "model_id": "5c9cee6d287f4f39b83e4497b21f7b4d",
       "version_major": 2,
       "version_minor": 0
      },
      "text/plain": [
       "timesteps:   0%|          | 0/7544 [00:00<?, ?it/s]"
      ]
     },
     "metadata": {},
     "output_type": "display_data"
    },
    {
     "data": {
      "application/vnd.jupyter.widget-view+json": {
       "model_id": "a9289751dba947cab7643cd477b3d8dd",
       "version_major": 2,
       "version_minor": 0
      },
      "text/plain": [
       "timesteps:   0%|          | 0/7544 [00:00<?, ?it/s]"
      ]
     },
     "metadata": {},
     "output_type": "display_data"
    },
    {
     "data": {
      "application/vnd.jupyter.widget-view+json": {
       "model_id": "e5a61b2539374086900b44225b02d6c6",
       "version_major": 2,
       "version_minor": 0
      },
      "text/plain": [
       "timesteps:   0%|          | 0/7544 [00:00<?, ?it/s]"
      ]
     },
     "metadata": {},
     "output_type": "display_data"
    },
    {
     "data": {
      "application/vnd.jupyter.widget-view+json": {
       "model_id": "2b7fd0a07efb435eb0307a1d849b1685",
       "version_major": 2,
       "version_minor": 0
      },
      "text/plain": [
       "timesteps:   0%|          | 0/7544 [00:00<?, ?it/s]"
      ]
     },
     "metadata": {},
     "output_type": "display_data"
    },
    {
     "data": {
      "application/vnd.jupyter.widget-view+json": {
       "model_id": "b8b23ea6b0644a4b97cf320d063019f6",
       "version_major": 2,
       "version_minor": 0
      },
      "text/plain": [
       "timesteps:   0%|          | 0/7544 [00:00<?, ?it/s]"
      ]
     },
     "metadata": {},
     "output_type": "display_data"
    },
    {
     "data": {
      "application/vnd.jupyter.widget-view+json": {
       "model_id": "6d195470598a4f5ab9b8de9895937f8f",
       "version_major": 2,
       "version_minor": 0
      },
      "text/plain": [
       "timesteps:   0%|          | 0/7544 [00:00<?, ?it/s]"
      ]
     },
     "metadata": {},
     "output_type": "display_data"
    },
    {
     "data": {
      "application/vnd.jupyter.widget-view+json": {
       "model_id": "5a882c9300164c648d9365b39df236f9",
       "version_major": 2,
       "version_minor": 0
      },
      "text/plain": [
       "timesteps:   0%|          | 0/7544 [00:00<?, ?it/s]"
      ]
     },
     "metadata": {},
     "output_type": "display_data"
    },
    {
     "data": {
      "application/vnd.jupyter.widget-view+json": {
       "model_id": "7305a77d24bc46e8bf5410fd12f10393",
       "version_major": 2,
       "version_minor": 0
      },
      "text/plain": [
       "timesteps:   0%|          | 0/7544 [00:00<?, ?it/s]"
      ]
     },
     "metadata": {},
     "output_type": "display_data"
    },
    {
     "data": {
      "application/vnd.jupyter.widget-view+json": {
       "model_id": "23ab9596c7d0458b8b1d02e2426bebb4",
       "version_major": 2,
       "version_minor": 0
      },
      "text/plain": [
       "timesteps:   0%|          | 0/7544 [00:00<?, ?it/s]"
      ]
     },
     "metadata": {},
     "output_type": "display_data"
    },
    {
     "name": "stdout",
     "output_type": "stream",
     "text": [
      "116 of 1000, minimal objective function=1.0766, time remaining: 00:03:03\n"
     ]
    },
    {
     "data": {
      "application/vnd.jupyter.widget-view+json": {
       "model_id": "182aa2ea68704c229c138058199d516b",
       "version_major": 2,
       "version_minor": 0
      },
      "text/plain": [
       "timesteps:   0%|          | 0/7544 [00:00<?, ?it/s]"
      ]
     },
     "metadata": {},
     "output_type": "display_data"
    },
    {
     "data": {
      "application/vnd.jupyter.widget-view+json": {
       "model_id": "ebb84c50d2a7438985ff00faae8765b7",
       "version_major": 2,
       "version_minor": 0
      },
      "text/plain": [
       "timesteps:   0%|          | 0/7544 [00:00<?, ?it/s]"
      ]
     },
     "metadata": {},
     "output_type": "display_data"
    },
    {
     "data": {
      "application/vnd.jupyter.widget-view+json": {
       "model_id": "7658852ad216464d9c18f41cc75f8f44",
       "version_major": 2,
       "version_minor": 0
      },
      "text/plain": [
       "timesteps:   0%|          | 0/7544 [00:00<?, ?it/s]"
      ]
     },
     "metadata": {},
     "output_type": "display_data"
    },
    {
     "data": {
      "application/vnd.jupyter.widget-view+json": {
       "model_id": "2e4849c04be84e9aaa0135e1546742a5",
       "version_major": 2,
       "version_minor": 0
      },
      "text/plain": [
       "timesteps:   0%|          | 0/7544 [00:00<?, ?it/s]"
      ]
     },
     "metadata": {},
     "output_type": "display_data"
    },
    {
     "data": {
      "application/vnd.jupyter.widget-view+json": {
       "model_id": "ad84ec2c05ae4303aeffc79600de2a6b",
       "version_major": 2,
       "version_minor": 0
      },
      "text/plain": [
       "timesteps:   0%|          | 0/7544 [00:00<?, ?it/s]"
      ]
     },
     "metadata": {},
     "output_type": "display_data"
    },
    {
     "data": {
      "application/vnd.jupyter.widget-view+json": {
       "model_id": "0729bda8fe88471a8491c917ffaef1b6",
       "version_major": 2,
       "version_minor": 0
      },
      "text/plain": [
       "timesteps:   0%|          | 0/7544 [00:00<?, ?it/s]"
      ]
     },
     "metadata": {},
     "output_type": "display_data"
    },
    {
     "data": {
      "application/vnd.jupyter.widget-view+json": {
       "model_id": "8d433105052c416b897e17f66de8fd6b",
       "version_major": 2,
       "version_minor": 0
      },
      "text/plain": [
       "timesteps:   0%|          | 0/7544 [00:00<?, ?it/s]"
      ]
     },
     "metadata": {},
     "output_type": "display_data"
    },
    {
     "data": {
      "application/vnd.jupyter.widget-view+json": {
       "model_id": "a02b34d3e70f450eb03de026c0e09b05",
       "version_major": 2,
       "version_minor": 0
      },
      "text/plain": [
       "timesteps:   0%|          | 0/7544 [00:00<?, ?it/s]"
      ]
     },
     "metadata": {},
     "output_type": "display_data"
    },
    {
     "data": {
      "application/vnd.jupyter.widget-view+json": {
       "model_id": "0ff1fb21c27d4c9b9cfde3377a922aa5",
       "version_major": 2,
       "version_minor": 0
      },
      "text/plain": [
       "timesteps:   0%|          | 0/7544 [00:00<?, ?it/s]"
      ]
     },
     "metadata": {},
     "output_type": "display_data"
    },
    {
     "data": {
      "application/vnd.jupyter.widget-view+json": {
       "model_id": "aff859da3c7249e4a7bb1cb8e0c4c931",
       "version_major": 2,
       "version_minor": 0
      },
      "text/plain": [
       "timesteps:   0%|          | 0/7544 [00:00<?, ?it/s]"
      ]
     },
     "metadata": {},
     "output_type": "display_data"
    },
    {
     "data": {
      "application/vnd.jupyter.widget-view+json": {
       "model_id": "6ff62ad17e1b4762bb409fe7df377f1b",
       "version_major": 2,
       "version_minor": 0
      },
      "text/plain": [
       "timesteps:   0%|          | 0/7544 [00:00<?, ?it/s]"
      ]
     },
     "metadata": {},
     "output_type": "display_data"
    },
    {
     "data": {
      "application/vnd.jupyter.widget-view+json": {
       "model_id": "5e35e3f2fd9b41da99cf765925cb0468",
       "version_major": 2,
       "version_minor": 0
      },
      "text/plain": [
       "timesteps:   0%|          | 0/7544 [00:00<?, ?it/s]"
      ]
     },
     "metadata": {},
     "output_type": "display_data"
    },
    {
     "data": {
      "application/vnd.jupyter.widget-view+json": {
       "model_id": "82d7c885414b477d9cd072bd4ececf8d",
       "version_major": 2,
       "version_minor": 0
      },
      "text/plain": [
       "timesteps:   0%|          | 0/7544 [00:00<?, ?it/s]"
      ]
     },
     "metadata": {},
     "output_type": "display_data"
    },
    {
     "data": {
      "application/vnd.jupyter.widget-view+json": {
       "model_id": "06ed82459095499bad55f667bcd9ee02",
       "version_major": 2,
       "version_minor": 0
      },
      "text/plain": [
       "timesteps:   0%|          | 0/7544 [00:00<?, ?it/s]"
      ]
     },
     "metadata": {},
     "output_type": "display_data"
    },
    {
     "data": {
      "application/vnd.jupyter.widget-view+json": {
       "model_id": "b11f3bb4d49f46b6a9acb6849797737a",
       "version_major": 2,
       "version_minor": 0
      },
      "text/plain": [
       "timesteps:   0%|          | 0/7544 [00:00<?, ?it/s]"
      ]
     },
     "metadata": {},
     "output_type": "display_data"
    },
    {
     "data": {
      "application/vnd.jupyter.widget-view+json": {
       "model_id": "7ba9587304f64c0eb3c5cb3b3a7ca1fb",
       "version_major": 2,
       "version_minor": 0
      },
      "text/plain": [
       "timesteps:   0%|          | 0/7544 [00:00<?, ?it/s]"
      ]
     },
     "metadata": {},
     "output_type": "display_data"
    },
    {
     "data": {
      "application/vnd.jupyter.widget-view+json": {
       "model_id": "99722e98e17b4acab7b3fef72947c663",
       "version_major": 2,
       "version_minor": 0
      },
      "text/plain": [
       "timesteps:   0%|          | 0/7544 [00:00<?, ?it/s]"
      ]
     },
     "metadata": {},
     "output_type": "display_data"
    },
    {
     "data": {
      "application/vnd.jupyter.widget-view+json": {
       "model_id": "403ed01b9d284420a9d7639d7da91877",
       "version_major": 2,
       "version_minor": 0
      },
      "text/plain": [
       "timesteps:   0%|          | 0/7544 [00:00<?, ?it/s]"
      ]
     },
     "metadata": {},
     "output_type": "display_data"
    },
    {
     "name": "stdout",
     "output_type": "stream",
     "text": [
      "145 of 1000, minimal objective function=1.0766, time remaining: 00:02:50\n",
      "ComplexEvo loop #2 in progress...\n"
     ]
    },
    {
     "data": {
      "application/vnd.jupyter.widget-view+json": {
       "model_id": "40ecc30713fb43dbaf4edbb809a29ebf",
       "version_major": 2,
       "version_minor": 0
      },
      "text/plain": [
       "timesteps:   0%|          | 0/7544 [00:00<?, ?it/s]"
      ]
     },
     "metadata": {},
     "output_type": "display_data"
    },
    {
     "data": {
      "application/vnd.jupyter.widget-view+json": {
       "model_id": "6fc38545eeb3476fa3a352876cbecd82",
       "version_major": 2,
       "version_minor": 0
      },
      "text/plain": [
       "timesteps:   0%|          | 0/7544 [00:00<?, ?it/s]"
      ]
     },
     "metadata": {},
     "output_type": "display_data"
    },
    {
     "data": {
      "application/vnd.jupyter.widget-view+json": {
       "model_id": "7139b75d26f947e88a79063c718437ee",
       "version_major": 2,
       "version_minor": 0
      },
      "text/plain": [
       "timesteps:   0%|          | 0/7544 [00:00<?, ?it/s]"
      ]
     },
     "metadata": {},
     "output_type": "display_data"
    },
    {
     "data": {
      "application/vnd.jupyter.widget-view+json": {
       "model_id": "b381e4f3362847fda13c5736dacf7e7a",
       "version_major": 2,
       "version_minor": 0
      },
      "text/plain": [
       "timesteps:   0%|          | 0/7544 [00:00<?, ?it/s]"
      ]
     },
     "metadata": {},
     "output_type": "display_data"
    },
    {
     "data": {
      "application/vnd.jupyter.widget-view+json": {
       "model_id": "62b0ec0c428444c28bb2e30fc90da103",
       "version_major": 2,
       "version_minor": 0
      },
      "text/plain": [
       "timesteps:   0%|          | 0/7544 [00:00<?, ?it/s]"
      ]
     },
     "metadata": {},
     "output_type": "display_data"
    },
    {
     "data": {
      "application/vnd.jupyter.widget-view+json": {
       "model_id": "75c68c4cdee149cba77fe49748cebd10",
       "version_major": 2,
       "version_minor": 0
      },
      "text/plain": [
       "timesteps:   0%|          | 0/7544 [00:00<?, ?it/s]"
      ]
     },
     "metadata": {},
     "output_type": "display_data"
    },
    {
     "data": {
      "application/vnd.jupyter.widget-view+json": {
       "model_id": "7beed6b69bc745b1a5aefa0098445d3a",
       "version_major": 2,
       "version_minor": 0
      },
      "text/plain": [
       "timesteps:   0%|          | 0/7544 [00:00<?, ?it/s]"
      ]
     },
     "metadata": {},
     "output_type": "display_data"
    },
    {
     "data": {
      "application/vnd.jupyter.widget-view+json": {
       "model_id": "cedb4ab648404181aaea2c7a76f819c9",
       "version_major": 2,
       "version_minor": 0
      },
      "text/plain": [
       "timesteps:   0%|          | 0/7544 [00:00<?, ?it/s]"
      ]
     },
     "metadata": {},
     "output_type": "display_data"
    },
    {
     "data": {
      "application/vnd.jupyter.widget-view+json": {
       "model_id": "574f03ab12ec4792a26e2af65dac5ab0",
       "version_major": 2,
       "version_minor": 0
      },
      "text/plain": [
       "timesteps:   0%|          | 0/7544 [00:00<?, ?it/s]"
      ]
     },
     "metadata": {},
     "output_type": "display_data"
    },
    {
     "data": {
      "application/vnd.jupyter.widget-view+json": {
       "model_id": "d3131eb94e3649768318836a3a42338e",
       "version_major": 2,
       "version_minor": 0
      },
      "text/plain": [
       "timesteps:   0%|          | 0/7544 [00:00<?, ?it/s]"
      ]
     },
     "metadata": {},
     "output_type": "display_data"
    },
    {
     "data": {
      "application/vnd.jupyter.widget-view+json": {
       "model_id": "9c09c9938ed8489e8f776acd562e0c1c",
       "version_major": 2,
       "version_minor": 0
      },
      "text/plain": [
       "timesteps:   0%|          | 0/7544 [00:00<?, ?it/s]"
      ]
     },
     "metadata": {},
     "output_type": "display_data"
    },
    {
     "data": {
      "application/vnd.jupyter.widget-view+json": {
       "model_id": "6334b445ae7d4242bd8d281aeacb8a5c",
       "version_major": 2,
       "version_minor": 0
      },
      "text/plain": [
       "timesteps:   0%|          | 0/7544 [00:00<?, ?it/s]"
      ]
     },
     "metadata": {},
     "output_type": "display_data"
    },
    {
     "data": {
      "application/vnd.jupyter.widget-view+json": {
       "model_id": "725cf2c2504b4b09bff8b9e49c5f9444",
       "version_major": 2,
       "version_minor": 0
      },
      "text/plain": [
       "timesteps:   0%|          | 0/7544 [00:00<?, ?it/s]"
      ]
     },
     "metadata": {},
     "output_type": "display_data"
    },
    {
     "data": {
      "application/vnd.jupyter.widget-view+json": {
       "model_id": "eb3024bd66314b388783ad5c0eb82351",
       "version_major": 2,
       "version_minor": 0
      },
      "text/plain": [
       "timesteps:   0%|          | 0/7544 [00:00<?, ?it/s]"
      ]
     },
     "metadata": {},
     "output_type": "display_data"
    },
    {
     "data": {
      "application/vnd.jupyter.widget-view+json": {
       "model_id": "72dd8bb9eecd4012a65010b45e4a3eba",
       "version_major": 2,
       "version_minor": 0
      },
      "text/plain": [
       "timesteps:   0%|          | 0/7544 [00:00<?, ?it/s]"
      ]
     },
     "metadata": {},
     "output_type": "display_data"
    },
    {
     "data": {
      "application/vnd.jupyter.widget-view+json": {
       "model_id": "2dd392a016af4b3684e92a61243d8d56",
       "version_major": 2,
       "version_minor": 0
      },
      "text/plain": [
       "timesteps:   0%|          | 0/7544 [00:00<?, ?it/s]"
      ]
     },
     "metadata": {},
     "output_type": "display_data"
    },
    {
     "data": {
      "application/vnd.jupyter.widget-view+json": {
       "model_id": "b39d3aff41b74ba28e3a403126f13696",
       "version_major": 2,
       "version_minor": 0
      },
      "text/plain": [
       "timesteps:   0%|          | 0/7544 [00:00<?, ?it/s]"
      ]
     },
     "metadata": {},
     "output_type": "display_data"
    },
    {
     "data": {
      "application/vnd.jupyter.widget-view+json": {
       "model_id": "578b3c78585d47ea8938562aeaf25554",
       "version_major": 2,
       "version_minor": 0
      },
      "text/plain": [
       "timesteps:   0%|          | 0/7544 [00:00<?, ?it/s]"
      ]
     },
     "metadata": {},
     "output_type": "display_data"
    },
    {
     "data": {
      "application/vnd.jupyter.widget-view+json": {
       "model_id": "c92d7848f61b43f8a656dfd4893ba7d1",
       "version_major": 2,
       "version_minor": 0
      },
      "text/plain": [
       "timesteps:   0%|          | 0/7544 [00:00<?, ?it/s]"
      ]
     },
     "metadata": {},
     "output_type": "display_data"
    },
    {
     "data": {
      "application/vnd.jupyter.widget-view+json": {
       "model_id": "62c1b0e462d9421f98a24d55999fce21",
       "version_major": 2,
       "version_minor": 0
      },
      "text/plain": [
       "timesteps:   0%|          | 0/7544 [00:00<?, ?it/s]"
      ]
     },
     "metadata": {},
     "output_type": "display_data"
    },
    {
     "name": "stdout",
     "output_type": "stream",
     "text": [
      "176 of 1000, minimal objective function=1.0766, time remaining: 00:02:39\n"
     ]
    },
    {
     "data": {
      "application/vnd.jupyter.widget-view+json": {
       "model_id": "148515efc4ec41a18fa914468a6f2960",
       "version_major": 2,
       "version_minor": 0
      },
      "text/plain": [
       "timesteps:   0%|          | 0/7544 [00:00<?, ?it/s]"
      ]
     },
     "metadata": {},
     "output_type": "display_data"
    },
    {
     "data": {
      "application/vnd.jupyter.widget-view+json": {
       "model_id": "b05c2902adab46ad8e859cbd163e20a7",
       "version_major": 2,
       "version_minor": 0
      },
      "text/plain": [
       "timesteps:   0%|          | 0/7544 [00:00<?, ?it/s]"
      ]
     },
     "metadata": {},
     "output_type": "display_data"
    },
    {
     "data": {
      "application/vnd.jupyter.widget-view+json": {
       "model_id": "6568d3beb0de4a39a7a3349a8cf22dbb",
       "version_major": 2,
       "version_minor": 0
      },
      "text/plain": [
       "timesteps:   0%|          | 0/7544 [00:00<?, ?it/s]"
      ]
     },
     "metadata": {},
     "output_type": "display_data"
    },
    {
     "data": {
      "application/vnd.jupyter.widget-view+json": {
       "model_id": "450a6a2f61b74b4da8cbcf390058a517",
       "version_major": 2,
       "version_minor": 0
      },
      "text/plain": [
       "timesteps:   0%|          | 0/7544 [00:00<?, ?it/s]"
      ]
     },
     "metadata": {},
     "output_type": "display_data"
    },
    {
     "data": {
      "application/vnd.jupyter.widget-view+json": {
       "model_id": "9597968831d3474d8472af1b5a581a7e",
       "version_major": 2,
       "version_minor": 0
      },
      "text/plain": [
       "timesteps:   0%|          | 0/7544 [00:00<?, ?it/s]"
      ]
     },
     "metadata": {},
     "output_type": "display_data"
    },
    {
     "data": {
      "application/vnd.jupyter.widget-view+json": {
       "model_id": "47f0fe5cfec1412092b7b94cb954b99f",
       "version_major": 2,
       "version_minor": 0
      },
      "text/plain": [
       "timesteps:   0%|          | 0/7544 [00:00<?, ?it/s]"
      ]
     },
     "metadata": {},
     "output_type": "display_data"
    },
    {
     "data": {
      "application/vnd.jupyter.widget-view+json": {
       "model_id": "db102b5cb25b4e799188d7aab0b0fe35",
       "version_major": 2,
       "version_minor": 0
      },
      "text/plain": [
       "timesteps:   0%|          | 0/7544 [00:00<?, ?it/s]"
      ]
     },
     "metadata": {},
     "output_type": "display_data"
    },
    {
     "data": {
      "application/vnd.jupyter.widget-view+json": {
       "model_id": "052436b45539411590bc24cccfe18a84",
       "version_major": 2,
       "version_minor": 0
      },
      "text/plain": [
       "timesteps:   0%|          | 0/7544 [00:00<?, ?it/s]"
      ]
     },
     "metadata": {},
     "output_type": "display_data"
    },
    {
     "data": {
      "application/vnd.jupyter.widget-view+json": {
       "model_id": "6763154f6fa64a3e83824797c6e73941",
       "version_major": 2,
       "version_minor": 0
      },
      "text/plain": [
       "timesteps:   0%|          | 0/7544 [00:00<?, ?it/s]"
      ]
     },
     "metadata": {},
     "output_type": "display_data"
    },
    {
     "data": {
      "application/vnd.jupyter.widget-view+json": {
       "model_id": "f2c638413ee54cbc82ad760b26f4ef82",
       "version_major": 2,
       "version_minor": 0
      },
      "text/plain": [
       "timesteps:   0%|          | 0/7544 [00:00<?, ?it/s]"
      ]
     },
     "metadata": {},
     "output_type": "display_data"
    },
    {
     "data": {
      "application/vnd.jupyter.widget-view+json": {
       "model_id": "772ffd1e3bcd473ca06a63a2307bc3bb",
       "version_major": 2,
       "version_minor": 0
      },
      "text/plain": [
       "timesteps:   0%|          | 0/7544 [00:00<?, ?it/s]"
      ]
     },
     "metadata": {},
     "output_type": "display_data"
    },
    {
     "data": {
      "application/vnd.jupyter.widget-view+json": {
       "model_id": "b61f03451961430798e3ecab461b5fe3",
       "version_major": 2,
       "version_minor": 0
      },
      "text/plain": [
       "timesteps:   0%|          | 0/7544 [00:00<?, ?it/s]"
      ]
     },
     "metadata": {},
     "output_type": "display_data"
    },
    {
     "data": {
      "application/vnd.jupyter.widget-view+json": {
       "model_id": "510ab923293245ac8d2c0d671da0cc3b",
       "version_major": 2,
       "version_minor": 0
      },
      "text/plain": [
       "timesteps:   0%|          | 0/7544 [00:00<?, ?it/s]"
      ]
     },
     "metadata": {},
     "output_type": "display_data"
    },
    {
     "data": {
      "application/vnd.jupyter.widget-view+json": {
       "model_id": "96352c7f8c694f349f5fa03cc1527dde",
       "version_major": 2,
       "version_minor": 0
      },
      "text/plain": [
       "timesteps:   0%|          | 0/7544 [00:00<?, ?it/s]"
      ]
     },
     "metadata": {},
     "output_type": "display_data"
    },
    {
     "data": {
      "application/vnd.jupyter.widget-view+json": {
       "model_id": "5e73069fce8e4ecca07b9ac9c0cbc518",
       "version_major": 2,
       "version_minor": 0
      },
      "text/plain": [
       "timesteps:   0%|          | 0/7544 [00:00<?, ?it/s]"
      ]
     },
     "metadata": {},
     "output_type": "display_data"
    },
    {
     "data": {
      "application/vnd.jupyter.widget-view+json": {
       "model_id": "a75757d9787d4c14adff016f1a261920",
       "version_major": 2,
       "version_minor": 0
      },
      "text/plain": [
       "timesteps:   0%|          | 0/7544 [00:00<?, ?it/s]"
      ]
     },
     "metadata": {},
     "output_type": "display_data"
    },
    {
     "data": {
      "application/vnd.jupyter.widget-view+json": {
       "model_id": "c3d7a9e46914409695303a8dd9459eaa",
       "version_major": 2,
       "version_minor": 0
      },
      "text/plain": [
       "timesteps:   0%|          | 0/7544 [00:00<?, ?it/s]"
      ]
     },
     "metadata": {},
     "output_type": "display_data"
    },
    {
     "name": "stdout",
     "output_type": "stream",
     "text": [
      "204 of 1000, minimal objective function=1.06931, time remaining: 00:02:30\n"
     ]
    },
    {
     "data": {
      "application/vnd.jupyter.widget-view+json": {
       "model_id": "9720b5f6e2c940638ebaee95080ede77",
       "version_major": 2,
       "version_minor": 0
      },
      "text/plain": [
       "timesteps:   0%|          | 0/7544 [00:00<?, ?it/s]"
      ]
     },
     "metadata": {},
     "output_type": "display_data"
    },
    {
     "data": {
      "application/vnd.jupyter.widget-view+json": {
       "model_id": "f7926a3abcb84ff3be66bebe7109edb3",
       "version_major": 2,
       "version_minor": 0
      },
      "text/plain": [
       "timesteps:   0%|          | 0/7544 [00:00<?, ?it/s]"
      ]
     },
     "metadata": {},
     "output_type": "display_data"
    },
    {
     "data": {
      "application/vnd.jupyter.widget-view+json": {
       "model_id": "95e5e617fb5d4567abb5e4d580f8040d",
       "version_major": 2,
       "version_minor": 0
      },
      "text/plain": [
       "timesteps:   0%|          | 0/7544 [00:00<?, ?it/s]"
      ]
     },
     "metadata": {},
     "output_type": "display_data"
    },
    {
     "data": {
      "application/vnd.jupyter.widget-view+json": {
       "model_id": "b6081c2464ac40358ebe2b6f5d8ddd51",
       "version_major": 2,
       "version_minor": 0
      },
      "text/plain": [
       "timesteps:   0%|          | 0/7544 [00:00<?, ?it/s]"
      ]
     },
     "metadata": {},
     "output_type": "display_data"
    },
    {
     "data": {
      "application/vnd.jupyter.widget-view+json": {
       "model_id": "a10ca721b1834a57afe619dba0d2cdae",
       "version_major": 2,
       "version_minor": 0
      },
      "text/plain": [
       "timesteps:   0%|          | 0/7544 [00:00<?, ?it/s]"
      ]
     },
     "metadata": {},
     "output_type": "display_data"
    },
    {
     "data": {
      "application/vnd.jupyter.widget-view+json": {
       "model_id": "c8569e0d0ada4a669b17f58437346c83",
       "version_major": 2,
       "version_minor": 0
      },
      "text/plain": [
       "timesteps:   0%|          | 0/7544 [00:00<?, ?it/s]"
      ]
     },
     "metadata": {},
     "output_type": "display_data"
    },
    {
     "data": {
      "application/vnd.jupyter.widget-view+json": {
       "model_id": "837ece36774e4867a3e05447ba4a46b5",
       "version_major": 2,
       "version_minor": 0
      },
      "text/plain": [
       "timesteps:   0%|          | 0/7544 [00:00<?, ?it/s]"
      ]
     },
     "metadata": {},
     "output_type": "display_data"
    },
    {
     "data": {
      "application/vnd.jupyter.widget-view+json": {
       "model_id": "fd357ded05dc4f159f118b02d5593470",
       "version_major": 2,
       "version_minor": 0
      },
      "text/plain": [
       "timesteps:   0%|          | 0/7544 [00:00<?, ?it/s]"
      ]
     },
     "metadata": {},
     "output_type": "display_data"
    },
    {
     "data": {
      "application/vnd.jupyter.widget-view+json": {
       "model_id": "a1d3852329c44b3494fdd3cea3ce6afa",
       "version_major": 2,
       "version_minor": 0
      },
      "text/plain": [
       "timesteps:   0%|          | 0/7544 [00:00<?, ?it/s]"
      ]
     },
     "metadata": {},
     "output_type": "display_data"
    },
    {
     "data": {
      "application/vnd.jupyter.widget-view+json": {
       "model_id": "cab071ab31f04a7284e7b14158a60457",
       "version_major": 2,
       "version_minor": 0
      },
      "text/plain": [
       "timesteps:   0%|          | 0/7544 [00:00<?, ?it/s]"
      ]
     },
     "metadata": {},
     "output_type": "display_data"
    },
    {
     "data": {
      "application/vnd.jupyter.widget-view+json": {
       "model_id": "039d9ff92756452eb9f4f7c19f1afef8",
       "version_major": 2,
       "version_minor": 0
      },
      "text/plain": [
       "timesteps:   0%|          | 0/7544 [00:00<?, ?it/s]"
      ]
     },
     "metadata": {},
     "output_type": "display_data"
    },
    {
     "data": {
      "application/vnd.jupyter.widget-view+json": {
       "model_id": "20629c66dd044550bf28291de1ed7e4e",
       "version_major": 2,
       "version_minor": 0
      },
      "text/plain": [
       "timesteps:   0%|          | 0/7544 [00:00<?, ?it/s]"
      ]
     },
     "metadata": {},
     "output_type": "display_data"
    },
    {
     "data": {
      "application/vnd.jupyter.widget-view+json": {
       "model_id": "3277ac17085a4c56b8d3666c44f512bf",
       "version_major": 2,
       "version_minor": 0
      },
      "text/plain": [
       "timesteps:   0%|          | 0/7544 [00:00<?, ?it/s]"
      ]
     },
     "metadata": {},
     "output_type": "display_data"
    },
    {
     "data": {
      "application/vnd.jupyter.widget-view+json": {
       "model_id": "920c3f8b09fa45ac8bafad267922f6b1",
       "version_major": 2,
       "version_minor": 0
      },
      "text/plain": [
       "timesteps:   0%|          | 0/7544 [00:00<?, ?it/s]"
      ]
     },
     "metadata": {},
     "output_type": "display_data"
    },
    {
     "data": {
      "application/vnd.jupyter.widget-view+json": {
       "model_id": "7771e241e7ac4a83b68b253df620e9a7",
       "version_major": 2,
       "version_minor": 0
      },
      "text/plain": [
       "timesteps:   0%|          | 0/7544 [00:00<?, ?it/s]"
      ]
     },
     "metadata": {},
     "output_type": "display_data"
    },
    {
     "data": {
      "application/vnd.jupyter.widget-view+json": {
       "model_id": "d30db74243af4f72924aab6523b40f06",
       "version_major": 2,
       "version_minor": 0
      },
      "text/plain": [
       "timesteps:   0%|          | 0/7544 [00:00<?, ?it/s]"
      ]
     },
     "metadata": {},
     "output_type": "display_data"
    },
    {
     "name": "stdout",
     "output_type": "stream",
     "text": [
      "231 of 1000, minimal objective function=1.06931, time remaining: 00:02:22\n"
     ]
    },
    {
     "data": {
      "application/vnd.jupyter.widget-view+json": {
       "model_id": "5f098d209bdb421f86310fafb7ad5030",
       "version_major": 2,
       "version_minor": 0
      },
      "text/plain": [
       "timesteps:   0%|          | 0/7544 [00:00<?, ?it/s]"
      ]
     },
     "metadata": {},
     "output_type": "display_data"
    },
    {
     "data": {
      "application/vnd.jupyter.widget-view+json": {
       "model_id": "73e49c18b9a146c19e324efbca9caa89",
       "version_major": 2,
       "version_minor": 0
      },
      "text/plain": [
       "timesteps:   0%|          | 0/7544 [00:00<?, ?it/s]"
      ]
     },
     "metadata": {},
     "output_type": "display_data"
    },
    {
     "data": {
      "application/vnd.jupyter.widget-view+json": {
       "model_id": "b210158e312f406a96508c2695a10c52",
       "version_major": 2,
       "version_minor": 0
      },
      "text/plain": [
       "timesteps:   0%|          | 0/7544 [00:00<?, ?it/s]"
      ]
     },
     "metadata": {},
     "output_type": "display_data"
    },
    {
     "data": {
      "application/vnd.jupyter.widget-view+json": {
       "model_id": "e9a254d7a8604289b7b0bad5f046837b",
       "version_major": 2,
       "version_minor": 0
      },
      "text/plain": [
       "timesteps:   0%|          | 0/7544 [00:00<?, ?it/s]"
      ]
     },
     "metadata": {},
     "output_type": "display_data"
    },
    {
     "data": {
      "application/vnd.jupyter.widget-view+json": {
       "model_id": "fcb86fccf82d4517be3d768de1dcb440",
       "version_major": 2,
       "version_minor": 0
      },
      "text/plain": [
       "timesteps:   0%|          | 0/7544 [00:00<?, ?it/s]"
      ]
     },
     "metadata": {},
     "output_type": "display_data"
    },
    {
     "data": {
      "application/vnd.jupyter.widget-view+json": {
       "model_id": "fc11e5e076cd4512a1229b24ca93be60",
       "version_major": 2,
       "version_minor": 0
      },
      "text/plain": [
       "timesteps:   0%|          | 0/7544 [00:00<?, ?it/s]"
      ]
     },
     "metadata": {},
     "output_type": "display_data"
    },
    {
     "data": {
      "application/vnd.jupyter.widget-view+json": {
       "model_id": "d7031b9d0bbd46ffad27009690e43d3d",
       "version_major": 2,
       "version_minor": 0
      },
      "text/plain": [
       "timesteps:   0%|          | 0/7544 [00:00<?, ?it/s]"
      ]
     },
     "metadata": {},
     "output_type": "display_data"
    },
    {
     "data": {
      "application/vnd.jupyter.widget-view+json": {
       "model_id": "ce63ebea578d4806bd0e81cf59dda945",
       "version_major": 2,
       "version_minor": 0
      },
      "text/plain": [
       "timesteps:   0%|          | 0/7544 [00:00<?, ?it/s]"
      ]
     },
     "metadata": {},
     "output_type": "display_data"
    },
    {
     "data": {
      "application/vnd.jupyter.widget-view+json": {
       "model_id": "1a690aa03b4d421fb856e3a0187c1e89",
       "version_major": 2,
       "version_minor": 0
      },
      "text/plain": [
       "timesteps:   0%|          | 0/7544 [00:00<?, ?it/s]"
      ]
     },
     "metadata": {},
     "output_type": "display_data"
    },
    {
     "data": {
      "application/vnd.jupyter.widget-view+json": {
       "model_id": "33fa77041def415db33235475014c4cf",
       "version_major": 2,
       "version_minor": 0
      },
      "text/plain": [
       "timesteps:   0%|          | 0/7544 [00:00<?, ?it/s]"
      ]
     },
     "metadata": {},
     "output_type": "display_data"
    },
    {
     "data": {
      "application/vnd.jupyter.widget-view+json": {
       "model_id": "1d5d017440b742609d843dd8c65df8e7",
       "version_major": 2,
       "version_minor": 0
      },
      "text/plain": [
       "timesteps:   0%|          | 0/7544 [00:00<?, ?it/s]"
      ]
     },
     "metadata": {},
     "output_type": "display_data"
    },
    {
     "data": {
      "application/vnd.jupyter.widget-view+json": {
       "model_id": "39ea46866c234088908f8a3c3cc03cc4",
       "version_major": 2,
       "version_minor": 0
      },
      "text/plain": [
       "timesteps:   0%|          | 0/7544 [00:00<?, ?it/s]"
      ]
     },
     "metadata": {},
     "output_type": "display_data"
    },
    {
     "data": {
      "application/vnd.jupyter.widget-view+json": {
       "model_id": "b26bc00a3196498c8eade5f87247fc80",
       "version_major": 2,
       "version_minor": 0
      },
      "text/plain": [
       "timesteps:   0%|          | 0/7544 [00:00<?, ?it/s]"
      ]
     },
     "metadata": {},
     "output_type": "display_data"
    },
    {
     "data": {
      "application/vnd.jupyter.widget-view+json": {
       "model_id": "f4b16df6869d4f129462de72c8e51484",
       "version_major": 2,
       "version_minor": 0
      },
      "text/plain": [
       "timesteps:   0%|          | 0/7544 [00:00<?, ?it/s]"
      ]
     },
     "metadata": {},
     "output_type": "display_data"
    },
    {
     "data": {
      "application/vnd.jupyter.widget-view+json": {
       "model_id": "d31ea99688314ee389d32ff33bdea610",
       "version_major": 2,
       "version_minor": 0
      },
      "text/plain": [
       "timesteps:   0%|          | 0/7544 [00:00<?, ?it/s]"
      ]
     },
     "metadata": {},
     "output_type": "display_data"
    },
    {
     "data": {
      "application/vnd.jupyter.widget-view+json": {
       "model_id": "9063989626be4885a4c5a34bea289f94",
       "version_major": 2,
       "version_minor": 0
      },
      "text/plain": [
       "timesteps:   0%|          | 0/7544 [00:00<?, ?it/s]"
      ]
     },
     "metadata": {},
     "output_type": "display_data"
    },
    {
     "data": {
      "application/vnd.jupyter.widget-view+json": {
       "model_id": "1af108de6c5b4727aa19ec2bc75fef60",
       "version_major": 2,
       "version_minor": 0
      },
      "text/plain": [
       "timesteps:   0%|          | 0/7544 [00:00<?, ?it/s]"
      ]
     },
     "metadata": {},
     "output_type": "display_data"
    },
    {
     "name": "stdout",
     "output_type": "stream",
     "text": [
      "259 of 1000, minimal objective function=1.06931, time remaining: 00:02:15\n",
      "ComplexEvo loop #3 in progress...\n"
     ]
    },
    {
     "data": {
      "application/vnd.jupyter.widget-view+json": {
       "model_id": "3858c6abb32c41bb98a039291949c8f7",
       "version_major": 2,
       "version_minor": 0
      },
      "text/plain": [
       "timesteps:   0%|          | 0/7544 [00:00<?, ?it/s]"
      ]
     },
     "metadata": {},
     "output_type": "display_data"
    },
    {
     "data": {
      "application/vnd.jupyter.widget-view+json": {
       "model_id": "c6d54d5f680c4764bd043a9b536be857",
       "version_major": 2,
       "version_minor": 0
      },
      "text/plain": [
       "timesteps:   0%|          | 0/7544 [00:00<?, ?it/s]"
      ]
     },
     "metadata": {},
     "output_type": "display_data"
    },
    {
     "data": {
      "application/vnd.jupyter.widget-view+json": {
       "model_id": "baff3645f916424c95abdb4e13b7cd65",
       "version_major": 2,
       "version_minor": 0
      },
      "text/plain": [
       "timesteps:   0%|          | 0/7544 [00:00<?, ?it/s]"
      ]
     },
     "metadata": {},
     "output_type": "display_data"
    },
    {
     "data": {
      "application/vnd.jupyter.widget-view+json": {
       "model_id": "266ae8111fdf410bb72e561e49659a80",
       "version_major": 2,
       "version_minor": 0
      },
      "text/plain": [
       "timesteps:   0%|          | 0/7544 [00:00<?, ?it/s]"
      ]
     },
     "metadata": {},
     "output_type": "display_data"
    },
    {
     "data": {
      "application/vnd.jupyter.widget-view+json": {
       "model_id": "5628673945534584b89d1bf2697f3b96",
       "version_major": 2,
       "version_minor": 0
      },
      "text/plain": [
       "timesteps:   0%|          | 0/7544 [00:00<?, ?it/s]"
      ]
     },
     "metadata": {},
     "output_type": "display_data"
    },
    {
     "data": {
      "application/vnd.jupyter.widget-view+json": {
       "model_id": "7d8ae9f9ccf840449bf30b7a5fdfb6f1",
       "version_major": 2,
       "version_minor": 0
      },
      "text/plain": [
       "timesteps:   0%|          | 0/7544 [00:00<?, ?it/s]"
      ]
     },
     "metadata": {},
     "output_type": "display_data"
    },
    {
     "data": {
      "application/vnd.jupyter.widget-view+json": {
       "model_id": "7ca9271ea6a841e0a14ba9fd92605b68",
       "version_major": 2,
       "version_minor": 0
      },
      "text/plain": [
       "timesteps:   0%|          | 0/7544 [00:00<?, ?it/s]"
      ]
     },
     "metadata": {},
     "output_type": "display_data"
    },
    {
     "data": {
      "application/vnd.jupyter.widget-view+json": {
       "model_id": "d4a9ba506e82494aa5dea1d25ad5da8a",
       "version_major": 2,
       "version_minor": 0
      },
      "text/plain": [
       "timesteps:   0%|          | 0/7544 [00:00<?, ?it/s]"
      ]
     },
     "metadata": {},
     "output_type": "display_data"
    },
    {
     "data": {
      "application/vnd.jupyter.widget-view+json": {
       "model_id": "4982300731844013a5bbcd2836530637",
       "version_major": 2,
       "version_minor": 0
      },
      "text/plain": [
       "timesteps:   0%|          | 0/7544 [00:00<?, ?it/s]"
      ]
     },
     "metadata": {},
     "output_type": "display_data"
    },
    {
     "data": {
      "application/vnd.jupyter.widget-view+json": {
       "model_id": "966fd80f9b2b4258ae0516bc2e3ec6bf",
       "version_major": 2,
       "version_minor": 0
      },
      "text/plain": [
       "timesteps:   0%|          | 0/7544 [00:00<?, ?it/s]"
      ]
     },
     "metadata": {},
     "output_type": "display_data"
    },
    {
     "data": {
      "application/vnd.jupyter.widget-view+json": {
       "model_id": "30a3df0a8c6041e28da12e0e013c9857",
       "version_major": 2,
       "version_minor": 0
      },
      "text/plain": [
       "timesteps:   0%|          | 0/7544 [00:00<?, ?it/s]"
      ]
     },
     "metadata": {},
     "output_type": "display_data"
    },
    {
     "data": {
      "application/vnd.jupyter.widget-view+json": {
       "model_id": "9d48f9ed5ba2463c834eef4fbe317a90",
       "version_major": 2,
       "version_minor": 0
      },
      "text/plain": [
       "timesteps:   0%|          | 0/7544 [00:00<?, ?it/s]"
      ]
     },
     "metadata": {},
     "output_type": "display_data"
    },
    {
     "data": {
      "application/vnd.jupyter.widget-view+json": {
       "model_id": "e552e70ab4304358848afdbd3c0c0a73",
       "version_major": 2,
       "version_minor": 0
      },
      "text/plain": [
       "timesteps:   0%|          | 0/7544 [00:00<?, ?it/s]"
      ]
     },
     "metadata": {},
     "output_type": "display_data"
    },
    {
     "data": {
      "application/vnd.jupyter.widget-view+json": {
       "model_id": "a9728e89c30c4230b9b55d0bf3e2c9ec",
       "version_major": 2,
       "version_minor": 0
      },
      "text/plain": [
       "timesteps:   0%|          | 0/7544 [00:00<?, ?it/s]"
      ]
     },
     "metadata": {},
     "output_type": "display_data"
    },
    {
     "data": {
      "application/vnd.jupyter.widget-view+json": {
       "model_id": "e37aa14f89e54c1b9619826a5fb99914",
       "version_major": 2,
       "version_minor": 0
      },
      "text/plain": [
       "timesteps:   0%|          | 0/7544 [00:00<?, ?it/s]"
      ]
     },
     "metadata": {},
     "output_type": "display_data"
    },
    {
     "data": {
      "application/vnd.jupyter.widget-view+json": {
       "model_id": "487f2591e3b94f4f80074fc9ce50706e",
       "version_major": 2,
       "version_minor": 0
      },
      "text/plain": [
       "timesteps:   0%|          | 0/7544 [00:00<?, ?it/s]"
      ]
     },
     "metadata": {},
     "output_type": "display_data"
    },
    {
     "data": {
      "application/vnd.jupyter.widget-view+json": {
       "model_id": "87bcdb2b43c449d49d3b55b2522c3dcc",
       "version_major": 2,
       "version_minor": 0
      },
      "text/plain": [
       "timesteps:   0%|          | 0/7544 [00:00<?, ?it/s]"
      ]
     },
     "metadata": {},
     "output_type": "display_data"
    },
    {
     "data": {
      "application/vnd.jupyter.widget-view+json": {
       "model_id": "5d1aee8ba0fa4f4c959d8d2181ecdbe8",
       "version_major": 2,
       "version_minor": 0
      },
      "text/plain": [
       "timesteps:   0%|          | 0/7544 [00:00<?, ?it/s]"
      ]
     },
     "metadata": {},
     "output_type": "display_data"
    },
    {
     "name": "stdout",
     "output_type": "stream",
     "text": [
      "288 of 1000, minimal objective function=1.06931, time remaining: 00:02:08\n"
     ]
    },
    {
     "data": {
      "application/vnd.jupyter.widget-view+json": {
       "model_id": "37ec7638ee164a68acfaf217174adbf0",
       "version_major": 2,
       "version_minor": 0
      },
      "text/plain": [
       "timesteps:   0%|          | 0/7544 [00:00<?, ?it/s]"
      ]
     },
     "metadata": {},
     "output_type": "display_data"
    },
    {
     "data": {
      "application/vnd.jupyter.widget-view+json": {
       "model_id": "d45b5259aede46b2a26ed9503cc6ae2f",
       "version_major": 2,
       "version_minor": 0
      },
      "text/plain": [
       "timesteps:   0%|          | 0/7544 [00:00<?, ?it/s]"
      ]
     },
     "metadata": {},
     "output_type": "display_data"
    },
    {
     "data": {
      "application/vnd.jupyter.widget-view+json": {
       "model_id": "efe1ece580104faead59d1a33ba2c06e",
       "version_major": 2,
       "version_minor": 0
      },
      "text/plain": [
       "timesteps:   0%|          | 0/7544 [00:00<?, ?it/s]"
      ]
     },
     "metadata": {},
     "output_type": "display_data"
    },
    {
     "data": {
      "application/vnd.jupyter.widget-view+json": {
       "model_id": "bb98299a18714580b766ee0dee0b4d8b",
       "version_major": 2,
       "version_minor": 0
      },
      "text/plain": [
       "timesteps:   0%|          | 0/7544 [00:00<?, ?it/s]"
      ]
     },
     "metadata": {},
     "output_type": "display_data"
    },
    {
     "data": {
      "application/vnd.jupyter.widget-view+json": {
       "model_id": "d3fcb0b3a0af40dfa3b9df7303f80f37",
       "version_major": 2,
       "version_minor": 0
      },
      "text/plain": [
       "timesteps:   0%|          | 0/7544 [00:00<?, ?it/s]"
      ]
     },
     "metadata": {},
     "output_type": "display_data"
    },
    {
     "data": {
      "application/vnd.jupyter.widget-view+json": {
       "model_id": "787e85ae61da496b8d67725dc0cad082",
       "version_major": 2,
       "version_minor": 0
      },
      "text/plain": [
       "timesteps:   0%|          | 0/7544 [00:00<?, ?it/s]"
      ]
     },
     "metadata": {},
     "output_type": "display_data"
    },
    {
     "data": {
      "application/vnd.jupyter.widget-view+json": {
       "model_id": "6225ef790b2e4de9a7137defcbc18516",
       "version_major": 2,
       "version_minor": 0
      },
      "text/plain": [
       "timesteps:   0%|          | 0/7544 [00:00<?, ?it/s]"
      ]
     },
     "metadata": {},
     "output_type": "display_data"
    },
    {
     "data": {
      "application/vnd.jupyter.widget-view+json": {
       "model_id": "22a369e111ff44c8b6dfe0bf0df21c8a",
       "version_major": 2,
       "version_minor": 0
      },
      "text/plain": [
       "timesteps:   0%|          | 0/7544 [00:00<?, ?it/s]"
      ]
     },
     "metadata": {},
     "output_type": "display_data"
    },
    {
     "data": {
      "application/vnd.jupyter.widget-view+json": {
       "model_id": "0da82300a2ea437284567752d221eaba",
       "version_major": 2,
       "version_minor": 0
      },
      "text/plain": [
       "timesteps:   0%|          | 0/7544 [00:00<?, ?it/s]"
      ]
     },
     "metadata": {},
     "output_type": "display_data"
    },
    {
     "data": {
      "application/vnd.jupyter.widget-view+json": {
       "model_id": "24f93be9f266479bb91c6c2bf4d7f455",
       "version_major": 2,
       "version_minor": 0
      },
      "text/plain": [
       "timesteps:   0%|          | 0/7544 [00:00<?, ?it/s]"
      ]
     },
     "metadata": {},
     "output_type": "display_data"
    },
    {
     "data": {
      "application/vnd.jupyter.widget-view+json": {
       "model_id": "25192af2fd3e4638bb325c1ed2389b24",
       "version_major": 2,
       "version_minor": 0
      },
      "text/plain": [
       "timesteps:   0%|          | 0/7544 [00:00<?, ?it/s]"
      ]
     },
     "metadata": {},
     "output_type": "display_data"
    },
    {
     "data": {
      "application/vnd.jupyter.widget-view+json": {
       "model_id": "010b733921f242f3824becd56eebf247",
       "version_major": 2,
       "version_minor": 0
      },
      "text/plain": [
       "timesteps:   0%|          | 0/7544 [00:00<?, ?it/s]"
      ]
     },
     "metadata": {},
     "output_type": "display_data"
    },
    {
     "data": {
      "application/vnd.jupyter.widget-view+json": {
       "model_id": "218512042adc4c41a4ea4a29c2734235",
       "version_major": 2,
       "version_minor": 0
      },
      "text/plain": [
       "timesteps:   0%|          | 0/7544 [00:00<?, ?it/s]"
      ]
     },
     "metadata": {},
     "output_type": "display_data"
    },
    {
     "data": {
      "application/vnd.jupyter.widget-view+json": {
       "model_id": "c42db0d5fec34c83b0f4bf71e19ffe01",
       "version_major": 2,
       "version_minor": 0
      },
      "text/plain": [
       "timesteps:   0%|          | 0/7544 [00:00<?, ?it/s]"
      ]
     },
     "metadata": {},
     "output_type": "display_data"
    },
    {
     "data": {
      "application/vnd.jupyter.widget-view+json": {
       "model_id": "5622339c27ab40db827ab5e6e5d89e29",
       "version_major": 2,
       "version_minor": 0
      },
      "text/plain": [
       "timesteps:   0%|          | 0/7544 [00:00<?, ?it/s]"
      ]
     },
     "metadata": {},
     "output_type": "display_data"
    },
    {
     "data": {
      "application/vnd.jupyter.widget-view+json": {
       "model_id": "a0fd0b571e954a05b80fc329ce8684bb",
       "version_major": 2,
       "version_minor": 0
      },
      "text/plain": [
       "timesteps:   0%|          | 0/7544 [00:00<?, ?it/s]"
      ]
     },
     "metadata": {},
     "output_type": "display_data"
    },
    {
     "data": {
      "application/vnd.jupyter.widget-view+json": {
       "model_id": "2c14cb9c1bb64ac1aa5d15bd899c88f1",
       "version_major": 2,
       "version_minor": 0
      },
      "text/plain": [
       "timesteps:   0%|          | 0/7544 [00:00<?, ?it/s]"
      ]
     },
     "metadata": {},
     "output_type": "display_data"
    },
    {
     "data": {
      "application/vnd.jupyter.widget-view+json": {
       "model_id": "3465b20cec8b4d56a566f8017d4e702b",
       "version_major": 2,
       "version_minor": 0
      },
      "text/plain": [
       "timesteps:   0%|          | 0/7544 [00:00<?, ?it/s]"
      ]
     },
     "metadata": {},
     "output_type": "display_data"
    },
    {
     "name": "stdout",
     "output_type": "stream",
     "text": [
      "317 of 1000, minimal objective function=1.06931, time remaining: 00:02:02\n"
     ]
    },
    {
     "data": {
      "application/vnd.jupyter.widget-view+json": {
       "model_id": "2387914279304117b4fd867ec47afaee",
       "version_major": 2,
       "version_minor": 0
      },
      "text/plain": [
       "timesteps:   0%|          | 0/7544 [00:00<?, ?it/s]"
      ]
     },
     "metadata": {},
     "output_type": "display_data"
    },
    {
     "data": {
      "application/vnd.jupyter.widget-view+json": {
       "model_id": "0e03169e51f94711a2621a0928fd542f",
       "version_major": 2,
       "version_minor": 0
      },
      "text/plain": [
       "timesteps:   0%|          | 0/7544 [00:00<?, ?it/s]"
      ]
     },
     "metadata": {},
     "output_type": "display_data"
    },
    {
     "data": {
      "application/vnd.jupyter.widget-view+json": {
       "model_id": "5d5fa2f927794ac4bd3ede03a1730663",
       "version_major": 2,
       "version_minor": 0
      },
      "text/plain": [
       "timesteps:   0%|          | 0/7544 [00:00<?, ?it/s]"
      ]
     },
     "metadata": {},
     "output_type": "display_data"
    },
    {
     "data": {
      "application/vnd.jupyter.widget-view+json": {
       "model_id": "0b85a0a7b6d44154834ee151b45673f2",
       "version_major": 2,
       "version_minor": 0
      },
      "text/plain": [
       "timesteps:   0%|          | 0/7544 [00:00<?, ?it/s]"
      ]
     },
     "metadata": {},
     "output_type": "display_data"
    },
    {
     "data": {
      "application/vnd.jupyter.widget-view+json": {
       "model_id": "285854f2321d4e639c46cabf146084e1",
       "version_major": 2,
       "version_minor": 0
      },
      "text/plain": [
       "timesteps:   0%|          | 0/7544 [00:00<?, ?it/s]"
      ]
     },
     "metadata": {},
     "output_type": "display_data"
    },
    {
     "data": {
      "application/vnd.jupyter.widget-view+json": {
       "model_id": "bb5d8b736afc4881a1ac6370f74b6ca7",
       "version_major": 2,
       "version_minor": 0
      },
      "text/plain": [
       "timesteps:   0%|          | 0/7544 [00:00<?, ?it/s]"
      ]
     },
     "metadata": {},
     "output_type": "display_data"
    },
    {
     "data": {
      "application/vnd.jupyter.widget-view+json": {
       "model_id": "bfb3c0a3c1894d4dbdb140d8b5304872",
       "version_major": 2,
       "version_minor": 0
      },
      "text/plain": [
       "timesteps:   0%|          | 0/7544 [00:00<?, ?it/s]"
      ]
     },
     "metadata": {},
     "output_type": "display_data"
    },
    {
     "data": {
      "application/vnd.jupyter.widget-view+json": {
       "model_id": "74b3024f7e094ae799397b78b5389508",
       "version_major": 2,
       "version_minor": 0
      },
      "text/plain": [
       "timesteps:   0%|          | 0/7544 [00:00<?, ?it/s]"
      ]
     },
     "metadata": {},
     "output_type": "display_data"
    },
    {
     "data": {
      "application/vnd.jupyter.widget-view+json": {
       "model_id": "dccbf945a29b4ff68f79746d932a6bd4",
       "version_major": 2,
       "version_minor": 0
      },
      "text/plain": [
       "timesteps:   0%|          | 0/7544 [00:00<?, ?it/s]"
      ]
     },
     "metadata": {},
     "output_type": "display_data"
    },
    {
     "data": {
      "application/vnd.jupyter.widget-view+json": {
       "model_id": "0462862681fc4e26a9b52fb6562f42c3",
       "version_major": 2,
       "version_minor": 0
      },
      "text/plain": [
       "timesteps:   0%|          | 0/7544 [00:00<?, ?it/s]"
      ]
     },
     "metadata": {},
     "output_type": "display_data"
    },
    {
     "data": {
      "application/vnd.jupyter.widget-view+json": {
       "model_id": "669fb7e89a2c4e408d92198be66f4a9a",
       "version_major": 2,
       "version_minor": 0
      },
      "text/plain": [
       "timesteps:   0%|          | 0/7544 [00:00<?, ?it/s]"
      ]
     },
     "metadata": {},
     "output_type": "display_data"
    },
    {
     "data": {
      "application/vnd.jupyter.widget-view+json": {
       "model_id": "74e4ca106bda40efa337a64b1f5b3a9d",
       "version_major": 2,
       "version_minor": 0
      },
      "text/plain": [
       "timesteps:   0%|          | 0/7544 [00:00<?, ?it/s]"
      ]
     },
     "metadata": {},
     "output_type": "display_data"
    },
    {
     "data": {
      "application/vnd.jupyter.widget-view+json": {
       "model_id": "2887e4d302c84b85bca94fb17808a2e2",
       "version_major": 2,
       "version_minor": 0
      },
      "text/plain": [
       "timesteps:   0%|          | 0/7544 [00:00<?, ?it/s]"
      ]
     },
     "metadata": {},
     "output_type": "display_data"
    },
    {
     "data": {
      "application/vnd.jupyter.widget-view+json": {
       "model_id": "2919ec2374e74c5e869aa9c1009f14f1",
       "version_major": 2,
       "version_minor": 0
      },
      "text/plain": [
       "timesteps:   0%|          | 0/7544 [00:00<?, ?it/s]"
      ]
     },
     "metadata": {},
     "output_type": "display_data"
    },
    {
     "data": {
      "application/vnd.jupyter.widget-view+json": {
       "model_id": "1f61a763d218425398672e8964452a7f",
       "version_major": 2,
       "version_minor": 0
      },
      "text/plain": [
       "timesteps:   0%|          | 0/7544 [00:00<?, ?it/s]"
      ]
     },
     "metadata": {},
     "output_type": "display_data"
    },
    {
     "data": {
      "application/vnd.jupyter.widget-view+json": {
       "model_id": "b416d83f724f490a808db0856f841aa8",
       "version_major": 2,
       "version_minor": 0
      },
      "text/plain": [
       "timesteps:   0%|          | 0/7544 [00:00<?, ?it/s]"
      ]
     },
     "metadata": {},
     "output_type": "display_data"
    },
    {
     "data": {
      "application/vnd.jupyter.widget-view+json": {
       "model_id": "123114fc84b1405a8cd9bdca92617e30",
       "version_major": 2,
       "version_minor": 0
      },
      "text/plain": [
       "timesteps:   0%|          | 0/7544 [00:00<?, ?it/s]"
      ]
     },
     "metadata": {},
     "output_type": "display_data"
    },
    {
     "data": {
      "application/vnd.jupyter.widget-view+json": {
       "model_id": "2bfbb2ae5d7b4232b8adda8bdec5de42",
       "version_major": 2,
       "version_minor": 0
      },
      "text/plain": [
       "timesteps:   0%|          | 0/7544 [00:00<?, ?it/s]"
      ]
     },
     "metadata": {},
     "output_type": "display_data"
    },
    {
     "data": {
      "application/vnd.jupyter.widget-view+json": {
       "model_id": "07b5280bc3c444b9bc77845566e0a879",
       "version_major": 2,
       "version_minor": 0
      },
      "text/plain": [
       "timesteps:   0%|          | 0/7544 [00:00<?, ?it/s]"
      ]
     },
     "metadata": {},
     "output_type": "display_data"
    },
    {
     "data": {
      "application/vnd.jupyter.widget-view+json": {
       "model_id": "57be982212c649e08308f75b5a161995",
       "version_major": 2,
       "version_minor": 0
      },
      "text/plain": [
       "timesteps:   0%|          | 0/7544 [00:00<?, ?it/s]"
      ]
     },
     "metadata": {},
     "output_type": "display_data"
    },
    {
     "name": "stdout",
     "output_type": "stream",
     "text": [
      "348 of 1000, minimal objective function=1.06931, time remaining: 00:01:56\n"
     ]
    },
    {
     "data": {
      "application/vnd.jupyter.widget-view+json": {
       "model_id": "30fc09c44bea4f938cfde76e1c656d95",
       "version_major": 2,
       "version_minor": 0
      },
      "text/plain": [
       "timesteps:   0%|          | 0/7544 [00:00<?, ?it/s]"
      ]
     },
     "metadata": {},
     "output_type": "display_data"
    },
    {
     "data": {
      "application/vnd.jupyter.widget-view+json": {
       "model_id": "b27e8c0c52924479b647d72aaf681311",
       "version_major": 2,
       "version_minor": 0
      },
      "text/plain": [
       "timesteps:   0%|          | 0/7544 [00:00<?, ?it/s]"
      ]
     },
     "metadata": {},
     "output_type": "display_data"
    },
    {
     "data": {
      "application/vnd.jupyter.widget-view+json": {
       "model_id": "69f5ae1ddbe7422097586193a3e2a761",
       "version_major": 2,
       "version_minor": 0
      },
      "text/plain": [
       "timesteps:   0%|          | 0/7544 [00:00<?, ?it/s]"
      ]
     },
     "metadata": {},
     "output_type": "display_data"
    },
    {
     "data": {
      "application/vnd.jupyter.widget-view+json": {
       "model_id": "0fc373fea8274823bcacc488be6fb4a8",
       "version_major": 2,
       "version_minor": 0
      },
      "text/plain": [
       "timesteps:   0%|          | 0/7544 [00:00<?, ?it/s]"
      ]
     },
     "metadata": {},
     "output_type": "display_data"
    },
    {
     "data": {
      "application/vnd.jupyter.widget-view+json": {
       "model_id": "b03cbfe3e03b42468f59094064cb27b3",
       "version_major": 2,
       "version_minor": 0
      },
      "text/plain": [
       "timesteps:   0%|          | 0/7544 [00:00<?, ?it/s]"
      ]
     },
     "metadata": {},
     "output_type": "display_data"
    },
    {
     "data": {
      "application/vnd.jupyter.widget-view+json": {
       "model_id": "04f458a4aa4f49bca52fa19b45a26ed2",
       "version_major": 2,
       "version_minor": 0
      },
      "text/plain": [
       "timesteps:   0%|          | 0/7544 [00:00<?, ?it/s]"
      ]
     },
     "metadata": {},
     "output_type": "display_data"
    },
    {
     "data": {
      "application/vnd.jupyter.widget-view+json": {
       "model_id": "bd15948774ff46018caf9362b2db4874",
       "version_major": 2,
       "version_minor": 0
      },
      "text/plain": [
       "timesteps:   0%|          | 0/7544 [00:00<?, ?it/s]"
      ]
     },
     "metadata": {},
     "output_type": "display_data"
    },
    {
     "data": {
      "application/vnd.jupyter.widget-view+json": {
       "model_id": "4764f3c93c004023b03f845f67814520",
       "version_major": 2,
       "version_minor": 0
      },
      "text/plain": [
       "timesteps:   0%|          | 0/7544 [00:00<?, ?it/s]"
      ]
     },
     "metadata": {},
     "output_type": "display_data"
    },
    {
     "data": {
      "application/vnd.jupyter.widget-view+json": {
       "model_id": "45e39a33bb694646a73ea38fbd7c49ec",
       "version_major": 2,
       "version_minor": 0
      },
      "text/plain": [
       "timesteps:   0%|          | 0/7544 [00:00<?, ?it/s]"
      ]
     },
     "metadata": {},
     "output_type": "display_data"
    },
    {
     "data": {
      "application/vnd.jupyter.widget-view+json": {
       "model_id": "4c5b2106df0144d0b50f65f819dc0212",
       "version_major": 2,
       "version_minor": 0
      },
      "text/plain": [
       "timesteps:   0%|          | 0/7544 [00:00<?, ?it/s]"
      ]
     },
     "metadata": {},
     "output_type": "display_data"
    },
    {
     "data": {
      "application/vnd.jupyter.widget-view+json": {
       "model_id": "95196d62463d4d4282cba1d70fe7ce48",
       "version_major": 2,
       "version_minor": 0
      },
      "text/plain": [
       "timesteps:   0%|          | 0/7544 [00:00<?, ?it/s]"
      ]
     },
     "metadata": {},
     "output_type": "display_data"
    },
    {
     "data": {
      "application/vnd.jupyter.widget-view+json": {
       "model_id": "b3a6024aa3a6416b864ef3241856917a",
       "version_major": 2,
       "version_minor": 0
      },
      "text/plain": [
       "timesteps:   0%|          | 0/7544 [00:00<?, ?it/s]"
      ]
     },
     "metadata": {},
     "output_type": "display_data"
    },
    {
     "data": {
      "application/vnd.jupyter.widget-view+json": {
       "model_id": "5cb9d01cf5be4191a95486f6c2ed137b",
       "version_major": 2,
       "version_minor": 0
      },
      "text/plain": [
       "timesteps:   0%|          | 0/7544 [00:00<?, ?it/s]"
      ]
     },
     "metadata": {},
     "output_type": "display_data"
    },
    {
     "data": {
      "application/vnd.jupyter.widget-view+json": {
       "model_id": "d7c35109c7324d0a85ef61c03851d70a",
       "version_major": 2,
       "version_minor": 0
      },
      "text/plain": [
       "timesteps:   0%|          | 0/7544 [00:00<?, ?it/s]"
      ]
     },
     "metadata": {},
     "output_type": "display_data"
    },
    {
     "data": {
      "application/vnd.jupyter.widget-view+json": {
       "model_id": "1cfbf6adfab741fead9af8244e5f88c1",
       "version_major": 2,
       "version_minor": 0
      },
      "text/plain": [
       "timesteps:   0%|          | 0/7544 [00:00<?, ?it/s]"
      ]
     },
     "metadata": {},
     "output_type": "display_data"
    },
    {
     "data": {
      "application/vnd.jupyter.widget-view+json": {
       "model_id": "d83ca1d554ef4b45af6f49d890345b35",
       "version_major": 2,
       "version_minor": 0
      },
      "text/plain": [
       "timesteps:   0%|          | 0/7544 [00:00<?, ?it/s]"
      ]
     },
     "metadata": {},
     "output_type": "display_data"
    },
    {
     "name": "stdout",
     "output_type": "stream",
     "text": [
      "375 of 1000, minimal objective function=1.06931, time remaining: 00:01:50\n",
      "Objective function convergence criteria is now being updated and assessed...\n",
      "Updated convergence criteria: 0.680676\n",
      "ComplexEvo loop #4 in progress...\n"
     ]
    },
    {
     "data": {
      "application/vnd.jupyter.widget-view+json": {
       "model_id": "f2ce45efe2aa436497118e05fa574b27",
       "version_major": 2,
       "version_minor": 0
      },
      "text/plain": [
       "timesteps:   0%|          | 0/7544 [00:00<?, ?it/s]"
      ]
     },
     "metadata": {},
     "output_type": "display_data"
    },
    {
     "data": {
      "application/vnd.jupyter.widget-view+json": {
       "model_id": "878e645167734a6091a035ce5c46ffe5",
       "version_major": 2,
       "version_minor": 0
      },
      "text/plain": [
       "timesteps:   0%|          | 0/7544 [00:00<?, ?it/s]"
      ]
     },
     "metadata": {},
     "output_type": "display_data"
    },
    {
     "data": {
      "application/vnd.jupyter.widget-view+json": {
       "model_id": "73cfeebcd6d242869fa1bbbe9951f54a",
       "version_major": 2,
       "version_minor": 0
      },
      "text/plain": [
       "timesteps:   0%|          | 0/7544 [00:00<?, ?it/s]"
      ]
     },
     "metadata": {},
     "output_type": "display_data"
    },
    {
     "data": {
      "application/vnd.jupyter.widget-view+json": {
       "model_id": "61b7e1a34a804ca69757db7b874fdff9",
       "version_major": 2,
       "version_minor": 0
      },
      "text/plain": [
       "timesteps:   0%|          | 0/7544 [00:00<?, ?it/s]"
      ]
     },
     "metadata": {},
     "output_type": "display_data"
    },
    {
     "data": {
      "application/vnd.jupyter.widget-view+json": {
       "model_id": "94534b0d4a464001b84a5e1afe05e5b0",
       "version_major": 2,
       "version_minor": 0
      },
      "text/plain": [
       "timesteps:   0%|          | 0/7544 [00:00<?, ?it/s]"
      ]
     },
     "metadata": {},
     "output_type": "display_data"
    },
    {
     "data": {
      "application/vnd.jupyter.widget-view+json": {
       "model_id": "44e3958cd230400ab3f58cd0f77001c4",
       "version_major": 2,
       "version_minor": 0
      },
      "text/plain": [
       "timesteps:   0%|          | 0/7544 [00:00<?, ?it/s]"
      ]
     },
     "metadata": {},
     "output_type": "display_data"
    },
    {
     "data": {
      "application/vnd.jupyter.widget-view+json": {
       "model_id": "7e38007cba234c2dbdf49415c9522df2",
       "version_major": 2,
       "version_minor": 0
      },
      "text/plain": [
       "timesteps:   0%|          | 0/7544 [00:00<?, ?it/s]"
      ]
     },
     "metadata": {},
     "output_type": "display_data"
    },
    {
     "data": {
      "application/vnd.jupyter.widget-view+json": {
       "model_id": "b0053a4505824f9199db275f07604a4b",
       "version_major": 2,
       "version_minor": 0
      },
      "text/plain": [
       "timesteps:   0%|          | 0/7544 [00:00<?, ?it/s]"
      ]
     },
     "metadata": {},
     "output_type": "display_data"
    },
    {
     "data": {
      "application/vnd.jupyter.widget-view+json": {
       "model_id": "6e629c7ce2824c2c96f10fd4e3f28e0c",
       "version_major": 2,
       "version_minor": 0
      },
      "text/plain": [
       "timesteps:   0%|          | 0/7544 [00:00<?, ?it/s]"
      ]
     },
     "metadata": {},
     "output_type": "display_data"
    },
    {
     "data": {
      "application/vnd.jupyter.widget-view+json": {
       "model_id": "0c7d4167dc184235b0205dd5dc99263a",
       "version_major": 2,
       "version_minor": 0
      },
      "text/plain": [
       "timesteps:   0%|          | 0/7544 [00:00<?, ?it/s]"
      ]
     },
     "metadata": {},
     "output_type": "display_data"
    },
    {
     "data": {
      "application/vnd.jupyter.widget-view+json": {
       "model_id": "c9894d7e709f42618242e4d58e986d9e",
       "version_major": 2,
       "version_minor": 0
      },
      "text/plain": [
       "timesteps:   0%|          | 0/7544 [00:00<?, ?it/s]"
      ]
     },
     "metadata": {},
     "output_type": "display_data"
    },
    {
     "data": {
      "application/vnd.jupyter.widget-view+json": {
       "model_id": "dc16b5db2c3a4520afeeadf58e3d0fb7",
       "version_major": 2,
       "version_minor": 0
      },
      "text/plain": [
       "timesteps:   0%|          | 0/7544 [00:00<?, ?it/s]"
      ]
     },
     "metadata": {},
     "output_type": "display_data"
    },
    {
     "data": {
      "application/vnd.jupyter.widget-view+json": {
       "model_id": "a4cf32829b0e46c48f114c92db968b3d",
       "version_major": 2,
       "version_minor": 0
      },
      "text/plain": [
       "timesteps:   0%|          | 0/7544 [00:00<?, ?it/s]"
      ]
     },
     "metadata": {},
     "output_type": "display_data"
    },
    {
     "data": {
      "application/vnd.jupyter.widget-view+json": {
       "model_id": "2d6a8cba9528442c8c6f406464c08350",
       "version_major": 2,
       "version_minor": 0
      },
      "text/plain": [
       "timesteps:   0%|          | 0/7544 [00:00<?, ?it/s]"
      ]
     },
     "metadata": {},
     "output_type": "display_data"
    },
    {
     "data": {
      "application/vnd.jupyter.widget-view+json": {
       "model_id": "490da58b095b40edb4546382c5b085fa",
       "version_major": 2,
       "version_minor": 0
      },
      "text/plain": [
       "timesteps:   0%|          | 0/7544 [00:00<?, ?it/s]"
      ]
     },
     "metadata": {},
     "output_type": "display_data"
    },
    {
     "data": {
      "application/vnd.jupyter.widget-view+json": {
       "model_id": "112f74ac8a4949ad852348767cdc0fda",
       "version_major": 2,
       "version_minor": 0
      },
      "text/plain": [
       "timesteps:   0%|          | 0/7544 [00:00<?, ?it/s]"
      ]
     },
     "metadata": {},
     "output_type": "display_data"
    },
    {
     "data": {
      "application/vnd.jupyter.widget-view+json": {
       "model_id": "67843f6bea4849809fe868b3e3e905fa",
       "version_major": 2,
       "version_minor": 0
      },
      "text/plain": [
       "timesteps:   0%|          | 0/7544 [00:00<?, ?it/s]"
      ]
     },
     "metadata": {},
     "output_type": "display_data"
    },
    {
     "data": {
      "application/vnd.jupyter.widget-view+json": {
       "model_id": "22030f85dc644c9f9f841bc1082de874",
       "version_major": 2,
       "version_minor": 0
      },
      "text/plain": [
       "timesteps:   0%|          | 0/7544 [00:00<?, ?it/s]"
      ]
     },
     "metadata": {},
     "output_type": "display_data"
    },
    {
     "data": {
      "application/vnd.jupyter.widget-view+json": {
       "model_id": "d3c0384635ef4c3ba83ff5b1c0a846e9",
       "version_major": 2,
       "version_minor": 0
      },
      "text/plain": [
       "timesteps:   0%|          | 0/7544 [00:00<?, ?it/s]"
      ]
     },
     "metadata": {},
     "output_type": "display_data"
    },
    {
     "name": "stdout",
     "output_type": "stream",
     "text": [
      "405 of 1000, minimal objective function=1.06931, time remaining: 00:01:44\n"
     ]
    },
    {
     "data": {
      "application/vnd.jupyter.widget-view+json": {
       "model_id": "6b9502077f5242768ce8afefcd3ff38b",
       "version_major": 2,
       "version_minor": 0
      },
      "text/plain": [
       "timesteps:   0%|          | 0/7544 [00:00<?, ?it/s]"
      ]
     },
     "metadata": {},
     "output_type": "display_data"
    },
    {
     "data": {
      "application/vnd.jupyter.widget-view+json": {
       "model_id": "441a6ce83e934b9f8997007225e35907",
       "version_major": 2,
       "version_minor": 0
      },
      "text/plain": [
       "timesteps:   0%|          | 0/7544 [00:00<?, ?it/s]"
      ]
     },
     "metadata": {},
     "output_type": "display_data"
    },
    {
     "data": {
      "application/vnd.jupyter.widget-view+json": {
       "model_id": "fc1ff9d9479a48828480d7e3e62e2325",
       "version_major": 2,
       "version_minor": 0
      },
      "text/plain": [
       "timesteps:   0%|          | 0/7544 [00:00<?, ?it/s]"
      ]
     },
     "metadata": {},
     "output_type": "display_data"
    },
    {
     "data": {
      "application/vnd.jupyter.widget-view+json": {
       "model_id": "968def5b9be245f7b58345eda5f9891d",
       "version_major": 2,
       "version_minor": 0
      },
      "text/plain": [
       "timesteps:   0%|          | 0/7544 [00:00<?, ?it/s]"
      ]
     },
     "metadata": {},
     "output_type": "display_data"
    },
    {
     "data": {
      "application/vnd.jupyter.widget-view+json": {
       "model_id": "9002694c47be439ab3353d2da8fbdcb9",
       "version_major": 2,
       "version_minor": 0
      },
      "text/plain": [
       "timesteps:   0%|          | 0/7544 [00:00<?, ?it/s]"
      ]
     },
     "metadata": {},
     "output_type": "display_data"
    },
    {
     "data": {
      "application/vnd.jupyter.widget-view+json": {
       "model_id": "b0dfb49fddab41539ddbbff27fe340ef",
       "version_major": 2,
       "version_minor": 0
      },
      "text/plain": [
       "timesteps:   0%|          | 0/7544 [00:00<?, ?it/s]"
      ]
     },
     "metadata": {},
     "output_type": "display_data"
    },
    {
     "data": {
      "application/vnd.jupyter.widget-view+json": {
       "model_id": "4ae955ee8eaf4cf0ad697a050a1ae13d",
       "version_major": 2,
       "version_minor": 0
      },
      "text/plain": [
       "timesteps:   0%|          | 0/7544 [00:00<?, ?it/s]"
      ]
     },
     "metadata": {},
     "output_type": "display_data"
    },
    {
     "data": {
      "application/vnd.jupyter.widget-view+json": {
       "model_id": "e5db4bcd9567423397a1dccfed5eaa2d",
       "version_major": 2,
       "version_minor": 0
      },
      "text/plain": [
       "timesteps:   0%|          | 0/7544 [00:00<?, ?it/s]"
      ]
     },
     "metadata": {},
     "output_type": "display_data"
    },
    {
     "data": {
      "application/vnd.jupyter.widget-view+json": {
       "model_id": "0f9b115662ea48a6a25f5288839fd69f",
       "version_major": 2,
       "version_minor": 0
      },
      "text/plain": [
       "timesteps:   0%|          | 0/7544 [00:00<?, ?it/s]"
      ]
     },
     "metadata": {},
     "output_type": "display_data"
    },
    {
     "data": {
      "application/vnd.jupyter.widget-view+json": {
       "model_id": "8de35cfe61ff4b639540b0f58dcd1e7f",
       "version_major": 2,
       "version_minor": 0
      },
      "text/plain": [
       "timesteps:   0%|          | 0/7544 [00:00<?, ?it/s]"
      ]
     },
     "metadata": {},
     "output_type": "display_data"
    },
    {
     "data": {
      "application/vnd.jupyter.widget-view+json": {
       "model_id": "3b0e1ae505054194b3accb6787ecc58e",
       "version_major": 2,
       "version_minor": 0
      },
      "text/plain": [
       "timesteps:   0%|          | 0/7544 [00:00<?, ?it/s]"
      ]
     },
     "metadata": {},
     "output_type": "display_data"
    },
    {
     "data": {
      "application/vnd.jupyter.widget-view+json": {
       "model_id": "82ea3494119c48248acfb325c9e75420",
       "version_major": 2,
       "version_minor": 0
      },
      "text/plain": [
       "timesteps:   0%|          | 0/7544 [00:00<?, ?it/s]"
      ]
     },
     "metadata": {},
     "output_type": "display_data"
    },
    {
     "data": {
      "application/vnd.jupyter.widget-view+json": {
       "model_id": "077822d794e14d28adde74f6b4234a76",
       "version_major": 2,
       "version_minor": 0
      },
      "text/plain": [
       "timesteps:   0%|          | 0/7544 [00:00<?, ?it/s]"
      ]
     },
     "metadata": {},
     "output_type": "display_data"
    },
    {
     "data": {
      "application/vnd.jupyter.widget-view+json": {
       "model_id": "7b854b928a104ede96254b038173e6b7",
       "version_major": 2,
       "version_minor": 0
      },
      "text/plain": [
       "timesteps:   0%|          | 0/7544 [00:00<?, ?it/s]"
      ]
     },
     "metadata": {},
     "output_type": "display_data"
    },
    {
     "data": {
      "application/vnd.jupyter.widget-view+json": {
       "model_id": "67049d187e894646a118d314c0a6f60d",
       "version_major": 2,
       "version_minor": 0
      },
      "text/plain": [
       "timesteps:   0%|          | 0/7544 [00:00<?, ?it/s]"
      ]
     },
     "metadata": {},
     "output_type": "display_data"
    },
    {
     "data": {
      "application/vnd.jupyter.widget-view+json": {
       "model_id": "7bc3469e15424d0d924c09b3dbe5d5b6",
       "version_major": 2,
       "version_minor": 0
      },
      "text/plain": [
       "timesteps:   0%|          | 0/7544 [00:00<?, ?it/s]"
      ]
     },
     "metadata": {},
     "output_type": "display_data"
    },
    {
     "data": {
      "application/vnd.jupyter.widget-view+json": {
       "model_id": "be90de5157ad43e59a07fbac63b0d3b8",
       "version_major": 2,
       "version_minor": 0
      },
      "text/plain": [
       "timesteps:   0%|          | 0/7544 [00:00<?, ?it/s]"
      ]
     },
     "metadata": {},
     "output_type": "display_data"
    },
    {
     "data": {
      "application/vnd.jupyter.widget-view+json": {
       "model_id": "32cef4518c2e4b91a03c71929d56b861",
       "version_major": 2,
       "version_minor": 0
      },
      "text/plain": [
       "timesteps:   0%|          | 0/7544 [00:00<?, ?it/s]"
      ]
     },
     "metadata": {},
     "output_type": "display_data"
    },
    {
     "data": {
      "application/vnd.jupyter.widget-view+json": {
       "model_id": "2de485ec163c448a93381b5154336138",
       "version_major": 2,
       "version_minor": 0
      },
      "text/plain": [
       "timesteps:   0%|          | 0/7544 [00:00<?, ?it/s]"
      ]
     },
     "metadata": {},
     "output_type": "display_data"
    },
    {
     "name": "stdout",
     "output_type": "stream",
     "text": [
      "435 of 1000, minimal objective function=1.04678, time remaining: 00:01:38\n"
     ]
    },
    {
     "data": {
      "application/vnd.jupyter.widget-view+json": {
       "model_id": "5dbca906efda492ab540f6e8308da15a",
       "version_major": 2,
       "version_minor": 0
      },
      "text/plain": [
       "timesteps:   0%|          | 0/7544 [00:00<?, ?it/s]"
      ]
     },
     "metadata": {},
     "output_type": "display_data"
    },
    {
     "data": {
      "application/vnd.jupyter.widget-view+json": {
       "model_id": "19cb8480421649f1b15f32624f194fda",
       "version_major": 2,
       "version_minor": 0
      },
      "text/plain": [
       "timesteps:   0%|          | 0/7544 [00:00<?, ?it/s]"
      ]
     },
     "metadata": {},
     "output_type": "display_data"
    },
    {
     "data": {
      "application/vnd.jupyter.widget-view+json": {
       "model_id": "69cf46a99aca407f848ae69c494637a2",
       "version_major": 2,
       "version_minor": 0
      },
      "text/plain": [
       "timesteps:   0%|          | 0/7544 [00:00<?, ?it/s]"
      ]
     },
     "metadata": {},
     "output_type": "display_data"
    },
    {
     "data": {
      "application/vnd.jupyter.widget-view+json": {
       "model_id": "c43527bd09e84823ac993cef7b76fbe1",
       "version_major": 2,
       "version_minor": 0
      },
      "text/plain": [
       "timesteps:   0%|          | 0/7544 [00:00<?, ?it/s]"
      ]
     },
     "metadata": {},
     "output_type": "display_data"
    },
    {
     "data": {
      "application/vnd.jupyter.widget-view+json": {
       "model_id": "98eba71d87794d80880ae29b3d204d21",
       "version_major": 2,
       "version_minor": 0
      },
      "text/plain": [
       "timesteps:   0%|          | 0/7544 [00:00<?, ?it/s]"
      ]
     },
     "metadata": {},
     "output_type": "display_data"
    },
    {
     "data": {
      "application/vnd.jupyter.widget-view+json": {
       "model_id": "0c8454f30ef5449bb59cd1d771cadff3",
       "version_major": 2,
       "version_minor": 0
      },
      "text/plain": [
       "timesteps:   0%|          | 0/7544 [00:00<?, ?it/s]"
      ]
     },
     "metadata": {},
     "output_type": "display_data"
    },
    {
     "data": {
      "application/vnd.jupyter.widget-view+json": {
       "model_id": "ab666763e33d467395b78f35b9971cff",
       "version_major": 2,
       "version_minor": 0
      },
      "text/plain": [
       "timesteps:   0%|          | 0/7544 [00:00<?, ?it/s]"
      ]
     },
     "metadata": {},
     "output_type": "display_data"
    },
    {
     "data": {
      "application/vnd.jupyter.widget-view+json": {
       "model_id": "dac0ab547eb048d4ac600181c9f01b7b",
       "version_major": 2,
       "version_minor": 0
      },
      "text/plain": [
       "timesteps:   0%|          | 0/7544 [00:00<?, ?it/s]"
      ]
     },
     "metadata": {},
     "output_type": "display_data"
    },
    {
     "data": {
      "application/vnd.jupyter.widget-view+json": {
       "model_id": "2caf4219a92a4cfdbcec1cd43b8f757d",
       "version_major": 2,
       "version_minor": 0
      },
      "text/plain": [
       "timesteps:   0%|          | 0/7544 [00:00<?, ?it/s]"
      ]
     },
     "metadata": {},
     "output_type": "display_data"
    },
    {
     "data": {
      "application/vnd.jupyter.widget-view+json": {
       "model_id": "e1e40206b7b246c986093a5888e56ad6",
       "version_major": 2,
       "version_minor": 0
      },
      "text/plain": [
       "timesteps:   0%|          | 0/7544 [00:00<?, ?it/s]"
      ]
     },
     "metadata": {},
     "output_type": "display_data"
    },
    {
     "data": {
      "application/vnd.jupyter.widget-view+json": {
       "model_id": "6497a7ed81534521be760d1ee22d35ea",
       "version_major": 2,
       "version_minor": 0
      },
      "text/plain": [
       "timesteps:   0%|          | 0/7544 [00:00<?, ?it/s]"
      ]
     },
     "metadata": {},
     "output_type": "display_data"
    },
    {
     "data": {
      "application/vnd.jupyter.widget-view+json": {
       "model_id": "865fcded7e6b4de9a2dc0b24e7315178",
       "version_major": 2,
       "version_minor": 0
      },
      "text/plain": [
       "timesteps:   0%|          | 0/7544 [00:00<?, ?it/s]"
      ]
     },
     "metadata": {},
     "output_type": "display_data"
    },
    {
     "data": {
      "application/vnd.jupyter.widget-view+json": {
       "model_id": "751bc3576c63449581510de2fc6d4af2",
       "version_major": 2,
       "version_minor": 0
      },
      "text/plain": [
       "timesteps:   0%|          | 0/7544 [00:00<?, ?it/s]"
      ]
     },
     "metadata": {},
     "output_type": "display_data"
    },
    {
     "data": {
      "application/vnd.jupyter.widget-view+json": {
       "model_id": "492ab664dd66448a804544d8e103afe1",
       "version_major": 2,
       "version_minor": 0
      },
      "text/plain": [
       "timesteps:   0%|          | 0/7544 [00:00<?, ?it/s]"
      ]
     },
     "metadata": {},
     "output_type": "display_data"
    },
    {
     "data": {
      "application/vnd.jupyter.widget-view+json": {
       "model_id": "aa0201b41b954b07a41bb8635c3cdcf8",
       "version_major": 2,
       "version_minor": 0
      },
      "text/plain": [
       "timesteps:   0%|          | 0/7544 [00:00<?, ?it/s]"
      ]
     },
     "metadata": {},
     "output_type": "display_data"
    },
    {
     "data": {
      "application/vnd.jupyter.widget-view+json": {
       "model_id": "d4b05f775cc146f48c95edb3c73e0e75",
       "version_major": 2,
       "version_minor": 0
      },
      "text/plain": [
       "timesteps:   0%|          | 0/7544 [00:00<?, ?it/s]"
      ]
     },
     "metadata": {},
     "output_type": "display_data"
    },
    {
     "data": {
      "application/vnd.jupyter.widget-view+json": {
       "model_id": "cfa16a6f11244b64b1bccd357c849931",
       "version_major": 2,
       "version_minor": 0
      },
      "text/plain": [
       "timesteps:   0%|          | 0/7544 [00:00<?, ?it/s]"
      ]
     },
     "metadata": {},
     "output_type": "display_data"
    },
    {
     "data": {
      "application/vnd.jupyter.widget-view+json": {
       "model_id": "3c8644d286d0494095cff6f436d597f1",
       "version_major": 2,
       "version_minor": 0
      },
      "text/plain": [
       "timesteps:   0%|          | 0/7544 [00:00<?, ?it/s]"
      ]
     },
     "metadata": {},
     "output_type": "display_data"
    },
    {
     "data": {
      "application/vnd.jupyter.widget-view+json": {
       "model_id": "e09a3cfe2ee14aea9b5632362a948d45",
       "version_major": 2,
       "version_minor": 0
      },
      "text/plain": [
       "timesteps:   0%|          | 0/7544 [00:00<?, ?it/s]"
      ]
     },
     "metadata": {},
     "output_type": "display_data"
    },
    {
     "data": {
      "application/vnd.jupyter.widget-view+json": {
       "model_id": "f161f961d0c54212b885a7fc1deb495a",
       "version_major": 2,
       "version_minor": 0
      },
      "text/plain": [
       "timesteps:   0%|          | 0/7544 [00:00<?, ?it/s]"
      ]
     },
     "metadata": {},
     "output_type": "display_data"
    },
    {
     "name": "stdout",
     "output_type": "stream",
     "text": [
      "466 of 1000, minimal objective function=1.04678, time remaining: 00:01:33\n"
     ]
    },
    {
     "data": {
      "application/vnd.jupyter.widget-view+json": {
       "model_id": "2d233c5dd1ab42078635343f10cb3759",
       "version_major": 2,
       "version_minor": 0
      },
      "text/plain": [
       "timesteps:   0%|          | 0/7544 [00:00<?, ?it/s]"
      ]
     },
     "metadata": {},
     "output_type": "display_data"
    },
    {
     "data": {
      "application/vnd.jupyter.widget-view+json": {
       "model_id": "c055eaa865b14985b84b77387da9e5d5",
       "version_major": 2,
       "version_minor": 0
      },
      "text/plain": [
       "timesteps:   0%|          | 0/7544 [00:00<?, ?it/s]"
      ]
     },
     "metadata": {},
     "output_type": "display_data"
    },
    {
     "data": {
      "application/vnd.jupyter.widget-view+json": {
       "model_id": "44600d9c943a4496af52be1891717c4f",
       "version_major": 2,
       "version_minor": 0
      },
      "text/plain": [
       "timesteps:   0%|          | 0/7544 [00:00<?, ?it/s]"
      ]
     },
     "metadata": {},
     "output_type": "display_data"
    },
    {
     "data": {
      "application/vnd.jupyter.widget-view+json": {
       "model_id": "da8820510bc44d03908e6dec4fc195c2",
       "version_major": 2,
       "version_minor": 0
      },
      "text/plain": [
       "timesteps:   0%|          | 0/7544 [00:00<?, ?it/s]"
      ]
     },
     "metadata": {},
     "output_type": "display_data"
    },
    {
     "data": {
      "application/vnd.jupyter.widget-view+json": {
       "model_id": "b4d00130e7194e21bc5a6b62b26662a3",
       "version_major": 2,
       "version_minor": 0
      },
      "text/plain": [
       "timesteps:   0%|          | 0/7544 [00:00<?, ?it/s]"
      ]
     },
     "metadata": {},
     "output_type": "display_data"
    },
    {
     "data": {
      "application/vnd.jupyter.widget-view+json": {
       "model_id": "c0b1f89b1733401ba772152bcb80c03c",
       "version_major": 2,
       "version_minor": 0
      },
      "text/plain": [
       "timesteps:   0%|          | 0/7544 [00:00<?, ?it/s]"
      ]
     },
     "metadata": {},
     "output_type": "display_data"
    },
    {
     "data": {
      "application/vnd.jupyter.widget-view+json": {
       "model_id": "7e21d2f52f8a4c7784749ad1a139fd71",
       "version_major": 2,
       "version_minor": 0
      },
      "text/plain": [
       "timesteps:   0%|          | 0/7544 [00:00<?, ?it/s]"
      ]
     },
     "metadata": {},
     "output_type": "display_data"
    },
    {
     "data": {
      "application/vnd.jupyter.widget-view+json": {
       "model_id": "08835e36b58a4ab3bdb36cfdaa600e3e",
       "version_major": 2,
       "version_minor": 0
      },
      "text/plain": [
       "timesteps:   0%|          | 0/7544 [00:00<?, ?it/s]"
      ]
     },
     "metadata": {},
     "output_type": "display_data"
    },
    {
     "data": {
      "application/vnd.jupyter.widget-view+json": {
       "model_id": "b5e153b6197a47f7b23ab04f7e85c089",
       "version_major": 2,
       "version_minor": 0
      },
      "text/plain": [
       "timesteps:   0%|          | 0/7544 [00:00<?, ?it/s]"
      ]
     },
     "metadata": {},
     "output_type": "display_data"
    },
    {
     "data": {
      "application/vnd.jupyter.widget-view+json": {
       "model_id": "984a1d171320490ab53b510711103850",
       "version_major": 2,
       "version_minor": 0
      },
      "text/plain": [
       "timesteps:   0%|          | 0/7544 [00:00<?, ?it/s]"
      ]
     },
     "metadata": {},
     "output_type": "display_data"
    },
    {
     "data": {
      "application/vnd.jupyter.widget-view+json": {
       "model_id": "97bbbe5fc834493391e99694cd98f979",
       "version_major": 2,
       "version_minor": 0
      },
      "text/plain": [
       "timesteps:   0%|          | 0/7544 [00:00<?, ?it/s]"
      ]
     },
     "metadata": {},
     "output_type": "display_data"
    },
    {
     "data": {
      "application/vnd.jupyter.widget-view+json": {
       "model_id": "c3e7c2554e784bbfbb27e13a79f7fe78",
       "version_major": 2,
       "version_minor": 0
      },
      "text/plain": [
       "timesteps:   0%|          | 0/7544 [00:00<?, ?it/s]"
      ]
     },
     "metadata": {},
     "output_type": "display_data"
    },
    {
     "data": {
      "application/vnd.jupyter.widget-view+json": {
       "model_id": "e19145a1f34b4677950a9e199091c12b",
       "version_major": 2,
       "version_minor": 0
      },
      "text/plain": [
       "timesteps:   0%|          | 0/7544 [00:00<?, ?it/s]"
      ]
     },
     "metadata": {},
     "output_type": "display_data"
    },
    {
     "data": {
      "application/vnd.jupyter.widget-view+json": {
       "model_id": "a65e730093da4daaa6367c40d1a1cfaa",
       "version_major": 2,
       "version_minor": 0
      },
      "text/plain": [
       "timesteps:   0%|          | 0/7544 [00:00<?, ?it/s]"
      ]
     },
     "metadata": {},
     "output_type": "display_data"
    },
    {
     "data": {
      "application/vnd.jupyter.widget-view+json": {
       "model_id": "513197ce724249738df718c28abcfa63",
       "version_major": 2,
       "version_minor": 0
      },
      "text/plain": [
       "timesteps:   0%|          | 0/7544 [00:00<?, ?it/s]"
      ]
     },
     "metadata": {},
     "output_type": "display_data"
    },
    {
     "data": {
      "application/vnd.jupyter.widget-view+json": {
       "model_id": "6e3724ea72d94426a9072e2b8b51ab26",
       "version_major": 2,
       "version_minor": 0
      },
      "text/plain": [
       "timesteps:   0%|          | 0/7544 [00:00<?, ?it/s]"
      ]
     },
     "metadata": {},
     "output_type": "display_data"
    },
    {
     "data": {
      "application/vnd.jupyter.widget-view+json": {
       "model_id": "49e2f0d2881f41fe8519dceeb185cbb2",
       "version_major": 2,
       "version_minor": 0
      },
      "text/plain": [
       "timesteps:   0%|          | 0/7544 [00:00<?, ?it/s]"
      ]
     },
     "metadata": {},
     "output_type": "display_data"
    },
    {
     "data": {
      "application/vnd.jupyter.widget-view+json": {
       "model_id": "bd3de4fca007478b96d9d0e1ff9ec65a",
       "version_major": 2,
       "version_minor": 0
      },
      "text/plain": [
       "timesteps:   0%|          | 0/7544 [00:00<?, ?it/s]"
      ]
     },
     "metadata": {},
     "output_type": "display_data"
    },
    {
     "data": {
      "application/vnd.jupyter.widget-view+json": {
       "model_id": "df0dab760ed04c79b567b0218233a9ca",
       "version_major": 2,
       "version_minor": 0
      },
      "text/plain": [
       "timesteps:   0%|          | 0/7544 [00:00<?, ?it/s]"
      ]
     },
     "metadata": {},
     "output_type": "display_data"
    },
    {
     "data": {
      "application/vnd.jupyter.widget-view+json": {
       "model_id": "f189a12b647c447fa8aded73e3fea8bc",
       "version_major": 2,
       "version_minor": 0
      },
      "text/plain": [
       "timesteps:   0%|          | 0/7544 [00:00<?, ?it/s]"
      ]
     },
     "metadata": {},
     "output_type": "display_data"
    },
    {
     "data": {
      "application/vnd.jupyter.widget-view+json": {
       "model_id": "a3139ea835254f7bb922c2079ed06a70",
       "version_major": 2,
       "version_minor": 0
      },
      "text/plain": [
       "timesteps:   0%|          | 0/7544 [00:00<?, ?it/s]"
      ]
     },
     "metadata": {},
     "output_type": "display_data"
    },
    {
     "name": "stdout",
     "output_type": "stream",
     "text": [
      "498 of 1000, minimal objective function=1.04678, time remaining: 00:01:27\n",
      "Objective function convergence criteria is now being updated and assessed...\n",
      "Updated convergence criteria: 2.121772\n",
      "ComplexEvo loop #5 in progress...\n"
     ]
    },
    {
     "data": {
      "application/vnd.jupyter.widget-view+json": {
       "model_id": "445fce61e89442a9b96cb785de25a923",
       "version_major": 2,
       "version_minor": 0
      },
      "text/plain": [
       "timesteps:   0%|          | 0/7544 [00:00<?, ?it/s]"
      ]
     },
     "metadata": {},
     "output_type": "display_data"
    },
    {
     "data": {
      "application/vnd.jupyter.widget-view+json": {
       "model_id": "610c35545e3d44a69e243bbfd48c2f47",
       "version_major": 2,
       "version_minor": 0
      },
      "text/plain": [
       "timesteps:   0%|          | 0/7544 [00:00<?, ?it/s]"
      ]
     },
     "metadata": {},
     "output_type": "display_data"
    },
    {
     "data": {
      "application/vnd.jupyter.widget-view+json": {
       "model_id": "88829895266d4f07a8678a64b789984e",
       "version_major": 2,
       "version_minor": 0
      },
      "text/plain": [
       "timesteps:   0%|          | 0/7544 [00:00<?, ?it/s]"
      ]
     },
     "metadata": {},
     "output_type": "display_data"
    },
    {
     "data": {
      "application/vnd.jupyter.widget-view+json": {
       "model_id": "af3555d8bfbc46cb8e709552ac7d3143",
       "version_major": 2,
       "version_minor": 0
      },
      "text/plain": [
       "timesteps:   0%|          | 0/7544 [00:00<?, ?it/s]"
      ]
     },
     "metadata": {},
     "output_type": "display_data"
    },
    {
     "data": {
      "application/vnd.jupyter.widget-view+json": {
       "model_id": "ace24e7ac7364bada7281cc94e41b09e",
       "version_major": 2,
       "version_minor": 0
      },
      "text/plain": [
       "timesteps:   0%|          | 0/7544 [00:00<?, ?it/s]"
      ]
     },
     "metadata": {},
     "output_type": "display_data"
    },
    {
     "data": {
      "application/vnd.jupyter.widget-view+json": {
       "model_id": "d1d0d5081f4b4fec9d62eba5ef2bba24",
       "version_major": 2,
       "version_minor": 0
      },
      "text/plain": [
       "timesteps:   0%|          | 0/7544 [00:00<?, ?it/s]"
      ]
     },
     "metadata": {},
     "output_type": "display_data"
    },
    {
     "data": {
      "application/vnd.jupyter.widget-view+json": {
       "model_id": "4289b1ae53ca483aa72479b1aa7a3dee",
       "version_major": 2,
       "version_minor": 0
      },
      "text/plain": [
       "timesteps:   0%|          | 0/7544 [00:00<?, ?it/s]"
      ]
     },
     "metadata": {},
     "output_type": "display_data"
    },
    {
     "data": {
      "application/vnd.jupyter.widget-view+json": {
       "model_id": "2067d9e6d8ba4752b299194678dc6c8e",
       "version_major": 2,
       "version_minor": 0
      },
      "text/plain": [
       "timesteps:   0%|          | 0/7544 [00:00<?, ?it/s]"
      ]
     },
     "metadata": {},
     "output_type": "display_data"
    },
    {
     "data": {
      "application/vnd.jupyter.widget-view+json": {
       "model_id": "9e811ca5152b4e649227a70af66900aa",
       "version_major": 2,
       "version_minor": 0
      },
      "text/plain": [
       "timesteps:   0%|          | 0/7544 [00:00<?, ?it/s]"
      ]
     },
     "metadata": {},
     "output_type": "display_data"
    },
    {
     "data": {
      "application/vnd.jupyter.widget-view+json": {
       "model_id": "cbb2c8ce005048b0bad9203a532a9fe2",
       "version_major": 2,
       "version_minor": 0
      },
      "text/plain": [
       "timesteps:   0%|          | 0/7544 [00:00<?, ?it/s]"
      ]
     },
     "metadata": {},
     "output_type": "display_data"
    },
    {
     "data": {
      "application/vnd.jupyter.widget-view+json": {
       "model_id": "add5b99abe33476f945c5e01ec095cd6",
       "version_major": 2,
       "version_minor": 0
      },
      "text/plain": [
       "timesteps:   0%|          | 0/7544 [00:00<?, ?it/s]"
      ]
     },
     "metadata": {},
     "output_type": "display_data"
    },
    {
     "data": {
      "application/vnd.jupyter.widget-view+json": {
       "model_id": "9557ec47e726444680eb3f19ed896aa8",
       "version_major": 2,
       "version_minor": 0
      },
      "text/plain": [
       "timesteps:   0%|          | 0/7544 [00:00<?, ?it/s]"
      ]
     },
     "metadata": {},
     "output_type": "display_data"
    },
    {
     "data": {
      "application/vnd.jupyter.widget-view+json": {
       "model_id": "9f39482beb2d44f8a8f53103c0005388",
       "version_major": 2,
       "version_minor": 0
      },
      "text/plain": [
       "timesteps:   0%|          | 0/7544 [00:00<?, ?it/s]"
      ]
     },
     "metadata": {},
     "output_type": "display_data"
    },
    {
     "data": {
      "application/vnd.jupyter.widget-view+json": {
       "model_id": "50efcba6fab9492d962423d4270e6b86",
       "version_major": 2,
       "version_minor": 0
      },
      "text/plain": [
       "timesteps:   0%|          | 0/7544 [00:00<?, ?it/s]"
      ]
     },
     "metadata": {},
     "output_type": "display_data"
    },
    {
     "data": {
      "application/vnd.jupyter.widget-view+json": {
       "model_id": "24e573c640ee49fc8274b2ef699e56d6",
       "version_major": 2,
       "version_minor": 0
      },
      "text/plain": [
       "timesteps:   0%|          | 0/7544 [00:00<?, ?it/s]"
      ]
     },
     "metadata": {},
     "output_type": "display_data"
    },
    {
     "data": {
      "application/vnd.jupyter.widget-view+json": {
       "model_id": "0ac9ada388d8443f8be67754b697ad1e",
       "version_major": 2,
       "version_minor": 0
      },
      "text/plain": [
       "timesteps:   0%|          | 0/7544 [00:00<?, ?it/s]"
      ]
     },
     "metadata": {},
     "output_type": "display_data"
    },
    {
     "data": {
      "application/vnd.jupyter.widget-view+json": {
       "model_id": "c6f4deba2cad4b5f87546eb34eb04f65",
       "version_major": 2,
       "version_minor": 0
      },
      "text/plain": [
       "timesteps:   0%|          | 0/7544 [00:00<?, ?it/s]"
      ]
     },
     "metadata": {},
     "output_type": "display_data"
    },
    {
     "data": {
      "application/vnd.jupyter.widget-view+json": {
       "model_id": "5687100e857b47dabfeec4bc858fb771",
       "version_major": 2,
       "version_minor": 0
      },
      "text/plain": [
       "timesteps:   0%|          | 0/7544 [00:00<?, ?it/s]"
      ]
     },
     "metadata": {},
     "output_type": "display_data"
    },
    {
     "data": {
      "application/vnd.jupyter.widget-view+json": {
       "model_id": "7c5973f5409f4f79a1020a37ad13725d",
       "version_major": 2,
       "version_minor": 0
      },
      "text/plain": [
       "timesteps:   0%|          | 0/7544 [00:00<?, ?it/s]"
      ]
     },
     "metadata": {},
     "output_type": "display_data"
    },
    {
     "data": {
      "application/vnd.jupyter.widget-view+json": {
       "model_id": "da945ed13acc48959805bf89426fc702",
       "version_major": 2,
       "version_minor": 0
      },
      "text/plain": [
       "timesteps:   0%|          | 0/7544 [00:00<?, ?it/s]"
      ]
     },
     "metadata": {},
     "output_type": "display_data"
    },
    {
     "name": "stdout",
     "output_type": "stream",
     "text": [
      "529 of 1000, minimal objective function=1.04678, time remaining: 00:01:22\n"
     ]
    },
    {
     "data": {
      "application/vnd.jupyter.widget-view+json": {
       "model_id": "286b54630e90403e93bcb6467a76863c",
       "version_major": 2,
       "version_minor": 0
      },
      "text/plain": [
       "timesteps:   0%|          | 0/7544 [00:00<?, ?it/s]"
      ]
     },
     "metadata": {},
     "output_type": "display_data"
    },
    {
     "data": {
      "application/vnd.jupyter.widget-view+json": {
       "model_id": "93f2eb0ffa434050afe8a60846ed42a9",
       "version_major": 2,
       "version_minor": 0
      },
      "text/plain": [
       "timesteps:   0%|          | 0/7544 [00:00<?, ?it/s]"
      ]
     },
     "metadata": {},
     "output_type": "display_data"
    },
    {
     "data": {
      "application/vnd.jupyter.widget-view+json": {
       "model_id": "ef2435cd8b674b8b8533c846bb556cb0",
       "version_major": 2,
       "version_minor": 0
      },
      "text/plain": [
       "timesteps:   0%|          | 0/7544 [00:00<?, ?it/s]"
      ]
     },
     "metadata": {},
     "output_type": "display_data"
    },
    {
     "data": {
      "application/vnd.jupyter.widget-view+json": {
       "model_id": "f2c0e3b7c2cf494ebcafd146d3abe8e6",
       "version_major": 2,
       "version_minor": 0
      },
      "text/plain": [
       "timesteps:   0%|          | 0/7544 [00:00<?, ?it/s]"
      ]
     },
     "metadata": {},
     "output_type": "display_data"
    },
    {
     "data": {
      "application/vnd.jupyter.widget-view+json": {
       "model_id": "8a5d5f513756459a8974f6d8742957c8",
       "version_major": 2,
       "version_minor": 0
      },
      "text/plain": [
       "timesteps:   0%|          | 0/7544 [00:00<?, ?it/s]"
      ]
     },
     "metadata": {},
     "output_type": "display_data"
    },
    {
     "data": {
      "application/vnd.jupyter.widget-view+json": {
       "model_id": "4201a25b08ba45c49aafd9ad7bcc876e",
       "version_major": 2,
       "version_minor": 0
      },
      "text/plain": [
       "timesteps:   0%|          | 0/7544 [00:00<?, ?it/s]"
      ]
     },
     "metadata": {},
     "output_type": "display_data"
    },
    {
     "data": {
      "application/vnd.jupyter.widget-view+json": {
       "model_id": "7e743b1e595d402c9023f771f6d8f5a9",
       "version_major": 2,
       "version_minor": 0
      },
      "text/plain": [
       "timesteps:   0%|          | 0/7544 [00:00<?, ?it/s]"
      ]
     },
     "metadata": {},
     "output_type": "display_data"
    },
    {
     "data": {
      "application/vnd.jupyter.widget-view+json": {
       "model_id": "9d8113701bfa45d09d91a9690880f043",
       "version_major": 2,
       "version_minor": 0
      },
      "text/plain": [
       "timesteps:   0%|          | 0/7544 [00:00<?, ?it/s]"
      ]
     },
     "metadata": {},
     "output_type": "display_data"
    },
    {
     "data": {
      "application/vnd.jupyter.widget-view+json": {
       "model_id": "bd7805415d474e9b8268f6994d073cd3",
       "version_major": 2,
       "version_minor": 0
      },
      "text/plain": [
       "timesteps:   0%|          | 0/7544 [00:00<?, ?it/s]"
      ]
     },
     "metadata": {},
     "output_type": "display_data"
    },
    {
     "data": {
      "application/vnd.jupyter.widget-view+json": {
       "model_id": "d41dfec90317495ea5cb59f8e26d09b9",
       "version_major": 2,
       "version_minor": 0
      },
      "text/plain": [
       "timesteps:   0%|          | 0/7544 [00:00<?, ?it/s]"
      ]
     },
     "metadata": {},
     "output_type": "display_data"
    },
    {
     "data": {
      "application/vnd.jupyter.widget-view+json": {
       "model_id": "c53aeb6612e84eaba0494b7e18a3f665",
       "version_major": 2,
       "version_minor": 0
      },
      "text/plain": [
       "timesteps:   0%|          | 0/7544 [00:00<?, ?it/s]"
      ]
     },
     "metadata": {},
     "output_type": "display_data"
    },
    {
     "data": {
      "application/vnd.jupyter.widget-view+json": {
       "model_id": "8b0422854d4648efa4e46195d7c12dd5",
       "version_major": 2,
       "version_minor": 0
      },
      "text/plain": [
       "timesteps:   0%|          | 0/7544 [00:00<?, ?it/s]"
      ]
     },
     "metadata": {},
     "output_type": "display_data"
    },
    {
     "data": {
      "application/vnd.jupyter.widget-view+json": {
       "model_id": "f84eabed3ac44a7f83bbc1bd3963ad22",
       "version_major": 2,
       "version_minor": 0
      },
      "text/plain": [
       "timesteps:   0%|          | 0/7544 [00:00<?, ?it/s]"
      ]
     },
     "metadata": {},
     "output_type": "display_data"
    },
    {
     "data": {
      "application/vnd.jupyter.widget-view+json": {
       "model_id": "29fb7589a74d42daa706c545d0406b56",
       "version_major": 2,
       "version_minor": 0
      },
      "text/plain": [
       "timesteps:   0%|          | 0/7544 [00:00<?, ?it/s]"
      ]
     },
     "metadata": {},
     "output_type": "display_data"
    },
    {
     "data": {
      "application/vnd.jupyter.widget-view+json": {
       "model_id": "fe0c1559a19a4198b65133c328ed9472",
       "version_major": 2,
       "version_minor": 0
      },
      "text/plain": [
       "timesteps:   0%|          | 0/7544 [00:00<?, ?it/s]"
      ]
     },
     "metadata": {},
     "output_type": "display_data"
    },
    {
     "data": {
      "application/vnd.jupyter.widget-view+json": {
       "model_id": "709c2ca243f24ae4b5a2bf725d667c05",
       "version_major": 2,
       "version_minor": 0
      },
      "text/plain": [
       "timesteps:   0%|          | 0/7544 [00:00<?, ?it/s]"
      ]
     },
     "metadata": {},
     "output_type": "display_data"
    },
    {
     "name": "stdout",
     "output_type": "stream",
     "text": [
      "556 of 1000, minimal objective function=1.03729, time remaining: 00:01:17\n"
     ]
    },
    {
     "data": {
      "application/vnd.jupyter.widget-view+json": {
       "model_id": "362616af7263483d97d7672abad7360b",
       "version_major": 2,
       "version_minor": 0
      },
      "text/plain": [
       "timesteps:   0%|          | 0/7544 [00:00<?, ?it/s]"
      ]
     },
     "metadata": {},
     "output_type": "display_data"
    },
    {
     "data": {
      "application/vnd.jupyter.widget-view+json": {
       "model_id": "2d499b7051cc427888f312feeab2cde1",
       "version_major": 2,
       "version_minor": 0
      },
      "text/plain": [
       "timesteps:   0%|          | 0/7544 [00:00<?, ?it/s]"
      ]
     },
     "metadata": {},
     "output_type": "display_data"
    },
    {
     "data": {
      "application/vnd.jupyter.widget-view+json": {
       "model_id": "ef8a787fc1284a33a982cd1d4c081d75",
       "version_major": 2,
       "version_minor": 0
      },
      "text/plain": [
       "timesteps:   0%|          | 0/7544 [00:00<?, ?it/s]"
      ]
     },
     "metadata": {},
     "output_type": "display_data"
    },
    {
     "data": {
      "application/vnd.jupyter.widget-view+json": {
       "model_id": "86df13d560c5476891ed0a4d14abd2ea",
       "version_major": 2,
       "version_minor": 0
      },
      "text/plain": [
       "timesteps:   0%|          | 0/7544 [00:00<?, ?it/s]"
      ]
     },
     "metadata": {},
     "output_type": "display_data"
    },
    {
     "data": {
      "application/vnd.jupyter.widget-view+json": {
       "model_id": "98460f0464f9428a9cafcb13b038f9aa",
       "version_major": 2,
       "version_minor": 0
      },
      "text/plain": [
       "timesteps:   0%|          | 0/7544 [00:00<?, ?it/s]"
      ]
     },
     "metadata": {},
     "output_type": "display_data"
    },
    {
     "data": {
      "application/vnd.jupyter.widget-view+json": {
       "model_id": "1e753283766842b48aec048849eb6c07",
       "version_major": 2,
       "version_minor": 0
      },
      "text/plain": [
       "timesteps:   0%|          | 0/7544 [00:00<?, ?it/s]"
      ]
     },
     "metadata": {},
     "output_type": "display_data"
    },
    {
     "data": {
      "application/vnd.jupyter.widget-view+json": {
       "model_id": "b51fe900b335416d96a0aadf7b21266b",
       "version_major": 2,
       "version_minor": 0
      },
      "text/plain": [
       "timesteps:   0%|          | 0/7544 [00:00<?, ?it/s]"
      ]
     },
     "metadata": {},
     "output_type": "display_data"
    },
    {
     "data": {
      "application/vnd.jupyter.widget-view+json": {
       "model_id": "20863aee26c54cb18f19e4a8cc312fc6",
       "version_major": 2,
       "version_minor": 0
      },
      "text/plain": [
       "timesteps:   0%|          | 0/7544 [00:00<?, ?it/s]"
      ]
     },
     "metadata": {},
     "output_type": "display_data"
    },
    {
     "data": {
      "application/vnd.jupyter.widget-view+json": {
       "model_id": "3a8af243af5649cfb5a366c6b3dae9ec",
       "version_major": 2,
       "version_minor": 0
      },
      "text/plain": [
       "timesteps:   0%|          | 0/7544 [00:00<?, ?it/s]"
      ]
     },
     "metadata": {},
     "output_type": "display_data"
    },
    {
     "data": {
      "application/vnd.jupyter.widget-view+json": {
       "model_id": "18d57dbc344d43eda5773ad482564e10",
       "version_major": 2,
       "version_minor": 0
      },
      "text/plain": [
       "timesteps:   0%|          | 0/7544 [00:00<?, ?it/s]"
      ]
     },
     "metadata": {},
     "output_type": "display_data"
    },
    {
     "data": {
      "application/vnd.jupyter.widget-view+json": {
       "model_id": "d5136e4ae8644a53b0f7f8acebaa03cc",
       "version_major": 2,
       "version_minor": 0
      },
      "text/plain": [
       "timesteps:   0%|          | 0/7544 [00:00<?, ?it/s]"
      ]
     },
     "metadata": {},
     "output_type": "display_data"
    },
    {
     "data": {
      "application/vnd.jupyter.widget-view+json": {
       "model_id": "ad69b8e0fc0e44a7978ff2d035aeb96c",
       "version_major": 2,
       "version_minor": 0
      },
      "text/plain": [
       "timesteps:   0%|          | 0/7544 [00:00<?, ?it/s]"
      ]
     },
     "metadata": {},
     "output_type": "display_data"
    },
    {
     "data": {
      "application/vnd.jupyter.widget-view+json": {
       "model_id": "e125c9537a054ed4aea1538126489c06",
       "version_major": 2,
       "version_minor": 0
      },
      "text/plain": [
       "timesteps:   0%|          | 0/7544 [00:00<?, ?it/s]"
      ]
     },
     "metadata": {},
     "output_type": "display_data"
    },
    {
     "data": {
      "application/vnd.jupyter.widget-view+json": {
       "model_id": "2c8689caffe24b2ab95b409bd7881611",
       "version_major": 2,
       "version_minor": 0
      },
      "text/plain": [
       "timesteps:   0%|          | 0/7544 [00:00<?, ?it/s]"
      ]
     },
     "metadata": {},
     "output_type": "display_data"
    },
    {
     "data": {
      "application/vnd.jupyter.widget-view+json": {
       "model_id": "f9659896ef314ba197abce801a2cf99e",
       "version_major": 2,
       "version_minor": 0
      },
      "text/plain": [
       "timesteps:   0%|          | 0/7544 [00:00<?, ?it/s]"
      ]
     },
     "metadata": {},
     "output_type": "display_data"
    },
    {
     "data": {
      "application/vnd.jupyter.widget-view+json": {
       "model_id": "a5a3b0d4436849f4b4de596ff3593bf4",
       "version_major": 2,
       "version_minor": 0
      },
      "text/plain": [
       "timesteps:   0%|          | 0/7544 [00:00<?, ?it/s]"
      ]
     },
     "metadata": {},
     "output_type": "display_data"
    },
    {
     "data": {
      "application/vnd.jupyter.widget-view+json": {
       "model_id": "d4ddc5c8f5b448c5b2a7fb35604eb165",
       "version_major": 2,
       "version_minor": 0
      },
      "text/plain": [
       "timesteps:   0%|          | 0/7544 [00:00<?, ?it/s]"
      ]
     },
     "metadata": {},
     "output_type": "display_data"
    },
    {
     "data": {
      "application/vnd.jupyter.widget-view+json": {
       "model_id": "9940738d42584f6f98ebc1d2ad4288a5",
       "version_major": 2,
       "version_minor": 0
      },
      "text/plain": [
       "timesteps:   0%|          | 0/7544 [00:00<?, ?it/s]"
      ]
     },
     "metadata": {},
     "output_type": "display_data"
    },
    {
     "name": "stdout",
     "output_type": "stream",
     "text": [
      "585 of 1000, minimal objective function=1.03352, time remaining: 00:01:11\n"
     ]
    },
    {
     "data": {
      "application/vnd.jupyter.widget-view+json": {
       "model_id": "590e0781d0b94051bcc317e96be54b46",
       "version_major": 2,
       "version_minor": 0
      },
      "text/plain": [
       "timesteps:   0%|          | 0/7544 [00:00<?, ?it/s]"
      ]
     },
     "metadata": {},
     "output_type": "display_data"
    },
    {
     "data": {
      "application/vnd.jupyter.widget-view+json": {
       "model_id": "06a425566c224955b0b0768b84ba2b15",
       "version_major": 2,
       "version_minor": 0
      },
      "text/plain": [
       "timesteps:   0%|          | 0/7544 [00:00<?, ?it/s]"
      ]
     },
     "metadata": {},
     "output_type": "display_data"
    },
    {
     "data": {
      "application/vnd.jupyter.widget-view+json": {
       "model_id": "29842fc7a0a14321964f4d934fa16a49",
       "version_major": 2,
       "version_minor": 0
      },
      "text/plain": [
       "timesteps:   0%|          | 0/7544 [00:00<?, ?it/s]"
      ]
     },
     "metadata": {},
     "output_type": "display_data"
    },
    {
     "data": {
      "application/vnd.jupyter.widget-view+json": {
       "model_id": "f6174b09c58c41409c61dea4d3301d7b",
       "version_major": 2,
       "version_minor": 0
      },
      "text/plain": [
       "timesteps:   0%|          | 0/7544 [00:00<?, ?it/s]"
      ]
     },
     "metadata": {},
     "output_type": "display_data"
    },
    {
     "data": {
      "application/vnd.jupyter.widget-view+json": {
       "model_id": "17a52fab2eec4762801d4bb5215fcd6a",
       "version_major": 2,
       "version_minor": 0
      },
      "text/plain": [
       "timesteps:   0%|          | 0/7544 [00:00<?, ?it/s]"
      ]
     },
     "metadata": {},
     "output_type": "display_data"
    },
    {
     "data": {
      "application/vnd.jupyter.widget-view+json": {
       "model_id": "b58ec71d9816495aa58a9a145ecfe09b",
       "version_major": 2,
       "version_minor": 0
      },
      "text/plain": [
       "timesteps:   0%|          | 0/7544 [00:00<?, ?it/s]"
      ]
     },
     "metadata": {},
     "output_type": "display_data"
    },
    {
     "data": {
      "application/vnd.jupyter.widget-view+json": {
       "model_id": "45884e618dbe46b08daf3090a36f938e",
       "version_major": 2,
       "version_minor": 0
      },
      "text/plain": [
       "timesteps:   0%|          | 0/7544 [00:00<?, ?it/s]"
      ]
     },
     "metadata": {},
     "output_type": "display_data"
    },
    {
     "data": {
      "application/vnd.jupyter.widget-view+json": {
       "model_id": "c9f0126190f045d4bf41b838580d82cd",
       "version_major": 2,
       "version_minor": 0
      },
      "text/plain": [
       "timesteps:   0%|          | 0/7544 [00:00<?, ?it/s]"
      ]
     },
     "metadata": {},
     "output_type": "display_data"
    },
    {
     "data": {
      "application/vnd.jupyter.widget-view+json": {
       "model_id": "b3ac3c80403d42cc9a662c94b2535770",
       "version_major": 2,
       "version_minor": 0
      },
      "text/plain": [
       "timesteps:   0%|          | 0/7544 [00:00<?, ?it/s]"
      ]
     },
     "metadata": {},
     "output_type": "display_data"
    },
    {
     "data": {
      "application/vnd.jupyter.widget-view+json": {
       "model_id": "97a7fe7ed56b4ea2855936f69d159892",
       "version_major": 2,
       "version_minor": 0
      },
      "text/plain": [
       "timesteps:   0%|          | 0/7544 [00:00<?, ?it/s]"
      ]
     },
     "metadata": {},
     "output_type": "display_data"
    },
    {
     "data": {
      "application/vnd.jupyter.widget-view+json": {
       "model_id": "105e1ecd1c0a416693cb8e0972627668",
       "version_major": 2,
       "version_minor": 0
      },
      "text/plain": [
       "timesteps:   0%|          | 0/7544 [00:00<?, ?it/s]"
      ]
     },
     "metadata": {},
     "output_type": "display_data"
    },
    {
     "data": {
      "application/vnd.jupyter.widget-view+json": {
       "model_id": "8b871f7176f14c51a7e0ac2fb06d0a24",
       "version_major": 2,
       "version_minor": 0
      },
      "text/plain": [
       "timesteps:   0%|          | 0/7544 [00:00<?, ?it/s]"
      ]
     },
     "metadata": {},
     "output_type": "display_data"
    },
    {
     "data": {
      "application/vnd.jupyter.widget-view+json": {
       "model_id": "dc6c323d43ee4b589474e05421cdad46",
       "version_major": 2,
       "version_minor": 0
      },
      "text/plain": [
       "timesteps:   0%|          | 0/7544 [00:00<?, ?it/s]"
      ]
     },
     "metadata": {},
     "output_type": "display_data"
    },
    {
     "data": {
      "application/vnd.jupyter.widget-view+json": {
       "model_id": "05fce3a78d1444978b6975e8c97a2f96",
       "version_major": 2,
       "version_minor": 0
      },
      "text/plain": [
       "timesteps:   0%|          | 0/7544 [00:00<?, ?it/s]"
      ]
     },
     "metadata": {},
     "output_type": "display_data"
    },
    {
     "data": {
      "application/vnd.jupyter.widget-view+json": {
       "model_id": "96a16456fc6c470c95c010d95246c112",
       "version_major": 2,
       "version_minor": 0
      },
      "text/plain": [
       "timesteps:   0%|          | 0/7544 [00:00<?, ?it/s]"
      ]
     },
     "metadata": {},
     "output_type": "display_data"
    },
    {
     "data": {
      "application/vnd.jupyter.widget-view+json": {
       "model_id": "41c296171e094fc78aaa1d6c8000cc8d",
       "version_major": 2,
       "version_minor": 0
      },
      "text/plain": [
       "timesteps:   0%|          | 0/7544 [00:00<?, ?it/s]"
      ]
     },
     "metadata": {},
     "output_type": "display_data"
    },
    {
     "data": {
      "application/vnd.jupyter.widget-view+json": {
       "model_id": "10bb212ef2454ac29177914236be446e",
       "version_major": 2,
       "version_minor": 0
      },
      "text/plain": [
       "timesteps:   0%|          | 0/7544 [00:00<?, ?it/s]"
      ]
     },
     "metadata": {},
     "output_type": "display_data"
    },
    {
     "data": {
      "application/vnd.jupyter.widget-view+json": {
       "model_id": "969d9a9b04a943dca974ef1bc281a7cc",
       "version_major": 2,
       "version_minor": 0
      },
      "text/plain": [
       "timesteps:   0%|          | 0/7544 [00:00<?, ?it/s]"
      ]
     },
     "metadata": {},
     "output_type": "display_data"
    },
    {
     "name": "stdout",
     "output_type": "stream",
     "text": [
      "614 of 1000, minimal objective function=1.03352, time remaining: 00:01:06\n",
      "Objective function convergence criteria is now being updated and assessed...\n",
      "Updated convergence criteria: 3.408325\n",
      "ComplexEvo loop #6 in progress...\n"
     ]
    },
    {
     "data": {
      "application/vnd.jupyter.widget-view+json": {
       "model_id": "85aa9088a75d431ca95192fdb6215674",
       "version_major": 2,
       "version_minor": 0
      },
      "text/plain": [
       "timesteps:   0%|          | 0/7544 [00:00<?, ?it/s]"
      ]
     },
     "metadata": {},
     "output_type": "display_data"
    },
    {
     "data": {
      "application/vnd.jupyter.widget-view+json": {
       "model_id": "d529f5810004454eae6e6a0025bd923a",
       "version_major": 2,
       "version_minor": 0
      },
      "text/plain": [
       "timesteps:   0%|          | 0/7544 [00:00<?, ?it/s]"
      ]
     },
     "metadata": {},
     "output_type": "display_data"
    },
    {
     "data": {
      "application/vnd.jupyter.widget-view+json": {
       "model_id": "635992ac4ca34bdda218640dbaa5f5bd",
       "version_major": 2,
       "version_minor": 0
      },
      "text/plain": [
       "timesteps:   0%|          | 0/7544 [00:00<?, ?it/s]"
      ]
     },
     "metadata": {},
     "output_type": "display_data"
    },
    {
     "data": {
      "application/vnd.jupyter.widget-view+json": {
       "model_id": "c9dc0afe2f0c43ccb04011e73e877b90",
       "version_major": 2,
       "version_minor": 0
      },
      "text/plain": [
       "timesteps:   0%|          | 0/7544 [00:00<?, ?it/s]"
      ]
     },
     "metadata": {},
     "output_type": "display_data"
    },
    {
     "data": {
      "application/vnd.jupyter.widget-view+json": {
       "model_id": "dcdcecd85e264923b4273ff227b2ecc6",
       "version_major": 2,
       "version_minor": 0
      },
      "text/plain": [
       "timesteps:   0%|          | 0/7544 [00:00<?, ?it/s]"
      ]
     },
     "metadata": {},
     "output_type": "display_data"
    },
    {
     "data": {
      "application/vnd.jupyter.widget-view+json": {
       "model_id": "05231c8df56c444986db812b6068288a",
       "version_major": 2,
       "version_minor": 0
      },
      "text/plain": [
       "timesteps:   0%|          | 0/7544 [00:00<?, ?it/s]"
      ]
     },
     "metadata": {},
     "output_type": "display_data"
    },
    {
     "data": {
      "application/vnd.jupyter.widget-view+json": {
       "model_id": "65327eb90d264bf1ace7cc4177af6265",
       "version_major": 2,
       "version_minor": 0
      },
      "text/plain": [
       "timesteps:   0%|          | 0/7544 [00:00<?, ?it/s]"
      ]
     },
     "metadata": {},
     "output_type": "display_data"
    },
    {
     "data": {
      "application/vnd.jupyter.widget-view+json": {
       "model_id": "dbb64576c7b34d47abe00b79dd36a7d2",
       "version_major": 2,
       "version_minor": 0
      },
      "text/plain": [
       "timesteps:   0%|          | 0/7544 [00:00<?, ?it/s]"
      ]
     },
     "metadata": {},
     "output_type": "display_data"
    },
    {
     "data": {
      "application/vnd.jupyter.widget-view+json": {
       "model_id": "3321a3947bf243d7a9bb9c3ecab0ec66",
       "version_major": 2,
       "version_minor": 0
      },
      "text/plain": [
       "timesteps:   0%|          | 0/7544 [00:00<?, ?it/s]"
      ]
     },
     "metadata": {},
     "output_type": "display_data"
    },
    {
     "data": {
      "application/vnd.jupyter.widget-view+json": {
       "model_id": "1feadd5b2ed6411b8f0866af967e897b",
       "version_major": 2,
       "version_minor": 0
      },
      "text/plain": [
       "timesteps:   0%|          | 0/7544 [00:00<?, ?it/s]"
      ]
     },
     "metadata": {},
     "output_type": "display_data"
    },
    {
     "data": {
      "application/vnd.jupyter.widget-view+json": {
       "model_id": "c4265d14b3e24af8add3884ca7a7c54d",
       "version_major": 2,
       "version_minor": 0
      },
      "text/plain": [
       "timesteps:   0%|          | 0/7544 [00:00<?, ?it/s]"
      ]
     },
     "metadata": {},
     "output_type": "display_data"
    },
    {
     "data": {
      "application/vnd.jupyter.widget-view+json": {
       "model_id": "35a776cbdcfe46fca6cf9d28d8905040",
       "version_major": 2,
       "version_minor": 0
      },
      "text/plain": [
       "timesteps:   0%|          | 0/7544 [00:00<?, ?it/s]"
      ]
     },
     "metadata": {},
     "output_type": "display_data"
    },
    {
     "data": {
      "application/vnd.jupyter.widget-view+json": {
       "model_id": "271e8eebd94b4e05bcbd27ea90895b9b",
       "version_major": 2,
       "version_minor": 0
      },
      "text/plain": [
       "timesteps:   0%|          | 0/7544 [00:00<?, ?it/s]"
      ]
     },
     "metadata": {},
     "output_type": "display_data"
    },
    {
     "data": {
      "application/vnd.jupyter.widget-view+json": {
       "model_id": "c9fca7d9450744c789d4512ab13151f5",
       "version_major": 2,
       "version_minor": 0
      },
      "text/plain": [
       "timesteps:   0%|          | 0/7544 [00:00<?, ?it/s]"
      ]
     },
     "metadata": {},
     "output_type": "display_data"
    },
    {
     "data": {
      "application/vnd.jupyter.widget-view+json": {
       "model_id": "cc66f4999616421183380faabc7f5b16",
       "version_major": 2,
       "version_minor": 0
      },
      "text/plain": [
       "timesteps:   0%|          | 0/7544 [00:00<?, ?it/s]"
      ]
     },
     "metadata": {},
     "output_type": "display_data"
    },
    {
     "data": {
      "application/vnd.jupyter.widget-view+json": {
       "model_id": "028d52b7ad4645f5a3ac910c4dee0ab8",
       "version_major": 2,
       "version_minor": 0
      },
      "text/plain": [
       "timesteps:   0%|          | 0/7544 [00:00<?, ?it/s]"
      ]
     },
     "metadata": {},
     "output_type": "display_data"
    },
    {
     "data": {
      "application/vnd.jupyter.widget-view+json": {
       "model_id": "7d3e4576f9574174aa4cb777ca17474a",
       "version_major": 2,
       "version_minor": 0
      },
      "text/plain": [
       "timesteps:   0%|          | 0/7544 [00:00<?, ?it/s]"
      ]
     },
     "metadata": {},
     "output_type": "display_data"
    },
    {
     "data": {
      "application/vnd.jupyter.widget-view+json": {
       "model_id": "23a5b5ed77a9417a86812bfa8b4aa6f2",
       "version_major": 2,
       "version_minor": 0
      },
      "text/plain": [
       "timesteps:   0%|          | 0/7544 [00:00<?, ?it/s]"
      ]
     },
     "metadata": {},
     "output_type": "display_data"
    },
    {
     "data": {
      "application/vnd.jupyter.widget-view+json": {
       "model_id": "ce96a8bbebbc45b8816b16164baa7d62",
       "version_major": 2,
       "version_minor": 0
      },
      "text/plain": [
       "timesteps:   0%|          | 0/7544 [00:00<?, ?it/s]"
      ]
     },
     "metadata": {},
     "output_type": "display_data"
    },
    {
     "data": {
      "application/vnd.jupyter.widget-view+json": {
       "model_id": "a55ec5a304b7496090bd2fe3fb0a6ff1",
       "version_major": 2,
       "version_minor": 0
      },
      "text/plain": [
       "timesteps:   0%|          | 0/7544 [00:00<?, ?it/s]"
      ]
     },
     "metadata": {},
     "output_type": "display_data"
    },
    {
     "name": "stdout",
     "output_type": "stream",
     "text": [
      "645 of 1000, minimal objective function=1.01727, time remaining: 00:01:01\n"
     ]
    },
    {
     "data": {
      "application/vnd.jupyter.widget-view+json": {
       "model_id": "6e5b52bcc429469491ffa00a37d27473",
       "version_major": 2,
       "version_minor": 0
      },
      "text/plain": [
       "timesteps:   0%|          | 0/7544 [00:00<?, ?it/s]"
      ]
     },
     "metadata": {},
     "output_type": "display_data"
    },
    {
     "data": {
      "application/vnd.jupyter.widget-view+json": {
       "model_id": "525adfd80d0741a5889656830c35c7c0",
       "version_major": 2,
       "version_minor": 0
      },
      "text/plain": [
       "timesteps:   0%|          | 0/7544 [00:00<?, ?it/s]"
      ]
     },
     "metadata": {},
     "output_type": "display_data"
    },
    {
     "data": {
      "application/vnd.jupyter.widget-view+json": {
       "model_id": "1fffba7b5d4f4f4fa45227d477a318e4",
       "version_major": 2,
       "version_minor": 0
      },
      "text/plain": [
       "timesteps:   0%|          | 0/7544 [00:00<?, ?it/s]"
      ]
     },
     "metadata": {},
     "output_type": "display_data"
    },
    {
     "data": {
      "application/vnd.jupyter.widget-view+json": {
       "model_id": "ee16e84b419743bd9f05ff14110de786",
       "version_major": 2,
       "version_minor": 0
      },
      "text/plain": [
       "timesteps:   0%|          | 0/7544 [00:00<?, ?it/s]"
      ]
     },
     "metadata": {},
     "output_type": "display_data"
    },
    {
     "data": {
      "application/vnd.jupyter.widget-view+json": {
       "model_id": "98f0a111ed2b4dbeb43dc955fbb0f2c8",
       "version_major": 2,
       "version_minor": 0
      },
      "text/plain": [
       "timesteps:   0%|          | 0/7544 [00:00<?, ?it/s]"
      ]
     },
     "metadata": {},
     "output_type": "display_data"
    },
    {
     "data": {
      "application/vnd.jupyter.widget-view+json": {
       "model_id": "b369b12d61e6485dba86e553de2fba35",
       "version_major": 2,
       "version_minor": 0
      },
      "text/plain": [
       "timesteps:   0%|          | 0/7544 [00:00<?, ?it/s]"
      ]
     },
     "metadata": {},
     "output_type": "display_data"
    },
    {
     "data": {
      "application/vnd.jupyter.widget-view+json": {
       "model_id": "a4744bdadf794de1800528d1c7e6d705",
       "version_major": 2,
       "version_minor": 0
      },
      "text/plain": [
       "timesteps:   0%|          | 0/7544 [00:00<?, ?it/s]"
      ]
     },
     "metadata": {},
     "output_type": "display_data"
    },
    {
     "data": {
      "application/vnd.jupyter.widget-view+json": {
       "model_id": "a5d35e38b2cb4918b6ebc3bedfcd2094",
       "version_major": 2,
       "version_minor": 0
      },
      "text/plain": [
       "timesteps:   0%|          | 0/7544 [00:00<?, ?it/s]"
      ]
     },
     "metadata": {},
     "output_type": "display_data"
    },
    {
     "data": {
      "application/vnd.jupyter.widget-view+json": {
       "model_id": "710aafedb5734c1d8890e07b376166c1",
       "version_major": 2,
       "version_minor": 0
      },
      "text/plain": [
       "timesteps:   0%|          | 0/7544 [00:00<?, ?it/s]"
      ]
     },
     "metadata": {},
     "output_type": "display_data"
    },
    {
     "data": {
      "application/vnd.jupyter.widget-view+json": {
       "model_id": "b367b1d6f4994ea3930b9aebda140f2d",
       "version_major": 2,
       "version_minor": 0
      },
      "text/plain": [
       "timesteps:   0%|          | 0/7544 [00:00<?, ?it/s]"
      ]
     },
     "metadata": {},
     "output_type": "display_data"
    },
    {
     "data": {
      "application/vnd.jupyter.widget-view+json": {
       "model_id": "f9e242e2659f4c1f84f7895ca47332bd",
       "version_major": 2,
       "version_minor": 0
      },
      "text/plain": [
       "timesteps:   0%|          | 0/7544 [00:00<?, ?it/s]"
      ]
     },
     "metadata": {},
     "output_type": "display_data"
    },
    {
     "data": {
      "application/vnd.jupyter.widget-view+json": {
       "model_id": "476cfefe16f74960b44da6c064d94ea6",
       "version_major": 2,
       "version_minor": 0
      },
      "text/plain": [
       "timesteps:   0%|          | 0/7544 [00:00<?, ?it/s]"
      ]
     },
     "metadata": {},
     "output_type": "display_data"
    },
    {
     "data": {
      "application/vnd.jupyter.widget-view+json": {
       "model_id": "5455444eed784e07a5ae8a626d925f9d",
       "version_major": 2,
       "version_minor": 0
      },
      "text/plain": [
       "timesteps:   0%|          | 0/7544 [00:00<?, ?it/s]"
      ]
     },
     "metadata": {},
     "output_type": "display_data"
    },
    {
     "data": {
      "application/vnd.jupyter.widget-view+json": {
       "model_id": "3bb3d1c3770040b0a8da89b91cf4ce0e",
       "version_major": 2,
       "version_minor": 0
      },
      "text/plain": [
       "timesteps:   0%|          | 0/7544 [00:00<?, ?it/s]"
      ]
     },
     "metadata": {},
     "output_type": "display_data"
    },
    {
     "data": {
      "application/vnd.jupyter.widget-view+json": {
       "model_id": "35d9f4afea6047f098a46ff6cf397e01",
       "version_major": 2,
       "version_minor": 0
      },
      "text/plain": [
       "timesteps:   0%|          | 0/7544 [00:00<?, ?it/s]"
      ]
     },
     "metadata": {},
     "output_type": "display_data"
    },
    {
     "data": {
      "application/vnd.jupyter.widget-view+json": {
       "model_id": "cecac887b065416d8e2d6b97c8eee87e",
       "version_major": 2,
       "version_minor": 0
      },
      "text/plain": [
       "timesteps:   0%|          | 0/7544 [00:00<?, ?it/s]"
      ]
     },
     "metadata": {},
     "output_type": "display_data"
    },
    {
     "data": {
      "application/vnd.jupyter.widget-view+json": {
       "model_id": "670517ae80944fdaa48fb162a1d411a8",
       "version_major": 2,
       "version_minor": 0
      },
      "text/plain": [
       "timesteps:   0%|          | 0/7544 [00:00<?, ?it/s]"
      ]
     },
     "metadata": {},
     "output_type": "display_data"
    },
    {
     "data": {
      "application/vnd.jupyter.widget-view+json": {
       "model_id": "e38f23eac029418ca6a40524aaff2f98",
       "version_major": 2,
       "version_minor": 0
      },
      "text/plain": [
       "timesteps:   0%|          | 0/7544 [00:00<?, ?it/s]"
      ]
     },
     "metadata": {},
     "output_type": "display_data"
    },
    {
     "data": {
      "application/vnd.jupyter.widget-view+json": {
       "model_id": "f32e2621a37c498cbe9fb8684011b7d8",
       "version_major": 2,
       "version_minor": 0
      },
      "text/plain": [
       "timesteps:   0%|          | 0/7544 [00:00<?, ?it/s]"
      ]
     },
     "metadata": {},
     "output_type": "display_data"
    },
    {
     "name": "stdout",
     "output_type": "stream",
     "text": [
      "675 of 1000, minimal objective function=1.01727, time remaining: 00:00:56\n"
     ]
    },
    {
     "data": {
      "application/vnd.jupyter.widget-view+json": {
       "model_id": "f17fa3b02d44493ebd7f8df257435d4a",
       "version_major": 2,
       "version_minor": 0
      },
      "text/plain": [
       "timesteps:   0%|          | 0/7544 [00:00<?, ?it/s]"
      ]
     },
     "metadata": {},
     "output_type": "display_data"
    },
    {
     "data": {
      "application/vnd.jupyter.widget-view+json": {
       "model_id": "e282d11d774940f282bd7c73f6e25ad9",
       "version_major": 2,
       "version_minor": 0
      },
      "text/plain": [
       "timesteps:   0%|          | 0/7544 [00:00<?, ?it/s]"
      ]
     },
     "metadata": {},
     "output_type": "display_data"
    },
    {
     "data": {
      "application/vnd.jupyter.widget-view+json": {
       "model_id": "703ff285a50442a0bba1da4d3b3e887a",
       "version_major": 2,
       "version_minor": 0
      },
      "text/plain": [
       "timesteps:   0%|          | 0/7544 [00:00<?, ?it/s]"
      ]
     },
     "metadata": {},
     "output_type": "display_data"
    },
    {
     "data": {
      "application/vnd.jupyter.widget-view+json": {
       "model_id": "d5aafd9530f141cf9ad7b2f426ce03a0",
       "version_major": 2,
       "version_minor": 0
      },
      "text/plain": [
       "timesteps:   0%|          | 0/7544 [00:00<?, ?it/s]"
      ]
     },
     "metadata": {},
     "output_type": "display_data"
    },
    {
     "data": {
      "application/vnd.jupyter.widget-view+json": {
       "model_id": "c4878164ae0745fa98d2ceff54dbd068",
       "version_major": 2,
       "version_minor": 0
      },
      "text/plain": [
       "timesteps:   0%|          | 0/7544 [00:00<?, ?it/s]"
      ]
     },
     "metadata": {},
     "output_type": "display_data"
    },
    {
     "data": {
      "application/vnd.jupyter.widget-view+json": {
       "model_id": "9af75da6a2d64e8099b1ec48db815f4a",
       "version_major": 2,
       "version_minor": 0
      },
      "text/plain": [
       "timesteps:   0%|          | 0/7544 [00:00<?, ?it/s]"
      ]
     },
     "metadata": {},
     "output_type": "display_data"
    },
    {
     "data": {
      "application/vnd.jupyter.widget-view+json": {
       "model_id": "0498d28193b04f9298e601f5376f665e",
       "version_major": 2,
       "version_minor": 0
      },
      "text/plain": [
       "timesteps:   0%|          | 0/7544 [00:00<?, ?it/s]"
      ]
     },
     "metadata": {},
     "output_type": "display_data"
    },
    {
     "data": {
      "application/vnd.jupyter.widget-view+json": {
       "model_id": "b3a25d91170d454ea554f855272fc2a1",
       "version_major": 2,
       "version_minor": 0
      },
      "text/plain": [
       "timesteps:   0%|          | 0/7544 [00:00<?, ?it/s]"
      ]
     },
     "metadata": {},
     "output_type": "display_data"
    },
    {
     "data": {
      "application/vnd.jupyter.widget-view+json": {
       "model_id": "14bb9ec2ce0e45eb9ffc7e6b419b3526",
       "version_major": 2,
       "version_minor": 0
      },
      "text/plain": [
       "timesteps:   0%|          | 0/7544 [00:00<?, ?it/s]"
      ]
     },
     "metadata": {},
     "output_type": "display_data"
    },
    {
     "data": {
      "application/vnd.jupyter.widget-view+json": {
       "model_id": "160e7e134f9140d2ad14a1c97278fba8",
       "version_major": 2,
       "version_minor": 0
      },
      "text/plain": [
       "timesteps:   0%|          | 0/7544 [00:00<?, ?it/s]"
      ]
     },
     "metadata": {},
     "output_type": "display_data"
    },
    {
     "data": {
      "application/vnd.jupyter.widget-view+json": {
       "model_id": "4ab73501b7584b41a3ae5eec27705d98",
       "version_major": 2,
       "version_minor": 0
      },
      "text/plain": [
       "timesteps:   0%|          | 0/7544 [00:00<?, ?it/s]"
      ]
     },
     "metadata": {},
     "output_type": "display_data"
    },
    {
     "data": {
      "application/vnd.jupyter.widget-view+json": {
       "model_id": "c3f48a289d0e4128956d3b4f0d5c88e3",
       "version_major": 2,
       "version_minor": 0
      },
      "text/plain": [
       "timesteps:   0%|          | 0/7544 [00:00<?, ?it/s]"
      ]
     },
     "metadata": {},
     "output_type": "display_data"
    },
    {
     "data": {
      "application/vnd.jupyter.widget-view+json": {
       "model_id": "24d00872648c41abb391e02574a8689e",
       "version_major": 2,
       "version_minor": 0
      },
      "text/plain": [
       "timesteps:   0%|          | 0/7544 [00:00<?, ?it/s]"
      ]
     },
     "metadata": {},
     "output_type": "display_data"
    },
    {
     "data": {
      "application/vnd.jupyter.widget-view+json": {
       "model_id": "19a19a358df9474ea0f0e2712acd7702",
       "version_major": 2,
       "version_minor": 0
      },
      "text/plain": [
       "timesteps:   0%|          | 0/7544 [00:00<?, ?it/s]"
      ]
     },
     "metadata": {},
     "output_type": "display_data"
    },
    {
     "data": {
      "application/vnd.jupyter.widget-view+json": {
       "model_id": "f6952ede7f53489e8352bca3a7fc1465",
       "version_major": 2,
       "version_minor": 0
      },
      "text/plain": [
       "timesteps:   0%|          | 0/7544 [00:00<?, ?it/s]"
      ]
     },
     "metadata": {},
     "output_type": "display_data"
    },
    {
     "data": {
      "application/vnd.jupyter.widget-view+json": {
       "model_id": "ab4b0fbc3d6241f4bab6f659e8c5be18",
       "version_major": 2,
       "version_minor": 0
      },
      "text/plain": [
       "timesteps:   0%|          | 0/7544 [00:00<?, ?it/s]"
      ]
     },
     "metadata": {},
     "output_type": "display_data"
    },
    {
     "data": {
      "application/vnd.jupyter.widget-view+json": {
       "model_id": "c938d99e675a490ab80f449f75d6a98f",
       "version_major": 2,
       "version_minor": 0
      },
      "text/plain": [
       "timesteps:   0%|          | 0/7544 [00:00<?, ?it/s]"
      ]
     },
     "metadata": {},
     "output_type": "display_data"
    },
    {
     "data": {
      "application/vnd.jupyter.widget-view+json": {
       "model_id": "664fa629314c4984809d56757abae3a3",
       "version_major": 2,
       "version_minor": 0
      },
      "text/plain": [
       "timesteps:   0%|          | 0/7544 [00:00<?, ?it/s]"
      ]
     },
     "metadata": {},
     "output_type": "display_data"
    },
    {
     "name": "stdout",
     "output_type": "stream",
     "text": [
      "704 of 1000, minimal objective function=1.01727, time remaining: 00:00:51\n"
     ]
    },
    {
     "data": {
      "application/vnd.jupyter.widget-view+json": {
       "model_id": "d69532279607422e82bde50cb15550d8",
       "version_major": 2,
       "version_minor": 0
      },
      "text/plain": [
       "timesteps:   0%|          | 0/7544 [00:00<?, ?it/s]"
      ]
     },
     "metadata": {},
     "output_type": "display_data"
    },
    {
     "data": {
      "application/vnd.jupyter.widget-view+json": {
       "model_id": "8c5d5230c26f40b79c975f36042d36bf",
       "version_major": 2,
       "version_minor": 0
      },
      "text/plain": [
       "timesteps:   0%|          | 0/7544 [00:00<?, ?it/s]"
      ]
     },
     "metadata": {},
     "output_type": "display_data"
    },
    {
     "data": {
      "application/vnd.jupyter.widget-view+json": {
       "model_id": "c5e6f5e2bdfb4b228ef96a9f1e1169ba",
       "version_major": 2,
       "version_minor": 0
      },
      "text/plain": [
       "timesteps:   0%|          | 0/7544 [00:00<?, ?it/s]"
      ]
     },
     "metadata": {},
     "output_type": "display_data"
    },
    {
     "data": {
      "application/vnd.jupyter.widget-view+json": {
       "model_id": "07a1395b7a794b0880f974abebaa5501",
       "version_major": 2,
       "version_minor": 0
      },
      "text/plain": [
       "timesteps:   0%|          | 0/7544 [00:00<?, ?it/s]"
      ]
     },
     "metadata": {},
     "output_type": "display_data"
    },
    {
     "data": {
      "application/vnd.jupyter.widget-view+json": {
       "model_id": "3d655023f49c45a39a78bf36d7877521",
       "version_major": 2,
       "version_minor": 0
      },
      "text/plain": [
       "timesteps:   0%|          | 0/7544 [00:00<?, ?it/s]"
      ]
     },
     "metadata": {},
     "output_type": "display_data"
    },
    {
     "data": {
      "application/vnd.jupyter.widget-view+json": {
       "model_id": "4f91df96eb1f4f7bb6d60e7d3bac9252",
       "version_major": 2,
       "version_minor": 0
      },
      "text/plain": [
       "timesteps:   0%|          | 0/7544 [00:00<?, ?it/s]"
      ]
     },
     "metadata": {},
     "output_type": "display_data"
    },
    {
     "data": {
      "application/vnd.jupyter.widget-view+json": {
       "model_id": "1d32006ef05b49f5823e265515ee942c",
       "version_major": 2,
       "version_minor": 0
      },
      "text/plain": [
       "timesteps:   0%|          | 0/7544 [00:00<?, ?it/s]"
      ]
     },
     "metadata": {},
     "output_type": "display_data"
    },
    {
     "data": {
      "application/vnd.jupyter.widget-view+json": {
       "model_id": "2e2955f9f82d4010ac6a01af2709c958",
       "version_major": 2,
       "version_minor": 0
      },
      "text/plain": [
       "timesteps:   0%|          | 0/7544 [00:00<?, ?it/s]"
      ]
     },
     "metadata": {},
     "output_type": "display_data"
    },
    {
     "data": {
      "application/vnd.jupyter.widget-view+json": {
       "model_id": "31f99f6344fe4ed985e82fa1106a2dba",
       "version_major": 2,
       "version_minor": 0
      },
      "text/plain": [
       "timesteps:   0%|          | 0/7544 [00:00<?, ?it/s]"
      ]
     },
     "metadata": {},
     "output_type": "display_data"
    },
    {
     "data": {
      "application/vnd.jupyter.widget-view+json": {
       "model_id": "9a13c829faae4c95b2d868d2bf6bac4c",
       "version_major": 2,
       "version_minor": 0
      },
      "text/plain": [
       "timesteps:   0%|          | 0/7544 [00:00<?, ?it/s]"
      ]
     },
     "metadata": {},
     "output_type": "display_data"
    },
    {
     "data": {
      "application/vnd.jupyter.widget-view+json": {
       "model_id": "fed68b53815649b397290155b6d6a6d9",
       "version_major": 2,
       "version_minor": 0
      },
      "text/plain": [
       "timesteps:   0%|          | 0/7544 [00:00<?, ?it/s]"
      ]
     },
     "metadata": {},
     "output_type": "display_data"
    },
    {
     "data": {
      "application/vnd.jupyter.widget-view+json": {
       "model_id": "0b17151b47e84af69e2e6573b766e8e8",
       "version_major": 2,
       "version_minor": 0
      },
      "text/plain": [
       "timesteps:   0%|          | 0/7544 [00:00<?, ?it/s]"
      ]
     },
     "metadata": {},
     "output_type": "display_data"
    },
    {
     "data": {
      "application/vnd.jupyter.widget-view+json": {
       "model_id": "d31cd0950b984545ae4fba7bb25c6b91",
       "version_major": 2,
       "version_minor": 0
      },
      "text/plain": [
       "timesteps:   0%|          | 0/7544 [00:00<?, ?it/s]"
      ]
     },
     "metadata": {},
     "output_type": "display_data"
    },
    {
     "data": {
      "application/vnd.jupyter.widget-view+json": {
       "model_id": "0760201854d04b67ab26a3ba80497d8d",
       "version_major": 2,
       "version_minor": 0
      },
      "text/plain": [
       "timesteps:   0%|          | 0/7544 [00:00<?, ?it/s]"
      ]
     },
     "metadata": {},
     "output_type": "display_data"
    },
    {
     "data": {
      "application/vnd.jupyter.widget-view+json": {
       "model_id": "86fc7f7764a74c46a8824784a3dcbaec",
       "version_major": 2,
       "version_minor": 0
      },
      "text/plain": [
       "timesteps:   0%|          | 0/7544 [00:00<?, ?it/s]"
      ]
     },
     "metadata": {},
     "output_type": "display_data"
    },
    {
     "data": {
      "application/vnd.jupyter.widget-view+json": {
       "model_id": "47e5dfb58678456ca7b0143ea51b1964",
       "version_major": 2,
       "version_minor": 0
      },
      "text/plain": [
       "timesteps:   0%|          | 0/7544 [00:00<?, ?it/s]"
      ]
     },
     "metadata": {},
     "output_type": "display_data"
    },
    {
     "data": {
      "application/vnd.jupyter.widget-view+json": {
       "model_id": "2b86a8c7d1374ab4a6ed769e95ca730a",
       "version_major": 2,
       "version_minor": 0
      },
      "text/plain": [
       "timesteps:   0%|          | 0/7544 [00:00<?, ?it/s]"
      ]
     },
     "metadata": {},
     "output_type": "display_data"
    },
    {
     "name": "stdout",
     "output_type": "stream",
     "text": [
      "732 of 1000, minimal objective function=1.01727, time remaining: 00:00:46\n",
      "Objective function convergence criteria is now being updated and assessed...\n",
      "Updated convergence criteria: 2.857624\n",
      "ComplexEvo loop #7 in progress...\n"
     ]
    },
    {
     "data": {
      "application/vnd.jupyter.widget-view+json": {
       "model_id": "c5bc9ff29ce14e609aa0de010ca50315",
       "version_major": 2,
       "version_minor": 0
      },
      "text/plain": [
       "timesteps:   0%|          | 0/7544 [00:00<?, ?it/s]"
      ]
     },
     "metadata": {},
     "output_type": "display_data"
    },
    {
     "data": {
      "application/vnd.jupyter.widget-view+json": {
       "model_id": "a54e5609cefd4db6ae23b2fb07d2322e",
       "version_major": 2,
       "version_minor": 0
      },
      "text/plain": [
       "timesteps:   0%|          | 0/7544 [00:00<?, ?it/s]"
      ]
     },
     "metadata": {},
     "output_type": "display_data"
    },
    {
     "data": {
      "application/vnd.jupyter.widget-view+json": {
       "model_id": "be76b40754ee491dae8a94a6563238f5",
       "version_major": 2,
       "version_minor": 0
      },
      "text/plain": [
       "timesteps:   0%|          | 0/7544 [00:00<?, ?it/s]"
      ]
     },
     "metadata": {},
     "output_type": "display_data"
    },
    {
     "data": {
      "application/vnd.jupyter.widget-view+json": {
       "model_id": "ebd890bf0c57482da8217a4b36452955",
       "version_major": 2,
       "version_minor": 0
      },
      "text/plain": [
       "timesteps:   0%|          | 0/7544 [00:00<?, ?it/s]"
      ]
     },
     "metadata": {},
     "output_type": "display_data"
    },
    {
     "data": {
      "application/vnd.jupyter.widget-view+json": {
       "model_id": "819ca2786c2846679c4a4265511793ae",
       "version_major": 2,
       "version_minor": 0
      },
      "text/plain": [
       "timesteps:   0%|          | 0/7544 [00:00<?, ?it/s]"
      ]
     },
     "metadata": {},
     "output_type": "display_data"
    },
    {
     "data": {
      "application/vnd.jupyter.widget-view+json": {
       "model_id": "2dcdd5edeecd4af0b46a35d8cbeabbac",
       "version_major": 2,
       "version_minor": 0
      },
      "text/plain": [
       "timesteps:   0%|          | 0/7544 [00:00<?, ?it/s]"
      ]
     },
     "metadata": {},
     "output_type": "display_data"
    },
    {
     "data": {
      "application/vnd.jupyter.widget-view+json": {
       "model_id": "f1b7dbfc8e72460d8ced9d7b5fe38181",
       "version_major": 2,
       "version_minor": 0
      },
      "text/plain": [
       "timesteps:   0%|          | 0/7544 [00:00<?, ?it/s]"
      ]
     },
     "metadata": {},
     "output_type": "display_data"
    },
    {
     "data": {
      "application/vnd.jupyter.widget-view+json": {
       "model_id": "ea4850b309a7458eab96340c415f5725",
       "version_major": 2,
       "version_minor": 0
      },
      "text/plain": [
       "timesteps:   0%|          | 0/7544 [00:00<?, ?it/s]"
      ]
     },
     "metadata": {},
     "output_type": "display_data"
    },
    {
     "data": {
      "application/vnd.jupyter.widget-view+json": {
       "model_id": "826f7fbcfa6c4f66be129becfecea698",
       "version_major": 2,
       "version_minor": 0
      },
      "text/plain": [
       "timesteps:   0%|          | 0/7544 [00:00<?, ?it/s]"
      ]
     },
     "metadata": {},
     "output_type": "display_data"
    },
    {
     "data": {
      "application/vnd.jupyter.widget-view+json": {
       "model_id": "841eb66205dc4ee4aafc3f0b40498143",
       "version_major": 2,
       "version_minor": 0
      },
      "text/plain": [
       "timesteps:   0%|          | 0/7544 [00:00<?, ?it/s]"
      ]
     },
     "metadata": {},
     "output_type": "display_data"
    },
    {
     "data": {
      "application/vnd.jupyter.widget-view+json": {
       "model_id": "a17d108f64ba4312a262b374a835228a",
       "version_major": 2,
       "version_minor": 0
      },
      "text/plain": [
       "timesteps:   0%|          | 0/7544 [00:00<?, ?it/s]"
      ]
     },
     "metadata": {},
     "output_type": "display_data"
    },
    {
     "data": {
      "application/vnd.jupyter.widget-view+json": {
       "model_id": "9792e9d1c5194d4b96748c9507c2eff7",
       "version_major": 2,
       "version_minor": 0
      },
      "text/plain": [
       "timesteps:   0%|          | 0/7544 [00:00<?, ?it/s]"
      ]
     },
     "metadata": {},
     "output_type": "display_data"
    },
    {
     "data": {
      "application/vnd.jupyter.widget-view+json": {
       "model_id": "5f80b1c6e9804a549a596a379dd3baac",
       "version_major": 2,
       "version_minor": 0
      },
      "text/plain": [
       "timesteps:   0%|          | 0/7544 [00:00<?, ?it/s]"
      ]
     },
     "metadata": {},
     "output_type": "display_data"
    },
    {
     "data": {
      "application/vnd.jupyter.widget-view+json": {
       "model_id": "9750dfa539bd40398e411ef8a57cdbbb",
       "version_major": 2,
       "version_minor": 0
      },
      "text/plain": [
       "timesteps:   0%|          | 0/7544 [00:00<?, ?it/s]"
      ]
     },
     "metadata": {},
     "output_type": "display_data"
    },
    {
     "data": {
      "application/vnd.jupyter.widget-view+json": {
       "model_id": "bab766cdcde244a5be8777f1c4326931",
       "version_major": 2,
       "version_minor": 0
      },
      "text/plain": [
       "timesteps:   0%|          | 0/7544 [00:00<?, ?it/s]"
      ]
     },
     "metadata": {},
     "output_type": "display_data"
    },
    {
     "data": {
      "application/vnd.jupyter.widget-view+json": {
       "model_id": "b436cc5b22dc4941b8d464664065abf6",
       "version_major": 2,
       "version_minor": 0
      },
      "text/plain": [
       "timesteps:   0%|          | 0/7544 [00:00<?, ?it/s]"
      ]
     },
     "metadata": {},
     "output_type": "display_data"
    },
    {
     "data": {
      "application/vnd.jupyter.widget-view+json": {
       "model_id": "2f226d4bbc0d403faced5575b7e03459",
       "version_major": 2,
       "version_minor": 0
      },
      "text/plain": [
       "timesteps:   0%|          | 0/7544 [00:00<?, ?it/s]"
      ]
     },
     "metadata": {},
     "output_type": "display_data"
    },
    {
     "data": {
      "application/vnd.jupyter.widget-view+json": {
       "model_id": "2b8d00df5ed14dc095cc935f6c23b77d",
       "version_major": 2,
       "version_minor": 0
      },
      "text/plain": [
       "timesteps:   0%|          | 0/7544 [00:00<?, ?it/s]"
      ]
     },
     "metadata": {},
     "output_type": "display_data"
    },
    {
     "name": "stdout",
     "output_type": "stream",
     "text": [
      "761 of 1000, minimal objective function=1.01727, time remaining: 00:00:41\n"
     ]
    },
    {
     "data": {
      "application/vnd.jupyter.widget-view+json": {
       "model_id": "21a14bc590f14063aa0722fdfde07b37",
       "version_major": 2,
       "version_minor": 0
      },
      "text/plain": [
       "timesteps:   0%|          | 0/7544 [00:00<?, ?it/s]"
      ]
     },
     "metadata": {},
     "output_type": "display_data"
    },
    {
     "data": {
      "application/vnd.jupyter.widget-view+json": {
       "model_id": "3ecc2e50f2844992b2c8ac2efc4bf768",
       "version_major": 2,
       "version_minor": 0
      },
      "text/plain": [
       "timesteps:   0%|          | 0/7544 [00:00<?, ?it/s]"
      ]
     },
     "metadata": {},
     "output_type": "display_data"
    },
    {
     "data": {
      "application/vnd.jupyter.widget-view+json": {
       "model_id": "c81e015e6eb749eb9267ac330e48f231",
       "version_major": 2,
       "version_minor": 0
      },
      "text/plain": [
       "timesteps:   0%|          | 0/7544 [00:00<?, ?it/s]"
      ]
     },
     "metadata": {},
     "output_type": "display_data"
    },
    {
     "data": {
      "application/vnd.jupyter.widget-view+json": {
       "model_id": "51b436996a0a4781a643ce56a6b9cfd6",
       "version_major": 2,
       "version_minor": 0
      },
      "text/plain": [
       "timesteps:   0%|          | 0/7544 [00:00<?, ?it/s]"
      ]
     },
     "metadata": {},
     "output_type": "display_data"
    },
    {
     "data": {
      "application/vnd.jupyter.widget-view+json": {
       "model_id": "a847afb23f874e1e875567ed805351df",
       "version_major": 2,
       "version_minor": 0
      },
      "text/plain": [
       "timesteps:   0%|          | 0/7544 [00:00<?, ?it/s]"
      ]
     },
     "metadata": {},
     "output_type": "display_data"
    },
    {
     "data": {
      "application/vnd.jupyter.widget-view+json": {
       "model_id": "4031ed2e67f24bcebbbfda7e299d0334",
       "version_major": 2,
       "version_minor": 0
      },
      "text/plain": [
       "timesteps:   0%|          | 0/7544 [00:00<?, ?it/s]"
      ]
     },
     "metadata": {},
     "output_type": "display_data"
    },
    {
     "data": {
      "application/vnd.jupyter.widget-view+json": {
       "model_id": "fa6fc0a5773f408aa092dca13fe00d51",
       "version_major": 2,
       "version_minor": 0
      },
      "text/plain": [
       "timesteps:   0%|          | 0/7544 [00:00<?, ?it/s]"
      ]
     },
     "metadata": {},
     "output_type": "display_data"
    },
    {
     "data": {
      "application/vnd.jupyter.widget-view+json": {
       "model_id": "b11d338cc64e4235918de24f49f834ba",
       "version_major": 2,
       "version_minor": 0
      },
      "text/plain": [
       "timesteps:   0%|          | 0/7544 [00:00<?, ?it/s]"
      ]
     },
     "metadata": {},
     "output_type": "display_data"
    },
    {
     "data": {
      "application/vnd.jupyter.widget-view+json": {
       "model_id": "1af7b96c41b24bc8a82664f4b7ef06d1",
       "version_major": 2,
       "version_minor": 0
      },
      "text/plain": [
       "timesteps:   0%|          | 0/7544 [00:00<?, ?it/s]"
      ]
     },
     "metadata": {},
     "output_type": "display_data"
    },
    {
     "data": {
      "application/vnd.jupyter.widget-view+json": {
       "model_id": "bd336a47fd9c49b78c33258dfbe6fb5d",
       "version_major": 2,
       "version_minor": 0
      },
      "text/plain": [
       "timesteps:   0%|          | 0/7544 [00:00<?, ?it/s]"
      ]
     },
     "metadata": {},
     "output_type": "display_data"
    },
    {
     "data": {
      "application/vnd.jupyter.widget-view+json": {
       "model_id": "d27d81ce2c3c46f6ab6a238e8955dd5a",
       "version_major": 2,
       "version_minor": 0
      },
      "text/plain": [
       "timesteps:   0%|          | 0/7544 [00:00<?, ?it/s]"
      ]
     },
     "metadata": {},
     "output_type": "display_data"
    },
    {
     "data": {
      "application/vnd.jupyter.widget-view+json": {
       "model_id": "3f16983a5c174ccfab4fce268a126876",
       "version_major": 2,
       "version_minor": 0
      },
      "text/plain": [
       "timesteps:   0%|          | 0/7544 [00:00<?, ?it/s]"
      ]
     },
     "metadata": {},
     "output_type": "display_data"
    },
    {
     "data": {
      "application/vnd.jupyter.widget-view+json": {
       "model_id": "7f34c39cfc5846ed82a59cc34cf49389",
       "version_major": 2,
       "version_minor": 0
      },
      "text/plain": [
       "timesteps:   0%|          | 0/7544 [00:00<?, ?it/s]"
      ]
     },
     "metadata": {},
     "output_type": "display_data"
    },
    {
     "data": {
      "application/vnd.jupyter.widget-view+json": {
       "model_id": "785b8bc69aae411a90ea11264cf2b575",
       "version_major": 2,
       "version_minor": 0
      },
      "text/plain": [
       "timesteps:   0%|          | 0/7544 [00:00<?, ?it/s]"
      ]
     },
     "metadata": {},
     "output_type": "display_data"
    },
    {
     "data": {
      "application/vnd.jupyter.widget-view+json": {
       "model_id": "b95d0b30a8074c93ae5cd950cc09173d",
       "version_major": 2,
       "version_minor": 0
      },
      "text/plain": [
       "timesteps:   0%|          | 0/7544 [00:00<?, ?it/s]"
      ]
     },
     "metadata": {},
     "output_type": "display_data"
    },
    {
     "data": {
      "application/vnd.jupyter.widget-view+json": {
       "model_id": "3e07891d94394bb3a2631f65f3c90747",
       "version_major": 2,
       "version_minor": 0
      },
      "text/plain": [
       "timesteps:   0%|          | 0/7544 [00:00<?, ?it/s]"
      ]
     },
     "metadata": {},
     "output_type": "display_data"
    },
    {
     "data": {
      "application/vnd.jupyter.widget-view+json": {
       "model_id": "6baa6a5ec5c547bfacdbd3aaf0c160ce",
       "version_major": 2,
       "version_minor": 0
      },
      "text/plain": [
       "timesteps:   0%|          | 0/7544 [00:00<?, ?it/s]"
      ]
     },
     "metadata": {},
     "output_type": "display_data"
    },
    {
     "data": {
      "application/vnd.jupyter.widget-view+json": {
       "model_id": "9b7b3aa5f0014dc79c23428641304ef9",
       "version_major": 2,
       "version_minor": 0
      },
      "text/plain": [
       "timesteps:   0%|          | 0/7544 [00:00<?, ?it/s]"
      ]
     },
     "metadata": {},
     "output_type": "display_data"
    },
    {
     "name": "stdout",
     "output_type": "stream",
     "text": [
      "790 of 1000, minimal objective function=1.0048, time remaining: 00:00:36\n"
     ]
    },
    {
     "data": {
      "application/vnd.jupyter.widget-view+json": {
       "model_id": "df7a8f281ca44815b1d14e6d8dbd120e",
       "version_major": 2,
       "version_minor": 0
      },
      "text/plain": [
       "timesteps:   0%|          | 0/7544 [00:00<?, ?it/s]"
      ]
     },
     "metadata": {},
     "output_type": "display_data"
    },
    {
     "data": {
      "application/vnd.jupyter.widget-view+json": {
       "model_id": "1b34464c6a204ce5943574dc544f9001",
       "version_major": 2,
       "version_minor": 0
      },
      "text/plain": [
       "timesteps:   0%|          | 0/7544 [00:00<?, ?it/s]"
      ]
     },
     "metadata": {},
     "output_type": "display_data"
    },
    {
     "data": {
      "application/vnd.jupyter.widget-view+json": {
       "model_id": "b35eb7deadf84fa6adee04afd5656ec6",
       "version_major": 2,
       "version_minor": 0
      },
      "text/plain": [
       "timesteps:   0%|          | 0/7544 [00:00<?, ?it/s]"
      ]
     },
     "metadata": {},
     "output_type": "display_data"
    },
    {
     "data": {
      "application/vnd.jupyter.widget-view+json": {
       "model_id": "56470306746a4d49848e05101b9fc5e4",
       "version_major": 2,
       "version_minor": 0
      },
      "text/plain": [
       "timesteps:   0%|          | 0/7544 [00:00<?, ?it/s]"
      ]
     },
     "metadata": {},
     "output_type": "display_data"
    },
    {
     "data": {
      "application/vnd.jupyter.widget-view+json": {
       "model_id": "5e30dc3844834a439197cefa37432e9f",
       "version_major": 2,
       "version_minor": 0
      },
      "text/plain": [
       "timesteps:   0%|          | 0/7544 [00:00<?, ?it/s]"
      ]
     },
     "metadata": {},
     "output_type": "display_data"
    },
    {
     "data": {
      "application/vnd.jupyter.widget-view+json": {
       "model_id": "4decb33b33184230912ce3d19574dd26",
       "version_major": 2,
       "version_minor": 0
      },
      "text/plain": [
       "timesteps:   0%|          | 0/7544 [00:00<?, ?it/s]"
      ]
     },
     "metadata": {},
     "output_type": "display_data"
    },
    {
     "data": {
      "application/vnd.jupyter.widget-view+json": {
       "model_id": "246290795e9549fcb11e4adcc916f6eb",
       "version_major": 2,
       "version_minor": 0
      },
      "text/plain": [
       "timesteps:   0%|          | 0/7544 [00:00<?, ?it/s]"
      ]
     },
     "metadata": {},
     "output_type": "display_data"
    },
    {
     "data": {
      "application/vnd.jupyter.widget-view+json": {
       "model_id": "6542c35b590a4f319a4e7a6c38cd8f66",
       "version_major": 2,
       "version_minor": 0
      },
      "text/plain": [
       "timesteps:   0%|          | 0/7544 [00:00<?, ?it/s]"
      ]
     },
     "metadata": {},
     "output_type": "display_data"
    },
    {
     "data": {
      "application/vnd.jupyter.widget-view+json": {
       "model_id": "ec813404e87e4d8ebfb47d757e74eeba",
       "version_major": 2,
       "version_minor": 0
      },
      "text/plain": [
       "timesteps:   0%|          | 0/7544 [00:00<?, ?it/s]"
      ]
     },
     "metadata": {},
     "output_type": "display_data"
    },
    {
     "data": {
      "application/vnd.jupyter.widget-view+json": {
       "model_id": "38c9bba4481748f29b00a2ea6e418f4b",
       "version_major": 2,
       "version_minor": 0
      },
      "text/plain": [
       "timesteps:   0%|          | 0/7544 [00:00<?, ?it/s]"
      ]
     },
     "metadata": {},
     "output_type": "display_data"
    },
    {
     "data": {
      "application/vnd.jupyter.widget-view+json": {
       "model_id": "2f034d6b45784ae1b087e0c64279e60e",
       "version_major": 2,
       "version_minor": 0
      },
      "text/plain": [
       "timesteps:   0%|          | 0/7544 [00:00<?, ?it/s]"
      ]
     },
     "metadata": {},
     "output_type": "display_data"
    },
    {
     "data": {
      "application/vnd.jupyter.widget-view+json": {
       "model_id": "c113070606774b1db1abfedb189acbc7",
       "version_major": 2,
       "version_minor": 0
      },
      "text/plain": [
       "timesteps:   0%|          | 0/7544 [00:00<?, ?it/s]"
      ]
     },
     "metadata": {},
     "output_type": "display_data"
    },
    {
     "data": {
      "application/vnd.jupyter.widget-view+json": {
       "model_id": "58c9481a03084731a63268cfa1d4f1f1",
       "version_major": 2,
       "version_minor": 0
      },
      "text/plain": [
       "timesteps:   0%|          | 0/7544 [00:00<?, ?it/s]"
      ]
     },
     "metadata": {},
     "output_type": "display_data"
    },
    {
     "data": {
      "application/vnd.jupyter.widget-view+json": {
       "model_id": "54bdaa8cc9df4ed19c5a7987310a6dd7",
       "version_major": 2,
       "version_minor": 0
      },
      "text/plain": [
       "timesteps:   0%|          | 0/7544 [00:00<?, ?it/s]"
      ]
     },
     "metadata": {},
     "output_type": "display_data"
    },
    {
     "data": {
      "application/vnd.jupyter.widget-view+json": {
       "model_id": "0763f8a29ec541958ba0f3a0d679967d",
       "version_major": 2,
       "version_minor": 0
      },
      "text/plain": [
       "timesteps:   0%|          | 0/7544 [00:00<?, ?it/s]"
      ]
     },
     "metadata": {},
     "output_type": "display_data"
    },
    {
     "data": {
      "application/vnd.jupyter.widget-view+json": {
       "model_id": "3e01714071c74f268694b0b25b6a7392",
       "version_major": 2,
       "version_minor": 0
      },
      "text/plain": [
       "timesteps:   0%|          | 0/7544 [00:00<?, ?it/s]"
      ]
     },
     "metadata": {},
     "output_type": "display_data"
    },
    {
     "data": {
      "application/vnd.jupyter.widget-view+json": {
       "model_id": "2031cee55b4f429f8dfcd92522cc31c5",
       "version_major": 2,
       "version_minor": 0
      },
      "text/plain": [
       "timesteps:   0%|          | 0/7544 [00:00<?, ?it/s]"
      ]
     },
     "metadata": {},
     "output_type": "display_data"
    },
    {
     "data": {
      "application/vnd.jupyter.widget-view+json": {
       "model_id": "c6b7fcd4b584451fb396115be160e635",
       "version_major": 2,
       "version_minor": 0
      },
      "text/plain": [
       "timesteps:   0%|          | 0/7544 [00:00<?, ?it/s]"
      ]
     },
     "metadata": {},
     "output_type": "display_data"
    },
    {
     "data": {
      "application/vnd.jupyter.widget-view+json": {
       "model_id": "0242b0df77be4ead87d9aad2ae891db0",
       "version_major": 2,
       "version_minor": 0
      },
      "text/plain": [
       "timesteps:   0%|          | 0/7544 [00:00<?, ?it/s]"
      ]
     },
     "metadata": {},
     "output_type": "display_data"
    },
    {
     "data": {
      "application/vnd.jupyter.widget-view+json": {
       "model_id": "e53c87c26bde42eca37972a2c648330b",
       "version_major": 2,
       "version_minor": 0
      },
      "text/plain": [
       "timesteps:   0%|          | 0/7544 [00:00<?, ?it/s]"
      ]
     },
     "metadata": {},
     "output_type": "display_data"
    },
    {
     "name": "stdout",
     "output_type": "stream",
     "text": [
      "821 of 1000, minimal objective function=1.0048, time remaining: 00:00:30\n"
     ]
    },
    {
     "data": {
      "application/vnd.jupyter.widget-view+json": {
       "model_id": "4860aa04bb18430da74e8eeba7fc0247",
       "version_major": 2,
       "version_minor": 0
      },
      "text/plain": [
       "timesteps:   0%|          | 0/7544 [00:00<?, ?it/s]"
      ]
     },
     "metadata": {},
     "output_type": "display_data"
    },
    {
     "data": {
      "application/vnd.jupyter.widget-view+json": {
       "model_id": "42b769a2e6c641edb4c93bb9f65161bb",
       "version_major": 2,
       "version_minor": 0
      },
      "text/plain": [
       "timesteps:   0%|          | 0/7544 [00:00<?, ?it/s]"
      ]
     },
     "metadata": {},
     "output_type": "display_data"
    },
    {
     "data": {
      "application/vnd.jupyter.widget-view+json": {
       "model_id": "63f8ae8ac46448ae88888b714c0fff3b",
       "version_major": 2,
       "version_minor": 0
      },
      "text/plain": [
       "timesteps:   0%|          | 0/7544 [00:00<?, ?it/s]"
      ]
     },
     "metadata": {},
     "output_type": "display_data"
    },
    {
     "data": {
      "application/vnd.jupyter.widget-view+json": {
       "model_id": "ecaa2c0588ae4ec59ca475e208922c5b",
       "version_major": 2,
       "version_minor": 0
      },
      "text/plain": [
       "timesteps:   0%|          | 0/7544 [00:00<?, ?it/s]"
      ]
     },
     "metadata": {},
     "output_type": "display_data"
    },
    {
     "data": {
      "application/vnd.jupyter.widget-view+json": {
       "model_id": "9ad5dc4fd6d247468ac41729f5868bfc",
       "version_major": 2,
       "version_minor": 0
      },
      "text/plain": [
       "timesteps:   0%|          | 0/7544 [00:00<?, ?it/s]"
      ]
     },
     "metadata": {},
     "output_type": "display_data"
    },
    {
     "data": {
      "application/vnd.jupyter.widget-view+json": {
       "model_id": "96854209c1fe41f388c78157b703f353",
       "version_major": 2,
       "version_minor": 0
      },
      "text/plain": [
       "timesteps:   0%|          | 0/7544 [00:00<?, ?it/s]"
      ]
     },
     "metadata": {},
     "output_type": "display_data"
    },
    {
     "data": {
      "application/vnd.jupyter.widget-view+json": {
       "model_id": "4adf44411f644395a178a3953d8207a6",
       "version_major": 2,
       "version_minor": 0
      },
      "text/plain": [
       "timesteps:   0%|          | 0/7544 [00:00<?, ?it/s]"
      ]
     },
     "metadata": {},
     "output_type": "display_data"
    },
    {
     "data": {
      "application/vnd.jupyter.widget-view+json": {
       "model_id": "32380529c80b48f3beada7f0ad139f9b",
       "version_major": 2,
       "version_minor": 0
      },
      "text/plain": [
       "timesteps:   0%|          | 0/7544 [00:00<?, ?it/s]"
      ]
     },
     "metadata": {},
     "output_type": "display_data"
    },
    {
     "data": {
      "application/vnd.jupyter.widget-view+json": {
       "model_id": "b4e354d9aa374779957f7c094e85d331",
       "version_major": 2,
       "version_minor": 0
      },
      "text/plain": [
       "timesteps:   0%|          | 0/7544 [00:00<?, ?it/s]"
      ]
     },
     "metadata": {},
     "output_type": "display_data"
    },
    {
     "data": {
      "application/vnd.jupyter.widget-view+json": {
       "model_id": "999eb518ef604ea88332faf8c3c9c2e0",
       "version_major": 2,
       "version_minor": 0
      },
      "text/plain": [
       "timesteps:   0%|          | 0/7544 [00:00<?, ?it/s]"
      ]
     },
     "metadata": {},
     "output_type": "display_data"
    },
    {
     "data": {
      "application/vnd.jupyter.widget-view+json": {
       "model_id": "1f54dc7a24634d1ba97ea1cca5ef300b",
       "version_major": 2,
       "version_minor": 0
      },
      "text/plain": [
       "timesteps:   0%|          | 0/7544 [00:00<?, ?it/s]"
      ]
     },
     "metadata": {},
     "output_type": "display_data"
    },
    {
     "data": {
      "application/vnd.jupyter.widget-view+json": {
       "model_id": "bb970cda5838435eab64fb93c094e08f",
       "version_major": 2,
       "version_minor": 0
      },
      "text/plain": [
       "timesteps:   0%|          | 0/7544 [00:00<?, ?it/s]"
      ]
     },
     "metadata": {},
     "output_type": "display_data"
    },
    {
     "data": {
      "application/vnd.jupyter.widget-view+json": {
       "model_id": "bd50d184e86c49ce97cf445757e4c068",
       "version_major": 2,
       "version_minor": 0
      },
      "text/plain": [
       "timesteps:   0%|          | 0/7544 [00:00<?, ?it/s]"
      ]
     },
     "metadata": {},
     "output_type": "display_data"
    },
    {
     "data": {
      "application/vnd.jupyter.widget-view+json": {
       "model_id": "94f052468b80466ab2a4d63ec83efcce",
       "version_major": 2,
       "version_minor": 0
      },
      "text/plain": [
       "timesteps:   0%|          | 0/7544 [00:00<?, ?it/s]"
      ]
     },
     "metadata": {},
     "output_type": "display_data"
    },
    {
     "data": {
      "application/vnd.jupyter.widget-view+json": {
       "model_id": "1e1fe61c8de2473f8bc138a5ea552eaf",
       "version_major": 2,
       "version_minor": 0
      },
      "text/plain": [
       "timesteps:   0%|          | 0/7544 [00:00<?, ?it/s]"
      ]
     },
     "metadata": {},
     "output_type": "display_data"
    },
    {
     "data": {
      "application/vnd.jupyter.widget-view+json": {
       "model_id": "5b2b294767ea41529d5b6717bbfeac02",
       "version_major": 2,
       "version_minor": 0
      },
      "text/plain": [
       "timesteps:   0%|          | 0/7544 [00:00<?, ?it/s]"
      ]
     },
     "metadata": {},
     "output_type": "display_data"
    },
    {
     "data": {
      "application/vnd.jupyter.widget-view+json": {
       "model_id": "7fddad5ce53c4f50b980b1d6c61367de",
       "version_major": 2,
       "version_minor": 0
      },
      "text/plain": [
       "timesteps:   0%|          | 0/7544 [00:00<?, ?it/s]"
      ]
     },
     "metadata": {},
     "output_type": "display_data"
    },
    {
     "data": {
      "application/vnd.jupyter.widget-view+json": {
       "model_id": "7bced8e275ec45f088be9d4b7f5eaeb9",
       "version_major": 2,
       "version_minor": 0
      },
      "text/plain": [
       "timesteps:   0%|          | 0/7544 [00:00<?, ?it/s]"
      ]
     },
     "metadata": {},
     "output_type": "display_data"
    },
    {
     "data": {
      "application/vnd.jupyter.widget-view+json": {
       "model_id": "3ccbd48b5af941d9b31a4f76181791ef",
       "version_major": 2,
       "version_minor": 0
      },
      "text/plain": [
       "timesteps:   0%|          | 0/7544 [00:00<?, ?it/s]"
      ]
     },
     "metadata": {},
     "output_type": "display_data"
    },
    {
     "data": {
      "application/vnd.jupyter.widget-view+json": {
       "model_id": "b054262e4e394ee790bd054cba1d549c",
       "version_major": 2,
       "version_minor": 0
      },
      "text/plain": [
       "timesteps:   0%|          | 0/7544 [00:00<?, ?it/s]"
      ]
     },
     "metadata": {},
     "output_type": "display_data"
    },
    {
     "name": "stdout",
     "output_type": "stream",
     "text": [
      "852 of 1000, minimal objective function=1.0048, time remaining: 00:00:25\n",
      "Objective function convergence criteria is now being updated and assessed...\n",
      "Updated convergence criteria: 2.819872\n",
      "ComplexEvo loop #8 in progress...\n"
     ]
    },
    {
     "data": {
      "application/vnd.jupyter.widget-view+json": {
       "model_id": "85e2f990b848477b8ec38efe79b50ab5",
       "version_major": 2,
       "version_minor": 0
      },
      "text/plain": [
       "timesteps:   0%|          | 0/7544 [00:00<?, ?it/s]"
      ]
     },
     "metadata": {},
     "output_type": "display_data"
    },
    {
     "data": {
      "application/vnd.jupyter.widget-view+json": {
       "model_id": "dbef98ef412a44ca998337aa3fb2bd9f",
       "version_major": 2,
       "version_minor": 0
      },
      "text/plain": [
       "timesteps:   0%|          | 0/7544 [00:00<?, ?it/s]"
      ]
     },
     "metadata": {},
     "output_type": "display_data"
    },
    {
     "data": {
      "application/vnd.jupyter.widget-view+json": {
       "model_id": "5754fa1229b64319abec3c42a7ab6a82",
       "version_major": 2,
       "version_minor": 0
      },
      "text/plain": [
       "timesteps:   0%|          | 0/7544 [00:00<?, ?it/s]"
      ]
     },
     "metadata": {},
     "output_type": "display_data"
    },
    {
     "data": {
      "application/vnd.jupyter.widget-view+json": {
       "model_id": "ba7a982b272b4d9681cb6c5f9de23219",
       "version_major": 2,
       "version_minor": 0
      },
      "text/plain": [
       "timesteps:   0%|          | 0/7544 [00:00<?, ?it/s]"
      ]
     },
     "metadata": {},
     "output_type": "display_data"
    },
    {
     "data": {
      "application/vnd.jupyter.widget-view+json": {
       "model_id": "8a5e4009b86f4952a5b2665e2c7f1762",
       "version_major": 2,
       "version_minor": 0
      },
      "text/plain": [
       "timesteps:   0%|          | 0/7544 [00:00<?, ?it/s]"
      ]
     },
     "metadata": {},
     "output_type": "display_data"
    },
    {
     "data": {
      "application/vnd.jupyter.widget-view+json": {
       "model_id": "853920d05d084cb49464cc509a3e0e8d",
       "version_major": 2,
       "version_minor": 0
      },
      "text/plain": [
       "timesteps:   0%|          | 0/7544 [00:00<?, ?it/s]"
      ]
     },
     "metadata": {},
     "output_type": "display_data"
    },
    {
     "data": {
      "application/vnd.jupyter.widget-view+json": {
       "model_id": "9d1e932f46c64da2b539491142dd3b19",
       "version_major": 2,
       "version_minor": 0
      },
      "text/plain": [
       "timesteps:   0%|          | 0/7544 [00:00<?, ?it/s]"
      ]
     },
     "metadata": {},
     "output_type": "display_data"
    },
    {
     "data": {
      "application/vnd.jupyter.widget-view+json": {
       "model_id": "61008f4b9c70439aa308ec5c7908f449",
       "version_major": 2,
       "version_minor": 0
      },
      "text/plain": [
       "timesteps:   0%|          | 0/7544 [00:00<?, ?it/s]"
      ]
     },
     "metadata": {},
     "output_type": "display_data"
    },
    {
     "data": {
      "application/vnd.jupyter.widget-view+json": {
       "model_id": "3b1cce0ea3b2425b877bdc42cc892427",
       "version_major": 2,
       "version_minor": 0
      },
      "text/plain": [
       "timesteps:   0%|          | 0/7544 [00:00<?, ?it/s]"
      ]
     },
     "metadata": {},
     "output_type": "display_data"
    },
    {
     "data": {
      "application/vnd.jupyter.widget-view+json": {
       "model_id": "2081424a44794e45bcac2a92d2d34ebd",
       "version_major": 2,
       "version_minor": 0
      },
      "text/plain": [
       "timesteps:   0%|          | 0/7544 [00:00<?, ?it/s]"
      ]
     },
     "metadata": {},
     "output_type": "display_data"
    },
    {
     "data": {
      "application/vnd.jupyter.widget-view+json": {
       "model_id": "4f7f72eddcb04e9e85942b091e8daf55",
       "version_major": 2,
       "version_minor": 0
      },
      "text/plain": [
       "timesteps:   0%|          | 0/7544 [00:00<?, ?it/s]"
      ]
     },
     "metadata": {},
     "output_type": "display_data"
    },
    {
     "data": {
      "application/vnd.jupyter.widget-view+json": {
       "model_id": "8a4807f61122471eadd1c27ea41a7640",
       "version_major": 2,
       "version_minor": 0
      },
      "text/plain": [
       "timesteps:   0%|          | 0/7544 [00:00<?, ?it/s]"
      ]
     },
     "metadata": {},
     "output_type": "display_data"
    },
    {
     "data": {
      "application/vnd.jupyter.widget-view+json": {
       "model_id": "63dc756e89734ea2be8dafe850559c00",
       "version_major": 2,
       "version_minor": 0
      },
      "text/plain": [
       "timesteps:   0%|          | 0/7544 [00:00<?, ?it/s]"
      ]
     },
     "metadata": {},
     "output_type": "display_data"
    },
    {
     "data": {
      "application/vnd.jupyter.widget-view+json": {
       "model_id": "71a5da60ad9b4652a64ddd8eda60aea9",
       "version_major": 2,
       "version_minor": 0
      },
      "text/plain": [
       "timesteps:   0%|          | 0/7544 [00:00<?, ?it/s]"
      ]
     },
     "metadata": {},
     "output_type": "display_data"
    },
    {
     "data": {
      "application/vnd.jupyter.widget-view+json": {
       "model_id": "44ef525551ad461eb92f8975c8a37135",
       "version_major": 2,
       "version_minor": 0
      },
      "text/plain": [
       "timesteps:   0%|          | 0/7544 [00:00<?, ?it/s]"
      ]
     },
     "metadata": {},
     "output_type": "display_data"
    },
    {
     "data": {
      "application/vnd.jupyter.widget-view+json": {
       "model_id": "06bec360260947f1b887f4420d88da5f",
       "version_major": 2,
       "version_minor": 0
      },
      "text/plain": [
       "timesteps:   0%|          | 0/7544 [00:00<?, ?it/s]"
      ]
     },
     "metadata": {},
     "output_type": "display_data"
    },
    {
     "data": {
      "application/vnd.jupyter.widget-view+json": {
       "model_id": "f82d5a9753b54ea0b15cfa4f21f02c8e",
       "version_major": 2,
       "version_minor": 0
      },
      "text/plain": [
       "timesteps:   0%|          | 0/7544 [00:00<?, ?it/s]"
      ]
     },
     "metadata": {},
     "output_type": "display_data"
    },
    {
     "data": {
      "application/vnd.jupyter.widget-view+json": {
       "model_id": "b1a6f10d909c4824ada67a03f2fcf5f2",
       "version_major": 2,
       "version_minor": 0
      },
      "text/plain": [
       "timesteps:   0%|          | 0/7544 [00:00<?, ?it/s]"
      ]
     },
     "metadata": {},
     "output_type": "display_data"
    },
    {
     "data": {
      "application/vnd.jupyter.widget-view+json": {
       "model_id": "24d770e256e24ad7bb8ebfc335314d9a",
       "version_major": 2,
       "version_minor": 0
      },
      "text/plain": [
       "timesteps:   0%|          | 0/7544 [00:00<?, ?it/s]"
      ]
     },
     "metadata": {},
     "output_type": "display_data"
    },
    {
     "name": "stdout",
     "output_type": "stream",
     "text": [
      "882 of 1000, minimal objective function=1.0048, time remaining: 00:00:20\n"
     ]
    },
    {
     "data": {
      "application/vnd.jupyter.widget-view+json": {
       "model_id": "43f2a5af5c70491d9a7217608110e6d5",
       "version_major": 2,
       "version_minor": 0
      },
      "text/plain": [
       "timesteps:   0%|          | 0/7544 [00:00<?, ?it/s]"
      ]
     },
     "metadata": {},
     "output_type": "display_data"
    },
    {
     "data": {
      "application/vnd.jupyter.widget-view+json": {
       "model_id": "6db3c9128f8847f3ab9aa319ab2b2e1e",
       "version_major": 2,
       "version_minor": 0
      },
      "text/plain": [
       "timesteps:   0%|          | 0/7544 [00:00<?, ?it/s]"
      ]
     },
     "metadata": {},
     "output_type": "display_data"
    },
    {
     "data": {
      "application/vnd.jupyter.widget-view+json": {
       "model_id": "38f44b58ade049b881f312961a2b725a",
       "version_major": 2,
       "version_minor": 0
      },
      "text/plain": [
       "timesteps:   0%|          | 0/7544 [00:00<?, ?it/s]"
      ]
     },
     "metadata": {},
     "output_type": "display_data"
    },
    {
     "data": {
      "application/vnd.jupyter.widget-view+json": {
       "model_id": "174da93bf67b49209deb13b25b8c553b",
       "version_major": 2,
       "version_minor": 0
      },
      "text/plain": [
       "timesteps:   0%|          | 0/7544 [00:00<?, ?it/s]"
      ]
     },
     "metadata": {},
     "output_type": "display_data"
    },
    {
     "data": {
      "application/vnd.jupyter.widget-view+json": {
       "model_id": "834cca46edfa4b888b42a0ea0e29e11e",
       "version_major": 2,
       "version_minor": 0
      },
      "text/plain": [
       "timesteps:   0%|          | 0/7544 [00:00<?, ?it/s]"
      ]
     },
     "metadata": {},
     "output_type": "display_data"
    },
    {
     "data": {
      "application/vnd.jupyter.widget-view+json": {
       "model_id": "cba2000249784b72bde1b9df233c9bdc",
       "version_major": 2,
       "version_minor": 0
      },
      "text/plain": [
       "timesteps:   0%|          | 0/7544 [00:00<?, ?it/s]"
      ]
     },
     "metadata": {},
     "output_type": "display_data"
    },
    {
     "data": {
      "application/vnd.jupyter.widget-view+json": {
       "model_id": "7dd08721161a422ebdab0723389c793c",
       "version_major": 2,
       "version_minor": 0
      },
      "text/plain": [
       "timesteps:   0%|          | 0/7544 [00:00<?, ?it/s]"
      ]
     },
     "metadata": {},
     "output_type": "display_data"
    },
    {
     "data": {
      "application/vnd.jupyter.widget-view+json": {
       "model_id": "20107c8e3eb54baba1faec22829f5938",
       "version_major": 2,
       "version_minor": 0
      },
      "text/plain": [
       "timesteps:   0%|          | 0/7544 [00:00<?, ?it/s]"
      ]
     },
     "metadata": {},
     "output_type": "display_data"
    },
    {
     "data": {
      "application/vnd.jupyter.widget-view+json": {
       "model_id": "6bf2d0098f164f97a5f40831b72a32cd",
       "version_major": 2,
       "version_minor": 0
      },
      "text/plain": [
       "timesteps:   0%|          | 0/7544 [00:00<?, ?it/s]"
      ]
     },
     "metadata": {},
     "output_type": "display_data"
    },
    {
     "data": {
      "application/vnd.jupyter.widget-view+json": {
       "model_id": "1c909d5e4704444cb9d09956e71a5467",
       "version_major": 2,
       "version_minor": 0
      },
      "text/plain": [
       "timesteps:   0%|          | 0/7544 [00:00<?, ?it/s]"
      ]
     },
     "metadata": {},
     "output_type": "display_data"
    },
    {
     "data": {
      "application/vnd.jupyter.widget-view+json": {
       "model_id": "73b0137f06bb4980adf5c4b4eab19df5",
       "version_major": 2,
       "version_minor": 0
      },
      "text/plain": [
       "timesteps:   0%|          | 0/7544 [00:00<?, ?it/s]"
      ]
     },
     "metadata": {},
     "output_type": "display_data"
    },
    {
     "data": {
      "application/vnd.jupyter.widget-view+json": {
       "model_id": "f874bdfd40a24219bc53bed36c918c71",
       "version_major": 2,
       "version_minor": 0
      },
      "text/plain": [
       "timesteps:   0%|          | 0/7544 [00:00<?, ?it/s]"
      ]
     },
     "metadata": {},
     "output_type": "display_data"
    },
    {
     "data": {
      "application/vnd.jupyter.widget-view+json": {
       "model_id": "70b3fb5dedf24011a1cbedeb00725dc6",
       "version_major": 2,
       "version_minor": 0
      },
      "text/plain": [
       "timesteps:   0%|          | 0/7544 [00:00<?, ?it/s]"
      ]
     },
     "metadata": {},
     "output_type": "display_data"
    },
    {
     "data": {
      "application/vnd.jupyter.widget-view+json": {
       "model_id": "479c50c3955b46139ed4d705e0b16d05",
       "version_major": 2,
       "version_minor": 0
      },
      "text/plain": [
       "timesteps:   0%|          | 0/7544 [00:00<?, ?it/s]"
      ]
     },
     "metadata": {},
     "output_type": "display_data"
    },
    {
     "data": {
      "application/vnd.jupyter.widget-view+json": {
       "model_id": "986d7df02b494869b4182b839b16c48f",
       "version_major": 2,
       "version_minor": 0
      },
      "text/plain": [
       "timesteps:   0%|          | 0/7544 [00:00<?, ?it/s]"
      ]
     },
     "metadata": {},
     "output_type": "display_data"
    },
    {
     "data": {
      "application/vnd.jupyter.widget-view+json": {
       "model_id": "bbf497eb5a8b447fb90af35b7b6eca40",
       "version_major": 2,
       "version_minor": 0
      },
      "text/plain": [
       "timesteps:   0%|          | 0/7544 [00:00<?, ?it/s]"
      ]
     },
     "metadata": {},
     "output_type": "display_data"
    },
    {
     "data": {
      "application/vnd.jupyter.widget-view+json": {
       "model_id": "a86f615ae4fd45e390647d9395158fd8",
       "version_major": 2,
       "version_minor": 0
      },
      "text/plain": [
       "timesteps:   0%|          | 0/7544 [00:00<?, ?it/s]"
      ]
     },
     "metadata": {},
     "output_type": "display_data"
    },
    {
     "data": {
      "application/vnd.jupyter.widget-view+json": {
       "model_id": "b7adda882d2144b68d7d4538756c1473",
       "version_major": 2,
       "version_minor": 0
      },
      "text/plain": [
       "timesteps:   0%|          | 0/7544 [00:00<?, ?it/s]"
      ]
     },
     "metadata": {},
     "output_type": "display_data"
    },
    {
     "data": {
      "application/vnd.jupyter.widget-view+json": {
       "model_id": "237ad3465813410d8a0c427bfd9c2a09",
       "version_major": 2,
       "version_minor": 0
      },
      "text/plain": [
       "timesteps:   0%|          | 0/7544 [00:00<?, ?it/s]"
      ]
     },
     "metadata": {},
     "output_type": "display_data"
    },
    {
     "name": "stdout",
     "output_type": "stream",
     "text": [
      "912 of 1000, minimal objective function=1.0048, time remaining: 00:00:15\n"
     ]
    },
    {
     "data": {
      "application/vnd.jupyter.widget-view+json": {
       "model_id": "b04810107b3b4f10a9b6dcce64ba0f72",
       "version_major": 2,
       "version_minor": 0
      },
      "text/plain": [
       "timesteps:   0%|          | 0/7544 [00:00<?, ?it/s]"
      ]
     },
     "metadata": {},
     "output_type": "display_data"
    },
    {
     "data": {
      "application/vnd.jupyter.widget-view+json": {
       "model_id": "6b59bac8529e4c5093ebf3797a6f0115",
       "version_major": 2,
       "version_minor": 0
      },
      "text/plain": [
       "timesteps:   0%|          | 0/7544 [00:00<?, ?it/s]"
      ]
     },
     "metadata": {},
     "output_type": "display_data"
    },
    {
     "data": {
      "application/vnd.jupyter.widget-view+json": {
       "model_id": "a5cd747190f64f4ebb8ad50eb3cd04cf",
       "version_major": 2,
       "version_minor": 0
      },
      "text/plain": [
       "timesteps:   0%|          | 0/7544 [00:00<?, ?it/s]"
      ]
     },
     "metadata": {},
     "output_type": "display_data"
    },
    {
     "data": {
      "application/vnd.jupyter.widget-view+json": {
       "model_id": "add6169e959f4329aeae007692d0ab01",
       "version_major": 2,
       "version_minor": 0
      },
      "text/plain": [
       "timesteps:   0%|          | 0/7544 [00:00<?, ?it/s]"
      ]
     },
     "metadata": {},
     "output_type": "display_data"
    },
    {
     "data": {
      "application/vnd.jupyter.widget-view+json": {
       "model_id": "f5c9f5b0127c4e43ad70380c0638249f",
       "version_major": 2,
       "version_minor": 0
      },
      "text/plain": [
       "timesteps:   0%|          | 0/7544 [00:00<?, ?it/s]"
      ]
     },
     "metadata": {},
     "output_type": "display_data"
    },
    {
     "data": {
      "application/vnd.jupyter.widget-view+json": {
       "model_id": "4ed1f251b593484aa21ba56be20ab0a0",
       "version_major": 2,
       "version_minor": 0
      },
      "text/plain": [
       "timesteps:   0%|          | 0/7544 [00:00<?, ?it/s]"
      ]
     },
     "metadata": {},
     "output_type": "display_data"
    },
    {
     "data": {
      "application/vnd.jupyter.widget-view+json": {
       "model_id": "649cb7bfba2240a99e50124e05c69f2f",
       "version_major": 2,
       "version_minor": 0
      },
      "text/plain": [
       "timesteps:   0%|          | 0/7544 [00:00<?, ?it/s]"
      ]
     },
     "metadata": {},
     "output_type": "display_data"
    },
    {
     "data": {
      "application/vnd.jupyter.widget-view+json": {
       "model_id": "ce4524901b764b6388b1b5166a15e245",
       "version_major": 2,
       "version_minor": 0
      },
      "text/plain": [
       "timesteps:   0%|          | 0/7544 [00:00<?, ?it/s]"
      ]
     },
     "metadata": {},
     "output_type": "display_data"
    },
    {
     "data": {
      "application/vnd.jupyter.widget-view+json": {
       "model_id": "31c83d7279654e72b02bbb859b567923",
       "version_major": 2,
       "version_minor": 0
      },
      "text/plain": [
       "timesteps:   0%|          | 0/7544 [00:00<?, ?it/s]"
      ]
     },
     "metadata": {},
     "output_type": "display_data"
    },
    {
     "data": {
      "application/vnd.jupyter.widget-view+json": {
       "model_id": "da84510e6aec4d85b9ea00ddb79e83ce",
       "version_major": 2,
       "version_minor": 0
      },
      "text/plain": [
       "timesteps:   0%|          | 0/7544 [00:00<?, ?it/s]"
      ]
     },
     "metadata": {},
     "output_type": "display_data"
    },
    {
     "data": {
      "application/vnd.jupyter.widget-view+json": {
       "model_id": "8f973cc91bb24f78810867595c9f8b7f",
       "version_major": 2,
       "version_minor": 0
      },
      "text/plain": [
       "timesteps:   0%|          | 0/7544 [00:00<?, ?it/s]"
      ]
     },
     "metadata": {},
     "output_type": "display_data"
    },
    {
     "data": {
      "application/vnd.jupyter.widget-view+json": {
       "model_id": "6390016230f543fbb85c1866ea946339",
       "version_major": 2,
       "version_minor": 0
      },
      "text/plain": [
       "timesteps:   0%|          | 0/7544 [00:00<?, ?it/s]"
      ]
     },
     "metadata": {},
     "output_type": "display_data"
    },
    {
     "data": {
      "application/vnd.jupyter.widget-view+json": {
       "model_id": "82d08d209f5a45fb9cce6c80faab1b39",
       "version_major": 2,
       "version_minor": 0
      },
      "text/plain": [
       "timesteps:   0%|          | 0/7544 [00:00<?, ?it/s]"
      ]
     },
     "metadata": {},
     "output_type": "display_data"
    },
    {
     "data": {
      "application/vnd.jupyter.widget-view+json": {
       "model_id": "304b4338ab32476284e101ddf7b17b6f",
       "version_major": 2,
       "version_minor": 0
      },
      "text/plain": [
       "timesteps:   0%|          | 0/7544 [00:00<?, ?it/s]"
      ]
     },
     "metadata": {},
     "output_type": "display_data"
    },
    {
     "data": {
      "application/vnd.jupyter.widget-view+json": {
       "model_id": "79ffd5f3aad74c1ba0cc4031b5d18591",
       "version_major": 2,
       "version_minor": 0
      },
      "text/plain": [
       "timesteps:   0%|          | 0/7544 [00:00<?, ?it/s]"
      ]
     },
     "metadata": {},
     "output_type": "display_data"
    },
    {
     "data": {
      "application/vnd.jupyter.widget-view+json": {
       "model_id": "a6e6341705b04d3f925e63353fa2c81c",
       "version_major": 2,
       "version_minor": 0
      },
      "text/plain": [
       "timesteps:   0%|          | 0/7544 [00:00<?, ?it/s]"
      ]
     },
     "metadata": {},
     "output_type": "display_data"
    },
    {
     "data": {
      "application/vnd.jupyter.widget-view+json": {
       "model_id": "bd8c5f5f19574447a22c8360e3e7ae30",
       "version_major": 2,
       "version_minor": 0
      },
      "text/plain": [
       "timesteps:   0%|          | 0/7544 [00:00<?, ?it/s]"
      ]
     },
     "metadata": {},
     "output_type": "display_data"
    },
    {
     "data": {
      "application/vnd.jupyter.widget-view+json": {
       "model_id": "023ef8cc9c874dbb88f587967903a5f6",
       "version_major": 2,
       "version_minor": 0
      },
      "text/plain": [
       "timesteps:   0%|          | 0/7544 [00:00<?, ?it/s]"
      ]
     },
     "metadata": {},
     "output_type": "display_data"
    },
    {
     "data": {
      "application/vnd.jupyter.widget-view+json": {
       "model_id": "1f7f2cf3f60648a393346b54b7bc836a",
       "version_major": 2,
       "version_minor": 0
      },
      "text/plain": [
       "timesteps:   0%|          | 0/7544 [00:00<?, ?it/s]"
      ]
     },
     "metadata": {},
     "output_type": "display_data"
    },
    {
     "data": {
      "application/vnd.jupyter.widget-view+json": {
       "model_id": "44f958c28fdb4d3792c5a5eec635501c",
       "version_major": 2,
       "version_minor": 0
      },
      "text/plain": [
       "timesteps:   0%|          | 0/7544 [00:00<?, ?it/s]"
      ]
     },
     "metadata": {},
     "output_type": "display_data"
    },
    {
     "name": "stdout",
     "output_type": "stream",
     "text": [
      "943 of 1000, minimal objective function=1.0048, time remaining: 00:00:10\n"
     ]
    },
    {
     "data": {
      "application/vnd.jupyter.widget-view+json": {
       "model_id": "c792092a90964572b2d48b4c4625e1bb",
       "version_major": 2,
       "version_minor": 0
      },
      "text/plain": [
       "timesteps:   0%|          | 0/7544 [00:00<?, ?it/s]"
      ]
     },
     "metadata": {},
     "output_type": "display_data"
    },
    {
     "data": {
      "application/vnd.jupyter.widget-view+json": {
       "model_id": "a59e9716d2984b72b49114bb36be03f9",
       "version_major": 2,
       "version_minor": 0
      },
      "text/plain": [
       "timesteps:   0%|          | 0/7544 [00:00<?, ?it/s]"
      ]
     },
     "metadata": {},
     "output_type": "display_data"
    },
    {
     "data": {
      "application/vnd.jupyter.widget-view+json": {
       "model_id": "2a7a255b54d64c1a99da25b431578ff1",
       "version_major": 2,
       "version_minor": 0
      },
      "text/plain": [
       "timesteps:   0%|          | 0/7544 [00:00<?, ?it/s]"
      ]
     },
     "metadata": {},
     "output_type": "display_data"
    },
    {
     "data": {
      "application/vnd.jupyter.widget-view+json": {
       "model_id": "a3b4f90f85ff4080a7d29168c5b0f07e",
       "version_major": 2,
       "version_minor": 0
      },
      "text/plain": [
       "timesteps:   0%|          | 0/7544 [00:00<?, ?it/s]"
      ]
     },
     "metadata": {},
     "output_type": "display_data"
    },
    {
     "data": {
      "application/vnd.jupyter.widget-view+json": {
       "model_id": "4d3ef79b346f47b3a08d8326f236fee7",
       "version_major": 2,
       "version_minor": 0
      },
      "text/plain": [
       "timesteps:   0%|          | 0/7544 [00:00<?, ?it/s]"
      ]
     },
     "metadata": {},
     "output_type": "display_data"
    },
    {
     "data": {
      "application/vnd.jupyter.widget-view+json": {
       "model_id": "c236038ea1e941299e26720fa34b69fe",
       "version_major": 2,
       "version_minor": 0
      },
      "text/plain": [
       "timesteps:   0%|          | 0/7544 [00:00<?, ?it/s]"
      ]
     },
     "metadata": {},
     "output_type": "display_data"
    },
    {
     "data": {
      "application/vnd.jupyter.widget-view+json": {
       "model_id": "e9af082e7462475b92010115eb5193c5",
       "version_major": 2,
       "version_minor": 0
      },
      "text/plain": [
       "timesteps:   0%|          | 0/7544 [00:00<?, ?it/s]"
      ]
     },
     "metadata": {},
     "output_type": "display_data"
    },
    {
     "data": {
      "application/vnd.jupyter.widget-view+json": {
       "model_id": "5af7107a8257460b94147615dbf802eb",
       "version_major": 2,
       "version_minor": 0
      },
      "text/plain": [
       "timesteps:   0%|          | 0/7544 [00:00<?, ?it/s]"
      ]
     },
     "metadata": {},
     "output_type": "display_data"
    },
    {
     "data": {
      "application/vnd.jupyter.widget-view+json": {
       "model_id": "a489c33009df4cadbfd6d93998546498",
       "version_major": 2,
       "version_minor": 0
      },
      "text/plain": [
       "timesteps:   0%|          | 0/7544 [00:00<?, ?it/s]"
      ]
     },
     "metadata": {},
     "output_type": "display_data"
    },
    {
     "data": {
      "application/vnd.jupyter.widget-view+json": {
       "model_id": "2929e21353704853945d5c7003c92048",
       "version_major": 2,
       "version_minor": 0
      },
      "text/plain": [
       "timesteps:   0%|          | 0/7544 [00:00<?, ?it/s]"
      ]
     },
     "metadata": {},
     "output_type": "display_data"
    },
    {
     "data": {
      "application/vnd.jupyter.widget-view+json": {
       "model_id": "5be3e88e9c5b4786b4dd3577a0731f54",
       "version_major": 2,
       "version_minor": 0
      },
      "text/plain": [
       "timesteps:   0%|          | 0/7544 [00:00<?, ?it/s]"
      ]
     },
     "metadata": {},
     "output_type": "display_data"
    },
    {
     "data": {
      "application/vnd.jupyter.widget-view+json": {
       "model_id": "b90e321f8cd641c0910cfd20213f5a47",
       "version_major": 2,
       "version_minor": 0
      },
      "text/plain": [
       "timesteps:   0%|          | 0/7544 [00:00<?, ?it/s]"
      ]
     },
     "metadata": {},
     "output_type": "display_data"
    },
    {
     "data": {
      "application/vnd.jupyter.widget-view+json": {
       "model_id": "8fd702d551ff4f8889f2b5609947a744",
       "version_major": 2,
       "version_minor": 0
      },
      "text/plain": [
       "timesteps:   0%|          | 0/7544 [00:00<?, ?it/s]"
      ]
     },
     "metadata": {},
     "output_type": "display_data"
    },
    {
     "data": {
      "application/vnd.jupyter.widget-view+json": {
       "model_id": "2fa8f516fdcb43b9b11ba2b7b9e86312",
       "version_major": 2,
       "version_minor": 0
      },
      "text/plain": [
       "timesteps:   0%|          | 0/7544 [00:00<?, ?it/s]"
      ]
     },
     "metadata": {},
     "output_type": "display_data"
    },
    {
     "data": {
      "application/vnd.jupyter.widget-view+json": {
       "model_id": "cd8587fbe79b49a88e1a7f1b0cceaaa6",
       "version_major": 2,
       "version_minor": 0
      },
      "text/plain": [
       "timesteps:   0%|          | 0/7544 [00:00<?, ?it/s]"
      ]
     },
     "metadata": {},
     "output_type": "display_data"
    },
    {
     "data": {
      "application/vnd.jupyter.widget-view+json": {
       "model_id": "5d35c6a82220453880e106dc28520a2c",
       "version_major": 2,
       "version_minor": 0
      },
      "text/plain": [
       "timesteps:   0%|          | 0/7544 [00:00<?, ?it/s]"
      ]
     },
     "metadata": {},
     "output_type": "display_data"
    },
    {
     "data": {
      "application/vnd.jupyter.widget-view+json": {
       "model_id": "efd732364d6541a099999075cb9bf2bb",
       "version_major": 2,
       "version_minor": 0
      },
      "text/plain": [
       "timesteps:   0%|          | 0/7544 [00:00<?, ?it/s]"
      ]
     },
     "metadata": {},
     "output_type": "display_data"
    },
    {
     "data": {
      "application/vnd.jupyter.widget-view+json": {
       "model_id": "86ea499e84454757867a7b56ed99af00",
       "version_major": 2,
       "version_minor": 0
      },
      "text/plain": [
       "timesteps:   0%|          | 0/7544 [00:00<?, ?it/s]"
      ]
     },
     "metadata": {},
     "output_type": "display_data"
    },
    {
     "name": "stdout",
     "output_type": "stream",
     "text": [
      "972 of 1000, minimal objective function=1.0048, time remaining: 00:00:05\n",
      "Objective function convergence criteria is now being updated and assessed...\n",
      "Updated convergence criteria: 1.235898\n",
      "ComplexEvo loop #9 in progress...\n"
     ]
    },
    {
     "data": {
      "application/vnd.jupyter.widget-view+json": {
       "model_id": "fdfa9e1fda4c4536af6c3e24640b3ac2",
       "version_major": 2,
       "version_minor": 0
      },
      "text/plain": [
       "timesteps:   0%|          | 0/7544 [00:00<?, ?it/s]"
      ]
     },
     "metadata": {},
     "output_type": "display_data"
    },
    {
     "data": {
      "application/vnd.jupyter.widget-view+json": {
       "model_id": "021d092f9b874f6ea71a415597aaf205",
       "version_major": 2,
       "version_minor": 0
      },
      "text/plain": [
       "timesteps:   0%|          | 0/7544 [00:00<?, ?it/s]"
      ]
     },
     "metadata": {},
     "output_type": "display_data"
    },
    {
     "data": {
      "application/vnd.jupyter.widget-view+json": {
       "model_id": "263eb4630ec4432992300279ca3f1608",
       "version_major": 2,
       "version_minor": 0
      },
      "text/plain": [
       "timesteps:   0%|          | 0/7544 [00:00<?, ?it/s]"
      ]
     },
     "metadata": {},
     "output_type": "display_data"
    },
    {
     "data": {
      "application/vnd.jupyter.widget-view+json": {
       "model_id": "2fe261ff79f04174b0ecab2f0955269c",
       "version_major": 2,
       "version_minor": 0
      },
      "text/plain": [
       "timesteps:   0%|          | 0/7544 [00:00<?, ?it/s]"
      ]
     },
     "metadata": {},
     "output_type": "display_data"
    },
    {
     "data": {
      "application/vnd.jupyter.widget-view+json": {
       "model_id": "5621caa3f4154d6ba68e34d6d40c0bae",
       "version_major": 2,
       "version_minor": 0
      },
      "text/plain": [
       "timesteps:   0%|          | 0/7544 [00:00<?, ?it/s]"
      ]
     },
     "metadata": {},
     "output_type": "display_data"
    },
    {
     "data": {
      "application/vnd.jupyter.widget-view+json": {
       "model_id": "f73c2380f0b54cc8a83c1cdec97b2208",
       "version_major": 2,
       "version_minor": 0
      },
      "text/plain": [
       "timesteps:   0%|          | 0/7544 [00:00<?, ?it/s]"
      ]
     },
     "metadata": {},
     "output_type": "display_data"
    },
    {
     "data": {
      "application/vnd.jupyter.widget-view+json": {
       "model_id": "3d5b5545eb0f4860b0e9536611aa275c",
       "version_major": 2,
       "version_minor": 0
      },
      "text/plain": [
       "timesteps:   0%|          | 0/7544 [00:00<?, ?it/s]"
      ]
     },
     "metadata": {},
     "output_type": "display_data"
    },
    {
     "data": {
      "application/vnd.jupyter.widget-view+json": {
       "model_id": "75e3543d9c3f4a0c934ac605dd8f93ae",
       "version_major": 2,
       "version_minor": 0
      },
      "text/plain": [
       "timesteps:   0%|          | 0/7544 [00:00<?, ?it/s]"
      ]
     },
     "metadata": {},
     "output_type": "display_data"
    },
    {
     "data": {
      "application/vnd.jupyter.widget-view+json": {
       "model_id": "0c03f52e4d944bce8121076dfff42ecc",
       "version_major": 2,
       "version_minor": 0
      },
      "text/plain": [
       "timesteps:   0%|          | 0/7544 [00:00<?, ?it/s]"
      ]
     },
     "metadata": {},
     "output_type": "display_data"
    },
    {
     "data": {
      "application/vnd.jupyter.widget-view+json": {
       "model_id": "824634e6ae634adfbc25ca58d0efe8e6",
       "version_major": 2,
       "version_minor": 0
      },
      "text/plain": [
       "timesteps:   0%|          | 0/7544 [00:00<?, ?it/s]"
      ]
     },
     "metadata": {},
     "output_type": "display_data"
    },
    {
     "data": {
      "application/vnd.jupyter.widget-view+json": {
       "model_id": "e96902c0eb2d4629a716642bd9b59496",
       "version_major": 2,
       "version_minor": 0
      },
      "text/plain": [
       "timesteps:   0%|          | 0/7544 [00:00<?, ?it/s]"
      ]
     },
     "metadata": {},
     "output_type": "display_data"
    },
    {
     "data": {
      "application/vnd.jupyter.widget-view+json": {
       "model_id": "87c5611f7ecf4f7c929f5d9f8be40ff4",
       "version_major": 2,
       "version_minor": 0
      },
      "text/plain": [
       "timesteps:   0%|          | 0/7544 [00:00<?, ?it/s]"
      ]
     },
     "metadata": {},
     "output_type": "display_data"
    },
    {
     "data": {
      "application/vnd.jupyter.widget-view+json": {
       "model_id": "7cabeff55fb84bbe84e4ef14a2ed5968",
       "version_major": 2,
       "version_minor": 0
      },
      "text/plain": [
       "timesteps:   0%|          | 0/7544 [00:00<?, ?it/s]"
      ]
     },
     "metadata": {},
     "output_type": "display_data"
    },
    {
     "data": {
      "application/vnd.jupyter.widget-view+json": {
       "model_id": "3c01c9b9b0e047ffa07487b03bc4df5d",
       "version_major": 2,
       "version_minor": 0
      },
      "text/plain": [
       "timesteps:   0%|          | 0/7544 [00:00<?, ?it/s]"
      ]
     },
     "metadata": {},
     "output_type": "display_data"
    },
    {
     "data": {
      "application/vnd.jupyter.widget-view+json": {
       "model_id": "db925206e3494587aa8ed379b8f7865d",
       "version_major": 2,
       "version_minor": 0
      },
      "text/plain": [
       "timesteps:   0%|          | 0/7544 [00:00<?, ?it/s]"
      ]
     },
     "metadata": {},
     "output_type": "display_data"
    },
    {
     "data": {
      "application/vnd.jupyter.widget-view+json": {
       "model_id": "75ceba959d6a4a56ae52a634bca99f7b",
       "version_major": 2,
       "version_minor": 0
      },
      "text/plain": [
       "timesteps:   0%|          | 0/7544 [00:00<?, ?it/s]"
      ]
     },
     "metadata": {},
     "output_type": "display_data"
    },
    {
     "data": {
      "application/vnd.jupyter.widget-view+json": {
       "model_id": "25a4ebff4caa4e60b18faaf5debdd87a",
       "version_major": 2,
       "version_minor": 0
      },
      "text/plain": [
       "timesteps:   0%|          | 0/7544 [00:00<?, ?it/s]"
      ]
     },
     "metadata": {},
     "output_type": "display_data"
    },
    {
     "name": "stdout",
     "output_type": "stream",
     "text": [
      "1000 of 1000, minimal objective function=0.998625, time remaining: 00:00:00\n",
      "Skipping saving\n",
      "Skipping saving\n",
      "Skipping saving\n",
      "Skipping saving\n",
      "Skipping saving\n",
      "Skipping saving\n",
      "Skipping saving\n",
      "Skipping saving\n",
      "Skipping saving\n",
      "Skipping saving\n"
     ]
    },
    {
     "data": {
      "application/vnd.jupyter.widget-view+json": {
       "model_id": "d738699e36414b088b2afe334098d789",
       "version_major": 2,
       "version_minor": 0
      },
      "text/plain": [
       "timesteps:   0%|          | 0/7544 [00:00<?, ?it/s]"
      ]
     },
     "metadata": {},
     "output_type": "display_data"
    },
    {
     "data": {
      "application/vnd.jupyter.widget-view+json": {
       "model_id": "5cd5cd5acf8445d480acb3aed5810dff",
       "version_major": 2,
       "version_minor": 0
      },
      "text/plain": [
       "timesteps:   0%|          | 0/7544 [00:00<?, ?it/s]"
      ]
     },
     "metadata": {},
     "output_type": "display_data"
    },
    {
     "data": {
      "application/vnd.jupyter.widget-view+json": {
       "model_id": "fad183dd115246f0a16024375adadeea",
       "version_major": 2,
       "version_minor": 0
      },
      "text/plain": [
       "timesteps:   0%|          | 0/7544 [00:00<?, ?it/s]"
      ]
     },
     "metadata": {},
     "output_type": "display_data"
    },
    {
     "data": {
      "application/vnd.jupyter.widget-view+json": {
       "model_id": "52b68ee29f06415c9d397cc9a42b9744",
       "version_major": 2,
       "version_minor": 0
      },
      "text/plain": [
       "timesteps:   0%|          | 0/7544 [00:00<?, ?it/s]"
      ]
     },
     "metadata": {},
     "output_type": "display_data"
    },
    {
     "data": {
      "application/vnd.jupyter.widget-view+json": {
       "model_id": "31b70dd630fc4dc7a176cbcfbe018c4e",
       "version_major": 2,
       "version_minor": 0
      },
      "text/plain": [
       "timesteps:   0%|          | 0/7544 [00:00<?, ?it/s]"
      ]
     },
     "metadata": {},
     "output_type": "display_data"
    },
    {
     "data": {
      "application/vnd.jupyter.widget-view+json": {
       "model_id": "0d3079118dce4c83b1034de147d3a98d",
       "version_major": 2,
       "version_minor": 0
      },
      "text/plain": [
       "timesteps:   0%|          | 0/7544 [00:00<?, ?it/s]"
      ]
     },
     "metadata": {},
     "output_type": "display_data"
    },
    {
     "data": {
      "application/vnd.jupyter.widget-view+json": {
       "model_id": "22fc9fe37e1342c5bab13cec71cb9bbd",
       "version_major": 2,
       "version_minor": 0
      },
      "text/plain": [
       "timesteps:   0%|          | 0/7544 [00:00<?, ?it/s]"
      ]
     },
     "metadata": {},
     "output_type": "display_data"
    },
    {
     "data": {
      "application/vnd.jupyter.widget-view+json": {
       "model_id": "f3490fe7410c47f6b8943cde39b39a93",
       "version_major": 2,
       "version_minor": 0
      },
      "text/plain": [
       "timesteps:   0%|          | 0/7544 [00:00<?, ?it/s]"
      ]
     },
     "metadata": {},
     "output_type": "display_data"
    },
    {
     "data": {
      "application/vnd.jupyter.widget-view+json": {
       "model_id": "a7d76a64e9024dea8ec689e715130f9a",
       "version_major": 2,
       "version_minor": 0
      },
      "text/plain": [
       "timesteps:   0%|          | 0/7544 [00:00<?, ?it/s]"
      ]
     },
     "metadata": {},
     "output_type": "display_data"
    },
    {
     "data": {
      "application/vnd.jupyter.widget-view+json": {
       "model_id": "263298db503a449cbfcaa6633dce3fc9",
       "version_major": 2,
       "version_minor": 0
      },
      "text/plain": [
       "timesteps:   0%|          | 0/7544 [00:00<?, ?it/s]"
      ]
     },
     "metadata": {},
     "output_type": "display_data"
    },
    {
     "data": {
      "application/vnd.jupyter.widget-view+json": {
       "model_id": "c4a31d3844a344128dd57599e6585bf1",
       "version_major": 2,
       "version_minor": 0
      },
      "text/plain": [
       "timesteps:   0%|          | 0/7544 [00:00<?, ?it/s]"
      ]
     },
     "metadata": {},
     "output_type": "display_data"
    },
    {
     "data": {
      "application/vnd.jupyter.widget-view+json": {
       "model_id": "b203845e2c704da38900e7c4f529dbb5",
       "version_major": 2,
       "version_minor": 0
      },
      "text/plain": [
       "timesteps:   0%|          | 0/7544 [00:00<?, ?it/s]"
      ]
     },
     "metadata": {},
     "output_type": "display_data"
    },
    {
     "data": {
      "application/vnd.jupyter.widget-view+json": {
       "model_id": "a95bdffba0504c7ab3b1bb2732e7002f",
       "version_major": 2,
       "version_minor": 0
      },
      "text/plain": [
       "timesteps:   0%|          | 0/7544 [00:00<?, ?it/s]"
      ]
     },
     "metadata": {},
     "output_type": "display_data"
    },
    {
     "data": {
      "application/vnd.jupyter.widget-view+json": {
       "model_id": "5693056ae2e248d684bddcc3ad63aa05",
       "version_major": 2,
       "version_minor": 0
      },
      "text/plain": [
       "timesteps:   0%|          | 0/7544 [00:00<?, ?it/s]"
      ]
     },
     "metadata": {},
     "output_type": "display_data"
    },
    {
     "data": {
      "application/vnd.jupyter.widget-view+json": {
       "model_id": "fecda85de0ae467fb5a63a86d31c2181",
       "version_major": 2,
       "version_minor": 0
      },
      "text/plain": [
       "timesteps:   0%|          | 0/7544 [00:00<?, ?it/s]"
      ]
     },
     "metadata": {},
     "output_type": "display_data"
    },
    {
     "data": {
      "application/vnd.jupyter.widget-view+json": {
       "model_id": "9bb81500aeab42fea9da2b93530202f6",
       "version_major": 2,
       "version_minor": 0
      },
      "text/plain": [
       "timesteps:   0%|          | 0/7544 [00:00<?, ?it/s]"
      ]
     },
     "metadata": {},
     "output_type": "display_data"
    },
    {
     "data": {
      "application/vnd.jupyter.widget-view+json": {
       "model_id": "d480ca1529cf4664ab25c26d3e308a41",
       "version_major": 2,
       "version_minor": 0
      },
      "text/plain": [
       "timesteps:   0%|          | 0/7544 [00:00<?, ?it/s]"
      ]
     },
     "metadata": {},
     "output_type": "display_data"
    },
    {
     "name": "stdout",
     "output_type": "stream",
     "text": [
      "1028 of 1000, minimal objective function=0.998625, time remaining: 23:59:55\n",
      "Skipping saving\n",
      "Skipping saving\n",
      "Skipping saving\n",
      "Skipping saving\n",
      "Skipping saving\n",
      "Skipping saving\n",
      "Skipping saving\n",
      "Skipping saving\n",
      "Skipping saving\n",
      "Skipping saving\n",
      "Skipping saving\n"
     ]
    },
    {
     "data": {
      "application/vnd.jupyter.widget-view+json": {
       "model_id": "b6f39a569019462fa6d93d9af8381a32",
       "version_major": 2,
       "version_minor": 0
      },
      "text/plain": [
       "timesteps:   0%|          | 0/7544 [00:00<?, ?it/s]"
      ]
     },
     "metadata": {},
     "output_type": "display_data"
    },
    {
     "data": {
      "application/vnd.jupyter.widget-view+json": {
       "model_id": "a7287c814cbf4c6796e030cc6afdc14c",
       "version_major": 2,
       "version_minor": 0
      },
      "text/plain": [
       "timesteps:   0%|          | 0/7544 [00:00<?, ?it/s]"
      ]
     },
     "metadata": {},
     "output_type": "display_data"
    },
    {
     "data": {
      "application/vnd.jupyter.widget-view+json": {
       "model_id": "5ffb809c7483432f99ae4e07d9e1caf6",
       "version_major": 2,
       "version_minor": 0
      },
      "text/plain": [
       "timesteps:   0%|          | 0/7544 [00:00<?, ?it/s]"
      ]
     },
     "metadata": {},
     "output_type": "display_data"
    },
    {
     "data": {
      "application/vnd.jupyter.widget-view+json": {
       "model_id": "558fa1e6ffcd48da83d81556ace51e66",
       "version_major": 2,
       "version_minor": 0
      },
      "text/plain": [
       "timesteps:   0%|          | 0/7544 [00:00<?, ?it/s]"
      ]
     },
     "metadata": {},
     "output_type": "display_data"
    },
    {
     "data": {
      "application/vnd.jupyter.widget-view+json": {
       "model_id": "0da7deb5284e40e087c43778b03dfb7f",
       "version_major": 2,
       "version_minor": 0
      },
      "text/plain": [
       "timesteps:   0%|          | 0/7544 [00:00<?, ?it/s]"
      ]
     },
     "metadata": {},
     "output_type": "display_data"
    },
    {
     "data": {
      "application/vnd.jupyter.widget-view+json": {
       "model_id": "6c421678fd3a4dd6aeb07a3147b4f90f",
       "version_major": 2,
       "version_minor": 0
      },
      "text/plain": [
       "timesteps:   0%|          | 0/7544 [00:00<?, ?it/s]"
      ]
     },
     "metadata": {},
     "output_type": "display_data"
    },
    {
     "data": {
      "application/vnd.jupyter.widget-view+json": {
       "model_id": "c6ee5c88522d42f79ece7cc073af78ad",
       "version_major": 2,
       "version_minor": 0
      },
      "text/plain": [
       "timesteps:   0%|          | 0/7544 [00:00<?, ?it/s]"
      ]
     },
     "metadata": {},
     "output_type": "display_data"
    },
    {
     "data": {
      "application/vnd.jupyter.widget-view+json": {
       "model_id": "b58b392719fe45feb1853335e079bfc5",
       "version_major": 2,
       "version_minor": 0
      },
      "text/plain": [
       "timesteps:   0%|          | 0/7544 [00:00<?, ?it/s]"
      ]
     },
     "metadata": {},
     "output_type": "display_data"
    },
    {
     "data": {
      "application/vnd.jupyter.widget-view+json": {
       "model_id": "78e12be3e7a2470d881e6cff201ef1ea",
       "version_major": 2,
       "version_minor": 0
      },
      "text/plain": [
       "timesteps:   0%|          | 0/7544 [00:00<?, ?it/s]"
      ]
     },
     "metadata": {},
     "output_type": "display_data"
    },
    {
     "data": {
      "application/vnd.jupyter.widget-view+json": {
       "model_id": "2d88058a1620481c988f1dc82b703038",
       "version_major": 2,
       "version_minor": 0
      },
      "text/plain": [
       "timesteps:   0%|          | 0/7544 [00:00<?, ?it/s]"
      ]
     },
     "metadata": {},
     "output_type": "display_data"
    },
    {
     "data": {
      "application/vnd.jupyter.widget-view+json": {
       "model_id": "35fbfd0fb5a7499bbd6f5a86bbe99de6",
       "version_major": 2,
       "version_minor": 0
      },
      "text/plain": [
       "timesteps:   0%|          | 0/7544 [00:00<?, ?it/s]"
      ]
     },
     "metadata": {},
     "output_type": "display_data"
    },
    {
     "data": {
      "application/vnd.jupyter.widget-view+json": {
       "model_id": "c73da38e8b5d4ccb9d7c73b5532343a7",
       "version_major": 2,
       "version_minor": 0
      },
      "text/plain": [
       "timesteps:   0%|          | 0/7544 [00:00<?, ?it/s]"
      ]
     },
     "metadata": {},
     "output_type": "display_data"
    },
    {
     "data": {
      "application/vnd.jupyter.widget-view+json": {
       "model_id": "1017525ae3dd42c6866d0938416a10b9",
       "version_major": 2,
       "version_minor": 0
      },
      "text/plain": [
       "timesteps:   0%|          | 0/7544 [00:00<?, ?it/s]"
      ]
     },
     "metadata": {},
     "output_type": "display_data"
    },
    {
     "data": {
      "application/vnd.jupyter.widget-view+json": {
       "model_id": "ee4b39aad46544ee8c6bd02095cae8f9",
       "version_major": 2,
       "version_minor": 0
      },
      "text/plain": [
       "timesteps:   0%|          | 0/7544 [00:00<?, ?it/s]"
      ]
     },
     "metadata": {},
     "output_type": "display_data"
    },
    {
     "data": {
      "application/vnd.jupyter.widget-view+json": {
       "model_id": "9cb7bd7667f7445895d8f43aa765e776",
       "version_major": 2,
       "version_minor": 0
      },
      "text/plain": [
       "timesteps:   0%|          | 0/7544 [00:00<?, ?it/s]"
      ]
     },
     "metadata": {},
     "output_type": "display_data"
    },
    {
     "data": {
      "application/vnd.jupyter.widget-view+json": {
       "model_id": "50182185ec4643dca58e0dde5bbdb86f",
       "version_major": 2,
       "version_minor": 0
      },
      "text/plain": [
       "timesteps:   0%|          | 0/7544 [00:00<?, ?it/s]"
      ]
     },
     "metadata": {},
     "output_type": "display_data"
    },
    {
     "data": {
      "application/vnd.jupyter.widget-view+json": {
       "model_id": "04db4928deb248f9a5d0118a71bc98fb",
       "version_major": 2,
       "version_minor": 0
      },
      "text/plain": [
       "timesteps:   0%|          | 0/7544 [00:00<?, ?it/s]"
      ]
     },
     "metadata": {},
     "output_type": "display_data"
    },
    {
     "data": {
      "application/vnd.jupyter.widget-view+json": {
       "model_id": "0568f2ff7b974171bfef19d6c6dc42fd",
       "version_major": 2,
       "version_minor": 0
      },
      "text/plain": [
       "timesteps:   0%|          | 0/7544 [00:00<?, ?it/s]"
      ]
     },
     "metadata": {},
     "output_type": "display_data"
    },
    {
     "data": {
      "application/vnd.jupyter.widget-view+json": {
       "model_id": "93678f202d2f4b00b0d5c3d8ac7eb524",
       "version_major": 2,
       "version_minor": 0
      },
      "text/plain": [
       "timesteps:   0%|          | 0/7544 [00:00<?, ?it/s]"
      ]
     },
     "metadata": {},
     "output_type": "display_data"
    },
    {
     "name": "stdout",
     "output_type": "stream",
     "text": [
      "1058 of 1000, minimal objective function=0.998625, time remaining: 23:59:50\n",
      "Skipping saving\n",
      "Skipping saving\n",
      "Skipping saving\n",
      "Skipping saving\n",
      "Skipping saving\n",
      "Skipping saving\n",
      "Skipping saving\n",
      "Skipping saving\n",
      "Skipping saving\n",
      "Skipping saving\n",
      "Skipping saving\n"
     ]
    },
    {
     "data": {
      "application/vnd.jupyter.widget-view+json": {
       "model_id": "591db07dff414a948ee8609ae81b4866",
       "version_major": 2,
       "version_minor": 0
      },
      "text/plain": [
       "timesteps:   0%|          | 0/7544 [00:00<?, ?it/s]"
      ]
     },
     "metadata": {},
     "output_type": "display_data"
    },
    {
     "data": {
      "application/vnd.jupyter.widget-view+json": {
       "model_id": "bdcf3f27bd3b4210a605146ac9f3f0e1",
       "version_major": 2,
       "version_minor": 0
      },
      "text/plain": [
       "timesteps:   0%|          | 0/7544 [00:00<?, ?it/s]"
      ]
     },
     "metadata": {},
     "output_type": "display_data"
    },
    {
     "data": {
      "application/vnd.jupyter.widget-view+json": {
       "model_id": "90928eb141b64857b011e7186135cbb5",
       "version_major": 2,
       "version_minor": 0
      },
      "text/plain": [
       "timesteps:   0%|          | 0/7544 [00:00<?, ?it/s]"
      ]
     },
     "metadata": {},
     "output_type": "display_data"
    },
    {
     "data": {
      "application/vnd.jupyter.widget-view+json": {
       "model_id": "877132f3235642ea9408dde0feb35b45",
       "version_major": 2,
       "version_minor": 0
      },
      "text/plain": [
       "timesteps:   0%|          | 0/7544 [00:00<?, ?it/s]"
      ]
     },
     "metadata": {},
     "output_type": "display_data"
    },
    {
     "data": {
      "application/vnd.jupyter.widget-view+json": {
       "model_id": "830e9b308ea644248069da6ffc87a049",
       "version_major": 2,
       "version_minor": 0
      },
      "text/plain": [
       "timesteps:   0%|          | 0/7544 [00:00<?, ?it/s]"
      ]
     },
     "metadata": {},
     "output_type": "display_data"
    },
    {
     "data": {
      "application/vnd.jupyter.widget-view+json": {
       "model_id": "9f5b9bdb2c5f4ee19c3c4a29e5f945e6",
       "version_major": 2,
       "version_minor": 0
      },
      "text/plain": [
       "timesteps:   0%|          | 0/7544 [00:00<?, ?it/s]"
      ]
     },
     "metadata": {},
     "output_type": "display_data"
    },
    {
     "data": {
      "application/vnd.jupyter.widget-view+json": {
       "model_id": "bb1d85caa9a14c28a0050d0cd0168dd0",
       "version_major": 2,
       "version_minor": 0
      },
      "text/plain": [
       "timesteps:   0%|          | 0/7544 [00:00<?, ?it/s]"
      ]
     },
     "metadata": {},
     "output_type": "display_data"
    },
    {
     "data": {
      "application/vnd.jupyter.widget-view+json": {
       "model_id": "05612d2d00c547e68e4c8c69f23996f5",
       "version_major": 2,
       "version_minor": 0
      },
      "text/plain": [
       "timesteps:   0%|          | 0/7544 [00:00<?, ?it/s]"
      ]
     },
     "metadata": {},
     "output_type": "display_data"
    },
    {
     "data": {
      "application/vnd.jupyter.widget-view+json": {
       "model_id": "8ebb608a14e946fba23c9ad4f093044b",
       "version_major": 2,
       "version_minor": 0
      },
      "text/plain": [
       "timesteps:   0%|          | 0/7544 [00:00<?, ?it/s]"
      ]
     },
     "metadata": {},
     "output_type": "display_data"
    },
    {
     "data": {
      "application/vnd.jupyter.widget-view+json": {
       "model_id": "5cac4e7595dc4aef941c51c4bea27ee0",
       "version_major": 2,
       "version_minor": 0
      },
      "text/plain": [
       "timesteps:   0%|          | 0/7544 [00:00<?, ?it/s]"
      ]
     },
     "metadata": {},
     "output_type": "display_data"
    },
    {
     "data": {
      "application/vnd.jupyter.widget-view+json": {
       "model_id": "34cd9307f7904dd7b310887ba90e170b",
       "version_major": 2,
       "version_minor": 0
      },
      "text/plain": [
       "timesteps:   0%|          | 0/7544 [00:00<?, ?it/s]"
      ]
     },
     "metadata": {},
     "output_type": "display_data"
    },
    {
     "data": {
      "application/vnd.jupyter.widget-view+json": {
       "model_id": "617b5e5dd9aa417d98af6d4049aec094",
       "version_major": 2,
       "version_minor": 0
      },
      "text/plain": [
       "timesteps:   0%|          | 0/7544 [00:00<?, ?it/s]"
      ]
     },
     "metadata": {},
     "output_type": "display_data"
    },
    {
     "data": {
      "application/vnd.jupyter.widget-view+json": {
       "model_id": "c8b355f556b940f9b6ca40b9ad1f0723",
       "version_major": 2,
       "version_minor": 0
      },
      "text/plain": [
       "timesteps:   0%|          | 0/7544 [00:00<?, ?it/s]"
      ]
     },
     "metadata": {},
     "output_type": "display_data"
    },
    {
     "data": {
      "application/vnd.jupyter.widget-view+json": {
       "model_id": "1ba4e3de813744838ae403fd4884b53b",
       "version_major": 2,
       "version_minor": 0
      },
      "text/plain": [
       "timesteps:   0%|          | 0/7544 [00:00<?, ?it/s]"
      ]
     },
     "metadata": {},
     "output_type": "display_data"
    },
    {
     "data": {
      "application/vnd.jupyter.widget-view+json": {
       "model_id": "5c81e20b9afb4916b3d03bf67c88b172",
       "version_major": 2,
       "version_minor": 0
      },
      "text/plain": [
       "timesteps:   0%|          | 0/7544 [00:00<?, ?it/s]"
      ]
     },
     "metadata": {},
     "output_type": "display_data"
    },
    {
     "data": {
      "application/vnd.jupyter.widget-view+json": {
       "model_id": "58a477df39984017882d1354a5575064",
       "version_major": 2,
       "version_minor": 0
      },
      "text/plain": [
       "timesteps:   0%|          | 0/7544 [00:00<?, ?it/s]"
      ]
     },
     "metadata": {},
     "output_type": "display_data"
    },
    {
     "data": {
      "application/vnd.jupyter.widget-view+json": {
       "model_id": "cca025d06017411a9fab8e018f852df6",
       "version_major": 2,
       "version_minor": 0
      },
      "text/plain": [
       "timesteps:   0%|          | 0/7544 [00:00<?, ?it/s]"
      ]
     },
     "metadata": {},
     "output_type": "display_data"
    },
    {
     "data": {
      "application/vnd.jupyter.widget-view+json": {
       "model_id": "58d51a567feb4c419ab4591a3a0abf53",
       "version_major": 2,
       "version_minor": 0
      },
      "text/plain": [
       "timesteps:   0%|          | 0/7544 [00:00<?, ?it/s]"
      ]
     },
     "metadata": {},
     "output_type": "display_data"
    },
    {
     "data": {
      "application/vnd.jupyter.widget-view+json": {
       "model_id": "6ad34bc700794649a29de8a81d5a83d5",
       "version_major": 2,
       "version_minor": 0
      },
      "text/plain": [
       "timesteps:   0%|          | 0/7544 [00:00<?, ?it/s]"
      ]
     },
     "metadata": {},
     "output_type": "display_data"
    },
    {
     "data": {
      "application/vnd.jupyter.widget-view+json": {
       "model_id": "8f535aea03de489ab24597ee8b975238",
       "version_major": 2,
       "version_minor": 0
      },
      "text/plain": [
       "timesteps:   0%|          | 0/7544 [00:00<?, ?it/s]"
      ]
     },
     "metadata": {},
     "output_type": "display_data"
    },
    {
     "name": "stderr",
     "output_type": "stream",
     "text": [
      "2025-05-08 13:48:25 | INFO | __main__ | Calibration of reservoir 41 successfully finished\n",
      "INFO: 3828140465.<module>(): Calibration of reservoir 41 successfully finished\n"
     ]
    },
    {
     "name": "stdout",
     "output_type": "stream",
     "text": [
      "1089 of 1000, minimal objective function=0.998625, time remaining: 23:59:45\n",
      "Skipping saving\n",
      "Skipping saving\n",
      "Skipping saving\n",
      "Skipping saving\n",
      "Skipping saving\n",
      "Skipping saving\n",
      "Skipping saving\n",
      "Skipping saving\n",
      "Skipping saving\n",
      "Skipping saving\n",
      "Skipping saving\n",
      "*** OPTIMIZATION SEARCH TERMINATED BECAUSE THE LIMIT\n",
      "ON THE MAXIMUM NUMBER OF TRIALS \n",
      "1000\n",
      "HAS BEEN EXCEEDED.\n",
      "SEARCH WAS STOPPED AT TRIAL NUMBER: 1099\n",
      "NUMBER OF DISCARDED TRIALS: 43\n",
      "NORMALIZED GEOMETRIC RANGE = 0.176173\n",
      "THE BEST POINT HAS IMPROVED IN LAST 3 LOOPS BY 1.235898 PERCENT\n",
      "\n",
      "*** Final SPOTPY summary ***\n",
      "Total Duration: 184.62 seconds\n",
      "Total Repetitions: 1099\n",
      "Minimal objective value: 0.998625\n",
      "Corresponding parameter setting:\n",
      "alpha: 0.668551\n",
      "beta: 0.191459\n",
      "gamma: 0.582277\n",
      "delta: 0.11528\n",
      "epsilon: 0.935259\n",
      "******************************\n",
      "\n"
     ]
    },
    {
     "data": {
      "application/vnd.jupyter.widget-view+json": {
       "model_id": "9e07e5964bab4844b470703d77d7409b",
       "version_major": 2,
       "version_minor": 0
      },
      "text/plain": [
       "timesteps:   0%|          | 0/7544 [00:00<?, ?it/s]"
      ]
     },
     "metadata": {},
     "output_type": "display_data"
    },
    {
     "name": "stderr",
     "output_type": "stream",
     "text": [
      "2025-05-08 13:48:25 | INFO | __main__ | Simulation of the calibrated reservoir 41 successfully finished\n",
      "INFO: 3828140465.<module>(): Simulation of the calibrated reservoir 41 successfully finished\n",
      "2025-05-08 13:48:25 | INFO | __main__ | Performance of reservoir 41 has been computed\n",
      "INFO: 3828140465.<module>(): Performance of reservoir 41 has been computed\n",
      "2025-05-08 13:48:26 | INFO | __main__ | Scatter plot of simulation from reservoir 41\n",
      "INFO: 3828140465.<module>(): Scatter plot of simulation from reservoir 41\n",
      "2025-05-08 13:48:27 | INFO | __main__ | Line plot of simulation from reservoir 41\n",
      "INFO: 3828140465.<module>(): Line plot of simulation from reservoir 41\n",
      "simulating reservoir:  20%|████████████▏                                                | 1/5 [03:06<12:25, 186.42s/it]2025-05-08 13:48:27 | INFO | __main__ | Calibrating reservoir 355\n",
      "INFO: 3828140465.<module>(): Calibrating reservoir 355\n"
     ]
    },
    {
     "name": "stdout",
     "output_type": "stream",
     "text": [
      "Initializing the  Shuffled Complex Evolution (SCE-UA) algorithm  with  1000  repetitions\n",
      "The objective function will be minimized\n",
      "Starting burn-in sampling...\n"
     ]
    },
    {
     "data": {
      "application/vnd.jupyter.widget-view+json": {
       "model_id": "8a05012b46b446ada5788da16d8a3665",
       "version_major": 2,
       "version_minor": 0
      },
      "text/plain": [
       "timesteps:   0%|          | 0/13877 [00:00<?, ?it/s]"
      ]
     },
     "metadata": {},
     "output_type": "display_data"
    },
    {
     "name": "stdout",
     "output_type": "stream",
     "text": [
      "Initialize database...\n",
      "['csv', 'hdf5', 'ram', 'sql', 'custom', 'noData']\n",
      "* Database file 'Z:\\nahaUsers\\casadje\\datasets\\reservoirs\\ResOpsUS\\v2.0\\test\\no_meteo\\camaflood\\calibration\\bivariate/355_samples.csv' created.\n"
     ]
    },
    {
     "data": {
      "application/vnd.jupyter.widget-view+json": {
       "model_id": "8374d36c6a7343e5ae864c839c9206d3",
       "version_major": 2,
       "version_minor": 0
      },
      "text/plain": [
       "timesteps:   0%|          | 0/13877 [00:00<?, ?it/s]"
      ]
     },
     "metadata": {},
     "output_type": "display_data"
    },
    {
     "data": {
      "application/vnd.jupyter.widget-view+json": {
       "model_id": "f9a5d27672f4427f8bcfc8a4edc6731f",
       "version_major": 2,
       "version_minor": 0
      },
      "text/plain": [
       "timesteps:   0%|          | 0/13877 [00:00<?, ?it/s]"
      ]
     },
     "metadata": {},
     "output_type": "display_data"
    },
    {
     "data": {
      "application/vnd.jupyter.widget-view+json": {
       "model_id": "c6c074a4a95944ef932909a871918f31",
       "version_major": 2,
       "version_minor": 0
      },
      "text/plain": [
       "timesteps:   0%|          | 0/13877 [00:00<?, ?it/s]"
      ]
     },
     "metadata": {},
     "output_type": "display_data"
    },
    {
     "data": {
      "application/vnd.jupyter.widget-view+json": {
       "model_id": "845bd1e84a63459cb653f71f3226c92e",
       "version_major": 2,
       "version_minor": 0
      },
      "text/plain": [
       "timesteps:   0%|          | 0/13877 [00:00<?, ?it/s]"
      ]
     },
     "metadata": {},
     "output_type": "display_data"
    },
    {
     "name": "stdout",
     "output_type": "stream",
     "text": [
      "5 of 1000, minimal objective function=0.435496, time remaining: 00:06:36\n"
     ]
    },
    {
     "data": {
      "application/vnd.jupyter.widget-view+json": {
       "model_id": "1309696c46634065a66ca06dbe96453d",
       "version_major": 2,
       "version_minor": 0
      },
      "text/plain": [
       "timesteps:   0%|          | 0/13877 [00:00<?, ?it/s]"
      ]
     },
     "metadata": {},
     "output_type": "display_data"
    },
    {
     "data": {
      "application/vnd.jupyter.widget-view+json": {
       "model_id": "2d4e7a07e5634a938bba71626af787ad",
       "version_major": 2,
       "version_minor": 0
      },
      "text/plain": [
       "timesteps:   0%|          | 0/13877 [00:00<?, ?it/s]"
      ]
     },
     "metadata": {},
     "output_type": "display_data"
    },
    {
     "data": {
      "application/vnd.jupyter.widget-view+json": {
       "model_id": "291eb3a23ece45a286895255a4dc2967",
       "version_major": 2,
       "version_minor": 0
      },
      "text/plain": [
       "timesteps:   0%|          | 0/13877 [00:00<?, ?it/s]"
      ]
     },
     "metadata": {},
     "output_type": "display_data"
    },
    {
     "data": {
      "application/vnd.jupyter.widget-view+json": {
       "model_id": "90db42b1a9d04bbc9eea58a3e0668172",
       "version_major": 2,
       "version_minor": 0
      },
      "text/plain": [
       "timesteps:   0%|          | 0/13877 [00:00<?, ?it/s]"
      ]
     },
     "metadata": {},
     "output_type": "display_data"
    },
    {
     "data": {
      "application/vnd.jupyter.widget-view+json": {
       "model_id": "ead25a3f1f1e46f5896cb67fb345ff5e",
       "version_major": 2,
       "version_minor": 0
      },
      "text/plain": [
       "timesteps:   0%|          | 0/13877 [00:00<?, ?it/s]"
      ]
     },
     "metadata": {},
     "output_type": "display_data"
    },
    {
     "name": "stdout",
     "output_type": "stream",
     "text": [
      "10 of 1000, minimal objective function=0.309899, time remaining: 00:07:07\n"
     ]
    },
    {
     "data": {
      "application/vnd.jupyter.widget-view+json": {
       "model_id": "1a32f5cb009b4bf4b8e6584e5cfcbcdd",
       "version_major": 2,
       "version_minor": 0
      },
      "text/plain": [
       "timesteps:   0%|          | 0/13877 [00:00<?, ?it/s]"
      ]
     },
     "metadata": {},
     "output_type": "display_data"
    },
    {
     "data": {
      "application/vnd.jupyter.widget-view+json": {
       "model_id": "2c4210e8da2747b4a70b903ecbbccb85",
       "version_major": 2,
       "version_minor": 0
      },
      "text/plain": [
       "timesteps:   0%|          | 0/13877 [00:00<?, ?it/s]"
      ]
     },
     "metadata": {},
     "output_type": "display_data"
    },
    {
     "data": {
      "application/vnd.jupyter.widget-view+json": {
       "model_id": "2acd7eb25aca41b686ce1efbd1ecb40f",
       "version_major": 2,
       "version_minor": 0
      },
      "text/plain": [
       "timesteps:   0%|          | 0/13877 [00:00<?, ?it/s]"
      ]
     },
     "metadata": {},
     "output_type": "display_data"
    },
    {
     "data": {
      "application/vnd.jupyter.widget-view+json": {
       "model_id": "a925069db464469f986800b60909f838",
       "version_major": 2,
       "version_minor": 0
      },
      "text/plain": [
       "timesteps:   0%|          | 0/13877 [00:00<?, ?it/s]"
      ]
     },
     "metadata": {},
     "output_type": "display_data"
    },
    {
     "data": {
      "application/vnd.jupyter.widget-view+json": {
       "model_id": "7319878581f74ca5b31ea49db1cb0db9",
       "version_major": 2,
       "version_minor": 0
      },
      "text/plain": [
       "timesteps:   0%|          | 0/13877 [00:00<?, ?it/s]"
      ]
     },
     "metadata": {},
     "output_type": "display_data"
    },
    {
     "name": "stdout",
     "output_type": "stream",
     "text": [
      "15 of 1000, minimal objective function=0.309899, time remaining: 00:07:21\n"
     ]
    },
    {
     "data": {
      "application/vnd.jupyter.widget-view+json": {
       "model_id": "89d7674161f7431fbdd0c1636d66b5bf",
       "version_major": 2,
       "version_minor": 0
      },
      "text/plain": [
       "timesteps:   0%|          | 0/13877 [00:00<?, ?it/s]"
      ]
     },
     "metadata": {},
     "output_type": "display_data"
    },
    {
     "data": {
      "application/vnd.jupyter.widget-view+json": {
       "model_id": "3a1aa7058cb945678a81568a2b6af7b4",
       "version_major": 2,
       "version_minor": 0
      },
      "text/plain": [
       "timesteps:   0%|          | 0/13877 [00:00<?, ?it/s]"
      ]
     },
     "metadata": {},
     "output_type": "display_data"
    },
    {
     "data": {
      "application/vnd.jupyter.widget-view+json": {
       "model_id": "f962e202a55441db9e0918b9cb656270",
       "version_major": 2,
       "version_minor": 0
      },
      "text/plain": [
       "timesteps:   0%|          | 0/13877 [00:00<?, ?it/s]"
      ]
     },
     "metadata": {},
     "output_type": "display_data"
    },
    {
     "data": {
      "application/vnd.jupyter.widget-view+json": {
       "model_id": "b0f3e72861a0493a83fb505aac4e3f1f",
       "version_major": 2,
       "version_minor": 0
      },
      "text/plain": [
       "timesteps:   0%|          | 0/13877 [00:00<?, ?it/s]"
      ]
     },
     "metadata": {},
     "output_type": "display_data"
    },
    {
     "data": {
      "application/vnd.jupyter.widget-view+json": {
       "model_id": "d69c9ed325ee4df4ab4d8a244231553e",
       "version_major": 2,
       "version_minor": 0
      },
      "text/plain": [
       "timesteps:   0%|          | 0/13877 [00:00<?, ?it/s]"
      ]
     },
     "metadata": {},
     "output_type": "display_data"
    },
    {
     "name": "stdout",
     "output_type": "stream",
     "text": [
      "20 of 1000, minimal objective function=0.309899, time remaining: 00:07:28\n"
     ]
    },
    {
     "data": {
      "application/vnd.jupyter.widget-view+json": {
       "model_id": "fd801cbe793a44cd9f4d5854af48608c",
       "version_major": 2,
       "version_minor": 0
      },
      "text/plain": [
       "timesteps:   0%|          | 0/13877 [00:00<?, ?it/s]"
      ]
     },
     "metadata": {},
     "output_type": "display_data"
    },
    {
     "data": {
      "application/vnd.jupyter.widget-view+json": {
       "model_id": "2d3dd91284e440a2b925b447c8f1cc3a",
       "version_major": 2,
       "version_minor": 0
      },
      "text/plain": [
       "timesteps:   0%|          | 0/13877 [00:00<?, ?it/s]"
      ]
     },
     "metadata": {},
     "output_type": "display_data"
    },
    {
     "data": {
      "application/vnd.jupyter.widget-view+json": {
       "model_id": "29b24aea28a2433f9ad6540bf654f82a",
       "version_major": 2,
       "version_minor": 0
      },
      "text/plain": [
       "timesteps:   0%|          | 0/13877 [00:00<?, ?it/s]"
      ]
     },
     "metadata": {},
     "output_type": "display_data"
    },
    {
     "data": {
      "application/vnd.jupyter.widget-view+json": {
       "model_id": "350615f7c30b4e59bed011f9378c5e16",
       "version_major": 2,
       "version_minor": 0
      },
      "text/plain": [
       "timesteps:   0%|          | 0/13877 [00:00<?, ?it/s]"
      ]
     },
     "metadata": {},
     "output_type": "display_data"
    },
    {
     "data": {
      "application/vnd.jupyter.widget-view+json": {
       "model_id": "56b645e5aa33418c8a25fdd8de7bfb6c",
       "version_major": 2,
       "version_minor": 0
      },
      "text/plain": [
       "timesteps:   0%|          | 0/13877 [00:00<?, ?it/s]"
      ]
     },
     "metadata": {},
     "output_type": "display_data"
    },
    {
     "name": "stdout",
     "output_type": "stream",
     "text": [
      "25 of 1000, minimal objective function=0.309899, time remaining: 00:07:26\n"
     ]
    },
    {
     "data": {
      "application/vnd.jupyter.widget-view+json": {
       "model_id": "49d61cbce7dc4803bb9ce4802d02a390",
       "version_major": 2,
       "version_minor": 0
      },
      "text/plain": [
       "timesteps:   0%|          | 0/13877 [00:00<?, ?it/s]"
      ]
     },
     "metadata": {},
     "output_type": "display_data"
    },
    {
     "data": {
      "application/vnd.jupyter.widget-view+json": {
       "model_id": "80c5ba37341e4c6ab7e90a786f1da783",
       "version_major": 2,
       "version_minor": 0
      },
      "text/plain": [
       "timesteps:   0%|          | 0/13877 [00:00<?, ?it/s]"
      ]
     },
     "metadata": {},
     "output_type": "display_data"
    },
    {
     "data": {
      "application/vnd.jupyter.widget-view+json": {
       "model_id": "a1edcb9eec454cabaf4dabb34eb788a0",
       "version_major": 2,
       "version_minor": 0
      },
      "text/plain": [
       "timesteps:   0%|          | 0/13877 [00:00<?, ?it/s]"
      ]
     },
     "metadata": {},
     "output_type": "display_data"
    },
    {
     "data": {
      "application/vnd.jupyter.widget-view+json": {
       "model_id": "971927aeb6e74404aceabb3782ef0e67",
       "version_major": 2,
       "version_minor": 0
      },
      "text/plain": [
       "timesteps:   0%|          | 0/13877 [00:00<?, ?it/s]"
      ]
     },
     "metadata": {},
     "output_type": "display_data"
    },
    {
     "data": {
      "application/vnd.jupyter.widget-view+json": {
       "model_id": "3a7a49b5bd474eaf90c50eeb9e8614f5",
       "version_major": 2,
       "version_minor": 0
      },
      "text/plain": [
       "timesteps:   0%|          | 0/13877 [00:00<?, ?it/s]"
      ]
     },
     "metadata": {},
     "output_type": "display_data"
    },
    {
     "name": "stdout",
     "output_type": "stream",
     "text": [
      "30 of 1000, minimal objective function=0.309899, time remaining: 00:07:27\n"
     ]
    },
    {
     "data": {
      "application/vnd.jupyter.widget-view+json": {
       "model_id": "6b0efdd96a304a7aa8a17c614f33989c",
       "version_major": 2,
       "version_minor": 0
      },
      "text/plain": [
       "timesteps:   0%|          | 0/13877 [00:00<?, ?it/s]"
      ]
     },
     "metadata": {},
     "output_type": "display_data"
    },
    {
     "data": {
      "application/vnd.jupyter.widget-view+json": {
       "model_id": "7c62fb746d7b4aa591311a17d3509926",
       "version_major": 2,
       "version_minor": 0
      },
      "text/plain": [
       "timesteps:   0%|          | 0/13877 [00:00<?, ?it/s]"
      ]
     },
     "metadata": {},
     "output_type": "display_data"
    },
    {
     "data": {
      "application/vnd.jupyter.widget-view+json": {
       "model_id": "ff62694168a144ca8bb9a0de0c34c5bf",
       "version_major": 2,
       "version_minor": 0
      },
      "text/plain": [
       "timesteps:   0%|          | 0/13877 [00:00<?, ?it/s]"
      ]
     },
     "metadata": {},
     "output_type": "display_data"
    },
    {
     "data": {
      "application/vnd.jupyter.widget-view+json": {
       "model_id": "50e8c5207f7444508afb8cc2d13e8912",
       "version_major": 2,
       "version_minor": 0
      },
      "text/plain": [
       "timesteps:   0%|          | 0/13877 [00:00<?, ?it/s]"
      ]
     },
     "metadata": {},
     "output_type": "display_data"
    },
    {
     "data": {
      "application/vnd.jupyter.widget-view+json": {
       "model_id": "dcdb6060897742e7b0f6ec4f9b1ecc65",
       "version_major": 2,
       "version_minor": 0
      },
      "text/plain": [
       "timesteps:   0%|          | 0/13877 [00:00<?, ?it/s]"
      ]
     },
     "metadata": {},
     "output_type": "display_data"
    },
    {
     "name": "stdout",
     "output_type": "stream",
     "text": [
      "35 of 1000, minimal objective function=0.309899, time remaining: 00:07:25\n"
     ]
    },
    {
     "data": {
      "application/vnd.jupyter.widget-view+json": {
       "model_id": "5e904246878c47c386cc266829b1c220",
       "version_major": 2,
       "version_minor": 0
      },
      "text/plain": [
       "timesteps:   0%|          | 0/13877 [00:00<?, ?it/s]"
      ]
     },
     "metadata": {},
     "output_type": "display_data"
    },
    {
     "data": {
      "application/vnd.jupyter.widget-view+json": {
       "model_id": "f0aa9fbeab754bceac87bc3ccc4f33a3",
       "version_major": 2,
       "version_minor": 0
      },
      "text/plain": [
       "timesteps:   0%|          | 0/13877 [00:00<?, ?it/s]"
      ]
     },
     "metadata": {},
     "output_type": "display_data"
    },
    {
     "data": {
      "application/vnd.jupyter.widget-view+json": {
       "model_id": "7782399d50974e27a3a0c4b6e462dc39",
       "version_major": 2,
       "version_minor": 0
      },
      "text/plain": [
       "timesteps:   0%|          | 0/13877 [00:00<?, ?it/s]"
      ]
     },
     "metadata": {},
     "output_type": "display_data"
    },
    {
     "data": {
      "application/vnd.jupyter.widget-view+json": {
       "model_id": "3e604274bae3477382c7d24210956b6d",
       "version_major": 2,
       "version_minor": 0
      },
      "text/plain": [
       "timesteps:   0%|          | 0/13877 [00:00<?, ?it/s]"
      ]
     },
     "metadata": {},
     "output_type": "display_data"
    },
    {
     "data": {
      "application/vnd.jupyter.widget-view+json": {
       "model_id": "668b6d1d5bc942758ea14b0f36f852ad",
       "version_major": 2,
       "version_minor": 0
      },
      "text/plain": [
       "timesteps:   0%|          | 0/13877 [00:00<?, ?it/s]"
      ]
     },
     "metadata": {},
     "output_type": "display_data"
    },
    {
     "name": "stdout",
     "output_type": "stream",
     "text": [
      "40 of 1000, minimal objective function=0.309899, time remaining: 00:07:25\n"
     ]
    },
    {
     "data": {
      "application/vnd.jupyter.widget-view+json": {
       "model_id": "cf1a483cd2044a049ac04319f20de5f5",
       "version_major": 2,
       "version_minor": 0
      },
      "text/plain": [
       "timesteps:   0%|          | 0/13877 [00:00<?, ?it/s]"
      ]
     },
     "metadata": {},
     "output_type": "display_data"
    },
    {
     "data": {
      "application/vnd.jupyter.widget-view+json": {
       "model_id": "6c8c278e47ae4e30aac071f556f42da9",
       "version_major": 2,
       "version_minor": 0
      },
      "text/plain": [
       "timesteps:   0%|          | 0/13877 [00:00<?, ?it/s]"
      ]
     },
     "metadata": {},
     "output_type": "display_data"
    },
    {
     "data": {
      "application/vnd.jupyter.widget-view+json": {
       "model_id": "c838a95ea27941798871252b92ff83d2",
       "version_major": 2,
       "version_minor": 0
      },
      "text/plain": [
       "timesteps:   0%|          | 0/13877 [00:00<?, ?it/s]"
      ]
     },
     "metadata": {},
     "output_type": "display_data"
    },
    {
     "data": {
      "application/vnd.jupyter.widget-view+json": {
       "model_id": "4ce56b52799b4933a46e2f9934baae3c",
       "version_major": 2,
       "version_minor": 0
      },
      "text/plain": [
       "timesteps:   0%|          | 0/13877 [00:00<?, ?it/s]"
      ]
     },
     "metadata": {},
     "output_type": "display_data"
    },
    {
     "name": "stdout",
     "output_type": "stream",
     "text": [
      "Burn-in sampling completed...\n",
      "Starting Complex Evolution...\n",
      "ComplexEvo loop #1 in progress...\n"
     ]
    },
    {
     "data": {
      "application/vnd.jupyter.widget-view+json": {
       "model_id": "7d8824f9161d4f7991ef9aa51f6b3b79",
       "version_major": 2,
       "version_minor": 0
      },
      "text/plain": [
       "timesteps:   0%|          | 0/13877 [00:00<?, ?it/s]"
      ]
     },
     "metadata": {},
     "output_type": "display_data"
    },
    {
     "data": {
      "application/vnd.jupyter.widget-view+json": {
       "model_id": "2ed2b2684d90479f8f4d24075260fb29",
       "version_major": 2,
       "version_minor": 0
      },
      "text/plain": [
       "timesteps:   0%|          | 0/13877 [00:00<?, ?it/s]"
      ]
     },
     "metadata": {},
     "output_type": "display_data"
    },
    {
     "data": {
      "application/vnd.jupyter.widget-view+json": {
       "model_id": "c45a5ef581bc454fa01b1120d990a299",
       "version_major": 2,
       "version_minor": 0
      },
      "text/plain": [
       "timesteps:   0%|          | 0/13877 [00:00<?, ?it/s]"
      ]
     },
     "metadata": {},
     "output_type": "display_data"
    },
    {
     "data": {
      "application/vnd.jupyter.widget-view+json": {
       "model_id": "36bb8c141d17465e81c869e1ba7233b8",
       "version_major": 2,
       "version_minor": 0
      },
      "text/plain": [
       "timesteps:   0%|          | 0/13877 [00:00<?, ?it/s]"
      ]
     },
     "metadata": {},
     "output_type": "display_data"
    },
    {
     "data": {
      "application/vnd.jupyter.widget-view+json": {
       "model_id": "f7661cb29b18478f9ad8b334318c7c6a",
       "version_major": 2,
       "version_minor": 0
      },
      "text/plain": [
       "timesteps:   0%|          | 0/13877 [00:00<?, ?it/s]"
      ]
     },
     "metadata": {},
     "output_type": "display_data"
    },
    {
     "data": {
      "application/vnd.jupyter.widget-view+json": {
       "model_id": "281cb67ab2e14dd2b8caab1402a6112e",
       "version_major": 2,
       "version_minor": 0
      },
      "text/plain": [
       "timesteps:   0%|          | 0/13877 [00:00<?, ?it/s]"
      ]
     },
     "metadata": {},
     "output_type": "display_data"
    },
    {
     "data": {
      "application/vnd.jupyter.widget-view+json": {
       "model_id": "4f634dfa18ff43b1af7b6663f3101fce",
       "version_major": 2,
       "version_minor": 0
      },
      "text/plain": [
       "timesteps:   0%|          | 0/13877 [00:00<?, ?it/s]"
      ]
     },
     "metadata": {},
     "output_type": "display_data"
    },
    {
     "data": {
      "application/vnd.jupyter.widget-view+json": {
       "model_id": "c62f910ef16a49d1bebf0397ece27833",
       "version_major": 2,
       "version_minor": 0
      },
      "text/plain": [
       "timesteps:   0%|          | 0/13877 [00:00<?, ?it/s]"
      ]
     },
     "metadata": {},
     "output_type": "display_data"
    },
    {
     "data": {
      "application/vnd.jupyter.widget-view+json": {
       "model_id": "cb32020c2c1b4c559254553cd6ea6a57",
       "version_major": 2,
       "version_minor": 0
      },
      "text/plain": [
       "timesteps:   0%|          | 0/13877 [00:00<?, ?it/s]"
      ]
     },
     "metadata": {},
     "output_type": "display_data"
    },
    {
     "data": {
      "application/vnd.jupyter.widget-view+json": {
       "model_id": "0896d95931fd4240a6c618cb3bac625b",
       "version_major": 2,
       "version_minor": 0
      },
      "text/plain": [
       "timesteps:   0%|          | 0/13877 [00:00<?, ?it/s]"
      ]
     },
     "metadata": {},
     "output_type": "display_data"
    },
    {
     "data": {
      "application/vnd.jupyter.widget-view+json": {
       "model_id": "08da5c28753e46a6b076708bce00691f",
       "version_major": 2,
       "version_minor": 0
      },
      "text/plain": [
       "timesteps:   0%|          | 0/13877 [00:00<?, ?it/s]"
      ]
     },
     "metadata": {},
     "output_type": "display_data"
    },
    {
     "data": {
      "application/vnd.jupyter.widget-view+json": {
       "model_id": "379ee8b738a8458aa3614a7630f2fa1a",
       "version_major": 2,
       "version_minor": 0
      },
      "text/plain": [
       "timesteps:   0%|          | 0/13877 [00:00<?, ?it/s]"
      ]
     },
     "metadata": {},
     "output_type": "display_data"
    },
    {
     "data": {
      "application/vnd.jupyter.widget-view+json": {
       "model_id": "857e4db2ead643c8b6c666ca081e81be",
       "version_major": 2,
       "version_minor": 0
      },
      "text/plain": [
       "timesteps:   0%|          | 0/13877 [00:00<?, ?it/s]"
      ]
     },
     "metadata": {},
     "output_type": "display_data"
    },
    {
     "data": {
      "application/vnd.jupyter.widget-view+json": {
       "model_id": "1abdee6684234090bd03dfbbfdba2bff",
       "version_major": 2,
       "version_minor": 0
      },
      "text/plain": [
       "timesteps:   0%|          | 0/13877 [00:00<?, ?it/s]"
      ]
     },
     "metadata": {},
     "output_type": "display_data"
    },
    {
     "data": {
      "application/vnd.jupyter.widget-view+json": {
       "model_id": "cd093b0acc424cedb6a2b6edb4f00f1a",
       "version_major": 2,
       "version_minor": 0
      },
      "text/plain": [
       "timesteps:   0%|          | 0/13877 [00:00<?, ?it/s]"
      ]
     },
     "metadata": {},
     "output_type": "display_data"
    },
    {
     "data": {
      "application/vnd.jupyter.widget-view+json": {
       "model_id": "c309f965c6584a00925658db3bb27e98",
       "version_major": 2,
       "version_minor": 0
      },
      "text/plain": [
       "timesteps:   0%|          | 0/13877 [00:00<?, ?it/s]"
      ]
     },
     "metadata": {},
     "output_type": "display_data"
    },
    {
     "data": {
      "application/vnd.jupyter.widget-view+json": {
       "model_id": "afe04901c3e14bb8aa0e12443316bd4f",
       "version_major": 2,
       "version_minor": 0
      },
      "text/plain": [
       "timesteps:   0%|          | 0/13877 [00:00<?, ?it/s]"
      ]
     },
     "metadata": {},
     "output_type": "display_data"
    },
    {
     "data": {
      "application/vnd.jupyter.widget-view+json": {
       "model_id": "72fb271ca3eb4a9ea3efb53e12317aa4",
       "version_major": 2,
       "version_minor": 0
      },
      "text/plain": [
       "timesteps:   0%|          | 0/13877 [00:00<?, ?it/s]"
      ]
     },
     "metadata": {},
     "output_type": "display_data"
    },
    {
     "data": {
      "application/vnd.jupyter.widget-view+json": {
       "model_id": "dc3e1793645c4555b4aad85e3344287e",
       "version_major": 2,
       "version_minor": 0
      },
      "text/plain": [
       "timesteps:   0%|          | 0/13877 [00:00<?, ?it/s]"
      ]
     },
     "metadata": {},
     "output_type": "display_data"
    },
    {
     "name": "stdout",
     "output_type": "stream",
     "text": [
      "64 of 1000, minimal objective function=0.309899, time remaining: 00:07:12\n"
     ]
    },
    {
     "data": {
      "application/vnd.jupyter.widget-view+json": {
       "model_id": "c83c1513c3254c77a0b57167d70ee514",
       "version_major": 2,
       "version_minor": 0
      },
      "text/plain": [
       "timesteps:   0%|          | 0/13877 [00:00<?, ?it/s]"
      ]
     },
     "metadata": {},
     "output_type": "display_data"
    },
    {
     "data": {
      "application/vnd.jupyter.widget-view+json": {
       "model_id": "5d0c844e67eb4f85a13810ffc897b62b",
       "version_major": 2,
       "version_minor": 0
      },
      "text/plain": [
       "timesteps:   0%|          | 0/13877 [00:00<?, ?it/s]"
      ]
     },
     "metadata": {},
     "output_type": "display_data"
    },
    {
     "data": {
      "application/vnd.jupyter.widget-view+json": {
       "model_id": "ae8041415cd34f64a969d84ab0576571",
       "version_major": 2,
       "version_minor": 0
      },
      "text/plain": [
       "timesteps:   0%|          | 0/13877 [00:00<?, ?it/s]"
      ]
     },
     "metadata": {},
     "output_type": "display_data"
    },
    {
     "data": {
      "application/vnd.jupyter.widget-view+json": {
       "model_id": "71575cb62dc0413f9d24dcb399bcac04",
       "version_major": 2,
       "version_minor": 0
      },
      "text/plain": [
       "timesteps:   0%|          | 0/13877 [00:00<?, ?it/s]"
      ]
     },
     "metadata": {},
     "output_type": "display_data"
    },
    {
     "data": {
      "application/vnd.jupyter.widget-view+json": {
       "model_id": "dd801ff8b5744b50afe6ce3c760afa40",
       "version_major": 2,
       "version_minor": 0
      },
      "text/plain": [
       "timesteps:   0%|          | 0/13877 [00:00<?, ?it/s]"
      ]
     },
     "metadata": {},
     "output_type": "display_data"
    },
    {
     "data": {
      "application/vnd.jupyter.widget-view+json": {
       "model_id": "4aae0fe031ba4c5ca8ab013f6372f010",
       "version_major": 2,
       "version_minor": 0
      },
      "text/plain": [
       "timesteps:   0%|          | 0/13877 [00:00<?, ?it/s]"
      ]
     },
     "metadata": {},
     "output_type": "display_data"
    },
    {
     "data": {
      "application/vnd.jupyter.widget-view+json": {
       "model_id": "29b8a40275104db3a6313d940ca26fc8",
       "version_major": 2,
       "version_minor": 0
      },
      "text/plain": [
       "timesteps:   0%|          | 0/13877 [00:00<?, ?it/s]"
      ]
     },
     "metadata": {},
     "output_type": "display_data"
    },
    {
     "data": {
      "application/vnd.jupyter.widget-view+json": {
       "model_id": "364a7cfb11e84ce89e96256f3575fee6",
       "version_major": 2,
       "version_minor": 0
      },
      "text/plain": [
       "timesteps:   0%|          | 0/13877 [00:00<?, ?it/s]"
      ]
     },
     "metadata": {},
     "output_type": "display_data"
    },
    {
     "data": {
      "application/vnd.jupyter.widget-view+json": {
       "model_id": "72da66fb7b804c219e7c6c7255916674",
       "version_major": 2,
       "version_minor": 0
      },
      "text/plain": [
       "timesteps:   0%|          | 0/13877 [00:00<?, ?it/s]"
      ]
     },
     "metadata": {},
     "output_type": "display_data"
    },
    {
     "data": {
      "application/vnd.jupyter.widget-view+json": {
       "model_id": "865853fa575344258cf11423e952a19f",
       "version_major": 2,
       "version_minor": 0
      },
      "text/plain": [
       "timesteps:   0%|          | 0/13877 [00:00<?, ?it/s]"
      ]
     },
     "metadata": {},
     "output_type": "display_data"
    },
    {
     "data": {
      "application/vnd.jupyter.widget-view+json": {
       "model_id": "ab6dbbea7aa242b2b4c7b1adf214760b",
       "version_major": 2,
       "version_minor": 0
      },
      "text/plain": [
       "timesteps:   0%|          | 0/13877 [00:00<?, ?it/s]"
      ]
     },
     "metadata": {},
     "output_type": "display_data"
    },
    {
     "data": {
      "application/vnd.jupyter.widget-view+json": {
       "model_id": "0d59f75130c54017a1c9dd66d1d757b9",
       "version_major": 2,
       "version_minor": 0
      },
      "text/plain": [
       "timesteps:   0%|          | 0/13877 [00:00<?, ?it/s]"
      ]
     },
     "metadata": {},
     "output_type": "display_data"
    },
    {
     "data": {
      "application/vnd.jupyter.widget-view+json": {
       "model_id": "c4c6d77c553344b3a279cdd3d092466b",
       "version_major": 2,
       "version_minor": 0
      },
      "text/plain": [
       "timesteps:   0%|          | 0/13877 [00:00<?, ?it/s]"
      ]
     },
     "metadata": {},
     "output_type": "display_data"
    },
    {
     "data": {
      "application/vnd.jupyter.widget-view+json": {
       "model_id": "2b0c0d259fcf4a2ba8bf5818f7d56061",
       "version_major": 2,
       "version_minor": 0
      },
      "text/plain": [
       "timesteps:   0%|          | 0/13877 [00:00<?, ?it/s]"
      ]
     },
     "metadata": {},
     "output_type": "display_data"
    },
    {
     "data": {
      "application/vnd.jupyter.widget-view+json": {
       "model_id": "532628838838466d9cb1b4f02b6087ec",
       "version_major": 2,
       "version_minor": 0
      },
      "text/plain": [
       "timesteps:   0%|          | 0/13877 [00:00<?, ?it/s]"
      ]
     },
     "metadata": {},
     "output_type": "display_data"
    },
    {
     "data": {
      "application/vnd.jupyter.widget-view+json": {
       "model_id": "025d9144910b4da691390d818810deb6",
       "version_major": 2,
       "version_minor": 0
      },
      "text/plain": [
       "timesteps:   0%|          | 0/13877 [00:00<?, ?it/s]"
      ]
     },
     "metadata": {},
     "output_type": "display_data"
    },
    {
     "data": {
      "application/vnd.jupyter.widget-view+json": {
       "model_id": "5779cd0907e742fba2b2e0a40531eb18",
       "version_major": 2,
       "version_minor": 0
      },
      "text/plain": [
       "timesteps:   0%|          | 0/13877 [00:00<?, ?it/s]"
      ]
     },
     "metadata": {},
     "output_type": "display_data"
    },
    {
     "name": "stdout",
     "output_type": "stream",
     "text": [
      "92 of 1000, minimal objective function=0.309899, time remaining: 00:06:11\n"
     ]
    },
    {
     "data": {
      "application/vnd.jupyter.widget-view+json": {
       "model_id": "5cbcc5b268a64990abe36b11eb05ce44",
       "version_major": 2,
       "version_minor": 0
      },
      "text/plain": [
       "timesteps:   0%|          | 0/13877 [00:00<?, ?it/s]"
      ]
     },
     "metadata": {},
     "output_type": "display_data"
    },
    {
     "data": {
      "application/vnd.jupyter.widget-view+json": {
       "model_id": "00ffc7beb2a1451bb7fa6cc67f683e5c",
       "version_major": 2,
       "version_minor": 0
      },
      "text/plain": [
       "timesteps:   0%|          | 0/13877 [00:00<?, ?it/s]"
      ]
     },
     "metadata": {},
     "output_type": "display_data"
    },
    {
     "data": {
      "application/vnd.jupyter.widget-view+json": {
       "model_id": "b609747324d04fa0b0956e669ce6d80e",
       "version_major": 2,
       "version_minor": 0
      },
      "text/plain": [
       "timesteps:   0%|          | 0/13877 [00:00<?, ?it/s]"
      ]
     },
     "metadata": {},
     "output_type": "display_data"
    },
    {
     "data": {
      "application/vnd.jupyter.widget-view+json": {
       "model_id": "b60cbd6888d64701ab7ff0b9c3ea09be",
       "version_major": 2,
       "version_minor": 0
      },
      "text/plain": [
       "timesteps:   0%|          | 0/13877 [00:00<?, ?it/s]"
      ]
     },
     "metadata": {},
     "output_type": "display_data"
    },
    {
     "data": {
      "application/vnd.jupyter.widget-view+json": {
       "model_id": "a4f327f8c6ed47edbb61ad3df21d0ff2",
       "version_major": 2,
       "version_minor": 0
      },
      "text/plain": [
       "timesteps:   0%|          | 0/13877 [00:00<?, ?it/s]"
      ]
     },
     "metadata": {},
     "output_type": "display_data"
    },
    {
     "data": {
      "application/vnd.jupyter.widget-view+json": {
       "model_id": "3fbe3a4ad722469fb826dc951f710db9",
       "version_major": 2,
       "version_minor": 0
      },
      "text/plain": [
       "timesteps:   0%|          | 0/13877 [00:00<?, ?it/s]"
      ]
     },
     "metadata": {},
     "output_type": "display_data"
    },
    {
     "data": {
      "application/vnd.jupyter.widget-view+json": {
       "model_id": "2157031658014aa1a9ae027a408dc1cd",
       "version_major": 2,
       "version_minor": 0
      },
      "text/plain": [
       "timesteps:   0%|          | 0/13877 [00:00<?, ?it/s]"
      ]
     },
     "metadata": {},
     "output_type": "display_data"
    },
    {
     "data": {
      "application/vnd.jupyter.widget-view+json": {
       "model_id": "b90e761ec93244198eba24e306b943be",
       "version_major": 2,
       "version_minor": 0
      },
      "text/plain": [
       "timesteps:   0%|          | 0/13877 [00:00<?, ?it/s]"
      ]
     },
     "metadata": {},
     "output_type": "display_data"
    },
    {
     "data": {
      "application/vnd.jupyter.widget-view+json": {
       "model_id": "061eee5c0b904100b8981100e0f3d1fe",
       "version_major": 2,
       "version_minor": 0
      },
      "text/plain": [
       "timesteps:   0%|          | 0/13877 [00:00<?, ?it/s]"
      ]
     },
     "metadata": {},
     "output_type": "display_data"
    },
    {
     "data": {
      "application/vnd.jupyter.widget-view+json": {
       "model_id": "26159861acb0439eaa34d53acd6705a5",
       "version_major": 2,
       "version_minor": 0
      },
      "text/plain": [
       "timesteps:   0%|          | 0/13877 [00:00<?, ?it/s]"
      ]
     },
     "metadata": {},
     "output_type": "display_data"
    },
    {
     "data": {
      "application/vnd.jupyter.widget-view+json": {
       "model_id": "e52432d9e0664404b252bb60eba3260a",
       "version_major": 2,
       "version_minor": 0
      },
      "text/plain": [
       "timesteps:   0%|          | 0/13877 [00:00<?, ?it/s]"
      ]
     },
     "metadata": {},
     "output_type": "display_data"
    },
    {
     "data": {
      "application/vnd.jupyter.widget-view+json": {
       "model_id": "941223920c3f4461b44bb58bd3623288",
       "version_major": 2,
       "version_minor": 0
      },
      "text/plain": [
       "timesteps:   0%|          | 0/13877 [00:00<?, ?it/s]"
      ]
     },
     "metadata": {},
     "output_type": "display_data"
    },
    {
     "data": {
      "application/vnd.jupyter.widget-view+json": {
       "model_id": "3cacfb07e3df4a2bb4cab370b4f51545",
       "version_major": 2,
       "version_minor": 0
      },
      "text/plain": [
       "timesteps:   0%|          | 0/13877 [00:00<?, ?it/s]"
      ]
     },
     "metadata": {},
     "output_type": "display_data"
    },
    {
     "data": {
      "application/vnd.jupyter.widget-view+json": {
       "model_id": "00b51ce52b684082bf8bca345097b29f",
       "version_major": 2,
       "version_minor": 0
      },
      "text/plain": [
       "timesteps:   0%|          | 0/13877 [00:00<?, ?it/s]"
      ]
     },
     "metadata": {},
     "output_type": "display_data"
    },
    {
     "data": {
      "application/vnd.jupyter.widget-view+json": {
       "model_id": "0ec1aac6bdef41a6a4cc3578e4a9fbe3",
       "version_major": 2,
       "version_minor": 0
      },
      "text/plain": [
       "timesteps:   0%|          | 0/13877 [00:00<?, ?it/s]"
      ]
     },
     "metadata": {},
     "output_type": "display_data"
    },
    {
     "data": {
      "application/vnd.jupyter.widget-view+json": {
       "model_id": "7ec8c097e6214ad787205444c91823b5",
       "version_major": 2,
       "version_minor": 0
      },
      "text/plain": [
       "timesteps:   0%|          | 0/13877 [00:00<?, ?it/s]"
      ]
     },
     "metadata": {},
     "output_type": "display_data"
    },
    {
     "data": {
      "application/vnd.jupyter.widget-view+json": {
       "model_id": "e51eccb158c140649e6e8d7f18e95601",
       "version_major": 2,
       "version_minor": 0
      },
      "text/plain": [
       "timesteps:   0%|          | 0/13877 [00:00<?, ?it/s]"
      ]
     },
     "metadata": {},
     "output_type": "display_data"
    },
    {
     "name": "stdout",
     "output_type": "stream",
     "text": [
      "120 of 1000, minimal objective function=0.309899, time remaining: 00:05:35\n"
     ]
    },
    {
     "data": {
      "application/vnd.jupyter.widget-view+json": {
       "model_id": "53ba010e8ac04c888678d90f7f492962",
       "version_major": 2,
       "version_minor": 0
      },
      "text/plain": [
       "timesteps:   0%|          | 0/13877 [00:00<?, ?it/s]"
      ]
     },
     "metadata": {},
     "output_type": "display_data"
    },
    {
     "data": {
      "application/vnd.jupyter.widget-view+json": {
       "model_id": "534b579788d84ea59ff555aa4cd58d15",
       "version_major": 2,
       "version_minor": 0
      },
      "text/plain": [
       "timesteps:   0%|          | 0/13877 [00:00<?, ?it/s]"
      ]
     },
     "metadata": {},
     "output_type": "display_data"
    },
    {
     "data": {
      "application/vnd.jupyter.widget-view+json": {
       "model_id": "5484b2060b36476598dfc909d566d72e",
       "version_major": 2,
       "version_minor": 0
      },
      "text/plain": [
       "timesteps:   0%|          | 0/13877 [00:00<?, ?it/s]"
      ]
     },
     "metadata": {},
     "output_type": "display_data"
    },
    {
     "data": {
      "application/vnd.jupyter.widget-view+json": {
       "model_id": "3c14b02d35c043d2b4c6ca00dcb10f55",
       "version_major": 2,
       "version_minor": 0
      },
      "text/plain": [
       "timesteps:   0%|          | 0/13877 [00:00<?, ?it/s]"
      ]
     },
     "metadata": {},
     "output_type": "display_data"
    },
    {
     "data": {
      "application/vnd.jupyter.widget-view+json": {
       "model_id": "aece79d294c3462a906ffd6c147e065c",
       "version_major": 2,
       "version_minor": 0
      },
      "text/plain": [
       "timesteps:   0%|          | 0/13877 [00:00<?, ?it/s]"
      ]
     },
     "metadata": {},
     "output_type": "display_data"
    },
    {
     "data": {
      "application/vnd.jupyter.widget-view+json": {
       "model_id": "271f9cd9aff544728bb9a66f60714e9d",
       "version_major": 2,
       "version_minor": 0
      },
      "text/plain": [
       "timesteps:   0%|          | 0/13877 [00:00<?, ?it/s]"
      ]
     },
     "metadata": {},
     "output_type": "display_data"
    },
    {
     "data": {
      "application/vnd.jupyter.widget-view+json": {
       "model_id": "84caf633b04d4dc79d0332ee7a219667",
       "version_major": 2,
       "version_minor": 0
      },
      "text/plain": [
       "timesteps:   0%|          | 0/13877 [00:00<?, ?it/s]"
      ]
     },
     "metadata": {},
     "output_type": "display_data"
    },
    {
     "data": {
      "application/vnd.jupyter.widget-view+json": {
       "model_id": "0d1456c5412347208fc634416b19c601",
       "version_major": 2,
       "version_minor": 0
      },
      "text/plain": [
       "timesteps:   0%|          | 0/13877 [00:00<?, ?it/s]"
      ]
     },
     "metadata": {},
     "output_type": "display_data"
    },
    {
     "data": {
      "application/vnd.jupyter.widget-view+json": {
       "model_id": "9594423279ef441ca5965a7adac28dea",
       "version_major": 2,
       "version_minor": 0
      },
      "text/plain": [
       "timesteps:   0%|          | 0/13877 [00:00<?, ?it/s]"
      ]
     },
     "metadata": {},
     "output_type": "display_data"
    },
    {
     "data": {
      "application/vnd.jupyter.widget-view+json": {
       "model_id": "efb22053962d413da0511d673de08889",
       "version_major": 2,
       "version_minor": 0
      },
      "text/plain": [
       "timesteps:   0%|          | 0/13877 [00:00<?, ?it/s]"
      ]
     },
     "metadata": {},
     "output_type": "display_data"
    },
    {
     "data": {
      "application/vnd.jupyter.widget-view+json": {
       "model_id": "910c71fdd70c4438b7b99a5164611c1d",
       "version_major": 2,
       "version_minor": 0
      },
      "text/plain": [
       "timesteps:   0%|          | 0/13877 [00:00<?, ?it/s]"
      ]
     },
     "metadata": {},
     "output_type": "display_data"
    },
    {
     "data": {
      "application/vnd.jupyter.widget-view+json": {
       "model_id": "c23f3870507e4d45a0884b3a5ae0a074",
       "version_major": 2,
       "version_minor": 0
      },
      "text/plain": [
       "timesteps:   0%|          | 0/13877 [00:00<?, ?it/s]"
      ]
     },
     "metadata": {},
     "output_type": "display_data"
    },
    {
     "data": {
      "application/vnd.jupyter.widget-view+json": {
       "model_id": "64b016997bc04114ab093adceeeba303",
       "version_major": 2,
       "version_minor": 0
      },
      "text/plain": [
       "timesteps:   0%|          | 0/13877 [00:00<?, ?it/s]"
      ]
     },
     "metadata": {},
     "output_type": "display_data"
    },
    {
     "data": {
      "application/vnd.jupyter.widget-view+json": {
       "model_id": "c51bf6bc89e2483395664534d65a2f54",
       "version_major": 2,
       "version_minor": 0
      },
      "text/plain": [
       "timesteps:   0%|          | 0/13877 [00:00<?, ?it/s]"
      ]
     },
     "metadata": {},
     "output_type": "display_data"
    },
    {
     "data": {
      "application/vnd.jupyter.widget-view+json": {
       "model_id": "10ca8540d8204ec497f56aaa5f6afc98",
       "version_major": 2,
       "version_minor": 0
      },
      "text/plain": [
       "timesteps:   0%|          | 0/13877 [00:00<?, ?it/s]"
      ]
     },
     "metadata": {},
     "output_type": "display_data"
    },
    {
     "data": {
      "application/vnd.jupyter.widget-view+json": {
       "model_id": "1da33f453647475d8f099d0375df1068",
       "version_major": 2,
       "version_minor": 0
      },
      "text/plain": [
       "timesteps:   0%|          | 0/13877 [00:00<?, ?it/s]"
      ]
     },
     "metadata": {},
     "output_type": "display_data"
    },
    {
     "data": {
      "application/vnd.jupyter.widget-view+json": {
       "model_id": "dab89fc9fe7e4bceb7e85db880afafcc",
       "version_major": 2,
       "version_minor": 0
      },
      "text/plain": [
       "timesteps:   0%|          | 0/13877 [00:00<?, ?it/s]"
      ]
     },
     "metadata": {},
     "output_type": "display_data"
    },
    {
     "data": {
      "application/vnd.jupyter.widget-view+json": {
       "model_id": "b12fb5aee8d642f9b35ffb8e5627a711",
       "version_major": 2,
       "version_minor": 0
      },
      "text/plain": [
       "timesteps:   0%|          | 0/13877 [00:00<?, ?it/s]"
      ]
     },
     "metadata": {},
     "output_type": "display_data"
    },
    {
     "name": "stdout",
     "output_type": "stream",
     "text": [
      "149 of 1000, minimal objective function=0.309899, time remaining: 00:05:09\n",
      "ComplexEvo loop #2 in progress...\n"
     ]
    },
    {
     "data": {
      "application/vnd.jupyter.widget-view+json": {
       "model_id": "e3047d9e60b347c3a5c475859cbfb4a7",
       "version_major": 2,
       "version_minor": 0
      },
      "text/plain": [
       "timesteps:   0%|          | 0/13877 [00:00<?, ?it/s]"
      ]
     },
     "metadata": {},
     "output_type": "display_data"
    },
    {
     "data": {
      "application/vnd.jupyter.widget-view+json": {
       "model_id": "433d721e569d41028900cad6c8997680",
       "version_major": 2,
       "version_minor": 0
      },
      "text/plain": [
       "timesteps:   0%|          | 0/13877 [00:00<?, ?it/s]"
      ]
     },
     "metadata": {},
     "output_type": "display_data"
    },
    {
     "data": {
      "application/vnd.jupyter.widget-view+json": {
       "model_id": "77d10cafee124699bcc1d11146c13016",
       "version_major": 2,
       "version_minor": 0
      },
      "text/plain": [
       "timesteps:   0%|          | 0/13877 [00:00<?, ?it/s]"
      ]
     },
     "metadata": {},
     "output_type": "display_data"
    },
    {
     "data": {
      "application/vnd.jupyter.widget-view+json": {
       "model_id": "4a555bf3cc0d48feaf2f73409025ff48",
       "version_major": 2,
       "version_minor": 0
      },
      "text/plain": [
       "timesteps:   0%|          | 0/13877 [00:00<?, ?it/s]"
      ]
     },
     "metadata": {},
     "output_type": "display_data"
    },
    {
     "data": {
      "application/vnd.jupyter.widget-view+json": {
       "model_id": "b68ed8a932104ce097356bd6bae3970b",
       "version_major": 2,
       "version_minor": 0
      },
      "text/plain": [
       "timesteps:   0%|          | 0/13877 [00:00<?, ?it/s]"
      ]
     },
     "metadata": {},
     "output_type": "display_data"
    },
    {
     "data": {
      "application/vnd.jupyter.widget-view+json": {
       "model_id": "8e9c203a363b4856805029e22bd01446",
       "version_major": 2,
       "version_minor": 0
      },
      "text/plain": [
       "timesteps:   0%|          | 0/13877 [00:00<?, ?it/s]"
      ]
     },
     "metadata": {},
     "output_type": "display_data"
    },
    {
     "data": {
      "application/vnd.jupyter.widget-view+json": {
       "model_id": "3554b3db0ec34141b3edb41e22e553d8",
       "version_major": 2,
       "version_minor": 0
      },
      "text/plain": [
       "timesteps:   0%|          | 0/13877 [00:00<?, ?it/s]"
      ]
     },
     "metadata": {},
     "output_type": "display_data"
    },
    {
     "data": {
      "application/vnd.jupyter.widget-view+json": {
       "model_id": "ed15ca75824b4c22b3c2e29c63bc5a19",
       "version_major": 2,
       "version_minor": 0
      },
      "text/plain": [
       "timesteps:   0%|          | 0/13877 [00:00<?, ?it/s]"
      ]
     },
     "metadata": {},
     "output_type": "display_data"
    },
    {
     "data": {
      "application/vnd.jupyter.widget-view+json": {
       "model_id": "e0b76987311c4d20a87a00d8249d1521",
       "version_major": 2,
       "version_minor": 0
      },
      "text/plain": [
       "timesteps:   0%|          | 0/13877 [00:00<?, ?it/s]"
      ]
     },
     "metadata": {},
     "output_type": "display_data"
    },
    {
     "data": {
      "application/vnd.jupyter.widget-view+json": {
       "model_id": "a2475f0e864c4d5da0801052883443fd",
       "version_major": 2,
       "version_minor": 0
      },
      "text/plain": [
       "timesteps:   0%|          | 0/13877 [00:00<?, ?it/s]"
      ]
     },
     "metadata": {},
     "output_type": "display_data"
    },
    {
     "data": {
      "application/vnd.jupyter.widget-view+json": {
       "model_id": "8d36d0b89ce84f838ba02e4a783716f8",
       "version_major": 2,
       "version_minor": 0
      },
      "text/plain": [
       "timesteps:   0%|          | 0/13877 [00:00<?, ?it/s]"
      ]
     },
     "metadata": {},
     "output_type": "display_data"
    },
    {
     "data": {
      "application/vnd.jupyter.widget-view+json": {
       "model_id": "c6e9d555820644ed943b22eb32478338",
       "version_major": 2,
       "version_minor": 0
      },
      "text/plain": [
       "timesteps:   0%|          | 0/13877 [00:00<?, ?it/s]"
      ]
     },
     "metadata": {},
     "output_type": "display_data"
    },
    {
     "data": {
      "application/vnd.jupyter.widget-view+json": {
       "model_id": "b724bf15b55a4cfebaf63bd2b68cf2fa",
       "version_major": 2,
       "version_minor": 0
      },
      "text/plain": [
       "timesteps:   0%|          | 0/13877 [00:00<?, ?it/s]"
      ]
     },
     "metadata": {},
     "output_type": "display_data"
    },
    {
     "data": {
      "application/vnd.jupyter.widget-view+json": {
       "model_id": "200f92fbf692413bb9dabb36046e8d48",
       "version_major": 2,
       "version_minor": 0
      },
      "text/plain": [
       "timesteps:   0%|          | 0/13877 [00:00<?, ?it/s]"
      ]
     },
     "metadata": {},
     "output_type": "display_data"
    },
    {
     "data": {
      "application/vnd.jupyter.widget-view+json": {
       "model_id": "fe32443e52224268a99f3064e3f7605c",
       "version_major": 2,
       "version_minor": 0
      },
      "text/plain": [
       "timesteps:   0%|          | 0/13877 [00:00<?, ?it/s]"
      ]
     },
     "metadata": {},
     "output_type": "display_data"
    },
    {
     "data": {
      "application/vnd.jupyter.widget-view+json": {
       "model_id": "40330cc183f2476c988866ea57415762",
       "version_major": 2,
       "version_minor": 0
      },
      "text/plain": [
       "timesteps:   0%|          | 0/13877 [00:00<?, ?it/s]"
      ]
     },
     "metadata": {},
     "output_type": "display_data"
    },
    {
     "data": {
      "application/vnd.jupyter.widget-view+json": {
       "model_id": "a7c1a39076bf44b98de1286288630a73",
       "version_major": 2,
       "version_minor": 0
      },
      "text/plain": [
       "timesteps:   0%|          | 0/13877 [00:00<?, ?it/s]"
      ]
     },
     "metadata": {},
     "output_type": "display_data"
    },
    {
     "data": {
      "application/vnd.jupyter.widget-view+json": {
       "model_id": "044207ff3a76447fa09e0b8196033e49",
       "version_major": 2,
       "version_minor": 0
      },
      "text/plain": [
       "timesteps:   0%|          | 0/13877 [00:00<?, ?it/s]"
      ]
     },
     "metadata": {},
     "output_type": "display_data"
    },
    {
     "data": {
      "application/vnd.jupyter.widget-view+json": {
       "model_id": "5195018d0c3c4512b8193a9cbd7cd833",
       "version_major": 2,
       "version_minor": 0
      },
      "text/plain": [
       "timesteps:   0%|          | 0/13877 [00:00<?, ?it/s]"
      ]
     },
     "metadata": {},
     "output_type": "display_data"
    },
    {
     "data": {
      "application/vnd.jupyter.widget-view+json": {
       "model_id": "8faf64450690404ab6ca73a32e180157",
       "version_major": 2,
       "version_minor": 0
      },
      "text/plain": [
       "timesteps:   0%|          | 0/13877 [00:00<?, ?it/s]"
      ]
     },
     "metadata": {},
     "output_type": "display_data"
    },
    {
     "data": {
      "application/vnd.jupyter.widget-view+json": {
       "model_id": "16f8a64728bd4176ae2f1571994d7c64",
       "version_major": 2,
       "version_minor": 0
      },
      "text/plain": [
       "timesteps:   0%|          | 0/13877 [00:00<?, ?it/s]"
      ]
     },
     "metadata": {},
     "output_type": "display_data"
    },
    {
     "data": {
      "application/vnd.jupyter.widget-view+json": {
       "model_id": "7ca4081cfacb4bbcbaa066741a859242",
       "version_major": 2,
       "version_minor": 0
      },
      "text/plain": [
       "timesteps:   0%|          | 0/13877 [00:00<?, ?it/s]"
      ]
     },
     "metadata": {},
     "output_type": "display_data"
    },
    {
     "name": "stdout",
     "output_type": "stream",
     "text": [
      "182 of 1000, minimal objective function=0.309899, time remaining: 00:04:51\n"
     ]
    },
    {
     "data": {
      "application/vnd.jupyter.widget-view+json": {
       "model_id": "4e11960a5ee740b9883ba15d2f70a423",
       "version_major": 2,
       "version_minor": 0
      },
      "text/plain": [
       "timesteps:   0%|          | 0/13877 [00:00<?, ?it/s]"
      ]
     },
     "metadata": {},
     "output_type": "display_data"
    },
    {
     "data": {
      "application/vnd.jupyter.widget-view+json": {
       "model_id": "f475b757cd8c4d6bb3967f46918c83ea",
       "version_major": 2,
       "version_minor": 0
      },
      "text/plain": [
       "timesteps:   0%|          | 0/13877 [00:00<?, ?it/s]"
      ]
     },
     "metadata": {},
     "output_type": "display_data"
    },
    {
     "data": {
      "application/vnd.jupyter.widget-view+json": {
       "model_id": "3877a7ea0c84452cbcbb8ae4d59dae72",
       "version_major": 2,
       "version_minor": 0
      },
      "text/plain": [
       "timesteps:   0%|          | 0/13877 [00:00<?, ?it/s]"
      ]
     },
     "metadata": {},
     "output_type": "display_data"
    },
    {
     "data": {
      "application/vnd.jupyter.widget-view+json": {
       "model_id": "4f97cd72bf1543c6bc242610530bc8b4",
       "version_major": 2,
       "version_minor": 0
      },
      "text/plain": [
       "timesteps:   0%|          | 0/13877 [00:00<?, ?it/s]"
      ]
     },
     "metadata": {},
     "output_type": "display_data"
    },
    {
     "data": {
      "application/vnd.jupyter.widget-view+json": {
       "model_id": "84b2bef7b63d4b729a7e15046d21ca97",
       "version_major": 2,
       "version_minor": 0
      },
      "text/plain": [
       "timesteps:   0%|          | 0/13877 [00:00<?, ?it/s]"
      ]
     },
     "metadata": {},
     "output_type": "display_data"
    },
    {
     "data": {
      "application/vnd.jupyter.widget-view+json": {
       "model_id": "5ea63b7123fb4e31a56b116346bf88f8",
       "version_major": 2,
       "version_minor": 0
      },
      "text/plain": [
       "timesteps:   0%|          | 0/13877 [00:00<?, ?it/s]"
      ]
     },
     "metadata": {},
     "output_type": "display_data"
    },
    {
     "data": {
      "application/vnd.jupyter.widget-view+json": {
       "model_id": "344daeeb50914a4b9b47938e08a5f9ff",
       "version_major": 2,
       "version_minor": 0
      },
      "text/plain": [
       "timesteps:   0%|          | 0/13877 [00:00<?, ?it/s]"
      ]
     },
     "metadata": {},
     "output_type": "display_data"
    },
    {
     "data": {
      "application/vnd.jupyter.widget-view+json": {
       "model_id": "ea265958a55e4b2ca455c7b22cf82fa4",
       "version_major": 2,
       "version_minor": 0
      },
      "text/plain": [
       "timesteps:   0%|          | 0/13877 [00:00<?, ?it/s]"
      ]
     },
     "metadata": {},
     "output_type": "display_data"
    },
    {
     "data": {
      "application/vnd.jupyter.widget-view+json": {
       "model_id": "4e37257535fe4c69af5251a2f2a3e7f6",
       "version_major": 2,
       "version_minor": 0
      },
      "text/plain": [
       "timesteps:   0%|          | 0/13877 [00:00<?, ?it/s]"
      ]
     },
     "metadata": {},
     "output_type": "display_data"
    },
    {
     "data": {
      "application/vnd.jupyter.widget-view+json": {
       "model_id": "d90ae8f624574a599bf6c2d9afb3181e",
       "version_major": 2,
       "version_minor": 0
      },
      "text/plain": [
       "timesteps:   0%|          | 0/13877 [00:00<?, ?it/s]"
      ]
     },
     "metadata": {},
     "output_type": "display_data"
    },
    {
     "data": {
      "application/vnd.jupyter.widget-view+json": {
       "model_id": "948be45e8c6c4ab081aa5963cf6b8be9",
       "version_major": 2,
       "version_minor": 0
      },
      "text/plain": [
       "timesteps:   0%|          | 0/13877 [00:00<?, ?it/s]"
      ]
     },
     "metadata": {},
     "output_type": "display_data"
    },
    {
     "data": {
      "application/vnd.jupyter.widget-view+json": {
       "model_id": "9bb5f1bc0fe843d8815f332b627db903",
       "version_major": 2,
       "version_minor": 0
      },
      "text/plain": [
       "timesteps:   0%|          | 0/13877 [00:00<?, ?it/s]"
      ]
     },
     "metadata": {},
     "output_type": "display_data"
    },
    {
     "data": {
      "application/vnd.jupyter.widget-view+json": {
       "model_id": "9679b0c0db4e43b1a9e6097de3244b3e",
       "version_major": 2,
       "version_minor": 0
      },
      "text/plain": [
       "timesteps:   0%|          | 0/13877 [00:00<?, ?it/s]"
      ]
     },
     "metadata": {},
     "output_type": "display_data"
    },
    {
     "data": {
      "application/vnd.jupyter.widget-view+json": {
       "model_id": "3ad6f3db683a431a85b31f44d289c8b9",
       "version_major": 2,
       "version_minor": 0
      },
      "text/plain": [
       "timesteps:   0%|          | 0/13877 [00:00<?, ?it/s]"
      ]
     },
     "metadata": {},
     "output_type": "display_data"
    },
    {
     "data": {
      "application/vnd.jupyter.widget-view+json": {
       "model_id": "b022212d5daf43b9b000a76f95177f1a",
       "version_major": 2,
       "version_minor": 0
      },
      "text/plain": [
       "timesteps:   0%|          | 0/13877 [00:00<?, ?it/s]"
      ]
     },
     "metadata": {},
     "output_type": "display_data"
    },
    {
     "data": {
      "application/vnd.jupyter.widget-view+json": {
       "model_id": "f64a35a0be9b401fb23dd20e8f137801",
       "version_major": 2,
       "version_minor": 0
      },
      "text/plain": [
       "timesteps:   0%|          | 0/13877 [00:00<?, ?it/s]"
      ]
     },
     "metadata": {},
     "output_type": "display_data"
    },
    {
     "name": "stdout",
     "output_type": "stream",
     "text": [
      "209 of 1000, minimal objective function=0.279769, time remaining: 00:04:33\n"
     ]
    },
    {
     "data": {
      "application/vnd.jupyter.widget-view+json": {
       "model_id": "ef84df1ac64f4647a8172623511d0dea",
       "version_major": 2,
       "version_minor": 0
      },
      "text/plain": [
       "timesteps:   0%|          | 0/13877 [00:00<?, ?it/s]"
      ]
     },
     "metadata": {},
     "output_type": "display_data"
    },
    {
     "data": {
      "application/vnd.jupyter.widget-view+json": {
       "model_id": "83f2a3e072ac446ba520aeedc9f4b9db",
       "version_major": 2,
       "version_minor": 0
      },
      "text/plain": [
       "timesteps:   0%|          | 0/13877 [00:00<?, ?it/s]"
      ]
     },
     "metadata": {},
     "output_type": "display_data"
    },
    {
     "data": {
      "application/vnd.jupyter.widget-view+json": {
       "model_id": "983baec853894683a8e2ae1a80b20120",
       "version_major": 2,
       "version_minor": 0
      },
      "text/plain": [
       "timesteps:   0%|          | 0/13877 [00:00<?, ?it/s]"
      ]
     },
     "metadata": {},
     "output_type": "display_data"
    },
    {
     "data": {
      "application/vnd.jupyter.widget-view+json": {
       "model_id": "d44d0642e3b4466f91015fa567e35c6d",
       "version_major": 2,
       "version_minor": 0
      },
      "text/plain": [
       "timesteps:   0%|          | 0/13877 [00:00<?, ?it/s]"
      ]
     },
     "metadata": {},
     "output_type": "display_data"
    },
    {
     "data": {
      "application/vnd.jupyter.widget-view+json": {
       "model_id": "cef627aecc2b468dba546ca716272d15",
       "version_major": 2,
       "version_minor": 0
      },
      "text/plain": [
       "timesteps:   0%|          | 0/13877 [00:00<?, ?it/s]"
      ]
     },
     "metadata": {},
     "output_type": "display_data"
    },
    {
     "data": {
      "application/vnd.jupyter.widget-view+json": {
       "model_id": "fd45efb415ae4b178dc84876062c1241",
       "version_major": 2,
       "version_minor": 0
      },
      "text/plain": [
       "timesteps:   0%|          | 0/13877 [00:00<?, ?it/s]"
      ]
     },
     "metadata": {},
     "output_type": "display_data"
    },
    {
     "data": {
      "application/vnd.jupyter.widget-view+json": {
       "model_id": "63d93b95beb7460fbdb8e48e10e0d45d",
       "version_major": 2,
       "version_minor": 0
      },
      "text/plain": [
       "timesteps:   0%|          | 0/13877 [00:00<?, ?it/s]"
      ]
     },
     "metadata": {},
     "output_type": "display_data"
    },
    {
     "data": {
      "application/vnd.jupyter.widget-view+json": {
       "model_id": "abbc8617d3b548848e3bd18c6b0af219",
       "version_major": 2,
       "version_minor": 0
      },
      "text/plain": [
       "timesteps:   0%|          | 0/13877 [00:00<?, ?it/s]"
      ]
     },
     "metadata": {},
     "output_type": "display_data"
    },
    {
     "data": {
      "application/vnd.jupyter.widget-view+json": {
       "model_id": "72ebad600f084871a1a0b3504a22e31a",
       "version_major": 2,
       "version_minor": 0
      },
      "text/plain": [
       "timesteps:   0%|          | 0/13877 [00:00<?, ?it/s]"
      ]
     },
     "metadata": {},
     "output_type": "display_data"
    },
    {
     "data": {
      "application/vnd.jupyter.widget-view+json": {
       "model_id": "103b22f4a6a242978a26649d34b40ed8",
       "version_major": 2,
       "version_minor": 0
      },
      "text/plain": [
       "timesteps:   0%|          | 0/13877 [00:00<?, ?it/s]"
      ]
     },
     "metadata": {},
     "output_type": "display_data"
    },
    {
     "data": {
      "application/vnd.jupyter.widget-view+json": {
       "model_id": "15addde52936460bbddb8fbb2242efa4",
       "version_major": 2,
       "version_minor": 0
      },
      "text/plain": [
       "timesteps:   0%|          | 0/13877 [00:00<?, ?it/s]"
      ]
     },
     "metadata": {},
     "output_type": "display_data"
    },
    {
     "data": {
      "application/vnd.jupyter.widget-view+json": {
       "model_id": "a08fc3532f8b48b7b03a43e52a60c31a",
       "version_major": 2,
       "version_minor": 0
      },
      "text/plain": [
       "timesteps:   0%|          | 0/13877 [00:00<?, ?it/s]"
      ]
     },
     "metadata": {},
     "output_type": "display_data"
    },
    {
     "data": {
      "application/vnd.jupyter.widget-view+json": {
       "model_id": "5b71d84de34041e7a94412401b850392",
       "version_major": 2,
       "version_minor": 0
      },
      "text/plain": [
       "timesteps:   0%|          | 0/13877 [00:00<?, ?it/s]"
      ]
     },
     "metadata": {},
     "output_type": "display_data"
    },
    {
     "data": {
      "application/vnd.jupyter.widget-view+json": {
       "model_id": "babd093d3c6b4a3da9b830908944e7b5",
       "version_major": 2,
       "version_minor": 0
      },
      "text/plain": [
       "timesteps:   0%|          | 0/13877 [00:00<?, ?it/s]"
      ]
     },
     "metadata": {},
     "output_type": "display_data"
    },
    {
     "data": {
      "application/vnd.jupyter.widget-view+json": {
       "model_id": "af981b5927504ad59c9c2cdf6aeb826c",
       "version_major": 2,
       "version_minor": 0
      },
      "text/plain": [
       "timesteps:   0%|          | 0/13877 [00:00<?, ?it/s]"
      ]
     },
     "metadata": {},
     "output_type": "display_data"
    },
    {
     "data": {
      "application/vnd.jupyter.widget-view+json": {
       "model_id": "78edef353fad44aeb77d5c88f841fcd7",
       "version_major": 2,
       "version_minor": 0
      },
      "text/plain": [
       "timesteps:   0%|          | 0/13877 [00:00<?, ?it/s]"
      ]
     },
     "metadata": {},
     "output_type": "display_data"
    },
    {
     "data": {
      "application/vnd.jupyter.widget-view+json": {
       "model_id": "2a85cb55fcc2424ea6ee7eb32ce28e2d",
       "version_major": 2,
       "version_minor": 0
      },
      "text/plain": [
       "timesteps:   0%|          | 0/13877 [00:00<?, ?it/s]"
      ]
     },
     "metadata": {},
     "output_type": "display_data"
    },
    {
     "data": {
      "application/vnd.jupyter.widget-view+json": {
       "model_id": "c34026f7b6ca4b658d6e4321523c53c3",
       "version_major": 2,
       "version_minor": 0
      },
      "text/plain": [
       "timesteps:   0%|          | 0/13877 [00:00<?, ?it/s]"
      ]
     },
     "metadata": {},
     "output_type": "display_data"
    },
    {
     "name": "stdout",
     "output_type": "stream",
     "text": [
      "238 of 1000, minimal objective function=0.279769, time remaining: 00:04:19\n"
     ]
    },
    {
     "data": {
      "application/vnd.jupyter.widget-view+json": {
       "model_id": "a7009eff05744aa595972ad4070322e8",
       "version_major": 2,
       "version_minor": 0
      },
      "text/plain": [
       "timesteps:   0%|          | 0/13877 [00:00<?, ?it/s]"
      ]
     },
     "metadata": {},
     "output_type": "display_data"
    },
    {
     "data": {
      "application/vnd.jupyter.widget-view+json": {
       "model_id": "359efa19b1ff447fac696c16d90787e0",
       "version_major": 2,
       "version_minor": 0
      },
      "text/plain": [
       "timesteps:   0%|          | 0/13877 [00:00<?, ?it/s]"
      ]
     },
     "metadata": {},
     "output_type": "display_data"
    },
    {
     "data": {
      "application/vnd.jupyter.widget-view+json": {
       "model_id": "29f9ac5975f44fc3b45307f5dd036188",
       "version_major": 2,
       "version_minor": 0
      },
      "text/plain": [
       "timesteps:   0%|          | 0/13877 [00:00<?, ?it/s]"
      ]
     },
     "metadata": {},
     "output_type": "display_data"
    },
    {
     "data": {
      "application/vnd.jupyter.widget-view+json": {
       "model_id": "df2929818a3f4a8480fe74dc17e60cb3",
       "version_major": 2,
       "version_minor": 0
      },
      "text/plain": [
       "timesteps:   0%|          | 0/13877 [00:00<?, ?it/s]"
      ]
     },
     "metadata": {},
     "output_type": "display_data"
    },
    {
     "data": {
      "application/vnd.jupyter.widget-view+json": {
       "model_id": "eefebe0cd4a54aebaf82d02b6a02d57b",
       "version_major": 2,
       "version_minor": 0
      },
      "text/plain": [
       "timesteps:   0%|          | 0/13877 [00:00<?, ?it/s]"
      ]
     },
     "metadata": {},
     "output_type": "display_data"
    },
    {
     "data": {
      "application/vnd.jupyter.widget-view+json": {
       "model_id": "aba6e6afe741489a8b25fe7a23ecc678",
       "version_major": 2,
       "version_minor": 0
      },
      "text/plain": [
       "timesteps:   0%|          | 0/13877 [00:00<?, ?it/s]"
      ]
     },
     "metadata": {},
     "output_type": "display_data"
    },
    {
     "data": {
      "application/vnd.jupyter.widget-view+json": {
       "model_id": "88094a9524704088877b8b15eee2c993",
       "version_major": 2,
       "version_minor": 0
      },
      "text/plain": [
       "timesteps:   0%|          | 0/13877 [00:00<?, ?it/s]"
      ]
     },
     "metadata": {},
     "output_type": "display_data"
    },
    {
     "data": {
      "application/vnd.jupyter.widget-view+json": {
       "model_id": "703fa4a8d1b34f57a92fffd5e82ff6f0",
       "version_major": 2,
       "version_minor": 0
      },
      "text/plain": [
       "timesteps:   0%|          | 0/13877 [00:00<?, ?it/s]"
      ]
     },
     "metadata": {},
     "output_type": "display_data"
    },
    {
     "data": {
      "application/vnd.jupyter.widget-view+json": {
       "model_id": "2531daadc61d4f38b00165f105f732c9",
       "version_major": 2,
       "version_minor": 0
      },
      "text/plain": [
       "timesteps:   0%|          | 0/13877 [00:00<?, ?it/s]"
      ]
     },
     "metadata": {},
     "output_type": "display_data"
    },
    {
     "data": {
      "application/vnd.jupyter.widget-view+json": {
       "model_id": "327f63fa0b1e48238468464ca4b5791b",
       "version_major": 2,
       "version_minor": 0
      },
      "text/plain": [
       "timesteps:   0%|          | 0/13877 [00:00<?, ?it/s]"
      ]
     },
     "metadata": {},
     "output_type": "display_data"
    },
    {
     "data": {
      "application/vnd.jupyter.widget-view+json": {
       "model_id": "461e12ae0bf14104a074d92b63e0411c",
       "version_major": 2,
       "version_minor": 0
      },
      "text/plain": [
       "timesteps:   0%|          | 0/13877 [00:00<?, ?it/s]"
      ]
     },
     "metadata": {},
     "output_type": "display_data"
    },
    {
     "data": {
      "application/vnd.jupyter.widget-view+json": {
       "model_id": "995cc01c9ad6417eab827c9a373bb1e8",
       "version_major": 2,
       "version_minor": 0
      },
      "text/plain": [
       "timesteps:   0%|          | 0/13877 [00:00<?, ?it/s]"
      ]
     },
     "metadata": {},
     "output_type": "display_data"
    },
    {
     "data": {
      "application/vnd.jupyter.widget-view+json": {
       "model_id": "1b704029731844c9906a694a30603d02",
       "version_major": 2,
       "version_minor": 0
      },
      "text/plain": [
       "timesteps:   0%|          | 0/13877 [00:00<?, ?it/s]"
      ]
     },
     "metadata": {},
     "output_type": "display_data"
    },
    {
     "data": {
      "application/vnd.jupyter.widget-view+json": {
       "model_id": "e0e6d081b4c64499baf55ac703845d3b",
       "version_major": 2,
       "version_minor": 0
      },
      "text/plain": [
       "timesteps:   0%|          | 0/13877 [00:00<?, ?it/s]"
      ]
     },
     "metadata": {},
     "output_type": "display_data"
    },
    {
     "data": {
      "application/vnd.jupyter.widget-view+json": {
       "model_id": "0ba62600af634d928d76c570c686ad56",
       "version_major": 2,
       "version_minor": 0
      },
      "text/plain": [
       "timesteps:   0%|          | 0/13877 [00:00<?, ?it/s]"
      ]
     },
     "metadata": {},
     "output_type": "display_data"
    },
    {
     "data": {
      "application/vnd.jupyter.widget-view+json": {
       "model_id": "3cc7153787634e7eac06c776d05fe51d",
       "version_major": 2,
       "version_minor": 0
      },
      "text/plain": [
       "timesteps:   0%|          | 0/13877 [00:00<?, ?it/s]"
      ]
     },
     "metadata": {},
     "output_type": "display_data"
    },
    {
     "data": {
      "application/vnd.jupyter.widget-view+json": {
       "model_id": "8e6cd3f586e74529ab1056b09e843904",
       "version_major": 2,
       "version_minor": 0
      },
      "text/plain": [
       "timesteps:   0%|          | 0/13877 [00:00<?, ?it/s]"
      ]
     },
     "metadata": {},
     "output_type": "display_data"
    },
    {
     "name": "stdout",
     "output_type": "stream",
     "text": [
      "266 of 1000, minimal objective function=0.279769, time remaining: 00:04:05\n",
      "ComplexEvo loop #3 in progress...\n"
     ]
    },
    {
     "data": {
      "application/vnd.jupyter.widget-view+json": {
       "model_id": "e9353439d0514769ab3194994676e0b7",
       "version_major": 2,
       "version_minor": 0
      },
      "text/plain": [
       "timesteps:   0%|          | 0/13877 [00:00<?, ?it/s]"
      ]
     },
     "metadata": {},
     "output_type": "display_data"
    },
    {
     "data": {
      "application/vnd.jupyter.widget-view+json": {
       "model_id": "a0df211a354f451dbb3de8757b808003",
       "version_major": 2,
       "version_minor": 0
      },
      "text/plain": [
       "timesteps:   0%|          | 0/13877 [00:00<?, ?it/s]"
      ]
     },
     "metadata": {},
     "output_type": "display_data"
    },
    {
     "data": {
      "application/vnd.jupyter.widget-view+json": {
       "model_id": "ff8b06022af649059e6b1fed00655fb9",
       "version_major": 2,
       "version_minor": 0
      },
      "text/plain": [
       "timesteps:   0%|          | 0/13877 [00:00<?, ?it/s]"
      ]
     },
     "metadata": {},
     "output_type": "display_data"
    },
    {
     "data": {
      "application/vnd.jupyter.widget-view+json": {
       "model_id": "6e6cd74382e4443ab3d8da63a08a6647",
       "version_major": 2,
       "version_minor": 0
      },
      "text/plain": [
       "timesteps:   0%|          | 0/13877 [00:00<?, ?it/s]"
      ]
     },
     "metadata": {},
     "output_type": "display_data"
    },
    {
     "data": {
      "application/vnd.jupyter.widget-view+json": {
       "model_id": "67ad468184f842d39e1e6eed89e5900e",
       "version_major": 2,
       "version_minor": 0
      },
      "text/plain": [
       "timesteps:   0%|          | 0/13877 [00:00<?, ?it/s]"
      ]
     },
     "metadata": {},
     "output_type": "display_data"
    },
    {
     "data": {
      "application/vnd.jupyter.widget-view+json": {
       "model_id": "13f704a1fa944c1ba1bba523ff5fd0c0",
       "version_major": 2,
       "version_minor": 0
      },
      "text/plain": [
       "timesteps:   0%|          | 0/13877 [00:00<?, ?it/s]"
      ]
     },
     "metadata": {},
     "output_type": "display_data"
    },
    {
     "data": {
      "application/vnd.jupyter.widget-view+json": {
       "model_id": "7c4a70003b4748d696f7243b7d221a4b",
       "version_major": 2,
       "version_minor": 0
      },
      "text/plain": [
       "timesteps:   0%|          | 0/13877 [00:00<?, ?it/s]"
      ]
     },
     "metadata": {},
     "output_type": "display_data"
    },
    {
     "data": {
      "application/vnd.jupyter.widget-view+json": {
       "model_id": "aa15732fda33426b8f8b62db18b76b8f",
       "version_major": 2,
       "version_minor": 0
      },
      "text/plain": [
       "timesteps:   0%|          | 0/13877 [00:00<?, ?it/s]"
      ]
     },
     "metadata": {},
     "output_type": "display_data"
    },
    {
     "data": {
      "application/vnd.jupyter.widget-view+json": {
       "model_id": "5ca8cf06d21342508b376765b9bf08d6",
       "version_major": 2,
       "version_minor": 0
      },
      "text/plain": [
       "timesteps:   0%|          | 0/13877 [00:00<?, ?it/s]"
      ]
     },
     "metadata": {},
     "output_type": "display_data"
    },
    {
     "data": {
      "application/vnd.jupyter.widget-view+json": {
       "model_id": "b3990015ca334f50974916d7a006b473",
       "version_major": 2,
       "version_minor": 0
      },
      "text/plain": [
       "timesteps:   0%|          | 0/13877 [00:00<?, ?it/s]"
      ]
     },
     "metadata": {},
     "output_type": "display_data"
    },
    {
     "data": {
      "application/vnd.jupyter.widget-view+json": {
       "model_id": "325622007fb74cb88fe0946fb2f923cc",
       "version_major": 2,
       "version_minor": 0
      },
      "text/plain": [
       "timesteps:   0%|          | 0/13877 [00:00<?, ?it/s]"
      ]
     },
     "metadata": {},
     "output_type": "display_data"
    },
    {
     "data": {
      "application/vnd.jupyter.widget-view+json": {
       "model_id": "5cd7a7f089d943b58870f50719c7059e",
       "version_major": 2,
       "version_minor": 0
      },
      "text/plain": [
       "timesteps:   0%|          | 0/13877 [00:00<?, ?it/s]"
      ]
     },
     "metadata": {},
     "output_type": "display_data"
    },
    {
     "data": {
      "application/vnd.jupyter.widget-view+json": {
       "model_id": "523b2181d09b47ba8489c17709e20e5f",
       "version_major": 2,
       "version_minor": 0
      },
      "text/plain": [
       "timesteps:   0%|          | 0/13877 [00:00<?, ?it/s]"
      ]
     },
     "metadata": {},
     "output_type": "display_data"
    },
    {
     "data": {
      "application/vnd.jupyter.widget-view+json": {
       "model_id": "3597f5e0ea8e4821a73588823934b1b8",
       "version_major": 2,
       "version_minor": 0
      },
      "text/plain": [
       "timesteps:   0%|          | 0/13877 [00:00<?, ?it/s]"
      ]
     },
     "metadata": {},
     "output_type": "display_data"
    },
    {
     "data": {
      "application/vnd.jupyter.widget-view+json": {
       "model_id": "692a6186393e4c6a93f9abbd9d7655fa",
       "version_major": 2,
       "version_minor": 0
      },
      "text/plain": [
       "timesteps:   0%|          | 0/13877 [00:00<?, ?it/s]"
      ]
     },
     "metadata": {},
     "output_type": "display_data"
    },
    {
     "data": {
      "application/vnd.jupyter.widget-view+json": {
       "model_id": "3027ec3e36f54ba5b2985082ee4a3a16",
       "version_major": 2,
       "version_minor": 0
      },
      "text/plain": [
       "timesteps:   0%|          | 0/13877 [00:00<?, ?it/s]"
      ]
     },
     "metadata": {},
     "output_type": "display_data"
    },
    {
     "data": {
      "application/vnd.jupyter.widget-view+json": {
       "model_id": "d347250ffb41437191f0f07433faf454",
       "version_major": 2,
       "version_minor": 0
      },
      "text/plain": [
       "timesteps:   0%|          | 0/13877 [00:00<?, ?it/s]"
      ]
     },
     "metadata": {},
     "output_type": "display_data"
    },
    {
     "data": {
      "application/vnd.jupyter.widget-view+json": {
       "model_id": "daa235ca063b4aceb0f93834fcd1a926",
       "version_major": 2,
       "version_minor": 0
      },
      "text/plain": [
       "timesteps:   0%|          | 0/13877 [00:00<?, ?it/s]"
      ]
     },
     "metadata": {},
     "output_type": "display_data"
    },
    {
     "data": {
      "application/vnd.jupyter.widget-view+json": {
       "model_id": "0ce32601abbf457d81206453722a79a3",
       "version_major": 2,
       "version_minor": 0
      },
      "text/plain": [
       "timesteps:   0%|          | 0/13877 [00:00<?, ?it/s]"
      ]
     },
     "metadata": {},
     "output_type": "display_data"
    },
    {
     "data": {
      "application/vnd.jupyter.widget-view+json": {
       "model_id": "1a5bd1500cad4a52b636f28e20ce6269",
       "version_major": 2,
       "version_minor": 0
      },
      "text/plain": [
       "timesteps:   0%|          | 0/13877 [00:00<?, ?it/s]"
      ]
     },
     "metadata": {},
     "output_type": "display_data"
    },
    {
     "data": {
      "application/vnd.jupyter.widget-view+json": {
       "model_id": "75ad8b8951b2417fb8590932199ed3a4",
       "version_major": 2,
       "version_minor": 0
      },
      "text/plain": [
       "timesteps:   0%|          | 0/13877 [00:00<?, ?it/s]"
      ]
     },
     "metadata": {},
     "output_type": "display_data"
    },
    {
     "name": "stdout",
     "output_type": "stream",
     "text": [
      "298 of 1000, minimal objective function=0.279769, time remaining: 00:03:53\n"
     ]
    },
    {
     "data": {
      "application/vnd.jupyter.widget-view+json": {
       "model_id": "41566e8e03614656bb523ff0844d1761",
       "version_major": 2,
       "version_minor": 0
      },
      "text/plain": [
       "timesteps:   0%|          | 0/13877 [00:00<?, ?it/s]"
      ]
     },
     "metadata": {},
     "output_type": "display_data"
    },
    {
     "data": {
      "application/vnd.jupyter.widget-view+json": {
       "model_id": "aac3b1a42f0e4a19b82ba9dca51d4fce",
       "version_major": 2,
       "version_minor": 0
      },
      "text/plain": [
       "timesteps:   0%|          | 0/13877 [00:00<?, ?it/s]"
      ]
     },
     "metadata": {},
     "output_type": "display_data"
    },
    {
     "data": {
      "application/vnd.jupyter.widget-view+json": {
       "model_id": "857c6af5ba37411f87510fbe83cf0af8",
       "version_major": 2,
       "version_minor": 0
      },
      "text/plain": [
       "timesteps:   0%|          | 0/13877 [00:00<?, ?it/s]"
      ]
     },
     "metadata": {},
     "output_type": "display_data"
    },
    {
     "data": {
      "application/vnd.jupyter.widget-view+json": {
       "model_id": "731152778e6f4bb8839e57d7fe0f6a03",
       "version_major": 2,
       "version_minor": 0
      },
      "text/plain": [
       "timesteps:   0%|          | 0/13877 [00:00<?, ?it/s]"
      ]
     },
     "metadata": {},
     "output_type": "display_data"
    },
    {
     "data": {
      "application/vnd.jupyter.widget-view+json": {
       "model_id": "7cba4d4d220f4478a52c2debac9ea377",
       "version_major": 2,
       "version_minor": 0
      },
      "text/plain": [
       "timesteps:   0%|          | 0/13877 [00:00<?, ?it/s]"
      ]
     },
     "metadata": {},
     "output_type": "display_data"
    },
    {
     "data": {
      "application/vnd.jupyter.widget-view+json": {
       "model_id": "2e622e1b0c374b919d86e7808fcc142f",
       "version_major": 2,
       "version_minor": 0
      },
      "text/plain": [
       "timesteps:   0%|          | 0/13877 [00:00<?, ?it/s]"
      ]
     },
     "metadata": {},
     "output_type": "display_data"
    },
    {
     "data": {
      "application/vnd.jupyter.widget-view+json": {
       "model_id": "bf587512b18342b9a749741e50b56039",
       "version_major": 2,
       "version_minor": 0
      },
      "text/plain": [
       "timesteps:   0%|          | 0/13877 [00:00<?, ?it/s]"
      ]
     },
     "metadata": {},
     "output_type": "display_data"
    },
    {
     "data": {
      "application/vnd.jupyter.widget-view+json": {
       "model_id": "75c5eada17124d9f9ca52cd69954d345",
       "version_major": 2,
       "version_minor": 0
      },
      "text/plain": [
       "timesteps:   0%|          | 0/13877 [00:00<?, ?it/s]"
      ]
     },
     "metadata": {},
     "output_type": "display_data"
    },
    {
     "data": {
      "application/vnd.jupyter.widget-view+json": {
       "model_id": "9fc9c794c72c409297c108ea7aab06d5",
       "version_major": 2,
       "version_minor": 0
      },
      "text/plain": [
       "timesteps:   0%|          | 0/13877 [00:00<?, ?it/s]"
      ]
     },
     "metadata": {},
     "output_type": "display_data"
    },
    {
     "data": {
      "application/vnd.jupyter.widget-view+json": {
       "model_id": "3c2109ebffd143d39c74260dc6ba5129",
       "version_major": 2,
       "version_minor": 0
      },
      "text/plain": [
       "timesteps:   0%|          | 0/13877 [00:00<?, ?it/s]"
      ]
     },
     "metadata": {},
     "output_type": "display_data"
    },
    {
     "data": {
      "application/vnd.jupyter.widget-view+json": {
       "model_id": "277c617578eb4aa3aeb28742fa62a79c",
       "version_major": 2,
       "version_minor": 0
      },
      "text/plain": [
       "timesteps:   0%|          | 0/13877 [00:00<?, ?it/s]"
      ]
     },
     "metadata": {},
     "output_type": "display_data"
    },
    {
     "data": {
      "application/vnd.jupyter.widget-view+json": {
       "model_id": "a6d8d3bd8edd40648d970b4d6b19c1df",
       "version_major": 2,
       "version_minor": 0
      },
      "text/plain": [
       "timesteps:   0%|          | 0/13877 [00:00<?, ?it/s]"
      ]
     },
     "metadata": {},
     "output_type": "display_data"
    },
    {
     "data": {
      "application/vnd.jupyter.widget-view+json": {
       "model_id": "2be3bf5f192849989e85190048cdfd5b",
       "version_major": 2,
       "version_minor": 0
      },
      "text/plain": [
       "timesteps:   0%|          | 0/13877 [00:00<?, ?it/s]"
      ]
     },
     "metadata": {},
     "output_type": "display_data"
    },
    {
     "data": {
      "application/vnd.jupyter.widget-view+json": {
       "model_id": "ef3879a67c984371a127a56bfa2bce44",
       "version_major": 2,
       "version_minor": 0
      },
      "text/plain": [
       "timesteps:   0%|          | 0/13877 [00:00<?, ?it/s]"
      ]
     },
     "metadata": {},
     "output_type": "display_data"
    },
    {
     "data": {
      "application/vnd.jupyter.widget-view+json": {
       "model_id": "167b2b26198a417aa6b17dd73bfd3710",
       "version_major": 2,
       "version_minor": 0
      },
      "text/plain": [
       "timesteps:   0%|          | 0/13877 [00:00<?, ?it/s]"
      ]
     },
     "metadata": {},
     "output_type": "display_data"
    },
    {
     "data": {
      "application/vnd.jupyter.widget-view+json": {
       "model_id": "0c847805ced2406f983e6b4be3d5bfff",
       "version_major": 2,
       "version_minor": 0
      },
      "text/plain": [
       "timesteps:   0%|          | 0/13877 [00:00<?, ?it/s]"
      ]
     },
     "metadata": {},
     "output_type": "display_data"
    },
    {
     "data": {
      "application/vnd.jupyter.widget-view+json": {
       "model_id": "b03699cab750441f93cc9c817e3554e4",
       "version_major": 2,
       "version_minor": 0
      },
      "text/plain": [
       "timesteps:   0%|          | 0/13877 [00:00<?, ?it/s]"
      ]
     },
     "metadata": {},
     "output_type": "display_data"
    },
    {
     "data": {
      "application/vnd.jupyter.widget-view+json": {
       "model_id": "d6a725b70506499f9cfa82662b878f90",
       "version_major": 2,
       "version_minor": 0
      },
      "text/plain": [
       "timesteps:   0%|          | 0/13877 [00:00<?, ?it/s]"
      ]
     },
     "metadata": {},
     "output_type": "display_data"
    },
    {
     "data": {
      "application/vnd.jupyter.widget-view+json": {
       "model_id": "48982ee3f7974f938dfb0d199e3fbc32",
       "version_major": 2,
       "version_minor": 0
      },
      "text/plain": [
       "timesteps:   0%|          | 0/13877 [00:00<?, ?it/s]"
      ]
     },
     "metadata": {},
     "output_type": "display_data"
    },
    {
     "name": "stdout",
     "output_type": "stream",
     "text": [
      "328 of 1000, minimal objective function=0.279769, time remaining: 00:03:41\n"
     ]
    },
    {
     "data": {
      "application/vnd.jupyter.widget-view+json": {
       "model_id": "e86a1efd6ed64918923ca5fcb30a048e",
       "version_major": 2,
       "version_minor": 0
      },
      "text/plain": [
       "timesteps:   0%|          | 0/13877 [00:00<?, ?it/s]"
      ]
     },
     "metadata": {},
     "output_type": "display_data"
    },
    {
     "data": {
      "application/vnd.jupyter.widget-view+json": {
       "model_id": "c23df2f6e6d1452fa9d4ef0bd43d6fc4",
       "version_major": 2,
       "version_minor": 0
      },
      "text/plain": [
       "timesteps:   0%|          | 0/13877 [00:00<?, ?it/s]"
      ]
     },
     "metadata": {},
     "output_type": "display_data"
    },
    {
     "data": {
      "application/vnd.jupyter.widget-view+json": {
       "model_id": "c9aa7e120703493fa5851531dd3000c2",
       "version_major": 2,
       "version_minor": 0
      },
      "text/plain": [
       "timesteps:   0%|          | 0/13877 [00:00<?, ?it/s]"
      ]
     },
     "metadata": {},
     "output_type": "display_data"
    },
    {
     "data": {
      "application/vnd.jupyter.widget-view+json": {
       "model_id": "897c50a0ecff47e1acf21819b9198f0d",
       "version_major": 2,
       "version_minor": 0
      },
      "text/plain": [
       "timesteps:   0%|          | 0/13877 [00:00<?, ?it/s]"
      ]
     },
     "metadata": {},
     "output_type": "display_data"
    },
    {
     "data": {
      "application/vnd.jupyter.widget-view+json": {
       "model_id": "77920fcd920c472bad9c2ac179be8f99",
       "version_major": 2,
       "version_minor": 0
      },
      "text/plain": [
       "timesteps:   0%|          | 0/13877 [00:00<?, ?it/s]"
      ]
     },
     "metadata": {},
     "output_type": "display_data"
    },
    {
     "data": {
      "application/vnd.jupyter.widget-view+json": {
       "model_id": "6d17ef0b7c88429c8c56a7aeb8f3fca2",
       "version_major": 2,
       "version_minor": 0
      },
      "text/plain": [
       "timesteps:   0%|          | 0/13877 [00:00<?, ?it/s]"
      ]
     },
     "metadata": {},
     "output_type": "display_data"
    },
    {
     "data": {
      "application/vnd.jupyter.widget-view+json": {
       "model_id": "8c418d1234e44e2fbfeff6ae3acf65d7",
       "version_major": 2,
       "version_minor": 0
      },
      "text/plain": [
       "timesteps:   0%|          | 0/13877 [00:00<?, ?it/s]"
      ]
     },
     "metadata": {},
     "output_type": "display_data"
    },
    {
     "data": {
      "application/vnd.jupyter.widget-view+json": {
       "model_id": "bf72c9d2e9a749c28f32ed695e9f799e",
       "version_major": 2,
       "version_minor": 0
      },
      "text/plain": [
       "timesteps:   0%|          | 0/13877 [00:00<?, ?it/s]"
      ]
     },
     "metadata": {},
     "output_type": "display_data"
    },
    {
     "data": {
      "application/vnd.jupyter.widget-view+json": {
       "model_id": "41e37d5e4033448cb3212cd3e399f708",
       "version_major": 2,
       "version_minor": 0
      },
      "text/plain": [
       "timesteps:   0%|          | 0/13877 [00:00<?, ?it/s]"
      ]
     },
     "metadata": {},
     "output_type": "display_data"
    },
    {
     "data": {
      "application/vnd.jupyter.widget-view+json": {
       "model_id": "a16a00db2fd74d2b88e76212e8434faf",
       "version_major": 2,
       "version_minor": 0
      },
      "text/plain": [
       "timesteps:   0%|          | 0/13877 [00:00<?, ?it/s]"
      ]
     },
     "metadata": {},
     "output_type": "display_data"
    },
    {
     "data": {
      "application/vnd.jupyter.widget-view+json": {
       "model_id": "3c2a6f61892544958f4ffdaebd63f20e",
       "version_major": 2,
       "version_minor": 0
      },
      "text/plain": [
       "timesteps:   0%|          | 0/13877 [00:00<?, ?it/s]"
      ]
     },
     "metadata": {},
     "output_type": "display_data"
    },
    {
     "data": {
      "application/vnd.jupyter.widget-view+json": {
       "model_id": "77f255ed3cfa431d83c9b8b8af072f7f",
       "version_major": 2,
       "version_minor": 0
      },
      "text/plain": [
       "timesteps:   0%|          | 0/13877 [00:00<?, ?it/s]"
      ]
     },
     "metadata": {},
     "output_type": "display_data"
    },
    {
     "data": {
      "application/vnd.jupyter.widget-view+json": {
       "model_id": "16b5d715441f41e8a916b7c4376d32a2",
       "version_major": 2,
       "version_minor": 0
      },
      "text/plain": [
       "timesteps:   0%|          | 0/13877 [00:00<?, ?it/s]"
      ]
     },
     "metadata": {},
     "output_type": "display_data"
    },
    {
     "data": {
      "application/vnd.jupyter.widget-view+json": {
       "model_id": "cc2ccbab3a064f078d10500b307535a7",
       "version_major": 2,
       "version_minor": 0
      },
      "text/plain": [
       "timesteps:   0%|          | 0/13877 [00:00<?, ?it/s]"
      ]
     },
     "metadata": {},
     "output_type": "display_data"
    },
    {
     "data": {
      "application/vnd.jupyter.widget-view+json": {
       "model_id": "223b4941797740dcbd39783a3d875e16",
       "version_major": 2,
       "version_minor": 0
      },
      "text/plain": [
       "timesteps:   0%|          | 0/13877 [00:00<?, ?it/s]"
      ]
     },
     "metadata": {},
     "output_type": "display_data"
    },
    {
     "data": {
      "application/vnd.jupyter.widget-view+json": {
       "model_id": "5d3ca09f2a5b40cfb89390e844f2973d",
       "version_major": 2,
       "version_minor": 0
      },
      "text/plain": [
       "timesteps:   0%|          | 0/13877 [00:00<?, ?it/s]"
      ]
     },
     "metadata": {},
     "output_type": "display_data"
    },
    {
     "data": {
      "application/vnd.jupyter.widget-view+json": {
       "model_id": "f9aa33d0ea7a4d52ba529fbb85ac4174",
       "version_major": 2,
       "version_minor": 0
      },
      "text/plain": [
       "timesteps:   0%|          | 0/13877 [00:00<?, ?it/s]"
      ]
     },
     "metadata": {},
     "output_type": "display_data"
    },
    {
     "name": "stdout",
     "output_type": "stream",
     "text": [
      "356 of 1000, minimal objective function=0.279769, time remaining: 00:03:30\n"
     ]
    },
    {
     "data": {
      "application/vnd.jupyter.widget-view+json": {
       "model_id": "c55ca1f822ff41cfa891ea04fd84a3d5",
       "version_major": 2,
       "version_minor": 0
      },
      "text/plain": [
       "timesteps:   0%|          | 0/13877 [00:00<?, ?it/s]"
      ]
     },
     "metadata": {},
     "output_type": "display_data"
    },
    {
     "data": {
      "application/vnd.jupyter.widget-view+json": {
       "model_id": "1936317a9745418c984376280435155b",
       "version_major": 2,
       "version_minor": 0
      },
      "text/plain": [
       "timesteps:   0%|          | 0/13877 [00:00<?, ?it/s]"
      ]
     },
     "metadata": {},
     "output_type": "display_data"
    },
    {
     "data": {
      "application/vnd.jupyter.widget-view+json": {
       "model_id": "3f2c7a4ce85944549cca304ce868d57e",
       "version_major": 2,
       "version_minor": 0
      },
      "text/plain": [
       "timesteps:   0%|          | 0/13877 [00:00<?, ?it/s]"
      ]
     },
     "metadata": {},
     "output_type": "display_data"
    },
    {
     "data": {
      "application/vnd.jupyter.widget-view+json": {
       "model_id": "cf84de7257e14b30a17cb54abf827878",
       "version_major": 2,
       "version_minor": 0
      },
      "text/plain": [
       "timesteps:   0%|          | 0/13877 [00:00<?, ?it/s]"
      ]
     },
     "metadata": {},
     "output_type": "display_data"
    },
    {
     "data": {
      "application/vnd.jupyter.widget-view+json": {
       "model_id": "8298e54b758e4275bed4a7000bd9bc23",
       "version_major": 2,
       "version_minor": 0
      },
      "text/plain": [
       "timesteps:   0%|          | 0/13877 [00:00<?, ?it/s]"
      ]
     },
     "metadata": {},
     "output_type": "display_data"
    },
    {
     "data": {
      "application/vnd.jupyter.widget-view+json": {
       "model_id": "e21b7c85fd0643989de7ba5f8221ea18",
       "version_major": 2,
       "version_minor": 0
      },
      "text/plain": [
       "timesteps:   0%|          | 0/13877 [00:00<?, ?it/s]"
      ]
     },
     "metadata": {},
     "output_type": "display_data"
    },
    {
     "data": {
      "application/vnd.jupyter.widget-view+json": {
       "model_id": "88cf4a9f7060455d9d390f7484bc0c1a",
       "version_major": 2,
       "version_minor": 0
      },
      "text/plain": [
       "timesteps:   0%|          | 0/13877 [00:00<?, ?it/s]"
      ]
     },
     "metadata": {},
     "output_type": "display_data"
    },
    {
     "data": {
      "application/vnd.jupyter.widget-view+json": {
       "model_id": "39ed0de926dd48db860a06487d1274fd",
       "version_major": 2,
       "version_minor": 0
      },
      "text/plain": [
       "timesteps:   0%|          | 0/13877 [00:00<?, ?it/s]"
      ]
     },
     "metadata": {},
     "output_type": "display_data"
    },
    {
     "data": {
      "application/vnd.jupyter.widget-view+json": {
       "model_id": "6137c2f47c4445dc8fa7d528daaa2027",
       "version_major": 2,
       "version_minor": 0
      },
      "text/plain": [
       "timesteps:   0%|          | 0/13877 [00:00<?, ?it/s]"
      ]
     },
     "metadata": {},
     "output_type": "display_data"
    },
    {
     "data": {
      "application/vnd.jupyter.widget-view+json": {
       "model_id": "a80012a845f84bc6a244f350dfc1b0ff",
       "version_major": 2,
       "version_minor": 0
      },
      "text/plain": [
       "timesteps:   0%|          | 0/13877 [00:00<?, ?it/s]"
      ]
     },
     "metadata": {},
     "output_type": "display_data"
    },
    {
     "data": {
      "application/vnd.jupyter.widget-view+json": {
       "model_id": "5ee92cf0f3f8450e8100d8fbc910fef9",
       "version_major": 2,
       "version_minor": 0
      },
      "text/plain": [
       "timesteps:   0%|          | 0/13877 [00:00<?, ?it/s]"
      ]
     },
     "metadata": {},
     "output_type": "display_data"
    },
    {
     "data": {
      "application/vnd.jupyter.widget-view+json": {
       "model_id": "561c6e3cec4d470f902112fbb07ec5a6",
       "version_major": 2,
       "version_minor": 0
      },
      "text/plain": [
       "timesteps:   0%|          | 0/13877 [00:00<?, ?it/s]"
      ]
     },
     "metadata": {},
     "output_type": "display_data"
    },
    {
     "data": {
      "application/vnd.jupyter.widget-view+json": {
       "model_id": "7ee22ea0c3174864987a0d631eef31e8",
       "version_major": 2,
       "version_minor": 0
      },
      "text/plain": [
       "timesteps:   0%|          | 0/13877 [00:00<?, ?it/s]"
      ]
     },
     "metadata": {},
     "output_type": "display_data"
    },
    {
     "data": {
      "application/vnd.jupyter.widget-view+json": {
       "model_id": "28ea5fe88ab04ab8803ecae256236f8e",
       "version_major": 2,
       "version_minor": 0
      },
      "text/plain": [
       "timesteps:   0%|          | 0/13877 [00:00<?, ?it/s]"
      ]
     },
     "metadata": {},
     "output_type": "display_data"
    },
    {
     "data": {
      "application/vnd.jupyter.widget-view+json": {
       "model_id": "9ec1641c122046b680d4a5118216fde6",
       "version_major": 2,
       "version_minor": 0
      },
      "text/plain": [
       "timesteps:   0%|          | 0/13877 [00:00<?, ?it/s]"
      ]
     },
     "metadata": {},
     "output_type": "display_data"
    },
    {
     "data": {
      "application/vnd.jupyter.widget-view+json": {
       "model_id": "38c42f8fca3842a8b6129f6f24816ac2",
       "version_major": 2,
       "version_minor": 0
      },
      "text/plain": [
       "timesteps:   0%|          | 0/13877 [00:00<?, ?it/s]"
      ]
     },
     "metadata": {},
     "output_type": "display_data"
    },
    {
     "data": {
      "application/vnd.jupyter.widget-view+json": {
       "model_id": "d2b3b857ab4c49ea9a79430b778de9c9",
       "version_major": 2,
       "version_minor": 0
      },
      "text/plain": [
       "timesteps:   0%|          | 0/13877 [00:00<?, ?it/s]"
      ]
     },
     "metadata": {},
     "output_type": "display_data"
    },
    {
     "data": {
      "application/vnd.jupyter.widget-view+json": {
       "model_id": "459e6308b2694ddf9ec797a24b47c4fd",
       "version_major": 2,
       "version_minor": 0
      },
      "text/plain": [
       "timesteps:   0%|          | 0/13877 [00:00<?, ?it/s]"
      ]
     },
     "metadata": {},
     "output_type": "display_data"
    },
    {
     "data": {
      "application/vnd.jupyter.widget-view+json": {
       "model_id": "ad682f0a8b8b4d89ac98955964013e0c",
       "version_major": 2,
       "version_minor": 0
      },
      "text/plain": [
       "timesteps:   0%|          | 0/13877 [00:00<?, ?it/s]"
      ]
     },
     "metadata": {},
     "output_type": "display_data"
    },
    {
     "data": {
      "application/vnd.jupyter.widget-view+json": {
       "model_id": "888d90b6abfd41bb96c41d0cf03dd093",
       "version_major": 2,
       "version_minor": 0
      },
      "text/plain": [
       "timesteps:   0%|          | 0/13877 [00:00<?, ?it/s]"
      ]
     },
     "metadata": {},
     "output_type": "display_data"
    },
    {
     "name": "stdout",
     "output_type": "stream",
     "text": [
      "387 of 1000, minimal objective function=0.279769, time remaining: 00:03:18\n",
      "Objective function convergence criteria is now being updated and assessed...\n",
      "Updated convergence criteria: 10.396555\n",
      "ComplexEvo loop #4 in progress...\n"
     ]
    },
    {
     "data": {
      "application/vnd.jupyter.widget-view+json": {
       "model_id": "382e52a857044388a543e8c64e8dfae7",
       "version_major": 2,
       "version_minor": 0
      },
      "text/plain": [
       "timesteps:   0%|          | 0/13877 [00:00<?, ?it/s]"
      ]
     },
     "metadata": {},
     "output_type": "display_data"
    },
    {
     "data": {
      "application/vnd.jupyter.widget-view+json": {
       "model_id": "d11ef27096e44b6ab6df313a29352949",
       "version_major": 2,
       "version_minor": 0
      },
      "text/plain": [
       "timesteps:   0%|          | 0/13877 [00:00<?, ?it/s]"
      ]
     },
     "metadata": {},
     "output_type": "display_data"
    },
    {
     "data": {
      "application/vnd.jupyter.widget-view+json": {
       "model_id": "a07d2532ba9b4c7993d677d2d5237527",
       "version_major": 2,
       "version_minor": 0
      },
      "text/plain": [
       "timesteps:   0%|          | 0/13877 [00:00<?, ?it/s]"
      ]
     },
     "metadata": {},
     "output_type": "display_data"
    },
    {
     "data": {
      "application/vnd.jupyter.widget-view+json": {
       "model_id": "c49050e265b141aba7e5e3f2ddb98497",
       "version_major": 2,
       "version_minor": 0
      },
      "text/plain": [
       "timesteps:   0%|          | 0/13877 [00:00<?, ?it/s]"
      ]
     },
     "metadata": {},
     "output_type": "display_data"
    },
    {
     "data": {
      "application/vnd.jupyter.widget-view+json": {
       "model_id": "d358d7cbae53427792eaf30a1ddab914",
       "version_major": 2,
       "version_minor": 0
      },
      "text/plain": [
       "timesteps:   0%|          | 0/13877 [00:00<?, ?it/s]"
      ]
     },
     "metadata": {},
     "output_type": "display_data"
    },
    {
     "data": {
      "application/vnd.jupyter.widget-view+json": {
       "model_id": "17efc64b52974d35bfb93d28db8a55a3",
       "version_major": 2,
       "version_minor": 0
      },
      "text/plain": [
       "timesteps:   0%|          | 0/13877 [00:00<?, ?it/s]"
      ]
     },
     "metadata": {},
     "output_type": "display_data"
    },
    {
     "data": {
      "application/vnd.jupyter.widget-view+json": {
       "model_id": "d7bee4fe06af4d9089303eb797289f64",
       "version_major": 2,
       "version_minor": 0
      },
      "text/plain": [
       "timesteps:   0%|          | 0/13877 [00:00<?, ?it/s]"
      ]
     },
     "metadata": {},
     "output_type": "display_data"
    },
    {
     "data": {
      "application/vnd.jupyter.widget-view+json": {
       "model_id": "3678a8c365064a249385fdb352566eb1",
       "version_major": 2,
       "version_minor": 0
      },
      "text/plain": [
       "timesteps:   0%|          | 0/13877 [00:00<?, ?it/s]"
      ]
     },
     "metadata": {},
     "output_type": "display_data"
    },
    {
     "data": {
      "application/vnd.jupyter.widget-view+json": {
       "model_id": "62038fd233624de69eb49f11e40f679d",
       "version_major": 2,
       "version_minor": 0
      },
      "text/plain": [
       "timesteps:   0%|          | 0/13877 [00:00<?, ?it/s]"
      ]
     },
     "metadata": {},
     "output_type": "display_data"
    },
    {
     "data": {
      "application/vnd.jupyter.widget-view+json": {
       "model_id": "67553b142b374b75999b8e5ee0d526ec",
       "version_major": 2,
       "version_minor": 0
      },
      "text/plain": [
       "timesteps:   0%|          | 0/13877 [00:00<?, ?it/s]"
      ]
     },
     "metadata": {},
     "output_type": "display_data"
    },
    {
     "data": {
      "application/vnd.jupyter.widget-view+json": {
       "model_id": "0e9c497c4b8b49d08a2fb0b3b6033d51",
       "version_major": 2,
       "version_minor": 0
      },
      "text/plain": [
       "timesteps:   0%|          | 0/13877 [00:00<?, ?it/s]"
      ]
     },
     "metadata": {},
     "output_type": "display_data"
    },
    {
     "data": {
      "application/vnd.jupyter.widget-view+json": {
       "model_id": "bc9b1d5edae245d9ac9279d6809deaf5",
       "version_major": 2,
       "version_minor": 0
      },
      "text/plain": [
       "timesteps:   0%|          | 0/13877 [00:00<?, ?it/s]"
      ]
     },
     "metadata": {},
     "output_type": "display_data"
    },
    {
     "data": {
      "application/vnd.jupyter.widget-view+json": {
       "model_id": "d532b8874d9641e1beabf54954b37380",
       "version_major": 2,
       "version_minor": 0
      },
      "text/plain": [
       "timesteps:   0%|          | 0/13877 [00:00<?, ?it/s]"
      ]
     },
     "metadata": {},
     "output_type": "display_data"
    },
    {
     "data": {
      "application/vnd.jupyter.widget-view+json": {
       "model_id": "c0e7d709a15a4f93bae559125c1ddd99",
       "version_major": 2,
       "version_minor": 0
      },
      "text/plain": [
       "timesteps:   0%|          | 0/13877 [00:00<?, ?it/s]"
      ]
     },
     "metadata": {},
     "output_type": "display_data"
    },
    {
     "data": {
      "application/vnd.jupyter.widget-view+json": {
       "model_id": "f00ed06800d445e7a457d7bba75d6b3a",
       "version_major": 2,
       "version_minor": 0
      },
      "text/plain": [
       "timesteps:   0%|          | 0/13877 [00:00<?, ?it/s]"
      ]
     },
     "metadata": {},
     "output_type": "display_data"
    },
    {
     "name": "stdout",
     "output_type": "stream",
     "text": [
      "413 of 1000, minimal objective function=0.270934, time remaining: 00:03:08\n"
     ]
    },
    {
     "data": {
      "application/vnd.jupyter.widget-view+json": {
       "model_id": "7463391f62da4ccfb36c3a5f2b9c5728",
       "version_major": 2,
       "version_minor": 0
      },
      "text/plain": [
       "timesteps:   0%|          | 0/13877 [00:00<?, ?it/s]"
      ]
     },
     "metadata": {},
     "output_type": "display_data"
    },
    {
     "data": {
      "application/vnd.jupyter.widget-view+json": {
       "model_id": "8c6b4bb1277d49c9a53538b97e21c5cd",
       "version_major": 2,
       "version_minor": 0
      },
      "text/plain": [
       "timesteps:   0%|          | 0/13877 [00:00<?, ?it/s]"
      ]
     },
     "metadata": {},
     "output_type": "display_data"
    },
    {
     "data": {
      "application/vnd.jupyter.widget-view+json": {
       "model_id": "aa536be94c174bcdae66c4792a2e46c3",
       "version_major": 2,
       "version_minor": 0
      },
      "text/plain": [
       "timesteps:   0%|          | 0/13877 [00:00<?, ?it/s]"
      ]
     },
     "metadata": {},
     "output_type": "display_data"
    },
    {
     "data": {
      "application/vnd.jupyter.widget-view+json": {
       "model_id": "02fa888edd9743bdbdcc5d9a4075304e",
       "version_major": 2,
       "version_minor": 0
      },
      "text/plain": [
       "timesteps:   0%|          | 0/13877 [00:00<?, ?it/s]"
      ]
     },
     "metadata": {},
     "output_type": "display_data"
    },
    {
     "data": {
      "application/vnd.jupyter.widget-view+json": {
       "model_id": "0f93711ea6ae4d1290031409d8b760e8",
       "version_major": 2,
       "version_minor": 0
      },
      "text/plain": [
       "timesteps:   0%|          | 0/13877 [00:00<?, ?it/s]"
      ]
     },
     "metadata": {},
     "output_type": "display_data"
    },
    {
     "data": {
      "application/vnd.jupyter.widget-view+json": {
       "model_id": "9bb570ffa44540f4bfa2b6cf6fe8f9d4",
       "version_major": 2,
       "version_minor": 0
      },
      "text/plain": [
       "timesteps:   0%|          | 0/13877 [00:00<?, ?it/s]"
      ]
     },
     "metadata": {},
     "output_type": "display_data"
    },
    {
     "data": {
      "application/vnd.jupyter.widget-view+json": {
       "model_id": "7f6f2103a76b40979b29fe890ddd296d",
       "version_major": 2,
       "version_minor": 0
      },
      "text/plain": [
       "timesteps:   0%|          | 0/13877 [00:00<?, ?it/s]"
      ]
     },
     "metadata": {},
     "output_type": "display_data"
    },
    {
     "data": {
      "application/vnd.jupyter.widget-view+json": {
       "model_id": "4fae20b6eeec4b3e9febf48ef77fd4de",
       "version_major": 2,
       "version_minor": 0
      },
      "text/plain": [
       "timesteps:   0%|          | 0/13877 [00:00<?, ?it/s]"
      ]
     },
     "metadata": {},
     "output_type": "display_data"
    },
    {
     "data": {
      "application/vnd.jupyter.widget-view+json": {
       "model_id": "d3c8d9ba41864e1d86f10a8ed9fe6a55",
       "version_major": 2,
       "version_minor": 0
      },
      "text/plain": [
       "timesteps:   0%|          | 0/13877 [00:00<?, ?it/s]"
      ]
     },
     "metadata": {},
     "output_type": "display_data"
    },
    {
     "data": {
      "application/vnd.jupyter.widget-view+json": {
       "model_id": "2d52e72a06324e7d80627ac5550ab519",
       "version_major": 2,
       "version_minor": 0
      },
      "text/plain": [
       "timesteps:   0%|          | 0/13877 [00:00<?, ?it/s]"
      ]
     },
     "metadata": {},
     "output_type": "display_data"
    },
    {
     "data": {
      "application/vnd.jupyter.widget-view+json": {
       "model_id": "d5755583273b475988a05734a26b6465",
       "version_major": 2,
       "version_minor": 0
      },
      "text/plain": [
       "timesteps:   0%|          | 0/13877 [00:00<?, ?it/s]"
      ]
     },
     "metadata": {},
     "output_type": "display_data"
    },
    {
     "data": {
      "application/vnd.jupyter.widget-view+json": {
       "model_id": "5a9d35fb996a40bcb01e90141020bb53",
       "version_major": 2,
       "version_minor": 0
      },
      "text/plain": [
       "timesteps:   0%|          | 0/13877 [00:00<?, ?it/s]"
      ]
     },
     "metadata": {},
     "output_type": "display_data"
    },
    {
     "data": {
      "application/vnd.jupyter.widget-view+json": {
       "model_id": "c9c79d46cdf24e29ada2c8c5c80e20cf",
       "version_major": 2,
       "version_minor": 0
      },
      "text/plain": [
       "timesteps:   0%|          | 0/13877 [00:00<?, ?it/s]"
      ]
     },
     "metadata": {},
     "output_type": "display_data"
    },
    {
     "data": {
      "application/vnd.jupyter.widget-view+json": {
       "model_id": "cd89cad8f5424ce886355df3f22a88e6",
       "version_major": 2,
       "version_minor": 0
      },
      "text/plain": [
       "timesteps:   0%|          | 0/13877 [00:00<?, ?it/s]"
      ]
     },
     "metadata": {},
     "output_type": "display_data"
    },
    {
     "data": {
      "application/vnd.jupyter.widget-view+json": {
       "model_id": "33a7413599c24032a24db7bcc20032ab",
       "version_major": 2,
       "version_minor": 0
      },
      "text/plain": [
       "timesteps:   0%|          | 0/13877 [00:00<?, ?it/s]"
      ]
     },
     "metadata": {},
     "output_type": "display_data"
    },
    {
     "data": {
      "application/vnd.jupyter.widget-view+json": {
       "model_id": "9ae0c70041c24b1d9494f194dce31915",
       "version_major": 2,
       "version_minor": 0
      },
      "text/plain": [
       "timesteps:   0%|          | 0/13877 [00:00<?, ?it/s]"
      ]
     },
     "metadata": {},
     "output_type": "display_data"
    },
    {
     "data": {
      "application/vnd.jupyter.widget-view+json": {
       "model_id": "b903d2d53a1248a184c5f695b58e429d",
       "version_major": 2,
       "version_minor": 0
      },
      "text/plain": [
       "timesteps:   0%|          | 0/13877 [00:00<?, ?it/s]"
      ]
     },
     "metadata": {},
     "output_type": "display_data"
    },
    {
     "name": "stdout",
     "output_type": "stream",
     "text": [
      "441 of 1000, minimal objective function=0.270934, time remaining: 00:02:58\n"
     ]
    },
    {
     "data": {
      "application/vnd.jupyter.widget-view+json": {
       "model_id": "6b772b4ee732435087cfb49a9f2f4b1f",
       "version_major": 2,
       "version_minor": 0
      },
      "text/plain": [
       "timesteps:   0%|          | 0/13877 [00:00<?, ?it/s]"
      ]
     },
     "metadata": {},
     "output_type": "display_data"
    },
    {
     "data": {
      "application/vnd.jupyter.widget-view+json": {
       "model_id": "f8b249d9351b415c88b206cc1f28e612",
       "version_major": 2,
       "version_minor": 0
      },
      "text/plain": [
       "timesteps:   0%|          | 0/13877 [00:00<?, ?it/s]"
      ]
     },
     "metadata": {},
     "output_type": "display_data"
    },
    {
     "data": {
      "application/vnd.jupyter.widget-view+json": {
       "model_id": "0013d6889ec645cb9d00b3017e5747e5",
       "version_major": 2,
       "version_minor": 0
      },
      "text/plain": [
       "timesteps:   0%|          | 0/13877 [00:00<?, ?it/s]"
      ]
     },
     "metadata": {},
     "output_type": "display_data"
    },
    {
     "data": {
      "application/vnd.jupyter.widget-view+json": {
       "model_id": "85dd1ab2ad194c53aea8d9124674cbde",
       "version_major": 2,
       "version_minor": 0
      },
      "text/plain": [
       "timesteps:   0%|          | 0/13877 [00:00<?, ?it/s]"
      ]
     },
     "metadata": {},
     "output_type": "display_data"
    },
    {
     "data": {
      "application/vnd.jupyter.widget-view+json": {
       "model_id": "f3288dc052494e84aa3bdc381055ca5e",
       "version_major": 2,
       "version_minor": 0
      },
      "text/plain": [
       "timesteps:   0%|          | 0/13877 [00:00<?, ?it/s]"
      ]
     },
     "metadata": {},
     "output_type": "display_data"
    },
    {
     "data": {
      "application/vnd.jupyter.widget-view+json": {
       "model_id": "50f902999bd04cfd8cd0779fb864900a",
       "version_major": 2,
       "version_minor": 0
      },
      "text/plain": [
       "timesteps:   0%|          | 0/13877 [00:00<?, ?it/s]"
      ]
     },
     "metadata": {},
     "output_type": "display_data"
    },
    {
     "data": {
      "application/vnd.jupyter.widget-view+json": {
       "model_id": "4230395bd1c94d6cbbac7af554185a92",
       "version_major": 2,
       "version_minor": 0
      },
      "text/plain": [
       "timesteps:   0%|          | 0/13877 [00:00<?, ?it/s]"
      ]
     },
     "metadata": {},
     "output_type": "display_data"
    },
    {
     "data": {
      "application/vnd.jupyter.widget-view+json": {
       "model_id": "b93762da15a044c5b0b7d9677dc394f4",
       "version_major": 2,
       "version_minor": 0
      },
      "text/plain": [
       "timesteps:   0%|          | 0/13877 [00:00<?, ?it/s]"
      ]
     },
     "metadata": {},
     "output_type": "display_data"
    },
    {
     "data": {
      "application/vnd.jupyter.widget-view+json": {
       "model_id": "37e29251c06947aa908e9a21b7636049",
       "version_major": 2,
       "version_minor": 0
      },
      "text/plain": [
       "timesteps:   0%|          | 0/13877 [00:00<?, ?it/s]"
      ]
     },
     "metadata": {},
     "output_type": "display_data"
    },
    {
     "data": {
      "application/vnd.jupyter.widget-view+json": {
       "model_id": "81ebdfe7e3c543a38dddb719d3ec0fdc",
       "version_major": 2,
       "version_minor": 0
      },
      "text/plain": [
       "timesteps:   0%|          | 0/13877 [00:00<?, ?it/s]"
      ]
     },
     "metadata": {},
     "output_type": "display_data"
    },
    {
     "data": {
      "application/vnd.jupyter.widget-view+json": {
       "model_id": "09778d3fc92049e3badc72c7698a30e5",
       "version_major": 2,
       "version_minor": 0
      },
      "text/plain": [
       "timesteps:   0%|          | 0/13877 [00:00<?, ?it/s]"
      ]
     },
     "metadata": {},
     "output_type": "display_data"
    },
    {
     "data": {
      "application/vnd.jupyter.widget-view+json": {
       "model_id": "4df78d3979034a6599bb553f613aa3cb",
       "version_major": 2,
       "version_minor": 0
      },
      "text/plain": [
       "timesteps:   0%|          | 0/13877 [00:00<?, ?it/s]"
      ]
     },
     "metadata": {},
     "output_type": "display_data"
    },
    {
     "data": {
      "application/vnd.jupyter.widget-view+json": {
       "model_id": "ee3aa96013874436bdc4698e6a40c18f",
       "version_major": 2,
       "version_minor": 0
      },
      "text/plain": [
       "timesteps:   0%|          | 0/13877 [00:00<?, ?it/s]"
      ]
     },
     "metadata": {},
     "output_type": "display_data"
    },
    {
     "data": {
      "application/vnd.jupyter.widget-view+json": {
       "model_id": "ab61c6a4f1354950ace96d08e687844d",
       "version_major": 2,
       "version_minor": 0
      },
      "text/plain": [
       "timesteps:   0%|          | 0/13877 [00:00<?, ?it/s]"
      ]
     },
     "metadata": {},
     "output_type": "display_data"
    },
    {
     "data": {
      "application/vnd.jupyter.widget-view+json": {
       "model_id": "051e80478539417f8f7891582f162a2d",
       "version_major": 2,
       "version_minor": 0
      },
      "text/plain": [
       "timesteps:   0%|          | 0/13877 [00:00<?, ?it/s]"
      ]
     },
     "metadata": {},
     "output_type": "display_data"
    },
    {
     "data": {
      "application/vnd.jupyter.widget-view+json": {
       "model_id": "87d8032b34904fcd835789018b8f9bf1",
       "version_major": 2,
       "version_minor": 0
      },
      "text/plain": [
       "timesteps:   0%|          | 0/13877 [00:00<?, ?it/s]"
      ]
     },
     "metadata": {},
     "output_type": "display_data"
    },
    {
     "data": {
      "application/vnd.jupyter.widget-view+json": {
       "model_id": "8f2e57c8d2924cb3a2f83d13107c30a0",
       "version_major": 2,
       "version_minor": 0
      },
      "text/plain": [
       "timesteps:   0%|          | 0/13877 [00:00<?, ?it/s]"
      ]
     },
     "metadata": {},
     "output_type": "display_data"
    },
    {
     "data": {
      "application/vnd.jupyter.widget-view+json": {
       "model_id": "b1f6693ce94844c7a35a34792103e362",
       "version_major": 2,
       "version_minor": 0
      },
      "text/plain": [
       "timesteps:   0%|          | 0/13877 [00:00<?, ?it/s]"
      ]
     },
     "metadata": {},
     "output_type": "display_data"
    },
    {
     "data": {
      "application/vnd.jupyter.widget-view+json": {
       "model_id": "85e24716fd1c486e94dc6595f5cec078",
       "version_major": 2,
       "version_minor": 0
      },
      "text/plain": [
       "timesteps:   0%|          | 0/13877 [00:00<?, ?it/s]"
      ]
     },
     "metadata": {},
     "output_type": "display_data"
    },
    {
     "data": {
      "application/vnd.jupyter.widget-view+json": {
       "model_id": "021408b2a419422db7a6288cb47d62d4",
       "version_major": 2,
       "version_minor": 0
      },
      "text/plain": [
       "timesteps:   0%|          | 0/13877 [00:00<?, ?it/s]"
      ]
     },
     "metadata": {},
     "output_type": "display_data"
    },
    {
     "name": "stdout",
     "output_type": "stream",
     "text": [
      "472 of 1000, minimal objective function=0.270934, time remaining: 00:02:48\n"
     ]
    },
    {
     "data": {
      "application/vnd.jupyter.widget-view+json": {
       "model_id": "730e6971e7b940ab8f2f797a0104e049",
       "version_major": 2,
       "version_minor": 0
      },
      "text/plain": [
       "timesteps:   0%|          | 0/13877 [00:00<?, ?it/s]"
      ]
     },
     "metadata": {},
     "output_type": "display_data"
    },
    {
     "data": {
      "application/vnd.jupyter.widget-view+json": {
       "model_id": "54f65132f4a5445ab88dad4cad2ecbcc",
       "version_major": 2,
       "version_minor": 0
      },
      "text/plain": [
       "timesteps:   0%|          | 0/13877 [00:00<?, ?it/s]"
      ]
     },
     "metadata": {},
     "output_type": "display_data"
    },
    {
     "data": {
      "application/vnd.jupyter.widget-view+json": {
       "model_id": "5c76fa1cc3ac4257b74f742d8c5b0881",
       "version_major": 2,
       "version_minor": 0
      },
      "text/plain": [
       "timesteps:   0%|          | 0/13877 [00:00<?, ?it/s]"
      ]
     },
     "metadata": {},
     "output_type": "display_data"
    },
    {
     "data": {
      "application/vnd.jupyter.widget-view+json": {
       "model_id": "d0c237daed6f488c97c990768d8e0eb6",
       "version_major": 2,
       "version_minor": 0
      },
      "text/plain": [
       "timesteps:   0%|          | 0/13877 [00:00<?, ?it/s]"
      ]
     },
     "metadata": {},
     "output_type": "display_data"
    },
    {
     "data": {
      "application/vnd.jupyter.widget-view+json": {
       "model_id": "240529be7c0e47f1bfb62e5bb3829615",
       "version_major": 2,
       "version_minor": 0
      },
      "text/plain": [
       "timesteps:   0%|          | 0/13877 [00:00<?, ?it/s]"
      ]
     },
     "metadata": {},
     "output_type": "display_data"
    },
    {
     "data": {
      "application/vnd.jupyter.widget-view+json": {
       "model_id": "35cda410d9994d82a55c422c9229fd95",
       "version_major": 2,
       "version_minor": 0
      },
      "text/plain": [
       "timesteps:   0%|          | 0/13877 [00:00<?, ?it/s]"
      ]
     },
     "metadata": {},
     "output_type": "display_data"
    },
    {
     "data": {
      "application/vnd.jupyter.widget-view+json": {
       "model_id": "ae24844585b649379633c4f10ce7fb4c",
       "version_major": 2,
       "version_minor": 0
      },
      "text/plain": [
       "timesteps:   0%|          | 0/13877 [00:00<?, ?it/s]"
      ]
     },
     "metadata": {},
     "output_type": "display_data"
    },
    {
     "data": {
      "application/vnd.jupyter.widget-view+json": {
       "model_id": "e20aac0616ce46609431f9c20fdd32de",
       "version_major": 2,
       "version_minor": 0
      },
      "text/plain": [
       "timesteps:   0%|          | 0/13877 [00:00<?, ?it/s]"
      ]
     },
     "metadata": {},
     "output_type": "display_data"
    },
    {
     "data": {
      "application/vnd.jupyter.widget-view+json": {
       "model_id": "aff74d88230345a7a84fbcb2f1e3aadd",
       "version_major": 2,
       "version_minor": 0
      },
      "text/plain": [
       "timesteps:   0%|          | 0/13877 [00:00<?, ?it/s]"
      ]
     },
     "metadata": {},
     "output_type": "display_data"
    },
    {
     "data": {
      "application/vnd.jupyter.widget-view+json": {
       "model_id": "5bdc8dececd14ec98e22d9e72e03571d",
       "version_major": 2,
       "version_minor": 0
      },
      "text/plain": [
       "timesteps:   0%|          | 0/13877 [00:00<?, ?it/s]"
      ]
     },
     "metadata": {},
     "output_type": "display_data"
    },
    {
     "data": {
      "application/vnd.jupyter.widget-view+json": {
       "model_id": "71fe5bbd12e34f1eacdf0289158b72ce",
       "version_major": 2,
       "version_minor": 0
      },
      "text/plain": [
       "timesteps:   0%|          | 0/13877 [00:00<?, ?it/s]"
      ]
     },
     "metadata": {},
     "output_type": "display_data"
    },
    {
     "data": {
      "application/vnd.jupyter.widget-view+json": {
       "model_id": "cd9e30ffb5d6418cbd392f14041daf12",
       "version_major": 2,
       "version_minor": 0
      },
      "text/plain": [
       "timesteps:   0%|          | 0/13877 [00:00<?, ?it/s]"
      ]
     },
     "metadata": {},
     "output_type": "display_data"
    },
    {
     "data": {
      "application/vnd.jupyter.widget-view+json": {
       "model_id": "fbc06d090475472399341bb1764e1284",
       "version_major": 2,
       "version_minor": 0
      },
      "text/plain": [
       "timesteps:   0%|          | 0/13877 [00:00<?, ?it/s]"
      ]
     },
     "metadata": {},
     "output_type": "display_data"
    },
    {
     "data": {
      "application/vnd.jupyter.widget-view+json": {
       "model_id": "a704b3f4c70d453286629486046af168",
       "version_major": 2,
       "version_minor": 0
      },
      "text/plain": [
       "timesteps:   0%|          | 0/13877 [00:00<?, ?it/s]"
      ]
     },
     "metadata": {},
     "output_type": "display_data"
    },
    {
     "data": {
      "application/vnd.jupyter.widget-view+json": {
       "model_id": "ea633142993d4943869007423b2b2d13",
       "version_major": 2,
       "version_minor": 0
      },
      "text/plain": [
       "timesteps:   0%|          | 0/13877 [00:00<?, ?it/s]"
      ]
     },
     "metadata": {},
     "output_type": "display_data"
    },
    {
     "data": {
      "application/vnd.jupyter.widget-view+json": {
       "model_id": "89668785ab494caa930b5c2d583fb586",
       "version_major": 2,
       "version_minor": 0
      },
      "text/plain": [
       "timesteps:   0%|          | 0/13877 [00:00<?, ?it/s]"
      ]
     },
     "metadata": {},
     "output_type": "display_data"
    },
    {
     "data": {
      "application/vnd.jupyter.widget-view+json": {
       "model_id": "ec9bbccf8be946d7ae49b584872757db",
       "version_major": 2,
       "version_minor": 0
      },
      "text/plain": [
       "timesteps:   0%|          | 0/13877 [00:00<?, ?it/s]"
      ]
     },
     "metadata": {},
     "output_type": "display_data"
    },
    {
     "data": {
      "application/vnd.jupyter.widget-view+json": {
       "model_id": "5d3a929667574dc18654ba921e787833",
       "version_major": 2,
       "version_minor": 0
      },
      "text/plain": [
       "timesteps:   0%|          | 0/13877 [00:00<?, ?it/s]"
      ]
     },
     "metadata": {},
     "output_type": "display_data"
    },
    {
     "data": {
      "application/vnd.jupyter.widget-view+json": {
       "model_id": "de586f38230c4caabf9ae43539023768",
       "version_major": 2,
       "version_minor": 0
      },
      "text/plain": [
       "timesteps:   0%|          | 0/13877 [00:00<?, ?it/s]"
      ]
     },
     "metadata": {},
     "output_type": "display_data"
    },
    {
     "data": {
      "application/vnd.jupyter.widget-view+json": {
       "model_id": "fade06d6002e46afbb38dca2d6aa9edd",
       "version_major": 2,
       "version_minor": 0
      },
      "text/plain": [
       "timesteps:   0%|          | 0/13877 [00:00<?, ?it/s]"
      ]
     },
     "metadata": {},
     "output_type": "display_data"
    },
    {
     "data": {
      "application/vnd.jupyter.widget-view+json": {
       "model_id": "28bf7eea0ed84528ba72c42d66a0a3e4",
       "version_major": 2,
       "version_minor": 0
      },
      "text/plain": [
       "timesteps:   0%|          | 0/13877 [00:00<?, ?it/s]"
      ]
     },
     "metadata": {},
     "output_type": "display_data"
    },
    {
     "name": "stdout",
     "output_type": "stream",
     "text": [
      "504 of 1000, minimal objective function=0.270934, time remaining: 00:02:37\n",
      "Objective function convergence criteria is now being updated and assessed...\n",
      "Updated convergence criteria: 3.191605\n",
      "ComplexEvo loop #5 in progress...\n"
     ]
    },
    {
     "data": {
      "application/vnd.jupyter.widget-view+json": {
       "model_id": "9ae06c350dd14297befbcb3342f72acb",
       "version_major": 2,
       "version_minor": 0
      },
      "text/plain": [
       "timesteps:   0%|          | 0/13877 [00:00<?, ?it/s]"
      ]
     },
     "metadata": {},
     "output_type": "display_data"
    },
    {
     "data": {
      "application/vnd.jupyter.widget-view+json": {
       "model_id": "ecb3b923b3ec4779a9e9904377054f74",
       "version_major": 2,
       "version_minor": 0
      },
      "text/plain": [
       "timesteps:   0%|          | 0/13877 [00:00<?, ?it/s]"
      ]
     },
     "metadata": {},
     "output_type": "display_data"
    },
    {
     "data": {
      "application/vnd.jupyter.widget-view+json": {
       "model_id": "4aebb4507b064778b3bd014cf78e7469",
       "version_major": 2,
       "version_minor": 0
      },
      "text/plain": [
       "timesteps:   0%|          | 0/13877 [00:00<?, ?it/s]"
      ]
     },
     "metadata": {},
     "output_type": "display_data"
    },
    {
     "data": {
      "application/vnd.jupyter.widget-view+json": {
       "model_id": "460a1763b00946ca86da3d364ddf0597",
       "version_major": 2,
       "version_minor": 0
      },
      "text/plain": [
       "timesteps:   0%|          | 0/13877 [00:00<?, ?it/s]"
      ]
     },
     "metadata": {},
     "output_type": "display_data"
    },
    {
     "data": {
      "application/vnd.jupyter.widget-view+json": {
       "model_id": "9654356f15e645b9abce73a0651aa509",
       "version_major": 2,
       "version_minor": 0
      },
      "text/plain": [
       "timesteps:   0%|          | 0/13877 [00:00<?, ?it/s]"
      ]
     },
     "metadata": {},
     "output_type": "display_data"
    },
    {
     "data": {
      "application/vnd.jupyter.widget-view+json": {
       "model_id": "eaec6b054b7b4230b212f001da5ece5d",
       "version_major": 2,
       "version_minor": 0
      },
      "text/plain": [
       "timesteps:   0%|          | 0/13877 [00:00<?, ?it/s]"
      ]
     },
     "metadata": {},
     "output_type": "display_data"
    },
    {
     "data": {
      "application/vnd.jupyter.widget-view+json": {
       "model_id": "256eecd378a5447fb6a1af6eafae00c2",
       "version_major": 2,
       "version_minor": 0
      },
      "text/plain": [
       "timesteps:   0%|          | 0/13877 [00:00<?, ?it/s]"
      ]
     },
     "metadata": {},
     "output_type": "display_data"
    },
    {
     "data": {
      "application/vnd.jupyter.widget-view+json": {
       "model_id": "1fbeb04292fc4e5490d3fea11153ae2d",
       "version_major": 2,
       "version_minor": 0
      },
      "text/plain": [
       "timesteps:   0%|          | 0/13877 [00:00<?, ?it/s]"
      ]
     },
     "metadata": {},
     "output_type": "display_data"
    },
    {
     "data": {
      "application/vnd.jupyter.widget-view+json": {
       "model_id": "582ec844b2de42ecaee38700addedff4",
       "version_major": 2,
       "version_minor": 0
      },
      "text/plain": [
       "timesteps:   0%|          | 0/13877 [00:00<?, ?it/s]"
      ]
     },
     "metadata": {},
     "output_type": "display_data"
    },
    {
     "data": {
      "application/vnd.jupyter.widget-view+json": {
       "model_id": "b18cbdefe1634123ae255339b192992f",
       "version_major": 2,
       "version_minor": 0
      },
      "text/plain": [
       "timesteps:   0%|          | 0/13877 [00:00<?, ?it/s]"
      ]
     },
     "metadata": {},
     "output_type": "display_data"
    },
    {
     "data": {
      "application/vnd.jupyter.widget-view+json": {
       "model_id": "4b95cf8c45744d8fb85cff8409326b82",
       "version_major": 2,
       "version_minor": 0
      },
      "text/plain": [
       "timesteps:   0%|          | 0/13877 [00:00<?, ?it/s]"
      ]
     },
     "metadata": {},
     "output_type": "display_data"
    },
    {
     "data": {
      "application/vnd.jupyter.widget-view+json": {
       "model_id": "7a42357faa4d4fecaee86aaef8edb6a8",
       "version_major": 2,
       "version_minor": 0
      },
      "text/plain": [
       "timesteps:   0%|          | 0/13877 [00:00<?, ?it/s]"
      ]
     },
     "metadata": {},
     "output_type": "display_data"
    },
    {
     "data": {
      "application/vnd.jupyter.widget-view+json": {
       "model_id": "fe3198c496d3430682fc2f138de88aeb",
       "version_major": 2,
       "version_minor": 0
      },
      "text/plain": [
       "timesteps:   0%|          | 0/13877 [00:00<?, ?it/s]"
      ]
     },
     "metadata": {},
     "output_type": "display_data"
    },
    {
     "data": {
      "application/vnd.jupyter.widget-view+json": {
       "model_id": "435d4a41f0374910b7baa07ebbe0bf2a",
       "version_major": 2,
       "version_minor": 0
      },
      "text/plain": [
       "timesteps:   0%|          | 0/13877 [00:00<?, ?it/s]"
      ]
     },
     "metadata": {},
     "output_type": "display_data"
    },
    {
     "data": {
      "application/vnd.jupyter.widget-view+json": {
       "model_id": "bdac3dff0a804c6e8fb5893f0152f6fe",
       "version_major": 2,
       "version_minor": 0
      },
      "text/plain": [
       "timesteps:   0%|          | 0/13877 [00:00<?, ?it/s]"
      ]
     },
     "metadata": {},
     "output_type": "display_data"
    },
    {
     "data": {
      "application/vnd.jupyter.widget-view+json": {
       "model_id": "bf3796032643475a98da429333f693c9",
       "version_major": 2,
       "version_minor": 0
      },
      "text/plain": [
       "timesteps:   0%|          | 0/13877 [00:00<?, ?it/s]"
      ]
     },
     "metadata": {},
     "output_type": "display_data"
    },
    {
     "data": {
      "application/vnd.jupyter.widget-view+json": {
       "model_id": "e845c5dadb484dd6af88afe719db0b4d",
       "version_major": 2,
       "version_minor": 0
      },
      "text/plain": [
       "timesteps:   0%|          | 0/13877 [00:00<?, ?it/s]"
      ]
     },
     "metadata": {},
     "output_type": "display_data"
    },
    {
     "data": {
      "application/vnd.jupyter.widget-view+json": {
       "model_id": "68b884fa67714292a9c95dff853146a2",
       "version_major": 2,
       "version_minor": 0
      },
      "text/plain": [
       "timesteps:   0%|          | 0/13877 [00:00<?, ?it/s]"
      ]
     },
     "metadata": {},
     "output_type": "display_data"
    },
    {
     "data": {
      "application/vnd.jupyter.widget-view+json": {
       "model_id": "a3fe35d23f574a1e8d8b81684ef2f097",
       "version_major": 2,
       "version_minor": 0
      },
      "text/plain": [
       "timesteps:   0%|          | 0/13877 [00:00<?, ?it/s]"
      ]
     },
     "metadata": {},
     "output_type": "display_data"
    },
    {
     "data": {
      "application/vnd.jupyter.widget-view+json": {
       "model_id": "bb6f10990d7a45fc9580727eae4a5045",
       "version_major": 2,
       "version_minor": 0
      },
      "text/plain": [
       "timesteps:   0%|          | 0/13877 [00:00<?, ?it/s]"
      ]
     },
     "metadata": {},
     "output_type": "display_data"
    },
    {
     "name": "stdout",
     "output_type": "stream",
     "text": [
      "535 of 1000, minimal objective function=0.269893, time remaining: 00:02:27\n"
     ]
    },
    {
     "data": {
      "application/vnd.jupyter.widget-view+json": {
       "model_id": "80b98d0d8c8c4826ad3ddbd6ff1e1a43",
       "version_major": 2,
       "version_minor": 0
      },
      "text/plain": [
       "timesteps:   0%|          | 0/13877 [00:00<?, ?it/s]"
      ]
     },
     "metadata": {},
     "output_type": "display_data"
    },
    {
     "data": {
      "application/vnd.jupyter.widget-view+json": {
       "model_id": "8d303b40ade2498b98f25a2a4afc870b",
       "version_major": 2,
       "version_minor": 0
      },
      "text/plain": [
       "timesteps:   0%|          | 0/13877 [00:00<?, ?it/s]"
      ]
     },
     "metadata": {},
     "output_type": "display_data"
    },
    {
     "data": {
      "application/vnd.jupyter.widget-view+json": {
       "model_id": "2e18e49fa1174763ac4f45bf9d28d4bf",
       "version_major": 2,
       "version_minor": 0
      },
      "text/plain": [
       "timesteps:   0%|          | 0/13877 [00:00<?, ?it/s]"
      ]
     },
     "metadata": {},
     "output_type": "display_data"
    },
    {
     "data": {
      "application/vnd.jupyter.widget-view+json": {
       "model_id": "55e1193a3b27449db1ae8a1532415ef1",
       "version_major": 2,
       "version_minor": 0
      },
      "text/plain": [
       "timesteps:   0%|          | 0/13877 [00:00<?, ?it/s]"
      ]
     },
     "metadata": {},
     "output_type": "display_data"
    },
    {
     "data": {
      "application/vnd.jupyter.widget-view+json": {
       "model_id": "9205fb52faf0457dabb655203678e827",
       "version_major": 2,
       "version_minor": 0
      },
      "text/plain": [
       "timesteps:   0%|          | 0/13877 [00:00<?, ?it/s]"
      ]
     },
     "metadata": {},
     "output_type": "display_data"
    },
    {
     "data": {
      "application/vnd.jupyter.widget-view+json": {
       "model_id": "9fe31258ac0f403a82c0e0b290247a09",
       "version_major": 2,
       "version_minor": 0
      },
      "text/plain": [
       "timesteps:   0%|          | 0/13877 [00:00<?, ?it/s]"
      ]
     },
     "metadata": {},
     "output_type": "display_data"
    },
    {
     "data": {
      "application/vnd.jupyter.widget-view+json": {
       "model_id": "8c4adf9e41504af78e8dc22c88fc4809",
       "version_major": 2,
       "version_minor": 0
      },
      "text/plain": [
       "timesteps:   0%|          | 0/13877 [00:00<?, ?it/s]"
      ]
     },
     "metadata": {},
     "output_type": "display_data"
    },
    {
     "data": {
      "application/vnd.jupyter.widget-view+json": {
       "model_id": "9f4f4bda7f544f76b3d03d1090b484a4",
       "version_major": 2,
       "version_minor": 0
      },
      "text/plain": [
       "timesteps:   0%|          | 0/13877 [00:00<?, ?it/s]"
      ]
     },
     "metadata": {},
     "output_type": "display_data"
    },
    {
     "data": {
      "application/vnd.jupyter.widget-view+json": {
       "model_id": "9ba8ffcb64324dc9adf749755e6724ff",
       "version_major": 2,
       "version_minor": 0
      },
      "text/plain": [
       "timesteps:   0%|          | 0/13877 [00:00<?, ?it/s]"
      ]
     },
     "metadata": {},
     "output_type": "display_data"
    },
    {
     "data": {
      "application/vnd.jupyter.widget-view+json": {
       "model_id": "0dd2d13d16d34f62ba7d0db5265f45e2",
       "version_major": 2,
       "version_minor": 0
      },
      "text/plain": [
       "timesteps:   0%|          | 0/13877 [00:00<?, ?it/s]"
      ]
     },
     "metadata": {},
     "output_type": "display_data"
    },
    {
     "data": {
      "application/vnd.jupyter.widget-view+json": {
       "model_id": "e27cd710e8cd488e9827835faaad7705",
       "version_major": 2,
       "version_minor": 0
      },
      "text/plain": [
       "timesteps:   0%|          | 0/13877 [00:00<?, ?it/s]"
      ]
     },
     "metadata": {},
     "output_type": "display_data"
    },
    {
     "data": {
      "application/vnd.jupyter.widget-view+json": {
       "model_id": "3818bc6504fc44669abfca5c14e01a76",
       "version_major": 2,
       "version_minor": 0
      },
      "text/plain": [
       "timesteps:   0%|          | 0/13877 [00:00<?, ?it/s]"
      ]
     },
     "metadata": {},
     "output_type": "display_data"
    },
    {
     "data": {
      "application/vnd.jupyter.widget-view+json": {
       "model_id": "68bdefffde4e4bffb1431d8a6180b5ce",
       "version_major": 2,
       "version_minor": 0
      },
      "text/plain": [
       "timesteps:   0%|          | 0/13877 [00:00<?, ?it/s]"
      ]
     },
     "metadata": {},
     "output_type": "display_data"
    },
    {
     "data": {
      "application/vnd.jupyter.widget-view+json": {
       "model_id": "8da9da1b65f447339b8db3f14303c39d",
       "version_major": 2,
       "version_minor": 0
      },
      "text/plain": [
       "timesteps:   0%|          | 0/13877 [00:00<?, ?it/s]"
      ]
     },
     "metadata": {},
     "output_type": "display_data"
    },
    {
     "data": {
      "application/vnd.jupyter.widget-view+json": {
       "model_id": "ceeed777c3ee4a1383df59281c32bd26",
       "version_major": 2,
       "version_minor": 0
      },
      "text/plain": [
       "timesteps:   0%|          | 0/13877 [00:00<?, ?it/s]"
      ]
     },
     "metadata": {},
     "output_type": "display_data"
    },
    {
     "data": {
      "application/vnd.jupyter.widget-view+json": {
       "model_id": "2fe3ebd7b97b4f878cf219a61d0176ee",
       "version_major": 2,
       "version_minor": 0
      },
      "text/plain": [
       "timesteps:   0%|          | 0/13877 [00:00<?, ?it/s]"
      ]
     },
     "metadata": {},
     "output_type": "display_data"
    },
    {
     "data": {
      "application/vnd.jupyter.widget-view+json": {
       "model_id": "2bd5a646c57d47a38836d5cbabd9628a",
       "version_major": 2,
       "version_minor": 0
      },
      "text/plain": [
       "timesteps:   0%|          | 0/13877 [00:00<?, ?it/s]"
      ]
     },
     "metadata": {},
     "output_type": "display_data"
    },
    {
     "data": {
      "application/vnd.jupyter.widget-view+json": {
       "model_id": "cb90e73f17424374973e5c23f1d5d25e",
       "version_major": 2,
       "version_minor": 0
      },
      "text/plain": [
       "timesteps:   0%|          | 0/13877 [00:00<?, ?it/s]"
      ]
     },
     "metadata": {},
     "output_type": "display_data"
    },
    {
     "name": "stdout",
     "output_type": "stream",
     "text": [
      "564 of 1000, minimal objective function=0.269893, time remaining: 00:02:17\n"
     ]
    },
    {
     "data": {
      "application/vnd.jupyter.widget-view+json": {
       "model_id": "01f01742759b4c01a0f346d7c9a2a52a",
       "version_major": 2,
       "version_minor": 0
      },
      "text/plain": [
       "timesteps:   0%|          | 0/13877 [00:00<?, ?it/s]"
      ]
     },
     "metadata": {},
     "output_type": "display_data"
    },
    {
     "data": {
      "application/vnd.jupyter.widget-view+json": {
       "model_id": "34bb0699a9bf42f9a3b713d934603173",
       "version_major": 2,
       "version_minor": 0
      },
      "text/plain": [
       "timesteps:   0%|          | 0/13877 [00:00<?, ?it/s]"
      ]
     },
     "metadata": {},
     "output_type": "display_data"
    },
    {
     "data": {
      "application/vnd.jupyter.widget-view+json": {
       "model_id": "2e685a39b3e54a28a7d0817a590bb6ba",
       "version_major": 2,
       "version_minor": 0
      },
      "text/plain": [
       "timesteps:   0%|          | 0/13877 [00:00<?, ?it/s]"
      ]
     },
     "metadata": {},
     "output_type": "display_data"
    },
    {
     "data": {
      "application/vnd.jupyter.widget-view+json": {
       "model_id": "a63cd607081340dfac89ce033ac7682b",
       "version_major": 2,
       "version_minor": 0
      },
      "text/plain": [
       "timesteps:   0%|          | 0/13877 [00:00<?, ?it/s]"
      ]
     },
     "metadata": {},
     "output_type": "display_data"
    },
    {
     "data": {
      "application/vnd.jupyter.widget-view+json": {
       "model_id": "5701fd37231643489fe448d55c157b34",
       "version_major": 2,
       "version_minor": 0
      },
      "text/plain": [
       "timesteps:   0%|          | 0/13877 [00:00<?, ?it/s]"
      ]
     },
     "metadata": {},
     "output_type": "display_data"
    },
    {
     "data": {
      "application/vnd.jupyter.widget-view+json": {
       "model_id": "124d76614f43404180b2e342ba2df32e",
       "version_major": 2,
       "version_minor": 0
      },
      "text/plain": [
       "timesteps:   0%|          | 0/13877 [00:00<?, ?it/s]"
      ]
     },
     "metadata": {},
     "output_type": "display_data"
    },
    {
     "data": {
      "application/vnd.jupyter.widget-view+json": {
       "model_id": "aefe9b8da86d42a29d187805b3ba1203",
       "version_major": 2,
       "version_minor": 0
      },
      "text/plain": [
       "timesteps:   0%|          | 0/13877 [00:00<?, ?it/s]"
      ]
     },
     "metadata": {},
     "output_type": "display_data"
    },
    {
     "data": {
      "application/vnd.jupyter.widget-view+json": {
       "model_id": "2428b33f6b3944ce93a490b6ea6971f9",
       "version_major": 2,
       "version_minor": 0
      },
      "text/plain": [
       "timesteps:   0%|          | 0/13877 [00:00<?, ?it/s]"
      ]
     },
     "metadata": {},
     "output_type": "display_data"
    },
    {
     "data": {
      "application/vnd.jupyter.widget-view+json": {
       "model_id": "fed66c68a29647c3a6fb88cda5f7f3d2",
       "version_major": 2,
       "version_minor": 0
      },
      "text/plain": [
       "timesteps:   0%|          | 0/13877 [00:00<?, ?it/s]"
      ]
     },
     "metadata": {},
     "output_type": "display_data"
    },
    {
     "data": {
      "application/vnd.jupyter.widget-view+json": {
       "model_id": "cd810dd0d85b4299a8ea9bcec6dc4a65",
       "version_major": 2,
       "version_minor": 0
      },
      "text/plain": [
       "timesteps:   0%|          | 0/13877 [00:00<?, ?it/s]"
      ]
     },
     "metadata": {},
     "output_type": "display_data"
    },
    {
     "data": {
      "application/vnd.jupyter.widget-view+json": {
       "model_id": "8b96c99649e84785a6e324ffb0169972",
       "version_major": 2,
       "version_minor": 0
      },
      "text/plain": [
       "timesteps:   0%|          | 0/13877 [00:00<?, ?it/s]"
      ]
     },
     "metadata": {},
     "output_type": "display_data"
    },
    {
     "data": {
      "application/vnd.jupyter.widget-view+json": {
       "model_id": "d010f74b94f647ac8697ebf1d3a1a07d",
       "version_major": 2,
       "version_minor": 0
      },
      "text/plain": [
       "timesteps:   0%|          | 0/13877 [00:00<?, ?it/s]"
      ]
     },
     "metadata": {},
     "output_type": "display_data"
    },
    {
     "data": {
      "application/vnd.jupyter.widget-view+json": {
       "model_id": "1ddf26995868415dbf98b70ec0c15d5f",
       "version_major": 2,
       "version_minor": 0
      },
      "text/plain": [
       "timesteps:   0%|          | 0/13877 [00:00<?, ?it/s]"
      ]
     },
     "metadata": {},
     "output_type": "display_data"
    },
    {
     "data": {
      "application/vnd.jupyter.widget-view+json": {
       "model_id": "fbcba2c53f8845c7a86e27bfd27f9d48",
       "version_major": 2,
       "version_minor": 0
      },
      "text/plain": [
       "timesteps:   0%|          | 0/13877 [00:00<?, ?it/s]"
      ]
     },
     "metadata": {},
     "output_type": "display_data"
    },
    {
     "data": {
      "application/vnd.jupyter.widget-view+json": {
       "model_id": "5a92510f3cda4ddea567a0ed8e39e76e",
       "version_major": 2,
       "version_minor": 0
      },
      "text/plain": [
       "timesteps:   0%|          | 0/13877 [00:00<?, ?it/s]"
      ]
     },
     "metadata": {},
     "output_type": "display_data"
    },
    {
     "data": {
      "application/vnd.jupyter.widget-view+json": {
       "model_id": "f4071d779d744c6295d40e59a83961ba",
       "version_major": 2,
       "version_minor": 0
      },
      "text/plain": [
       "timesteps:   0%|          | 0/13877 [00:00<?, ?it/s]"
      ]
     },
     "metadata": {},
     "output_type": "display_data"
    },
    {
     "data": {
      "application/vnd.jupyter.widget-view+json": {
       "model_id": "7422eded21d34bf7b107e55508597031",
       "version_major": 2,
       "version_minor": 0
      },
      "text/plain": [
       "timesteps:   0%|          | 0/13877 [00:00<?, ?it/s]"
      ]
     },
     "metadata": {},
     "output_type": "display_data"
    },
    {
     "data": {
      "application/vnd.jupyter.widget-view+json": {
       "model_id": "6fee6fec0a8f4962a88019687f32ff9c",
       "version_major": 2,
       "version_minor": 0
      },
      "text/plain": [
       "timesteps:   0%|          | 0/13877 [00:00<?, ?it/s]"
      ]
     },
     "metadata": {},
     "output_type": "display_data"
    },
    {
     "name": "stdout",
     "output_type": "stream",
     "text": [
      "593 of 1000, minimal objective function=0.269893, time remaining: 00:02:08\n"
     ]
    },
    {
     "data": {
      "application/vnd.jupyter.widget-view+json": {
       "model_id": "bde6b883b7da4e66b20136459d455890",
       "version_major": 2,
       "version_minor": 0
      },
      "text/plain": [
       "timesteps:   0%|          | 0/13877 [00:00<?, ?it/s]"
      ]
     },
     "metadata": {},
     "output_type": "display_data"
    },
    {
     "data": {
      "application/vnd.jupyter.widget-view+json": {
       "model_id": "e8389ec0d11c4793951e05da52468833",
       "version_major": 2,
       "version_minor": 0
      },
      "text/plain": [
       "timesteps:   0%|          | 0/13877 [00:00<?, ?it/s]"
      ]
     },
     "metadata": {},
     "output_type": "display_data"
    },
    {
     "data": {
      "application/vnd.jupyter.widget-view+json": {
       "model_id": "dfe08b20b19d447fae37c67cbf410751",
       "version_major": 2,
       "version_minor": 0
      },
      "text/plain": [
       "timesteps:   0%|          | 0/13877 [00:00<?, ?it/s]"
      ]
     },
     "metadata": {},
     "output_type": "display_data"
    },
    {
     "data": {
      "application/vnd.jupyter.widget-view+json": {
       "model_id": "7275622d54344002a0ff18512baefcce",
       "version_major": 2,
       "version_minor": 0
      },
      "text/plain": [
       "timesteps:   0%|          | 0/13877 [00:00<?, ?it/s]"
      ]
     },
     "metadata": {},
     "output_type": "display_data"
    },
    {
     "data": {
      "application/vnd.jupyter.widget-view+json": {
       "model_id": "55848f0e0ddd40ad943a2371761afb2f",
       "version_major": 2,
       "version_minor": 0
      },
      "text/plain": [
       "timesteps:   0%|          | 0/13877 [00:00<?, ?it/s]"
      ]
     },
     "metadata": {},
     "output_type": "display_data"
    },
    {
     "data": {
      "application/vnd.jupyter.widget-view+json": {
       "model_id": "53694e63043342dfbe11597cadd152f1",
       "version_major": 2,
       "version_minor": 0
      },
      "text/plain": [
       "timesteps:   0%|          | 0/13877 [00:00<?, ?it/s]"
      ]
     },
     "metadata": {},
     "output_type": "display_data"
    },
    {
     "data": {
      "application/vnd.jupyter.widget-view+json": {
       "model_id": "8a986d93af7f44c28406f5a504707f93",
       "version_major": 2,
       "version_minor": 0
      },
      "text/plain": [
       "timesteps:   0%|          | 0/13877 [00:00<?, ?it/s]"
      ]
     },
     "metadata": {},
     "output_type": "display_data"
    },
    {
     "data": {
      "application/vnd.jupyter.widget-view+json": {
       "model_id": "4519e3c4ab9544f5a850d5c7d30f51e5",
       "version_major": 2,
       "version_minor": 0
      },
      "text/plain": [
       "timesteps:   0%|          | 0/13877 [00:00<?, ?it/s]"
      ]
     },
     "metadata": {},
     "output_type": "display_data"
    },
    {
     "data": {
      "application/vnd.jupyter.widget-view+json": {
       "model_id": "9a4a817d709a4103959761c5f271c8b9",
       "version_major": 2,
       "version_minor": 0
      },
      "text/plain": [
       "timesteps:   0%|          | 0/13877 [00:00<?, ?it/s]"
      ]
     },
     "metadata": {},
     "output_type": "display_data"
    },
    {
     "data": {
      "application/vnd.jupyter.widget-view+json": {
       "model_id": "f742e1b922134ff09720226df7622c84",
       "version_major": 2,
       "version_minor": 0
      },
      "text/plain": [
       "timesteps:   0%|          | 0/13877 [00:00<?, ?it/s]"
      ]
     },
     "metadata": {},
     "output_type": "display_data"
    },
    {
     "data": {
      "application/vnd.jupyter.widget-view+json": {
       "model_id": "605c1116abe24bd9a5c3114a670682a9",
       "version_major": 2,
       "version_minor": 0
      },
      "text/plain": [
       "timesteps:   0%|          | 0/13877 [00:00<?, ?it/s]"
      ]
     },
     "metadata": {},
     "output_type": "display_data"
    },
    {
     "data": {
      "application/vnd.jupyter.widget-view+json": {
       "model_id": "10f0b4e45efd4b4e9a9270b75e370662",
       "version_major": 2,
       "version_minor": 0
      },
      "text/plain": [
       "timesteps:   0%|          | 0/13877 [00:00<?, ?it/s]"
      ]
     },
     "metadata": {},
     "output_type": "display_data"
    },
    {
     "data": {
      "application/vnd.jupyter.widget-view+json": {
       "model_id": "ae7e4f0933bd4fcb80fb759e737f1205",
       "version_major": 2,
       "version_minor": 0
      },
      "text/plain": [
       "timesteps:   0%|          | 0/13877 [00:00<?, ?it/s]"
      ]
     },
     "metadata": {},
     "output_type": "display_data"
    },
    {
     "data": {
      "application/vnd.jupyter.widget-view+json": {
       "model_id": "3f1a530601c24929a80b721220da15e5",
       "version_major": 2,
       "version_minor": 0
      },
      "text/plain": [
       "timesteps:   0%|          | 0/13877 [00:00<?, ?it/s]"
      ]
     },
     "metadata": {},
     "output_type": "display_data"
    },
    {
     "data": {
      "application/vnd.jupyter.widget-view+json": {
       "model_id": "f94f0e49d81045db9101d04dadd54759",
       "version_major": 2,
       "version_minor": 0
      },
      "text/plain": [
       "timesteps:   0%|          | 0/13877 [00:00<?, ?it/s]"
      ]
     },
     "metadata": {},
     "output_type": "display_data"
    },
    {
     "data": {
      "application/vnd.jupyter.widget-view+json": {
       "model_id": "93fe8b51d70346a192a513f9ccff814a",
       "version_major": 2,
       "version_minor": 0
      },
      "text/plain": [
       "timesteps:   0%|          | 0/13877 [00:00<?, ?it/s]"
      ]
     },
     "metadata": {},
     "output_type": "display_data"
    },
    {
     "name": "stdout",
     "output_type": "stream",
     "text": [
      "620 of 1000, minimal objective function=0.269893, time remaining: 00:01:59\n",
      "Objective function convergence criteria is now being updated and assessed...\n",
      "Updated convergence criteria: 3.610584\n",
      "ComplexEvo loop #6 in progress...\n"
     ]
    },
    {
     "data": {
      "application/vnd.jupyter.widget-view+json": {
       "model_id": "cae632a8a6d044ad95410269e68eea1c",
       "version_major": 2,
       "version_minor": 0
      },
      "text/plain": [
       "timesteps:   0%|          | 0/13877 [00:00<?, ?it/s]"
      ]
     },
     "metadata": {},
     "output_type": "display_data"
    },
    {
     "data": {
      "application/vnd.jupyter.widget-view+json": {
       "model_id": "8165906d0ae34764aca1456c17e876d8",
       "version_major": 2,
       "version_minor": 0
      },
      "text/plain": [
       "timesteps:   0%|          | 0/13877 [00:00<?, ?it/s]"
      ]
     },
     "metadata": {},
     "output_type": "display_data"
    },
    {
     "data": {
      "application/vnd.jupyter.widget-view+json": {
       "model_id": "bfa6eef509494c6d8f35ed06bdfe35b2",
       "version_major": 2,
       "version_minor": 0
      },
      "text/plain": [
       "timesteps:   0%|          | 0/13877 [00:00<?, ?it/s]"
      ]
     },
     "metadata": {},
     "output_type": "display_data"
    },
    {
     "data": {
      "application/vnd.jupyter.widget-view+json": {
       "model_id": "2357b5d1f4b943eab8effc1828e71c81",
       "version_major": 2,
       "version_minor": 0
      },
      "text/plain": [
       "timesteps:   0%|          | 0/13877 [00:00<?, ?it/s]"
      ]
     },
     "metadata": {},
     "output_type": "display_data"
    },
    {
     "data": {
      "application/vnd.jupyter.widget-view+json": {
       "model_id": "d1421152dbee4470ab2118b00817b4ff",
       "version_major": 2,
       "version_minor": 0
      },
      "text/plain": [
       "timesteps:   0%|          | 0/13877 [00:00<?, ?it/s]"
      ]
     },
     "metadata": {},
     "output_type": "display_data"
    },
    {
     "data": {
      "application/vnd.jupyter.widget-view+json": {
       "model_id": "557b4208ebe044feb71070e580e2cfc5",
       "version_major": 2,
       "version_minor": 0
      },
      "text/plain": [
       "timesteps:   0%|          | 0/13877 [00:00<?, ?it/s]"
      ]
     },
     "metadata": {},
     "output_type": "display_data"
    },
    {
     "data": {
      "application/vnd.jupyter.widget-view+json": {
       "model_id": "26c835eeef994106ae848593b85e8f19",
       "version_major": 2,
       "version_minor": 0
      },
      "text/plain": [
       "timesteps:   0%|          | 0/13877 [00:00<?, ?it/s]"
      ]
     },
     "metadata": {},
     "output_type": "display_data"
    },
    {
     "data": {
      "application/vnd.jupyter.widget-view+json": {
       "model_id": "fa51228cba5f4584850ddace66015cd7",
       "version_major": 2,
       "version_minor": 0
      },
      "text/plain": [
       "timesteps:   0%|          | 0/13877 [00:00<?, ?it/s]"
      ]
     },
     "metadata": {},
     "output_type": "display_data"
    },
    {
     "data": {
      "application/vnd.jupyter.widget-view+json": {
       "model_id": "dfeb49bd0bed451b9938766a95a4b92b",
       "version_major": 2,
       "version_minor": 0
      },
      "text/plain": [
       "timesteps:   0%|          | 0/13877 [00:00<?, ?it/s]"
      ]
     },
     "metadata": {},
     "output_type": "display_data"
    },
    {
     "data": {
      "application/vnd.jupyter.widget-view+json": {
       "model_id": "b127ce79da414da8bec80faf52708aae",
       "version_major": 2,
       "version_minor": 0
      },
      "text/plain": [
       "timesteps:   0%|          | 0/13877 [00:00<?, ?it/s]"
      ]
     },
     "metadata": {},
     "output_type": "display_data"
    },
    {
     "data": {
      "application/vnd.jupyter.widget-view+json": {
       "model_id": "0d1648a46d6c4e1d85cf89c448e21219",
       "version_major": 2,
       "version_minor": 0
      },
      "text/plain": [
       "timesteps:   0%|          | 0/13877 [00:00<?, ?it/s]"
      ]
     },
     "metadata": {},
     "output_type": "display_data"
    },
    {
     "data": {
      "application/vnd.jupyter.widget-view+json": {
       "model_id": "41589f8c5cf44f669744e1ff0d85085d",
       "version_major": 2,
       "version_minor": 0
      },
      "text/plain": [
       "timesteps:   0%|          | 0/13877 [00:00<?, ?it/s]"
      ]
     },
     "metadata": {},
     "output_type": "display_data"
    },
    {
     "data": {
      "application/vnd.jupyter.widget-view+json": {
       "model_id": "b6c04e1411794819b6c6fe30026edcae",
       "version_major": 2,
       "version_minor": 0
      },
      "text/plain": [
       "timesteps:   0%|          | 0/13877 [00:00<?, ?it/s]"
      ]
     },
     "metadata": {},
     "output_type": "display_data"
    },
    {
     "data": {
      "application/vnd.jupyter.widget-view+json": {
       "model_id": "21073840a9bd4d54b5e521413514b6e6",
       "version_major": 2,
       "version_minor": 0
      },
      "text/plain": [
       "timesteps:   0%|          | 0/13877 [00:00<?, ?it/s]"
      ]
     },
     "metadata": {},
     "output_type": "display_data"
    },
    {
     "data": {
      "application/vnd.jupyter.widget-view+json": {
       "model_id": "a3c37a4209a84a359d262695074e7967",
       "version_major": 2,
       "version_minor": 0
      },
      "text/plain": [
       "timesteps:   0%|          | 0/13877 [00:00<?, ?it/s]"
      ]
     },
     "metadata": {},
     "output_type": "display_data"
    },
    {
     "data": {
      "application/vnd.jupyter.widget-view+json": {
       "model_id": "ad5eb5b8c42b4479bdfbe169c514b156",
       "version_major": 2,
       "version_minor": 0
      },
      "text/plain": [
       "timesteps:   0%|          | 0/13877 [00:00<?, ?it/s]"
      ]
     },
     "metadata": {},
     "output_type": "display_data"
    },
    {
     "data": {
      "application/vnd.jupyter.widget-view+json": {
       "model_id": "a3d807203ee34c169a14b4b1d2e1b30f",
       "version_major": 2,
       "version_minor": 0
      },
      "text/plain": [
       "timesteps:   0%|          | 0/13877 [00:00<?, ?it/s]"
      ]
     },
     "metadata": {},
     "output_type": "display_data"
    },
    {
     "data": {
      "application/vnd.jupyter.widget-view+json": {
       "model_id": "8c1454d23a09482ca50cfae6c193e9c1",
       "version_major": 2,
       "version_minor": 0
      },
      "text/plain": [
       "timesteps:   0%|          | 0/13877 [00:00<?, ?it/s]"
      ]
     },
     "metadata": {},
     "output_type": "display_data"
    },
    {
     "data": {
      "application/vnd.jupyter.widget-view+json": {
       "model_id": "c25f8d6e7e394d4a8fc7e88098c16d87",
       "version_major": 2,
       "version_minor": 0
      },
      "text/plain": [
       "timesteps:   0%|          | 0/13877 [00:00<?, ?it/s]"
      ]
     },
     "metadata": {},
     "output_type": "display_data"
    },
    {
     "data": {
      "application/vnd.jupyter.widget-view+json": {
       "model_id": "73762a155c7c43389b0ec6f348732ea3",
       "version_major": 2,
       "version_minor": 0
      },
      "text/plain": [
       "timesteps:   0%|          | 0/13877 [00:00<?, ?it/s]"
      ]
     },
     "metadata": {},
     "output_type": "display_data"
    },
    {
     "name": "stdout",
     "output_type": "stream",
     "text": [
      "651 of 1000, minimal objective function=0.268406, time remaining: 00:01:49\n"
     ]
    },
    {
     "data": {
      "application/vnd.jupyter.widget-view+json": {
       "model_id": "9ce3ae37e0834e7db7a765db90e59d96",
       "version_major": 2,
       "version_minor": 0
      },
      "text/plain": [
       "timesteps:   0%|          | 0/13877 [00:00<?, ?it/s]"
      ]
     },
     "metadata": {},
     "output_type": "display_data"
    },
    {
     "data": {
      "application/vnd.jupyter.widget-view+json": {
       "model_id": "cfa66405f7b3402bbc4a0d69f0fbba33",
       "version_major": 2,
       "version_minor": 0
      },
      "text/plain": [
       "timesteps:   0%|          | 0/13877 [00:00<?, ?it/s]"
      ]
     },
     "metadata": {},
     "output_type": "display_data"
    },
    {
     "data": {
      "application/vnd.jupyter.widget-view+json": {
       "model_id": "a61fe69d65934f16ba67bb5a5393c28d",
       "version_major": 2,
       "version_minor": 0
      },
      "text/plain": [
       "timesteps:   0%|          | 0/13877 [00:00<?, ?it/s]"
      ]
     },
     "metadata": {},
     "output_type": "display_data"
    },
    {
     "data": {
      "application/vnd.jupyter.widget-view+json": {
       "model_id": "6fd8ce57c8ba48f780e1e93ccf8c7980",
       "version_major": 2,
       "version_minor": 0
      },
      "text/plain": [
       "timesteps:   0%|          | 0/13877 [00:00<?, ?it/s]"
      ]
     },
     "metadata": {},
     "output_type": "display_data"
    },
    {
     "data": {
      "application/vnd.jupyter.widget-view+json": {
       "model_id": "b5f2c79497674440b12d43a75f22310a",
       "version_major": 2,
       "version_minor": 0
      },
      "text/plain": [
       "timesteps:   0%|          | 0/13877 [00:00<?, ?it/s]"
      ]
     },
     "metadata": {},
     "output_type": "display_data"
    },
    {
     "data": {
      "application/vnd.jupyter.widget-view+json": {
       "model_id": "db4ff08f074944f4a41e19b7f78e8945",
       "version_major": 2,
       "version_minor": 0
      },
      "text/plain": [
       "timesteps:   0%|          | 0/13877 [00:00<?, ?it/s]"
      ]
     },
     "metadata": {},
     "output_type": "display_data"
    },
    {
     "data": {
      "application/vnd.jupyter.widget-view+json": {
       "model_id": "975692870622424fb762991d21cc5251",
       "version_major": 2,
       "version_minor": 0
      },
      "text/plain": [
       "timesteps:   0%|          | 0/13877 [00:00<?, ?it/s]"
      ]
     },
     "metadata": {},
     "output_type": "display_data"
    },
    {
     "data": {
      "application/vnd.jupyter.widget-view+json": {
       "model_id": "9811b281e04e4cdb82d303ac71ee138b",
       "version_major": 2,
       "version_minor": 0
      },
      "text/plain": [
       "timesteps:   0%|          | 0/13877 [00:00<?, ?it/s]"
      ]
     },
     "metadata": {},
     "output_type": "display_data"
    },
    {
     "data": {
      "application/vnd.jupyter.widget-view+json": {
       "model_id": "c6b12007b7c84d1b969620a266cd23f1",
       "version_major": 2,
       "version_minor": 0
      },
      "text/plain": [
       "timesteps:   0%|          | 0/13877 [00:00<?, ?it/s]"
      ]
     },
     "metadata": {},
     "output_type": "display_data"
    },
    {
     "data": {
      "application/vnd.jupyter.widget-view+json": {
       "model_id": "b95578b6922e4f9885edb6bdb877ed13",
       "version_major": 2,
       "version_minor": 0
      },
      "text/plain": [
       "timesteps:   0%|          | 0/13877 [00:00<?, ?it/s]"
      ]
     },
     "metadata": {},
     "output_type": "display_data"
    },
    {
     "data": {
      "application/vnd.jupyter.widget-view+json": {
       "model_id": "9f7ffc6a0ed8485c9e121bcc06b0880f",
       "version_major": 2,
       "version_minor": 0
      },
      "text/plain": [
       "timesteps:   0%|          | 0/13877 [00:00<?, ?it/s]"
      ]
     },
     "metadata": {},
     "output_type": "display_data"
    },
    {
     "data": {
      "application/vnd.jupyter.widget-view+json": {
       "model_id": "04b41e734530477c8a3a05700e6fa479",
       "version_major": 2,
       "version_minor": 0
      },
      "text/plain": [
       "timesteps:   0%|          | 0/13877 [00:00<?, ?it/s]"
      ]
     },
     "metadata": {},
     "output_type": "display_data"
    },
    {
     "data": {
      "application/vnd.jupyter.widget-view+json": {
       "model_id": "2eb0693b37f64bad8ec214f9b6019992",
       "version_major": 2,
       "version_minor": 0
      },
      "text/plain": [
       "timesteps:   0%|          | 0/13877 [00:00<?, ?it/s]"
      ]
     },
     "metadata": {},
     "output_type": "display_data"
    },
    {
     "data": {
      "application/vnd.jupyter.widget-view+json": {
       "model_id": "91f64b85af4048f78ee9eac24db7d198",
       "version_major": 2,
       "version_minor": 0
      },
      "text/plain": [
       "timesteps:   0%|          | 0/13877 [00:00<?, ?it/s]"
      ]
     },
     "metadata": {},
     "output_type": "display_data"
    },
    {
     "data": {
      "application/vnd.jupyter.widget-view+json": {
       "model_id": "2a537573b39d4594abdd1e55a34068bb",
       "version_major": 2,
       "version_minor": 0
      },
      "text/plain": [
       "timesteps:   0%|          | 0/13877 [00:00<?, ?it/s]"
      ]
     },
     "metadata": {},
     "output_type": "display_data"
    },
    {
     "data": {
      "application/vnd.jupyter.widget-view+json": {
       "model_id": "778418c43dd547f1ac8063d2fb1f4e88",
       "version_major": 2,
       "version_minor": 0
      },
      "text/plain": [
       "timesteps:   0%|          | 0/13877 [00:00<?, ?it/s]"
      ]
     },
     "metadata": {},
     "output_type": "display_data"
    },
    {
     "data": {
      "application/vnd.jupyter.widget-view+json": {
       "model_id": "1678958a74cb46a490201bf41c1e8dd6",
       "version_major": 2,
       "version_minor": 0
      },
      "text/plain": [
       "timesteps:   0%|          | 0/13877 [00:00<?, ?it/s]"
      ]
     },
     "metadata": {},
     "output_type": "display_data"
    },
    {
     "data": {
      "application/vnd.jupyter.widget-view+json": {
       "model_id": "22e1853115c04827be98e8043821d6b4",
       "version_major": 2,
       "version_minor": 0
      },
      "text/plain": [
       "timesteps:   0%|          | 0/13877 [00:00<?, ?it/s]"
      ]
     },
     "metadata": {},
     "output_type": "display_data"
    },
    {
     "data": {
      "application/vnd.jupyter.widget-view+json": {
       "model_id": "32b4e6c482354f1ebe3289e1fb52b193",
       "version_major": 2,
       "version_minor": 0
      },
      "text/plain": [
       "timesteps:   0%|          | 0/13877 [00:00<?, ?it/s]"
      ]
     },
     "metadata": {},
     "output_type": "display_data"
    },
    {
     "data": {
      "application/vnd.jupyter.widget-view+json": {
       "model_id": "2f7f7068ec734696980b186357d1bd2d",
       "version_major": 2,
       "version_minor": 0
      },
      "text/plain": [
       "timesteps:   0%|          | 0/13877 [00:00<?, ?it/s]"
      ]
     },
     "metadata": {},
     "output_type": "display_data"
    },
    {
     "data": {
      "application/vnd.jupyter.widget-view+json": {
       "model_id": "d6fb7bb0db374349a349a1b80f4c958d",
       "version_major": 2,
       "version_minor": 0
      },
      "text/plain": [
       "timesteps:   0%|          | 0/13877 [00:00<?, ?it/s]"
      ]
     },
     "metadata": {},
     "output_type": "display_data"
    },
    {
     "name": "stdout",
     "output_type": "stream",
     "text": [
      "683 of 1000, minimal objective function=0.268355, time remaining: 00:01:39\n"
     ]
    },
    {
     "data": {
      "application/vnd.jupyter.widget-view+json": {
       "model_id": "6cb4511ea1f1444392149ebea478b86a",
       "version_major": 2,
       "version_minor": 0
      },
      "text/plain": [
       "timesteps:   0%|          | 0/13877 [00:00<?, ?it/s]"
      ]
     },
     "metadata": {},
     "output_type": "display_data"
    },
    {
     "data": {
      "application/vnd.jupyter.widget-view+json": {
       "model_id": "c0a238bfb7e742ed9c30873228365191",
       "version_major": 2,
       "version_minor": 0
      },
      "text/plain": [
       "timesteps:   0%|          | 0/13877 [00:00<?, ?it/s]"
      ]
     },
     "metadata": {},
     "output_type": "display_data"
    },
    {
     "data": {
      "application/vnd.jupyter.widget-view+json": {
       "model_id": "e7d7f57ed2804168b73a4641763f805d",
       "version_major": 2,
       "version_minor": 0
      },
      "text/plain": [
       "timesteps:   0%|          | 0/13877 [00:00<?, ?it/s]"
      ]
     },
     "metadata": {},
     "output_type": "display_data"
    },
    {
     "data": {
      "application/vnd.jupyter.widget-view+json": {
       "model_id": "442028ca245a4b8c8bc96be55a38ba92",
       "version_major": 2,
       "version_minor": 0
      },
      "text/plain": [
       "timesteps:   0%|          | 0/13877 [00:00<?, ?it/s]"
      ]
     },
     "metadata": {},
     "output_type": "display_data"
    },
    {
     "data": {
      "application/vnd.jupyter.widget-view+json": {
       "model_id": "6bb7bf165b564703a55a58ed1a3dcfd0",
       "version_major": 2,
       "version_minor": 0
      },
      "text/plain": [
       "timesteps:   0%|          | 0/13877 [00:00<?, ?it/s]"
      ]
     },
     "metadata": {},
     "output_type": "display_data"
    },
    {
     "data": {
      "application/vnd.jupyter.widget-view+json": {
       "model_id": "f9d839d5a03843fc95c93f027b8670d9",
       "version_major": 2,
       "version_minor": 0
      },
      "text/plain": [
       "timesteps:   0%|          | 0/13877 [00:00<?, ?it/s]"
      ]
     },
     "metadata": {},
     "output_type": "display_data"
    },
    {
     "data": {
      "application/vnd.jupyter.widget-view+json": {
       "model_id": "c5ca990749fa4f7881a4dc7155cdf6ad",
       "version_major": 2,
       "version_minor": 0
      },
      "text/plain": [
       "timesteps:   0%|          | 0/13877 [00:00<?, ?it/s]"
      ]
     },
     "metadata": {},
     "output_type": "display_data"
    },
    {
     "data": {
      "application/vnd.jupyter.widget-view+json": {
       "model_id": "83fdd9ea5bfd418bb51bebaa98c66c2f",
       "version_major": 2,
       "version_minor": 0
      },
      "text/plain": [
       "timesteps:   0%|          | 0/13877 [00:00<?, ?it/s]"
      ]
     },
     "metadata": {},
     "output_type": "display_data"
    },
    {
     "data": {
      "application/vnd.jupyter.widget-view+json": {
       "model_id": "bbe9232d33ea4f16b1500fc448cedf44",
       "version_major": 2,
       "version_minor": 0
      },
      "text/plain": [
       "timesteps:   0%|          | 0/13877 [00:00<?, ?it/s]"
      ]
     },
     "metadata": {},
     "output_type": "display_data"
    },
    {
     "data": {
      "application/vnd.jupyter.widget-view+json": {
       "model_id": "33697b961e214df588619af3bbac8ac8",
       "version_major": 2,
       "version_minor": 0
      },
      "text/plain": [
       "timesteps:   0%|          | 0/13877 [00:00<?, ?it/s]"
      ]
     },
     "metadata": {},
     "output_type": "display_data"
    },
    {
     "data": {
      "application/vnd.jupyter.widget-view+json": {
       "model_id": "a4f28849da214778b12ab9604275447f",
       "version_major": 2,
       "version_minor": 0
      },
      "text/plain": [
       "timesteps:   0%|          | 0/13877 [00:00<?, ?it/s]"
      ]
     },
     "metadata": {},
     "output_type": "display_data"
    },
    {
     "data": {
      "application/vnd.jupyter.widget-view+json": {
       "model_id": "536053d08df84dda94ef38287cce7842",
       "version_major": 2,
       "version_minor": 0
      },
      "text/plain": [
       "timesteps:   0%|          | 0/13877 [00:00<?, ?it/s]"
      ]
     },
     "metadata": {},
     "output_type": "display_data"
    },
    {
     "data": {
      "application/vnd.jupyter.widget-view+json": {
       "model_id": "2ccbbb169b244bc6930f644487af8621",
       "version_major": 2,
       "version_minor": 0
      },
      "text/plain": [
       "timesteps:   0%|          | 0/13877 [00:00<?, ?it/s]"
      ]
     },
     "metadata": {},
     "output_type": "display_data"
    },
    {
     "data": {
      "application/vnd.jupyter.widget-view+json": {
       "model_id": "56b222cd1a484d1da3bc38ed52292aab",
       "version_major": 2,
       "version_minor": 0
      },
      "text/plain": [
       "timesteps:   0%|          | 0/13877 [00:00<?, ?it/s]"
      ]
     },
     "metadata": {},
     "output_type": "display_data"
    },
    {
     "data": {
      "application/vnd.jupyter.widget-view+json": {
       "model_id": "0a4c477915ae4d068a9fa454ab183f5c",
       "version_major": 2,
       "version_minor": 0
      },
      "text/plain": [
       "timesteps:   0%|          | 0/13877 [00:00<?, ?it/s]"
      ]
     },
     "metadata": {},
     "output_type": "display_data"
    },
    {
     "data": {
      "application/vnd.jupyter.widget-view+json": {
       "model_id": "041e20f532b4443c96306497be52744f",
       "version_major": 2,
       "version_minor": 0
      },
      "text/plain": [
       "timesteps:   0%|          | 0/13877 [00:00<?, ?it/s]"
      ]
     },
     "metadata": {},
     "output_type": "display_data"
    },
    {
     "data": {
      "application/vnd.jupyter.widget-view+json": {
       "model_id": "850f43049d3647beaba3e477a95d83d5",
       "version_major": 2,
       "version_minor": 0
      },
      "text/plain": [
       "timesteps:   0%|          | 0/13877 [00:00<?, ?it/s]"
      ]
     },
     "metadata": {},
     "output_type": "display_data"
    },
    {
     "data": {
      "application/vnd.jupyter.widget-view+json": {
       "model_id": "47a93b7b128d425b979d04c5c0c4e052",
       "version_major": 2,
       "version_minor": 0
      },
      "text/plain": [
       "timesteps:   0%|          | 0/13877 [00:00<?, ?it/s]"
      ]
     },
     "metadata": {},
     "output_type": "display_data"
    },
    {
     "data": {
      "application/vnd.jupyter.widget-view+json": {
       "model_id": "89a6cbae416a4fcab721b4449203e8a0",
       "version_major": 2,
       "version_minor": 0
      },
      "text/plain": [
       "timesteps:   0%|          | 0/13877 [00:00<?, ?it/s]"
      ]
     },
     "metadata": {},
     "output_type": "display_data"
    },
    {
     "data": {
      "application/vnd.jupyter.widget-view+json": {
       "model_id": "ca9e94f27d5443618acf0e43b994d425",
       "version_major": 2,
       "version_minor": 0
      },
      "text/plain": [
       "timesteps:   0%|          | 0/13877 [00:00<?, ?it/s]"
      ]
     },
     "metadata": {},
     "output_type": "display_data"
    },
    {
     "data": {
      "application/vnd.jupyter.widget-view+json": {
       "model_id": "b892b6d7c9b54c72a10ab3c1afcaccd9",
       "version_major": 2,
       "version_minor": 0
      },
      "text/plain": [
       "timesteps:   0%|          | 0/13877 [00:00<?, ?it/s]"
      ]
     },
     "metadata": {},
     "output_type": "display_data"
    },
    {
     "name": "stdout",
     "output_type": "stream",
     "text": [
      "715 of 1000, minimal objective function=0.268355, time remaining: 00:01:29\n"
     ]
    },
    {
     "data": {
      "application/vnd.jupyter.widget-view+json": {
       "model_id": "12474645dbb040f2b67b84073602641e",
       "version_major": 2,
       "version_minor": 0
      },
      "text/plain": [
       "timesteps:   0%|          | 0/13877 [00:00<?, ?it/s]"
      ]
     },
     "metadata": {},
     "output_type": "display_data"
    },
    {
     "data": {
      "application/vnd.jupyter.widget-view+json": {
       "model_id": "542de8f86e204c40b18fa7154a875b6e",
       "version_major": 2,
       "version_minor": 0
      },
      "text/plain": [
       "timesteps:   0%|          | 0/13877 [00:00<?, ?it/s]"
      ]
     },
     "metadata": {},
     "output_type": "display_data"
    },
    {
     "data": {
      "application/vnd.jupyter.widget-view+json": {
       "model_id": "ba55f12200c14133bf9ee8a76fefcd91",
       "version_major": 2,
       "version_minor": 0
      },
      "text/plain": [
       "timesteps:   0%|          | 0/13877 [00:00<?, ?it/s]"
      ]
     },
     "metadata": {},
     "output_type": "display_data"
    },
    {
     "data": {
      "application/vnd.jupyter.widget-view+json": {
       "model_id": "f8886377ef874b7e8ca89da5367cd8c4",
       "version_major": 2,
       "version_minor": 0
      },
      "text/plain": [
       "timesteps:   0%|          | 0/13877 [00:00<?, ?it/s]"
      ]
     },
     "metadata": {},
     "output_type": "display_data"
    },
    {
     "data": {
      "application/vnd.jupyter.widget-view+json": {
       "model_id": "cd7b9976cbce4f19830a6dd704fd24a3",
       "version_major": 2,
       "version_minor": 0
      },
      "text/plain": [
       "timesteps:   0%|          | 0/13877 [00:00<?, ?it/s]"
      ]
     },
     "metadata": {},
     "output_type": "display_data"
    },
    {
     "data": {
      "application/vnd.jupyter.widget-view+json": {
       "model_id": "2279d9721cbe46098751dce345eeaa68",
       "version_major": 2,
       "version_minor": 0
      },
      "text/plain": [
       "timesteps:   0%|          | 0/13877 [00:00<?, ?it/s]"
      ]
     },
     "metadata": {},
     "output_type": "display_data"
    },
    {
     "data": {
      "application/vnd.jupyter.widget-view+json": {
       "model_id": "a90723b945084fdaa4091b1466c93bff",
       "version_major": 2,
       "version_minor": 0
      },
      "text/plain": [
       "timesteps:   0%|          | 0/13877 [00:00<?, ?it/s]"
      ]
     },
     "metadata": {},
     "output_type": "display_data"
    },
    {
     "data": {
      "application/vnd.jupyter.widget-view+json": {
       "model_id": "e75c5040bed74de1986004ce37ec07ad",
       "version_major": 2,
       "version_minor": 0
      },
      "text/plain": [
       "timesteps:   0%|          | 0/13877 [00:00<?, ?it/s]"
      ]
     },
     "metadata": {},
     "output_type": "display_data"
    },
    {
     "data": {
      "application/vnd.jupyter.widget-view+json": {
       "model_id": "76dad4c687064aab90c42d46aaf85975",
       "version_major": 2,
       "version_minor": 0
      },
      "text/plain": [
       "timesteps:   0%|          | 0/13877 [00:00<?, ?it/s]"
      ]
     },
     "metadata": {},
     "output_type": "display_data"
    },
    {
     "data": {
      "application/vnd.jupyter.widget-view+json": {
       "model_id": "0ee4ee110c84430dababd954c91a17c7",
       "version_major": 2,
       "version_minor": 0
      },
      "text/plain": [
       "timesteps:   0%|          | 0/13877 [00:00<?, ?it/s]"
      ]
     },
     "metadata": {},
     "output_type": "display_data"
    },
    {
     "data": {
      "application/vnd.jupyter.widget-view+json": {
       "model_id": "10e4958879fd43eea69fae3a6c539637",
       "version_major": 2,
       "version_minor": 0
      },
      "text/plain": [
       "timesteps:   0%|          | 0/13877 [00:00<?, ?it/s]"
      ]
     },
     "metadata": {},
     "output_type": "display_data"
    },
    {
     "data": {
      "application/vnd.jupyter.widget-view+json": {
       "model_id": "e8a58e39d5624d4ba7603cfab7a6e1ac",
       "version_major": 2,
       "version_minor": 0
      },
      "text/plain": [
       "timesteps:   0%|          | 0/13877 [00:00<?, ?it/s]"
      ]
     },
     "metadata": {},
     "output_type": "display_data"
    },
    {
     "data": {
      "application/vnd.jupyter.widget-view+json": {
       "model_id": "dd0dceed7c22417299cd028ee72be338",
       "version_major": 2,
       "version_minor": 0
      },
      "text/plain": [
       "timesteps:   0%|          | 0/13877 [00:00<?, ?it/s]"
      ]
     },
     "metadata": {},
     "output_type": "display_data"
    },
    {
     "data": {
      "application/vnd.jupyter.widget-view+json": {
       "model_id": "bd6e029dbde24df5b742c1a7baeb85b6",
       "version_major": 2,
       "version_minor": 0
      },
      "text/plain": [
       "timesteps:   0%|          | 0/13877 [00:00<?, ?it/s]"
      ]
     },
     "metadata": {},
     "output_type": "display_data"
    },
    {
     "data": {
      "application/vnd.jupyter.widget-view+json": {
       "model_id": "74134e49e94541119aafb7f1457cb82e",
       "version_major": 2,
       "version_minor": 0
      },
      "text/plain": [
       "timesteps:   0%|          | 0/13877 [00:00<?, ?it/s]"
      ]
     },
     "metadata": {},
     "output_type": "display_data"
    },
    {
     "data": {
      "application/vnd.jupyter.widget-view+json": {
       "model_id": "8f41fcb900814db8b0f3bf6c7d7dbc69",
       "version_major": 2,
       "version_minor": 0
      },
      "text/plain": [
       "timesteps:   0%|          | 0/13877 [00:00<?, ?it/s]"
      ]
     },
     "metadata": {},
     "output_type": "display_data"
    },
    {
     "data": {
      "application/vnd.jupyter.widget-view+json": {
       "model_id": "184a19f950fe491f852a3168a1e19f7d",
       "version_major": 2,
       "version_minor": 0
      },
      "text/plain": [
       "timesteps:   0%|          | 0/13877 [00:00<?, ?it/s]"
      ]
     },
     "metadata": {},
     "output_type": "display_data"
    },
    {
     "data": {
      "application/vnd.jupyter.widget-view+json": {
       "model_id": "6b737dc6d4e34d8595e737eca0a390d8",
       "version_major": 2,
       "version_minor": 0
      },
      "text/plain": [
       "timesteps:   0%|          | 0/13877 [00:00<?, ?it/s]"
      ]
     },
     "metadata": {},
     "output_type": "display_data"
    },
    {
     "data": {
      "application/vnd.jupyter.widget-view+json": {
       "model_id": "7caa901599ad46efb5bcf2cb46d8745b",
       "version_major": 2,
       "version_minor": 0
      },
      "text/plain": [
       "timesteps:   0%|          | 0/13877 [00:00<?, ?it/s]"
      ]
     },
     "metadata": {},
     "output_type": "display_data"
    },
    {
     "name": "stdout",
     "output_type": "stream",
     "text": [
      "745 of 1000, minimal objective function=0.268355, time remaining: 00:01:19\n",
      "Objective function convergence criteria is now being updated and assessed...\n",
      "Updated convergence criteria: 0.955843\n",
      "ComplexEvo loop #7 in progress...\n"
     ]
    },
    {
     "data": {
      "application/vnd.jupyter.widget-view+json": {
       "model_id": "6420d1238ba54d4db13e1d681ee21d2b",
       "version_major": 2,
       "version_minor": 0
      },
      "text/plain": [
       "timesteps:   0%|          | 0/13877 [00:00<?, ?it/s]"
      ]
     },
     "metadata": {},
     "output_type": "display_data"
    },
    {
     "data": {
      "application/vnd.jupyter.widget-view+json": {
       "model_id": "8c9bcde7e73f4c1599bfe547135a5a2e",
       "version_major": 2,
       "version_minor": 0
      },
      "text/plain": [
       "timesteps:   0%|          | 0/13877 [00:00<?, ?it/s]"
      ]
     },
     "metadata": {},
     "output_type": "display_data"
    },
    {
     "data": {
      "application/vnd.jupyter.widget-view+json": {
       "model_id": "e166ef17b81d4503b999c6a76a9b1537",
       "version_major": 2,
       "version_minor": 0
      },
      "text/plain": [
       "timesteps:   0%|          | 0/13877 [00:00<?, ?it/s]"
      ]
     },
     "metadata": {},
     "output_type": "display_data"
    },
    {
     "data": {
      "application/vnd.jupyter.widget-view+json": {
       "model_id": "808925b905bf45e6a4237a6182fdfc48",
       "version_major": 2,
       "version_minor": 0
      },
      "text/plain": [
       "timesteps:   0%|          | 0/13877 [00:00<?, ?it/s]"
      ]
     },
     "metadata": {},
     "output_type": "display_data"
    },
    {
     "data": {
      "application/vnd.jupyter.widget-view+json": {
       "model_id": "2b945755556242dd810003a0affe36ea",
       "version_major": 2,
       "version_minor": 0
      },
      "text/plain": [
       "timesteps:   0%|          | 0/13877 [00:00<?, ?it/s]"
      ]
     },
     "metadata": {},
     "output_type": "display_data"
    },
    {
     "data": {
      "application/vnd.jupyter.widget-view+json": {
       "model_id": "c401d7a97add4207acc1dbbe43ed8bf9",
       "version_major": 2,
       "version_minor": 0
      },
      "text/plain": [
       "timesteps:   0%|          | 0/13877 [00:00<?, ?it/s]"
      ]
     },
     "metadata": {},
     "output_type": "display_data"
    },
    {
     "data": {
      "application/vnd.jupyter.widget-view+json": {
       "model_id": "51f5384ad6be4430aac78d8759139be5",
       "version_major": 2,
       "version_minor": 0
      },
      "text/plain": [
       "timesteps:   0%|          | 0/13877 [00:00<?, ?it/s]"
      ]
     },
     "metadata": {},
     "output_type": "display_data"
    },
    {
     "data": {
      "application/vnd.jupyter.widget-view+json": {
       "model_id": "ad547615d3ce4bf4815be8d9e7f78382",
       "version_major": 2,
       "version_minor": 0
      },
      "text/plain": [
       "timesteps:   0%|          | 0/13877 [00:00<?, ?it/s]"
      ]
     },
     "metadata": {},
     "output_type": "display_data"
    },
    {
     "data": {
      "application/vnd.jupyter.widget-view+json": {
       "model_id": "00c1f96ab0e04b1a874ea4227df53f6a",
       "version_major": 2,
       "version_minor": 0
      },
      "text/plain": [
       "timesteps:   0%|          | 0/13877 [00:00<?, ?it/s]"
      ]
     },
     "metadata": {},
     "output_type": "display_data"
    },
    {
     "data": {
      "application/vnd.jupyter.widget-view+json": {
       "model_id": "937c2749fe68403e888fdacde1aefdca",
       "version_major": 2,
       "version_minor": 0
      },
      "text/plain": [
       "timesteps:   0%|          | 0/13877 [00:00<?, ?it/s]"
      ]
     },
     "metadata": {},
     "output_type": "display_data"
    },
    {
     "data": {
      "application/vnd.jupyter.widget-view+json": {
       "model_id": "f3651caff12c4ae39bda6d50a83a40cd",
       "version_major": 2,
       "version_minor": 0
      },
      "text/plain": [
       "timesteps:   0%|          | 0/13877 [00:00<?, ?it/s]"
      ]
     },
     "metadata": {},
     "output_type": "display_data"
    },
    {
     "data": {
      "application/vnd.jupyter.widget-view+json": {
       "model_id": "cbcbeff8d5f3454585adae66c20eb5eb",
       "version_major": 2,
       "version_minor": 0
      },
      "text/plain": [
       "timesteps:   0%|          | 0/13877 [00:00<?, ?it/s]"
      ]
     },
     "metadata": {},
     "output_type": "display_data"
    },
    {
     "data": {
      "application/vnd.jupyter.widget-view+json": {
       "model_id": "cc0e4b60137b49f2afae52720ed78226",
       "version_major": 2,
       "version_minor": 0
      },
      "text/plain": [
       "timesteps:   0%|          | 0/13877 [00:00<?, ?it/s]"
      ]
     },
     "metadata": {},
     "output_type": "display_data"
    },
    {
     "data": {
      "application/vnd.jupyter.widget-view+json": {
       "model_id": "3ca545331a654519b840be4d00390fd8",
       "version_major": 2,
       "version_minor": 0
      },
      "text/plain": [
       "timesteps:   0%|          | 0/13877 [00:00<?, ?it/s]"
      ]
     },
     "metadata": {},
     "output_type": "display_data"
    },
    {
     "data": {
      "application/vnd.jupyter.widget-view+json": {
       "model_id": "c16b1747edc64f70810db61a98f7a91d",
       "version_major": 2,
       "version_minor": 0
      },
      "text/plain": [
       "timesteps:   0%|          | 0/13877 [00:00<?, ?it/s]"
      ]
     },
     "metadata": {},
     "output_type": "display_data"
    },
    {
     "data": {
      "application/vnd.jupyter.widget-view+json": {
       "model_id": "f77ac865b77a4e989056cd0f9bf77237",
       "version_major": 2,
       "version_minor": 0
      },
      "text/plain": [
       "timesteps:   0%|          | 0/13877 [00:00<?, ?it/s]"
      ]
     },
     "metadata": {},
     "output_type": "display_data"
    },
    {
     "data": {
      "application/vnd.jupyter.widget-view+json": {
       "model_id": "c72ead9b98374efcbaf2a26eacb4df22",
       "version_major": 2,
       "version_minor": 0
      },
      "text/plain": [
       "timesteps:   0%|          | 0/13877 [00:00<?, ?it/s]"
      ]
     },
     "metadata": {},
     "output_type": "display_data"
    },
    {
     "data": {
      "application/vnd.jupyter.widget-view+json": {
       "model_id": "eb04e0d2700142c48bfb5554416129cb",
       "version_major": 2,
       "version_minor": 0
      },
      "text/plain": [
       "timesteps:   0%|          | 0/13877 [00:00<?, ?it/s]"
      ]
     },
     "metadata": {},
     "output_type": "display_data"
    },
    {
     "name": "stdout",
     "output_type": "stream",
     "text": [
      "774 of 1000, minimal objective function=0.268145, time remaining: 00:01:10\n"
     ]
    },
    {
     "data": {
      "application/vnd.jupyter.widget-view+json": {
       "model_id": "7afce3ac54b640279270203b67e822fe",
       "version_major": 2,
       "version_minor": 0
      },
      "text/plain": [
       "timesteps:   0%|          | 0/13877 [00:00<?, ?it/s]"
      ]
     },
     "metadata": {},
     "output_type": "display_data"
    },
    {
     "data": {
      "application/vnd.jupyter.widget-view+json": {
       "model_id": "7ce457610ffb4466a2975845b0c0741d",
       "version_major": 2,
       "version_minor": 0
      },
      "text/plain": [
       "timesteps:   0%|          | 0/13877 [00:00<?, ?it/s]"
      ]
     },
     "metadata": {},
     "output_type": "display_data"
    },
    {
     "data": {
      "application/vnd.jupyter.widget-view+json": {
       "model_id": "58ddf2216c1b4c84a80bd3c756c0021a",
       "version_major": 2,
       "version_minor": 0
      },
      "text/plain": [
       "timesteps:   0%|          | 0/13877 [00:00<?, ?it/s]"
      ]
     },
     "metadata": {},
     "output_type": "display_data"
    },
    {
     "data": {
      "application/vnd.jupyter.widget-view+json": {
       "model_id": "94678830a6254c3cb220f20d423e8e6a",
       "version_major": 2,
       "version_minor": 0
      },
      "text/plain": [
       "timesteps:   0%|          | 0/13877 [00:00<?, ?it/s]"
      ]
     },
     "metadata": {},
     "output_type": "display_data"
    },
    {
     "data": {
      "application/vnd.jupyter.widget-view+json": {
       "model_id": "480fa5e0b08c48fbbba19c47123179ab",
       "version_major": 2,
       "version_minor": 0
      },
      "text/plain": [
       "timesteps:   0%|          | 0/13877 [00:00<?, ?it/s]"
      ]
     },
     "metadata": {},
     "output_type": "display_data"
    },
    {
     "data": {
      "application/vnd.jupyter.widget-view+json": {
       "model_id": "50a972b9dbf74384a2adeb8877d7f5a8",
       "version_major": 2,
       "version_minor": 0
      },
      "text/plain": [
       "timesteps:   0%|          | 0/13877 [00:00<?, ?it/s]"
      ]
     },
     "metadata": {},
     "output_type": "display_data"
    },
    {
     "data": {
      "application/vnd.jupyter.widget-view+json": {
       "model_id": "eee66e4a8073432c845ba478733f5add",
       "version_major": 2,
       "version_minor": 0
      },
      "text/plain": [
       "timesteps:   0%|          | 0/13877 [00:00<?, ?it/s]"
      ]
     },
     "metadata": {},
     "output_type": "display_data"
    },
    {
     "data": {
      "application/vnd.jupyter.widget-view+json": {
       "model_id": "17af7a2d4d3f4b618f931a123ce9e6b0",
       "version_major": 2,
       "version_minor": 0
      },
      "text/plain": [
       "timesteps:   0%|          | 0/13877 [00:00<?, ?it/s]"
      ]
     },
     "metadata": {},
     "output_type": "display_data"
    },
    {
     "data": {
      "application/vnd.jupyter.widget-view+json": {
       "model_id": "5bbbb9a7415942f7af9f028767d95508",
       "version_major": 2,
       "version_minor": 0
      },
      "text/plain": [
       "timesteps:   0%|          | 0/13877 [00:00<?, ?it/s]"
      ]
     },
     "metadata": {},
     "output_type": "display_data"
    },
    {
     "data": {
      "application/vnd.jupyter.widget-view+json": {
       "model_id": "bca18dfd41824fe0a21f6376cc51e9b8",
       "version_major": 2,
       "version_minor": 0
      },
      "text/plain": [
       "timesteps:   0%|          | 0/13877 [00:00<?, ?it/s]"
      ]
     },
     "metadata": {},
     "output_type": "display_data"
    },
    {
     "data": {
      "application/vnd.jupyter.widget-view+json": {
       "model_id": "2477a9e2b1554169ad38c81f8ca42e88",
       "version_major": 2,
       "version_minor": 0
      },
      "text/plain": [
       "timesteps:   0%|          | 0/13877 [00:00<?, ?it/s]"
      ]
     },
     "metadata": {},
     "output_type": "display_data"
    },
    {
     "data": {
      "application/vnd.jupyter.widget-view+json": {
       "model_id": "62ec9a4f336244c0a23f48c29e7a0cbd",
       "version_major": 2,
       "version_minor": 0
      },
      "text/plain": [
       "timesteps:   0%|          | 0/13877 [00:00<?, ?it/s]"
      ]
     },
     "metadata": {},
     "output_type": "display_data"
    },
    {
     "data": {
      "application/vnd.jupyter.widget-view+json": {
       "model_id": "f0e72fd314c44efd8e30d4d8931a979d",
       "version_major": 2,
       "version_minor": 0
      },
      "text/plain": [
       "timesteps:   0%|          | 0/13877 [00:00<?, ?it/s]"
      ]
     },
     "metadata": {},
     "output_type": "display_data"
    },
    {
     "data": {
      "application/vnd.jupyter.widget-view+json": {
       "model_id": "4a27ba272efb497a88afe8f9068bbbd8",
       "version_major": 2,
       "version_minor": 0
      },
      "text/plain": [
       "timesteps:   0%|          | 0/13877 [00:00<?, ?it/s]"
      ]
     },
     "metadata": {},
     "output_type": "display_data"
    },
    {
     "data": {
      "application/vnd.jupyter.widget-view+json": {
       "model_id": "cc82eaa807b94f4093e6fec94f1f5d8c",
       "version_major": 2,
       "version_minor": 0
      },
      "text/plain": [
       "timesteps:   0%|          | 0/13877 [00:00<?, ?it/s]"
      ]
     },
     "metadata": {},
     "output_type": "display_data"
    },
    {
     "data": {
      "application/vnd.jupyter.widget-view+json": {
       "model_id": "a41235f54cd74684943bdbadf4babbb5",
       "version_major": 2,
       "version_minor": 0
      },
      "text/plain": [
       "timesteps:   0%|          | 0/13877 [00:00<?, ?it/s]"
      ]
     },
     "metadata": {},
     "output_type": "display_data"
    },
    {
     "data": {
      "application/vnd.jupyter.widget-view+json": {
       "model_id": "9805a6fa2a134fb7a1f095454072fccd",
       "version_major": 2,
       "version_minor": 0
      },
      "text/plain": [
       "timesteps:   0%|          | 0/13877 [00:00<?, ?it/s]"
      ]
     },
     "metadata": {},
     "output_type": "display_data"
    },
    {
     "data": {
      "application/vnd.jupyter.widget-view+json": {
       "model_id": "758c7a33fe8e49a9b6bb21a008600ef7",
       "version_major": 2,
       "version_minor": 0
      },
      "text/plain": [
       "timesteps:   0%|          | 0/13877 [00:00<?, ?it/s]"
      ]
     },
     "metadata": {},
     "output_type": "display_data"
    },
    {
     "name": "stdout",
     "output_type": "stream",
     "text": [
      "803 of 1000, minimal objective function=0.268085, time remaining: 00:01:01\n"
     ]
    },
    {
     "data": {
      "application/vnd.jupyter.widget-view+json": {
       "model_id": "0a05a8e2082f4fecabbc04bb456148a4",
       "version_major": 2,
       "version_minor": 0
      },
      "text/plain": [
       "timesteps:   0%|          | 0/13877 [00:00<?, ?it/s]"
      ]
     },
     "metadata": {},
     "output_type": "display_data"
    },
    {
     "data": {
      "application/vnd.jupyter.widget-view+json": {
       "model_id": "04829ff34e70462e8bba28deffdd6e8f",
       "version_major": 2,
       "version_minor": 0
      },
      "text/plain": [
       "timesteps:   0%|          | 0/13877 [00:00<?, ?it/s]"
      ]
     },
     "metadata": {},
     "output_type": "display_data"
    },
    {
     "data": {
      "application/vnd.jupyter.widget-view+json": {
       "model_id": "f72dc3cce5fe4f6395b321f7425f64ed",
       "version_major": 2,
       "version_minor": 0
      },
      "text/plain": [
       "timesteps:   0%|          | 0/13877 [00:00<?, ?it/s]"
      ]
     },
     "metadata": {},
     "output_type": "display_data"
    },
    {
     "data": {
      "application/vnd.jupyter.widget-view+json": {
       "model_id": "69949371fff3423781d8071079c2ece3",
       "version_major": 2,
       "version_minor": 0
      },
      "text/plain": [
       "timesteps:   0%|          | 0/13877 [00:00<?, ?it/s]"
      ]
     },
     "metadata": {},
     "output_type": "display_data"
    },
    {
     "data": {
      "application/vnd.jupyter.widget-view+json": {
       "model_id": "ad28d5e5dd61440796309930d68cb83f",
       "version_major": 2,
       "version_minor": 0
      },
      "text/plain": [
       "timesteps:   0%|          | 0/13877 [00:00<?, ?it/s]"
      ]
     },
     "metadata": {},
     "output_type": "display_data"
    },
    {
     "data": {
      "application/vnd.jupyter.widget-view+json": {
       "model_id": "3ce49441319d44e9a1df0971f11ef7d9",
       "version_major": 2,
       "version_minor": 0
      },
      "text/plain": [
       "timesteps:   0%|          | 0/13877 [00:00<?, ?it/s]"
      ]
     },
     "metadata": {},
     "output_type": "display_data"
    },
    {
     "data": {
      "application/vnd.jupyter.widget-view+json": {
       "model_id": "bee2636e8c9841868a235f60703b6ae9",
       "version_major": 2,
       "version_minor": 0
      },
      "text/plain": [
       "timesteps:   0%|          | 0/13877 [00:00<?, ?it/s]"
      ]
     },
     "metadata": {},
     "output_type": "display_data"
    },
    {
     "data": {
      "application/vnd.jupyter.widget-view+json": {
       "model_id": "90e60dbd5eea4667b67d94c3730b2d90",
       "version_major": 2,
       "version_minor": 0
      },
      "text/plain": [
       "timesteps:   0%|          | 0/13877 [00:00<?, ?it/s]"
      ]
     },
     "metadata": {},
     "output_type": "display_data"
    },
    {
     "data": {
      "application/vnd.jupyter.widget-view+json": {
       "model_id": "8608a0418520412cb28da408d65776ec",
       "version_major": 2,
       "version_minor": 0
      },
      "text/plain": [
       "timesteps:   0%|          | 0/13877 [00:00<?, ?it/s]"
      ]
     },
     "metadata": {},
     "output_type": "display_data"
    },
    {
     "data": {
      "application/vnd.jupyter.widget-view+json": {
       "model_id": "688e1e86f5364478a63afcdfc1aba746",
       "version_major": 2,
       "version_minor": 0
      },
      "text/plain": [
       "timesteps:   0%|          | 0/13877 [00:00<?, ?it/s]"
      ]
     },
     "metadata": {},
     "output_type": "display_data"
    },
    {
     "data": {
      "application/vnd.jupyter.widget-view+json": {
       "model_id": "63bc796f39db45bcbe146b8e9b825b60",
       "version_major": 2,
       "version_minor": 0
      },
      "text/plain": [
       "timesteps:   0%|          | 0/13877 [00:00<?, ?it/s]"
      ]
     },
     "metadata": {},
     "output_type": "display_data"
    },
    {
     "data": {
      "application/vnd.jupyter.widget-view+json": {
       "model_id": "bd4ff41350dd4595bdc56edf46008fab",
       "version_major": 2,
       "version_minor": 0
      },
      "text/plain": [
       "timesteps:   0%|          | 0/13877 [00:00<?, ?it/s]"
      ]
     },
     "metadata": {},
     "output_type": "display_data"
    },
    {
     "data": {
      "application/vnd.jupyter.widget-view+json": {
       "model_id": "39f7ce39f4e649ecbea75157f3832506",
       "version_major": 2,
       "version_minor": 0
      },
      "text/plain": [
       "timesteps:   0%|          | 0/13877 [00:00<?, ?it/s]"
      ]
     },
     "metadata": {},
     "output_type": "display_data"
    },
    {
     "data": {
      "application/vnd.jupyter.widget-view+json": {
       "model_id": "6ab04b14967542089181818ee51d8fc6",
       "version_major": 2,
       "version_minor": 0
      },
      "text/plain": [
       "timesteps:   0%|          | 0/13877 [00:00<?, ?it/s]"
      ]
     },
     "metadata": {},
     "output_type": "display_data"
    },
    {
     "data": {
      "application/vnd.jupyter.widget-view+json": {
       "model_id": "e1ba37471e43430bab9c16b0d117da25",
       "version_major": 2,
       "version_minor": 0
      },
      "text/plain": [
       "timesteps:   0%|          | 0/13877 [00:00<?, ?it/s]"
      ]
     },
     "metadata": {},
     "output_type": "display_data"
    },
    {
     "data": {
      "application/vnd.jupyter.widget-view+json": {
       "model_id": "67b4da85dbbb4586b7635ca12a0673ae",
       "version_major": 2,
       "version_minor": 0
      },
      "text/plain": [
       "timesteps:   0%|          | 0/13877 [00:00<?, ?it/s]"
      ]
     },
     "metadata": {},
     "output_type": "display_data"
    },
    {
     "data": {
      "application/vnd.jupyter.widget-view+json": {
       "model_id": "0cd94d62f7614492838e6e3694b69091",
       "version_major": 2,
       "version_minor": 0
      },
      "text/plain": [
       "timesteps:   0%|          | 0/13877 [00:00<?, ?it/s]"
      ]
     },
     "metadata": {},
     "output_type": "display_data"
    },
    {
     "data": {
      "application/vnd.jupyter.widget-view+json": {
       "model_id": "83d64915ef51461a8859b35099dce1b7",
       "version_major": 2,
       "version_minor": 0
      },
      "text/plain": [
       "timesteps:   0%|          | 0/13877 [00:00<?, ?it/s]"
      ]
     },
     "metadata": {},
     "output_type": "display_data"
    },
    {
     "data": {
      "application/vnd.jupyter.widget-view+json": {
       "model_id": "0d882c0244bb40b48b1f5cff9968d9c3",
       "version_major": 2,
       "version_minor": 0
      },
      "text/plain": [
       "timesteps:   0%|          | 0/13877 [00:00<?, ?it/s]"
      ]
     },
     "metadata": {},
     "output_type": "display_data"
    },
    {
     "name": "stdout",
     "output_type": "stream",
     "text": [
      "833 of 1000, minimal objective function=0.268085, time remaining: 00:00:51\n"
     ]
    },
    {
     "data": {
      "application/vnd.jupyter.widget-view+json": {
       "model_id": "44df7e101ffc4515a4e307dedb3e3121",
       "version_major": 2,
       "version_minor": 0
      },
      "text/plain": [
       "timesteps:   0%|          | 0/13877 [00:00<?, ?it/s]"
      ]
     },
     "metadata": {},
     "output_type": "display_data"
    },
    {
     "data": {
      "application/vnd.jupyter.widget-view+json": {
       "model_id": "590a6eda2b4b4aecab8fbfe655a7c29a",
       "version_major": 2,
       "version_minor": 0
      },
      "text/plain": [
       "timesteps:   0%|          | 0/13877 [00:00<?, ?it/s]"
      ]
     },
     "metadata": {},
     "output_type": "display_data"
    },
    {
     "data": {
      "application/vnd.jupyter.widget-view+json": {
       "model_id": "5eaee03d08e7489c90cc816579b51dd8",
       "version_major": 2,
       "version_minor": 0
      },
      "text/plain": [
       "timesteps:   0%|          | 0/13877 [00:00<?, ?it/s]"
      ]
     },
     "metadata": {},
     "output_type": "display_data"
    },
    {
     "data": {
      "application/vnd.jupyter.widget-view+json": {
       "model_id": "1cea5b4fcfb641afafeadecfa80a35ab",
       "version_major": 2,
       "version_minor": 0
      },
      "text/plain": [
       "timesteps:   0%|          | 0/13877 [00:00<?, ?it/s]"
      ]
     },
     "metadata": {},
     "output_type": "display_data"
    },
    {
     "data": {
      "application/vnd.jupyter.widget-view+json": {
       "model_id": "dd97ce77b7154792bc80bd8450ca7ea6",
       "version_major": 2,
       "version_minor": 0
      },
      "text/plain": [
       "timesteps:   0%|          | 0/13877 [00:00<?, ?it/s]"
      ]
     },
     "metadata": {},
     "output_type": "display_data"
    },
    {
     "data": {
      "application/vnd.jupyter.widget-view+json": {
       "model_id": "b27477bdfe6e4395870aac08a59e12f9",
       "version_major": 2,
       "version_minor": 0
      },
      "text/plain": [
       "timesteps:   0%|          | 0/13877 [00:00<?, ?it/s]"
      ]
     },
     "metadata": {},
     "output_type": "display_data"
    },
    {
     "data": {
      "application/vnd.jupyter.widget-view+json": {
       "model_id": "979280ecd62e4dbabbed167e021fc717",
       "version_major": 2,
       "version_minor": 0
      },
      "text/plain": [
       "timesteps:   0%|          | 0/13877 [00:00<?, ?it/s]"
      ]
     },
     "metadata": {},
     "output_type": "display_data"
    },
    {
     "data": {
      "application/vnd.jupyter.widget-view+json": {
       "model_id": "81f6fc3215b24ecea3d12e81be7cd8cc",
       "version_major": 2,
       "version_minor": 0
      },
      "text/plain": [
       "timesteps:   0%|          | 0/13877 [00:00<?, ?it/s]"
      ]
     },
     "metadata": {},
     "output_type": "display_data"
    },
    {
     "data": {
      "application/vnd.jupyter.widget-view+json": {
       "model_id": "37eabf7d6bb24d73b3b2a0b23ca44357",
       "version_major": 2,
       "version_minor": 0
      },
      "text/plain": [
       "timesteps:   0%|          | 0/13877 [00:00<?, ?it/s]"
      ]
     },
     "metadata": {},
     "output_type": "display_data"
    },
    {
     "data": {
      "application/vnd.jupyter.widget-view+json": {
       "model_id": "c7063c96ae9b4360b2d6871ad5f2ba7f",
       "version_major": 2,
       "version_minor": 0
      },
      "text/plain": [
       "timesteps:   0%|          | 0/13877 [00:00<?, ?it/s]"
      ]
     },
     "metadata": {},
     "output_type": "display_data"
    },
    {
     "data": {
      "application/vnd.jupyter.widget-view+json": {
       "model_id": "28a385b9ef16484e8684bc34e8b154af",
       "version_major": 2,
       "version_minor": 0
      },
      "text/plain": [
       "timesteps:   0%|          | 0/13877 [00:00<?, ?it/s]"
      ]
     },
     "metadata": {},
     "output_type": "display_data"
    },
    {
     "data": {
      "application/vnd.jupyter.widget-view+json": {
       "model_id": "850e73d932c94a5aa7b445792f2d6d91",
       "version_major": 2,
       "version_minor": 0
      },
      "text/plain": [
       "timesteps:   0%|          | 0/13877 [00:00<?, ?it/s]"
      ]
     },
     "metadata": {},
     "output_type": "display_data"
    },
    {
     "data": {
      "application/vnd.jupyter.widget-view+json": {
       "model_id": "723052a7a66b46fe9ca88723f106b6b8",
       "version_major": 2,
       "version_minor": 0
      },
      "text/plain": [
       "timesteps:   0%|          | 0/13877 [00:00<?, ?it/s]"
      ]
     },
     "metadata": {},
     "output_type": "display_data"
    },
    {
     "data": {
      "application/vnd.jupyter.widget-view+json": {
       "model_id": "ba7ec7fa28aa4665b390d1b9d0340ce1",
       "version_major": 2,
       "version_minor": 0
      },
      "text/plain": [
       "timesteps:   0%|          | 0/13877 [00:00<?, ?it/s]"
      ]
     },
     "metadata": {},
     "output_type": "display_data"
    },
    {
     "data": {
      "application/vnd.jupyter.widget-view+json": {
       "model_id": "55a4bca388634babafd2ffd9257f26cf",
       "version_major": 2,
       "version_minor": 0
      },
      "text/plain": [
       "timesteps:   0%|          | 0/13877 [00:00<?, ?it/s]"
      ]
     },
     "metadata": {},
     "output_type": "display_data"
    },
    {
     "data": {
      "application/vnd.jupyter.widget-view+json": {
       "model_id": "276725045873448eb493e32d5bf15a8d",
       "version_major": 2,
       "version_minor": 0
      },
      "text/plain": [
       "timesteps:   0%|          | 0/13877 [00:00<?, ?it/s]"
      ]
     },
     "metadata": {},
     "output_type": "display_data"
    },
    {
     "data": {
      "application/vnd.jupyter.widget-view+json": {
       "model_id": "e55947f052d54fce824bf5d379467be3",
       "version_major": 2,
       "version_minor": 0
      },
      "text/plain": [
       "timesteps:   0%|          | 0/13877 [00:00<?, ?it/s]"
      ]
     },
     "metadata": {},
     "output_type": "display_data"
    },
    {
     "name": "stdout",
     "output_type": "stream",
     "text": [
      "861 of 1000, minimal objective function=0.2678, time remaining: 00:00:43\n",
      "Objective function convergence criteria is now being updated and assessed...\n",
      "Updated convergence criteria: 0.778970\n",
      "ComplexEvo loop #8 in progress...\n"
     ]
    },
    {
     "data": {
      "application/vnd.jupyter.widget-view+json": {
       "model_id": "7bd6913edeff48a489c8655397afe2e8",
       "version_major": 2,
       "version_minor": 0
      },
      "text/plain": [
       "timesteps:   0%|          | 0/13877 [00:00<?, ?it/s]"
      ]
     },
     "metadata": {},
     "output_type": "display_data"
    },
    {
     "data": {
      "application/vnd.jupyter.widget-view+json": {
       "model_id": "527d478f4a6f4b0185dbba6d2e4ab9f5",
       "version_major": 2,
       "version_minor": 0
      },
      "text/plain": [
       "timesteps:   0%|          | 0/13877 [00:00<?, ?it/s]"
      ]
     },
     "metadata": {},
     "output_type": "display_data"
    },
    {
     "data": {
      "application/vnd.jupyter.widget-view+json": {
       "model_id": "caa0608f58e14845bd338193c17b8f64",
       "version_major": 2,
       "version_minor": 0
      },
      "text/plain": [
       "timesteps:   0%|          | 0/13877 [00:00<?, ?it/s]"
      ]
     },
     "metadata": {},
     "output_type": "display_data"
    },
    {
     "data": {
      "application/vnd.jupyter.widget-view+json": {
       "model_id": "f3ffb0f8b0a14e16bb76ad5c2b9d0328",
       "version_major": 2,
       "version_minor": 0
      },
      "text/plain": [
       "timesteps:   0%|          | 0/13877 [00:00<?, ?it/s]"
      ]
     },
     "metadata": {},
     "output_type": "display_data"
    },
    {
     "data": {
      "application/vnd.jupyter.widget-view+json": {
       "model_id": "3936f1b4f6694397a9f9a78605f8bf2b",
       "version_major": 2,
       "version_minor": 0
      },
      "text/plain": [
       "timesteps:   0%|          | 0/13877 [00:00<?, ?it/s]"
      ]
     },
     "metadata": {},
     "output_type": "display_data"
    },
    {
     "data": {
      "application/vnd.jupyter.widget-view+json": {
       "model_id": "bca0fce1c338484bae907ba97f7881da",
       "version_major": 2,
       "version_minor": 0
      },
      "text/plain": [
       "timesteps:   0%|          | 0/13877 [00:00<?, ?it/s]"
      ]
     },
     "metadata": {},
     "output_type": "display_data"
    },
    {
     "data": {
      "application/vnd.jupyter.widget-view+json": {
       "model_id": "d7a980f00f82456abdceda0dfd9a0ac0",
       "version_major": 2,
       "version_minor": 0
      },
      "text/plain": [
       "timesteps:   0%|          | 0/13877 [00:00<?, ?it/s]"
      ]
     },
     "metadata": {},
     "output_type": "display_data"
    },
    {
     "data": {
      "application/vnd.jupyter.widget-view+json": {
       "model_id": "eede812106f9447e89280ef30e2d8268",
       "version_major": 2,
       "version_minor": 0
      },
      "text/plain": [
       "timesteps:   0%|          | 0/13877 [00:00<?, ?it/s]"
      ]
     },
     "metadata": {},
     "output_type": "display_data"
    },
    {
     "data": {
      "application/vnd.jupyter.widget-view+json": {
       "model_id": "566a75a53d974abbbc93b083878b313f",
       "version_major": 2,
       "version_minor": 0
      },
      "text/plain": [
       "timesteps:   0%|          | 0/13877 [00:00<?, ?it/s]"
      ]
     },
     "metadata": {},
     "output_type": "display_data"
    },
    {
     "data": {
      "application/vnd.jupyter.widget-view+json": {
       "model_id": "ad795c7191734b07818b868534b9d035",
       "version_major": 2,
       "version_minor": 0
      },
      "text/plain": [
       "timesteps:   0%|          | 0/13877 [00:00<?, ?it/s]"
      ]
     },
     "metadata": {},
     "output_type": "display_data"
    },
    {
     "data": {
      "application/vnd.jupyter.widget-view+json": {
       "model_id": "56b6b8b9821e4fb9a9eea98b25e853da",
       "version_major": 2,
       "version_minor": 0
      },
      "text/plain": [
       "timesteps:   0%|          | 0/13877 [00:00<?, ?it/s]"
      ]
     },
     "metadata": {},
     "output_type": "display_data"
    },
    {
     "data": {
      "application/vnd.jupyter.widget-view+json": {
       "model_id": "047184dc27f24848bc95c173cb2e445a",
       "version_major": 2,
       "version_minor": 0
      },
      "text/plain": [
       "timesteps:   0%|          | 0/13877 [00:00<?, ?it/s]"
      ]
     },
     "metadata": {},
     "output_type": "display_data"
    },
    {
     "data": {
      "application/vnd.jupyter.widget-view+json": {
       "model_id": "f6a87e04d9324efcaefd55b003394adb",
       "version_major": 2,
       "version_minor": 0
      },
      "text/plain": [
       "timesteps:   0%|          | 0/13877 [00:00<?, ?it/s]"
      ]
     },
     "metadata": {},
     "output_type": "display_data"
    },
    {
     "data": {
      "application/vnd.jupyter.widget-view+json": {
       "model_id": "55b2f4566e32448da5baff7fb2c3958a",
       "version_major": 2,
       "version_minor": 0
      },
      "text/plain": [
       "timesteps:   0%|          | 0/13877 [00:00<?, ?it/s]"
      ]
     },
     "metadata": {},
     "output_type": "display_data"
    },
    {
     "data": {
      "application/vnd.jupyter.widget-view+json": {
       "model_id": "e9477f37eae048e08a3ce7e5293a47bb",
       "version_major": 2,
       "version_minor": 0
      },
      "text/plain": [
       "timesteps:   0%|          | 0/13877 [00:00<?, ?it/s]"
      ]
     },
     "metadata": {},
     "output_type": "display_data"
    },
    {
     "data": {
      "application/vnd.jupyter.widget-view+json": {
       "model_id": "f8d37bcadc734e7587648b5cb8cf819d",
       "version_major": 2,
       "version_minor": 0
      },
      "text/plain": [
       "timesteps:   0%|          | 0/13877 [00:00<?, ?it/s]"
      ]
     },
     "metadata": {},
     "output_type": "display_data"
    },
    {
     "data": {
      "application/vnd.jupyter.widget-view+json": {
       "model_id": "02e5b627358546428359c26d3179a639",
       "version_major": 2,
       "version_minor": 0
      },
      "text/plain": [
       "timesteps:   0%|          | 0/13877 [00:00<?, ?it/s]"
      ]
     },
     "metadata": {},
     "output_type": "display_data"
    },
    {
     "name": "stdout",
     "output_type": "stream",
     "text": [
      "889 of 1000, minimal objective function=0.26774, time remaining: 00:00:34\n"
     ]
    },
    {
     "data": {
      "application/vnd.jupyter.widget-view+json": {
       "model_id": "285dbadf277041f6b649d4d363ae1a9b",
       "version_major": 2,
       "version_minor": 0
      },
      "text/plain": [
       "timesteps:   0%|          | 0/13877 [00:00<?, ?it/s]"
      ]
     },
     "metadata": {},
     "output_type": "display_data"
    },
    {
     "data": {
      "application/vnd.jupyter.widget-view+json": {
       "model_id": "cd5eb666014442059549dc9a921e0ed5",
       "version_major": 2,
       "version_minor": 0
      },
      "text/plain": [
       "timesteps:   0%|          | 0/13877 [00:00<?, ?it/s]"
      ]
     },
     "metadata": {},
     "output_type": "display_data"
    },
    {
     "data": {
      "application/vnd.jupyter.widget-view+json": {
       "model_id": "9de96681939b440d9a6f35075d09c2ed",
       "version_major": 2,
       "version_minor": 0
      },
      "text/plain": [
       "timesteps:   0%|          | 0/13877 [00:00<?, ?it/s]"
      ]
     },
     "metadata": {},
     "output_type": "display_data"
    },
    {
     "data": {
      "application/vnd.jupyter.widget-view+json": {
       "model_id": "644b7ebfd9f44f00844b8d2ebab2bdb2",
       "version_major": 2,
       "version_minor": 0
      },
      "text/plain": [
       "timesteps:   0%|          | 0/13877 [00:00<?, ?it/s]"
      ]
     },
     "metadata": {},
     "output_type": "display_data"
    },
    {
     "data": {
      "application/vnd.jupyter.widget-view+json": {
       "model_id": "c16cb5ec77af4f2187c0ff9622c128a6",
       "version_major": 2,
       "version_minor": 0
      },
      "text/plain": [
       "timesteps:   0%|          | 0/13877 [00:00<?, ?it/s]"
      ]
     },
     "metadata": {},
     "output_type": "display_data"
    },
    {
     "data": {
      "application/vnd.jupyter.widget-view+json": {
       "model_id": "e08ac5548ef3481f9b3e432566ebaaa7",
       "version_major": 2,
       "version_minor": 0
      },
      "text/plain": [
       "timesteps:   0%|          | 0/13877 [00:00<?, ?it/s]"
      ]
     },
     "metadata": {},
     "output_type": "display_data"
    },
    {
     "data": {
      "application/vnd.jupyter.widget-view+json": {
       "model_id": "dbb2ba43330b43ce8aba9f4fbfed4ed3",
       "version_major": 2,
       "version_minor": 0
      },
      "text/plain": [
       "timesteps:   0%|          | 0/13877 [00:00<?, ?it/s]"
      ]
     },
     "metadata": {},
     "output_type": "display_data"
    },
    {
     "data": {
      "application/vnd.jupyter.widget-view+json": {
       "model_id": "94139657995c46ea90bd0aed5c82d9c2",
       "version_major": 2,
       "version_minor": 0
      },
      "text/plain": [
       "timesteps:   0%|          | 0/13877 [00:00<?, ?it/s]"
      ]
     },
     "metadata": {},
     "output_type": "display_data"
    },
    {
     "data": {
      "application/vnd.jupyter.widget-view+json": {
       "model_id": "ae4bd3ffdbf54764aef732ecf838109e",
       "version_major": 2,
       "version_minor": 0
      },
      "text/plain": [
       "timesteps:   0%|          | 0/13877 [00:00<?, ?it/s]"
      ]
     },
     "metadata": {},
     "output_type": "display_data"
    },
    {
     "data": {
      "application/vnd.jupyter.widget-view+json": {
       "model_id": "2634c135358f438c89bf631c3c14c9c9",
       "version_major": 2,
       "version_minor": 0
      },
      "text/plain": [
       "timesteps:   0%|          | 0/13877 [00:00<?, ?it/s]"
      ]
     },
     "metadata": {},
     "output_type": "display_data"
    },
    {
     "data": {
      "application/vnd.jupyter.widget-view+json": {
       "model_id": "7937082f08304757bbaa00397c6f221d",
       "version_major": 2,
       "version_minor": 0
      },
      "text/plain": [
       "timesteps:   0%|          | 0/13877 [00:00<?, ?it/s]"
      ]
     },
     "metadata": {},
     "output_type": "display_data"
    },
    {
     "data": {
      "application/vnd.jupyter.widget-view+json": {
       "model_id": "d94327dc5b8a4dff9c5b503501537eb1",
       "version_major": 2,
       "version_minor": 0
      },
      "text/plain": [
       "timesteps:   0%|          | 0/13877 [00:00<?, ?it/s]"
      ]
     },
     "metadata": {},
     "output_type": "display_data"
    },
    {
     "data": {
      "application/vnd.jupyter.widget-view+json": {
       "model_id": "60626c5fbce446c1b80a4abb3d9c9077",
       "version_major": 2,
       "version_minor": 0
      },
      "text/plain": [
       "timesteps:   0%|          | 0/13877 [00:00<?, ?it/s]"
      ]
     },
     "metadata": {},
     "output_type": "display_data"
    },
    {
     "data": {
      "application/vnd.jupyter.widget-view+json": {
       "model_id": "fc4b10657cfd4985bc57d7971f3e37cd",
       "version_major": 2,
       "version_minor": 0
      },
      "text/plain": [
       "timesteps:   0%|          | 0/13877 [00:00<?, ?it/s]"
      ]
     },
     "metadata": {},
     "output_type": "display_data"
    },
    {
     "data": {
      "application/vnd.jupyter.widget-view+json": {
       "model_id": "f206fff4ee524a1a8aee50c75b513343",
       "version_major": 2,
       "version_minor": 0
      },
      "text/plain": [
       "timesteps:   0%|          | 0/13877 [00:00<?, ?it/s]"
      ]
     },
     "metadata": {},
     "output_type": "display_data"
    },
    {
     "data": {
      "application/vnd.jupyter.widget-view+json": {
       "model_id": "298333d4632a40d897cb60378ef957ad",
       "version_major": 2,
       "version_minor": 0
      },
      "text/plain": [
       "timesteps:   0%|          | 0/13877 [00:00<?, ?it/s]"
      ]
     },
     "metadata": {},
     "output_type": "display_data"
    },
    {
     "data": {
      "application/vnd.jupyter.widget-view+json": {
       "model_id": "f4c9498e20b74192a45a7316af90bb7e",
       "version_major": 2,
       "version_minor": 0
      },
      "text/plain": [
       "timesteps:   0%|          | 0/13877 [00:00<?, ?it/s]"
      ]
     },
     "metadata": {},
     "output_type": "display_data"
    },
    {
     "data": {
      "application/vnd.jupyter.widget-view+json": {
       "model_id": "92a150ba29cf4b76bf85789be18a2862",
       "version_major": 2,
       "version_minor": 0
      },
      "text/plain": [
       "timesteps:   0%|          | 0/13877 [00:00<?, ?it/s]"
      ]
     },
     "metadata": {},
     "output_type": "display_data"
    },
    {
     "data": {
      "application/vnd.jupyter.widget-view+json": {
       "model_id": "6742906e5de541ab87a9345e004c8576",
       "version_major": 2,
       "version_minor": 0
      },
      "text/plain": [
       "timesteps:   0%|          | 0/13877 [00:00<?, ?it/s]"
      ]
     },
     "metadata": {},
     "output_type": "display_data"
    },
    {
     "name": "stdout",
     "output_type": "stream",
     "text": [
      "919 of 1000, minimal objective function=0.267606, time remaining: 00:00:25\n"
     ]
    },
    {
     "data": {
      "application/vnd.jupyter.widget-view+json": {
       "model_id": "9f39387b197a4cb9a71cf889611a0246",
       "version_major": 2,
       "version_minor": 0
      },
      "text/plain": [
       "timesteps:   0%|          | 0/13877 [00:00<?, ?it/s]"
      ]
     },
     "metadata": {},
     "output_type": "display_data"
    },
    {
     "data": {
      "application/vnd.jupyter.widget-view+json": {
       "model_id": "21aeec9518b9415cb3251b892d1474d1",
       "version_major": 2,
       "version_minor": 0
      },
      "text/plain": [
       "timesteps:   0%|          | 0/13877 [00:00<?, ?it/s]"
      ]
     },
     "metadata": {},
     "output_type": "display_data"
    },
    {
     "data": {
      "application/vnd.jupyter.widget-view+json": {
       "model_id": "5f596b86f740449a971e8c10f155d955",
       "version_major": 2,
       "version_minor": 0
      },
      "text/plain": [
       "timesteps:   0%|          | 0/13877 [00:00<?, ?it/s]"
      ]
     },
     "metadata": {},
     "output_type": "display_data"
    },
    {
     "data": {
      "application/vnd.jupyter.widget-view+json": {
       "model_id": "f4bc84578cbd471083e44ed0ef2d1b78",
       "version_major": 2,
       "version_minor": 0
      },
      "text/plain": [
       "timesteps:   0%|          | 0/13877 [00:00<?, ?it/s]"
      ]
     },
     "metadata": {},
     "output_type": "display_data"
    },
    {
     "data": {
      "application/vnd.jupyter.widget-view+json": {
       "model_id": "641239ae22e64d9fae2e663ec54f6b67",
       "version_major": 2,
       "version_minor": 0
      },
      "text/plain": [
       "timesteps:   0%|          | 0/13877 [00:00<?, ?it/s]"
      ]
     },
     "metadata": {},
     "output_type": "display_data"
    },
    {
     "data": {
      "application/vnd.jupyter.widget-view+json": {
       "model_id": "5c9395d6f9fa4f86996b16d8308111b4",
       "version_major": 2,
       "version_minor": 0
      },
      "text/plain": [
       "timesteps:   0%|          | 0/13877 [00:00<?, ?it/s]"
      ]
     },
     "metadata": {},
     "output_type": "display_data"
    },
    {
     "data": {
      "application/vnd.jupyter.widget-view+json": {
       "model_id": "93511240f2af4e6d8b1961e8e8d3e53a",
       "version_major": 2,
       "version_minor": 0
      },
      "text/plain": [
       "timesteps:   0%|          | 0/13877 [00:00<?, ?it/s]"
      ]
     },
     "metadata": {},
     "output_type": "display_data"
    },
    {
     "data": {
      "application/vnd.jupyter.widget-view+json": {
       "model_id": "31dea4e50a614066be8a029a5de6cb00",
       "version_major": 2,
       "version_minor": 0
      },
      "text/plain": [
       "timesteps:   0%|          | 0/13877 [00:00<?, ?it/s]"
      ]
     },
     "metadata": {},
     "output_type": "display_data"
    },
    {
     "data": {
      "application/vnd.jupyter.widget-view+json": {
       "model_id": "c250901ec6df4638a05591e912050bfe",
       "version_major": 2,
       "version_minor": 0
      },
      "text/plain": [
       "timesteps:   0%|          | 0/13877 [00:00<?, ?it/s]"
      ]
     },
     "metadata": {},
     "output_type": "display_data"
    },
    {
     "data": {
      "application/vnd.jupyter.widget-view+json": {
       "model_id": "9576d9095f494165b1d52dbc18d5c888",
       "version_major": 2,
       "version_minor": 0
      },
      "text/plain": [
       "timesteps:   0%|          | 0/13877 [00:00<?, ?it/s]"
      ]
     },
     "metadata": {},
     "output_type": "display_data"
    },
    {
     "data": {
      "application/vnd.jupyter.widget-view+json": {
       "model_id": "b55d81fcbc124320b4125d72fcb1b5b7",
       "version_major": 2,
       "version_minor": 0
      },
      "text/plain": [
       "timesteps:   0%|          | 0/13877 [00:00<?, ?it/s]"
      ]
     },
     "metadata": {},
     "output_type": "display_data"
    },
    {
     "data": {
      "application/vnd.jupyter.widget-view+json": {
       "model_id": "957adbd71e2841f2aef2c0117b6589e6",
       "version_major": 2,
       "version_minor": 0
      },
      "text/plain": [
       "timesteps:   0%|          | 0/13877 [00:00<?, ?it/s]"
      ]
     },
     "metadata": {},
     "output_type": "display_data"
    },
    {
     "data": {
      "application/vnd.jupyter.widget-view+json": {
       "model_id": "6b95584c711f4020ad00d60b695b2587",
       "version_major": 2,
       "version_minor": 0
      },
      "text/plain": [
       "timesteps:   0%|          | 0/13877 [00:00<?, ?it/s]"
      ]
     },
     "metadata": {},
     "output_type": "display_data"
    },
    {
     "data": {
      "application/vnd.jupyter.widget-view+json": {
       "model_id": "dd473faca8ef4ca0997b4632d5fbee4c",
       "version_major": 2,
       "version_minor": 0
      },
      "text/plain": [
       "timesteps:   0%|          | 0/13877 [00:00<?, ?it/s]"
      ]
     },
     "metadata": {},
     "output_type": "display_data"
    },
    {
     "data": {
      "application/vnd.jupyter.widget-view+json": {
       "model_id": "7c5e96afbb75481a935dcebdcc33de1e",
       "version_major": 2,
       "version_minor": 0
      },
      "text/plain": [
       "timesteps:   0%|          | 0/13877 [00:00<?, ?it/s]"
      ]
     },
     "metadata": {},
     "output_type": "display_data"
    },
    {
     "data": {
      "application/vnd.jupyter.widget-view+json": {
       "model_id": "109544aab27d45f2b92330b9e84671d0",
       "version_major": 2,
       "version_minor": 0
      },
      "text/plain": [
       "timesteps:   0%|          | 0/13877 [00:00<?, ?it/s]"
      ]
     },
     "metadata": {},
     "output_type": "display_data"
    },
    {
     "data": {
      "application/vnd.jupyter.widget-view+json": {
       "model_id": "28dfcc1371ae47a286bbd0cbb2aaff86",
       "version_major": 2,
       "version_minor": 0
      },
      "text/plain": [
       "timesteps:   0%|          | 0/13877 [00:00<?, ?it/s]"
      ]
     },
     "metadata": {},
     "output_type": "display_data"
    },
    {
     "data": {
      "application/vnd.jupyter.widget-view+json": {
       "model_id": "02076ac26b5643d4805f9288c5989dfe",
       "version_major": 2,
       "version_minor": 0
      },
      "text/plain": [
       "timesteps:   0%|          | 0/13877 [00:00<?, ?it/s]"
      ]
     },
     "metadata": {},
     "output_type": "display_data"
    },
    {
     "data": {
      "application/vnd.jupyter.widget-view+json": {
       "model_id": "6f2e0d1e43b644eebdab9a2fa167285a",
       "version_major": 2,
       "version_minor": 0
      },
      "text/plain": [
       "timesteps:   0%|          | 0/13877 [00:00<?, ?it/s]"
      ]
     },
     "metadata": {},
     "output_type": "display_data"
    },
    {
     "data": {
      "application/vnd.jupyter.widget-view+json": {
       "model_id": "874564382b17416ca406d47d33ef0b7d",
       "version_major": 2,
       "version_minor": 0
      },
      "text/plain": [
       "timesteps:   0%|          | 0/13877 [00:00<?, ?it/s]"
      ]
     },
     "metadata": {},
     "output_type": "display_data"
    },
    {
     "name": "stdout",
     "output_type": "stream",
     "text": [
      "950 of 1000, minimal objective function=0.267606, time remaining: 00:00:15\n"
     ]
    },
    {
     "data": {
      "application/vnd.jupyter.widget-view+json": {
       "model_id": "f9de8cbffc3e420683cadfe625170699",
       "version_major": 2,
       "version_minor": 0
      },
      "text/plain": [
       "timesteps:   0%|          | 0/13877 [00:00<?, ?it/s]"
      ]
     },
     "metadata": {},
     "output_type": "display_data"
    },
    {
     "data": {
      "application/vnd.jupyter.widget-view+json": {
       "model_id": "24648343687749899c94ea4ad0113ac6",
       "version_major": 2,
       "version_minor": 0
      },
      "text/plain": [
       "timesteps:   0%|          | 0/13877 [00:00<?, ?it/s]"
      ]
     },
     "metadata": {},
     "output_type": "display_data"
    },
    {
     "data": {
      "application/vnd.jupyter.widget-view+json": {
       "model_id": "4a7e10f46b9e4ec38b01cc3cb915862c",
       "version_major": 2,
       "version_minor": 0
      },
      "text/plain": [
       "timesteps:   0%|          | 0/13877 [00:00<?, ?it/s]"
      ]
     },
     "metadata": {},
     "output_type": "display_data"
    },
    {
     "data": {
      "application/vnd.jupyter.widget-view+json": {
       "model_id": "ec8235c6e33b488e9650bba2f7e4506d",
       "version_major": 2,
       "version_minor": 0
      },
      "text/plain": [
       "timesteps:   0%|          | 0/13877 [00:00<?, ?it/s]"
      ]
     },
     "metadata": {},
     "output_type": "display_data"
    },
    {
     "data": {
      "application/vnd.jupyter.widget-view+json": {
       "model_id": "ce766890d5f341ce9bd06ed9aca5ea4d",
       "version_major": 2,
       "version_minor": 0
      },
      "text/plain": [
       "timesteps:   0%|          | 0/13877 [00:00<?, ?it/s]"
      ]
     },
     "metadata": {},
     "output_type": "display_data"
    },
    {
     "data": {
      "application/vnd.jupyter.widget-view+json": {
       "model_id": "b2cc14b6faff4f0b93c9e625e59e498a",
       "version_major": 2,
       "version_minor": 0
      },
      "text/plain": [
       "timesteps:   0%|          | 0/13877 [00:00<?, ?it/s]"
      ]
     },
     "metadata": {},
     "output_type": "display_data"
    },
    {
     "data": {
      "application/vnd.jupyter.widget-view+json": {
       "model_id": "d7af2019035247d78a0dc87beccd493b",
       "version_major": 2,
       "version_minor": 0
      },
      "text/plain": [
       "timesteps:   0%|          | 0/13877 [00:00<?, ?it/s]"
      ]
     },
     "metadata": {},
     "output_type": "display_data"
    },
    {
     "data": {
      "application/vnd.jupyter.widget-view+json": {
       "model_id": "f9f581daf0aa4b67b444aecddaa7a750",
       "version_major": 2,
       "version_minor": 0
      },
      "text/plain": [
       "timesteps:   0%|          | 0/13877 [00:00<?, ?it/s]"
      ]
     },
     "metadata": {},
     "output_type": "display_data"
    },
    {
     "data": {
      "application/vnd.jupyter.widget-view+json": {
       "model_id": "3b884e14869241049db3a5201d9d9cdf",
       "version_major": 2,
       "version_minor": 0
      },
      "text/plain": [
       "timesteps:   0%|          | 0/13877 [00:00<?, ?it/s]"
      ]
     },
     "metadata": {},
     "output_type": "display_data"
    },
    {
     "data": {
      "application/vnd.jupyter.widget-view+json": {
       "model_id": "5bea7917675c4e368de0f6742caad926",
       "version_major": 2,
       "version_minor": 0
      },
      "text/plain": [
       "timesteps:   0%|          | 0/13877 [00:00<?, ?it/s]"
      ]
     },
     "metadata": {},
     "output_type": "display_data"
    },
    {
     "data": {
      "application/vnd.jupyter.widget-view+json": {
       "model_id": "73c6a78b86ca4926b56b24f0016746f2",
       "version_major": 2,
       "version_minor": 0
      },
      "text/plain": [
       "timesteps:   0%|          | 0/13877 [00:00<?, ?it/s]"
      ]
     },
     "metadata": {},
     "output_type": "display_data"
    },
    {
     "data": {
      "application/vnd.jupyter.widget-view+json": {
       "model_id": "cb1b48e437a347f7aea6f77b9eec5c1e",
       "version_major": 2,
       "version_minor": 0
      },
      "text/plain": [
       "timesteps:   0%|          | 0/13877 [00:00<?, ?it/s]"
      ]
     },
     "metadata": {},
     "output_type": "display_data"
    },
    {
     "data": {
      "application/vnd.jupyter.widget-view+json": {
       "model_id": "a00aa4413c4a4cf0924345db2991f717",
       "version_major": 2,
       "version_minor": 0
      },
      "text/plain": [
       "timesteps:   0%|          | 0/13877 [00:00<?, ?it/s]"
      ]
     },
     "metadata": {},
     "output_type": "display_data"
    },
    {
     "data": {
      "application/vnd.jupyter.widget-view+json": {
       "model_id": "ad3263d6f73b48fdae6b98f552d6e539",
       "version_major": 2,
       "version_minor": 0
      },
      "text/plain": [
       "timesteps:   0%|          | 0/13877 [00:00<?, ?it/s]"
      ]
     },
     "metadata": {},
     "output_type": "display_data"
    },
    {
     "data": {
      "application/vnd.jupyter.widget-view+json": {
       "model_id": "9f874178636b4b14b66b040483bf25f3",
       "version_major": 2,
       "version_minor": 0
      },
      "text/plain": [
       "timesteps:   0%|          | 0/13877 [00:00<?, ?it/s]"
      ]
     },
     "metadata": {},
     "output_type": "display_data"
    },
    {
     "data": {
      "application/vnd.jupyter.widget-view+json": {
       "model_id": "1550000f93f64f318f571d64ee3125bd",
       "version_major": 2,
       "version_minor": 0
      },
      "text/plain": [
       "timesteps:   0%|          | 0/13877 [00:00<?, ?it/s]"
      ]
     },
     "metadata": {},
     "output_type": "display_data"
    },
    {
     "data": {
      "application/vnd.jupyter.widget-view+json": {
       "model_id": "c2ab8d19d8194c2193c190c6d6af486b",
       "version_major": 2,
       "version_minor": 0
      },
      "text/plain": [
       "timesteps:   0%|          | 0/13877 [00:00<?, ?it/s]"
      ]
     },
     "metadata": {},
     "output_type": "display_data"
    },
    {
     "data": {
      "application/vnd.jupyter.widget-view+json": {
       "model_id": "d5e7d139ae1f4181997c8ab6ffe9a3ab",
       "version_major": 2,
       "version_minor": 0
      },
      "text/plain": [
       "timesteps:   0%|          | 0/13877 [00:00<?, ?it/s]"
      ]
     },
     "metadata": {},
     "output_type": "display_data"
    },
    {
     "name": "stdout",
     "output_type": "stream",
     "text": [
      "979 of 1000, minimal objective function=0.267574, time remaining: 00:00:06\n",
      "Objective function convergence criteria is now being updated and assessed...\n",
      "Updated convergence criteria: 0.291686\n",
      "ComplexEvo loop #9 in progress...\n"
     ]
    },
    {
     "data": {
      "application/vnd.jupyter.widget-view+json": {
       "model_id": "d0638107084043b1a44ffc97c0b265df",
       "version_major": 2,
       "version_minor": 0
      },
      "text/plain": [
       "timesteps:   0%|          | 0/13877 [00:00<?, ?it/s]"
      ]
     },
     "metadata": {},
     "output_type": "display_data"
    },
    {
     "data": {
      "application/vnd.jupyter.widget-view+json": {
       "model_id": "41e6e337f74947319543f5f29c9a7cfb",
       "version_major": 2,
       "version_minor": 0
      },
      "text/plain": [
       "timesteps:   0%|          | 0/13877 [00:00<?, ?it/s]"
      ]
     },
     "metadata": {},
     "output_type": "display_data"
    },
    {
     "data": {
      "application/vnd.jupyter.widget-view+json": {
       "model_id": "b83917880add4ec6ad2a9f39b49b80c8",
       "version_major": 2,
       "version_minor": 0
      },
      "text/plain": [
       "timesteps:   0%|          | 0/13877 [00:00<?, ?it/s]"
      ]
     },
     "metadata": {},
     "output_type": "display_data"
    },
    {
     "data": {
      "application/vnd.jupyter.widget-view+json": {
       "model_id": "fbcd0f9abcf247c4a1caefeb218f1ceb",
       "version_major": 2,
       "version_minor": 0
      },
      "text/plain": [
       "timesteps:   0%|          | 0/13877 [00:00<?, ?it/s]"
      ]
     },
     "metadata": {},
     "output_type": "display_data"
    },
    {
     "data": {
      "application/vnd.jupyter.widget-view+json": {
       "model_id": "618d964090934e42aba27d62b9300e3a",
       "version_major": 2,
       "version_minor": 0
      },
      "text/plain": [
       "timesteps:   0%|          | 0/13877 [00:00<?, ?it/s]"
      ]
     },
     "metadata": {},
     "output_type": "display_data"
    },
    {
     "data": {
      "application/vnd.jupyter.widget-view+json": {
       "model_id": "c49a8001bce049c5b7abe260ae20c51e",
       "version_major": 2,
       "version_minor": 0
      },
      "text/plain": [
       "timesteps:   0%|          | 0/13877 [00:00<?, ?it/s]"
      ]
     },
     "metadata": {},
     "output_type": "display_data"
    },
    {
     "data": {
      "application/vnd.jupyter.widget-view+json": {
       "model_id": "945091f20ef74a91819af3570d353a83",
       "version_major": 2,
       "version_minor": 0
      },
      "text/plain": [
       "timesteps:   0%|          | 0/13877 [00:00<?, ?it/s]"
      ]
     },
     "metadata": {},
     "output_type": "display_data"
    },
    {
     "data": {
      "application/vnd.jupyter.widget-view+json": {
       "model_id": "22589fa00514402e9d1c92dba7cfd4c7",
       "version_major": 2,
       "version_minor": 0
      },
      "text/plain": [
       "timesteps:   0%|          | 0/13877 [00:00<?, ?it/s]"
      ]
     },
     "metadata": {},
     "output_type": "display_data"
    },
    {
     "data": {
      "application/vnd.jupyter.widget-view+json": {
       "model_id": "908b1fb7fa8947838841ae8cb2ccd87b",
       "version_major": 2,
       "version_minor": 0
      },
      "text/plain": [
       "timesteps:   0%|          | 0/13877 [00:00<?, ?it/s]"
      ]
     },
     "metadata": {},
     "output_type": "display_data"
    },
    {
     "data": {
      "application/vnd.jupyter.widget-view+json": {
       "model_id": "f9005dc219ee49389c12338491dbdb8c",
       "version_major": 2,
       "version_minor": 0
      },
      "text/plain": [
       "timesteps:   0%|          | 0/13877 [00:00<?, ?it/s]"
      ]
     },
     "metadata": {},
     "output_type": "display_data"
    },
    {
     "data": {
      "application/vnd.jupyter.widget-view+json": {
       "model_id": "0b8d4392428a4d608afd0e3ddc732fad",
       "version_major": 2,
       "version_minor": 0
      },
      "text/plain": [
       "timesteps:   0%|          | 0/13877 [00:00<?, ?it/s]"
      ]
     },
     "metadata": {},
     "output_type": "display_data"
    },
    {
     "data": {
      "application/vnd.jupyter.widget-view+json": {
       "model_id": "a73f3b602efc44f5beaf937d631c75a2",
       "version_major": 2,
       "version_minor": 0
      },
      "text/plain": [
       "timesteps:   0%|          | 0/13877 [00:00<?, ?it/s]"
      ]
     },
     "metadata": {},
     "output_type": "display_data"
    },
    {
     "data": {
      "application/vnd.jupyter.widget-view+json": {
       "model_id": "f46a7646b34941e49a232519891b9997",
       "version_major": 2,
       "version_minor": 0
      },
      "text/plain": [
       "timesteps:   0%|          | 0/13877 [00:00<?, ?it/s]"
      ]
     },
     "metadata": {},
     "output_type": "display_data"
    },
    {
     "data": {
      "application/vnd.jupyter.widget-view+json": {
       "model_id": "625ad71c223d494082a77e5aab92e3e0",
       "version_major": 2,
       "version_minor": 0
      },
      "text/plain": [
       "timesteps:   0%|          | 0/13877 [00:00<?, ?it/s]"
      ]
     },
     "metadata": {},
     "output_type": "display_data"
    },
    {
     "data": {
      "application/vnd.jupyter.widget-view+json": {
       "model_id": "78c76f817b4b4767b155e69b73d92009",
       "version_major": 2,
       "version_minor": 0
      },
      "text/plain": [
       "timesteps:   0%|          | 0/13877 [00:00<?, ?it/s]"
      ]
     },
     "metadata": {},
     "output_type": "display_data"
    },
    {
     "data": {
      "application/vnd.jupyter.widget-view+json": {
       "model_id": "3efee1ea225947668c2c7fd84b07cd79",
       "version_major": 2,
       "version_minor": 0
      },
      "text/plain": [
       "timesteps:   0%|          | 0/13877 [00:00<?, ?it/s]"
      ]
     },
     "metadata": {},
     "output_type": "display_data"
    },
    {
     "data": {
      "application/vnd.jupyter.widget-view+json": {
       "model_id": "49b8fa241ae749ff8dd7d750a4d1dd6d",
       "version_major": 2,
       "version_minor": 0
      },
      "text/plain": [
       "timesteps:   0%|          | 0/13877 [00:00<?, ?it/s]"
      ]
     },
     "metadata": {},
     "output_type": "display_data"
    },
    {
     "data": {
      "application/vnd.jupyter.widget-view+json": {
       "model_id": "8fc7644cee724de08742ffd7e00529aa",
       "version_major": 2,
       "version_minor": 0
      },
      "text/plain": [
       "timesteps:   0%|          | 0/13877 [00:00<?, ?it/s]"
      ]
     },
     "metadata": {},
     "output_type": "display_data"
    },
    {
     "data": {
      "application/vnd.jupyter.widget-view+json": {
       "model_id": "f57709e9044c48559dd97153e34f25f4",
       "version_major": 2,
       "version_minor": 0
      },
      "text/plain": [
       "timesteps:   0%|          | 0/13877 [00:00<?, ?it/s]"
      ]
     },
     "metadata": {},
     "output_type": "display_data"
    },
    {
     "name": "stdout",
     "output_type": "stream",
     "text": [
      "1009 of 1000, minimal objective function=0.267574, time remaining: 23:59:57\n",
      "Skipping saving\n",
      "Skipping saving\n",
      "Skipping saving\n",
      "Skipping saving\n",
      "Skipping saving\n",
      "Skipping saving\n",
      "Skipping saving\n",
      "Skipping saving\n",
      "Skipping saving\n",
      "Skipping saving\n",
      "Skipping saving\n"
     ]
    },
    {
     "data": {
      "application/vnd.jupyter.widget-view+json": {
       "model_id": "328beda8e65e443dae759deafd6d088d",
       "version_major": 2,
       "version_minor": 0
      },
      "text/plain": [
       "timesteps:   0%|          | 0/13877 [00:00<?, ?it/s]"
      ]
     },
     "metadata": {},
     "output_type": "display_data"
    },
    {
     "data": {
      "application/vnd.jupyter.widget-view+json": {
       "model_id": "3c0926af60634a7aadb8a941ca5f34df",
       "version_major": 2,
       "version_minor": 0
      },
      "text/plain": [
       "timesteps:   0%|          | 0/13877 [00:00<?, ?it/s]"
      ]
     },
     "metadata": {},
     "output_type": "display_data"
    },
    {
     "data": {
      "application/vnd.jupyter.widget-view+json": {
       "model_id": "e66aa1e32ade4b3eaf2222ec2e9b0a88",
       "version_major": 2,
       "version_minor": 0
      },
      "text/plain": [
       "timesteps:   0%|          | 0/13877 [00:00<?, ?it/s]"
      ]
     },
     "metadata": {},
     "output_type": "display_data"
    },
    {
     "data": {
      "application/vnd.jupyter.widget-view+json": {
       "model_id": "7c6e0924888445749c4528a54b433bee",
       "version_major": 2,
       "version_minor": 0
      },
      "text/plain": [
       "timesteps:   0%|          | 0/13877 [00:00<?, ?it/s]"
      ]
     },
     "metadata": {},
     "output_type": "display_data"
    },
    {
     "data": {
      "application/vnd.jupyter.widget-view+json": {
       "model_id": "da1522e717c449c782fffb2951e28c1d",
       "version_major": 2,
       "version_minor": 0
      },
      "text/plain": [
       "timesteps:   0%|          | 0/13877 [00:00<?, ?it/s]"
      ]
     },
     "metadata": {},
     "output_type": "display_data"
    },
    {
     "data": {
      "application/vnd.jupyter.widget-view+json": {
       "model_id": "4f42e6cb2a9a4f339208ae8b97aea2eb",
       "version_major": 2,
       "version_minor": 0
      },
      "text/plain": [
       "timesteps:   0%|          | 0/13877 [00:00<?, ?it/s]"
      ]
     },
     "metadata": {},
     "output_type": "display_data"
    },
    {
     "data": {
      "application/vnd.jupyter.widget-view+json": {
       "model_id": "89e74b2fbc9248f485c7dba5b3f7b9a4",
       "version_major": 2,
       "version_minor": 0
      },
      "text/plain": [
       "timesteps:   0%|          | 0/13877 [00:00<?, ?it/s]"
      ]
     },
     "metadata": {},
     "output_type": "display_data"
    },
    {
     "data": {
      "application/vnd.jupyter.widget-view+json": {
       "model_id": "7671ecad9f9e4e8b9e75798fd66c86b6",
       "version_major": 2,
       "version_minor": 0
      },
      "text/plain": [
       "timesteps:   0%|          | 0/13877 [00:00<?, ?it/s]"
      ]
     },
     "metadata": {},
     "output_type": "display_data"
    },
    {
     "data": {
      "application/vnd.jupyter.widget-view+json": {
       "model_id": "56cc139b6aff41918caaae7b7eb62e18",
       "version_major": 2,
       "version_minor": 0
      },
      "text/plain": [
       "timesteps:   0%|          | 0/13877 [00:00<?, ?it/s]"
      ]
     },
     "metadata": {},
     "output_type": "display_data"
    },
    {
     "data": {
      "application/vnd.jupyter.widget-view+json": {
       "model_id": "92ab11aff7164d0897645703613a4696",
       "version_major": 2,
       "version_minor": 0
      },
      "text/plain": [
       "timesteps:   0%|          | 0/13877 [00:00<?, ?it/s]"
      ]
     },
     "metadata": {},
     "output_type": "display_data"
    },
    {
     "data": {
      "application/vnd.jupyter.widget-view+json": {
       "model_id": "44ca8db62f0f48ba9c51bcc783f32818",
       "version_major": 2,
       "version_minor": 0
      },
      "text/plain": [
       "timesteps:   0%|          | 0/13877 [00:00<?, ?it/s]"
      ]
     },
     "metadata": {},
     "output_type": "display_data"
    },
    {
     "data": {
      "application/vnd.jupyter.widget-view+json": {
       "model_id": "8719ef8fcfc34106aac4c624df970921",
       "version_major": 2,
       "version_minor": 0
      },
      "text/plain": [
       "timesteps:   0%|          | 0/13877 [00:00<?, ?it/s]"
      ]
     },
     "metadata": {},
     "output_type": "display_data"
    },
    {
     "data": {
      "application/vnd.jupyter.widget-view+json": {
       "model_id": "b8c4b1920cb5423f8bbb747fc98f0207",
       "version_major": 2,
       "version_minor": 0
      },
      "text/plain": [
       "timesteps:   0%|          | 0/13877 [00:00<?, ?it/s]"
      ]
     },
     "metadata": {},
     "output_type": "display_data"
    },
    {
     "data": {
      "application/vnd.jupyter.widget-view+json": {
       "model_id": "b40cfbb423374d36ba26490a01f49853",
       "version_major": 2,
       "version_minor": 0
      },
      "text/plain": [
       "timesteps:   0%|          | 0/13877 [00:00<?, ?it/s]"
      ]
     },
     "metadata": {},
     "output_type": "display_data"
    },
    {
     "data": {
      "application/vnd.jupyter.widget-view+json": {
       "model_id": "6437c5ccf0b54d939eb3a2920c47fe65",
       "version_major": 2,
       "version_minor": 0
      },
      "text/plain": [
       "timesteps:   0%|          | 0/13877 [00:00<?, ?it/s]"
      ]
     },
     "metadata": {},
     "output_type": "display_data"
    },
    {
     "data": {
      "application/vnd.jupyter.widget-view+json": {
       "model_id": "74db5a44026f4a9abd48c88b955ac3ed",
       "version_major": 2,
       "version_minor": 0
      },
      "text/plain": [
       "timesteps:   0%|          | 0/13877 [00:00<?, ?it/s]"
      ]
     },
     "metadata": {},
     "output_type": "display_data"
    },
    {
     "data": {
      "application/vnd.jupyter.widget-view+json": {
       "model_id": "96d3dd5fe1f74447a170b839912d1040",
       "version_major": 2,
       "version_minor": 0
      },
      "text/plain": [
       "timesteps:   0%|          | 0/13877 [00:00<?, ?it/s]"
      ]
     },
     "metadata": {},
     "output_type": "display_data"
    },
    {
     "data": {
      "application/vnd.jupyter.widget-view+json": {
       "model_id": "3b2d440579594014bacbe6424e490772",
       "version_major": 2,
       "version_minor": 0
      },
      "text/plain": [
       "timesteps:   0%|          | 0/13877 [00:00<?, ?it/s]"
      ]
     },
     "metadata": {},
     "output_type": "display_data"
    },
    {
     "data": {
      "application/vnd.jupyter.widget-view+json": {
       "model_id": "b3fb034997d04dac8dd6cbcd77d5b3c1",
       "version_major": 2,
       "version_minor": 0
      },
      "text/plain": [
       "timesteps:   0%|          | 0/13877 [00:00<?, ?it/s]"
      ]
     },
     "metadata": {},
     "output_type": "display_data"
    },
    {
     "name": "stdout",
     "output_type": "stream",
     "text": [
      "1039 of 1000, minimal objective function=0.267574, time remaining: 23:59:48\n",
      "Skipping saving\n",
      "Skipping saving\n",
      "Skipping saving\n",
      "Skipping saving\n",
      "Skipping saving\n",
      "Skipping saving\n",
      "Skipping saving\n",
      "Skipping saving\n",
      "Skipping saving\n",
      "Skipping saving\n",
      "Skipping saving\n"
     ]
    },
    {
     "data": {
      "application/vnd.jupyter.widget-view+json": {
       "model_id": "4c33f35def874eada54e67b4868e6825",
       "version_major": 2,
       "version_minor": 0
      },
      "text/plain": [
       "timesteps:   0%|          | 0/13877 [00:00<?, ?it/s]"
      ]
     },
     "metadata": {},
     "output_type": "display_data"
    },
    {
     "data": {
      "application/vnd.jupyter.widget-view+json": {
       "model_id": "d73775dfb18040f79507164bc19ae1d5",
       "version_major": 2,
       "version_minor": 0
      },
      "text/plain": [
       "timesteps:   0%|          | 0/13877 [00:00<?, ?it/s]"
      ]
     },
     "metadata": {},
     "output_type": "display_data"
    },
    {
     "data": {
      "application/vnd.jupyter.widget-view+json": {
       "model_id": "f2d8bd22440a4ba8b1d102a2d40a256f",
       "version_major": 2,
       "version_minor": 0
      },
      "text/plain": [
       "timesteps:   0%|          | 0/13877 [00:00<?, ?it/s]"
      ]
     },
     "metadata": {},
     "output_type": "display_data"
    },
    {
     "data": {
      "application/vnd.jupyter.widget-view+json": {
       "model_id": "c781fe93c3224fbbb33e78ed4442ca89",
       "version_major": 2,
       "version_minor": 0
      },
      "text/plain": [
       "timesteps:   0%|          | 0/13877 [00:00<?, ?it/s]"
      ]
     },
     "metadata": {},
     "output_type": "display_data"
    },
    {
     "data": {
      "application/vnd.jupyter.widget-view+json": {
       "model_id": "b608802752b34532b5c02bb384b61556",
       "version_major": 2,
       "version_minor": 0
      },
      "text/plain": [
       "timesteps:   0%|          | 0/13877 [00:00<?, ?it/s]"
      ]
     },
     "metadata": {},
     "output_type": "display_data"
    },
    {
     "data": {
      "application/vnd.jupyter.widget-view+json": {
       "model_id": "4b7b0ac5d56340c3bfae8f41b5d45695",
       "version_major": 2,
       "version_minor": 0
      },
      "text/plain": [
       "timesteps:   0%|          | 0/13877 [00:00<?, ?it/s]"
      ]
     },
     "metadata": {},
     "output_type": "display_data"
    },
    {
     "data": {
      "application/vnd.jupyter.widget-view+json": {
       "model_id": "07cfb6e121eb4d44b38124f0c3fdc100",
       "version_major": 2,
       "version_minor": 0
      },
      "text/plain": [
       "timesteps:   0%|          | 0/13877 [00:00<?, ?it/s]"
      ]
     },
     "metadata": {},
     "output_type": "display_data"
    },
    {
     "data": {
      "application/vnd.jupyter.widget-view+json": {
       "model_id": "662fcd9179a1405b82255d94fe48ad70",
       "version_major": 2,
       "version_minor": 0
      },
      "text/plain": [
       "timesteps:   0%|          | 0/13877 [00:00<?, ?it/s]"
      ]
     },
     "metadata": {},
     "output_type": "display_data"
    },
    {
     "data": {
      "application/vnd.jupyter.widget-view+json": {
       "model_id": "0f1898b8acb14eb7909b7e49abbd837a",
       "version_major": 2,
       "version_minor": 0
      },
      "text/plain": [
       "timesteps:   0%|          | 0/13877 [00:00<?, ?it/s]"
      ]
     },
     "metadata": {},
     "output_type": "display_data"
    },
    {
     "data": {
      "application/vnd.jupyter.widget-view+json": {
       "model_id": "b74d33a7b9cc4dac9740c82a836f8b68",
       "version_major": 2,
       "version_minor": 0
      },
      "text/plain": [
       "timesteps:   0%|          | 0/13877 [00:00<?, ?it/s]"
      ]
     },
     "metadata": {},
     "output_type": "display_data"
    },
    {
     "data": {
      "application/vnd.jupyter.widget-view+json": {
       "model_id": "a1ce8525cdb04b9190aaf70493003e6e",
       "version_major": 2,
       "version_minor": 0
      },
      "text/plain": [
       "timesteps:   0%|          | 0/13877 [00:00<?, ?it/s]"
      ]
     },
     "metadata": {},
     "output_type": "display_data"
    },
    {
     "data": {
      "application/vnd.jupyter.widget-view+json": {
       "model_id": "ba264dac8a2843c5afb2760ee397145a",
       "version_major": 2,
       "version_minor": 0
      },
      "text/plain": [
       "timesteps:   0%|          | 0/13877 [00:00<?, ?it/s]"
      ]
     },
     "metadata": {},
     "output_type": "display_data"
    },
    {
     "data": {
      "application/vnd.jupyter.widget-view+json": {
       "model_id": "bb640c88ffee4ad2bd26f9fb1feb1beb",
       "version_major": 2,
       "version_minor": 0
      },
      "text/plain": [
       "timesteps:   0%|          | 0/13877 [00:00<?, ?it/s]"
      ]
     },
     "metadata": {},
     "output_type": "display_data"
    },
    {
     "data": {
      "application/vnd.jupyter.widget-view+json": {
       "model_id": "cf4b1335efcd4a3db320a43c576713ce",
       "version_major": 2,
       "version_minor": 0
      },
      "text/plain": [
       "timesteps:   0%|          | 0/13877 [00:00<?, ?it/s]"
      ]
     },
     "metadata": {},
     "output_type": "display_data"
    },
    {
     "data": {
      "application/vnd.jupyter.widget-view+json": {
       "model_id": "e79b0145ad1d4a4db57de47dc29af997",
       "version_major": 2,
       "version_minor": 0
      },
      "text/plain": [
       "timesteps:   0%|          | 0/13877 [00:00<?, ?it/s]"
      ]
     },
     "metadata": {},
     "output_type": "display_data"
    },
    {
     "name": "stdout",
     "output_type": "stream",
     "text": [
      "1065 of 1000, minimal objective function=0.267273, time remaining: 23:59:40\n",
      "Skipping saving\n",
      "Skipping saving\n",
      "Skipping saving\n",
      "Skipping saving\n",
      "Skipping saving\n",
      "Skipping saving\n",
      "Skipping saving\n",
      "Skipping saving\n",
      "Skipping saving\n",
      "Skipping saving\n",
      "Skipping saving\n"
     ]
    },
    {
     "data": {
      "application/vnd.jupyter.widget-view+json": {
       "model_id": "9abd4ab8231e4817ba20c5c1ff9c8f66",
       "version_major": 2,
       "version_minor": 0
      },
      "text/plain": [
       "timesteps:   0%|          | 0/13877 [00:00<?, ?it/s]"
      ]
     },
     "metadata": {},
     "output_type": "display_data"
    },
    {
     "data": {
      "application/vnd.jupyter.widget-view+json": {
       "model_id": "5538692d00c2480c8a1a594a2605748a",
       "version_major": 2,
       "version_minor": 0
      },
      "text/plain": [
       "timesteps:   0%|          | 0/13877 [00:00<?, ?it/s]"
      ]
     },
     "metadata": {},
     "output_type": "display_data"
    },
    {
     "data": {
      "application/vnd.jupyter.widget-view+json": {
       "model_id": "6a56da460a6046539fb8300aff10a572",
       "version_major": 2,
       "version_minor": 0
      },
      "text/plain": [
       "timesteps:   0%|          | 0/13877 [00:00<?, ?it/s]"
      ]
     },
     "metadata": {},
     "output_type": "display_data"
    },
    {
     "data": {
      "application/vnd.jupyter.widget-view+json": {
       "model_id": "bc30d2edb73949b5ac7d42b3f01f5c0b",
       "version_major": 2,
       "version_minor": 0
      },
      "text/plain": [
       "timesteps:   0%|          | 0/13877 [00:00<?, ?it/s]"
      ]
     },
     "metadata": {},
     "output_type": "display_data"
    },
    {
     "data": {
      "application/vnd.jupyter.widget-view+json": {
       "model_id": "e4007b8e5abc450a95022b6739274fe2",
       "version_major": 2,
       "version_minor": 0
      },
      "text/plain": [
       "timesteps:   0%|          | 0/13877 [00:00<?, ?it/s]"
      ]
     },
     "metadata": {},
     "output_type": "display_data"
    },
    {
     "data": {
      "application/vnd.jupyter.widget-view+json": {
       "model_id": "ebd91e262d8e45969d47e23bbc0ac400",
       "version_major": 2,
       "version_minor": 0
      },
      "text/plain": [
       "timesteps:   0%|          | 0/13877 [00:00<?, ?it/s]"
      ]
     },
     "metadata": {},
     "output_type": "display_data"
    },
    {
     "data": {
      "application/vnd.jupyter.widget-view+json": {
       "model_id": "8eea431778f74967af5602e2036ea0d2",
       "version_major": 2,
       "version_minor": 0
      },
      "text/plain": [
       "timesteps:   0%|          | 0/13877 [00:00<?, ?it/s]"
      ]
     },
     "metadata": {},
     "output_type": "display_data"
    },
    {
     "data": {
      "application/vnd.jupyter.widget-view+json": {
       "model_id": "00aca22346a64840b5f612e623018196",
       "version_major": 2,
       "version_minor": 0
      },
      "text/plain": [
       "timesteps:   0%|          | 0/13877 [00:00<?, ?it/s]"
      ]
     },
     "metadata": {},
     "output_type": "display_data"
    },
    {
     "data": {
      "application/vnd.jupyter.widget-view+json": {
       "model_id": "ca5d1eab2b20495398a3e0f3c85211b6",
       "version_major": 2,
       "version_minor": 0
      },
      "text/plain": [
       "timesteps:   0%|          | 0/13877 [00:00<?, ?it/s]"
      ]
     },
     "metadata": {},
     "output_type": "display_data"
    },
    {
     "data": {
      "application/vnd.jupyter.widget-view+json": {
       "model_id": "d890e6c5b98743df87790d968c581330",
       "version_major": 2,
       "version_minor": 0
      },
      "text/plain": [
       "timesteps:   0%|          | 0/13877 [00:00<?, ?it/s]"
      ]
     },
     "metadata": {},
     "output_type": "display_data"
    },
    {
     "data": {
      "application/vnd.jupyter.widget-view+json": {
       "model_id": "b7adee9c8fcc44198e82dea964679ad2",
       "version_major": 2,
       "version_minor": 0
      },
      "text/plain": [
       "timesteps:   0%|          | 0/13877 [00:00<?, ?it/s]"
      ]
     },
     "metadata": {},
     "output_type": "display_data"
    },
    {
     "data": {
      "application/vnd.jupyter.widget-view+json": {
       "model_id": "7a8da122b25f452cbc67ab5a57e4e46b",
       "version_major": 2,
       "version_minor": 0
      },
      "text/plain": [
       "timesteps:   0%|          | 0/13877 [00:00<?, ?it/s]"
      ]
     },
     "metadata": {},
     "output_type": "display_data"
    },
    {
     "data": {
      "application/vnd.jupyter.widget-view+json": {
       "model_id": "73227ca0bf28446f93858c95943a859c",
       "version_major": 2,
       "version_minor": 0
      },
      "text/plain": [
       "timesteps:   0%|          | 0/13877 [00:00<?, ?it/s]"
      ]
     },
     "metadata": {},
     "output_type": "display_data"
    },
    {
     "data": {
      "application/vnd.jupyter.widget-view+json": {
       "model_id": "3ebfff8759c94d48a5b7e9a58f827245",
       "version_major": 2,
       "version_minor": 0
      },
      "text/plain": [
       "timesteps:   0%|          | 0/13877 [00:00<?, ?it/s]"
      ]
     },
     "metadata": {},
     "output_type": "display_data"
    },
    {
     "data": {
      "application/vnd.jupyter.widget-view+json": {
       "model_id": "e0f0bda2836a477ab46308066ca31d12",
       "version_major": 2,
       "version_minor": 0
      },
      "text/plain": [
       "timesteps:   0%|          | 0/13877 [00:00<?, ?it/s]"
      ]
     },
     "metadata": {},
     "output_type": "display_data"
    },
    {
     "data": {
      "application/vnd.jupyter.widget-view+json": {
       "model_id": "fcef5319a77540dba5ac601f47aa732d",
       "version_major": 2,
       "version_minor": 0
      },
      "text/plain": [
       "timesteps:   0%|          | 0/13877 [00:00<?, ?it/s]"
      ]
     },
     "metadata": {},
     "output_type": "display_data"
    },
    {
     "data": {
      "application/vnd.jupyter.widget-view+json": {
       "model_id": "dd7e45e6fadd409ba0cb7930af8a23f3",
       "version_major": 2,
       "version_minor": 0
      },
      "text/plain": [
       "timesteps:   0%|          | 0/13877 [00:00<?, ?it/s]"
      ]
     },
     "metadata": {},
     "output_type": "display_data"
    },
    {
     "data": {
      "application/vnd.jupyter.widget-view+json": {
       "model_id": "bda1df7854e34467ba5ceed48ee65530",
       "version_major": 2,
       "version_minor": 0
      },
      "text/plain": [
       "timesteps:   0%|          | 0/13877 [00:00<?, ?it/s]"
      ]
     },
     "metadata": {},
     "output_type": "display_data"
    },
    {
     "data": {
      "application/vnd.jupyter.widget-view+json": {
       "model_id": "4b6d48244d494212ad8ef0bd30544a19",
       "version_major": 2,
       "version_minor": 0
      },
      "text/plain": [
       "timesteps:   0%|          | 0/13877 [00:00<?, ?it/s]"
      ]
     },
     "metadata": {},
     "output_type": "display_data"
    },
    {
     "name": "stderr",
     "output_type": "stream",
     "text": [
      "2025-05-08 13:54:02 | INFO | __main__ | Calibration of reservoir 355 successfully finished\n",
      "INFO: 3828140465.<module>(): Calibration of reservoir 355 successfully finished\n"
     ]
    },
    {
     "name": "stdout",
     "output_type": "stream",
     "text": [
      "1095 of 1000, minimal objective function=0.267273, time remaining: 23:59:31\n",
      "Skipping saving\n",
      "Skipping saving\n",
      "Skipping saving\n",
      "Skipping saving\n",
      "Skipping saving\n",
      "Skipping saving\n",
      "Skipping saving\n",
      "Skipping saving\n",
      "Skipping saving\n",
      "Skipping saving\n",
      "Skipping saving\n",
      "*** OPTIMIZATION SEARCH TERMINATED BECAUSE THE LIMIT\n",
      "ON THE MAXIMUM NUMBER OF TRIALS \n",
      "1000\n",
      "HAS BEEN EXCEEDED.\n",
      "SEARCH WAS STOPPED AT TRIAL NUMBER: 1105\n",
      "NUMBER OF DISCARDED TRIALS: 44\n",
      "NORMALIZED GEOMETRIC RANGE = 0.386922\n",
      "THE BEST POINT HAS IMPROVED IN LAST 3 LOOPS BY 0.291686 PERCENT\n",
      "\n",
      "*** Final SPOTPY summary ***\n",
      "Total Duration: 334.94 seconds\n",
      "Total Repetitions: 1105\n",
      "Minimal objective value: 0.267273\n",
      "Corresponding parameter setting:\n",
      "alpha: 0.735194\n",
      "beta: 0.149829\n",
      "gamma: 0.440126\n",
      "delta: 0.156748\n",
      "epsilon: 0.384142\n",
      "******************************\n",
      "\n"
     ]
    },
    {
     "data": {
      "application/vnd.jupyter.widget-view+json": {
       "model_id": "e35536b790af44958aefbf15cf4c185b",
       "version_major": 2,
       "version_minor": 0
      },
      "text/plain": [
       "timesteps:   0%|          | 0/13877 [00:00<?, ?it/s]"
      ]
     },
     "metadata": {},
     "output_type": "display_data"
    },
    {
     "name": "stderr",
     "output_type": "stream",
     "text": [
      "2025-05-08 13:54:02 | INFO | __main__ | Simulation of the calibrated reservoir 355 successfully finished\n",
      "INFO: 3828140465.<module>(): Simulation of the calibrated reservoir 355 successfully finished\n",
      "2025-05-08 13:54:02 | INFO | __main__ | Performance of reservoir 355 has been computed\n",
      "INFO: 3828140465.<module>(): Performance of reservoir 355 has been computed\n",
      "2025-05-08 13:54:03 | INFO | __main__ | Scatter plot of simulation from reservoir 355\n",
      "INFO: 3828140465.<module>(): Scatter plot of simulation from reservoir 355\n",
      "2025-05-08 13:54:04 | INFO | __main__ | Line plot of simulation from reservoir 355\n",
      "INFO: 3828140465.<module>(): Line plot of simulation from reservoir 355\n",
      "simulating reservoir:  40%|████████████████████████▍                                    | 2/5 [08:43<13:45, 275.21s/it]2025-05-08 13:54:04 | INFO | __main__ | Calibrating reservoir 517\n",
      "INFO: 3828140465.<module>(): Calibrating reservoir 517\n"
     ]
    },
    {
     "name": "stdout",
     "output_type": "stream",
     "text": [
      "Initializing the  Shuffled Complex Evolution (SCE-UA) algorithm  with  1000  repetitions\n",
      "The objective function will be minimized\n",
      "Starting burn-in sampling...\n"
     ]
    },
    {
     "data": {
      "application/vnd.jupyter.widget-view+json": {
       "model_id": "af17fa4b858a4a3a80a35c6f66010894",
       "version_major": 2,
       "version_minor": 0
      },
      "text/plain": [
       "timesteps:   0%|          | 0/9013 [00:00<?, ?it/s]"
      ]
     },
     "metadata": {},
     "output_type": "display_data"
    },
    {
     "name": "stdout",
     "output_type": "stream",
     "text": [
      "Initialize database...\n",
      "['csv', 'hdf5', 'ram', 'sql', 'custom', 'noData']\n",
      "* Database file 'Z:\\nahaUsers\\casadje\\datasets\\reservoirs\\ResOpsUS\\v2.0\\test\\no_meteo\\camaflood\\calibration\\bivariate/517_samples.csv' created.\n"
     ]
    },
    {
     "data": {
      "application/vnd.jupyter.widget-view+json": {
       "model_id": "3e7c69b804ad481aa4f9fefede7deb8a",
       "version_major": 2,
       "version_minor": 0
      },
      "text/plain": [
       "timesteps:   0%|          | 0/9013 [00:00<?, ?it/s]"
      ]
     },
     "metadata": {},
     "output_type": "display_data"
    },
    {
     "name": "stderr",
     "output_type": "stream",
     "text": [
      "WARNING: camaflood.step(): The simulated outflow was negative (-0.000000 m3/s). Limitted to 0\n"
     ]
    },
    {
     "data": {
      "application/vnd.jupyter.widget-view+json": {
       "model_id": "67d6aae54565440f9f4518bdb7338703",
       "version_major": 2,
       "version_minor": 0
      },
      "text/plain": [
       "timesteps:   0%|          | 0/9013 [00:00<?, ?it/s]"
      ]
     },
     "metadata": {},
     "output_type": "display_data"
    },
    {
     "name": "stderr",
     "output_type": "stream",
     "text": [
      "WARNING: camaflood.step(): The simulated outflow was negative (-0.000000 m3/s). Limitted to 0\n"
     ]
    },
    {
     "data": {
      "application/vnd.jupyter.widget-view+json": {
       "model_id": "52902533361d450e9ca6d790046bfa8f",
       "version_major": 2,
       "version_minor": 0
      },
      "text/plain": [
       "timesteps:   0%|          | 0/9013 [00:00<?, ?it/s]"
      ]
     },
     "metadata": {},
     "output_type": "display_data"
    },
    {
     "data": {
      "application/vnd.jupyter.widget-view+json": {
       "model_id": "a0a470a683f8463aabfce31c8f8e9e9d",
       "version_major": 2,
       "version_minor": 0
      },
      "text/plain": [
       "timesteps:   0%|          | 0/9013 [00:00<?, ?it/s]"
      ]
     },
     "metadata": {},
     "output_type": "display_data"
    },
    {
     "name": "stderr",
     "output_type": "stream",
     "text": [
      "WARNING: camaflood.step(): The simulated outflow was negative (-0.000000 m3/s). Limitted to 0\n"
     ]
    },
    {
     "data": {
      "application/vnd.jupyter.widget-view+json": {
       "model_id": "c46717baf4b04f32ae5aec6ebb77c5bf",
       "version_major": 2,
       "version_minor": 0
      },
      "text/plain": [
       "timesteps:   0%|          | 0/9013 [00:00<?, ?it/s]"
      ]
     },
     "metadata": {},
     "output_type": "display_data"
    },
    {
     "name": "stderr",
     "output_type": "stream",
     "text": [
      "WARNING: camaflood.step(): The simulated outflow was negative (-0.000000 m3/s). Limitted to 0\n"
     ]
    },
    {
     "data": {
      "application/vnd.jupyter.widget-view+json": {
       "model_id": "9f7a970b840342999dbc9a674dbf7102",
       "version_major": 2,
       "version_minor": 0
      },
      "text/plain": [
       "timesteps:   0%|          | 0/9013 [00:00<?, ?it/s]"
      ]
     },
     "metadata": {},
     "output_type": "display_data"
    },
    {
     "name": "stdout",
     "output_type": "stream",
     "text": [
      "7 of 1000, minimal objective function=0.756926, time remaining: 00:04:23\n"
     ]
    },
    {
     "data": {
      "application/vnd.jupyter.widget-view+json": {
       "model_id": "9ee101544dd64fe2b860590af67452be",
       "version_major": 2,
       "version_minor": 0
      },
      "text/plain": [
       "timesteps:   0%|          | 0/9013 [00:00<?, ?it/s]"
      ]
     },
     "metadata": {},
     "output_type": "display_data"
    },
    {
     "name": "stderr",
     "output_type": "stream",
     "text": [
      "WARNING: camaflood.step(): The simulated outflow was negative (-0.000000 m3/s). Limitted to 0\n"
     ]
    },
    {
     "data": {
      "application/vnd.jupyter.widget-view+json": {
       "model_id": "da92e26994714f77a5631acbaf6ac25c",
       "version_major": 2,
       "version_minor": 0
      },
      "text/plain": [
       "timesteps:   0%|          | 0/9013 [00:00<?, ?it/s]"
      ]
     },
     "metadata": {},
     "output_type": "display_data"
    },
    {
     "name": "stderr",
     "output_type": "stream",
     "text": [
      "WARNING: camaflood.step(): The simulated outflow was negative (-0.000000 m3/s). Limitted to 0\n"
     ]
    },
    {
     "data": {
      "application/vnd.jupyter.widget-view+json": {
       "model_id": "24e7cf3b9c0b45fb949ec79ae05c7e6d",
       "version_major": 2,
       "version_minor": 0
      },
      "text/plain": [
       "timesteps:   0%|          | 0/9013 [00:00<?, ?it/s]"
      ]
     },
     "metadata": {},
     "output_type": "display_data"
    },
    {
     "data": {
      "application/vnd.jupyter.widget-view+json": {
       "model_id": "8e7555a5e24a4494acbcea318e31414b",
       "version_major": 2,
       "version_minor": 0
      },
      "text/plain": [
       "timesteps:   0%|          | 0/9013 [00:00<?, ?it/s]"
      ]
     },
     "metadata": {},
     "output_type": "display_data"
    },
    {
     "name": "stderr",
     "output_type": "stream",
     "text": [
      "WARNING: camaflood.step(): The simulated outflow was negative (-0.000000 m3/s). Limitted to 0\n"
     ]
    },
    {
     "data": {
      "application/vnd.jupyter.widget-view+json": {
       "model_id": "9fbd2bde153045f19949eb82bb1a97c0",
       "version_major": 2,
       "version_minor": 0
      },
      "text/plain": [
       "timesteps:   0%|          | 0/9013 [00:00<?, ?it/s]"
      ]
     },
     "metadata": {},
     "output_type": "display_data"
    },
    {
     "data": {
      "application/vnd.jupyter.widget-view+json": {
       "model_id": "04aab22e6bb041a7bfb0e447d1797574",
       "version_major": 2,
       "version_minor": 0
      },
      "text/plain": [
       "timesteps:   0%|          | 0/9013 [00:00<?, ?it/s]"
      ]
     },
     "metadata": {},
     "output_type": "display_data"
    },
    {
     "name": "stderr",
     "output_type": "stream",
     "text": [
      "WARNING: camaflood.step(): The simulated outflow was negative (-0.000000 m3/s). Limitted to 0\n"
     ]
    },
    {
     "data": {
      "application/vnd.jupyter.widget-view+json": {
       "model_id": "221049f483704fd7a8c78a19462db919",
       "version_major": 2,
       "version_minor": 0
      },
      "text/plain": [
       "timesteps:   0%|          | 0/9013 [00:00<?, ?it/s]"
      ]
     },
     "metadata": {},
     "output_type": "display_data"
    },
    {
     "name": "stdout",
     "output_type": "stream",
     "text": [
      "14 of 1000, minimal objective function=0.515573, time remaining: 00:04:46\n"
     ]
    },
    {
     "data": {
      "application/vnd.jupyter.widget-view+json": {
       "model_id": "de5afe142f1d4d0aa3ed9aa38c7b98d5",
       "version_major": 2,
       "version_minor": 0
      },
      "text/plain": [
       "timesteps:   0%|          | 0/9013 [00:00<?, ?it/s]"
      ]
     },
     "metadata": {},
     "output_type": "display_data"
    },
    {
     "name": "stderr",
     "output_type": "stream",
     "text": [
      "WARNING: camaflood.step(): The simulated outflow was negative (-0.000000 m3/s). Limitted to 0\n",
      "WARNING: camaflood.step(): The simulated outflow was negative (-0.000000 m3/s). Limitted to 0\n"
     ]
    },
    {
     "data": {
      "application/vnd.jupyter.widget-view+json": {
       "model_id": "c7b50d3ad8db48279d6571f90707a7c3",
       "version_major": 2,
       "version_minor": 0
      },
      "text/plain": [
       "timesteps:   0%|          | 0/9013 [00:00<?, ?it/s]"
      ]
     },
     "metadata": {},
     "output_type": "display_data"
    },
    {
     "data": {
      "application/vnd.jupyter.widget-view+json": {
       "model_id": "f2363e093eb54a5bbd47c4d2aca19af2",
       "version_major": 2,
       "version_minor": 0
      },
      "text/plain": [
       "timesteps:   0%|          | 0/9013 [00:00<?, ?it/s]"
      ]
     },
     "metadata": {},
     "output_type": "display_data"
    },
    {
     "data": {
      "application/vnd.jupyter.widget-view+json": {
       "model_id": "40946a00dab44d209f963e2fa2fb8a83",
       "version_major": 2,
       "version_minor": 0
      },
      "text/plain": [
       "timesteps:   0%|          | 0/9013 [00:00<?, ?it/s]"
      ]
     },
     "metadata": {},
     "output_type": "display_data"
    },
    {
     "name": "stderr",
     "output_type": "stream",
     "text": [
      "WARNING: camaflood.step(): The simulated outflow was negative (-0.000000 m3/s). Limitted to 0\n",
      "WARNING: camaflood.step(): The simulated outflow was negative (-0.000000 m3/s). Limitted to 0\n"
     ]
    },
    {
     "data": {
      "application/vnd.jupyter.widget-view+json": {
       "model_id": "7f272fad402a443b9748283b11ba657d",
       "version_major": 2,
       "version_minor": 0
      },
      "text/plain": [
       "timesteps:   0%|          | 0/9013 [00:00<?, ?it/s]"
      ]
     },
     "metadata": {},
     "output_type": "display_data"
    },
    {
     "data": {
      "application/vnd.jupyter.widget-view+json": {
       "model_id": "53ecbdee83de4baea6e93ac9fc269613",
       "version_major": 2,
       "version_minor": 0
      },
      "text/plain": [
       "timesteps:   0%|          | 0/9013 [00:00<?, ?it/s]"
      ]
     },
     "metadata": {},
     "output_type": "display_data"
    },
    {
     "data": {
      "application/vnd.jupyter.widget-view+json": {
       "model_id": "0c9dd0657ace4e9db8b32363bf2b4936",
       "version_major": 2,
       "version_minor": 0
      },
      "text/plain": [
       "timesteps:   0%|          | 0/9013 [00:00<?, ?it/s]"
      ]
     },
     "metadata": {},
     "output_type": "display_data"
    },
    {
     "name": "stderr",
     "output_type": "stream",
     "text": [
      "WARNING: camaflood.step(): The simulated outflow was negative (-0.000000 m3/s). Limitted to 0\n"
     ]
    },
    {
     "name": "stdout",
     "output_type": "stream",
     "text": [
      "21 of 1000, minimal objective function=0.515573, time remaining: 00:04:49\n"
     ]
    },
    {
     "data": {
      "application/vnd.jupyter.widget-view+json": {
       "model_id": "856435ca479d423586caa395bc1e5bcb",
       "version_major": 2,
       "version_minor": 0
      },
      "text/plain": [
       "timesteps:   0%|          | 0/9013 [00:00<?, ?it/s]"
      ]
     },
     "metadata": {},
     "output_type": "display_data"
    },
    {
     "data": {
      "application/vnd.jupyter.widget-view+json": {
       "model_id": "d66a591522ea4a48b051ca09f2d27183",
       "version_major": 2,
       "version_minor": 0
      },
      "text/plain": [
       "timesteps:   0%|          | 0/9013 [00:00<?, ?it/s]"
      ]
     },
     "metadata": {},
     "output_type": "display_data"
    },
    {
     "data": {
      "application/vnd.jupyter.widget-view+json": {
       "model_id": "98661375b14841f9b2bf79dd37bf9352",
       "version_major": 2,
       "version_minor": 0
      },
      "text/plain": [
       "timesteps:   0%|          | 0/9013 [00:00<?, ?it/s]"
      ]
     },
     "metadata": {},
     "output_type": "display_data"
    },
    {
     "name": "stderr",
     "output_type": "stream",
     "text": [
      "WARNING: camaflood.step(): The simulated outflow was negative (-0.000000 m3/s). Limitted to 0\n"
     ]
    },
    {
     "data": {
      "application/vnd.jupyter.widget-view+json": {
       "model_id": "bfd1b0f7b7bd42cfa7fd8711e7b66cf8",
       "version_major": 2,
       "version_minor": 0
      },
      "text/plain": [
       "timesteps:   0%|          | 0/9013 [00:00<?, ?it/s]"
      ]
     },
     "metadata": {},
     "output_type": "display_data"
    },
    {
     "data": {
      "application/vnd.jupyter.widget-view+json": {
       "model_id": "c29731a3151f48609d43f5d9721840e1",
       "version_major": 2,
       "version_minor": 0
      },
      "text/plain": [
       "timesteps:   0%|          | 0/9013 [00:00<?, ?it/s]"
      ]
     },
     "metadata": {},
     "output_type": "display_data"
    },
    {
     "data": {
      "application/vnd.jupyter.widget-view+json": {
       "model_id": "683ac8cfd4164899af2e1e012fb47b22",
       "version_major": 2,
       "version_minor": 0
      },
      "text/plain": [
       "timesteps:   0%|          | 0/9013 [00:00<?, ?it/s]"
      ]
     },
     "metadata": {},
     "output_type": "display_data"
    },
    {
     "data": {
      "application/vnd.jupyter.widget-view+json": {
       "model_id": "ec619c47889f4c9ab81a3f7b5896505e",
       "version_major": 2,
       "version_minor": 0
      },
      "text/plain": [
       "timesteps:   0%|          | 0/9013 [00:00<?, ?it/s]"
      ]
     },
     "metadata": {},
     "output_type": "display_data"
    },
    {
     "name": "stderr",
     "output_type": "stream",
     "text": [
      "WARNING: camaflood.step(): The simulated outflow was negative (-0.000000 m3/s). Limitted to 0\n"
     ]
    },
    {
     "name": "stdout",
     "output_type": "stream",
     "text": [
      "28 of 1000, minimal objective function=0.515573, time remaining: 00:04:51\n"
     ]
    },
    {
     "data": {
      "application/vnd.jupyter.widget-view+json": {
       "model_id": "b8eeef4ea1e5458da0c0a59d1b24c4d0",
       "version_major": 2,
       "version_minor": 0
      },
      "text/plain": [
       "timesteps:   0%|          | 0/9013 [00:00<?, ?it/s]"
      ]
     },
     "metadata": {},
     "output_type": "display_data"
    },
    {
     "data": {
      "application/vnd.jupyter.widget-view+json": {
       "model_id": "bc05b2b002bf4c1c9670a40519bc3a0d",
       "version_major": 2,
       "version_minor": 0
      },
      "text/plain": [
       "timesteps:   0%|          | 0/9013 [00:00<?, ?it/s]"
      ]
     },
     "metadata": {},
     "output_type": "display_data"
    },
    {
     "data": {
      "application/vnd.jupyter.widget-view+json": {
       "model_id": "34643d90e96140609ad5a33a009f2510",
       "version_major": 2,
       "version_minor": 0
      },
      "text/plain": [
       "timesteps:   0%|          | 0/9013 [00:00<?, ?it/s]"
      ]
     },
     "metadata": {},
     "output_type": "display_data"
    },
    {
     "data": {
      "application/vnd.jupyter.widget-view+json": {
       "model_id": "bb39759ebf0d43fa8d650e172be6e5c1",
       "version_major": 2,
       "version_minor": 0
      },
      "text/plain": [
       "timesteps:   0%|          | 0/9013 [00:00<?, ?it/s]"
      ]
     },
     "metadata": {},
     "output_type": "display_data"
    },
    {
     "data": {
      "application/vnd.jupyter.widget-view+json": {
       "model_id": "b5da4bb974bf440297dc13cd6520289e",
       "version_major": 2,
       "version_minor": 0
      },
      "text/plain": [
       "timesteps:   0%|          | 0/9013 [00:00<?, ?it/s]"
      ]
     },
     "metadata": {},
     "output_type": "display_data"
    },
    {
     "data": {
      "application/vnd.jupyter.widget-view+json": {
       "model_id": "e74a1cf75f714f90983b27196e5d339a",
       "version_major": 2,
       "version_minor": 0
      },
      "text/plain": [
       "timesteps:   0%|          | 0/9013 [00:00<?, ?it/s]"
      ]
     },
     "metadata": {},
     "output_type": "display_data"
    },
    {
     "name": "stderr",
     "output_type": "stream",
     "text": [
      "WARNING: camaflood.step(): The simulated outflow was negative (-0.000000 m3/s). Limitted to 0\n"
     ]
    },
    {
     "data": {
      "application/vnd.jupyter.widget-view+json": {
       "model_id": "d1482ad9a3ce42bc87d276f264527456",
       "version_major": 2,
       "version_minor": 0
      },
      "text/plain": [
       "timesteps:   0%|          | 0/9013 [00:00<?, ?it/s]"
      ]
     },
     "metadata": {},
     "output_type": "display_data"
    },
    {
     "name": "stderr",
     "output_type": "stream",
     "text": [
      "WARNING: camaflood.step(): The simulated outflow was negative (-0.000000 m3/s). Limitted to 0\n",
      "WARNING: camaflood.step(): The simulated outflow was negative (-0.000000 m3/s). Limitted to 0\n"
     ]
    },
    {
     "name": "stdout",
     "output_type": "stream",
     "text": [
      "35 of 1000, minimal objective function=0.515573, time remaining: 00:04:53\n"
     ]
    },
    {
     "data": {
      "application/vnd.jupyter.widget-view+json": {
       "model_id": "46280cab2d0b410daada4354ea9fdb4a",
       "version_major": 2,
       "version_minor": 0
      },
      "text/plain": [
       "timesteps:   0%|          | 0/9013 [00:00<?, ?it/s]"
      ]
     },
     "metadata": {},
     "output_type": "display_data"
    },
    {
     "data": {
      "application/vnd.jupyter.widget-view+json": {
       "model_id": "147b58a2fc794d088cca9c87438a69d4",
       "version_major": 2,
       "version_minor": 0
      },
      "text/plain": [
       "timesteps:   0%|          | 0/9013 [00:00<?, ?it/s]"
      ]
     },
     "metadata": {},
     "output_type": "display_data"
    },
    {
     "data": {
      "application/vnd.jupyter.widget-view+json": {
       "model_id": "c37e577f668b4a52870bcc620b56f20b",
       "version_major": 2,
       "version_minor": 0
      },
      "text/plain": [
       "timesteps:   0%|          | 0/9013 [00:00<?, ?it/s]"
      ]
     },
     "metadata": {},
     "output_type": "display_data"
    },
    {
     "data": {
      "application/vnd.jupyter.widget-view+json": {
       "model_id": "81e450076b7648258c1979200c86b0ea",
       "version_major": 2,
       "version_minor": 0
      },
      "text/plain": [
       "timesteps:   0%|          | 0/9013 [00:00<?, ?it/s]"
      ]
     },
     "metadata": {},
     "output_type": "display_data"
    },
    {
     "data": {
      "application/vnd.jupyter.widget-view+json": {
       "model_id": "0a08c0b90f9b4f06bc987ff37197df9a",
       "version_major": 2,
       "version_minor": 0
      },
      "text/plain": [
       "timesteps:   0%|          | 0/9013 [00:00<?, ?it/s]"
      ]
     },
     "metadata": {},
     "output_type": "display_data"
    },
    {
     "data": {
      "application/vnd.jupyter.widget-view+json": {
       "model_id": "13a32180bfa74412b25f2fc78ae82aa2",
       "version_major": 2,
       "version_minor": 0
      },
      "text/plain": [
       "timesteps:   0%|          | 0/9013 [00:00<?, ?it/s]"
      ]
     },
     "metadata": {},
     "output_type": "display_data"
    },
    {
     "name": "stderr",
     "output_type": "stream",
     "text": [
      "WARNING: camaflood.step(): The simulated outflow was negative (-0.000000 m3/s). Limitted to 0\n"
     ]
    },
    {
     "data": {
      "application/vnd.jupyter.widget-view+json": {
       "model_id": "ae0e7e1a301543c38c0d0c009231aa1d",
       "version_major": 2,
       "version_minor": 0
      },
      "text/plain": [
       "timesteps:   0%|          | 0/9013 [00:00<?, ?it/s]"
      ]
     },
     "metadata": {},
     "output_type": "display_data"
    },
    {
     "name": "stdout",
     "output_type": "stream",
     "text": [
      "42 of 1000, minimal objective function=0.515573, time remaining: 00:04:51\n"
     ]
    },
    {
     "data": {
      "application/vnd.jupyter.widget-view+json": {
       "model_id": "18fc1bc248804ce88bd2fb340e668434",
       "version_major": 2,
       "version_minor": 0
      },
      "text/plain": [
       "timesteps:   0%|          | 0/9013 [00:00<?, ?it/s]"
      ]
     },
     "metadata": {},
     "output_type": "display_data"
    },
    {
     "data": {
      "application/vnd.jupyter.widget-view+json": {
       "model_id": "c5894a213a184413a86ffd2af5210936",
       "version_major": 2,
       "version_minor": 0
      },
      "text/plain": [
       "timesteps:   0%|          | 0/9013 [00:00<?, ?it/s]"
      ]
     },
     "metadata": {},
     "output_type": "display_data"
    },
    {
     "name": "stdout",
     "output_type": "stream",
     "text": [
      "Burn-in sampling completed...\n",
      "Starting Complex Evolution...\n",
      "ComplexEvo loop #1 in progress...\n"
     ]
    },
    {
     "data": {
      "application/vnd.jupyter.widget-view+json": {
       "model_id": "6cebb1ea2f2a47f092f800072f853cdc",
       "version_major": 2,
       "version_minor": 0
      },
      "text/plain": [
       "timesteps:   0%|          | 0/9013 [00:00<?, ?it/s]"
      ]
     },
     "metadata": {},
     "output_type": "display_data"
    },
    {
     "data": {
      "application/vnd.jupyter.widget-view+json": {
       "model_id": "34889872fa41448db5a43116cc9f1815",
       "version_major": 2,
       "version_minor": 0
      },
      "text/plain": [
       "timesteps:   0%|          | 0/9013 [00:00<?, ?it/s]"
      ]
     },
     "metadata": {},
     "output_type": "display_data"
    },
    {
     "name": "stderr",
     "output_type": "stream",
     "text": [
      "WARNING: camaflood.step(): The simulated outflow was negative (-0.000000 m3/s). Limitted to 0\n"
     ]
    },
    {
     "data": {
      "application/vnd.jupyter.widget-view+json": {
       "model_id": "4b6b5877c8744c3bbc1f6ba18be2dec9",
       "version_major": 2,
       "version_minor": 0
      },
      "text/plain": [
       "timesteps:   0%|          | 0/9013 [00:00<?, ?it/s]"
      ]
     },
     "metadata": {},
     "output_type": "display_data"
    },
    {
     "data": {
      "application/vnd.jupyter.widget-view+json": {
       "model_id": "c6571c70ccfa4002a37edc46a091a1b3",
       "version_major": 2,
       "version_minor": 0
      },
      "text/plain": [
       "timesteps:   0%|          | 0/9013 [00:00<?, ?it/s]"
      ]
     },
     "metadata": {},
     "output_type": "display_data"
    },
    {
     "name": "stderr",
     "output_type": "stream",
     "text": [
      "WARNING: camaflood.step(): The simulated outflow was negative (-0.000000 m3/s). Limitted to 0\n"
     ]
    },
    {
     "data": {
      "application/vnd.jupyter.widget-view+json": {
       "model_id": "5173c3f7e63d44ed9f09dd63e0bb4ed9",
       "version_major": 2,
       "version_minor": 0
      },
      "text/plain": [
       "timesteps:   0%|          | 0/9013 [00:00<?, ?it/s]"
      ]
     },
     "metadata": {},
     "output_type": "display_data"
    },
    {
     "data": {
      "application/vnd.jupyter.widget-view+json": {
       "model_id": "12f0cb4d9f73446a98b3f1391b02b55c",
       "version_major": 2,
       "version_minor": 0
      },
      "text/plain": [
       "timesteps:   0%|          | 0/9013 [00:00<?, ?it/s]"
      ]
     },
     "metadata": {},
     "output_type": "display_data"
    },
    {
     "data": {
      "application/vnd.jupyter.widget-view+json": {
       "model_id": "472424df2a2f4363a114653831a5a4b1",
       "version_major": 2,
       "version_minor": 0
      },
      "text/plain": [
       "timesteps:   0%|          | 0/9013 [00:00<?, ?it/s]"
      ]
     },
     "metadata": {},
     "output_type": "display_data"
    },
    {
     "name": "stderr",
     "output_type": "stream",
     "text": [
      "WARNING: camaflood.step(): The simulated outflow was negative (-0.000000 m3/s). Limitted to 0\n"
     ]
    },
    {
     "data": {
      "application/vnd.jupyter.widget-view+json": {
       "model_id": "2d577cf0547d4d71a59b2c434e4916a6",
       "version_major": 2,
       "version_minor": 0
      },
      "text/plain": [
       "timesteps:   0%|          | 0/9013 [00:00<?, ?it/s]"
      ]
     },
     "metadata": {},
     "output_type": "display_data"
    },
    {
     "name": "stderr",
     "output_type": "stream",
     "text": [
      "WARNING: camaflood.step(): The simulated outflow was negative (-0.000000 m3/s). Limitted to 0\n"
     ]
    },
    {
     "data": {
      "application/vnd.jupyter.widget-view+json": {
       "model_id": "6fa6efae64b14ba9bef12b4b87e0ec06",
       "version_major": 2,
       "version_minor": 0
      },
      "text/plain": [
       "timesteps:   0%|          | 0/9013 [00:00<?, ?it/s]"
      ]
     },
     "metadata": {},
     "output_type": "display_data"
    },
    {
     "data": {
      "application/vnd.jupyter.widget-view+json": {
       "model_id": "0a4df08d7f62431982505a7e084e7017",
       "version_major": 2,
       "version_minor": 0
      },
      "text/plain": [
       "timesteps:   0%|          | 0/9013 [00:00<?, ?it/s]"
      ]
     },
     "metadata": {},
     "output_type": "display_data"
    },
    {
     "data": {
      "application/vnd.jupyter.widget-view+json": {
       "model_id": "f746196549704df99fa4554d2d66101d",
       "version_major": 2,
       "version_minor": 0
      },
      "text/plain": [
       "timesteps:   0%|          | 0/9013 [00:00<?, ?it/s]"
      ]
     },
     "metadata": {},
     "output_type": "display_data"
    },
    {
     "data": {
      "application/vnd.jupyter.widget-view+json": {
       "model_id": "678f76775da943c19003d9e4d088e592",
       "version_major": 2,
       "version_minor": 0
      },
      "text/plain": [
       "timesteps:   0%|          | 0/9013 [00:00<?, ?it/s]"
      ]
     },
     "metadata": {},
     "output_type": "display_data"
    },
    {
     "data": {
      "application/vnd.jupyter.widget-view+json": {
       "model_id": "d9c667dc8672482a9f22d8933a7c9e2f",
       "version_major": 2,
       "version_minor": 0
      },
      "text/plain": [
       "timesteps:   0%|          | 0/9013 [00:00<?, ?it/s]"
      ]
     },
     "metadata": {},
     "output_type": "display_data"
    },
    {
     "data": {
      "application/vnd.jupyter.widget-view+json": {
       "model_id": "0bc438189bdb430a902ea683603a7ba1",
       "version_major": 2,
       "version_minor": 0
      },
      "text/plain": [
       "timesteps:   0%|          | 0/9013 [00:00<?, ?it/s]"
      ]
     },
     "metadata": {},
     "output_type": "display_data"
    },
    {
     "data": {
      "application/vnd.jupyter.widget-view+json": {
       "model_id": "bf1208e289a343028f128059d321d70a",
       "version_major": 2,
       "version_minor": 0
      },
      "text/plain": [
       "timesteps:   0%|          | 0/9013 [00:00<?, ?it/s]"
      ]
     },
     "metadata": {},
     "output_type": "display_data"
    },
    {
     "data": {
      "application/vnd.jupyter.widget-view+json": {
       "model_id": "0c2ea8a553454685bed031a04c3f3834",
       "version_major": 2,
       "version_minor": 0
      },
      "text/plain": [
       "timesteps:   0%|          | 0/9013 [00:00<?, ?it/s]"
      ]
     },
     "metadata": {},
     "output_type": "display_data"
    },
    {
     "data": {
      "application/vnd.jupyter.widget-view+json": {
       "model_id": "3bd851f75c944a4fae778bd32cc83c27",
       "version_major": 2,
       "version_minor": 0
      },
      "text/plain": [
       "timesteps:   0%|          | 0/9013 [00:00<?, ?it/s]"
      ]
     },
     "metadata": {},
     "output_type": "display_data"
    },
    {
     "name": "stderr",
     "output_type": "stream",
     "text": [
      "WARNING: camaflood.step(): The simulated outflow was negative (-0.000000 m3/s). Limitted to 0\n",
      "WARNING: camaflood.step(): The simulated outflow was negative (-0.000000 m3/s). Limitted to 0\n"
     ]
    },
    {
     "data": {
      "application/vnd.jupyter.widget-view+json": {
       "model_id": "1817c62683a043238206cf3bf6c5d5a8",
       "version_major": 2,
       "version_minor": 0
      },
      "text/plain": [
       "timesteps:   0%|          | 0/9013 [00:00<?, ?it/s]"
      ]
     },
     "metadata": {},
     "output_type": "display_data"
    },
    {
     "name": "stdout",
     "output_type": "stream",
     "text": [
      "63 of 1000, minimal objective function=0.515573, time remaining: 00:04:41\n"
     ]
    },
    {
     "data": {
      "application/vnd.jupyter.widget-view+json": {
       "model_id": "216d536466294a82a0d103d6eebfe6cf",
       "version_major": 2,
       "version_minor": 0
      },
      "text/plain": [
       "timesteps:   0%|          | 0/9013 [00:00<?, ?it/s]"
      ]
     },
     "metadata": {},
     "output_type": "display_data"
    },
    {
     "data": {
      "application/vnd.jupyter.widget-view+json": {
       "model_id": "694493e6b2f44c53b45a70fbb155a36b",
       "version_major": 2,
       "version_minor": 0
      },
      "text/plain": [
       "timesteps:   0%|          | 0/9013 [00:00<?, ?it/s]"
      ]
     },
     "metadata": {},
     "output_type": "display_data"
    },
    {
     "data": {
      "application/vnd.jupyter.widget-view+json": {
       "model_id": "11b7256bfd664ffea4ed52f8c5e9ba4e",
       "version_major": 2,
       "version_minor": 0
      },
      "text/plain": [
       "timesteps:   0%|          | 0/9013 [00:00<?, ?it/s]"
      ]
     },
     "metadata": {},
     "output_type": "display_data"
    },
    {
     "name": "stderr",
     "output_type": "stream",
     "text": [
      "WARNING: camaflood.step(): The simulated outflow was negative (-0.000000 m3/s). Limitted to 0\n",
      "WARNING: camaflood.step(): The simulated outflow was negative (-0.000000 m3/s). Limitted to 0\n"
     ]
    },
    {
     "data": {
      "application/vnd.jupyter.widget-view+json": {
       "model_id": "f23bc84f77654ca581052315dc0667ab",
       "version_major": 2,
       "version_minor": 0
      },
      "text/plain": [
       "timesteps:   0%|          | 0/9013 [00:00<?, ?it/s]"
      ]
     },
     "metadata": {},
     "output_type": "display_data"
    },
    {
     "data": {
      "application/vnd.jupyter.widget-view+json": {
       "model_id": "ed38517c52b44273aecc9934f64c2a93",
       "version_major": 2,
       "version_minor": 0
      },
      "text/plain": [
       "timesteps:   0%|          | 0/9013 [00:00<?, ?it/s]"
      ]
     },
     "metadata": {},
     "output_type": "display_data"
    },
    {
     "data": {
      "application/vnd.jupyter.widget-view+json": {
       "model_id": "9d3f7cabd3084ca182948463700e2288",
       "version_major": 2,
       "version_minor": 0
      },
      "text/plain": [
       "timesteps:   0%|          | 0/9013 [00:00<?, ?it/s]"
      ]
     },
     "metadata": {},
     "output_type": "display_data"
    },
    {
     "data": {
      "application/vnd.jupyter.widget-view+json": {
       "model_id": "38dafe7fc8384a4faa72bf64585ac8a4",
       "version_major": 2,
       "version_minor": 0
      },
      "text/plain": [
       "timesteps:   0%|          | 0/9013 [00:00<?, ?it/s]"
      ]
     },
     "metadata": {},
     "output_type": "display_data"
    },
    {
     "data": {
      "application/vnd.jupyter.widget-view+json": {
       "model_id": "46583a27581e47a6a8029018d10f349e",
       "version_major": 2,
       "version_minor": 0
      },
      "text/plain": [
       "timesteps:   0%|          | 0/9013 [00:00<?, ?it/s]"
      ]
     },
     "metadata": {},
     "output_type": "display_data"
    },
    {
     "name": "stderr",
     "output_type": "stream",
     "text": [
      "WARNING: camaflood.step(): The simulated outflow was negative (-0.000000 m3/s). Limitted to 0\n"
     ]
    },
    {
     "data": {
      "application/vnd.jupyter.widget-view+json": {
       "model_id": "2eac9978453e429684caea1def548a8d",
       "version_major": 2,
       "version_minor": 0
      },
      "text/plain": [
       "timesteps:   0%|          | 0/9013 [00:00<?, ?it/s]"
      ]
     },
     "metadata": {},
     "output_type": "display_data"
    },
    {
     "data": {
      "application/vnd.jupyter.widget-view+json": {
       "model_id": "e3844ed3405f4f738c3f3e1509f55ac3",
       "version_major": 2,
       "version_minor": 0
      },
      "text/plain": [
       "timesteps:   0%|          | 0/9013 [00:00<?, ?it/s]"
      ]
     },
     "metadata": {},
     "output_type": "display_data"
    },
    {
     "name": "stderr",
     "output_type": "stream",
     "text": [
      "WARNING: camaflood.step(): The simulated outflow was negative (-0.000000 m3/s). Limitted to 0\n"
     ]
    },
    {
     "data": {
      "application/vnd.jupyter.widget-view+json": {
       "model_id": "fe4e3242a8f84bc18dd53330834a2298",
       "version_major": 2,
       "version_minor": 0
      },
      "text/plain": [
       "timesteps:   0%|          | 0/9013 [00:00<?, ?it/s]"
      ]
     },
     "metadata": {},
     "output_type": "display_data"
    },
    {
     "name": "stderr",
     "output_type": "stream",
     "text": [
      "WARNING: camaflood.step(): The simulated outflow was negative (-0.000000 m3/s). Limitted to 0\n"
     ]
    },
    {
     "data": {
      "application/vnd.jupyter.widget-view+json": {
       "model_id": "619cca3ae6ea42009d2c37cb67df9b7d",
       "version_major": 2,
       "version_minor": 0
      },
      "text/plain": [
       "timesteps:   0%|          | 0/9013 [00:00<?, ?it/s]"
      ]
     },
     "metadata": {},
     "output_type": "display_data"
    },
    {
     "name": "stderr",
     "output_type": "stream",
     "text": [
      "WARNING: camaflood.step(): The simulated outflow was negative (-0.000000 m3/s). Limitted to 0\n"
     ]
    },
    {
     "data": {
      "application/vnd.jupyter.widget-view+json": {
       "model_id": "09d5a93ba1b448b4bdda4a1de3ddfe6c",
       "version_major": 2,
       "version_minor": 0
      },
      "text/plain": [
       "timesteps:   0%|          | 0/9013 [00:00<?, ?it/s]"
      ]
     },
     "metadata": {},
     "output_type": "display_data"
    },
    {
     "data": {
      "application/vnd.jupyter.widget-view+json": {
       "model_id": "b12fe4e02542437680c075c9f8235f39",
       "version_major": 2,
       "version_minor": 0
      },
      "text/plain": [
       "timesteps:   0%|          | 0/9013 [00:00<?, ?it/s]"
      ]
     },
     "metadata": {},
     "output_type": "display_data"
    },
    {
     "name": "stdout",
     "output_type": "stream",
     "text": [
      "88 of 1000, minimal objective function=0.515573, time remaining: 00:04:01\n"
     ]
    },
    {
     "data": {
      "application/vnd.jupyter.widget-view+json": {
       "model_id": "50461efe9ee245dd951a695236d59cac",
       "version_major": 2,
       "version_minor": 0
      },
      "text/plain": [
       "timesteps:   0%|          | 0/9013 [00:00<?, ?it/s]"
      ]
     },
     "metadata": {},
     "output_type": "display_data"
    },
    {
     "data": {
      "application/vnd.jupyter.widget-view+json": {
       "model_id": "455783ecd0454b79b9121f3890cfc2a9",
       "version_major": 2,
       "version_minor": 0
      },
      "text/plain": [
       "timesteps:   0%|          | 0/9013 [00:00<?, ?it/s]"
      ]
     },
     "metadata": {},
     "output_type": "display_data"
    },
    {
     "name": "stderr",
     "output_type": "stream",
     "text": [
      "WARNING: camaflood.step(): The simulated outflow was negative (-0.000000 m3/s). Limitted to 0\n"
     ]
    },
    {
     "data": {
      "application/vnd.jupyter.widget-view+json": {
       "model_id": "ab33b318525645e481f20c8a40d4da08",
       "version_major": 2,
       "version_minor": 0
      },
      "text/plain": [
       "timesteps:   0%|          | 0/9013 [00:00<?, ?it/s]"
      ]
     },
     "metadata": {},
     "output_type": "display_data"
    },
    {
     "data": {
      "application/vnd.jupyter.widget-view+json": {
       "model_id": "2be30b74cfdf40508df0d0e55076b08f",
       "version_major": 2,
       "version_minor": 0
      },
      "text/plain": [
       "timesteps:   0%|          | 0/9013 [00:00<?, ?it/s]"
      ]
     },
     "metadata": {},
     "output_type": "display_data"
    },
    {
     "data": {
      "application/vnd.jupyter.widget-view+json": {
       "model_id": "d7f67a760d9f4133b661af54954c8990",
       "version_major": 2,
       "version_minor": 0
      },
      "text/plain": [
       "timesteps:   0%|          | 0/9013 [00:00<?, ?it/s]"
      ]
     },
     "metadata": {},
     "output_type": "display_data"
    },
    {
     "name": "stderr",
     "output_type": "stream",
     "text": [
      "WARNING: camaflood.step(): The simulated outflow was negative (-0.000000 m3/s). Limitted to 0\n"
     ]
    },
    {
     "data": {
      "application/vnd.jupyter.widget-view+json": {
       "model_id": "fc8098fbd454426d9c87c7f629c94c50",
       "version_major": 2,
       "version_minor": 0
      },
      "text/plain": [
       "timesteps:   0%|          | 0/9013 [00:00<?, ?it/s]"
      ]
     },
     "metadata": {},
     "output_type": "display_data"
    },
    {
     "data": {
      "application/vnd.jupyter.widget-view+json": {
       "model_id": "11018774bbe64960b202838625be9df1",
       "version_major": 2,
       "version_minor": 0
      },
      "text/plain": [
       "timesteps:   0%|          | 0/9013 [00:00<?, ?it/s]"
      ]
     },
     "metadata": {},
     "output_type": "display_data"
    },
    {
     "data": {
      "application/vnd.jupyter.widget-view+json": {
       "model_id": "21f35eda9bcd4f328a8c86aefd079df8",
       "version_major": 2,
       "version_minor": 0
      },
      "text/plain": [
       "timesteps:   0%|          | 0/9013 [00:00<?, ?it/s]"
      ]
     },
     "metadata": {},
     "output_type": "display_data"
    },
    {
     "data": {
      "application/vnd.jupyter.widget-view+json": {
       "model_id": "66acf17782204a1a9a9c273227476309",
       "version_major": 2,
       "version_minor": 0
      },
      "text/plain": [
       "timesteps:   0%|          | 0/9013 [00:00<?, ?it/s]"
      ]
     },
     "metadata": {},
     "output_type": "display_data"
    },
    {
     "name": "stderr",
     "output_type": "stream",
     "text": [
      "WARNING: camaflood.step(): The simulated outflow was negative (-0.000000 m3/s). Limitted to 0\n"
     ]
    },
    {
     "data": {
      "application/vnd.jupyter.widget-view+json": {
       "model_id": "4a52eb4f7d744a2aaf3fa405a5f9f769",
       "version_major": 2,
       "version_minor": 0
      },
      "text/plain": [
       "timesteps:   0%|          | 0/9013 [00:00<?, ?it/s]"
      ]
     },
     "metadata": {},
     "output_type": "display_data"
    },
    {
     "data": {
      "application/vnd.jupyter.widget-view+json": {
       "model_id": "337e2c4e85644e6cb7e4e5da516e6d93",
       "version_major": 2,
       "version_minor": 0
      },
      "text/plain": [
       "timesteps:   0%|          | 0/9013 [00:00<?, ?it/s]"
      ]
     },
     "metadata": {},
     "output_type": "display_data"
    },
    {
     "data": {
      "application/vnd.jupyter.widget-view+json": {
       "model_id": "c95eb12472e14be5b42250e44a64725a",
       "version_major": 2,
       "version_minor": 0
      },
      "text/plain": [
       "timesteps:   0%|          | 0/9013 [00:00<?, ?it/s]"
      ]
     },
     "metadata": {},
     "output_type": "display_data"
    },
    {
     "name": "stderr",
     "output_type": "stream",
     "text": [
      "WARNING: camaflood.step(): The simulated outflow was negative (-0.000000 m3/s). Limitted to 0\n"
     ]
    },
    {
     "data": {
      "application/vnd.jupyter.widget-view+json": {
       "model_id": "cfd47e12632f4606a5d724e2220aa5c9",
       "version_major": 2,
       "version_minor": 0
      },
      "text/plain": [
       "timesteps:   0%|          | 0/9013 [00:00<?, ?it/s]"
      ]
     },
     "metadata": {},
     "output_type": "display_data"
    },
    {
     "data": {
      "application/vnd.jupyter.widget-view+json": {
       "model_id": "3938be221b074a578f9bfa37a0be922e",
       "version_major": 2,
       "version_minor": 0
      },
      "text/plain": [
       "timesteps:   0%|          | 0/9013 [00:00<?, ?it/s]"
      ]
     },
     "metadata": {},
     "output_type": "display_data"
    },
    {
     "name": "stderr",
     "output_type": "stream",
     "text": [
      "WARNING: camaflood.step(): The simulated outflow was negative (-0.000000 m3/s). Limitted to 0\n"
     ]
    },
    {
     "name": "stdout",
     "output_type": "stream",
     "text": [
      "113 of 1000, minimal objective function=0.515573, time remaining: 00:03:37\n"
     ]
    },
    {
     "data": {
      "application/vnd.jupyter.widget-view+json": {
       "model_id": "ee2fc1a5c22a4829a500cc0af0e001fa",
       "version_major": 2,
       "version_minor": 0
      },
      "text/plain": [
       "timesteps:   0%|          | 0/9013 [00:00<?, ?it/s]"
      ]
     },
     "metadata": {},
     "output_type": "display_data"
    },
    {
     "data": {
      "application/vnd.jupyter.widget-view+json": {
       "model_id": "cad84319087a40c8bc04c838cbaebcee",
       "version_major": 2,
       "version_minor": 0
      },
      "text/plain": [
       "timesteps:   0%|          | 0/9013 [00:00<?, ?it/s]"
      ]
     },
     "metadata": {},
     "output_type": "display_data"
    },
    {
     "name": "stderr",
     "output_type": "stream",
     "text": [
      "WARNING: camaflood.step(): The simulated outflow was negative (-0.000000 m3/s). Limitted to 0\n",
      "WARNING: camaflood.step(): The simulated outflow was negative (-0.000000 m3/s). Limitted to 0\n"
     ]
    },
    {
     "data": {
      "application/vnd.jupyter.widget-view+json": {
       "model_id": "34eb971ceee7444e8497ce7423dabdb1",
       "version_major": 2,
       "version_minor": 0
      },
      "text/plain": [
       "timesteps:   0%|          | 0/9013 [00:00<?, ?it/s]"
      ]
     },
     "metadata": {},
     "output_type": "display_data"
    },
    {
     "name": "stderr",
     "output_type": "stream",
     "text": [
      "WARNING: camaflood.step(): The simulated outflow was negative (-0.000000 m3/s). Limitted to 0\n"
     ]
    },
    {
     "data": {
      "application/vnd.jupyter.widget-view+json": {
       "model_id": "95aaedef7f0f4db3ad128065fbaed40b",
       "version_major": 2,
       "version_minor": 0
      },
      "text/plain": [
       "timesteps:   0%|          | 0/9013 [00:00<?, ?it/s]"
      ]
     },
     "metadata": {},
     "output_type": "display_data"
    },
    {
     "data": {
      "application/vnd.jupyter.widget-view+json": {
       "model_id": "aa3243af5bab46bf95639bf3337c8ebc",
       "version_major": 2,
       "version_minor": 0
      },
      "text/plain": [
       "timesteps:   0%|          | 0/9013 [00:00<?, ?it/s]"
      ]
     },
     "metadata": {},
     "output_type": "display_data"
    },
    {
     "data": {
      "application/vnd.jupyter.widget-view+json": {
       "model_id": "d695b4c3489e496aba98efea235008e2",
       "version_major": 2,
       "version_minor": 0
      },
      "text/plain": [
       "timesteps:   0%|          | 0/9013 [00:00<?, ?it/s]"
      ]
     },
     "metadata": {},
     "output_type": "display_data"
    },
    {
     "data": {
      "application/vnd.jupyter.widget-view+json": {
       "model_id": "05827606844f43df906c7c5e877667e0",
       "version_major": 2,
       "version_minor": 0
      },
      "text/plain": [
       "timesteps:   0%|          | 0/9013 [00:00<?, ?it/s]"
      ]
     },
     "metadata": {},
     "output_type": "display_data"
    },
    {
     "data": {
      "application/vnd.jupyter.widget-view+json": {
       "model_id": "c0f7bcc33f8745f1a35b7df1322c7d78",
       "version_major": 2,
       "version_minor": 0
      },
      "text/plain": [
       "timesteps:   0%|          | 0/9013 [00:00<?, ?it/s]"
      ]
     },
     "metadata": {},
     "output_type": "display_data"
    },
    {
     "data": {
      "application/vnd.jupyter.widget-view+json": {
       "model_id": "1a3b40b8da454b53b04ae6fd5b2521b1",
       "version_major": 2,
       "version_minor": 0
      },
      "text/plain": [
       "timesteps:   0%|          | 0/9013 [00:00<?, ?it/s]"
      ]
     },
     "metadata": {},
     "output_type": "display_data"
    },
    {
     "data": {
      "application/vnd.jupyter.widget-view+json": {
       "model_id": "77288b3e6e13453da95a82d1c1a17ad7",
       "version_major": 2,
       "version_minor": 0
      },
      "text/plain": [
       "timesteps:   0%|          | 0/9013 [00:00<?, ?it/s]"
      ]
     },
     "metadata": {},
     "output_type": "display_data"
    },
    {
     "data": {
      "application/vnd.jupyter.widget-view+json": {
       "model_id": "d189de9eb03b4702ba1c013f94969d42",
       "version_major": 2,
       "version_minor": 0
      },
      "text/plain": [
       "timesteps:   0%|          | 0/9013 [00:00<?, ?it/s]"
      ]
     },
     "metadata": {},
     "output_type": "display_data"
    },
    {
     "data": {
      "application/vnd.jupyter.widget-view+json": {
       "model_id": "dfb597824bf540018b57fef7b014906e",
       "version_major": 2,
       "version_minor": 0
      },
      "text/plain": [
       "timesteps:   0%|          | 0/9013 [00:00<?, ?it/s]"
      ]
     },
     "metadata": {},
     "output_type": "display_data"
    },
    {
     "data": {
      "application/vnd.jupyter.widget-view+json": {
       "model_id": "4cd3ae79b07c4fbb9f3feda6eaf4013c",
       "version_major": 2,
       "version_minor": 0
      },
      "text/plain": [
       "timesteps:   0%|          | 0/9013 [00:00<?, ?it/s]"
      ]
     },
     "metadata": {},
     "output_type": "display_data"
    },
    {
     "name": "stderr",
     "output_type": "stream",
     "text": [
      "WARNING: camaflood.step(): The simulated outflow was negative (-0.000000 m3/s). Limitted to 0\n"
     ]
    },
    {
     "data": {
      "application/vnd.jupyter.widget-view+json": {
       "model_id": "d23d7447d42f4af7ad80bfd8ad0df85d",
       "version_major": 2,
       "version_minor": 0
      },
      "text/plain": [
       "timesteps:   0%|          | 0/9013 [00:00<?, ?it/s]"
      ]
     },
     "metadata": {},
     "output_type": "display_data"
    },
    {
     "name": "stdout",
     "output_type": "stream",
     "text": [
      "138 of 1000, minimal objective function=0.515573, time remaining: 00:03:20\n",
      "ComplexEvo loop #2 in progress...\n"
     ]
    },
    {
     "data": {
      "application/vnd.jupyter.widget-view+json": {
       "model_id": "54b49322bf534f3ea72b1fc55d71dc64",
       "version_major": 2,
       "version_minor": 0
      },
      "text/plain": [
       "timesteps:   0%|          | 0/9013 [00:00<?, ?it/s]"
      ]
     },
     "metadata": {},
     "output_type": "display_data"
    },
    {
     "data": {
      "application/vnd.jupyter.widget-view+json": {
       "model_id": "438c96c2c1ab4261b2a23bbc47d00736",
       "version_major": 2,
       "version_minor": 0
      },
      "text/plain": [
       "timesteps:   0%|          | 0/9013 [00:00<?, ?it/s]"
      ]
     },
     "metadata": {},
     "output_type": "display_data"
    },
    {
     "data": {
      "application/vnd.jupyter.widget-view+json": {
       "model_id": "5bff6791db6842a1817a7d486417fddd",
       "version_major": 2,
       "version_minor": 0
      },
      "text/plain": [
       "timesteps:   0%|          | 0/9013 [00:00<?, ?it/s]"
      ]
     },
     "metadata": {},
     "output_type": "display_data"
    },
    {
     "data": {
      "application/vnd.jupyter.widget-view+json": {
       "model_id": "b24b7e6c954947dabe79fe560ee08cbb",
       "version_major": 2,
       "version_minor": 0
      },
      "text/plain": [
       "timesteps:   0%|          | 0/9013 [00:00<?, ?it/s]"
      ]
     },
     "metadata": {},
     "output_type": "display_data"
    },
    {
     "data": {
      "application/vnd.jupyter.widget-view+json": {
       "model_id": "d4f4254d554b47d2aa25ee8d97eacafb",
       "version_major": 2,
       "version_minor": 0
      },
      "text/plain": [
       "timesteps:   0%|          | 0/9013 [00:00<?, ?it/s]"
      ]
     },
     "metadata": {},
     "output_type": "display_data"
    },
    {
     "data": {
      "application/vnd.jupyter.widget-view+json": {
       "model_id": "675c5a22c1394059a97d9058407569b7",
       "version_major": 2,
       "version_minor": 0
      },
      "text/plain": [
       "timesteps:   0%|          | 0/9013 [00:00<?, ?it/s]"
      ]
     },
     "metadata": {},
     "output_type": "display_data"
    },
    {
     "data": {
      "application/vnd.jupyter.widget-view+json": {
       "model_id": "e1200731a6f54bb7bf6b89c451db1a75",
       "version_major": 2,
       "version_minor": 0
      },
      "text/plain": [
       "timesteps:   0%|          | 0/9013 [00:00<?, ?it/s]"
      ]
     },
     "metadata": {},
     "output_type": "display_data"
    },
    {
     "data": {
      "application/vnd.jupyter.widget-view+json": {
       "model_id": "206eb76b0bc549d0b1446ee467416ec2",
       "version_major": 2,
       "version_minor": 0
      },
      "text/plain": [
       "timesteps:   0%|          | 0/9013 [00:00<?, ?it/s]"
      ]
     },
     "metadata": {},
     "output_type": "display_data"
    },
    {
     "data": {
      "application/vnd.jupyter.widget-view+json": {
       "model_id": "9f9c4a86c2f84ba5903663479eaf24b2",
       "version_major": 2,
       "version_minor": 0
      },
      "text/plain": [
       "timesteps:   0%|          | 0/9013 [00:00<?, ?it/s]"
      ]
     },
     "metadata": {},
     "output_type": "display_data"
    },
    {
     "name": "stderr",
     "output_type": "stream",
     "text": [
      "WARNING: camaflood.step(): The simulated outflow was negative (-0.000000 m3/s). Limitted to 0\n"
     ]
    },
    {
     "data": {
      "application/vnd.jupyter.widget-view+json": {
       "model_id": "35d46af95f2e4f4092edea5f24711722",
       "version_major": 2,
       "version_minor": 0
      },
      "text/plain": [
       "timesteps:   0%|          | 0/9013 [00:00<?, ?it/s]"
      ]
     },
     "metadata": {},
     "output_type": "display_data"
    },
    {
     "data": {
      "application/vnd.jupyter.widget-view+json": {
       "model_id": "67531ccb3ffa42da9f35b26387f8b5ea",
       "version_major": 2,
       "version_minor": 0
      },
      "text/plain": [
       "timesteps:   0%|          | 0/9013 [00:00<?, ?it/s]"
      ]
     },
     "metadata": {},
     "output_type": "display_data"
    },
    {
     "data": {
      "application/vnd.jupyter.widget-view+json": {
       "model_id": "dbf8fc7ea5bd4ff2a7a85467329f5fab",
       "version_major": 2,
       "version_minor": 0
      },
      "text/plain": [
       "timesteps:   0%|          | 0/9013 [00:00<?, ?it/s]"
      ]
     },
     "metadata": {},
     "output_type": "display_data"
    },
    {
     "data": {
      "application/vnd.jupyter.widget-view+json": {
       "model_id": "d2e5d8c593e84935b3181617b32c48c6",
       "version_major": 2,
       "version_minor": 0
      },
      "text/plain": [
       "timesteps:   0%|          | 0/9013 [00:00<?, ?it/s]"
      ]
     },
     "metadata": {},
     "output_type": "display_data"
    },
    {
     "name": "stderr",
     "output_type": "stream",
     "text": [
      "WARNING: camaflood.step(): The simulated outflow was negative (-0.000000 m3/s). Limitted to 0\n"
     ]
    },
    {
     "data": {
      "application/vnd.jupyter.widget-view+json": {
       "model_id": "d9d6792bd3b14225b3fe8d3ee262a6d8",
       "version_major": 2,
       "version_minor": 0
      },
      "text/plain": [
       "timesteps:   0%|          | 0/9013 [00:00<?, ?it/s]"
      ]
     },
     "metadata": {},
     "output_type": "display_data"
    },
    {
     "data": {
      "application/vnd.jupyter.widget-view+json": {
       "model_id": "f4696030eef647158123c6a449dbf0c4",
       "version_major": 2,
       "version_minor": 0
      },
      "text/plain": [
       "timesteps:   0%|          | 0/9013 [00:00<?, ?it/s]"
      ]
     },
     "metadata": {},
     "output_type": "display_data"
    },
    {
     "data": {
      "application/vnd.jupyter.widget-view+json": {
       "model_id": "e8873f6825fb421998c5831dbfd8ac45",
       "version_major": 2,
       "version_minor": 0
      },
      "text/plain": [
       "timesteps:   0%|          | 0/9013 [00:00<?, ?it/s]"
      ]
     },
     "metadata": {},
     "output_type": "display_data"
    },
    {
     "data": {
      "application/vnd.jupyter.widget-view+json": {
       "model_id": "734ba8e2465d4ffe8529d4cd705108da",
       "version_major": 2,
       "version_minor": 0
      },
      "text/plain": [
       "timesteps:   0%|          | 0/9013 [00:00<?, ?it/s]"
      ]
     },
     "metadata": {},
     "output_type": "display_data"
    },
    {
     "data": {
      "application/vnd.jupyter.widget-view+json": {
       "model_id": "2a7bef1c6a344cfd969da7f2a56a3843",
       "version_major": 2,
       "version_minor": 0
      },
      "text/plain": [
       "timesteps:   0%|          | 0/9013 [00:00<?, ?it/s]"
      ]
     },
     "metadata": {},
     "output_type": "display_data"
    },
    {
     "data": {
      "application/vnd.jupyter.widget-view+json": {
       "model_id": "dfcb505cd9cb451797da1cc7510da770",
       "version_major": 2,
       "version_minor": 0
      },
      "text/plain": [
       "timesteps:   0%|          | 0/9013 [00:00<?, ?it/s]"
      ]
     },
     "metadata": {},
     "output_type": "display_data"
    },
    {
     "name": "stdout",
     "output_type": "stream",
     "text": [
      "168 of 1000, minimal objective function=0.446771, time remaining: 00:03:08\n"
     ]
    },
    {
     "data": {
      "application/vnd.jupyter.widget-view+json": {
       "model_id": "ae25e77716914344abe491dcfb07c370",
       "version_major": 2,
       "version_minor": 0
      },
      "text/plain": [
       "timesteps:   0%|          | 0/9013 [00:00<?, ?it/s]"
      ]
     },
     "metadata": {},
     "output_type": "display_data"
    },
    {
     "data": {
      "application/vnd.jupyter.widget-view+json": {
       "model_id": "2c659018084d404286ef60833a48808e",
       "version_major": 2,
       "version_minor": 0
      },
      "text/plain": [
       "timesteps:   0%|          | 0/9013 [00:00<?, ?it/s]"
      ]
     },
     "metadata": {},
     "output_type": "display_data"
    },
    {
     "data": {
      "application/vnd.jupyter.widget-view+json": {
       "model_id": "2ec89d3c0b234eeea3168c03224a68e9",
       "version_major": 2,
       "version_minor": 0
      },
      "text/plain": [
       "timesteps:   0%|          | 0/9013 [00:00<?, ?it/s]"
      ]
     },
     "metadata": {},
     "output_type": "display_data"
    },
    {
     "data": {
      "application/vnd.jupyter.widget-view+json": {
       "model_id": "1f928e4609184d81a0f5bda8075b7642",
       "version_major": 2,
       "version_minor": 0
      },
      "text/plain": [
       "timesteps:   0%|          | 0/9013 [00:00<?, ?it/s]"
      ]
     },
     "metadata": {},
     "output_type": "display_data"
    },
    {
     "data": {
      "application/vnd.jupyter.widget-view+json": {
       "model_id": "bec16af1a7b04e53b1fb42624bf4e391",
       "version_major": 2,
       "version_minor": 0
      },
      "text/plain": [
       "timesteps:   0%|          | 0/9013 [00:00<?, ?it/s]"
      ]
     },
     "metadata": {},
     "output_type": "display_data"
    },
    {
     "name": "stderr",
     "output_type": "stream",
     "text": [
      "WARNING: camaflood.step(): The simulated outflow was negative (-0.000000 m3/s). Limitted to 0\n"
     ]
    },
    {
     "data": {
      "application/vnd.jupyter.widget-view+json": {
       "model_id": "b5bf4cc6f3ea47baabe91672e3290633",
       "version_major": 2,
       "version_minor": 0
      },
      "text/plain": [
       "timesteps:   0%|          | 0/9013 [00:00<?, ?it/s]"
      ]
     },
     "metadata": {},
     "output_type": "display_data"
    },
    {
     "data": {
      "application/vnd.jupyter.widget-view+json": {
       "model_id": "be3bffb3e56f4849b2d426c0f0da1c3e",
       "version_major": 2,
       "version_minor": 0
      },
      "text/plain": [
       "timesteps:   0%|          | 0/9013 [00:00<?, ?it/s]"
      ]
     },
     "metadata": {},
     "output_type": "display_data"
    },
    {
     "data": {
      "application/vnd.jupyter.widget-view+json": {
       "model_id": "ab2ea34605cf492d8cb20dc6b59a2584",
       "version_major": 2,
       "version_minor": 0
      },
      "text/plain": [
       "timesteps:   0%|          | 0/9013 [00:00<?, ?it/s]"
      ]
     },
     "metadata": {},
     "output_type": "display_data"
    },
    {
     "data": {
      "application/vnd.jupyter.widget-view+json": {
       "model_id": "26ef7fe4e51042c39f9bc7be44360dbb",
       "version_major": 2,
       "version_minor": 0
      },
      "text/plain": [
       "timesteps:   0%|          | 0/9013 [00:00<?, ?it/s]"
      ]
     },
     "metadata": {},
     "output_type": "display_data"
    },
    {
     "data": {
      "application/vnd.jupyter.widget-view+json": {
       "model_id": "7e520dc794854e708e5a0d86d8a9eb0d",
       "version_major": 2,
       "version_minor": 0
      },
      "text/plain": [
       "timesteps:   0%|          | 0/9013 [00:00<?, ?it/s]"
      ]
     },
     "metadata": {},
     "output_type": "display_data"
    },
    {
     "data": {
      "application/vnd.jupyter.widget-view+json": {
       "model_id": "40bf4e1bb2e94242ba512fbfec799485",
       "version_major": 2,
       "version_minor": 0
      },
      "text/plain": [
       "timesteps:   0%|          | 0/9013 [00:00<?, ?it/s]"
      ]
     },
     "metadata": {},
     "output_type": "display_data"
    },
    {
     "data": {
      "application/vnd.jupyter.widget-view+json": {
       "model_id": "b87a46c12d324a1a9b0b5b2f59f00d5f",
       "version_major": 2,
       "version_minor": 0
      },
      "text/plain": [
       "timesteps:   0%|          | 0/9013 [00:00<?, ?it/s]"
      ]
     },
     "metadata": {},
     "output_type": "display_data"
    },
    {
     "data": {
      "application/vnd.jupyter.widget-view+json": {
       "model_id": "5419641c04d745589758f72c1be3ece8",
       "version_major": 2,
       "version_minor": 0
      },
      "text/plain": [
       "timesteps:   0%|          | 0/9013 [00:00<?, ?it/s]"
      ]
     },
     "metadata": {},
     "output_type": "display_data"
    },
    {
     "data": {
      "application/vnd.jupyter.widget-view+json": {
       "model_id": "92a304236b8c4acf83d274ed65160fbe",
       "version_major": 2,
       "version_minor": 0
      },
      "text/plain": [
       "timesteps:   0%|          | 0/9013 [00:00<?, ?it/s]"
      ]
     },
     "metadata": {},
     "output_type": "display_data"
    },
    {
     "data": {
      "application/vnd.jupyter.widget-view+json": {
       "model_id": "acca9a7620db4108bbdaafaf203f2ebc",
       "version_major": 2,
       "version_minor": 0
      },
      "text/plain": [
       "timesteps:   0%|          | 0/9013 [00:00<?, ?it/s]"
      ]
     },
     "metadata": {},
     "output_type": "display_data"
    },
    {
     "name": "stderr",
     "output_type": "stream",
     "text": [
      "WARNING: camaflood.step(): The simulated outflow was negative (-0.000000 m3/s). Limitted to 0\n"
     ]
    },
    {
     "data": {
      "application/vnd.jupyter.widget-view+json": {
       "model_id": "81b7db79eed0430895b7f3c17217b7bc",
       "version_major": 2,
       "version_minor": 0
      },
      "text/plain": [
       "timesteps:   0%|          | 0/9013 [00:00<?, ?it/s]"
      ]
     },
     "metadata": {},
     "output_type": "display_data"
    },
    {
     "data": {
      "application/vnd.jupyter.widget-view+json": {
       "model_id": "1142f1849903401aa1558fda7c38c002",
       "version_major": 2,
       "version_minor": 0
      },
      "text/plain": [
       "timesteps:   0%|          | 0/9013 [00:00<?, ?it/s]"
      ]
     },
     "metadata": {},
     "output_type": "display_data"
    },
    {
     "name": "stderr",
     "output_type": "stream",
     "text": [
      "WARNING: camaflood.step(): The simulated outflow was negative (-0.000000 m3/s). Limitted to 0\n",
      "WARNING: camaflood.step(): The simulated outflow was negative (-0.000000 m3/s). Limitted to 0\n"
     ]
    },
    {
     "data": {
      "application/vnd.jupyter.widget-view+json": {
       "model_id": "f0500f6eda074db8ba9c1410c16eae9c",
       "version_major": 2,
       "version_minor": 0
      },
      "text/plain": [
       "timesteps:   0%|          | 0/9013 [00:00<?, ?it/s]"
      ]
     },
     "metadata": {},
     "output_type": "display_data"
    },
    {
     "name": "stdout",
     "output_type": "stream",
     "text": [
      "197 of 1000, minimal objective function=0.446771, time remaining: 00:02:57\n"
     ]
    },
    {
     "data": {
      "application/vnd.jupyter.widget-view+json": {
       "model_id": "3c2ec2440fbc4770ba9c3ae9196a6333",
       "version_major": 2,
       "version_minor": 0
      },
      "text/plain": [
       "timesteps:   0%|          | 0/9013 [00:00<?, ?it/s]"
      ]
     },
     "metadata": {},
     "output_type": "display_data"
    },
    {
     "data": {
      "application/vnd.jupyter.widget-view+json": {
       "model_id": "3aac13fe92c246209233426e92f54927",
       "version_major": 2,
       "version_minor": 0
      },
      "text/plain": [
       "timesteps:   0%|          | 0/9013 [00:00<?, ?it/s]"
      ]
     },
     "metadata": {},
     "output_type": "display_data"
    },
    {
     "data": {
      "application/vnd.jupyter.widget-view+json": {
       "model_id": "86d3f0d139f24d0eaa15de0b6bc3f769",
       "version_major": 2,
       "version_minor": 0
      },
      "text/plain": [
       "timesteps:   0%|          | 0/9013 [00:00<?, ?it/s]"
      ]
     },
     "metadata": {},
     "output_type": "display_data"
    },
    {
     "data": {
      "application/vnd.jupyter.widget-view+json": {
       "model_id": "8541820466e345cb881da42df93081df",
       "version_major": 2,
       "version_minor": 0
      },
      "text/plain": [
       "timesteps:   0%|          | 0/9013 [00:00<?, ?it/s]"
      ]
     },
     "metadata": {},
     "output_type": "display_data"
    },
    {
     "data": {
      "application/vnd.jupyter.widget-view+json": {
       "model_id": "bb11429eafd849939ed0fa23f993088a",
       "version_major": 2,
       "version_minor": 0
      },
      "text/plain": [
       "timesteps:   0%|          | 0/9013 [00:00<?, ?it/s]"
      ]
     },
     "metadata": {},
     "output_type": "display_data"
    },
    {
     "name": "stderr",
     "output_type": "stream",
     "text": [
      "WARNING: camaflood.step(): The simulated outflow was negative (-0.000000 m3/s). Limitted to 0\n"
     ]
    },
    {
     "data": {
      "application/vnd.jupyter.widget-view+json": {
       "model_id": "3d465d4a667e4522bd0300d7d75b9339",
       "version_major": 2,
       "version_minor": 0
      },
      "text/plain": [
       "timesteps:   0%|          | 0/9013 [00:00<?, ?it/s]"
      ]
     },
     "metadata": {},
     "output_type": "display_data"
    },
    {
     "name": "stderr",
     "output_type": "stream",
     "text": [
      "WARNING: camaflood.step(): The simulated outflow was negative (-0.000000 m3/s). Limitted to 0\n"
     ]
    },
    {
     "data": {
      "application/vnd.jupyter.widget-view+json": {
       "model_id": "64044237c20942e18c70509a672550d5",
       "version_major": 2,
       "version_minor": 0
      },
      "text/plain": [
       "timesteps:   0%|          | 0/9013 [00:00<?, ?it/s]"
      ]
     },
     "metadata": {},
     "output_type": "display_data"
    },
    {
     "name": "stderr",
     "output_type": "stream",
     "text": [
      "WARNING: camaflood.step(): The simulated outflow was negative (-0.000000 m3/s). Limitted to 0\n"
     ]
    },
    {
     "data": {
      "application/vnd.jupyter.widget-view+json": {
       "model_id": "342a1e2781414e7c86f02f81444ecacb",
       "version_major": 2,
       "version_minor": 0
      },
      "text/plain": [
       "timesteps:   0%|          | 0/9013 [00:00<?, ?it/s]"
      ]
     },
     "metadata": {},
     "output_type": "display_data"
    },
    {
     "data": {
      "application/vnd.jupyter.widget-view+json": {
       "model_id": "2b4cd036c8c94a548079959c3bd86509",
       "version_major": 2,
       "version_minor": 0
      },
      "text/plain": [
       "timesteps:   0%|          | 0/9013 [00:00<?, ?it/s]"
      ]
     },
     "metadata": {},
     "output_type": "display_data"
    },
    {
     "data": {
      "application/vnd.jupyter.widget-view+json": {
       "model_id": "bcd520bfac134a97a604395c91cfc5ba",
       "version_major": 2,
       "version_minor": 0
      },
      "text/plain": [
       "timesteps:   0%|          | 0/9013 [00:00<?, ?it/s]"
      ]
     },
     "metadata": {},
     "output_type": "display_data"
    },
    {
     "data": {
      "application/vnd.jupyter.widget-view+json": {
       "model_id": "a51f78a8094244eda54a9652c6b58eee",
       "version_major": 2,
       "version_minor": 0
      },
      "text/plain": [
       "timesteps:   0%|          | 0/9013 [00:00<?, ?it/s]"
      ]
     },
     "metadata": {},
     "output_type": "display_data"
    },
    {
     "data": {
      "application/vnd.jupyter.widget-view+json": {
       "model_id": "63c14db0997345b3934526af19840681",
       "version_major": 2,
       "version_minor": 0
      },
      "text/plain": [
       "timesteps:   0%|          | 0/9013 [00:00<?, ?it/s]"
      ]
     },
     "metadata": {},
     "output_type": "display_data"
    },
    {
     "data": {
      "application/vnd.jupyter.widget-view+json": {
       "model_id": "0227b27aa0d64894b2ad020bee204b8a",
       "version_major": 2,
       "version_minor": 0
      },
      "text/plain": [
       "timesteps:   0%|          | 0/9013 [00:00<?, ?it/s]"
      ]
     },
     "metadata": {},
     "output_type": "display_data"
    },
    {
     "data": {
      "application/vnd.jupyter.widget-view+json": {
       "model_id": "cb7ad7f8f4e1448ca8417a29c3e1d3fa",
       "version_major": 2,
       "version_minor": 0
      },
      "text/plain": [
       "timesteps:   0%|          | 0/9013 [00:00<?, ?it/s]"
      ]
     },
     "metadata": {},
     "output_type": "display_data"
    },
    {
     "name": "stderr",
     "output_type": "stream",
     "text": [
      "WARNING: camaflood.step(): The simulated outflow was negative (-0.000000 m3/s). Limitted to 0\n"
     ]
    },
    {
     "data": {
      "application/vnd.jupyter.widget-view+json": {
       "model_id": "bab3f9014d024f7d84f1fad630d37ff0",
       "version_major": 2,
       "version_minor": 0
      },
      "text/plain": [
       "timesteps:   0%|          | 0/9013 [00:00<?, ?it/s]"
      ]
     },
     "metadata": {},
     "output_type": "display_data"
    },
    {
     "name": "stderr",
     "output_type": "stream",
     "text": [
      "WARNING: camaflood.step(): The simulated outflow was negative (-0.000000 m3/s). Limitted to 0\n"
     ]
    },
    {
     "data": {
      "application/vnd.jupyter.widget-view+json": {
       "model_id": "52820452f68644c19c5994266e69bcb0",
       "version_major": 2,
       "version_minor": 0
      },
      "text/plain": [
       "timesteps:   0%|          | 0/9013 [00:00<?, ?it/s]"
      ]
     },
     "metadata": {},
     "output_type": "display_data"
    },
    {
     "name": "stdout",
     "output_type": "stream",
     "text": [
      "224 of 1000, minimal objective function=0.446771, time remaining: 00:02:48\n"
     ]
    },
    {
     "data": {
      "application/vnd.jupyter.widget-view+json": {
       "model_id": "1b1629f32acc4345b26486294336a8b6",
       "version_major": 2,
       "version_minor": 0
      },
      "text/plain": [
       "timesteps:   0%|          | 0/9013 [00:00<?, ?it/s]"
      ]
     },
     "metadata": {},
     "output_type": "display_data"
    },
    {
     "data": {
      "application/vnd.jupyter.widget-view+json": {
       "model_id": "324cfed639234610856ce00c5f784ac8",
       "version_major": 2,
       "version_minor": 0
      },
      "text/plain": [
       "timesteps:   0%|          | 0/9013 [00:00<?, ?it/s]"
      ]
     },
     "metadata": {},
     "output_type": "display_data"
    },
    {
     "data": {
      "application/vnd.jupyter.widget-view+json": {
       "model_id": "10cc21d115194ff2ba7ec4312606a57f",
       "version_major": 2,
       "version_minor": 0
      },
      "text/plain": [
       "timesteps:   0%|          | 0/9013 [00:00<?, ?it/s]"
      ]
     },
     "metadata": {},
     "output_type": "display_data"
    },
    {
     "data": {
      "application/vnd.jupyter.widget-view+json": {
       "model_id": "2808c053991a45a6aa4f145c8e94929e",
       "version_major": 2,
       "version_minor": 0
      },
      "text/plain": [
       "timesteps:   0%|          | 0/9013 [00:00<?, ?it/s]"
      ]
     },
     "metadata": {},
     "output_type": "display_data"
    },
    {
     "name": "stderr",
     "output_type": "stream",
     "text": [
      "WARNING: camaflood.step(): The simulated outflow was negative (-0.000000 m3/s). Limitted to 0\n",
      "WARNING: camaflood.step(): The simulated outflow was negative (-0.000000 m3/s). Limitted to 0\n"
     ]
    },
    {
     "data": {
      "application/vnd.jupyter.widget-view+json": {
       "model_id": "ef4015b2ca4b446aa4e90f2e5ca0504c",
       "version_major": 2,
       "version_minor": 0
      },
      "text/plain": [
       "timesteps:   0%|          | 0/9013 [00:00<?, ?it/s]"
      ]
     },
     "metadata": {},
     "output_type": "display_data"
    },
    {
     "data": {
      "application/vnd.jupyter.widget-view+json": {
       "model_id": "2bed733f9c984fa2bc4e3b56e6457a3e",
       "version_major": 2,
       "version_minor": 0
      },
      "text/plain": [
       "timesteps:   0%|          | 0/9013 [00:00<?, ?it/s]"
      ]
     },
     "metadata": {},
     "output_type": "display_data"
    },
    {
     "data": {
      "application/vnd.jupyter.widget-view+json": {
       "model_id": "c780ca35eded42b8ba255b5e85b81aa5",
       "version_major": 2,
       "version_minor": 0
      },
      "text/plain": [
       "timesteps:   0%|          | 0/9013 [00:00<?, ?it/s]"
      ]
     },
     "metadata": {},
     "output_type": "display_data"
    },
    {
     "data": {
      "application/vnd.jupyter.widget-view+json": {
       "model_id": "c9d61900c23246f199e91215382786c4",
       "version_major": 2,
       "version_minor": 0
      },
      "text/plain": [
       "timesteps:   0%|          | 0/9013 [00:00<?, ?it/s]"
      ]
     },
     "metadata": {},
     "output_type": "display_data"
    },
    {
     "name": "stderr",
     "output_type": "stream",
     "text": [
      "WARNING: camaflood.step(): The simulated outflow was negative (-0.000000 m3/s). Limitted to 0\n",
      "WARNING: camaflood.step(): The simulated outflow was negative (-0.000000 m3/s). Limitted to 0\n"
     ]
    },
    {
     "data": {
      "application/vnd.jupyter.widget-view+json": {
       "model_id": "f38ec98cf0a241eebd94ade789bb3aa6",
       "version_major": 2,
       "version_minor": 0
      },
      "text/plain": [
       "timesteps:   0%|          | 0/9013 [00:00<?, ?it/s]"
      ]
     },
     "metadata": {},
     "output_type": "display_data"
    },
    {
     "data": {
      "application/vnd.jupyter.widget-view+json": {
       "model_id": "5925e27a3a1a4290acce25c137f6fe0b",
       "version_major": 2,
       "version_minor": 0
      },
      "text/plain": [
       "timesteps:   0%|          | 0/9013 [00:00<?, ?it/s]"
      ]
     },
     "metadata": {},
     "output_type": "display_data"
    },
    {
     "data": {
      "application/vnd.jupyter.widget-view+json": {
       "model_id": "620a4fd18fe5436d927f89d10a2a6669",
       "version_major": 2,
       "version_minor": 0
      },
      "text/plain": [
       "timesteps:   0%|          | 0/9013 [00:00<?, ?it/s]"
      ]
     },
     "metadata": {},
     "output_type": "display_data"
    },
    {
     "name": "stderr",
     "output_type": "stream",
     "text": [
      "WARNING: camaflood.step(): The simulated outflow was negative (-0.000000 m3/s). Limitted to 0\n"
     ]
    },
    {
     "data": {
      "application/vnd.jupyter.widget-view+json": {
       "model_id": "18d575970d4b4314aa94ed7fd574c737",
       "version_major": 2,
       "version_minor": 0
      },
      "text/plain": [
       "timesteps:   0%|          | 0/9013 [00:00<?, ?it/s]"
      ]
     },
     "metadata": {},
     "output_type": "display_data"
    },
    {
     "name": "stderr",
     "output_type": "stream",
     "text": [
      "WARNING: camaflood.step(): The simulated outflow was negative (-0.000000 m3/s). Limitted to 0\n"
     ]
    },
    {
     "data": {
      "application/vnd.jupyter.widget-view+json": {
       "model_id": "be4fcec988b64fd28e34762a71d405f3",
       "version_major": 2,
       "version_minor": 0
      },
      "text/plain": [
       "timesteps:   0%|          | 0/9013 [00:00<?, ?it/s]"
      ]
     },
     "metadata": {},
     "output_type": "display_data"
    },
    {
     "name": "stderr",
     "output_type": "stream",
     "text": [
      "WARNING: camaflood.step(): The simulated outflow was negative (-0.000000 m3/s). Limitted to 0\n"
     ]
    },
    {
     "data": {
      "application/vnd.jupyter.widget-view+json": {
       "model_id": "26ba185490fd4094abc3a6fe05023b90",
       "version_major": 2,
       "version_minor": 0
      },
      "text/plain": [
       "timesteps:   0%|          | 0/9013 [00:00<?, ?it/s]"
      ]
     },
     "metadata": {},
     "output_type": "display_data"
    },
    {
     "name": "stderr",
     "output_type": "stream",
     "text": [
      "WARNING: camaflood.step(): The simulated outflow was negative (-0.000000 m3/s). Limitted to 0\n"
     ]
    },
    {
     "data": {
      "application/vnd.jupyter.widget-view+json": {
       "model_id": "c73ea1e3bc134f3497c913849b3406cd",
       "version_major": 2,
       "version_minor": 0
      },
      "text/plain": [
       "timesteps:   0%|          | 0/9013 [00:00<?, ?it/s]"
      ]
     },
     "metadata": {},
     "output_type": "display_data"
    },
    {
     "name": "stderr",
     "output_type": "stream",
     "text": [
      "WARNING: camaflood.step(): The simulated outflow was negative (-0.000000 m3/s). Limitted to 0\n"
     ]
    },
    {
     "data": {
      "application/vnd.jupyter.widget-view+json": {
       "model_id": "7033d64cb7d9497993c44c7c5e5eb94c",
       "version_major": 2,
       "version_minor": 0
      },
      "text/plain": [
       "timesteps:   0%|          | 0/9013 [00:00<?, ?it/s]"
      ]
     },
     "metadata": {},
     "output_type": "display_data"
    },
    {
     "name": "stderr",
     "output_type": "stream",
     "text": [
      "WARNING: camaflood.step(): The simulated outflow was negative (-0.000000 m3/s). Limitted to 0\n"
     ]
    },
    {
     "data": {
      "application/vnd.jupyter.widget-view+json": {
       "model_id": "5e9349fc0c7f45d9b47e222962477432",
       "version_major": 2,
       "version_minor": 0
      },
      "text/plain": [
       "timesteps:   0%|          | 0/9013 [00:00<?, ?it/s]"
      ]
     },
     "metadata": {},
     "output_type": "display_data"
    },
    {
     "data": {
      "application/vnd.jupyter.widget-view+json": {
       "model_id": "66671966d49f4ff98f35ef2d9e628495",
       "version_major": 2,
       "version_minor": 0
      },
      "text/plain": [
       "timesteps:   0%|          | 0/9013 [00:00<?, ?it/s]"
      ]
     },
     "metadata": {},
     "output_type": "display_data"
    },
    {
     "name": "stdout",
     "output_type": "stream",
     "text": [
      "253 of 1000, minimal objective function=0.446771, time remaining: 00:02:39\n",
      "ComplexEvo loop #3 in progress...\n"
     ]
    },
    {
     "data": {
      "application/vnd.jupyter.widget-view+json": {
       "model_id": "f1aa909c6eb8455ba4332d42add4c5a9",
       "version_major": 2,
       "version_minor": 0
      },
      "text/plain": [
       "timesteps:   0%|          | 0/9013 [00:00<?, ?it/s]"
      ]
     },
     "metadata": {},
     "output_type": "display_data"
    },
    {
     "data": {
      "application/vnd.jupyter.widget-view+json": {
       "model_id": "554317c2dcc9431180fdf79955c30c0e",
       "version_major": 2,
       "version_minor": 0
      },
      "text/plain": [
       "timesteps:   0%|          | 0/9013 [00:00<?, ?it/s]"
      ]
     },
     "metadata": {},
     "output_type": "display_data"
    },
    {
     "data": {
      "application/vnd.jupyter.widget-view+json": {
       "model_id": "fbbadaddc7e24d09af24cedfc6e32c38",
       "version_major": 2,
       "version_minor": 0
      },
      "text/plain": [
       "timesteps:   0%|          | 0/9013 [00:00<?, ?it/s]"
      ]
     },
     "metadata": {},
     "output_type": "display_data"
    },
    {
     "data": {
      "application/vnd.jupyter.widget-view+json": {
       "model_id": "b33dda7ef6204d79ac398ebd1f821479",
       "version_major": 2,
       "version_minor": 0
      },
      "text/plain": [
       "timesteps:   0%|          | 0/9013 [00:00<?, ?it/s]"
      ]
     },
     "metadata": {},
     "output_type": "display_data"
    },
    {
     "name": "stderr",
     "output_type": "stream",
     "text": [
      "WARNING: camaflood.step(): The simulated outflow was negative (-0.000000 m3/s). Limitted to 0\n",
      "WARNING: camaflood.step(): The simulated outflow was negative (-0.000000 m3/s). Limitted to 0\n"
     ]
    },
    {
     "data": {
      "application/vnd.jupyter.widget-view+json": {
       "model_id": "a8c7eccec82d4314b128a680c89189ef",
       "version_major": 2,
       "version_minor": 0
      },
      "text/plain": [
       "timesteps:   0%|          | 0/9013 [00:00<?, ?it/s]"
      ]
     },
     "metadata": {},
     "output_type": "display_data"
    },
    {
     "data": {
      "application/vnd.jupyter.widget-view+json": {
       "model_id": "b6d41310a8474be6b525f4278375fdd4",
       "version_major": 2,
       "version_minor": 0
      },
      "text/plain": [
       "timesteps:   0%|          | 0/9013 [00:00<?, ?it/s]"
      ]
     },
     "metadata": {},
     "output_type": "display_data"
    },
    {
     "data": {
      "application/vnd.jupyter.widget-view+json": {
       "model_id": "c31d6dea97554656b35e6fa14a41e5dd",
       "version_major": 2,
       "version_minor": 0
      },
      "text/plain": [
       "timesteps:   0%|          | 0/9013 [00:00<?, ?it/s]"
      ]
     },
     "metadata": {},
     "output_type": "display_data"
    },
    {
     "data": {
      "application/vnd.jupyter.widget-view+json": {
       "model_id": "d4f68be1ab9249aa856a3452ccd54198",
       "version_major": 2,
       "version_minor": 0
      },
      "text/plain": [
       "timesteps:   0%|          | 0/9013 [00:00<?, ?it/s]"
      ]
     },
     "metadata": {},
     "output_type": "display_data"
    },
    {
     "data": {
      "application/vnd.jupyter.widget-view+json": {
       "model_id": "52151649c39e4ee7a431803f0378828b",
       "version_major": 2,
       "version_minor": 0
      },
      "text/plain": [
       "timesteps:   0%|          | 0/9013 [00:00<?, ?it/s]"
      ]
     },
     "metadata": {},
     "output_type": "display_data"
    },
    {
     "data": {
      "application/vnd.jupyter.widget-view+json": {
       "model_id": "84fd8c5434b145d68ff67e10acec3de1",
       "version_major": 2,
       "version_minor": 0
      },
      "text/plain": [
       "timesteps:   0%|          | 0/9013 [00:00<?, ?it/s]"
      ]
     },
     "metadata": {},
     "output_type": "display_data"
    },
    {
     "data": {
      "application/vnd.jupyter.widget-view+json": {
       "model_id": "6c02dcb51c654a4997da6ecc4cd5f858",
       "version_major": 2,
       "version_minor": 0
      },
      "text/plain": [
       "timesteps:   0%|          | 0/9013 [00:00<?, ?it/s]"
      ]
     },
     "metadata": {},
     "output_type": "display_data"
    },
    {
     "data": {
      "application/vnd.jupyter.widget-view+json": {
       "model_id": "8abb79d22dff4e9aacbaae60c0546ca0",
       "version_major": 2,
       "version_minor": 0
      },
      "text/plain": [
       "timesteps:   0%|          | 0/9013 [00:00<?, ?it/s]"
      ]
     },
     "metadata": {},
     "output_type": "display_data"
    },
    {
     "data": {
      "application/vnd.jupyter.widget-view+json": {
       "model_id": "76757d70302a45f8900f3eba999f7196",
       "version_major": 2,
       "version_minor": 0
      },
      "text/plain": [
       "timesteps:   0%|          | 0/9013 [00:00<?, ?it/s]"
      ]
     },
     "metadata": {},
     "output_type": "display_data"
    },
    {
     "data": {
      "application/vnd.jupyter.widget-view+json": {
       "model_id": "ec18b5b10e114d1da0ff80521cfcc1f5",
       "version_major": 2,
       "version_minor": 0
      },
      "text/plain": [
       "timesteps:   0%|          | 0/9013 [00:00<?, ?it/s]"
      ]
     },
     "metadata": {},
     "output_type": "display_data"
    },
    {
     "name": "stderr",
     "output_type": "stream",
     "text": [
      "WARNING: camaflood.step(): The simulated outflow was negative (-0.000000 m3/s). Limitted to 0\n",
      "WARNING: camaflood.step(): The simulated outflow was negative (-0.000000 m3/s). Limitted to 0\n"
     ]
    },
    {
     "data": {
      "application/vnd.jupyter.widget-view+json": {
       "model_id": "813b0fa798f043239bd0c0348a3c239c",
       "version_major": 2,
       "version_minor": 0
      },
      "text/plain": [
       "timesteps:   0%|          | 0/9013 [00:00<?, ?it/s]"
      ]
     },
     "metadata": {},
     "output_type": "display_data"
    },
    {
     "data": {
      "application/vnd.jupyter.widget-view+json": {
       "model_id": "a2affd62469546c1b4bf48cde2e11402",
       "version_major": 2,
       "version_minor": 0
      },
      "text/plain": [
       "timesteps:   0%|          | 0/9013 [00:00<?, ?it/s]"
      ]
     },
     "metadata": {},
     "output_type": "display_data"
    },
    {
     "data": {
      "application/vnd.jupyter.widget-view+json": {
       "model_id": "bfa13b23b5044ec2b3bb09321e7c5cee",
       "version_major": 2,
       "version_minor": 0
      },
      "text/plain": [
       "timesteps:   0%|          | 0/9013 [00:00<?, ?it/s]"
      ]
     },
     "metadata": {},
     "output_type": "display_data"
    },
    {
     "data": {
      "application/vnd.jupyter.widget-view+json": {
       "model_id": "94a4b7c64d8848ad8f0dd05264d5d436",
       "version_major": 2,
       "version_minor": 0
      },
      "text/plain": [
       "timesteps:   0%|          | 0/9013 [00:00<?, ?it/s]"
      ]
     },
     "metadata": {},
     "output_type": "display_data"
    },
    {
     "data": {
      "application/vnd.jupyter.widget-view+json": {
       "model_id": "f18991a6d0644121924849fe82b966e1",
       "version_major": 2,
       "version_minor": 0
      },
      "text/plain": [
       "timesteps:   0%|          | 0/9013 [00:00<?, ?it/s]"
      ]
     },
     "metadata": {},
     "output_type": "display_data"
    },
    {
     "name": "stdout",
     "output_type": "stream",
     "text": [
      "283 of 1000, minimal objective function=0.446771, time remaining: 00:02:32\n"
     ]
    },
    {
     "data": {
      "application/vnd.jupyter.widget-view+json": {
       "model_id": "f9c774bc9f7548309fc1eb35aa477adc",
       "version_major": 2,
       "version_minor": 0
      },
      "text/plain": [
       "timesteps:   0%|          | 0/9013 [00:00<?, ?it/s]"
      ]
     },
     "metadata": {},
     "output_type": "display_data"
    },
    {
     "name": "stderr",
     "output_type": "stream",
     "text": [
      "WARNING: camaflood.step(): The simulated outflow was negative (-0.000000 m3/s). Limitted to 0\n"
     ]
    },
    {
     "data": {
      "application/vnd.jupyter.widget-view+json": {
       "model_id": "93b141859c9241058d5a3ab9106636cb",
       "version_major": 2,
       "version_minor": 0
      },
      "text/plain": [
       "timesteps:   0%|          | 0/9013 [00:00<?, ?it/s]"
      ]
     },
     "metadata": {},
     "output_type": "display_data"
    },
    {
     "data": {
      "application/vnd.jupyter.widget-view+json": {
       "model_id": "4048d0c737394e588014c168c5ec83bb",
       "version_major": 2,
       "version_minor": 0
      },
      "text/plain": [
       "timesteps:   0%|          | 0/9013 [00:00<?, ?it/s]"
      ]
     },
     "metadata": {},
     "output_type": "display_data"
    },
    {
     "data": {
      "application/vnd.jupyter.widget-view+json": {
       "model_id": "b49217708bee4fe08862f5b9c3085d9c",
       "version_major": 2,
       "version_minor": 0
      },
      "text/plain": [
       "timesteps:   0%|          | 0/9013 [00:00<?, ?it/s]"
      ]
     },
     "metadata": {},
     "output_type": "display_data"
    },
    {
     "data": {
      "application/vnd.jupyter.widget-view+json": {
       "model_id": "bc76cf2d01f747348fc5fafd7d7afe13",
       "version_major": 2,
       "version_minor": 0
      },
      "text/plain": [
       "timesteps:   0%|          | 0/9013 [00:00<?, ?it/s]"
      ]
     },
     "metadata": {},
     "output_type": "display_data"
    },
    {
     "data": {
      "application/vnd.jupyter.widget-view+json": {
       "model_id": "1f453dfd7e2c41df8ac031804f0efe33",
       "version_major": 2,
       "version_minor": 0
      },
      "text/plain": [
       "timesteps:   0%|          | 0/9013 [00:00<?, ?it/s]"
      ]
     },
     "metadata": {},
     "output_type": "display_data"
    },
    {
     "data": {
      "application/vnd.jupyter.widget-view+json": {
       "model_id": "032ec3571a3e44ec9cf96f115e8caa15",
       "version_major": 2,
       "version_minor": 0
      },
      "text/plain": [
       "timesteps:   0%|          | 0/9013 [00:00<?, ?it/s]"
      ]
     },
     "metadata": {},
     "output_type": "display_data"
    },
    {
     "data": {
      "application/vnd.jupyter.widget-view+json": {
       "model_id": "7fe857e535fc487bb7d45bef7c0d205e",
       "version_major": 2,
       "version_minor": 0
      },
      "text/plain": [
       "timesteps:   0%|          | 0/9013 [00:00<?, ?it/s]"
      ]
     },
     "metadata": {},
     "output_type": "display_data"
    },
    {
     "data": {
      "application/vnd.jupyter.widget-view+json": {
       "model_id": "0b7138ef7ccd43588460ae9806924785",
       "version_major": 2,
       "version_minor": 0
      },
      "text/plain": [
       "timesteps:   0%|          | 0/9013 [00:00<?, ?it/s]"
      ]
     },
     "metadata": {},
     "output_type": "display_data"
    },
    {
     "name": "stderr",
     "output_type": "stream",
     "text": [
      "WARNING: camaflood.step(): The simulated outflow was negative (-0.000000 m3/s). Limitted to 0\n"
     ]
    },
    {
     "data": {
      "application/vnd.jupyter.widget-view+json": {
       "model_id": "8f0e3f6dcffe4619a2532634d2eb5501",
       "version_major": 2,
       "version_minor": 0
      },
      "text/plain": [
       "timesteps:   0%|          | 0/9013 [00:00<?, ?it/s]"
      ]
     },
     "metadata": {},
     "output_type": "display_data"
    },
    {
     "data": {
      "application/vnd.jupyter.widget-view+json": {
       "model_id": "4e4771e358c2431799aa14e8608af764",
       "version_major": 2,
       "version_minor": 0
      },
      "text/plain": [
       "timesteps:   0%|          | 0/9013 [00:00<?, ?it/s]"
      ]
     },
     "metadata": {},
     "output_type": "display_data"
    },
    {
     "data": {
      "application/vnd.jupyter.widget-view+json": {
       "model_id": "008f8ddd158d4d3d912010d447b9b723",
       "version_major": 2,
       "version_minor": 0
      },
      "text/plain": [
       "timesteps:   0%|          | 0/9013 [00:00<?, ?it/s]"
      ]
     },
     "metadata": {},
     "output_type": "display_data"
    },
    {
     "name": "stderr",
     "output_type": "stream",
     "text": [
      "WARNING: camaflood.step(): The simulated outflow was negative (-0.000000 m3/s). Limitted to 0\n",
      "WARNING: camaflood.step(): The simulated outflow was negative (-0.000000 m3/s). Limitted to 0\n"
     ]
    },
    {
     "data": {
      "application/vnd.jupyter.widget-view+json": {
       "model_id": "7adc40717fc440c8ab528bafdc3a94aa",
       "version_major": 2,
       "version_minor": 0
      },
      "text/plain": [
       "timesteps:   0%|          | 0/9013 [00:00<?, ?it/s]"
      ]
     },
     "metadata": {},
     "output_type": "display_data"
    },
    {
     "data": {
      "application/vnd.jupyter.widget-view+json": {
       "model_id": "cbc22c47d50d4e918e03b682a826e0e6",
       "version_major": 2,
       "version_minor": 0
      },
      "text/plain": [
       "timesteps:   0%|          | 0/9013 [00:00<?, ?it/s]"
      ]
     },
     "metadata": {},
     "output_type": "display_data"
    },
    {
     "data": {
      "application/vnd.jupyter.widget-view+json": {
       "model_id": "630f2b6b567244438873284092ef41a3",
       "version_major": 2,
       "version_minor": 0
      },
      "text/plain": [
       "timesteps:   0%|          | 0/9013 [00:00<?, ?it/s]"
      ]
     },
     "metadata": {},
     "output_type": "display_data"
    },
    {
     "data": {
      "application/vnd.jupyter.widget-view+json": {
       "model_id": "b7244ac549894a2db57da96729879151",
       "version_major": 2,
       "version_minor": 0
      },
      "text/plain": [
       "timesteps:   0%|          | 0/9013 [00:00<?, ?it/s]"
      ]
     },
     "metadata": {},
     "output_type": "display_data"
    },
    {
     "data": {
      "application/vnd.jupyter.widget-view+json": {
       "model_id": "1e22165237a4430da06043555ce10074",
       "version_major": 2,
       "version_minor": 0
      },
      "text/plain": [
       "timesteps:   0%|          | 0/9013 [00:00<?, ?it/s]"
      ]
     },
     "metadata": {},
     "output_type": "display_data"
    },
    {
     "data": {
      "application/vnd.jupyter.widget-view+json": {
       "model_id": "351867cd15b143478c07a0eca570fc84",
       "version_major": 2,
       "version_minor": 0
      },
      "text/plain": [
       "timesteps:   0%|          | 0/9013 [00:00<?, ?it/s]"
      ]
     },
     "metadata": {},
     "output_type": "display_data"
    },
    {
     "data": {
      "application/vnd.jupyter.widget-view+json": {
       "model_id": "0832815929fd4e23994abc468673bc76",
       "version_major": 2,
       "version_minor": 0
      },
      "text/plain": [
       "timesteps:   0%|          | 0/9013 [00:00<?, ?it/s]"
      ]
     },
     "metadata": {},
     "output_type": "display_data"
    },
    {
     "name": "stderr",
     "output_type": "stream",
     "text": [
      "WARNING: camaflood.step(): The simulated outflow was negative (-0.000000 m3/s). Limitted to 0\n"
     ]
    },
    {
     "name": "stdout",
     "output_type": "stream",
     "text": [
      "313 of 1000, minimal objective function=0.446771, time remaining: 00:02:24\n"
     ]
    },
    {
     "data": {
      "application/vnd.jupyter.widget-view+json": {
       "model_id": "3f5c030f52264aada6a09fea14144123",
       "version_major": 2,
       "version_minor": 0
      },
      "text/plain": [
       "timesteps:   0%|          | 0/9013 [00:00<?, ?it/s]"
      ]
     },
     "metadata": {},
     "output_type": "display_data"
    },
    {
     "data": {
      "application/vnd.jupyter.widget-view+json": {
       "model_id": "5f5c85f7869c4428937f4e179825c8dd",
       "version_major": 2,
       "version_minor": 0
      },
      "text/plain": [
       "timesteps:   0%|          | 0/9013 [00:00<?, ?it/s]"
      ]
     },
     "metadata": {},
     "output_type": "display_data"
    },
    {
     "data": {
      "application/vnd.jupyter.widget-view+json": {
       "model_id": "9ee6d652513f490b8f281a6cac2a520c",
       "version_major": 2,
       "version_minor": 0
      },
      "text/plain": [
       "timesteps:   0%|          | 0/9013 [00:00<?, ?it/s]"
      ]
     },
     "metadata": {},
     "output_type": "display_data"
    },
    {
     "name": "stderr",
     "output_type": "stream",
     "text": [
      "WARNING: camaflood.step(): The simulated outflow was negative (-0.000000 m3/s). Limitted to 0\n"
     ]
    },
    {
     "data": {
      "application/vnd.jupyter.widget-view+json": {
       "model_id": "3ffc3a785db74ba2adf295acc139c7f1",
       "version_major": 2,
       "version_minor": 0
      },
      "text/plain": [
       "timesteps:   0%|          | 0/9013 [00:00<?, ?it/s]"
      ]
     },
     "metadata": {},
     "output_type": "display_data"
    },
    {
     "name": "stderr",
     "output_type": "stream",
     "text": [
      "WARNING: camaflood.step(): The simulated outflow was negative (-0.000000 m3/s). Limitted to 0\n"
     ]
    },
    {
     "data": {
      "application/vnd.jupyter.widget-view+json": {
       "model_id": "6140fdbd3f1f4673acda00d067c1e379",
       "version_major": 2,
       "version_minor": 0
      },
      "text/plain": [
       "timesteps:   0%|          | 0/9013 [00:00<?, ?it/s]"
      ]
     },
     "metadata": {},
     "output_type": "display_data"
    },
    {
     "data": {
      "application/vnd.jupyter.widget-view+json": {
       "model_id": "77374bc77ec548e783a797de4d76d585",
       "version_major": 2,
       "version_minor": 0
      },
      "text/plain": [
       "timesteps:   0%|          | 0/9013 [00:00<?, ?it/s]"
      ]
     },
     "metadata": {},
     "output_type": "display_data"
    },
    {
     "data": {
      "application/vnd.jupyter.widget-view+json": {
       "model_id": "3c5b09e125c4417e940ad7a9b7fd3493",
       "version_major": 2,
       "version_minor": 0
      },
      "text/plain": [
       "timesteps:   0%|          | 0/9013 [00:00<?, ?it/s]"
      ]
     },
     "metadata": {},
     "output_type": "display_data"
    },
    {
     "name": "stderr",
     "output_type": "stream",
     "text": [
      "WARNING: camaflood.step(): The simulated outflow was negative (-0.000000 m3/s). Limitted to 0\n"
     ]
    },
    {
     "data": {
      "application/vnd.jupyter.widget-view+json": {
       "model_id": "aa58e83b884843618249a748038ea8b9",
       "version_major": 2,
       "version_minor": 0
      },
      "text/plain": [
       "timesteps:   0%|          | 0/9013 [00:00<?, ?it/s]"
      ]
     },
     "metadata": {},
     "output_type": "display_data"
    },
    {
     "data": {
      "application/vnd.jupyter.widget-view+json": {
       "model_id": "0d75ff09094a4898ac08d29619ebc754",
       "version_major": 2,
       "version_minor": 0
      },
      "text/plain": [
       "timesteps:   0%|          | 0/9013 [00:00<?, ?it/s]"
      ]
     },
     "metadata": {},
     "output_type": "display_data"
    },
    {
     "data": {
      "application/vnd.jupyter.widget-view+json": {
       "model_id": "987245b5e6ba413cacc1954aa2b8c72d",
       "version_major": 2,
       "version_minor": 0
      },
      "text/plain": [
       "timesteps:   0%|          | 0/9013 [00:00<?, ?it/s]"
      ]
     },
     "metadata": {},
     "output_type": "display_data"
    },
    {
     "data": {
      "application/vnd.jupyter.widget-view+json": {
       "model_id": "c2e94e1da9db470b885e39de1553a951",
       "version_major": 2,
       "version_minor": 0
      },
      "text/plain": [
       "timesteps:   0%|          | 0/9013 [00:00<?, ?it/s]"
      ]
     },
     "metadata": {},
     "output_type": "display_data"
    },
    {
     "data": {
      "application/vnd.jupyter.widget-view+json": {
       "model_id": "476656466945427db1e97e43bf3f34d6",
       "version_major": 2,
       "version_minor": 0
      },
      "text/plain": [
       "timesteps:   0%|          | 0/9013 [00:00<?, ?it/s]"
      ]
     },
     "metadata": {},
     "output_type": "display_data"
    },
    {
     "name": "stderr",
     "output_type": "stream",
     "text": [
      "WARNING: camaflood.step(): The simulated outflow was negative (-0.000000 m3/s). Limitted to 0\n"
     ]
    },
    {
     "data": {
      "application/vnd.jupyter.widget-view+json": {
       "model_id": "e2a07ae431cb4e72bc64cd5fdcf9873a",
       "version_major": 2,
       "version_minor": 0
      },
      "text/plain": [
       "timesteps:   0%|          | 0/9013 [00:00<?, ?it/s]"
      ]
     },
     "metadata": {},
     "output_type": "display_data"
    },
    {
     "name": "stderr",
     "output_type": "stream",
     "text": [
      "WARNING: camaflood.step(): The simulated outflow was negative (-0.000000 m3/s). Limitted to 0\n"
     ]
    },
    {
     "data": {
      "application/vnd.jupyter.widget-view+json": {
       "model_id": "8ee0ac2fa10e4a28b493c723773d75ff",
       "version_major": 2,
       "version_minor": 0
      },
      "text/plain": [
       "timesteps:   0%|          | 0/9013 [00:00<?, ?it/s]"
      ]
     },
     "metadata": {},
     "output_type": "display_data"
    },
    {
     "data": {
      "application/vnd.jupyter.widget-view+json": {
       "model_id": "e133db8fe44b4542ae5425235c35f564",
       "version_major": 2,
       "version_minor": 0
      },
      "text/plain": [
       "timesteps:   0%|          | 0/9013 [00:00<?, ?it/s]"
      ]
     },
     "metadata": {},
     "output_type": "display_data"
    },
    {
     "data": {
      "application/vnd.jupyter.widget-view+json": {
       "model_id": "71c36b5dc17b4b4c905e58f3352982c5",
       "version_major": 2,
       "version_minor": 0
      },
      "text/plain": [
       "timesteps:   0%|          | 0/9013 [00:00<?, ?it/s]"
      ]
     },
     "metadata": {},
     "output_type": "display_data"
    },
    {
     "data": {
      "application/vnd.jupyter.widget-view+json": {
       "model_id": "6db589707cc14df18a20939df2acfb45",
       "version_major": 2,
       "version_minor": 0
      },
      "text/plain": [
       "timesteps:   0%|          | 0/9013 [00:00<?, ?it/s]"
      ]
     },
     "metadata": {},
     "output_type": "display_data"
    },
    {
     "data": {
      "application/vnd.jupyter.widget-view+json": {
       "model_id": "dad4271c73414fc3a05a04c551cb01b1",
       "version_major": 2,
       "version_minor": 0
      },
      "text/plain": [
       "timesteps:   0%|          | 0/9013 [00:00<?, ?it/s]"
      ]
     },
     "metadata": {},
     "output_type": "display_data"
    },
    {
     "data": {
      "application/vnd.jupyter.widget-view+json": {
       "model_id": "2254da61b80b4acaa8bf3fca31a3a48c",
       "version_major": 2,
       "version_minor": 0
      },
      "text/plain": [
       "timesteps:   0%|          | 0/9013 [00:00<?, ?it/s]"
      ]
     },
     "metadata": {},
     "output_type": "display_data"
    },
    {
     "data": {
      "application/vnd.jupyter.widget-view+json": {
       "model_id": "438f8be9c9ff461293bb83c2ac6197bd",
       "version_major": 2,
       "version_minor": 0
      },
      "text/plain": [
       "timesteps:   0%|          | 0/9013 [00:00<?, ?it/s]"
      ]
     },
     "metadata": {},
     "output_type": "display_data"
    },
    {
     "name": "stdout",
     "output_type": "stream",
     "text": [
      "344 of 1000, minimal objective function=0.446771, time remaining: 00:02:17\n"
     ]
    },
    {
     "data": {
      "application/vnd.jupyter.widget-view+json": {
       "model_id": "bfcbc792fee245b88608a42a68ac3f10",
       "version_major": 2,
       "version_minor": 0
      },
      "text/plain": [
       "timesteps:   0%|          | 0/9013 [00:00<?, ?it/s]"
      ]
     },
     "metadata": {},
     "output_type": "display_data"
    },
    {
     "data": {
      "application/vnd.jupyter.widget-view+json": {
       "model_id": "a730626d219c4ee38324ecc43d46fa0d",
       "version_major": 2,
       "version_minor": 0
      },
      "text/plain": [
       "timesteps:   0%|          | 0/9013 [00:00<?, ?it/s]"
      ]
     },
     "metadata": {},
     "output_type": "display_data"
    },
    {
     "data": {
      "application/vnd.jupyter.widget-view+json": {
       "model_id": "6fc60873ac534b6ba4523827a50f79e6",
       "version_major": 2,
       "version_minor": 0
      },
      "text/plain": [
       "timesteps:   0%|          | 0/9013 [00:00<?, ?it/s]"
      ]
     },
     "metadata": {},
     "output_type": "display_data"
    },
    {
     "data": {
      "application/vnd.jupyter.widget-view+json": {
       "model_id": "a452a8d4b90044b480458a84e23d7462",
       "version_major": 2,
       "version_minor": 0
      },
      "text/plain": [
       "timesteps:   0%|          | 0/9013 [00:00<?, ?it/s]"
      ]
     },
     "metadata": {},
     "output_type": "display_data"
    },
    {
     "data": {
      "application/vnd.jupyter.widget-view+json": {
       "model_id": "02dfe1ee4cf1475189d8d3271ce84a0f",
       "version_major": 2,
       "version_minor": 0
      },
      "text/plain": [
       "timesteps:   0%|          | 0/9013 [00:00<?, ?it/s]"
      ]
     },
     "metadata": {},
     "output_type": "display_data"
    },
    {
     "data": {
      "application/vnd.jupyter.widget-view+json": {
       "model_id": "1b97be1d8fa140bfbf59edac8544478a",
       "version_major": 2,
       "version_minor": 0
      },
      "text/plain": [
       "timesteps:   0%|          | 0/9013 [00:00<?, ?it/s]"
      ]
     },
     "metadata": {},
     "output_type": "display_data"
    },
    {
     "data": {
      "application/vnd.jupyter.widget-view+json": {
       "model_id": "eb1d1c1571c94132916d2b34e2d25851",
       "version_major": 2,
       "version_minor": 0
      },
      "text/plain": [
       "timesteps:   0%|          | 0/9013 [00:00<?, ?it/s]"
      ]
     },
     "metadata": {},
     "output_type": "display_data"
    },
    {
     "data": {
      "application/vnd.jupyter.widget-view+json": {
       "model_id": "b6a24db5e9f647b9809cf02428f9989d",
       "version_major": 2,
       "version_minor": 0
      },
      "text/plain": [
       "timesteps:   0%|          | 0/9013 [00:00<?, ?it/s]"
      ]
     },
     "metadata": {},
     "output_type": "display_data"
    },
    {
     "data": {
      "application/vnd.jupyter.widget-view+json": {
       "model_id": "b7731e9ad03b425c99891243da95363b",
       "version_major": 2,
       "version_minor": 0
      },
      "text/plain": [
       "timesteps:   0%|          | 0/9013 [00:00<?, ?it/s]"
      ]
     },
     "metadata": {},
     "output_type": "display_data"
    },
    {
     "data": {
      "application/vnd.jupyter.widget-view+json": {
       "model_id": "a67461fe29694e7097a5226c82b1ca00",
       "version_major": 2,
       "version_minor": 0
      },
      "text/plain": [
       "timesteps:   0%|          | 0/9013 [00:00<?, ?it/s]"
      ]
     },
     "metadata": {},
     "output_type": "display_data"
    },
    {
     "data": {
      "application/vnd.jupyter.widget-view+json": {
       "model_id": "a44cf062fd7e41f2b08fef9ba0a11d5f",
       "version_major": 2,
       "version_minor": 0
      },
      "text/plain": [
       "timesteps:   0%|          | 0/9013 [00:00<?, ?it/s]"
      ]
     },
     "metadata": {},
     "output_type": "display_data"
    },
    {
     "data": {
      "application/vnd.jupyter.widget-view+json": {
       "model_id": "9ac0c119e4dd43a580855c528d428611",
       "version_major": 2,
       "version_minor": 0
      },
      "text/plain": [
       "timesteps:   0%|          | 0/9013 [00:00<?, ?it/s]"
      ]
     },
     "metadata": {},
     "output_type": "display_data"
    },
    {
     "data": {
      "application/vnd.jupyter.widget-view+json": {
       "model_id": "16d8e2273b0d444a9fc7de59836d3bcb",
       "version_major": 2,
       "version_minor": 0
      },
      "text/plain": [
       "timesteps:   0%|          | 0/9013 [00:00<?, ?it/s]"
      ]
     },
     "metadata": {},
     "output_type": "display_data"
    },
    {
     "data": {
      "application/vnd.jupyter.widget-view+json": {
       "model_id": "d55292410d9448df9518820b5484b2a8",
       "version_major": 2,
       "version_minor": 0
      },
      "text/plain": [
       "timesteps:   0%|          | 0/9013 [00:00<?, ?it/s]"
      ]
     },
     "metadata": {},
     "output_type": "display_data"
    },
    {
     "data": {
      "application/vnd.jupyter.widget-view+json": {
       "model_id": "f4893cd513164879a78e6b28c9b0385f",
       "version_major": 2,
       "version_minor": 0
      },
      "text/plain": [
       "timesteps:   0%|          | 0/9013 [00:00<?, ?it/s]"
      ]
     },
     "metadata": {},
     "output_type": "display_data"
    },
    {
     "data": {
      "application/vnd.jupyter.widget-view+json": {
       "model_id": "6cf45e0a8cc74a4492c7c06fd29b70d0",
       "version_major": 2,
       "version_minor": 0
      },
      "text/plain": [
       "timesteps:   0%|          | 0/9013 [00:00<?, ?it/s]"
      ]
     },
     "metadata": {},
     "output_type": "display_data"
    },
    {
     "data": {
      "application/vnd.jupyter.widget-view+json": {
       "model_id": "20c9aab59c164337bed0ac014089daa8",
       "version_major": 2,
       "version_minor": 0
      },
      "text/plain": [
       "timesteps:   0%|          | 0/9013 [00:00<?, ?it/s]"
      ]
     },
     "metadata": {},
     "output_type": "display_data"
    },
    {
     "name": "stdout",
     "output_type": "stream",
     "text": [
      "372 of 1000, minimal objective function=0.446771, time remaining: 00:02:10\n",
      "Objective function convergence criteria is now being updated and assessed...\n",
      "Updated convergence criteria: 14.647956\n",
      "ComplexEvo loop #4 in progress...\n"
     ]
    },
    {
     "data": {
      "application/vnd.jupyter.widget-view+json": {
       "model_id": "08e276c09e2d4d3cb0025cd3c83726c4",
       "version_major": 2,
       "version_minor": 0
      },
      "text/plain": [
       "timesteps:   0%|          | 0/9013 [00:00<?, ?it/s]"
      ]
     },
     "metadata": {},
     "output_type": "display_data"
    },
    {
     "data": {
      "application/vnd.jupyter.widget-view+json": {
       "model_id": "39d4ec94455d4352b6d70506f0975076",
       "version_major": 2,
       "version_minor": 0
      },
      "text/plain": [
       "timesteps:   0%|          | 0/9013 [00:00<?, ?it/s]"
      ]
     },
     "metadata": {},
     "output_type": "display_data"
    },
    {
     "data": {
      "application/vnd.jupyter.widget-view+json": {
       "model_id": "38cec10bcb22446dad7db57e98b79588",
       "version_major": 2,
       "version_minor": 0
      },
      "text/plain": [
       "timesteps:   0%|          | 0/9013 [00:00<?, ?it/s]"
      ]
     },
     "metadata": {},
     "output_type": "display_data"
    },
    {
     "data": {
      "application/vnd.jupyter.widget-view+json": {
       "model_id": "f5feebd3cd2c41a38b346ea36e0062cd",
       "version_major": 2,
       "version_minor": 0
      },
      "text/plain": [
       "timesteps:   0%|          | 0/9013 [00:00<?, ?it/s]"
      ]
     },
     "metadata": {},
     "output_type": "display_data"
    },
    {
     "name": "stderr",
     "output_type": "stream",
     "text": [
      "WARNING: camaflood.step(): The simulated outflow was negative (-0.000000 m3/s). Limitted to 0\n"
     ]
    },
    {
     "data": {
      "application/vnd.jupyter.widget-view+json": {
       "model_id": "849da2a2bc054ce692af06b70115ba2a",
       "version_major": 2,
       "version_minor": 0
      },
      "text/plain": [
       "timesteps:   0%|          | 0/9013 [00:00<?, ?it/s]"
      ]
     },
     "metadata": {},
     "output_type": "display_data"
    },
    {
     "data": {
      "application/vnd.jupyter.widget-view+json": {
       "model_id": "ade174c114984c4ab2c3f6fb7bf1f7b2",
       "version_major": 2,
       "version_minor": 0
      },
      "text/plain": [
       "timesteps:   0%|          | 0/9013 [00:00<?, ?it/s]"
      ]
     },
     "metadata": {},
     "output_type": "display_data"
    },
    {
     "data": {
      "application/vnd.jupyter.widget-view+json": {
       "model_id": "dfbdafc7f6154e828caab3151c6be222",
       "version_major": 2,
       "version_minor": 0
      },
      "text/plain": [
       "timesteps:   0%|          | 0/9013 [00:00<?, ?it/s]"
      ]
     },
     "metadata": {},
     "output_type": "display_data"
    },
    {
     "data": {
      "application/vnd.jupyter.widget-view+json": {
       "model_id": "0f27f29536f24d12acb7a050e5376de6",
       "version_major": 2,
       "version_minor": 0
      },
      "text/plain": [
       "timesteps:   0%|          | 0/9013 [00:00<?, ?it/s]"
      ]
     },
     "metadata": {},
     "output_type": "display_data"
    },
    {
     "name": "stderr",
     "output_type": "stream",
     "text": [
      "WARNING: camaflood.step(): The simulated outflow was negative (-0.000000 m3/s). Limitted to 0\n"
     ]
    },
    {
     "data": {
      "application/vnd.jupyter.widget-view+json": {
       "model_id": "28378eae8bfa4c1a8429df76e2c4704d",
       "version_major": 2,
       "version_minor": 0
      },
      "text/plain": [
       "timesteps:   0%|          | 0/9013 [00:00<?, ?it/s]"
      ]
     },
     "metadata": {},
     "output_type": "display_data"
    },
    {
     "data": {
      "application/vnd.jupyter.widget-view+json": {
       "model_id": "53d2b84cb3a54968b2b03cd6cc3efdd5",
       "version_major": 2,
       "version_minor": 0
      },
      "text/plain": [
       "timesteps:   0%|          | 0/9013 [00:00<?, ?it/s]"
      ]
     },
     "metadata": {},
     "output_type": "display_data"
    },
    {
     "data": {
      "application/vnd.jupyter.widget-view+json": {
       "model_id": "612be30b328047a2923f0c4af59b9db5",
       "version_major": 2,
       "version_minor": 0
      },
      "text/plain": [
       "timesteps:   0%|          | 0/9013 [00:00<?, ?it/s]"
      ]
     },
     "metadata": {},
     "output_type": "display_data"
    },
    {
     "data": {
      "application/vnd.jupyter.widget-view+json": {
       "model_id": "145b49fce995454196266272b864a761",
       "version_major": 2,
       "version_minor": 0
      },
      "text/plain": [
       "timesteps:   0%|          | 0/9013 [00:00<?, ?it/s]"
      ]
     },
     "metadata": {},
     "output_type": "display_data"
    },
    {
     "data": {
      "application/vnd.jupyter.widget-view+json": {
       "model_id": "85b293dc9a6346d9980c5387cdc721c3",
       "version_major": 2,
       "version_minor": 0
      },
      "text/plain": [
       "timesteps:   0%|          | 0/9013 [00:00<?, ?it/s]"
      ]
     },
     "metadata": {},
     "output_type": "display_data"
    },
    {
     "data": {
      "application/vnd.jupyter.widget-view+json": {
       "model_id": "496eaa3e0d7f41849170af9c3774e565",
       "version_major": 2,
       "version_minor": 0
      },
      "text/plain": [
       "timesteps:   0%|          | 0/9013 [00:00<?, ?it/s]"
      ]
     },
     "metadata": {},
     "output_type": "display_data"
    },
    {
     "data": {
      "application/vnd.jupyter.widget-view+json": {
       "model_id": "062db3ce9a6f4cb9940e3faf93f82965",
       "version_major": 2,
       "version_minor": 0
      },
      "text/plain": [
       "timesteps:   0%|          | 0/9013 [00:00<?, ?it/s]"
      ]
     },
     "metadata": {},
     "output_type": "display_data"
    },
    {
     "data": {
      "application/vnd.jupyter.widget-view+json": {
       "model_id": "c373d28bc2a646eab4434dbc58edfb79",
       "version_major": 2,
       "version_minor": 0
      },
      "text/plain": [
       "timesteps:   0%|          | 0/9013 [00:00<?, ?it/s]"
      ]
     },
     "metadata": {},
     "output_type": "display_data"
    },
    {
     "data": {
      "application/vnd.jupyter.widget-view+json": {
       "model_id": "a07afb3af42549a997df7847836f2af8",
       "version_major": 2,
       "version_minor": 0
      },
      "text/plain": [
       "timesteps:   0%|          | 0/9013 [00:00<?, ?it/s]"
      ]
     },
     "metadata": {},
     "output_type": "display_data"
    },
    {
     "name": "stdout",
     "output_type": "stream",
     "text": [
      "400 of 1000, minimal objective function=0.444275, time remaining: 00:02:04\n"
     ]
    },
    {
     "data": {
      "application/vnd.jupyter.widget-view+json": {
       "model_id": "4b289cb2163b4900875cb4ebcee97e16",
       "version_major": 2,
       "version_minor": 0
      },
      "text/plain": [
       "timesteps:   0%|          | 0/9013 [00:00<?, ?it/s]"
      ]
     },
     "metadata": {},
     "output_type": "display_data"
    },
    {
     "data": {
      "application/vnd.jupyter.widget-view+json": {
       "model_id": "799f97b11877493788a9332eb822204b",
       "version_major": 2,
       "version_minor": 0
      },
      "text/plain": [
       "timesteps:   0%|          | 0/9013 [00:00<?, ?it/s]"
      ]
     },
     "metadata": {},
     "output_type": "display_data"
    },
    {
     "data": {
      "application/vnd.jupyter.widget-view+json": {
       "model_id": "ef1f2bd4c4a64dd4bccbba1d837f204c",
       "version_major": 2,
       "version_minor": 0
      },
      "text/plain": [
       "timesteps:   0%|          | 0/9013 [00:00<?, ?it/s]"
      ]
     },
     "metadata": {},
     "output_type": "display_data"
    },
    {
     "data": {
      "application/vnd.jupyter.widget-view+json": {
       "model_id": "bd214eb1f8c245108042a7e062a9b01b",
       "version_major": 2,
       "version_minor": 0
      },
      "text/plain": [
       "timesteps:   0%|          | 0/9013 [00:00<?, ?it/s]"
      ]
     },
     "metadata": {},
     "output_type": "display_data"
    },
    {
     "data": {
      "application/vnd.jupyter.widget-view+json": {
       "model_id": "2221d56cd5ba4a9b92c5780125d23e97",
       "version_major": 2,
       "version_minor": 0
      },
      "text/plain": [
       "timesteps:   0%|          | 0/9013 [00:00<?, ?it/s]"
      ]
     },
     "metadata": {},
     "output_type": "display_data"
    },
    {
     "data": {
      "application/vnd.jupyter.widget-view+json": {
       "model_id": "cf57c5178a9c499b9193e9025ad10a16",
       "version_major": 2,
       "version_minor": 0
      },
      "text/plain": [
       "timesteps:   0%|          | 0/9013 [00:00<?, ?it/s]"
      ]
     },
     "metadata": {},
     "output_type": "display_data"
    },
    {
     "data": {
      "application/vnd.jupyter.widget-view+json": {
       "model_id": "df6a116d73f14917b9f2a8308080083f",
       "version_major": 2,
       "version_minor": 0
      },
      "text/plain": [
       "timesteps:   0%|          | 0/9013 [00:00<?, ?it/s]"
      ]
     },
     "metadata": {},
     "output_type": "display_data"
    },
    {
     "data": {
      "application/vnd.jupyter.widget-view+json": {
       "model_id": "18e428e728fb42e09f00efb988291ff2",
       "version_major": 2,
       "version_minor": 0
      },
      "text/plain": [
       "timesteps:   0%|          | 0/9013 [00:00<?, ?it/s]"
      ]
     },
     "metadata": {},
     "output_type": "display_data"
    },
    {
     "data": {
      "application/vnd.jupyter.widget-view+json": {
       "model_id": "8ab3ea52298f4ef599e650ee6b970cef",
       "version_major": 2,
       "version_minor": 0
      },
      "text/plain": [
       "timesteps:   0%|          | 0/9013 [00:00<?, ?it/s]"
      ]
     },
     "metadata": {},
     "output_type": "display_data"
    },
    {
     "data": {
      "application/vnd.jupyter.widget-view+json": {
       "model_id": "6f96c13968154992ac4a1351827dc0bb",
       "version_major": 2,
       "version_minor": 0
      },
      "text/plain": [
       "timesteps:   0%|          | 0/9013 [00:00<?, ?it/s]"
      ]
     },
     "metadata": {},
     "output_type": "display_data"
    },
    {
     "name": "stderr",
     "output_type": "stream",
     "text": [
      "WARNING: camaflood.step(): The simulated outflow was negative (-0.000000 m3/s). Limitted to 0\n",
      "WARNING: camaflood.step(): The simulated outflow was negative (-0.000000 m3/s). Limitted to 0\n"
     ]
    },
    {
     "data": {
      "application/vnd.jupyter.widget-view+json": {
       "model_id": "4ee241f73de54600a8af80e29c2c14a5",
       "version_major": 2,
       "version_minor": 0
      },
      "text/plain": [
       "timesteps:   0%|          | 0/9013 [00:00<?, ?it/s]"
      ]
     },
     "metadata": {},
     "output_type": "display_data"
    },
    {
     "data": {
      "application/vnd.jupyter.widget-view+json": {
       "model_id": "b44437830b9c4289a46544504954eda5",
       "version_major": 2,
       "version_minor": 0
      },
      "text/plain": [
       "timesteps:   0%|          | 0/9013 [00:00<?, ?it/s]"
      ]
     },
     "metadata": {},
     "output_type": "display_data"
    },
    {
     "name": "stderr",
     "output_type": "stream",
     "text": [
      "WARNING: camaflood.step(): The simulated outflow was negative (-0.000000 m3/s). Limitted to 0\n",
      "WARNING: camaflood.step(): The simulated outflow was negative (-0.000000 m3/s). Limitted to 0\n"
     ]
    },
    {
     "data": {
      "application/vnd.jupyter.widget-view+json": {
       "model_id": "c02da21ae5fa48d8bbfe2324e689dc21",
       "version_major": 2,
       "version_minor": 0
      },
      "text/plain": [
       "timesteps:   0%|          | 0/9013 [00:00<?, ?it/s]"
      ]
     },
     "metadata": {},
     "output_type": "display_data"
    },
    {
     "data": {
      "application/vnd.jupyter.widget-view+json": {
       "model_id": "7711b65709f44e82b47839ffb04611d8",
       "version_major": 2,
       "version_minor": 0
      },
      "text/plain": [
       "timesteps:   0%|          | 0/9013 [00:00<?, ?it/s]"
      ]
     },
     "metadata": {},
     "output_type": "display_data"
    },
    {
     "data": {
      "application/vnd.jupyter.widget-view+json": {
       "model_id": "849dcb25a8384b648aa8bf5aa8d4e37c",
       "version_major": 2,
       "version_minor": 0
      },
      "text/plain": [
       "timesteps:   0%|          | 0/9013 [00:00<?, ?it/s]"
      ]
     },
     "metadata": {},
     "output_type": "display_data"
    },
    {
     "data": {
      "application/vnd.jupyter.widget-view+json": {
       "model_id": "6be3046990344d48b928bb01f07cb111",
       "version_major": 2,
       "version_minor": 0
      },
      "text/plain": [
       "timesteps:   0%|          | 0/9013 [00:00<?, ?it/s]"
      ]
     },
     "metadata": {},
     "output_type": "display_data"
    },
    {
     "data": {
      "application/vnd.jupyter.widget-view+json": {
       "model_id": "c83f4e7a60a54d18bebe24637f3a8939",
       "version_major": 2,
       "version_minor": 0
      },
      "text/plain": [
       "timesteps:   0%|          | 0/9013 [00:00<?, ?it/s]"
      ]
     },
     "metadata": {},
     "output_type": "display_data"
    },
    {
     "name": "stderr",
     "output_type": "stream",
     "text": [
      "WARNING: camaflood.step(): The simulated outflow was negative (-0.000000 m3/s). Limitted to 0\n"
     ]
    },
    {
     "data": {
      "application/vnd.jupyter.widget-view+json": {
       "model_id": "cfdac83196f94f79af5ee82558154b62",
       "version_major": 2,
       "version_minor": 0
      },
      "text/plain": [
       "timesteps:   0%|          | 0/9013 [00:00<?, ?it/s]"
      ]
     },
     "metadata": {},
     "output_type": "display_data"
    },
    {
     "name": "stderr",
     "output_type": "stream",
     "text": [
      "WARNING: camaflood.step(): The simulated outflow was negative (-0.000000 m3/s). Limitted to 0\n"
     ]
    },
    {
     "data": {
      "application/vnd.jupyter.widget-view+json": {
       "model_id": "9099db180c674865bd880c4de400c002",
       "version_major": 2,
       "version_minor": 0
      },
      "text/plain": [
       "timesteps:   0%|          | 0/9013 [00:00<?, ?it/s]"
      ]
     },
     "metadata": {},
     "output_type": "display_data"
    },
    {
     "data": {
      "application/vnd.jupyter.widget-view+json": {
       "model_id": "2462a9ba409d45d3a494e66325cfb5ea",
       "version_major": 2,
       "version_minor": 0
      },
      "text/plain": [
       "timesteps:   0%|          | 0/9013 [00:00<?, ?it/s]"
      ]
     },
     "metadata": {},
     "output_type": "display_data"
    },
    {
     "name": "stderr",
     "output_type": "stream",
     "text": [
      "WARNING: camaflood.step(): The simulated outflow was negative (-0.000000 m3/s). Limitted to 0\n"
     ]
    },
    {
     "data": {
      "application/vnd.jupyter.widget-view+json": {
       "model_id": "c355bd41776e497d8ad5edb3688e62b5",
       "version_major": 2,
       "version_minor": 0
      },
      "text/plain": [
       "timesteps:   0%|          | 0/9013 [00:00<?, ?it/s]"
      ]
     },
     "metadata": {},
     "output_type": "display_data"
    },
    {
     "name": "stdout",
     "output_type": "stream",
     "text": [
      "432 of 1000, minimal objective function=0.444275, time remaining: 00:01:57\n"
     ]
    },
    {
     "data": {
      "application/vnd.jupyter.widget-view+json": {
       "model_id": "3492817fec8e45148f25443999f59c63",
       "version_major": 2,
       "version_minor": 0
      },
      "text/plain": [
       "timesteps:   0%|          | 0/9013 [00:00<?, ?it/s]"
      ]
     },
     "metadata": {},
     "output_type": "display_data"
    },
    {
     "data": {
      "application/vnd.jupyter.widget-view+json": {
       "model_id": "5037234d0a7c4725ab483df78a5d0486",
       "version_major": 2,
       "version_minor": 0
      },
      "text/plain": [
       "timesteps:   0%|          | 0/9013 [00:00<?, ?it/s]"
      ]
     },
     "metadata": {},
     "output_type": "display_data"
    },
    {
     "data": {
      "application/vnd.jupyter.widget-view+json": {
       "model_id": "9c5a08d82d2a462bba36ea37db9455a0",
       "version_major": 2,
       "version_minor": 0
      },
      "text/plain": [
       "timesteps:   0%|          | 0/9013 [00:00<?, ?it/s]"
      ]
     },
     "metadata": {},
     "output_type": "display_data"
    },
    {
     "data": {
      "application/vnd.jupyter.widget-view+json": {
       "model_id": "0b3784261ace487e8750add420c81ffd",
       "version_major": 2,
       "version_minor": 0
      },
      "text/plain": [
       "timesteps:   0%|          | 0/9013 [00:00<?, ?it/s]"
      ]
     },
     "metadata": {},
     "output_type": "display_data"
    },
    {
     "data": {
      "application/vnd.jupyter.widget-view+json": {
       "model_id": "cbdadd1d5bb1421382f606533c8ee399",
       "version_major": 2,
       "version_minor": 0
      },
      "text/plain": [
       "timesteps:   0%|          | 0/9013 [00:00<?, ?it/s]"
      ]
     },
     "metadata": {},
     "output_type": "display_data"
    },
    {
     "data": {
      "application/vnd.jupyter.widget-view+json": {
       "model_id": "406fd9f44415439f9031226810979277",
       "version_major": 2,
       "version_minor": 0
      },
      "text/plain": [
       "timesteps:   0%|          | 0/9013 [00:00<?, ?it/s]"
      ]
     },
     "metadata": {},
     "output_type": "display_data"
    },
    {
     "data": {
      "application/vnd.jupyter.widget-view+json": {
       "model_id": "6a30394150c94477be740eb2ee70399c",
       "version_major": 2,
       "version_minor": 0
      },
      "text/plain": [
       "timesteps:   0%|          | 0/9013 [00:00<?, ?it/s]"
      ]
     },
     "metadata": {},
     "output_type": "display_data"
    },
    {
     "data": {
      "application/vnd.jupyter.widget-view+json": {
       "model_id": "42f4cdbd89aa4695a13ced67299d9871",
       "version_major": 2,
       "version_minor": 0
      },
      "text/plain": [
       "timesteps:   0%|          | 0/9013 [00:00<?, ?it/s]"
      ]
     },
     "metadata": {},
     "output_type": "display_data"
    },
    {
     "data": {
      "application/vnd.jupyter.widget-view+json": {
       "model_id": "dfdbda4375984066939e3bf37cc0616b",
       "version_major": 2,
       "version_minor": 0
      },
      "text/plain": [
       "timesteps:   0%|          | 0/9013 [00:00<?, ?it/s]"
      ]
     },
     "metadata": {},
     "output_type": "display_data"
    },
    {
     "data": {
      "application/vnd.jupyter.widget-view+json": {
       "model_id": "3843ebf83ddf45f58893734c5cd43b9c",
       "version_major": 2,
       "version_minor": 0
      },
      "text/plain": [
       "timesteps:   0%|          | 0/9013 [00:00<?, ?it/s]"
      ]
     },
     "metadata": {},
     "output_type": "display_data"
    },
    {
     "data": {
      "application/vnd.jupyter.widget-view+json": {
       "model_id": "72b666571edc4f02a0d3fefa5476f320",
       "version_major": 2,
       "version_minor": 0
      },
      "text/plain": [
       "timesteps:   0%|          | 0/9013 [00:00<?, ?it/s]"
      ]
     },
     "metadata": {},
     "output_type": "display_data"
    },
    {
     "data": {
      "application/vnd.jupyter.widget-view+json": {
       "model_id": "da53df7f62014ac79167bf50a275714f",
       "version_major": 2,
       "version_minor": 0
      },
      "text/plain": [
       "timesteps:   0%|          | 0/9013 [00:00<?, ?it/s]"
      ]
     },
     "metadata": {},
     "output_type": "display_data"
    },
    {
     "data": {
      "application/vnd.jupyter.widget-view+json": {
       "model_id": "a46c198e257842419f187887ff811716",
       "version_major": 2,
       "version_minor": 0
      },
      "text/plain": [
       "timesteps:   0%|          | 0/9013 [00:00<?, ?it/s]"
      ]
     },
     "metadata": {},
     "output_type": "display_data"
    },
    {
     "data": {
      "application/vnd.jupyter.widget-view+json": {
       "model_id": "2e872329894f4b8bb3d561887c70ede8",
       "version_major": 2,
       "version_minor": 0
      },
      "text/plain": [
       "timesteps:   0%|          | 0/9013 [00:00<?, ?it/s]"
      ]
     },
     "metadata": {},
     "output_type": "display_data"
    },
    {
     "name": "stderr",
     "output_type": "stream",
     "text": [
      "WARNING: camaflood.step(): The simulated outflow was negative (-0.000000 m3/s). Limitted to 0\n",
      "WARNING: camaflood.step(): The simulated outflow was negative (-0.000000 m3/s). Limitted to 0\n"
     ]
    },
    {
     "data": {
      "application/vnd.jupyter.widget-view+json": {
       "model_id": "6e11223bf13d42fda09afd2cb14cde40",
       "version_major": 2,
       "version_minor": 0
      },
      "text/plain": [
       "timesteps:   0%|          | 0/9013 [00:00<?, ?it/s]"
      ]
     },
     "metadata": {},
     "output_type": "display_data"
    },
    {
     "data": {
      "application/vnd.jupyter.widget-view+json": {
       "model_id": "01be5bb30be44d0082c573e10a63c94f",
       "version_major": 2,
       "version_minor": 0
      },
      "text/plain": [
       "timesteps:   0%|          | 0/9013 [00:00<?, ?it/s]"
      ]
     },
     "metadata": {},
     "output_type": "display_data"
    },
    {
     "data": {
      "application/vnd.jupyter.widget-view+json": {
       "model_id": "2d9f9a14535c4bf1b71fd7ed1dda2ef0",
       "version_major": 2,
       "version_minor": 0
      },
      "text/plain": [
       "timesteps:   0%|          | 0/9013 [00:00<?, ?it/s]"
      ]
     },
     "metadata": {},
     "output_type": "display_data"
    },
    {
     "data": {
      "application/vnd.jupyter.widget-view+json": {
       "model_id": "58fcee244e544e0b8c648204f00a1fb8",
       "version_major": 2,
       "version_minor": 0
      },
      "text/plain": [
       "timesteps:   0%|          | 0/9013 [00:00<?, ?it/s]"
      ]
     },
     "metadata": {},
     "output_type": "display_data"
    },
    {
     "name": "stdout",
     "output_type": "stream",
     "text": [
      "461 of 1000, minimal objective function=0.443249, time remaining: 00:01:50\n"
     ]
    },
    {
     "data": {
      "application/vnd.jupyter.widget-view+json": {
       "model_id": "11f0b0a7cc464a2588f9b455967570d5",
       "version_major": 2,
       "version_minor": 0
      },
      "text/plain": [
       "timesteps:   0%|          | 0/9013 [00:00<?, ?it/s]"
      ]
     },
     "metadata": {},
     "output_type": "display_data"
    },
    {
     "name": "stderr",
     "output_type": "stream",
     "text": [
      "WARNING: camaflood.step(): The simulated outflow was negative (-0.000000 m3/s). Limitted to 0\n",
      "WARNING: camaflood.step(): The simulated outflow was negative (-0.000000 m3/s). Limitted to 0\n"
     ]
    },
    {
     "data": {
      "application/vnd.jupyter.widget-view+json": {
       "model_id": "2b02a18deb9543cfabc8acd6e8f0dec7",
       "version_major": 2,
       "version_minor": 0
      },
      "text/plain": [
       "timesteps:   0%|          | 0/9013 [00:00<?, ?it/s]"
      ]
     },
     "metadata": {},
     "output_type": "display_data"
    },
    {
     "data": {
      "application/vnd.jupyter.widget-view+json": {
       "model_id": "10d1d7988ee44443884a0d89afc2a230",
       "version_major": 2,
       "version_minor": 0
      },
      "text/plain": [
       "timesteps:   0%|          | 0/9013 [00:00<?, ?it/s]"
      ]
     },
     "metadata": {},
     "output_type": "display_data"
    },
    {
     "data": {
      "application/vnd.jupyter.widget-view+json": {
       "model_id": "15ef844cc95741bdbd5f2b0898e5577a",
       "version_major": 2,
       "version_minor": 0
      },
      "text/plain": [
       "timesteps:   0%|          | 0/9013 [00:00<?, ?it/s]"
      ]
     },
     "metadata": {},
     "output_type": "display_data"
    },
    {
     "name": "stderr",
     "output_type": "stream",
     "text": [
      "WARNING: camaflood.step(): The simulated outflow was negative (-0.000000 m3/s). Limitted to 0\n"
     ]
    },
    {
     "data": {
      "application/vnd.jupyter.widget-view+json": {
       "model_id": "a0824ab50317456096e36a1e40cfe1a1",
       "version_major": 2,
       "version_minor": 0
      },
      "text/plain": [
       "timesteps:   0%|          | 0/9013 [00:00<?, ?it/s]"
      ]
     },
     "metadata": {},
     "output_type": "display_data"
    },
    {
     "name": "stderr",
     "output_type": "stream",
     "text": [
      "WARNING: camaflood.step(): The simulated outflow was negative (-0.000000 m3/s). Limitted to 0\n"
     ]
    },
    {
     "data": {
      "application/vnd.jupyter.widget-view+json": {
       "model_id": "e6d4b205f1c04a0381fbeee461ce2d8d",
       "version_major": 2,
       "version_minor": 0
      },
      "text/plain": [
       "timesteps:   0%|          | 0/9013 [00:00<?, ?it/s]"
      ]
     },
     "metadata": {},
     "output_type": "display_data"
    },
    {
     "name": "stderr",
     "output_type": "stream",
     "text": [
      "WARNING: camaflood.step(): The simulated outflow was negative (-0.000000 m3/s). Limitted to 0\n"
     ]
    },
    {
     "data": {
      "application/vnd.jupyter.widget-view+json": {
       "model_id": "64bf9a7dc063450585274439bba2ed1b",
       "version_major": 2,
       "version_minor": 0
      },
      "text/plain": [
       "timesteps:   0%|          | 0/9013 [00:00<?, ?it/s]"
      ]
     },
     "metadata": {},
     "output_type": "display_data"
    },
    {
     "name": "stderr",
     "output_type": "stream",
     "text": [
      "WARNING: camaflood.step(): The simulated outflow was negative (-0.000000 m3/s). Limitted to 0\n"
     ]
    },
    {
     "data": {
      "application/vnd.jupyter.widget-view+json": {
       "model_id": "5b2eece68b844f6c9a2dda64a4bd2659",
       "version_major": 2,
       "version_minor": 0
      },
      "text/plain": [
       "timesteps:   0%|          | 0/9013 [00:00<?, ?it/s]"
      ]
     },
     "metadata": {},
     "output_type": "display_data"
    },
    {
     "data": {
      "application/vnd.jupyter.widget-view+json": {
       "model_id": "2c1dc1c75d3a43cc86a2cd71d459e001",
       "version_major": 2,
       "version_minor": 0
      },
      "text/plain": [
       "timesteps:   0%|          | 0/9013 [00:00<?, ?it/s]"
      ]
     },
     "metadata": {},
     "output_type": "display_data"
    },
    {
     "data": {
      "application/vnd.jupyter.widget-view+json": {
       "model_id": "0e1a5867406d4e8484b22cab86e08f36",
       "version_major": 2,
       "version_minor": 0
      },
      "text/plain": [
       "timesteps:   0%|          | 0/9013 [00:00<?, ?it/s]"
      ]
     },
     "metadata": {},
     "output_type": "display_data"
    },
    {
     "data": {
      "application/vnd.jupyter.widget-view+json": {
       "model_id": "6af919a7b2a743e2b315c63ba1917f90",
       "version_major": 2,
       "version_minor": 0
      },
      "text/plain": [
       "timesteps:   0%|          | 0/9013 [00:00<?, ?it/s]"
      ]
     },
     "metadata": {},
     "output_type": "display_data"
    },
    {
     "data": {
      "application/vnd.jupyter.widget-view+json": {
       "model_id": "d95dece5f58d45dc8be5b17db72268ac",
       "version_major": 2,
       "version_minor": 0
      },
      "text/plain": [
       "timesteps:   0%|          | 0/9013 [00:00<?, ?it/s]"
      ]
     },
     "metadata": {},
     "output_type": "display_data"
    },
    {
     "data": {
      "application/vnd.jupyter.widget-view+json": {
       "model_id": "00780af9d8e74bcaae3fff94b5a55ace",
       "version_major": 2,
       "version_minor": 0
      },
      "text/plain": [
       "timesteps:   0%|          | 0/9013 [00:00<?, ?it/s]"
      ]
     },
     "metadata": {},
     "output_type": "display_data"
    },
    {
     "data": {
      "application/vnd.jupyter.widget-view+json": {
       "model_id": "affd11caadb14918a75a686e3897cb0b",
       "version_major": 2,
       "version_minor": 0
      },
      "text/plain": [
       "timesteps:   0%|          | 0/9013 [00:00<?, ?it/s]"
      ]
     },
     "metadata": {},
     "output_type": "display_data"
    },
    {
     "data": {
      "application/vnd.jupyter.widget-view+json": {
       "model_id": "bf5eef037182468c86ff5c49cfd5649c",
       "version_major": 2,
       "version_minor": 0
      },
      "text/plain": [
       "timesteps:   0%|          | 0/9013 [00:00<?, ?it/s]"
      ]
     },
     "metadata": {},
     "output_type": "display_data"
    },
    {
     "data": {
      "application/vnd.jupyter.widget-view+json": {
       "model_id": "5f30522ef2e94291b3cb21a03f6b810b",
       "version_major": 2,
       "version_minor": 0
      },
      "text/plain": [
       "timesteps:   0%|          | 0/9013 [00:00<?, ?it/s]"
      ]
     },
     "metadata": {},
     "output_type": "display_data"
    },
    {
     "data": {
      "application/vnd.jupyter.widget-view+json": {
       "model_id": "a2ce545f39514203b50a59ff9d54cffb",
       "version_major": 2,
       "version_minor": 0
      },
      "text/plain": [
       "timesteps:   0%|          | 0/9013 [00:00<?, ?it/s]"
      ]
     },
     "metadata": {},
     "output_type": "display_data"
    },
    {
     "data": {
      "application/vnd.jupyter.widget-view+json": {
       "model_id": "716c56fb1e414c159ab9e07f7367ea1b",
       "version_major": 2,
       "version_minor": 0
      },
      "text/plain": [
       "timesteps:   0%|          | 0/9013 [00:00<?, ?it/s]"
      ]
     },
     "metadata": {},
     "output_type": "display_data"
    },
    {
     "data": {
      "application/vnd.jupyter.widget-view+json": {
       "model_id": "b529bec441d6435498046755edd4e4bb",
       "version_major": 2,
       "version_minor": 0
      },
      "text/plain": [
       "timesteps:   0%|          | 0/9013 [00:00<?, ?it/s]"
      ]
     },
     "metadata": {},
     "output_type": "display_data"
    },
    {
     "data": {
      "application/vnd.jupyter.widget-view+json": {
       "model_id": "948447f6076747da98ed36a76cd89a58",
       "version_major": 2,
       "version_minor": 0
      },
      "text/plain": [
       "timesteps:   0%|          | 0/9013 [00:00<?, ?it/s]"
      ]
     },
     "metadata": {},
     "output_type": "display_data"
    },
    {
     "name": "stdout",
     "output_type": "stream",
     "text": [
      "492 of 1000, minimal objective function=0.443249, time remaining: 00:01:44\n",
      "Objective function convergence criteria is now being updated and assessed...\n",
      "Updated convergence criteria: 0.790391\n",
      "ComplexEvo loop #5 in progress...\n"
     ]
    },
    {
     "data": {
      "application/vnd.jupyter.widget-view+json": {
       "model_id": "c3ba862bb48f44af9093e482315e1d4b",
       "version_major": 2,
       "version_minor": 0
      },
      "text/plain": [
       "timesteps:   0%|          | 0/9013 [00:00<?, ?it/s]"
      ]
     },
     "metadata": {},
     "output_type": "display_data"
    },
    {
     "data": {
      "application/vnd.jupyter.widget-view+json": {
       "model_id": "6a72679362b34501848c0769a61fcfb8",
       "version_major": 2,
       "version_minor": 0
      },
      "text/plain": [
       "timesteps:   0%|          | 0/9013 [00:00<?, ?it/s]"
      ]
     },
     "metadata": {},
     "output_type": "display_data"
    },
    {
     "data": {
      "application/vnd.jupyter.widget-view+json": {
       "model_id": "f1e35d054ab74d6a8794fce54feec0e5",
       "version_major": 2,
       "version_minor": 0
      },
      "text/plain": [
       "timesteps:   0%|          | 0/9013 [00:00<?, ?it/s]"
      ]
     },
     "metadata": {},
     "output_type": "display_data"
    },
    {
     "data": {
      "application/vnd.jupyter.widget-view+json": {
       "model_id": "8d3ea261893c4e93ad611077a0230c3b",
       "version_major": 2,
       "version_minor": 0
      },
      "text/plain": [
       "timesteps:   0%|          | 0/9013 [00:00<?, ?it/s]"
      ]
     },
     "metadata": {},
     "output_type": "display_data"
    },
    {
     "data": {
      "application/vnd.jupyter.widget-view+json": {
       "model_id": "226b1505d8c0464ca8aaa03901a2a892",
       "version_major": 2,
       "version_minor": 0
      },
      "text/plain": [
       "timesteps:   0%|          | 0/9013 [00:00<?, ?it/s]"
      ]
     },
     "metadata": {},
     "output_type": "display_data"
    },
    {
     "data": {
      "application/vnd.jupyter.widget-view+json": {
       "model_id": "fa494b9af67d480cb66d4ae5d1f3f318",
       "version_major": 2,
       "version_minor": 0
      },
      "text/plain": [
       "timesteps:   0%|          | 0/9013 [00:00<?, ?it/s]"
      ]
     },
     "metadata": {},
     "output_type": "display_data"
    },
    {
     "data": {
      "application/vnd.jupyter.widget-view+json": {
       "model_id": "9b03a9949e6b444581e64b5cb564171a",
       "version_major": 2,
       "version_minor": 0
      },
      "text/plain": [
       "timesteps:   0%|          | 0/9013 [00:00<?, ?it/s]"
      ]
     },
     "metadata": {},
     "output_type": "display_data"
    },
    {
     "name": "stderr",
     "output_type": "stream",
     "text": [
      "WARNING: camaflood.step(): The simulated outflow was negative (-0.000000 m3/s). Limitted to 0\n"
     ]
    },
    {
     "data": {
      "application/vnd.jupyter.widget-view+json": {
       "model_id": "d84348ab23824745a0355b503aa23e30",
       "version_major": 2,
       "version_minor": 0
      },
      "text/plain": [
       "timesteps:   0%|          | 0/9013 [00:00<?, ?it/s]"
      ]
     },
     "metadata": {},
     "output_type": "display_data"
    },
    {
     "data": {
      "application/vnd.jupyter.widget-view+json": {
       "model_id": "3def9d49398a44ae8716c02cf8cf019f",
       "version_major": 2,
       "version_minor": 0
      },
      "text/plain": [
       "timesteps:   0%|          | 0/9013 [00:00<?, ?it/s]"
      ]
     },
     "metadata": {},
     "output_type": "display_data"
    }
   ],
   "source": [
    "# === Calibration ===\n",
    "for grand_id, ts in tqdm(timeseries.items(), desc='simulating reservoir'):\n",
    "        \n",
    "    dbname = f'{cfg.PATH_CALIB}/{grand_id}_samples'\n",
    "    if Path(f'{dbname}.csv').is_file() and not OVERWRITE: #args.overwrite:\n",
    "        logger.info(f'Calibration already exists for reservoir {grand_id}, skipping (use --overwrite to force)')\n",
    "        continue\n",
    "    \n",
    "    logger.info(f'Calibrating reservoir {grand_id}')\n",
    "    \n",
    "    # define input time series\n",
    "    inflow = ts[cfg.INFLOW]\n",
    "    precipitation = ts[cfg.PRECIPITATION] if cfg.PRECIPITATION in ts.columns else None\n",
    "    evaporation = ts[cfg.EVAPORATION] if cfg.EVAPORATION in ts.columns else None\n",
    "    demand = ts[cfg.DEMAND] if cfg.DEMAND in ts.columns else None\n",
    "    if cfg.MODEL == 'mhm':\n",
    "        bias = ts.outflow.mean() / inflow.mean()\n",
    "        demand = create_demand(\n",
    "            ts.outflow,\n",
    "            water_stress=min(1, bias),\n",
    "            window=28\n",
    "        )\n",
    "        \n",
    "    # storage attributes (m3)\n",
    "    Vtot = ts.storage.max()\n",
    "    Vmin = max(0, min(0.1 * Vtot, ts.storage.min()))\n",
    "    # flow attributes (m3/s)\n",
    "    Qmin = max(0, ts.outflow.min())\n",
    "    # catchment area (m2)\n",
    "    catchment = int(attributes.loc[grand_id, 'CATCH_SKM'] * 1e6) if cfg.MODEL == 'camaflood' else None\n",
    "    # reservoir area (m2)\n",
    "    Atot = int(attributes.loc[grand_id, 'AREA_SKM'] * 1e6)\n",
    "\n",
    "    # calibrate\n",
    "    try:\n",
    "        # configure calibration kwargs\n",
    "        cal_cfg = {}\n",
    "        if cfg.MODEL == 'camaflood':\n",
    "            cal_cfg.update({'catchment': catchment})\n",
    "        # elif cfg.MODEL == 'mhm':\n",
    "        #     cal_cfg.update({'demand': demand})\n",
    "        # initialize the calibration setup\n",
    "        calibrator = get_calibrator(\n",
    "            cfg.MODEL,\n",
    "            inflow=inflow,\n",
    "            storage=ts.storage,\n",
    "            outflow=ts.outflow,\n",
    "            precipitation=precipitation,\n",
    "            evaporation=evaporation,\n",
    "            demand=demand,\n",
    "            Vmin=Vmin,\n",
    "            Vtot=Vtot,\n",
    "            Qmin=Qmin,\n",
    "            Atot=Atot,\n",
    "            target=cfg.TARGET,\n",
    "            obj_func=KGEmod,\n",
    "            spinup=cfg.SPINUP,\n",
    "            **cal_cfg\n",
    "        )\n",
    "        # define the sampling method\n",
    "        sceua = spotpy.algorithms.sceua(\n",
    "            calibrator, \n",
    "            dbname=dbname, \n",
    "            dbformat='csv', \n",
    "            # parallel='mpi',\n",
    "            save_sim=False,\n",
    "            # seed=42\n",
    "        )\n",
    "        # launch calibration\n",
    "        sceua.sample(\n",
    "            cfg.MAX_ITER, \n",
    "            ngs=cfg.COMPLEXES, \n",
    "            kstop=3, \n",
    "            pcento=0.01, \n",
    "            peps=0.1\n",
    "        )\n",
    "        logger.info(f'Calibration of reservoir {grand_id} successfully finished')\n",
    "    except RuntimeError:\n",
    "        logger.exception(f'Reservoir {grand_id} could not be calibrated')\n",
    "        continue\n",
    "        \n",
    "    # simulate optimized reservoir\n",
    "    try:\n",
    "        \n",
    "        # read calibration results\n",
    "        results, parameters = read_results(f'{dbname}.csv')\n",
    "        \n",
    "        # convert parameter into reservoir attributes\n",
    "        calibrated_attrs = calibrator.pars2attrs(list(parameters.values()))\n",
    "\n",
    "        # declare the reservoir with optimal parameters\n",
    "        res = get_model(cfg.MODEL, **calibrated_attrs)\n",
    "\n",
    "        # export calibrated parameters\n",
    "        with open(cfg.PATH_CALIB / f'{grand_id}_optimal_parameters.yml', 'w') as file:\n",
    "            yaml.dump(res.get_params(), file)\n",
    "\n",
    "        # simulate the reservoir\n",
    "        # sim_cfg = {} if cfg.MODEL == 'camaflood' else cal_cfg\n",
    "        sim_cal = res.simulate(\n",
    "            inflow=inflow,\n",
    "            Vo=ts.storage.iloc[0],\n",
    "            precipitation=precipitation,\n",
    "            evaporation=evaporation,\n",
    "            demand=demand,\n",
    "            # **sim_cfg\n",
    "        )\n",
    "        sim_cal.to_csv(cfg.PATH_CALIB / f'{grand_id}_simulation.csv', float_format='%.3f')\n",
    "        \n",
    "        logger.info(f'Simulation of the calibrated reservoir {grand_id} successfully finished')\n",
    "        \n",
    "    except RuntimeError:\n",
    "        logger.exception(f'Calibrated reservoir {grand_id} could not be simulated')\n",
    "        continue\n",
    "        \n",
    "    # === Analyse results ===\n",
    "    \n",
    "    # performance\n",
    "    try:\n",
    "        performance_cal = compute_performance(ts.iloc[cfg.SPINUP:], sim_cal.iloc[cfg.SPINUP:])\n",
    "        performance_cal.to_csv(cfg.PATH_CALIB / f'{grand_id}_performance.csv', float_format='%.3f')\n",
    "        logger.info(f'Performance of reservoir {grand_id} has been computed')\n",
    "    except IOError:\n",
    "        logger.exception(f'The performance of reservoir {grand_id} could not be exported')\n",
    "        \n",
    "    # scatter plot calibration vs observation\n",
    "    try:\n",
    "        res.scatter(\n",
    "            sim_cal,\n",
    "            ts,\n",
    "            spinup=cfg.SPINUP,\n",
    "            norm=False,\n",
    "            title=f'grand_id: {grand_id}',\n",
    "            save=cfg.PATH_CALIB / f'{grand_id}_scatter.jpg',\n",
    "        )\n",
    "        logger.info(f'Scatter plot of simulation from reservoir {grand_id}')\n",
    "    except IOError:\n",
    "        logger.exception(f'The scatter plot of reservoir {grand_id} could not be generated')\n",
    "        \n",
    "    # line plot calibration (vs default simulation) vs observation\n",
    "    try:\n",
    "        file_default = cfg.PATH_DEF / f'{grand_id}_simulation.csv'\n",
    "        if file_default.is_file():\n",
    "            sim_def = pd.read_csv(cfg.PATH_DEF / f'{grand_id}_simulation.csv', parse_dates=True, index_col=0)\n",
    "            sim = {\n",
    "                'default': sim_def,\n",
    "                'calibrated': sim_cal\n",
    "            }\n",
    "        else:\n",
    "            sim = {'calibrated': sim_cal}\n",
    "        res.lineplot(\n",
    "            sim,\n",
    "            ts,\n",
    "            spinup=cfg.SPINUP,\n",
    "            figsize=(12, 6),\n",
    "            save=cfg.PATH_CALIB / f'{grand_id}_line.jpg',\n",
    "        )\n",
    "        logger.info(f'Line plot of simulation from reservoir {grand_id}')\n",
    "    except IOError:\n",
    "        logger.exception(f'The line plot of reservoir {grand_id} could not be generated')\n",
    "        \n",
    "    del res, calibrator, sim_cal, calibrated_attrs, performance_cal#, sim_cfg\n",
    "    try:\n",
    "        del sceua\n",
    "    except:\n",
    "        pass"
   ]
  },
  {
   "cell_type": "code",
   "execution_count": null,
   "id": "4bf0b80b-7a6b-4c42-9dad-2c9314986c60",
   "metadata": {},
   "outputs": [],
   "source": []
  }
 ],
 "metadata": {
  "kernelspec": {
   "display_name": "Python 3 (ipykernel)",
   "language": "python",
   "name": "python3"
  },
  "language_info": {
   "codemirror_mode": {
    "name": "ipython",
    "version": 3
   },
   "file_extension": ".py",
   "mimetype": "text/x-python",
   "name": "python",
   "nbconvert_exporter": "python",
   "pygments_lexer": "ipython3",
   "version": "3.11.11"
  }
 },
 "nbformat": 4,
 "nbformat_minor": 5
}
