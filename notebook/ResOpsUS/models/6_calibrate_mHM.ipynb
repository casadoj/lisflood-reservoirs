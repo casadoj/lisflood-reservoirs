{
 "cells": [
  {
   "cell_type": "markdown",
   "id": "631e1812-9c8c-4f8e-ad1b-41578130117b",
   "metadata": {},
   "source": [
    "# Simulate the mHM reservoir routine\n",
    "***\n",
    "\n",
    "**Author:** Chus Casado Rodríguez<br>\n",
    "**Date:** 08-07-2024<br>\n",
    "\n",
    "**Introduction:**<br>\n",
    "This code simulates all the reservoirs included both in GloFASv4 and ResOpsUS according to the reservoir routine defined in the configuration file (attribute `simulation>model`).\n",
    "\n",
    "The inflow time series is taken from GloFASv4 simulations, and the initial storage from the observed records.\n",
    "\n",
    ">Note. The `Shrestha` reservoir routine requires a time series of water demand as input. Since that time series is not available, the code creates a fake demand by a transformation of the input time series.\n",
    "\n",
    "**To do:**<br>\n",
    "\n",
    "* [ ] Select the reservoirs with good enough time series in the notebook [0.2_time_series-clean_data.ipynb](0.2_time_series-clean_data.ipynb0.2_time_series-clean_data.ipynb)\n",
    "\n",
    "**Ideas:**<br>\n"
   ]
  },
  {
   "cell_type": "code",
   "execution_count": 1,
   "id": "c1940f88-25de-47e5-88ec-2ba55e079da6",
   "metadata": {},
   "outputs": [],
   "source": [
    "import sys\n",
    "sys.path.append('../../src/')\n",
    "import numpy as np\n",
    "import pandas as pd\n",
    "from tqdm.auto import tqdm\n",
    "from pathlib import Path\n",
    "import yaml\n",
    "import spotpy\n",
    "import pickle\n",
    "import copy\n",
    "\n",
    "from lisfloodreservoirs import Config\n",
    "from lisfloodreservoirs.models import get_model\n",
    "from lisfloodreservoirs.utils.metrics import KGEmod, compute_performance\n",
    "from lisfloodreservoirs.utils.utils import get_normal_value, return_period\n",
    "from lisfloodreservoirs.utils.timeseries import create_demand, define_period\n",
    "from lisfloodreservoirs.utils.plots import plot_resops\n",
    "from lisfloodreservoirs.calibration import get_calibrator, read_results"
   ]
  },
  {
   "cell_type": "markdown",
   "id": "72d503d3-dd70-4b64-b148-ff7f86e0b789",
   "metadata": {
    "tags": []
   },
   "source": [
    "## Configuration"
   ]
  },
  {
   "cell_type": "code",
   "execution_count": 6,
   "id": "49e52867-4c79-406f-830c-2bfe9ad7b80b",
   "metadata": {},
   "outputs": [
    {
     "name": "stdout",
     "output_type": "stream",
     "text": [
      "Default simulation results will be saved in mhm\\default\n",
      "Calibration results will be saved in mhm\\calibration\\univariate\\storage\n"
     ]
    }
   ],
   "source": [
    "cfg = Config('config_mHM_storage.yml')\n",
    "\n",
    "print(f'Default simulation results will be saved in {cfg.PATH_DEF}')\n",
    "print(f'Calibration results will be saved in {cfg.PATH_CALIB}')\n",
    "\n",
    "variables = ['inflow', 'storage', 'outflow']"
   ]
  },
  {
   "cell_type": "markdown",
   "id": "da057a63-1f1b-412b-9188-3b984c86a637",
   "metadata": {
    "tags": []
   },
   "source": [
    "## Data"
   ]
  },
  {
   "cell_type": "markdown",
   "id": "92ab25ee-79ef-423a-aaf5-eb3c10fc6d6a",
   "metadata": {},
   "source": [
    "### Attributes"
   ]
  },
  {
   "cell_type": "code",
   "execution_count": null,
   "id": "64614c2d-6a89-428f-a55f-d70347867e53",
   "metadata": {},
   "outputs": [],
   "source": [
    "# list of reservoirs to be trained\n",
    "reservoirs = pd.read_csv(cfg.RESERVOIRS_FILE, header=None).squeeze().tolist()\n",
    "\n",
    "# import all tables of attributes\n",
    "path_attrs = cfg.PATH_DATA / 'attributes'\n",
    "try:\n",
    "    attributes = pd.concat([pd.read_csv(file, index_col='GRAND_ID') for file in path_attrs.glob('*.csv')],\n",
    "                           axis=1,\n",
    "                           join='outer')\n",
    "    attributes = attributes.loc[reservoirs]\n",
    "except Exception as e:\n",
    "    raise ValueError('ERROR while reading attribute tables: {}'.format(e)) from e\n",
    "print(f'{attributes.shape[0]} reservoirs in the attribute tables')"
   ]
  },
  {
   "cell_type": "markdown",
   "id": "9a07a7af-b676-4a54-b2f9-d7f62acf74ae",
   "metadata": {},
   "source": [
    "#### Time series"
   ]
  },
  {
   "cell_type": "code",
   "execution_count": null,
   "id": "fd3818bb-9bf3-4547-9b43-76eb3bb1cab8",
   "metadata": {
    "tags": []
   },
   "outputs": [],
   "source": [
    "# training periods\n",
    "with open(cfg.PERIODS_FILE, 'rb') as file:\n",
    "    periods = pickle.load(file)\n",
    "\n",
    "path_ts = cfg.PATH_DATA / 'time_series' / 'csv'\n",
    "timeseries = {}\n",
    "for grand_id in tqdm(attributes.index, desc='reading time series'):\n",
    "    # read time series\n",
    "    file = path_ts / f'{grand_id}.csv'\n",
    "    if file.is_file():\n",
    "        ts = pd.read_csv(file, parse_dates=True, index_col='date')\n",
    "    else:\n",
    "        print(f\"File {file} doesn't exist\")\n",
    "        continue\n",
    "                \n",
    "    # select study period\n",
    "    start, end = [periods[grand_id][x] for x in ['start', 'end']]\n",
    "    ts = ts.loc[start:end, variables]\n",
    "    \n",
    "    # convert storage to m3\n",
    "    ts.iloc[:, ts.columns.str.contains('storage')] *= 1e6\n",
    "    \n",
    "    # save time series\n",
    "    timeseries[grand_id] = ts\n",
    "    \n",
    "print(f'\\n{len(timeseries)} reservoirs with timeseries')"
   ]
  },
  {
   "cell_type": "markdown",
   "id": "6a9c7ea5-ff9a-4d13-b09f-bb7b07f2b93f",
   "metadata": {},
   "source": [
    "## Reservoir routine\n",
    "### Simulate all reservoirs"
   ]
  },
  {
   "cell_type": "code",
   "execution_count": null,
   "id": "b72c0141-474c-41d5-b990-abd035ea3cab",
   "metadata": {
    "tags": []
   },
   "outputs": [],
   "source": [
    "id_def = list(np.unique([int(file.stem.split('_')[0]) for file in cfg.PATH_DEF.glob('*performance.csv')]))\n",
    "id_calib = list(np.unique([int(file.stem.split('_')[0]) for file in cfg.PATH_CALIB.glob('*performance.csv')]))\n",
    "\n",
    "for grand_id, obs in tqdm(timeseries.items(), desc='simulating reservoir'):\n",
    "       \n",
    "    if (grand_id in id_def) and (grand_id in id_calib):\n",
    "        print(f'Reservoir {grand_id} has already been simulated with default parameters and calibrated. Skipping reservoir.')\n",
    "        continue\n",
    "    \n",
    "    # create a demand time series\n",
    "    bias = obs.outflow.mean() / obs.inflow.mean()\n",
    "    demand = create_demand(obs.outflow,\n",
    "                           water_stress=min(1, bias),\n",
    "                           window=28)\n",
    "    \n",
    "    # reservoir attributes\n",
    "    reservoir_attrs = {\n",
    "        # storage attributes (m3)\n",
    "        'Vmin': max(0, obs.storage.min()),\n",
    "        'Vtot': obs.storage.max(),\n",
    "        # flow attributes (m3/s)\n",
    "        'Qmin': max(0, obs.outflow.min()),\n",
    "        'avg_inflow': obs.inflow.mean(),\n",
    "        'avg_demand': demand.mean()\n",
    "    }\n",
    "    \n",
    "    # plot observed time series\n",
    "    plot_resops(obs.storage,\n",
    "                obs.elevation if 'elevation' in obs.columns else None,\n",
    "                obs.inflow,\n",
    "                obs.outflow,\n",
    "                attributes.loc[grand_id, ['CAP_MCM', 'CAP_GLWD']].values * 1e6,\n",
    "                title=grand_id,\n",
    "                save=cfg.PATH_DEF / f'{grand_id}_raw_lineplot.jpg'\n",
    "               )\n",
    "\n",
    "    # SIMULATION WITH DEFAULT PARAMETERS\n",
    "    # ----------------------------------\n",
    "    \n",
    "    if grand_id not in id_def:\n",
    "    \n",
    "        # declare the reservoir\n",
    "        default_attrs = copy.deepcopy(reservoir_attrs)\n",
    "        default_attrs.update({'gamma': obs.storage.quantile(.9) / obs.storage.max()})\n",
    "        res = get_model(cfg.MODEL, **default_attrs)\n",
    "\n",
    "        # export default parameters\n",
    "        with open(cfg.PATH_DEF / f'{grand_id}_default_parameters.yml', 'w') as file:\n",
    "            yaml.dump(res.get_params(), file)\n",
    "\n",
    "        # simulate the reservoir\n",
    "        simulation_kwargs = {'demand': demand}\n",
    "        sim_def = res.simulate(inflow=obs.inflow,\n",
    "                               Vo=obs.storage.iloc[0],\n",
    "                               **simulation_kwargs)\n",
    "\n",
    "        # analyse simulation\n",
    "        performance_def = compute_performance(obs, sim_def)\n",
    "        performance_def.to_csv(cfg.PATH_DEF / f'{grand_id}_performance.csv', float_format='%.3f')\n",
    "\n",
    "        res.scatter(sim_def,\n",
    "                    obs,\n",
    "                    norm=False,\n",
    "                    title=f'grand_id: {grand_id}',\n",
    "                    save=cfg.PATH_DEF / f'{grand_id}_scatter.jpg',\n",
    "                   )\n",
    "\n",
    "        res.lineplot({#'GloFAS': glofas, \n",
    "                      'sim': sim_def},\n",
    "                     obs,\n",
    "                     figsize=(12, 6),\n",
    "                     save=cfg.PATH_DEF / f'{grand_id}_line.jpg',\n",
    "                   )\n",
    "        \n",
    "    else:\n",
    "        print(f'Reservoir {grand_id} has already been simulated with default parameters. Skipping simulation.')\n",
    "\n",
    "    # CALIBRATION\n",
    "    # -----------\n",
    "    \n",
    "    if grand_id not in id_calib:\n",
    "        dbname = f'{cfg.PATH_CALIB}/{grand_id}_samples'\n",
    "\n",
    "        # initialize the calibration setup of the LISFLOOD reservoir routine\n",
    "        setup = get_calibrator(cfg.MODEL,\n",
    "                               inflow=obs.inflow,\n",
    "                               storage=obs.storage, \n",
    "                               outflow=obs.outflow,\n",
    "                               Vmin=Vmin,\n",
    "                               Vtot=Vtot,\n",
    "                               Qmin=Qmin,\n",
    "                               target=cfg.TARGET,\n",
    "                               obj_func=KGEmod,\n",
    "                               **{'demand': demand})\n",
    "\n",
    "        # define the sampling method\n",
    "        sceua = spotpy.algorithms.sceua(setup, dbname=dbname, dbformat='csv', save_sim=False)\n",
    "\n",
    "        # start the sampler\n",
    "        sceua.sample(cfg.MAX_ITER, ngs=cfg.COMPLEXES, kstop=3, pcento=0.01, peps=0.1)\n",
    "\n",
    "        # declare the reservoir with optimal parameters\n",
    "        results, calibrated_attrs = read_results(f'{dbname}.csv')\n",
    "        calibrated_attrs.update(reservoir_attrs)\n",
    "        res = get_model(MODEL, **calibrated_attrs)\n",
    "\n",
    "        # export calibrated parameters\n",
    "        with open(cfg.PATH_CALIB / f'{grand_id}_optimal_parameters.yml', 'w') as file:\n",
    "            yaml.dump(res.get_params(), file)\n",
    "\n",
    "        # simulate the reservoir\n",
    "        simulation_kwargs = {'demand': demand}\n",
    "        sim_cal = res.simulate(inflow=obs.inflow,\n",
    "                               Vo=obs.storage.iloc[0],\n",
    "                               **simulation_kwargs)\n",
    "\n",
    "        # performance\n",
    "        performance_cal = compute_performance(obs, sim_cal)\n",
    "        performance_cal.to_csv(cfg.PATH_CALIB / f'{grand_id}_performance.csv', float_format='%.3f')\n",
    "\n",
    "        # analyse results\n",
    "        res.scatter(sim_cal,\n",
    "                    obs,\n",
    "                    norm=False,\n",
    "                    title=f'grand_id: {grand_id}',\n",
    "                    save=cfg.PATH_CALIB / f'{grand_id}_scatter.jpg',\n",
    "                   )\n",
    "        res.lineplot({'default': sim_def, \n",
    "                      'calibrated': sim_cal},\n",
    "                     obs,\n",
    "                     figsize=(12, 6),\n",
    "                     save=cfg.PATH_CALIB / f'{grand_id}_line.jpg',\n",
    "                   )\n",
    "        \n",
    "    else:\n",
    "        print(f'Reservoir {grand_id} has already been calibrated. Skipping calibration.')"
   ]
  }
 ],
 "metadata": {
  "kernelspec": {
   "display_name": "Python 3 (ipykernel)",
   "language": "python",
   "name": "python3"
  },
  "language_info": {
   "codemirror_mode": {
    "name": "ipython",
    "version": 3
   },
   "file_extension": ".py",
   "mimetype": "text/x-python",
   "name": "python",
   "nbconvert_exporter": "python",
   "pygments_lexer": "ipython3",
   "version": "3.9.13"
  }
 },
 "nbformat": 4,
 "nbformat_minor": 5
}
