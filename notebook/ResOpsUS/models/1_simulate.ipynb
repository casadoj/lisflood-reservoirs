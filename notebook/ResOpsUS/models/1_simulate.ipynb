{
 "cells": [
  {
   "cell_type": "markdown",
   "id": "e4e30dfb-f1c4-474d-9e85-31cb575eb53e",
   "metadata": {},
   "source": [
    "This is a conversion into notebook format of the script `lisfloodreservoirs.simulate.py`.\n",
    "\n",
    "Description:\n",
    "\n",
    "```Text\n",
    "Run the reservoir routine with default parameters.\n",
    "```"
   ]
  },
  {
   "cell_type": "code",
   "execution_count": 1,
   "id": "e8e5cadb-389f-4876-a0f5-2f70a8a62a85",
   "metadata": {},
   "outputs": [],
   "source": [
    "# Path to the configuration file\n",
    "CONFIG_FILE = './camaflood_2var.yml'\n",
    "# Overwrite existing simulation file\n",
    "OVERWRITE = False"
   ]
  },
  {
   "cell_type": "code",
   "execution_count": 2,
   "id": "944877fe-9ab8-4950-b013-53fea53ed35d",
   "metadata": {},
   "outputs": [],
   "source": [
    "# %load ../../../src/lisfloodreservoirs/simulate.py\n",
    "#!/usr/bin/env python3\n",
    "\n",
    "import argparse\n",
    "import logging\n",
    "import yaml\n",
    "import pickle\n",
    "from pathlib import Path\n",
    "\n",
    "import pandas as pd\n",
    "from tqdm import tqdm\n",
    "from datetime import datetime\n",
    "\n",
    "from lisfloodreservoirs import Config, read_attributes, read_timeseries\n",
    "from lisfloodreservoirs.models import get_model, default_attributes\n",
    "from lisfloodreservoirs.utils.metrics import compute_performance\n",
    "from lisfloodreservoirs.utils.timeseries import create_demand\n",
    "from lisfloodreservoirs.utils.plots import plot_resops\n",
    "from lisfloodreservoirs.utils.logging import setup_logger"
   ]
  },
  {
   "cell_type": "code",
   "execution_count": 3,
   "id": "9585009b-f69f-4672-9bc4-9c0df60f5a55",
   "metadata": {},
   "outputs": [
    {
     "name": "stderr",
     "output_type": "stream",
     "text": [
      "2025-05-08 13:23:35 | INFO | __main__ | Default simulation results will be saved in: Z:\\nahaUsers\\casadje\\datasets\\reservoirs\\ResOpsUS\\v2.0\\test\\no_meteo\\camaflood\\default\n"
     ]
    }
   ],
   "source": [
    "# === Configuration ===\n",
    "\n",
    "# read configuration file\n",
    "cfg = Config(CONFIG_FILE) #Config(args.config_file)\n",
    "    \n",
    "# set up logger\n",
    "logger = setup_logger(\n",
    "    name=__name__,\n",
    "    log_level=logging.INFO,\n",
    "    log_file=None #f'{datetime.now():%Y%m%d%H%M}_simulate_{cfg.MODEL}.log'\n",
    ")\n",
    "\n",
    "logger.info(f'Default simulation results will be saved in: {cfg.PATH_DEF}')"
   ]
  },
  {
   "cell_type": "code",
   "execution_count": 4,
   "id": "a51b5f50-aa70-4991-8bfd-564d131c4bf4",
   "metadata": {},
   "outputs": [],
   "source": [
    "# === Load reservoir list ===\n",
    "try:\n",
    "    reservoirs = pd.read_csv(cfg.RESERVOIRS_FILE, header=None).squeeze().tolist()\n",
    "except IOError:\n",
    "    logger.exception(f'Failed to open {cfg.RESERVOIRS_FILE}')\n",
    "    raise"
   ]
  },
  {
   "cell_type": "code",
   "execution_count": 5,
   "id": "485af74a-8a09-488c-93ff-773c3ea57472",
   "metadata": {},
   "outputs": [
    {
     "name": "stderr",
     "output_type": "stream",
     "text": [
      "2025-05-08 13:23:35 | INFO | __main__ | 5 reservoirs in the attribute tables\n"
     ]
    }
   ],
   "source": [
    "# === Load attributes ===\n",
    "try:\n",
    "    attributes = read_attributes(cfg.PATH_DATA / 'attributes', reservoirs)\n",
    "    logger.info(f'{attributes.shape[0]} reservoirs in the attribute tables')\n",
    "except IOError:\n",
    "    logger.exception('Failed to read attribute tables from {0}'.format(cfg.PATH_DATA / 'attributes'))\n",
    "    raise"
   ]
  },
  {
   "cell_type": "code",
   "execution_count": 6,
   "id": "bf73a786-ce8a-4565-97f7-cb00d8f9ead5",
   "metadata": {},
   "outputs": [],
   "source": [
    "# === Load time periods ===\n",
    "try:\n",
    "    with open(cfg.PERIODS_FILE, 'rb') as file:\n",
    "        periods = pickle.load(file)\n",
    "except IOError:\n",
    "    logger.exception(f'Failed to open {cfg.PERIODS_FILE}')\n",
    "    raise"
   ]
  },
  {
   "cell_type": "code",
   "execution_count": 7,
   "id": "a19f62c0-8e39-4da1-917b-34423574d333",
   "metadata": {},
   "outputs": [
    {
     "data": {
      "application/vnd.jupyter.widget-view+json": {
       "model_id": "4618f222c4d24bf8873b5271ff742fd2",
       "version_major": 2,
       "version_minor": 0
      },
      "text/plain": [
       "  0%|          | 0/5 [00:00<?, ?it/s]"
      ]
     },
     "metadata": {},
     "output_type": "display_data"
    },
    {
     "name": "stderr",
     "output_type": "stream",
     "text": [
      "2025-05-08 13:23:36 | INFO | __main__ | 5 reservoirs with timeseries\n"
     ]
    }
   ],
   "source": [
    "# === read time series ===\n",
    "try:\n",
    "    inputs = [var for var in [cfg.INFLOW, cfg.PRECIPITATION, cfg.EVAPORATION, cfg.DEMAND] if var]\n",
    "    outputs = ['storage', 'outflow']\n",
    "    timeseries = read_timeseries(\n",
    "        path=cfg.PATH_DATA / 'time_series' / 'csv',\n",
    "        reservoirs=attributes.index,\n",
    "        periods=periods,\n",
    "        variables=inputs + outputs\n",
    "    )\n",
    "    logger.info(f'{len(timeseries)} reservoirs with timeseries')\n",
    "except IOError:\n",
    "    logger.exception('Failed to read time series from {0}: {1}'.format(cfg.PATH_DATA / 'time_series' / 'csv'))\n",
    "    raise"
   ]
  },
  {
   "cell_type": "code",
   "execution_count": 8,
   "id": "56d462e0-caac-4c4c-8156-e8c564f528ae",
   "metadata": {},
   "outputs": [
    {
     "name": "stderr",
     "output_type": "stream",
     "text": [
      "simulating reservoir:   0%|                                                                      | 0/5 [00:00<?, ?it/s]2025-05-08 13:23:36 | INFO | __main__ | Simulation already exists for reservoir 41, skipping (use --overwrite to force)\n",
      "2025-05-08 13:23:36 | INFO | __main__ | Simulation already exists for reservoir 355, skipping (use --overwrite to force)\n",
      "2025-05-08 13:23:36 | INFO | __main__ | Simulation already exists for reservoir 517, skipping (use --overwrite to force)\n",
      "2025-05-08 13:23:36 | INFO | __main__ | Simulation already exists for reservoir 1033, skipping (use --overwrite to force)\n",
      "2025-05-08 13:23:36 | INFO | __main__ | Simulation already exists for reservoir 1753, skipping (use --overwrite to force)\n",
      "simulating reservoir: 100%|█████████████████████████████████████████████████████████████| 5/5 [00:00<00:00, 269.62it/s]\n"
     ]
    }
   ],
   "source": [
    "# === Simulate reservoir routine ===\n",
    "for grand_id, ts in tqdm(timeseries.items(), desc='simulating reservoir'):\n",
    "\n",
    "    out_file = cfg.PATH_DEF / f'{grand_id}_simulation.csv'\n",
    "    if out_file.exists() and not OVERWRITE: #args.overwrite:\n",
    "        logger.info(f'Simulation already exists for reservoir {grand_id}, skipping (use --overwrite to force)')\n",
    "        continue\n",
    "        \n",
    "    logger.info(f'Simulating reservoir {grand_id}')\n",
    "    \n",
    "    # define input time series\n",
    "    inflow = ts[cfg.INFLOW]\n",
    "    precipitation = ts[cfg.PRECIPITATION] if cfg.PRECIPITATION in ts.columns else None\n",
    "    evaporation = ts[cfg.EVAPORATION] if cfg.EVAPORATION in ts.columns else None\n",
    "    demand = ts[cfg.DEMAND] if cfg.DEMAND in ts.columns else None\n",
    "    if cfg.MODEL == 'mhm':\n",
    "        bias = ts.outflow.mean() / inflow.mean()\n",
    "        demand = create_demand(\n",
    "            ts.outflow,\n",
    "            water_stress=min(1, bias),\n",
    "            window=28\n",
    "        )\n",
    "        \n",
    "    # plot observed time series\n",
    "    try:\n",
    "        path_obs = cfg.PATH_DEF.parent.parent / 'observed'\n",
    "        path_obs.mkdir(exist_ok=True)\n",
    "        plot_resops(\n",
    "            storage=ts.storage,\n",
    "            elevation=ts.elevation if 'elevation' in ts.columns else None,\n",
    "            inflow=inflow,\n",
    "            outflow=ts.outflow,\n",
    "            capacity=attributes.loc[grand_id, 'CAP_MCM'] * 1e6,\n",
    "            title=grand_id,\n",
    "            save=path_obs / f'{grand_id}_line.jpg'\n",
    "        )\n",
    "        logger.info(f'Line plot of observations from reservoir {grand_id}')\n",
    "    except IOError:\n",
    "        logger.exception(f'The line plot of observed records could not be generated')\n",
    "    \n",
    "    # estimate default parameters\n",
    "    try:\n",
    "        Vtot = ts.storage.max()\n",
    "        reservoir_attrs = default_attributes(\n",
    "            cfg.MODEL,\n",
    "            inflow,\n",
    "            Vtot,\n",
    "            Vmin=max(0, min(0.1 * Vtot, ts.storage.min())),\n",
    "            Qmin=max(0, ts.outflow.min()),\n",
    "            A=int(attributes.loc[grand_id, 'CATCH_SKM'] * 1e6),\n",
    "            Atot=int(attributes.loc[grand_id, 'AREA_SKM'] * 1e6),\n",
    "            storage=ts.storage,\n",
    "            demand=demand\n",
    "        ) \n",
    "    except RuntimeError:\n",
    "        logger.exception(f'Default parameters for reservoir {grand_id} could not be estimated')\n",
    "        continue\n",
    "\n",
    "    # simulation with default parameters\n",
    "    try:\n",
    "        # declare the reservoir\n",
    "        res = get_model(cfg.MODEL, **reservoir_attrs)\n",
    "\n",
    "        # export default parameters\n",
    "        with open(cfg.PATH_DEF / f'{grand_id}_default_parameters.yml', 'w') as file:\n",
    "            yaml.dump(res.get_params(), file)\n",
    "\n",
    "        # simulate the reservoir\n",
    "        sim_def = res.simulate(\n",
    "            inflow=inflow,\n",
    "            Vo=ts.storage.iloc[0],\n",
    "            precipitation=precipitation,\n",
    "            evaporation=evaporation,\n",
    "            demand=demand,\n",
    "        )\n",
    "        sim_def.to_csv(cfg.PATH_DEF / f'{grand_id}_simulation.csv', float_format='%.3f')\n",
    "\n",
    "        logger.info(f'Reservoir {grand_id} correctly simulated')\n",
    "\n",
    "    except RuntimeError:\n",
    "        logger.exception(f'Reservoir {grand_id} could not be simulated')\n",
    "        continue\n",
    "\n",
    "    # === Analyse results ===\n",
    "    \n",
    "    # performance\n",
    "    try:\n",
    "        performance_def = compute_performance(ts.iloc[cfg.SPINUP:], sim_def.iloc[cfg.SPINUP:])\n",
    "        performance_def.to_csv(cfg.PATH_DEF / f'{grand_id}_performance.csv', float_format='%.3f')\n",
    "        logger.info(f'Performance of reservoir {grand_id} has been computed')\n",
    "    except IOError:\n",
    "        logger.exception(f'The performance of reservoir {grand_id} could not be exported')\n",
    "    \n",
    "    # scatter plot simulation vs observation\n",
    "    try:\n",
    "        res.scatter(\n",
    "            sim_def,\n",
    "            ts,\n",
    "            norm=False,\n",
    "            spinup=cfg.SPINUP,\n",
    "            title=f'grand_id: {grand_id}',\n",
    "            save=cfg.PATH_DEF / f'{grand_id}_scatter_obs_sim.jpg'\n",
    "        )\n",
    "        logger.info(f'Scatter plot of simulation from reservoir {grand_id}')\n",
    "    except IOError:\n",
    "        logger.exception(f'The scatter plot of reservoir {grand_id} could not be generated')\n",
    "    \n",
    "    # line plot simulation vs observation\n",
    "    try:\n",
    "        res.lineplot(\n",
    "            {\n",
    "            'sim': sim_def\n",
    "            },\n",
    "            ts,\n",
    "            spinup=cfg.SPINUP,\n",
    "            figsize=(12, 6),\n",
    "            save=cfg.PATH_DEF / f'{grand_id}_line_obs_sim.jpg'\n",
    "        )\n",
    "        logger.info(f'Line plot of simulation from reservoir {grand_id}')\n",
    "    except IOError:\n",
    "        logger.exception(f'The line plot of reservoir {grand_id} could not be generated')\n",
    "\n",
    "    del res, sim_def, reservoir_attrs, performance_def"
   ]
  }
 ],
 "metadata": {
  "kernelspec": {
   "display_name": "Python 3 (ipykernel)",
   "language": "python",
   "name": "python3"
  },
  "language_info": {
   "codemirror_mode": {
    "name": "ipython",
    "version": 3
   },
   "file_extension": ".py",
   "mimetype": "text/x-python",
   "name": "python",
   "nbconvert_exporter": "python",
   "pygments_lexer": "ipython3",
   "version": "3.11.11"
  }
 },
 "nbformat": 4,
 "nbformat_minor": 5
}
