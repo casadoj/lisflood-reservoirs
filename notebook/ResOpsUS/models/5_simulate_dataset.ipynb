{
 "cells": [
  {
   "cell_type": "markdown",
   "id": "631e1812-9c8c-4f8e-ad1b-41578130117b",
   "metadata": {},
   "source": [
    "# Simulate reservoir routine\n",
    "***\n",
    "\n",
    "**Author:** Chus Casado Rodríguez<br>\n",
    "**Date:** 20-06-2024<br>\n",
    "\n",
    "**Introduction:**<br>\n",
    "This code simulates all the reservoirs included both in GloFASv4 and ResOpsUS according to the reservoir routine defined in the configuration file (attribute `simulation>model`).\n",
    "\n",
    "The inflow time series is taken from GloFASv4 simulations, and the initial storage from the observed records.\n",
    "\n",
    ">Note. The `Shrestha` reservoir routine requires a time series of water demand as input. Since that time series is not available, the code creates a fake demand by a transformation of the input time series.\n",
    "\n",
    "**To do:**<br>\n",
    "* [ ] When using the `Lisflood` model, some parameters could be estimated according to the records:\n",
    "```Python\n",
    "# storage limits\n",
    "Vn_adj = get_normal_value(obs.storage) \n",
    "Vn = 1 * Vn_adj\n",
    "Vtot = reservoirs.loc[grand_id, 'CAP'] * 1e6\n",
    "Vf = Vtot - .2 * (Vtot - Vn_adj)\n",
    "\n",
    "# outflow limits\n",
    "if obs.outflow.isnull().all():\n",
    "    Qn = reservoirs.loc[grand_id, 'normq_adj']\n",
    "else:\n",
    "    Qn = get_normal_value(obs.outflow) \n",
    "if obs.inflow.isnull().all():\n",
    "    Qmin, Qnd = Qmin, Qnd = reservoirs.loc[grand_id, ['minq', 'ndq']]\n",
    "else:\n",
    "    Q100 = return_period(obs.inflow, T=100)\n",
    "    Qnd = .3 * Q100\n",
    "    Qmin = obs.inflow.groupby(obs.index.year).quantile(.05).mean()\n",
    "Qmin = np.min([Qmin, Qn])\n",
    "```\n",
    "\n",
    "**Ideas:**<br>\n"
   ]
  },
  {
   "cell_type": "code",
   "execution_count": 1,
   "id": "c1940f88-25de-47e5-88ec-2ba55e079da6",
   "metadata": {},
   "outputs": [],
   "source": [
    "import sys\n",
    "sys.path.append('../../src/')\n",
    "import os\n",
    "os.environ['USE_PYGEOS'] = '0'\n",
    "import numpy as np\n",
    "import pandas as pd\n",
    "import geopandas as gpd\n",
    "from tqdm.auto import tqdm\n",
    "from pathlib import Path\n",
    "import yaml\n",
    "\n",
    "from lisfloodreservoirs.models import get_model\n",
    "from lisfloodreservoirs.utils.metrics import KGEmod\n",
    "from lisfloodreservoirs.utils.utils import get_normal_value, return_period"
   ]
  },
  {
   "cell_type": "markdown",
   "id": "72d503d3-dd70-4b64-b148-ff7f86e0b789",
   "metadata": {
    "tags": []
   },
   "source": [
    "## Configuration"
   ]
  },
  {
   "cell_type": "code",
   "execution_count": 2,
   "id": "4e3e5ed1-15d8-424c-a2bf-ca26373b8f39",
   "metadata": {},
   "outputs": [
    {
     "name": "stdout",
     "output_type": "stream",
     "text": [
      "Results will be saved in linear\\default\n"
     ]
    }
   ],
   "source": [
    "with open('config_linear_2var.yml', 'r', encoding='utf8') as ymlfile:\n",
    "    cfg = yaml.load(ymlfile, Loader=yaml.FullLoader)\n",
    "\n",
    "### Paths\n",
    "# PATH_GLOFAS = Path(cfg['paths']['GloFAS'])\n",
    "PATH_RESOPS = Path(cfg['paths']['ResOpsUS'])\n",
    "# PATH_GRAND = Path(cfg['paths']['GRanD'])\n",
    "\n",
    "### Reservoir model\n",
    "MODEL = cfg['simulation']['model'].lower()\n",
    "MODEL_CFG = cfg['simulation'].get('config', {})\n",
    "\n",
    "# results will be saved in this path\n",
    "PATH_OUT = Path(f'{MODEL}/default')\n",
    "PATH_OUT.mkdir(parents=True, exist_ok=True)\n",
    "print(f'Results will be saved in {PATH_OUT}')"
   ]
  },
  {
   "cell_type": "code",
   "execution_count": 3,
   "id": "7b99c616-6ac8-427c-ad35-2c7e7656c2f2",
   "metadata": {},
   "outputs": [],
   "source": [
    "variables = ['inflow', 'storage', 'outflow']"
   ]
  },
  {
   "cell_type": "markdown",
   "id": "da057a63-1f1b-412b-9188-3b984c86a637",
   "metadata": {
    "tags": []
   },
   "source": [
    "## Data"
   ]
  },
  {
   "cell_type": "markdown",
   "id": "92ab25ee-79ef-423a-aaf5-eb3c10fc6d6a",
   "metadata": {},
   "source": [
    "### Attributes"
   ]
  },
  {
   "cell_type": "code",
   "execution_count": 4,
   "id": "9cbb1b46-cfb1-4dc0-90da-f67ff4e9adb0",
   "metadata": {},
   "outputs": [
    {
     "name": "stdout",
     "output_type": "stream",
     "text": [
      "118 reservoirs in the attribute tables\n",
      "63 reservoirs include observed timeseris for all variables: inflow\n"
     ]
    }
   ],
   "source": [
    "# import all tables of attributes\n",
    "path_attrs = PATH_RESOPS / 'attributes'\n",
    "try:\n",
    "    attributes = pd.concat([pd.read_csv(file, index_col='GRAND_ID') for file in path_attrs.glob('*.csv')], axis=1, join='inner')\n",
    "except Exception as e:\n",
    "    raise ValueError('ERROR while reading attribute tables: {}'.format(e)) from e\n",
    "print(f'{attributes.shape[0]} reservoirs in the attribute tables')\n",
    "\n",
    "# keep only reservoirs with all observed variables\n",
    "mask = pd.concat([attributes[var.upper()] == 1 for var in variables], axis=1).all(axis=1)\n",
    "attributes = attributes[mask]\n",
    "print('{0} reservoirs include observed timeseris for all variables: {1}'.format(attributes.shape[0],\n",
    "                                                                                *variables))"
   ]
  },
  {
   "cell_type": "markdown",
   "id": "9a07a7af-b676-4a54-b2f9-d7f62acf74ae",
   "metadata": {},
   "source": [
    "#### Time series\n",
    "\n",
    "Time series of reservoirs simulated in GloFAS, as the GloFAS simulated inflow will be used as the forcing of the reservoir module."
   ]
  },
  {
   "cell_type": "code",
   "execution_count": 5,
   "id": "f0ea7a9e-ea5d-46f3-b9d2-d77287141dcb",
   "metadata": {},
   "outputs": [
    {
     "data": {
      "application/vnd.jupyter.widget-view+json": {
       "model_id": "86ac5aba04c347c2a6af54b3ba4d702d",
       "version_major": 2,
       "version_minor": 0
      },
      "text/plain": [
       "reading time series:   0%|          | 0/63 [00:00<?, ?it/s]"
      ]
     },
     "metadata": {},
     "output_type": "display_data"
    },
    {
     "name": "stdout",
     "output_type": "stream",
     "text": [
      "41 does not contain GloFAS simulated time series\n",
      "182 does not contain GloFAS simulated time series\n",
      "185 does not contain GloFAS simulated time series\n",
      "600 does not contain GloFAS simulated time series\n",
      "59 reservoirs with timeseries\n"
     ]
    }
   ],
   "source": [
    "path_ts = PATH_RESOPS / 'time_series' / 'csv'\n",
    "timeseries = {}\n",
    "for grand_id in tqdm(attributes.index, desc='reading time series'):\n",
    "    file = path_ts / f'{grand_id}.csv'\n",
    "    if file.is_file():\n",
    "        ts = pd.read_csv(file, parse_dates=True, index_col='date')\n",
    "    else:\n",
    "        print(f\"File {file} doesn't exist\")\n",
    "        continue\n",
    "    # select columns associated with variables of interest\n",
    "    select_columns = [col for col in ts.columns if col.split('_')[0] in variables]\n",
    "    ts = ts[select_columns]\n",
    "    if not ts.columns.str.contains('glofas').any():\n",
    "        print(f'{grand_id} does not contain GloFAS simulated time series')\n",
    "        continue\n",
    "    # invert normalization\n",
    "    capacity = attributes.loc[grand_id, 'CAP_MCM'] * 1e6\n",
    "    ts *= capacity\n",
    "    ts.iloc[:, ts.columns.str.contains('inflow')] /= (24 * 3600)\n",
    "    ts.iloc[:, ts.columns.str.contains('outflow')] /= (24 * 3600)\n",
    "    # save time series\n",
    "    timeseries[grand_id] = ts\n",
    "    \n",
    "print(f'{len(timeseries)} reservoirs with timeseries')"
   ]
  },
  {
   "cell_type": "code",
   "execution_count": 6,
   "id": "a0797ce2-9891-4f66-b6a3-33e67129c843",
   "metadata": {},
   "outputs": [],
   "source": [
    "# path_ts = PATH_RESOPS / 'time_series' / 'csv'\n",
    "# timeseries = {}\n",
    "# # for grand_id in tqdm(attributes['glofas'].index, desc='reading time series'):\n",
    "# for file in tqdm(list(path_ts.glob('*.csv')), desc='reading time series'):\n",
    "#     grand_id = int(file.stem)\n",
    "#     # read time series\n",
    "#     if grand_id in attributes['glofas'].index:\n",
    "#         ts = pd.read_csv(file, parse_dates=True, index_col='date')\n",
    "#     else:\n",
    "#         continue\n",
    "#     # select columns associated with variables of interest\n",
    "#     select_columns = [col for col in ts.columns if col.split('_')[0] in variables]\n",
    "#     ts = ts[select_columns]\n",
    "    \n",
    "#     # invert normalization\n",
    "#     capacity = attributes['grand'].loc[grand_id, 'CAP_MCM'] * 1e6\n",
    "#     ts *= capacity\n",
    "#     ts.iloc[:, ts.columns.str.contains('inflow')] /= (24 * 3600)\n",
    "#     ts.iloc[:, ts.columns.str.contains('outflow')] /= (24 * 3600)\n",
    "#     # save time series\n",
    "#     timeseries[grand_id] = ts\n",
    "    \n",
    "# print(f'{len(timeseries)} reservoirs with timeseries')"
   ]
  },
  {
   "cell_type": "markdown",
   "id": "6a9c7ea5-ff9a-4d13-b09f-bb7b07f2b93f",
   "metadata": {},
   "source": [
    "## Reservoir routine\n",
    "### Simulate all reservoirs"
   ]
  },
  {
   "cell_type": "code",
   "execution_count": 7,
   "id": "1a579d98-aa64-4d58-9177-0beeb95c461a",
   "metadata": {
    "tags": []
   },
   "outputs": [
    {
     "data": {
      "application/vnd.jupyter.widget-view+json": {
       "model_id": "96a52d75529742b586dea98527816e2c",
       "version_major": 2,
       "version_minor": 0
      },
      "text/plain": [
       "simulating reservoir:   0%|          | 0/59 [00:00<?, ?it/s]"
      ]
     },
     "metadata": {},
     "output_type": "display_data"
    },
    {
     "data": {
      "application/vnd.jupyter.widget-view+json": {
       "model_id": "2b5c78ce25e94195b7f2dcd73d772e1a",
       "version_major": 2,
       "version_minor": 0
      },
      "text/plain": [
       "  0%|          | 0/13878 [00:00<?, ?it/s]"
      ]
     },
     "metadata": {},
     "output_type": "display_data"
    },
    {
     "data": {
      "application/vnd.jupyter.widget-view+json": {
       "model_id": "6fb262c0b32e41169c2975571058c0fd",
       "version_major": 2,
       "version_minor": 0
      },
      "text/plain": [
       "  0%|          | 0/13878 [00:00<?, ?it/s]"
      ]
     },
     "metadata": {},
     "output_type": "display_data"
    },
    {
     "data": {
      "application/vnd.jupyter.widget-view+json": {
       "model_id": "0e9e6204ca1848b38450d7ab46dbf1fb",
       "version_major": 2,
       "version_minor": 0
      },
      "text/plain": [
       "  0%|          | 0/12739 [00:00<?, ?it/s]"
      ]
     },
     "metadata": {},
     "output_type": "display_data"
    },
    {
     "data": {
      "application/vnd.jupyter.widget-view+json": {
       "model_id": "b8eccd9bfe2a4c65a6e2d02f0a5fcf0a",
       "version_major": 2,
       "version_minor": 0
      },
      "text/plain": [
       "  0%|          | 0/12781 [00:00<?, ?it/s]"
      ]
     },
     "metadata": {},
     "output_type": "display_data"
    },
    {
     "data": {
      "application/vnd.jupyter.widget-view+json": {
       "model_id": "a0841d6f6fa749eb8c879bcccd793b68",
       "version_major": 2,
       "version_minor": 0
      },
      "text/plain": [
       "  0%|          | 0/12738 [00:00<?, ?it/s]"
      ]
     },
     "metadata": {},
     "output_type": "display_data"
    },
    {
     "data": {
      "application/vnd.jupyter.widget-view+json": {
       "model_id": "90b2302e133c4bccb17aef3847182291",
       "version_major": 2,
       "version_minor": 0
      },
      "text/plain": [
       "  0%|          | 0/13878 [00:00<?, ?it/s]"
      ]
     },
     "metadata": {},
     "output_type": "display_data"
    },
    {
     "data": {
      "application/vnd.jupyter.widget-view+json": {
       "model_id": "22e55272d3244261b6bf9d7578bf2f8f",
       "version_major": 2,
       "version_minor": 0
      },
      "text/plain": [
       "  0%|          | 0/12782 [00:00<?, ?it/s]"
      ]
     },
     "metadata": {},
     "output_type": "display_data"
    },
    {
     "data": {
      "application/vnd.jupyter.widget-view+json": {
       "model_id": "465b59331d93467393962b5135bd39ad",
       "version_major": 2,
       "version_minor": 0
      },
      "text/plain": [
       "  0%|          | 0/13878 [00:00<?, ?it/s]"
      ]
     },
     "metadata": {},
     "output_type": "display_data"
    },
    {
     "data": {
      "application/vnd.jupyter.widget-view+json": {
       "model_id": "c35b0e1658784409869925969947454d",
       "version_major": 2,
       "version_minor": 0
      },
      "text/plain": [
       "  0%|          | 0/13878 [00:00<?, ?it/s]"
      ]
     },
     "metadata": {},
     "output_type": "display_data"
    },
    {
     "data": {
      "application/vnd.jupyter.widget-view+json": {
       "model_id": "1425c3dea5a0467b9315549f4e6721d2",
       "version_major": 2,
       "version_minor": 0
      },
      "text/plain": [
       "  0%|          | 0/13878 [00:00<?, ?it/s]"
      ]
     },
     "metadata": {},
     "output_type": "display_data"
    },
    {
     "data": {
      "application/vnd.jupyter.widget-view+json": {
       "model_id": "06865f54f5b7464590ae12c8327dceae",
       "version_major": 2,
       "version_minor": 0
      },
      "text/plain": [
       "  0%|          | 0/13878 [00:00<?, ?it/s]"
      ]
     },
     "metadata": {},
     "output_type": "display_data"
    },
    {
     "data": {
      "application/vnd.jupyter.widget-view+json": {
       "model_id": "bfb18009682c4d0fbc6251346a4eaf13",
       "version_major": 2,
       "version_minor": 0
      },
      "text/plain": [
       "  0%|          | 0/13878 [00:00<?, ?it/s]"
      ]
     },
     "metadata": {},
     "output_type": "display_data"
    },
    {
     "data": {
      "application/vnd.jupyter.widget-view+json": {
       "model_id": "2fd9ff0195704541a59f2eb97a44880e",
       "version_major": 2,
       "version_minor": 0
      },
      "text/plain": [
       "  0%|          | 0/13384 [00:00<?, ?it/s]"
      ]
     },
     "metadata": {},
     "output_type": "display_data"
    },
    {
     "data": {
      "application/vnd.jupyter.widget-view+json": {
       "model_id": "3e8e3ec990fd4c548db1c31c962d319d",
       "version_major": 2,
       "version_minor": 0
      },
      "text/plain": [
       "  0%|          | 0/13878 [00:00<?, ?it/s]"
      ]
     },
     "metadata": {},
     "output_type": "display_data"
    },
    {
     "data": {
      "application/vnd.jupyter.widget-view+json": {
       "model_id": "4742b52ecf594c34ac2263d3a19d3034",
       "version_major": 2,
       "version_minor": 0
      },
      "text/plain": [
       "  0%|          | 0/13878 [00:00<?, ?it/s]"
      ]
     },
     "metadata": {},
     "output_type": "display_data"
    },
    {
     "data": {
      "application/vnd.jupyter.widget-view+json": {
       "model_id": "af1478a5318e477391b1b28454dbef69",
       "version_major": 2,
       "version_minor": 0
      },
      "text/plain": [
       "  0%|          | 0/11968 [00:00<?, ?it/s]"
      ]
     },
     "metadata": {},
     "output_type": "display_data"
    },
    {
     "data": {
      "application/vnd.jupyter.widget-view+json": {
       "model_id": "d957bf0510e348cf91437b65bd201902",
       "version_major": 2,
       "version_minor": 0
      },
      "text/plain": [
       "  0%|          | 0/13878 [00:00<?, ?it/s]"
      ]
     },
     "metadata": {},
     "output_type": "display_data"
    },
    {
     "data": {
      "application/vnd.jupyter.widget-view+json": {
       "model_id": "3e352016bdd34779afd8d528e6613c3b",
       "version_major": 2,
       "version_minor": 0
      },
      "text/plain": [
       "  0%|          | 0/13878 [00:00<?, ?it/s]"
      ]
     },
     "metadata": {},
     "output_type": "display_data"
    },
    {
     "data": {
      "application/vnd.jupyter.widget-view+json": {
       "model_id": "74014638bc7d470bbe274e89e3ac9fce",
       "version_major": 2,
       "version_minor": 0
      },
      "text/plain": [
       "  0%|          | 0/13878 [00:00<?, ?it/s]"
      ]
     },
     "metadata": {},
     "output_type": "display_data"
    },
    {
     "data": {
      "application/vnd.jupyter.widget-view+json": {
       "model_id": "780d58b5f35e425faa6ce11525589990",
       "version_major": 2,
       "version_minor": 0
      },
      "text/plain": [
       "  0%|          | 0/13878 [00:00<?, ?it/s]"
      ]
     },
     "metadata": {},
     "output_type": "display_data"
    },
    {
     "data": {
      "application/vnd.jupyter.widget-view+json": {
       "model_id": "ef532113a658445e9dc6d82fa1c22dd4",
       "version_major": 2,
       "version_minor": 0
      },
      "text/plain": [
       "  0%|          | 0/13878 [00:00<?, ?it/s]"
      ]
     },
     "metadata": {},
     "output_type": "display_data"
    },
    {
     "data": {
      "application/vnd.jupyter.widget-view+json": {
       "model_id": "8bb8f302b79644b5896aca38851c44bf",
       "version_major": 2,
       "version_minor": 0
      },
      "text/plain": [
       "  0%|          | 0/13878 [00:00<?, ?it/s]"
      ]
     },
     "metadata": {},
     "output_type": "display_data"
    },
    {
     "data": {
      "application/vnd.jupyter.widget-view+json": {
       "model_id": "296a922317a148429365c1ec221b56bb",
       "version_major": 2,
       "version_minor": 0
      },
      "text/plain": [
       "  0%|          | 0/13878 [00:00<?, ?it/s]"
      ]
     },
     "metadata": {},
     "output_type": "display_data"
    },
    {
     "data": {
      "application/vnd.jupyter.widget-view+json": {
       "model_id": "e69020ff6a5445cb88a9213785e22218",
       "version_major": 2,
       "version_minor": 0
      },
      "text/plain": [
       "  0%|          | 0/13878 [00:00<?, ?it/s]"
      ]
     },
     "metadata": {},
     "output_type": "display_data"
    },
    {
     "data": {
      "application/vnd.jupyter.widget-view+json": {
       "model_id": "55b64c9ba3af49f79de15173af0fb0fa",
       "version_major": 2,
       "version_minor": 0
      },
      "text/plain": [
       "  0%|          | 0/13878 [00:00<?, ?it/s]"
      ]
     },
     "metadata": {},
     "output_type": "display_data"
    },
    {
     "data": {
      "application/vnd.jupyter.widget-view+json": {
       "model_id": "26648b762fee4a6cb4ddfeb82b5db194",
       "version_major": 2,
       "version_minor": 0
      },
      "text/plain": [
       "  0%|          | 0/13878 [00:00<?, ?it/s]"
      ]
     },
     "metadata": {},
     "output_type": "display_data"
    },
    {
     "data": {
      "application/vnd.jupyter.widget-view+json": {
       "model_id": "11b0fd0b70f4460db02f5f4ec37e0605",
       "version_major": 2,
       "version_minor": 0
      },
      "text/plain": [
       "  0%|          | 0/13878 [00:00<?, ?it/s]"
      ]
     },
     "metadata": {},
     "output_type": "display_data"
    },
    {
     "data": {
      "application/vnd.jupyter.widget-view+json": {
       "model_id": "e39b100b16884b2abd8b61941362eb53",
       "version_major": 2,
       "version_minor": 0
      },
      "text/plain": [
       "  0%|          | 0/13878 [00:00<?, ?it/s]"
      ]
     },
     "metadata": {},
     "output_type": "display_data"
    },
    {
     "data": {
      "application/vnd.jupyter.widget-view+json": {
       "model_id": "fc2c2aa152e041f8bc9b2390284ff52d",
       "version_major": 2,
       "version_minor": 0
      },
      "text/plain": [
       "  0%|          | 0/13878 [00:00<?, ?it/s]"
      ]
     },
     "metadata": {},
     "output_type": "display_data"
    },
    {
     "data": {
      "application/vnd.jupyter.widget-view+json": {
       "model_id": "61f07e1be32c4de785173f0e992f7f28",
       "version_major": 2,
       "version_minor": 0
      },
      "text/plain": [
       "  0%|          | 0/13878 [00:00<?, ?it/s]"
      ]
     },
     "metadata": {},
     "output_type": "display_data"
    },
    {
     "data": {
      "application/vnd.jupyter.widget-view+json": {
       "model_id": "799f5447405a41148929fd620e0d8f25",
       "version_major": 2,
       "version_minor": 0
      },
      "text/plain": [
       "  0%|          | 0/13878 [00:00<?, ?it/s]"
      ]
     },
     "metadata": {},
     "output_type": "display_data"
    },
    {
     "data": {
      "application/vnd.jupyter.widget-view+json": {
       "model_id": "ff9b07a235b5438cbbb32379f25c0ac5",
       "version_major": 2,
       "version_minor": 0
      },
      "text/plain": [
       "  0%|          | 0/13878 [00:00<?, ?it/s]"
      ]
     },
     "metadata": {},
     "output_type": "display_data"
    },
    {
     "data": {
      "application/vnd.jupyter.widget-view+json": {
       "model_id": "90509ae897284f91bf49f46fcac10459",
       "version_major": 2,
       "version_minor": 0
      },
      "text/plain": [
       "  0%|          | 0/12144 [00:00<?, ?it/s]"
      ]
     },
     "metadata": {},
     "output_type": "display_data"
    },
    {
     "data": {
      "application/vnd.jupyter.widget-view+json": {
       "model_id": "02950720b3f241e1b263512323077e6d",
       "version_major": 2,
       "version_minor": 0
      },
      "text/plain": [
       "  0%|          | 0/13878 [00:00<?, ?it/s]"
      ]
     },
     "metadata": {},
     "output_type": "display_data"
    },
    {
     "data": {
      "application/vnd.jupyter.widget-view+json": {
       "model_id": "e21f777196c24b6da80a0197271ad600",
       "version_major": 2,
       "version_minor": 0
      },
      "text/plain": [
       "  0%|          | 0/13878 [00:00<?, ?it/s]"
      ]
     },
     "metadata": {},
     "output_type": "display_data"
    },
    {
     "data": {
      "application/vnd.jupyter.widget-view+json": {
       "model_id": "264a5afd9c304f8e9ae49d58cf5773e8",
       "version_major": 2,
       "version_minor": 0
      },
      "text/plain": [
       "  0%|          | 0/13878 [00:00<?, ?it/s]"
      ]
     },
     "metadata": {},
     "output_type": "display_data"
    },
    {
     "data": {
      "application/vnd.jupyter.widget-view+json": {
       "model_id": "0bfd3728c0e3415fbc85e3bc1e831df2",
       "version_major": 2,
       "version_minor": 0
      },
      "text/plain": [
       "  0%|          | 0/13878 [00:00<?, ?it/s]"
      ]
     },
     "metadata": {},
     "output_type": "display_data"
    },
    {
     "data": {
      "application/vnd.jupyter.widget-view+json": {
       "model_id": "cd44a0139615432e914d1b5ecde1fabb",
       "version_major": 2,
       "version_minor": 0
      },
      "text/plain": [
       "  0%|          | 0/13878 [00:00<?, ?it/s]"
      ]
     },
     "metadata": {},
     "output_type": "display_data"
    },
    {
     "data": {
      "application/vnd.jupyter.widget-view+json": {
       "model_id": "e674420c50db47c2b18eba4106349029",
       "version_major": 2,
       "version_minor": 0
      },
      "text/plain": [
       "  0%|          | 0/13878 [00:00<?, ?it/s]"
      ]
     },
     "metadata": {},
     "output_type": "display_data"
    },
    {
     "data": {
      "application/vnd.jupyter.widget-view+json": {
       "model_id": "b7f2c7c2a5d346a4bb0dd186ce1cd940",
       "version_major": 2,
       "version_minor": 0
      },
      "text/plain": [
       "  0%|          | 0/13878 [00:00<?, ?it/s]"
      ]
     },
     "metadata": {},
     "output_type": "display_data"
    },
    {
     "data": {
      "application/vnd.jupyter.widget-view+json": {
       "model_id": "c8ae008eb35c4556b5d9a93a46b4c3f2",
       "version_major": 2,
       "version_minor": 0
      },
      "text/plain": [
       "  0%|          | 0/9039 [00:00<?, ?it/s]"
      ]
     },
     "metadata": {},
     "output_type": "display_data"
    },
    {
     "data": {
      "application/vnd.jupyter.widget-view+json": {
       "model_id": "40731dbb889f4eafadae59a75606c088",
       "version_major": 2,
       "version_minor": 0
      },
      "text/plain": [
       "  0%|          | 0/4687 [00:00<?, ?it/s]"
      ]
     },
     "metadata": {},
     "output_type": "display_data"
    },
    {
     "data": {
      "application/vnd.jupyter.widget-view+json": {
       "model_id": "0407ef8436944201ac955431068cc01c",
       "version_major": 2,
       "version_minor": 0
      },
      "text/plain": [
       "  0%|          | 0/13878 [00:00<?, ?it/s]"
      ]
     },
     "metadata": {},
     "output_type": "display_data"
    },
    {
     "data": {
      "application/vnd.jupyter.widget-view+json": {
       "model_id": "a2c2aa17e97245d7b947c9ae81d4dddf",
       "version_major": 2,
       "version_minor": 0
      },
      "text/plain": [
       "  0%|          | 0/13878 [00:00<?, ?it/s]"
      ]
     },
     "metadata": {},
     "output_type": "display_data"
    },
    {
     "data": {
      "application/vnd.jupyter.widget-view+json": {
       "model_id": "ee0698bdcd394436894acb75450771fc",
       "version_major": 2,
       "version_minor": 0
      },
      "text/plain": [
       "  0%|          | 0/11687 [00:00<?, ?it/s]"
      ]
     },
     "metadata": {},
     "output_type": "display_data"
    },
    {
     "data": {
      "application/vnd.jupyter.widget-view+json": {
       "model_id": "9f909639bd524b23b9fca46041981948",
       "version_major": 2,
       "version_minor": 0
      },
      "text/plain": [
       "  0%|          | 0/13878 [00:00<?, ?it/s]"
      ]
     },
     "metadata": {},
     "output_type": "display_data"
    },
    {
     "data": {
      "application/vnd.jupyter.widget-view+json": {
       "model_id": "f57df80a85db43a68f2eb351aff16c55",
       "version_major": 2,
       "version_minor": 0
      },
      "text/plain": [
       "  0%|          | 0/13835 [00:00<?, ?it/s]"
      ]
     },
     "metadata": {},
     "output_type": "display_data"
    },
    {
     "data": {
      "application/vnd.jupyter.widget-view+json": {
       "model_id": "d58d7a0f4ad1423e9b52979deb6366e7",
       "version_major": 2,
       "version_minor": 0
      },
      "text/plain": [
       "  0%|          | 0/13835 [00:00<?, ?it/s]"
      ]
     },
     "metadata": {},
     "output_type": "display_data"
    },
    {
     "data": {
      "application/vnd.jupyter.widget-view+json": {
       "model_id": "f7166e7d674b4684912b625b8a2d5ab2",
       "version_major": 2,
       "version_minor": 0
      },
      "text/plain": [
       "  0%|          | 0/13878 [00:00<?, ?it/s]"
      ]
     },
     "metadata": {},
     "output_type": "display_data"
    },
    {
     "data": {
      "application/vnd.jupyter.widget-view+json": {
       "model_id": "4141665f6ad6453f999041c032481302",
       "version_major": 2,
       "version_minor": 0
      },
      "text/plain": [
       "  0%|          | 0/13835 [00:00<?, ?it/s]"
      ]
     },
     "metadata": {},
     "output_type": "display_data"
    },
    {
     "data": {
      "application/vnd.jupyter.widget-view+json": {
       "model_id": "618073af033444b4992f48a19ccdb651",
       "version_major": 2,
       "version_minor": 0
      },
      "text/plain": [
       "  0%|          | 0/13835 [00:00<?, ?it/s]"
      ]
     },
     "metadata": {},
     "output_type": "display_data"
    },
    {
     "data": {
      "application/vnd.jupyter.widget-view+json": {
       "model_id": "c2148e8d2cce46738debfdc384948845",
       "version_major": 2,
       "version_minor": 0
      },
      "text/plain": [
       "  0%|          | 0/13179 [00:00<?, ?it/s]"
      ]
     },
     "metadata": {},
     "output_type": "display_data"
    },
    {
     "data": {
      "application/vnd.jupyter.widget-view+json": {
       "model_id": "f7790f9f73224cd78bb092ef554832df",
       "version_major": 2,
       "version_minor": 0
      },
      "text/plain": [
       "  0%|          | 0/13878 [00:00<?, ?it/s]"
      ]
     },
     "metadata": {},
     "output_type": "display_data"
    },
    {
     "data": {
      "application/vnd.jupyter.widget-view+json": {
       "model_id": "32110a2b28324bd9940aa7f4d76d15c9",
       "version_major": 2,
       "version_minor": 0
      },
      "text/plain": [
       "  0%|          | 0/13878 [00:00<?, ?it/s]"
      ]
     },
     "metadata": {},
     "output_type": "display_data"
    },
    {
     "data": {
      "application/vnd.jupyter.widget-view+json": {
       "model_id": "21425f628e14415baf51817e3c4dc93e",
       "version_major": 2,
       "version_minor": 0
      },
      "text/plain": [
       "  0%|          | 0/13878 [00:00<?, ?it/s]"
      ]
     },
     "metadata": {},
     "output_type": "display_data"
    },
    {
     "data": {
      "application/vnd.jupyter.widget-view+json": {
       "model_id": "75ea8b1520914411b5284c82a57c745a",
       "version_major": 2,
       "version_minor": 0
      },
      "text/plain": [
       "  0%|          | 0/12326 [00:00<?, ?it/s]"
      ]
     },
     "metadata": {},
     "output_type": "display_data"
    },
    {
     "data": {
      "application/vnd.jupyter.widget-view+json": {
       "model_id": "6f1398a7804a4c73adbaea35ef745b07",
       "version_major": 2,
       "version_minor": 0
      },
      "text/plain": [
       "  0%|          | 0/13878 [00:00<?, ?it/s]"
      ]
     },
     "metadata": {},
     "output_type": "display_data"
    },
    {
     "data": {
      "application/vnd.jupyter.widget-view+json": {
       "model_id": "dba757191d544c2e911b47ef0b7ae9fa",
       "version_major": 2,
       "version_minor": 0
      },
      "text/plain": [
       "  0%|          | 0/12934 [00:00<?, ?it/s]"
      ]
     },
     "metadata": {},
     "output_type": "display_data"
    },
    {
     "data": {
      "application/vnd.jupyter.widget-view+json": {
       "model_id": "ad45a881c11a4c738223ee421148e03b",
       "version_major": 2,
       "version_minor": 0
      },
      "text/plain": [
       "  0%|          | 0/13514 [00:00<?, ?it/s]"
      ]
     },
     "metadata": {},
     "output_type": "display_data"
    }
   ],
   "source": [
    "# GloFAS reservoir\n",
    "for grand_id, ts in tqdm(timeseries.items(), desc='simulating reservoir'): # 146 #302 #273 #236 #227\n",
    "    \n",
    "    # file where the simulation results will be saved\n",
    "    file_out = PATH_OUT / f'{grand_id:03}_performance.csv'\n",
    "    if file_out.is_file():\n",
    "        print(f'The file {file_out} already exists.')\n",
    "        continue\n",
    "        \n",
    "    ## TIME SERIES\n",
    "    try:\n",
    "        # observed time series\n",
    "        obs = ts[ts.columns.intersection(variables)].copy()\n",
    "        obs[obs < 0] = np.nan\n",
    "        # GloFAS simulated time series\n",
    "        glofas = ts[[f'{var}_glofas' for var in variables]]\n",
    "        glofas.columns = variables\n",
    "    except Exception as e:\n",
    "        print(f'ERROR. The time series of reservoir {grand_id} could not be set up\\n', e)\n",
    "        continue\n",
    "\n",
    "    # storage limits (m3)\n",
    "    Vtot, Vmin = attributes.loc[grand_id, ['CAP_MCM', 'Vmin']]\n",
    "    Vtot *= 1e6\n",
    "    Vmin *= Vtot\n",
    "    # outflow limits (m3/s)\n",
    "    Qmin = attributes.loc[grand_id, 'Qmin']\n",
    "    \n",
    "    if MODEL.lower() == 'linear':\n",
    "        # residence time: number of days required to fill the reservoir with the mean inflow\n",
    "        # if 'inflow' in obs.columns:\n",
    "        if (~obs.inflow.isnull()).sum() > 365 * 4:\n",
    "            T = Vtot / (obs.inflow.mean() * 24 * 3600)\n",
    "        # elif 'outflow' in obs.columns:\n",
    "        elif (~obs.outflow.isnull()).sum() > 365 * 4:\n",
    "            T = Vtot / (obs.outflow.mean() * 24 * 3600)\n",
    "        # elif 'inflow' in glofas.columns:\n",
    "        if (~glofas.inflow.isnull()).sum() > 365 * 4:\n",
    "            T = Vtot / (glofas.inflow.mean() * 24 * 3600)\n",
    "        else:\n",
    "            print(f'Reservoir {grand_id} does not have neither inflow nor ouflow observation, so the residence time cannot be estimated')\n",
    "            continue\n",
    "        kwargs = {'Vmin': Vmin, 'Vtot': Vtot, 'Qmin': Qmin, 'T': T} \n",
    "    \n",
    "    elif MODEL.lower() == 'lisflood':\n",
    "        # storage limits (m3)\n",
    "        Vn, Vn_adj, Vf = attributes.loc[grand_id, ['Vn', 'Vn_adj', 'Vf']] * Vtot\n",
    "        # outflow limits (m3)\n",
    "        Qn, Qf = attributes.loc[grand_id, ['Qn_adj', 'Qf']]\n",
    "        # keyword arguments\n",
    "        kwargs = {'Vmin': Vmin, 'Vn': Vn, 'Vn_adj': Vn_adj, 'Vf': Vf, 'Vtot': Vtot, 'Qmin': Qmin, 'Qn': Qn, 'Qf': Qf}\n",
    "    \n",
    "    elif MODEL.lower() == 'hanazaki':\n",
    "        # storage limits (m3)\n",
    "        Vf = obs.storage[start:].quantile(.75)\n",
    "        Ve = Vtot - .2 * (Vtot - Vf)\n",
    "        Vmin = .5 * Vf\n",
    "        # outflow limits\n",
    "        if (~obs.inflow.isnull()).sum() > 365 * 4:\n",
    "            inflow = obs.inflow\n",
    "        else:\n",
    "            inflow = glofas.inflow\n",
    "        # inflow = obs.inflow if 'inflow' in obs.columns else glofas.inflow            \n",
    "        Qn = inflow.mean()\n",
    "        Q100 = return_period(inflow, T=100)\n",
    "        Qf = .3 * Q100\n",
    "        # catchment area (m2)\n",
    "        A = attributes.loc[grand_id, 'CATCH_SKM'] * 1e6\n",
    "        # keyword arguments\n",
    "        kwargs = {'Vmin': Vmin, 'Vf': Vf, 'Ve': Ve, 'Vtot': Vtot, 'Qn': Qn, 'Qf': Qf, 'A': A}\n",
    "    \n",
    "    elif MODEL.lower() == 'shrestha':\n",
    "        # create a fake demand\n",
    "        # inflow = obs.inflow if 'inflow' in obs.columns else glofas.inflow\n",
    "        inflow = glofas.inflow\n",
    "        demand = .8 * inflow + np.random.normal(loc=0, scale=inflow.std() * .5, size=inflow.shape)\n",
    "        demand[demand < 0] = 0\n",
    "        # normal filling\n",
    "        storage = obs.storage if 'storage' in obs.columns else glofas.storage\n",
    "        gamma = obs.median() / Vtot\n",
    "        # keyword arguments\n",
    "        kwargs = {'Vmin': Vmin, 'Vtot': Vtot, 'Qmin': Qmin, 'avg_inflow': inflow.mean(), 'avg_demand': demand.mean(), 'gamma': gamma}\n",
    "        MODEL_CFG = {'demand': demand}\n",
    "        \n",
    "    # # export default parameters\n",
    "    # with open(PATH_OUT / f'{grand_id:03}_default_parameters.yml', 'w') as file:\n",
    "    #     yaml.dump(kwargs, file)\n",
    "    \n",
    "    # declare the reservoir\n",
    "    res = get_model(MODEL, **kwargs)\n",
    "\n",
    "    # simulate the reservoir\n",
    "    if 'storage' in obs:\n",
    "        Vo = obs.loc[obs.storage.first_valid_index(), 'storage']\n",
    "    else:\n",
    "        Vo = None\n",
    "    sim = res.simulate(glofas.inflow, Vo, **MODEL_CFG)\n",
    "\n",
    "    # analyse simulation\n",
    "    performance = pd.DataFrame(index=['KGE', 'alpha', 'beta', 'rho'], columns=obs.columns)\n",
    "    for var in performance.columns:\n",
    "        try:\n",
    "            performance[var] = KGEmod(obs[var], sim[var])\n",
    "        except:\n",
    "            continue\n",
    "    performance.to_csv(file_out, float_format='%.3f')\n",
    "    res.scatter(sim,\n",
    "                obs,\n",
    "                norm=False,\n",
    "                title=f'grand_id: {grand_id}',\n",
    "                save=PATH_OUT / f'{grand_id}_scatter_default.jpg',\n",
    "               )\n",
    "    \n",
    "    res.lineplot({'GloFAS': glofas, \n",
    "                  'sim': sim},\n",
    "                 obs,\n",
    "                 figsize=(12, 6),\n",
    "                 save=PATH_OUT / f'{grand_id}_line_default.jpg',\n",
    "               )"
   ]
  },
  {
   "cell_type": "code",
   "execution_count": null,
   "id": "df7471f8-7362-4c77-888a-45714c522daf",
   "metadata": {},
   "outputs": [],
   "source": []
  }
 ],
 "metadata": {
  "kernelspec": {
   "display_name": "Python 3 (ipykernel)",
   "language": "python",
   "name": "python3"
  },
  "language_info": {
   "codemirror_mode": {
    "name": "ipython",
    "version": 3
   },
   "file_extension": ".py",
   "mimetype": "text/x-python",
   "name": "python",
   "nbconvert_exporter": "python",
   "pygments_lexer": "ipython3",
   "version": "3.9.13"
  }
 },
 "nbformat": 4,
 "nbformat_minor": 5
}
