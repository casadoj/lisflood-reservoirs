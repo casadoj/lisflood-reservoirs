{
 "cells": [
  {
   "cell_type": "markdown",
   "id": "4516f5e0-f0dd-4bdb-af93-3cf34cfb94c6",
   "metadata": {},
   "source": [
    "# Reservoir calibration with SCE-UA\n",
    "***\n",
    "\n",
    "**Autor:** Chus Casado<br>\n",
    "**Date:** 23-06-2024<br>\n",
    "\n",
    "**Introduction:**<br>\n",
    "This code calibrates a reservoir model using the genetic algorithm SCE-UA (Shuffle Complex Evolution-University of Arizona) ([Duan et al., 2023](https://link.springer.com/article/10.1007/BF00939380)).\n",
    "\n",
    "The setup of the calibration (reservoir model, target variable(s), etc) is defined in the _config*.yml_ file.\n",
    "\n",
    "**To do:**<br>\n",
    "* [ ] Make sure that all the input data is defined in the configuration file.\n",
    "* [ ] Convert this notebook into a executable script with several arguments:\n",
    "    * [ ] `--config-file` to define the configuration file\n",
    "    * [ ] `--id` to define a list of reservoirs to be calibrated. By default it would include all the reservoirs in the input data.\n",
    "    * [ ] `--overwrite` to allow for overwriting the results of previous calibrations. By default is False, so the calibration would skip a reservoir if already calibrated with the same setup.\n",
    "* [ ] Should we apply split sampling or not? If yes, what would be the best parameter set, the one with the best performance in the calibration or the validation set?\n",
    "    \n",
    "All these arguments can be added to the configuration file, instead.\n",
    "\n",
    "**Questions:**<br>"
   ]
  },
  {
   "cell_type": "code",
   "execution_count": 1,
   "id": "bd31a8cb-3683-4fb1-bc9d-b9d606fe64ec",
   "metadata": {},
   "outputs": [],
   "source": [
    "import sys\n",
    "sys.path.append('../../src/')\n",
    "import os\n",
    "os.environ['USE_PYGEOS'] = '0'\n",
    "import numpy as np\n",
    "import pandas as pd\n",
    "import geopandas as gpd\n",
    "from datetime import datetime, timedelta\n",
    "import spotpy\n",
    "# from spotpy.objectivefunctions import kge\n",
    "from tqdm.auto import tqdm\n",
    "from pathlib import Path\n",
    "import yaml\n",
    "\n",
    "from lisfloodreservoirs.models import get_model\n",
    "from lisfloodreservoirs.calibration import get_calibrator\n",
    "from lisfloodreservoirs.utils.metrics import KGEmod"
   ]
  },
  {
   "cell_type": "markdown",
   "id": "58c16a79-1c1c-42d0-8b03-11e6ece2dfb2",
   "metadata": {
    "tags": []
   },
   "source": [
    "## Configuration"
   ]
  },
  {
   "cell_type": "code",
   "execution_count": 2,
   "id": "1b20a888-de22-4e04-8d27-7c1c220cfbfb",
   "metadata": {},
   "outputs": [
    {
     "name": "stdout",
     "output_type": "stream",
     "text": [
      "Results will be saved in linear\\calibration\\sceua\\bivariate\n"
     ]
    }
   ],
   "source": [
    "with open('config_linear_2var.yml', 'r', encoding='utf8') as ymlfile:\n",
    "    cfg = yaml.load(ymlfile, Loader=yaml.FullLoader)\n",
    "\n",
    "### Paths\n",
    "# PATH_GLOFAS = Path(cfg['paths']['GloFAS'])\n",
    "PATH_RESOPS = Path(cfg['paths']['ResOpsUS'])\n",
    "# PATH_GRAND = Path(cfg['paths']['GRanD'])\n",
    "\n",
    "### Reservoir model\n",
    "MODEL = cfg['simulation']['model'].lower()\n",
    "MODEL_CFG = cfg['simulation'].get('config', {})\n",
    "\n",
    "# calibration\n",
    "ALGORITHM = cfg['calibration']['algorithm'].lower()\n",
    "TARGET = cfg['calibration']['target']\n",
    "MAX_ITER = cfg['calibration'].get('max_iter', 1000)\n",
    "COMPLEXES = cfg['calibration'].get('COMPLEXES', 4)\n",
    "TRAIN_SIZE = cfg['calibration'].get('TRAIN_SIZE', 0.7)\n",
    "# # sequential mode\n",
    "# parallel = \"seq\"  \n",
    "\n",
    "# results will be saved in this path\n",
    "PATH_OUT = Path('./') / MODEL / 'calibration' / ALGORITHM\n",
    "if len(TARGET) == 1:\n",
    "    PATH_OUT = PATH_OUT / 'univariate' / TARGET[0]\n",
    "elif len(TARGET) == 2:\n",
    "    PATH_OUT /= 'bivariate'\n",
    "else:\n",
    "    print('ERROR. Only univariate or bivariate calibrations are supported')\n",
    "    sys.exit()\n",
    "PATH_OUT.mkdir(parents=True, exist_ok=True)\n",
    "print(f'Results will be saved in {PATH_OUT}')"
   ]
  },
  {
   "cell_type": "code",
   "execution_count": 3,
   "id": "c7b78af5-8cf2-48da-9713-6dde1960c568",
   "metadata": {},
   "outputs": [],
   "source": [
    "variables = ['inflow', 'storage', 'outflow']"
   ]
  },
  {
   "cell_type": "markdown",
   "id": "0f351856-cee6-4d5e-b561-724f4ea6ebb0",
   "metadata": {
    "tags": []
   },
   "source": [
    "## Data"
   ]
  },
  {
   "cell_type": "markdown",
   "id": "c1663205-7912-416c-983d-9b6ac5529c7b",
   "metadata": {},
   "source": [
    "### Attributes"
   ]
  },
  {
   "cell_type": "code",
   "execution_count": 4,
   "id": "241ef939-5731-49b4-a46c-427dd74ee283",
   "metadata": {},
   "outputs": [
    {
     "name": "stdout",
     "output_type": "stream",
     "text": [
      "118 reservoirs in the attribute tables\n",
      "63 reservoirs include observed timeseris for all variables: inflow\n"
     ]
    }
   ],
   "source": [
    "# import all tables of attributes\n",
    "path_attrs = PATH_RESOPS / 'attributes'\n",
    "try:\n",
    "    attributes = pd.concat([pd.read_csv(file, index_col='GRAND_ID') for file in path_attrs.glob('*.csv')], axis=1, join='inner')\n",
    "except Exception as e:\n",
    "    raise ValueError('ERROR while reading attribute tables: {}'.format(e)) from e\n",
    "print(f'{attributes.shape[0]} reservoirs in the attribute tables')\n",
    "\n",
    "# keep only reservoirs with all observed variables\n",
    "mask = pd.concat([attributes[var.upper()] == 1 for var in variables], axis=1).all(axis=1)\n",
    "attributes = attributes[mask]\n",
    "print('{0} reservoirs include observed timeseris for all variables: {1}'.format(attributes.shape[0],\n",
    "                                                                                *variables))"
   ]
  },
  {
   "cell_type": "markdown",
   "id": "2d6b64f8-6e92-4bee-8023-14e8bcdd6067",
   "metadata": {},
   "source": [
    "#### Time series\n",
    "\n",
    "Time series of reservoirs simulated in GloFAS, as the GloFAS simulated inflow will be used as the forcing of the reservoir module."
   ]
  },
  {
   "cell_type": "code",
   "execution_count": 5,
   "id": "284d8bf9-a3f8-4454-ad45-af293aec90cf",
   "metadata": {},
   "outputs": [
    {
     "data": {
      "application/vnd.jupyter.widget-view+json": {
       "model_id": "56ed50d768cc4daa97e987132495d3d8",
       "version_major": 2,
       "version_minor": 0
      },
      "text/plain": [
       "reading time series:   0%|          | 0/63 [00:00<?, ?it/s]"
      ]
     },
     "metadata": {},
     "output_type": "display_data"
    },
    {
     "name": "stdout",
     "output_type": "stream",
     "text": [
      "41 does not contain GloFAS simulated time series\n",
      "182 does not contain GloFAS simulated time series\n",
      "185 does not contain GloFAS simulated time series\n",
      "600 does not contain GloFAS simulated time series\n",
      "59 reservoirs with timeseries\n"
     ]
    }
   ],
   "source": [
    "path_ts = PATH_RESOPS / 'time_series' / 'csv'\n",
    "timeseries = {}\n",
    "for grand_id in tqdm(attributes.index, desc='reading time series'):\n",
    "    file = path_ts / f'{grand_id}.csv'\n",
    "    if file.is_file():\n",
    "        ts = pd.read_csv(file, parse_dates=True, index_col='date')\n",
    "    else:\n",
    "        print(f\"File {file} doesn't exist\")\n",
    "        continue\n",
    "    # select columns associated with variables of interest\n",
    "    select_columns = [col for col in ts.columns if col.split('_')[0] in variables]\n",
    "    ts = ts[select_columns]\n",
    "    if not ts.columns.str.contains('glofas').any():\n",
    "        print(f'{grand_id} does not contain GloFAS simulated time series')\n",
    "        continue\n",
    "    # invert normalization\n",
    "    capacity = attributes.loc[grand_id, 'CAP_MCM'] * 1e6\n",
    "    ts *= capacity\n",
    "    ts.iloc[:, ts.columns.str.contains('inflow')] /= (24 * 3600)\n",
    "    ts.iloc[:, ts.columns.str.contains('outflow')] /= (24 * 3600)\n",
    "    # save time series\n",
    "    timeseries[grand_id] = ts\n",
    "    \n",
    "print(f'{len(timeseries)} reservoirs with timeseries')"
   ]
  },
  {
   "cell_type": "markdown",
   "id": "da9ae7fd-9a8b-4edc-8b04-4733285c0a84",
   "metadata": {},
   "source": [
    "## Calibration"
   ]
  },
  {
   "cell_type": "code",
   "execution_count": 18,
   "id": "c8533d51-ed81-40bf-949f-0b6a8b9e4960",
   "metadata": {
    "collapsed": true,
    "jupyter": {
     "outputs_hidden": true
    },
    "tags": []
   },
   "outputs": [
    {
     "data": {
      "application/vnd.jupyter.widget-view+json": {
       "model_id": "4be3be6ef64e4728965bd9dac2df6c0b",
       "version_major": 2,
       "version_minor": 0
      },
      "text/plain": [
       "  0%|          | 0/63 [00:00<?, ?it/s]"
      ]
     },
     "metadata": {},
     "output_type": "display_data"
    },
    {
     "name": "stdout",
     "output_type": "stream",
     "text": [
      "ERROR. The time series of reservoir 7313 could not be set up\n",
      " 41\n",
      "Initializing the  Shuffled Complex Evolution (SCE-UA) algorithm  with  1000  repetitions\n",
      "The objective function will be minimized\n",
      "Starting burn-in sampling...\n"
     ]
    },
    {
     "data": {
      "application/vnd.jupyter.widget-view+json": {
       "model_id": "1d605be3f14e4b6d8dbe6018d3394599",
       "version_major": 2,
       "version_minor": 0
      },
      "text/plain": [
       "  0%|          | 0/9714 [00:00<?, ?it/s]"
      ]
     },
     "metadata": {},
     "output_type": "display_data"
    },
    {
     "name": "stdout",
     "output_type": "stream",
     "text": [
      "Initialize database...\n",
      "['csv', 'hdf5', 'ram', 'sql', 'custom', 'noData']\n",
      "* Database file 'linear\\calibration\\sceua\\bivariate/131_samples.csv' created.\n"
     ]
    },
    {
     "data": {
      "application/vnd.jupyter.widget-view+json": {
       "model_id": "76edba7102f4400d8855fc376bf1e734",
       "version_major": 2,
       "version_minor": 0
      },
      "text/plain": [
       "  0%|          | 0/9714 [00:00<?, ?it/s]"
      ]
     },
     "metadata": {},
     "output_type": "display_data"
    },
    {
     "data": {
      "application/vnd.jupyter.widget-view+json": {
       "model_id": "473ba339c2754244a5ad0e1052159917",
       "version_major": 2,
       "version_minor": 0
      },
      "text/plain": [
       "  0%|          | 0/9714 [00:00<?, ?it/s]"
      ]
     },
     "metadata": {},
     "output_type": "display_data"
    },
    {
     "data": {
      "application/vnd.jupyter.widget-view+json": {
       "model_id": "94d40f60085c415197142c39576474a2",
       "version_major": 2,
       "version_minor": 0
      },
      "text/plain": [
       "  0%|          | 0/9714 [00:00<?, ?it/s]"
      ]
     },
     "metadata": {},
     "output_type": "display_data"
    },
    {
     "name": "stdout",
     "output_type": "stream",
     "text": [
      "4 of 1000, minimal objective function=0.852406, time remaining: 00:08:30\n"
     ]
    },
    {
     "data": {
      "application/vnd.jupyter.widget-view+json": {
       "model_id": "423972c4ebaa4e05a6deb708d7ed8995",
       "version_major": 2,
       "version_minor": 0
      },
      "text/plain": [
       "  0%|          | 0/9714 [00:00<?, ?it/s]"
      ]
     },
     "metadata": {},
     "output_type": "display_data"
    },
    {
     "data": {
      "application/vnd.jupyter.widget-view+json": {
       "model_id": "0a5ec8082b2c4accae3d9054606037bb",
       "version_major": 2,
       "version_minor": 0
      },
      "text/plain": [
       "  0%|          | 0/9714 [00:00<?, ?it/s]"
      ]
     },
     "metadata": {},
     "output_type": "display_data"
    },
    {
     "data": {
      "application/vnd.jupyter.widget-view+json": {
       "model_id": "71a5369b2bb64391b7796ecc54fbe5ed",
       "version_major": 2,
       "version_minor": 0
      },
      "text/plain": [
       "  0%|          | 0/9714 [00:00<?, ?it/s]"
      ]
     },
     "metadata": {},
     "output_type": "display_data"
    },
    {
     "data": {
      "application/vnd.jupyter.widget-view+json": {
       "model_id": "c95a154bd10341c9a10a20d4c6db6947",
       "version_major": 2,
       "version_minor": 0
      },
      "text/plain": [
       "  0%|          | 0/9714 [00:00<?, ?it/s]"
      ]
     },
     "metadata": {},
     "output_type": "display_data"
    },
    {
     "name": "stdout",
     "output_type": "stream",
     "text": [
      "8 of 1000, minimal objective function=0.852406, time remaining: 00:09:24\n"
     ]
    },
    {
     "data": {
      "application/vnd.jupyter.widget-view+json": {
       "model_id": "58cddb73ecdd41a5985b66d3195ed53d",
       "version_major": 2,
       "version_minor": 0
      },
      "text/plain": [
       "  0%|          | 0/9714 [00:00<?, ?it/s]"
      ]
     },
     "metadata": {},
     "output_type": "display_data"
    },
    {
     "data": {
      "application/vnd.jupyter.widget-view+json": {
       "model_id": "50d989a4cae14755b6d1c8413dd202fc",
       "version_major": 2,
       "version_minor": 0
      },
      "text/plain": [
       "  0%|          | 0/9714 [00:00<?, ?it/s]"
      ]
     },
     "metadata": {},
     "output_type": "display_data"
    },
    {
     "data": {
      "application/vnd.jupyter.widget-view+json": {
       "model_id": "9a1e299abcfb4757b492916a2312011f",
       "version_major": 2,
       "version_minor": 0
      },
      "text/plain": [
       "  0%|          | 0/9714 [00:00<?, ?it/s]"
      ]
     },
     "metadata": {},
     "output_type": "display_data"
    },
    {
     "name": "stdout",
     "output_type": "stream",
     "text": [
      "11 of 1000, minimal objective function=0.852406, time remaining: 00:09:47\n"
     ]
    },
    {
     "data": {
      "application/vnd.jupyter.widget-view+json": {
       "model_id": "661478278adf40d4b9f1f413f760c13f",
       "version_major": 2,
       "version_minor": 0
      },
      "text/plain": [
       "  0%|          | 0/9714 [00:00<?, ?it/s]"
      ]
     },
     "metadata": {},
     "output_type": "display_data"
    },
    {
     "name": "stdout",
     "output_type": "stream",
     "text": [
      "Burn-in sampling completed...\n",
      "Starting Complex Evolution...\n",
      "ComplexEvo loop #1 in progress...\n"
     ]
    },
    {
     "data": {
      "application/vnd.jupyter.widget-view+json": {
       "model_id": "3ded3b8e9d95490386d3302c55dca192",
       "version_major": 2,
       "version_minor": 0
      },
      "text/plain": [
       "  0%|          | 0/9714 [00:00<?, ?it/s]"
      ]
     },
     "metadata": {},
     "output_type": "display_data"
    },
    {
     "data": {
      "application/vnd.jupyter.widget-view+json": {
       "model_id": "4bdef7df56604026a77c3ab9faf59ff7",
       "version_major": 2,
       "version_minor": 0
      },
      "text/plain": [
       "  0%|          | 0/9714 [00:00<?, ?it/s]"
      ]
     },
     "metadata": {},
     "output_type": "display_data"
    },
    {
     "data": {
      "application/vnd.jupyter.widget-view+json": {
       "model_id": "c4520714b7684021a03b3f5661e5ba1f",
       "version_major": 2,
       "version_minor": 0
      },
      "text/plain": [
       "  0%|          | 0/9714 [00:00<?, ?it/s]"
      ]
     },
     "metadata": {},
     "output_type": "display_data"
    },
    {
     "data": {
      "application/vnd.jupyter.widget-view+json": {
       "model_id": "21cf21329be84469a3269f2349db35c9",
       "version_major": 2,
       "version_minor": 0
      },
      "text/plain": [
       "  0%|          | 0/9714 [00:00<?, ?it/s]"
      ]
     },
     "metadata": {},
     "output_type": "display_data"
    },
    {
     "data": {
      "application/vnd.jupyter.widget-view+json": {
       "model_id": "6d348b408b4b47768670a3106980b25a",
       "version_major": 2,
       "version_minor": 0
      },
      "text/plain": [
       "  0%|          | 0/9714 [00:00<?, ?it/s]"
      ]
     },
     "metadata": {},
     "output_type": "display_data"
    },
    {
     "data": {
      "application/vnd.jupyter.widget-view+json": {
       "model_id": "44ca9ae6f568478387f114567bd77827",
       "version_major": 2,
       "version_minor": 0
      },
      "text/plain": [
       "  0%|          | 0/9714 [00:00<?, ?it/s]"
      ]
     },
     "metadata": {},
     "output_type": "display_data"
    },
    {
     "name": "stdout",
     "output_type": "stream",
     "text": [
      "19 of 1000, minimal objective function=0.770481, time remaining: 00:09:36\n"
     ]
    },
    {
     "data": {
      "application/vnd.jupyter.widget-view+json": {
       "model_id": "b6e465c73b954964b6d81886268ea36e",
       "version_major": 2,
       "version_minor": 0
      },
      "text/plain": [
       "  0%|          | 0/9714 [00:00<?, ?it/s]"
      ]
     },
     "metadata": {},
     "output_type": "display_data"
    },
    {
     "data": {
      "application/vnd.jupyter.widget-view+json": {
       "model_id": "6c421b7a288443ce92358fc9cb70b302",
       "version_major": 2,
       "version_minor": 0
      },
      "text/plain": [
       "  0%|          | 0/9714 [00:00<?, ?it/s]"
      ]
     },
     "metadata": {},
     "output_type": "display_data"
    },
    {
     "data": {
      "application/vnd.jupyter.widget-view+json": {
       "model_id": "45093a3df5614472a1266ea1b856ecc7",
       "version_major": 2,
       "version_minor": 0
      },
      "text/plain": [
       "  0%|          | 0/9714 [00:00<?, ?it/s]"
      ]
     },
     "metadata": {},
     "output_type": "display_data"
    },
    {
     "data": {
      "application/vnd.jupyter.widget-view+json": {
       "model_id": "01463b9cbac9488cbf0a992a12fe3a9f",
       "version_major": 2,
       "version_minor": 0
      },
      "text/plain": [
       "  0%|          | 0/9714 [00:00<?, ?it/s]"
      ]
     },
     "metadata": {},
     "output_type": "display_data"
    },
    {
     "data": {
      "application/vnd.jupyter.widget-view+json": {
       "model_id": "f24bdc8658e44f72a80937144ce395ca",
       "version_major": 2,
       "version_minor": 0
      },
      "text/plain": [
       "  0%|          | 0/9714 [00:00<?, ?it/s]"
      ]
     },
     "metadata": {},
     "output_type": "display_data"
    },
    {
     "data": {
      "application/vnd.jupyter.widget-view+json": {
       "model_id": "695c47876a274c2b8fbc68004116f2bf",
       "version_major": 2,
       "version_minor": 0
      },
      "text/plain": [
       "  0%|          | 0/9714 [00:00<?, ?it/s]"
      ]
     },
     "metadata": {},
     "output_type": "display_data"
    },
    {
     "name": "stdout",
     "output_type": "stream",
     "text": [
      "28 of 1000, minimal objective function=0.770481, time remaining: 00:08:40\n"
     ]
    },
    {
     "data": {
      "application/vnd.jupyter.widget-view+json": {
       "model_id": "2069baa5acfc4de0afd540ce6bba04f3",
       "version_major": 2,
       "version_minor": 0
      },
      "text/plain": [
       "  0%|          | 0/9714 [00:00<?, ?it/s]"
      ]
     },
     "metadata": {},
     "output_type": "display_data"
    },
    {
     "data": {
      "application/vnd.jupyter.widget-view+json": {
       "model_id": "50b261f8eb564a86affa2f09f239ab7e",
       "version_major": 2,
       "version_minor": 0
      },
      "text/plain": [
       "  0%|          | 0/9714 [00:00<?, ?it/s]"
      ]
     },
     "metadata": {},
     "output_type": "display_data"
    },
    {
     "data": {
      "application/vnd.jupyter.widget-view+json": {
       "model_id": "3ff42de3337d4f00b7a05cc329f7012d",
       "version_major": 2,
       "version_minor": 0
      },
      "text/plain": [
       "  0%|          | 0/9714 [00:00<?, ?it/s]"
      ]
     },
     "metadata": {},
     "output_type": "display_data"
    },
    {
     "data": {
      "application/vnd.jupyter.widget-view+json": {
       "model_id": "77061a1d4cee4e46a0afde4611f00c7e",
       "version_major": 2,
       "version_minor": 0
      },
      "text/plain": [
       "  0%|          | 0/9714 [00:00<?, ?it/s]"
      ]
     },
     "metadata": {},
     "output_type": "display_data"
    },
    {
     "data": {
      "application/vnd.jupyter.widget-view+json": {
       "model_id": "d120cf44439d4a998657d621e3d9dba4",
       "version_major": 2,
       "version_minor": 0
      },
      "text/plain": [
       "  0%|          | 0/9714 [00:00<?, ?it/s]"
      ]
     },
     "metadata": {},
     "output_type": "display_data"
    },
    {
     "name": "stdout",
     "output_type": "stream",
     "text": [
      "36 of 1000, minimal objective function=0.768849, time remaining: 00:08:10\n"
     ]
    },
    {
     "data": {
      "application/vnd.jupyter.widget-view+json": {
       "model_id": "194add131f2a4cecab638ed1d2e5b304",
       "version_major": 2,
       "version_minor": 0
      },
      "text/plain": [
       "  0%|          | 0/9714 [00:00<?, ?it/s]"
      ]
     },
     "metadata": {},
     "output_type": "display_data"
    },
    {
     "data": {
      "application/vnd.jupyter.widget-view+json": {
       "model_id": "634ce7a06b8748d3a3d307b3f8886d90",
       "version_major": 2,
       "version_minor": 0
      },
      "text/plain": [
       "  0%|          | 0/9714 [00:00<?, ?it/s]"
      ]
     },
     "metadata": {},
     "output_type": "display_data"
    },
    {
     "data": {
      "application/vnd.jupyter.widget-view+json": {
       "model_id": "eb57a1ca07f84f40b898f0fc82b340e2",
       "version_major": 2,
       "version_minor": 0
      },
      "text/plain": [
       "  0%|          | 0/9714 [00:00<?, ?it/s]"
      ]
     },
     "metadata": {},
     "output_type": "display_data"
    },
    {
     "name": "stdout",
     "output_type": "stream",
     "text": [
      "ComplexEvo loop #2 in progress...\n"
     ]
    },
    {
     "data": {
      "application/vnd.jupyter.widget-view+json": {
       "model_id": "3e19857b6d9848118488f498a16e33fb",
       "version_major": 2,
       "version_minor": 0
      },
      "text/plain": [
       "  0%|          | 0/9714 [00:00<?, ?it/s]"
      ]
     },
     "metadata": {},
     "output_type": "display_data"
    },
    {
     "data": {
      "application/vnd.jupyter.widget-view+json": {
       "model_id": "dd67cc18250e4fdf971ca3366451026f",
       "version_major": 2,
       "version_minor": 0
      },
      "text/plain": [
       "  0%|          | 0/9714 [00:00<?, ?it/s]"
      ]
     },
     "metadata": {},
     "output_type": "display_data"
    },
    {
     "data": {
      "application/vnd.jupyter.widget-view+json": {
       "model_id": "5000575637cb45aebf5f3d3ad40772dd",
       "version_major": 2,
       "version_minor": 0
      },
      "text/plain": [
       "  0%|          | 0/9714 [00:00<?, ?it/s]"
      ]
     },
     "metadata": {},
     "output_type": "display_data"
    },
    {
     "data": {
      "application/vnd.jupyter.widget-view+json": {
       "model_id": "a9c026495df4410d8ae5485a0cc752ed",
       "version_major": 2,
       "version_minor": 0
      },
      "text/plain": [
       "  0%|          | 0/9714 [00:00<?, ?it/s]"
      ]
     },
     "metadata": {},
     "output_type": "display_data"
    },
    {
     "data": {
      "application/vnd.jupyter.widget-view+json": {
       "model_id": "0707a6ffeae34ee5bd07e8a8378132f6",
       "version_major": 2,
       "version_minor": 0
      },
      "text/plain": [
       "  0%|          | 0/9714 [00:00<?, ?it/s]"
      ]
     },
     "metadata": {},
     "output_type": "display_data"
    },
    {
     "name": "stdout",
     "output_type": "stream",
     "text": [
      "50 of 1000, minimal objective function=0.768643, time remaining: 00:07:26\n"
     ]
    },
    {
     "data": {
      "application/vnd.jupyter.widget-view+json": {
       "model_id": "58865b9fced1423b88f31c465a4ed277",
       "version_major": 2,
       "version_minor": 0
      },
      "text/plain": [
       "  0%|          | 0/9714 [00:00<?, ?it/s]"
      ]
     },
     "metadata": {},
     "output_type": "display_data"
    },
    {
     "data": {
      "application/vnd.jupyter.widget-view+json": {
       "model_id": "e633121b760d49a5b98a6e8f58c6932e",
       "version_major": 2,
       "version_minor": 0
      },
      "text/plain": [
       "  0%|          | 0/9714 [00:00<?, ?it/s]"
      ]
     },
     "metadata": {},
     "output_type": "display_data"
    },
    {
     "data": {
      "application/vnd.jupyter.widget-view+json": {
       "model_id": "ebed3b8820d144e6ab6390239a74d725",
       "version_major": 2,
       "version_minor": 0
      },
      "text/plain": [
       "  0%|          | 0/9714 [00:00<?, ?it/s]"
      ]
     },
     "metadata": {},
     "output_type": "display_data"
    },
    {
     "data": {
      "application/vnd.jupyter.widget-view+json": {
       "model_id": "197fdcfa9d314eed9834ba0744e0874c",
       "version_major": 2,
       "version_minor": 0
      },
      "text/plain": [
       "  0%|          | 0/9714 [00:00<?, ?it/s]"
      ]
     },
     "metadata": {},
     "output_type": "display_data"
    },
    {
     "data": {
      "application/vnd.jupyter.widget-view+json": {
       "model_id": "4946bde2f69b415f925b4a435ada6fd5",
       "version_major": 2,
       "version_minor": 0
      },
      "text/plain": [
       "  0%|          | 0/9714 [00:00<?, ?it/s]"
      ]
     },
     "metadata": {},
     "output_type": "display_data"
    },
    {
     "name": "stdout",
     "output_type": "stream",
     "text": [
      "58 of 1000, minimal objective function=0.768643, time remaining: 00:07:13\n"
     ]
    },
    {
     "data": {
      "application/vnd.jupyter.widget-view+json": {
       "model_id": "a37c633bd5244a599edf661427e7c0ad",
       "version_major": 2,
       "version_minor": 0
      },
      "text/plain": [
       "  0%|          | 0/9714 [00:00<?, ?it/s]"
      ]
     },
     "metadata": {},
     "output_type": "display_data"
    },
    {
     "data": {
      "application/vnd.jupyter.widget-view+json": {
       "model_id": "4714e9172b2749449b90ca2b009c12e9",
       "version_major": 2,
       "version_minor": 0
      },
      "text/plain": [
       "  0%|          | 0/9714 [00:00<?, ?it/s]"
      ]
     },
     "metadata": {},
     "output_type": "display_data"
    },
    {
     "data": {
      "application/vnd.jupyter.widget-view+json": {
       "model_id": "b9123d3aa77a4decbcd7e30fafd6c4ff",
       "version_major": 2,
       "version_minor": 0
      },
      "text/plain": [
       "  0%|          | 0/9714 [00:00<?, ?it/s]"
      ]
     },
     "metadata": {},
     "output_type": "display_data"
    },
    {
     "data": {
      "application/vnd.jupyter.widget-view+json": {
       "model_id": "d2606e5a74f449f7bbcc4cc76ac8a9b0",
       "version_major": 2,
       "version_minor": 0
      },
      "text/plain": [
       "  0%|          | 0/9714 [00:00<?, ?it/s]"
      ]
     },
     "metadata": {},
     "output_type": "display_data"
    },
    {
     "name": "stdout",
     "output_type": "stream",
     "text": [
      "65 of 1000, minimal objective function=0.768643, time remaining: 00:07:01\n"
     ]
    },
    {
     "data": {
      "application/vnd.jupyter.widget-view+json": {
       "model_id": "07f5992effa64c33b1cc6babdf83da7b",
       "version_major": 2,
       "version_minor": 0
      },
      "text/plain": [
       "  0%|          | 0/9714 [00:00<?, ?it/s]"
      ]
     },
     "metadata": {},
     "output_type": "display_data"
    },
    {
     "data": {
      "application/vnd.jupyter.widget-view+json": {
       "model_id": "916266a5dc504c64ae486efb2d4cea5c",
       "version_major": 2,
       "version_minor": 0
      },
      "text/plain": [
       "  0%|          | 0/9714 [00:00<?, ?it/s]"
      ]
     },
     "metadata": {},
     "output_type": "display_data"
    },
    {
     "data": {
      "application/vnd.jupyter.widget-view+json": {
       "model_id": "25577d89ed5f473f97da6438fcd70ecc",
       "version_major": 2,
       "version_minor": 0
      },
      "text/plain": [
       "  0%|          | 0/9714 [00:00<?, ?it/s]"
      ]
     },
     "metadata": {},
     "output_type": "display_data"
    },
    {
     "data": {
      "application/vnd.jupyter.widget-view+json": {
       "model_id": "c94fb7822ffe4b60852b692800799514",
       "version_major": 2,
       "version_minor": 0
      },
      "text/plain": [
       "  0%|          | 0/9714 [00:00<?, ?it/s]"
      ]
     },
     "metadata": {},
     "output_type": "display_data"
    },
    {
     "data": {
      "application/vnd.jupyter.widget-view+json": {
       "model_id": "296f047505e94b2da831d99a9dca2236",
       "version_major": 2,
       "version_minor": 0
      },
      "text/plain": [
       "  0%|          | 0/9714 [00:00<?, ?it/s]"
      ]
     },
     "metadata": {},
     "output_type": "display_data"
    },
    {
     "name": "stdout",
     "output_type": "stream",
     "text": [
      "73 of 1000, minimal objective function=0.767358, time remaining: 00:06:50\n",
      "ComplexEvo loop #3 in progress...\n"
     ]
    },
    {
     "data": {
      "application/vnd.jupyter.widget-view+json": {
       "model_id": "c61f9f43808d4c7381309895f472feb0",
       "version_major": 2,
       "version_minor": 0
      },
      "text/plain": [
       "  0%|          | 0/9714 [00:00<?, ?it/s]"
      ]
     },
     "metadata": {},
     "output_type": "display_data"
    },
    {
     "data": {
      "application/vnd.jupyter.widget-view+json": {
       "model_id": "90e41d3c7c97427db3705c7ecf989fb9",
       "version_major": 2,
       "version_minor": 0
      },
      "text/plain": [
       "  0%|          | 0/9714 [00:00<?, ?it/s]"
      ]
     },
     "metadata": {},
     "output_type": "display_data"
    },
    {
     "data": {
      "application/vnd.jupyter.widget-view+json": {
       "model_id": "5a240cb607424520b7941cdabebde4ff",
       "version_major": 2,
       "version_minor": 0
      },
      "text/plain": [
       "  0%|          | 0/9714 [00:00<?, ?it/s]"
      ]
     },
     "metadata": {},
     "output_type": "display_data"
    },
    {
     "data": {
      "application/vnd.jupyter.widget-view+json": {
       "model_id": "7b74bd26e42f4d4caa7fecfaec7f8478",
       "version_major": 2,
       "version_minor": 0
      },
      "text/plain": [
       "  0%|          | 0/9714 [00:00<?, ?it/s]"
      ]
     },
     "metadata": {},
     "output_type": "display_data"
    },
    {
     "data": {
      "application/vnd.jupyter.widget-view+json": {
       "model_id": "59f2ef7c5ca04c4892d6368ec8682b0b",
       "version_major": 2,
       "version_minor": 0
      },
      "text/plain": [
       "  0%|          | 0/9714 [00:00<?, ?it/s]"
      ]
     },
     "metadata": {},
     "output_type": "display_data"
    },
    {
     "name": "stdout",
     "output_type": "stream",
     "text": [
      "81 of 1000, minimal objective function=0.76733, time remaining: 00:06:41\n"
     ]
    },
    {
     "data": {
      "application/vnd.jupyter.widget-view+json": {
       "model_id": "64391d0f43f44ca8a69e3ef17fe25a47",
       "version_major": 2,
       "version_minor": 0
      },
      "text/plain": [
       "  0%|          | 0/9714 [00:00<?, ?it/s]"
      ]
     },
     "metadata": {},
     "output_type": "display_data"
    },
    {
     "data": {
      "application/vnd.jupyter.widget-view+json": {
       "model_id": "1a2dd1c6bf20474f8787fa91a1e7a89c",
       "version_major": 2,
       "version_minor": 0
      },
      "text/plain": [
       "  0%|          | 0/9714 [00:00<?, ?it/s]"
      ]
     },
     "metadata": {},
     "output_type": "display_data"
    },
    {
     "data": {
      "application/vnd.jupyter.widget-view+json": {
       "model_id": "e0e3f670b7324047b374aaa61ddbcc70",
       "version_major": 2,
       "version_minor": 0
      },
      "text/plain": [
       "  0%|          | 0/9714 [00:00<?, ?it/s]"
      ]
     },
     "metadata": {},
     "output_type": "display_data"
    },
    {
     "data": {
      "application/vnd.jupyter.widget-view+json": {
       "model_id": "086f6198f3e84576bd364d0893b57195",
       "version_major": 2,
       "version_minor": 0
      },
      "text/plain": [
       "  0%|          | 0/9714 [00:00<?, ?it/s]"
      ]
     },
     "metadata": {},
     "output_type": "display_data"
    },
    {
     "data": {
      "application/vnd.jupyter.widget-view+json": {
       "model_id": "a8a692a288ab453eb34c011d1c28e9a0",
       "version_major": 2,
       "version_minor": 0
      },
      "text/plain": [
       "  0%|          | 0/9714 [00:00<?, ?it/s]"
      ]
     },
     "metadata": {},
     "output_type": "display_data"
    },
    {
     "name": "stdout",
     "output_type": "stream",
     "text": [
      "89 of 1000, minimal objective function=0.76733, time remaining: 00:06:35\n"
     ]
    },
    {
     "data": {
      "application/vnd.jupyter.widget-view+json": {
       "model_id": "88cdea702d614276899959dbf7e84688",
       "version_major": 2,
       "version_minor": 0
      },
      "text/plain": [
       "  0%|          | 0/9714 [00:00<?, ?it/s]"
      ]
     },
     "metadata": {},
     "output_type": "display_data"
    },
    {
     "data": {
      "application/vnd.jupyter.widget-view+json": {
       "model_id": "a73ec13d4a664a8fb48d7850245484d3",
       "version_major": 2,
       "version_minor": 0
      },
      "text/plain": [
       "  0%|          | 0/9714 [00:00<?, ?it/s]"
      ]
     },
     "metadata": {},
     "output_type": "display_data"
    },
    {
     "data": {
      "application/vnd.jupyter.widget-view+json": {
       "model_id": "a63f037bf63648a8b8bb33fb4921c156",
       "version_major": 2,
       "version_minor": 0
      },
      "text/plain": [
       "  0%|          | 0/9714 [00:00<?, ?it/s]"
      ]
     },
     "metadata": {},
     "output_type": "display_data"
    },
    {
     "data": {
      "application/vnd.jupyter.widget-view+json": {
       "model_id": "7afda7d61dae4bb08b94a19218beb447",
       "version_major": 2,
       "version_minor": 0
      },
      "text/plain": [
       "  0%|          | 0/9714 [00:00<?, ?it/s]"
      ]
     },
     "metadata": {},
     "output_type": "display_data"
    },
    {
     "data": {
      "application/vnd.jupyter.widget-view+json": {
       "model_id": "3d37224989e24baab6e0449807a16f7d",
       "version_major": 2,
       "version_minor": 0
      },
      "text/plain": [
       "  0%|          | 0/9714 [00:00<?, ?it/s]"
      ]
     },
     "metadata": {},
     "output_type": "display_data"
    },
    {
     "name": "stdout",
     "output_type": "stream",
     "text": [
      "97 of 1000, minimal objective function=0.76733, time remaining: 00:06:29\n"
     ]
    },
    {
     "data": {
      "application/vnd.jupyter.widget-view+json": {
       "model_id": "b3267c4f40554be08947af7f543cc2e6",
       "version_major": 2,
       "version_minor": 0
      },
      "text/plain": [
       "  0%|          | 0/9714 [00:00<?, ?it/s]"
      ]
     },
     "metadata": {},
     "output_type": "display_data"
    },
    {
     "data": {
      "application/vnd.jupyter.widget-view+json": {
       "model_id": "a98db6185ced4f679649f6317d1dee2f",
       "version_major": 2,
       "version_minor": 0
      },
      "text/plain": [
       "  0%|          | 0/9714 [00:00<?, ?it/s]"
      ]
     },
     "metadata": {},
     "output_type": "display_data"
    },
    {
     "data": {
      "application/vnd.jupyter.widget-view+json": {
       "model_id": "e1f2fd59c0fe415bb045703bec0fc89b",
       "version_major": 2,
       "version_minor": 0
      },
      "text/plain": [
       "  0%|          | 0/9714 [00:00<?, ?it/s]"
      ]
     },
     "metadata": {},
     "output_type": "display_data"
    },
    {
     "data": {
      "application/vnd.jupyter.widget-view+json": {
       "model_id": "2f07b6e34ad4449f8c0f79cd4877eb0e",
       "version_major": 2,
       "version_minor": 0
      },
      "text/plain": [
       "  0%|          | 0/9714 [00:00<?, ?it/s]"
      ]
     },
     "metadata": {},
     "output_type": "display_data"
    },
    {
     "data": {
      "application/vnd.jupyter.widget-view+json": {
       "model_id": "0898a5a8135a4e458ca2f9cda4c2c17e",
       "version_major": 2,
       "version_minor": 0
      },
      "text/plain": [
       "  0%|          | 0/9714 [00:00<?, ?it/s]"
      ]
     },
     "metadata": {},
     "output_type": "display_data"
    },
    {
     "name": "stdout",
     "output_type": "stream",
     "text": [
      "105 of 1000, minimal objective function=0.76733, time remaining: 00:06:22\n",
      "Objective function convergence criteria is now being updated and assessed...\n",
      "Updated convergence criteria: 0.197888\n",
      "ComplexEvo loop #4 in progress...\n"
     ]
    },
    {
     "data": {
      "application/vnd.jupyter.widget-view+json": {
       "model_id": "2e95a333572e4be1a86885250ef057f1",
       "version_major": 2,
       "version_minor": 0
      },
      "text/plain": [
       "  0%|          | 0/9714 [00:00<?, ?it/s]"
      ]
     },
     "metadata": {},
     "output_type": "display_data"
    },
    {
     "data": {
      "application/vnd.jupyter.widget-view+json": {
       "model_id": "160b9a2734ec47d495d9363a1fba1d91",
       "version_major": 2,
       "version_minor": 0
      },
      "text/plain": [
       "  0%|          | 0/9714 [00:00<?, ?it/s]"
      ]
     },
     "metadata": {},
     "output_type": "display_data"
    },
    {
     "data": {
      "application/vnd.jupyter.widget-view+json": {
       "model_id": "31841cad13aa4fdb937b18be9260d8d3",
       "version_major": 2,
       "version_minor": 0
      },
      "text/plain": [
       "  0%|          | 0/9714 [00:00<?, ?it/s]"
      ]
     },
     "metadata": {},
     "output_type": "display_data"
    },
    {
     "data": {
      "application/vnd.jupyter.widget-view+json": {
       "model_id": "4c4be360bc2f48d287462a3bbf7f9a81",
       "version_major": 2,
       "version_minor": 0
      },
      "text/plain": [
       "  0%|          | 0/9714 [00:00<?, ?it/s]"
      ]
     },
     "metadata": {},
     "output_type": "display_data"
    },
    {
     "data": {
      "application/vnd.jupyter.widget-view+json": {
       "model_id": "33f8615caa354a8aa3c51d4551629d2f",
       "version_major": 2,
       "version_minor": 0
      },
      "text/plain": [
       "  0%|          | 0/9714 [00:00<?, ?it/s]"
      ]
     },
     "metadata": {},
     "output_type": "display_data"
    },
    {
     "data": {
      "application/vnd.jupyter.widget-view+json": {
       "model_id": "3651faa1af064f05bd9600f5bb930f4f",
       "version_major": 2,
       "version_minor": 0
      },
      "text/plain": [
       "  0%|          | 0/9714 [00:00<?, ?it/s]"
      ]
     },
     "metadata": {},
     "output_type": "display_data"
    },
    {
     "ename": "KeyboardInterrupt",
     "evalue": "",
     "output_type": "error",
     "traceback": [
      "\u001b[1;31m---------------------------------------------------------------------------\u001b[0m",
      "\u001b[1;31mKeyboardInterrupt\u001b[0m                         Traceback (most recent call last)",
      "Cell \u001b[1;32mIn [18], line 66\u001b[0m\n\u001b[0;32m     62\u001b[0m \u001b[38;5;66;03m## CALIBRATION\u001b[39;00m\n\u001b[0;32m     64\u001b[0m \u001b[38;5;28;01mtry\u001b[39;00m:\n\u001b[0;32m     65\u001b[0m     \u001b[38;5;66;03m# start the sampler\u001b[39;00m\n\u001b[1;32m---> 66\u001b[0m     \u001b[43msceua\u001b[49m\u001b[38;5;241;43m.\u001b[39;49m\u001b[43msample\u001b[49m\u001b[43m(\u001b[49m\u001b[43mMAX_ITER\u001b[49m\u001b[43m,\u001b[49m\u001b[43m \u001b[49m\u001b[43mngs\u001b[49m\u001b[38;5;241;43m=\u001b[39;49m\u001b[43mCOMPLEXES\u001b[49m\u001b[43m,\u001b[49m\u001b[43m \u001b[49m\u001b[43mkstop\u001b[49m\u001b[38;5;241;43m=\u001b[39;49m\u001b[38;5;241;43m3\u001b[39;49m\u001b[43m,\u001b[49m\u001b[43m \u001b[49m\u001b[43mpcento\u001b[49m\u001b[38;5;241;43m=\u001b[39;49m\u001b[38;5;241;43m0.01\u001b[39;49m\u001b[43m,\u001b[49m\u001b[43m \u001b[49m\u001b[43mpeps\u001b[49m\u001b[38;5;241;43m=\u001b[39;49m\u001b[38;5;241;43m0.1\u001b[39;49m\u001b[43m)\u001b[49m\n\u001b[0;32m     67\u001b[0m \u001b[38;5;28;01mexcept\u001b[39;00m \u001b[38;5;167;01mException\u001b[39;00m \u001b[38;5;28;01mas\u001b[39;00m e:\n\u001b[0;32m     68\u001b[0m     \u001b[38;5;28mprint\u001b[39m(\u001b[38;5;124mf\u001b[39m\u001b[38;5;124m'\u001b[39m\u001b[38;5;124mERROR. While sampling the reservoir \u001b[39m\u001b[38;5;132;01m{\u001b[39;00mID\u001b[38;5;132;01m}\u001b[39;00m\u001b[38;5;130;01m\\n\u001b[39;00m\u001b[38;5;124m'\u001b[39m, e)\n",
      "File \u001b[1;32mC:\\DEV\\Anaconda3\\envs\\xr\\lib\\site-packages\\spotpy\\algorithms\\sceua.py:323\u001b[0m, in \u001b[0;36msceua.sample\u001b[1;34m(self, repetitions, ngs, kstop, pcento, peps, max_loop_inc)\u001b[0m\n\u001b[0;32m    309\u001b[0m sce_vars \u001b[38;5;241m=\u001b[39m [\n\u001b[0;32m    310\u001b[0m     \u001b[38;5;28mself\u001b[39m\u001b[38;5;241m.\u001b[39mnpg,\n\u001b[0;32m    311\u001b[0m     \u001b[38;5;28mself\u001b[39m\u001b[38;5;241m.\u001b[39mnopt,\n\u001b[1;32m   (...)\u001b[0m\n\u001b[0;32m    318\u001b[0m     \u001b[38;5;28mself\u001b[39m\u001b[38;5;241m.\u001b[39mdiscarded_runs,\n\u001b[0;32m    319\u001b[0m ]\n\u001b[0;32m    320\u001b[0m param_generator \u001b[38;5;241m=\u001b[39m (\n\u001b[0;32m    321\u001b[0m     (rep, x, xf, cx, cf, sce_vars) \u001b[38;5;28;01mfor\u001b[39;00m rep \u001b[38;5;129;01min\u001b[39;00m \u001b[38;5;28mrange\u001b[39m(\u001b[38;5;28mint\u001b[39m(\u001b[38;5;28mself\u001b[39m\u001b[38;5;241m.\u001b[39mngs))\n\u001b[0;32m    322\u001b[0m )\n\u001b[1;32m--> 323\u001b[0m \u001b[38;5;28;01mfor\u001b[39;00m igs, likes, pars, sims, cx, cf, k1, k2, discarded_runs \u001b[38;5;129;01min\u001b[39;00m \u001b[38;5;28mself\u001b[39m\u001b[38;5;241m.\u001b[39mrepeat(\n\u001b[0;32m    324\u001b[0m     param_generator\n\u001b[0;32m    325\u001b[0m ):\n\u001b[0;32m    326\u001b[0m     x[k2, :] \u001b[38;5;241m=\u001b[39m cx[k1, :]\n\u001b[0;32m    327\u001b[0m     xf[k2] \u001b[38;5;241m=\u001b[39m cf[k1]\n",
      "File \u001b[1;32mC:\\DEV\\Anaconda3\\envs\\xr\\lib\\site-packages\\spotpy\\parallel\\sequential.py:29\u001b[0m, in \u001b[0;36mForEach.__call__\u001b[1;34m(self, jobs)\u001b[0m\n\u001b[0;32m     27\u001b[0m \u001b[38;5;28;01mdef\u001b[39;00m \u001b[38;5;21m__call__\u001b[39m(\u001b[38;5;28mself\u001b[39m, jobs):\n\u001b[0;32m     28\u001b[0m     \u001b[38;5;28;01mfor\u001b[39;00m job \u001b[38;5;129;01min\u001b[39;00m jobs:\n\u001b[1;32m---> 29\u001b[0m         data \u001b[38;5;241m=\u001b[39m \u001b[38;5;28;43mself\u001b[39;49m\u001b[38;5;241;43m.\u001b[39;49m\u001b[43mprocess\u001b[49m\u001b[43m(\u001b[49m\u001b[43mjob\u001b[49m\u001b[43m)\u001b[49m\n\u001b[0;32m     30\u001b[0m         \u001b[38;5;28;01myield\u001b[39;00m data\n",
      "File \u001b[1;32mC:\\DEV\\Anaconda3\\envs\\xr\\lib\\site-packages\\spotpy\\algorithms\\sceua.py:124\u001b[0m, in \u001b[0;36msceua.simulate\u001b[1;34m(self, id_params_tuple)\u001b[0m\n\u001b[0;32m    121\u001b[0m s \u001b[38;5;241m=\u001b[39m cx[lcs, :]\n\u001b[0;32m    122\u001b[0m sf \u001b[38;5;241m=\u001b[39m cf[lcs]\n\u001b[1;32m--> 124\u001b[0m snew, fnew, simulation, discarded_runs \u001b[38;5;241m=\u001b[39m \u001b[38;5;28;43mself\u001b[39;49m\u001b[38;5;241;43m.\u001b[39;49m\u001b[43m_cceua\u001b[49m\u001b[43m(\u001b[49m\n\u001b[0;32m    125\u001b[0m \u001b[43m    \u001b[49m\u001b[43ms\u001b[49m\u001b[43m,\u001b[49m\u001b[43m \u001b[49m\u001b[43msf\u001b[49m\u001b[43m,\u001b[49m\u001b[43m \u001b[49m\u001b[43mdiscarded_runs\u001b[49m\n\u001b[0;32m    126\u001b[0m \u001b[43m\u001b[49m\u001b[43m)\u001b[49m\n\u001b[0;32m    127\u001b[0m likes\u001b[38;5;241m.\u001b[39mappend(fnew)\n\u001b[0;32m    128\u001b[0m pars\u001b[38;5;241m.\u001b[39mappend(snew)\n",
      "File \u001b[1;32mC:\\DEV\\Anaconda3\\envs\\xr\\lib\\site-packages\\spotpy\\algorithms\\sceua.py:497\u001b[0m, in \u001b[0;36msceua._cceua\u001b[1;34m(self, s, sf, discarded_runs)\u001b[0m\n\u001b[0;32m    494\u001b[0m snew \u001b[38;5;241m=\u001b[39m sw \u001b[38;5;241m+\u001b[39m beta \u001b[38;5;241m*\u001b[39m (ce \u001b[38;5;241m-\u001b[39m sw)\n\u001b[0;32m    495\u001b[0m snew[constant_parameters] \u001b[38;5;241m=\u001b[39m sw[constant_parameters]\n\u001b[1;32m--> 497\u001b[0m _, _, simulations \u001b[38;5;241m=\u001b[39m \u001b[43m_algorithm\u001b[49m\u001b[38;5;241;43m.\u001b[39;49m\u001b[43msimulate\u001b[49m\u001b[43m(\u001b[49m\u001b[38;5;28;43mself\u001b[39;49m\u001b[43m,\u001b[49m\u001b[43m \u001b[49m\u001b[43m(\u001b[49m\u001b[38;5;241;43m2\u001b[39;49m\u001b[43m,\u001b[49m\u001b[43m \u001b[49m\u001b[43msnew\u001b[49m\u001b[43m)\u001b[49m\u001b[43m)\u001b[49m\n\u001b[0;32m    498\u001b[0m like \u001b[38;5;241m=\u001b[39m \u001b[38;5;28mself\u001b[39m\u001b[38;5;241m.\u001b[39mpostprocessing(\n\u001b[0;32m    499\u001b[0m     \u001b[38;5;241m2\u001b[39m, snew, simulations, save_run\u001b[38;5;241m=\u001b[39m\u001b[38;5;28;01mFalse\u001b[39;00m, block_print\u001b[38;5;241m=\u001b[39m\u001b[38;5;28;01mTrue\u001b[39;00m\n\u001b[0;32m    500\u001b[0m )\n\u001b[0;32m    501\u001b[0m discarded_runs \u001b[38;5;241m+\u001b[39m\u001b[38;5;241m=\u001b[39m \u001b[38;5;241m1\u001b[39m\n",
      "File \u001b[1;32mC:\\DEV\\Anaconda3\\envs\\xr\\lib\\site-packages\\spotpy\\algorithms\\_algorithm.py:549\u001b[0m, in \u001b[0;36m_algorithm.simulate\u001b[1;34m(self, id_params_tuple)\u001b[0m\n\u001b[0;32m    546\u001b[0m         model_result \u001b[38;5;241m=\u001b[39m que\u001b[38;5;241m.\u001b[39mget()\n\u001b[0;32m    548\u001b[0m \u001b[38;5;28;01melse\u001b[39;00m:\n\u001b[1;32m--> 549\u001b[0m     model_result \u001b[38;5;241m=\u001b[39m \u001b[38;5;28;43mself\u001b[39;49m\u001b[38;5;241;43m.\u001b[39;49m\u001b[43msetup\u001b[49m\u001b[38;5;241;43m.\u001b[39;49m\u001b[43msimulation\u001b[49m\u001b[43m(\u001b[49m\u001b[38;5;28;43mself\u001b[39;49m\u001b[38;5;241;43m.\u001b[39;49m\u001b[43mpartype\u001b[49m\u001b[43m(\u001b[49m\u001b[38;5;241;43m*\u001b[39;49m\u001b[43mall_params\u001b[49m\u001b[43m)\u001b[49m\u001b[43m)\u001b[49m\n\u001b[0;32m    551\u001b[0m \u001b[38;5;28;01mreturn\u001b[39;00m \u001b[38;5;28mid\u001b[39m, params, model_result\n",
      "File \u001b[1;32mE:\\casadje\\GitHub\\lisflood-reservoirs\\notebook\\ResOpsUS\\../../src\\lisfloodreservoirs\\calibration\\linear.py:85\u001b[0m, in \u001b[0;36mLinear_calibrator.simulation\u001b[1;34m(self, pars, inflow, storage_init, spinup)\u001b[0m\n\u001b[0;32m     82\u001b[0m \u001b[38;5;28mself\u001b[39m\u001b[38;5;241m.\u001b[39mreservoir \u001b[38;5;241m=\u001b[39m res\n\u001b[0;32m     84\u001b[0m \u001b[38;5;66;03m# simulate\u001b[39;00m\n\u001b[1;32m---> 85\u001b[0m sim \u001b[38;5;241m=\u001b[39m \u001b[43mres\u001b[49m\u001b[38;5;241;43m.\u001b[39;49m\u001b[43msimulate\u001b[49m\u001b[43m(\u001b[49m\u001b[43minflow\u001b[49m\u001b[43m,\u001b[49m\u001b[43m \u001b[49m\u001b[43mstorage_init\u001b[49m\u001b[43m)\u001b[49m\n\u001b[0;32m     86\u001b[0m \u001b[38;5;28;01mif\u001b[39;00m spinup \u001b[38;5;129;01mis\u001b[39;00m \u001b[38;5;129;01mnot\u001b[39;00m \u001b[38;5;28;01mNone\u001b[39;00m:\n\u001b[0;32m     87\u001b[0m     sim \u001b[38;5;241m=\u001b[39m sim\u001b[38;5;241m.\u001b[39miloc[spinup:]\n",
      "File \u001b[1;32mE:\\casadje\\GitHub\\lisflood-reservoirs\\notebook\\ResOpsUS\\../../src\\lisfloodreservoirs\\models\\basemodel.py:99\u001b[0m, in \u001b[0;36mReservoir.simulate\u001b[1;34m(self, inflow, Vo, demand)\u001b[0m\n\u001b[0;32m     97\u001b[0m \u001b[38;5;28;01melse\u001b[39;00m:\n\u001b[0;32m     98\u001b[0m     Q, V \u001b[38;5;241m=\u001b[39m \u001b[38;5;28mself\u001b[39m\u001b[38;5;241m.\u001b[39mtimestep(inflow[ts], Vo, demand[ts])\n\u001b[1;32m---> 99\u001b[0m \u001b[43mstorage\u001b[49m\u001b[43m[\u001b[49m\u001b[43mts\u001b[49m\u001b[43m]\u001b[49m \u001b[38;5;241m=\u001b[39m V\n\u001b[0;32m    100\u001b[0m outflow[ts] \u001b[38;5;241m=\u001b[39m Q\n\u001b[0;32m    101\u001b[0m \u001b[38;5;66;03m# update current storage\u001b[39;00m\n",
      "File \u001b[1;32mC:\\DEV\\Anaconda3\\envs\\xr\\lib\\site-packages\\pandas\\core\\series.py:1085\u001b[0m, in \u001b[0;36mSeries.__setitem__\u001b[1;34m(self, key, value)\u001b[0m\n\u001b[0;32m   1082\u001b[0m     \u001b[38;5;28;01mreturn\u001b[39;00m \u001b[38;5;28mself\u001b[39m\u001b[38;5;241m.\u001b[39m_set_values(indexer, value)\n\u001b[0;32m   1084\u001b[0m \u001b[38;5;28;01mtry\u001b[39;00m:\n\u001b[1;32m-> 1085\u001b[0m     \u001b[38;5;28;43mself\u001b[39;49m\u001b[38;5;241;43m.\u001b[39;49m\u001b[43m_set_with_engine\u001b[49m\u001b[43m(\u001b[49m\u001b[43mkey\u001b[49m\u001b[43m,\u001b[49m\u001b[43m \u001b[49m\u001b[43mvalue\u001b[49m\u001b[43m)\u001b[49m\n\u001b[0;32m   1086\u001b[0m \u001b[38;5;28;01mexcept\u001b[39;00m (\u001b[38;5;167;01mKeyError\u001b[39;00m, \u001b[38;5;167;01mValueError\u001b[39;00m):\n\u001b[0;32m   1087\u001b[0m     \u001b[38;5;28;01mif\u001b[39;00m is_integer(key) \u001b[38;5;129;01mand\u001b[39;00m \u001b[38;5;28mself\u001b[39m\u001b[38;5;241m.\u001b[39mindex\u001b[38;5;241m.\u001b[39minferred_type \u001b[38;5;241m!=\u001b[39m \u001b[38;5;124m\"\u001b[39m\u001b[38;5;124minteger\u001b[39m\u001b[38;5;124m\"\u001b[39m:\n\u001b[0;32m   1088\u001b[0m         \u001b[38;5;66;03m# positional setter\u001b[39;00m\n",
      "File \u001b[1;32mC:\\DEV\\Anaconda3\\envs\\xr\\lib\\site-packages\\pandas\\core\\series.py:1146\u001b[0m, in \u001b[0;36mSeries._set_with_engine\u001b[1;34m(self, key, value)\u001b[0m\n\u001b[0;32m   1145\u001b[0m \u001b[38;5;28;01mdef\u001b[39;00m \u001b[38;5;21m_set_with_engine\u001b[39m(\u001b[38;5;28mself\u001b[39m, key, value) \u001b[38;5;241m-\u001b[39m\u001b[38;5;241m>\u001b[39m \u001b[38;5;28;01mNone\u001b[39;00m:\n\u001b[1;32m-> 1146\u001b[0m     loc \u001b[38;5;241m=\u001b[39m \u001b[38;5;28;43mself\u001b[39;49m\u001b[38;5;241;43m.\u001b[39;49m\u001b[43mindex\u001b[49m\u001b[38;5;241;43m.\u001b[39;49m\u001b[43mget_loc\u001b[49m\u001b[43m(\u001b[49m\u001b[43mkey\u001b[49m\u001b[43m)\u001b[49m\n\u001b[0;32m   1148\u001b[0m     \u001b[38;5;66;03m# this is equivalent to self._values[key] = value\u001b[39;00m\n\u001b[0;32m   1149\u001b[0m     \u001b[38;5;28mself\u001b[39m\u001b[38;5;241m.\u001b[39m_mgr\u001b[38;5;241m.\u001b[39msetitem_inplace(loc, value)\n",
      "File \u001b[1;32mC:\\DEV\\Anaconda3\\envs\\xr\\lib\\site-packages\\pandas\\core\\indexes\\datetimes.py:679\u001b[0m, in \u001b[0;36mDatetimeIndex.get_loc\u001b[1;34m(self, key, method, tolerance)\u001b[0m\n\u001b[0;32m    676\u001b[0m     \u001b[38;5;28;01mraise\u001b[39;00m \u001b[38;5;167;01mKeyError\u001b[39;00m(key)\n\u001b[0;32m    678\u001b[0m \u001b[38;5;28;01mtry\u001b[39;00m:\n\u001b[1;32m--> 679\u001b[0m     \u001b[38;5;28;01mreturn\u001b[39;00m \u001b[43mIndex\u001b[49m\u001b[38;5;241;43m.\u001b[39;49m\u001b[43mget_loc\u001b[49m\u001b[43m(\u001b[49m\u001b[38;5;28;43mself\u001b[39;49m\u001b[43m,\u001b[49m\u001b[43m \u001b[49m\u001b[43mkey\u001b[49m\u001b[43m,\u001b[49m\u001b[43m \u001b[49m\u001b[43mmethod\u001b[49m\u001b[43m,\u001b[49m\u001b[43m \u001b[49m\u001b[43mtolerance\u001b[49m\u001b[43m)\u001b[49m\n\u001b[0;32m    680\u001b[0m \u001b[38;5;28;01mexcept\u001b[39;00m \u001b[38;5;167;01mKeyError\u001b[39;00m \u001b[38;5;28;01mas\u001b[39;00m err:\n\u001b[0;32m    681\u001b[0m     \u001b[38;5;28;01mraise\u001b[39;00m \u001b[38;5;167;01mKeyError\u001b[39;00m(orig_key) \u001b[38;5;28;01mfrom\u001b[39;00m \u001b[38;5;21;01merr\u001b[39;00m\n",
      "File \u001b[1;32mC:\\DEV\\Anaconda3\\envs\\xr\\lib\\site-packages\\pandas\\core\\indexes\\base.py:3621\u001b[0m, in \u001b[0;36mIndex.get_loc\u001b[1;34m(self, key, method, tolerance)\u001b[0m\n\u001b[0;32m   3619\u001b[0m casted_key \u001b[38;5;241m=\u001b[39m \u001b[38;5;28mself\u001b[39m\u001b[38;5;241m.\u001b[39m_maybe_cast_indexer(key)\n\u001b[0;32m   3620\u001b[0m \u001b[38;5;28;01mtry\u001b[39;00m:\n\u001b[1;32m-> 3621\u001b[0m     \u001b[38;5;28;01mreturn\u001b[39;00m \u001b[38;5;28mself\u001b[39m\u001b[38;5;241m.\u001b[39m_engine\u001b[38;5;241m.\u001b[39mget_loc(casted_key)\n\u001b[0;32m   3622\u001b[0m \u001b[38;5;28;01mexcept\u001b[39;00m \u001b[38;5;167;01mKeyError\u001b[39;00m \u001b[38;5;28;01mas\u001b[39;00m err:\n\u001b[0;32m   3623\u001b[0m     \u001b[38;5;28;01mraise\u001b[39;00m \u001b[38;5;167;01mKeyError\u001b[39;00m(key) \u001b[38;5;28;01mfrom\u001b[39;00m \u001b[38;5;21;01merr\u001b[39;00m\n",
      "\u001b[1;31mKeyboardInterrupt\u001b[0m: "
     ]
    }
   ],
   "source": [
    "for ID in tqdm(attributes.index): #[393]):\n",
    "    \n",
    "    # file where the calibration results will be saved\n",
    "    dbname = f'{PATH_OUT}/{ID:03}_samples'\n",
    "    if os.path.isfile(dbname + '.csv'):\n",
    "        print(f'The file {dbname}.csv already exists.')\n",
    "        continue   \n",
    "\n",
    "    ## TIME SERIES\n",
    "    \n",
    "    try:\n",
    "        # observed time series\n",
    "        obs = timeseries[ID][ts.columns.intersection(variables)].copy()\n",
    "        obs[obs < 0] = np.nan\n",
    "        # GloFAS simulated time series\n",
    "        glofas = timeseries[ID][[f'{var}_glofas' for var in variables]]\n",
    "        glofas.columns = variables\n",
    "        start, end = glofas.first_valid_index(), glofas.last_valid_index()\n",
    "        \n",
    "        # split sampling\n",
    "        start_obs = max([obs[var].first_valid_index() for var in ['storage', 'outflow']])\n",
    "        end_obs = min([obs[var].last_valid_index() for var in ['storage', 'outflow']])\n",
    "        cal_days = timedelta(days=np.floor((end_obs - start_obs).days * TRAIN_SIZE))\n",
    "        start_cal = end_obs - cal_days\n",
    "\n",
    "        # define train and test time series\n",
    "        x_train = glofas.inflow[start_cal:end_obs]\n",
    "        y_train = obs.loc[start_cal:end_obs, ['storage', 'outflow']]\n",
    "        x_test = glofas.inflow[start:start_cal]\n",
    "        y_test = obs.loc[start_obs:start_cal, ['storage', 'outflow']]\n",
    "    except Exception as e:\n",
    "        print(f'ERROR. The time series of reservoir {grand_id} could not be set up\\n', e)\n",
    "        continue\n",
    "\n",
    "    ## SET UP SPOTPY\n",
    "    \n",
    "    try:\n",
    "        # storage limits (m3)\n",
    "        Vtot, Vmin = attributes.loc[grand_id, ['CAP_MCM', 'Vmin']]\n",
    "        Vtot *= 1e6\n",
    "        Vmin *= Vtot\n",
    "        # outflow limits (m3/s)\n",
    "        Qmin = attributes.loc[grand_id, 'Qmin']\n",
    "\n",
    "        # initialize the calibration setup of the LISFLOOD reservoir routine\n",
    "        setup = get_calibrator(MODEL,\n",
    "                               inflow=x_train,\n",
    "                               storage=y_train.storage, \n",
    "                               outflow=y_train.outflow,\n",
    "                               Vmin=Vmin,\n",
    "                               Vtot=Vtot,\n",
    "                               Qmin=Qmin,\n",
    "                               target=TARGET,\n",
    "                               obj_func=KGEmod)\n",
    "\n",
    "        # define the sampling method\n",
    "        sceua = spotpy.algorithms.sceua(setup, dbname=dbname, dbformat='csv', save_sim=False)\n",
    "    except Exception as e:\n",
    "        print(f'ERROR. The SpotPY set up of reservoir {ID} could not be done\\n', e)\n",
    "        continue\n",
    "        \n",
    "    ## CALIBRATION\n",
    "    \n",
    "    try:\n",
    "        # start the sampler\n",
    "        sceua.sample(MAX_ITER, ngs=COMPLEXES, kstop=3, pcento=0.01, peps=0.1)\n",
    "    except Exception as e:\n",
    "        print(f'ERROR. While sampling the reservoir {ID}\\n', e)\n",
    "        continue\n",
    "\n",
    "    ### VALIDATION\n",
    "    \n",
    "    # read CSV of results\n",
    "    try:\n",
    "        results = pd.read_csv(f'{dbname}.csv')\n",
    "        results.index.name = 'iteration'\n",
    "        parcols = [col for col in results.columns if col.startswith('par')]\n",
    "    except Exception as e:\n",
    "        print(f'ERROR while reading results form reservoir {ID}\\n', e)\n",
    "        continue\n",
    "    \n",
    "    # compute validation KGE of each simulation and overwrite CSV file\n",
    "    try:       \n",
    "        results['like_val'] = np.nan\n",
    "        for i in tqdm(results.index):\n",
    "            sim = setup.simulation(pars=results.loc[i, parcols],\n",
    "                                   inflow=x_test,\n",
    "                                   storage_init=y_test.storage[0])\n",
    "            results.loc[i, 'like_val'] = np.sqrt(np.sum([(1 - KGEmod(y_test[var], sim[var])[0])**2 for var in TARGET]))\n",
    "        results.to_csv(f'{dbname}.csv', index=False, float_format='%.8f')\n",
    "    except Exception as e:\n",
    "        print(f'ERROR while computing KGE for the validation period in reservoir {ID}\\n', e)\n",
    "    \n",
    "    # select optimal parameters (best validation) and export them\n",
    "    try:\n",
    "        best_iter = results.like_val.idxmin() # results.like1.idxmin()\n",
    "        parvalues = {col[3:]: float(results.loc[best_iter, col]) for col in parcols}\n",
    "        with open(f'{PATH_OUT}/{ID:03}_optimal_parameters.yml', 'w') as file:\n",
    "            yaml.dump(parvalues, file)\n",
    "    except Exception as e:\n",
    "        print(f'ERROR while searching for optimal parameters in reservoir {ID}\\n', e)\n",
    "        continue\n",
    "    \n",
    "    # simulate the whole observed period with the optimal parameterization\n",
    "    try:       \n",
    "        if MODEL.lower() == 'linear':\n",
    "            kwargs = {'Vmin': Vmin, 'Vtot': Vtot, 'Qmin': Qmin, 'T': parvalues['T']}\n",
    "        elif MODEL.lower() == 'lisflood':\n",
    "            Vf = parvalues['FFf'] * Vtot\n",
    "            Vn = Vmin + parvalues['alpha'] * (Vf - Vmin)\n",
    "            Vn_adj = Vn + parvalues['beta'] * (Vf - Vn)\n",
    "            Qf = setup.inflow.quantile(parvalues['QQf'])\n",
    "            Qn = parvalues['gamma'] * Qf\n",
    "            k = parvalues['k']\n",
    "            kwargs = {'Vmin': Vmin, 'Vn': Vn, 'Vn_adj': Vn_adj, 'Vf': Vf, 'Vtot': Vtot, 'Qmin': Qmin, 'Qn': Qn, 'Qf': Qf}\n",
    "        else:\n",
    "            raise ValueError(f'Model {MODEL} is not supported')\n",
    "        res = get_model(MODEL, **kwargs)  \n",
    "        sim = res.simulate(glofas.inflow[start_obs:end_obs],\n",
    "                           obs.storage[start_obs])\n",
    "        \n",
    "        # performance\n",
    "        performance = pd.DataFrame(index=['KGE', 'alpha', 'beta', 'rho'], columns=obs.columns)\n",
    "        for var in performance.columns:\n",
    "            try:\n",
    "                performance[var] = KGEmod(obs[var], sim[var])\n",
    "            except:\n",
    "                continue\n",
    "        file_out = PATH_OUT / f'{ID:03}_performance.csv'\n",
    "        performance.to_csv(file_out, float_format='%.3f')\n",
    "        \n",
    "        res.scatter(sim,\n",
    "                    obs,\n",
    "                    norm=False,\n",
    "                    title=ID,\n",
    "                    # save=PATH_OUT / f'{ID:03}_scatter.jpg'\n",
    "                   )\n",
    "        \n",
    "        res.lineplot({'GloFAS': glofas, 'cal': sim},\n",
    "                     obs,\n",
    "                     # save=PATH_OUT / f'{ID:03}_lineplot.jpg'\n",
    "                    )\n",
    "    except Exception as e:\n",
    "        print(f'ERROR while simulating with optimal parameters in reservoir {ID}\\n', e)"
   ]
  },
  {
   "cell_type": "code",
   "execution_count": null,
   "id": "3eba9186-17c3-417f-a22a-7135a2fc525f",
   "metadata": {},
   "outputs": [],
   "source": []
  }
 ],
 "metadata": {
  "kernelspec": {
   "display_name": "Python 3 (ipykernel)",
   "language": "python",
   "name": "python3"
  },
  "language_info": {
   "codemirror_mode": {
    "name": "ipython",
    "version": 3
   },
   "file_extension": ".py",
   "mimetype": "text/x-python",
   "name": "python",
   "nbconvert_exporter": "python",
   "pygments_lexer": "ipython3",
   "version": "3.9.13"
  }
 },
 "nbformat": 4,
 "nbformat_minor": 5
}
