{
 "cells": [
  {
   "cell_type": "markdown",
   "id": "4516f5e0-f0dd-4bdb-af93-3cf34cfb94c6",
   "metadata": {},
   "source": [
    "# Convert timezone\n",
    "***\n",
    "\n",
    "**Autor:** Chus Casado Rodríguez<br>\n",
    "**Date:** 21-05-2025<br>\n",
    "\n",
    "**Introduction:**<br>"
   ]
  },
  {
   "cell_type": "code",
   "execution_count": 1,
   "id": "bd31a8cb-3683-4fb1-bc9d-b9d606fe64ec",
   "metadata": {},
   "outputs": [],
   "source": [
    "import numpy as np\n",
    "import pandas as pd\n",
    "import xarray as xr\n",
    "from datetime import datetime, timedelta\n",
    "from tqdm.auto import tqdm\n",
    "\n",
    "from lisfloodreservoirs.utils import DatasetConfig\n",
    "from lisfloodreservoirs import read_attributes\n",
    "from lisfloodreservoirs.utils.plots import plot_resops, reservoir_analysis, compare_flows\n",
    "from lisfloodreservoirs.utils.timeseries import clean_storage, clean_inflow, time_encoding"
   ]
  },
  {
   "cell_type": "code",
   "execution_count": 2,
   "id": "e9a7ec06-d181-4e70-aae7-93f0353924cd",
   "metadata": {},
   "outputs": [],
   "source": [
    "from typing import Union\n",
    "from timezonefinder import TimezoneFinder\n",
    "import pytz\n",
    "import matplotlib.pyplot as plt"
   ]
  },
  {
   "cell_type": "markdown",
   "id": "58c16a79-1c1c-42d0-8b03-11e6ece2dfb2",
   "metadata": {
    "tags": []
   },
   "source": [
    "## Configuration"
   ]
  },
  {
   "cell_type": "code",
   "execution_count": null,
   "id": "9102e7db-c302-4e2f-a1f1-4a3820841820",
   "metadata": {},
   "outputs": [],
   "source": [
    "cfg = DatasetConfig('config_ResOpsUS_v21.yml')\n",
    "\n",
    "print(f'Time series will be saved in {cfg.PATH_TS}')"
   ]
  },
  {
   "cell_type": "markdown",
   "id": "0f351856-cee6-4d5e-b561-724f4ea6ebb0",
   "metadata": {
    "tags": []
   },
   "source": [
    "## Data"
   ]
  },
  {
   "cell_type": "markdown",
   "id": "58cbf891-79d3-4317-9964-b99f1df92649",
   "metadata": {},
   "source": [
    "### Attributes\n"
   ]
  },
  {
   "cell_type": "code",
   "execution_count": null,
   "id": "a3c3724e-1740-498c-9c74-f1903f53a2f4",
   "metadata": {},
   "outputs": [],
   "source": [
    "# import all tables of attributes\n",
    "attributes = read_attributes(cfg.PATH_ATTRS)\n",
    "print(f'{attributes.shape[0]} reservoirs in the attribute tables')"
   ]
  },
  {
   "cell_type": "markdown",
   "id": "e1228fdc-7588-4e0f-ad5e-25b95df3412a",
   "metadata": {},
   "source": [
    "### Time series\n",
    "#### Oberserved: ResOpsUS"
   ]
  },
  {
   "cell_type": "code",
   "execution_count": null,
   "id": "bf3fdb0d-e45e-436d-95ee-a7464b3b013a",
   "metadata": {
    "tags": []
   },
   "outputs": [],
   "source": [
    "path_plots = cfg.PATH_TS / 'plots'\n",
    "path_plots.mkdir(parents=True, exist_ok=True)\n",
    "resops_ts = {}\n",
    "for grand_id in tqdm(attributes.index[:5], desc='Reading observed time series'): # ID refers to GRanD\n",
    "\n",
    "    # load timeseries\n",
    "    file = cfg.PATH_OBS_TS / f'ResOpsUS_{grand_id}.csv'\n",
    "    if file.is_file():\n",
    "        series = pd.read_csv(file, parse_dates=True, index_col='date')\n",
    "    else:\n",
    "        print(f\"{file} doesn't exist\")\n",
    "\n",
    "    # remove duplicated index\n",
    "    series = series[~series.index.duplicated(keep='first')]\n",
    "    # trim to GloFAS long run period\n",
    "    start, end = cfg.START, cfg.END\n",
    "    series = series.loc[start:end,:]\n",
    "    if series.empty:\n",
    "        print(f'Reservoir {grand_id} has no observations in the time period from {start} to {end}')\n",
    "        continue\n",
    "    # ensure there aren't gaps in the index\n",
    "    dates = pd.date_range(series.first_valid_index(), series.last_valid_index(), freq='D')\n",
    "    series = series.reindex(dates)\n",
    "    series.index.name = 'date'\n",
    "\n",
    "    # remove negative values\n",
    "    series[series < 0] = np.nan\n",
    "    # clean storage time series\n",
    "    series.storage = clean_storage(series.storage, w=7, error_thr=0.1)\n",
    "    # clean inflow time series\n",
    "    series.inflow = clean_inflow(\n",
    "        series.inflow, \n",
    "        storage=series.storage if attributes.loc[grand_id, 'STORAGE'] == 1 else None, \n",
    "        outlfow=series.outflow if attributes.loc[grand_id, 'OUTFLOW'] == 1 else None, \n",
    "        grad_thr=1e4, \n",
    "        balance_thr=5, \n",
    "        int_method='linear'\n",
    "    )\n",
    "    # save in dictionary\n",
    "    resops_ts[grand_id] = series\n",
    "\n",
    "    # plot observed time series\n",
    "    plot_resops(\n",
    "        series.storage,\n",
    "        series.elevation,\n",
    "        series.inflow,\n",
    "        series.outflow,\n",
    "        attributes.loc[grand_id, ['CAP_MCM', 'CAP_GLWD']].values,\n",
    "        title=grand_id,\n",
    "        save=path_plots / f'{grand_id:04}_lineplot.jpg'\n",
    "        )\n",
    "\n",
    "print(f'{len(resops_ts)} reservoirs in ResOpsUS time series')"
   ]
  },
  {
   "cell_type": "markdown",
   "id": "5e79fe0c-0165-4abd-861e-c303641f68fb",
   "metadata": {},
   "source": [
    "***"
   ]
  },
  {
   "cell_type": "markdown",
   "id": "0ee28e27-95f6-4768-9b34-f7833bbb022f",
   "metadata": {},
   "source": [
    "## dummy case"
   ]
  },
  {
   "cell_type": "code",
   "execution_count": 5,
   "id": "d9780ad8-3d6d-4507-9e16-6b90d6e9f15f",
   "metadata": {},
   "outputs": [],
   "source": [
    "def water_balance(Vo: float, inflow: pd.Series, outflow: pd.Series) -> pd.Series:\n",
    "\n",
    "    storage = (inflow.cumsum() - outflow.cumsum()).shift(1) * 24 * 3600 + Vo\n",
    "    storage.iloc[0] = Vo\n",
    "        \n",
    "    return storage"
   ]
  },
  {
   "cell_type": "code",
   "execution_count": 11,
   "id": "4540856d-b6e2-4789-9745-ef0d37d823c4",
   "metadata": {},
   "outputs": [],
   "source": [
    "def convert_to_UTC_reindex(lon: float, lat: float, series: pd.DataFrame) -> pd.DataFrame:\n",
    "    \"\"\"Takes a time series with no timezone definition, finds the timezone based on the\n",
    "    coordinates of the location, and converts the datetime index to UTC\n",
    "    \"\"\"\n",
    "\n",
    "    # find timezone\n",
    "    tf = TimezoneFinder()\n",
    "    timezone_name = tf.timezone_at(lng=lon, lat=lat)\n",
    "    print(timezone_name)\n",
    "\n",
    "    # define timezone\n",
    "    ts_local = series.copy()\n",
    "    if ts_local.index.tz is None:\n",
    "        ts_local.index = ts_local.index.tz_localize(timezone_name)\n",
    "    else:\n",
    "        ts_local.index = ts_local.index.tz_convert(timezone_name)\n",
    "\n",
    "    # convert to UTC with offset\n",
    "    ts_utc = ts_local.copy()\n",
    "    ts_utc.index = ts_utc.index.tz_convert('UTC')\n",
    "\n",
    "    return ts_utc"
   ]
  },
  {
   "cell_type": "code",
   "execution_count": 100,
   "id": "3715c416-ec78-4254-903d-3fa41634146e",
   "metadata": {},
   "outputs": [],
   "source": [
    "# create dummy series the local timezone\n",
    "dates = pd.date_range(start=datetime(2020, 3, 26), end=datetime(2020, 4, 2), freq='D')\n",
    "inflow = pd.Series([100, 110, 120, 200, 180, 150, 130, 120], index=dates)\n",
    "outflow = pd.Series([100, 100, 100, 150, 180, 180, 180, 150], index=dates)\n",
    "storage = water_balance(4 * 1e6, inflow, outflow)\n",
    "ts = pd.concat([inflow, outflow, storage], axis=1)\n",
    "ts.index.name = 'time'\n",
    "ts.columns = ['inflow', 'outflow', 'storage']"
   ]
  },
  {
   "cell_type": "code",
   "execution_count": 101,
   "id": "86898aeb-2ebc-4a0b-b9ff-b0206d21b5d8",
   "metadata": {},
   "outputs": [],
   "source": [
    "# # remove random values\n",
    "# ts.loc[dates[3], 'inflow'] = np.nan"
   ]
  },
  {
   "cell_type": "markdown",
   "id": "fd847ed4-f28d-4a2d-baf9-1c33123af437",
   "metadata": {},
   "source": [
    "### `.reindex()`"
   ]
  },
  {
   "cell_type": "code",
   "execution_count": 102,
   "id": "a33eea26-8f97-4b80-9640-f392d35c9316",
   "metadata": {},
   "outputs": [],
   "source": [
    "def reindex_to_00UTC(series_utc: pd.DataFrame) -> pd.DataFrame:\n",
    "    \"\"\"\n",
    "    \"\"\"\n",
    "\n",
    "    # offset\n",
    "    offset = series_utc.index.hour.min()\n",
    "    print(f'offset: {offset} h')\n",
    "    \n",
    "    # timestamps with offset UTC\n",
    "    idx_offset = series_utc.index\n",
    "    \n",
    "    # timestamps at 00 UTC\n",
    "    dates = series_utc.index.date\n",
    "    if offset == 0:\n",
    "        start, end = series_utc.index[0], series_utc.index[-1]\n",
    "    if offset <=12:\n",
    "        start = series_utc.index.min().floor('D')\n",
    "        end = series_utc.index.max().floor('D')\n",
    "    elif offset > 12:\n",
    "        start = series_utc.index.min().ceil('D')\n",
    "        end = series_utc.index.max().ceil('D')\n",
    "    print(f'start date:\\t{start}\\nend date:\\t{end}')\n",
    "    idx_00 = pd.date_range(\n",
    "        start=start,\n",
    "        end=end,\n",
    "        freq='D',\n",
    "        tz='UTC',\n",
    "        name=series_utc.index.name\n",
    "        )\n",
    "    \n",
    "    # interpolate linearly the values at 00 UTC\n",
    "    idx = idx_00.union(idx_offset)\n",
    "    series_00utc = series_utc.reindex(idx).interpolate(\n",
    "        'time', \n",
    "        limit=1, \n",
    "        limit_direction='both',\n",
    "    ).loc[idx_00]\n",
    "\n",
    "    return series_00utc"
   ]
  },
  {
   "cell_type": "code",
   "execution_count": 105,
   "id": "6e4558c4-8a30-4aee-b3dc-dec27e39c4d6",
   "metadata": {},
   "outputs": [
    {
     "name": "stdout",
     "output_type": "stream",
     "text": [
      "Australia/Sydney\n",
      "offset: 13 h\n",
      "start date:\t2020-03-26 00:00:00+00:00\n",
      "end date:\t2020-04-02 00:00:00+00:00\n"
     ]
    },
    {
     "data": {
      "text/html": [
       "<div>\n",
       "<style scoped>\n",
       "    .dataframe tbody tr th:only-of-type {\n",
       "        vertical-align: middle;\n",
       "    }\n",
       "\n",
       "    .dataframe tbody tr th {\n",
       "        vertical-align: top;\n",
       "    }\n",
       "\n",
       "    .dataframe thead th {\n",
       "        text-align: right;\n",
       "    }\n",
       "</style>\n",
       "<table border=\"1\" class=\"dataframe\">\n",
       "  <thead>\n",
       "    <tr style=\"text-align: right;\">\n",
       "      <th></th>\n",
       "      <th>inflow</th>\n",
       "      <th>outflow</th>\n",
       "      <th>storage</th>\n",
       "      <th>storage_wb</th>\n",
       "    </tr>\n",
       "    <tr>\n",
       "      <th>time</th>\n",
       "      <th></th>\n",
       "      <th></th>\n",
       "      <th></th>\n",
       "      <th></th>\n",
       "    </tr>\n",
       "  </thead>\n",
       "  <tbody>\n",
       "    <tr>\n",
       "      <th>2020-03-26 00:00:00+00:00</th>\n",
       "      <td>104.583333</td>\n",
       "      <td>100.000000</td>\n",
       "      <td>4000000.0</td>\n",
       "      <td>4000000.0</td>\n",
       "    </tr>\n",
       "    <tr>\n",
       "      <th>2020-03-27 00:00:00+00:00</th>\n",
       "      <td>114.583333</td>\n",
       "      <td>100.000000</td>\n",
       "      <td>4396000.0</td>\n",
       "      <td>4396000.0</td>\n",
       "    </tr>\n",
       "    <tr>\n",
       "      <th>2020-03-28 00:00:00+00:00</th>\n",
       "      <td>156.666667</td>\n",
       "      <td>122.916667</td>\n",
       "      <td>5656000.0</td>\n",
       "      <td>5656000.0</td>\n",
       "    </tr>\n",
       "    <tr>\n",
       "      <th>2020-03-29 00:00:00+00:00</th>\n",
       "      <td>190.833333</td>\n",
       "      <td>163.750000</td>\n",
       "      <td>8572000.0</td>\n",
       "      <td>8572000.0</td>\n",
       "    </tr>\n",
       "    <tr>\n",
       "      <th>2020-03-30 00:00:00+00:00</th>\n",
       "      <td>166.250000</td>\n",
       "      <td>180.000000</td>\n",
       "      <td>10912000.0</td>\n",
       "      <td>10912000.0</td>\n",
       "    </tr>\n",
       "    <tr>\n",
       "      <th>2020-03-31 00:00:00+00:00</th>\n",
       "      <td>140.833333</td>\n",
       "      <td>180.000000</td>\n",
       "      <td>9724000.0</td>\n",
       "      <td>9724000.0</td>\n",
       "    </tr>\n",
       "    <tr>\n",
       "      <th>2020-04-01 00:00:00+00:00</th>\n",
       "      <td>125.416667</td>\n",
       "      <td>166.250000</td>\n",
       "      <td>6340000.0</td>\n",
       "      <td>6340000.0</td>\n",
       "    </tr>\n",
       "    <tr>\n",
       "      <th>2020-04-02 00:00:00+00:00</th>\n",
       "      <td>120.000000</td>\n",
       "      <td>150.000000</td>\n",
       "      <td>4000000.0</td>\n",
       "      <td>2812000.0</td>\n",
       "    </tr>\n",
       "  </tbody>\n",
       "</table>\n",
       "</div>"
      ],
      "text/plain": [
       "                               inflow     outflow     storage  storage_wb\n",
       "time                                                                     \n",
       "2020-03-26 00:00:00+00:00  104.583333  100.000000   4000000.0   4000000.0\n",
       "2020-03-27 00:00:00+00:00  114.583333  100.000000   4396000.0   4396000.0\n",
       "2020-03-28 00:00:00+00:00  156.666667  122.916667   5656000.0   5656000.0\n",
       "2020-03-29 00:00:00+00:00  190.833333  163.750000   8572000.0   8572000.0\n",
       "2020-03-30 00:00:00+00:00  166.250000  180.000000  10912000.0  10912000.0\n",
       "2020-03-31 00:00:00+00:00  140.833333  180.000000   9724000.0   9724000.0\n",
       "2020-04-01 00:00:00+00:00  125.416667  166.250000   6340000.0   6340000.0\n",
       "2020-04-02 00:00:00+00:00  120.000000  150.000000   4000000.0   2812000.0"
      ]
     },
     "execution_count": 105,
     "metadata": {},
     "output_type": "execute_result"
    }
   ],
   "source": [
    "# California\n",
    "lon = -121\n",
    "lat = 37\n",
    "\n",
    "# Australia\n",
    "lon = 150\n",
    "lat = -30\n",
    "\n",
    "# # Madrid\n",
    "# lon = -3.5\n",
    "# lat = 40\n",
    "\n",
    "# # London\n",
    "# lon = 0\n",
    "# lat = 51\n",
    "\n",
    "# convert time series to UTC (with offset)\n",
    "ts_utc = convert_to_UTC_reindex(lon, lat, ts)\n",
    "\n",
    "# interpolate values to 00 UTC\n",
    "ts_00utc = reindex_to_00UTC(ts_utc)\n",
    "\n",
    "# compute storage by water balance\n",
    "ts_00utc['storage_wb'] = water_balance(ts_00utc.storage.iloc[0], ts_00utc.inflow, ts_00utc.outflow)\n",
    "\n",
    "ts_00utc"
   ]
  },
  {
   "cell_type": "code",
   "execution_count": null,
   "id": "320f56dc-237a-491e-bfad-fbcc5739cdeb",
   "metadata": {},
   "outputs": [],
   "source": []
  },
  {
   "cell_type": "code",
   "execution_count": 107,
   "id": "0fff8908-91ea-462a-998d-b003c8ae480f",
   "metadata": {},
   "outputs": [
    {
     "data": {
      "image/png": "[encoded data removed]",
      "text/plain": [
       "<Figure size 1200x900 with 3 Axes>"
      ]
     },
     "metadata": {},
     "output_type": "display_data"
    }
   ],
   "source": [
    "fig, axes = plt.subplots(figsize=(12, 9), nrows=3, sharex=True)\n",
    "for ax, variable in zip(axes, ['inflow', 'outflow', 'storage']):\n",
    "    drawstyle = 'steps-post' if variable in ['inflow', 'outflow'] else 'default'\n",
    "    # original values \n",
    "    ts_utc[variable].plot(\n",
    "        ax=ax, \n",
    "        label='local timezone', \n",
    "        drawstyle=drawstyle\n",
    "    )\n",
    "    # interpolated values\n",
    "    ts_00utc[variable].plot(\n",
    "        ax=ax, \n",
    "        ls='--',\n",
    "        label='UTC timezone', \n",
    "        drawstyle=drawstyle\n",
    "    )\n",
    "    \n",
    "    ax.set_title(variable)\n",
    "    for date in np.unique(ts_00utc.index.date):\n",
    "        ax.axvline(date, c='k', lw=.5, ls=':')\n",
    "handles, labels = ax.get_legend_handles_labels()\n",
    "fig.legend(handles, labels, frameon=False, loc=6, bbox_to_anchor=[.91, .4, .1, .3]);"
   ]
  },
  {
   "cell_type": "markdown",
   "id": "3f413ca9-19cf-4433-8df6-ed51f38b8bec",
   "metadata": {},
   "source": [
    "### `.resample()`"
   ]
  },
  {
   "cell_type": "code",
   "execution_count": 82,
   "id": "e3fd487e-8866-4103-add5-318b9542fb39",
   "metadata": {},
   "outputs": [],
   "source": [
    "def resample_to_00UTC(series_utc: pd.DataFrame) -> pd.DataFrame:\n",
    "    \"\"\"\n",
    "    \"\"\"\n",
    "    \n",
    "    # offset\n",
    "    offset = series_utc.index.hour.min()\n",
    "    print(f'offset: {offset} h')\n",
    "    \n",
    "    # resample hourly values\n",
    "    series_utc_hourly = series_utc.resample('h').interpolate(method='linear', limit=1)\n",
    "    resample_to_00UTC.series_hourly = series_utc_hourly\n",
    "    \n",
    "    # compute daily means\n",
    "    series_00utc_mean = series_utc_hourly.groupby(series_utc_hourly.index.date).mean()\n",
    "    if offset != 0:\n",
    "        if offset <= 12:\n",
    "            series_00utc_mean.iloc[-1, :] = np.nan\n",
    "        elif offset > 12:\n",
    "            series_00utc_mean.iloc[0, :] = np.nan\n",
    "    series_00utc_mean.index = pd.DatetimeIndex(series_00utc_mean.index, tz='UTC')\n",
    "    \n",
    "    # extract instant values at 00 UTC\n",
    "    series_00utc_inst = series_utc_hourly[series_utc_hourly.index.hour == 0].copy()\n",
    "\n",
    "    return series_00utc_mean, series_00utc_inst"
   ]
  },
  {
   "cell_type": "code",
   "execution_count": null,
   "id": "7d23426f-64fb-4020-af6f-caff7eef0606",
   "metadata": {},
   "outputs": [],
   "source": []
  },
  {
   "cell_type": "code",
   "execution_count": 89,
   "id": "58bd22a2-681a-44b0-8ce4-1c3a6bbdc783",
   "metadata": {},
   "outputs": [
    {
     "data": {
      "text/plain": [
       "<Axes: xlabel='time'>"
      ]
     },
     "execution_count": 89,
     "metadata": {},
     "output_type": "execute_result"
    },
    {
     "data": {
      "image/png": "[encoded data removed]",
      "text/plain": [
       "<Figure size 640x480 with 1 Axes>"
      ]
     },
     "metadata": {},
     "output_type": "display_data"
    }
   ],
   "source": [
    "ts_utc.resample('h').ffill(limit=24).plot()"
   ]
  },
  {
   "cell_type": "code",
   "execution_count": null,
   "id": "52743ef6-be1b-4804-bc60-915719a22425",
   "metadata": {},
   "outputs": [],
   "source": []
  },
  {
   "cell_type": "code",
   "execution_count": null,
   "id": "d96bf63d-a8f3-4e57-af96-4edd36839460",
   "metadata": {},
   "outputs": [],
   "source": []
  },
  {
   "cell_type": "code",
   "execution_count": 83,
   "id": "2ad9606a-3f81-44d0-8197-06213032d367",
   "metadata": {},
   "outputs": [
    {
     "name": "stdout",
     "output_type": "stream",
     "text": [
      "offset: 7 h\n"
     ]
    }
   ],
   "source": [
    "# interpolate values to 00 UTC\n",
    "ts_00utc_mean, ts_00utc_inst = resample_to_00UTC(ts_utc)\n",
    "\n",
    "# compute storage by water balance\n",
    "ts_00utc_mean['storage_wb'] = water_balance(ts_00utc_mean.storage.iloc[0], ts_00utc_mean.inflow, ts_00utc_mean.outflow)\n",
    "ts_00utc_inst['storage_wb'] = water_balance(ts_00utc_inst.storage.iloc[0], ts_00utc_inst.inflow, ts_00utc_inst.outflow)\n",
    "\n",
    "# ts_00utc"
   ]
  },
  {
   "cell_type": "code",
   "execution_count": 84,
   "id": "e71023e6-76ea-4df3-894b-f4d36078508e",
   "metadata": {},
   "outputs": [
    {
     "data": {
      "image/png": "[encoded data removed]",
      "text/plain": [
       "<Figure size 1200x900 with 3 Axes>"
      ]
     },
     "metadata": {},
     "output_type": "display_data"
    }
   ],
   "source": [
    "fig, axes = plt.subplots(figsize=(12, 9), nrows=3, sharex=True)\n",
    "for ax, variable in zip(axes, ['inflow', 'outflow', 'storage']):\n",
    "    drawstyle = 'steps-post' if variable in ['inflow', 'outflow'] else 'default'\n",
    "    # original values \n",
    "    ts_utc[variable].plot(\n",
    "        ax=ax, \n",
    "        label='local timezone', \n",
    "        drawstyle=drawstyle\n",
    "    )\n",
    "    # average daily values\n",
    "    if variable in ['inflow', 'outflow']:\n",
    "        ts_00utc_mean[variable].plot(\n",
    "            ax=ax, \n",
    "            ls='--',\n",
    "            label='daily mean (UTC)', \n",
    "            drawstyle='steps-post'\n",
    "        )\n",
    "    # instant values at UTC 00\n",
    "    elif variable in ['storage']:\n",
    "        ts_00utc_inst[variable].plot(\n",
    "            ax=ax, \n",
    "            ls='--',\n",
    "            label='daily UTC 00', \n",
    "            drawstyle='default'\n",
    "        )\n",
    "    \n",
    "    ax.set_title(variable)\n",
    "    for date in np.unique(ts_utc.index.date):\n",
    "        ax.axvline(date, c='k', lw=.5, ls=':')\n",
    "handles, labels = ax.get_legend_handles_labels()\n",
    "fig.legend(handles, labels, frameon=False, loc=6, bbox_to_anchor=[.93, .4, .1, .3]);"
   ]
  },
  {
   "cell_type": "code",
   "execution_count": null,
   "id": "ac15291d-a629-4b7f-9e95-7417784171fe",
   "metadata": {
    "scrolled": true
   },
   "outputs": [],
   "source": [
    "import matplotlib.pyplot as plt\n",
    "\n",
    "fig, axes = plt.subplots(figsize=(12, 9), nrows=3, sharex=True)\n",
    "\n",
    "for ax, variable in zip(axes, ['inflow', 'outflow', 'storage']):\n",
    "    ts_utc[variable].plot(ax=ax, label='original (daily)')\n",
    "    ts_utc_hourly[variable].plot(ax=ax, ls='--', label='original (hourly)')\n",
    "    ts_00utc_mean[variable].plot(ax=ax, label='daily UTC mean', drawstyle='steps-post')\n",
    "    ax.scatter(ts_00utc_inst.index, ts_00utc_inst[variable], marker='x', color='C3', lw=1, label='daily UTC 00')\n",
    "    \n",
    "    ax.set_title(variable)\n",
    "    for date in np.unique(ts_utc.index.date):\n",
    "        ax.axvline(date, c='k', lw=.5, ls=':')\n",
    "handles, labels = ax.get_legend_handles_labels()\n",
    "fig.legend(handles, labels, frameon=False, loc=6, bbox_to_anchor=[.93, .4, .1, .3]);"
   ]
  },
  {
   "cell_type": "code",
   "execution_count": null,
   "id": "ff1c1743-b22c-4759-903f-ed6682535ce5",
   "metadata": {},
   "outputs": [],
   "source": []
  },
  {
   "cell_type": "code",
   "execution_count": null,
   "id": "67089dc6-434f-4006-8d52-e9ca1d38c6d4",
   "metadata": {},
   "outputs": [],
   "source": [
    "ts_00utc_mean['storage_wb'] = water_balance(ts_00utc_mean.storage.iloc[0], ts_00utc_mean.inflow, ts_00utc_mean.outflow)\n",
    "\n",
    "ts_00utc_mean"
   ]
  },
  {
   "cell_type": "code",
   "execution_count": null,
   "id": "28d1a5c3-79b8-47b6-8c1e-3e04645156cd",
   "metadata": {},
   "outputs": [],
   "source": [
    "ts_00utc_inst['storage_wb'] = water_balance(ts_00utc_inst.storage.iloc[0], ts_00utc_mean.inflow[1:], ts_00utc_mean.outflow[1:])\n",
    "\n",
    "ts_00utc_inst"
   ]
  },
  {
   "cell_type": "code",
   "execution_count": null,
   "id": "1372652e-25b9-4511-8c18-774e2f5ce968",
   "metadata": {},
   "outputs": [],
   "source": [
    "# # recompute storage by water balance\n",
    "# V = ts_00utc.storage.iloc[0]\n",
    "# storage = [V]\n",
    "# for I, O in zip(ts_00utc.inflow, ts_00utc.outflow):\n",
    "#     V += (I - O) * pd.Timedelta(days=1).total_seconds()\n",
    "#     storage.append(V)\n",
    "# ts_00utc['storage_wb'] = storage[:-1]\n",
    "\n",
    "# ts_00utc"
   ]
  },
  {
   "cell_type": "code",
   "execution_count": null,
   "id": "2560690b-c0a6-4283-892c-817c4638f2b3",
   "metadata": {},
   "outputs": [],
   "source": [
    "# # my formula using the area under the curve\n",
    "# ts_00utc['storage_auc'] = np.nan\n",
    "# storage = ts_utc.storage.values\n",
    "# storage_auc = 1 / 1152 * (offset**2 * storage[:-2] + (24**2 + 48 * offset -2 * offset**2) * storage[1:-1] + (24 - offset)**2 * storage[2:])\n",
    "# if offset <= 12:\n",
    "#     ts_00utc['storage_auc'] = np.hstack(([storage[0]], storage_wb, [np.nan]))\n",
    "# else:\n",
    "#     ts_00utc['storage_auc'] = np.hstack((storage_wb, [storage[1], np.nan]))\n",
    "\n",
    "# ts_00utc"
   ]
  },
  {
   "cell_type": "code",
   "execution_count": null,
   "id": "5edf9f68-3ac2-472f-a5b7-41a0fecbd8ff",
   "metadata": {},
   "outputs": [],
   "source": [
    "# # interpolate hourly values\n",
    "# dates = ts_utc.index.date\n",
    "# if offset == 0:\n",
    "#     start, end = ts_utc.index[0], ts_utc.index[-1]\n",
    "# elif offset < 12:\n",
    "#     start = pd.Timestamp(dates[0], tz='UTC')\n",
    "#     end = pd.Timestamp(dates[-2], tz='UTC') + pd.Timedelta(hours=23)\n",
    "# elif offset > 12:\n",
    "#     start = pd.Timestamp(dates[1], tz='UTC')\n",
    "#     end = pd.Timestamp(dates[-1], tz='UTC') + pd.Timedelta(hours=23)\n",
    "\n",
    "# print(start, end)\n",
    "\n",
    "# # resample hourly values\n",
    "# ts_utc_hourly = ts_utc.resample('h').interpolate(method='linear')\n",
    "# ts_utc_hourly = ts_utc_hourly.loc[start:end]"
   ]
  },
  {
   "cell_type": "code",
   "execution_count": null,
   "id": "98d3dc7f-768f-49e4-ad16-3f69b3be799e",
   "metadata": {},
   "outputs": [],
   "source": [
    "# hours = pd.date_range(start, end, freq='h', tz='UTC')\n",
    "# aux = ts_utc.reindex(hours).interpolate('time')\n",
    "\n",
    "# aux.tail(10)"
   ]
  },
  {
   "cell_type": "code",
   "execution_count": null,
   "id": "469be179-8103-4749-a004-f055fba39d97",
   "metadata": {},
   "outputs": [],
   "source": []
  },
  {
   "cell_type": "code",
   "execution_count": null,
   "id": "ef445ca4-dab8-409d-9bdc-77a9960032b3",
   "metadata": {},
   "outputs": [],
   "source": []
  },
  {
   "cell_type": "code",
   "execution_count": null,
   "id": "d9ddaf9f-3bd9-4173-b2ab-9bc0f5248c5c",
   "metadata": {},
   "outputs": [],
   "source": []
  },
  {
   "cell_type": "code",
   "execution_count": null,
   "id": "16b592f0-dc88-434b-aa7d-868d48ff7fec",
   "metadata": {},
   "outputs": [],
   "source": []
  },
  {
   "cell_type": "code",
   "execution_count": null,
   "id": "1012e5f1-39c4-4359-9552-acf0be0ade22",
   "metadata": {},
   "outputs": [],
   "source": []
  },
  {
   "cell_type": "code",
   "execution_count": null,
   "id": "a3f3dddd-a44f-4f21-b384-91f88baeb7c8",
   "metadata": {},
   "outputs": [],
   "source": []
  },
  {
   "cell_type": "code",
   "execution_count": null,
   "id": "89a91f9e-93ae-40df-adcd-bbccded58bc9",
   "metadata": {},
   "outputs": [],
   "source": [
    "ts_00utc_mean"
   ]
  },
  {
   "cell_type": "code",
   "execution_count": null,
   "id": "c895ac61-111f-4764-bc1c-d554b4b3f383",
   "metadata": {},
   "outputs": [],
   "source": []
  },
  {
   "cell_type": "code",
   "execution_count": null,
   "id": "2ef20b3c-fc65-4a5a-9f25-7580c35d693f",
   "metadata": {},
   "outputs": [],
   "source": [
    "import matplotlib.pyplot as plt\n",
    "\n",
    "fig, ax = plt.subplots(figsize=(12, 4))\n",
    "ts_utc.storage.plot(ax=ax, label='daily offset')\n",
    "ts_utc_hourly = ts_utc.storage.resample('h').interpolate(method='linear')\n",
    "ts_utc_hourly.plot(ax=ax, label='hourly')\n",
    "ts_utc_hourly.groupby(ts_utc_hourly.index.date).mean().plot(ax=ax, label='daily mean')\n",
    "ts_utc_hourly[ts_utc_hourly.index.hour == 0].plot(ax=ax, label='daily inst')\n",
    "for date in np.unique(ts_utc.index.date):\n",
    "    ax.axvline(date, c='k', lw=.5, ls=':')\n",
    "ax.legend();"
   ]
  },
  {
   "cell_type": "code",
   "execution_count": null,
   "id": "9ce025e4-996d-4398-bfeb-9effa32ba97e",
   "metadata": {},
   "outputs": [],
   "source": [
    "ts_utc_hourly[ts_utc_hourly.index.hour == 0]"
   ]
  },
  {
   "cell_type": "code",
   "execution_count": null,
   "id": "0c8f514e-37d2-4e10-8443-a2554a19b52d",
   "metadata": {},
   "outputs": [],
   "source": [
    "ts_utc.index"
   ]
  },
  {
   "cell_type": "code",
   "execution_count": null,
   "id": "82084dd1-d145-4bd0-9149-9f557f92239e",
   "metadata": {},
   "outputs": [],
   "source": [
    "storage_wb"
   ]
  },
  {
   "cell_type": "code",
   "execution_count": null,
   "id": "365adb65-f237-4e0c-8269-195f905e9a86",
   "metadata": {},
   "outputs": [],
   "source": [
    "aux['avg'].iloc[1:]"
   ]
  },
  {
   "cell_type": "code",
   "execution_count": null,
   "id": "bad7e2e3-4149-4018-8909-978bd906ba7b",
   "metadata": {},
   "outputs": [],
   "source": [
    "aux['result'].iloc[:-1]"
   ]
  },
  {
   "cell_type": "code",
   "execution_count": null,
   "id": "8a60440a-50e3-48ea-8bcd-21a99ad2ff5b",
   "metadata": {},
   "outputs": [],
   "source": [
    "aux = pd.DataFrame(ts.storage)\n",
    "aux.columns = ['day1']\n",
    "offset = aux.index.hour.min()\n",
    "print(offset)\n",
    "if offset <= 12:\n",
    "    aux['day2'] = aux.day1.shift(-1)\n",
    "# else:\n",
    "#     aux['day2'] = aux.day1.shift(1)\n",
    "aux['avg'] = aux[['day1', 'day2']].mean(axis=1)\n",
    "storage = 1 / 24 * (offset * aux['avg'].iloc[:-1].values + (24 - offset) * aux['avg'].iloc[1:].values)\n",
    "aux['result'] = np.nan\n",
    "if offset <= 12:\n",
    "    aux['result'].iloc[:-1] = storage\n",
    "else:\n",
    "    aux['result'].iloc[1:] = storage\n",
    "aux"
   ]
  },
  {
   "cell_type": "code",
   "execution_count": null,
   "id": "4d716588-8dae-41ee-b8da-9d95d7a7e543",
   "metadata": {},
   "outputs": [],
   "source": [
    "ts_00utc"
   ]
  },
  {
   "cell_type": "code",
   "execution_count": null,
   "id": "4a774819-c426-4fc3-98d2-6acb021575fa",
   "metadata": {},
   "outputs": [],
   "source": [
    "min([idx.hour for idx in aux.index])"
   ]
  },
  {
   "cell_type": "code",
   "execution_count": null,
   "id": "865423a9-967f-4e19-af39-2d2595e620d3",
   "metadata": {},
   "outputs": [],
   "source": [
    "# rolling mean of width 2\n",
    "V_ = np.mean([ts.storage.values[:-1], ts.storage.values[1:]], axis=0)\n",
    "if offset <= 12:\n",
    "    V_ = np.hstack([ts.storage.iloc[0], V_])\n",
    "else:\n",
    "    V_ = np.hstack([V_, ts.storage.iloc[-1]])\n",
    "\n",
    "# weighted mean\n",
    "V = (offset * V_[:-1] + (24 - offset) * V_[1:]) / 24\n",
    "if offset <= 12:\n",
    "    V = np.hstack([ts.storage.iloc[0], V])\n",
    "else:\n",
    "    V = np.hstack([V, ts.storage.iloc[-1]])\n",
    "\n",
    "ts_00utc['storage4'] = V"
   ]
  },
  {
   "cell_type": "code",
   "execution_count": null,
   "id": "f53e8f96-39a5-4f1d-ad93-8d8e7f23ba08",
   "metadata": {},
   "outputs": [],
   "source": [
    "ts_00utc"
   ]
  },
  {
   "cell_type": "code",
   "execution_count": null,
   "id": "a66c6528-1b5d-409d-b5fe-42c57ca45039",
   "metadata": {},
   "outputs": [],
   "source": [
    "ts.storage.rolling(2, min_periods=1, center=False).mean()"
   ]
  },
  {
   "cell_type": "code",
   "execution_count": null,
   "id": "c84da81f-8b45-470a-b9db-58246006a1a0",
   "metadata": {},
   "outputs": [],
   "source": [
    "ts.storage.rolling(2, min_periods=1, center=True).mean()"
   ]
  },
  {
   "cell_type": "code",
   "execution_count": null,
   "id": "335d2c5c-542f-4df5-b1d7-7e769b142694",
   "metadata": {},
   "outputs": [],
   "source": [
    "ts_00utc"
   ]
  },
  {
   "cell_type": "code",
   "execution_count": null,
   "id": "f6ce46de-e979-45d4-8a5b-00d633408cf6",
   "metadata": {},
   "outputs": [],
   "source": []
  },
  {
   "cell_type": "code",
   "execution_count": null,
   "id": "008e546e-3ba4-4750-804b-5825792b9cbf",
   "metadata": {},
   "outputs": [],
   "source": [
    "(ts_00utc[['inflow', 'outflow']].iloc[:-1] * 24 * 3600).sum().diff(-1)"
   ]
  },
  {
   "cell_type": "code",
   "execution_count": null,
   "id": "680e6e84-334f-423f-aed7-8a263be24f8c",
   "metadata": {},
   "outputs": [],
   "source": [
    "print('inflow - outflow  = {0} m3'.format((ts_00utc[['outflow', 'inflow']].iloc[:-1] * 24 * 3600).sum().diff().iloc[-1]))\n",
    "print('change in storage = {0} m3'.format(ts_00utc.storage.iloc[-1] - ts_00utc.storage.iloc[0]))"
   ]
  },
  {
   "cell_type": "code",
   "execution_count": null,
   "id": "77e77577-396d-4bb3-845a-b1687f17c6d2",
   "metadata": {},
   "outputs": [],
   "source": [
    "ts"
   ]
  },
  {
   "cell_type": "code",
   "execution_count": null,
   "id": "f93e7b56-a1be-48df-b582-61ef9299b267",
   "metadata": {},
   "outputs": [],
   "source": [
    "ts_00utc"
   ]
  },
  {
   "cell_type": "code",
   "execution_count": null,
   "id": "fc596004-ea23-4642-9ebf-76c10ce08058",
   "metadata": {},
   "outputs": [],
   "source": [
    "ts.inflow.sum(), ts_00utc.inflow.sum()"
   ]
  },
  {
   "cell_type": "code",
   "execution_count": null,
   "id": "716d239d-706e-425a-9b86-0b9e939d63d8",
   "metadata": {},
   "outputs": [],
   "source": [
    "ts.outflow.sum(), ts_00utc.outflow.sum()"
   ]
  },
  {
   "cell_type": "code",
   "execution_count": null,
   "id": "c7372c69-749f-46a0-8060-58319c27a11e",
   "metadata": {},
   "outputs": [],
   "source": [
    "(ts_00utc[['inflow', 'outflow']].iloc[:-1] * 24 * 3600).sum().diff(), ts_00utc.storage.iloc[[0, -1]].diff().iloc[-1]"
   ]
  },
  {
   "cell_type": "markdown",
   "id": "8e277c9f-ab81-46ba-bf03-aff531639090",
   "metadata": {},
   "source": [
    "***"
   ]
  },
  {
   "cell_type": "code",
   "execution_count": null,
   "id": "a6fe0b15-b709-41af-8e7a-f80700faaafd",
   "metadata": {},
   "outputs": [],
   "source": [
    "from datetime import datetime\n",
    "from timezonefinder import TimezoneFinder\n",
    "# from zoneinfo import ZoneInfo\n",
    "import pytz"
   ]
  },
  {
   "cell_type": "code",
   "execution_count": null,
   "id": "5b097dbb-332e-42ad-8dbf-3fa859c5dd8c",
   "metadata": {},
   "outputs": [],
   "source": [
    "v1 = 2\n",
    "v2 = 4\n",
    "v3 = 3\n",
    "x = 6"
   ]
  },
  {
   "cell_type": "code",
   "execution_count": null,
   "id": "bf4585d2-b484-4101-89c0-0d1eec5c080b",
   "metadata": {},
   "outputs": [],
   "source": [
    "V = 1 / (2 * 24**2) * (x**2 * v1 + (24**2 + 48 * x - x**2) * v2 + (24 - x)**2 * v3)\n",
    "V"
   ]
  },
  {
   "cell_type": "code",
   "execution_count": null,
   "id": "6ed2558f-cfd1-4774-a9b8-6bb2622d6dce",
   "metadata": {},
   "outputs": [],
   "source": [
    "v2_ = 1 "
   ]
  },
  {
   "cell_type": "code",
   "execution_count": null,
   "id": "7edddffe-e8f0-4c2d-af15-0f384991411e",
   "metadata": {},
   "outputs": [],
   "source": [
    "V = 1 / 24 * (x * v1 + (24 - x) * v2) \n",
    "V"
   ]
  },
  {
   "cell_type": "code",
   "execution_count": null,
   "id": "200902e6-f521-4323-afb7-e05d89b30336",
   "metadata": {},
   "outputs": [],
   "source": [
    "1 / 48 * (x * v1 + 24 * v2 + (24-x) * v3)"
   ]
  },
  {
   "cell_type": "code",
   "execution_count": null,
   "id": "d3d5f264-20c8-4a58-a150-353cd8e3f703",
   "metadata": {},
   "outputs": [],
   "source": [
    "from typing import Union\n",
    "from timezonefinder import TimezoneFinder\n",
    "import pytz\n",
    "\n",
    "def timeseries_to_utc(\n",
    "    series: Union[pd.DataFrame, pd.Series], \n",
    "    longitude: float, \n",
    "    latitude: float\n",
    ") -> Union[pd.DataFrame, pd.Series]:\n",
    "    \"\"\"\n",
    "    Converts a pandas Series or DataFrame with a DatetimeIndex to UTC,\n",
    "    localizing it first based on provided longitude and latitude, and then\n",
    "    interpolating values to ensure a daily 00:00 UTC index.\n",
    "\n",
    "    This function is useful for standardizing time series data from various\n",
    "    local time zones to a common UTC reference, ensuring consistent daily\n",
    "    observations aligned to midnight UTC.\n",
    "\n",
    "    Parameters\n",
    "    ----------\n",
    "    series : pandas.DataFrame or pandas.Series\n",
    "        The input time series data. Its index must be a DatetimeIndex.\n",
    "        If the index is naive (timezone-unaware), it will be localized\n",
    "        to the timezone determined by `longitude` and `latitude`. If it\n",
    "        is already timezone-aware, it will be converted to the local\n",
    "        timezone if it's different.\n",
    "    longitude : float\n",
    "        The longitude of the location for which the timezone is to be\n",
    "        determined.\n",
    "    latitude : float\n",
    "        The latitude of the location for which the timezone is to be\n",
    "        determined.\n",
    "\n",
    "    Returns\n",
    "    -------\n",
    "    pandas.DataFrame or pandas.Series\n",
    "        A new Series or DataFrame with its DatetimeIndex converted to UTC,\n",
    "        aligned to 00:00 UTC for each day, and interpolated values.\n",
    "        The data type will match the input `series` type.\n",
    "    \"\"\"\n",
    "\n",
    "    # get the timezone object\n",
    "    tf = TimezoneFinder()\n",
    "    timezone_name = tf.timezone_at(lng=longitude, lat=latitude)\n",
    "    if timezone_name is None:\n",
    "        raise Exception(f\"Could not determine timezone for longitude={longitude}, latitude={latitude}\")\n",
    "    local_tz = pytz.timezone(timezone_name)\n",
    "\n",
    "    # define/convert original time series to the local timezone\n",
    "    series_local = series.copy()\n",
    "    if not isinstance(series_local.index, pd.DatetimeIndex):\n",
    "        raise TypeError(\"The input series must have a DatetimeIndex.\")\n",
    "    if series_local.index.tz is None:\n",
    "        series_local.index = series_local.index.tz_localize(local_tz)\n",
    "    elif str(series_local.index.tz) != local_tz:\n",
    "        series_local.index = series_local.index.tz_convert(local_tz)\n",
    "\n",
    "    # convert to UTC (index will have an offset compared with 00 am)\n",
    "    series_utc = series_local.copy()\n",
    "    series_utc.index = series_utc.index.tz_convert('UTC')\n",
    "    idx_offset = series_utc.index\n",
    "\n",
    "    # interpolate to 00 am\n",
    "    idx_00 = pd.date_range(\n",
    "        start=series_utc.index.min().floor('D'),\n",
    "        end=series_utc.index.max().ceil('D'),\n",
    "        freq='D',\n",
    "        tz='UTC',\n",
    "        name=series_utc.index.name\n",
    "        )\n",
    "    idx = idx_00.union(idx_offset)\n",
    "    series_00UTC = series_utc.reindex(idx).interpolate('time', limit=1, limit_direction='both').loc[idx_00]\n",
    "\n",
    "    return series_00UTC"
   ]
  },
  {
   "cell_type": "code",
   "execution_count": null,
   "id": "13def613-6afa-4d7b-b17f-1618fc3f7823",
   "metadata": {},
   "outputs": [],
   "source": [
    "ts = timeseries_to_utc(resops_ts[grand_id], *attributes.loc[grand_id, ['LON', 'LAT']])"
   ]
  },
  {
   "cell_type": "code",
   "execution_count": null,
   "id": "72f18cf2-e1a7-4785-9a3d-dfb91d5e5378",
   "metadata": {},
   "outputs": [],
   "source": [
    "ts.storage.plot()"
   ]
  },
  {
   "cell_type": "code",
   "execution_count": null,
   "id": "5499ed46-81fa-42e2-9dc8-082472ff64d3",
   "metadata": {},
   "outputs": [],
   "source": [
    "lon, lat = "
   ]
  },
  {
   "cell_type": "code",
   "execution_count": null,
   "id": "828efaa7-0e1a-4be6-8eab-250bd6c200e0",
   "metadata": {},
   "outputs": [],
   "source": [
    "timezone_name = tf.timezone_at(lng=lon, lat=lat)\n",
    "timezone_name"
   ]
  },
  {
   "cell_type": "code",
   "execution_count": null,
   "id": "128fb18c-ffba-4e85-bb1f-75787e96227e",
   "metadata": {},
   "outputs": [],
   "source": [
    "local_tz = pytz.timezone(timezone_name)\n",
    "local_tz"
   ]
  },
  {
   "cell_type": "code",
   "execution_count": null,
   "id": "5d8d56c0-6104-41ad-81d6-d9784cd32128",
   "metadata": {},
   "outputs": [],
   "source": [
    "df = resops_ts[grand_id]"
   ]
  },
  {
   "cell_type": "code",
   "execution_count": null,
   "id": "fc64df48-0ca5-4d86-b4c4-54f531f360b8",
   "metadata": {},
   "outputs": [],
   "source": [
    "if df.index.tz is None:\n",
    "    df = df.copy()\n",
    "    df.index = df.index.tz_localize(local_tz)\n",
    "elif str(df.index.tz) != local_tz:\n",
    "    df = df.copy()\n",
    "    df.index = df.index.tz_convert(local_tz)"
   ]
  },
  {
   "cell_type": "code",
   "execution_count": null,
   "id": "d64906d1-1e20-4e08-834f-621a0c4cee4d",
   "metadata": {},
   "outputs": [],
   "source": [
    "df.index.tz"
   ]
  },
  {
   "cell_type": "code",
   "execution_count": null,
   "id": "5f449569-1357-4c84-917b-abdb5ec940ca",
   "metadata": {
    "scrolled": true
   },
   "outputs": [],
   "source": [
    "df.plot();"
   ]
  },
  {
   "cell_type": "code",
   "execution_count": null,
   "id": "a3124abb-8033-4d3f-9127-2fb94df1ece0",
   "metadata": {},
   "outputs": [],
   "source": [
    "df_utc = df.copy()\n",
    "df_utc.index = df_utc.index.tz_convert('UTC')"
   ]
  },
  {
   "cell_type": "code",
   "execution_count": null,
   "id": "8f055ea5-3f6d-485d-97ea-2c103a5f9a70",
   "metadata": {},
   "outputs": [],
   "source": [
    "df.head()"
   ]
  },
  {
   "cell_type": "code",
   "execution_count": null,
   "id": "29907b44-c53a-4bbb-bede-33bc129b6f63",
   "metadata": {},
   "outputs": [],
   "source": [
    "df_utc.head()"
   ]
  },
  {
   "cell_type": "code",
   "execution_count": null,
   "id": "3d911dc4-5b94-4097-981b-4a52e059753c",
   "metadata": {},
   "outputs": [],
   "source": [
    "idx_00 = pd.date_range(\n",
    "    start=df_utc.index.min().floor('D'),\n",
    "    end=df_utc.index.max().floor('D'),\n",
    "    freq='D',\n",
    "    tz='UTC',\n",
    "    name=df_utc.index.name\n",
    ")\n",
    "idx_offset = df_utc.index\n",
    "\n",
    "idx = idx_00.union(idx_offset)\n",
    "foo = df_utc.reindex(idx).interpolate('time', limit=1, limit_direction='both').loc[idx_00]"
   ]
  },
  {
   "cell_type": "code",
   "execution_count": null,
   "id": "0a6b3ff2-29db-443c-8821-8f5942f9b4c4",
   "metadata": {},
   "outputs": [],
   "source": [
    "foo"
   ]
  },
  {
   "cell_type": "code",
   "execution_count": null,
   "id": "d47a8446-3fb2-4d84-a3c3-68692e7b7df2",
   "metadata": {},
   "outputs": [],
   "source": [
    "foo.tail()"
   ]
  },
  {
   "cell_type": "code",
   "execution_count": null,
   "id": "439d7113-2173-4fa7-afb2-909059c42d90",
   "metadata": {},
   "outputs": [],
   "source": [
    "import matplotlib.pyplot as plt"
   ]
  },
  {
   "cell_type": "code",
   "execution_count": null,
   "id": "d60b9975-e4af-4fed-939b-3a1b364fbd91",
   "metadata": {},
   "outputs": [],
   "source": [
    "df_utc"
   ]
  },
  {
   "cell_type": "code",
   "execution_count": null,
   "id": "844f02ac-85ca-4343-9ec3-ac77650e2d47",
   "metadata": {},
   "outputs": [],
   "source": [
    "foo"
   ]
  },
  {
   "cell_type": "code",
   "execution_count": null,
   "id": "0b904865-5a91-4dd2-a1fa-41f59a7c1b72",
   "metadata": {},
   "outputs": [],
   "source": [
    "df"
   ]
  },
  {
   "cell_type": "code",
   "execution_count": null,
   "id": "b1ce31b9-36dc-4ee1-a6a7-b56e3d93f154",
   "metadata": {},
   "outputs": [],
   "source": [
    "fig, ax = plt.subplots(figsize=(4, 4))\n",
    "df.storage.plot(ax=ax, label='local')\n",
    "df_utc.storage.plot(ax=ax, label='UTC')\n",
    "foo.storage.plot(ax=ax, label='int')\n",
    "ax.set_xlim(datetime(2015, 3, 1), datetime(2015, 3, 5))\n",
    "ax.set_ylim(5, 15)\n",
    "ax.legend(frameon=False);"
   ]
  },
  {
   "cell_type": "code",
   "execution_count": null,
   "id": "408e7160-e6fb-4679-9f7b-d6d0a9d99259",
   "metadata": {},
   "outputs": [],
   "source": [
    "foo.shape"
   ]
  },
  {
   "cell_type": "code",
   "execution_count": null,
   "id": "c3f46224-2a24-425c-a12e-c4bd4b2f0c3e",
   "metadata": {},
   "outputs": [],
   "source": [
    "29.486 + (29.274 - 29.486) * 17 / 24"
   ]
  },
  {
   "cell_type": "code",
   "execution_count": null,
   "id": "72a569cf-0c51-4885-9f36-e5e01b0c1fe3",
   "metadata": {},
   "outputs": [],
   "source": [
    "foo.storage.iloc[10000:10020]"
   ]
  },
  {
   "cell_type": "code",
   "execution_count": null,
   "id": "df719a46-30cb-4669-8116-2014861de8f7",
   "metadata": {},
   "outputs": [],
   "source": [
    "foo.storage.iloc[10000:10100].plot()"
   ]
  },
  {
   "cell_type": "code",
   "execution_count": null,
   "id": "3e671fa2-983c-47b4-a35c-30f32ef8f3af",
   "metadata": {},
   "outputs": [],
   "source": [
    "start, end = datetime(2015, 3, 1), datetime(2015, 4, 1)\n",
    "pd.concat((df_utc.loc[start:end, 'storage'], foo.loc[start:end, 'storage']), axis=1)"
   ]
  },
  {
   "cell_type": "code",
   "execution_count": null,
   "id": "171cfdff-4de3-4abc-9dce-42e917dc18b4",
   "metadata": {},
   "outputs": [],
   "source": [
    "df_interpolated = df_utc.reindex(idx_utc)#.interpolate(method='time')\n",
    "\n",
    "df_interpolated.plot()"
   ]
  },
  {
   "cell_type": "code",
   "execution_count": null,
   "id": "bde1bac7-5bc3-4d8e-ac4d-17c3ff220fac",
   "metadata": {},
   "outputs": [],
   "source": []
  },
  {
   "cell_type": "code",
   "execution_count": null,
   "id": "34a10e73-b103-4254-ae6b-7bc79ee08e33",
   "metadata": {},
   "outputs": [],
   "source": [
    "ts_local.index = ts_local.index.tz_localize(local_tz)"
   ]
  },
  {
   "cell_type": "code",
   "execution_count": null,
   "id": "fad6f257-153b-49d4-aa6b-d5ff89014832",
   "metadata": {},
   "outputs": [],
   "source": [
    "ts_local.head()"
   ]
  },
  {
   "cell_type": "code",
   "execution_count": null,
   "id": "77eed1bf-5832-4ba1-abca-1efa6ed5894e",
   "metadata": {},
   "outputs": [],
   "source": [
    "idx_utc = ts.index.tz_localize(pytz.UTC)"
   ]
  },
  {
   "cell_type": "code",
   "execution_count": null,
   "id": "d0220ad3-b4c5-48b4-8cb0-b70d553e42b0",
   "metadata": {},
   "outputs": [],
   "source": [
    "ts_utc"
   ]
  },
  {
   "cell_type": "code",
   "execution_count": null,
   "id": "58f43289-46ab-4204-a83d-fad22eb40c11",
   "metadata": {},
   "outputs": [],
   "source": []
  },
  {
   "cell_type": "code",
   "execution_count": null,
   "id": "1a7a0d75-7da8-4864-8a42-03108b62961b",
   "metadata": {},
   "outputs": [],
   "source": []
  },
  {
   "cell_type": "code",
   "execution_count": null,
   "id": "1030290d-b6e4-4fb5-852c-fb405279667c",
   "metadata": {},
   "outputs": [],
   "source": []
  },
  {
   "cell_type": "code",
   "execution_count": null,
   "id": "50317a6a-000c-4eb0-a686-4fdebbd59238",
   "metadata": {},
   "outputs": [],
   "source": [
    "datetime.utcnow()"
   ]
  },
  {
   "cell_type": "code",
   "execution_count": null,
   "id": "bd073f6a-5f7c-46e3-9e1a-df5d48bb4f8a",
   "metadata": {},
   "outputs": [],
   "source": [
    "utc_offset = get_utc_offset(lat, lon)"
   ]
  },
  {
   "cell_type": "code",
   "execution_count": null,
   "id": "2a8c0955-041c-444a-bd44-f781e141730a",
   "metadata": {},
   "outputs": [],
   "source": []
  },
  {
   "cell_type": "code",
   "execution_count": null,
   "id": "503acce9-08ee-4dbd-ba63-3ca994c45b5e",
   "metadata": {},
   "outputs": [],
   "source": [
    "# --- Example Usage ---\n",
    "\n",
    "# Example 1: New York City\n",
    "lat1, lon1 = 40.7128, -74.0060  # New York City\n",
    "offset1 = get_utc_offset(lat1, lon1)\n",
    "print(f\"UTC offset for ({lat1}, {lon1}) (New York City): {offset1} hours\")\n",
    "\n",
    "# Example 2: Berlin, Germany\n",
    "lat2, lon2 = 52.5200, 13.4050  # Berlin, Germany\n",
    "offset2 = get_utc_offset(lat2, lon2)\n",
    "print(f\"UTC offset for ({lat2}, {lon2}) (Berlin): {offset2} hours\")\n",
    "\n",
    "# Example 3: Sydney, Australia\n",
    "lat3, lon3 = -33.8688, 151.2093 # Sydney, Australia\n",
    "offset3 = get_utc_offset(lat3, lon3)\n",
    "print(f\"UTC offset for ({lat3}, {lon3}) (Sydney): {offset3} hours\")\n",
    "\n",
    "# Example 4: A point in the ocean (no specific timezone)\n",
    "lat4, lon4 = 0.0, 0.0\n",
    "offset4 = get_utc_offset(lat4, lon4)\n",
    "print(f\"UTC offset for ({lat4}, {lon4}) (Equator, Prime Meridian): {offset4}\")"
   ]
  },
  {
   "cell_type": "code",
   "execution_count": null,
   "id": "040be091-fbfd-4f44-b57a-9bd4b33a020e",
   "metadata": {},
   "outputs": [],
   "source": [
    "tf = TimezoneFinder()"
   ]
  },
  {
   "cell_type": "code",
   "execution_count": null,
   "id": "f74ca081-2322-44bf-8f0e-7c5f4d0e0be9",
   "metadata": {},
   "outputs": [],
   "source": [
    "lat, lon = attributes.loc[grand_id, ['LAT', 'LON']]"
   ]
  },
  {
   "cell_type": "code",
   "execution_count": null,
   "id": "beeccd39-2d35-4dcd-ac7a-7fb7d8250197",
   "metadata": {},
   "outputs": [],
   "source": []
  },
  {
   "cell_type": "code",
   "execution_count": null,
   "id": "88c3a4d7-fb94-4a4c-90d7-762a5595cf76",
   "metadata": {},
   "outputs": [],
   "source": [
    "timezone_name = tf.timezone_at(lng=lon, lat=lat)\n",
    "timezone_name"
   ]
  },
  {
   "cell_type": "code",
   "execution_count": null,
   "id": "329329a4-c9ad-49b2-9fb6-882f51ead9ae",
   "metadata": {},
   "outputs": [],
   "source": [
    "tz = ZoneInfo(timezone_name)\n",
    "tz"
   ]
  },
  {
   "cell_type": "code",
   "execution_count": null,
   "id": "313be54c-bccf-49a1-952c-e520fd249b1f",
   "metadata": {},
   "outputs": [],
   "source": [
    "from timezonefinder import TimezoneFinder\n",
    "from datetime import datetime, timedelta\n",
    "from zoneinfo import ZoneInfo # Standard library for Python 3.9+\n",
    "\n",
    "# 1. Initialize TimezoneFinder\n",
    "tf = TimezoneFinder()\n",
    "\n",
    "# 2. Define your point and a specific datetime for the calculation\n",
    "#    (The UTC offset can change due to Daylight Saving Time)\n",
    "lat, lon = attributes.loc[grand_id, ['LAT', 'LON']]\n",
    "# You need a specific point in time to determine the *current* UTC offset\n",
    "# because of Daylight Saving Time. Let's use a specific date.\n",
    "target_datetime = datetime(2025, 7, 15, 12, 0, 0) # July 15, 2025, 12 PM local time\n",
    "\n",
    "# 3. Find the IANA timezone name\n",
    "timezone_name = tf.timezone_at(lng=lon, lat=lat)"
   ]
  },
  {
   "cell_type": "code",
   "execution_count": null,
   "id": "cb08edd0-b451-4e5f-a7b1-495a5e794b50",
   "metadata": {},
   "outputs": [],
   "source": [
    "if timezone_name:\n",
    "    print(f\"Timezone name for ({latitude}, {longitude}): {timezone_name}\")\n",
    "\n",
    "    try:"
   ]
  },
  {
   "cell_type": "code",
   "execution_count": null,
   "id": "f5ee1393-d20e-4640-9c33-a1048eb272e0",
   "metadata": {},
   "outputs": [],
   "source": [
    "        # 4. Create a ZoneInfo object from the timezone name\n",
    "        tz = ZoneInfo(timezone_name)"
   ]
  },
  {
   "cell_type": "code",
   "execution_count": null,
   "id": "1d72329d-a80a-41f9-a6cb-4afc07f25b12",
   "metadata": {},
   "outputs": [],
   "source": [
    "tz.utcoffset(datetime.today())"
   ]
  },
  {
   "cell_type": "code",
   "execution_count": null,
   "id": "94cf15e7-4736-4aa6-a742-1123e93cf838",
   "metadata": {},
   "outputs": [],
   "source": [
    "dir(tz)"
   ]
  },
  {
   "cell_type": "code",
   "execution_count": null,
   "id": "1c2f624a-d0bb-4c30-9a0c-c741c3fccadb",
   "metadata": {},
   "outputs": [],
   "source": [
    "        # 5. Localize the target_datetime to this timezone\n",
    "        #    This is crucial to get the correct offset for that specific date/time\n",
    "        localized_dt = tz.localize(target_datetime) # For pytz. For zoneinfo, use replace()"
   ]
  },
  {
   "cell_type": "code",
   "execution_count": null,
   "id": "4799b98c-3b31-46c4-ae61-c203d43785f5",
   "metadata": {},
   "outputs": [],
   "source": [
    "        # For zoneinfo, the recommended way to associate a datetime with a timezone\n",
    "        # and get offset-aware behavior is to use .replace(tzinfo=...) or astimezone().\n",
    "        # Let's create a naive datetime in UTC and convert it to the target timezone\n",
    "        # to ensure we get the correct offset for that point in time.\n",
    "\n",
    "        # A common way to get the offset is to create a datetime object in the target timezone\n",
    "        # and then look at its utcoffset().\n",
    "        # Let's use the target_datetime but make it timezone-aware.\n",
    "        # This approach correctly handles DST.\n",
    "        dt_aware = datetime(\n",
    "            target_datetime.year,\n",
    "            target_datetime.month,\n",
    "            target_datetime.day,\n",
    "            target_datetime.hour,\n",
    "            target_datetime.minute,\n",
    "            target_datetime.second,\n",
    "            tzinfo=tz\n",
    "        )\n",
    "\n",
    "        # 6. Get the UTC offset (as a timedelta object)\n",
    "        utc_offset_timedelta = dt_aware.utcoffset()\n",
    "\n",
    "        if utc_offset_timedelta is not None:\n",
    "            # Convert timedelta to hours and minutes for better readability\n",
    "            total_seconds = utc_offset_timedelta.total_seconds()\n",
    "            hours = int(total_seconds // 3600)\n",
    "            minutes = int((total_seconds % 3600) // 60)\n",
    "\n",
    "            offset_sign = \"+\" if hours >= 0 else \"-\"\n",
    "            print(f\"UTC Offset for {target_datetime.strftime('%Y-%m-%d %H:%M:%S')} in {timezone_name}: UTC{offset_sign}{abs(hours):02d}:{abs(minutes):02d}\")\n",
    "        else:\n",
    "            print(\"Could not determine UTC offset.\")\n",
    "\n",
    "    except Exception as e:\n",
    "        print(f\"Error processing timezone {timezone_name}: {e}\")\n",
    "\n",
    "else:\n",
    "    print(f\"Could not determine timezone for latitude {latitude}, longitude {longitude}\")\n",
    "\n",
    "print(\"\\n--- Another Example (Berlin, during standard time) ---\")\n",
    "latitude_berlin = 52.5061\n",
    "longitude_berlin = 13.358\n",
    "target_datetime_berlin = datetime(2025, 1, 15, 12, 0, 0) # Jan 15, 2025 (standard time)\n",
    "\n",
    "timezone_name_berlin = tf.timezone_at(lng=longitude_berlin, lat=latitude_berlin)\n",
    "\n",
    "if timezone_name_berlin:\n",
    "    print(f\"Timezone name for ({latitude_berlin}, {longitude_berlin}): {timezone_name_berlin}\")\n",
    "    try:\n",
    "        tz_berlin = ZoneInfo(timezone_name_berlin)\n",
    "        dt_aware_berlin = datetime(\n",
    "            target_datetime_berlin.year,\n",
    "            target_datetime_berlin.month,\n",
    "            target_datetime_berlin.day,\n",
    "            target_datetime_berlin.hour,\n",
    "            target_datetime_berlin.minute,\n",
    "            target_datetime_berlin.second,\n",
    "            tzinfo=tz_berlin\n",
    "        )\n",
    "        utc_offset_timedelta_berlin = dt_aware_berlin.utcoffset()\n",
    "\n",
    "        if utc_offset_timedelta_berlin is not None:\n",
    "            total_seconds = utc_offset_timedelta_berlin.total_seconds()\n",
    "            hours = int(total_seconds // 3600)\n",
    "            minutes = int((total_seconds % 3600) // 60)\n",
    "            offset_sign = \"+\" if hours >= 0 else \"-\"\n",
    "            print(f\"UTC Offset for {target_datetime_berlin.strftime('%Y-%m-%d %H:%M:%S')} in {timezone_name_berlin}: UTC{offset_sign}{abs(hours):02d}:{abs(minutes):02d}\")\n",
    "        else:\n",
    "            print(\"Could not determine UTC offset.\")\n",
    "    except Exception as e:\n",
    "        print(f\"Error processing timezone {timezone_name_berlin}: {e}\")"
   ]
  }
 ],
 "metadata": {
  "kernelspec": {
   "display_name": "Python 3 (ipykernel)",
   "language": "python",
   "name": "python3"
  },
  "language_info": {
   "codemirror_mode": {
    "name": "ipython",
    "version": 3
   },
   "file_extension": ".py",
   "mimetype": "text/x-python",
   "name": "python",
   "nbconvert_exporter": "python",
   "pygments_lexer": "ipython3",
   "version": "3.11.11"
  }
 },
 "nbformat": 4,
 "nbformat_minor": 5
}
