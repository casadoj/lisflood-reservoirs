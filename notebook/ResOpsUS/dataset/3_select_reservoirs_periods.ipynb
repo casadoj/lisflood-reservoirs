{
 "cells": [
  {
   "cell_type": "markdown",
   "id": "631e1812-9c8c-4f8e-ad1b-41578130117b",
   "metadata": {},
   "source": [
    "# Select reservoirs and study period\n",
    "***\n",
    "\n",
    "**Author:** Chus Casado Rodríguez<br>\n",
    "**Date:** 13-05-2025<br>\n",
    "\n",
    "**Introduction:**<br>\n",
    "This notebook reads all the attributes and time series in the dataset and selects the reservoirs appropriate for testing the different reservoir routines. Several conditions need to be met for a reservoir to be selected:\n",
    "\n",
    "1. It must contain observed time series of the variables `inflow`, `storage` and `outflow`.\n",
    "2. The longest period without gaps in those three time series needs to be longer than 4 years.\n",
    "3. The bias between the observed inflow and outflow timeseries needs to be between 0.7 and 1.3.\n",
    "\n",
    "These conditions are specified in the YML configuration file."
   ]
  },
  {
   "cell_type": "code",
   "execution_count": 1,
   "id": "c1940f88-25de-47e5-88ec-2ba55e079da6",
   "metadata": {},
   "outputs": [],
   "source": [
    "import numpy as np\n",
    "import pandas as pd\n",
    "from tqdm.auto import tqdm\n",
    "import pickle\n",
    "\n",
    "from lisfloodreservoirs.utils import DatasetConfig\n",
    "from lisfloodreservoirs import read_attributes, read_timeseries\n",
    "from lisfloodreservoirs.utils.timeseries import define_period"
   ]
  },
  {
   "cell_type": "markdown",
   "id": "72d503d3-dd70-4b64-b148-ff7f86e0b789",
   "metadata": {
    "tags": []
   },
   "source": [
    "## Configuration"
   ]
  },
  {
   "cell_type": "code",
   "execution_count": 2,
   "id": "436b7df9-9647-462b-bbfa-21472b4c18d4",
   "metadata": {},
   "outputs": [
    {
     "name": "stdout",
     "output_type": "stream",
     "text": [
      "Selected reservoirs and periods will be saved in:\n",
      "\tZ:\\nahaUsers\\casadje\\datasets\\reservoirs\\ResOpsUS\\v2.1\\selection\n",
      "\n"
     ]
    }
   ],
   "source": [
    "cfg = DatasetConfig('config_ResOpsUS_v21.yml')\n",
    "\n",
    "PATH_OUT = cfg.PATH_RESOPS / cfg.VERSION / 'selection'\n",
    "PATH_OUT.mkdir(parents=True, exist_ok=True)\n",
    "print(f'Selected reservoirs and periods will be saved in:\\n\\t{PATH_OUT}\\n')\n",
    "\n",
    "variables = ['inflow', 'storage', 'outflow']"
   ]
  },
  {
   "cell_type": "markdown",
   "id": "da057a63-1f1b-412b-9188-3b984c86a637",
   "metadata": {
    "tags": []
   },
   "source": [
    "## Data"
   ]
  },
  {
   "cell_type": "markdown",
   "id": "92ab25ee-79ef-423a-aaf5-eb3c10fc6d6a",
   "metadata": {},
   "source": [
    "### Attributes"
   ]
  },
  {
   "cell_type": "code",
   "execution_count": 3,
   "id": "f9899e51-2f66-4b35-a5b3-daf7f3654629",
   "metadata": {},
   "outputs": [
    {
     "name": "stdout",
     "output_type": "stream",
     "text": [
      "677 reservoirs in the attribute tables\n",
      "281 reservoirs include observed time series for all variables: inflow, storage, outflow\n",
      "265 reservoirs comply with the minimum catchment area: 50 km²\n",
      "265 reservoirs comply with the minimum storage capacity: 10 hm3\n"
     ]
    }
   ],
   "source": [
    "# import all tables of attributes\n",
    "attributes = read_attributes(cfg.PATH_ATTRS, reservoirs=None)\n",
    "print(f'{attributes.shape[0]} reservoirs in the attribute tables')\n",
    "\n",
    "# keep only reservoirs with all observed variables\n",
    "mask = attributes[[var.upper() for var in variables]].all(axis=1)\n",
    "attributes = attributes[mask]\n",
    "attributes.sort_index(axis=0, inplace=True)\n",
    "print('{0} reservoirs include observed time series for all variables: {1}'.format(\n",
    "    attributes.shape[0],\n",
    "    ', '.join(variables)\n",
    "))\n",
    "\n",
    "# keep reservoirs that comply with the catchment area and total storage conditions\n",
    "if cfg.MIN_AREA is not None:\n",
    "    mask_area = attributes.CATCH_SKM >= cfg.MIN_AREA\n",
    "    attributes = attributes[mask_area]\n",
    "    print('{0} reservoirs comply with the minimum catchment area: {1} km²'.format(\n",
    "        attributes.shape[0],\n",
    "        cfg.MIN_AREA\n",
    "    ))\n",
    "if cfg.MIN_VOL is not None:\n",
    "    mask_volume = attributes.CAP_MCM >= cfg.MIN_VOL\n",
    "    attributes = attributes[mask_volume]\n",
    "    print('{0} reservoirs comply with the minimum storage capacity: {1} hm3'.format(\n",
    "        attributes.shape[0],\n",
    "        cfg.MIN_VOL\n",
    "    ))"
   ]
  },
  {
   "cell_type": "markdown",
   "id": "9a07a7af-b676-4a54-b2f9-d7f62acf74ae",
   "metadata": {},
   "source": [
    "### Time series"
   ]
  },
  {
   "cell_type": "code",
   "execution_count": 4,
   "id": "2f3ce9d6-350a-41ad-8345-1097aed7f18f",
   "metadata": {},
   "outputs": [
    {
     "data": {
      "application/vnd.jupyter.widget-view+json": {
       "model_id": "098f949005d84ff59c18cc8512b5e4ff",
       "version_major": 2,
       "version_minor": 0
      },
      "text/plain": [
       "  0%|          | 0/265 [00:00<?, ?it/s]"
      ]
     },
     "metadata": {},
     "output_type": "display_data"
    },
    {
     "name": "stdout",
     "output_type": "stream",
     "text": [
      "265 reservoirs with timeseries\n",
      "\n",
      "251 reservoirs comply with the minimum degre of regulation: 0.08\n"
     ]
    }
   ],
   "source": [
    "# read time series\n",
    "timeseries = read_timeseries(\n",
    "    cfg.PATH_TS / 'csv',\n",
    "    attributes.index\n",
    ")\n",
    "print(f'{len(timeseries)} reservoirs with timeseries\\n')\n",
    "\n",
    "# remove reservoirs with excessively low degree of regulation\n",
    "if cfg.MIN_DOR is not None:\n",
    "    dor = pd.Series({\n",
    "        grand_id: attributes.loc[grand_id, 'CAP_MCM'] * 1e6 / (ts.inflow.mean() * 365 * 24 * 3600) for grand_id, ts in timeseries.items()\n",
    "    },\n",
    "                    name='DOR')\n",
    "    mask_dor = dor > cfg.MIN_DOR\n",
    "    attributes = attributes[mask_dor]\n",
    "    timeseries = {grand_id: ts for grand_id, ts in timeseries.items() if mask_dor[grand_id]}\n",
    "    print('{0} reservoirs comply with the minimum degre of regulation: {1}'.format(attributes.shape[0],\n",
    "                                                                                       cfg.MIN_DOR))"
   ]
  },
  {
   "cell_type": "markdown",
   "id": "d691a230-50d0-42e8-b1c9-a3fb6bef772f",
   "metadata": {},
   "source": [
    "## Selection"
   ]
  },
  {
   "cell_type": "code",
   "execution_count": 5,
   "id": "e65a70fd-836d-40f9-aa1d-3791efa25c66",
   "metadata": {},
   "outputs": [
    {
     "data": {
      "application/vnd.jupyter.widget-view+json": {
       "model_id": "41af5de88e914ee78b9685536253c8a0",
       "version_major": 2,
       "version_minor": 0
      },
      "text/plain": [
       "select reservoirs:   0%|          | 0/251 [00:00<?, ?it/s]"
      ]
     },
     "metadata": {},
     "output_type": "display_data"
    },
    {
     "name": "stdout",
     "output_type": "stream",
     "text": [
      " 111 discarded for lack of records:\t631 days\n",
      " 114 discarded for excesive bias:\t0.47\n",
      " 135 discarded for lack of records:\t147 days\n",
      " 138 discarded for lack of records:\t56 days\n",
      " 158 discarded for lack of records:\t1342 days\n",
      " 163 discarded for excesive bias:\t0.00\n",
      " 169 discarded for excesive bias:\t0.66\n",
      " 173 discarded for lack of records:\t654 days\n",
      " 180 discarded for excesive bias:\t0.53\n",
      " 185 discarded for excesive bias:\t0.62\n",
      " 210 discarded for excesive bias:\t0.48\n",
      " 295 discarded for lack of records:\t865 days\n",
      " 299 discarded for lack of records:\t456 days\n",
      " 320 discarded for lack of records:\t1163 days\n",
      " 338 discarded for lack of records:\t1024 days\n",
      " 347 discarded for lack of records:\t200 days\n",
      " 374 discarded for excesive bias:\t0.44\n",
      " 382 discarded for lack of records:\t355 days\n",
      " 386 discarded for excesive bias:\t0.41\n",
      " 437 discarded for lack of records:\t352 days\n",
      " 470 discarded for excesive bias:\t0.49\n",
      " 487 discarded for lack of records:\t220 days\n",
      " 491 discarded for lack of records:\t939 days\n",
      " 492 discarded for excesive bias:\t2.18\n",
      " 493 discarded for excesive bias:\t0.16\n",
      " 509 discarded for excesive bias:\t0.69\n",
      " 521 discarded for lack of records:\t1018 days\n",
      " 549 discarded for excesive bias:\t2.09\n",
      " 557 discarded for lack of records:\t42 days\n",
      " 567 discarded for excesive bias:\t0.41\n",
      " 613 discarded for lack of records:\t7 days\n",
      " 620 discarded for excesive bias:\t1.49\n",
      " 758 discarded for excesive bias:\t0.69\n",
      " 777 discarded for lack of records:\t1229 days\n",
      " 784 discarded for lack of records:\t1055 days\n",
      " 798 discarded for excesive bias:\t0.66\n",
      " 836 discarded for excesive bias:\t0.54\n",
      " 837 discarded for lack of records:\t1423 days\n",
      " 872 discarded for lack of records:\t694 days\n",
      " 903 discarded for lack of records:\t671 days\n",
      " 939 discarded for excesive bias:\t0.68\n",
      " 947 discarded for lack of records:\t359 days\n",
      " 948 discarded for lack of records:\t1260 days\n",
      " 953 discarded for lack of records:\t686 days\n",
      " 962 discarded for lack of records:\t874 days\n",
      " 963 discarded for lack of records:\t633 days\n",
      " 976 discarded for lack of records:\t440 days\n",
      "1001 discarded for excesive bias:\t0.70\n",
      "1070 discarded for excesive bias:\t0.67\n",
      "1095 discarded for lack of records:\t700 days\n",
      "1120 discarded for excesive bias:\t0.67\n",
      "1151 discarded for excesive bias:\t0.53\n",
      "1170 discarded for excesive bias:\t0.50\n",
      "1197 discarded for excesive bias:\t0.58\n",
      "1249 discarded for excesive bias:\t0.33\n",
      "1762 discarded for lack of records:\t1046 days\n",
      "1916 discarded for excesive bias:\t463.27\n",
      "\n",
      "194 reservoirs selected\n"
     ]
    }
   ],
   "source": [
    "bias = {}\n",
    "periods = {}\n",
    "for grand_id, ts in tqdm(timeseries.items(), desc='select reservoirs', total=len(timeseries)):\n",
    "    \n",
    "    # select study period\n",
    "    # start, end = define_period(ts[variables])\n",
    "    start, end = define_period(ts.inflow)\n",
    "    if np.isnan(start) or np.isnan(end):\n",
    "        print(f'{grand_id:>4} discarded for lack of records')\n",
    "        continue\n",
    "    duration = (end - start) / np.timedelta64(1, 'D')\n",
    "    if duration >= cfg.MIN_YEARS * 365:\n",
    "        ts = ts.loc[start:end]\n",
    "    else:\n",
    "        print(f'{grand_id:>4} discarded for lack of records:\\t{duration:.0f} days')\n",
    "        continue\n",
    "        \n",
    "    # bias between inflow and outflow\n",
    "    bias[grand_id] = ts.outflow.mean() / ts.inflow.mean()\n",
    "    if (1 - cfg.TOL_BIAS) <= bias[grand_id] <= (1 + cfg.TOL_BIAS):\n",
    "        # save periods\n",
    "        periods[str(grand_id)] = {\n",
    "            'start_dates': [pd.Timestamp(start)],\n",
    "            'end_dates': [pd.Timestamp(end)]\n",
    "        }\n",
    "    else:\n",
    "        print(f'{grand_id:>4} discarded for excesive bias:\\t{bias[grand_id]:.2f}')\n",
    "    \n",
    "print(f'\\n{len(periods)} reservoirs selected')"
   ]
  },
  {
   "cell_type": "markdown",
   "id": "8219fb1c-1968-4ac0-a1de-ceb5f8ea3b7d",
   "metadata": {},
   "source": [
    "### Export"
   ]
  },
  {
   "cell_type": "code",
   "execution_count": 6,
   "id": "23409f11-7fd9-47da-abe7-c545f1300f75",
   "metadata": {},
   "outputs": [],
   "source": [
    "# export list of selected reservoirs\n",
    "with open(PATH_OUT / 'reservoirs.txt', 'w') as f:\n",
    "    for grand_id in periods.keys():\n",
    "        f.write(f'{grand_id}\\n')"
   ]
  },
  {
   "cell_type": "code",
   "execution_count": 7,
   "id": "2333bb16-7bbe-4d9c-a9a2-dfc72b62f77d",
   "metadata": {},
   "outputs": [],
   "source": [
    "# export selected study period\n",
    "with open(PATH_OUT / 'periods.pkl', 'wb') as f:\n",
    "    pickle.dump(periods, f)"
   ]
  }
 ],
 "metadata": {
  "kernelspec": {
   "display_name": "Python 3 (ipykernel)",
   "language": "python",
   "name": "python3"
  },
  "language_info": {
   "codemirror_mode": {
    "name": "ipython",
    "version": 3
   },
   "file_extension": ".py",
   "mimetype": "text/x-python",
   "name": "python",
   "nbconvert_exporter": "python",
   "pygments_lexer": "ipython3",
   "version": "3.11.11"
  }
 },
 "nbformat": 4,
 "nbformat_minor": 5
}
