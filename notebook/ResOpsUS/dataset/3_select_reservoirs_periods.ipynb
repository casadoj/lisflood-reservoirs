{
 "cells": [
  {
   "cell_type": "markdown",
   "id": "631e1812-9c8c-4f8e-ad1b-41578130117b",
   "metadata": {},
   "source": [
    "# Select reservoirs and study period\n",
    "***\n",
    "\n",
    "**Author:** Chus Casado Rodríguez<br>\n",
    "**Date:** 03-06-2025<br>\n",
    "\n",
    "**Introduction:**<br>\n",
    "This notebook reads all the attributes and time series in the dataset and selects the reservoirs appropriate for testing the different reservoir routines. Several conditions need to be met for a reservoir to be selected:\n",
    "\n",
    "1. It must contain observed time series of the variables `inflow`, `storage` and `outflow`.\n",
    "2. The longest period without gaps in those three time series needs to be longer than 4 years.\n",
    "3. The bias between the observed inflow and outflow timeseries needs to be between 0.7 and 1.3.\n",
    "\n",
    "These conditions are specified in the YML configuration file."
   ]
  },
  {
   "cell_type": "code",
   "execution_count": 1,
   "id": "c1940f88-25de-47e5-88ec-2ba55e079da6",
   "metadata": {},
   "outputs": [],
   "source": [
    "import numpy as np\n",
    "import pandas as pd\n",
    "from tqdm.auto import tqdm\n",
    "import pickle\n",
    "\n",
    "from lisfloodreservoirs.utils import DatasetConfig\n",
    "from lisfloodreservoirs import read_attributes, read_timeseries\n",
    "from lisfloodreservoirs.utils.timeseries import define_period"
   ]
  },
  {
   "cell_type": "markdown",
   "id": "72d503d3-dd70-4b64-b148-ff7f86e0b789",
   "metadata": {
    "tags": []
   },
   "source": [
    "## Configuration"
   ]
  },
  {
   "cell_type": "code",
   "execution_count": 2,
   "id": "436b7df9-9647-462b-bbfa-21472b4c18d4",
   "metadata": {},
   "outputs": [
    {
     "name": "stdout",
     "output_type": "stream",
     "text": [
      "Selected reservoirs and periods will be saved in:\n",
      "\tZ:\\nahaUsers\\casadje\\datasets\\reservoirs\\ResOpsUS\\v2.1\\selection\n",
      "\n"
     ]
    }
   ],
   "source": [
    "cfg = DatasetConfig('config_ResOpsUS_v21.yml')\n",
    "\n",
    "PATH_OUT = cfg.PATH_RESOPS / cfg.VERSION / 'selection'\n",
    "PATH_OUT.mkdir(parents=True, exist_ok=True)\n",
    "print(f'Selected reservoirs and periods will be saved in:\\n\\t{PATH_OUT}\\n')\n",
    "\n",
    "variables = ['inflow', 'storage', 'outflow']"
   ]
  },
  {
   "cell_type": "markdown",
   "id": "da057a63-1f1b-412b-9188-3b984c86a637",
   "metadata": {
    "tags": []
   },
   "source": [
    "## Data"
   ]
  },
  {
   "cell_type": "markdown",
   "id": "92ab25ee-79ef-423a-aaf5-eb3c10fc6d6a",
   "metadata": {},
   "source": [
    "### Attributes"
   ]
  },
  {
   "cell_type": "code",
   "execution_count": 3,
   "id": "f9899e51-2f66-4b35-a5b3-daf7f3654629",
   "metadata": {},
   "outputs": [
    {
     "name": "stdout",
     "output_type": "stream",
     "text": [
      "677 reservoirs in the attribute tables\n",
      "284 reservoirs include observed time series for all variables: inflow, storage, outflow\n",
      "268 reservoirs comply with the minimum catchment area: 50 km²\n",
      "268 reservoirs comply with the minimum storage capacity: 10 hm3\n"
     ]
    }
   ],
   "source": [
    "# import all tables of attributes\n",
    "attributes = read_attributes(cfg.PATH_ATTRS, reservoirs=None)\n",
    "print(f'{attributes.shape[0]} reservoirs in the attribute tables')\n",
    "\n",
    "# keep only reservoirs with all observed variables\n",
    "mask = attributes[[var.upper() for var in variables]].all(axis=1)\n",
    "attributes = attributes[mask]\n",
    "attributes.sort_index(axis=0, inplace=True)\n",
    "print('{0} reservoirs include observed time series for all variables: {1}'.format(\n",
    "    attributes.shape[0],\n",
    "    ', '.join(variables)\n",
    "))\n",
    "\n",
    "# keep reservoirs that comply with the catchment area and total storage conditions\n",
    "if cfg.MIN_AREA is not None:\n",
    "    mask_area = attributes.CATCH_SKM >= cfg.MIN_AREA\n",
    "    attributes = attributes[mask_area]\n",
    "    print('{0} reservoirs comply with the minimum catchment area: {1} km²'.format(\n",
    "        attributes.shape[0],\n",
    "        cfg.MIN_AREA\n",
    "    ))\n",
    "if cfg.MIN_VOL is not None:\n",
    "    mask_volume = attributes.CAP_MCM >= cfg.MIN_VOL\n",
    "    attributes = attributes[mask_volume]\n",
    "    print('{0} reservoirs comply with the minimum storage capacity: {1} hm3'.format(\n",
    "        attributes.shape[0],\n",
    "        cfg.MIN_VOL\n",
    "    ))"
   ]
  },
  {
   "cell_type": "markdown",
   "id": "9a07a7af-b676-4a54-b2f9-d7f62acf74ae",
   "metadata": {},
   "source": [
    "### Time series"
   ]
  },
  {
   "cell_type": "code",
   "execution_count": 4,
   "id": "a0082478-0a89-4e89-af60-bea7d0612c11",
   "metadata": {},
   "outputs": [
    {
     "data": {
      "application/vnd.jupyter.widget-view+json": {
       "model_id": "600125a110f5415e89ef94e69258bf26",
       "version_major": 2,
       "version_minor": 0
      },
      "text/plain": [
       "  0%|          | 0/268 [00:00<?, ?it/s]"
      ]
     },
     "metadata": {},
     "output_type": "display_data"
    },
    {
     "name": "stdout",
     "output_type": "stream",
     "text": [
      "268 reservoirs with timeseries\n",
      "\n"
     ]
    }
   ],
   "source": [
    "# read time series\n",
    "timeseries = read_timeseries(\n",
    "    cfg.PATH_TS / 'csv',\n",
    "    attributes.index\n",
    ")\n",
    "print(f'{len(timeseries)} reservoirs with timeseries\\n')"
   ]
  },
  {
   "cell_type": "code",
   "execution_count": 5,
   "id": "5626c5e8-903b-45aa-83a4-2ee9750acaa4",
   "metadata": {},
   "outputs": [
    {
     "name": "stdout",
     "output_type": "stream",
     "text": [
      "254 reservoirs comply with the minimum degre of regulation: 0.08\n"
     ]
    }
   ],
   "source": [
    "# remove reservoirs with excessively low degree of regulation\n",
    "if cfg.MIN_DOR is not None:\n",
    "    dor = pd.Series({\n",
    "        grand_id: attributes.loc[grand_id, 'CAP_MCM'] * 1e6 / (ts.inflow.mean() * 365 * 24 * 3600) for grand_id, ts in timeseries.items()\n",
    "    },\n",
    "                    name='DOR')\n",
    "    mask_dor = dor > cfg.MIN_DOR\n",
    "    attributes = attributes[mask_dor]\n",
    "    timeseries = {grand_id: ts for grand_id, ts in timeseries.items() if mask_dor[grand_id]}\n",
    "    print('{0} reservoirs comply with the minimum degre of regulation: {1}'.format(attributes.shape[0],\n",
    "                                                                                       cfg.MIN_DOR))"
   ]
  },
  {
   "cell_type": "markdown",
   "id": "d691a230-50d0-42e8-b1c9-a3fb6bef772f",
   "metadata": {},
   "source": [
    "## Selection"
   ]
  },
  {
   "cell_type": "code",
   "execution_count": 6,
   "id": "e65a70fd-836d-40f9-aa1d-3791efa25c66",
   "metadata": {},
   "outputs": [
    {
     "data": {
      "application/vnd.jupyter.widget-view+json": {
       "model_id": "8f669910c848452388c17fcb04930581",
       "version_major": 2,
       "version_minor": 0
      },
      "text/plain": [
       "select reservoirs:   0%|          | 0/254 [00:00<?, ?it/s]"
      ]
     },
     "metadata": {},
     "output_type": "display_data"
    },
    {
     "name": "stdout",
     "output_type": "stream",
     "text": [
      " 111 discarded for lack of records:\t348 days\n",
      " 114 discarded for excesive bias:\t0.46\n",
      " 135 discarded for lack of records:\t1 days\n",
      " 138 discarded for lack of records:\t2 days\n",
      " 144 discarded for lack of records:\t1362 days\n",
      " 158 discarded for lack of records:\t1325 days\n",
      " 163 discarded for excesive bias:\t0.00\n",
      " 173 discarded for lack of records:\t381 days\n",
      " 185 discarded for excesive bias:\t0.62\n",
      " 190 discarded for lack of records:\t1115 days\n",
      " 203 discarded for lack of records:\t124 days\n",
      " 210 discarded for excesive bias:\t0.48\n",
      " 223 discarded for lack of records:\t863 days\n",
      " 295 discarded for lack of records:\t975 days\n",
      " 299 discarded for lack of records\n",
      " 320 discarded for lack of records:\t882 days\n",
      " 338 discarded for lack of records:\t513 days\n",
      " 347 discarded for lack of records:\t10 days\n",
      " 374 discarded for lack of records:\t1445 days\n",
      " 382 discarded for lack of records:\t439 days\n",
      " 385 discarded for lack of records:\t1456 days\n",
      " 386 discarded for excesive bias:\t0.33\n",
      " 437 discarded for lack of records:\t391 days\n",
      " 470 discarded for excesive bias:\t0.50\n",
      " 487 discarded for lack of records:\t214 days\n",
      " 491 discarded for lack of records:\t850 days\n",
      " 492 discarded for excesive bias:\t2.01\n",
      " 493 discarded for excesive bias:\t0.16\n",
      " 505 discarded for excesive bias:\t2.49\n",
      " 509 discarded for excesive bias:\t0.67\n",
      " 519 discarded for lack of records:\t866 days\n",
      " 521 discarded for lack of records:\t311 days\n",
      " 549 discarded for excesive bias:\t2.08\n",
      " 557 discarded for lack of records:\t22 days\n",
      " 567 discarded for excesive bias:\t0.29\n",
      " 585 discarded for lack of records:\t1409 days\n",
      " 592 discarded for lack of records:\t1247 days\n",
      " 605 discarded for lack of records:\t1305 days\n",
      " 609 discarded for lack of records:\t1302 days\n",
      " 613 discarded for lack of records:\t8 days\n",
      " 758 discarded for excesive bias:\t0.65\n",
      " 777 discarded for lack of records:\t1224 days\n",
      " 784 discarded for lack of records:\t1430 days\n",
      " 798 discarded for excesive bias:\t0.67\n",
      " 827 discarded for lack of records:\t575 days\n",
      " 836 discarded for excesive bias:\t0.49\n",
      " 837 discarded for lack of records:\t1424 days\n",
      " 854 discarded for lack of records:\t952 days\n",
      " 872 discarded for lack of records:\t695 days\n",
      " 884 discarded for lack of records:\t1059 days\n",
      " 903 discarded for lack of records:\t341 days\n",
      " 919 discarded for lack of records:\t1032 days\n",
      " 947 discarded for lack of records:\t360 days\n",
      " 948 discarded for lack of records:\t1354 days\n",
      " 953 discarded for lack of records:\t726 days\n",
      " 958 discarded for lack of records:\t701 days\n",
      " 962 discarded for lack of records:\t691 days\n",
      " 963 discarded for lack of records:\t634 days\n",
      " 976 discarded for lack of records:\t457 days\n",
      "1003 discarded for lack of records:\t697 days\n",
      "1007 discarded for lack of records:\t1345 days\n",
      "1017 discarded for lack of records:\t1152 days\n",
      "1092 discarded for lack of records:\t837 days\n",
      "1095 discarded for lack of records:\t701 days\n",
      "1120 discarded for excesive bias:\t0.47\n",
      "1122 discarded for lack of records:\t1311 days\n",
      "1134 discarded for excesive bias:\t0.60\n",
      "1151 discarded for excesive bias:\t0.54\n",
      "1170 discarded for excesive bias:\t0.48\n",
      "1197 discarded for excesive bias:\t0.59\n",
      "1249 discarded for excesive bias:\t0.26\n",
      "1258 discarded for excesive bias:\t0.14\n",
      "1275 discarded for excesive bias:\t0.03\n",
      "1600 discarded for lack of records:\t1038 days\n",
      "1615 discarded for lack of records:\t1360 days\n",
      "1631 discarded for lack of records:\t390 days\n",
      "1691 discarded for lack of records:\t326 days\n",
      "1699 discarded for lack of records:\t469 days\n",
      "1706 discarded for lack of records:\t199 days\n",
      "1707 discarded for lack of records:\t445 days\n",
      "1709 discarded for lack of records:\t1277 days\n",
      "1712 discarded for lack of records:\t753 days\n",
      "1726 discarded for lack of records:\t740 days\n",
      "1733 discarded for lack of records:\t980 days\n",
      "1735 discarded for lack of records:\t803 days\n",
      "1883 discarded for lack of records:\t814 days\n",
      "1916 discarded for excesive bias:\t432.22\n",
      "2158 discarded for lack of records:\t177 days\n",
      "2188 discarded for lack of records:\t864 days\n",
      "7311 discarded for lack of records:\t1448 days\n",
      "\n",
      "164 reservoirs selected\n"
     ]
    }
   ],
   "source": [
    "bias = {}\n",
    "periods = {}\n",
    "for grand_id, ts in tqdm(timeseries.items(), desc='select reservoirs', total=len(timeseries)):\n",
    "    \n",
    "    # select study period\n",
    "    # start, end = define_period(ts[['inflow', 'precip_point', 'evapo_point']])\n",
    "    start, end = define_period(ts[variables + ['precip_point', 'evapo_point']])\n",
    "    # start, end = define_period(ts.inflow)\n",
    "    if np.isnan(start) or np.isnan(end):\n",
    "        print(f'{grand_id:>4} discarded for lack of records')\n",
    "        continue\n",
    "    duration = (end - start) / np.timedelta64(1, 'D')\n",
    "    if duration >= cfg.MIN_YEARS * 365:\n",
    "        ts = ts.loc[start:end]\n",
    "    else:\n",
    "        print(f'{grand_id:>4} discarded for lack of records:\\t{duration:.0f} days')\n",
    "        continue\n",
    "        \n",
    "    # bias between inflow and outflow\n",
    "    bias[grand_id] = ts.outflow.mean() / ts.inflow.mean()\n",
    "    if (1 - cfg.TOL_BIAS) <= bias[grand_id] <= (1 + cfg.TOL_BIAS):\n",
    "        # save periods\n",
    "        periods[str(grand_id)] = {\n",
    "            'start_dates': [pd.Timestamp(start)],\n",
    "            'end_dates': [pd.Timestamp(end)]\n",
    "        }\n",
    "    else:\n",
    "        print(f'{grand_id:>4} discarded for excesive bias:\\t{bias[grand_id]:.2f}')\n",
    "    \n",
    "print(f'\\n{len(periods)} reservoirs selected')"
   ]
  },
  {
   "cell_type": "markdown",
   "id": "8219fb1c-1968-4ac0-a1de-ceb5f8ea3b7d",
   "metadata": {},
   "source": [
    "### Export"
   ]
  },
  {
   "cell_type": "code",
   "execution_count": 7,
   "id": "23409f11-7fd9-47da-abe7-c545f1300f75",
   "metadata": {},
   "outputs": [],
   "source": [
    "# export list of selected reservoirs\n",
    "with open(PATH_OUT / 'reservoirs.txt', 'w') as f:\n",
    "    for grand_id in periods.keys():\n",
    "        f.write(f'{grand_id}\\n')"
   ]
  },
  {
   "cell_type": "code",
   "execution_count": 8,
   "id": "2333bb16-7bbe-4d9c-a9a2-dfc72b62f77d",
   "metadata": {},
   "outputs": [],
   "source": [
    "# export selected study period\n",
    "with open(PATH_OUT / 'periods.pkl', 'wb') as f:\n",
    "    pickle.dump(periods, f)"
   ]
  }
 ],
 "metadata": {
  "kernelspec": {
   "display_name": "Python 3 (ipykernel)",
   "language": "python",
   "name": "python3"
  },
  "language_info": {
   "codemirror_mode": {
    "name": "ipython",
    "version": 3
   },
   "file_extension": ".py",
   "mimetype": "text/x-python",
   "name": "python",
   "nbconvert_exporter": "python",
   "pygments_lexer": "ipython3",
   "version": "3.11.11"
  }
 },
 "nbformat": 4,
 "nbformat_minor": 5
}
