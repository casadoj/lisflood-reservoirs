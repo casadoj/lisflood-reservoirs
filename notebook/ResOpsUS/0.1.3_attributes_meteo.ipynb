{
 "cells": [
  {
   "cell_type": "markdown",
   "id": "455af9d0-e8c9-4935-a28a-53e7320ecba8",
   "metadata": {},
   "source": [
    "# GloFAS - Attributes from meteorology\n",
    "***\n",
    "\n",
    "**_Autor:_** Chus Casado Rodríguez<br>\n",
    "**_Fecha:_** 14-10-2024<br>\n",
    "\n",
    "**Introduction:**<br>\n",
    "This notebook creates the static attributes for the catchmens of the reservoirs in the ResOpsUS dataset.\n",
    "\n",
    "**To do:**<br>"
   ]
  },
  {
   "cell_type": "code",
   "execution_count": 2,
   "id": "81d35226-0ade-42b9-8e74-1a086b0b4b18",
   "metadata": {},
   "outputs": [],
   "source": [
    "import os\n",
    "os.environ['USE_PYGEOS'] = '0'\n",
    "from pathlib import Path\n",
    "import numpy as np\n",
    "import pandas as pd\n",
    "import xarray as xr\n",
    "import geopandas as gpd\n",
    "from tqdm.notebook import tqdm\n",
    "from datetime import datetime\n",
    "from shapely.geometry import Point\n",
    "import yaml\n",
    "\n",
    "from lisfloodreservoirs.utils.plots import plot_attributes\n",
    "from lisfloodreservoirs.utils import DatasetConfig\n",
    "from lisfloodreservoirs.utils.utils import duration_precip_indices\n",
    "\n",
    "import sys\n",
    "sys.path.append('../../../lisflood-utilities/src')\n",
    "from lisfloodutilities.catchstats import catchment_statistics"
   ]
  },
  {
   "cell_type": "markdown",
   "id": "29654c04-471a-4957-98ad-206bc79abef1",
   "metadata": {},
   "source": [
    "## Configuration"
   ]
  },
  {
   "cell_type": "code",
   "execution_count": null,
   "id": "88352ed4-e791-44d7-ba35-e702d23b755b",
   "metadata": {},
   "outputs": [],
   "source": [
    "cfg = DatasetConfig('config_dataset.yml')\n",
    "\n",
    "PATH_METEO = cfg.PATH_RESOPS / 'ancillary' / 'catchstats' / 'meteo'\n",
    "\n",
    "PATH_PLOTS = cfg.PATH_ATTRS / 'plots'\n",
    "PATH_PLOTS.mkdir(parents=False, exist_ok=True)"
   ]
  },
  {
   "cell_type": "markdown",
   "id": "a26b9f1b-959a-4201-bc92-42f76ea68bd3",
   "metadata": {},
   "source": [
    "## Data"
   ]
  },
  {
   "cell_type": "markdown",
   "id": "ab89247c-04fe-42f1-b841-277220c4a2ba",
   "metadata": {},
   "source": [
    "### Reservoirs"
   ]
  },
  {
   "cell_type": "code",
   "execution_count": null,
   "id": "24b47bce-ce31-44f8-96b4-8e0e921d0d87",
   "metadata": {},
   "outputs": [],
   "source": [
    "# load TXT used as input for `cutmaps`\n",
    "reservoirs = pd.read_csv(cfg.PATH_RESOPS / 'ancillary' / 'cutmaps' / 'points.txt', sep='\\t', header=None)#.squeeze()\n",
    "reservoirs.columns = ['lon', 'lat', 'GRAND_ID']\n",
    "reservoirs.set_index('GRAND_ID', drop=True, inplace=True)"
   ]
  },
  {
   "cell_type": "markdown",
   "id": "ba2f12b9-f25f-4e0f-8840-dc6adaf612d2",
   "metadata": {},
   "source": [
    "### Meteorology"
   ]
  },
  {
   "cell_type": "code",
   "execution_count": null,
   "id": "59ccce88-2962-4bdc-bf3b-8ad470c652e5",
   "metadata": {},
   "outputs": [],
   "source": [
    "# load areal meteo time series\n",
    "meteo = {}\n",
    "variables = [item.stem for item in PATH_METEO.glob('*') if item.is_dir()]\n",
    "for var in variables:\n",
    "    da = xr.open_mfdataset(f'{PATH_METEO}/{var}/*.nc')[f'{var}_mean'].compute()\n",
    "    da.name = var\n",
    "    da = da.rename({'id': 'ID'})\n",
    "    meteo[var] = da\n",
    "meteo = xr.Dataset(meteo)\n",
    "meteo = meteo.rename({'tp': 'precip', '2t': 'temp', 'e0': 'pet'})\n",
    "\n",
    "# compute precipitation as snowfall\n",
    "meteo['snow'] = meteo['precip'].where(meteo['temp'] > 1, 0)"
   ]
  },
  {
   "cell_type": "markdown",
   "id": "2e90907a-ded3-41db-a3ba-06bb094727f3",
   "metadata": {},
   "source": [
    "## Attributes"
   ]
  },
  {
   "cell_type": "code",
   "execution_count": null,
   "id": "c85ae25c-eab3-4fe1-829a-125c4588f7b6",
   "metadata": {},
   "outputs": [],
   "source": [
    "# average of all meteo variables\n",
    "attrs = meteo.mean('time').to_pandas()\n",
    "attrs.columns = [f'{col}_mean' for col in attrs.columns]\n",
    "attrs.index.name = 'GRAND_ID'\n",
    "\n",
    "# indices\n",
    "attrs['aridity'] = attrs.precip_mean / attrs.pet_mean\n",
    "attrs['frac_snow'] = attrs.snow_mean / attrs.precip_mean\n",
    "attrs['moisture_index'] = attrs.precip_mean - attrs.pet_mean\n",
    "precip_monthly = meteo['precip'].resample({'time': '1M'}).sum().groupby('time.month').mean()\n",
    "precip_annual = meteo['precip'].resample({'time': 'A'}).sum().mean('time')\n",
    "attrs['seasonality'] = ((precip_monthly.max('month') - precip_monthly.min('month')) / precip_annual).to_pandas()\n",
    "\n",
    "# high and dry precipitation indices\n",
    "precip_extremes = {\n",
    "    'high': 20, # mm\n",
    "    'low': 1 # mm\n",
    "}\n",
    "for key, value in precip_extremes.items():\n",
    "    if key == 'high':\n",
    "        mask_precip = meteo['precip'] > value\n",
    "    elif key == 'low':\n",
    "        mask_precip = meteo['precip'] < value\n",
    "    attrs[f'{key}_precip_freq'] = mask_precip.sum('time') / len(meteo.time)\n",
    "    attrs[f'{key}_precip_dur'] = duration_precip_extremes(mask_precip.to_pandas())"
   ]
  },
  {
   "cell_type": "code",
   "execution_count": null,
   "id": "77923025-8258-41bc-b91f-f239343ca972",
   "metadata": {},
   "outputs": [],
   "source": [
    "# plot attributes\n",
    "r = 5\n",
    "extent = [np.floor(reservoirs.lon.min() / r) * r, np.ceil(reservoirs.lon.max() / r) * r,\n",
    "          np.floor(reservoirs.lat.min() / r) * r, np.ceil(reservoirs.lat.max() / r) * r]\n",
    "plot_attributes(\n",
    "    attrs,\n",
    "    reservoirs.lon,\n",
    "    reservoirs.lat,\n",
    "    ncols=4,\n",
    "    extent=extent,\n",
    "    save=PATH_PLOTS / f'maps_climate.jpg'\n",
    ")"
   ]
  },
  {
   "cell_type": "code",
   "execution_count": null,
   "id": "b45e3ac1-6758-4011-9fd3-bb3c4173bc3e",
   "metadata": {},
   "outputs": [],
   "source": [
    "# export\n",
    "attrs.to_csv(cfg.PATH_ATTRS / 'climate_indices.csv', float_format='%.6f')"
   ]
  }
 ],
 "metadata": {
  "kernelspec": {
   "display_name": "Python 3 (ipykernel)",
   "language": "python",
   "name": "python3"
  },
  "language_info": {
   "codemirror_mode": {
    "name": "ipython",
    "version": 3
   },
   "file_extension": ".py",
   "mimetype": "text/x-python",
   "name": "python",
   "nbconvert_exporter": "python",
   "pygments_lexer": "ipython3",
   "version": "3.9.13"
  }
 },
 "nbformat": 4,
 "nbformat_minor": 5
}
