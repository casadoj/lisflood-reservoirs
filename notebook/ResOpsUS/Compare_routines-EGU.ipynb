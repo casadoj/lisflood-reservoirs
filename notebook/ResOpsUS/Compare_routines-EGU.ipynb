{
 "cells": [
  {
   "cell_type": "markdown",
   "id": "5bb79f33-bbf7-4ccd-a82c-eb64292c882d",
   "metadata": {},
   "source": [
    "# Compare reservoir models\n",
    "***\n",
    "\n",
    "**Author:** *Chus Casado Rodríguez*<br>\n",
    "**Date:** *23-04-2025*<br>\n",
    "\n",
    "**Introduction:**<br>\n",
    "\n",
    "This notebooks compares the results of simulating 97 reservoirs from the ResOpsUS. These reservoirs were selected because the include observed data for the three variables inflow, storage and outflow for at least 8 consecutive years.\n",
    "\n",
    "**Ideas:**<br>"
   ]
  },
  {
   "cell_type": "code",
   "execution_count": 1,
   "id": "bd2d845b-ec56-4c3b-95d6-1ae1e6564ac0",
   "metadata": {},
   "outputs": [],
   "source": [
    "# import numpy as np\n",
    "import pandas as pd\n",
    "import xarray as xr\n",
    "import matplotlib.pyplot as plt\n",
    "import seaborn as sns\n",
    "from tqdm.auto import tqdm\n",
    "from pathlib import Path\n",
    "# import geopandas as gpd\n",
    "import yaml\n",
    "import pickle\n",
    "\n",
    "from lisfloodreservoirs import Config, read_attributes, read_timeseries\n",
    "from lisfloodreservoirs.utils.plots import maps_performance, boxplot_parameters, boxplot_comparison\n",
    "from lisfloodreservoirs.utils.metrics import KGEmod, ECDF, PDE\n",
    "from lisfloodreservoirs.utils.utils import CDF, get_normal_value, return_period\n",
    "from lisfloodreservoirs.calibration import read_results"
   ]
  },
  {
   "cell_type": "code",
   "execution_count": 2,
   "id": "c43d5b21-b59a-42ab-a709-0a3b19f1a5ea",
   "metadata": {},
   "outputs": [],
   "source": [
    "plt.rcParams.update({\n",
    "    \"font.family\": 'Arial',\n",
    "    \"font.size\": 13,       # Default font size for text\n",
    "    \"axes.titlesize\": 16,  # Title font size\n",
    "    \"axes.labelsize\": 12,  # X and Y label font size\n",
    "    \"xtick.labelsize\": 13, # X tick font size\n",
    "    \"ytick.labelsize\": 12, # Y tick font size\n",
    "    \"legend.fontsize\": 12  # Legend font size\n",
    "})"
   ]
  },
  {
   "cell_type": "markdown",
   "id": "46838bf9-cd62-40fe-8f56-b85968a69647",
   "metadata": {},
   "source": [
    "## Configuration"
   ]
  },
  {
   "cell_type": "code",
   "execution_count": 3,
   "id": "d275f9dc-bdef-4b53-8406-1888ff12739b",
   "metadata": {},
   "outputs": [
    {
     "name": "stdout",
     "output_type": "stream",
     "text": [
      "Results will be saved in Z:\\nahaUsers\\casadje\\datasets\\reservoirs\\ResOpsUS\\v2.0\\results\n"
     ]
    }
   ],
   "source": [
    "cfg = Config('Z:/nahaUsers/casadje/datasets/reservoirs/ResOpsUS/v2.0/results/mhm/config_storage.yml')\n",
    "\n",
    "PATH_RESULTS = cfg.PATH_DEF.parent.parent\n",
    "print(f'Results will be saved in {PATH_RESULTS}')\n",
    "\n",
    "models = ['linear', 'lisflood', 'hanazaki_5pars', 'mhm', 'starfit']\n",
    "\n",
    "runs = {\n",
    "    'default': 'default',\n",
    "    'SCEUA-Q': 'calibration/univariate/outflow',\n",
    "    'SCEUA-S': 'calibration/univariate/storage',\n",
    "    'SCEUA-QS': 'calibration/bivariate'\n",
    "}"
   ]
  },
  {
   "cell_type": "markdown",
   "id": "cb768cca-9ea8-47ec-a60d-2366496a5f91",
   "metadata": {
    "tags": []
   },
   "source": [
    "## Data"
   ]
  },
  {
   "cell_type": "markdown",
   "id": "d71bc7c0-a309-4dba-932b-afb0fb075683",
   "metadata": {
    "tags": []
   },
   "source": [
    "### Attributes"
   ]
  },
  {
   "cell_type": "code",
   "execution_count": 4,
   "id": "54a6002e-5a15-4f9f-8e0f-3adc900f597e",
   "metadata": {},
   "outputs": [
    {
     "name": "stdout",
     "output_type": "stream",
     "text": [
      "123 reservoirs in the attributes table\n"
     ]
    }
   ],
   "source": [
    "# list of reservoirs to be trained\n",
    "reservoirs = pd.read_csv(cfg.RESERVOIRS_FILE, header=None).squeeze().tolist()\n",
    "\n",
    "# import all tables of attributes\n",
    "attributes = read_attributes(cfg.PATH_DATA / 'attributes', reservoirs)\n",
    "\n",
    "# invert the one-hot encoder of main reservoir use\n",
    "col_use = attributes.columns[attributes.columns.str.contains('MAIN_')]\n",
    "col_use = [col for col in col_use if 'BASIN' not in col]\n",
    "main_use = attributes[col_use].idxmax(axis=1)\n",
    "attributes['MAIN_USE'] = main_use.replace({col: col.split('_')[-1] for col in col_use})\n",
    "attributes.drop(col_use, axis=1, inplace=True)\n",
    "\n",
    "print(f'{len(attributes)} reservoirs in the attributes table')"
   ]
  },
  {
   "cell_type": "markdown",
   "id": "40c011a0-247c-45ca-8724-725e7a3f9a81",
   "metadata": {},
   "source": [
    "Create shapefile of the reservoirs selected for the model comparison.\n",
    "\n",
    "```Python\n",
    "import geopandas as gpd\n",
    "\n",
    "# convert to GeoPandas\n",
    "attributes = gpd.GeoDataFrame(\n",
    "    attributes,\n",
    "    geometry=gpd.points_from_xy(attributes.LON_LISFLOOD, attributes.LAT_LISFLOOD),\n",
    "    crs='epsg:4326'\n",
    ")\n",
    "\n",
    "# export shapefile\n",
    "attributes.to_file(cfg.PATH_DATA / 'selection' / 'reservoirs.shp')\n",
    "```"
   ]
  },
  {
   "cell_type": "markdown",
   "id": "5774e9ab-3c53-432d-9cc8-5dbb7a27cddc",
   "metadata": {
    "tags": []
   },
   "source": [
    "#### Time series"
   ]
  },
  {
   "cell_type": "code",
   "execution_count": 5,
   "id": "f7608881-3ecf-4c7f-8c0c-6fcdcbbe74d3",
   "metadata": {},
   "outputs": [
    {
     "data": {
      "application/vnd.jupyter.widget-view+json": {
       "model_id": "a4b4798ec2c14426a5a2a303242892c4",
       "version_major": 2,
       "version_minor": 0
      },
      "text/plain": [
       "  0%|          | 0/123 [00:00<?, ?it/s]"
      ]
     },
     "metadata": {},
     "output_type": "display_data"
    },
    {
     "name": "stdout",
     "output_type": "stream",
     "text": [
      "123 reservoirs in the time series\n"
     ]
    }
   ],
   "source": [
    "# training periods\n",
    "with open(cfg.PERIODS_FILE, 'rb') as file:\n",
    "    periods = pickle.load(file)\n",
    "# periods = {str(ID): {f'{x}_dates': [date] for x, date in dct.items()} for ID, dct in periods.items()}\n",
    "\n",
    "# read time series\n",
    "timeseries = read_timeseries(\n",
    "    cfg.PATH_DATA / 'time_series' / 'csv',\n",
    "    attributes.index,\n",
    "    periods\n",
    ")\n",
    "print(f'{len(timeseries)} reservoirs in the time series')\n",
    "\n",
    "# compute 100-year return period of the inflow\n",
    "Q100 = [return_period(ts.inflow, T=100) for grand_id, ts in timeseries.items()]\n",
    "Q100 = xr.DataArray(data=Q100, coords=[list(timeseries)], dims=['ID'])"
   ]
  },
  {
   "cell_type": "markdown",
   "id": "488a686c-6518-48eb-8e7a-19fc5336f291",
   "metadata": {},
   "source": [
    "## Load results"
   ]
  },
  {
   "cell_type": "code",
   "execution_count": 6,
   "id": "d7c7fbc8-268b-4857-a0d2-374b1bd30756",
   "metadata": {},
   "outputs": [
    {
     "data": {
      "application/vnd.jupyter.widget-view+json": {
       "model_id": "9f5dbd432d7f4815a9cf27ffa579199e",
       "version_major": 2,
       "version_minor": 0
      },
      "text/plain": [
       "reservoir model:   0%|          | 0/5 [00:00<?, ?it/s]"
      ]
     },
     "metadata": {},
     "output_type": "display_data"
    },
    {
     "name": "stdout",
     "output_type": "stream",
     "text": [
      "Error while reading parameters from model starfit and run default:\n",
      "must supply at least one object to concatenate\n",
      "Error while reading performance from model starfit and run default:\n",
      "must supply at least one object to concatenate\n",
      "Error while reading parameters from model starfit and run SCEUA-Q:\n",
      "must supply at least one object to concatenate\n",
      "Error while reading performance from model starfit and run SCEUA-Q:\n",
      "must supply at least one object to concatenate\n",
      "Error while reading parameters from model starfit and run SCEUA-S:\n",
      "must supply at least one object to concatenate\n",
      "Error while reading performance from model starfit and run SCEUA-S:\n",
      "must supply at least one object to concatenate\n",
      "Error while reading parameters from model starfit and run SCEUA-QS:\n",
      "must supply at least one object to concatenate\n"
     ]
    }
   ],
   "source": [
    "parameters = {}\n",
    "performance = []\n",
    "for model in tqdm(models, desc='reservoir model'):\n",
    "\n",
    "    pars_model = []\n",
    "    perf_model = []\n",
    "    for run, subpath in runs.items():\n",
    "\n",
    "        path = PATH_RESULTS / model / subpath\n",
    "\n",
    "        # load parameters\n",
    "        try:\n",
    "            pars_run = []\n",
    "            for file in path.glob('*_parameters.yml'):\n",
    "                grand_id = int(file.stem.split('_')[0])\n",
    "                if grand_id not in reservoirs:\n",
    "                    continue\n",
    "                with open(file, 'r') as f:\n",
    "                     dct = yaml.load(f, Loader=yaml.FullLoader)\n",
    "                ds = xr.Dataset({key: xr.DataArray(value) for key, value in dct.items()})\n",
    "                ds = ds.assign_coords(ID=[grand_id], run=[run])\n",
    "                pars_run.append(ds)\n",
    "            pars_model.append(xr.concat(pars_run, dim='ID'))\n",
    "        except Exception as e:\n",
    "            print(f'Error while reading parameters from model {model} and run {run}:\\n{e}')                                \n",
    "        \n",
    "        # load performance\n",
    "        try:\n",
    "            perf_run = []\n",
    "            for file in (path).glob('*_performance.csv'):\n",
    "                grand_id = int(file.stem.split('_')[0])\n",
    "                if grand_id not in reservoirs:\n",
    "                    continue\n",
    "                ds = xr.Dataset.from_dataframe(pd.read_csv(file, index_col='metric'))\n",
    "                ds = ds.assign_coords(model=[model], run=[run], ID=[grand_id])\n",
    "                perf_run.append(ds)\n",
    "            perf_model.append(xr.concat(perf_run, dim='ID'))\n",
    "        except Exception as e:\n",
    "            print(f'Error while reading performance from model {model} and run {run}:\\n{e}')  \n",
    "    \n",
    "    try:\n",
    "        parameters[model] = xr.concat(pars_model, dim='run')\n",
    "    except:\n",
    "        pass\n",
    "    try:\n",
    "        performance.append(xr.concat(perf_model, dim='run'))\n",
    "    except:\n",
    "        pass\n",
    "\n",
    "performance = xr.concat(performance, dim='model')\n",
    "\n",
    "# rename model 'hanazaki' as 'camaflood'\n",
    "# performance = performance.assign_coords(\n",
    "#     model=[m if 'hanazaki' not in m else m.replace('hanazaki', 'camaflood') for m in performance.model.values]\n",
    "# )\n",
    "performance = performance.assign_coords(\n",
    "    model=[m if 'hanazaki' not in m else 'camaflood' for m in performance.model.values]\n",
    ")"
   ]
  },
  {
   "cell_type": "markdown",
   "id": "7da17b20-f567-4186-addf-eab1ef0056b3",
   "metadata": {},
   "source": [
    "## Analysis\n",
    "\n",
    "### Performance\n",
    "\n",
    "#### Compare simulations"
   ]
  },
  {
   "cell_type": "code",
   "execution_count": 13,
   "id": "30f7c41b-33d0-424e-b786-4c4f58cc2f1b",
   "metadata": {},
   "outputs": [],
   "source": [
    "from typing import Optional, Union\n",
    "from matplotlib.patches import Patch\n",
    "\n",
    "def boxplot_comparison(\n",
    "    performance: xr.Dataset,\n",
    "    ax_dim: str,\n",
    "    col_dim: str,\n",
    "    metric: str = 'KGE',\n",
    "    save: Optional[Union[str, Path]] = None,\n",
    "    **kwargs,\n",
    "):\n",
    "    \"\"\"\n",
    "    Generate side-by-side boxplots comparing model performance across different metrics, storage/outflow components,\n",
    "    and categories (e.g., model types or parameter sets).\n",
    "\n",
    "    Parameters\n",
    "    ----------\n",
    "    performance : xr.Dataset\n",
    "        An xarray dataset containing performance scores. It must include the specified `ax_dim`, `col_dim`, \n",
    "        and a 'metric' dimension, with variables named 'storage' and 'outflow'.\n",
    "    ax_dim : str\n",
    "        Dimension of the dataset to map to different subplots (columns of subplots). Typically a grouping like \n",
    "        region or threshold.\n",
    "    col_dim : str\n",
    "        Dimension that identifies the groups within each boxplot (e.g., different models, scenarios, etc.).\n",
    "    metric : str, optional\n",
    "        Performance metric to be plotted (default is 'KGE'). This selects a slice from the 'metric' dimension.\n",
    "    save : str or Path, optional\n",
    "        Path to save the figure. If None, the plot is not saved.\n",
    "\n",
    "    **kwargs : dict, optional\n",
    "        Additional plot customization options:\n",
    "        - width (float): Width of each boxplot group (default: 0.15)\n",
    "        - figsize (tuple): Size of the figure in inches (default: (6, 3))\n",
    "        - alpha (float): Transparency of the boxplot fill (default: 0.7)\n",
    "\n",
    "    Notes\n",
    "    -----\n",
    "    The function also computes a composite performance index called 'storage & outflow', calculated as:\n",
    "        1 - sqrt[(1 - storage)^2 + (1 - outflow)^2]\n",
    "    This is included alongside the individual 'storage' and 'outflow' scores.\n",
    "\n",
    "    A color-coded legend is added automatically based on the values in `col_dim`.\n",
    "\n",
    "    Returns\n",
    "    -------\n",
    "    None\n",
    "        Displays the plot and optionally saves it to a file.\n",
    "    \"\"\"\n",
    "\n",
    "    w = kwargs.get('width', .15)\n",
    "    figsize = kwargs.get('figsize', (6, 3))\n",
    "    alpha = kwargs.get('alpha', .7)\n",
    "    \n",
    "    colors = ['grey', 'salmon', 'gold', 'steelblue', 'olivedrab']\n",
    "    colors = {str(key): color for key, color in zip(performance[col_dim].data, colors)}\n",
    "    \n",
    "    n = len(performance[ax_dim])\n",
    "    fig, axes = plt.subplots(ncols=n, figsize=(figsize[0] * n, figsize[1]))#, sharey=True)\n",
    "\n",
    "    for ax, title in zip(axes, performance[ax_dim].data):\n",
    "    \n",
    "        perf = performance.sel({ax_dim: title, 'metric': metric})\n",
    "        perf = perf.dropna(col_dim, how='all')\n",
    "        \n",
    "        perf_dct = {var: perf[var].to_pandas().transpose() for var in ['outflow', 'storage']}\n",
    "        perf_dct['outflow &\\nstorage'] = 1 - ((1 - perf_dct['outflow'])**2 + (1 - perf_dct['storage'])**2)**.5\n",
    "    \n",
    "        ticks_labels = {x: var for x, var in enumerate(perf_dct, start=1)}\n",
    "        for x, var in ticks_labels.items():\n",
    "            df = perf_dct[var]\n",
    "            pos = x - (df.shape[1] / 2 - .5) * w\n",
    "            for i, (col, c) in enumerate(colors.items()):\n",
    "                if col not in df.columns:\n",
    "                    continue\n",
    "                ax.boxplot(\n",
    "                    df[col],\n",
    "                    positions=[pos + i * w],\n",
    "                    widths=[w * .9],\n",
    "                    patch_artist=True,\n",
    "                    showfliers=False,\n",
    "                    capprops=dict(linewidth=0),\n",
    "                    boxprops=dict(facecolor=c, edgecolor='none', alpha=alpha),\n",
    "                    whiskerprops=dict(color=c),\n",
    "                    medianprops=dict(color='k')\n",
    "                )\n",
    "        ax.tick_params(axis='x', length=0)\n",
    "        ax.set(\n",
    "            ylim=(-1, 1),\n",
    "            ylabel=metric,\n",
    "            title=title\n",
    "        )\n",
    "        ax.spines[['top', 'right', 'bottom']].set_visible(False)\n",
    "        ax.set_xticks(list(ticks_labels.keys()))\n",
    "        ax.set_xticklabels(list(ticks_labels.values()))\n",
    "        ax.set_yticks([-1, -.5, 0, .5, 1])\n",
    "        \n",
    "    # Add legend\n",
    "    legend_handles = [Patch(facecolor=c, edgecolor='none', alpha=.7, label=col) for col, c in colors.items()]\n",
    "    fig.legend(handles=legend_handles, frameon=False, loc=6, bbox_to_anchor=[.90, 0, .05, 1]);\n",
    "\n",
    "    if save is not None:\n",
    "        plt.savefig(save, dpi=300, bbox_inches='tight');"
   ]
  },
  {
   "cell_type": "code",
   "execution_count": 17,
   "id": "835a3875-1bc8-4493-8d1f-2c1c394a33b3",
   "metadata": {},
   "outputs": [
    {
     "data": {
      "image/png": "[encoded data removed]",
      "text/plain": [
       "<Figure size 1800x300 with 3 Axes>"
      ]
     },
     "metadata": {},
     "output_type": "display_data"
    }
   ],
   "source": [
    "# compare runs\n",
    "boxplot_comparison(\n",
    "    performance.sel(model=['lisflood', 'camaflood', 'mhm'], run=['default', 'SCEUA-Q', 'SCEUA-S', 'SCEUA-QS']),\n",
    "    ax_dim='model',\n",
    "    col_dim='run',\n",
    "    save=PATH_RESULTS / f'boxplots_compare_variables.jpg'\n",
    ")"
   ]
  },
  {
   "cell_type": "markdown",
   "id": "d741eef8-d0f7-46c7-87f8-a09ebe5a779f",
   "metadata": {},
   "source": [
    "#### Compare models"
   ]
  },
  {
   "cell_type": "code",
   "execution_count": 18,
   "id": "f91690c7-a2af-403e-a3dd-109fdc731a5c",
   "metadata": {},
   "outputs": [
    {
     "data": {
      "image/png": "[encoded data removed]",
      "text/plain": [
       "<Figure size 1800x300 with 3 Axes>"
      ]
     },
     "metadata": {},
     "output_type": "display_data"
    }
   ],
   "source": [
    "# compare models\n",
    "boxplot_comparison(\n",
    "    performance.sel(model=['lisflood', 'camaflood', 'mhm', 'starfit'], run=['default', 'SCEUA-S', 'SCEUA-QS']),\n",
    "    ax_dim='run',\n",
    "    col_dim='model',\n",
    "    save=PATH_RESULTS / f'boxplots_compare_models.jpg'\n",
    ")"
   ]
  },
  {
   "cell_type": "markdown",
   "id": "343c626c-86e5-4125-9f60-30eff0e95902",
   "metadata": {},
   "source": [
    "***"
   ]
  },
  {
   "cell_type": "markdown",
   "id": "5ec35ae0-4395-452b-8197-23b9f4267ba4",
   "metadata": {},
   "source": [
    "Figure explaining the mHM model.\n",
    "\n",
    "```Python\n",
    "from mpl_toolkits.mplot3d import Axes3D\n",
    "\n",
    "demand_vals = np.linspace(0, 20, 50)\n",
    "inflow_vals = np.linspace(0, 20, 50)\n",
    "D, I = np.meshgrid(demand_vals, inflow_vals)\n",
    "omega = 0.1\n",
    "dor = 1.176\n",
    "beta = 1\n",
    "gamma = 0.85\n",
    "lamb = 1\n",
    "\n",
    "rho = min(1, (1 / dor)**beta)\n",
    "print(f'rho = {rho:.3f}')\n",
    "\n",
    "fig = plt.figure()\n",
    "ax = fig.add_subplot(111, projection='3d')\n",
    "for V in [0.01, .25, 0.5, .75, 0.99]:\n",
    "    kappa = (V / gamma)**lamb\n",
    "    Q = rho * kappa * D + (1 - rho) * I\n",
    "    color = plt.cm.magma(V)\n",
    "    ax.plot_surface(D, I, Q, color=color)#cmap=cmap, alpha=.75)\n",
    "# ax.set_xlabel('demand')\n",
    "# ax.set_ylabel('inflow')\n",
    "# ax.set_zlabel('outflow')\n",
    "ax.set_xticklabels([])\n",
    "ax.set_yticklabels([])\n",
    "ax.set_zticklabels([])\n",
    "plt.title('Outflow as a Function of Demand, Inflow & Storage')\n",
    "plt.show()\n",
    "```"
   ]
  },
  {
   "cell_type": "markdown",
   "id": "69eedb3f-aac4-4ab7-b95d-83837e182e03",
   "metadata": {},
   "source": [
    "***"
   ]
  },
  {
   "cell_type": "markdown",
   "id": "2f9807d4-67cd-4a7c-b42c-fe55e42047f9",
   "metadata": {},
   "source": [
    "***"
   ]
  },
  {
   "cell_type": "markdown",
   "id": "9fcab12b-759a-4252-83dc-953c7f76ec67",
   "metadata": {},
   "source": [
    "### Parameters\n",
    "\n",
    "#### Linear"
   ]
  },
  {
   "cell_type": "code",
   "execution_count": null,
   "id": "4b2fd999-ee4e-4528-b2f6-a8f976fb2a62",
   "metadata": {},
   "outputs": [],
   "source": [
    "model = 'linear'\n",
    "parameter_range = {'T': [7, 2190]}\n",
    "\n",
    "pars_model = parameters[model][list(parameter_range)]\n",
    "\n",
    "# boxplot comparing parameterizations across calibration runs\n",
    "boxplot_parameters(pars_model, parameter_range, save=PATH_RESULTS / model / 'parameters_boxplot.jpg')\n",
    "\n",
    "# pairplot comparing parameters\n",
    "if len(pars_model) > 1:\n",
    "    pairplot = sns.pairplot(\n",
    "        data=pars_model.to_dataframe().reset_index(),\n",
    "        vars=list(parameter_range),\n",
    "        hue='run',\n",
    "        # palette='magma',\n",
    "        corner=True,\n",
    "        dropna=True,\n",
    "        plot_kws={'alpha': 0.666, 's': 10},\n",
    "    );\n",
    "    plt.savefig(PATH_RESULTS / model / 'parameters_pairplot.jpg', dpi=300, bbox_inches='tight')\n",
    "\n",
    "# pairplot comparing runs for each parameter\n",
    "for parname, da in pars_model.items():\n",
    "    data = da.to_pandas().transpose()\n",
    "    pairplot= sns.pairplot(data=data,\n",
    "                           # diag_kind='hist',\n",
    "                           # hue='MAIN_USE', \n",
    "                           corner=True);\n",
    "    pmin, pmax = parameter_range[parname]\n",
    "    pmin -= 2e-2\n",
    "    pmax += 2e-2\n",
    "    for ax in pairplot.axes.flatten():\n",
    "        if ax is None:\n",
    "            continue\n",
    "        ax.set(xlim=(pmin, pmax),\n",
    "               ylim=(pmin, pmax))\n",
    "    pairplot.fig.suptitle(parname, y=.95);\n",
    "    plt.savefig(PATH_RESULTS / model / f'parameter_{parname}_pairplot.jpg', dpi=300, bbox_inches='tight')"
   ]
  },
  {
   "cell_type": "markdown",
   "id": "90766731-6653-44ce-93c3-0592291ecac9",
   "metadata": {},
   "source": [
    "#### Lisflood"
   ]
  },
  {
   "cell_type": "code",
   "execution_count": null,
   "id": "637f3f1e-63e6-47af-aa47-126d320d58fd",
   "metadata": {
    "tags": []
   },
   "outputs": [],
   "source": [
    "model = 'lisflood'\n",
    "\n",
    "parameter_range = {\n",
    "    'alpha': [0.20, 0.99],\n",
    "    'beta': [0.001, 0.999],\n",
    "    'gamma': [0.001, 0.999],\n",
    "    'delta': [0.1, 0.5],\n",
    "    'epsilon': [0.001, 0.999],\n",
    "    'k': [1.0, 5.0]\n",
    "}\n",
    "\n",
    "pars_model = parameters[model]\n",
    "pars_model = xr.Dataset({\n",
    "    'alpha': pars_model['Vf'] / pars_model['Vtot'],\n",
    "    'beta': (pars_model['Vn'] - pars_model['Vmin']) / (pars_model['Vf'] - pars_model['Vmin']),\n",
    "    'gamma': (pars_model['Vn_adj'] - pars_model['Vn']) / (pars_model['Vf'] - pars_model['Vn']),\n",
    "    'delta': pars_model['Qf'] / Q100,\n",
    "    'epsilon': pars_model['Qn'] / pars_model['Qf'],\n",
    "    'k': pars_model['k']\n",
    "})\n",
    "\n",
    "# boxplot comparing parameterizations across calibration runs\n",
    "boxplot_parameters(pars_model, parameter_range, save=PATH_RESULTS / model / 'parameters_boxplot.jpg')\n",
    "\n",
    "# pairplot comparing parameters\n",
    "if len(pars_model) > 1:\n",
    "    pairplot = sns.pairplot(\n",
    "        data=pars_model.to_dataframe().reset_index(),\n",
    "        vars=list(parameter_range),\n",
    "        hue='run',\n",
    "        palette='Spectral',\n",
    "        diag_kind='hist',\n",
    "        corner=True,\n",
    "        dropna=True,\n",
    "        plot_kws={'alpha': 0.8, 's': 10},\n",
    "    );\n",
    "    plt.savefig(PATH_RESULTS / model / 'parameters_pairplot.jpg', dpi=300, bbox_inches='tight')\n",
    "\n",
    "# # pairplot comparing runs for each parameter\n",
    "# for parname, da in pars_model.items():\n",
    "#     data = da.to_pandas().transpose()\n",
    "#     pairplot= sns.pairplot(data=data,\n",
    "#                            # diag_kind='hist',\n",
    "#                            # hue='MAIN_USE', \n",
    "#                            corner=True);\n",
    "#     pmin, pmax = parameter_range[parname]\n",
    "#     pmin -= 2e-2\n",
    "#     pmax += 2e-2\n",
    "#     for ax in pairplot.axes.flatten():\n",
    "#         if ax is None:\n",
    "#             continue\n",
    "#         ax.set(xlim=(pmin, pmax),\n",
    "#                ylim=(pmin, pmax))\n",
    "#     pairplot.fig.suptitle(parname, y=.95);\n",
    "#     plt.savefig(PATH_RESULTS / model / f'parameter_{parname}_pairplot.jpg', dpi=300, bbox_inches='tight')"
   ]
  },
  {
   "cell_type": "code",
   "execution_count": null,
   "id": "0590a1ab-f540-403f-9327-131663a6e330",
   "metadata": {},
   "outputs": [],
   "source": [
    "pars_model.median('ID').to_pandas()"
   ]
  },
  {
   "cell_type": "markdown",
   "id": "1f5428c0-24e0-4dfa-bb2c-00dc81c772a8",
   "metadata": {},
   "source": [
    "#### Hanazaki"
   ]
  },
  {
   "cell_type": "code",
   "execution_count": null,
   "id": "3de8199c-af3d-4a1d-876a-2df73ec7aff2",
   "metadata": {},
   "outputs": [],
   "source": [
    "ds = parameters['hanazaki']\n",
    "\n",
    "ds"
   ]
  },
  {
   "cell_type": "code",
   "execution_count": null,
   "id": "cacb9a85-9eec-4deb-8dfa-522af63f4338",
   "metadata": {},
   "outputs": [],
   "source": [
    "ds.where((ds['Ve'] > ds['Vtot']).any('run'), drop=True)"
   ]
  },
  {
   "cell_type": "code",
   "execution_count": null,
   "id": "85bfade3-6f09-4296-9f8c-9d60d048d591",
   "metadata": {},
   "outputs": [],
   "source": [
    "ds[['Qmin', 'Qn']].sel(ID=[7313]).to_dataframe()"
   ]
  },
  {
   "cell_type": "code",
   "execution_count": null,
   "id": "b976579d-0f12-497f-b853-a6551f8dbd16",
   "metadata": {},
   "outputs": [],
   "source": [
    "from lisfloodreservoirs.models import Lisflood"
   ]
  },
  {
   "cell_type": "code",
   "execution_count": null,
   "id": "ebecc9ad-9838-4393-898a-6c381a412126",
   "metadata": {},
   "outputs": [],
   "source": [
    "res = Lisflood(Qf=347,\n",
    "               Qmin=0.0,\n",
    "               Qn=6.4,\n",
    "               Vf=105879765,\n",
    "               Vmin=11089100,\n",
    "               Vn=83263414,\n",
    "               Vn_adj=97339496,\n",
    "               Vtot=110891000,\n",
    "               k=1.158)"
   ]
  },
  {
   "cell_type": "code",
   "execution_count": null,
   "id": "c8566df9-e882-42d8-b936-304acfc39e8a",
   "metadata": {},
   "outputs": [],
   "source": [
    "res.plot_routine()"
   ]
  },
  {
   "cell_type": "code",
   "execution_count": null,
   "id": "5b15a844-9c29-4075-9164-d7d71f2a657b",
   "metadata": {},
   "outputs": [],
   "source": [
    "ts = timeseries[42]\n",
    "sim = res.simulate(ts.inflow, ts.storage.iloc[0], routine=1, limit_Q=True)"
   ]
  },
  {
   "cell_type": "code",
   "execution_count": null,
   "id": "5ddaa80b-e0f7-4c73-bca7-eb264cc46082",
   "metadata": {},
   "outputs": [],
   "source": [
    "res.get_params()"
   ]
  },
  {
   "cell_type": "code",
   "execution_count": null,
   "id": "d696d59c-6c17-45b7-bdfc-473f81c631c5",
   "metadata": {},
   "outputs": [],
   "source": [
    "res.scatter(sim, ts, norm=False,\n",
    "            Vlims=[11089100, 83263414, 97339496, 105879765],\n",
    "            Qlims=[0.0, 6.4, 6.4, 347])"
   ]
  },
  {
   "cell_type": "code",
   "execution_count": null,
   "id": "e5181cd6-1461-44fc-bc90-25d4d92e825e",
   "metadata": {},
   "outputs": [],
   "source": [
    "ts.inflow.mean() * 3600 * 24 * 1e-6"
   ]
  },
  {
   "cell_type": "code",
   "execution_count": null,
   "id": "9f1aebd2-8142-45f3-b561-f4a7a34efd27",
   "metadata": {},
   "outputs": [],
   "source": [
    "(res.Vf - res.Vn_adj) * 1e-6"
   ]
  },
  {
   "cell_type": "code",
   "execution_count": null,
   "id": "ba30e5ed-de43-4cec-804d-1fc85dd70efc",
   "metadata": {},
   "outputs": [],
   "source": [
    "ds[['Vtot', 'Vf']].sel(ID=1777).to_pandas()"
   ]
  },
  {
   "cell_type": "code",
   "execution_count": null,
   "id": "15a86c89-81ea-4145-a25a-9be37b1e39ba",
   "metadata": {},
   "outputs": [],
   "source": [
    "pars_model['alpha'].where(pars_model['alpha'] < 0.2, drop=True).to_pandas()"
   ]
  },
  {
   "cell_type": "code",
   "execution_count": null,
   "id": "cb00a5d4-5eee-4dbd-be1e-b9f31d2692a8",
   "metadata": {},
   "outputs": [],
   "source": [
    "pars_model['epsilon'].to_pandas().min(axis=1)"
   ]
  },
  {
   "cell_type": "code",
   "execution_count": null,
   "id": "b2bde098-703e-435c-88cf-50abad968887",
   "metadata": {},
   "outputs": [],
   "source": [
    "timeseries[1777].storage.plot()"
   ]
  },
  {
   "cell_type": "code",
   "execution_count": null,
   "id": "7193334c-fe01-48e8-937e-01b7601d48b4",
   "metadata": {},
   "outputs": [],
   "source": [
    "attributes.loc[1777, 'CAP_MCM']"
   ]
  },
  {
   "cell_type": "code",
   "execution_count": null,
   "id": "348b5043-0cdb-4f8b-a769-49f5043f5b80",
   "metadata": {},
   "outputs": [],
   "source": [
    "model = 'hanazaki'\n",
    "\n",
    "parameter_range = {\n",
    "    'alpha': [0.2, 0.99],\n",
    "    'beta': [0.001, 0.999],    \n",
    "    'gamma': [0.001, 0.999],\n",
    "    'delta': [0.1, 0.5],\n",
    "    'epsilon': [0.001, 0.999]\n",
    "}\n",
    "\n",
    "pars_model = parameters[model]\n",
    "pars_model = xr.Dataset({\n",
    "    'alpha': pars_model['Vf'] / pars_model['Vtot'],\n",
    "    'beta': (pars_model['Vtot'] - pars_model['Ve']) / (pars_model['Vtot'] - pars_model['Vf']),\n",
    "    'gamma': pars_model['Vmin'] / pars_model['Vf'],\n",
    "    'delta': pars_model['Qf'] / Q100,\n",
    "    'epsilon': pars_model['Qn'] / pars_model['Qf']\n",
    "})\n",
    "\n",
    "# boxplot comparing parameterizations across calibration runs\n",
    "boxplot_parameters(pars_model, parameter_range, save=PATH_RESULTS / model / 'parameters_boxplot.jpg')\n",
    "\n",
    "# pairplot comparing parameters\n",
    "if len(pars_model) > 1:\n",
    "    pairplot = sns.pairplot(\n",
    "        data=pars_model.to_dataframe().reset_index(),\n",
    "        vars=list(parameter_range),\n",
    "        hue='run',\n",
    "        # palette='magma',\n",
    "        corner=True,\n",
    "        dropna=True,\n",
    "        plot_kws={'alpha': 0.666, 's': 10},\n",
    "    );\n",
    "    plt.savefig(PATH_RESULTS / model / 'parameters_pairplot.jpg', dpi=300, bbox_inches='tight')\n",
    "\n",
    "# # pairplot comparing runs for each parameter\n",
    "# for parname, da in pars_model.items():\n",
    "#     data = da.to_pandas().transpose()\n",
    "#     pairplot= sns.pairplot(data=data,\n",
    "#                            # diag_kind='hist',\n",
    "#                            # hue='MAIN_USE', \n",
    "#                            corner=True);\n",
    "#     pmin, pmax = parameter_range[parname]\n",
    "#     pmin -= 2e-2\n",
    "#     pmax += 2e-2\n",
    "#     for ax in pairplot.axes.flatten():\n",
    "#         if ax is None:\n",
    "#             continue\n",
    "#         ax.set(xlim=(pmin, pmax),\n",
    "#                ylim=(pmin, pmax))\n",
    "#     pairplot.fig.suptitle(parname, y=.95);\n",
    "#     plt.savefig(PATH_RESULTS / model / f'parameter_{parname}_pairplot.jpg', dpi=300, bbox_inches='tight')"
   ]
  },
  {
   "cell_type": "markdown",
   "id": "fcca5417-51bf-4409-a1c1-8c5ff4116709",
   "metadata": {},
   "source": [
    "#### mHM"
   ]
  },
  {
   "cell_type": "code",
   "execution_count": null,
   "id": "5d71197e-ad1f-4951-a1b0-dc78514661bb",
   "metadata": {},
   "outputs": [],
   "source": [
    "model = 'mhm'\n",
    "\n",
    "parameter_range = {\n",
    "    'w': [0.0, 1.0],\n",
    "    'alpha': [0.0, 5.0],\n",
    "    'beta': [0.5, 3.0],\n",
    "    'gamma': [0.0, 1.0],\n",
    "    'lambda': [0.25, 3.0]\n",
    "}\n",
    "\n",
    "pars_model = parameters[model][list(parameter_range)]\n",
    "\n",
    "# boxplot comparing parameterizations across calibration runs\n",
    "boxplot_parameters(pars_model, parameter_range, save=PATH_RESULTS / model / 'parameters_boxplot.jpg')\n",
    "\n",
    "# pairplot comparing parameters\n",
    "if len(pars_model) > 1:\n",
    "    pairplot = sns.pairplot(\n",
    "        data=pars_model.to_dataframe().reset_index(),\n",
    "        vars=list(parameter_range),\n",
    "        hue='run',\n",
    "        # palette='magma',\n",
    "        corner=True,\n",
    "        dropna=True,\n",
    "        plot_kws={'alpha': 0.666, 's': 10},\n",
    "    );\n",
    "    plt.savefig(PATH_RESULTS / model / 'parameters_pairplot.jpg', dpi=300, bbox_inches='tight')\n",
    "\n",
    "# # pairplot comparing runs for each parameter\n",
    "# for parname, da in pars_model.items():\n",
    "#     data = da.to_pandas().transpose()\n",
    "#     pairplot= sns.pairplot(data=data,\n",
    "#                            # diag_kind='hist',\n",
    "#                            # hue='MAIN_USE', \n",
    "#                            corner=True);\n",
    "#     pmin, pmax = parameter_range[parname]\n",
    "#     pmin -= 2e-2\n",
    "#     pmax += 2e-2\n",
    "#     for ax in pairplot.axes.flatten():\n",
    "#         if ax is None:\n",
    "#             continue\n",
    "#         ax.set(xlim=(pmin, pmax),\n",
    "#                ylim=(pmin, pmax))\n",
    "#     pairplot.fig.suptitle(parname, y=.95);\n",
    "#     plt.savefig(PATH_RESULTS / model / f'parameter_{parname}_pairplot.jpg', dpi=300, bbox_inches='tight')"
   ]
  },
  {
   "cell_type": "code",
   "execution_count": null,
   "id": "4afe80e5-3f9e-4241-b5e8-65f7abbfa3c5",
   "metadata": {},
   "outputs": [],
   "source": [
    "pars_model.median('ID').to_pandas()"
   ]
  },
  {
   "cell_type": "markdown",
   "id": "3cc840a5-e2d0-4966-b438-113c54d078d1",
   "metadata": {},
   "source": [
    "## Correct parameter files"
   ]
  },
  {
   "cell_type": "markdown",
   "id": "ea541161-493a-4f70-b142-b0e593aa1b07",
   "metadata": {},
   "source": [
    "```Python\n",
    "from lisfloodreservoirs.calibration import read_results\n",
    "from lisfloodreservoirs.utils.timeseries import create_demand\n",
    "from lisfloodreservoirs.models import get_model\n",
    "import copy\n",
    "\n",
    "for model in ['mhm']:\n",
    "    for run in ['SCEUA-Q', 'SCEUA-S', 'SCEUA-QS']:\n",
    "        # path results\n",
    "        path = PATH_RESULTS / model / runs[run]\n",
    "\n",
    "        for file in path.glob('*samples.csv'):\n",
    "                    \n",
    "            # reservoir ID and time series\n",
    "            grand_id = int(file.stem.split('_')[0])\n",
    "            ts = timeseries[grand_id]\n",
    "\n",
    "            # storage attributes (m3)\n",
    "            Vtot = ts.storage.max()\n",
    "            Vmin = max(0, ts.storage.min())\n",
    "            # flow attributes (m3/s)\n",
    "            Qmin = max(0, ts.outflow.min())\n",
    "            # model-independent reservoir attributes\n",
    "            reservoir_attrs = {\n",
    "                'Vmin': Vmin,\n",
    "                'Vtot': Vtot,\n",
    "                'Qmin': Qmin,\n",
    "                }\n",
    "            if model == 'hanazaki':\n",
    "                # catchment area (m2)\n",
    "                A = int(attributes.loc[grand_id, 'CATCH_SKM'] * 1e6)\n",
    "                reservoir_attrs.update({'A': A})\n",
    "                del reservoir_attrs['Qmin']\n",
    "            elif model == 'mhm':\n",
    "                # create a demand time series\n",
    "                bias = ts.outflow.mean() / ts.inflow.mean()\n",
    "                demand = create_demand(ts.outflow,\n",
    "                                       water_stress=min(1, bias),\n",
    "                                       window=28)\n",
    "\n",
    "            # read calibration results\n",
    "            iterations, attributes = read_results(file)\n",
    "\n",
    "            # udpate reservoir attributes\n",
    "            calibrated_attrs = copy.deepcopy(reservoir_attrs)\n",
    "            if model == 'hanazaki':\n",
    "                Vf = float(ts.storage.quantile(attributes['alpha']))\n",
    "                Ve = Vtot - attributes['beta'] * (Vtot - Vf)\n",
    "                Vmin = attributes['gamma'] * Vf\n",
    "                Qn = attributes['delta'] * ts.inflow.mean()\n",
    "                Qf = attributes['epsilon'] * return_period(ts.inflow, T=100)\n",
    "                calibrated_attrs.update({\n",
    "                    'Vf': Vf,\n",
    "                    'Ve': Ve,\n",
    "                    'Vmin': Vmin,\n",
    "                    'Qn': Qn,\n",
    "                    'Qf': Qf,\n",
    "                    'A': A\n",
    "                })\n",
    "            elif model == 'mhm':\n",
    "                calibrated_attrs.update(attributes)\n",
    "                calibrated_attrs.update({\n",
    "                    'avg_inflow': ts.inflow.mean(),\n",
    "                    'avg_demand': demand.mean()\n",
    "                })\n",
    "\n",
    "            # declare reservoir\n",
    "            res = get_model(model, **calibrated_attrs)\n",
    "            \n",
    "            # export calibrated attributes\n",
    "            with open(path / f'{grand_id}_optimal_attributes.yml', 'w') as f:\n",
    "                yaml.dump(res.get_params(), f)\n",
    "```"
   ]
  },
  {
   "cell_type": "code",
   "execution_count": null,
   "id": "9c92a5ae-70cd-42af-a5f4-b6c906a78604",
   "metadata": {},
   "outputs": [],
   "source": []
  }
 ],
 "metadata": {
  "kernelspec": {
   "display_name": "Python 3 (ipykernel)",
   "language": "python",
   "name": "python3"
  },
  "language_info": {
   "codemirror_mode": {
    "name": "ipython",
    "version": 3
   },
   "file_extension": ".py",
   "mimetype": "text/x-python",
   "name": "python",
   "nbconvert_exporter": "python",
   "pygments_lexer": "ipython3",
   "version": "3.11.11"
  }
 },
 "nbformat": 4,
 "nbformat_minor": 5
}
