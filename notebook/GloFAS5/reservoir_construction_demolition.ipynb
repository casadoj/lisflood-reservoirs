{
 "cells": [
  {
   "cell_type": "code",
   "execution_count": 4,
   "id": "1aba0fdb-97a8-42bd-b421-e049ea8d2f25",
   "metadata": {
    "tags": []
   },
   "outputs": [],
   "source": [
    "from lisflood.global_modules.add1 import loadmap, compressArray, decompress, makenumpy"
   ]
  },
  {
   "cell_type": "code",
   "execution_count": 6,
   "id": "e5ea4278-0cd7-41d2-a516-e15250fb9001",
   "metadata": {
    "tags": []
   },
   "outputs": [],
   "source": [
    "import numpy as np\n",
    "import pandas as pd\n",
    "from datetime import datetime\n",
    "import xarray as xr"
   ]
  },
  {
   "cell_type": "code",
   "execution_count": 9,
   "id": "05b2a001-c9d2-4308-9952-af1847645842",
   "metadata": {
    "tags": []
   },
   "outputs": [],
   "source": [
    "reservoirs = xr.open_dataset('/home/casadje/mekong_usecase/model/maps/reservoirs/reservoirs.nc')['res']"
   ]
  },
  {
   "cell_type": "code",
   "execution_count": 5,
   "id": "b85b9908-156b-4080-a9c6-99bf6cb31ad4",
   "metadata": {
    "tags": []
   },
   "outputs": [
    {
     "ename": "KeyError",
     "evalue": "('MainProcess_139834480998208', <class 'lisflood.global_modules.settings.LisSettings'>)",
     "output_type": "error",
     "traceback": [
      "\u001b[0;31m---------------------------------------------------------------------------\u001b[0m",
      "\u001b[0;31mKeyError\u001b[0m                                  Traceback (most recent call last)",
      "\u001b[0;32m/tmp/ipykernel_3485/3483749315.py\u001b[0m in \u001b[0;36m<module>\u001b[0;34m\u001b[0m\n\u001b[0;32m----> 1\u001b[0;31m \u001b[0mloadmap\u001b[0m\u001b[0;34m(\u001b[0m\u001b[0;34m'/home/casadje/mekong_usecase/model/maps/reservoirs/reservoirs.nc'\u001b[0m\u001b[0;34m)\u001b[0m\u001b[0;34m\u001b[0m\u001b[0;34m\u001b[0m\u001b[0m\n\u001b[0m",
      "\u001b[0;32m~/anaconda3/envs/lisflood/lib/python3.7/site-packages/lisflood/global_modules/add1.py\u001b[0m in \u001b[0;36mloadmap\u001b[0;34m(*args, **kwargs)\u001b[0m\n\u001b[1;32m    317\u001b[0m \u001b[0;34m\u001b[0m\u001b[0m\n\u001b[1;32m    318\u001b[0m \u001b[0;32mdef\u001b[0m \u001b[0mloadmap\u001b[0m\u001b[0;34m(\u001b[0m\u001b[0;34m*\u001b[0m\u001b[0margs\u001b[0m\u001b[0;34m,\u001b[0m \u001b[0;34m**\u001b[0m\u001b[0mkwargs\u001b[0m\u001b[0;34m)\u001b[0m\u001b[0;34m:\u001b[0m\u001b[0;34m\u001b[0m\u001b[0;34m\u001b[0m\u001b[0m\n\u001b[0;32m--> 319\u001b[0;31m     \u001b[0msettings\u001b[0m \u001b[0;34m=\u001b[0m \u001b[0mLisSettings\u001b[0m\u001b[0;34m.\u001b[0m\u001b[0minstance\u001b[0m\u001b[0;34m(\u001b[0m\u001b[0;34m)\u001b[0m\u001b[0;34m\u001b[0m\u001b[0;34m\u001b[0m\u001b[0m\n\u001b[0m\u001b[1;32m    320\u001b[0m     \u001b[0mbinding\u001b[0m \u001b[0;34m=\u001b[0m \u001b[0msettings\u001b[0m\u001b[0;34m.\u001b[0m\u001b[0mbinding\u001b[0m\u001b[0;34m\u001b[0m\u001b[0;34m\u001b[0m\u001b[0m\n\u001b[1;32m    321\u001b[0m \u001b[0;34m\u001b[0m\u001b[0m\n",
      "\u001b[0;32m~/anaconda3/envs/lisflood/lib/python3.7/site-packages/lisflood/global_modules/settings.py\u001b[0m in \u001b[0;36minstance\u001b[0;34m(cls)\u001b[0m\n\u001b[1;32m    116\u001b[0m         \u001b[0mtask_id\u001b[0m \u001b[0;34m=\u001b[0m \u001b[0mcls\u001b[0m\u001b[0;34m.\u001b[0m\u001b[0mget_task_id\u001b[0m\u001b[0;34m(\u001b[0m\u001b[0;34m)\u001b[0m\u001b[0;34m\u001b[0m\u001b[0;34m\u001b[0m\u001b[0m\n\u001b[1;32m    117\u001b[0m         \u001b[0mkey\u001b[0m \u001b[0;34m=\u001b[0m \u001b[0;34m(\u001b[0m\u001b[0mtask_id\u001b[0m\u001b[0;34m,\u001b[0m \u001b[0mcls\u001b[0m\u001b[0;34m)\u001b[0m\u001b[0;34m\u001b[0m\u001b[0;34m\u001b[0m\u001b[0m\n\u001b[0;32m--> 118\u001b[0;31m         \u001b[0;32mreturn\u001b[0m \u001b[0mcls\u001b[0m\u001b[0;34m.\u001b[0m\u001b[0m_current\u001b[0m\u001b[0;34m[\u001b[0m\u001b[0mkey\u001b[0m\u001b[0;34m]\u001b[0m\u001b[0;34m\u001b[0m\u001b[0;34m\u001b[0m\u001b[0m\n\u001b[0m\u001b[1;32m    119\u001b[0m \u001b[0;34m\u001b[0m\u001b[0m\n\u001b[1;32m    120\u001b[0m     \u001b[0;32mdef\u001b[0m \u001b[0mget_task_id\u001b[0m\u001b[0;34m(\u001b[0m\u001b[0mcls\u001b[0m\u001b[0;34m)\u001b[0m\u001b[0;34m:\u001b[0m\u001b[0;34m\u001b[0m\u001b[0;34m\u001b[0m\u001b[0m\n",
      "\u001b[0;31mKeyError\u001b[0m: ('MainProcess_139834480998208', <class 'lisflood.global_modules.settings.LisSettings'>)"
     ]
    }
   ],
   "source": [
    "loadmap('/home/casadje/mekong_usecase/model/maps/reservoirs/reservoirs.nc')"
   ]
  },
  {
   "cell_type": "code",
   "execution_count": 62,
   "id": "467ac6c9-cac6-4bf6-8a14-0f921b00a682",
   "metadata": {},
   "outputs": [],
   "source": [
    "# calibration period\n",
    "start = datetime(1990, 1, 2)\n",
    "end = datetime(2000, 1, 2)\n",
    "\n",
    "# load years of construction\n",
    "construction = pd.read_csv('year_construction.txt', sep='\\t', index_col=0, header=None).astype('Int64').squeeze()\n",
    "construction = pd.Series({ID: datetime(year, 1, 2) if pd.notnull(year) else datetime(1000, 1, 2) for ID, year in construction.items()})\n",
    "\n",
    "# load years of demolition\n",
    "demolition = pd.read_csv('year_demolition.txt', sep='\\t', index_col=0, header=None).astype('Int64').squeeze()\n",
    "demolition = pd.Series({ID: datetime(year, 1, 2) if pd.notnull(year) else datetime(3000, 1, 2) for ID, year in demolition.items()})\n",
    "\n",
    "# remove reservoirs that didn't exit during the calibration period\n",
    "remove = (construction > end) | (demolition < start)\n",
    "construction = construction[~remove]\n",
    "demolition = demolition[~remove]\n",
    "\n",
    "# redefine calibration period\n",
    "c = construction[construction > start].tolist() # construction dates within the calibration period\n",
    "d = demolition[demolition < end].tolist() # demolition dates within the calibration period\n",
    "dates = np.sort(np.array([start, end] + c + d))\n",
    "durations = np.diff(dates)\n",
    "idx = np.argmax(durations)\n",
    "start_new, end_new = dates[idx], dates[idx + 1]"
   ]
  },
  {
   "cell_type": "code",
   "execution_count": 63,
   "id": "7c0374b2-519f-4336-bba0-af8ed6120d31",
   "metadata": {},
   "outputs": [
    {
     "data": {
      "text/plain": [
       "(datetime.datetime(1993, 1, 2, 0, 0), datetime.datetime(1999, 1, 2, 0, 0))"
      ]
     },
     "execution_count": 63,
     "metadata": {},
     "output_type": "execute_result"
    }
   ],
   "source": [
    "start_new, end_new"
   ]
  },
  {
   "cell_type": "code",
   "execution_count": 50,
   "id": "b6ea6556-7114-44f5-8c14-bb77d29554e8",
   "metadata": {},
   "outputs": [
    {
     "data": {
      "text/plain": [
       "1    3000-01-02 00:00:00\n",
       "2    1999-01-02 00:00:00\n",
       "3    2023-01-02 00:00:00\n",
       "dtype: object"
      ]
     },
     "execution_count": 50,
     "metadata": {},
     "output_type": "execute_result"
    }
   ],
   "source": [
    "demolition"
   ]
  },
  {
   "cell_type": "code",
   "execution_count": 35,
   "id": "4bc00c17-d4cd-4518-93ed-883548885b26",
   "metadata": {},
   "outputs": [
    {
     "data": {
      "text/plain": [
       "1    1993-01-02 00:00:00\n",
       "2    1000-01-02 00:00:00\n",
       "3    1955-01-02 00:00:00\n",
       "4    2005-01-02 00:00:00\n",
       "5    1931-01-02 00:00:00\n",
       "dtype: object"
      ]
     },
     "execution_count": 35,
     "metadata": {},
     "output_type": "execute_result"
    }
   ],
   "source": []
  },
  {
   "cell_type": "code",
   "execution_count": 21,
   "id": "414f6e0b-7d20-4366-ae52-58f78dde9efd",
   "metadata": {},
   "outputs": [],
   "source": [
    "for ID, year in construction.items():\n",
    "    break"
   ]
  },
  {
   "cell_type": "code",
   "execution_count": 23,
   "id": "1bc063f3-7d51-4270-bbde-ab640066c76a",
   "metadata": {},
   "outputs": [],
   "source": [
    "    year = datetime(year, 1, 2)"
   ]
  },
  {
   "cell_type": "code",
   "execution_count": 26,
   "id": "29aa3a41-2612-4a9a-93c2-5e1ee063e6fc",
   "metadata": {},
   "outputs": [
    {
     "data": {
      "text/plain": [
       "0\n",
       "1    1993\n",
       "2    <NA>\n",
       "3    1955\n",
       "4    2005\n",
       "5    1931\n",
       "Name: 1, dtype: Int64"
      ]
     },
     "execution_count": 26,
     "metadata": {},
     "output_type": "execute_result"
    }
   ],
   "source": [
    "construction"
   ]
  },
  {
   "cell_type": "code",
   "execution_count": null,
   "id": "ae494dff-eec7-43c7-bd3e-b5dedce30be7",
   "metadata": {},
   "outputs": [],
   "source": [
    "construction = np.ndarray([datetime(1993, 1, 1)]) "
   ]
  }
 ],
 "metadata": {
  "kernelspec": {
   "display_name": "Python 3 (ipykernel)",
   "language": "python",
   "name": "python3"
  },
  "language_info": {
   "codemirror_mode": {
    "name": "ipython",
    "version": 3
   },
   "file_extension": ".py",
   "mimetype": "text/x-python",
   "name": "python",
   "nbconvert_exporter": "python",
   "pygments_lexer": "ipython3",
   "version": "3.7.12"
  }
 },
 "nbformat": 4,
 "nbformat_minor": 5
}
