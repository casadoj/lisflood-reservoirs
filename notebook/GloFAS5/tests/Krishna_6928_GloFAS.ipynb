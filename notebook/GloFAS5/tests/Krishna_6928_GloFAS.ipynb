{
 "cells": [
  {
   "cell_type": "markdown",
   "id": "0fe9c11a-30b7-4f6f-8f06-6bd93523123e",
   "metadata": {},
   "source": [
    "# Test GloFASv5: Krishna\n",
    "***"
   ]
  },
  {
   "cell_type": "code",
   "execution_count": 1,
   "id": "8eaca148-53d3-4378-81ed-d4f22fe4d3dc",
   "metadata": {},
   "outputs": [],
   "source": [
    "import numpy as np\n",
    "import pandas as pd\n",
    "import geopandas as gpd\n",
    "import xarray as xr\n",
    "import matplotlib.pyplot as plt\n",
    "from pathlib import Path\n",
    "from tqdm.auto import tqdm"
   ]
  },
  {
   "cell_type": "code",
   "execution_count": 2,
   "id": "0ef6b967-5f8c-43ec-b10f-9e6daf8a340f",
   "metadata": {},
   "outputs": [],
   "source": [
    "from lisflood_read_plot import *"
   ]
  },
  {
   "cell_type": "code",
   "execution_count": 3,
   "id": "46a3d201-a246-4e39-b85d-9bebf0044ce0",
   "metadata": {},
   "outputs": [],
   "source": [
    "from lisfloodreservoirs import read_timeseries\n",
    "from lisfloodreservoirs.calibration import get_calibrator, read_results\n",
    "# from lisfloodreservoirs.calibration.camaflood_calibrator import CamafloodCalibrator\n",
    "from lisfloodreservoirs.models import get_model\n",
    "from lisfloodreservoirs.models import Camaflood\n",
    "from lisfloodreservoirs.utils.metrics import KGEmod\n",
    "from lisfloodreservoirs.utils.utils import return_period"
   ]
  },
  {
   "cell_type": "code",
   "execution_count": 4,
   "id": "70fb4fbc-3a59-4b3c-97c0-2c2de77b6d91",
   "metadata": {},
   "outputs": [],
   "source": [
    "import spotpy"
   ]
  },
  {
   "cell_type": "code",
   "execution_count": 5,
   "id": "d903e4c8-fe02-455a-a1f4-b46152a53b91",
   "metadata": {},
   "outputs": [],
   "source": [
    "import yaml\n",
    "import cartopy.crs as ccrs\n",
    "import cartopy.feature as cfeature"
   ]
  },
  {
   "cell_type": "markdown",
   "id": "55f2a079-a887-47b5-becb-5e6327a509c0",
   "metadata": {},
   "source": [
    "## Configuration"
   ]
  },
  {
   "cell_type": "code",
   "execution_count": 6,
   "id": "b3ae4594-4c0c-4a42-a087-1ccb4899ecdf",
   "metadata": {},
   "outputs": [],
   "source": [
    "path_glofas = Path('Z:/nahaUsers/casadje/GloFASv5/reservoirs/')"
   ]
  },
  {
   "cell_type": "code",
   "execution_count": 7,
   "id": "cf7810b2-670d-490d-bf33-dafb36694e0e",
   "metadata": {},
   "outputs": [],
   "source": [
    "basin = 'Krishna'\n",
    "station = 6928"
   ]
  },
  {
   "cell_type": "code",
   "execution_count": 8,
   "id": "ef69dcd4-56b8-48c6-962d-5d7ecf0e8ff8",
   "metadata": {},
   "outputs": [],
   "source": [
    "# path_resops = Path('Z:/nahaUsers/casadje/datasets/reservoirs/ResOpsES/v3.0')"
   ]
  },
  {
   "cell_type": "markdown",
   "id": "76a6edcc-804a-484a-8f6d-57f039eed321",
   "metadata": {},
   "source": [
    "## Data\n",
    "### Reservoirs"
   ]
  },
  {
   "cell_type": "code",
   "execution_count": 9,
   "id": "426dac34-5ee3-4d6d-81c3-44e6a763c253",
   "metadata": {},
   "outputs": [
    {
     "name": "stdout",
     "output_type": "stream",
     "text": [
      "1710 reservoirs in total\n"
     ]
    }
   ],
   "source": [
    "reservoirs = gpd.read_file(path_glofas / 'tables' / 'ReservoirGlofas+GDW+parameters.shp').set_index('GDW_ID')\n",
    "reservoirs.rename(columns={'flood_stor': 'flood_storage', 'outflow_fa': 'outflow_factor'}, inplace=True)\n",
    "\n",
    "print(f'{len(reservoirs)} reservoirs in total')"
   ]
  },
  {
   "cell_type": "markdown",
   "id": "ae5bc30f-5107-455b-a459-a4e06d754e7c",
   "metadata": {},
   "source": [
    "### Time series"
   ]
  },
  {
   "cell_type": "markdown",
   "id": "a92a1732-b462-4d12-ba82-30270553b044",
   "metadata": {},
   "source": [
    "#### LISFLOOD simulation"
   ]
  },
  {
   "cell_type": "code",
   "execution_count": 10,
   "id": "fd273434-6177-474d-bb25-4c2059e79a54",
   "metadata": {},
   "outputs": [
    {
     "name": "stdout",
     "output_type": "stream",
     "text": [
      "14 reservoirs with simulated time series\n"
     ]
    }
   ],
   "source": [
    "path_sim = path_glofas / 'tests' / basin / f'{station}'\n",
    "\n",
    "# read simulated time series\n",
    "timeseries = {\n",
    "    'inflow': read_tss(\n",
    "        tss=path_sim / 'qresinlong_term_run.tss',\n",
    "        xml=path_sim.parent / 'OSLisfloodGloFASv5calibration_v1_testEuropeRunlong_term_run.xml'\n",
    "    ),\n",
    "    'outflow': read_tss(\n",
    "        tss=path_sim / 'qresoutlong_term_run.tss',\n",
    "        xml=path_sim.parent / 'OSLisfloodGloFASv5calibration_v1_testEuropeRunlong_term_run.xml'\n",
    "    ),\n",
    "    'storage': read_tss(\n",
    "        tss=path_sim / 'resfilllong_term_run.tss',\n",
    "        xml=path_sim.parent / 'OSLisfloodGloFASv5calibration_v1_testEuropeRunlong_term_run.xml'\n",
    "    ),\n",
    "}\n",
    "\n",
    "# convert columns to integer\n",
    "gdw_ids = []\n",
    "for var, ts in timeseries.items():\n",
    "    ts.columns = ts.columns.astype(int)\n",
    "gdw_ids = ts.columns.tolist()\n",
    "gdw_ids.sort()\n",
    "\n",
    "# reorganize by ID\n",
    "Sim_lisflood = {}\n",
    "for gdw_id in gdw_ids:\n",
    "    serie_list = []\n",
    "    for var, df in timeseries.items():\n",
    "        serie = df[gdw_id]\n",
    "        serie.name = var\n",
    "        if var == 'storage':\n",
    "            cap_cm = reservoirs.loc[gdw_id, 'CAP_MCM'] * 1e6\n",
    "            serie *= cap_cm\n",
    "        serie_list.append(serie)\n",
    "    Sim_lisflood[gdw_id] = pd.concat(serie_list, axis=1)\n",
    "\n",
    "# clip reservoirs to those simulated\n",
    "reservoirs = reservoirs.loc[Sim_lisflood.keys()]\n",
    "\n",
    "print(f'{len(reservoirs)} reservoirs with simulated time series')"
   ]
  },
  {
   "cell_type": "markdown",
   "id": "8acc5bd0-59fc-490a-b026-327a2b3dc273",
   "metadata": {},
   "source": [
    "### Observed"
   ]
  },
  {
   "cell_type": "code",
   "execution_count": 86,
   "id": "78d8523f-3d9a-4793-813e-34750a3ef47f",
   "metadata": {},
   "outputs": [],
   "source": [
    "# discharge in the station downstream\n",
    "file = path_sim / 'HDMS' / 'timeseries' / f'{station}.csv'\n",
    "if file.is_file():\n",
    "    obs_dis = pd.read_csv(file, parse_dates=True, index_col=0).squeeze()"
   ]
  },
  {
   "cell_type": "code",
   "execution_count": 87,
   "id": "7bf7a9a9-f29a-4887-bdfc-79c70b180131",
   "metadata": {},
   "outputs": [],
   "source": [
    "# reservoir volume\n",
    "obs_vol = pd.read_csv(path_sim / 'GWW' / 'Surface Water Volume (#89945).csv', parse_dates=True, index_col=0).squeeze()\n",
    "obs_vol.index = pd.to_datetime(obs_vol.index, format='mixed', yearfirst=True)"
   ]
  },
  {
   "cell_type": "code",
   "execution_count": 12,
   "id": "4ee4e7c4-ac1c-4c87-b6f9-9743d492155d",
   "metadata": {},
   "outputs": [],
   "source": [
    "# # read observed time series\n",
    "# Obs = read_timeseries(\n",
    "#     path=path_resops / 'time_series' / 'csv',\n",
    "#     reservoirs=reservoirs.loc[Sim_lisflood.keys(), 'GRAND_ID'].astype(int).tolist(),\n",
    "#     variables=['inflow', 'outflow', 'storage']\n",
    "# )\n",
    "# # convert GRAND_ID to GDW_ID \n",
    "# Obs = {reservoirs.loc[reservoirs.GRAND_ID == grand_id].index.item(): ts for grand_id, ts in Obs.items()}\n",
    "# # # convert storage to filling\n",
    "# # for gdw_id, ts in Obs.items():\n",
    "# #     ts['storage'] /= reservoirs.loc[gdw_id, 'CAP_MCM'] * 1e6\n",
    "\n",
    "# print(f'{len(Obs)} reservoirs with observed time series')"
   ]
  },
  {
   "cell_type": "markdown",
   "id": "aadd52e2-f3db-4942-ada1-16a5f15e20fc",
   "metadata": {},
   "source": [
    "## Analysis"
   ]
  },
  {
   "cell_type": "code",
   "execution_count": 13,
   "id": "70dc3404-8627-407a-8720-c26903ff16fc",
   "metadata": {},
   "outputs": [],
   "source": [
    "path_plots = path_sim / 'plots'\n",
    "path_plots.mkdir(exist_ok=True)"
   ]
  },
  {
   "cell_type": "markdown",
   "id": "c0e41521-6244-4c23-ae37-4962ff3a8901",
   "metadata": {},
   "source": [
    "### LISFLOOD calibration"
   ]
  },
  {
   "cell_type": "code",
   "execution_count": 57,
   "id": "575b8859-b484-4716-b410-bbf60ed76820",
   "metadata": {
    "scrolled": true
   },
   "outputs": [
    {
     "data": {
      "application/vnd.jupyter.widget-view+json": {
       "model_id": "ba917ce9ea88425d9b13365fd2a30120",
       "version_major": 2,
       "version_minor": 0
      },
      "text/plain": [
       "reservoirs:   0%|          | 0/1 [00:00<?, ?it/s]"
      ]
     },
     "metadata": {},
     "output_type": "display_data"
    },
    {
     "ename": "KeyError",
     "evalue": "'storage'",
     "output_type": "error",
     "traceback": [
      "\u001b[31m---------------------------------------------------------------------------\u001b[39m",
      "\u001b[31mDateParseError\u001b[39m                            Traceback (most recent call last)",
      "\u001b[36mFile \u001b[39m\u001b[32mC:\\DEV\\Anaconda3\\envs\\reservoirs\\Lib\\site-packages\\pandas\\core\\indexes\\datetimes.py:603\u001b[39m, in \u001b[36mDatetimeIndex.get_loc\u001b[39m\u001b[34m(self, key)\u001b[39m\n\u001b[32m    602\u001b[39m \u001b[38;5;28;01mtry\u001b[39;00m:\n\u001b[32m--> \u001b[39m\u001b[32m603\u001b[39m     parsed, reso = \u001b[38;5;28;43mself\u001b[39;49m\u001b[43m.\u001b[49m\u001b[43m_parse_with_reso\u001b[49m\u001b[43m(\u001b[49m\u001b[43mkey\u001b[49m\u001b[43m)\u001b[49m\n\u001b[32m    604\u001b[39m \u001b[38;5;28;01mexcept\u001b[39;00m (\u001b[38;5;167;01mValueError\u001b[39;00m, pytz.NonExistentTimeError) \u001b[38;5;28;01mas\u001b[39;00m err:\n",
      "\u001b[36mFile \u001b[39m\u001b[32mC:\\DEV\\Anaconda3\\envs\\reservoirs\\Lib\\site-packages\\pandas\\core\\indexes\\datetimes.py:559\u001b[39m, in \u001b[36mDatetimeIndex._parse_with_reso\u001b[39m\u001b[34m(self, label)\u001b[39m\n\u001b[32m    558\u001b[39m \u001b[38;5;28;01mdef\u001b[39;00m\u001b[38;5;250m \u001b[39m\u001b[34m_parse_with_reso\u001b[39m(\u001b[38;5;28mself\u001b[39m, label: \u001b[38;5;28mstr\u001b[39m):\n\u001b[32m--> \u001b[39m\u001b[32m559\u001b[39m     parsed, reso = \u001b[38;5;28;43msuper\u001b[39;49m\u001b[43m(\u001b[49m\u001b[43m)\u001b[49m\u001b[43m.\u001b[49m\u001b[43m_parse_with_reso\u001b[49m\u001b[43m(\u001b[49m\u001b[43mlabel\u001b[49m\u001b[43m)\u001b[49m\n\u001b[32m    561\u001b[39m     parsed = Timestamp(parsed)\n",
      "\u001b[36mFile \u001b[39m\u001b[32mC:\\DEV\\Anaconda3\\envs\\reservoirs\\Lib\\site-packages\\pandas\\core\\indexes\\datetimelike.py:293\u001b[39m, in \u001b[36mDatetimeIndexOpsMixin._parse_with_reso\u001b[39m\u001b[34m(self, label)\u001b[39m\n\u001b[32m    291\u001b[39m     label = \u001b[38;5;28mstr\u001b[39m(label)\n\u001b[32m--> \u001b[39m\u001b[32m293\u001b[39m parsed, reso_str = \u001b[43mparsing\u001b[49m\u001b[43m.\u001b[49m\u001b[43mparse_datetime_string_with_reso\u001b[49m\u001b[43m(\u001b[49m\u001b[43mlabel\u001b[49m\u001b[43m,\u001b[49m\u001b[43m \u001b[49m\u001b[43mfreqstr\u001b[49m\u001b[43m)\u001b[49m\n\u001b[32m    294\u001b[39m reso = Resolution.from_attrname(reso_str)\n",
      "\u001b[36mFile \u001b[39m\u001b[32mparsing.pyx:442\u001b[39m, in \u001b[36mpandas._libs.tslibs.parsing.parse_datetime_string_with_reso\u001b[39m\u001b[34m()\u001b[39m\n",
      "\u001b[36mFile \u001b[39m\u001b[32mparsing.pyx:666\u001b[39m, in \u001b[36mpandas._libs.tslibs.parsing.dateutil_parse\u001b[39m\u001b[34m()\u001b[39m\n",
      "\u001b[31mDateParseError\u001b[39m: Unknown datetime string format, unable to parse: storage",
      "\nThe above exception was the direct cause of the following exception:\n",
      "\u001b[31mKeyError\u001b[39m                                  Traceback (most recent call last)",
      "\u001b[36mCell\u001b[39m\u001b[36m \u001b[39m\u001b[32mIn[57]\u001b[39m\u001b[32m, line 45\u001b[39m\n\u001b[32m     37\u001b[39m sim = Sim_lisflood[gdw_id]\n\u001b[32m     38\u001b[39m \u001b[38;5;66;03m# if gdw_id in Obs:\u001b[39;00m\n\u001b[32m     39\u001b[39m \u001b[38;5;66;03m#     obs = Obs[gdw_id]\u001b[39;00m\n\u001b[32m     40\u001b[39m \u001b[38;5;66;03m# else:\u001b[39;00m\n\u001b[32m   (...)\u001b[39m\u001b[32m     43\u001b[39m \n\u001b[32m     44\u001b[39m \u001b[38;5;66;03m# compare LISFLOOD vs observation\u001b[39;00m\n\u001b[32m---> \u001b[39m\u001b[32m45\u001b[39m \u001b[43mres\u001b[49m\u001b[43m.\u001b[49m\u001b[43mscatter\u001b[49m\u001b[43m(\u001b[49m\n\u001b[32m     46\u001b[39m \u001b[43m    \u001b[49m\u001b[43msim\u001b[49m\u001b[43m,\u001b[49m\n\u001b[32m     47\u001b[39m \u001b[43m    \u001b[49m\u001b[43mobs\u001b[49m\u001b[43m,\u001b[49m\n\u001b[32m     48\u001b[39m \u001b[43m    \u001b[49m\u001b[43mnorm\u001b[49m\u001b[43m=\u001b[49m\u001b[38;5;28;43;01mFalse\u001b[39;49;00m\u001b[43m,\u001b[49m\n\u001b[32m     49\u001b[39m \u001b[43m    \u001b[49m\u001b[43mtitle\u001b[49m\u001b[43m=\u001b[49m\u001b[43mgdw_id\u001b[49m\u001b[43m,\u001b[49m\n\u001b[32m     50\u001b[39m \u001b[43m    \u001b[49m\u001b[43mVlims\u001b[49m\u001b[43m=\u001b[49m\u001b[43mVlims\u001b[49m\u001b[43m,\u001b[49m\n\u001b[32m     51\u001b[39m \u001b[43m    \u001b[49m\u001b[43mQlims\u001b[49m\u001b[43m=\u001b[49m\u001b[43mQlims\u001b[49m\u001b[43m,\u001b[49m\n\u001b[32m     52\u001b[39m \u001b[43m    \u001b[49m\u001b[43mlabels\u001b[49m\u001b[43m=\u001b[49m\u001b[43m[\u001b[49m\u001b[33;43m'\u001b[39;49m\u001b[33;43mLisflood\u001b[39;49m\u001b[33;43m'\u001b[39;49m\u001b[43m,\u001b[49m\u001b[43m \u001b[49m\u001b[33;43m'\u001b[39;49m\u001b[33;43mobserved\u001b[39;49m\u001b[33;43m'\u001b[39;49m\u001b[43m]\u001b[49m\u001b[43m,\u001b[49m\n\u001b[32m     53\u001b[39m \u001b[43m    \u001b[49m\u001b[38;5;66;43;03m# save=path_plots / f'{gdw_id}_scatter_lisflood_vs_observed.jpg'\u001b[39;49;00m\n\u001b[32m     54\u001b[39m \u001b[43m\u001b[49m\u001b[43m)\u001b[49m\n\u001b[32m     56\u001b[39m res.lineplot(\n\u001b[32m     57\u001b[39m     sim={\u001b[33m'\u001b[39m\u001b[33mGloFAS5\u001b[39m\u001b[33m'\u001b[39m: sim},\n\u001b[32m     58\u001b[39m     obs=obs,\n\u001b[32m   (...)\u001b[39m\u001b[32m     64\u001b[39m     \u001b[38;5;66;03m# save=path_plots / f'{gdw_id}_line_lisflood_vs_observed.jpg'\u001b[39;00m\n\u001b[32m     65\u001b[39m )\n\u001b[32m     67\u001b[39m \u001b[38;5;28;01mif\u001b[39;00m gdw_id == \u001b[32m351\u001b[39m:\n",
      "\u001b[36mFile \u001b[39m\u001b[32me:\\casadje\\github\\lisflood-reservoirs\\src\\lisfloodreservoirs\\models\\basemodel.py:282\u001b[39m, in \u001b[36mReservoir.scatter\u001b[39m\u001b[34m(self, series1, series2, norm, Vlims, Qlims, spinup, save, **kwargs)\u001b[39m\n\u001b[32m    280\u001b[39m     series1_ = series1_.iloc[spinup:]\n\u001b[32m    281\u001b[39m     series2_ = series2_.iloc[spinup:] \u001b[38;5;28;01mif\u001b[39;00m series2_ \u001b[38;5;129;01mis\u001b[39;00m \u001b[38;5;129;01mnot\u001b[39;00m \u001b[38;5;28;01mNone\u001b[39;00m \u001b[38;5;28;01melse\u001b[39;00m \u001b[38;5;28;01mNone\u001b[39;00m\n\u001b[32m--> \u001b[39m\u001b[32m282\u001b[39m \u001b[43mreservoir_analysis\u001b[49m\u001b[43m(\u001b[49m\n\u001b[32m    283\u001b[39m \u001b[43m    \u001b[49m\u001b[43mseries1_\u001b[49m\u001b[43m,\u001b[49m\u001b[43m \u001b[49m\n\u001b[32m    284\u001b[39m \u001b[43m    \u001b[49m\u001b[43mseries2_\u001b[49m\u001b[43m,\u001b[49m\n\u001b[32m    285\u001b[39m \u001b[43m    \u001b[49m\u001b[43mx_thr\u001b[49m\u001b[43m=\u001b[49m\u001b[43mVlims\u001b[49m\u001b[43m,\u001b[49m\n\u001b[32m    286\u001b[39m \u001b[43m    \u001b[49m\u001b[43my_thr\u001b[49m\u001b[43m=\u001b[49m\u001b[43mQlims\u001b[49m\u001b[43m,\u001b[49m\n\u001b[32m    287\u001b[39m \u001b[43m    \u001b[49m\u001b[43mtitle\u001b[49m\u001b[43m=\u001b[49m\u001b[43mkwargs\u001b[49m\u001b[43m.\u001b[49m\u001b[43mget\u001b[49m\u001b[43m(\u001b[49m\u001b[33;43m'\u001b[39;49m\u001b[33;43mtitle\u001b[39;49m\u001b[33;43m'\u001b[39;49m\u001b[43m,\u001b[49m\u001b[43m \u001b[49m\u001b[38;5;28;43;01mNone\u001b[39;49;00m\u001b[43m)\u001b[49m\u001b[43m,\u001b[49m\n\u001b[32m    288\u001b[39m \u001b[43m    \u001b[49m\u001b[43mlabels\u001b[49m\u001b[43m=\u001b[49m\u001b[43mkwargs\u001b[49m\u001b[43m.\u001b[49m\u001b[43mget\u001b[49m\u001b[43m(\u001b[49m\u001b[33;43m'\u001b[39;49m\u001b[33;43mlabels\u001b[39;49m\u001b[33;43m'\u001b[39;49m\u001b[43m,\u001b[49m\u001b[43m \u001b[49m\u001b[43m[\u001b[49m\u001b[33;43m'\u001b[39;49m\u001b[33;43msim\u001b[39;49m\u001b[33;43m'\u001b[39;49m\u001b[43m,\u001b[49m\u001b[43m \u001b[49m\u001b[33;43m'\u001b[39;49m\u001b[33;43mobs\u001b[39;49m\u001b[33;43m'\u001b[39;49m\u001b[43m]\u001b[49m\u001b[43m)\u001b[49m\u001b[43m,\u001b[49m\n\u001b[32m    289\u001b[39m \u001b[43m    \u001b[49m\u001b[43malpha\u001b[49m\u001b[43m=\u001b[49m\u001b[43mkwargs\u001b[49m\u001b[43m.\u001b[49m\u001b[43mget\u001b[49m\u001b[43m(\u001b[49m\u001b[33;43m'\u001b[39;49m\u001b[33;43malpha\u001b[39;49m\u001b[33;43m'\u001b[39;49m\u001b[43m,\u001b[49m\u001b[43m \u001b[49m\u001b[32;43m.05\u001b[39;49m\u001b[43m)\u001b[49m\u001b[43m,\u001b[49m\n\u001b[32m    290\u001b[39m \u001b[43m    \u001b[49m\u001b[43mx1lim\u001b[49m\u001b[43m=\u001b[49m\u001b[43mx1lim\u001b[49m\u001b[43m,\u001b[49m\n\u001b[32m    291\u001b[39m \u001b[43m    \u001b[49m\u001b[43msave\u001b[49m\u001b[43m=\u001b[49m\u001b[43msave\u001b[49m\n\u001b[32m    292\u001b[39m \u001b[43m\u001b[49m\u001b[43m)\u001b[49m\n",
      "\u001b[36mFile \u001b[39m\u001b[32me:\\casadje\\github\\lisflood-reservoirs\\src\\lisfloodreservoirs\\utils\\plots.py:930\u001b[39m, in \u001b[36mreservoir_analysis\u001b[39m\u001b[34m(sim, obs, x1, x2, y, x_thr, y_thr, save, **kwargs)\u001b[39m\n\u001b[32m    928\u001b[39m \u001b[38;5;66;03m# scatter plot: x1 vs y\u001b[39;00m\n\u001b[32m    929\u001b[39m ax10 = plt.subplot(gs[\u001b[32m1\u001b[39m, \u001b[32m0\u001b[39m])\n\u001b[32m--> \u001b[39m\u001b[32m930\u001b[39m \u001b[43mreservoir_scatter\u001b[49m\u001b[43m(\u001b[49m\n\u001b[32m    931\u001b[39m \u001b[43m    \u001b[49m\u001b[43msim\u001b[49m\u001b[43m,\u001b[49m\u001b[43m \u001b[49m\n\u001b[32m    932\u001b[39m \u001b[43m    \u001b[49m\u001b[43mx1\u001b[49m\u001b[43m,\u001b[49m\u001b[43m \u001b[49m\n\u001b[32m    933\u001b[39m \u001b[43m    \u001b[49m\u001b[43my\u001b[49m\u001b[43m,\u001b[49m\u001b[43m \u001b[49m\n\u001b[32m    934\u001b[39m \u001b[43m    \u001b[49m\u001b[43mobs\u001b[49m\u001b[43m,\u001b[49m\u001b[43m \u001b[49m\n\u001b[32m    935\u001b[39m \u001b[43m    \u001b[49m\u001b[43mx_thr\u001b[49m\u001b[43m=\u001b[49m\u001b[43mx_thr\u001b[49m\u001b[43m,\u001b[49m\u001b[43m \u001b[49m\n\u001b[32m    936\u001b[39m \u001b[43m    \u001b[49m\u001b[43my_thr\u001b[49m\u001b[43m=\u001b[49m\u001b[43my_thr\u001b[49m\u001b[43m,\u001b[49m\u001b[43m \u001b[49m\n\u001b[32m    937\u001b[39m \u001b[43m    \u001b[49m\u001b[43mxlim\u001b[49m\u001b[43m=\u001b[49m\u001b[43mx1_lim\u001b[49m\u001b[43m,\u001b[49m\u001b[43m \u001b[49m\n\u001b[32m    938\u001b[39m \u001b[43m    \u001b[49m\u001b[43max\u001b[49m\u001b[43m=\u001b[49m\u001b[43max10\u001b[49m\u001b[43m,\u001b[49m\u001b[43m \u001b[49m\n\u001b[32m    939\u001b[39m \u001b[43m    \u001b[49m\u001b[43mlegend\u001b[49m\u001b[43m=\u001b[49m\u001b[38;5;28;43;01mFalse\u001b[39;49;00m\u001b[43m,\u001b[49m\n\u001b[32m    940\u001b[39m \u001b[43m    \u001b[49m\u001b[43msize\u001b[49m\u001b[43m=\u001b[49m\u001b[43ms\u001b[49m\u001b[43m,\u001b[49m\u001b[43m \u001b[49m\n\u001b[32m    941\u001b[39m \u001b[43m    \u001b[49m\u001b[43malpha\u001b[49m\u001b[43m=\u001b[49m\u001b[43ma\u001b[49m\u001b[43m,\u001b[49m\u001b[43m \u001b[49m\n\u001b[32m    942\u001b[39m \u001b[43m    \u001b[49m\u001b[43mcolor\u001b[49m\u001b[43m=\u001b[49m\u001b[43mc\u001b[49m\u001b[43m,\u001b[49m\u001b[43m \u001b[49m\n\u001b[32m    943\u001b[39m \u001b[43m    \u001b[49m\u001b[43mlabels\u001b[49m\u001b[43m=\u001b[49m\u001b[43mlabels\u001b[49m\n\u001b[32m    944\u001b[39m \u001b[43m\u001b[49m\u001b[43m)\u001b[49m\n\u001b[32m    946\u001b[39m \u001b[38;5;66;03m# scatter plot: x2 vs y\u001b[39;00m\n\u001b[32m    947\u001b[39m ax11 = plt.subplot(gs[\u001b[32m1\u001b[39m, \u001b[32m1\u001b[39m])\n",
      "\u001b[36mFile \u001b[39m\u001b[32me:\\casadje\\github\\lisflood-reservoirs\\src\\lisfloodreservoirs\\utils\\plots.py:740\u001b[39m, in \u001b[36mreservoir_scatter\u001b[39m\u001b[34m(sim, x, y, obs, x_thr, y_thr, legend, ax, **kwargs)\u001b[39m\n\u001b[32m    738\u001b[39m ax.scatter(-\u001b[32m1\u001b[39m, -\u001b[32m1\u001b[39m, c=c[\u001b[32m0\u001b[39m], s=s, label=labels[\u001b[32m0\u001b[39m])\n\u001b[32m    739\u001b[39m \u001b[38;5;28;01mif\u001b[39;00m obs \u001b[38;5;129;01mis\u001b[39;00m \u001b[38;5;129;01mnot\u001b[39;00m \u001b[38;5;28;01mNone\u001b[39;00m:\n\u001b[32m--> \u001b[39m\u001b[32m740\u001b[39m     ax.scatter(\u001b[43mobs\u001b[49m\u001b[43m[\u001b[49m\u001b[43mx\u001b[49m\u001b[43m]\u001b[49m, obs[y], c=c[\u001b[32m1\u001b[39m], s=s, alpha=a, zorder=\u001b[32m1\u001b[39m)\n\u001b[32m    741\u001b[39m     ax.scatter(-\u001b[32m1\u001b[39m, -\u001b[32m1\u001b[39m, s=s, c=c[\u001b[32m1\u001b[39m], label=labels[\u001b[32m1\u001b[39m])\n\u001b[32m    742\u001b[39m \u001b[38;5;28;01mif\u001b[39;00m (x_thr \u001b[38;5;129;01mis\u001b[39;00m \u001b[38;5;129;01mnot\u001b[39;00m \u001b[38;5;28;01mNone\u001b[39;00m) & (y_thr \u001b[38;5;129;01mis\u001b[39;00m \u001b[38;5;129;01mnot\u001b[39;00m \u001b[38;5;28;01mNone\u001b[39;00m):\n\u001b[32m    743\u001b[39m     \u001b[38;5;66;03m#ax.plot(x_thr, y_thr, c='k', lw=1, zorder=0, label='routine');\u001b[39;00m\n",
      "\u001b[36mFile \u001b[39m\u001b[32mC:\\DEV\\Anaconda3\\envs\\reservoirs\\Lib\\site-packages\\pandas\\core\\series.py:1121\u001b[39m, in \u001b[36mSeries.__getitem__\u001b[39m\u001b[34m(self, key)\u001b[39m\n\u001b[32m   1118\u001b[39m     \u001b[38;5;28;01mreturn\u001b[39;00m \u001b[38;5;28mself\u001b[39m._values[key]\n\u001b[32m   1120\u001b[39m \u001b[38;5;28;01melif\u001b[39;00m key_is_scalar:\n\u001b[32m-> \u001b[39m\u001b[32m1121\u001b[39m     \u001b[38;5;28;01mreturn\u001b[39;00m \u001b[38;5;28;43mself\u001b[39;49m\u001b[43m.\u001b[49m\u001b[43m_get_value\u001b[49m\u001b[43m(\u001b[49m\u001b[43mkey\u001b[49m\u001b[43m)\u001b[49m\n\u001b[32m   1123\u001b[39m \u001b[38;5;66;03m# Convert generator to list before going through hashable part\u001b[39;00m\n\u001b[32m   1124\u001b[39m \u001b[38;5;66;03m# (We will iterate through the generator there to check for slices)\u001b[39;00m\n\u001b[32m   1125\u001b[39m \u001b[38;5;28;01mif\u001b[39;00m is_iterator(key):\n",
      "\u001b[36mFile \u001b[39m\u001b[32mC:\\DEV\\Anaconda3\\envs\\reservoirs\\Lib\\site-packages\\pandas\\core\\series.py:1237\u001b[39m, in \u001b[36mSeries._get_value\u001b[39m\u001b[34m(self, label, takeable)\u001b[39m\n\u001b[32m   1234\u001b[39m     \u001b[38;5;28;01mreturn\u001b[39;00m \u001b[38;5;28mself\u001b[39m._values[label]\n\u001b[32m   1236\u001b[39m \u001b[38;5;66;03m# Similar to Index.get_value, but we do not fall back to positional\u001b[39;00m\n\u001b[32m-> \u001b[39m\u001b[32m1237\u001b[39m loc = \u001b[38;5;28;43mself\u001b[39;49m\u001b[43m.\u001b[49m\u001b[43mindex\u001b[49m\u001b[43m.\u001b[49m\u001b[43mget_loc\u001b[49m\u001b[43m(\u001b[49m\u001b[43mlabel\u001b[49m\u001b[43m)\u001b[49m\n\u001b[32m   1239\u001b[39m \u001b[38;5;28;01mif\u001b[39;00m is_integer(loc):\n\u001b[32m   1240\u001b[39m     \u001b[38;5;28;01mreturn\u001b[39;00m \u001b[38;5;28mself\u001b[39m._values[loc]\n",
      "\u001b[36mFile \u001b[39m\u001b[32mC:\\DEV\\Anaconda3\\envs\\reservoirs\\Lib\\site-packages\\pandas\\core\\indexes\\datetimes.py:605\u001b[39m, in \u001b[36mDatetimeIndex.get_loc\u001b[39m\u001b[34m(self, key)\u001b[39m\n\u001b[32m    603\u001b[39m     parsed, reso = \u001b[38;5;28mself\u001b[39m._parse_with_reso(key)\n\u001b[32m    604\u001b[39m \u001b[38;5;28;01mexcept\u001b[39;00m (\u001b[38;5;167;01mValueError\u001b[39;00m, pytz.NonExistentTimeError) \u001b[38;5;28;01mas\u001b[39;00m err:\n\u001b[32m--> \u001b[39m\u001b[32m605\u001b[39m     \u001b[38;5;28;01mraise\u001b[39;00m \u001b[38;5;167;01mKeyError\u001b[39;00m(key) \u001b[38;5;28;01mfrom\u001b[39;00m\u001b[38;5;250m \u001b[39m\u001b[34;01merr\u001b[39;00m\n\u001b[32m    606\u001b[39m \u001b[38;5;28mself\u001b[39m._disallow_mismatched_indexing(parsed)\n\u001b[32m    608\u001b[39m \u001b[38;5;28;01mif\u001b[39;00m \u001b[38;5;28mself\u001b[39m._can_partial_date_slice(reso):\n",
      "\u001b[31mKeyError\u001b[39m: 'storage'"
     ]
    },
    {
     "data": {
      "image/png": "[encoded data removed]",
      "text/plain": [
       "<Figure size 900x500 with 1 Axes>"
      ]
     },
     "metadata": {},
     "output_type": "display_data"
    }
   ],
   "source": [
    "variables = ['inflow', 'storage', 'outflow']\n",
    "lisflood_performance = pd.DataFrame(index=gdw_ids, columns=[f'KGE_{var}' for var in variables])\n",
    "for gdw_id in tqdm([351], desc='reservoirs'): #gdw_ids, desc='reservoirs'):\n",
    "\n",
    "    # extract reservoir characteristics\n",
    "    cap_cm, catch_sm, area_sm = reservoirs.loc[gdw_id, ['CAP_MCM', 'CATCH_SKM', 'AREA_SKM']] * 1e6\n",
    "    # extract inflow characteristics\n",
    "    Qmin, Qn, Q100 = reservoirs.loc[gdw_id, ['DISENV_CMS', 'DISAVG_CMS', 'DIS100_CMS']]\n",
    "    # extract reseravoir parameters\n",
    "    par_Vf, par_Qf = reservoirs.loc[gdw_id, ['flood_storage', 'outflow_factor']]\n",
    "\n",
    "    # define reservoir limits\n",
    "    Vf = par_Vf * cap_cm\n",
    "    Ve = cap_cm * (0.8 + 0.2 * par_Vf)\n",
    "    Vmin = 0.5 * Vf\n",
    "    Qf = Q100 * par_Qf\n",
    "    Qmin = 0.5 * Qn\n",
    "\n",
    "    # reservoir limits\n",
    "    Vlims = [Vmin, Vf, Ve, cap_cm]\n",
    "    Qlims = [Qmin, Qf, Qf, Qf]\n",
    "\n",
    "    # declare reservoir\n",
    "    res = Camaflood(\n",
    "        Vmin=Vmin,\n",
    "        Vf=Vf,\n",
    "        Ve=Ve,\n",
    "        Vtot=cap_cm,\n",
    "        Qn=Qn,\n",
    "        Qf=Qf,\n",
    "        catchment=catch_sm,\n",
    "        Atot=area_sm,\n",
    "        # timestep=6*3600\n",
    "    )\n",
    "\n",
    "    # time series\n",
    "    sim = Sim_lisflood[gdw_id]\n",
    "    # if gdw_id in Obs:\n",
    "    #     obs = Obs[gdw_id]\n",
    "    # else:\n",
    "    #     obs = pd.DataFrame(np.nan, columns=sim.columns, index=sim.index)\n",
    "        # continue\n",
    "    \n",
    "    # compare LISFLOOD vs observation\n",
    "    res.scatter(\n",
    "        sim,\n",
    "        obs,\n",
    "        norm=False,\n",
    "        title=gdw_id,\n",
    "        Vlims=Vlims,\n",
    "        Qlims=Qlims,\n",
    "        labels=['Lisflood', 'observed'],\n",
    "        # save=path_plots / f'{gdw_id}_scatter_lisflood_vs_observed.jpg'\n",
    "    )\n",
    "\n",
    "    res.lineplot(\n",
    "        sim={'GloFAS5': sim},\n",
    "        obs=obs,\n",
    "        Vlims=Vlims,\n",
    "        Qlims=Qlims,\n",
    "        # spinup=cfg.SPINUP,\n",
    "        title=gdw_id,\n",
    "        figsize=(12, 6),\n",
    "        # save=path_plots / f'{gdw_id}_line_lisflood_vs_observed.jpg'\n",
    "    )\n",
    "\n",
    "    if gdw_id == 351:\n",
    "        break\n",
    "    # for var in variables:\n",
    "    #     lisflood_performance.loc[gdw_id, f'KGE_{var}'] = KGEmod(obs[var], sim[var])[0]"
   ]
  },
  {
   "cell_type": "markdown",
   "id": "060e6a8a-5eb4-4d17-865e-ceddd0059b8a",
   "metadata": {},
   "source": [
    "***"
   ]
  },
  {
   "cell_type": "code",
   "execution_count": 48,
   "id": "54a1a1b4-0caa-4e6e-af78-1f773a8fae21",
   "metadata": {},
   "outputs": [],
   "source": [
    "sim = Sim_lisflood[351]"
   ]
  },
  {
   "cell_type": "code",
   "execution_count": 66,
   "id": "65134185-d670-4423-b2ea-b04d33e0b6a7",
   "metadata": {},
   "outputs": [],
   "source": [
    "auxline_props = {'c': 'k', 'ls': ':', 'lw': .5}"
   ]
  },
  {
   "cell_type": "code",
   "execution_count": 101,
   "id": "eef11a60-966a-4f35-99c7-1e70a6e456b9",
   "metadata": {},
   "outputs": [
    {
     "data": {
      "image/png": "[encoded data removed]",
      "text/plain": [
       "<Figure size 1600x600 with 2 Axes>"
      ]
     },
     "metadata": {},
     "output_type": "display_data"
    }
   ],
   "source": [
    "fig, ax = plt.subplots(nrows=2, figsize=(16, 6), sharex=True)\n",
    "\n",
    "ax[0].plot(obs_dis, c='k', lw=.8, label='obs. streamflow')\n",
    "ax[0].plot(sim.inflow, c='C1', lw=1.2, label='GloFAS5 inflow')\n",
    "ax[0].plot(sim.outflow, c='C0', lw=1.2, label='GloFAS5 release')\n",
    "for y in [Qmin, Qn, Qf]:\n",
    "    ax[0].axhline(y, **auxline_props, zorder=0)\n",
    "ax[0].set(\n",
    "    # xlim=(datetime(1994, 1, 1), datetime(1999, 1, 1)),\n",
    "    xlim=(datetime(2005, 1, 1), datetime(2010, 1, 1)),\n",
    "    ylabel='flow (m3/s)'\n",
    ")\n",
    "ax[0].legend(frameon=False)\n",
    "\n",
    "ax[1].scatter(obs_vol.index, obs_vol * 1e9, c='k', s=5, label='obs. GWW')\n",
    "ax[1].plot(sim.storage, c='C0', lw=1.2, label='GloFAS5')\n",
    "for y in [Vmin, Vf, Ve]:\n",
    "    ax[1].axhline(y, **auxline_props, zorder=0)\n",
    "ax[1].set(\n",
    "    ylim=(0, cap_cm),\n",
    "    ylabel='storage (m3)'\n",
    ")\n",
    "ax[1].legend(frameon=False)\n",
    "\n",
    "fig.suptitle(f'station {station} - reservoir 351')\n",
    "plt.show()"
   ]
  },
  {
   "cell_type": "markdown",
   "id": "c276877e-9791-4a67-9e3d-f25b918b5cbb",
   "metadata": {},
   "source": [
    "***"
   ]
  },
  {
   "cell_type": "code",
   "execution_count": null,
   "id": "4d4ebe59-0b9b-46a8-8f64-5e7736e3292b",
   "metadata": {},
   "outputs": [],
   "source": [
    "path_obs = Path('Z:/nahaUsers/grimast/EFAS1rcmin_GitLFS_efas5_24032023/calibration_efas5_24032023')"
   ]
  },
  {
   "cell_type": "code",
   "execution_count": null,
   "id": "a9d9e72e-cf51-4c67-8f83-709fe9b97e14",
   "metadata": {},
   "outputs": [],
   "source": [
    "streamflow = pd.read_csv(path_obs / 'Qts_calib_9021.csv', usecols=['Timestamp', '626'], index_col='Timestamp')\n",
    "streamflow.index = pd.to_datetime(streamflow.index)\n",
    "streamflow.columns = df.columns.astype(int)\n",
    "# df = df.loc[df.first_valid_index(), df.last_valid_index()]"
   ]
  },
  {
   "cell_type": "code",
   "execution_count": null,
   "id": "a509c1fe-9ead-44be-8fed-c5dd95e50e40",
   "metadata": {},
   "outputs": [],
   "source": [
    "streamflow.index"
   ]
  },
  {
   "cell_type": "code",
   "execution_count": null,
   "id": "afa991e9-af63-469f-b4c4-31826b1b7f9d",
   "metadata": {},
   "outputs": [],
   "source": [
    "streamflow = streamflow.groupby(streamflow.index.floor('D')).mean()"
   ]
  },
  {
   "cell_type": "code",
   "execution_count": null,
   "id": "d00898c9-c895-41ac-b051-d8a8a39faabf",
   "metadata": {},
   "outputs": [],
   "source": [
    "release = Obs[1423]"
   ]
  },
  {
   "cell_type": "code",
   "execution_count": null,
   "id": "f4f21a13-cdb3-45dd-933d-08dffdc57022",
   "metadata": {},
   "outputs": [],
   "source": [
    "df = pd.concat((streamflow, release), axis=1).dropna(axis=0, how='any')"
   ]
  },
  {
   "cell_type": "code",
   "execution_count": null,
   "id": "8926c759-25e9-4c63-949c-7394f7775c85",
   "metadata": {},
   "outputs": [],
   "source": [
    "fig, ax = plt.subplots(figsize=(5, 5))\n",
    "ax.scatter(df.iloc[:, 0], df.iloc[:, 1], s=5, alpha=.5)\n",
    "ax.plot([0, 500], [0, 500], c='k', ls='--')\n",
    "ax.set(\n",
    "    xlabel='streamflow', \n",
    "    ylabel='release'\n",
    ");"
   ]
  },
  {
   "cell_type": "code",
   "execution_count": null,
   "id": "7ac39193-239e-4992-8665-2e5c1dde760f",
   "metadata": {},
   "outputs": [],
   "source": [
    "fig, ax = plt.subplots(figsize=(20, 4))\n",
    "\n",
    "ax.plot(df, label='station')\n",
    "ax.plot(Obs[1423], label='release')"
   ]
  },
  {
   "cell_type": "code",
   "execution_count": null,
   "id": "095e01f9-89f0-4c0e-9793-fa60247998b5",
   "metadata": {},
   "outputs": [],
   "source": [
    "Obs[1423].outflow.plot()"
   ]
  },
  {
   "cell_type": "code",
   "execution_count": null,
   "id": "bda85aaa-0f9b-49e1-afeb-18ad9b866088",
   "metadata": {},
   "outputs": [],
   "source": [
    "fig, ax = plt.subplots(figsize=(20, 4))\n",
    "ax.plot(df[626])\n",
    "ax.plot(df[[637, 2809]].sum(axis=1))\n"
   ]
  },
  {
   "cell_type": "code",
   "execution_count": null,
   "id": "e5cd5192-5d7b-4e2f-9ecd-76088fbac3ee",
   "metadata": {},
   "outputs": [],
   "source": []
  },
  {
   "cell_type": "code",
   "execution_count": null,
   "id": "ccaf09f8-a14e-4b67-bf56-59de63a63e33",
   "metadata": {},
   "outputs": [],
   "source": [
    "df.shape"
   ]
  },
  {
   "cell_type": "markdown",
   "id": "7e235940-16af-4c7f-ac64-9f353f0c86fc",
   "metadata": {},
   "source": [
    "***"
   ]
  },
  {
   "cell_type": "code",
   "execution_count": null,
   "id": "6570339b-8174-4095-83aa-954242024eb1",
   "metadata": {},
   "outputs": [],
   "source": [
    "path = Path('Z:/nahaUsers/casadje/EFASv6/reservoirs/tests/Ebro/efas_626/long_term_run')"
   ]
  },
  {
   "cell_type": "code",
   "execution_count": null,
   "id": "a9bfa4b7-d040-4b6d-9d3e-be0bfae04a7d",
   "metadata": {},
   "outputs": [],
   "source": [
    "dis = read_tss(path / 'dis.tss')\n",
    "res_outflow = read_tss(path / 'res_outflow.tss')\n",
    "res_inflow = read_tss(path / 'res_inflow.tss')\n",
    "theta2 = read_tss(path / 'th2AvUps.tss')\n",
    "lzup = read_tss(path / 'lzUps.tss')\n",
    "tl = read_tss(path / 'TransLossQAvgTS.tss')\n",
    "\n",
    "fig, axes = plt.subplots(nrows=3, figsize=(16, 9), sharex=True)#, sharey=True)\n",
    "for ax, serie in zip(axes, [theta2, lzup, tl]): #[res_inflow, res_outflow, dis]):\n",
    "    ax.plot(serie)"
   ]
  },
  {
   "cell_type": "code",
   "execution_count": null,
   "id": "22031a2d-6918-432e-9064-cd50d3101fb0",
   "metadata": {},
   "outputs": [],
   "source": [
    "res_inflow.sum() / res_outflow.sum()"
   ]
  },
  {
   "cell_type": "code",
   "execution_count": null,
   "id": "829e6bca-ce91-4913-a730-e4ec4ca89ac0",
   "metadata": {},
   "outputs": [],
   "source": [
    "res_outflow = read_tss(path / 'res_outflow.tss')\n",
    "dis.plot()"
   ]
  },
  {
   "cell_type": "code",
   "execution_count": null,
   "id": "32a1b4a9-d806-471c-b502-8c6160635a19",
   "metadata": {},
   "outputs": [],
   "source": [
    "res_inflow = read_tss(path / 'res_inflow.tss')\n",
    "dis.plot()"
   ]
  },
  {
   "cell_type": "markdown",
   "id": "a0a86e8d-32c0-48a6-aeb2-01810055b442",
   "metadata": {},
   "source": [
    "***"
   ]
  },
  {
   "cell_type": "code",
   "execution_count": null,
   "id": "f5b010fb-69af-41a5-b1b8-155a14ccee33",
   "metadata": {},
   "outputs": [],
   "source": [
    "sim_camaflood = {}\n",
    "for gdw_id in tqdm(gdw_ids, desc='reservoirs'):\n",
    "\n",
    "    # extract reservoir characteristics\n",
    "    cap_cm, catch_sm, area_sm = reservoirs.loc[gdw_id, ['CAP_MCM', 'CATCH_SKM', 'AREA_SKM']] * 1e6\n",
    "    # extract inflow characteristics\n",
    "    Qmin, Qn, Q100 = reservoirs.loc[gdw_id, ['DISENV_CMS', 'DISAVG_CMS', 'DIS100_CMS']]\n",
    "    # extract reservoir parameters\n",
    "    par_Vf, par_Qf = reservoirs.loc[gdw_id, ['flood_stor', 'outflow_fa']]\n",
    "\n",
    "    # define reservoir limits\n",
    "    Vf = par_Vf * cap_cm\n",
    "    Ve = cap_cm * (0.8 + 0.2 * par_Vf)\n",
    "    Qf = Q100 * par_Qf\n",
    "\n",
    "    # compare LISFLOOD vs observation\n",
    "    x_thr = [0.5 * Vf, Vf, Ve, cap_cm]\n",
    "    y_thr = [0.5 * Qn, Qf, Qf, Qf]\n",
    "    x1lim = (0, cap_cm)\n",
    "    reservoir_analysis(\n",
    "        sim=Sim_lisflood[gdw_id],\n",
    "        obs=obs[gdw_id],\n",
    "        title=gdw_id,\n",
    "        x_thr=x_thr,\n",
    "        y_thr=y_thr,\n",
    "        x1lim=x1lim,\n",
    "        labels=['Lisflood', 'observed'],\n",
    "        save=path_plots / f'{gdw_id}_lisflood_vs_observed.jpg'\n",
    "    )\n"
   ]
  },
  {
   "cell_type": "markdown",
   "id": "bfc69ecb-4739-4a2d-84cc-cfe66fa09554",
   "metadata": {},
   "source": [
    "### CaMa-Flood simulation\n",
    "\n",
    "Simulation of the CaMa-Flood routine with the inflow simulated with the new GloFAS setup."
   ]
  },
  {
   "cell_type": "code",
   "execution_count": null,
   "id": "85ceef7d-f8eb-4f2e-ace6-66a683040599",
   "metadata": {},
   "outputs": [],
   "source": [
    "sim_camaflood = {}\n",
    "for gdw_id in tqdm(gdw_ids, desc='reservoirs'):\n",
    "\n",
    "    # extract reservoir characteristics\n",
    "    cap_cm, catch_sm, area_sm = reservoirs.loc[gdw_id, ['CAP_MCM', 'CATCH_SKM', 'AREA_SKM']] * 1e6\n",
    "    # extract inflow characteristics\n",
    "    Qmin, Qn, Q100 = reservoirs.loc[gdw_id, ['DISENV_CMS', 'DISAVG_CMS', 'DIS100_CMS']]\n",
    "    # extract reservoir parameters\n",
    "    par_Vf, par_Qf = reservoirs.loc[gdw_id, ['flood_stor', 'outflow_fa']]\n",
    "\n",
    "    # define reservoir limits\n",
    "    Vf = par_Vf * cap_cm\n",
    "    Ve = cap_cm * (0.8 + 0.2 * par_Vf)\n",
    "    Qf = Q100 * par_Qf\n",
    "\n",
    "    # declare CaMa-Flood reservoir\n",
    "    res = Camaflood(\n",
    "        Vmin=0.5 * Vf,\n",
    "        Vf=Vf,\n",
    "        Ve=Ve,\n",
    "        Vtot=cap_cm,\n",
    "        Qn=Qn,\n",
    "        Qf=Qf,\n",
    "        catchment=catch_sm,\n",
    "        Atot=area_sm,\n",
    "        timestep=86400,\n",
    "    )\n",
    "\n",
    "    # simulate with Lisflood inflow\n",
    "    ts = res.simulate(Sim_lisflood[gdw_id].inflow)\n",
    "    # ts.storage /= cap_cm\n",
    "    sim_camaflood[gdw_id] = ts\n",
    "\n",
    "    # compare Lisflood vs CaMa-Flood\n",
    "    x_thr = [0.5 * Vf, Vf, Ve, cap_cm]\n",
    "    y_thr = [0.5 * Qn, Qf, Qf, Qf]\n",
    "    x1lim = (0, cap_cm)\n",
    "    reservoir_analysis(\n",
    "        sim=Sim_lisflood[gdw_id],\n",
    "        obs=sim_camaflood[gdw_id],\n",
    "        title=gdw_id,\n",
    "        x_thr=x_thr,\n",
    "        x1lim=x1lim,\n",
    "        y_thr=y_thr,\n",
    "        labels=['Lisflood', 'CaMa-Flood'],\n",
    "        save=path_plots / f'{gdw_id}_lisflood_vs_camaflood.jpg'\n",
    "    )"
   ]
  },
  {
   "cell_type": "markdown",
   "id": "6cf508dd-0d44-48d8-bb65-6983a0fab778",
   "metadata": {},
   "source": [
    "### CaMa-Flood calibration"
   ]
  },
  {
   "cell_type": "code",
   "execution_count": null,
   "id": "bfc3946d-5707-4654-8a42-9a332fb6a855",
   "metadata": {
    "scrolled": true
   },
   "outputs": [],
   "source": [
    "path_calib = path_sim / 'camaflood'\n",
    "path_calib.mkdir(exist_ok=True)\n",
    "\n",
    "# sim_camaflood = {}\n",
    "for gdw_id in tqdm(gdw_ids, desc='reservoirs'):\n",
    "\n",
    "    # extract reservoir characteristics\n",
    "    cap_cm, catch_sm, area_sm = reservoirs.loc[gdw_id, ['CAP_MCM', 'CATCH_SKM', 'AREA_SKM']] * 1e6\n",
    "    # extract inflow characteristics\n",
    "    Qmin, Qn, Q100 = reservoirs.loc[gdw_id, ['DISENV_CMS', 'DISAVG_CMS', 'DIS100_CMS']]\n",
    "    # extract reservoir parameters\n",
    "    par_Vf, par_Qf = reservoirs.loc[gdw_id, ['flood_stor', 'outflow_fa']]\n",
    "\n",
    "    # define reservoir limits\n",
    "    Vf = par_Vf * cap_cm\n",
    "    Ve = cap_cm * (0.8 + 0.2 * par_Vf)\n",
    "    Qf = Q100 * par_Qf\n",
    "\n",
    "    # set up the calibrator\n",
    "    calibrator = Camaflood_calibrator_2par(\n",
    "        inflow=Sim_lisflood[gdw_id].loc[start:end, 'inflow'],\n",
    "        storage=obs[gdw_id].loc[start:end, 'storage'],\n",
    "        outflow=obs[gdw_id].loc[start:end, 'outflow'],\n",
    "        Vmin=max(0, min(0.1 * cap_cm, obs[gdw_id].storage.min())),\n",
    "        Vtot=cap_cm,\n",
    "        catchment=catch_sm,\n",
    "        # Atot=area_sm,\n",
    "        target=['storage', 'outflow'],\n",
    "        obj_func=KGEmod,\n",
    "        spinup=None,\n",
    "    )\n",
    "\n",
    "    # define the sampling method\n",
    "    dbname = f'{path_calib}/{gdw_id}_samples'\n",
    "    sceua = spotpy.algorithms.sceua(\n",
    "        calibrator, \n",
    "        dbname=dbname, \n",
    "        dbformat='csv', \n",
    "        # parallel='mpi' if args.parallel else 'seq',\n",
    "        save_sim=False,\n",
    "        # seed=42\n",
    "    )\n",
    "\n",
    "    # launch calibration\n",
    "    sceua.sample(\n",
    "        4000, \n",
    "        ngs=8, \n",
    "        kstop=3, \n",
    "        pcento=0.01, \n",
    "        peps=0.1\n",
    "    )"
   ]
  },
  {
   "cell_type": "code",
   "execution_count": null,
   "id": "04b5c37b-1f28-433c-a944-73d5ef9af3fa",
   "metadata": {},
   "outputs": [],
   "source": []
  },
  {
   "cell_type": "code",
   "execution_count": null,
   "id": "0b523b8d-7d9d-4b70-9142-cdf7c2e98ce3",
   "metadata": {},
   "outputs": [],
   "source": [
    "gdw_id = 1407"
   ]
  },
  {
   "cell_type": "code",
   "execution_count": null,
   "id": "13bbba89-06c7-4a62-8aa1-9b7438811847",
   "metadata": {},
   "outputs": [],
   "source": [
    "# read calibration results\n",
    "dbname = f'{path_calib}/{gdw_id}_samples'\n",
    "results, parameters = read_results(f'{dbname}.csv')\n",
    "\n",
    "# convert parameter into reservoir attributes\n",
    "calibrated_attrs = calibrator.pars2attrs(list(parameters.values()))\n",
    "\n",
    "# declare the reservoir with optimal parameters\n",
    "reservoir = get_model('camaflood', **calibrated_attrs)"
   ]
  },
  {
   "cell_type": "code",
   "execution_count": null,
   "id": "cb0ecd21-9223-484c-bed6-a3264fe13a9c",
   "metadata": {},
   "outputs": [],
   "source": [
    "calibrated_attrs"
   ]
  },
  {
   "cell_type": "code",
   "execution_count": null,
   "id": "f41f0f58-09e9-4e44-9711-5fa13fb38dad",
   "metadata": {},
   "outputs": [],
   "source": [
    "# export calibrated parameters\n",
    "with open(path_calib / f'{gdw_id}_optimal_parameters.yml', 'w') as file:\n",
    "    yaml.dump(reservoir.get_params(), file)"
   ]
  },
  {
   "cell_type": "code",
   "execution_count": null,
   "id": "6423271f-ea85-4e9f-bb5e-3bf647407868",
   "metadata": {},
   "outputs": [],
   "source": [
    "# simulate the reservoir\n",
    "Vo = obs[gdw_id].loc[start, 'storage'] #ts.storage.iloc[0]\n",
    "sim = reservoir.simulate(\n",
    "    inflow=Sim_lisflood[gdw_id].loc[start:end, 'inflow'],\n",
    "    Vo=None if pd.isna(Vo) else Vo,\n",
    ")\n",
    "# sim_cal.to_csv(cfg.PATH_CALIB / f'{grand_id}_simulation.csv', float_format='%.3f')"
   ]
  },
  {
   "cell_type": "code",
   "execution_count": null,
   "id": "4abc08e4-9754-4665-a86e-1ecaf7758c78",
   "metadata": {},
   "outputs": [],
   "source": [
    "# extract reservoir characteristics\n",
    "cap_cm, catch_sm, area_sm = reservoirs.loc[gdw_id, ['CAP_MCM', 'CATCH_SKM', 'AREA_SKM']] * 1e6\n",
    "# extract inflow characteristics\n",
    "Qmin, Qn, Q100 = reservoirs.loc[gdw_id, ['DISENV_CMS', 'DISAVG_CMS', 'DIS100_CMS']]\n",
    "# extract reservoir parameters\n",
    "par_Vf, par_Qf = reservoirs.loc[gdw_id, ['flood_stor', 'outflow_fa']]\n",
    "\n",
    "k = max(1 - 5 * (cap_cm - Vf) / catch_sm, 0)\n",
    "print(f'{gdw_id}\\tk = {k:.3f}')\n",
    "\n",
    "# define reservoir limits\n",
    "Vf = par_Vf * cap_cm\n",
    "Ve = cap_cm * (0.8 + 0.2 * par_Vf)\n",
    "Qf = Q100 * par_Qf\n",
    "\n",
    "year_start, year_end = reservoirs.loc[gdw_id, ['YEAR_DAM', 'REM_YEAR']]\n",
    "\n",
    "fig, axes = plt.subplots(nrows=3, figsize=(16, 9), sharex=True)\n",
    "\n",
    "flood_mode = (sim.storage > Vf) & (sim.inflow > Qf)\n",
    "\n",
    "for ax, var in zip(axes, ['storage', 'inflow', 'outflow']):\n",
    "    ax.scatter(\n",
    "        sim[flood_mode].index, \n",
    "        sim.loc[flood_mode, var], \n",
    "        marker='.', \n",
    "        s=.8, \n",
    "        color='firebrick')\n",
    "    ax.scatter(\n",
    "        sim[~flood_mode].index, \n",
    "        sim.loc[~flood_mode, var], \n",
    "        marker='.', \n",
    "        s=.8, \n",
    "        color='steelblue'\n",
    "    )\n",
    "    if var in ['storage', 'outflow']:\n",
    "        ax.plot(obs[gdw_id][var], lw=.8, c='k', zorder=0)\n",
    "    ax.set_ylabel(var)\n",
    "    \n",
    "for y in [0.5 * Vf, Vf, Ve, cap_cm]:\n",
    "    axes[0].axhline(y, ls='--', c='k', lw=.5)\n",
    "start = max(datetime(int(year_start), 1, 1), sim.first_valid_index()) if year_start else sim.first_valid_index()\n",
    "end = min(datetime(int(year_end), 12, 31), sim.last_valid_index()) if year_end else sim.last_valid_index()\n",
    "ax.set_xlim(start, end)\n",
    "\n",
    "for y in [0.5 * Qn, Qf]:\n",
    "    axes[1].axhline(y, ls='--', c='k', lw=.5)\n",
    "    axes[2].axhline(y, ls='--', c='k', lw=.5)\n",
    "\n",
    "axes[0].set_title(f'{gdw_id} | k = {k:.3f}');\n",
    "\n",
    "# plt.savefig(path_plots / f'{gdw_id}_timeseries.jpg', dpi=300, bbox_inches='tight')"
   ]
  },
  {
   "cell_type": "code",
   "execution_count": null,
   "id": "d3cf812a-18f1-4c1c-8989-2e2fbc7aba85",
   "metadata": {},
   "outputs": [],
   "source": [
    "(1 - results.like1).plot()"
   ]
  },
  {
   "cell_type": "code",
   "execution_count": null,
   "id": "619befdc-1c58-40d3-9bb7-8f710aa60320",
   "metadata": {},
   "outputs": [],
   "source": [
    "fig, ax = plt.subplots(figsize=(5, 4))\n",
    "sct = ax.scatter(\n",
    "    x=results.alpha, \n",
    "    y=results.delta, \n",
    "    c=(1 - results.like1), \n",
    "    s=8,\n",
    "    cmap='coolwarm_r', \n",
    "    alpha=.5,\n",
    "    # vmin=-1, \n",
    "    # vmax=1\n",
    ")\n",
    "ax.set(\n",
    "    xlabel='flood storage',\n",
    "    ylabel='flood outflow',\n",
    "    title=gdw_id,\n",
    ")\n",
    "plt.colorbar(sct, shrink=.5, label=\"KGE'\");"
   ]
  },
  {
   "cell_type": "markdown",
   "id": "8b74e9ae-771f-451f-872d-28f3ee0f3b4d",
   "metadata": {},
   "source": [
    "***"
   ]
  },
  {
   "cell_type": "code",
   "execution_count": null,
   "id": "3e804e5e-7318-45bb-8681-552382f84798",
   "metadata": {},
   "outputs": [],
   "source": []
  },
  {
   "cell_type": "code",
   "execution_count": null,
   "id": "b80ae894-7244-4e0f-9319-21397e98c2d5",
   "metadata": {},
   "outputs": [],
   "source": [
    "for gdw_id, sim in tqdm(Sim_lisflood.items(), desc='reservoirs'):\n",
    "\n",
    "    # extract reservoir characteristics\n",
    "    cap_cm, catch_sm, area_sm = reservoirs.loc[gdw_id, ['CAP_MCM', 'CATCH_SKM', 'AREA_SKM']] * 1e6\n",
    "    # extract inflow characteristics\n",
    "    Qmin, Qn, Q100 = reservoirs.loc[gdw_id, ['DISENV_CMS', 'DISAVG_CMS', 'DIS100_CMS']]\n",
    "    # extract reservoir parameters\n",
    "    par_Vf, par_Qf = reservoirs.loc[gdw_id, ['flood_stor', 'outflow_fa']]\n",
    "\n",
    "    k = max(1 - 5 * (cap_cm - Vf) / catch_sm, 0)\n",
    "    print(f'{gdw_id}\\tk = {k:.3f}')\n",
    "\n",
    "    # define reservoir limits\n",
    "    Vf = par_Vf * cap_cm\n",
    "    Ve = cap_cm * (0.8 + 0.2 * par_Vf)\n",
    "    Qf = Q100 * par_Qf\n",
    "\n",
    "    year_start, year_end = reservoirs.loc[gdw_id, ['YEAR_DAM', 'REM_YEAR']]\n",
    "\n",
    "    \n",
    "    fig, axes = plt.subplots(nrows=3, figsize=(16, 9), sharex=True)\n",
    "    \n",
    "    flood_mode = (sim.storage > Vf) & (sim.inflow > Qf)\n",
    "    \n",
    "    for ax, var in zip(axes, ['storage', 'inflow', 'outflow']):\n",
    "        ax.scatter(\n",
    "            sim[flood_mode].index, \n",
    "            sim.loc[flood_mode, var], \n",
    "            marker='.', \n",
    "            s=.8, \n",
    "            color='firebrick')\n",
    "        ax.scatter(\n",
    "            sim[~flood_mode].index, \n",
    "            sim.loc[~flood_mode, var], \n",
    "            marker='.', \n",
    "            s=.8, \n",
    "            color='steelblue'\n",
    "        )\n",
    "        if var in ['storage', 'outflow']:\n",
    "            ax.plot(obs[gdw_id][var], lw=.8, c='k', zorder=0)\n",
    "        ax.set_ylabel(var)\n",
    "        \n",
    "    for y in [0.5 * Vf, Vf, Ve, cap_cm]:\n",
    "        axes[0].axhline(y, ls='--', c='k', lw=.5)\n",
    "    start = max(datetime(int(year_start), 1, 1), sim.first_valid_index()) if year_start else sim.first_valid_index()\n",
    "    end = min(datetime(int(year_end), 12, 31), sim.last_valid_index()) if year_end else sim.last_valid_index()\n",
    "    ax.set_xlim(start, end)\n",
    "    \n",
    "    for y in [0.5 * Qn, Qf]:\n",
    "        axes[1].axhline(y, ls='--', c='k', lw=.5)\n",
    "        axes[2].axhline(y, ls='--', c='k', lw=.5)\n",
    "    \n",
    "    axes[0].set_title(f'{gdw_id} | k = {k:.3f}');\n",
    "    \n",
    "    plt.savefig(path_plots / f'{gdw_id}_timeseries.jpg', dpi=300, bbox_inches='tight')"
   ]
  },
  {
   "cell_type": "code",
   "execution_count": null,
   "id": "b84e791a-fa9f-49f1-9409-7e121fc8686f",
   "metadata": {},
   "outputs": [],
   "source": [
    "year_start, year_end"
   ]
  },
  {
   "cell_type": "code",
   "execution_count": null,
   "id": "8118ab19-03af-4897-a715-a67fe1580eaf",
   "metadata": {},
   "outputs": [],
   "source": [
    "reservoirs.loc[gdw_ids, 'parameters']"
   ]
  },
  {
   "cell_type": "code",
   "execution_count": null,
   "id": "877ea15a-ed31-4553-b763-c5d004235941",
   "metadata": {},
   "outputs": [],
   "source": [
    "cap_cm, catch_sm = reservoirs.loc[1410, ['CAP_MCM', 'CATCH_SKM']] * 1e6\n",
    "cap_cm, catch_sm"
   ]
  },
  {
   "cell_type": "code",
   "execution_count": null,
   "id": "d64dea3f-f7c4-469a-8eda-9ce6d7157240",
   "metadata": {},
   "outputs": [],
   "source": []
  },
  {
   "cell_type": "code",
   "execution_count": null,
   "id": "8e9a5f3b-da1e-4a17-8082-6ce56b2d7e00",
   "metadata": {},
   "outputs": [],
   "source": [
    "cap_cm, Vf, catch_sm"
   ]
  },
  {
   "cell_type": "code",
   "execution_count": null,
   "id": "9036bc49-d286-4e4c-87ca-162d1ebb9bde",
   "metadata": {},
   "outputs": [],
   "source": [
    "(cap_cm - Vf) / catch_sm"
   ]
  },
  {
   "cell_type": "code",
   "execution_count": null,
   "id": "493317bb-797b-428d-9057-73f205dd84a1",
   "metadata": {},
   "outputs": [],
   "source": []
  },
  {
   "cell_type": "code",
   "execution_count": null,
   "id": "b180273c-628b-4372-97fb-2c86b3b8d80a",
   "metadata": {},
   "outputs": [],
   "source": [
    "catch_sm"
   ]
  },
  {
   "cell_type": "code",
   "execution_count": null,
   "id": "3aa3331c-30f8-42a9-a592-f61369fad6f9",
   "metadata": {},
   "outputs": [],
   "source": [
    "cap_mcm, catch_skm, area_skm = reservoirs.loc[gdw_id, ['CAP_MCM', 'CATCH_SKM', 'AREA_SKM']].values"
   ]
  },
  {
   "cell_type": "code",
   "execution_count": null,
   "id": "1bf428ee-3297-459c-90b0-cec9c05d56fd",
   "metadata": {},
   "outputs": [],
   "source": [
    "cap_mcm"
   ]
  },
  {
   "cell_type": "markdown",
   "id": "5b5e2f91-221b-4fba-9693-5726a33f1837",
   "metadata": {},
   "source": [
    "***\n",
    "### CaMa-Flood calibration 3 pars"
   ]
  },
  {
   "cell_type": "code",
   "execution_count": null,
   "id": "df3372e0-116e-4316-88e8-1f1ff4763ccf",
   "metadata": {},
   "outputs": [],
   "source": [
    "import seaborn as sns"
   ]
  },
  {
   "cell_type": "code",
   "execution_count": null,
   "id": "3011c03e-15e2-473d-b3dc-9b5400f3f578",
   "metadata": {},
   "outputs": [],
   "source": [
    "path = path_resops / 'tests' / '3_pars'"
   ]
  },
  {
   "cell_type": "code",
   "execution_count": null,
   "id": "963af612-b5cc-4a52-b842-b3932dd3bf60",
   "metadata": {},
   "outputs": [],
   "source": [
    "subpath = Path('camaflood/calibration/bivariate')"
   ]
  },
  {
   "cell_type": "code",
   "execution_count": null,
   "id": "1be7a59b-e616-4861-bbe3-9d30f05ba392",
   "metadata": {},
   "outputs": [],
   "source": [
    "grand_id = 2662"
   ]
  },
  {
   "cell_type": "code",
   "execution_count": null,
   "id": "2283071a-5660-49ea-b3fa-b89c96825a56",
   "metadata": {},
   "outputs": [],
   "source": [
    "for grand_id in [2662, 2677, 2684]:\n",
    "    \n",
    "    iterations, parameters = read_results(path / subpath / f'{grand_id}_samples.csv')\n",
    "    \n",
    "    sns.pairplot(\n",
    "        iterations[['alpha', 'delta', 'k', 'like1']], \n",
    "        hue='like1',\n",
    "        palette='coolwarm',\n",
    "        diag_kind='kde',\n",
    "        corner=False\n",
    "    );"
   ]
  },
  {
   "cell_type": "markdown",
   "id": "c70dd6fb-35d7-458f-aac6-7243f4906d5e",
   "metadata": {},
   "source": [
    "### Compare tests"
   ]
  },
  {
   "cell_type": "code",
   "execution_count": null,
   "id": "b09c8a66-6434-4ef8-9ee7-5c74a8289040",
   "metadata": {},
   "outputs": [],
   "source": [
    "path = path_resops / 'results' / 'hanazaki_2pars' / 'calibration' / 'bivariate'\n",
    "for grand_id in [2662, 2677, 2684]:\n",
    "    print(grand_id)\n",
    "    iterations, parameters = read_results(path / f'{grand_id}_samples.csv')\n",
    "    best_iter = iterations.like1.idxmin()\n",
    "    print(iterations.loc[best_iter])"
   ]
  },
  {
   "cell_type": "code",
   "execution_count": null,
   "id": "17640535-6a79-4d6f-a4fd-175e497c69ff",
   "metadata": {},
   "outputs": [],
   "source": [
    "path = path_resops / 'results' / 'hanazaki_2pars' / 'calibration' / 'bivariate'\n",
    "for grand_id in [2662, 2677, 2684]:\n",
    "    print(grand_id)\n",
    "    sim = pd.read_csv(path / f'{grand_id}_simulation.csv', parse_dates=True, index_col='date')\n",
    "    rps = return_period(sim.outflow, T=np.array([5, 10, 20, 100]))\n",
    "    print(rps, sep='\\t')"
   ]
  },
  {
   "cell_type": "code",
   "execution_count": null,
   "id": "8bbe562a-37a3-4239-b0df-834b81de9349",
   "metadata": {},
   "outputs": [],
   "source": [
    "tests = ['3_pars', 'k_01', 'k_05', 'k_1']\n",
    "\n",
    "for test in tests:\n",
    "    print(test)\n",
    "    for grand_id in [2662, 2677, 2684]:\n",
    "        print(grand_id)\n",
    "        path = path_resops / 'tests' / test\n",
    "        iterations, parameters = read_results(path / subpath / f'{grand_id}_samples.csv')\n",
    "        best_iter = iterations.like1.idxmin()\n",
    "        print(iterations.loc[best_iter])"
   ]
  },
  {
   "cell_type": "code",
   "execution_count": null,
   "id": "c2cbe09e-05ab-45c1-9c41-41c8a20357ec",
   "metadata": {},
   "outputs": [],
   "source": []
  },
  {
   "cell_type": "code",
   "execution_count": null,
   "id": "10838cf4-59fe-4c84-866c-789bb5679bdf",
   "metadata": {},
   "outputs": [],
   "source": [
    "\n",
    "for test in tests:\n",
    "    print(test)\n",
    "    for grand_id in [2662, 2677, 2684]:\n",
    "        path = path_resops / 'tests' / test\n",
    "        sim = pd.read_csv(path / subpath / f'{grand_id}_simulation.csv', parse_dates=True, index_col='date')\n",
    "        rps = return_period(sim.outflow, T=np.array([5, 10, 20, 100]))\n",
    "        print(grand_id, rps, sep='\\t')"
   ]
  },
  {
   "cell_type": "code",
   "execution_count": null,
   "id": "34d9193e-e918-4b09-a8bd-4014788455f0",
   "metadata": {},
   "outputs": [],
   "source": []
  }
 ],
 "metadata": {
  "kernelspec": {
   "display_name": "Python 3 (ipykernel)",
   "language": "python",
   "name": "python3"
  },
  "language_info": {
   "codemirror_mode": {
    "name": "ipython",
    "version": 3
   },
   "file_extension": ".py",
   "mimetype": "text/x-python",
   "name": "python",
   "nbconvert_exporter": "python",
   "pygments_lexer": "ipython3",
   "version": "3.11.11"
  }
 },
 "nbformat": 4,
 "nbformat_minor": 5
}
