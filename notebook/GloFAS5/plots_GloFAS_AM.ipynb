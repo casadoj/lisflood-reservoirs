{
 "cells": [
  {
   "cell_type": "code",
   "execution_count": 1,
   "id": "5e7de2fc-4f9b-4ec8-b3eb-ed3ac5d1c305",
   "metadata": {},
   "outputs": [],
   "source": [
    "import os\n",
    "os.environ['USE_PYGEOS'] = '0'\n",
    "import numpy as np\n",
    "import pandas as pd\n",
    "import geopandas as gpd\n",
    "import xarray as xr\n",
    "import matplotlib.pyplot as plt\n",
    "from pathlib import Path"
   ]
  },
  {
   "cell_type": "code",
   "execution_count": 2,
   "id": "0d81e70b-580c-44ac-bd9c-68f8a4af68c2",
   "metadata": {},
   "outputs": [],
   "source": [
    "PATH_GLOFAS4 = Path('Z:/nahaUsers/casadje/GloFASv4')\n",
    "PATH_GLOFAS5 = Path('Z:/nahaUsers/casadje/GloFASv5')"
   ]
  },
  {
   "cell_type": "markdown",
   "id": "2b83c4cc-1261-43b6-8ee8-f95b5263b483",
   "metadata": {},
   "source": [
    "## Reservoirs\n",
    "\n",
    "### GloFAS4"
   ]
  },
  {
   "cell_type": "code",
   "execution_count": 36,
   "id": "0d301c9c-0830-4841-a2b5-21c6d0c9edf8",
   "metadata": {},
   "outputs": [],
   "source": [
    "reservoirs4 = gpd.read_file(PATH_GLOFAS4 / 'tables' / 'GloFAS_reservoirs.shp').set_index('ResID')\n",
    "reservoirs4.rename(columns={'stor': 'CAP_MCM'}, inplace=True)\n",
    "\n",
    "reservoirs4.plot(markersize=1)\n",
    "plt.title('GloFAS4')\n",
    "plt.axis('off');"
   ]
  },
  {
   "cell_type": "markdown",
   "id": "e8afb9bf-8c02-45d4-9e6c-089f15015c55",
   "metadata": {},
   "source": [
    "### GloFAS5"
   ]
  },
  {
   "cell_type": "code",
   "execution_count": 38,
   "id": "399bcf99-d862-4bfa-a4d2-4a995ad0e086",
   "metadata": {},
   "outputs": [],
   "source": [
    "reservoirs5 = gpd.read_file(PATH_GLOFAS5 / 'reservoirs' / 'tables' / 'ReservoirGlofas+GDW.shp').set_index('id')\n",
    "\n",
    "reservoirs5.plot(markersize=1)\n",
    "plt.title('GloFAS5')\n",
    "plt.axis('off');"
   ]
  },
  {
   "cell_type": "markdown",
   "id": "106e59e1-99a8-4a72-9d22-c874f231a3a6",
   "metadata": {},
   "source": [
    "### Comparison"
   ]
  },
  {
   "cell_type": "code",
   "execution_count": 79,
   "id": "93393ade-351c-4919-8098-32def390c6e6",
   "metadata": {},
   "outputs": [
    {
     "data": {
      "text/html": [
       "<div>\n",
       "<style scoped>\n",
       "    .dataframe tbody tr th:only-of-type {\n",
       "        vertical-align: middle;\n",
       "    }\n",
       "\n",
       "    .dataframe tbody tr th {\n",
       "        vertical-align: top;\n",
       "    }\n",
       "\n",
       "    .dataframe thead th {\n",
       "        text-align: right;\n",
       "    }\n",
       "</style>\n",
       "<table border=\"1\" class=\"dataframe\">\n",
       "  <thead>\n",
       "    <tr style=\"text-align: right;\">\n",
       "      <th></th>\n",
       "      <th>GloFASv4</th>\n",
       "      <th>GloFASv5</th>\n",
       "    </tr>\n",
       "  </thead>\n",
       "  <tbody>\n",
       "    <tr>\n",
       "      <th>count</th>\n",
       "      <td>685.00000</td>\n",
       "      <td>1710.00000</td>\n",
       "    </tr>\n",
       "    <tr>\n",
       "      <th>storage</th>\n",
       "      <td>458.84998</td>\n",
       "      <td>637.89997</td>\n",
       "    </tr>\n",
       "  </tbody>\n",
       "</table>\n",
       "</div>"
      ],
      "text/plain": [
       "          GloFASv4    GloFASv5\n",
       "count    685.00000  1710.00000\n",
       "storage  458.84998   637.89997"
      ]
     },
     "execution_count": 79,
     "metadata": {},
     "output_type": "execute_result"
    }
   ],
   "source": [
    "reservoirs = {\n",
    "    'GloFASv4': reservoirs4,\n",
    "    'GloFASv5': reservoirs5\n",
    "}\n",
    "\n",
    "summary_res = pd.DataFrame(index=['count', 'storage'], columns=reservoirs.keys(), dtype=float)\n",
    "for name, gdf in reservoirs.items():\n",
    "    summary_res.loc['count', name] = len(gdf)\n",
    "    summary_res.loc['storage', name] = gdf.CAP_MCM.sum() * 1e-4\n",
    "    \n",
    "summary_res"
   ]
  },
  {
   "cell_type": "code",
   "execution_count": 110,
   "id": "24fcf4dd-bdde-4ed1-81e6-0a1f54674c61",
   "metadata": {},
   "outputs": [],
   "source": [
    "total_storage = 765 # 10 km3"
   ]
  },
  {
   "cell_type": "code",
   "execution_count": 120,
   "id": "b55bf833-4c08-44e8-826d-874b723df31f",
   "metadata": {},
   "outputs": [
    {
     "data": {
      "image/png": "[encoded data removed]",
      "text/plain": [
       "<Figure size 400x200 with 1 Axes>"
      ]
     },
     "metadata": {},
     "output_type": "display_data"
    }
   ],
   "source": [
    "fig, ax = plt.subplots(figsize=(4, 2))\n",
    "w = .7\n",
    "x = np.array([1, 3])\n",
    "ax.bar(x - w / 2, summary_res.GloFASv4, width=w, color='lightsteelblue', label='v4')\n",
    "ax.bar(x + w / 2, summary_res.GloFASv5, width=w, color='indianred', label='v5')\n",
    "ax.set_xticks(x)\n",
    "ax.set_xticklabels(['count\\n(-)', 'total storage\\n(10 km³)'])\n",
    "ax.tick_params(axis='x', length=0)\n",
    "yticks = np.linspace(0, 2000, 5)\n",
    "ax.set_yticks(yticks)\n",
    "ax.spines[['bottom', 'right', 'top']].set_visible(False)\n",
    "ax.set_title('reservoirs')\n",
    "for loc, col in zip([-1, 1], summary_res.columns):\n",
    "    pct_storage = summary_res[col].storage / total_storage * 100\n",
    "    ax.text(x[-1] + loc * w / 2, 200, f'{pct_storage:.0f}%', ha='center', va='center', c='w')\n",
    "fig.legend(frameon=False, loc=5, bbox_to_anchor=[.9, .4, .2, .2]);\n",
    "\n",
    "plt.savefig('reservoirs_GloFAS4_vs_GloFAS5.jpg', dpi=300, bbox_inches='tight');"
   ]
  },
  {
   "cell_type": "markdown",
   "id": "47a2e70b-fb20-4b03-974c-82273a858ab4",
   "metadata": {},
   "source": [
    "## Lakes\n",
    "### GloFAS4"
   ]
  },
  {
   "cell_type": "code",
   "execution_count": 71,
   "id": "d1f50185-d763-46b5-82dd-417b12dad2f1",
   "metadata": {},
   "outputs": [
    {
     "data": {
      "image/png": "[encoded data removed]",
      "text/plain": [
       "<Figure size 640x480 with 1 Axes>"
      ]
     },
     "metadata": {},
     "output_type": "display_data"
    }
   ],
   "source": [
    "lakes4 = gpd.read_file(PATH_GLOFAS4 / 'tables' / 'GloFAS4_lakes.shp').set_index('LAK_ID')\n",
    "\n",
    "lakes4.plot(markersize=1)\n",
    "plt.title('GloFAS4')\n",
    "plt.axis('off');"
   ]
  },
  {
   "cell_type": "markdown",
   "id": "2f500c87-d430-4e8e-acfc-743b6561a473",
   "metadata": {},
   "source": [
    "### GloFAS5"
   ]
  },
  {
   "cell_type": "code",
   "execution_count": 72,
   "id": "3c5b3e8d-7b64-4081-be8d-92e36fbb1a93",
   "metadata": {},
   "outputs": [
    {
     "data": {
      "image/png": "[encoded data removed]",
      "text/plain": [
       "<Figure size 640x480 with 1 Axes>"
      ]
     },
     "metadata": {},
     "output_type": "display_data"
    }
   ],
   "source": [
    "lakes5 = gpd.read_file(PATH_GLOFAS5 / 'lakes' / 'tables' / 'lakesGlofasV6.shp')#.set_index('id')\n",
    "\n",
    "lakes5.plot(markersize=1)\n",
    "plt.title('GloFAS5')\n",
    "plt.axis('off');"
   ]
  },
  {
   "cell_type": "markdown",
   "id": "259119ea-92bb-4737-a5e7-8a518d23fc6b",
   "metadata": {},
   "source": [
    "### Comparison"
   ]
  },
  {
   "cell_type": "code",
   "execution_count": 89,
   "id": "7400e693-7ea5-4375-962a-fd4df4810546",
   "metadata": {},
   "outputs": [
    {
     "data": {
      "text/html": [
       "<div>\n",
       "<style scoped>\n",
       "    .dataframe tbody tr th:only-of-type {\n",
       "        vertical-align: middle;\n",
       "    }\n",
       "\n",
       "    .dataframe tbody tr th {\n",
       "        vertical-align: top;\n",
       "    }\n",
       "\n",
       "    .dataframe thead th {\n",
       "        text-align: right;\n",
       "    }\n",
       "</style>\n",
       "<table border=\"1\" class=\"dataframe\">\n",
       "  <thead>\n",
       "    <tr style=\"text-align: right;\">\n",
       "      <th></th>\n",
       "      <th>GloFASv4</th>\n",
       "      <th>GloFASv5</th>\n",
       "    </tr>\n",
       "  </thead>\n",
       "  <tbody>\n",
       "    <tr>\n",
       "      <th>count</th>\n",
       "      <td>463.000</td>\n",
       "      <td>1009.00000</td>\n",
       "    </tr>\n",
       "    <tr>\n",
       "      <th>area</th>\n",
       "      <td>755.377</td>\n",
       "      <td>1299.75378</td>\n",
       "    </tr>\n",
       "  </tbody>\n",
       "</table>\n",
       "</div>"
      ],
      "text/plain": [
       "       GloFASv4    GloFASv5\n",
       "count   463.000  1009.00000\n",
       "area    755.377  1299.75378"
      ]
     },
     "execution_count": 89,
     "metadata": {},
     "output_type": "execute_result"
    }
   ],
   "source": [
    "lakes = {\n",
    "    'GloFASv4': lakes4,\n",
    "    'GloFASv5': lakes5\n",
    "}\n",
    "\n",
    "summary_lak = pd.DataFrame(index=['count', 'area'], columns=lakes.keys(), dtype=float)\n",
    "for name, gdf in lakes.items():\n",
    "    summary_lak.loc['count', name] = len(gdf)\n",
    "    summary_lak.loc['area', name] = gdf.AREA_SKM.sum() * 1e-3\n",
    "    \n",
    "summary_lak"
   ]
  },
  {
   "cell_type": "code",
   "execution_count": 122,
   "id": "bc8b6421-c662-40ee-a067-ad9607fe94d2",
   "metadata": {},
   "outputs": [
    {
     "data": {
      "image/png": "[encoded data removed]",
      "text/plain": [
       "<Figure size 400x200 with 1 Axes>"
      ]
     },
     "metadata": {},
     "output_type": "display_data"
    }
   ],
   "source": [
    "fig, ax = plt.subplots(figsize=(4, 2))\n",
    "w = .7\n",
    "x = np.array([1, 3])\n",
    "ax.bar(x - w / 2, summary_lak.GloFASv4, width=w, color='lightsteelblue', label='v4')\n",
    "ax.bar(x + w / 2, summary_lak.GloFASv5, width=w, color='indianred', label='v5')\n",
    "ax.set_xticks(x)\n",
    "ax.set_xticklabels(['count\\n(-)', 'total area\\n(10$^3$ km²)'])\n",
    "ax.tick_params(axis='x', length=0)\n",
    "yticks = np.linspace(0, 2000, 5)\n",
    "ax.set_yticks(yticks)\n",
    "ax.spines[['bottom', 'right', 'top']].set_visible(False)\n",
    "ax.set_title('lakes')\n",
    "fig.legend(frameon=False, loc=5, bbox_to_anchor=[.9, .4, .2, .2]);\n",
    "\n",
    "plt.savefig('lakes_GloFAS4_vs_GloFAS5.jpg', dpi=300, bbox_inches='tight');"
   ]
  },
  {
   "cell_type": "code",
   "execution_count": null,
   "id": "1e10b4d2-5c88-4aac-94ea-849d484bf57f",
   "metadata": {},
   "outputs": [],
   "source": []
  }
 ],
 "metadata": {
  "kernelspec": {
   "display_name": "Python 3 (ipykernel)",
   "language": "python",
   "name": "python3"
  },
  "language_info": {
   "codemirror_mode": {
    "name": "ipython",
    "version": 3
   },
   "file_extension": ".py",
   "mimetype": "text/x-python",
   "name": "python",
   "nbconvert_exporter": "python",
   "pygments_lexer": "ipython3",
   "version": "3.9.13"
  }
 },
 "nbformat": 4,
 "nbformat_minor": 5
}
