{
 "cells": [
  {
   "cell_type": "markdown",
   "id": "deef035b-e213-4fcd-b8e4-2c8662d64b96",
   "metadata": {
    "tags": []
   },
   "source": [
    "# Reservoirs tables - GloFAS5\n",
    "***\n",
    "\n",
    "**Author:** Chus Casado Rodríguez<br>\n",
    "**Date:** 28-03-2025<br>\n",
    "\n",
    "**Introduction:**<br>\n",
    "\n",
    "* [x] 100-year return period of inflow\n",
    "* [x] average inflow\n",
    "* [x] environmental flow\n",
    "* [x] storage capacity\n",
    "* [x] catchment area\n",
    "* [x] reservoir area: it would be necessary if we want to model the reservoir surface area\n",
    "* [ ] elevation crest: it would be necessary if we want to model the reservoir level\n",
    "* [ ] dam height: it would be necessary if we want to model the reservoir level"
   ]
  },
  {
   "cell_type": "code",
   "execution_count": 1,
   "id": "2077c8f3-cf29-4412-94a5-4c2a7e2de493",
   "metadata": {},
   "outputs": [],
   "source": [
    "import os\n",
    "os.environ['USE_PYGEOS'] = '0'\n",
    "import numpy as np\n",
    "import pandas as pd\n",
    "import xarray as xr\n",
    "import rioxarray as rxr\n",
    "import geopandas as gpd\n",
    "from shapely.geometry import Point\n",
    "import cartopy.feature as cfeature\n",
    "import cartopy.crs as ccrs\n",
    "from pathlib import Path\n",
    "from tqdm.auto import tqdm\n",
    "import matplotlib.pyplot as plt\n",
    "from scipy.stats import linregress\n",
    "import cartopy.crs as ccrs\n",
    "import cartopy.feature as cf\n",
    "from datetime import datetime\n",
    "\n",
    "import warnings\n",
    "warnings.simplefilter(action='ignore', category=FutureWarning)\n",
    "\n",
    "from lisfloodreservoirs.utils.plots import plot_reservoir_map, compare_attributes\n",
    "from lisfloodreservoirs.utils.ncextract import extract_timeseries\n",
    "from lisfloodreservoirs.utils.utils import return_period"
   ]
  },
  {
   "cell_type": "markdown",
   "id": "afd51623-ce6b-4822-b7e0-bacb481594a9",
   "metadata": {
    "tags": []
   },
   "source": [
    "## Configuration"
   ]
  },
  {
   "cell_type": "code",
   "execution_count": 2,
   "id": "9648123a-475b-4228-9db1-69756cd8097c",
   "metadata": {},
   "outputs": [],
   "source": [
    "# paths\n",
    "PATH_GLOFAS4 = Path('Z:/nahaUsers/casadje/GloFASv4')\n",
    "PATH_GLOFAS5 = Path('Z:/nahaUsers/casadje/GloFASv5')\n",
    "PATH_GDW = Path('Z:/nahaUsers/casadje/datasets/reservoirs/GDW/GDW_v1_0_shp')\n",
    "PATH_GRAND = Path('Z:/nahaUsers/casadje/datasets/reservoirs/GRanD/v1_3')\n",
    "PATH_GLWD = Path('Z:/nahaUsers/casadje/datasets/lakes/GLWD')\n",
    "PATH_ICOLD= Path('Z:/nahaUsers/casadje/datasets/reservoirs/ICOLD/2023')\n",
    "PATH_OUT = PATH_GLOFAS5 / 'reservoirs' / 'tables'\n",
    "\n",
    "# minimum storage capacity included in GloFAS\n",
    "MIN_VOLUME = 100 # hm³\n",
    "MIN_CATCHMENT = 500 # km²\n",
    "MIN_AREA = None # 50 # km2\n",
    "MIN_DOR = 0.08 #"
   ]
  },
  {
   "cell_type": "code",
   "execution_count": 3,
   "id": "c53b772e-3976-47ae-96e7-4a927b4cefb9",
   "metadata": {},
   "outputs": [],
   "source": [
    "PATH_PLOTS = PATH_OUT / 'plots'\n",
    "PATH_PLOTS.mkdir(parents=True, exist_ok=True)"
   ]
  },
  {
   "cell_type": "markdown",
   "id": "f689da47-a1e1-47a9-a527-f8ff42fa51b4",
   "metadata": {
    "tags": []
   },
   "source": [
    "## Data\n",
    "\n",
    "### GloFAS5"
   ]
  },
  {
   "cell_type": "code",
   "execution_count": 4,
   "id": "ca8477d9-e694-4357-b6d7-1804046e92ba",
   "metadata": {},
   "outputs": [
    {
     "name": "stdout",
     "output_type": "stream",
     "text": [
      "(1724, 6)\n"
     ]
    }
   ],
   "source": [
    "# import TXT of relocated reservoirs\n",
    "# glofas5 = pd.read_csv(PATH_GLOFAS5 / 'reservoirs' / 'tables' / 'reservoirGlofas_20241202.txt', sep='\\t')\n",
    "# glofas5 = pd.read_excel(PATH_GLOFAS5 / 'reservoirs' / 'tables' / 'reservoirs_glofas5.xlsx', sheet_name='20241202')\n",
    "glofas5 = gpd.read_file(PATH_GLOFAS5 / 'reservoirs' / 'tables' / 'ReservoirGlofas.shp')\n",
    "\n",
    "id_cols = ['RES_ID', 'LAK_ID', 'GRAND_ID', 'GLWD_ID']\n",
    "coord_cols = ['Xlisf', 'Ylisf']\n",
    "glofas5[id_cols + coord_cols] = glofas5[id_cols + coord_cols].replace(0, np.nan)\n",
    "glofas5[id_cols] = glofas5[id_cols].astype('Int64')\n",
    "\n",
    "# add international code from ICOLD\n",
    "map_icold = gpd.read_file(PATH_GLOFAS5 / 'reservoirs' / 'reservoirs_glofas5.shp')[['RES_ID', 'GRAND_ID', 'INT_CODE']]\n",
    "map_icold = map_icold[map_icold.INT_CODE.notnull()]\n",
    "map_res_icold = {res_id: icold_id for res_id, icold_id in zip(map_icold.RES_ID, map_icold.INT_CODE) if pd.notna(res_id)}\n",
    "map_grand_icold = {grand_id: icold_id for grand_id, icold_id in zip(map_icold.GRAND_ID, map_icold.INT_CODE) if pd.notna(grand_id)}\n",
    "glofas5['INT_CODE'] = glofas5.GRAND_ID.map(map_grand_icold)\n",
    "mask_icold = glofas5[glofas5.INT_CODE.isnull()].index\n",
    "glofas5.loc[mask_icold, 'INT_CODE'] = glofas5.loc[mask_icold, 'RES_ID'].map(map_res_icold)\n",
    "\n",
    "# # keep reservoirs relocated in the LISFLOOD grid\n",
    "# glofas5 = glofas5[glofas5.Xlisf.notnull() & glofas5.Ylisf.notnull()]\n",
    "\n",
    "# # convert to GeoPandas\n",
    "# glofas5 = gpd.GeoDataFrame(glofas5, geometry=[Point(xy) for xy in zip(glofas5.Xlisf, glofas5.Ylisf)], crs='epsg:4326')\n",
    "\n",
    "# assing ID in descending order of storage capacity\n",
    "glofas5.sort_values('CAP_MCM', ascending=False, inplace=True)\n",
    "glofas5.reset_index(drop=True, inplace=True)\n",
    "glofas5.index.name = 'ID'\n",
    "glofas5.drop('FID_1', axis=1, errors='ignore', inplace=True)\n",
    "glofas5 = glofas5[['RES_ID', 'LAK_ID', 'GRAND_ID', 'GLWD_ID', 'INT_CODE', 'geometry']]\n",
    "\n",
    "print(glofas5.shape)"
   ]
  },
  {
   "cell_type": "code",
   "execution_count": 5,
   "id": "6197ddc6-17ac-4361-b746-df9a3362326a",
   "metadata": {},
   "outputs": [],
   "source": [
    "# points of interest used to extract values from maps (coordinates from GloFAS5)\n",
    "poi_5 = pd.concat((glofas5.geometry.x, glofas5.geometry.y), axis=1)\n",
    "poi_5.columns = ['x', 'y']\n",
    "poi_5 = poi_5.to_xarray()"
   ]
  },
  {
   "cell_type": "markdown",
   "id": "9e322785-d877-4a5b-8039-8cb64f23bac0",
   "metadata": {},
   "source": [
    "### GloFAS4\n",
    "\n",
    "#### Reservoirs"
   ]
  },
  {
   "cell_type": "code",
   "execution_count": 6,
   "id": "aa422e0c-57eb-490c-bd64-c9a43db5c16d",
   "metadata": {},
   "outputs": [
    {
     "name": "stdout",
     "output_type": "stream",
     "text": [
      "(675, 34)\n"
     ]
    }
   ],
   "source": [
    "# load shapefile\n",
    "glofas4 = gpd.read_file(PATH_GLOFAS4 / 'tables' / 'GloFAS_reservoirs.shp')\n",
    "\n",
    "# assign ID\n",
    "map_ID = {ResID: ID for ID, ResID in zip(glofas5.index, glofas5.RES_ID) if not pd.isna(ResID)}\n",
    "glofas4['ID'] = glofas4.ResID.map(map_ID).astype('Int64')\n",
    "\n",
    "# keep reservoirs in GloFAS4 also in GloFAS5\n",
    "glofas4.dropna(subset=['ID'], inplace=True)\n",
    "glofas4.set_index('ID', drop=False, inplace=True)\n",
    "\n",
    "print(glofas4.shape)"
   ]
  },
  {
   "cell_type": "code",
   "execution_count": 7,
   "id": "f2687556-bfe6-443e-9960-776810ed8cbc",
   "metadata": {},
   "outputs": [
    {
     "data": {
      "application/vnd.jupyter.widget-view+json": {
       "model_id": "c47364f5ae7a4b82b1c141e9843be954",
       "version_major": 2,
       "version_minor": 0
      },
      "text/plain": [
       "  0%|          | 0/1724 [00:00<?, ?it/s]"
      ]
     },
     "metadata": {},
     "output_type": "display_data"
    }
   ],
   "source": [
    "# points of interest used to extract values from maps (coordinates from GloFAS5 or GloFAS4)\n",
    "poi_4 = pd.DataFrame(index=glofas5.index, columns=['x', 'y'], dtype=float)\n",
    "for ID in tqdm(glofas5.index):\n",
    "    if pd.notna(glofas5.loc[ID, 'RES_ID']):\n",
    "        lat, lon = glofas4.loc[ID].geometry.y, glofas4.loc[ID].geometry.x\n",
    "    else:\n",
    "        lat, lon = glofas5.loc[ID].geometry.y, glofas5.loc[ID].geometry.x\n",
    "    poi_4.loc[ID, :] = lon, lat\n",
    "poi_4.index.name = 'id'\n",
    "poi_4 = poi_4.to_xarray()"
   ]
  },
  {
   "cell_type": "markdown",
   "id": "b7a3d6bc-ee82-4e53-bc85-dcd8ab4f5868",
   "metadata": {},
   "source": [
    "#### Static maps"
   ]
  },
  {
   "cell_type": "code",
   "execution_count": 8,
   "id": "204cacbf-f830-46b9-b9ab-05aef698d11d",
   "metadata": {
    "tags": []
   },
   "outputs": [],
   "source": [
    "# load the upstream area map\n",
    "uparea = rxr.open_rasterio(PATH_GLOFAS4 / 'static_maps' / 'upArea_repaired.nc').squeeze(dim='band')\n",
    "# uparea = uparea.where(uparea != -999999, np.nan)\n",
    "uparea = uparea.where(uparea >= 0, np.nan)\n",
    "uparea /= 1e6 # km2\n",
    "\n",
    "# local drai\n",
    "ldd = rxr.open_rasterio(PATH_GLOFAS4 / 'static_maps' / 'ldd_repaired.nc').squeeze(dim='band')"
   ]
  },
  {
   "cell_type": "markdown",
   "id": "79977228-e241-41be-a526-83c6a9f33ed3",
   "metadata": {},
   "source": [
    "#### Long-term run\n",
    "\n",
    "First, I create the CSV required by the tool `ncextract` to extract the discharge time series from the GloFAS4 long-term-run. I will use the function `upstream_pixel` to find the coordinates of the pixel upstream for those reservoirs already in GloFAS4, so the time series represents inflow, instead of outflow."
   ]
  },
  {
   "cell_type": "code",
   "execution_count": null,
   "id": "e3f2a3b3-1aeb-4f3d-8406-1b7ccc5888b0",
   "metadata": {
    "tags": []
   },
   "outputs": [],
   "source": [
    "# dataframe of coordinates of the upstream pixel (only moved in present in GloFAS4)\n",
    "coords = pd.DataFrame(index=glofas5.index, columns=['longitude', 'latitude'], dtype=float)\n",
    "for ID in tqdm(glofas5.index):\n",
    "    if pd.notna(glofas5.loc[ID, 'RES_ID']):\n",
    "        lat, lon = glofas4.loc[ID].geometry.y, glofas4.loc[ID].geometry.x\n",
    "    else:\n",
    "        lat, lon = glofas5.loc[ID].geometry.y, glofas5.loc[ID].geometry.x\n",
    "    coords.loc[ID, :] = lon, lat"
   ]
  },
  {
   "cell_type": "code",
   "execution_count": null,
   "id": "2b55f86b-6943-420f-a767-1ff96804b9e2",
   "metadata": {},
   "outputs": [],
   "source": [
    "# export input CSV for `ncextract`\n",
    "path = PATH_GLOFAS5 / 'reservoirs' / 'ancillary' / 'ncextract'\n",
    "coords.to_csv(path / 'reservoirs_glofas5_{0}.csv'.format(datetime.now().strftime('%Y%m%d')), float_format='%.3f')\n",
    "# step = 100\n",
    "# for i, (ID_0, ID_1) in enumerate(zip(csv.index[::step], csv.index[step-1::step]), start=1):\n",
    "#     print(ID_0, ID_1)\n",
    "#     coords.loc[ID_0:ID_1].to_csv(PATH_GLOFAS5 / 'reservoirs' / 'ancillary' / 'ncextract' / f'reservoirs_{i}.csv', float_format='%.3f')"
   ]
  },
  {
   "cell_type": "code",
   "execution_count": null,
   "id": "b245e13a-3ecd-4239-8d98-4469fb63bde2",
   "metadata": {},
   "outputs": [],
   "source": [
    "coords[glofas5.RES_ID.notnull()].to_csv(path / 'reservoirs_glofas4_{0}.csv'.format(datetime.now().strftime('%Y%m%d')), float_format='%.3f')"
   ]
  },
  {
   "cell_type": "markdown",
   "id": "a835bedb-9873-44ed-9d65-afb710e0cb96",
   "metadata": {},
   "source": [
    "Maps of average discharges and 100-year return period of discharge from the GloFAS4 long-term-run."
   ]
  },
  {
   "cell_type": "code",
   "execution_count": null,
   "id": "335ac2f4-aa49-42b7-86b0-1c0c78150223",
   "metadata": {},
   "outputs": [],
   "source": [
    "# map of average discharge\n",
    "dis_avg_ltr = rxr.open_rasterio(PATH_GLOFAS4 / 'long_run' / 'dis' / 'thresholds' / 'disavg_1979_2023.nc').squeeze(dim='time')\n",
    "dis_avg_ltr.close()\n",
    "\n",
    "# map of 100-year discharge\n",
    "dis_100_ltr = rxr.open_rasterio(PATH_GLOFAS4 / 'long_run' / 'dis' / 'thresholds' / 'flood_threshold_glofas_v4_rl_100.0.nc').squeeze(dim='band')"
   ]
  },
  {
   "cell_type": "markdown",
   "id": "bcf2fda1-c5f6-4833-9325-b6a4da4b75cd",
   "metadata": {},
   "source": [
    "Time series of discharge flowing into the reservoirs in the GloFAS4 long-term-run. These time series were extracted using `ncextract` with the `upstream` points created above."
   ]
  },
  {
   "cell_type": "code",
   "execution_count": null,
   "id": "54d764d8-8cee-4ba0-9b57-6f0ad66d4041",
   "metadata": {},
   "outputs": [],
   "source": [
    "# inflow time series from GloFAS4 long-term run in the reservoirs\n",
    "inflow_ltr = xr.open_mfdataset((PATH_GLOFAS5 / 'reservoirs' / 'ancillary' / 'ncextract' / 'dis24' / 'inflow').glob('*.nc'), chunks='auto')['dis24']\n",
    "inflow_ltr = inflow_ltr.drop_vars('surface', errors='ignore')\n",
    "inflow_ltr = inflow_ltr.rename({'valid_time': 'time', 'id': 'ID', 'longitude': 'lon', 'latitude': 'lat'})"
   ]
  },
  {
   "cell_type": "code",
   "execution_count": null,
   "id": "18302946-dd1f-4628-b20f-6675567c038a",
   "metadata": {},
   "outputs": [],
   "source": [
    "# outflow time series from GloFAS4 long-term run in the reservoirs\n",
    "outflow_ltr = xr.open_mfdataset((PATH_GLOFAS5 / 'reservoirs' / 'ancillary' / 'ncextract' / 'dis24' / 'outflow').glob('*.nc'), chunks='auto')['dis24']\n",
    "outflow_ltr = outflow_ltr.drop_vars('surface', errors='ignore')\n",
    "outflow_ltr = outflow_ltr.rename({'valid_time': 'time', 'id': 'ID', 'longitude': 'lon', 'latitude': 'lat'})"
   ]
  },
  {
   "cell_type": "markdown",
   "id": "282ec57a-4c9f-4707-bc73-707375f8b7e4",
   "metadata": {},
   "source": [
    "***"
   ]
  },
  {
   "cell_type": "code",
   "execution_count": null,
   "id": "0f6946b3-b7a7-4fc7-a5f9-1c819b783a23",
   "metadata": {},
   "outputs": [],
   "source": [
    "path_ncextract = PATH_GLOFAS5 / 'reservoirs' / 'ancillary' / 'ncextract'"
   ]
  },
  {
   "cell_type": "code",
   "execution_count": null,
   "id": "a164a26b-8f44-43ab-bbdc-3300dfdfbf6f",
   "metadata": {},
   "outputs": [],
   "source": [
    "points = pd.read_csv(path_ncextract / 'reservoirs_20250226.csv')\n",
    "\n",
    "points.shape"
   ]
  },
  {
   "cell_type": "code",
   "execution_count": null,
   "id": "a83fa842-7b92-4e28-9a0e-5e9d890f1067",
   "metadata": {},
   "outputs": [],
   "source": [
    "inflow_ltr"
   ]
  },
  {
   "cell_type": "code",
   "execution_count": null,
   "id": "de4e3f39-8142-444b-bbc2-bae0d912124d",
   "metadata": {},
   "outputs": [],
   "source": [
    "glofas5.shape"
   ]
  },
  {
   "cell_type": "code",
   "execution_count": null,
   "id": "1ca9673d-71ad-4571-ab2f-d0a9e4f21bfe",
   "metadata": {},
   "outputs": [],
   "source": [
    "len(glofas5.index.intersection(points.index))"
   ]
  },
  {
   "cell_type": "code",
   "execution_count": null,
   "id": "9fb83a97-d718-4751-a3d5-938abb96fe8d",
   "metadata": {},
   "outputs": [],
   "source": [
    "glofas5.head()"
   ]
  },
  {
   "cell_type": "code",
   "execution_count": null,
   "id": "696ec03a-54eb-41b5-9f28-99523f003765",
   "metadata": {},
   "outputs": [],
   "source": [
    "glofas5.GDW_ID.notnull().sum()"
   ]
  },
  {
   "cell_type": "code",
   "execution_count": null,
   "id": "512fd72c-6b67-4290-a4db-389f026ff80b",
   "metadata": {},
   "outputs": [],
   "source": [
    "# path = PATH_GLOFAS5 / 'reservoirs' / 'ancillary' / 'catchstats' / 'tp'\n",
    "# for input_file in (path / 'ID').glob('*.nc'):\n",
    "#     ID = int(input_file.stem)\n",
    "#     if ID in map_id_gdw:\n",
    "#         GDW_ID = map_id_gdw[ID]\n",
    "#         output_file = input_file.parent.parent / 'GDW_ID' / f'{GDW_ID}.nc'\n",
    "#         if output_file.is_file():\n",
    "#             continue\n",
    "#         ds = xr.open_dataset(input_file)\n",
    "#         ds.close()\n",
    "#         # ds = ds.rename({'id': 'GDW_ID'})\n",
    "#         ds['id'] = [GDW_ID]\n",
    "#         ds.to_netcdf(output_file)"
   ]
  },
  {
   "cell_type": "code",
   "execution_count": null,
   "id": "5eeb1585-f609-41c2-9ca8-629249b176f8",
   "metadata": {},
   "outputs": [],
   "source": [
    "for input_file in (path_ncextract / 'dis24' / 'outflow').glob('*.nc'):\n",
    "    ID = int(input_file.stem)\n",
    "    gdw_id = glofas5.loc[ID, 'GDW_ID']\n",
    "    if not pd.isnull(gdw_id):\n",
    "        output_file = input_file.parent / 'GDW_ID' / f'{gdw_id}.nc'\n",
    "        if output_file.is_file():\n",
    "            continue\n",
    "        ds = xr.open_dataset(input_file)\n",
    "        ds.close()\n",
    "        # ds = ds.rename({'id': 'GDW_ID'})\n",
    "        ds['id'] = [gdw_id]\n",
    "        ds.to_netcdf(output_file)"
   ]
  },
  {
   "cell_type": "code",
   "execution_count": null,
   "id": "3fabe35e-9891-42be-bd03-6f3257f0d178",
   "metadata": {},
   "outputs": [],
   "source": [
    "ID = glofas5.loc[glofas5.RES_ID == 40].index.item()\n",
    "gdw_id = glofas5.loc[ID, 'GWD_ID']\n"
   ]
  },
  {
   "cell_type": "code",
   "execution_count": null,
   "id": "230541bf-ae36-4f0e-81e6-488bc95ffbcf",
   "metadata": {},
   "outputs": [],
   "source": [
    "ds"
   ]
  },
  {
   "cell_type": "code",
   "execution_count": null,
   "id": "a5687f0a-abe5-4edf-be72-9b9f04c5a67d",
   "metadata": {},
   "outputs": [],
   "source": [
    "# inflow time series from GloFAS4 long-term run in the reservoirs\n",
    "inflow_ltr = xr.open_mfdataset(( / 'dis24' / 'inflow').glob('*.nc'), chunks='auto')['dis24']\n",
    "inflow_ltr = inflow_ltr.drop_vars('surface', errors='ignore')\n",
    "inflow_ltr = inflow_ltr.rename({'valid_time': 'time', 'id': 'ID', 'longitude': 'lon', 'latitude': 'lat'})"
   ]
  },
  {
   "cell_type": "code",
   "execution_count": null,
   "id": "48db589a-4712-4a82-9947-8d5b8d366a95",
   "metadata": {},
   "outputs": [],
   "source": []
  },
  {
   "cell_type": "code",
   "execution_count": null,
   "id": "9d91fbb5-db1d-4caf-86b3-607590303f7b",
   "metadata": {},
   "outputs": [],
   "source": []
  },
  {
   "cell_type": "markdown",
   "id": "1e261295-117d-4a82-b11e-bbdd4477d090",
   "metadata": {},
   "source": [
    "***"
   ]
  },
  {
   "cell_type": "markdown",
   "id": "c54d72e1-f1e7-4bbc-accc-bae90bd59789",
   "metadata": {},
   "source": [
    "### GDW"
   ]
  },
  {
   "cell_type": "code",
   "execution_count": null,
   "id": "4637caec-22d2-4f06-a1a2-8dba509a56b9",
   "metadata": {},
   "outputs": [],
   "source": [
    "# load Global Dam Watch\n",
    "gdw = gpd.read_file(PATH_GDW / 'GDW_barriers_v1_0.shp').set_index('GDW_ID')\n",
    "gdw['GRAND_ID'] = gdw['GRAND_ID'].replace(0, np.nan).astype('Int64')\n",
    "\n",
    "# map IDs in GRanD and GDW\n",
    "map_grand_gdw = {}\n",
    "for grand_id in glofas5.GRAND_ID:\n",
    "    mask = gdw.GRAND_ID == grand_id\n",
    "    if mask.sum() > 0:\n",
    "        map_grand_gdw[grand_id] = gdw[mask].index.item()\n",
    "\n",
    "# add the GDW_ID to glofas5\n",
    "glofas5['GDW_ID'] = glofas5.GRAND_ID.map(map_grand_gdw)\n",
    "glofas5['GDW_ID'] = glofas5['GDW_ID'].astype('Int64')\n",
    "\n",
    "# map IDs in GloFAS4 and GDW\n",
    "map_res_gdw = {\n",
    "    40: 99999, # made up, not in GDW\n",
    "    47: 28076,\n",
    "    60: 28009,\n",
    "    72: 28015,\n",
    "    86: 28125,\n",
    "    112: 27427,\n",
    "    130: 27996,\n",
    "    150: 28090,\n",
    "    263: 7777,\n",
    "    367: 39019,\n",
    "    424: 38808,\n",
    "    439: 28079,\n",
    "    488: 27992,\n",
    "}\n",
    "mask = glofas5.GDW_ID.isnull()\n",
    "glofas5.loc[mask, 'GDW_ID'] = glofas5.loc[mask, 'RES_ID'].map(map_res_gdw)\n",
    "\n",
    "# # export\n",
    "# glofas5.to_file(PATH_GLOFAS5 / 'reservoirs' / 'tables' / 'ReservoirGlofas+GDW.shp')"
   ]
  },
  {
   "cell_type": "code",
   "execution_count": null,
   "id": "0e414b33-6e17-4adf-b67c-94a6eaf62af5",
   "metadata": {},
   "outputs": [],
   "source": [
    "glofas5.head()"
   ]
  },
  {
   "cell_type": "markdown",
   "id": "7f64d210-335f-47c0-a5ea-bcef2d26c3eb",
   "metadata": {},
   "source": [
    "### GRanD"
   ]
  },
  {
   "cell_type": "code",
   "execution_count": null,
   "id": "35641b4d-0ea5-4fab-af9a-ba5dc0c8a31c",
   "metadata": {},
   "outputs": [],
   "source": [
    "# load raw dataset\n",
    "grand = gpd.read_file(PATH_GRAND / 'GRanD_dams_v1_3.shp')\n",
    "grand.replace({-99: np.nan}, inplace=True)\n",
    "\n",
    "# connection between GRanD and ID\n",
    "map_grand_ID = {grand_id: ID for ID, grand_id in zip(glofas5.index, glofas5.GRAND_ID) if not pd.isna(grand_id)}\n",
    "grand['ID'] = grand.GRAND_ID.map(map_grand_ID).astype('Int64')\n",
    "grand = grand[grand.ID.notnull()]\n",
    "grand.set_index('ID', drop=True, inplace=True)\n",
    "\n",
    "print(grand.shape)"
   ]
  },
  {
   "cell_type": "markdown",
   "id": "c9d610db-7df0-4fa4-acc9-b83ca8480255",
   "metadata": {},
   "source": [
    "### GLWD"
   ]
  },
  {
   "cell_type": "code",
   "execution_count": null,
   "id": "a17d4d57-fa97-448b-b1ac-dc37955b2fff",
   "metadata": {},
   "outputs": [],
   "source": [
    "# level 1\n",
    "glwd1 = gpd.read_file(PATH_GLWD / 'level1' / 'glwd_1.shp')#.set_index('GLWD_ID', drop=True)\n",
    "glwd1 = glwd1[glwd1.GLWD_ID.isin(glofas5.GLWD_ID)]\n",
    "\n",
    "# level 2\n",
    "glwd2 = gpd.read_file(PATH_GLWD / 'level2' / 'glwd_2.shp')#.set_index('GLWD_ID', drop=True)\n",
    "glwd2 = glwd2[glwd2.GLWD_ID.isin(glofas5.GLWD_ID)]\n",
    "\n",
    "# concatenate\n",
    "glwd = pd.concat((glwd1, glwd2), axis=0)\n",
    "\n",
    "if not glwd.shape[0] == glofas5.GLWD_ID.nunique():\n",
    "    print('The number of lakes in \"glwd\" does not match the number of lakes in \"glofas5\" with assigned GLWD_ID')\n",
    "\n",
    "# connection between GLWD and ID\n",
    "map_glwd_ID = {glwd_id: ID for ID, glwd_id in glofas5.GLWD_ID.items() if not pd.isna(glwd_id)}\n",
    "glwd['ID'] = glwd.GLWD_ID.map(map_glwd_ID).astype('Int64')\n",
    "glwd = glwd[glwd.ID.notnull()]\n",
    "glwd.set_index('ID', drop=True, inplace=True)\n",
    "\n",
    "print(glwd.shape)"
   ]
  },
  {
   "cell_type": "markdown",
   "id": "df31a7b1-f5bc-4aec-9556-6a09270e853d",
   "metadata": {},
   "source": [
    "### ICOLD"
   ]
  },
  {
   "cell_type": "code",
   "execution_count": null,
   "id": "c4a72892-754c-4470-929c-ae77a7bd47df",
   "metadata": {},
   "outputs": [],
   "source": [
    "# load ICOLD dataset\n",
    "icold = gpd.read_file(PATH_ICOLD / 'ICOLD_global.shp')\n",
    "\n",
    "# connection between ICOLD and ID\n",
    "map_icold_ID = {icold_id: ID for ID, icold_id in glofas5.INT_CODE.items() if pd.notna(icold_id)}\n",
    "icold['ID'] = icold.Int_Code.map(map_icold_ID).astype('Int64')\n",
    "icold = icold[icold.ID.notnull()]\n",
    "icold.set_index('ID', drop=True, inplace=True)\n",
    "\n",
    "print(icold.shape)"
   ]
  },
  {
   "cell_type": "markdown",
   "id": "4f7b4446-a62f-4d64-bc7b-edaf8c06c816",
   "metadata": {},
   "source": [
    "## Attributes"
   ]
  },
  {
   "cell_type": "markdown",
   "id": "070dc415-0caf-4cc3-a77b-8b080840b56d",
   "metadata": {},
   "source": [
    "### Capacity"
   ]
  },
  {
   "cell_type": "code",
   "execution_count": null,
   "id": "b01f3e18-ef52-430a-b1a4-4f0b34ee3132",
   "metadata": {},
   "outputs": [],
   "source": [
    "capacity = pd.DataFrame(index=glofas5.index, columns=['GLOFAS4', 'GRAND', 'GLWD', 'ICOLD', 'GLOFAS5', 'SOURCE'], dtype=float)\n",
    "capacity.SOURCE = capacity.SOURCE.astype(str)\n",
    "\n",
    "# GLOFAS4\n",
    "capacity.loc[glofas4.index, 'GLOFAS4'] = glofas4.stor\n",
    "\n",
    "# GRanD\n",
    "capacity.loc[grand.index, 'GRAND'] = grand.CAP_MCM\n",
    "\n",
    "# GLWD\n",
    "capacity.loc[glwd.index, 'GLWD'] = glwd.VOLUME_CKM * 1e3\n",
    "\n",
    "# ICOLD\n",
    "capacity.loc[icold.index, 'ICOLD'] = icold.Res_Vol.values * 1e-3"
   ]
  },
  {
   "cell_type": "markdown",
   "id": "6cb9f8e7-ac1a-4226-950a-5a59efe1a95d",
   "metadata": {},
   "source": [
    "#### Comparison"
   ]
  },
  {
   "cell_type": "code",
   "execution_count": null,
   "id": "c46d5296-d4f0-4fd4-8ce2-ca5e7dbb3ada",
   "metadata": {},
   "outputs": [],
   "source": [
    "compare_attributes(\n",
    "    capacity[['GLOFAS4', 'ICOLD', 'GLWD', 'GRAND']],\n",
    "    thr=MIN_VOLUME,\n",
    "    vmin=1e-1,\n",
    "    vmax=1e6,\n",
    "    title='storage (hm3)',\n",
    "    scale='log',\n",
    ")\n",
    "plt.savefig(PATH_OUT / 'plots' / 'storage_pairplot.jpg', dpi=300, bbox_inches='tight')"
   ]
  },
  {
   "cell_type": "markdown",
   "id": "6df2c2cc-ebdb-465d-9db2-d8841bc272bc",
   "metadata": {},
   "source": [
    "The values in GLWD and GloFAS4 are identical. However, GRanD values are often different; in some cases, the difference is one order of magnitude. I've checked some of the largest differences and, in all but one case, GRanD was the correct source."
   ]
  },
  {
   "cell_type": "code",
   "execution_count": null,
   "id": "642f0893-ea5c-402e-ae2f-d27720d0905a",
   "metadata": {
    "tags": []
   },
   "outputs": [],
   "source": [
    "error = 2\n",
    "mask_error = (capacity.GRAND < capacity.GLOFAS4 / error) | (capacity.GRAND > error * capacity.GLOFAS4)\n",
    "print(mask_error.sum())\n",
    "pd.concat((glofas5.loc[mask_error], capacity[mask_error]), axis=1)"
   ]
  },
  {
   "cell_type": "markdown",
   "id": "44ad8400-a711-499a-b5cc-cfc7577d9935",
   "metadata": {},
   "source": [
    "#### Select values\n",
    "\n",
    "I have manually checked the large discrepancies between GLOFAS4 and GRanD. In case of discrepancy, I compare with ICOLD and HydroLakes. It seems like GRanD is a more reliable source, so I will use the value from GRanD whenever possible, if not the value from GLOFAS4."
   ]
  },
  {
   "cell_type": "code",
   "execution_count": null,
   "id": "0feeea0f-741a-4c77-9547-d2f66318a21e",
   "metadata": {},
   "outputs": [],
   "source": [
    "# select value from GRAND, GLOFAS4, HYLAK or ICOLD in that order\n",
    "for source in ['GRAND', 'GLWD', 'ICOLD']:\n",
    "    missing = capacity.GLOFAS5.isnull()\n",
    "    mask = capacity[source].notnull()\n",
    "    capacity.loc[missing & mask, 'GLOFAS5'] = capacity.loc[missing & mask, source]\n",
    "    capacity.loc[missing & mask, 'SOURCE'] = source"
   ]
  },
  {
   "cell_type": "code",
   "execution_count": null,
   "id": "c58b6bfb-d27e-423a-a016-80e1400b28d6",
   "metadata": {},
   "outputs": [],
   "source": [
    "capacity.GLOFAS5.isnull().sum(), capacity.SOURCE.value_counts()"
   ]
  },
  {
   "cell_type": "code",
   "execution_count": null,
   "id": "5c9cd2fd-9a87-4207-83a1-c4d7f8bfb166",
   "metadata": {},
   "outputs": [],
   "source": [
    "fig, ax = plt.subplots(figsize=(20, 5), subplot_kw=dict(projection=ccrs.PlateCarree()))\n",
    "ax.add_feature(cfeature.NaturalEarthFeature('physical', 'land', '10m', edgecolor='face', facecolor='lightgray'), alpha=.5, zorder=0)\n",
    "sct = ax.scatter(\n",
    "    glofas5.geometry.x,\n",
    "    glofas5.geometry.y,\n",
    "    c=np.log10(capacity.GLOFAS5),\n",
    "    cmap='viridis',\n",
    "    s=5,\n",
    "    vmin=np.log10(MIN_VOLUME),\n",
    "    # vmax=2.5\n",
    ")\n",
    "cbar = plt.colorbar(sct, shrink=.5, label='storage (hm3)')\n",
    "ticks = [2, 3, 4, 5]\n",
    "cbar.set_ticks(ticks)\n",
    "cbar.set_ticklabels([10**x for x in ticks])\n",
    "plt.axis('off');\n",
    "plt.savefig(PATH_OUT / 'plots' / 'storage_map.jpg', dpi=300, bbox_inches='tight')\n",
    "\n",
    "# add values to GLOFAS5\n",
    "glofas5.loc[capacity.index, ['CAP_MCM', 'CAP_SRC']] = capacity[['GLOFAS5', 'SOURCE']].values\n",
    "\n",
    "print('{0} reservoirs do not comply with the minimum storage of {1} hm3'.format((glofas5.CAP_MCM < MIN_VOLUME).sum(),\n",
    "                                                                                MIN_VOLUME))"
   ]
  },
  {
   "cell_type": "markdown",
   "id": "4edda088-9224-4d27-8962-27a2196df534",
   "metadata": {},
   "source": [
    "### Catchment area"
   ]
  },
  {
   "cell_type": "code",
   "execution_count": null,
   "id": "8ac4bed5-dc1f-486f-8775-07bb29795ba7",
   "metadata": {},
   "outputs": [],
   "source": [
    "catchment = pd.DataFrame(index=glofas5.index, columns=['UPAREA', 'GRAND', 'GLWD', 'ICOLD', 'GLOFAS5', 'SOURCE'], dtype='float')\n",
    "catchment.SOURCE = catchment.SOURCE.astype(str)\n",
    "\n",
    "# upstream area map\n",
    "catchment.loc[poi_5['ID'], 'UPAREA'] = np.round(uparea.sel({'x': poi_5['x'], 'y': poi_5['y']}, method='nearest').to_pandas(), 0)\n",
    "\n",
    "# GRanD\n",
    "catchment.loc[grand.index, 'GRAND'] = grand.CATCH_SKM\n",
    "\n",
    "# GLWD\n",
    "catchment.loc[glwd.index, 'GLWD'] = glwd.CATCH_TSKM * 1e3\n",
    "\n",
    "# ICOLD\n",
    "catchment.loc[icold.index, 'ICOLD'] = icold.Catch_Area.values"
   ]
  },
  {
   "cell_type": "markdown",
   "id": "f6d695b4-c483-495f-994e-932a1c3f15bc",
   "metadata": {},
   "source": [
    "#### Comparison"
   ]
  },
  {
   "cell_type": "code",
   "execution_count": null,
   "id": "46bf41ea-cbe6-447e-b5a9-fc3b7b6638af",
   "metadata": {},
   "outputs": [],
   "source": [
    "compare_attributes(\n",
    "    catchment[['UPAREA', 'ICOLD', 'GLWD', 'GRAND']],\n",
    "    thr=MIN_CATCHMENT,\n",
    "    vmin=1,\n",
    "    vmax=1e7,\n",
    "    title='catchment (km²)'\n",
    ")\n",
    "plt.savefig(PATH_OUT / 'plots' / 'catchment_pairplot.jpg', dpi=300, bbox_inches='tight')"
   ]
  },
  {
   "cell_type": "code",
   "execution_count": null,
   "id": "f3b54aec-0f2b-49a0-93e2-b2dc4f7105ae",
   "metadata": {},
   "outputs": [],
   "source": [
    "error = 1.5\n",
    "mask_error = (catchment.GRAND < catchment.UPAREA / error) | (catchment.GRAND > error * catchment.UPAREA)\n",
    "print(mask_error.sum())\n",
    "pd.concat((glofas5[mask_error], catchment[mask_error]), axis=1)"
   ]
  },
  {
   "cell_type": "code",
   "execution_count": null,
   "id": "cdaba492-070c-4230-94af-9fa9284f6f98",
   "metadata": {},
   "outputs": [],
   "source": [
    "foo = pd.concat(\n",
    "    (glofas5[mask_error][['RES_ID', 'LAK_ID', 'GRAND_ID', 'GLWD_ID', 'INT_CODE', 'geometry']],\n",
    "     np.round(catchment[mask_error][['UPAREA', 'GRAND', 'GLWD', 'ICOLD']], 0)),\n",
    "    axis=1\n",
    ").sort_values('GRAND_ID')"
   ]
  },
  {
   "cell_type": "code",
   "execution_count": null,
   "id": "b55723a8-07d3-41c7-803c-07c3c3cfad5f",
   "metadata": {},
   "outputs": [],
   "source": [
    "foo"
   ]
  },
  {
   "cell_type": "code",
   "execution_count": null,
   "id": "29b6ca6d-7301-4dd1-afb6-b5cc493de170",
   "metadata": {},
   "outputs": [],
   "source": [
    "# foo.to_file(PATH_OUT / 'errors_area.shp')"
   ]
  },
  {
   "cell_type": "markdown",
   "id": "0927a49c-4af5-4634-bbb8-bdfeb5cff99c",
   "metadata": {},
   "source": [
    "#### Select values\n",
    "\n",
    "Following the procedure applied for the storage capacity, I will use the GRanD value when available."
   ]
  },
  {
   "cell_type": "code",
   "execution_count": null,
   "id": "a71ec4c5-3201-468d-a1a5-8fb20a1f14aa",
   "metadata": {},
   "outputs": [],
   "source": [
    "# select value from GRAND, GLOFAS4, HYLAK or ICOLD in that order\n",
    "for source in ['GRAND', 'GLWD', 'ICOLD', 'UPAREA']:\n",
    "    missing = catchment.GLOFAS5.isnull()\n",
    "    mask = catchment[source].notnull()\n",
    "    catchment.loc[missing & mask, 'GLOFAS5'] = catchment.loc[missing & mask, source]\n",
    "    catchment.loc[missing & mask, 'SOURCE'] = source"
   ]
  },
  {
   "cell_type": "code",
   "execution_count": null,
   "id": "8db0a75e-0e74-4f9b-b3f6-5a950c7b13fa",
   "metadata": {},
   "outputs": [],
   "source": [
    "catchment.GLOFAS5.isnull().sum(), catchment.SOURCE.value_counts()"
   ]
  },
  {
   "cell_type": "code",
   "execution_count": null,
   "id": "1779bc2d-ee4d-4b55-818c-fbc105cc615a",
   "metadata": {},
   "outputs": [],
   "source": [
    "fig, ax = plt.subplots(figsize=(20, 5), subplot_kw=dict(projection=ccrs.PlateCarree()))\n",
    "ax.add_feature(cfeature.NaturalEarthFeature('physical', 'land', '10m', edgecolor='face', facecolor='lightgray'), alpha=.5, zorder=0)\n",
    "sct = ax.scatter(\n",
    "    glofas5.geometry.x,\n",
    "    glofas5.geometry.y,\n",
    "    c=np.log10(catchment.GLOFAS5),\n",
    "    cmap='viridis_r',\n",
    "    s=5,\n",
    "    vmin=np.log10(MIN_CATCHMENT),\n",
    "    # vmax=2.5\n",
    ")\n",
    "cbar = plt.colorbar(sct, shrink=.5, label='catchment (km2)')\n",
    "ticks = [3, 4, 5, 6]\n",
    "cbar.set_ticks(ticks)\n",
    "cbar.set_ticklabels([10**x for x in ticks])\n",
    "plt.axis('off');\n",
    "plt.savefig(PATH_OUT / 'plots' / 'catchment_map.jpg', dpi=300, bbox_inches='tight')\n",
    "\n",
    "# add values to GLOFAS5\n",
    "glofas5.loc[catchment.index, ['CATCH_SKM', 'CATCH_SRC']] = catchment[['GLOFAS5', 'SOURCE']].values\n",
    "print('{0} reservoirs do not comply with the minimum catchment area of {1} km²'.format((glofas5.CATCH_SKM < MIN_CATCHMENT).sum(),\n",
    "                                                                                       MIN_CATCHMENT))"
   ]
  },
  {
   "cell_type": "markdown",
   "id": "9e2e55ca-2d0b-40e4-8efc-90342808c651",
   "metadata": {},
   "source": [
    "### Surface area"
   ]
  },
  {
   "cell_type": "code",
   "execution_count": null,
   "id": "4d24285e-323b-4073-a53c-4172d1166e7d",
   "metadata": {},
   "outputs": [],
   "source": [
    "area = pd.DataFrame(index=glofas5.index, columns=['GRAND', 'GLWD', 'ICOLD', 'GLOFAS5', 'SOURCE'], dtype=float)\n",
    "area.SOURCE = area.SOURCE.astype(str)\n",
    "\n",
    "# GRanD\n",
    "area.loc[grand.index, 'GRAND'] = grand.AREA_SKM\n",
    "\n",
    "# GLWD\n",
    "area.loc[glwd.index, 'GLWD'] = glwd.AREA_SKM\n",
    "\n",
    "# ICOLD\n",
    "area.loc[icold.index, 'ICOLD'] = icold.Res_Area.values * 1e-3"
   ]
  },
  {
   "cell_type": "markdown",
   "id": "ed0962e7-d9a1-4d12-acd2-780f26c41390",
   "metadata": {},
   "source": [
    "#### Comparison"
   ]
  },
  {
   "cell_type": "code",
   "execution_count": null,
   "id": "42cc9450-b6de-4238-aa9c-4bafc5e2333a",
   "metadata": {},
   "outputs": [],
   "source": [
    "compare_attributes(\n",
    "    area[['GRAND', 'ICOLD', 'GLWD']],\n",
    "    thr=MIN_AREA,\n",
    "    vmin=1,\n",
    "    vmax=1e5,\n",
    "    title='area (km²)'\n",
    ")\n",
    "plt.savefig(PATH_OUT / 'plots' / 'area_pairplot.jpg', dpi=300, bbox_inches='tight')"
   ]
  },
  {
   "cell_type": "markdown",
   "id": "a1033b76-1de4-4e95-a761-7acb9acfbf36",
   "metadata": {},
   "source": [
    "There is an error in the units in some ICOLD values."
   ]
  },
  {
   "cell_type": "markdown",
   "id": "6868f1bd-5aea-4c69-88e5-dc8457f4e358",
   "metadata": {},
   "source": [
    "#### Select values"
   ]
  },
  {
   "cell_type": "code",
   "execution_count": null,
   "id": "58e71664-dd66-478e-8489-ee0454dc4024",
   "metadata": {},
   "outputs": [],
   "source": [
    "# select value from GRAND, GLOFAS4, HYLAK or ICOLD in that order\n",
    "for source in ['GRAND', 'GLWD', 'ICOLD']:\n",
    "    missing = area.GLOFAS5.isnull()\n",
    "    mask = area[source].notnull()\n",
    "    area.loc[missing & mask, 'GLOFAS5'] = area.loc[missing & mask, source]\n",
    "    area.loc[missing & mask, 'SOURCE'] = source"
   ]
  },
  {
   "cell_type": "code",
   "execution_count": null,
   "id": "f9446457-ecb9-4ebe-96c3-9676898fb354",
   "metadata": {},
   "outputs": [],
   "source": [
    "print('{0} reservoirs are missing the area value'.format(area.GLOFAS5.isnull().sum()))\n",
    "print('{0} reservoirs have nevative area value'.format((area.GLOFAS5 < 0).sum()))\n",
    "area.SOURCE.value_counts()"
   ]
  },
  {
   "cell_type": "code",
   "execution_count": null,
   "id": "4cb6d82d-1780-45b0-bbc1-e71bd8de0cce",
   "metadata": {},
   "outputs": [],
   "source": [
    "fig, ax = plt.subplots(figsize=(20, 5), subplot_kw=dict(projection=ccrs.PlateCarree()))\n",
    "ax.add_feature(cfeature.NaturalEarthFeature('physical', 'land', '10m', edgecolor='face', facecolor='lightgray'), alpha=.5, zorder=0)\n",
    "sct = ax.scatter(\n",
    "    glofas5.geometry.x,\n",
    "    glofas5.geometry.y,\n",
    "    c=np.log10(area.GLOFAS5),\n",
    "    cmap='viridis_r',\n",
    "    s=5,\n",
    "    # vmin=0,\n",
    "    # vmax=2.5\n",
    ")\n",
    "cbar = plt.colorbar(sct, shrink=.5, label='area (km2)')\n",
    "ticks = [1, 2, 3, 4]\n",
    "cbar.set_ticks(ticks)\n",
    "cbar.set_ticklabels([10**x for x in ticks])\n",
    "plt.axis('off');\n",
    "plt.savefig(PATH_OUT / 'plots' / 'area_map.jpg', dpi=300, bbox_inches='tight')"
   ]
  },
  {
   "cell_type": "code",
   "execution_count": null,
   "id": "46905998-fa67-4c68-8740-dd0102f3569c",
   "metadata": {},
   "outputs": [],
   "source": [
    "# add values to GLOFAS5\n",
    "glofas5.loc[area.index, ['AREA_SKM', 'AREA_SRC']] = area[['GLOFAS5', 'SOURCE']].values"
   ]
  },
  {
   "cell_type": "markdown",
   "id": "ecff9e6d-7670-4869-a86e-4e2bd8aeb0a7",
   "metadata": {},
   "source": [
    "### Mean inflow"
   ]
  },
  {
   "cell_type": "markdown",
   "id": "b9744131-4bdb-4946-adb5-fb7f20bc4b8d",
   "metadata": {},
   "source": [
    "I do not include the values reported in HydroLakes (`Dis_avg`) because they are identical to those in GRanD."
   ]
  },
  {
   "cell_type": "code",
   "execution_count": null,
   "id": "8b3dae67-e429-43f0-9981-c56c27826aeb",
   "metadata": {},
   "outputs": [],
   "source": [
    "dis_avg = pd.DataFrame(index=glofas5.index, columns=['GLOFAS4', 'LTR', 'GRAND', 'GLWD', 'GLOFAS5', 'SOURCE'], dtype=float)\n",
    "dis_avg.SOURCE = dis_avg.SOURCE.astype(str)\n",
    "\n",
    "# GLOFAS4 reservoir parameter\n",
    "dis_avg.loc[glofas4.index, 'GLOFAS4'] = glofas4.normq\n",
    "\n",
    "# GLOFAS4 long-run average\n",
    "dis_avg['LTR'] = dis_avg_ltr.sel({'x': poi_5['x'], 'y': poi_5['y']}, method='nearest').to_pandas()\n",
    "dis_avg['LTR'] = extract_timeseries(dis_avg_ltr, poi_4, inflow=True, ldd=ldd).to_pandas()\n",
    "# dis_avg['LTR'] = inflow_ltr.mean('time')\n",
    "\n",
    "# GRanD\n",
    "dis_avg.loc[mask.index, 'GRAND'] = grand.DIS_AVG_LS * 1e-3\n",
    "\n",
    "# GLWD\n",
    "dis_avg.loc[glwd.index, 'GLWD'] = glwd.INFLOW_CMS"
   ]
  },
  {
   "cell_type": "markdown",
   "id": "fa219a27-34b9-4cba-b6c3-3ee55a92b323",
   "metadata": {},
   "source": [
    "#### Comparison"
   ]
  },
  {
   "cell_type": "code",
   "execution_count": null,
   "id": "b9cb1de5-3a10-4702-ba29-395d19c3a992",
   "metadata": {},
   "outputs": [],
   "source": [
    "compare_attributes(\n",
    "    dis_avg[['GLOFAS4', 'GRAND', 'GLWD', 'LTR']],\n",
    "    thr=0,\n",
    "    vmin=0.01,\n",
    "    vmax=3e4,\n",
    "    title='average discharge (m3/s)'\n",
    ")\n",
    "plt.savefig(PATH_OUT / 'plots' / 'dis_avg_pairplot.jpg', dpi=300, bbox_inches='tight')"
   ]
  },
  {
   "cell_type": "markdown",
   "id": "280a4654-55ed-4039-86df-62235085c664",
   "metadata": {},
   "source": [
    "#### Select values\n",
    "I will use in all cases the average flow in the long-term run."
   ]
  },
  {
   "cell_type": "code",
   "execution_count": null,
   "id": "d7863798-eb86-4e4b-8ac2-d94d97f8c41d",
   "metadata": {},
   "outputs": [],
   "source": [
    "# select values from the GLOFAS4 long-term run\n",
    "dis_avg.GLOFAS5 = dis_avg.LTR\n",
    "dis_avg.SOURCE = 'GLOFAS4_ltr'\n",
    "\n",
    "fig, ax = plt.subplots(figsize=(20, 5), subplot_kw=dict(projection=ccrs.PlateCarree()))\n",
    "ax.add_feature(cfeature.NaturalEarthFeature('physical', 'land', '10m', edgecolor='face', facecolor='lightgray'), alpha=.5, zorder=0)\n",
    "sct = ax.scatter(\n",
    "    glofas5.geometry.x,\n",
    "    glofas5.geometry.y,\n",
    "    c=dis_avg.GLOFAS5 / catchment.UPAREA * 3.6 * 24,\n",
    "    cmap='viridis_r',\n",
    "    s=5,\n",
    ")\n",
    "cbar = plt.colorbar(sct, shrink=.5, label='average discharge\\n(mm/day)')\n",
    "plt.axis('off');\n",
    "plt.savefig(PATH_OUT / 'plots' / 'dis_avg_map.jpg', dpi=300, bbox_inches='tight')\n",
    "\n",
    "# add values to GLOFAS5\n",
    "glofas5.loc[dis_avg.index, 'DISAVG_CMS'] = dis_avg['GLOFAS5'].round(1).values\n",
    "\n",
    "print('{0} reservoirs have an average inflow below 1 m3/s'.format((glofas5.DISAVG_CMS < 1).sum()))"
   ]
  },
  {
   "cell_type": "markdown",
   "id": "10848891-a918-4ae8-bd11-b61fcb035ea9",
   "metadata": {},
   "source": [
    "### Degree of regulation\n",
    "\n",
    "The degree of regulation is the amount of annual inflow that the reservoir can store. I'll cap this value to 100 years (same as GRanD does), since it's not feasible that a reservoir was designed to store that amount of water."
   ]
  },
  {
   "cell_type": "code",
   "execution_count": null,
   "id": "23dc8939-575d-4f63-9a81-ff163cace9e7",
   "metadata": {},
   "outputs": [],
   "source": [
    "dor = pd.DataFrame(index=glofas5.index, columns=['GLOFAS5', 'GRAND', 'GLWD'], dtype=float)\n",
    "\n",
    "# GLOFAS5\n",
    "dor['GLOFAS5'] = np.minimum(glofas5.CAP_MCM * 1e6 / (glofas5.DISAVG_CMS  * 24 * 3600 * 365), 100)\n",
    "\n",
    "# GRanD\n",
    "dor.loc[grand.index, 'GRAND'] = grand.DOR_PC.values / 100\n",
    "\n",
    "# GLWD\n",
    "dor.loc[glwd.index, 'GLWD'] = np.minimum(glwd.VOLUME_CKM * 1e9 / (glwd.INFLOW_CMS * 24 * 3600 * 365), 100)"
   ]
  },
  {
   "cell_type": "markdown",
   "id": "a5a9fc07-bf94-4051-a0d0-1ca5340ae0af",
   "metadata": {},
   "source": [
    "#### Comparison"
   ]
  },
  {
   "cell_type": "code",
   "execution_count": null,
   "id": "d447b98d-588f-4f8d-b4c4-885940637c66",
   "metadata": {},
   "outputs": [],
   "source": [
    "compare_attributes(\n",
    "    dor[['GLOFAS5', 'GLWD', 'GRAND']],\n",
    "    thr=0,\n",
    "    vmin=0.001,\n",
    "    vmax=150,\n",
    "    title='degree of regulation (-)'\n",
    ")\n",
    "plt.savefig(PATH_OUT / 'plots' / 'dor_pairplot.jpg', dpi=300, bbox_inches='tight')"
   ]
  },
  {
   "cell_type": "markdown",
   "id": "de8e79e2-b4b8-43a6-840a-a1165376b80b",
   "metadata": {},
   "source": [
    "#### Select values\n",
    "\n",
    "I will use the values obtained from the attributes in GLOFAS5."
   ]
  },
  {
   "cell_type": "code",
   "execution_count": null,
   "id": "52b784b0-d402-4e6e-af50-bfbd823eab16",
   "metadata": {},
   "outputs": [],
   "source": [
    "fig, ax = plt.subplots(figsize=(20, 5), subplot_kw=dict(projection=ccrs.PlateCarree()))\n",
    "ax.add_feature(cfeature.NaturalEarthFeature('physical', 'land', '10m', edgecolor='face', facecolor='lightgray'), alpha=.5, zorder=0)\n",
    "sct = ax.scatter(\n",
    "    glofas5.geometry.x,\n",
    "    glofas5.geometry.y,\n",
    "    c=dor.GLOFAS5,\n",
    "    cmap='viridis_r',\n",
    "    s=5,\n",
    "    vmin=0,\n",
    "    vmax=10\n",
    ")\n",
    "cbar = plt.colorbar(sct, shrink=.5, label='degree of regulation\\n(-)')\n",
    "plt.axis('off');\n",
    "plt.savefig(PATH_OUT / 'plots' / 'dor_map.jpg', dpi=300, bbox_inches='tight')"
   ]
  },
  {
   "cell_type": "code",
   "execution_count": null,
   "id": "51917225-6dec-4ac0-bf65-78af888b620c",
   "metadata": {},
   "outputs": [],
   "source": [
    "glofas5['DOR'] = dor.GLOFAS5.round(3)\n",
    "\n",
    "print('{0} reservoirs do not comply with the minimum degree of regulation {1}'.format((glofas5.DOR < MIN_DOR).sum(),\n",
    "                                                                                       MIN_DOR))\n",
    "print('{0} reservoirs have a degree of regulation larger than 10 years'.format((glofas5.DOR > 10).sum()))"
   ]
  },
  {
   "cell_type": "markdown",
   "id": "92ff439f-c9a4-4ae1-8745-62d1e23918bf",
   "metadata": {},
   "source": [
    "There are problems in the computation of the degree of regulation, inherited either from the reservoir storage or the average inflow. It's not realistic that 84 reservoirs were designed to store 10 years of inflow."
   ]
  },
  {
   "cell_type": "markdown",
   "id": "59076c50-93e3-4239-9ef0-1ce7cd389c17",
   "metadata": {},
   "source": [
    "### 100-year return period"
   ]
  },
  {
   "cell_type": "code",
   "execution_count": null,
   "id": "b739716b-5dfb-4c12-ae42-9822483e8fe6",
   "metadata": {},
   "outputs": [],
   "source": [
    "dis_100 = pd.DataFrame(index=glofas5.index, columns=['GLOFAS4', 'LTR', 'GLOFAS5', 'SOURCE'], dtype=float)\n",
    "dis_100.SOURCE = dis_100.SOURCE.astype(str)\n",
    "\n",
    "# GLOFAS4\n",
    "dis_100.loc[glofas4.index, 'GLOFAS4'] = glofas4.ndq\n",
    "\n",
    "# GLOFAS4 long-run average\n",
    "# dis_100['LTR'] = dis_100_ltr.sel({'x': poi_5['x'], 'y': poi_5['y']}, method='nearest').to_pandas()\n",
    "dis_100['LTR'] = extract_timeseries(dis_100_ltr, poi_4, inflow=True, ldd=ldd).to_pandas()\n",
    "# dis_100['LTR'] = pd.Series({ID: return_period(inflow_ltr.sel(ID=ID).to_pandas(), T=100) for ID in inflow_ltr.ID.data})"
   ]
  },
  {
   "cell_type": "markdown",
   "id": "fd00ee3c-a51b-4654-a6f6-fd5fbf232059",
   "metadata": {},
   "source": [
    "#### Comparison"
   ]
  },
  {
   "cell_type": "code",
   "execution_count": null,
   "id": "5e781e9f-187a-46f5-a906-ab44a36c3989",
   "metadata": {},
   "outputs": [],
   "source": [
    "compare_attributes(\n",
    "    dis_100[['GLOFAS4', 'LTR']],\n",
    "    thr=0,\n",
    "    vmin=0.1,\n",
    "    vmax=1e5,\n",
    "    title='100-year discharge (m3/s)',\n",
    "    # scale='linear'\n",
    ")\n",
    "plt.savefig(PATH_OUT / 'plots' / 'dis_100_pairplot.jpg', dpi=300, bbox_inches='tight');"
   ]
  },
  {
   "cell_type": "markdown",
   "id": "38bac150-ff59-4e2b-8e22-e0879fbd94f6",
   "metadata": {},
   "source": [
    "#### Select values"
   ]
  },
  {
   "cell_type": "code",
   "execution_count": null,
   "id": "236bdac2-a3b2-4341-acb6-1a6a3d815d58",
   "metadata": {},
   "outputs": [],
   "source": [
    "# select values from the GLOFAS4 long-term run\n",
    "dis_100.GLOFAS5 = dis_100.LTR\n",
    "dis_100.SOURCE = 'GLOFAS4_ltr'\n",
    "\n",
    "fig, ax = plt.subplots(figsize=(20, 5), subplot_kw=dict(projection=ccrs.PlateCarree()))\n",
    "ax.add_feature(cfeature.NaturalEarthFeature('physical', 'land', '10m', edgecolor='face', facecolor='lightgray'), alpha=.5, zorder=0)\n",
    "sct = ax.scatter(\n",
    "    glofas5.geometry.x,\n",
    "    glofas5.geometry.y,\n",
    "    c=dis_100.GLOFAS5 / catchment.UPAREA * 3.6 * 24,\n",
    "    cmap='viridis_r',\n",
    "    s=5,\n",
    ")\n",
    "cbar = plt.colorbar(sct, shrink=.5, label='100-year discharge\\n(mm/day)')\n",
    "plt.axis('off');\n",
    "plt.savefig(PATH_OUT / 'plots' / 'dis_100_map.jpg', dpi=300, bbox_inches='tight')\n",
    "\n",
    "# add values to GLOFAS5\n",
    "glofas5.loc[dis_100.index, 'DIS100_CMS'] = dis_100['GLOFAS5'].round(1).values\n",
    "\n",
    "print('{0} reservoirs have an 100-year inflow below 10 m3/s'.format((glofas5.DIS100_CMS < 10).sum()))"
   ]
  },
  {
   "cell_type": "markdown",
   "id": "87037429-7ae1-42b4-aca1-6084bcf9a792",
   "metadata": {},
   "source": [
    "### Environment flow"
   ]
  },
  {
   "cell_type": "code",
   "execution_count": null,
   "id": "eed1da4a-4cd6-4b50-851c-e89282e9360d",
   "metadata": {},
   "outputs": [],
   "source": [
    "dis_env = pd.DataFrame(index=glofas5.index, columns=['GLOFAS4', 'LTR', 'GLOFAS5', 'SOURCE'], dtype=float)\n",
    "dis_env.SOURCE = dis_env.SOURCE.astype(str)\n",
    "\n",
    "# GLOFAS4\n",
    "dis_env.loc[glofas4.index, 'GLOFAS4'] = glofas4.minq\n",
    "\n",
    "# GLOFAS4 long-term run\n",
    "# dis_env['LTR'] = inflow_ltr.quantile(.05, dim='time', skipna=True).to_pandas()\n",
    "dis_env['LTR'] = .05 * dis_avg.GLOFAS5 # simplification of the French regulation"
   ]
  },
  {
   "cell_type": "markdown",
   "id": "113f40d7-2214-4c23-9dd6-f44e055dfa7c",
   "metadata": {},
   "source": [
    "#### Comparison"
   ]
  },
  {
   "cell_type": "code",
   "execution_count": null,
   "id": "7c2c1fe1-8f7c-4eba-9665-9e0f0d4f71e7",
   "metadata": {
    "tags": []
   },
   "outputs": [],
   "source": [
    "compare_attributes(\n",
    "    dis_env[['GLOFAS4', 'LTR']],\n",
    "    thr=0,\n",
    "    vmin=1e-4,\n",
    "    vmax=1e4,\n",
    "    title='environmental discharge (m3/s)',\n",
    "    scale='log'\n",
    ")\n",
    "plt.savefig(PATH_OUT / 'plots' / 'dis_env_pairplot.jpg', dpi=300, bbox_inches='tight');"
   ]
  },
  {
   "cell_type": "markdown",
   "id": "c7fe3bcf-aad0-485b-982f-958b56a5bbc7",
   "metadata": {},
   "source": [
    "#### Select values\n",
    "\n",
    "I will select the values extracted from the D2 map, as it limits extremely low values."
   ]
  },
  {
   "cell_type": "code",
   "execution_count": null,
   "id": "a230122e-f889-426f-aa80-6ab98cd9337f",
   "metadata": {},
   "outputs": [],
   "source": [
    "# select values from the GLOFAS4 naturalised run\n",
    "dis_env.GLOFAS5 = dis_env.LTR\n",
    "dis_env.SOURCE = 'GLOFAS4_ltr'\n",
    "\n",
    "fig, ax = plt.subplots(figsize=(20, 5), subplot_kw=dict(projection=ccrs.PlateCarree()))\n",
    "ax.add_feature(cfeature.NaturalEarthFeature('physical', 'land', '10m', edgecolor='face', facecolor='lightgray'), alpha=.5, zorder=0)\n",
    "sct = ax.scatter(\n",
    "    glofas5.geometry.x,\n",
    "    glofas5.geometry.y,\n",
    "    c=dis_env.GLOFAS5 / catchment.UPAREA * 3.6 * 24,\n",
    "    cmap='viridis_r',\n",
    "    s=5,\n",
    "    # vmin=0,\n",
    "    # vmax=2.5\n",
    ")\n",
    "cbar = plt.colorbar(sct, shrink=.5, label='environmental discharge\\n(mm/day)')\n",
    "plt.axis('off');\n",
    "plt.savefig(PATH_OUT / 'plots' / 'dis_env_map.jpg', dpi=300, bbox_inches='tight')\n",
    "\n",
    "# add values to GLOFAS5\n",
    "glofas5.loc[dis_env.index, 'DISENV_CMS'] = dis_env['GLOFAS5'].round(4).values\n",
    "\n",
    "print('{0} reservoirs have an environmental flow below 0.1 m3/s'.format((glofas5.DISENV_CMS < 0.1).sum()))"
   ]
  },
  {
   "cell_type": "markdown",
   "id": "57e2d175-bda9-4611-92ce-682dca5be916",
   "metadata": {},
   "source": [
    "There are very low values of environmental flow."
   ]
  },
  {
   "cell_type": "markdown",
   "id": "6db2b0f3-6fe4-432c-9d3c-577d18d5c655",
   "metadata": {},
   "source": [
    "## Export\n",
    "### Excel file"
   ]
  },
  {
   "cell_type": "code",
   "execution_count": null,
   "id": "36e5da54-e62c-4c1c-83aa-d527a2529dd0",
   "metadata": {},
   "outputs": [],
   "source": [
    "# copy glofas5 as main source\n",
    "reservoirs = glofas5.copy()\n",
    "\n",
    "# LISFLOOD coordinates\n",
    "reservoirs['LisfloodX'] = reservoirs.geometry.x\n",
    "reservoirs['LisfloodY'] = reservoirs.geometry.y\n",
    "\n",
    "# source of discharge data\n",
    "reservoirs['DIS_SRC'] = 'GLOFAS4_ltr'\n",
    "\n",
    "# add data from GRanD\n",
    "grand_ids = reservoirs.GRAND_ID.dropna()\n",
    "grand_cols = ['RES_NAME', 'DAM_NAME', 'RIVER', 'MAIN_BASIN', 'COUNTRY', 'YEAR', 'REM_YEAR', 'LONG_DD', 'LAT_DD']\n",
    "reservoirs.loc[grand_ids.index, grand_cols] = grand.loc[grand_ids.index, grand_cols].values\n",
    "\n",
    "# add info from GLOFAS4\n",
    "ids = reservoirs[reservoirs.GRAND_ID.isnull() & reservoirs.RES_ID.notnull()].index\n",
    "cols_glofas4 = ['COUNTRY', 'DAM_NAME', 'RIVER']\n",
    "reservoirs.loc[ids, cols_glofas4] = glofas4.loc[ids, cols_glofas4]\n",
    "\n",
    "# reorder and rename columns\n",
    "cols = ['RES_ID', 'GDW_ID', 'GRAND_ID', 'GLWD_ID', 'INT_CODE', \n",
    "        'RES_NAME', 'DAM_NAME', 'RIVER', 'MAIN_BASIN', 'COUNTRY', 'YEAR', 'REM_YEAR',\n",
    "        'LONG_DD', 'LAT_DD', 'LisfloodX', 'LisfloodY',\n",
    "        'CAP_MCM', 'CAP_SRC', 'CATCH_SKM', 'CATCH_SRC', 'AREA_SKM', 'AREA_SRC', 'DISENV_CMS',\n",
    "        'DISAVG_CMS', 'DIS100_CMS', 'DIS_SRC', 'DOR',\n",
    "        'geometry']\n",
    "reservoirs = reservoirs[cols]\n",
    "\n",
    "# adapt dtypes\n",
    "reservoirs[['YEAR', 'REM_YEAR']] = reservoirs[['YEAR', 'REM_YEAR']].astype('Int64')\n",
    "\n",
    "# reset index\n",
    "# reservoirs['FID'] = np.arange(1, reservoirs.shape[0] + 1)\n",
    "# reservoirs.loc[reservoirs.ResID > 5000, 'FID'] = reservoirs.loc[reservoirs.ResID > 5000, 'ResID']\n",
    "idx = []\n",
    "i = glofas4.ResID.max()\n",
    "for res_id in reservoirs.RES_ID.values:\n",
    "    if pd.isna(res_id):\n",
    "        i += 1\n",
    "        idx.append(i)\n",
    "    else:\n",
    "        idx.append(res_id)\n",
    "reservoirs['FID'] = idx\n",
    "reservoirs.set_index('FID', drop=True, inplace=True)\n",
    "reservoirs.sort_index(axis=0, inplace=True)\n",
    "\n",
    "# mask_res = (reservoirs.DOR >= MIN_DOR) | ((reservoirs.index > 5000) & (reservoirs.index < 6000)) | (reservoirs.AREA_SKM.isnull())\n",
    "mask_res = reservoirs.DOR >= MIN_DOR\n",
    "print('{0} reservoirs will be modelled as lakes'.format((~mask_res).sum()))"
   ]
  },
  {
   "cell_type": "code",
   "execution_count": null,
   "id": "9ddfa348-86db-4e0c-8117-883aafa292eb",
   "metadata": {},
   "outputs": [],
   "source": [
    "xls_file = PATH_OUT / 'glofas5_reservoirs_{0}.xlsx'.format(datetime.now().strftime('%Y%m%d'))\n",
    "with pd.ExcelWriter(xls_file, engine='openpyxl') as writer:\n",
    "    # Reservoirs in GLOFAS5 (as reservoirs)\n",
    "    reservoirs[mask_res].drop('geometry', axis=1).to_excel(writer, sheet_name='as_reservoirs', float_format='%.4f')\n",
    "    \n",
    "    # Reservoirs modeled as lakes in GLOFAS5 (as lakes)\n",
    "    reservoirs[~mask_res].drop('geometry', axis=1).to_excel(writer, sheet_name='as_lakes', float_format='%.4f')\n",
    "print(f'Reservoir Excel table saved in : {xls_file}')"
   ]
  },
  {
   "cell_type": "markdown",
   "id": "2775d4a3-d008-4b03-9ba9-2ad5a1ba846f",
   "metadata": {},
   "source": [
    "### TXT tables"
   ]
  },
  {
   "cell_type": "code",
   "execution_count": 5,
   "id": "418baf5e-6096-4c80-8182-41a43b614955",
   "metadata": {},
   "outputs": [],
   "source": [
    "# filter reservoirs to be modelled as reservoirs\n",
    "res = pd.read_excel(PATH_OUT / 'glofas5_reservoirs_20250228+parameters.xlsx', sheet_name='as_reservoirs', index_col='GDW_ID')\n",
    "res.sort_index(inplace=True)\n",
    "# res = reservoirs[mask_res]\n",
    "\n",
    "# # remove reservoir 2006 in GRanD: demolished in 2005\n",
    "# res = res.loc[res.GRAND_ID != 2006]\n",
    "# res = res.loc[res.GRAND_ID != 4376]"
   ]
  },
  {
   "cell_type": "code",
   "execution_count": null,
   "id": "0adf013b-f35d-42e5-8b86-eebb30a52a7c",
   "metadata": {},
   "outputs": [],
   "source": [
    "# table reservoir capacity\n",
    "(res.CAP_MCM * 1e6).to_csv(\n",
    "    PATH_OUT / 'reservoirs_glofas5_capacity.txt',\n",
    "    sep='\\t',\n",
    "    header=None,\n",
    "    float_format='%.0f'\n",
    ")\n",
    "\n",
    "# table average discharge\n",
    "res.DISAVG_CMS.round(1).to_csv(\n",
    "    PATH_OUT / 'reservoirs_glofas5_avg_inflow.txt',\n",
    "    sep='\\t',\n",
    "    header=None\n",
    ")\n",
    "\n",
    "# table 100-year discharge\n",
    "res.DIS100_CMS.round(1).to_csv(\n",
    "    PATH_OUT / 'reservoirs_glofas5_100yr_inflow.txt',\n",
    "    sep='\\t',\n",
    "    header=None\n",
    ")\n",
    "\n",
    "# table environmental flow\n",
    "res.DISENV_CMS.round(3).to_csv(\n",
    "    PATH_OUT / 'reservoirs_glofas5_env_flow.txt',\n",
    "    sep='\\t',\n",
    "    header=None\n",
    ")"
   ]
  },
  {
   "cell_type": "code",
   "execution_count": null,
   "id": "1eae7971-f003-4791-a2dd-3641d20a98cd",
   "metadata": {},
   "outputs": [],
   "source": [
    "# years of construction and demolition\n",
    "res[['YEAR', 'REM_YEAR']].rename(columns={'YEAR': 'construction', 'REM_YEAR': 'removal'}).to_csv(\n",
    "    PATH_OUT / 'reservoirs_glofas5_years.csv',\n",
    "    # sep='\\t',\n",
    "    # header=None, \n",
    ")"
   ]
  },
  {
   "cell_type": "markdown",
   "id": "8b0013da-1462-46b5-9647-05944a18693f",
   "metadata": {},
   "source": [
    "### NetCDF map"
   ]
  },
  {
   "cell_type": "code",
   "execution_count": 27,
   "id": "8ea4418e-ab37-440c-8542-19ea4aa8aba0",
   "metadata": {},
   "outputs": [
    {
     "data": {
      "application/vnd.jupyter.widget-view+json": {
       "model_id": "ac9463a5be3f42ddbd4d0a9032749201",
       "version_major": 2,
       "version_minor": 0
      },
      "text/plain": [
       "  0%|          | 0/1490 [00:00<?, ?it/s]"
      ]
     },
     "metadata": {},
     "output_type": "display_data"
    }
   ],
   "source": [
    "# load GloFAS5 template map\n",
    "template = rxr.open_rasterio(PATH_GLOFAS5 / 'static_maps' / 'template_Global_03min.nc')#.squeeze(dim='band').astype(int)\n",
    "template.close()\n",
    "\n",
    "# remove all lakes\n",
    "template[:,:] = 0\n",
    "\n",
    "# assign IDs of lakes in GloFAS5\n",
    "for ID, row in tqdm(res.iterrows(), total=len(res)):\n",
    "    pixel = template.sel({'x': row.LisfloodX, 'y': row.LisfloodY}, method='nearest')\n",
    "    template.loc[{'x': pixel.x.item(), 'y': pixel.y.item()}] = ID\n",
    "\n",
    "# modify attributes\n",
    "template.attrs['contributors'] = 'Juliana Disperati <juliana.disperati@ext.ec.europa.eu>'\n",
    "template.attrs['creator'] = 'Jesús Casado Rodríguez <jesus.casado-rodriguez@ec.europa.eu>'\n",
    "template.attrs['creator_name'] = 'casadje'\n",
    "template.attrs['history'] = ('Created {0}'.format(datetime.now().strftime(\"%a %b %e %H:%M:%S %Y\")))\n",
    "template.attrs['history_of_appended_files'] = ''\n",
    "template.attrs['institution'] = 'Joint Research Centre - European Commission'\n",
    "template.attrs['references'] = 'https://www.globaldamwatch.org/grand'\n",
    "template.attrs['long_name'] = 'reservoirs'\n",
    "\n",
    "# define coordinate reference system\n",
    "template = template.rio.write_crs('EPSG:4326')\n",
    "\n",
    "# export NetCDF map\n",
    "template.rio.to_raster(PATH_GLOFAS5 / 'static_maps' / 'reservoirs_glofas5_03min_{0}.nc'.format(datetime.now().strftime('%Y%m%d')))"
   ]
  }
 ],
 "metadata": {
  "kernelspec": {
   "display_name": "Python 3 (ipykernel)",
   "language": "python",
   "name": "python3"
  },
  "language_info": {
   "codemirror_mode": {
    "name": "ipython",
    "version": 3
   },
   "file_extension": ".py",
   "mimetype": "text/x-python",
   "name": "python",
   "nbconvert_exporter": "python",
   "pygments_lexer": "ipython3",
   "version": "3.9.13"
  }
 },
 "nbformat": 4,
 "nbformat_minor": 5
}
