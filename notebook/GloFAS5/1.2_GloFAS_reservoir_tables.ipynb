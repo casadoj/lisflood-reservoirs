{
 "cells": [
  {
   "cell_type": "markdown",
   "id": "deef035b-e213-4fcd-b8e4-2c8662d64b96",
   "metadata": {
    "tags": []
   },
   "source": [
    "# Reservoirs tables - GloFAS5\n",
    "***\n",
    "\n",
    "**Author:** Chus Casado Rodríguez<br>\n",
    "**Date:** 16-01-2025<br>\n",
    "\n",
    "**Introduction:**<br>\n",
    "\n",
    "* [x] 100-year return period of inflow\n",
    "* [x] average inflow\n",
    "* [ ] environmental flow?\n",
    "* [x] storage capacity\n",
    "* [x] catchment area\n",
    "* [x] reservoir area: it would be necessary if we want to model the reservoir surface area\n",
    "* [ ] elevation crest: it would be necessary if we want to model the reservoir level\n",
    "* [ ] dam height: it would be necessary if we want to model the reservoir level"
   ]
  },
  {
   "cell_type": "code",
   "execution_count": 1,
   "id": "c54cb23d-41de-41ed-841b-69c144e82507",
   "metadata": {},
   "outputs": [],
   "source": [
    "import os\n",
    "os.environ['USE_PYGEOS'] = '0'\n",
    "import numpy as np\n",
    "import pandas as pd\n",
    "import xarray as xr\n",
    "import rioxarray as rxr\n",
    "import geopandas as gpd\n",
    "from shapely.geometry import Point\n",
    "import cartopy.feature as cfeature\n",
    "import cartopy.crs as ccrs\n",
    "from pathlib import Path\n",
    "from tqdm.auto import tqdm\n",
    "import matplotlib.pyplot as plt\n",
    "from scipy.stats import linregress\n",
    "import cartopy.crs as ccrs\n",
    "import cartopy.feature as cf\n",
    "from datetime import datetime\n",
    "\n",
    "import sys\n",
    "sys.path.append('E:/casadje/GitHub/lisflood-utilities/src/')\n",
    "from lisfloodutilities.thresholds import compute_thresholds_gumbel\n",
    "\n",
    "import warnings\n",
    "warnings.simplefilter(action='ignore', category=FutureWarning)\n",
    "\n",
    "from lisfloodreservoirs.utils.plots import plot_reservoir_map, compare_attributes"
   ]
  },
  {
   "cell_type": "markdown",
   "id": "afd51623-ce6b-4822-b7e0-bacb481594a9",
   "metadata": {
    "tags": []
   },
   "source": [
    "## Configuration"
   ]
  },
  {
   "cell_type": "code",
   "execution_count": 2,
   "id": "9648123a-475b-4228-9db1-69756cd8097c",
   "metadata": {},
   "outputs": [],
   "source": [
    "# paths\n",
    "PATH_GLOFAS4 = Path('Z:/nahaUsers/casadje/GloFASv4')\n",
    "PATH_GLOFAS5 = Path('Z:/nahaUsers/casadje/GloFASv5')\n",
    "PATH_GRAND = Path('Z:/nahaUsers/casadje/datasets/reservoirs/GRanD/v1_3')\n",
    "PATH_GLWD = Path('Z:/nahaUsers/casadje/datasets/lakes/GLWD')\n",
    "PATH_ICOLD= Path('Z:/nahaUsers/casadje/datasets/reservoirs/ICOLD/2023')\n",
    "PATH_OUT = PATH_GLOFAS5 / 'reservoirs' / 'tables'\n",
    "\n",
    "# minimum storage capacity included in GloFAS\n",
    "MIN_VOLUME = 100 # hm³\n",
    "MIN_CATCHMENT = 500 # km²\n",
    "MIN_AREA = None # 50 # km2\n",
    "MIN_DOR = 0.08 #"
   ]
  },
  {
   "cell_type": "code",
   "execution_count": 3,
   "id": "c53b772e-3976-47ae-96e7-4a927b4cefb9",
   "metadata": {},
   "outputs": [],
   "source": [
    "PATH_PLOTS = PATH_OUT / 'plots'\n",
    "PATH_PLOTS.mkdir(parents=True, exist_ok=True)"
   ]
  },
  {
   "cell_type": "markdown",
   "id": "f689da47-a1e1-47a9-a527-f8ff42fa51b4",
   "metadata": {
    "tags": []
   },
   "source": [
    "## Data\n",
    "\n",
    "### GloFAS5"
   ]
  },
  {
   "cell_type": "code",
   "execution_count": null,
   "id": "d9f7ec96-5b4a-4145-a4a8-8e42d25ed326",
   "metadata": {},
   "outputs": [],
   "source": [
    "# import TXT of relocated reservoirs\n",
    "# glofas5 = pd.read_csv(PATH_GLOFAS5 / 'reservoirs' / 'tables' / 'reservoirGlofas_20241202.txt', sep='\\t')\n",
    "# glofas5 = pd.read_excel(PATH_GLOFAS5 / 'reservoirs' / 'tables' / 'reservoirs_glofas5.xlsx', sheet_name='20241202')\n",
    "glofas5 = gpd.read_file(PATH_GLOFAS5 / 'reservoirs' / 'tables' / 'ReservoirGlofas.shp')"
   ]
  },
  {
   "cell_type": "code",
   "execution_count": null,
   "id": "5c1a25c6-efd8-44c6-8f0f-2007c2a3b40b",
   "metadata": {},
   "outputs": [],
   "source": [
    "glofas5.head()"
   ]
  },
  {
   "cell_type": "code",
   "execution_count": null,
   "id": "bb85f9f6-2225-4f8b-a30b-de41e57cde5f",
   "metadata": {},
   "outputs": [],
   "source": [
    "id_cols = ['RES_ID', 'LAK_ID', 'GRAND_ID', 'GLWD_ID']\n",
    "coord_cols = ['Xlisf', 'Ylisf']\n",
    "glofas5[id_cols + coord_cols] = glofas5[id_cols + coord_cols].replace(0, np.nan)\n",
    "glofas5[id_cols] = glofas5[id_cols].astype('Int64')"
   ]
  },
  {
   "cell_type": "code",
   "execution_count": null,
   "id": "94d86f03-3be8-4073-bd5f-6bc6236a61f7",
   "metadata": {},
   "outputs": [],
   "source": [
    "# add international code from ICOLD\n",
    "map_icold = gpd.read_file(PATH_GLOFAS5 / 'reservoirs' / 'reservoirs_glofas5.shp')[['RES_ID', 'GRAND_ID', 'INT_CODE']]\n",
    "map_icold = map_icold[map_icold.INT_CODE.notnull()]\n",
    "map_res_icold = {res_id: icold_id for res_id, icold_id in zip(map_icold.RES_ID, map_icold.INT_CODE) if pd.notna(res_id)}\n",
    "map_grand_icold = {grand_id: icold_id for grand_id, icold_id in zip(map_icold.GRAND_ID, map_icold.INT_CODE) if pd.notna(grand_id)}\n",
    "glofas5['INT_CODE'] = glofas5.GRAND_ID.map(map_grand_icold)\n",
    "mask_icold = glofas5[glofas5.INT_CODE.isnull()].index\n",
    "glofas5.loc[mask_icold, 'INT_CODE'] = glofas5.loc[mask_icold, 'RES_ID'].map(map_res_icold)"
   ]
  },
  {
   "cell_type": "code",
   "execution_count": null,
   "id": "4e75c3b1-d306-4808-bee6-320003399083",
   "metadata": {},
   "outputs": [],
   "source": [
    "# # keep reservoirs relocated in the LISFLOOD grid\n",
    "# glofas5 = glofas5[glofas5.Xlisf.notnull() & glofas5.Ylisf.notnull()]\n",
    "\n",
    "# # convert to GeoPandas\n",
    "# glofas5 = gpd.GeoDataFrame(glofas5, geometry=[Point(xy) for xy in zip(glofas5.Xlisf, glofas5.Ylisf)], crs='epsg:4326')\n",
    "\n",
    "# assing ID in descending order of storage capacity\n",
    "glofas5.sort_values('CAP_MCM', ascending=False, inplace=True)\n",
    "glofas5.reset_index(drop=True, inplace=True)\n",
    "glofas5.index.name = 'ID'\n",
    "glofas5.drop('FID_1', axis=1, errors='ignore', inplace=True)\n",
    "glofas5 = glofas5[['RES_ID', 'LAK_ID', 'GRAND_ID', 'GLWD_ID', 'INT_CODE', 'geometry']]\n",
    "\n",
    "print(glofas5.shape)"
   ]
  },
  {
   "cell_type": "code",
   "execution_count": null,
   "id": "5edf224b-3e70-40ed-aec7-a977c7b0bee9",
   "metadata": {},
   "outputs": [],
   "source": [
    "# points of interest used to extract values from maps\n",
    "poi = pd.concat((glofas5.geometry.x, glofas5.geometry.y), axis=1)\n",
    "poi.columns = ['x', 'y']\n",
    "poi = poi.to_xarray()"
   ]
  },
  {
   "cell_type": "markdown",
   "id": "9e322785-d877-4a5b-8039-8cb64f23bac0",
   "metadata": {},
   "source": [
    "### GloFAS4\n",
    "\n",
    "#### Reservoirs"
   ]
  },
  {
   "cell_type": "code",
   "execution_count": null,
   "id": "aa422e0c-57eb-490c-bd64-c9a43db5c16d",
   "metadata": {},
   "outputs": [],
   "source": [
    "# load shapefile\n",
    "glofas4 = gpd.read_file(PATH_GLOFAS4 / 'tables' / 'GloFAS_reservoirs.shp')\n",
    "\n",
    "# assign ID\n",
    "map_ID = {ResID: ID for ID, ResID in zip(glofas5.index, glofas5.RES_ID) if not pd.isna(ResID)}\n",
    "glofas4['ID'] = glofas4.ResID.map(map_ID).astype('Int64')\n",
    "\n",
    "# keep reservoirs in GloFAS4 also in GloFAS5\n",
    "glofas4.dropna(subset=['ID'], inplace=True)\n",
    "glofas4.set_index('ID', drop=False, inplace=True)\n",
    "\n",
    "print(glofas4.shape)"
   ]
  },
  {
   "cell_type": "markdown",
   "id": "b7a3d6bc-ee82-4e53-bc85-dcd8ab4f5868",
   "metadata": {},
   "source": [
    "#### Static maps"
   ]
  },
  {
   "cell_type": "code",
   "execution_count": null,
   "id": "204cacbf-f830-46b9-b9ab-05aef698d11d",
   "metadata": {},
   "outputs": [],
   "source": [
    "# load the upstream area map\n",
    "uparea = rxr.open_rasterio(PATH_GLOFAS4 / 'static_maps' / 'upArea_repaired.nc').squeeze(dim='band')\n",
    "uparea = uparea.where(uparea != -999999, np.nan)\n",
    "uparea /= 1e6 # km2"
   ]
  },
  {
   "cell_type": "markdown",
   "id": "07eb7b0a-22e0-46d2-b69e-aced0b3e146f",
   "metadata": {},
   "source": [
    "#### Natural flow"
   ]
  },
  {
   "cell_type": "markdown",
   "id": "4e4d8be4-f044-4932-ac97-2d4734b1c060",
   "metadata": {
    "tags": []
   },
   "source": [
    "I have run the tool `ncextract` on the EFASv5 long-term run simulation with natural flow, i.e, no reservoirs and no water abstraction. The discharge files resulting from this simulation are in the HPC: `/mnt/DISASTER/FLOODS/nahaUsers/grimast/EFASNatflow/`.\n",
    "\n",
    "The discharge time series extracted for the reservoir locations are proxies of the reservoir inflow. From these time series we need to estimate the 100-year return period, average inflow and environmental flow."
   ]
  },
  {
   "cell_type": "code",
   "execution_count": null,
   "id": "20879fa5-d816-472a-9d23-3842960ddca9",
   "metadata": {},
   "outputs": [],
   "source": [
    "# # export CSV needed to run `ncextract`\n",
    "# points = pd.concat((glofas5.geometry.x, glofas5.geometry.y), axis=1)\n",
    "# points.columns = ['lon', 'lat']\n",
    "# points.to_csv(PATH_GLOFAS5 / 'reservoirs' / 'ncextract' / 'reservoirs_glofas5_1545.csv')"
   ]
  },
  {
   "cell_type": "code",
   "execution_count": null,
   "id": "05b6d57a-15ac-45a0-a692-70952bbb2c25",
   "metadata": {},
   "outputs": [],
   "source": [
    "# # daily timeseries of naturalised discharge\n",
    "# dis_nat = xr.open_dataset(PATH_GLOFAS5 / 'reservoirs' / 'ncextract' / 'nat_dis_GLOFAS4_1545.nc')['dis']\n",
    "# dis_nat = dis_nat.sel(time=slice('1993-01-02', None))\n",
    "# dis_nat.close()"
   ]
  },
  {
   "cell_type": "code",
   "execution_count": null,
   "id": "1e2caac6-08ed-4d00-84dd-64de6a22eef8",
   "metadata": {},
   "outputs": [],
   "source": [
    "# # 10th percentile of the natural flow\n",
    "# dis_env_nat = xr.open_dataset(PATH_GLOFAS4 / 'natural_flow' / 'dis_all20_pctl10.nc')['dis'].squeeze('time')"
   ]
  },
  {
   "cell_type": "markdown",
   "id": "79977228-e241-41be-a526-83c6a9f33ed3",
   "metadata": {},
   "source": [
    "#### Long-term run\n",
    "Average and 100-year discharge in the long-term run."
   ]
  },
  {
   "cell_type": "code",
   "execution_count": null,
   "id": "5b0e4ea6-b0a0-4b02-a37c-604fb66a2522",
   "metadata": {},
   "outputs": [],
   "source": [
    "# average discharge\n",
    "dis_avg_ltr = rxr.open_rasterio(PATH_GLOFAS4 / 'long_run' / 'dis' / 'thresholds' / 'disavg_1979_2023.nc').squeeze(dim='time')\n",
    "dis_avg_ltr.close()\n",
    "\n",
    "# 100-year discharge\n",
    "dis_100_ltr = rxr.open_rasterio(PATH_GLOFAS4 / 'long_run' / 'dis' / 'thresholds' / 'flood_threshold_glofas_v4_rl_100.0.nc').squeeze(dim='band')"
   ]
  },
  {
   "cell_type": "markdown",
   "id": "7f64d210-335f-47c0-a5ea-bcef2d26c3eb",
   "metadata": {},
   "source": [
    "### GRanD"
   ]
  },
  {
   "cell_type": "code",
   "execution_count": null,
   "id": "35641b4d-0ea5-4fab-af9a-ba5dc0c8a31c",
   "metadata": {},
   "outputs": [],
   "source": [
    "# load raw dataset\n",
    "grand = gpd.read_file(PATH_GRAND / 'GRanD_dams_v1_3.shp')\n",
    "\n",
    "# connection between GRanD and ID\n",
    "map_grand_ID = {grand_id: ID for ID, grand_id in zip(glofas5.index, glofas5.GRAND_ID) if not pd.isna(grand_id)}\n",
    "grand['ID'] = grand.GRAND_ID.map(map_grand_ID).astype('Int64')\n",
    "grand = grand[grand.ID.notnull()]\n",
    "grand.set_index('ID', drop=True, inplace=True)\n",
    "\n",
    "print(grand.shape)"
   ]
  },
  {
   "cell_type": "markdown",
   "id": "c9d610db-7df0-4fa4-acc9-b83ca8480255",
   "metadata": {},
   "source": [
    "### GLWD"
   ]
  },
  {
   "cell_type": "code",
   "execution_count": null,
   "id": "a17d4d57-fa97-448b-b1ac-dc37955b2fff",
   "metadata": {},
   "outputs": [],
   "source": [
    "# level 1\n",
    "glwd1 = gpd.read_file(PATH_GLWD / 'level1' / 'glwd_1.shp')#.set_index('GLWD_ID', drop=True)\n",
    "glwd1 = glwd1[glwd1.GLWD_ID.isin(glofas5.GLWD_ID)]\n",
    "\n",
    "# level 2\n",
    "glwd2 = gpd.read_file(PATH_GLWD / 'level2' / 'glwd_2.shp')#.set_index('GLWD_ID', drop=True)\n",
    "glwd2 = glwd2[glwd2.GLWD_ID.isin(glofas5.GLWD_ID)]\n",
    "\n",
    "# concatenate\n",
    "glwd = pd.concat((glwd1, glwd2), axis=0)\n",
    "\n",
    "if not glwd.shape[0] == glofas5.GLWD_ID.nunique():\n",
    "    print('The number of lakes in \"glwd\" does not match the number of lakes in \"glofas5\" with assigned GLWD_ID')\n",
    "\n",
    "# connection between GLWD and ID\n",
    "map_glwd_ID = {glwd_id: ID for ID, glwd_id in glofas5.GLWD_ID.items() if not pd.isna(glwd_id)}\n",
    "glwd['ID'] = glwd.GLWD_ID.map(map_glwd_ID).astype('Int64')\n",
    "glwd = glwd[glwd.ID.notnull()]\n",
    "glwd.set_index('ID', drop=True, inplace=True)\n",
    "\n",
    "print(glwd.shape)"
   ]
  },
  {
   "cell_type": "markdown",
   "id": "df31a7b1-f5bc-4aec-9556-6a09270e853d",
   "metadata": {},
   "source": [
    "### ICOLD"
   ]
  },
  {
   "cell_type": "code",
   "execution_count": null,
   "id": "c4a72892-754c-4470-929c-ae77a7bd47df",
   "metadata": {},
   "outputs": [],
   "source": [
    "# load ICOLD dataset\n",
    "icold = gpd.read_file(PATH_ICOLD / 'ICOLD_global.shp')\n",
    "\n",
    "# connection between ICOLD and ID\n",
    "map_icold_ID = {icold_id: ID for ID, icold_id in glofas5.INT_CODE.items() if pd.notna(icold_id)}\n",
    "icold['ID'] = icold.Int_Code.map(map_icold_ID).astype('Int64')\n",
    "icold = icold[icold.ID.notnull()]\n",
    "icold.set_index('ID', drop=True, inplace=True)\n",
    "\n",
    "print(icold.shape)"
   ]
  },
  {
   "cell_type": "markdown",
   "id": "4f7b4446-a62f-4d64-bc7b-edaf8c06c816",
   "metadata": {},
   "source": [
    "## Attributes"
   ]
  },
  {
   "cell_type": "markdown",
   "id": "070dc415-0caf-4cc3-a77b-8b080840b56d",
   "metadata": {},
   "source": [
    "### Capacity"
   ]
  },
  {
   "cell_type": "code",
   "execution_count": null,
   "id": "b01f3e18-ef52-430a-b1a4-4f0b34ee3132",
   "metadata": {},
   "outputs": [],
   "source": [
    "capacity = pd.DataFrame(index=glofas5.index, columns=['GLOFAS4', 'GRAND', 'GLWD', 'ICOLD', 'GLOFAS5', 'SOURCE'], dtype=float)\n",
    "capacity.SOURCE = capacity.SOURCE.astype(str)\n",
    "\n",
    "# GLOFAS4\n",
    "capacity.loc[glofas4.index, 'GLOFAS4'] = glofas4.stor\n",
    "\n",
    "# GRanD\n",
    "capacity.loc[grand.index, 'GRAND'] = grand.CAP_MCM\n",
    "\n",
    "# GLWD\n",
    "capacity.loc[glwd.index, 'GLWD'] = glwd.VOLUME_CKM * 1e3\n",
    "\n",
    "# ICOLD\n",
    "capacity.loc[icold.index, 'ICOLD'] = icold.Res_Vol.values * 1e-3"
   ]
  },
  {
   "cell_type": "markdown",
   "id": "6cb9f8e7-ac1a-4226-950a-5a59efe1a95d",
   "metadata": {},
   "source": [
    "#### Comparison"
   ]
  },
  {
   "cell_type": "code",
   "execution_count": null,
   "id": "c46d5296-d4f0-4fd4-8ce2-ca5e7dbb3ada",
   "metadata": {},
   "outputs": [],
   "source": [
    "compare_attributes(\n",
    "    capacity[['GLOFAS4', 'ICOLD', 'GLWD', 'GRAND']],\n",
    "    thr=MIN_VOLUME,\n",
    "    vmin=1e-1,\n",
    "    vmax=1e6,\n",
    "    title='storage (hm3)',\n",
    "    scale='log',\n",
    ")\n",
    "plt.savefig(PATH_OUT / 'plots' / 'storage_pairplot.jpg', dpi=300, bbox_inches='tight')"
   ]
  },
  {
   "cell_type": "markdown",
   "id": "6df2c2cc-ebdb-465d-9db2-d8841bc272bc",
   "metadata": {},
   "source": [
    "The values in GLWD and GloFAS4 are identical. However, GRanD values are often different; in some cases, the difference is one order of magnitude. I've checked some of the largest differences and, in all but one case, GRanD was the correct source."
   ]
  },
  {
   "cell_type": "code",
   "execution_count": null,
   "id": "46e6b26c-0c79-4851-bbbd-fc0c9603b6c2",
   "metadata": {},
   "outputs": [],
   "source": [
    "glofas5.loc[1068]"
   ]
  },
  {
   "cell_type": "code",
   "execution_count": null,
   "id": "c75cff81-c98c-404b-87ef-8e9b3b3ddbd6",
   "metadata": {},
   "outputs": [],
   "source": [
    "capacity.sort_values('GLOFAS4')"
   ]
  },
  {
   "cell_type": "code",
   "execution_count": null,
   "id": "642f0893-ea5c-402e-ae2f-d27720d0905a",
   "metadata": {
    "tags": []
   },
   "outputs": [],
   "source": [
    "error = 2\n",
    "mask_error = (capacity.GRAND < capacity.GLOFAS4 / error) | (capacity.GRAND > error * capacity.GLOFAS4)\n",
    "print(mask_error.sum())\n",
    "pd.concat((glofas5.loc[mask_error], capacity[mask_error]), axis=1)"
   ]
  },
  {
   "cell_type": "markdown",
   "id": "44ad8400-a711-499a-b5cc-cfc7577d9935",
   "metadata": {},
   "source": [
    "#### Select values\n",
    "\n",
    "I have manually checked the large discrepancies between GLOFAS4 and GRanD. In case of discrepancy, I compare with ICOLD and HydroLakes. It seems like GRanD is a more reliable source, so I will use the value from GRanD whenever possible, if not the value from GLOFAS4."
   ]
  },
  {
   "cell_type": "code",
   "execution_count": null,
   "id": "701b61c2-9ed5-4a81-b8af-0e62687b933f",
   "metadata": {},
   "outputs": [],
   "source": [
    "mask = capacity.GRAND.isnull() & capacity.ICOLD.notnull()"
   ]
  },
  {
   "cell_type": "code",
   "execution_count": null,
   "id": "031659c7-c49d-4280-8ce4-f493c6f9d1b8",
   "metadata": {},
   "outputs": [],
   "source": [
    "pd.concat((glofas5.loc[mask], capacity[mask]), axis=1)"
   ]
  },
  {
   "cell_type": "code",
   "execution_count": null,
   "id": "0feeea0f-741a-4c77-9547-d2f66318a21e",
   "metadata": {},
   "outputs": [],
   "source": [
    "# select value from GRAND, GLOFAS4, HYLAK or ICOLD in that order\n",
    "for source in ['GRAND', 'GLWD', 'ICOLD']:\n",
    "    missing = capacity.GLOFAS5.isnull()\n",
    "    mask = capacity[source].notnull()\n",
    "    capacity.loc[missing & mask, 'GLOFAS5'] = capacity.loc[missing & mask, source]\n",
    "    capacity.loc[missing & mask, 'SOURCE'] = source"
   ]
  },
  {
   "cell_type": "code",
   "execution_count": null,
   "id": "c58b6bfb-d27e-423a-a016-80e1400b28d6",
   "metadata": {},
   "outputs": [],
   "source": [
    "capacity.GLOFAS5.isnull().sum(), capacity.SOURCE.value_counts()"
   ]
  },
  {
   "cell_type": "code",
   "execution_count": null,
   "id": "5c9cd2fd-9a87-4207-83a1-c4d7f8bfb166",
   "metadata": {},
   "outputs": [],
   "source": [
    "fig, ax = plt.subplots(figsize=(20, 5), subplot_kw=dict(projection=ccrs.PlateCarree()))\n",
    "ax.add_feature(cfeature.NaturalEarthFeature('physical', 'land', '10m', edgecolor='face', facecolor='lightgray'), alpha=.5, zorder=0)\n",
    "sct = ax.scatter(\n",
    "    glofas5.geometry.x,\n",
    "    glofas5.geometry.y,\n",
    "    c=np.log10(capacity.GLOFAS5),\n",
    "    cmap='viridis',\n",
    "    s=5,\n",
    "    vmin=np.log10(MIN_VOLUME),\n",
    "    # vmax=2.5\n",
    ")\n",
    "cbar = plt.colorbar(sct, shrink=.5, label='storage (hm3)')\n",
    "ticks = [2, 3, 4, 5]\n",
    "cbar.set_ticks(ticks)\n",
    "cbar.set_ticklabels([10**x for x in ticks])\n",
    "plt.axis('off');\n",
    "plt.savefig(PATH_OUT / 'plots' / 'storage_map.jpg', dpi=300, bbox_inches='tight')\n",
    "\n",
    "# add values to GLOFAS5\n",
    "glofas5.loc[capacity.index, ['CAP_MCM', 'CAP_SRC']] = capacity[['GLOFAS5', 'SOURCE']].values\n",
    "\n",
    "print('{0} reservoirs do not comply with the minimum storage of {1} hm3'.format((glofas5.CAP_MCM < MIN_VOLUME).sum(),\n",
    "                                                                                MIN_VOLUME))"
   ]
  },
  {
   "cell_type": "markdown",
   "id": "4edda088-9224-4d27-8962-27a2196df534",
   "metadata": {},
   "source": [
    "### Catchment area"
   ]
  },
  {
   "cell_type": "code",
   "execution_count": null,
   "id": "8ac4bed5-dc1f-486f-8775-07bb29795ba7",
   "metadata": {},
   "outputs": [],
   "source": [
    "catchment = pd.DataFrame(index=glofas5.index, columns=['UPAREA', 'GRAND', 'GLWD', 'ICOLD', 'GLOFAS5', 'SOURCE'], dtype='float')\n",
    "catchment.SOURCE = catchment.SOURCE.astype(str)\n",
    "\n",
    "# upstream area map\n",
    "catchment.loc[poi['ID'], 'UPAREA'] = np.round(uparea.sel({'x': poi['x'], 'y': poi['y']}, method='nearest').to_pandas(), 0)\n",
    "\n",
    "# GRanD\n",
    "catchment.loc[grand.index, 'GRAND'] = grand.CATCH_SKM\n",
    "\n",
    "# GLWD\n",
    "catchment.loc[glwd.index, 'GLWD'] = glwd.CATCH_TSKM * 1e3\n",
    "\n",
    "# ICOLD\n",
    "catchment.loc[icold.index, 'ICOLD'] = icold.Catch_Area.values"
   ]
  },
  {
   "cell_type": "markdown",
   "id": "f6d695b4-c483-495f-994e-932a1c3f15bc",
   "metadata": {},
   "source": [
    "#### Comparison"
   ]
  },
  {
   "cell_type": "code",
   "execution_count": null,
   "id": "46bf41ea-cbe6-447e-b5a9-fc3b7b6638af",
   "metadata": {},
   "outputs": [],
   "source": [
    "compare_attributes(\n",
    "    catchment[['UPAREA', 'ICOLD', 'GLWD', 'GRAND']],\n",
    "    thr=MIN_CATCHMENT,\n",
    "    vmin=1,\n",
    "    vmax=1e7,\n",
    "    title='catchment (km²)'\n",
    ")\n",
    "plt.savefig(PATH_OUT / 'plots' / 'catchment_pairplot.jpg', dpi=300, bbox_inches='tight')"
   ]
  },
  {
   "cell_type": "code",
   "execution_count": null,
   "id": "f3b54aec-0f2b-49a0-93e2-b2dc4f7105ae",
   "metadata": {},
   "outputs": [],
   "source": [
    "error = 1.5\n",
    "mask_error = (catchment.GRAND < catchment.UPAREA / error) | (catchment.GRAND > error * catchment.UPAREA)\n",
    "print(mask_error.sum())\n",
    "pd.concat((glofas5[mask_error], catchment[mask_error]), axis=1)"
   ]
  },
  {
   "cell_type": "code",
   "execution_count": null,
   "id": "cdaba492-070c-4230-94af-9fa9284f6f98",
   "metadata": {},
   "outputs": [],
   "source": [
    "foo = pd.concat(\n",
    "    (glofas5[mask_error][['RES_ID', 'LAK_ID', 'GRAND_ID', 'GLWD_ID', 'INT_CODE', 'geometry']],\n",
    "     np.round(catchment[mask_error][['UPAREA', 'GRAND', 'GLWD', 'ICOLD']], 0)),\n",
    "    axis=1\n",
    ").sort_values('GRAND_ID')"
   ]
  },
  {
   "cell_type": "code",
   "execution_count": null,
   "id": "b55723a8-07d3-41c7-803c-07c3c3cfad5f",
   "metadata": {},
   "outputs": [],
   "source": [
    "foo"
   ]
  },
  {
   "cell_type": "code",
   "execution_count": null,
   "id": "29b6ca6d-7301-4dd1-afb6-b5cc493de170",
   "metadata": {},
   "outputs": [],
   "source": [
    "# foo.to_file(PATH_OUT / 'errors_area.shp')"
   ]
  },
  {
   "cell_type": "markdown",
   "id": "0927a49c-4af5-4634-bbb8-bdfeb5cff99c",
   "metadata": {},
   "source": [
    "#### Select values\n",
    "\n",
    "Following the procedure applied for the storage capacity, I will use the GRanD value when available."
   ]
  },
  {
   "cell_type": "code",
   "execution_count": null,
   "id": "a71ec4c5-3201-468d-a1a5-8fb20a1f14aa",
   "metadata": {},
   "outputs": [],
   "source": [
    "# select value from GRAND, GLOFAS4, HYLAK or ICOLD in that order\n",
    "for source in ['GRAND', 'GLWD', 'ICOLD', 'UPAREA']:\n",
    "    missing = catchment.GLOFAS5.isnull()\n",
    "    mask = catchment[source].notnull()\n",
    "    catchment.loc[missing & mask, 'GLOFAS5'] = catchment.loc[missing & mask, source]\n",
    "    catchment.loc[missing & mask, 'SOURCE'] = source"
   ]
  },
  {
   "cell_type": "code",
   "execution_count": null,
   "id": "8db0a75e-0e74-4f9b-b3f6-5a950c7b13fa",
   "metadata": {},
   "outputs": [],
   "source": [
    "catchment.GLOFAS5.isnull().sum(), catchment.SOURCE.value_counts()"
   ]
  },
  {
   "cell_type": "code",
   "execution_count": null,
   "id": "1779bc2d-ee4d-4b55-818c-fbc105cc615a",
   "metadata": {},
   "outputs": [],
   "source": [
    "fig, ax = plt.subplots(figsize=(20, 5), subplot_kw=dict(projection=ccrs.PlateCarree()))\n",
    "ax.add_feature(cfeature.NaturalEarthFeature('physical', 'land', '10m', edgecolor='face', facecolor='lightgray'), alpha=.5, zorder=0)\n",
    "sct = ax.scatter(\n",
    "    glofas5.geometry.x,\n",
    "    glofas5.geometry.y,\n",
    "    c=np.log10(catchment.GLOFAS5),\n",
    "    cmap='viridis_r',\n",
    "    s=5,\n",
    "    vmin=np.log10(MIN_CATCHMENT),\n",
    "    # vmax=2.5\n",
    ")\n",
    "cbar = plt.colorbar(sct, shrink=.5, label='catchment (km2)')\n",
    "ticks = [3, 4, 5, 6]\n",
    "cbar.set_ticks(ticks)\n",
    "cbar.set_ticklabels([10**x for x in ticks])\n",
    "plt.axis('off');\n",
    "plt.savefig(PATH_OUT / 'plots' / 'catchment_map.jpg', dpi=300, bbox_inches='tight')\n",
    "\n",
    "# add values to GLOFAS5\n",
    "glofas5.loc[catchment.index, ['CATCH_SKM', 'CATCH_SRC']] = catchment[['GLOFAS5', 'SOURCE']].values\n",
    "print('{0} reservoirs do not comply with the minimum catchment area of {1} km²'.format((glofas5.CATCH_SKM < MIN_CATCHMENT).sum(),\n",
    "                                                                                       MIN_CATCHMENT))"
   ]
  },
  {
   "cell_type": "markdown",
   "id": "9e2e55ca-2d0b-40e4-8efc-90342808c651",
   "metadata": {},
   "source": [
    "### Surface area"
   ]
  },
  {
   "cell_type": "code",
   "execution_count": null,
   "id": "4d24285e-323b-4073-a53c-4172d1166e7d",
   "metadata": {},
   "outputs": [],
   "source": [
    "area = pd.DataFrame(index=glofas5.index, columns=['GRAND', 'GLWD', 'ICOLD', 'GLOFAS5', 'SOURCE'], dtype=float)\n",
    "area.SOURCE = area.SOURCE.astype(str)\n",
    "\n",
    "# GRanD\n",
    "area.loc[grand.index, 'GRAND'] = grand.AREA_SKM\n",
    "\n",
    "# GLWD\n",
    "area.loc[glwd.index, 'GLWD'] = glwd.AREA_SKM\n",
    "\n",
    "# ICOLD\n",
    "area.loc[icold.index, 'ICOLD'] = icold.Res_Area.values * 1e-3"
   ]
  },
  {
   "cell_type": "markdown",
   "id": "ed0962e7-d9a1-4d12-acd2-780f26c41390",
   "metadata": {},
   "source": [
    "#### Comparison"
   ]
  },
  {
   "cell_type": "code",
   "execution_count": null,
   "id": "42cc9450-b6de-4238-aa9c-4bafc5e2333a",
   "metadata": {},
   "outputs": [],
   "source": [
    "compare_attributes(\n",
    "    area[['GRAND', 'ICOLD', 'GLWD']],\n",
    "    thr=MIN_AREA,\n",
    "    vmin=1,\n",
    "    vmax=1e5,\n",
    "    title='area (km²)'\n",
    ")\n",
    "plt.savefig(PATH_OUT / 'plots' / 'area_pairplot.jpg', dpi=300, bbox_inches='tight')"
   ]
  },
  {
   "cell_type": "markdown",
   "id": "a1033b76-1de4-4e95-a761-7acb9acfbf36",
   "metadata": {},
   "source": [
    "There is an eror in the units in some ICOLD values."
   ]
  },
  {
   "cell_type": "markdown",
   "id": "6868f1bd-5aea-4c69-88e5-dc8457f4e358",
   "metadata": {},
   "source": [
    "#### Select values"
   ]
  },
  {
   "cell_type": "code",
   "execution_count": null,
   "id": "58e71664-dd66-478e-8489-ee0454dc4024",
   "metadata": {},
   "outputs": [],
   "source": [
    "# select value from GRAND, GLOFAS4, HYLAK or ICOLD in that order\n",
    "for source in ['GRAND', 'GLWD', 'ICOLD']:\n",
    "    missing = area.GLOFAS5.isnull()\n",
    "    mask = area[source].notnull()\n",
    "    area.loc[missing & mask, 'GLOFAS5'] = area.loc[missing & mask, source]\n",
    "    area.loc[missing & mask, 'SOURCE'] = source"
   ]
  },
  {
   "cell_type": "code",
   "execution_count": null,
   "id": "f9446457-ecb9-4ebe-96c3-9676898fb354",
   "metadata": {},
   "outputs": [],
   "source": [
    "area.GLOFAS5.isnull().sum(), area.SOURCE.value_counts()"
   ]
  },
  {
   "cell_type": "code",
   "execution_count": null,
   "id": "4cb6d82d-1780-45b0-bbc1-e71bd8de0cce",
   "metadata": {},
   "outputs": [],
   "source": [
    "fig, ax = plt.subplots(figsize=(20, 5), subplot_kw=dict(projection=ccrs.PlateCarree()))\n",
    "ax.add_feature(cfeature.NaturalEarthFeature('physical', 'land', '10m', edgecolor='face', facecolor='lightgray'), alpha=.5, zorder=0)\n",
    "sct = ax.scatter(\n",
    "    glofas5.geometry.x,\n",
    "    glofas5.geometry.y,\n",
    "    c=np.log10(area.GLOFAS5),\n",
    "    cmap='viridis_r',\n",
    "    s=5,\n",
    "    # vmin=0,\n",
    "    # vmax=2.5\n",
    ")\n",
    "cbar = plt.colorbar(sct, shrink=.5, label='area (km2)')\n",
    "ticks = [1, 2, 3, 4]\n",
    "cbar.set_ticks(ticks)\n",
    "cbar.set_ticklabels([10**x for x in ticks])\n",
    "plt.axis('off');\n",
    "plt.savefig(PATH_OUT / 'plots' / 'area_map.jpg', dpi=300, bbox_inches='tight')"
   ]
  },
  {
   "cell_type": "code",
   "execution_count": null,
   "id": "46905998-fa67-4c68-8740-dd0102f3569c",
   "metadata": {},
   "outputs": [],
   "source": [
    "# add values to GLOFAS5\n",
    "glofas5.loc[area.index, ['AREA_SKM', 'AREA_SRC']] = area[['GLOFAS5', 'SOURCE']].values"
   ]
  },
  {
   "cell_type": "markdown",
   "id": "ecff9e6d-7670-4869-a86e-4e2bd8aeb0a7",
   "metadata": {},
   "source": [
    "### Mean inflow"
   ]
  },
  {
   "cell_type": "markdown",
   "id": "b9744131-4bdb-4946-adb5-fb7f20bc4b8d",
   "metadata": {},
   "source": [
    "I do not include the values reported in HydroLakes (`Dis_avg`) because they are identical to those in GRanD."
   ]
  },
  {
   "cell_type": "code",
   "execution_count": null,
   "id": "a4c7d949-a0dd-4032-a7c5-da39962e019b",
   "metadata": {},
   "outputs": [],
   "source": [
    "dis_avg = pd.DataFrame(index=glofas5.index, columns=['GLOFAS4', 'LTR', 'GRAND', 'GLWD', 'GLOFAS5', 'SOURCE'], dtype=float)\n",
    "dis_avg.SOURCE = dis_avg.SOURCE.astype(str)\n",
    "\n",
    "# GLOFAS4 reservoir parameter\n",
    "dis_avg.loc[glofas4.index, 'GLOFAS4'] = glofas4.normq\n",
    "\n",
    "# GLOFAS4 long-run average\n",
    "dis_avg['LTR'] = dis_avg_ltr.sel({'x': poi['x'], 'y': poi['y']}, method='nearest').to_pandas()\n",
    "\n",
    "# GRanD\n",
    "dis_avg.loc[mask.index, 'GRAND'] = grand.DIS_AVG_LS * 1e-3\n",
    "\n",
    "# GLWD\n",
    "dis_avg.loc[glwd.index, 'GLWD'] = glwd.INFLOW_CMS"
   ]
  },
  {
   "cell_type": "markdown",
   "id": "fa219a27-34b9-4cba-b6c3-3ee55a92b323",
   "metadata": {},
   "source": [
    "#### Comparison"
   ]
  },
  {
   "cell_type": "code",
   "execution_count": null,
   "id": "b9cb1de5-3a10-4702-ba29-395d19c3a992",
   "metadata": {},
   "outputs": [],
   "source": [
    "compare_attributes(\n",
    "    dis_avg[['GLOFAS4', 'GRAND', 'GLWD', 'LTR']],\n",
    "    thr=0,\n",
    "    vmin=0.01,\n",
    "    vmax=3e4,\n",
    "    title='average discharge (m3/s)'\n",
    ")\n",
    "plt.savefig(PATH_OUT / 'plots' / 'dis_avg_pairplot.jpg', dpi=300, bbox_inches='tight')"
   ]
  },
  {
   "cell_type": "markdown",
   "id": "280a4654-55ed-4039-86df-62235085c664",
   "metadata": {},
   "source": [
    "#### Select values\n",
    "I will use in all cases the average flow in the long-term run."
   ]
  },
  {
   "cell_type": "code",
   "execution_count": null,
   "id": "d7863798-eb86-4e4b-8ac2-d94d97f8c41d",
   "metadata": {},
   "outputs": [],
   "source": [
    "# select values from the GLOFAS4 long-term run\n",
    "dis_avg.GLOFAS5 = dis_avg.LTR\n",
    "dis_avg.SOURCE = 'GLOFAS4_ltr'\n",
    "\n",
    "fig, ax = plt.subplots(figsize=(20, 5), subplot_kw=dict(projection=ccrs.PlateCarree()))\n",
    "ax.add_feature(cfeature.NaturalEarthFeature('physical', 'land', '10m', edgecolor='face', facecolor='lightgray'), alpha=.5, zorder=0)\n",
    "sct = ax.scatter(\n",
    "    glofas5.geometry.x,\n",
    "    glofas5.geometry.y,\n",
    "    c=dis_avg.GLOFAS5 / catchment.UPAREA * 3.6 * 24,\n",
    "    cmap='viridis_r',\n",
    "    s=5,\n",
    ")\n",
    "cbar = plt.colorbar(sct, shrink=.5, label='average discharge\\n(mm/day)')\n",
    "plt.axis('off');\n",
    "plt.savefig(PATH_OUT / 'plots' / 'dis_avg_map.jpg', dpi=300, bbox_inches='tight')\n",
    "\n",
    "# add values to GLOFAS5\n",
    "glofas5.loc[dis_avg.index, 'DISAVG_CMS'] = dis_avg['GLOFAS5'].round(1).values\n",
    "\n",
    "print('{0} reservoirs have an average inflow below 1 m3/s'.format((glofas5.DISAVG_CMS < 1).sum()))"
   ]
  },
  {
   "cell_type": "markdown",
   "id": "10848891-a918-4ae8-bd11-b61fcb035ea9",
   "metadata": {},
   "source": [
    "### Degree of regulation\n",
    "\n",
    "The degree of regulation is the amount of annual inflow that the reservoir can store. I'll cap this value to 100 years (same as GRanD does), since it's not feasible that a reservoir was designed to store that amount of water."
   ]
  },
  {
   "cell_type": "code",
   "execution_count": null,
   "id": "23dc8939-575d-4f63-9a81-ff163cace9e7",
   "metadata": {},
   "outputs": [],
   "source": [
    "dor = pd.DataFrame(index=glofas5.index, columns=['GLOFAS5', 'GRAND', 'GLWD'], dtype=float)\n",
    "\n",
    "# GLOFAS5\n",
    "dor['GLOFAS5'] = np.minimum(glofas5.CAP_MCM * 1e6 / (glofas5.DISAVG_CMS  * 24 * 3600 * 365), 100)\n",
    "\n",
    "# GRanD\n",
    "dor.loc[grand.index, 'GRAND'] = grand.DOR_PC.values / 100\n",
    "\n",
    "# GLWD\n",
    "dor.loc[glwd.index, 'GLWD'] = np.minimum(glwd.VOLUME_CKM * 1e9 / (glwd.INFLOW_CMS * 24 * 3600 * 365), 100)"
   ]
  },
  {
   "cell_type": "markdown",
   "id": "a5a9fc07-bf94-4051-a0d0-1ca5340ae0af",
   "metadata": {},
   "source": [
    "#### Comparison"
   ]
  },
  {
   "cell_type": "code",
   "execution_count": null,
   "id": "d447b98d-588f-4f8d-b4c4-885940637c66",
   "metadata": {},
   "outputs": [],
   "source": [
    "compare_attributes(\n",
    "    dor[['GLOFAS5', 'GLWD', 'GRAND']],\n",
    "    thr=0,\n",
    "    vmin=0.001,\n",
    "    vmax=150,\n",
    "    title='degree of regulation (-)'\n",
    ")\n",
    "plt.savefig(PATH_OUT / 'plots' / 'dor_pairplot.jpg', dpi=300, bbox_inches='tight')"
   ]
  },
  {
   "cell_type": "markdown",
   "id": "de8e79e2-b4b8-43a6-840a-a1165376b80b",
   "metadata": {},
   "source": [
    "#### Select values\n",
    "\n",
    "I will use the values obtained from the attributes in GLOFAS5."
   ]
  },
  {
   "cell_type": "code",
   "execution_count": null,
   "id": "52b784b0-d402-4e6e-af50-bfbd823eab16",
   "metadata": {},
   "outputs": [],
   "source": [
    "fig, ax = plt.subplots(figsize=(20, 5), subplot_kw=dict(projection=ccrs.PlateCarree()))\n",
    "ax.add_feature(cfeature.NaturalEarthFeature('physical', 'land', '10m', edgecolor='face', facecolor='lightgray'), alpha=.5, zorder=0)\n",
    "sct = ax.scatter(\n",
    "    glofas5.geometry.x,\n",
    "    glofas5.geometry.y,\n",
    "    c=dor.GLOFAS5,\n",
    "    cmap='viridis_r',\n",
    "    s=5,\n",
    "    vmin=0,\n",
    "    vmax=10\n",
    ")\n",
    "cbar = plt.colorbar(sct, shrink=.5, label='degree of regulation\\n(-)')\n",
    "plt.axis('off');\n",
    "plt.savefig(PATH_OUT / 'plots' / 'dor_map.jpg', dpi=300, bbox_inches='tight')"
   ]
  },
  {
   "cell_type": "code",
   "execution_count": null,
   "id": "51917225-6dec-4ac0-bf65-78af888b620c",
   "metadata": {},
   "outputs": [],
   "source": [
    "glofas5['DOR'] = dor.GLOFAS5.round(3)\n",
    "\n",
    "print('{0} reservoirs do not comply with the minimum degree of regulation {1}'.format((glofas5.DOR < MIN_DOR).sum(),\n",
    "                                                                                       MIN_DOR))\n",
    "print('{0} reservoirs have a degree of regulation larger than 10 years'.format((glofas5.DOR > 10).sum()))"
   ]
  },
  {
   "cell_type": "markdown",
   "id": "92ff439f-c9a4-4ae1-8745-62d1e23918bf",
   "metadata": {},
   "source": [
    "There are problems in the computation of the degree of regulation, inherited either from the reservoir storage or the average inflow. It's not realistic that 84 reservoirs were designed to store 10 years of inflow."
   ]
  },
  {
   "cell_type": "markdown",
   "id": "59076c50-93e3-4239-9ef0-1ce7cd389c17",
   "metadata": {},
   "source": [
    "### 100-year return period"
   ]
  },
  {
   "cell_type": "code",
   "execution_count": null,
   "id": "faf8d5e6-75a3-4a9a-b7ff-4569a3476479",
   "metadata": {},
   "outputs": [],
   "source": [
    "dis_100 = pd.DataFrame(index=glofas5.index, columns=['GLOFAS4', 'LTR', 'GLOFAS5', 'SOURCE'], dtype=float)\n",
    "dis_100.SOURCE = dis_100.SOURCE.astype(str)\n",
    "\n",
    "# GLOFAS4\n",
    "dis_100.loc[glofas4.index, 'GLOFAS4'] = glofas4.ndq\n",
    "    \n",
    "# GLOFAS4 long-run average\n",
    "dis_100['LTR'] = dis_100_ltr.sel({'x': poi['x'], 'y': poi['y']}, method='nearest').to_pandas()"
   ]
  },
  {
   "cell_type": "markdown",
   "id": "fd00ee3c-a51b-4654-a6f6-fd5fbf232059",
   "metadata": {},
   "source": [
    "#### Comparison"
   ]
  },
  {
   "cell_type": "code",
   "execution_count": null,
   "id": "5e781e9f-187a-46f5-a906-ab44a36c3989",
   "metadata": {},
   "outputs": [],
   "source": [
    "compare_attributes(\n",
    "    dis_100[['GLOFAS4', 'LTR']],\n",
    "    thr=0,\n",
    "    vmin=0.1,\n",
    "    vmax=1e5,\n",
    "    title='100-year discharge (m3/s)',\n",
    "    # scale='linear'\n",
    ")\n",
    "plt.savefig(PATH_OUT / 'plots' / 'dis_100_pairplot.jpg', dpi=300, bbox_inches='tight');"
   ]
  },
  {
   "cell_type": "markdown",
   "id": "38bac150-ff59-4e2b-8e22-e0879fbd94f6",
   "metadata": {},
   "source": [
    "#### Select values"
   ]
  },
  {
   "cell_type": "code",
   "execution_count": null,
   "id": "236bdac2-a3b2-4341-acb6-1a6a3d815d58",
   "metadata": {},
   "outputs": [],
   "source": [
    "# select values from the GLOFAS4 long-term run\n",
    "dis_100.GLOFAS5 = dis_100.LTR\n",
    "dis_100.SOURCE = 'GLOFAS4_ltr'\n",
    "\n",
    "fig, ax = plt.subplots(figsize=(20, 5), subplot_kw=dict(projection=ccrs.PlateCarree()))\n",
    "ax.add_feature(cfeature.NaturalEarthFeature('physical', 'land', '10m', edgecolor='face', facecolor='lightgray'), alpha=.5, zorder=0)\n",
    "sct = ax.scatter(\n",
    "    glofas5.geometry.x,\n",
    "    glofas5.geometry.y,\n",
    "    c=dis_100.GLOFAS5 / catchment.UPAREA * 3.6 * 24,\n",
    "    cmap='viridis_r',\n",
    "    s=5,\n",
    ")\n",
    "cbar = plt.colorbar(sct, shrink=.5, label='100-year discharge\\n(mm/day)')\n",
    "plt.axis('off');\n",
    "plt.savefig(PATH_OUT / 'plots' / 'dis_100_map.jpg', dpi=300, bbox_inches='tight')\n",
    "\n",
    "# add values to GLOFAS5\n",
    "glofas5.loc[dis_100.index, 'DIS100_CMS'] = dis_100['GLOFAS5'].round(1).values\n",
    "\n",
    "print('{0} reservoirs have an 100-year inflow below 10 m3/s'.format((glofas5.DIS100_CMS < 10).sum()))"
   ]
  },
  {
   "cell_type": "markdown",
   "id": "87037429-7ae1-42b4-aca1-6084bcf9a792",
   "metadata": {},
   "source": [
    "### Environment flow"
   ]
  },
  {
   "cell_type": "code",
   "execution_count": null,
   "id": "ba9b61ce-d9ae-4e11-9b1f-3d605c80cfe7",
   "metadata": {},
   "outputs": [],
   "source": [
    "# dis_env = pd.DataFrame(index=glofas5.index, columns=['GLOFAS4', 'LTR', 'GLOFAS5', 'SOURCE'], dtype=float)\n",
    "# dis_env.SOURCE = dis_env.SOURCE.astype(str)\n",
    "\n",
    "# # GLOFAS4\n",
    "# dis_env.loc[glofas4.index, 'GLOFAS4'] = glofas4.minq\n",
    "\n",
    "# GLOFAS4 long-term run\n",
    "# dis_env['LTR'] = dis_nat.sel(time=slice('2000-01-01', None)).quantile(.1, dim='time').to_pandas()\n",
    "\n",
    "# # GLOFAS4 naturalised run\n",
    "# for ID, point in glofas5.geometry.items():\n",
    "#     dis_env.loc[ID, 'D2'] = dis_env_nat.sel(lon=point.x, lat=point.y, method='nearest').item()"
   ]
  },
  {
   "cell_type": "markdown",
   "id": "113f40d7-2214-4c23-9dd6-f44e055dfa7c",
   "metadata": {},
   "source": [
    "#### Comparison"
   ]
  },
  {
   "cell_type": "code",
   "execution_count": null,
   "id": "7c2c1fe1-8f7c-4eba-9665-9e0f0d4f71e7",
   "metadata": {},
   "outputs": [],
   "source": [
    "# compare_attributes(\n",
    "#     dis_env[['GLOFAS4', 'LTR']],\n",
    "#     thr=0,\n",
    "#     vmin=1e-4,\n",
    "#     vmax=1e4,\n",
    "#     title='environmental discharge (m3/s)',\n",
    "#     # scale='linear'\n",
    "# )\n",
    "# plt.savefig(PATH_OUT / 'plots' / 'dis_env_pairplot.jpg', dpi=300, bbox_inches='tight');"
   ]
  },
  {
   "cell_type": "markdown",
   "id": "c7fe3bcf-aad0-485b-982f-958b56a5bbc7",
   "metadata": {},
   "source": [
    "#### Select values\n",
    "\n",
    "I will select the values extracted from the D2 map, as it limits extremely low values."
   ]
  },
  {
   "cell_type": "code",
   "execution_count": null,
   "id": "a230122e-f889-426f-aa80-6ab98cd9337f",
   "metadata": {},
   "outputs": [],
   "source": [
    "# # select values from the GLOFAS4 naturalised run\n",
    "# dis_env.GLOFAS5 = dis_env.D2\n",
    "# dis_env.SOURCE = 'GLOFAS4_ltr'\n",
    "\n",
    "# fig, ax = plt.subplots(figsize=(20, 5), subplot_kw=dict(projection=ccrs.PlateCarree()))\n",
    "# ax.add_feature(cfeature.NaturalEarthFeature('physical', 'land', '10m', edgecolor='face', facecolor='lightgray'), alpha=.5, zorder=0)\n",
    "# sct = ax.scatter(\n",
    "#     glofas5.geometry.x,\n",
    "#     glofas5.geometry.y,\n",
    "#     c=dis_env.GLOFAS5 / catchment.UPAREA * 3.6 * 24,\n",
    "#     cmap='viridis_r',\n",
    "#     s=5,\n",
    "#     # vmin=0,\n",
    "#     # vmax=2.5\n",
    "# )\n",
    "# cbar = plt.colorbar(sct, shrink=.5, label='environmental discharge\\n(mm/day)')\n",
    "# plt.axis('off');\n",
    "# plt.savefig(PATH_OUT / 'plots' / 'dis_env_map.jpg', dpi=300, bbox_inches='tight')\n",
    "\n",
    "# # add values to GLOFAS5\n",
    "# glofas5.loc[dis_env.index, 'DISENV_CMS'] = dis_env['GLOFAS5'].round(4).values\n",
    "\n",
    "# print('{0} reservoirs have an environmental flow below 0.1 m3/s'.format((glofas5.DISENV_CMS < 0.1).sum()))"
   ]
  },
  {
   "cell_type": "markdown",
   "id": "57e2d175-bda9-4611-92ce-682dca5be916",
   "metadata": {},
   "source": [
    "There are very low values of environmental flow."
   ]
  },
  {
   "cell_type": "markdown",
   "id": "6db2b0f3-6fe4-432c-9d3c-577d18d5c655",
   "metadata": {},
   "source": [
    "## Export\n",
    "### Excel file"
   ]
  },
  {
   "cell_type": "code",
   "execution_count": null,
   "id": "0df9515e-43f2-4053-a867-1ce294452061",
   "metadata": {},
   "outputs": [],
   "source": [
    "# copy glofas5 as main source\n",
    "reservoirs = glofas5.copy()\n",
    "\n",
    "# LISFLOOD coordinates\n",
    "reservoirs['LisfloodX'] = reservoirs.geometry.x\n",
    "reservoirs['LisfloodY'] = reservoirs.geometry.y\n",
    "\n",
    "# source of discharge data\n",
    "reservoirs['DIS_SRC'] = 'GLOFAS4_ltr'\n",
    "\n",
    "# add data from GRanD\n",
    "grand_ids = reservoirs.GRAND_ID.dropna()\n",
    "grand_cols = ['RES_NAME', 'DAM_NAME', 'RIVER', 'MAIN_BASIN', 'COUNTRY', 'YEAR', 'LONG_DD', 'LAT_DD']\n",
    "reservoirs.loc[grand_ids.index, grand_cols] = grand.loc[grand_ids.index, grand_cols].values\n",
    "\n",
    "# add info from GLOFAS4\n",
    "ids = reservoirs[reservoirs.GRAND_ID.isnull() & reservoirs.RES_ID.notnull()].index\n",
    "cols_glofas4 = ['COUNTRY', 'DAM_NAME', 'RIVER']\n",
    "reservoirs.loc[ids, cols_glofas4] = glofas4.loc[ids, cols_glofas4]\n",
    "\n",
    "# reorder and rename columns\n",
    "cols = ['RES_ID', 'GRAND_ID', 'GLWD_ID', 'INT_CODE', \n",
    "        'RES_NAME', 'DAM_NAME', 'RIVER', 'MAIN_BASIN', 'COUNTRY', 'YEAR',\n",
    "        'LONG_DD', 'LAT_DD', 'LisfloodX', 'LisfloodY',\n",
    "        'CAP_MCM', 'CAP_SRC', 'CATCH_SKM', 'CATCH_SRC', 'AREA_SKM', 'AREA_SRC', #'DISENV_CMS',\n",
    "        'DISAVG_CMS', 'DIS100_CMS', 'DIS_SRC', 'DOR',\n",
    "        'geometry']\n",
    "reservoirs = reservoirs[cols]\n",
    "\n",
    "# adapt dtypes\n",
    "reservoirs.YEAR = reservoirs.YEAR.astype('Int64')"
   ]
  },
  {
   "cell_type": "code",
   "execution_count": null,
   "id": "444eb8e8-17cb-4955-80e3-e570fcc94b19",
   "metadata": {},
   "outputs": [],
   "source": [
    "# reset index\n",
    "# reservoirs['FID'] = np.arange(1, reservoirs.shape[0] + 1)\n",
    "# reservoirs.loc[reservoirs.ResID > 5000, 'FID'] = reservoirs.loc[reservoirs.ResID > 5000, 'ResID']\n",
    "idx = []\n",
    "i = glofas4.ResID.max()\n",
    "for res_id in reservoirs.RES_ID.values:\n",
    "    if pd.isna(res_id):\n",
    "        i += 1\n",
    "        idx.append(i)\n",
    "    else:\n",
    "        idx.append(res_id)\n",
    "reservoirs['FID'] = idx\n",
    "reservoirs.set_index('FID', drop=True, inplace=True)\n",
    "reservoirs.sort_index(axis=0, inplace=True)"
   ]
  },
  {
   "cell_type": "code",
   "execution_count": null,
   "id": "11d0b162-8726-42a6-a671-54f1052bff27",
   "metadata": {},
   "outputs": [],
   "source": [
    "# mask_res = (reservoirs.DOR >= MIN_DOR) | ((reservoirs.index > 5000) & (reservoirs.index < 6000)) | (reservoirs.AREA_SKM.isnull())\n",
    "mask_res = reservoirs.DOR >= MIN_DOR\n",
    "print('{0} reservoirs will be modelled as lakes'.format((~mask_res).sum()))"
   ]
  },
  {
   "cell_type": "code",
   "execution_count": null,
   "id": "9ddfa348-86db-4e0c-8117-883aafa292eb",
   "metadata": {},
   "outputs": [],
   "source": [
    "with pd.ExcelWriter(PATH_OUT / 'glofas5_reservoirs.xlsx', engine='openpyxl') as writer:\n",
    "    # Reservoirs in GLOFAS5 (as reservoirs)\n",
    "    reservoirs[mask_res].drop('geometry', axis=1).to_excel(writer, sheet_name='as_reservoirs', float_format='%.4f')\n",
    "    \n",
    "    # Reservoirs modeled as lakes in GLOFAS5 (as lakes)\n",
    "    reservoirs[~mask_res].drop('geometry', axis=1).to_excel(writer, sheet_name='as_lakes', float_format='%.4f')"
   ]
  },
  {
   "cell_type": "markdown",
   "id": "2775d4a3-d008-4b03-9ba9-2ad5a1ba846f",
   "metadata": {},
   "source": [
    "### TXT tables"
   ]
  },
  {
   "cell_type": "code",
   "execution_count": null,
   "id": "0b706063-f253-4f6d-8069-9dba293ceb23",
   "metadata": {},
   "outputs": [],
   "source": [
    "# filter reservoirs to be modelled as reservoirs\n",
    "res = pd.read_excel(PATH_OUT / 'glofas5_reservoirs.xlsx', sheet_name='as_reservoirs', index_col='FID')\n",
    "# res = reservoirs[mask_res]\n",
    "\n",
    "# table reservoir capacity\n",
    "(res.CAP_MCM * 1e6).to_csv(\n",
    "    PATH_OUT / 'reservoirs_glofas5_capacity.txt',\n",
    "    sep='\\t',\n",
    "    header=None,\n",
    "    float_format='%.0f'\n",
    ")\n",
    "\n",
    "# table average discharge\n",
    "res.DISAVG_CMS.round(1).to_csv(\n",
    "    PATH_OUT / 'reservoirs_glofas5_avg_inflow.txt',\n",
    "    sep='\\t',\n",
    "    header=None\n",
    ")\n",
    "\n",
    "# table 100-year discharge\n",
    "res.DIS100_CMS.round(1).to_csv(\n",
    "    PATH_OUT / 'reservoirs_glofas5_100yr_inflow.txt',\n",
    "    sep='\\t',\n",
    "    header=None\n",
    ")"
   ]
  },
  {
   "cell_type": "markdown",
   "id": "8b0013da-1462-46b5-9647-05944a18693f",
   "metadata": {},
   "source": [
    "### NetCDF map"
   ]
  },
  {
   "cell_type": "code",
   "execution_count": null,
   "id": "8e74ac37-9c08-4350-97d1-1e245f1ce65f",
   "metadata": {},
   "outputs": [],
   "source": [
    "# load map from GloFAS4\n",
    "mapa = rxr.open_rasterio(PATH_GLOFAS4 / 'static_maps' / '20220802_reservoirs_Global_03min.nc')#.squeeze(dim='band').astype(int)\n",
    "mapa.close()\n",
    "\n",
    "# remove all lakes\n",
    "mapa[:,:] = 0\n",
    "\n",
    "# assign IDs of lakes in GloFAS5\n",
    "for ID, row in tqdm(res.iterrows(), total=len(res)):\n",
    "    pixel = mapa.sel({'x': row.LisfloodX, 'y': row.LisfloodY}, method='nearest')\n",
    "    mapa.loc[{'x': pixel.x.item(), 'y': pixel.y.item()}] = ID\n",
    "\n",
    "# modify attributes\n",
    "mapa.attrs['contributors'] = 'Juliana Disperati <juliana.disperati@ext.ec.europa.eu'\n",
    "mapa.attrs['creator'] = 'Jesús Casado Rodríguez <jesus.casado-rodriguez@ec.europa.eu'\n",
    "mapa.attrs['creator_name'] = 'casadje'\n",
    "mapa.attrs['history'] = ('Created {0}'.format(datetime.now().strftime(\"%a %b %e %H:%M:%S %Y\")))\n",
    "mapa.attrs['history_of_appended_files'] = ''\n",
    "mapa.attrs['institution'] = 'Joint Research Centre - European Commission'\n",
    "mapa.attrs['references'] = 'https://www.globaldamwatch.org/grand'\n",
    "mapa.attrs['long_name'] = 'reservoirs'\n",
    "\n",
    "# define coordinate reference system\n",
    "mapa = mapa.rio.write_crs('EPSG:4326')\n",
    "\n",
    "# export NetCDF map\n",
    "mapa.rio.to_raster(PATH_OUT / 'reservoirs_glofas5_03min.nc')"
   ]
  },
  {
   "cell_type": "markdown",
   "id": "fc9cc90f-e4d0-4ca8-8e77-f435ca84c5e9",
   "metadata": {},
   "source": [
    "***"
   ]
  },
  {
   "cell_type": "code",
   "execution_count": 11,
   "id": "c6625dd6-0e93-4fa4-ac8e-91be6a91569f",
   "metadata": {},
   "outputs": [],
   "source": [
    "disenv = xr.open_dataset(PATH_GLOFAS4 / 'long_run' / 'dis' / 'thresholds' / 'dis_5thpctl_xarray.nc')['dis']#.squeeze('time')\n",
    "disenv.close()"
   ]
  },
  {
   "cell_type": "code",
   "execution_count": 12,
   "id": "45597cb7-66f3-447d-8964-11fc4479433b",
   "metadata": {},
   "outputs": [
    {
     "data": {
      "text/html": [
       "<div><svg style=\"position: absolute; width: 0; height: 0; overflow: hidden\">\n",
       "<defs>\n",
       "<symbol id=\"icon-database\" viewBox=\"0 0 32 32\">\n",
       "<path d=\"M16 0c-8.837 0-16 2.239-16 5v4c0 2.761 7.163 5 16 5s16-2.239 16-5v-4c0-2.761-7.163-5-16-5z\"></path>\n",
       "<path d=\"M16 17c-8.837 0-16-2.239-16-5v6c0 2.761 7.163 5 16 5s16-2.239 16-5v-6c0 2.761-7.163 5-16 5z\"></path>\n",
       "<path d=\"M16 26c-8.837 0-16-2.239-16-5v6c0 2.761 7.163 5 16 5s16-2.239 16-5v-6c0 2.761-7.163 5-16 5z\"></path>\n",
       "</symbol>\n",
       "<symbol id=\"icon-file-text2\" viewBox=\"0 0 32 32\">\n",
       "<path d=\"M28.681 7.159c-0.694-0.947-1.662-2.053-2.724-3.116s-2.169-2.030-3.116-2.724c-1.612-1.182-2.393-1.319-2.841-1.319h-15.5c-1.378 0-2.5 1.121-2.5 2.5v27c0 1.378 1.122 2.5 2.5 2.5h23c1.378 0 2.5-1.122 2.5-2.5v-19.5c0-0.448-0.137-1.23-1.319-2.841zM24.543 5.457c0.959 0.959 1.712 1.825 2.268 2.543h-4.811v-4.811c0.718 0.556 1.584 1.309 2.543 2.268zM28 29.5c0 0.271-0.229 0.5-0.5 0.5h-23c-0.271 0-0.5-0.229-0.5-0.5v-27c0-0.271 0.229-0.5 0.5-0.5 0 0 15.499-0 15.5 0v7c0 0.552 0.448 1 1 1h7v19.5z\"></path>\n",
       "<path d=\"M23 26h-14c-0.552 0-1-0.448-1-1s0.448-1 1-1h14c0.552 0 1 0.448 1 1s-0.448 1-1 1z\"></path>\n",
       "<path d=\"M23 22h-14c-0.552 0-1-0.448-1-1s0.448-1 1-1h14c0.552 0 1 0.448 1 1s-0.448 1-1 1z\"></path>\n",
       "<path d=\"M23 18h-14c-0.552 0-1-0.448-1-1s0.448-1 1-1h14c0.552 0 1 0.448 1 1s-0.448 1-1 1z\"></path>\n",
       "</symbol>\n",
       "</defs>\n",
       "</svg>\n",
       "<style>/* CSS stylesheet for displaying xarray objects in jupyterlab.\n",
       " *\n",
       " */\n",
       "\n",
       ":root {\n",
       "  --xr-font-color0: var(--jp-content-font-color0, rgba(0, 0, 0, 1));\n",
       "  --xr-font-color2: var(--jp-content-font-color2, rgba(0, 0, 0, 0.54));\n",
       "  --xr-font-color3: var(--jp-content-font-color3, rgba(0, 0, 0, 0.38));\n",
       "  --xr-border-color: var(--jp-border-color2, #e0e0e0);\n",
       "  --xr-disabled-color: var(--jp-layout-color3, #bdbdbd);\n",
       "  --xr-background-color: var(--jp-layout-color0, white);\n",
       "  --xr-background-color-row-even: var(--jp-layout-color1, white);\n",
       "  --xr-background-color-row-odd: var(--jp-layout-color2, #eeeeee);\n",
       "}\n",
       "\n",
       "html[theme=dark],\n",
       "body.vscode-dark {\n",
       "  --xr-font-color0: rgba(255, 255, 255, 1);\n",
       "  --xr-font-color2: rgba(255, 255, 255, 0.54);\n",
       "  --xr-font-color3: rgba(255, 255, 255, 0.38);\n",
       "  --xr-border-color: #1F1F1F;\n",
       "  --xr-disabled-color: #515151;\n",
       "  --xr-background-color: #111111;\n",
       "  --xr-background-color-row-even: #111111;\n",
       "  --xr-background-color-row-odd: #313131;\n",
       "}\n",
       "\n",
       ".xr-wrap {\n",
       "  display: block;\n",
       "  min-width: 300px;\n",
       "  max-width: 700px;\n",
       "}\n",
       "\n",
       ".xr-text-repr-fallback {\n",
       "  /* fallback to plain text repr when CSS is not injected (untrusted notebook) */\n",
       "  display: none;\n",
       "}\n",
       "\n",
       ".xr-header {\n",
       "  padding-top: 6px;\n",
       "  padding-bottom: 6px;\n",
       "  margin-bottom: 4px;\n",
       "  border-bottom: solid 1px var(--xr-border-color);\n",
       "}\n",
       "\n",
       ".xr-header > div,\n",
       ".xr-header > ul {\n",
       "  display: inline;\n",
       "  margin-top: 0;\n",
       "  margin-bottom: 0;\n",
       "}\n",
       "\n",
       ".xr-obj-type,\n",
       ".xr-array-name {\n",
       "  margin-left: 2px;\n",
       "  margin-right: 10px;\n",
       "}\n",
       "\n",
       ".xr-obj-type {\n",
       "  color: var(--xr-font-color2);\n",
       "}\n",
       "\n",
       ".xr-sections {\n",
       "  padding-left: 0 !important;\n",
       "  display: grid;\n",
       "  grid-template-columns: 150px auto auto 1fr 20px 20px;\n",
       "}\n",
       "\n",
       ".xr-section-item {\n",
       "  display: contents;\n",
       "}\n",
       "\n",
       ".xr-section-item input {\n",
       "  display: none;\n",
       "}\n",
       "\n",
       ".xr-section-item input + label {\n",
       "  color: var(--xr-disabled-color);\n",
       "}\n",
       "\n",
       ".xr-section-item input:enabled + label {\n",
       "  cursor: pointer;\n",
       "  color: var(--xr-font-color2);\n",
       "}\n",
       "\n",
       ".xr-section-item input:enabled + label:hover {\n",
       "  color: var(--xr-font-color0);\n",
       "}\n",
       "\n",
       ".xr-section-summary {\n",
       "  grid-column: 1;\n",
       "  color: var(--xr-font-color2);\n",
       "  font-weight: 500;\n",
       "}\n",
       "\n",
       ".xr-section-summary > span {\n",
       "  display: inline-block;\n",
       "  padding-left: 0.5em;\n",
       "}\n",
       "\n",
       ".xr-section-summary-in:disabled + label {\n",
       "  color: var(--xr-font-color2);\n",
       "}\n",
       "\n",
       ".xr-section-summary-in + label:before {\n",
       "  display: inline-block;\n",
       "  content: '►';\n",
       "  font-size: 11px;\n",
       "  width: 15px;\n",
       "  text-align: center;\n",
       "}\n",
       "\n",
       ".xr-section-summary-in:disabled + label:before {\n",
       "  color: var(--xr-disabled-color);\n",
       "}\n",
       "\n",
       ".xr-section-summary-in:checked + label:before {\n",
       "  content: '▼';\n",
       "}\n",
       "\n",
       ".xr-section-summary-in:checked + label > span {\n",
       "  display: none;\n",
       "}\n",
       "\n",
       ".xr-section-summary,\n",
       ".xr-section-inline-details {\n",
       "  padding-top: 4px;\n",
       "  padding-bottom: 4px;\n",
       "}\n",
       "\n",
       ".xr-section-inline-details {\n",
       "  grid-column: 2 / -1;\n",
       "}\n",
       "\n",
       ".xr-section-details {\n",
       "  display: none;\n",
       "  grid-column: 1 / -1;\n",
       "  margin-bottom: 5px;\n",
       "}\n",
       "\n",
       ".xr-section-summary-in:checked ~ .xr-section-details {\n",
       "  display: contents;\n",
       "}\n",
       "\n",
       ".xr-array-wrap {\n",
       "  grid-column: 1 / -1;\n",
       "  display: grid;\n",
       "  grid-template-columns: 20px auto;\n",
       "}\n",
       "\n",
       ".xr-array-wrap > label {\n",
       "  grid-column: 1;\n",
       "  vertical-align: top;\n",
       "}\n",
       "\n",
       ".xr-preview {\n",
       "  color: var(--xr-font-color3);\n",
       "}\n",
       "\n",
       ".xr-array-preview,\n",
       ".xr-array-data {\n",
       "  padding: 0 5px !important;\n",
       "  grid-column: 2;\n",
       "}\n",
       "\n",
       ".xr-array-data,\n",
       ".xr-array-in:checked ~ .xr-array-preview {\n",
       "  display: none;\n",
       "}\n",
       "\n",
       ".xr-array-in:checked ~ .xr-array-data,\n",
       ".xr-array-preview {\n",
       "  display: inline-block;\n",
       "}\n",
       "\n",
       ".xr-dim-list {\n",
       "  display: inline-block !important;\n",
       "  list-style: none;\n",
       "  padding: 0 !important;\n",
       "  margin: 0;\n",
       "}\n",
       "\n",
       ".xr-dim-list li {\n",
       "  display: inline-block;\n",
       "  padding: 0;\n",
       "  margin: 0;\n",
       "}\n",
       "\n",
       ".xr-dim-list:before {\n",
       "  content: '(';\n",
       "}\n",
       "\n",
       ".xr-dim-list:after {\n",
       "  content: ')';\n",
       "}\n",
       "\n",
       ".xr-dim-list li:not(:last-child):after {\n",
       "  content: ',';\n",
       "  padding-right: 5px;\n",
       "}\n",
       "\n",
       ".xr-has-index {\n",
       "  font-weight: bold;\n",
       "}\n",
       "\n",
       ".xr-var-list,\n",
       ".xr-var-item {\n",
       "  display: contents;\n",
       "}\n",
       "\n",
       ".xr-var-item > div,\n",
       ".xr-var-item label,\n",
       ".xr-var-item > .xr-var-name span {\n",
       "  background-color: var(--xr-background-color-row-even);\n",
       "  margin-bottom: 0;\n",
       "}\n",
       "\n",
       ".xr-var-item > .xr-var-name:hover span {\n",
       "  padding-right: 5px;\n",
       "}\n",
       "\n",
       ".xr-var-list > li:nth-child(odd) > div,\n",
       ".xr-var-list > li:nth-child(odd) > label,\n",
       ".xr-var-list > li:nth-child(odd) > .xr-var-name span {\n",
       "  background-color: var(--xr-background-color-row-odd);\n",
       "}\n",
       "\n",
       ".xr-var-name {\n",
       "  grid-column: 1;\n",
       "}\n",
       "\n",
       ".xr-var-dims {\n",
       "  grid-column: 2;\n",
       "}\n",
       "\n",
       ".xr-var-dtype {\n",
       "  grid-column: 3;\n",
       "  text-align: right;\n",
       "  color: var(--xr-font-color2);\n",
       "}\n",
       "\n",
       ".xr-var-preview {\n",
       "  grid-column: 4;\n",
       "}\n",
       "\n",
       ".xr-var-name,\n",
       ".xr-var-dims,\n",
       ".xr-var-dtype,\n",
       ".xr-preview,\n",
       ".xr-attrs dt {\n",
       "  white-space: nowrap;\n",
       "  overflow: hidden;\n",
       "  text-overflow: ellipsis;\n",
       "  padding-right: 10px;\n",
       "}\n",
       "\n",
       ".xr-var-name:hover,\n",
       ".xr-var-dims:hover,\n",
       ".xr-var-dtype:hover,\n",
       ".xr-attrs dt:hover {\n",
       "  overflow: visible;\n",
       "  width: auto;\n",
       "  z-index: 1;\n",
       "}\n",
       "\n",
       ".xr-var-attrs,\n",
       ".xr-var-data {\n",
       "  display: none;\n",
       "  background-color: var(--xr-background-color) !important;\n",
       "  padding-bottom: 5px !important;\n",
       "}\n",
       "\n",
       ".xr-var-attrs-in:checked ~ .xr-var-attrs,\n",
       ".xr-var-data-in:checked ~ .xr-var-data {\n",
       "  display: block;\n",
       "}\n",
       "\n",
       ".xr-var-data > table {\n",
       "  float: right;\n",
       "}\n",
       "\n",
       ".xr-var-name span,\n",
       ".xr-var-data,\n",
       ".xr-attrs {\n",
       "  padding-left: 25px !important;\n",
       "}\n",
       "\n",
       ".xr-attrs,\n",
       ".xr-var-attrs,\n",
       ".xr-var-data {\n",
       "  grid-column: 1 / -1;\n",
       "}\n",
       "\n",
       "dl.xr-attrs {\n",
       "  padding: 0;\n",
       "  margin: 0;\n",
       "  display: grid;\n",
       "  grid-template-columns: 125px auto;\n",
       "}\n",
       "\n",
       ".xr-attrs dt,\n",
       ".xr-attrs dd {\n",
       "  padding: 0;\n",
       "  margin: 0;\n",
       "  float: left;\n",
       "  padding-right: 10px;\n",
       "  width: auto;\n",
       "}\n",
       "\n",
       ".xr-attrs dt {\n",
       "  font-weight: normal;\n",
       "  grid-column: 1;\n",
       "}\n",
       "\n",
       ".xr-attrs dt:hover span {\n",
       "  display: inline-block;\n",
       "  background: var(--xr-background-color);\n",
       "  padding-right: 10px;\n",
       "}\n",
       "\n",
       ".xr-attrs dd {\n",
       "  grid-column: 2;\n",
       "  white-space: pre-wrap;\n",
       "  word-break: break-all;\n",
       "}\n",
       "\n",
       ".xr-icon-database,\n",
       ".xr-icon-file-text2 {\n",
       "  display: inline-block;\n",
       "  vertical-align: middle;\n",
       "  width: 1em;\n",
       "  height: 1.5em !important;\n",
       "  stroke-width: 0;\n",
       "  stroke: currentColor;\n",
       "  fill: currentColor;\n",
       "}\n",
       "</style><pre class='xr-text-repr-fallback'>&lt;xarray.DataArray &#x27;dis&#x27; (lat: 3600, lon: 7200)&gt;\n",
       "[25920000 values with dtype=float64]\n",
       "Coordinates:\n",
       "  * lon       (lon) float64 -180.0 -179.9 -179.9 -179.8 ... 179.9 179.9 180.0\n",
       "  * lat       (lat) float64 89.97 89.92 89.88 89.82 ... -89.87 -89.92 -89.97\n",
       "    quantile  float64 0.05</pre><div class='xr-wrap' hidden><div class='xr-header'><div class='xr-obj-type'>xarray.DataArray</div><div class='xr-array-name'>'dis'</div><ul class='xr-dim-list'><li><span class='xr-has-index'>lat</span>: 3600</li><li><span class='xr-has-index'>lon</span>: 7200</li></ul></div><ul class='xr-sections'><li class='xr-section-item'><div class='xr-array-wrap'><input id='section-6474e1de-1deb-4295-91f3-ab113ff26037' class='xr-array-in' type='checkbox' checked><label for='section-6474e1de-1deb-4295-91f3-ab113ff26037' title='Show/hide data repr'><svg class='icon xr-icon-database'><use xlink:href='#icon-database'></use></svg></label><div class='xr-array-preview xr-preview'><span>...</span></div><div class='xr-array-data'><pre>[25920000 values with dtype=float64]</pre></div></div></li><li class='xr-section-item'><input id='section-4d33bbaa-3315-4c61-88bc-61497940893e' class='xr-section-summary-in' type='checkbox'  checked><label for='section-4d33bbaa-3315-4c61-88bc-61497940893e' class='xr-section-summary' >Coordinates: <span>(3)</span></label><div class='xr-section-inline-details'></div><div class='xr-section-details'><ul class='xr-var-list'><li class='xr-var-item'><div class='xr-var-name'><span class='xr-has-index'>lon</span></div><div class='xr-var-dims'>(lon)</div><div class='xr-var-dtype'>float64</div><div class='xr-var-preview xr-preview'>-180.0 -179.9 ... 179.9 180.0</div><input id='attrs-45fa05cb-762d-4644-9e3b-85d2ac237d82' class='xr-var-attrs-in' type='checkbox' ><label for='attrs-45fa05cb-762d-4644-9e3b-85d2ac237d82' title='Show/Hide attributes'><svg class='icon xr-icon-file-text2'><use xlink:href='#icon-file-text2'></use></svg></label><input id='data-8e3ce781-99a2-4b5d-bb37-4eca9c664e8c' class='xr-var-data-in' type='checkbox'><label for='data-8e3ce781-99a2-4b5d-bb37-4eca9c664e8c' title='Show/Hide data repr'><svg class='icon xr-icon-database'><use xlink:href='#icon-database'></use></svg></label><div class='xr-var-attrs'><dl class='xr-attrs'><dt><span>standard_name :</span></dt><dd>longitude</dd><dt><span>long_name :</span></dt><dd>longitude</dd><dt><span>units :</span></dt><dd>degrees_east</dd><dt><span>axis :</span></dt><dd>X</dd><dt><span>_CoordinateAxisType :</span></dt><dd>Lon</dd></dl></div><div class='xr-var-data'><pre>array([-179.975, -179.925, -179.875, ...,  179.875,  179.925,  179.975])</pre></div></li><li class='xr-var-item'><div class='xr-var-name'><span class='xr-has-index'>lat</span></div><div class='xr-var-dims'>(lat)</div><div class='xr-var-dtype'>float64</div><div class='xr-var-preview xr-preview'>89.97 89.92 89.88 ... -89.92 -89.97</div><input id='attrs-2e4612fe-28bf-4f06-a41d-56c788612f5f' class='xr-var-attrs-in' type='checkbox' ><label for='attrs-2e4612fe-28bf-4f06-a41d-56c788612f5f' title='Show/Hide attributes'><svg class='icon xr-icon-file-text2'><use xlink:href='#icon-file-text2'></use></svg></label><input id='data-ba9a1b04-4a6d-4532-bd94-de84cc3eb672' class='xr-var-data-in' type='checkbox'><label for='data-ba9a1b04-4a6d-4532-bd94-de84cc3eb672' title='Show/Hide data repr'><svg class='icon xr-icon-database'><use xlink:href='#icon-database'></use></svg></label><div class='xr-var-attrs'><dl class='xr-attrs'><dt><span>standard_name :</span></dt><dd>latitude</dd><dt><span>long_name :</span></dt><dd>latitude</dd><dt><span>units :</span></dt><dd>degrees_north</dd><dt><span>axis :</span></dt><dd>Y</dd><dt><span>_CoordinateAxisType :</span></dt><dd>Lat</dd></dl></div><div class='xr-var-data'><pre>array([ 89.975,  89.925,  89.875, ..., -89.875, -89.925, -89.975])</pre></div></li><li class='xr-var-item'><div class='xr-var-name'><span>quantile</span></div><div class='xr-var-dims'>()</div><div class='xr-var-dtype'>float64</div><div class='xr-var-preview xr-preview'>...</div><input id='attrs-1a56632d-3063-4719-9602-ce7da2065672' class='xr-var-attrs-in' type='checkbox' disabled><label for='attrs-1a56632d-3063-4719-9602-ce7da2065672' title='Show/Hide attributes'><svg class='icon xr-icon-file-text2'><use xlink:href='#icon-file-text2'></use></svg></label><input id='data-f30238f7-b104-4bd5-b19b-97eee968c223' class='xr-var-data-in' type='checkbox'><label for='data-f30238f7-b104-4bd5-b19b-97eee968c223' title='Show/Hide data repr'><svg class='icon xr-icon-database'><use xlink:href='#icon-database'></use></svg></label><div class='xr-var-attrs'><dl class='xr-attrs'></dl></div><div class='xr-var-data'><pre>array(0.05)</pre></div></li></ul></div></li><li class='xr-section-item'><input id='section-6b222431-28bb-4dd2-a28c-774915829680' class='xr-section-summary-in' type='checkbox' disabled ><label for='section-6b222431-28bb-4dd2-a28c-774915829680' class='xr-section-summary'  title='Expand/collapse section'>Attributes: <span>(0)</span></label><div class='xr-section-inline-details'></div><div class='xr-section-details'><dl class='xr-attrs'></dl></div></li></ul></div></div>"
      ],
      "text/plain": [
       "<xarray.DataArray 'dis' (lat: 3600, lon: 7200)>\n",
       "[25920000 values with dtype=float64]\n",
       "Coordinates:\n",
       "  * lon       (lon) float64 -180.0 -179.9 -179.9 -179.8 ... 179.9 179.9 180.0\n",
       "  * lat       (lat) float64 89.97 89.92 89.88 89.82 ... -89.87 -89.92 -89.97\n",
       "    quantile  float64 ..."
      ]
     },
     "execution_count": 12,
     "metadata": {},
     "output_type": "execute_result"
    }
   ],
   "source": [
    "disenv"
   ]
  },
  {
   "cell_type": "code",
   "execution_count": 13,
   "id": "7cd70331-c91e-481b-8926-ddff45fcd932",
   "metadata": {},
   "outputs": [
    {
     "data": {
      "text/plain": [
       "(<xarray.DataArray 'dis' ()>\n",
       " array(3153.98684186)\n",
       " Coordinates:\n",
       "     quantile  float64 0.05,\n",
       " <xarray.DataArray 'dis' ()>\n",
       " array(0.)\n",
       " Coordinates:\n",
       "     quantile  float64 0.05)"
      ]
     },
     "execution_count": 13,
     "metadata": {},
     "output_type": "execute_result"
    }
   ],
   "source": [
    "disenv.max(), disenv.min()"
   ]
  },
  {
   "cell_type": "code",
   "execution_count": 14,
   "id": "5f7eafa2-fd97-465d-ad5b-51b52ed37b72",
   "metadata": {},
   "outputs": [
    {
     "data": {
      "text/html": [
       "<div><svg style=\"position: absolute; width: 0; height: 0; overflow: hidden\">\n",
       "<defs>\n",
       "<symbol id=\"icon-database\" viewBox=\"0 0 32 32\">\n",
       "<path d=\"M16 0c-8.837 0-16 2.239-16 5v4c0 2.761 7.163 5 16 5s16-2.239 16-5v-4c0-2.761-7.163-5-16-5z\"></path>\n",
       "<path d=\"M16 17c-8.837 0-16-2.239-16-5v6c0 2.761 7.163 5 16 5s16-2.239 16-5v-6c0 2.761-7.163 5-16 5z\"></path>\n",
       "<path d=\"M16 26c-8.837 0-16-2.239-16-5v6c0 2.761 7.163 5 16 5s16-2.239 16-5v-6c0 2.761-7.163 5-16 5z\"></path>\n",
       "</symbol>\n",
       "<symbol id=\"icon-file-text2\" viewBox=\"0 0 32 32\">\n",
       "<path d=\"M28.681 7.159c-0.694-0.947-1.662-2.053-2.724-3.116s-2.169-2.030-3.116-2.724c-1.612-1.182-2.393-1.319-2.841-1.319h-15.5c-1.378 0-2.5 1.121-2.5 2.5v27c0 1.378 1.122 2.5 2.5 2.5h23c1.378 0 2.5-1.122 2.5-2.5v-19.5c0-0.448-0.137-1.23-1.319-2.841zM24.543 5.457c0.959 0.959 1.712 1.825 2.268 2.543h-4.811v-4.811c0.718 0.556 1.584 1.309 2.543 2.268zM28 29.5c0 0.271-0.229 0.5-0.5 0.5h-23c-0.271 0-0.5-0.229-0.5-0.5v-27c0-0.271 0.229-0.5 0.5-0.5 0 0 15.499-0 15.5 0v7c0 0.552 0.448 1 1 1h7v19.5z\"></path>\n",
       "<path d=\"M23 26h-14c-0.552 0-1-0.448-1-1s0.448-1 1-1h14c0.552 0 1 0.448 1 1s-0.448 1-1 1z\"></path>\n",
       "<path d=\"M23 22h-14c-0.552 0-1-0.448-1-1s0.448-1 1-1h14c0.552 0 1 0.448 1 1s-0.448 1-1 1z\"></path>\n",
       "<path d=\"M23 18h-14c-0.552 0-1-0.448-1-1s0.448-1 1-1h14c0.552 0 1 0.448 1 1s-0.448 1-1 1z\"></path>\n",
       "</symbol>\n",
       "</defs>\n",
       "</svg>\n",
       "<style>/* CSS stylesheet for displaying xarray objects in jupyterlab.\n",
       " *\n",
       " */\n",
       "\n",
       ":root {\n",
       "  --xr-font-color0: var(--jp-content-font-color0, rgba(0, 0, 0, 1));\n",
       "  --xr-font-color2: var(--jp-content-font-color2, rgba(0, 0, 0, 0.54));\n",
       "  --xr-font-color3: var(--jp-content-font-color3, rgba(0, 0, 0, 0.38));\n",
       "  --xr-border-color: var(--jp-border-color2, #e0e0e0);\n",
       "  --xr-disabled-color: var(--jp-layout-color3, #bdbdbd);\n",
       "  --xr-background-color: var(--jp-layout-color0, white);\n",
       "  --xr-background-color-row-even: var(--jp-layout-color1, white);\n",
       "  --xr-background-color-row-odd: var(--jp-layout-color2, #eeeeee);\n",
       "}\n",
       "\n",
       "html[theme=dark],\n",
       "body.vscode-dark {\n",
       "  --xr-font-color0: rgba(255, 255, 255, 1);\n",
       "  --xr-font-color2: rgba(255, 255, 255, 0.54);\n",
       "  --xr-font-color3: rgba(255, 255, 255, 0.38);\n",
       "  --xr-border-color: #1F1F1F;\n",
       "  --xr-disabled-color: #515151;\n",
       "  --xr-background-color: #111111;\n",
       "  --xr-background-color-row-even: #111111;\n",
       "  --xr-background-color-row-odd: #313131;\n",
       "}\n",
       "\n",
       ".xr-wrap {\n",
       "  display: block;\n",
       "  min-width: 300px;\n",
       "  max-width: 700px;\n",
       "}\n",
       "\n",
       ".xr-text-repr-fallback {\n",
       "  /* fallback to plain text repr when CSS is not injected (untrusted notebook) */\n",
       "  display: none;\n",
       "}\n",
       "\n",
       ".xr-header {\n",
       "  padding-top: 6px;\n",
       "  padding-bottom: 6px;\n",
       "  margin-bottom: 4px;\n",
       "  border-bottom: solid 1px var(--xr-border-color);\n",
       "}\n",
       "\n",
       ".xr-header > div,\n",
       ".xr-header > ul {\n",
       "  display: inline;\n",
       "  margin-top: 0;\n",
       "  margin-bottom: 0;\n",
       "}\n",
       "\n",
       ".xr-obj-type,\n",
       ".xr-array-name {\n",
       "  margin-left: 2px;\n",
       "  margin-right: 10px;\n",
       "}\n",
       "\n",
       ".xr-obj-type {\n",
       "  color: var(--xr-font-color2);\n",
       "}\n",
       "\n",
       ".xr-sections {\n",
       "  padding-left: 0 !important;\n",
       "  display: grid;\n",
       "  grid-template-columns: 150px auto auto 1fr 20px 20px;\n",
       "}\n",
       "\n",
       ".xr-section-item {\n",
       "  display: contents;\n",
       "}\n",
       "\n",
       ".xr-section-item input {\n",
       "  display: none;\n",
       "}\n",
       "\n",
       ".xr-section-item input + label {\n",
       "  color: var(--xr-disabled-color);\n",
       "}\n",
       "\n",
       ".xr-section-item input:enabled + label {\n",
       "  cursor: pointer;\n",
       "  color: var(--xr-font-color2);\n",
       "}\n",
       "\n",
       ".xr-section-item input:enabled + label:hover {\n",
       "  color: var(--xr-font-color0);\n",
       "}\n",
       "\n",
       ".xr-section-summary {\n",
       "  grid-column: 1;\n",
       "  color: var(--xr-font-color2);\n",
       "  font-weight: 500;\n",
       "}\n",
       "\n",
       ".xr-section-summary > span {\n",
       "  display: inline-block;\n",
       "  padding-left: 0.5em;\n",
       "}\n",
       "\n",
       ".xr-section-summary-in:disabled + label {\n",
       "  color: var(--xr-font-color2);\n",
       "}\n",
       "\n",
       ".xr-section-summary-in + label:before {\n",
       "  display: inline-block;\n",
       "  content: '►';\n",
       "  font-size: 11px;\n",
       "  width: 15px;\n",
       "  text-align: center;\n",
       "}\n",
       "\n",
       ".xr-section-summary-in:disabled + label:before {\n",
       "  color: var(--xr-disabled-color);\n",
       "}\n",
       "\n",
       ".xr-section-summary-in:checked + label:before {\n",
       "  content: '▼';\n",
       "}\n",
       "\n",
       ".xr-section-summary-in:checked + label > span {\n",
       "  display: none;\n",
       "}\n",
       "\n",
       ".xr-section-summary,\n",
       ".xr-section-inline-details {\n",
       "  padding-top: 4px;\n",
       "  padding-bottom: 4px;\n",
       "}\n",
       "\n",
       ".xr-section-inline-details {\n",
       "  grid-column: 2 / -1;\n",
       "}\n",
       "\n",
       ".xr-section-details {\n",
       "  display: none;\n",
       "  grid-column: 1 / -1;\n",
       "  margin-bottom: 5px;\n",
       "}\n",
       "\n",
       ".xr-section-summary-in:checked ~ .xr-section-details {\n",
       "  display: contents;\n",
       "}\n",
       "\n",
       ".xr-array-wrap {\n",
       "  grid-column: 1 / -1;\n",
       "  display: grid;\n",
       "  grid-template-columns: 20px auto;\n",
       "}\n",
       "\n",
       ".xr-array-wrap > label {\n",
       "  grid-column: 1;\n",
       "  vertical-align: top;\n",
       "}\n",
       "\n",
       ".xr-preview {\n",
       "  color: var(--xr-font-color3);\n",
       "}\n",
       "\n",
       ".xr-array-preview,\n",
       ".xr-array-data {\n",
       "  padding: 0 5px !important;\n",
       "  grid-column: 2;\n",
       "}\n",
       "\n",
       ".xr-array-data,\n",
       ".xr-array-in:checked ~ .xr-array-preview {\n",
       "  display: none;\n",
       "}\n",
       "\n",
       ".xr-array-in:checked ~ .xr-array-data,\n",
       ".xr-array-preview {\n",
       "  display: inline-block;\n",
       "}\n",
       "\n",
       ".xr-dim-list {\n",
       "  display: inline-block !important;\n",
       "  list-style: none;\n",
       "  padding: 0 !important;\n",
       "  margin: 0;\n",
       "}\n",
       "\n",
       ".xr-dim-list li {\n",
       "  display: inline-block;\n",
       "  padding: 0;\n",
       "  margin: 0;\n",
       "}\n",
       "\n",
       ".xr-dim-list:before {\n",
       "  content: '(';\n",
       "}\n",
       "\n",
       ".xr-dim-list:after {\n",
       "  content: ')';\n",
       "}\n",
       "\n",
       ".xr-dim-list li:not(:last-child):after {\n",
       "  content: ',';\n",
       "  padding-right: 5px;\n",
       "}\n",
       "\n",
       ".xr-has-index {\n",
       "  font-weight: bold;\n",
       "}\n",
       "\n",
       ".xr-var-list,\n",
       ".xr-var-item {\n",
       "  display: contents;\n",
       "}\n",
       "\n",
       ".xr-var-item > div,\n",
       ".xr-var-item label,\n",
       ".xr-var-item > .xr-var-name span {\n",
       "  background-color: var(--xr-background-color-row-even);\n",
       "  margin-bottom: 0;\n",
       "}\n",
       "\n",
       ".xr-var-item > .xr-var-name:hover span {\n",
       "  padding-right: 5px;\n",
       "}\n",
       "\n",
       ".xr-var-list > li:nth-child(odd) > div,\n",
       ".xr-var-list > li:nth-child(odd) > label,\n",
       ".xr-var-list > li:nth-child(odd) > .xr-var-name span {\n",
       "  background-color: var(--xr-background-color-row-odd);\n",
       "}\n",
       "\n",
       ".xr-var-name {\n",
       "  grid-column: 1;\n",
       "}\n",
       "\n",
       ".xr-var-dims {\n",
       "  grid-column: 2;\n",
       "}\n",
       "\n",
       ".xr-var-dtype {\n",
       "  grid-column: 3;\n",
       "  text-align: right;\n",
       "  color: var(--xr-font-color2);\n",
       "}\n",
       "\n",
       ".xr-var-preview {\n",
       "  grid-column: 4;\n",
       "}\n",
       "\n",
       ".xr-var-name,\n",
       ".xr-var-dims,\n",
       ".xr-var-dtype,\n",
       ".xr-preview,\n",
       ".xr-attrs dt {\n",
       "  white-space: nowrap;\n",
       "  overflow: hidden;\n",
       "  text-overflow: ellipsis;\n",
       "  padding-right: 10px;\n",
       "}\n",
       "\n",
       ".xr-var-name:hover,\n",
       ".xr-var-dims:hover,\n",
       ".xr-var-dtype:hover,\n",
       ".xr-attrs dt:hover {\n",
       "  overflow: visible;\n",
       "  width: auto;\n",
       "  z-index: 1;\n",
       "}\n",
       "\n",
       ".xr-var-attrs,\n",
       ".xr-var-data {\n",
       "  display: none;\n",
       "  background-color: var(--xr-background-color) !important;\n",
       "  padding-bottom: 5px !important;\n",
       "}\n",
       "\n",
       ".xr-var-attrs-in:checked ~ .xr-var-attrs,\n",
       ".xr-var-data-in:checked ~ .xr-var-data {\n",
       "  display: block;\n",
       "}\n",
       "\n",
       ".xr-var-data > table {\n",
       "  float: right;\n",
       "}\n",
       "\n",
       ".xr-var-name span,\n",
       ".xr-var-data,\n",
       ".xr-attrs {\n",
       "  padding-left: 25px !important;\n",
       "}\n",
       "\n",
       ".xr-attrs,\n",
       ".xr-var-attrs,\n",
       ".xr-var-data {\n",
       "  grid-column: 1 / -1;\n",
       "}\n",
       "\n",
       "dl.xr-attrs {\n",
       "  padding: 0;\n",
       "  margin: 0;\n",
       "  display: grid;\n",
       "  grid-template-columns: 125px auto;\n",
       "}\n",
       "\n",
       ".xr-attrs dt,\n",
       ".xr-attrs dd {\n",
       "  padding: 0;\n",
       "  margin: 0;\n",
       "  float: left;\n",
       "  padding-right: 10px;\n",
       "  width: auto;\n",
       "}\n",
       "\n",
       ".xr-attrs dt {\n",
       "  font-weight: normal;\n",
       "  grid-column: 1;\n",
       "}\n",
       "\n",
       ".xr-attrs dt:hover span {\n",
       "  display: inline-block;\n",
       "  background: var(--xr-background-color);\n",
       "  padding-right: 10px;\n",
       "}\n",
       "\n",
       ".xr-attrs dd {\n",
       "  grid-column: 2;\n",
       "  white-space: pre-wrap;\n",
       "  word-break: break-all;\n",
       "}\n",
       "\n",
       ".xr-icon-database,\n",
       ".xr-icon-file-text2 {\n",
       "  display: inline-block;\n",
       "  vertical-align: middle;\n",
       "  width: 1em;\n",
       "  height: 1.5em !important;\n",
       "  stroke-width: 0;\n",
       "  stroke: currentColor;\n",
       "  fill: currentColor;\n",
       "}\n",
       "</style><pre class='xr-text-repr-fallback'>&lt;xarray.DataArray &#x27;dis&#x27; ()&gt;\n",
       "array(False)\n",
       "Coordinates:\n",
       "    quantile  float64 0.05</pre><div class='xr-wrap' hidden><div class='xr-header'><div class='xr-obj-type'>xarray.DataArray</div><div class='xr-array-name'>'dis'</div></div><ul class='xr-sections'><li class='xr-section-item'><div class='xr-array-wrap'><input id='section-634e3493-5809-40fe-8df0-bab8ffb8ed5b' class='xr-array-in' type='checkbox' checked><label for='section-634e3493-5809-40fe-8df0-bab8ffb8ed5b' title='Show/hide data repr'><svg class='icon xr-icon-database'><use xlink:href='#icon-database'></use></svg></label><div class='xr-array-preview xr-preview'><span>False</span></div><div class='xr-array-data'><pre>array(False)</pre></div></div></li><li class='xr-section-item'><input id='section-7d17d6b4-0694-461c-b50b-befb5b42cb4f' class='xr-section-summary-in' type='checkbox'  checked><label for='section-7d17d6b4-0694-461c-b50b-befb5b42cb4f' class='xr-section-summary' >Coordinates: <span>(1)</span></label><div class='xr-section-inline-details'></div><div class='xr-section-details'><ul class='xr-var-list'><li class='xr-var-item'><div class='xr-var-name'><span>quantile</span></div><div class='xr-var-dims'>()</div><div class='xr-var-dtype'>float64</div><div class='xr-var-preview xr-preview'>0.05</div><input id='attrs-471e7fb1-61c1-4f83-af67-85d61ec2e4da' class='xr-var-attrs-in' type='checkbox' disabled><label for='attrs-471e7fb1-61c1-4f83-af67-85d61ec2e4da' title='Show/Hide attributes'><svg class='icon xr-icon-file-text2'><use xlink:href='#icon-file-text2'></use></svg></label><input id='data-8a840356-0f4b-45f8-b6d7-d3d8809be3dd' class='xr-var-data-in' type='checkbox'><label for='data-8a840356-0f4b-45f8-b6d7-d3d8809be3dd' title='Show/Hide data repr'><svg class='icon xr-icon-database'><use xlink:href='#icon-database'></use></svg></label><div class='xr-var-attrs'><dl class='xr-attrs'></dl></div><div class='xr-var-data'><pre>array(0.05)</pre></div></li></ul></div></li><li class='xr-section-item'><input id='section-64b75de7-17d2-4758-b398-0d6f4c88c6b9' class='xr-section-summary-in' type='checkbox' disabled ><label for='section-64b75de7-17d2-4758-b398-0d6f4c88c6b9' class='xr-section-summary'  title='Expand/collapse section'>Attributes: <span>(0)</span></label><div class='xr-section-inline-details'></div><div class='xr-section-details'><dl class='xr-attrs'></dl></div></li></ul></div></div>"
      ],
      "text/plain": [
       "<xarray.DataArray 'dis' ()>\n",
       "array(False)\n",
       "Coordinates:\n",
       "    quantile  float64 0.05"
      ]
     },
     "execution_count": 14,
     "metadata": {},
     "output_type": "execute_result"
    }
   ],
   "source": [
    "disenv.isnull().all()"
   ]
  },
  {
   "cell_type": "code",
   "execution_count": 15,
   "id": "aa273d56-8fb9-4002-9ca9-2b4ac4427a7c",
   "metadata": {},
   "outputs": [
    {
     "data": {
      "image/png": "[encoded data removed]",
      "text/plain": [
       "<Figure size 640x480 with 2 Axes>"
      ]
     },
     "metadata": {},
     "output_type": "display_data"
    }
   ],
   "source": [
    "disenv.plot();"
   ]
  },
  {
   "cell_type": "markdown",
   "id": "1aead889-fa2f-4504-9297-fc03fed86141",
   "metadata": {},
   "source": [
    "***"
   ]
  },
  {
   "cell_type": "code",
   "execution_count": 1,
   "id": "a85ad4e1-e110-4d8a-909a-bd82b0c59665",
   "metadata": {},
   "outputs": [],
   "source": [
    "import pandas as pd\n",
    "from pathlib import Path"
   ]
  },
  {
   "cell_type": "code",
   "execution_count": 2,
   "id": "9e13e825-e64b-4fdb-a259-6e9ede0b5822",
   "metadata": {},
   "outputs": [],
   "source": [
    "path = Path('Z:/nahaUsers/casadje/GloFASv5/reservoirs')"
   ]
  },
  {
   "cell_type": "code",
   "execution_count": 5,
   "id": "4d1b3e34-e53b-4842-b282-518f61e597f3",
   "metadata": {},
   "outputs": [
    {
     "ename": "ParserError",
     "evalue": "Error tokenizing data. C error: Expected 2 fields in line 5, saw 3\n",
     "output_type": "error",
     "traceback": [
      "\u001b[1;31m---------------------------------------------------------------------------\u001b[0m",
      "\u001b[1;31mParserError\u001b[0m                               Traceback (most recent call last)",
      "Cell \u001b[1;32mIn [5], line 1\u001b[0m\n\u001b[1;32m----> 1\u001b[0m \u001b[43mpd\u001b[49m\u001b[38;5;241;43m.\u001b[39;49m\u001b[43mread_csv\u001b[49m\u001b[43m(\u001b[49m\u001b[43mpath\u001b[49m\u001b[43m \u001b[49m\u001b[38;5;241;43m/\u001b[39;49m\u001b[43m \u001b[49m\u001b[38;5;124;43m'\u001b[39;49m\u001b[38;5;124;43mtables\u001b[39;49m\u001b[38;5;124;43m'\u001b[39;49m\u001b[43m \u001b[49m\u001b[38;5;241;43m/\u001b[39;49m\u001b[43m \u001b[49m\u001b[38;5;124;43m'\u001b[39;49m\u001b[38;5;124;43mglofas5_reservoirs.xlsx\u001b[39;49m\u001b[38;5;124;43m'\u001b[39;49m\u001b[43m,\u001b[49m\u001b[43m \u001b[49m\u001b[43mencoding\u001b[49m\u001b[38;5;241;43m=\u001b[39;49m\u001b[38;5;124;43m'\u001b[39;49m\u001b[38;5;124;43mlatin-1\u001b[39;49m\u001b[38;5;124;43m'\u001b[39;49m\u001b[43m)\u001b[49m\n",
      "File \u001b[1;32mC:\\DEV\\Anaconda3\\envs\\xr\\lib\\site-packages\\pandas\\util\\_decorators.py:311\u001b[0m, in \u001b[0;36mdeprecate_nonkeyword_arguments.<locals>.decorate.<locals>.wrapper\u001b[1;34m(*args, **kwargs)\u001b[0m\n\u001b[0;32m    305\u001b[0m \u001b[38;5;28;01mif\u001b[39;00m \u001b[38;5;28mlen\u001b[39m(args) \u001b[38;5;241m>\u001b[39m num_allow_args:\n\u001b[0;32m    306\u001b[0m     warnings\u001b[38;5;241m.\u001b[39mwarn(\n\u001b[0;32m    307\u001b[0m         msg\u001b[38;5;241m.\u001b[39mformat(arguments\u001b[38;5;241m=\u001b[39marguments),\n\u001b[0;32m    308\u001b[0m         \u001b[38;5;167;01mFutureWarning\u001b[39;00m,\n\u001b[0;32m    309\u001b[0m         stacklevel\u001b[38;5;241m=\u001b[39mstacklevel,\n\u001b[0;32m    310\u001b[0m     )\n\u001b[1;32m--> 311\u001b[0m \u001b[38;5;28;01mreturn\u001b[39;00m func(\u001b[38;5;241m*\u001b[39margs, \u001b[38;5;241m*\u001b[39m\u001b[38;5;241m*\u001b[39mkwargs)\n",
      "File \u001b[1;32mC:\\DEV\\Anaconda3\\envs\\xr\\lib\\site-packages\\pandas\\io\\parsers\\readers.py:680\u001b[0m, in \u001b[0;36mread_csv\u001b[1;34m(filepath_or_buffer, sep, delimiter, header, names, index_col, usecols, squeeze, prefix, mangle_dupe_cols, dtype, engine, converters, true_values, false_values, skipinitialspace, skiprows, skipfooter, nrows, na_values, keep_default_na, na_filter, verbose, skip_blank_lines, parse_dates, infer_datetime_format, keep_date_col, date_parser, dayfirst, cache_dates, iterator, chunksize, compression, thousands, decimal, lineterminator, quotechar, quoting, doublequote, escapechar, comment, encoding, encoding_errors, dialect, error_bad_lines, warn_bad_lines, on_bad_lines, delim_whitespace, low_memory, memory_map, float_precision, storage_options)\u001b[0m\n\u001b[0;32m    665\u001b[0m kwds_defaults \u001b[38;5;241m=\u001b[39m _refine_defaults_read(\n\u001b[0;32m    666\u001b[0m     dialect,\n\u001b[0;32m    667\u001b[0m     delimiter,\n\u001b[1;32m   (...)\u001b[0m\n\u001b[0;32m    676\u001b[0m     defaults\u001b[38;5;241m=\u001b[39m{\u001b[38;5;124m\"\u001b[39m\u001b[38;5;124mdelimiter\u001b[39m\u001b[38;5;124m\"\u001b[39m: \u001b[38;5;124m\"\u001b[39m\u001b[38;5;124m,\u001b[39m\u001b[38;5;124m\"\u001b[39m},\n\u001b[0;32m    677\u001b[0m )\n\u001b[0;32m    678\u001b[0m kwds\u001b[38;5;241m.\u001b[39mupdate(kwds_defaults)\n\u001b[1;32m--> 680\u001b[0m \u001b[38;5;28;01mreturn\u001b[39;00m \u001b[43m_read\u001b[49m\u001b[43m(\u001b[49m\u001b[43mfilepath_or_buffer\u001b[49m\u001b[43m,\u001b[49m\u001b[43m \u001b[49m\u001b[43mkwds\u001b[49m\u001b[43m)\u001b[49m\n",
      "File \u001b[1;32mC:\\DEV\\Anaconda3\\envs\\xr\\lib\\site-packages\\pandas\\io\\parsers\\readers.py:581\u001b[0m, in \u001b[0;36m_read\u001b[1;34m(filepath_or_buffer, kwds)\u001b[0m\n\u001b[0;32m    578\u001b[0m     \u001b[38;5;28;01mreturn\u001b[39;00m parser\n\u001b[0;32m    580\u001b[0m \u001b[38;5;28;01mwith\u001b[39;00m parser:\n\u001b[1;32m--> 581\u001b[0m     \u001b[38;5;28;01mreturn\u001b[39;00m \u001b[43mparser\u001b[49m\u001b[38;5;241;43m.\u001b[39;49m\u001b[43mread\u001b[49m\u001b[43m(\u001b[49m\u001b[43mnrows\u001b[49m\u001b[43m)\u001b[49m\n",
      "File \u001b[1;32mC:\\DEV\\Anaconda3\\envs\\xr\\lib\\site-packages\\pandas\\io\\parsers\\readers.py:1254\u001b[0m, in \u001b[0;36mTextFileReader.read\u001b[1;34m(self, nrows)\u001b[0m\n\u001b[0;32m   1252\u001b[0m nrows \u001b[38;5;241m=\u001b[39m validate_integer(\u001b[38;5;124m\"\u001b[39m\u001b[38;5;124mnrows\u001b[39m\u001b[38;5;124m\"\u001b[39m, nrows)\n\u001b[0;32m   1253\u001b[0m \u001b[38;5;28;01mtry\u001b[39;00m:\n\u001b[1;32m-> 1254\u001b[0m     index, columns, col_dict \u001b[38;5;241m=\u001b[39m \u001b[38;5;28;43mself\u001b[39;49m\u001b[38;5;241;43m.\u001b[39;49m\u001b[43m_engine\u001b[49m\u001b[38;5;241;43m.\u001b[39;49m\u001b[43mread\u001b[49m\u001b[43m(\u001b[49m\u001b[43mnrows\u001b[49m\u001b[43m)\u001b[49m\n\u001b[0;32m   1255\u001b[0m \u001b[38;5;28;01mexcept\u001b[39;00m \u001b[38;5;167;01mException\u001b[39;00m:\n\u001b[0;32m   1256\u001b[0m     \u001b[38;5;28mself\u001b[39m\u001b[38;5;241m.\u001b[39mclose()\n",
      "File \u001b[1;32mC:\\DEV\\Anaconda3\\envs\\xr\\lib\\site-packages\\pandas\\io\\parsers\\c_parser_wrapper.py:225\u001b[0m, in \u001b[0;36mCParserWrapper.read\u001b[1;34m(self, nrows)\u001b[0m\n\u001b[0;32m    223\u001b[0m \u001b[38;5;28;01mtry\u001b[39;00m:\n\u001b[0;32m    224\u001b[0m     \u001b[38;5;28;01mif\u001b[39;00m \u001b[38;5;28mself\u001b[39m\u001b[38;5;241m.\u001b[39mlow_memory:\n\u001b[1;32m--> 225\u001b[0m         chunks \u001b[38;5;241m=\u001b[39m \u001b[38;5;28;43mself\u001b[39;49m\u001b[38;5;241;43m.\u001b[39;49m\u001b[43m_reader\u001b[49m\u001b[38;5;241;43m.\u001b[39;49m\u001b[43mread_low_memory\u001b[49m\u001b[43m(\u001b[49m\u001b[43mnrows\u001b[49m\u001b[43m)\u001b[49m\n\u001b[0;32m    226\u001b[0m         \u001b[38;5;66;03m# destructive to chunks\u001b[39;00m\n\u001b[0;32m    227\u001b[0m         data \u001b[38;5;241m=\u001b[39m _concatenate_chunks(chunks)\n",
      "File \u001b[1;32mC:\\DEV\\Anaconda3\\envs\\xr\\lib\\site-packages\\pandas\\_libs\\parsers.pyx:805\u001b[0m, in \u001b[0;36mpandas._libs.parsers.TextReader.read_low_memory\u001b[1;34m()\u001b[0m\n",
      "File \u001b[1;32mC:\\DEV\\Anaconda3\\envs\\xr\\lib\\site-packages\\pandas\\_libs\\parsers.pyx:861\u001b[0m, in \u001b[0;36mpandas._libs.parsers.TextReader._read_rows\u001b[1;34m()\u001b[0m\n",
      "File \u001b[1;32mC:\\DEV\\Anaconda3\\envs\\xr\\lib\\site-packages\\pandas\\_libs\\parsers.pyx:847\u001b[0m, in \u001b[0;36mpandas._libs.parsers.TextReader._tokenize_rows\u001b[1;34m()\u001b[0m\n",
      "File \u001b[1;32mC:\\DEV\\Anaconda3\\envs\\xr\\lib\\site-packages\\pandas\\_libs\\parsers.pyx:1960\u001b[0m, in \u001b[0;36mpandas._libs.parsers.raise_parser_error\u001b[1;34m()\u001b[0m\n",
      "\u001b[1;31mParserError\u001b[0m: Error tokenizing data. C error: Expected 2 fields in line 5, saw 3\n"
     ]
    }
   ],
   "source": [
    "pd.read_csv(path / 'tables' / 'glofas5_reservoirs.xlsx', encoding='latin-1')"
   ]
  },
  {
   "cell_type": "code",
   "execution_count": null,
   "id": "a5bf91d6-6067-4a7f-8f1b-71ce64761b7a",
   "metadata": {},
   "outputs": [],
   "source": []
  }
 ],
 "metadata": {
  "kernelspec": {
   "display_name": "Python 3 (ipykernel)",
   "language": "python",
   "name": "python3"
  },
  "language_info": {
   "codemirror_mode": {
    "name": "ipython",
    "version": 3
   },
   "file_extension": ".py",
   "mimetype": "text/x-python",
   "name": "python",
   "nbconvert_exporter": "python",
   "pygments_lexer": "ipython3",
   "version": "3.9.13"
  }
 },
 "nbformat": 4,
 "nbformat_minor": 5
}
