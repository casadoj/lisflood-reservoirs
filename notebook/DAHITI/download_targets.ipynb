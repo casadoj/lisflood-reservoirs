{
 "cells": [
  {
   "cell_type": "markdown",
   "id": "11f67b57-3009-41dc-b060-60c177fa584d",
   "metadata": {},
   "source": [
    "# Download DAHITI\n",
    "***\n",
    "\n",
    "***Author:** Chus Casado Rodríguez*<br>\n",
    "***Date:** 17-02-2025*<br>\n",
    "\n",
    "**Description**<br>\n",
    "\n",
    "This code downloads the target points available in the [DAHITI](https://dahiti.dgfi.tum.de/en/) dataset using its API version 2. \n",
    "\n",
    "It requires two inputs:\n",
    "1. A TXT file (_api_key.txt_) with the API key associated to your DAHITI user.\n",
    "2. A YAML file with the configuration: URL, type of point of interest (river, reservoir) and output path."
   ]
  },
  {
   "cell_type": "code",
   "execution_count": 1,
   "id": "37123b88-fcbc-4442-88ff-92bfdad92110",
   "metadata": {},
   "outputs": [],
   "source": [
    "import os\n",
    "os.environ['USE_PYGEOS'] = '0'\n",
    "import numpy as np\n",
    "import pandas as pd\n",
    "import requests\n",
    "import json\n",
    "import yaml\n",
    "import geopandas as gpd\n",
    "from shapely import Point\n",
    "import pprint\n",
    "from pathlib import Path"
   ]
  },
  {
   "cell_type": "markdown",
   "id": "284640b8-0c76-430f-b877-9272802e649a",
   "metadata": {},
   "source": [
    "## Configuration"
   ]
  },
  {
   "cell_type": "code",
   "execution_count": 6,
   "id": "7fdd542f-b2e2-42b9-b0ce-43bc5aadbc33",
   "metadata": {},
   "outputs": [],
   "source": [
    "# configuration\n",
    "with open('config.yml', 'r') as file:\n",
    "    cfg = yaml.safe_load(file)\n",
    "API_URL = cfg.get('api_url', 'https://dahiti.dgfi.tum.de/api/v2/')\n",
    "TYPE = cfg.get('type', None)\n",
    "COUNTRY = cfg.get('country', None)\n",
    "PATH_DAHITI = Path(cfg.get('output_path', './'))\n",
    "\n",
    "# personal API key\n",
    "with open('api_key.txt', 'r') as txt:\n",
    "    api_key = txt.readline().strip()"
   ]
  },
  {
   "cell_type": "code",
   "execution_count": 3,
   "id": "60cb1b2f-2e8b-423a-9593-5af0f8f697e3",
   "metadata": {},
   "outputs": [],
   "source": [
    "MAP_VAR_NAMES = {\n",
    "    'target_name': 'name',\n",
    "    'water_level_altimetry': 'level',\n",
    "    'surface_area': 'area',\n",
    "    'water_occurrence_mask': 'occurrence',\n",
    "    'land_water_mask': 'land_water',\n",
    "    'volume_variation': 'volume',\n",
    "    'water_level_hypsometry': 'level_hyps'\n",
    "}"
   ]
  },
  {
   "cell_type": "markdown",
   "id": "5942de0e-ffcb-4f78-a7c3-63d4504f4098",
   "metadata": {},
   "source": [
    "## Targets\n",
    "\n",
    "### Download"
   ]
  },
  {
   "cell_type": "code",
   "execution_count": 8,
   "id": "09ff7569-921d-42ab-b258-1d46f614fa5e",
   "metadata": {},
   "outputs": [
    {
     "name": "stdout",
     "output_type": "stream",
     "text": [
      "DAHITI contains 11284 targets.\n"
     ]
    }
   ],
   "source": [
    "# requests targets\n",
    "response = requests.post(\n",
    "    url=f'{API_URL}/list-targets/',\n",
    "    json={'api_key': api_key}\n",
    ")\n",
    "\n",
    "if response.status_code == 200:\n",
    "    targets = json.loads(response.text)\n",
    "else:\n",
    "    error = json.loads(response.text)\n",
    "    print('Error {0}:\\t{1}'.format(error['code'], error['message']))\n",
    "\n",
    "print('DAHITI contains {0} targets.'.format(len(targets['data'])))"
   ]
  },
  {
   "cell_type": "code",
   "execution_count": 10,
   "id": "bcdc32f2-23e6-418a-97d7-f203e90b13f9",
   "metadata": {
    "tags": []
   },
   "outputs": [
    {
     "data": {
      "text/plain": [
       "array(['lake', 'reservoir', 'river', 'wetland'], dtype='<U9')"
      ]
     },
     "execution_count": 10,
     "metadata": {},
     "output_type": "execute_result"
    }
   ],
   "source": [
    "np.unique([target['type'].lower() for target in targets['data']])"
   ]
  },
  {
   "cell_type": "code",
   "execution_count": 7,
   "id": "591b87af-7cf8-4990-8f87-0ab47cc2c3ec",
   "metadata": {},
   "outputs": [],
   "source": [
    "# filter targets by type\n",
    "targets = [target for target in targets['data'] if target['type'].lower() == TYPE]\n",
    "print('DAHITI contains {0} targets of type {1}.'.format(len(targets), TYPE))"
   ]
  },
  {
   "cell_type": "markdown",
   "id": "71a887d7-5114-4c95-95b9-b15c3bf385de",
   "metadata": {},
   "source": [
    "### Reformat"
   ]
  },
  {
   "cell_type": "code",
   "execution_count": 7,
   "id": "dc388f50-4a89-4a73-91ec-70536e3821bb",
   "metadata": {},
   "outputs": [],
   "source": [
    "# convert to DataFrame\n",
    "target_list = []\n",
    "variables = []\n",
    "for reservoir in targets:\n",
    "    serie = pd.concat((\n",
    "        pd.Series({key: value for key, value in reservoir.items() if key != 'data_access'}),\n",
    "        pd.Series(reservoir['data_access'])\n",
    "    ), axis=0)\n",
    "    variables += list(reservoir['data_access'])\n",
    "    target_list.append(serie)\n",
    "targets = pd.concat(target_list, axis=1).T\n",
    "targets.dahiti_id = targets.dahiti_id.astype(int)\n",
    "targets[['longitude', 'latitude']] = targets[['longitude', 'latitude']].astype(float)\n",
    "variables = list(set(variables))\n",
    "targets[variables] = targets[variables].astype(bool)\n",
    "targets.set_index('dahiti_id', drop=True, inplace=True)\n",
    "\n",
    "# convert to GeoDataFrame\n",
    "geometry = [Point(xy) for xy in zip(targets.longitude, targets.latitude)]\n",
    "targets = gpd.GeoDataFrame(targets, geometry=geometry)\n",
    "targets = targets.set_crs(epsg=4326)\n",
    "\n",
    "# shorten variable names\n",
    "targets.rename(columns=MAP_VAR_NAMES, inplace=True)"
   ]
  },
  {
   "cell_type": "markdown",
   "id": "6fb9ee3f-19af-4148-ae63-195b2e626ae3",
   "metadata": {},
   "source": [
    "### Export"
   ]
  },
  {
   "cell_type": "code",
   "execution_count": 7,
   "id": "1ec36dfb-c937-41e9-97e3-cb61ba474213",
   "metadata": {},
   "outputs": [
    {
     "name": "stdout",
     "output_type": "stream",
     "text": [
      "DAHITI contains 11284 targets.\n",
      "DAHITI contains 530 targets of type reservoir.\n",
      "Shapefile of targets saved in:\tZ:\\nahaUsers\\casadje\\datasets\\DAHITI\\reservoir\\targets\\DAHITI_reservoir.shp\n"
     ]
    }
   ],
   "source": [
    "# export shapefile of targets\n",
    "PATH_OUT = PATH_DAHITI / TYPE / 'targets'\n",
    "PATH_OUT.mkdir(parents=True, exist_ok=True)\n",
    "output_file = PATH_OUT / f'DAHITI_{TYPE}.shp'\n",
    "targets.to_file(output_file, driver='ESRI Shapefile')\n",
    "print(f'Shapefile of targets saved in:\\t{output_file}')"
   ]
  }
 ],
 "metadata": {
  "kernelspec": {
   "display_name": "Python 3 (ipykernel)",
   "language": "python",
   "name": "python3"
  },
  "language_info": {
   "codemirror_mode": {
    "name": "ipython",
    "version": 3
   },
   "file_extension": ".py",
   "mimetype": "text/x-python",
   "name": "python",
   "nbconvert_exporter": "python",
   "pygments_lexer": "ipython3",
   "version": "3.9.13"
  }
 },
 "nbformat": 4,
 "nbformat_minor": 5
}
