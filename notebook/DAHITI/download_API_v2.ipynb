{
 "cells": [
  {
   "cell_type": "markdown",
   "id": "11f67b57-3009-41dc-b060-60c177fa584d",
   "metadata": {},
   "source": [
    "# Download DAHITI\n",
    "***\n",
    "\n",
    "***Author:** Chus Casado Rodríguez*<br>\n",
    "***Date:** 10-02-2025*<br>\n",
    "\n",
    "**Description**<br>\n",
    "\n",
    "This code downloads data from the [DAHITI](https://dahiti.dgfi.tum.de/en/) dataset using its API version 2. \n",
    "\n",
    "It requires two inputs:\n",
    "1. A TXT file (_api_key.txt_) with the API key associated to your DAHITI user.\n",
    "2. A YAML file with the DAHITI ID of the points of interes.\n",
    "\n",
    "It searches for available time series of water level, surface area and volume variation."
   ]
  },
  {
   "cell_type": "code",
   "execution_count": 16,
   "id": "ff3a30e3-9136-4499-9cf7-c7f13ecd0d45",
   "metadata": {
    "tags": []
   },
   "outputs": [],
   "source": [
    "import os\n",
    "os.environ['USE_PYGEOS'] = '0'\n",
    "import numpy as np\n",
    "import pandas as pd\n",
    "import requests\n",
    "import json\n",
    "import yaml\n",
    "from tqdm.auto import tqdm\n",
    "import geopandas as gpd\n",
    "from shapely import Point"
   ]
  },
  {
   "cell_type": "code",
   "execution_count": 3,
   "id": "f850b01d-84a9-480a-8ecd-811b9ea7525d",
   "metadata": {},
   "outputs": [],
   "source": [
    "import pprint\n",
    "from pathlib import Path"
   ]
  },
  {
   "cell_type": "markdown",
   "id": "284640b8-0c76-430f-b877-9272802e649a",
   "metadata": {},
   "source": [
    "## Configuration"
   ]
  },
  {
   "cell_type": "code",
   "execution_count": 4,
   "id": "1492dd82-c16e-4b65-b327-8f7e2f0b3abc",
   "metadata": {},
   "outputs": [
    {
     "name": "stdout",
     "output_type": "stream",
     "text": [
      "{'api_key': '2676835AF649F11F825EB24729EEACFDC945263C0F12F2561CF24D315F8F10D1'}\n"
     ]
    }
   ],
   "source": [
    "PATH_DAHITI = Path('Z:/nahaUsers/casadje/datasets/DAHITI')\n",
    "\n",
    "API_URL = 'https://dahiti.dgfi.tum.de/api/v2/'\n",
    "\n",
    "# personal API key\n",
    "with open('api_key.txt', 'r') as txt:\n",
    "    api_key = txt.readline().strip()\n",
    "\n",
    "# selection of targets\n",
    "with open('arguments.yml', 'r') as file:\n",
    "    args = yaml.safe_load(file)\n",
    "args['api_key'] = api_key\n",
    "\n",
    "print(args)"
   ]
  },
  {
   "cell_type": "markdown",
   "id": "5942de0e-ffcb-4f78-a7c3-63d4504f4098",
   "metadata": {},
   "source": [
    "## Data\n",
    "### Targets"
   ]
  },
  {
   "cell_type": "code",
   "execution_count": 10,
   "id": "d5dbb642-3368-4d9b-b932-eb556a45a21c",
   "metadata": {
    "tags": []
   },
   "outputs": [],
   "source": [
    "# requests targets\n",
    "response = requests.post(\n",
    "    url=f'{API_URL}/list-targets/',\n",
    "    json=args\n",
    ")\n",
    "\n",
    "if response.status_code == 200:\n",
    "    targets = json.loads(response.text)\n",
    "else:\n",
    "    error = json.loads(response.text)\n",
    "    print('Error {0}:\\t{1}'.format(error['code'], error['message']))"
   ]
  },
  {
   "cell_type": "code",
   "execution_count": 11,
   "id": "3d05018a-c7d1-4660-99a4-ff25cee99e4d",
   "metadata": {},
   "outputs": [
    {
     "name": "stdout",
     "output_type": "stream",
     "text": [
      "DAHITI contains 11241 targets.\n"
     ]
    }
   ],
   "source": [
    "# export list of targets\n",
    "with open(PATH_DAHITI / 'list-targets.json', 'w') as f:\n",
    "    json.dump(targets['data'], f, indent=4)\n",
    "print('DAHITI contains {0} targets.'.format(len(targets['data'])))"
   ]
  },
  {
   "cell_type": "code",
   "execution_count": 33,
   "id": "caceeb21-0cc0-48dc-923c-dcfbb19678b4",
   "metadata": {},
   "outputs": [
    {
     "name": "stdout",
     "output_type": "stream",
     "text": [
      "DAHITI contains 528 reservoirs.\n",
      "DAHITI contains 70 reservoirs in Brazil, Argentina and Paraguay.\n"
     ]
    }
   ],
   "source": [
    "# filter reservoirs by country\n",
    "reservoirs = [target for target in targets['data'] if target['type'].lower() == 'reservoir']\n",
    "print('DAHITI contains {0} reservoirs.'.format(len(reservoirs)))\n",
    "\n",
    "# filter reservoirs by country\n",
    "reservoirs = [reservoir for reservoir in reservoirs if reservoir['country'] in ['Brazil', 'Argentina', 'Paraguay']]\n",
    "print('DAHITI contains {0} reservoirs in Brazil, Argentina and Paraguay.'.format(len(reservoirs)))\n",
    "\n",
    "# convert to DataFrame\n",
    "reservoir_list = []\n",
    "variables = []\n",
    "for reservoir in reservoirs:\n",
    "    serie = pd.concat((\n",
    "        pd.Series({key: value for key, value in reservoir.items() if key != 'data_access'}),\n",
    "        pd.Series(reservoir['data_access'])\n",
    "    ), axis=0)\n",
    "    variables += list(reservoir['data_access'])\n",
    "    reservoir_list.append(serie)\n",
    "reservoirs = pd.concat(reservoir_list, axis=1).T\n",
    "reservoirs.dahiti_id = reservoirs.dahiti_id.astype(int)\n",
    "reservoirs[['longitude', 'latitude']] = reservoirs[['longitude', 'latitude']].astype(float)\n",
    "variables = list(set(variables))\n",
    "reservoirs[variables] = reservoirs[variables].astype(bool)\n",
    "reservoirs.set_index('dahiti_id', drop=True, inplace=True)\n",
    "\n",
    "# convert to GeoDataFrame\n",
    "geometry = [Point(xy) for xy in zip(reservoirs.longitude, reservoirs.latitude)]\n",
    "reservoirs = gpd.GeoDataFrame(reservoirs, geometry=geometry)\n",
    "reservoirs = reservoirs.set_crs(epsg=4326)"
   ]
  },
  {
   "cell_type": "code",
   "execution_count": 29,
   "id": "645e1b8b-1730-4a86-b91a-96269e8e176f",
   "metadata": {},
   "outputs": [
    {
     "name": "stderr",
     "output_type": "stream",
     "text": [
      "C:\\Users\\casadje\\AppData\\Local\\Temp\\ipykernel_22332\\4234386605.py:1: UserWarning: Column names longer than 10 characters will be truncated when saved to ESRI Shapefile.\n",
      "  reservoirs.to_file(PATH_DAHITI / 'reservoirs_BrArPy.shp', driver='ESRI Shapefile')\n"
     ]
    }
   ],
   "source": [
    "# export shapefile of reservoirs\n",
    "reservoirs.to_file(PATH_DAHITI / 'reservoirs_BrArPy.shp', driver='ESRI Shapefile')"
   ]
  },
  {
   "cell_type": "code",
   "execution_count": 131,
   "id": "043f3c7d-6edd-4f1f-af9f-8bd0842692b1",
   "metadata": {},
   "outputs": [],
   "source": [
    "# reservoirs.to_fi(PATH_DAHITI / 'reservoirs_BrArPy.csv')"
   ]
  },
  {
   "cell_type": "markdown",
   "id": "dae7838d-8122-414c-8b78-043391769bfb",
   "metadata": {},
   "source": [
    "### Timeseries"
   ]
  },
  {
   "cell_type": "code",
   "execution_count": 42,
   "id": "f68a3590-4229-421e-8bf6-843ba6f2ff5a",
   "metadata": {},
   "outputs": [],
   "source": [
    "variables = [var.replace('_', '-') for var in variables]"
   ]
  },
  {
   "cell_type": "code",
   "execution_count": 72,
   "id": "4604383d-c2b0-47e6-9635-8a5faab8b983",
   "metadata": {},
   "outputs": [],
   "source": [
    "reservoirs_parana = gpd.read_file(PATH_DAHITI / 'reservoirs_parana.shp').set_index('dahiti_id', drop=True)\n",
    "reservoirs_parana.index = reservoirs_parana.index.astype(int)\n",
    "reservoirs_parana.GRAND_ID = reservoirs_parana.GRAND_ID.astype('Int64')\n",
    "rename_cols = {\n",
    "    'water_leve': 'water-level',\n",
    "    'surface_ar': 'surface-area',\n",
    "    'water_occu': 'water-occurrence-mask',\n",
    "    'land_water': 'land-water-mask',\n",
    "    'volume_var': 'volume-variation',\n",
    "    'hypsometry': 'hypsometry',\n",
    "    'bathymetry': 'bathymetry',\n",
    "    'water_le_1': 'water-level-hypsometry',\n",
    "    'discharge': 'discharge'\n",
    "}\n",
    "reservoirs_parana[list(rename_cols)] = reservoirs_parana[list(rename_cols)].astype(bool)\n",
    "reservoirs_parana.rename(columns=rename_cols, inplace=True)"
   ]
  },
  {
   "cell_type": "code",
   "execution_count": 74,
   "id": "222b908e-54f5-46f4-9c3c-2163bc38d333",
   "metadata": {
    "tags": []
   },
   "outputs": [
    {
     "data": {
      "application/vnd.jupyter.widget-view+json": {
       "model_id": "b9077cdedeb548b8870a5241876978f9",
       "version_major": 2,
       "version_minor": 0
      },
      "text/plain": [
       "  0%|          | 0/25 [00:00<?, ?it/s]"
      ]
     },
     "metadata": {},
     "output_type": "display_data"
    },
    {
     "name": "stdout",
     "output_type": "stream",
     "text": [
      "Error 403:\tPermission Denied (to access target `11473`)!\n",
      "Error 403:\tPermission Denied (to access target `11473`)!\n",
      "Error 403:\tPermission Denied (to access target `11473`)!\n",
      "Error 403:\tPermission Denied (to access target `41419`)!\n",
      "Error 403:\tPermission Denied (to access target `41419`)!\n",
      "Error 403:\tPermission Denied (to access target `41419`)!\n",
      "Error 403:\tPermission Denied (to access target `41420`)!\n",
      "Error 403:\tPermission Denied (to access target `41420`)!\n",
      "Error 403:\tPermission Denied (to access target `41420`)!\n",
      "Error 403:\tPermission Denied (to access target `10344`)!\n",
      "Error 403:\tPermission Denied (to access target `10344`)!\n",
      "Error 403:\tPermission Denied (to access target `10344`)!\n",
      "Error 403:\tPermission Denied (to access target `10346`)!\n",
      "Error 403:\tPermission Denied (to access target `10346`)!\n",
      "Error 403:\tPermission Denied (to access target `10346`)!\n",
      "Error 403:\tPermission Denied (to access target `11266`)!\n",
      "Error 403:\tPermission Denied (to access target `11266`)!\n",
      "Error 403:\tPermission Denied (to access target `11266`)!\n",
      "Error 403:\tPermission Denied (to access target `41424`)!\n",
      "Error 403:\tPermission Denied (to access target `41424`)!\n",
      "Error 403:\tPermission Denied (to access target `41424`)!\n",
      "Time series from ID 10434 could not be retrieved:\n",
      "list index out of range\n",
      "Error 403:\tPermission Denied (to access target `10434`)!\n",
      "Error 403:\tPermission Denied (to access target `10434`)!\n",
      "Error 403:\tPermission Denied (to access target `10434`)!\n",
      "Error 403:\tPermission Denied (to access target `10347`)!\n",
      "Error 403:\tPermission Denied (to access target `10347`)!\n",
      "Error 403:\tPermission Denied (to access target `10347`)!\n",
      "Attributes from ID 10345 could not be retrieved:\n",
      "'info'\n",
      "Time series from ID 10345 could not be retrieved:\n",
      "If using all scalar values, you must pass an index\n"
     ]
    },
    {
     "ename": "NameError",
     "evalue": "name 'df' is not defined",
     "output_type": "error",
     "traceback": [
      "\u001b[1;31m---------------------------------------------------------------------------\u001b[0m",
      "\u001b[1;31mNameError\u001b[0m                                 Traceback (most recent call last)",
      "Cell \u001b[1;32mIn [74], line 56\u001b[0m\n\u001b[0;32m     53\u001b[0m     \u001b[38;5;28;01mexcept\u001b[39;00m \u001b[38;5;167;01mException\u001b[39;00m \u001b[38;5;28;01mas\u001b[39;00m e:\n\u001b[0;32m     54\u001b[0m         \u001b[38;5;28mprint\u001b[39m(\u001b[38;5;124mf\u001b[39m\u001b[38;5;124m'\u001b[39m\u001b[38;5;124mTime series from ID \u001b[39m\u001b[38;5;132;01m{\u001b[39;00mID\u001b[38;5;132;01m}\u001b[39;00m\u001b[38;5;124m could not be retrieved:\u001b[39m\u001b[38;5;130;01m\\n\u001b[39;00m\u001b[38;5;132;01m{\u001b[39;00me\u001b[38;5;132;01m}\u001b[39;00m\u001b[38;5;124m'\u001b[39m, flush\u001b[38;5;241m=\u001b[39m\u001b[38;5;28;01mTrue\u001b[39;00m)\n\u001b[1;32m---> 56\u001b[0m     \u001b[38;5;28;01mdel\u001b[39;00m data, df\n\u001b[0;32m     57\u001b[0m \u001b[38;5;28;01melse\u001b[39;00m:\n\u001b[0;32m     58\u001b[0m     error \u001b[38;5;241m=\u001b[39m json\u001b[38;5;241m.\u001b[39mloads(response\u001b[38;5;241m.\u001b[39mtext)\n",
      "\u001b[1;31mNameError\u001b[0m: name 'df' is not defined"
     ]
    }
   ],
   "source": [
    "# with open('reservoirs_Parana.yml', 'r', encoding='utf-8') as file:\n",
    "#     reservoirs = yaml.safe_load(file)\n",
    "\n",
    "VARS = [\n",
    "    'water-level',\n",
    "    'surface-area',\n",
    "    'volume-variation',\n",
    "    'hypsometry'\n",
    "]\n",
    "\n",
    "attributes = pd.DataFrame()\n",
    "timeseries = {}\n",
    "for ID in tqdm(reservoirs_parana.index):\n",
    "    ts_id = pd.DataFrame(dtype=float)\n",
    "    for var in VARS:\n",
    "        if reservoirs_parana.loc[ID, var] is False:\n",
    "            continue\n",
    "\n",
    "        # request info to the API\n",
    "        response = requests.post(\n",
    "            f'{API_URL}download-{var}/',\n",
    "            json={\n",
    "                'api_key': api_key,\n",
    "                'format': 'json',\n",
    "                'dahiti_id': ID,\n",
    "            }\n",
    "        )\n",
    "\n",
    "        if response.status_code == 200:\n",
    "            # load as dictionary\n",
    "            data = json.loads(response.text)\n",
    "            \n",
    "            # extract attributes\n",
    "            try:\n",
    "                attributes = pd.concat(\n",
    "                    (\n",
    "                        attributes,\n",
    "                        pd.DataFrame.from_dict([data['info']]).set_index('dahiti_id')\n",
    "                    ),\n",
    "                    axis=0)\n",
    "            except Exception as e:\n",
    "                print(f'Attributes from ID {ID} could not be retrieved:\\n{e}', flush=True)\n",
    "\n",
    "            # extract timeseries\n",
    "            try:\n",
    "                df = pd.DataFrame.from_dict(data['data'])\n",
    "                index_col = [col for col in df.columns if col.startswith('date')][0]\n",
    "                df.set_index(index_col, drop=True, inplace=True)\n",
    "                df.index.name = 'date'\n",
    "                df.index = pd.to_datetime(df.index).date\n",
    "                # concatenate to the timeseries of other variables\n",
    "                ts_id = pd.concat((ts_id, df), axis=1)\n",
    "            except Exception as e:\n",
    "                print(f'Time series from ID {ID} could not be retrieved:\\n{e}', flush=True)\n",
    "            \n",
    "            del data, df\n",
    "        else:\n",
    "            error = json.loads(response.text)\n",
    "            print('Error {0}:\\t{1}'.format(error['code'], error['message']))\n",
    "            continue\n",
    "            \n",
    "    if len(ts_id) > 0:\n",
    "        ts_id.sort_index(inplace=True)\n",
    "        timeseries[ID] = ts_id"
   ]
  },
  {
   "cell_type": "code",
   "execution_count": null,
   "id": "1f822a8e-1feb-4ca5-8305-63786d4d7167",
   "metadata": {},
   "outputs": [],
   "source": [
    "# add boolean columns with available variables\n",
    "variables = attributes.dataset.unique().tolist()\n",
    "attributes[variables] = 0\n",
    "attributes.variables = attributes.variables.astype(boolean)\n",
    "for ID in attributes.index.unique():\n",
    "    vars_id = attributes.loc[[ID], 'dataset'].unique().tolist()\n",
    "    attributes.loc[ID, vars_id] = 1\n",
    "attributes.drop('dataset', axis=1, inplace=True)"
   ]
  },
  {
   "cell_type": "code",
   "execution_count": null,
   "id": "a3938c25-70e8-4550-bd01-743fb093e072",
   "metadata": {},
   "outputs": [],
   "source": [
    "# remove duplicated IDs\n",
    "attributes.drop_duplicates(keep='first', inplace=True)"
   ]
  },
  {
   "cell_type": "markdown",
   "id": "fe2be52c-8f0f-4ae8-a117-9e35b666b1b9",
   "metadata": {},
   "source": [
    "## Export"
   ]
  },
  {
   "cell_type": "code",
   "execution_count": null,
   "id": "b3b17a5d-fd5f-46dc-b8cd-7993456f9f5b",
   "metadata": {},
   "outputs": [],
   "source": []
  }
 ],
 "metadata": {
  "kernelspec": {
   "display_name": "Python 3 (ipykernel)",
   "language": "python",
   "name": "python3"
  },
  "language_info": {
   "codemirror_mode": {
    "name": "ipython",
    "version": 3
   },
   "file_extension": ".py",
   "mimetype": "text/x-python",
   "name": "python",
   "nbconvert_exporter": "python",
   "pygments_lexer": "ipython3",
   "version": "3.9.13"
  }
 },
 "nbformat": 4,
 "nbformat_minor": 5
}
