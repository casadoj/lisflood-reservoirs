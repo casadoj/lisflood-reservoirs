{
 "cells": [
  {
   "cell_type": "markdown",
   "id": "11f67b57-3009-41dc-b060-60c177fa584d",
   "metadata": {},
   "source": [
    "# Download DAHITI\n",
    "***\n",
    "\n",
    "***Author:** Chus Casado Rodríguez*<br>\n",
    "***Date:** 10-02-2025*<br>\n",
    "\n",
    "**Description**<br>\n",
    "\n",
    "This code downloads data from the [DAHITI](https://dahiti.dgfi.tum.de/en/) dataset using its API version 2. \n",
    "\n",
    "It requires two inputs:\n",
    "1. A TXT file (_api_key.txt_) with the API key associated to your DAHITI user.\n",
    "2. A YAML file with the DAHITI ID of the points of interes.\n",
    "\n",
    "It searches for available time series of water level, surface area and volume variation."
   ]
  },
  {
   "cell_type": "code",
   "execution_count": 7,
   "id": "d3f08944-f3db-4f3d-b109-dc4b3b36d8e3",
   "metadata": {
    "tags": []
   },
   "outputs": [
    {
     "data": {
      "application/vnd.jupyter.widget-view+json": {
       "model_id": "a2890742abe149fe8f93cdacfada1edd",
       "version_major": 2,
       "version_minor": 0
      },
      "text/plain": [
       "  0%|          | 0/24 [00:00<?, ?it/s]"
      ]
     },
     "metadata": {},
     "output_type": "display_data"
    },
    {
     "name": "stdout",
     "output_type": "stream",
     "text": [
      "{\"code\": 429, \"message\": \"You have reached the maximum number of allowed requests in last 24 hours (251 of 250 requests)\"}\n",
      "429\n"
     ]
    }
   ],
   "source": [
    "import numpy as np\n",
    "import pandas as pd\n",
    "import requests\n",
    "import json\n",
    "import yaml\n",
    "from tqdm.auto import tqdm\n",
    "\n",
    "with open('api_key.txt', 'r') as txt:\n",
    "    api_key = txt.readline().strip()\n",
    "\n",
    "with open('reservoirs_Parana.yml', 'r', encoding='utf-8') as file:\n",
    "    reservoirs = yaml.safe_load(file)\n",
    "\n",
    "URL = 'https://dahiti.dgfi.tum.de/api/v2/'\n",
    "VARS = [\n",
    "    'water-level',\n",
    "    'surface-area',\n",
    "    'volume-variation',\n",
    "    # 'hypsometry'\n",
    "]\n",
    "\n",
    "attributes = pd.DataFrame()\n",
    "timeseries = {}\n",
    "for ID in tqdm(reservoirs):\n",
    "    ts_id = pd.DataFrame(dtype=float)\n",
    "    for var in VARS:\n",
    "\n",
    "        # request info to the API\n",
    "        response = requests.post(f'{URL}download-{var}/',\n",
    "                                 json={\n",
    "                                     'api_key': api_key,\n",
    "                                     'dahiti_id': ID,\n",
    "                                     'format': 'json'\n",
    "                                 })\n",
    "\n",
    "        if response.status_code == 200:\n",
    "            # load as dictionary\n",
    "            data = json.loads(response.text)\n",
    "            \n",
    "            # extract attributes\n",
    "            try:\n",
    "                attributes = pd.concat(\n",
    "                    (\n",
    "                        attributes,\n",
    "                        pd.DataFrame.from_dict([data['info']]).set_index('dahiti_id')\n",
    "                    ),\n",
    "                    axis=0)\n",
    "            except Exception as e:\n",
    "                print(f'Attributes from ID {ID} could not be retrieved:\\n{e}', flush=True)\n",
    "\n",
    "            # extract timeseries\n",
    "            try:\n",
    "                df = pd.DataFrame.from_dict(data['data'])\n",
    "                index_col = [col for col in df.columns if col.startswith('date')][0]\n",
    "                df.set_index(index_col, drop=True, inplace=True)\n",
    "                df.index.name = 'date'\n",
    "                df.index = pd.to_datetime(df.index).date\n",
    "                # concatenate to the timeseries of other variables\n",
    "                ts_id = pd.concat((ts_id, df), axis=1)\n",
    "            except Exception as e:\n",
    "                print(f'Time series from ID {ID} could not be retrieved:\\n{e}', flush=True)\n",
    "            \n",
    "            del data, df\n",
    "        else:\n",
    "            error = json.loads(response.text)\n",
    "            print('Error {0}:\\t{1}'.format(error['code'], error['message']))\n",
    "            continue\n",
    "    break\n",
    "            \n",
    "    if len(ts_id) > 0:\n",
    "        ts_id.sort_index(inplace=True)\n",
    "        timeseries[ID] = ts_id"
   ]
  },
  {
   "cell_type": "code",
   "execution_count": null,
   "id": "1f822a8e-1feb-4ca5-8305-63786d4d7167",
   "metadata": {},
   "outputs": [],
   "source": [
    "# add boolean columns with available variables\n",
    "variables = attributes.dataset.unique().tolist()\n",
    "attributes[variables] = 0\n",
    "attributes.variables = attributes.variables.astype(boolean)\n",
    "for ID in attributes.index.unique():\n",
    "    vars_id = attributes.loc[[ID], 'dataset'].unique().tolist()\n",
    "    attributes.loc[ID, vars_id] = 1\n",
    "attributes.drop('dataset', axis=1, inplace=True)"
   ]
  },
  {
   "cell_type": "code",
   "execution_count": null,
   "id": "a3938c25-70e8-4550-bd01-743fb093e072",
   "metadata": {},
   "outputs": [],
   "source": [
    "# remove duplicated IDs\n",
    "attributes.drop_duplicates(keep='first', inplace=True)"
   ]
  }
 ],
 "metadata": {
  "kernelspec": {
   "display_name": "Python 3 (ipykernel)",
   "language": "python",
   "name": "python3"
  },
  "language_info": {
   "codemirror_mode": {
    "name": "ipython",
    "version": 3
   },
   "file_extension": ".py",
   "mimetype": "text/x-python",
   "name": "python",
   "nbconvert_exporter": "python",
   "pygments_lexer": "ipython3",
   "version": "3.9.13"
  }
 },
 "nbformat": 4,
 "nbformat_minor": 5
}
