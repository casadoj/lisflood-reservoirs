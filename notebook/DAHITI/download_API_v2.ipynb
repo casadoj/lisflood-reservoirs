{
 "cells": [
  {
   "cell_type": "markdown",
   "id": "11f67b57-3009-41dc-b060-60c177fa584d",
   "metadata": {},
   "source": [
    "# Download DAHITI\n",
    "***\n",
    "\n",
    "***Author:** Chus Casado Rodríguez*<br>\n",
    "***Date:** 10-02-2025*<br>\n",
    "\n",
    "**Description**<br>\n",
    "\n",
    "This code downloads data from the [DAHITI](https://dahiti.dgfi.tum.de/en/) dataset using its API version 2. \n",
    "\n",
    "It requires two inputs:\n",
    "1. A TXT file (_api_key.txt_) with the API key associated to your DAHITI user.\n",
    "2. A YAML file with the DAHITI ID of the points of interes.\n",
    "\n",
    "It searches for available time series of water level, surface area and volume variation."
   ]
  },
  {
   "cell_type": "code",
   "execution_count": 7,
   "id": "ff3a30e3-9136-4499-9cf7-c7f13ecd0d45",
   "metadata": {
    "tags": []
   },
   "outputs": [],
   "source": [
    "import numpy as np\n",
    "import pandas as pd\n",
    "import requests\n",
    "import json\n",
    "import yaml\n",
    "from tqdm.auto import tqdm"
   ]
  },
  {
   "cell_type": "markdown",
   "id": "284640b8-0c76-430f-b877-9272802e649a",
   "metadata": {},
   "source": [
    "## Configuration"
   ]
  },
  {
   "cell_type": "code",
   "execution_count": 39,
   "id": "c0c9fb95-9646-43b2-9478-f225ca4586cf",
   "metadata": {
    "tags": []
   },
   "outputs": [],
   "source": [
    "API_URL = 'https://dahiti.dgfi.tum.de/api/v2/'\n",
    "\n",
    "# personal API key\n",
    "with open('api_key.txt', 'r') as txt:\n",
    "    api_key = txt.readline().strip()\n",
    "\n",
    "# selection of targets\n",
    "with open('arguments.yml', 'r') as file:\n",
    "    args = yaml.safe_load(file)\n",
    "args['api_key'] = api_key"
   ]
  },
  {
   "cell_type": "markdown",
   "id": "5942de0e-ffcb-4f78-a7c3-63d4504f4098",
   "metadata": {},
   "source": [
    "## Data\n",
    "### Targets"
   ]
  },
  {
   "cell_type": "code",
   "execution_count": 41,
   "id": "d5dbb642-3368-4d9b-b932-eb556a45a21c",
   "metadata": {},
   "outputs": [
    {
     "name": "stdout",
     "output_type": "stream",
     "text": [
      "Error 429:\tYou have reached the maximum number of allowed requests in last 24 hours (251 of 250 requests)\n"
     ]
    }
   ],
   "source": [
    "# requests targets\n",
    "response = requests.post(\n",
    "    url=f'{API_URL}/list-targets/',\n",
    "    json=args\n",
    ")\n",
    "\n",
    "if response.status_code == 200:\n",
    "    data = json.loads(response.text)\n",
    "    pprint.pprint(data)\n",
    "else:\n",
    "    error = json.loads(response.text)\n",
    "    print('Error {0}:\\t{1}'.format(error['code'], error['message']))"
   ]
  },
  {
   "cell_type": "markdown",
   "id": "dae7838d-8122-414c-8b78-043391769bfb",
   "metadata": {},
   "source": [
    "### Timeseries"
   ]
  },
  {
   "cell_type": "code",
   "execution_count": 7,
   "id": "dbe28a5b-342b-4efc-b7b6-c1c94395b269",
   "metadata": {
    "tags": []
   },
   "outputs": [
    {
     "data": {
      "application/vnd.jupyter.widget-view+json": {
       "model_id": "a2890742abe149fe8f93cdacfada1edd",
       "version_major": 2,
       "version_minor": 0
      },
      "text/plain": [
       "  0%|          | 0/24 [00:00<?, ?it/s]"
      ]
     },
     "metadata": {},
     "output_type": "display_data"
    },
    {
     "name": "stdout",
     "output_type": "stream",
     "text": [
      "{\"code\": 429, \"message\": \"You have reached the maximum number of allowed requests in last 24 hours (251 of 250 requests)\"}\n",
      "429\n"
     ]
    }
   ],
   "source": [
    "with open('reservoirs_Parana.yml', 'r', encoding='utf-8') as file:\n",
    "    reservoirs = yaml.safe_load(file)\n",
    "\n",
    "VARS = [\n",
    "    'water-level',\n",
    "    'surface-area',\n",
    "    'volume-variation',\n",
    "    # 'hypsometry'\n",
    "]\n",
    "\n",
    "attributes = pd.DataFrame()\n",
    "timeseries = {}\n",
    "for ID in tqdm(reservoirs):\n",
    "    ts_id = pd.DataFrame(dtype=float)\n",
    "    for var in VARS:\n",
    "\n",
    "        # request info to the API\n",
    "        response = requests.post(\n",
    "            f'{API_URL}download-{var}/',\n",
    "            json={\n",
    "                'api_key': api_key,\n",
    "                'format': 'json',\n",
    "                'dahiti_id': ID,\n",
    "            }\n",
    "        )\n",
    "\n",
    "        if response.status_code == 200:\n",
    "            # load as dictionary\n",
    "            data = json.loads(response.text)\n",
    "            \n",
    "            # extract attributes\n",
    "            try:\n",
    "                attributes = pd.concat(\n",
    "                    (\n",
    "                        attributes,\n",
    "                        pd.DataFrame.from_dict([data['info']]).set_index('dahiti_id')\n",
    "                    ),\n",
    "                    axis=0)\n",
    "            except Exception as e:\n",
    "                print(f'Attributes from ID {ID} could not be retrieved:\\n{e}', flush=True)\n",
    "\n",
    "            # extract timeseries\n",
    "            try:\n",
    "                df = pd.DataFrame.from_dict(data['data'])\n",
    "                index_col = [col for col in df.columns if col.startswith('date')][0]\n",
    "                df.set_index(index_col, drop=True, inplace=True)\n",
    "                df.index.name = 'date'\n",
    "                df.index = pd.to_datetime(df.index).date\n",
    "                # concatenate to the timeseries of other variables\n",
    "                ts_id = pd.concat((ts_id, df), axis=1)\n",
    "            except Exception as e:\n",
    "                print(f'Time series from ID {ID} could not be retrieved:\\n{e}', flush=True)\n",
    "            \n",
    "            del data, df\n",
    "        else:\n",
    "            error = json.loads(response.text)\n",
    "            print('Error {0}:\\t{1}'.format(error['code'], error['message']))\n",
    "            continue\n",
    "    break\n",
    "            \n",
    "    if len(ts_id) > 0:\n",
    "        ts_id.sort_index(inplace=True)\n",
    "        timeseries[ID] = ts_id"
   ]
  },
  {
   "cell_type": "code",
   "execution_count": null,
   "id": "1f822a8e-1feb-4ca5-8305-63786d4d7167",
   "metadata": {},
   "outputs": [],
   "source": [
    "# add boolean columns with available variables\n",
    "variables = attributes.dataset.unique().tolist()\n",
    "attributes[variables] = 0\n",
    "attributes.variables = attributes.variables.astype(boolean)\n",
    "for ID in attributes.index.unique():\n",
    "    vars_id = attributes.loc[[ID], 'dataset'].unique().tolist()\n",
    "    attributes.loc[ID, vars_id] = 1\n",
    "attributes.drop('dataset', axis=1, inplace=True)"
   ]
  },
  {
   "cell_type": "code",
   "execution_count": null,
   "id": "a3938c25-70e8-4550-bd01-743fb093e072",
   "metadata": {},
   "outputs": [],
   "source": [
    "# remove duplicated IDs\n",
    "attributes.drop_duplicates(keep='first', inplace=True)"
   ]
  },
  {
   "cell_type": "markdown",
   "id": "fe2be52c-8f0f-4ae8-a117-9e35b666b1b9",
   "metadata": {},
   "source": [
    "## Export"
   ]
  },
  {
   "cell_type": "code",
   "execution_count": null,
   "id": "b3b17a5d-fd5f-46dc-b8cd-7993456f9f5b",
   "metadata": {},
   "outputs": [],
   "source": []
  }
 ],
 "metadata": {
  "kernelspec": {
   "display_name": "Python 3 (ipykernel)",
   "language": "python",
   "name": "python3"
  },
  "language_info": {
   "codemirror_mode": {
    "name": "ipython",
    "version": 3
   },
   "file_extension": ".py",
   "mimetype": "text/x-python",
   "name": "python",
   "nbconvert_exporter": "python",
   "pygments_lexer": "ipython3",
   "version": "3.9.13"
  }
 },
 "nbformat": 4,
 "nbformat_minor": 5
}
