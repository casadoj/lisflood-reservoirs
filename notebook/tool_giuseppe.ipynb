{
 "cells": [
  {
   "cell_type": "code",
   "execution_count": null,
   "id": "df25ca0e-f9d8-483e-9b7d-0472576ea2a5",
   "metadata": {},
   "outputs": [],
   "source": [
    "import os\n",
    "os.environ['USE_PYGEOS'] = '0'\n",
    "import numpy as np\n",
    "import pandas as pd\n",
    "import geopandas as gpd\n",
    "import xarray as xr\n",
    "from pathlib import Path"
   ]
  },
  {
   "cell_type": "code",
   "execution_count": null,
   "id": "b6795448-6ad6-4729-a62d-7669dbcd9b1d",
   "metadata": {},
   "outputs": [],
   "source": [
    "path = Path('Z:/nahaUsers/casadje/GloFASv4/US/rsfil/')"
   ]
  },
  {
   "cell_type": "markdown",
   "id": "a07158b6-79e7-41d7-8891-fc30c241189c",
   "metadata": {},
   "source": [
    "## Reservoirs"
   ]
  },
  {
   "cell_type": "code",
   "execution_count": null,
   "id": "04edd7ee-4dda-4fa0-9d10-98affdec5326",
   "metadata": {},
   "outputs": [],
   "source": [
    "# load shapefile\n",
    "reservoirs = gpd.read_file(path / 'GIS/reservoirs.shp')\n",
    "reservoirs.set_index('ResID', drop=True, inplace=True)"
   ]
  },
  {
   "cell_type": "markdown",
   "id": "ef790d4c-802e-4845-8c67-425d4f8e0cb7",
   "metadata": {},
   "source": [
    "## Extraction by Chus"
   ]
  },
  {
   "cell_type": "code",
   "execution_count": null,
   "id": "a1bdcb34-a4e8-471b-b55e-cc8dd80d8612",
   "metadata": {},
   "outputs": [],
   "source": [
    "files = [path / f'extraction/rsfil_{year}_extract121.nc' for year in [2019, 2020]]\n",
    "rsfil_chs = xr.open_mfdataset(files)['rsfil'].to_pandas()"
   ]
  },
  {
   "cell_type": "code",
   "execution_count": null,
   "id": "e24fd8dc-2249-4975-8ad3-4067061cce45",
   "metadata": {},
   "outputs": [],
   "source": []
  },
  {
   "cell_type": "code",
   "execution_count": null,
   "id": "b410a5d5-ae6f-40f6-bc6b-d18cae753c20",
   "metadata": {},
   "outputs": [],
   "source": [
    "year = 2019\n",
    "da = xr.open_dataset(path / f'raw/rsfil_{year}.nc')\n",
    "da = da.sel(lon=slice(-114.125, -103.475), lat=slice(50.875, 41.925))\n",
    "encoding = {'rsfil': {'dtype': 'float64', 'zlib': True, 'complevel': 4}}\n",
    "da.to_netcdf(path / f'giuseppe/test/test_{year}.nc', encoding=encoding)"
   ]
  },
  {
   "cell_type": "code",
   "execution_count": null,
   "id": "eb7b3e6b-8491-4c04-94d3-de2a810d5908",
   "metadata": {},
   "outputs": [],
   "source": [
    "da_ = xr.open_dataset(path / f'giuseppe/test/test_{year}.nc')"
   ]
  },
  {
   "cell_type": "code",
   "execution_count": null,
   "id": "bcacd67a-da1c-4991-b6b1-629785ca8653",
   "metadata": {},
   "outputs": [],
   "source": [
    "da_"
   ]
  },
  {
   "cell_type": "code",
   "execution_count": null,
   "id": "cb2e0c0a-718d-46ff-aa1c-c6c6b2021eea",
   "metadata": {},
   "outputs": [],
   "source": [
    "da['rsfil'].isel(time=100).plot()"
   ]
  },
  {
   "cell_type": "markdown",
   "id": "5837f4a4-979c-4d27-8243-e79bedbc8481",
   "metadata": {},
   "source": [
    "## Extraction by Giuseppe"
   ]
  },
  {
   "cell_type": "code",
   "execution_count": null,
   "id": "3b91f5dc-f506-42d7-afaa-3a5964e7d47c",
   "metadata": {},
   "outputs": [],
   "source": [
    "raw = pd.read_csv(path / 'giuseppe/output_1920.csv')\n",
    "raw[['lon', 'lat']] = raw[['lon', 'lat']].round(3)\n",
    "# raw.set_index(['lon', 'lat'], inplace=True)"
   ]
  },
  {
   "cell_type": "code",
   "execution_count": null,
   "id": "0ebba9e8-3760-48fd-95e3-5b789a5ec1d4",
   "metadata": {},
   "outputs": [],
   "source": [
    "# reshape time series\n",
    "rsfil_gsp = pd.DataFrame(index=rsfil_chs.index, columns=reservoirs.index, dtype=float)\n",
    "for ResID in reservoirs.index:\n",
    "    lon, lat = reservoirs.loc[ResID].geometry.x, reservoirs.loc[ResID].geometry.y\n",
    "    mask = (raw.lon == lon) & (raw.lat == lat)\n",
    "    rsfil_gsp[ResID] = raw.loc[mask, 'rsfil'].values\n",
    "rsfil_gsp.sort_index(axis=1, inplace=True)"
   ]
  },
  {
   "cell_type": "code",
   "execution_count": null,
   "id": "4557afb1-c2a3-478c-b34c-76217a7141af",
   "metadata": {},
   "outputs": [],
   "source": [
    "assert rsfil_gsp.min().min() >= 0, 'There are erroneous values below 0'\n",
    "assert rsfil_gsp.max().max() <= 1, 'There are erroneous values above 1'"
   ]
  },
  {
   "cell_type": "markdown",
   "id": "782c22d6-5315-40ea-9643-bcc52f85cd42",
   "metadata": {},
   "source": [
    "## Comparison "
   ]
  },
  {
   "cell_type": "code",
   "execution_count": null,
   "id": "5e95c7d5-6c30-4dab-b0c2-711d2b034ffc",
   "metadata": {},
   "outputs": [],
   "source": [
    "rsfil_chs.shape, rsfil_gsp.shape"
   ]
  },
  {
   "cell_type": "code",
   "execution_count": null,
   "id": "7f0b06ef-3305-4302-8daa-1e180bf26523",
   "metadata": {},
   "outputs": [],
   "source": [
    "rsfil_chs.head()"
   ]
  },
  {
   "cell_type": "code",
   "execution_count": null,
   "id": "2e88b9f0-3f47-47db-9b71-f512c43cfc04",
   "metadata": {},
   "outputs": [],
   "source": [
    "(rsfil_gsp == rsfil_chs)"
   ]
  },
  {
   "cell_type": "code",
   "execution_count": null,
   "id": "c446f3d4-d18a-4fbf-9d6b-62050f60bf5e",
   "metadata": {},
   "outputs": [],
   "source": [
    "np.all(np.isclose(rsfil_chs, rsfil_gsp, rtol=1e-10), axis=0)"
   ]
  },
  {
   "cell_type": "code",
   "execution_count": null,
   "id": "e0f3a396-39c3-40d0-ac02-dfb2c2c7853a",
   "metadata": {},
   "outputs": [],
   "source": [
    "rsfil_gsp.columns.intersection(rsfil_chs.columns)"
   ]
  },
  {
   "cell_type": "code",
   "execution_count": null,
   "id": "b6e36830-c60c-4cbc-8cff-8f43a31b9820",
   "metadata": {},
   "outputs": [],
   "source": []
  }
 ],
 "metadata": {
  "kernelspec": {
   "display_name": "Python 3 (ipykernel)",
   "language": "python",
   "name": "python3"
  },
  "language_info": {
   "codemirror_mode": {
    "name": "ipython",
    "version": 3
   },
   "file_extension": ".py",
   "mimetype": "text/x-python",
   "name": "python",
   "nbconvert_exporter": "python",
   "pygments_lexer": "ipython3",
   "version": "3.9.13"
  }
 },
 "nbformat": 4,
 "nbformat_minor": 5
}
