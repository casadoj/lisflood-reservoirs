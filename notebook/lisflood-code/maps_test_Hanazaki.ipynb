{
 "cells": [
  {
   "cell_type": "markdown",
   "id": "850da184-b4df-48ca-8a4a-ba5123c3af5c",
   "metadata": {},
   "source": [
    "# Hanazaki in LISFLOOD-code\n",
    "***\n",
    "\n",
    "***Author:** Chus Casado Rodríguez*<br>\n",
    "***Date:** 17-11-2024*<br>\n",
    "\n",
    "**Introduction:**<br>\n",
    "In this notebook I create NetCDF files of the two reservoir model parameters in the Hanazaki routine: the filling and outflow associated with the flood limit."
   ]
  },
  {
   "cell_type": "code",
   "execution_count": 11,
   "id": "a30bad0b-c95a-400c-bbba-1b23d2cccc6a",
   "metadata": {},
   "outputs": [],
   "source": [
    "from pathlib import Path\n",
    "import xarray as xr\n",
    "import numpy as np"
   ]
  },
  {
   "cell_type": "code",
   "execution_count": 2,
   "id": "447f9b7d-138e-44ad-9f4d-a9d8002ad1db",
   "metadata": {},
   "outputs": [],
   "source": [
    "path = Path('Z:/nahaUsers/casadje/LISFLOOD/Guadiana')"
   ]
  },
  {
   "cell_type": "markdown",
   "id": "dd1530e7-4722-4587-96c8-b13b95394f9b",
   "metadata": {},
   "source": [
    "## Catchment maps\n",
    "\n",
    "I create maps with a constant value throughout the catchment."
   ]
  },
  {
   "cell_type": "code",
   "execution_count": 16,
   "id": "ac2e9459-8b5c-4ff7-a95d-4644ec18d925",
   "metadata": {},
   "outputs": [],
   "source": [
    "uparea = xr.open_dataset(path / 'maps' / 'upArea_repaired.nc')"
   ]
  },
  {
   "cell_type": "markdown",
   "id": "481881ab-9354-44fb-bd24-a40aa12a4ab2",
   "metadata": {},
   "source": [
    "### Flood limit"
   ]
  },
  {
   "cell_type": "code",
   "execution_count": 46,
   "id": "bca8afad-b54c-4a4e-aafe-d9081cda92e1",
   "metadata": {},
   "outputs": [],
   "source": [
    "flood_limit = uparea.copy()\n",
    "flood_limit['Band1'] = flood_limit['Band1'].where(np.isnan(flood_limit['Band1']), 0.75)\n",
    "flood_limit.to_netcdf(path / 'maps' / 'res_flood_limit.nc')"
   ]
  },
  {
   "cell_type": "markdown",
   "id": "548c7f6b-4fff-41cc-aead-cb193ecd31bd",
   "metadata": {},
   "source": [
    "### Flood outflow"
   ]
  },
  {
   "cell_type": "code",
   "execution_count": 32,
   "id": "a2963d1b-b357-4b66-be34-8b9b96f77b25",
   "metadata": {},
   "outputs": [],
   "source": [
    "flood_outflow = uparea.copy()\n",
    "flood_outflow['Band1'] = flood_outflow['Band1'].where(np.isnan(flood_limit['Band1']), 0.3)\n",
    "flood_outflow.to_netcdf(path / 'maps' / 'res_flood_outflow_factor.nc')"
   ]
  },
  {
   "cell_type": "markdown",
   "id": "839f38a0-dc23-4e16-84ca-185e0985d639",
   "metadata": {},
   "source": [
    "## Reservoir maps\n",
    "I create maps with specific parameter values for each reservoir. The pixels inside the mask that don't correspond with reservoir can't be empty; instead, I set a value of 0."
   ]
  },
  {
   "cell_type": "code",
   "execution_count": 107,
   "id": "9f6031bb-1a22-4218-80b3-c418d2afb12d",
   "metadata": {},
   "outputs": [],
   "source": [
    "# load reservoir map\n",
    "res = xr.open_dataset(path / 'maps' / 'reservoirs_Global_03min_new.nc')\n",
    "res['res'] = res['res'].where(~np.isnan(uparea['Band1']), np.nan)\n",
    "# res.to_netcdf(path / 'maps' / 'reservoirs_Global_03min_new.nc')"
   ]
  },
  {
   "cell_type": "code",
   "execution_count": 108,
   "id": "e96f75da-cc01-4a22-9575-a6a3e53b4484",
   "metadata": {},
   "outputs": [
    {
     "data": {
      "text/plain": [
       "array([141, 999])"
      ]
     },
     "execution_count": 108,
     "metadata": {},
     "output_type": "execute_result"
    }
   ],
   "source": [
    "ids = np.unique(res['res'].values[~np.isnan(res['res'].values)]).astype(int)\n",
    "ids"
   ]
  },
  {
   "cell_type": "markdown",
   "id": "befe720e-76d5-4753-be5b-1600a10b1a6d",
   "metadata": {},
   "source": [
    "### Flood limit"
   ]
  },
  {
   "cell_type": "code",
   "execution_count": 105,
   "id": "4570e48b-5646-4607-93e8-213fd114be93",
   "metadata": {},
   "outputs": [],
   "source": [
    "flood_limit2 = uparea.copy()\n",
    "flood_limit2['Band1'] = flood_limit2['Band1'].where(np.isnan(flood_limit2['Band1']), 0)\n",
    "flood_limit2['Band1'] = flood_limit2['Band1'].where(res['res'] != 141, 0.70)\n",
    "flood_limit2['Band1'] = flood_limit2['Band1'].where(res['res'] != 999, 0.85)\n",
    "flood_limit2.to_netcdf(path / 'maps' / 'res_flood_limit.nc')"
   ]
  },
  {
   "cell_type": "markdown",
   "id": "377b311d-431c-40fc-97fa-a2790b83cf90",
   "metadata": {},
   "source": [
    "### Flood outflow"
   ]
  },
  {
   "cell_type": "code",
   "execution_count": 106,
   "id": "dec073a7-e012-417f-9c40-41741df67aad",
   "metadata": {},
   "outputs": [],
   "source": [
    "flood_outflow2 = uparea.copy()\n",
    "flood_outflow2['Band1'] = flood_outflow2['Band1'].where(np.isnan(flood_outflow2['Band1']), 0)\n",
    "flood_outflow2['Band1'] = flood_outflow2['Band1'].where(res['res'] != 141, 0.25)\n",
    "flood_outflow2['Band1'] = flood_outflow2['Band1'].where(res['res'] != 999, 0.32)\n",
    "flood_outflow2.to_netcdf(path / 'maps' / 'res_flood_outflow_factor.nc')"
   ]
  },
  {
   "cell_type": "markdown",
   "id": "7ed294e9-f6df-4ce8-8463-9cc1dd8eb856",
   "metadata": {},
   "source": [
    "```bash\n",
    "========================== LISFLOOD ERROR =============================\n",
    "/media/sf_nahaUsers/casadje/LISFLOOD/Guadiana//maps/res_flood_limit.nc has less valid pixels than area or ldd \n",
    "```"
   ]
  },
  {
   "cell_type": "markdown",
   "id": "465a6224-f423-491a-a03a-66be6ad89d2b",
   "metadata": {},
   "source": [
    "```bash\n",
    "========================== LISFLOOD Warning =============================\n",
    "Warning: map /media/sf_nahaUsers/casadje/LISFLOOD/Guadiana//maps/res_flood_outflow_factor.nc (binding: 'ReservoirFloodOutflowFactor') has fill values inside the area mask map!\n",
    "  warnings.warn(LisfloodWarning(\"Warning: map {} (binding: '{}') has fill values inside the area mask map!\".format(filename, name)))\n",
    "Traceback (most recent call last):\n",
    "  File \"/home/casadje/anaconda3/envs/hanazaki/bin/lisflood\", line 7, in <module>\n",
    "    exec(compile(f.read(), __file__, 'exec'))\n",
    "  File \"/home/casadje/GitHub/lisflood-code/bin/lisflood\", line 41, in <module>\n",
    "    sys.exit(main())\n",
    "  File \"/home/casadje/GitHub/lisflood-code/src/lisflood/main.py\", line 226, in main\n",
    "    lisfloodexe(lissettings)\n",
    "  File \"/home/casadje/GitHub/lisflood-code/src/lisflood/main.py\", line 90, in lisfloodexe\n",
    "    Lisflood = LisfloodModel()\n",
    "  File \"/home/casadje/GitHub/lisflood-code/src/lisflood/Lisflood_initial.py\", line 204, in __init__\n",
    "    self.reservoir_module.initial()\n",
    "  File \"/home/casadje/GitHub/lisflood-code/src/lisflood/hydrological_modules/reservoir.py\", line 155, in initial\n",
    "    factor_outflow = loadmap('ReservoirFloodOutflowFactor')\n",
    "  File \"/home/casadje/GitHub/lisflood-code/src/lisflood/global_modules/add1.py\", line 334, in loadmap\n",
    "    data = loadmap_cached(*args, **kwargs)\n",
    "  File \"/home/casadje/GitHub/lisflood-code/src/lisflood/global_modules/decorators.py\", line 72, in __call__\n",
    "    data = self.fn(*args, **kwargs)\n",
    "  File \"/home/casadje/GitHub/lisflood-code/src/lisflood/global_modules/add1.py\", line 342, in loadmap_cached\n",
    "    return loadmap_base(*args, **kwargs)\n",
    "  File \"/home/casadje/GitHub/lisflood-code/src/lisflood/global_modules/add1.py\", line 522, in loadmap_base\n",
    "    mapC = compressArray(mapnp, pcr=False, name=filename)\n",
    "  File \"/home/casadje/GitHub/lisflood-code/src/lisflood/global_modules/add1.py\", line 284, in compressArray\n",
    "    raise LisfloodError(msg)\n",
    "lisflood.global_modules.errors.LisfloodError: \n",
    "\n",
    " ========================== LISFLOOD ERROR =============================\n",
    "/media/sf_nahaUsers/casadje/LISFLOOD/Guadiana//maps/res_flood_outflow_factor.nc has less valid pixels than area or ldd \n",
    "\n",
    "```"
   ]
  },
  {
   "cell_type": "code",
   "execution_count": null,
   "id": "1edfadb1-f8f4-4ee9-a14b-ecd3345dc3e4",
   "metadata": {},
   "outputs": [],
   "source": []
  }
 ],
 "metadata": {
  "kernelspec": {
   "display_name": "Python 3 (ipykernel)",
   "language": "python",
   "name": "python3"
  },
  "language_info": {
   "codemirror_mode": {
    "name": "ipython",
    "version": 3
   },
   "file_extension": ".py",
   "mimetype": "text/x-python",
   "name": "python",
   "nbconvert_exporter": "python",
   "pygments_lexer": "ipython3",
   "version": "3.9.13"
  }
 },
 "nbformat": 4,
 "nbformat_minor": 5
}
