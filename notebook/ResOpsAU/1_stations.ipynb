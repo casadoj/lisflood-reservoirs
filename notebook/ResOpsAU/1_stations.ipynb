{
 "cells": [
  {
   "cell_type": "markdown",
   "id": "cc48b72f-64a9-4391-bb15-d6732c8f69e5",
   "metadata": {},
   "source": [
    "# ResOpsAUS: stations\n",
    "***\n",
    "\n",
    "***Author:** Chus Casado Rodríguez*<br>\n",
    "***Date:** 12-02-2025*<br>\n",
    "\n"
   ]
  },
  {
   "cell_type": "code",
   "execution_count": 1,
   "id": "faabeec3-1683-4900-a6e8-cbae76d19c31",
   "metadata": {},
   "outputs": [],
   "source": [
    "import os\n",
    "os.environ['USE_PYGEOS'] = '0'\n",
    "import pandas as pd\n",
    "import geopandas as gpd\n",
    "from shapely import Point\n",
    "from pathlib import Path"
   ]
  },
  {
   "cell_type": "markdown",
   "id": "279c758d-5fb7-4c29-8776-4540ba2cbcb6",
   "metadata": {},
   "source": [
    "## Configuration"
   ]
  },
  {
   "cell_type": "code",
   "execution_count": 17,
   "id": "23fb1004-1636-445d-99ec-142f98e6766d",
   "metadata": {},
   "outputs": [],
   "source": [
    "PATH_DATASET = Path('Z:/nahaUsers/casadje/datasets/reservoirs/ResOpsAU')\n",
    "PATH_OUT = PATH_DATASET / 'GIS'\n",
    "PATH_OUT.mkdir(parents=True, exist_ok=True)"
   ]
  },
  {
   "cell_type": "markdown",
   "id": "a700ab40-ce0c-458d-9443-205a67540b70",
   "metadata": {},
   "source": [
    "## Data"
   ]
  },
  {
   "cell_type": "code",
   "execution_count": 5,
   "id": "f5e77b6f-93d8-4640-b07e-f6e3ea486467",
   "metadata": {},
   "outputs": [
    {
     "name": "stdout",
     "output_type": "stream",
     "text": [
      "485 stations contain volume data\n"
     ]
    }
   ],
   "source": [
    "# stations reporting volume\n",
    "stations_vol = pd.read_csv(PATH_DATASET / 'attributes' / 'stations_volume.csv', index_col='station_number')\n",
    "stations_vol[['latitude', 'longitude']] = stations_vol[['latitude', 'longitude']].astype(float)\n",
    "stations_vol['volume'] = True\n",
    "\n",
    "print('{0} stations contain volume data'.format(len(stations_vol)))"
   ]
  },
  {
   "cell_type": "code",
   "execution_count": 7,
   "id": "c970b94f-09c1-479c-9b72-77d939c5f73f",
   "metadata": {},
   "outputs": [
    {
     "name": "stdout",
     "output_type": "stream",
     "text": [
      "556 stations contain level data\n"
     ]
    }
   ],
   "source": [
    "# stations reporting level\n",
    "stations_lev = pd.read_csv(PATH_DATASET / 'attributes' / 'stations_level.csv', index_col='station_number')\n",
    "stations_lev[['latitude', 'longitude']] = stations_lev[['latitude', 'longitude']].astype(float)\n",
    "stations_lev['level'] = True\n",
    "\n",
    "print('{0} stations contain level data'.format(len(stations_lev)))"
   ]
  },
  {
   "cell_type": "markdown",
   "id": "d35c9dfe-fa67-453d-9c0a-4d1d6bb65b7f",
   "metadata": {},
   "source": [
    "## Processing"
   ]
  },
  {
   "cell_type": "code",
   "execution_count": null,
   "id": "d7c0f0b4-6b6f-464d-a853-d2011e5fd8b2",
   "metadata": {},
   "outputs": [],
   "source": [
    "# stations = stations_vol.copy()"
   ]
  },
  {
   "cell_type": "code",
   "execution_count": 8,
   "id": "aa4e9486-1369-4e43-a3eb-5a0aba8257fa",
   "metadata": {},
   "outputs": [],
   "source": [
    "# intersection and difference between the two sets of stations\n",
    "ids_int = stations_vol.index.intersection(stations_lev.index)\n",
    "ids_diff = stations_lev.index.difference(stations_vol.index)"
   ]
  },
  {
   "cell_type": "code",
   "execution_count": 9,
   "id": "81ab4c63-dd31-4218-b057-8786ffcf8fec",
   "metadata": {},
   "outputs": [],
   "source": [
    "# update 'level' attribute in 'stations_vol'\n",
    "stations_vol['level'] = False\n",
    "stations_vol.loc[ids_int, 'level'] = True\n",
    "\n",
    "# update 'volume' attribute in 'stations_lev'\n",
    "stations_lev['volume'] = False\n",
    "stations_lev.loc[ids_int, 'volume'] = True"
   ]
  },
  {
   "cell_type": "code",
   "execution_count": 11,
   "id": "447d03bc-6fe6-482d-8e22-13c4b5f8cf28",
   "metadata": {},
   "outputs": [
    {
     "name": "stdout",
     "output_type": "stream",
     "text": [
      "582 stations contain either volume or level data\n"
     ]
    }
   ],
   "source": [
    "# concatenate both sets\n",
    "stations = pd.concat((stations_vol, stations_lev.loc[ids_diff, :]), axis=0)\n",
    "print('{0} stations contain either volume or level data'.format(len(stations)))"
   ]
  },
  {
   "cell_type": "code",
   "execution_count": 15,
   "id": "6b018cbb-6ffa-4150-b2a7-50dcb538397f",
   "metadata": {},
   "outputs": [],
   "source": [
    "# convert to geopandas\n",
    "stations = gpd.GeoDataFrame(\n",
    "    data=stations,\n",
    "    geometry=[Point(xy) for xy in zip(stations.longitude, stations.latitude)],\n",
    "    crs='epsg:4326'\n",
    ")"
   ]
  },
  {
   "cell_type": "code",
   "execution_count": 25,
   "id": "ff73d4c1-a5cc-46f3-bb3d-9d36052823ed",
   "metadata": {},
   "outputs": [],
   "source": [
    "# rename columns\n",
    "stations.rename(columns={'station_number': 'number', 'station_name': 'name'}, inplace=True)\n",
    "stations.index.name = 'number'"
   ]
  },
  {
   "cell_type": "code",
   "execution_count": 27,
   "id": "56d38a29-a568-4bbb-8101-7114ff5ef3ab",
   "metadata": {},
   "outputs": [],
   "source": [
    "# export\n",
    "stations.to_file(PATH_OUT / 'stations.shp')\n",
    "stations.to_csv(PATH_DATASET / 'attributes' / 'stations.csv')"
   ]
  }
 ],
 "metadata": {
  "kernelspec": {
   "display_name": "Python 3 (ipykernel)",
   "language": "python",
   "name": "python3"
  },
  "language_info": {
   "codemirror_mode": {
    "name": "ipython",
    "version": 3
   },
   "file_extension": ".py",
   "mimetype": "text/x-python",
   "name": "python",
   "nbconvert_exporter": "python",
   "pygments_lexer": "ipython3",
   "version": "3.9.13"
  }
 },
 "nbformat": 4,
 "nbformat_minor": 5
}
