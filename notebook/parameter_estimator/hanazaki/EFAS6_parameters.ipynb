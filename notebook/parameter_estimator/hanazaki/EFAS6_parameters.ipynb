{
 "cells": [
  {
   "cell_type": "markdown",
   "id": "7e03ff82-c968-4807-be13-80562dcfd25a",
   "metadata": {
    "tags": []
   },
   "source": [
    "# EFAS6: parameters\n",
    "***\n",
    "\n",
    "**Author**: Chus Casado Rodríguez<br>\n",
    "**Date**: 04-03-2025<br>"
   ]
  },
  {
   "cell_type": "code",
   "execution_count": 1,
   "id": "5b74668e-0a19-4ffc-80b2-e0afe0080bc3",
   "metadata": {
    "tags": []
   },
   "outputs": [],
   "source": [
    "import numpy as np\n",
    "import pandas as pd\n",
    "import xarray as xr\n",
    "import yaml\n",
    "from pathlib import Path\n",
    "from tqdm.auto import tqdm\n",
    "import matplotlib.pyplot as plt\n",
    "import matplotlib.colors as mcolors\n",
    "import matplotlib.cm as cm\n",
    "import seaborn as sns\n",
    "import warnings\n",
    "warnings.filterwarnings(\"ignore\", category=FutureWarning)\n",
    "import geopandas as gpd\n",
    "from shapely.geometry import Point\n",
    "import cartopy.feature as cfeature\n",
    "import cartopy.crs as ccrs\n",
    "import pickle\n",
    "\n",
    "from lisfloodreservoirs import read_attributes#, read_timeseries\n",
    "\n",
    "# from sklearn.ensemble import RandomForestRegressor"
   ]
  },
  {
   "cell_type": "markdown",
   "id": "ac1e57d9-7d57-4cea-a658-349e9984f47e",
   "metadata": {},
   "source": [
    "## 1 Configuration"
   ]
  },
  {
   "cell_type": "code",
   "execution_count": 7,
   "id": "8311cbd4-f934-49c7-b30d-6518719f1403",
   "metadata": {
    "tags": []
   },
   "outputs": [],
   "source": [
    "system = 'EFASv6'\n",
    "\n",
    "# paths\n",
    "# data_dir = Path('/eos/jeodpp/home/users/casadje/data')\n",
    "data_dir = Path('Z:/nahaUsers/casadje')\n",
    "res_dir = data_dir / system / 'reservoirs'\n",
    "out_dir = res_dir / 'parameters'\n",
    "plot_dir = out_dir / 'plots'\n",
    "plot_dir.mkdir(parents=True, exist_ok=True)\n",
    "model_dir = Path('./results/all')\n",
    "\n",
    "# PARAMETER ESTIMATOR MODEL\n",
    "# -------------------------\n",
    "\n",
    "# observational datasets\n",
    "data_version = {\n",
    "    'US': 'v2.0',\n",
    "    'ES': 'v3.0',\n",
    "    'MX': 'v1.0',\n",
    "    'BR': 'v1.0',\n",
    "}\n",
    "\n",
    "# reservoir routine\n",
    "reservoir_model = 'hanazaki_2pars'\n",
    "\n",
    "# performance metric and minimum value for the calibration to be used\n",
    "metric = 'KGE'\n",
    "perf_thr = 0.25\n",
    "\n",
    "# parameters\n",
    "par_range ={\n",
    "    'alpha': (0.2, 0.99),\n",
    "    'beta': (0.001, 0.999), \n",
    "    'gamma': (0.001, 0.999),\n",
    "    'delta': (0.1, 0.5),\n",
    "    'epsilon': (0.001, 0.999),\n",
    "}\n",
    "parameter_names = {\n",
    "    'alpha': 'flood_storage',\n",
    "    'delta': 'outflow_factor'\n",
    "}"
   ]
  },
  {
   "cell_type": "markdown",
   "id": "8f4b20e2-e4ce-4778-aab2-80468c620c83",
   "metadata": {},
   "source": [
    "## Data"
   ]
  },
  {
   "cell_type": "markdown",
   "id": "38853fb0-7dc9-480f-9c4d-b84323886850",
   "metadata": {},
   "source": [
    "### Reservoirs"
   ]
  },
  {
   "cell_type": "code",
   "execution_count": 8,
   "id": "ebf252f6-c9f2-48eb-965e-fc6754a93455",
   "metadata": {},
   "outputs": [
    {
     "data": {
      "text/plain": [
       "WindowsPath('Z:/nahaUsers/casadje/EFASv6/reservoirs')"
      ]
     },
     "execution_count": 8,
     "metadata": {},
     "output_type": "execute_result"
    }
   ],
   "source": [
    "res_dir"
   ]
  },
  {
   "cell_type": "code",
   "execution_count": 9,
   "id": "69620da6-37a7-42b3-a207-a70af54959e7",
   "metadata": {
    "tags": []
   },
   "outputs": [
    {
     "ename": "IndexError",
     "evalue": "list index out of range",
     "output_type": "error",
     "traceback": [
      "\u001b[31m---------------------------------------------------------------------------\u001b[39m",
      "\u001b[31mIndexError\u001b[39m                                Traceback (most recent call last)",
      "\u001b[36mCell\u001b[39m\u001b[36m \u001b[39m\u001b[32mIn[9]\u001b[39m\u001b[32m, line 4\u001b[39m\n\u001b[32m      1\u001b[39m idx_name = \u001b[33m'\u001b[39m\u001b[33mGDW_ID\u001b[39m\u001b[33m'\u001b[39m\n\u001b[32m      3\u001b[39m \u001b[38;5;66;03m# load reservoir table\u001b[39;00m\n\u001b[32m----> \u001b[39m\u001b[32m4\u001b[39m xls_file = \u001b[38;5;28;43mlist\u001b[39;49m\u001b[43m(\u001b[49m\u001b[43m(\u001b[49m\u001b[43mres_dir\u001b[49m\u001b[43m)\u001b[49m\u001b[43m.\u001b[49m\u001b[43mglob\u001b[49m\u001b[43m(\u001b[49m\u001b[33;43mf\u001b[39;49m\u001b[33;43m'\u001b[39;49m\u001b[38;5;132;43;01m{\u001b[39;49;00m\u001b[43msystem\u001b[49m\u001b[43m.\u001b[49m\u001b[43mlower\u001b[49m\u001b[43m(\u001b[49m\u001b[43m)\u001b[49m\u001b[38;5;132;43;01m}\u001b[39;49;00m\u001b[33;43m_reservoirs_*.xlsx\u001b[39;49m\u001b[33;43m'\u001b[39;49m\u001b[43m)\u001b[49m\u001b[43m)\u001b[49m\u001b[43m[\u001b[49m\u001b[43m-\u001b[49m\u001b[32;43m1\u001b[39;49m\u001b[43m]\u001b[49m\n\u001b[32m      5\u001b[39m reservoirs = []\n\u001b[32m      6\u001b[39m \u001b[38;5;28;01mfor\u001b[39;00m sheet \u001b[38;5;129;01min\u001b[39;00m [\u001b[33m'\u001b[39m\u001b[33mas_reservoirs\u001b[39m\u001b[33m'\u001b[39m, \u001b[33m'\u001b[39m\u001b[33mas_lakes\u001b[39m\u001b[33m'\u001b[39m]:\n",
      "\u001b[31mIndexError\u001b[39m: list index out of range"
     ]
    }
   ],
   "source": [
    "idx_name = 'GDW_ID'\n",
    "\n",
    "# load reservoir table\n",
    "xls_file = list((res_dir).glob(f'{system.lower()}_reservoirs_*.xlsx'))[-1]\n",
    "reservoirs = []\n",
    "for sheet in ['as_reservoirs', 'as_lakes']:\n",
    "    df = pd.read_excel(xls_file, sheet_name=sheet, index_col=idx_name)\n",
    "    df['TYPE'] = sheet\n",
    "    reservoirs.append(df)\n",
    "reservoirs = pd.concat(reservoirs, axis=0)\n",
    "\n",
    "# convert to GeoPandas\n",
    "reservoirs = gpd.GeoDataFrame(\n",
    "    data=reservoirs,\n",
    "    geometry=[Point(xy) for xy in zip(reservoirs.LisfloodX, reservoirs.LisfloodY)],\n",
    "    crs='epsg:4326'\n",
    ")\n",
    "\n",
    "reservoirs.shape"
   ]
  },
  {
   "cell_type": "markdown",
   "id": "61e924e9-40a0-4389-8607-a1b8681e1e08",
   "metadata": {},
   "source": [
    "### Attributes"
   ]
  },
  {
   "cell_type": "code",
   "execution_count": null,
   "id": "f8b1d861-a507-47ec-af84-e5c9dfd8167f",
   "metadata": {
    "tags": []
   },
   "outputs": [],
   "source": [
    "# load attributes\n",
    "attributes = read_attributes(res_dir / 'attributes', reservoirs=reservoirs.index.tolist(), index_col=idx_name)\n",
    "attributes.columns = attributes.columns.str.lower()\n",
    "\n",
    "attributes.shape"
   ]
  },
  {
   "cell_type": "code",
   "execution_count": null,
   "id": "afd44ba4-46ce-4735-96d3-2f79a76511a0",
   "metadata": {
    "tags": []
   },
   "outputs": [],
   "source": [
    "attributes.isnull().any(axis=1).sum()"
   ]
  },
  {
   "cell_type": "markdown",
   "id": "d30faa85-fc77-4620-a11b-fd830105cb8e",
   "metadata": {},
   "source": [
    "### Reservoir parameters"
   ]
  },
  {
   "cell_type": "code",
   "execution_count": null,
   "id": "63d1fcb4-7613-44f1-9b0f-ac8397a9767e",
   "metadata": {
    "tags": []
   },
   "outputs": [],
   "source": [
    "results = []\n",
    "# default reservoir limits\n",
    "limits_def = pd.DataFrame(dtype=float)\n",
    "for country, version in data_version.items():\n",
    "\n",
    "    path_runs = {\n",
    "        'default': data_dir / f'ResOps{country}' / 'results' / reservoir_model / 'default',\n",
    "        'storage': data_dir / f'ResOps{country}' / 'results' / reservoir_model / 'calibration' / 'storage',\n",
    "        'outflow': data_dir / f'ResOps{country}' / 'results' / reservoir_model / 'calibration' / 'outflow',\n",
    "        'bivariate': data_dir / f'ResOps{country}' / 'results' / reservoir_model / 'calibration' / 'bivariate'\n",
    "    }\n",
    "    \n",
    "    runs = []\n",
    "    for run, path in path_runs.items():\n",
    "        # optimal parameters\n",
    "        parameters = pd.DataFrame(dtype=float)\n",
    "        if run == 'default':\n",
    "            for file in path.glob('*parameters.yml'):\n",
    "                # reservoir ID\n",
    "                ID = int(file.stem.split('_')[0])\n",
    "                # extract alpha\n",
    "                with open(file, 'r') as f:\n",
    "                    lims = yaml.safe_load(f)\n",
    "                limits_def = pd.concat((limits_def, pd.DataFrame({ID: lims}).transpose()), axis=0)\n",
    "                parameters.loc[ID, 'alpha'] = lims['Vf'] / lims['Vtot']\n",
    "                if reservoir_model.endswith('5pars'):\n",
    "                    parameters.loc[ID, 'beta'] = (lims['Vtot'] - lims['Ve']) / (lims['Vtot'] - lims['Vf'])\n",
    "                    parameters.loc[ID, 'gamma'] = lims['Vmin'] / lims['Vf'] \n",
    "                    parameters.loc[ID, 'epsilon'] = lims['Qn'] / lims['Qf']\n",
    "            parameters['delta'] = 0.30\n",
    "        else:\n",
    "            for file in path.glob('*samples.csv'):\n",
    "                # reservoir ID\n",
    "                ID = int(file.stem.split('_')[0])\n",
    "                # extract best sample from the calibration\n",
    "                samples = pd.read_csv(file)\n",
    "                mask_cols = samples.columns.str.startswith('par')\n",
    "                parvalues = samples.loc[[samples.like1.idxmin()], mask_cols]\n",
    "                parvalues.index = [ID]\n",
    "                parvalues.index.name = 'ID'\n",
    "                parvalues.rename(columns={col: col[3:] for col in parvalues.columns if col.startswith('par')}, inplace=True)\n",
    "                parameters = pd.concat((parameters, parvalues), axis=0)\n",
    "        parameters.index.name = 'ID'\n",
    "\n",
    "        # performance\n",
    "        performance = pd.DataFrame(dtype=float)\n",
    "        for file in path.glob('*performance.csv'):\n",
    "            # reservoir ID\n",
    "            ID = int(file.stem.split('_')[0])\n",
    "            # extract best sample from the calibration\n",
    "            perf = pd.read_csv(file, index_col='metric')\n",
    "            perf = perf.loc[[metric], ['storage', 'outflow']]\n",
    "            perf.index = [ID]\n",
    "            perf.index.name = 'ID'\n",
    "            perf.columns = [f'{metric}_{col}' for col in perf.columns]\n",
    "            performance = pd.concat((performance, perf), axis=0)\n",
    "\n",
    "        # concat all results\n",
    "        runs.append(xr.Dataset(pd.concat((parameters, performance), axis=1)).expand_dims(dim={'run': [run]}))\n",
    "\n",
    "    # merge in a single Dataset\n",
    "    runs = xr.merge(runs)\n",
    "    runs = runs.reindex(run=['default', 'storage', 'outflow', 'bivariate'])\n",
    "    results.append(runs)\n",
    "results = xr.merge(results)"
   ]
  },
  {
   "cell_type": "code",
   "execution_count": null,
   "id": "620892e2-8d04-4855-82ed-eac285b9e675",
   "metadata": {
    "tags": []
   },
   "outputs": [],
   "source": [
    "# select the reservoirs that are included in EFAS/GloFAS and rename the dimension\n",
    "map_grand_idx = {grand_id: idx for idx, grand_id in reservoirs.GRAND_ID.items() if not pd.isna(grand_id) and grand_id in results.ID.data}\n",
    "results = results.sel(ID=list(map_grand_idx))\n",
    "results['ID'] = [map_grand_idx[grand_id] for grand_id in results.ID.data]\n",
    "results = results.rename({'ID': idx_name})"
   ]
  },
  {
   "cell_type": "markdown",
   "id": "20660be9-db8a-4c45-9afc-e2850605dab5",
   "metadata": {},
   "source": [
    "### Model"
   ]
  },
  {
   "cell_type": "code",
   "execution_count": null,
   "id": "85799381-ad1c-4c0a-a5cd-69906740f628",
   "metadata": {
    "tags": []
   },
   "outputs": [],
   "source": [
    "# load model\n",
    "with open(model_dir / 'random_forest_2' / 'random_forest_2par.pkl', 'rb') as file:\n",
    "    model = pickle.load(file)\n",
    "\n",
    "# feature names\n",
    "features = model.feature_names_in_"
   ]
  },
  {
   "cell_type": "markdown",
   "id": "420c955e-1735-4c1a-a05b-bb8e29f44520",
   "metadata": {},
   "source": [
    "## Reservoir parameters "
   ]
  },
  {
   "cell_type": "markdown",
   "id": "aca14114-8f43-4c2f-b1ff-34ea18293072",
   "metadata": {},
   "source": [
    "### Calibrated"
   ]
  },
  {
   "cell_type": "code",
   "execution_count": null,
   "id": "6d194ad7-d84c-4f86-b184-577f9e077499",
   "metadata": {
    "tags": []
   },
   "outputs": [],
   "source": [
    "# extract the calibrated parameters as a DataFrame\n",
    "pars_calib = pd.concat([results.sel(run=run)[par].to_pandas() for par in list(parameter_names)], axis=1)\n",
    "pars_calib.columns = list(parameter_names)\n",
    "pars_calib['parameters'] = 'calibrated'\n",
    "\n",
    "# keep only those with performance in the calibration\n",
    "mask_performance = (pd.concat([results[f'{metric}_{var}'].sel(run=run).to_pandas() for var in ['storage', 'outflow']], axis=1) < perf_thr).any(axis=1)\n",
    "pars_calib = pars_calib[~mask_performance]\n",
    "\n",
    "print(pars_calib.shape)\n",
    "pars_calib.head()"
   ]
  },
  {
   "cell_type": "markdown",
   "id": "d8f4f967-7d35-462c-b6e0-f20a738cfeaa",
   "metadata": {},
   "source": [
    "### Estimated"
   ]
  },
  {
   "cell_type": "code",
   "execution_count": null,
   "id": "932fc83e-7691-4832-a341-81fdad54a685",
   "metadata": {
    "tags": []
   },
   "outputs": [],
   "source": [
    "# predict parameters\n",
    "ids = reservoirs.index.difference(pars_calib.index)\n",
    "pars_est = pd.DataFrame(\n",
    "    data=model.predict(attributes.loc[ids, features]),\n",
    "    index=ids,\n",
    "    columns=parameter_names.keys()\n",
    ")\n",
    "pars_est['parameters'] = 'estimated'\n",
    "\n",
    "print(pars_est.shape)\n",
    "pars_est.head()"
   ]
  },
  {
   "cell_type": "markdown",
   "id": "8f98011a-5290-42f0-87b1-7b859ba60e32",
   "metadata": {},
   "source": [
    "### Combine"
   ]
  },
  {
   "cell_type": "code",
   "execution_count": null,
   "id": "3a3c1a77-cc8e-48c2-898e-9f85a7d02bb6",
   "metadata": {
    "tags": []
   },
   "outputs": [],
   "source": [
    "# combine and concat with reservoir table\n",
    "parameters = pd.concat([pars_calib, pars_est], axis=0).sort_index().round(6)\n",
    "\n",
    "print(parameters.shape)\n",
    "parameters.head()"
   ]
  },
  {
   "cell_type": "markdown",
   "id": "1b04ff30-0246-4241-aaa3-60357dd42b2e",
   "metadata": {
    "tags": []
   },
   "source": [
    "#### Analyse"
   ]
  },
  {
   "cell_type": "code",
   "execution_count": null,
   "id": "659549ae-912f-44fa-bd24-2c00d6360cbd",
   "metadata": {
    "tags": []
   },
   "outputs": [],
   "source": [
    "fig, axes = plt.subplots(ncols=2, figsize=(18, 8.5), subplot_kw=dict(projection=ccrs.PlateCarree()))\n",
    "for ax, par in zip(axes, ['alpha', 'delta']):\n",
    "    ax.add_feature(cfeature.NaturalEarthFeature('physical', 'land', '10m', edgecolor='face', facecolor='tan'), alpha=.5, zorder=0)\n",
    "    ax.add_feature(cfeature.BORDERS, edgecolor='w', linewidth=0.8, zorder=1)\n",
    "    sct = ax.scatter(\n",
    "        reservoirs.geometry.x,\n",
    "        reservoirs.geometry.y,\n",
    "        s=np.cbrt(reservoirs.CAP_MCM),\n",
    "        c=parameters[par],\n",
    "        edgecolor='w',\n",
    "        lw=.4,\n",
    "        cmap='viridis',\n",
    "        norm=mcolors.Normalize(*par_range[par])\n",
    "    )\n",
    "    cbar = plt.colorbar(sct, orientation='horizontal', pad=.05, shrink=.5)#, ax=ax)\n",
    "    # ax.set_extent([-180, 180, -90, 90])\n",
    "    cbar.set_label(par)\n",
    "    ax.axis('off');\n",
    "plt.savefig(plot_dir / f'parameter_maps.jpg', dpi=300, bbox_inches='tight')"
   ]
  },
  {
   "cell_type": "code",
   "execution_count": null,
   "id": "a61f0872-fe75-43da-89b5-36b7fa528afc",
   "metadata": {
    "tags": []
   },
   "outputs": [],
   "source": [
    "for par, name in parameter_names.items():\n",
    "    fig, ax = plt.subplots()\n",
    "    bins = np.histogram_bin_edges(parameters[par], bins=\"auto\")\n",
    "    sns.histplot(parameters[par], bins=bins, ax=ax, color='C1', alpha=1, label='calibrated')\n",
    "    sns.histplot(pars_est[par], bins=bins, ax=ax, color='C0', alpha=1, label='estimated')\n",
    "    # ax.set(xlim=par_range[par])\n",
    "    ax.legend(frameon=False)\n",
    "    ax.spines[['top', 'right']].set_visible(False)\n",
    "    plt.savefig(plot_dir / f'{name}.jpg', dpi=300, bbox_inches='tight')"
   ]
  },
  {
   "cell_type": "markdown",
   "id": "4c3b24b7-469b-422f-b75a-c908ddcf17df",
   "metadata": {
    "tags": []
   },
   "source": [
    "### Export"
   ]
  },
  {
   "cell_type": "markdown",
   "id": "9d70a8eb-54ff-48df-82f6-c0aafe470b2f",
   "metadata": {},
   "source": [
    "#### TXT files"
   ]
  },
  {
   "cell_type": "code",
   "execution_count": null,
   "id": "b724717e-5eaf-4831-8cf3-41ce4f0323ce",
   "metadata": {
    "tags": []
   },
   "outputs": [],
   "source": [
    "for par, name in parameter_names.items():\n",
    "    txt_file = out_dir / f'reservoirs_{system.lower()}_{name}.txt'\n",
    "    parameters[par].to_csv(\n",
    "        txt_file,\n",
    "        sep='\\t',\n",
    "        header=None,\n",
    "        float_format='%.6f'\n",
    "    )\n",
    "    print(f'Parameter {par} saved in file {txt_file}')"
   ]
  },
  {
   "cell_type": "markdown",
   "id": "31aaff4e-edcd-410e-932c-dd5c8fe7ab6c",
   "metadata": {},
   "source": [
    "#### Excel"
   ]
  },
  {
   "cell_type": "code",
   "execution_count": null,
   "id": "dd53a1f2-4377-45ae-80e3-caeec776882f",
   "metadata": {
    "tags": []
   },
   "outputs": [],
   "source": [
    "# add parameters to the reservoir table\n",
    "reservoirs.drop(list(parameter_names), axis=1, inplace=True, errors='ignore')\n",
    "reservoirs = pd.concat((reservoirs, parameters), axis=1)\n",
    "reservoirs.rename(columns=parameter_names, inplace=True)\n",
    "\n",
    "# save table of reservoirs as Excel\n",
    "xls_file_out = f'{xls_file.parent}/{xls_file.stem}+parameters.xlsx'\n",
    "with pd.ExcelWriter(xls_file_out, engine='openpyxl') as writer:\n",
    "    for sheet in reservoirs.TYPE.unique():\n",
    "        mask = reservoirs.TYPE == sheet\n",
    "        reservoirs[mask].drop(['TYPE', 'geometry'], axis=1).to_excel(writer, sheet_name=sheet, float_format='%.4f')\n",
    "print(f'Reservoir Excel table saved in : {xls_file_out}')"
   ]
  }
 ],
 "metadata": {
  "kernelspec": {
   "display_name": "Python 3 (ipykernel)",
   "language": "python",
   "name": "python3"
  },
  "language_info": {
   "codemirror_mode": {
    "name": "ipython",
    "version": 3
   },
   "file_extension": ".py",
   "mimetype": "text/x-python",
   "name": "python",
   "nbconvert_exporter": "python",
   "pygments_lexer": "ipython3",
   "version": "3.11.11"
  }
 },
 "nbformat": 4,
 "nbformat_minor": 5
}
