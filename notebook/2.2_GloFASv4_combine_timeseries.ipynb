{
 "cells": [
  {
   "cell_type": "markdown",
   "id": "43599baa-e239-4b09-8b27-6ec5278d0a5e",
   "metadata": {},
   "source": [
    "# GloFAS - combine time series\n",
    "***\n",
    "\n",
    "**Author:** Chus Casado Rodríguez<br>\n",
    "**Date:** 22-09-2023<br>\n",
    "\n",
    "**Introduction:**<br>\n",
    "This notebook reads the NetCDF files corresponding to every year of the GloFAS long run that contain the time series for all the reservoirs in GloFAS.\n",
    "\n",
    "The data is reexported in NetCDF files for each reservoir with the complete time series of the long run."
   ]
  },
  {
   "cell_type": "code",
   "execution_count": 1,
   "id": "8de94484-c1c2-4c34-a1d7-75f98a6bf885",
   "metadata": {},
   "outputs": [],
   "source": [
    "import os\n",
    "import glob\n",
    "import numpy as np\n",
    "import pandas as pd\n",
    "import xarray as xr\n",
    "import matplotlib.pyplot as plt\n",
    "from pathlib import Path\n",
    "from tqdm.notebook import tqdm\n",
    "import yaml\n",
    "\n",
    "import warnings\n",
    "warnings.filterwarnings('ignore')\n",
    "\n",
    "import geopandas as gpd\n",
    "from datetime import datetime\n",
    "\n",
    "from metrics import KGEmod, ECDF"
   ]
  },
  {
   "cell_type": "markdown",
   "id": "5e361c38-4978-4f38-87dc-84f175c0faf5",
   "metadata": {},
   "source": [
    "### Configuration"
   ]
  },
  {
   "cell_type": "code",
   "execution_count": 2,
   "id": "c1bf2f59-478e-4d7d-8ab4-5a7963b5ba59",
   "metadata": {},
   "outputs": [
    {
     "ename": "FileNotFoundError",
     "evalue": "[WinError 3] The system cannot find the path specified: 'Z:\\\\nahaUsers\\\\casadje\\\\GloFASv4\\\\extraction\\\\dis_US'",
     "output_type": "error",
     "traceback": [
      "\u001b[1;31m---------------------------------------------------------------------------\u001b[0m",
      "\u001b[1;31mFileNotFoundError\u001b[0m                         Traceback (most recent call last)",
      "Cell \u001b[1;32mIn [2], line 8\u001b[0m\n\u001b[0;32m      6\u001b[0m path_out \u001b[38;5;241m=\u001b[39m Path(cfg[\u001b[38;5;124m'\u001b[39m\u001b[38;5;124mpath_out\u001b[39m\u001b[38;5;124m'\u001b[39m])\n\u001b[0;32m      7\u001b[0m \u001b[38;5;28;01mif\u001b[39;00m path_out\u001b[38;5;241m.\u001b[39mexists() \u001b[38;5;129;01mis\u001b[39;00m \u001b[38;5;28;01mFalse\u001b[39;00m:\n\u001b[1;32m----> 8\u001b[0m     \u001b[43mpath_out\u001b[49m\u001b[38;5;241;43m.\u001b[39;49m\u001b[43mmkdir\u001b[49m\u001b[43m(\u001b[49m\u001b[43m)\u001b[49m\n\u001b[0;32m      9\u001b[0m var \u001b[38;5;241m=\u001b[39m cfg[\u001b[38;5;124m'\u001b[39m\u001b[38;5;124mvar\u001b[39m\u001b[38;5;124m'\u001b[39m]\n",
      "File \u001b[1;32mC:\\DEV\\Anaconda3\\envs\\xr\\lib\\pathlib.py:1323\u001b[0m, in \u001b[0;36mPath.mkdir\u001b[1;34m(self, mode, parents, exist_ok)\u001b[0m\n\u001b[0;32m   1319\u001b[0m \u001b[38;5;124;03m\"\"\"\u001b[39;00m\n\u001b[0;32m   1320\u001b[0m \u001b[38;5;124;03mCreate a new directory at this given path.\u001b[39;00m\n\u001b[0;32m   1321\u001b[0m \u001b[38;5;124;03m\"\"\"\u001b[39;00m\n\u001b[0;32m   1322\u001b[0m \u001b[38;5;28;01mtry\u001b[39;00m:\n\u001b[1;32m-> 1323\u001b[0m     \u001b[38;5;28;43mself\u001b[39;49m\u001b[38;5;241;43m.\u001b[39;49m\u001b[43m_accessor\u001b[49m\u001b[38;5;241;43m.\u001b[39;49m\u001b[43mmkdir\u001b[49m\u001b[43m(\u001b[49m\u001b[38;5;28;43mself\u001b[39;49m\u001b[43m,\u001b[49m\u001b[43m \u001b[49m\u001b[43mmode\u001b[49m\u001b[43m)\u001b[49m\n\u001b[0;32m   1324\u001b[0m \u001b[38;5;28;01mexcept\u001b[39;00m \u001b[38;5;167;01mFileNotFoundError\u001b[39;00m:\n\u001b[0;32m   1325\u001b[0m     \u001b[38;5;28;01mif\u001b[39;00m \u001b[38;5;129;01mnot\u001b[39;00m parents \u001b[38;5;129;01mor\u001b[39;00m \u001b[38;5;28mself\u001b[39m\u001b[38;5;241m.\u001b[39mparent \u001b[38;5;241m==\u001b[39m \u001b[38;5;28mself\u001b[39m:\n",
      "\u001b[1;31mFileNotFoundError\u001b[0m: [WinError 3] The system cannot find the path specified: 'Z:\\\\nahaUsers\\\\casadje\\\\GloFASv4\\\\extraction\\\\dis_US'"
     ]
    }
   ],
   "source": [
    "with open('config_extraction.yml', 'r', encoding='utf8') as ymlfile:\n",
    "    cfg = yaml.load(ymlfile, Loader=yaml.FullLoader)\n",
    "\n",
    "path_res = Path(cfg['path_res'])\n",
    "path_ts = Path(cfg['path_ts'])\n",
    "path_out = Path(cfg['path_out'])\n",
    "if path_out.exists() is False:\n",
    "    path_out.mkdir()\n",
    "var = cfg['var']"
   ]
  },
  {
   "cell_type": "code",
   "execution_count": null,
   "id": "ce757805-e478-4c4a-bd8d-06b7f561d27f",
   "metadata": {},
   "outputs": [],
   "source": [
    "path_datasets = Path('Z:/nahaUsers/casadje/datasets/')"
   ]
  },
  {
   "cell_type": "code",
   "execution_count": null,
   "id": "f560984e-5795-4116-8dfb-a244d931496a",
   "metadata": {},
   "outputs": [],
   "source": []
  },
  {
   "cell_type": "markdown",
   "id": "7020ef94-dd9b-4c95-9066-599d4d46bc55",
   "metadata": {},
   "source": [
    "### Rename variable of the NetCDF files"
   ]
  },
  {
   "cell_type": "code",
   "execution_count": 13,
   "id": "02b0208d-8176-4557-b9c2-3853e97f69b1",
   "metadata": {},
   "outputs": [
    {
     "name": "stdout",
     "output_type": "stream",
     "text": [
      "None\n"
     ]
    }
   ],
   "source": [
    "for file in glob.glob(f'{path_out}/*.nc'):\n",
    "    da = xr.open_dataarray(file)\n",
    "    da.close()\n",
    "    # print(file)\n",
    "    if da.name != 'rsfil':\n",
    "        print(da.name)\n",
    "        da.name = var\n",
    "        da.to_netcdf(file.replace('\\\\extraction\\\\', '\\\\'))"
   ]
  },
  {
   "cell_type": "markdown",
   "id": "f28f6e17-9217-4419-bccd-cbbc7acbbf26",
   "metadata": {},
   "source": [
    "### Combine time series"
   ]
  },
  {
   "cell_type": "code",
   "execution_count": 5,
   "id": "73631819-cf88-4994-af6c-53d1bf459806",
   "metadata": {},
   "outputs": [],
   "source": [
    "# load data\n",
    "da = xr.open_mfdataset(f'{path_out}/*.nc')[var].compute()"
   ]
  },
  {
   "cell_type": "code",
   "execution_count": 6,
   "id": "d7d8ca77-aa1f-45cd-a4a3-b8e4b2f3d044",
   "metadata": {},
   "outputs": [],
   "source": [
    "# create NetCDF for each reservoir\n",
    "path = Path(f'../data/reservoirs/GloFAS/long_run/{var}')\n",
    "for id in da.ResID.data:\n",
    "    da_id = da.sel(ResID=id)\n",
    "    da_id.to_netcdf(path / f'{id:04}.nc')"
   ]
  },
  {
   "cell_type": "markdown",
   "id": "c90d4721-5431-4fd6-a010-cd187c78aed3",
   "metadata": {},
   "source": [
    "## GloFAS vs ResOpsUS"
   ]
  },
  {
   "cell_type": "markdown",
   "id": "3f27c783-a9db-4e9f-b089-3457346ad505",
   "metadata": {},
   "source": [
    "### Reservoirs\n",
    "#### GloFAS"
   ]
  },
  {
   "cell_type": "code",
   "execution_count": null,
   "id": "6a64e697-5c81-4f1e-a198-336a7bfa8833",
   "metadata": {},
   "outputs": [],
   "source": [
    "# load shapefile of GloFAS reservoirs\n",
    "glofas = gpd.read_file('../data/reservoirs/GloFAS/GloFAS_reservoirs.shp') \n",
    "glofas.set_index('ResID', drop=True, inplace=True)\n",
    "glofas = glofas.loc[da.ResID.data]\n",
    "glofas.GRAND_ID = glofas.GRAND_ID.astype(int)\n",
    "\n",
    "glofas.shape"
   ]
  },
  {
   "cell_type": "markdown",
   "id": "f45f7119-d6df-4732-813a-9279ac80d029",
   "metadata": {},
   "source": [
    "#### GRanD"
   ]
  },
  {
   "cell_type": "code",
   "execution_count": null,
   "id": "0c6f75cd-358b-4fd2-ae5d-83aafa409bdb",
   "metadata": {},
   "outputs": [],
   "source": [
    "# load GRanD data set\n",
    "path_GRanD = path_datasets / 'reservoirs/GRanD/v1_3/'\n",
    "grand = gpd.read_file(path_GRanD / 'grand_dams_v1_3.shp')\n",
    "grand.set_index('GRAND_ID', drop=True, inplace=True)\n",
    "grand = grand.replace(-99, np.nan)\n",
    "\n",
    "# keep only reservoirs in ResOpsUS\n",
    "mask = grand.index.intersection(glofas.GRAND_ID)\n",
    "grand = grand.loc[mask]\n",
    "\n",
    "grand.shape"
   ]
  },
  {
   "cell_type": "markdown",
   "id": "d465e2d5-d2cd-49aa-990d-75b0e28d7787",
   "metadata": {},
   "source": [
    "#### ResOpsUS"
   ]
  },
  {
   "cell_type": "code",
   "execution_count": null,
   "id": "1d45dc40-8dd5-4763-af54-dbe6b7a9405a",
   "metadata": {},
   "outputs": [],
   "source": [
    "path_ResOps = Path(path_datasets / 'reservoirs' / 'ResOpsUS')\n",
    "\n",
    "series = {}\n",
    "for ID in tqdm(glofas.GRAND_ID):\n",
    "    # load timeseries\n",
    "    series_id = pd.read_csv(path_ResOps / 'time_series_all' / f'ResOpsUS_{ID}.csv', parse_dates=True, index_col='date')\n",
    "    series_id.columns.name = 'variable'\n",
    "    # remove empty time series\n",
    "    series_id.dropna(axis=1, how='all', inplace=True)\n",
    "    # remove duplicated index\n",
    "    series_id = series_id[~series_id.index.duplicated(keep='first')]\n",
    "    # organize in a DataFrame by variable\n",
    "    series[ID] = series_id"
   ]
  },
  {
   "cell_type": "markdown",
   "id": "98eb001f-c362-43cf-b5fe-42d7e9553cdd",
   "metadata": {},
   "source": [
    "### Performance in reservoir filling"
   ]
  },
  {
   "cell_type": "code",
   "execution_count": null,
   "id": "1648813c-8520-4473-b26e-3dbd03c44ea2",
   "metadata": {},
   "outputs": [],
   "source": [
    "# plots will be saved in this path\n",
    "path_plots = Path('GloFAS')\n",
    "if path_plots.exists() is False:\n",
    "    path_plots.mkdir()"
   ]
  },
  {
   "cell_type": "code",
   "execution_count": null,
   "id": "44793ff7-19e7-4be3-8199-9c28ca0c6741",
   "metadata": {
    "tags": []
   },
   "outputs": [],
   "source": [
    "glofas[f'KGE_{var}'] = np.nan\n",
    "for id in da.ResID.data:\n",
    "\n",
    "    fig, ax = plt.subplots(figsize=(12, 3))\n",
    "    \n",
    "    # GloFAS reservoir limits\n",
    "    for col in ['clim', 'flim', 'nlim']:\n",
    "        lim = glofas.loc[id, col]\n",
    "        ax.axhline(lim, ls=':', c='k', lw=.5)\n",
    "        # ax.text(datetime(2020, 1, 1), lim, col, horizontalalignment='right', verticalalignment='bottom')\n",
    "    \n",
    "    # GloFAS simulation\n",
    "    sim = da.sel(ResID=id).to_pandas()\n",
    "    ax.scatter(sim.index, sim, s=1, c='indianred', label='sim')\n",
    "        \n",
    "    # observation in ResOpsUS\n",
    "    grand_id = glofas.loc[id, 'GRAND_ID']\n",
    "    if 'storage' in series[grand_id].columns:\n",
    "        obs1 = series[grand_id].storage / glofas.loc[id, 'stor']\n",
    "        ax.plot(obs1, c='k', ls='--', lw=1, label='obs (norm. GloFAS)')\n",
    "        obs2 = series[grand_id].storage / grand.loc[grand_id, 'CAP_MCM']\n",
    "        ax.plot(obs2, c='steelblue', lw=1, label='obs (norm. GRanD)')\n",
    "\n",
    "        ax.set(xlim=(datetime(1982, 1, 1), datetime(2020, 1, 1)),\n",
    "               ylim=(-.02, None))\n",
    "        \n",
    "        # performance\n",
    "        try:\n",
    "            glofas.loc[id, f'KGE_{var}'] = max(KGEmod(obs1, sim)[0], KGEmod(obs2, sim)[0])\n",
    "            ax.set_title(\"{0:>3}  {1} | KGE' = {2:.3f}\".format(id, *glofas.loc[id, ['DAM_NAME', f'KGE_{var}']]))\n",
    "        except:\n",
    "            ax.set_title('{0:>3}  {1}'.format(id, glofas.loc[id, 'DAM_NAME']))\n",
    "            pass\n",
    "    else:\n",
    "        ax.set_title('{0:>3}  {1}'.format(id, glofas.loc[id, 'DAM_NAME']))\n",
    "    \n",
    "    fig.legend(frameon=False, bbox_to_anchor=[.875, .2, .2, .4])\n",
    "    \n",
    "    plt.savefig(path_plots / f'{var}_{id:03}.jpg', dpi=300, bbox_inches='tight')"
   ]
  },
  {
   "cell_type": "code",
   "execution_count": null,
   "id": "cab5acc0-f920-4746-856e-f188f02de465",
   "metadata": {},
   "outputs": [],
   "source": [
    "import matplotlib as mpl\n",
    "import matplotlib.pyplot as plt\n",
    "import matplotlib.gridspec as gridspec\n",
    "import cartopy.crs as ccrs\n",
    "import cartopy.feature as cf\n",
    "from typing import List, Tuple\n",
    "        \n",
    "        \n",
    "def create_cmap(cmap: str, bounds: List, name: str = '', specify_color: Tuple = None):\n",
    "    \"\"\"Given the name of a colour map and the boundaries, it creates a discrete colour ramp for future plots\n",
    "    \n",
    "    Inputs:\n",
    "    ------\n",
    "    cmap:          string. Matplotlib's name of a colourmap. E.g. 'coolwarm', 'Blues'...\n",
    "    bounds:        list. Values that define the limits of the discrete colour ramp\n",
    "    name:          string. Optional. Name given to the colour ramp\n",
    "    specify_color: tuple (position, color). It defines a specific color for a specific position in the colour scale. Position must be an integer, and color must be either a colour name or a tuple of 4 floats (red, gren, blue, transparency)\n",
    "    \n",
    "    Outputs:\n",
    "    --------\n",
    "    cmap:   List of colours\n",
    "    norm:   List of boundaries\n",
    "    \"\"\"\n",
    "    \n",
    "    cmap = plt.get_cmap(cmap)\n",
    "    cmaplist = [cmap(i) for i in range(cmap.N)]\n",
    "    if specify_color is not None:\n",
    "        cmaplist[specify_color[0]] = specify_color[1]\n",
    "    cmap = mpl.colors.LinearSegmentedColormap.from_list(name, cmaplist, cmap.N)\n",
    "    norm = mpl.colors.BoundaryNorm(bounds, cmap.N)\n",
    "    \n",
    "    return cmap, norm"
   ]
  },
  {
   "cell_type": "code",
   "execution_count": null,
   "id": "bee77525-1b07-4977-b5df-584f78c5ac4a",
   "metadata": {},
   "outputs": [],
   "source": [
    "# config\n",
    "cmap_kge, norm_kge = create_cmap('RdBu', [-100, -1, -.75, -.5, -.25 ,0, .25, .5, .75, 1])\n",
    "proj = ccrs.PlateCarree()\n",
    "fig, ax = plt.subplots(figsize=(20, 5), subplot_kw=dict(projection=proj))\n",
    "ax.set_extent([-127, -67.5, 23.5, 55], crs=proj)\n",
    "\n",
    "# background map\n",
    "ax.add_feature(cf.NaturalEarthFeature('physical', 'land', '110m', edgecolor='face', facecolor='lightgray'), alpha=.5, zorder=0)\n",
    "# scatter plot\n",
    "sct = plt.scatter(glofas.geometry.x, glofas.geometry.y,\n",
    "                  c=glofas[f'KGE_{var}'], cmap=cmap_kge, norm=norm_kge, edgecolor='w', lw=1, \n",
    "                  s=glofas.stor**.5,alpha=.9)\n",
    "# setup: color bar, title...\n",
    "cbar = plt.colorbar(sct, shrink=.666)\n",
    "cbar.set_label(\"KGE'\", rotation=0)\n",
    "ax.text(.5, 1.05, 'GloFASv4 performance in simulating storage', horizontalalignment='center', verticalalignment='bottom', transform=ax.transAxes, fontsize=12)\n",
    "ax.axis('off');\n",
    "\n",
    "plt.savefig(path_plots / f'{var}_map_KGE.jpg', dpi=300, bbox_inches='tight')"
   ]
  },
  {
   "cell_type": "code",
   "execution_count": null,
   "id": "f8db4192-a9bc-4f96-8489-2ad27a05f57b",
   "metadata": {},
   "outputs": [],
   "source": [
    "ecdf = ECDF(glofas[f'KGE_{var}'], ylabel='KGE (-)', title='reservoir storage')"
   ]
  },
  {
   "cell_type": "code",
   "execution_count": null,
   "id": "ae82c7ff-9939-4542-a803-12cb41bbfc95",
   "metadata": {},
   "outputs": [],
   "source": [
    "fig, ax = plt.subplots(figsize=(4, 4))\n",
    "ax.scatter(glofas.stor, glofas[f'KGE_{var}'], s=5, alpha=.5)\n",
    "ax.set(xlabel='storage (hm3)',\n",
    "       ylabel='KGE (-)');"
   ]
  },
  {
   "cell_type": "code",
   "execution_count": null,
   "id": "8dac253c-378b-4e43-a6b0-f06d8356e85f",
   "metadata": {},
   "outputs": [],
   "source": [
    "(glofas[f'KGE_{var}'] > .0).sum() / glofas.shape[0]"
   ]
  },
  {
   "cell_type": "markdown",
   "id": "0ee73c83-39f1-4a0f-bac9-bafa9d892311",
   "metadata": {},
   "source": [
    "### Time series decomposition"
   ]
  },
  {
   "cell_type": "code",
   "execution_count": null,
   "id": "ec004bbe-7617-4bf2-9263-71cd944d0dc7",
   "metadata": {},
   "outputs": [],
   "source": [
    "rsfil = da.to_pandas()\n",
    "rsfil = rsfil.loc['1982-01-01':,:]"
   ]
  },
  {
   "cell_type": "code",
   "execution_count": null,
   "id": "90b735ea-f5d8-45a4-9e5a-8b2730cc74b3",
   "metadata": {},
   "outputs": [],
   "source": [
    "rsfil"
   ]
  },
  {
   "cell_type": "code",
   "execution_count": null,
   "id": "56631254-af07-41be-8d92-7f0a91d814a0",
   "metadata": {},
   "outputs": [],
   "source": [
    "rsfil_m = rsfil.resample('M').mean()\n",
    "\n",
    "rsfil_m.head()"
   ]
  },
  {
   "cell_type": "code",
   "execution_count": null,
   "id": "a462cc9e-929d-4422-aff0-ec025c9c4d1f",
   "metadata": {},
   "outputs": [],
   "source": [
    "# rsfil_y = rsfil.groupby(rsfil.index.year).mean()\n",
    "rsfil_y = rsfil.resample('Y').mean()\n",
    "\n",
    "rsfil_y.head()"
   ]
  },
  {
   "cell_type": "code",
   "execution_count": null,
   "id": "bb24d069-bbb1-4f12-b423-2107695ea4a1",
   "metadata": {},
   "outputs": [],
   "source": [
    "rsfil_mm = rsfil_m.groupby(rsfil_m.index.month).mean()"
   ]
  },
  {
   "cell_type": "code",
   "execution_count": null,
   "id": "f302a0bf-60d1-45ef-b061-8cf0961c537e",
   "metadata": {
    "tags": []
   },
   "outputs": [],
   "source": [
    "id = glofas[f'KGE_{var}'].idxmax()\n",
    "id"
   ]
  },
  {
   "cell_type": "code",
   "execution_count": null,
   "id": "de26fcc2-2fff-4c44-9ba2-e22d8493f82e",
   "metadata": {
    "tags": []
   },
   "outputs": [],
   "source": [
    "rsfil_subtracted = pd.merge(rsfil, rsfil_y, left_index=True, right_index=True, suffixes=('', '_mean'))\n",
    "\n",
    "# Subtract the annual mean from the daily time series\n",
    "rsfil_subtracted['value'] = rsfil_subtracted['value'] - rsfil_subtracted['value_mean']"
   ]
  },
  {
   "cell_type": "code",
   "execution_count": null,
   "id": "c65e7dab-db3d-45df-817d-771ed462aefb",
   "metadata": {},
   "outputs": [],
   "source": [
    "rsfil_y = rsfil_y.reindex(rsfil.index, fill_value=)"
   ]
  },
  {
   "cell_type": "code",
   "execution_count": null,
   "id": "5a4b9f76-132b-45ce-90b2-4892bde74bba",
   "metadata": {},
   "outputs": [],
   "source": [
    "rsfil_y"
   ]
  },
  {
   "cell_type": "code",
   "execution_count": null,
   "id": "75228ea7-283e-46db-a184-c9212c69963d",
   "metadata": {},
   "outputs": [],
   "source": [
    "rsfil.groupby(rsfil.index.year).transform('mean')"
   ]
  },
  {
   "cell_type": "code",
   "execution_count": null,
   "id": "f8f82545-145f-458c-a6e0-87c570e219a5",
   "metadata": {},
   "outputs": [],
   "source": [
    "ncols = 3\n",
    "fig, ax = plt.subplots(figsize=(3 * ncols, 6), ncols=ncols, sharex=True)\n",
    "\n",
    "ax[0].plot(rsfil_y[id], rsfil_y.index)\n",
    "ax[0].set(xlim=(-.02, 1.02),\n",
    "          ylim=(rsfil_y.index.max(), rsfil_y.index.min()));\n",
    "\n",
    "ax[1].plot(rsfil_m[id], rsfil_m.index)\n",
    "ax[1].set(xlim=(-.02, 1.02),\n",
    "          ylim=(rsfil_m.index.max(), rsfil_m.index.min()));\n",
    "\n",
    "ax[2].plot(rsfil_mm[id], rsfil_mm.index)\n",
    "# ax[2].set(xlim=(-.02, 1.02),\n",
    "#           ylim=(rsfil_m.index.max(), rsfil_m.index.min()));"
   ]
  },
  {
   "cell_type": "code",
   "execution_count": null,
   "id": "248df7eb-6a0c-43b3-82bb-d6181c165bda",
   "metadata": {},
   "outputs": [],
   "source": [
    "rsfil_m.head(2)"
   ]
  },
  {
   "cell_type": "code",
   "execution_count": null,
   "id": "67bf1168-b041-49e0-b28a-cdb9ce963840",
   "metadata": {},
   "outputs": [],
   "source": [
    "rsfil_y.head(2)"
   ]
  },
  {
   "cell_type": "code",
   "execution_count": null,
   "id": "33155a9e-a71c-4cfb-9f06-52006c1c2c0c",
   "metadata": {},
   "outputs": [],
   "source": [
    "rsfil_y.reindex(rsfil_m.index.year, method='ffill')"
   ]
  },
  {
   "cell_type": "code",
   "execution_count": null,
   "id": "4a9fad7a-f66e-4fcd-abd5-e6421353484d",
   "metadata": {},
   "outputs": [],
   "source": [
    "rsfil_y.index.to_period('M')"
   ]
  },
  {
   "cell_type": "code",
   "execution_count": null,
   "id": "7d355f52-9327-438c-af42-0149f224e51d",
   "metadata": {},
   "outputs": [],
   "source": [
    "rsfil_y.index = rsfil_y.index.to_period('M')\n",
    "rsfil_m.subtract(rsfil_y.loc[rsfil_m.index.year])"
   ]
  },
  {
   "cell_type": "code",
   "execution_count": null,
   "id": "ec666d85-ba6c-4e29-84b8-9a55f2a8cdfb",
   "metadata": {},
   "outputs": [],
   "source": []
  }
 ],
 "metadata": {
  "kernelspec": {
   "display_name": "Python 3 (ipykernel)",
   "language": "python",
   "name": "python3"
  },
  "language_info": {
   "codemirror_mode": {
    "name": "ipython",
    "version": 3
   },
   "file_extension": ".py",
   "mimetype": "text/x-python",
   "name": "python",
   "nbconvert_exporter": "python",
   "pygments_lexer": "ipython3",
   "version": "3.9.13"
  }
 },
 "nbformat": 4,
 "nbformat_minor": 5
}
