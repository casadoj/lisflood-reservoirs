{
 "cells": [
  {
   "cell_type": "markdown",
   "id": "455af9d0-e8c9-4935-a28a-53e7320ecba8",
   "metadata": {},
   "source": [
    "# EMO1 - areal time series\n",
    "***\n",
    "\n",
    "**_Autor:_** Chus Casado Rodríguez<br>\n",
    "**_Fecha:_** 02-04-2024<br>\n",
    "\n",
    "**Introduction:**<br>\n",
    "This notebook computes the catchment averages of the meterological timeseries in EMO1. It can be deleted as it is much more efficient to carry out this task by using the new tool in `lisflood-utilities` called `catchstats`."
   ]
  },
  {
   "cell_type": "code",
   "execution_count": 1,
   "id": "f56aae7f-34f2-4639-b294-e79fcbe20668",
   "metadata": {},
   "outputs": [],
   "source": [
    "import os\n",
    "os.environ['USE_PYGEOS'] = '0'\n",
    "from pathlib import Path\n",
    "import numpy as np\n",
    "import pandas as pd\n",
    "import xarray as xr\n",
    "# import rioxarray\n",
    "#from rasterio.features import shapes\n",
    "import geopandas as gpd\n",
    "from shapely.geometry import mapping\n",
    "from typing import Union, List, Dict, Optional, Tuple\n",
    "from tqdm.notebook import tqdm\n",
    "import matplotlib.pyplot as plt\n",
    "import cartopy.crs as ccrs\n",
    "import cartopy.feature as cf\n",
    "\n",
    "from funciones import mask_statistics, plot_attributes"
   ]
  },
  {
   "cell_type": "markdown",
   "id": "a81d0561-f0ea-4a2e-b8aa-b4181a0ea831",
   "metadata": {},
   "source": [
    "## Configuration"
   ]
  },
  {
   "cell_type": "code",
   "execution_count": 2,
   "id": "56421aea-cd93-417c-a19c-b7a0154f0316",
   "metadata": {},
   "outputs": [],
   "source": [
    "# path ResOpsES data set\n",
    "path_datasets = Path('Z:/nahaUsers/casadje/datasets')\n",
    "path_ResOpsES = path_datasets / 'reservoirs' / 'ResOpsES'"
   ]
  },
  {
   "cell_type": "code",
   "execution_count": 14,
   "id": "a6589849-7aab-4e06-9762-f1ffb5944139",
   "metadata": {},
   "outputs": [],
   "source": [
    "# path to EFASv5\n",
    "path_EFAS = Path('E:/casadje/Documents/EFASv5/iberia')"
   ]
  },
  {
   "cell_type": "code",
   "execution_count": 3,
   "id": "9a59bad1-8224-4d34-834d-86eb2eac2555",
   "metadata": {},
   "outputs": [],
   "source": [
    "# # coordinate reference system\n",
    "# crs = 4326 # WGS84"
   ]
  },
  {
   "cell_type": "markdown",
   "id": "dc3affc9-7c12-4217-8da4-8a7b22fc6c1e",
   "metadata": {},
   "source": [
    "## Reservoirs"
   ]
  },
  {
   "cell_type": "code",
   "execution_count": 4,
   "id": "f691ad39-b750-460e-af7d-bd3550879b03",
   "metadata": {},
   "outputs": [
    {
     "data": {
      "text/plain": [
       "(305, 16)"
      ]
     },
     "execution_count": 4,
     "metadata": {},
     "output_type": "execute_result"
    }
   ],
   "source": [
    "# load reservoir points\n",
    "reservoirs = gpd.read_file(path_ResOpsES / 'GIS' / 'reservoirs_ResOpsES_new.shp')\n",
    "reservoirs.set_index('SNCZI', inplace=True)\n",
    "reservoirs.index = reservoirs.index.astype(int)\n",
    "\n",
    "reservoirs.shape"
   ]
  },
  {
   "cell_type": "markdown",
   "id": "fa1ecdab-005a-459a-b5f7-73caf0b1b327",
   "metadata": {},
   "source": [
    "## Catchments"
   ]
  },
  {
   "cell_type": "code",
   "execution_count": 7,
   "id": "758ba6bb-ee5d-4fb2-ae09-ff1dee7b4054",
   "metadata": {},
   "outputs": [
    {
     "data": {
      "application/vnd.jupyter.widget-view+json": {
       "model_id": "f4dfd8ee77aa448eb223b7e6ff9628b9",
       "version_major": 2,
       "version_minor": 0
      },
      "text/plain": [
       "  0%|          | 0/307 [00:00<?, ?it/s]"
      ]
     },
     "metadata": {},
     "output_type": "display_data"
    },
    {
     "name": "stdout",
     "output_type": "stream",
     "text": [
      "Z:\\nahaUsers\\casadje\\datasets\\reservoirs\\ResOpsES\\ancillary\\cutmaps\\input\n",
      "Z:\\nahaUsers\\casadje\\datasets\\reservoirs\\ResOpsES\\ancillary\\cutmaps\\masks\n"
     ]
    }
   ],
   "source": [
    "# load catchment maps derived using `cutmaps`\n",
    "\n",
    "path = path_ResOpsES / 'ancillary' / 'cutmaps'\n",
    "mask_map = 'upArea_01min.nc'\n",
    "\n",
    "masks = {}\n",
    "directories = [dir for dir in path.iterdir() if dir.is_dir()]\n",
    "for directory in tqdm(directories):\n",
    "    try:\n",
    "        # reservoir ID\n",
    "        ID = int(directory.stem)\n",
    "        \n",
    "        # load upstream area map\n",
    "        mask = xr.open_dataset(directory / mask_map)['Band1']\n",
    "        mask.name = ID\n",
    "        \n",
    "        # create and save a mask out of the previous map\n",
    "        mask = xr.where(mask.notnull(), 1, mask)\n",
    "        masks[ID] = mask\n",
    "    except:\n",
    "        print(directory)\n",
    "        continue"
   ]
  },
  {
   "cell_type": "markdown",
   "id": "11282855-8225-4992-bce8-73a0f45ead08",
   "metadata": {},
   "source": [
    "## Static maps"
   ]
  },
  {
   "cell_type": "code",
   "execution_count": 15,
   "id": "0694c01f-5a6a-4d1b-bd72-6cc2984a419a",
   "metadata": {},
   "outputs": [],
   "source": [
    "path_maps = path_EFAS / 'maps'\n",
    "\n",
    "# cargar mapa de áreas de cada celda, que será utilizado en ciertos cálculos\n",
    "pixarea = xr.open_mfdataset(f'{path_maps}/pixarea*.nc')['Band1'].compute()\n",
    "\n",
    "# cargar mapa de áreas de cada celda, que será utilizado en ciertos cálculos\n",
    "upArea = xr.open_mfdataset(f'{path_maps}/upArea*.nc')['Band1'].compute()"
   ]
  },
  {
   "cell_type": "markdown",
   "id": "ea4eda21-9b37-4a60-9909-22604bf822b4",
   "metadata": {},
   "source": [
    "## Meteo\n",
    "\n",
    "I've downloaded the daily data from EMO-1. However, EFASv5 uses the 6-hourly data."
   ]
  },
  {
   "cell_type": "code",
   "execution_count": 20,
   "id": "54eb5423-3963-4033-a12e-5b62d7c53922",
   "metadata": {},
   "outputs": [],
   "source": [
    "path_meteo = path_EFAS / 'meteo'\n",
    "\n",
    "# load lazily the meteorological data\n",
    "variables = [x.stem for x in path_meteo.iterdir() if x.is_dir()]\n",
    "meteo = {var: xr.open_mfdataset(f'{path_meteo}/{var}/EMO*{var}*.nc', chunks='auto', parallel=True)[var] for var in variables}\n",
    "meteo = xr.Dataset(meteo)\n",
    "meteo.close()\n",
    "\n",
    "# recortar al periodo de estudio\n",
    "#meteo = meteo.sel(time=slice(start, end))\n",
    "# definir dimensiones con las coordenadas\n",
    "#meteo = meteo.rio.set_spatial_dims(x_dim='lon', y_dim='lat')\n",
    "# definir sistema de coordenadas\n",
    "#meteo = meteo.rio.write_crs(crs)\n",
    "\n",
    "# convertir en volumen\n",
    "# if var in ['pr', 'e0']:\n",
    "#     da = da * area * 1e-3\n",
    "\n",
    "# calcular medias areales\n",
    "meteo_areal = mask_statistics(meteo, masks, func='mean', weight=pixarea)\n",
    "meteo_areal = meteo_areal.rename_vars({'pr_mean': 'pr_emo1', 'ta_mean': 'ta_emo1', 'e0_mean': 'e0_emo1'})\n",
    "del meteo\n",
    "\n",
    "# export areal time series\n",
    "path_out = path_ResOpsES / 'ancillary' / 'catchstats' / 'EMO1'\n",
    "path_out.mkdir(parents=True, exist_ok=True)\n",
    "for ID in tqdm(meteo_areal.id.data, desc='catchments'):\n",
    "    meteo_areal.sel(id=ID).to_netcdf(path_out / f'{ID:04}.nc')"
   ]
  }
 ],
 "metadata": {
  "kernelspec": {
   "display_name": "Python 3 (ipykernel)",
   "language": "python",
   "name": "python3"
  },
  "language_info": {
   "codemirror_mode": {
    "name": "ipython",
    "version": 3
   },
   "file_extension": ".py",
   "mimetype": "text/x-python",
   "name": "python",
   "nbconvert_exporter": "python",
   "pygments_lexer": "ipython3",
   "version": "3.9.13"
  }
 },
 "nbformat": 4,
 "nbformat_minor": 5
}
