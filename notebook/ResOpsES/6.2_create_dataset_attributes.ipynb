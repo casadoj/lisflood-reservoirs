{
 "cells": [
  {
   "cell_type": "markdown",
   "id": "455af9d0-e8c9-4935-a28a-53e7320ecba8",
   "metadata": {},
   "source": [
    "# Create dataset - attributes\n",
    "***\n",
    "\n",
    "**_Autor:_** Chus Casado Rodríguez<br>\n",
    "**_Fecha:_** 05-06-2024<br>\n",
    "\n",
    "**Introduction:**<br>\n",
    "This notebook creates the table of static attributes to be used in ResOpsES.\n",
    "\n",
    "**To do:**<br>\n",
    "* [x] Add reservoir use."
   ]
  },
  {
   "cell_type": "code",
   "execution_count": 1,
   "id": "f56aae7f-34f2-4639-b294-e79fcbe20668",
   "metadata": {},
   "outputs": [],
   "source": [
    "import os\n",
    "os.environ['USE_PYGEOS'] = '0'\n",
    "from pathlib import Path\n",
    "import numpy as np\n",
    "import pandas as pd\n",
    "import xarray as xr\n",
    "# import rioxarray\n",
    "import geopandas as gpd\n",
    "from shapely.geometry import mapping\n",
    "from rasterio.features import shapes\n",
    "from typing import Union, List, Dict, Optional, Tuple\n",
    "import matplotlib.pyplot as plt\n",
    "import seaborn as sns\n",
    "from tqdm.notebook import tqdm\n",
    "import cartopy.crs as ccrs\n",
    "import cartopy.feature as cfeature\n",
    "from datetime import datetime\n",
    "\n",
    "from utils import plot_attributes"
   ]
  },
  {
   "cell_type": "code",
   "execution_count": 2,
   "id": "45dd8f5d-d94f-4a33-9b13-67bfdf88c9b3",
   "metadata": {},
   "outputs": [],
   "source": [
    "import sys\n",
    "sys.path.append('../../../lisflood-utilities/src')\n",
    "from lisfloodutilities.catchstats import catchment_statistics"
   ]
  },
  {
   "cell_type": "markdown",
   "id": "29654c04-471a-4957-98ad-206bc79abef1",
   "metadata": {},
   "source": [
    "## Configuration"
   ]
  },
  {
   "cell_type": "code",
   "execution_count": 3,
   "id": "019411e1-1ef9-4b6c-a0eb-fbf04b77184f",
   "metadata": {},
   "outputs": [],
   "source": [
    "PATH_DATASETS = Path('Z:/nahaUsers/casadje/datasets')\n",
    "\n",
    "# path to the dataset ResOpsES\n",
    "PATH_RESOPSES = PATH_DATASETS / 'reservoirs' / 'ResOpsES'\n",
    "\n",
    "# path to EFASv5\n",
    "PATH_EFAS = Path('E:/casadje/Documents/EFASv5/iberia')\n",
    "\n",
    "# paths to observed time series\n",
    "PATH_HDMS = PATH_DATASETS / 'hDMS' / 'reservoirs'\n",
    "PATH_HIDROSUR = PATH_DATASETS / 'Hidrosur' / 'processed' / 'reservoirs'\n",
    "PATH_ACA = PATH_DATASETS / 'ACA' / 'processed' / 'reservoirs'\n",
    "\n",
    "# minimum length of observed time series (years)\n",
    "MIN_YEARS = 8"
   ]
  },
  {
   "cell_type": "code",
   "execution_count": 4,
   "id": "b95ae740-1be6-4fd5-bb0a-f43069613aee",
   "metadata": {},
   "outputs": [],
   "source": [
    "VERSION = '2.0'"
   ]
  },
  {
   "cell_type": "markdown",
   "id": "dc3affc9-7c12-4217-8da4-8a7b22fc6c1e",
   "metadata": {},
   "source": [
    "## Base information\n",
    "\n",
    "### Reservoirs"
   ]
  },
  {
   "cell_type": "code",
   "execution_count": 26,
   "id": "4ffaab31-e633-4d3a-83c1-18f643c67613",
   "metadata": {
    "tags": []
   },
   "outputs": [
    {
     "name": "stdout",
     "output_type": "stream",
     "text": [
      "261 reservoirs with time series\n",
      "261 reservoirs and 12 attributes\n"
     ]
    }
   ],
   "source": [
    "IDs = [int(file.stem) for file in (PATH_RESOPSES / f'v{VERSION}' / 'time_series' / 'netcdf').glob('*.nc')]\n",
    "\n",
    "print(f'{len(IDs)} reservoirs with time series')\n",
    "\n",
    "# load reservoir points\n",
    "reservoirs = gpd.read_file(PATH_RESOPSES / 'GIS' / 'reservoirs_ResOpsES.shp')\n",
    "reservoirs[['LAT', 'LON', 'CAP_MCM', 'CATCH_SKM']] = reservoirs[['LAT', 'LON', 'CAP_MCM', 'CATCH_SKM']].astype(float)\n",
    "reservoirs['SNCZI'] = reservoirs['SNCZI'].astype(int)\n",
    "reservoirs.set_index('SNCZI', inplace=True)\n",
    "reservoirs = reservoirs.loc[IDs]\n",
    "\n",
    "# identify headwater reservoirs\n",
    "childs = [int(ID) for ID in reservoirs.CHILD.unique() if not np.isnan(ID)]\n",
    "reservoirs['HEADWATER'] = 0\n",
    "reservoirs.loc[reservoirs.index.difference(childs), 'HEADWATER'] = 1\n",
    "\n",
    "print('{0} reservoirs and {1} attributes'.format(*reservoirs.shape))"
   ]
  },
  {
   "cell_type": "markdown",
   "id": "fa1ecdab-005a-459a-b5f7-73caf0b1b327",
   "metadata": {},
   "source": [
    "###  Catchments"
   ]
  },
  {
   "cell_type": "code",
   "execution_count": 27,
   "id": "f2c946c5-ef09-4ae5-a1db-e16586b381b7",
   "metadata": {},
   "outputs": [
    {
     "data": {
      "application/vnd.jupyter.widget-view+json": {
       "model_id": "6ef7abaa8ef647609169f603ef85892b",
       "version_major": 2,
       "version_minor": 0
      },
      "text/plain": [
       "loading masks:   0%|          | 0/307 [00:00<?, ?it/s]"
      ]
     },
     "metadata": {},
     "output_type": "display_data"
    },
    {
     "name": "stdout",
     "output_type": "stream",
     "text": [
      "Reservoir 165 not selected\n",
      "Reservoir 234 not selected\n",
      "Reservoir 254 not selected\n",
      "Reservoir 257 not selected\n",
      "Reservoir 328 not selected\n",
      "Reservoir 342 not selected\n",
      "Reservoir 351 not selected\n",
      "Reservoir 369 not selected\n",
      "Reservoir 556 not selected\n",
      "Reservoir 616 not selected\n",
      "Reservoir 623 not selected\n",
      "Reservoir 659 not selected\n",
      "Reservoir 725 not selected\n",
      "Reservoir 793 not selected\n",
      "Reservoir 856 not selected\n",
      "Reservoir 866 not selected\n",
      "Reservoir 918 not selected\n",
      "Reservoir 971 not selected\n",
      "Reservoir 1062 not selected\n",
      "Reservoir 1066 not selected\n",
      "Reservoir 1075 not selected\n",
      "Reservoir 1078 not selected\n",
      "Reservoir 1085 not selected\n",
      "Reservoir 1146 not selected\n",
      "Reservoir 1157 not selected\n",
      "Reservoir 1255 not selected\n",
      "Reservoir 1272 not selected\n",
      "Reservoir 1450 not selected\n",
      "Reservoir 1465 not selected\n",
      "Reservoir 1764 not selected\n",
      "Reservoir 1800 not selected\n",
      "Reservoir 1915 not selected\n",
      "Reservoir 1961 not selected\n",
      "Reservoir 1964 not selected\n",
      "Reservoir 2044 not selected\n",
      "Reservoir 2050 not selected\n",
      "Reservoir 2083 not selected\n",
      "Reservoir 2109 not selected\n",
      "Reservoir 2147 not selected\n",
      "Reservoir 2180 not selected\n",
      "Reservoir 2469 not selected\n",
      "Reservoir 2511 not selected\n",
      "Reservoir 2539 not selected\n",
      "Reservoir 3499 not selected\n",
      "Z:\\nahaUsers\\casadje\\datasets\\reservoirs\\ResOpsES\\ancillary\\cutmaps\\input\n",
      "Z:\\nahaUsers\\casadje\\datasets\\reservoirs\\ResOpsES\\ancillary\\cutmaps\\masks\n"
     ]
    }
   ],
   "source": [
    "path = PATH_RESOPSES / 'ancillary' / 'cutmaps'\n",
    "mask_map = 'upArea_01min.nc'\n",
    "\n",
    "masks = {}\n",
    "CATCH_SKM = {}\n",
    "directories = [item for item in path.iterdir() if item.is_dir()]\n",
    "for directory in tqdm(directories, desc='loading masks'):\n",
    "    try:\n",
    "        # reservoir ID\n",
    "        ID = int(directory.stem)\n",
    "        if ID not in reservoirs.index:\n",
    "            print(f'Reservoir {ID} not selected')\n",
    "            continue\n",
    "        \n",
    "        # load upstream area map\n",
    "        mask = xr.open_dataset(directory / mask_map)['Band1']\n",
    "        mask.name = str(ID)\n",
    "        CATCH_SKM[ID] = mask.max().data\n",
    "\n",
    "        # create and save a mask out of the previous map\n",
    "        mask = xr.where(mask.notnull(), 1, mask)\n",
    "        masks[ID] = mask\n",
    "    except:\n",
    "        print(directory)\n",
    "        continue\n",
    "        \n",
    "# series of catchment area in km²\n",
    "CATCH_SKM = pd.Series(CATCH_SKM, dtype=float, name='CATCH_SKM')\n",
    "CATCH_SKM /= 1e6"
   ]
  },
  {
   "cell_type": "markdown",
   "id": "fd98eb0a-d958-4391-ba39-8f06f666d02e",
   "metadata": {},
   "source": [
    "## Combine attributes from CEDEX, ICOLD and GRand"
   ]
  },
  {
   "cell_type": "code",
   "execution_count": 28,
   "id": "a0802335-494f-4c29-af68-6fa7cb31edcb",
   "metadata": {},
   "outputs": [],
   "source": [
    "# basic geographic and dimension attributes\n",
    "key_attributes = ['RES_NAME', 'LON', 'LAT', 'CAP_MCM', 'AREA_SKM', 'DAM_HGT_M', 'ELEV_MASL', 'CATCH_SKM']"
   ]
  },
  {
   "cell_type": "code",
   "execution_count": 29,
   "id": "27a26a60-cc90-49f4-abf7-f241241aeb62",
   "metadata": {},
   "outputs": [
    {
     "name": "stdout",
     "output_type": "stream",
     "text": [
      "['fish', 'flood', 'hydropower', 'irrigation', 'navigation', 'other', 'recreation', 'supply']\n"
     ]
    }
   ],
   "source": [
    "# define reservoir uses to be included\n",
    "# I've decided to use the intersection of ICOLD and GRanD uses to avoid gaps\n",
    "uses_cedex = ['other', 'supply', 'fish', 'environment', 'flood', 'livestock', 'hydropower',\n",
    "              'industry', 'mining', 'recreation', 'cooling', 'regulation', 'irrigation', 'diversion']\n",
    "uses_icold = ['flood', 'irrigation', 'hydropower', 'fish', 'navigation',\n",
    "              'recreation', 'supply', 'other', 'tailings']\n",
    "uses_grand = ['irrigation', 'hydropower', 'supply', 'flood', 'recreation',\n",
    "              'navigation', 'fish', 'pollution', 'livestock', 'other']\n",
    "use_attributes = list(set(uses_icold).intersection(uses_grand))\n",
    "use_attributes.sort()\n",
    "# uses_dct = {use: index for index, use in enumerate(uses)}\n",
    "# uses += ['MAIN_USE', 'SINGLE_USE']\n",
    "# uses = [x.upper() for x in uses]\n",
    "\n",
    "print(use_attributes)"
   ]
  },
  {
   "cell_type": "markdown",
   "id": "66879583-3da2-4367-b7bb-8cb1d4c9f19b",
   "metadata": {},
   "source": [
    "### Load data"
   ]
  },
  {
   "cell_type": "code",
   "execution_count": 33,
   "id": "cb489428-2a93-4e0b-94bb-3bc4b988e7bb",
   "metadata": {},
   "outputs": [
    {
     "name": "stdout",
     "output_type": "stream",
     "text": [
      "CEDEX: 257 reservoirs 15 attributes\n",
      "ICOLD: 250 reservoirs 16 attributes\n",
      "GRanD: 206 reservoirs 16 attributes\n"
     ]
    }
   ],
   "source": [
    "# load attribute sources\n",
    "sources = ['CEDEX', 'ICOLD', 'GRanD']\n",
    "attributes = {source: pd.read_csv(PATH_RESOPSES / f'v{VERSION}' / 'attributes' / f'attributes_{source}.csv', index_col='reservoir_id') for source in sources}\n",
    "attributes = {source: df.loc[df.index.intersection(reservoirs.index)] for source, df in attributes.items()}\n",
    "attributes = {source: df[df.columns.intersection(key_attributes + use_attributes)] for source, df in attributes.items()}\n",
    "for source, df in attributes.items():\n",
    "    print(f'{source}: {df.shape[0]} reservoirs {df.shape[1]} attributes')"
   ]
  },
  {
   "cell_type": "markdown",
   "id": "c916dcc9-a4e1-44d2-8e41-517b3b732e30",
   "metadata": {},
   "source": [
    "### Key attributes\n",
    "\n",
    "#### Combine data sources"
   ]
  },
  {
   "cell_type": "code",
   "execution_count": 34,
   "id": "e5f18675-60a8-423e-9c5e-9166a71d10b3",
   "metadata": {},
   "outputs": [
    {
     "name": "stdout",
     "output_type": "stream",
     "text": [
      "CEDEX\tRES_NAME \t257 reservoirs added\n",
      "CEDEX\tLON      \t252 reservoirs added\n",
      "CEDEX\tLAT      \t252 reservoirs added\n",
      "CEDEX\tCATCH_SKM\t229 reservoirs added\n",
      "CEDEX\tELEV_MASL\t252 reservoirs added\n",
      "CEDEX\tDAM_HGT_M\t252 reservoirs added\n",
      "CEDEX\tCAP_MCM  \t257 reservoirs added\n",
      "CEDEX\tAREA_SKM \t256 reservoirs added\n",
      "ICOLD\tRES_NAME \t4 reservoirs added\n",
      "ICOLD\tELEV_MASL\t8 reservoirs added\n",
      "ICOLD\tCATCH_SKM\t29 reservoirs added\n",
      "ICOLD\tDAM_HGT_M\t8 reservoirs added\n",
      "ICOLD\tLON      \t8 reservoirs added\n",
      "ICOLD\tLAT      \t8 reservoirs added\n",
      "ICOLD\tAREA_SKM \t5 reservoirs added\n",
      "ICOLD\tCAP_MCM  \t4 reservoirs added\n",
      "\n",
      "Reservoir attributes missing:\n",
      "RES_NAME     0\n",
      "LON          1\n",
      "LAT          1\n",
      "CAP_MCM      0\n",
      "AREA_SKM     0\n",
      "DAM_HGT_M    1\n",
      "ELEV_MASL    1\n",
      "CATCH_SKM    3\n",
      "dtype: int64\n",
      "\n",
      "Reservoir attributes missing:\n",
      "RES_NAME     0\n",
      "LON          1\n",
      "LAT          1\n",
      "CAP_MCM      0\n",
      "AREA_SKM     0\n",
      "DAM_HGT_M    1\n",
      "ELEV_MASL    1\n",
      "CATCH_SKM    0\n",
      "dtype: int64\n"
     ]
    }
   ],
   "source": [
    "attrs_key = pd.DataFrame(index=reservoirs.index, columns=key_attributes)\n",
    "attrs_key.index.name = 'reservoir_id'\n",
    "for source, df in attributes.items():\n",
    "    for col in df.columns.intersection(key_attributes):\n",
    "        # select reservoirs missing the attribute in the combined DataFrame\n",
    "        idx = df.index.intersection(attrs_key.loc[attrs_key[col].isnull()].index)\n",
    "        df_sel = df.loc[idx, col]\n",
    "        # remove reservoirs in the source DataFrame missing the attribute\n",
    "        df_sel = df_sel.loc[~df_sel.isnull()]\n",
    "        # assign values\n",
    "        if df_sel.shape[0] > 0:\n",
    "            print(f'{source}\\t{col:9}\\t{df_sel.shape[0]} reservoirs added')\n",
    "            attrs_key.loc[df_sel.index, col] = df_sel\n",
    "\n",
    "print('\\nReservoir attributes missing:')\n",
    "mask = attrs_key.isnull()\n",
    "print(mask.sum())\n",
    "\n",
    "# Add catchment area from EFAS\n",
    "attrs_key.dropna(axis=0, how='all', inplace=True)\n",
    "idx = CATCH_SKM.index.intersection(attrs_key.index)\n",
    "attrs_key.loc[idx, 'CATCH_SKM'] = CATCH_SKM.loc[idx]\n",
    "\n",
    "print('\\nReservoir attributes missing:')\n",
    "mask = attrs_key.isnull()\n",
    "print(mask.sum())"
   ]
  },
  {
   "cell_type": "code",
   "execution_count": 35,
   "id": "9cf9377d-8707-480d-9fa0-b06054a54ad6",
   "metadata": {},
   "outputs": [],
   "source": [
    "cols = [col for col in key_attributes if col != 'RES_NAME']\n",
    "attrs_key[cols] = attrs_key[cols].astype(float)"
   ]
  },
  {
   "cell_type": "markdown",
   "id": "5f6b93fb-8929-49f5-87f7-0218c11e6182",
   "metadata": {},
   "source": [
    "**Disruptivity indices**"
   ]
  },
  {
   "cell_type": "code",
   "execution_count": 36,
   "id": "c0d371a2-5cca-4e1e-9647-aaf9932700f0",
   "metadata": {},
   "outputs": [
    {
     "name": "stdout",
     "output_type": "stream",
     "text": [
      "According to Shrestha et al. (2024), the following reservoirs could be skipped from the hydrological model due to negliglible disruptivity\n",
      "\t49 reservoirs have a degree of regulation lower than 0.08\n",
      "\t88 reservoirs have a degree of disruptivity lower than 0.06 m\n"
     ]
    },
    {
     "data": {
      "image/png": "[encoded data removed]",
      "text/plain": [
       "<Figure size 800x400 with 2 Axes>"
      ]
     },
     "metadata": {},
     "output_type": "display_data"
    }
   ],
   "source": [
    "# degree of disruptivity (m)\n",
    "attrs_key['DOD_M'] = attrs_key.CAP_MCM / attrs_key.CATCH_SKM \n",
    "\n",
    "# import average annual inflow (m3/s)\n",
    "# avg_inflow = pd.read_csv(PATH_RESOPSES / f'v{VERSION}' / 'attributes' / 'attributes_EFAS_hydrometeorology.csv', usecols=['SNCZI', 'inflow_efas5_bc_yrmean'], index_col='SNCZI').squeeze()\n",
    "avg_inflow = pd.read_csv(PATH_RESOPSES / f'v{VERSION}' / 'attributes' / 'attributes_EFAS_hydrometeorology.csv',\n",
    "                         usecols=['reservoir_id', 'inflow_efas5_bc_yrmean'],\n",
    "                         index_col='reservoir_id'\n",
    "                        ).squeeze()\n",
    "avg_inflow = avg_inflow.loc[attrs_key.index]\n",
    "QIN_MCM = avg_inflow * 3600 * 24 * 365 * 1e-6\n",
    "\n",
    "# degree of regulation (-)\n",
    "attrs_key['DOR'] = attrs_key.CAP_MCM / QIN_MCM\n",
    "\n",
    "print('According to Shrestha et al. (2024), the following reservoirs could be skipped from the hydrological model due to negliglible disruptivity')\n",
    "dor_thr = 0.08\n",
    "print('\\t{0} reservoirs have a degree of regulation lower than {1}'.format((attrs_key.DOR < dor_thr).sum(), dor_thr))\n",
    "dod_thr = 0.06\n",
    "print('\\t{0} reservoirs have a degree of disruptivity lower than {1} m'.format((attrs_key.DOD_M < dod_thr).sum(), dod_thr))\n",
    "\n",
    "fig, ax = plt.subplots(ncols=2, figsize=(8, 4), sharey=True)\n",
    "\n",
    "sns.histplot(attrs_key.DOR, ax=ax[0])\n",
    "ax[0].axvline(0.08, c='k', ls='--', lw=.5)\n",
    "\n",
    "sns.histplot(attrs_key.DOD_M, ax=ax[1])\n",
    "ax[1].axvline(0.06, c='k', ls='--', lw=.5);"
   ]
  },
  {
   "cell_type": "markdown",
   "id": "f9869506-a0d6-4efb-b2c7-1faf31f24dc6",
   "metadata": {},
   "source": [
    "**Headwater reservoirs**"
   ]
  },
  {
   "cell_type": "code",
   "execution_count": 39,
   "id": "30100ecc-80ef-44db-8ec4-cfaf73638eb6",
   "metadata": {},
   "outputs": [],
   "source": [
    "attrs_key['HEADWATER'] = reservoirs.loc[attrs_key.index, 'HEADWATER']"
   ]
  },
  {
   "cell_type": "code",
   "execution_count": 42,
   "id": "48ab70b9-1dff-42d7-bf98-6eaa83a55a91",
   "metadata": {},
   "outputs": [
    {
     "name": "stdout",
     "output_type": "stream",
     "text": [
      "156 headwater reservoirs\n"
     ]
    }
   ],
   "source": [
    "print('{0} headwater reservoirs'.format(attrs_key['HEADWATER'].sum()))"
   ]
  },
  {
   "cell_type": "markdown",
   "id": "6de91ec8-4947-4711-a956-f8f1eb402bbc",
   "metadata": {},
   "source": [
    "#### Export"
   ]
  },
  {
   "cell_type": "code",
   "execution_count": 43,
   "id": "d81e6fcc-4878-4698-8396-aa758b6f80b4",
   "metadata": {},
   "outputs": [],
   "source": [
    "# export\n",
    "# attrs_key.sort_index(axis=1, inplace=True)\n",
    "path_attributes = PATH_RESOPSES / f'v{VERSION}' / 'attributes'\n",
    "path_attributes.mkdir(parents=True, exist_ok=True)\n",
    "attrs_key.to_csv(path_attributes / 'attributes_combined.csv')"
   ]
  },
  {
   "cell_type": "markdown",
   "id": "2fa78add-9cc7-43e2-9875-1b37f6986127",
   "metadata": {},
   "source": [
    "### Reservoir use\n",
    "#### Combine data sources"
   ]
  },
  {
   "cell_type": "code",
   "execution_count": null,
   "id": "9ba01921-3320-4913-b6a4-3dfd0f73e35b",
   "metadata": {},
   "outputs": [],
   "source": [
    "attrs_use = pd.DataFrame(index=reservoirs.index, columns=use_attributes)#, dtype=float)\n",
    "attrs_use.index.name = 'reservoir_id'\n",
    "for source, df in attributes.items():\n",
    "    for col in df.columns.intersection(use_attributes):\n",
    "        # select reservoirs missing the attribute in the combined DataFrame\n",
    "        idx = df.index.intersection(attrs_use.loc[attrs_use[col].isnull()].index)\n",
    "        df_sel = df.loc[idx, col]\n",
    "        # remove reservoirs in the source DataFrame missing the attribute\n",
    "        df_sel = df_sel.loc[~df_sel.isnull()]\n",
    "        # assign values\n",
    "        if df_sel.shape[0] > 0:\n",
    "            print(f'{source}\\t{col:9}\\t{df_sel.shape[0]} reservoirs added')\n",
    "            attrs_use.loc[df_sel.index, col] = df_sel\n",
    "\n",
    "print('\\nReservoir attributes missing:')\n",
    "mask = attrs_use.isnull()\n",
    "print(mask.sum())\n",
    "\n",
    "# fill in missing values in 'navigation'\n",
    "attrs_use.dropna(axis=0, how='all', inplace=True)\n",
    "attrs_use.navigation.replace(np.nan, 0, inplace=True)\n",
    "\n",
    "# convert main use into integer classes\n",
    "# attrs_use.MAIN_USE.replace(uses_dct, inplace=True)\n",
    "\n",
    "print('\\nReservoir attributes missing:')\n",
    "print(attrs_use.isnull().sum())"
   ]
  },
  {
   "cell_type": "markdown",
   "id": "4b1fa8e0-bd68-4f67-8423-8b50e2b5a798",
   "metadata": {},
   "source": [
    "#### Export"
   ]
  },
  {
   "cell_type": "code",
   "execution_count": null,
   "id": "a3278496-8224-4088-91c6-52dd2c521ad6",
   "metadata": {},
   "outputs": [],
   "source": [
    "# export\n",
    "attrs_use.to_csv(path_attributes / 'attributes_use.csv')"
   ]
  },
  {
   "cell_type": "markdown",
   "id": "be8f361d-ce0d-40c2-bb4b-70bb7aa56467",
   "metadata": {},
   "source": [
    "## LISFLOOD static maps\n",
    "\n",
    "In this section I will compute catchment statistics of the LISFLOOD static maps that will be in the end exported as _attributes_EFAS_static_maps.csv_. As ancillary maps, I will load first the pixel area and upstream area maps, that will be needed in the subsequent calculations."
   ]
  },
  {
   "cell_type": "code",
   "execution_count": null,
   "id": "2ce7dc30-c81d-4a97-b3c6-ad631f3b9bb4",
   "metadata": {},
   "outputs": [],
   "source": [
    "# load the pixel area map\n",
    "pixarea = xr.open_mfdataset(f'{PATH_EFAS}/maps/pixarea*.nc')['Band1'].compute()\n",
    "\n",
    "# load the upstream area map\n",
    "upArea = xr.open_mfdataset(f'{PATH_EFAS}/maps/upArea*.nc')['Band1'].compute()"
   ]
  },
  {
   "cell_type": "markdown",
   "id": "be878c30-80a7-4df7-a93c-2d415cdb7ecb",
   "metadata": {},
   "source": [
    "### Geomorphology\n",
    "\n",
    "Here I will compute catchment statistics for geomorphological attributes"
   ]
  },
  {
   "cell_type": "code",
   "execution_count": null,
   "id": "724187fa-2b69-4641-9d85-07389caa6256",
   "metadata": {},
   "outputs": [],
   "source": [
    "func = {'elv': ['mean', 'std', 'min', 'max'],\n",
    "        'gradient': ['mean', 'std'],\n",
    "        'upArea': ['max'],\n",
    "        # 'pixarea': ['sum']\n",
    "       }\n",
    "\n",
    "# load maps\n",
    "geomorphology = xr.Dataset({var: xr.open_mfdataset(f'{PATH_EFAS}/maps/{var}_*.nc')['Band1'].compute() for var in func})\n",
    "\n",
    "# compute statistics\n",
    "statistic = list(np.unique([stat for stats in func.values() for stat in stats]))\n",
    "\n",
    "attr_geomorphology = catchment_statistics(geomorphology, masks, statistic=statistic, weight=pixarea).to_pandas()\n",
    "cols = [f'{var}_{stat}' for var, stats in func.items() for stat in stats]\n",
    "attr_geomorphology = attr_geomorphology[cols]\n",
    "# attr_geomorphology = mask_statistics(geomorphology, masks, func, weight=pixarea).to_pandas()\n",
    "\n",
    "# plot attributes\n",
    "plot_attributes(attr_geomorphology, reservoirs.geometry.x, reservoirs.geometry.y, ncols=4)"
   ]
  },
  {
   "cell_type": "markdown",
   "id": "911cbc6b-70cf-4121-bf54-6827dd9ff19c",
   "metadata": {},
   "source": [
    "### Land use"
   ]
  },
  {
   "cell_type": "code",
   "execution_count": null,
   "id": "cc887828-fdec-49b8-bd29-e48c63f99dc6",
   "metadata": {},
   "outputs": [],
   "source": [
    "land_use"
   ]
  },
  {
   "cell_type": "code",
   "execution_count": null,
   "id": "341fb570-9487-44ef-8b7d-0d6584d2c629",
   "metadata": {},
   "outputs": [],
   "source": [
    "attr_landuse"
   ]
  },
  {
   "cell_type": "code",
   "execution_count": null,
   "id": "9d5fb704-188a-4834-bbed-ea7f5b507a29",
   "metadata": {},
   "outputs": [],
   "source": [
    "variables = ['fracforest', 'fracirrigated', 'fracother', 'fracrice', 'fracwater', 'fracsealed']\n",
    "variables.sort()\n",
    "\n",
    "# load maps\n",
    "land_use = xr.Dataset({var: xr.open_mfdataset(f'{PATH_EFAS}/maps/{var}_*.nc')['Band1'].compute() for var in variables})\n",
    "land_use = land_use.rename({var: var[4:] for var in list(land_use)})\n",
    "\n",
    "# compute statistics\n",
    "attr_landuse = catchment_statistics(land_use, masks, statistic=['mean'], weight=pixarea).to_pandas()\n",
    "# attr_landuse = mask_statistics(land_use, masks, func='mean', weight=pixarea).to_pandas()\n",
    "attr_landuse.sort_index(axis=1, inplace=True)\n",
    "\n",
    "# compute main land use\n",
    "lu_classes = {col: i for i, col in enumerate(attr_landuse.columns, start=1)}\n",
    "attr_landuse['land_use_main'] = attr_landuse.idxmax(axis=1).map(lu_classes)\n",
    "\n",
    "# rename attributes\n",
    "attr_landuse.rename(columns={col: col.split('_')[0] if 'mean' in col else col for col in attr_landuse}, inplace=True)\n",
    "attr_landuse.rename(columns={col: 'frac' + col.split('_')[0] if 'mean' in col else col for col in attr_landuse}, inplace=True)\n",
    "\n",
    "# plot attributes\n",
    "plot_attributes(attr_landuse, reservoirs.geometry.x, reservoirs.geometry.y, ncols=4)"
   ]
  },
  {
   "cell_type": "markdown",
   "id": "a2d73efe-2dbc-4314-b6a4-2206ea21f39d",
   "metadata": {},
   "source": [
    "### Crop coefficient"
   ]
  },
  {
   "cell_type": "code",
   "execution_count": null,
   "id": "fc445348-cb23-4fc6-b431-d825141e2edc",
   "metadata": {},
   "outputs": [],
   "source": [
    "# mapping land use acronym and name\n",
    "mapping_landuse = {'f': 'forest', 'i': 'irrigated', 'o': 'other'}\n",
    "variables = ['cropcoef_f', 'cropcoef_i', 'cropcoef_o']\n",
    "\n",
    "# load maps\n",
    "crops = xr.Dataset({var: xr.open_mfdataset(f'{PATH_EFAS}/maps/{var}_*.nc')['Band1'].compute() for var in variables})\n",
    "crops = crops.rename({var: mapping_landuse[var.split('_')[1]] for var in list(crops)})\n",
    "\n",
    "# mean weighted by the fraction of pixel covered by each land use\n",
    "crops = crops.to_array('land_use').weighted(land_use.to_array('land_use').fillna(0)).sum('land_use', skipna=True) \n",
    "crops = crops.where(~upArea.isnull())\n",
    "crops.name = 'cropcoef'\n",
    "\n",
    "# compute statistics\n",
    "attr_crops = catchment_statistics(crops, masks, statistic=['mean', 'std'], weight=pixarea).to_pandas()\n",
    "# attr_crops = mask_statistics(crops, masks, func=['mean', 'std']).to_pandas()\n",
    "\n",
    "# plot attributes\n",
    "plot_attributes(attr_crops, reservoirs.geometry.x, reservoirs.geometry.y, ncols=2)"
   ]
  },
  {
   "cell_type": "markdown",
   "id": "f20374d3-4761-4cd0-8f11-120803b157c8",
   "metadata": {},
   "source": [
    "### Streams"
   ]
  },
  {
   "cell_type": "code",
   "execution_count": null,
   "id": "8e4f0f14-ed61-4243-bd3d-cc1f2c1a4a4d",
   "metadata": {},
   "outputs": [],
   "source": [
    "func = {'chanbnkf': ['mean'],\n",
    "        'chanbw': ['mean'],\n",
    "        'changrad': ['mean'],\n",
    "        'chanlength': ['sum'],\n",
    "        'chanman': ['mean']}\n",
    "\n",
    "# load maps\n",
    "streams = {var: xr.open_mfdataset(f'{PATH_EFAS}/maps/{var}_*.nc')['Band1'].compute() for var in func}\n",
    "streams = {var: da.rename(var) for var, da in streams.items()}\n",
    "streams = {var : da.drop([coord for coord in list(da.coords) if coord not in ['lon', 'lat']]) for var, da in streams.items()}\n",
    "streams = xr.Dataset({var: xr.DataArray(da.data, coords=upArea.coords, name=var) for var, da in streams.items()})\n",
    "\n",
    "# mask streams (pixels with depth larger than 1 m)\n",
    "rivers = streams['chanbnkf'] > 1\n",
    "# rivers.plot(cmap='Blues')\n",
    "streams = streams.where(rivers)\n",
    "\n",
    "# calcular estadístico\n",
    "# attr_streams = mask_statistics(streams, masks, func).to_pandas()\n",
    "statistic = list(np.unique([stat for stats in func.values() for stat in stats]))\n",
    "attr_streams = catchment_statistics(streams, masks, statistic, weight=pixarea).to_pandas()\n",
    "cols = [f'{var}_{stat}' for var, stats in func.items() for stat in stats]\n",
    "attr_streams = attr_streams[cols]\n",
    "\n",
    "# plot attributes\n",
    "plot_attributes(attr_streams, reservoirs.geometry.x, reservoirs.geometry.y, ncols=5)"
   ]
  },
  {
   "cell_type": "markdown",
   "id": "d32c116d-87c7-480f-b32e-a0be98344329",
   "metadata": {},
   "source": [
    "### Soil properties"
   ]
  },
  {
   "cell_type": "code",
   "execution_count": null,
   "id": "b22cedea-8bfe-4b48-a338-17f386f8fb18",
   "metadata": {},
   "outputs": [],
   "source": [
    "variables = ['ksat', 'lambda', 'genua', 'soildepth', 'thetas', 'thetar']\n",
    "layers = [1, 2, 3]\n",
    "maps = [f'{var}{layer}' for var in variables for layer in layers]\n",
    "\n",
    "# load maps\n",
    "soils = {}\n",
    "for var in tqdm(maps, desc='loading maps'):\n",
    "    files = list((PATH_EFAS / 'maps').glob(f'{var}_*.nc'))\n",
    "    if len(files) > 1:\n",
    "        ds = {}\n",
    "        for file in files:\n",
    "            # type of land use\n",
    "            cover = mapping_landuse[file.stem.split('_')[1]]\n",
    "            # import map\n",
    "            ds[cover] = xr.open_dataset(file)['Band1']\n",
    "        ds = xr.Dataset(ds)\n",
    "        da = ds.to_array('land_use').weighted(land_use.to_array('land_use').fillna(0)).sum('land_use', skipna=True)\n",
    "        soils[var] = da.where(~upArea.isnull())\n",
    "    elif len(files) == 1:\n",
    "        soils[var] = xr.open_dataset(files[0])['Band1']\n",
    "soils = xr.Dataset(soils)\n",
    "\n",
    "# compute statistics\n",
    "# attr_soils = mask_statistics(soils, masks, func='mean').to_pandas()\n",
    "attr_soils = catchment_statistics(soils, masks, statistic=['mean'], weight=pixarea).to_pandas()\n",
    "\n",
    "# rename attributes\n",
    "attr_soils.rename(columns={col: col.split('_')[0] for col in attr_soils if 'mean' in col}, inplace=True)\n",
    "\n",
    "# plot attributes\n",
    "plot_attributes(attr_soils, reservoirs.geometry.x, reservoirs.geometry.y, ncols=6)"
   ]
  },
  {
   "cell_type": "markdown",
   "id": "fa6f8a5a-6ff9-4ce1-b690-7731fe55af55",
   "metadata": {},
   "source": [
    "### LAI\n",
    "\n",
    "I convert the timeseries of 10-daily timesteps into annual averages."
   ]
  },
  {
   "cell_type": "code",
   "execution_count": null,
   "id": "4b215f60-64ca-4842-ab6b-0d9657235d8d",
   "metadata": {},
   "outputs": [],
   "source": [
    "maps = ['laif', 'laii', 'laio']\n",
    "\n",
    "# load maps\n",
    "lai = xr.Dataset({var: xr.open_mfdataset(f'{PATH_EFAS}/maps/{var}_*.nc')['Band1'].compute() for var in maps})\n",
    "lai = lai.rename({var: mapping_landuse[var[3]] for var in list(lai)})\n",
    "\n",
    "# mean wheighted by the portion of pixel covered by each land use\n",
    "lai = lai.to_array('land_use').weighted(land_use.to_array('land_use').fillna(0)).sum('land_use', skipna=True) \n",
    "lai = lai.where(~upArea.isnull())\n",
    "lai.name = 'lai'\n",
    "lai['time'] = pd.date_range('2021-01-05', periods=len(lai.time), freq='10D')\n",
    "\n",
    "# monthly resampling\n",
    "lai_m = lai.resample(time='1M').mean()\n",
    "lai_m['time'] = [f'{i:02}' for i in range(1, 13)]\n",
    "lai_agg = xr.Dataset({f'lai{month}': lai_m.sel(time=month).drop('time') for month in lai_m.time.data})\n",
    "\n",
    "# annual statistics\n",
    "lai_agg['laiyrmean'] = lai.mean('time')\n",
    "lai_agg['laiyrmax'] = lai.max('time')\n",
    "lai_agg['laiyrmin'] = lai.min('time')\n",
    "\n",
    "# compute statistics\n",
    "# attr_lai = mask_statistics(lai_agg, masks, func=['mean']).to_pandas()\n",
    "attr_lai = catchment_statistics(lai_agg, masks, statistic=['mean'], weight=pixarea).to_pandas()\n",
    "\n",
    "# rename attributes\n",
    "attr_lai.rename(columns={col: '_'.join(col.split('_')[:-1]) for col in attr_lai if 'mean' in col}, inplace=True)\n",
    "\n",
    "# plot attributes\n",
    "plot_attributes(attr_lai, reservoirs.geometry.x, reservoirs.geometry.y, ncols=5)"
   ]
  },
  {
   "cell_type": "markdown",
   "id": "178218f1-83e9-4ba4-8500-bfe8c0b6e79a",
   "metadata": {},
   "source": [
    "### Water demand\n",
    "\n",
    "The original demand maps are monthly time series (domestic, energy, industry, livestock) in mm/day for the period 1990-2023. \n",
    "\n",
    "I will compute annual and monthly averages and from those I will compute statistics."
   ]
  },
  {
   "cell_type": "code",
   "execution_count": null,
   "id": "8a19c206-94c0-4d5f-b01f-59427822d663",
   "metadata": {},
   "outputs": [],
   "source": [
    "maps = ['dom', 'ene', 'ind', 'liv']\n",
    "\n",
    "# load maps\n",
    "# demand = xr.Dataset({var: xr.open_mfdataset(f'{PATH_EFAS}/maps/{var}_*.nc')[var].compute() for var in maps})\n",
    "\n",
    "# load maps\n",
    "demand = {}\n",
    "start, end = pd.to_datetime('1990-01-01'), pd.to_datetime('2023-12-31')\n",
    "dates = pd.date_range(start, end, freq='D')\n",
    "for use in tqdm(maps):\n",
    "    \n",
    "    # load dataset of demand\n",
    "    da = xr.open_mfdataset(f'{PATH_EFAS}/maps/{use}_*.nc').compute()\n",
    "    \n",
    "    # compute cachtment statistic\n",
    "    df = catchment_statistics(da, masks, statistic=['mean'], weight=pixarea)[f'{use}_mean'].to_pandas()\n",
    "    \n",
    "    # convert dataframe to daily resolution\n",
    "    daily_df = pd.DataFrame(np.nan, index=dates, columns=df.columns)\n",
    "    daily_df.index.name = 'time'\n",
    "    daily_df.loc[df.index] = df\n",
    "\n",
    "    # fill NaN\n",
    "    daily_df = daily_df.ffill()\n",
    "    # daily_df = daily_df.interpolate(method='linear')\n",
    "\n",
    "    # convert to DataArray\n",
    "    demand[use] = xr.Dataset.from_dataframe(daily_df).to_array(dim='id', name=use)\n",
    "\n",
    "# combine all demands in one Dataset\n",
    "demand = xr.Dataset(demand)\n",
    "\n",
    "demand"
   ]
  },
  {
   "cell_type": "code",
   "execution_count": null,
   "id": "1ee2c55d-560e-4ad8-8b63-753744f8d9ef",
   "metadata": {},
   "outputs": [],
   "source": [
    "fig, ax = plt.subplots(figsize=(12, 4))\n",
    "for use, da in demand.items():\n",
    "    da.mean('id').plot(ax=ax, lw=1, label=use)\n",
    "ax.set(ylabel='demand (mm/d)',\n",
    "       ylim=(-.001, None))\n",
    "fig.legend();"
   ]
  },
  {
   "cell_type": "code",
   "execution_count": null,
   "id": "c979e714-5805-468a-a8d3-53879b26a280",
   "metadata": {},
   "outputs": [],
   "source": [
    "# monthly means\n",
    "demand_m = demand.groupby('time.month').mean('time')\n",
    "\n",
    "# annual mean\n",
    "demand_y = demand.groupby('time.year').mean('time').mean('year')\n",
    "# demand_y = demand.mean('time')\n",
    "\n",
    "# combine in a single dataset\n",
    "demand_agg = xr.Dataset()\n",
    "for key, da in demand_m.items():\n",
    "    for month in da.month.data:\n",
    "        demand_agg[f'{key}_{month:02}'] = da.sel(month=month).drop('month')\n",
    "    demand_agg[f'{key}_yr'] = demand_y[key]\n",
    "\n",
    "# convert to volume\n",
    "# demand_agg = demand_agg * 1e-3 * pixarea\n",
    "\n",
    "# # compute statistics\n",
    "# attr_demand = catchment_statistics(demand_agg, masks, statistic=['sum'], weight=pixarea).to_pandas()\n",
    "\n",
    "# # rename attributes\n",
    "# attr_demand.rename(columns={col: '_'.join(col.split('_')[:-1]) for col in attr_demand if 'sum' in col}, inplace=True)\n",
    "\n",
    "attr_demand = demand_agg.to_pandas()\n",
    "\n",
    "# plot attributes\n",
    "plot_attributes(attr_demand[['dom_yr', 'ene_yr', 'ind_yr', 'liv_yr']], reservoirs.geometry.x, reservoirs.geometry.y, ncols=4)"
   ]
  },
  {
   "cell_type": "markdown",
   "id": "f2f8a11f-f24e-4f75-b94d-7a7341f06c77",
   "metadata": {},
   "source": [
    "### Reservoirs\n",
    "\n",
    "It could be interesting to add two attributes that account for the number of reservoirs upstream and the total storage volume of those reservoirs. I can do it with the reservoirs in EFASv5, but those do not include all the reservoirs in ResOpsES (not to mention all the actual reservoirs)."
   ]
  },
  {
   "cell_type": "code",
   "execution_count": null,
   "id": "9e584b06-fcc7-40e5-81cb-5e55ff589dc2",
   "metadata": {},
   "outputs": [],
   "source": [
    "# load map or reservoir ID\n",
    "var = 'res'\n",
    "res_xr = xr.open_mfdataset(f'{PATH_EFAS}/maps/{var}_*.nc')[var].compute()\n",
    "\n",
    "# extract reservoir ID\n",
    "ids = [int(id) for id in np.unique(res_xr) if not np.isnan(id)]\n",
    "print('EFAS represents {0} reservoirs in the study area'.format(len(ids)))\n",
    "\n",
    "# load table of total reservoir storage\n",
    "storage_pd = pd.read_csv(PATH_EFAS.parent / 'tables' / 'rtstor.txt', sep=' ', header=None, index_col=0).squeeze().astype('int64')\n",
    "storage_pd.index.name = 'ResID'\n",
    "storage_pd.name = 'storage'\n",
    "\n",
    "# create map of reservoir storage\n",
    "storage = res_xr.copy(deep=True)\n",
    "for id in ids:\n",
    "    storage = storage.where(res_xr != id, other=storage_pd.loc[id])\n",
    "# storage /= 1e6\n",
    "storage.name = 'storage'\n",
    "storage.attrs['units'] = 'm3'\n",
    "storage.attrs['standard_name'] = 'capacity'\n",
    "storage.attrs['long_name'] = 'reservoir_storage_capacity'\n",
    "\n",
    "# compute statistics\n",
    "# attr_reservoir = mask_statistics(storage, masks, func=['count', 'sum']).to_pandas()\n",
    "attr_reservoir = catchment_statistics(storage, masks, statistic=['count', 'sum']).to_pandas()\n",
    "\n",
    "# rename attributes\n",
    "attr_reservoir.rename(columns={'storage_count': 'no_reservoirs', 'storage_sum': 'storage_reservoirs'}, inplace=True)\n",
    "\n",
    "# plot attributes\n",
    "plot_attributes(attr_reservoir, reservoirs.geometry.x, reservoirs.geometry.y)"
   ]
  },
  {
   "cell_type": "markdown",
   "id": "680935ac-2c9b-47c2-9840-1fbf338e28c5",
   "metadata": {},
   "source": [
    "### Lakes"
   ]
  },
  {
   "cell_type": "code",
   "execution_count": null,
   "id": "84eec756-b2a6-4260-a9b7-e3bf35fde224",
   "metadata": {},
   "outputs": [],
   "source": [
    "# load map or reservoir ID\n",
    "var = 'lakes'\n",
    "lakes_xr = xr.open_mfdataset(f'{PATH_EFAS}/maps/{var}_*.nc')[var].compute()\n",
    "\n",
    "# extract lake ID\n",
    "ids = [int(id) for id in np.unique(lakes_xr) if not np.isnan(id)]\n",
    "print('EFAS represents {0} lakes in the study area'.format(len(ids)))\n",
    "\n",
    "# load table of lake area\n",
    "lakes_pd = pd.read_csv(PATH_EFAS.parent / 'tables' / 'lakearea.txt', sep=' ', header=None, index_col=0).squeeze().astype('int64')\n",
    "lakes_pd.index.name = 'LakeID'\n",
    "lakes_pd.name = 'area'\n",
    "\n",
    "# create map of lake area\n",
    "lakearea = lakes_xr.copy(deep=True)\n",
    "for id in ids:\n",
    "    lakearea = lakearea.where(lakes_xr != id, other=lakes_pd.loc[id])\n",
    "lakearea.name = 'area'\n",
    "lakearea.attrs['units'] = 'm2'\n",
    "lakearea.attrs['standard_name'] = 'area'\n",
    "lakearea.attrs['long_name'] = 'lake_surface_area'\n",
    "\n",
    "# compute statistics\n",
    "# attr_lake = mask_statistics(lakearea, masks, func=['count', 'sum']).to_pandas()\n",
    "attr_lake = catchment_statistics(lakearea, masks, statistic=['count', 'sum']).to_pandas()\n",
    "\n",
    "# rename attributes\n",
    "attr_lake.rename(columns={'area_count': 'no_lakes', 'area_sum': 'area_lakes'}, inplace=True)\n",
    "\n",
    "# plot attributes\n",
    "plot_attributes(attr_lake, reservoirs.geometry.x, reservoirs.geometry.y)"
   ]
  },
  {
   "cell_type": "markdown",
   "id": "debbf762-3b6e-47df-8ec9-c1e59da49f7f",
   "metadata": {},
   "source": [
    "### Export"
   ]
  },
  {
   "cell_type": "code",
   "execution_count": null,
   "id": "1fdac53e-4679-4b9e-afb6-f73915e0a09a",
   "metadata": {},
   "outputs": [],
   "source": [
    "# concatenate all attributes\n",
    "attrs = pd.concat((attr_geomorphology,\n",
    "                  attr_landuse,\n",
    "                  attr_crops,\n",
    "                  attr_streams,\n",
    "                  attr_soils,\n",
    "                  attr_lai,\n",
    "                  attr_demand,\n",
    "                  attr_reservoir,\n",
    "                  attr_lake,\n",
    "                 ), axis=1)\n",
    "attrs.index.name = 'reservoir_id'\n",
    "attrs.sort_index(axis=0, inplace=True)\n",
    "\n",
    "print('{0} attributes define the characteristics of {1} catchments'.format(*attrs.shape[::-1]))\n",
    "\n",
    "# export\n",
    "attrs.to_csv(path_attributes / 'attributes_EFAS_static_maps.csv')"
   ]
  },
  {
   "cell_type": "markdown",
   "id": "41b026a6-8923-4431-8ca5-dd098ad9a466",
   "metadata": {},
   "source": [
    "## LISFLOOD parameters\n",
    "\n",
    "In this section I load the maps of LISFLOOD calibrated parameters an compute mean catchment values. The results are exported as a CSV file named _attributes_EFAS_model_parameters.csv_."
   ]
  },
  {
   "cell_type": "code",
   "execution_count": null,
   "id": "7f3bb0ea-5b89-4c35-9cc3-e34cd0476d8d",
   "metadata": {},
   "outputs": [],
   "source": [
    "# list of calibrated parameters in LISFLOOD\n",
    "pars = {file.stem: file for file in (PATH_EFAS / 'parameters').glob('*.nc') if not file.stem.lower().startswith('efas')}\n",
    "print(f'{len(pars)} parameters were calibrated in EFAS')\n",
    "\n",
    "# load parameter maps\n",
    "params = xr.Dataset({par: xr.open_dataset(file)[par].compute() for par, file in pars.items()})\n",
    "\n",
    "# plot reservoir parameters\n",
    "reservoir_parameters = ['adjust_Normal_Flood', 'ReservoirRnormqMult']\n",
    "fig, axes = plt.subplots(ncols=len(reservoir_parameters), figsize=(12, 4), sharex=True, sharey=True)\n",
    "for ax, par in zip(axes, reservoir_parameters):\n",
    "    params[par].plot(ax=ax, add_colorbar=True, cmap='magma', cbar_kwargs={'shrink': 0.66})\n",
    "    ax.scatter(reservoirs.geometry.x, reservoirs.geometry.y, s=2, c='w')\n",
    "    ax.set_title(par)\n",
    "    ax.set_aspect('equal')\n",
    "    ax.axis('off')\n",
    "\n",
    "# extract the pixel value of reservoir parameters\n",
    "points = reservoirs[['LAT', 'LON']].to_xarray()\n",
    "parameters1 = params[reservoir_parameters].sel(lat=points.LAT, lon=points.LON, method='nearest').compute()\n",
    "parameters1 = parameters1.to_pandas()[reservoir_parameters]\n",
    "\n",
    "# compute catchment statistics of the other parameters\n",
    "other_parameters = list(set(list(pars)).difference(reservoir_parameters))\n",
    "parameters2 = catchment_statistics(params[other_parameters], masks, statistic=['mean'], weight=pixarea).to_pandas()\n",
    "parameters2.index.name = 'reservoir_id'\n",
    "parameters2.sort_index(axis=0, inplace=True)\n",
    "parameters2.rename(columns={col: '_'.join(col.split('_')[:-1]) for col in parameters2 if 'mean' in col}, inplace=True)\n",
    "\n",
    "# concatenate\n",
    "parameters = pd.concat((parameters1, parameters2), axis=1)\n",
    "\n",
    "# plot parameters\n",
    "plot_attributes(parameters[reservoir_parameters], reservoirs.geometry.x, reservoirs.geometry.y, ncols=5)\n",
    "print('{0} LISFLOOD calibrated parameters have been averaged for {1} catchments'.format(*parameters.shape[::-1]))"
   ]
  },
  {
   "cell_type": "code",
   "execution_count": null,
   "id": "2b1d6f93-d27e-4083-a25f-e045aa54c679",
   "metadata": {},
   "outputs": [],
   "source": [
    "# export\n",
    "parameters.to_csv(path_attributes / 'attributes_EFAS_model_parameters.csv')"
   ]
  },
  {
   "cell_type": "code",
   "execution_count": null,
   "id": "6451ca20-09b7-4f91-a9d2-0e0b693d7b83",
   "metadata": {},
   "outputs": [],
   "source": []
  }
 ],
 "metadata": {
  "kernelspec": {
   "display_name": "Python 3 (ipykernel)",
   "language": "python",
   "name": "python3"
  },
  "language_info": {
   "codemirror_mode": {
    "name": "ipython",
    "version": 3
   },
   "file_extension": ".py",
   "mimetype": "text/x-python",
   "name": "python",
   "nbconvert_exporter": "python",
   "pygments_lexer": "ipython3",
   "version": "3.9.13"
  }
 },
 "nbformat": 4,
 "nbformat_minor": 5
}
