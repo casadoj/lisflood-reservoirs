{
 "cells": [
  {
   "cell_type": "markdown",
   "id": "43599baa-e239-4b09-8b27-6ec5278d0a5e",
   "metadata": {},
   "source": [
    "# EFAS - reservoir inflow\n",
    "***\n",
    "\n",
    "**Author:** Chus Casado Rodríguez<br>\n",
    "**Date:** 04-09-2024<br>\n",
    "\n",
    "**Introduction:**<br>\n",
    "\n",
    "This code extracts the discharge time series from the EFASv5 discharge reanalysis. It's simply a specific application of the tool `ncextract` in the `lisflood-utilities` repository. I had to do it because the tool returned errors reading some of the NetCDF files."
   ]
  },
  {
   "cell_type": "code",
   "execution_count": 2,
   "id": "bb1c266c-e33d-4526-9334-5e6b8e55c7a4",
   "metadata": {},
   "outputs": [],
   "source": [
    "import os\n",
    "os.environ['USE_PYGEOS'] = '0'\n",
    "import numpy as np\n",
    "import pandas as pd\n",
    "import xarray as xr\n",
    "import matplotlib.pyplot as plt\n",
    "from pathlib import Path\n",
    "from tqdm.notebook import tqdm\n",
    "import cartopy.crs as ccrs\n",
    "import cartopy.feature as cfeature\n",
    "import geopandas as gpd\n",
    "\n",
    "import warnings\n",
    "warnings.filterwarnings('ignore')\n",
    "\n",
    "from lisfloodreservoirs.utils import DatasetConfig\n",
    "from lisfloodreservoirs.utils.utils import upstream_pixel"
   ]
  },
  {
   "cell_type": "markdown",
   "id": "5e361c38-4978-4f38-87dc-84f175c0faf5",
   "metadata": {},
   "source": [
    "### Configuration"
   ]
  },
  {
   "cell_type": "code",
   "execution_count": 9,
   "id": "9515ea3d-43d6-476f-94fa-c6b0256b5566",
   "metadata": {},
   "outputs": [],
   "source": [
    "# read dataset configuration file\n",
    "cfg = DatasetConfig('config_dataset.yml')\n",
    "\n",
    "# variable\n",
    "var = 'dis'\n",
    "\n",
    "# directory of the ResOpsES data set\n",
    "PATH_AUX = cfg.PATH_RESOPS / 'ancillary' / 'ncextract'\n",
    "PATH_OUT = PATH_AUX / var\n",
    "PATH_OUT.mkdir(parents=True, exist_ok=True)\n",
    "\n",
    "print(f'Extracted time series will be saved in {PATH_OUT}')"
   ]
  },
  {
   "cell_type": "markdown",
   "id": "c49b2bca-2af2-4d9c-b72e-a7f8664790af",
   "metadata": {},
   "source": [
    "### Reservoirs"
   ]
  },
  {
   "cell_type": "code",
   "execution_count": 7,
   "id": "a655226f-59ac-4906-b815-590509b5529c",
   "metadata": {},
   "outputs": [
    {
     "data": {
      "application/vnd.jupyter.widget-view+json": {
       "model_id": "c75e8c10af3c4a289d305dc184495fcd",
       "version_major": 2,
       "version_minor": 0
      },
      "text/plain": [
       "  0%|          | 0/1 [00:00<?, ?it/s]"
      ]
     },
     "metadata": {},
     "output_type": "display_data"
    },
    {
     "name": "stdout",
     "output_type": "stream",
     "text": [
      "305 reservoirs\n"
     ]
    },
    {
     "data": {
      "image/png": "[encoded data removed]",
      "text/plain": [
       "<Figure size 640x480 with 1 Axes>"
      ]
     },
     "metadata": {},
     "output_type": "display_data"
    }
   ],
   "source": [
    "# import shapefile\n",
    "resops = gpd.read_file(path_aux / 'reservoirs.shp')\n",
    "resops[['LAT', 'LON']] = resops[['LAT', 'LON']].astype(float)\n",
    "resops.set_index('SNCZI', drop=True, inplace=True)\n",
    "\n",
    "# load map of upstream area\n",
    "fac = xr.open_dataset(cfg.PATH_LISFLOOD / 'iberia' / 'maps' / 'upArea_iberian_01min.nc')['Band1']\n",
    "\n",
    "# load EFAS attributes\n",
    "attr_EFAS = pd.read_csv(cfg.PATH_ATTRS / 'efas.csv', index_col='GRAND_ID')\n",
    "\n",
    "# search upstream pixel for EFAS reservoirs\n",
    "for ID in tqdm(attr_EFAS.index.intersection(resops.index)):\n",
    "    resops.loc[ID, ['LAT', 'LON']] = upstream_pixel(*resops.loc[ID, ['LAT', 'LON']], upArea=fac)\n",
    "\n",
    "# convert to DataArray of point coordinates\n",
    "points = resops[['LAT', 'LON']].to_xarray()\n",
    "n_reservoirs = len(points.LAT)\n",
    "print(f'{n_reservoirs} reservoirs')\n",
    "\n",
    "# plot reservoir locations\n",
    "fig, ax = plt.subplots(subplot_kw=dict(projection=ccrs.PlateCarree()))\n",
    "ax.add_feature(cfeature.NaturalEarthFeature('physical', 'land', '10m', edgecolor='face', facecolor='lightgray'),\n",
    "               alpha=.5,\n",
    "               zorder=0)\n",
    "ax.scatter(points.LON, points.LAT, s=5, alpha=.3)\n",
    "ax.set_aspect('equal')\n",
    "ax.axis('off');"
   ]
  },
  {
   "cell_type": "markdown",
   "id": "dcb5ad31-ef1c-443e-a89c-f545009b996e",
   "metadata": {},
   "source": [
    "### Time series of reservoir storage"
   ]
  },
  {
   "cell_type": "code",
   "execution_count": 8,
   "id": "3e13e302-9928-4684-96eb-aef84e1cb6bb",
   "metadata": {},
   "outputs": [
    {
     "ename": "OSError",
     "evalue": "no files to open",
     "output_type": "error",
     "traceback": [
      "\u001b[1;31m---------------------------------------------------------------------------\u001b[0m",
      "\u001b[1;31mOSError\u001b[0m                                   Traceback (most recent call last)",
      "Cell \u001b[1;32mIn [8], line 3\u001b[0m\n\u001b[0;32m      1\u001b[0m \u001b[38;5;66;03m# read\u001b[39;00m\n\u001b[0;32m      2\u001b[0m path_ts \u001b[38;5;241m=\u001b[39m cfg\u001b[38;5;241m.\u001b[39mPATH_LISFLOOD \u001b[38;5;241m/\u001b[39m \u001b[38;5;124m'\u001b[39m\u001b[38;5;124miberia\u001b[39m\u001b[38;5;124m'\u001b[39m \u001b[38;5;241m/\u001b[39m \u001b[38;5;124m'\u001b[39m\u001b[38;5;124mreanalysis\u001b[39m\u001b[38;5;124m'\u001b[39m\n\u001b[1;32m----> 3\u001b[0m ds \u001b[38;5;241m=\u001b[39m \u001b[43mxr\u001b[49m\u001b[38;5;241;43m.\u001b[39;49m\u001b[43mopen_mfdataset\u001b[49m\u001b[43m(\u001b[49m\u001b[38;5;124;43mf\u001b[39;49m\u001b[38;5;124;43m'\u001b[39;49m\u001b[38;5;132;43;01m{\u001b[39;49;00m\u001b[43mpath_ts\u001b[49m\u001b[38;5;132;43;01m}\u001b[39;49;00m\u001b[38;5;124;43m/\u001b[39;49m\u001b[38;5;132;43;01m{\u001b[39;49;00m\u001b[43mvar\u001b[49m\u001b[38;5;132;43;01m}\u001b[39;49;00m\u001b[38;5;124;43m_*.nc\u001b[39;49m\u001b[38;5;124;43m'\u001b[39;49m\u001b[43m,\u001b[49m\u001b[43m \u001b[49m\u001b[43mchunks\u001b[49m\u001b[38;5;241;43m=\u001b[39;49m\u001b[38;5;124;43m'\u001b[39;49m\u001b[38;5;124;43mauto\u001b[39;49m\u001b[38;5;124;43m'\u001b[39;49m\u001b[43m,\u001b[49m\u001b[43m \u001b[49m\u001b[43mparallel\u001b[49m\u001b[38;5;241;43m=\u001b[39;49m\u001b[38;5;28;43;01mTrue\u001b[39;49;00m\u001b[43m)\u001b[49m\n\u001b[0;32m      5\u001b[0m \u001b[38;5;66;03m# I substract 12 hours from the original 'time' dimension\u001b[39;00m\n\u001b[0;32m      6\u001b[0m \u001b[38;5;66;03m# 1. 6 h because we discovered an error in the storage of the EFAS data in the Climate Data Store\u001b[39;00m\n\u001b[0;32m      7\u001b[0m \u001b[38;5;66;03m# 2. 6 h to convert the end-of-timestep convention into start-of timestep, so I can apply `resample`\u001b[39;00m\n\u001b[0;32m      8\u001b[0m ds[\u001b[38;5;124m'\u001b[39m\u001b[38;5;124mtime\u001b[39m\u001b[38;5;124m'\u001b[39m] \u001b[38;5;241m=\u001b[39m ds[\u001b[38;5;124m'\u001b[39m\u001b[38;5;124mtime\u001b[39m\u001b[38;5;124m'\u001b[39m] \u001b[38;5;241m-\u001b[39m pd\u001b[38;5;241m.\u001b[39mTimedelta(hours\u001b[38;5;241m=\u001b[39m\u001b[38;5;241m12\u001b[39m)\n",
      "File \u001b[1;32mC:\\DEV\\Anaconda3\\envs\\xr\\lib\\site-packages\\xarray\\backends\\api.py:873\u001b[0m, in \u001b[0;36mopen_mfdataset\u001b[1;34m(paths, chunks, concat_dim, compat, preprocess, engine, data_vars, coords, combine, parallel, join, attrs_file, combine_attrs, **kwargs)\u001b[0m\n\u001b[0;32m    870\u001b[0m     paths \u001b[38;5;241m=\u001b[39m [os\u001b[38;5;241m.\u001b[39mfspath(p) \u001b[38;5;28;01mif\u001b[39;00m \u001b[38;5;28misinstance\u001b[39m(p, os\u001b[38;5;241m.\u001b[39mPathLike) \u001b[38;5;28;01melse\u001b[39;00m p \u001b[38;5;28;01mfor\u001b[39;00m p \u001b[38;5;129;01min\u001b[39;00m paths]\n\u001b[0;32m    872\u001b[0m \u001b[38;5;28;01mif\u001b[39;00m \u001b[38;5;129;01mnot\u001b[39;00m paths:\n\u001b[1;32m--> 873\u001b[0m     \u001b[38;5;28;01mraise\u001b[39;00m \u001b[38;5;167;01mOSError\u001b[39;00m(\u001b[38;5;124m\"\u001b[39m\u001b[38;5;124mno files to open\u001b[39m\u001b[38;5;124m\"\u001b[39m)\n\u001b[0;32m    875\u001b[0m \u001b[38;5;28;01mif\u001b[39;00m combine \u001b[38;5;241m==\u001b[39m \u001b[38;5;124m\"\u001b[39m\u001b[38;5;124mnested\u001b[39m\u001b[38;5;124m\"\u001b[39m:\n\u001b[0;32m    876\u001b[0m     \u001b[38;5;28;01mif\u001b[39;00m \u001b[38;5;28misinstance\u001b[39m(concat_dim, (\u001b[38;5;28mstr\u001b[39m, DataArray)) \u001b[38;5;129;01mor\u001b[39;00m concat_dim \u001b[38;5;129;01mis\u001b[39;00m \u001b[38;5;28;01mNone\u001b[39;00m:\n",
      "\u001b[1;31mOSError\u001b[0m: no files to open"
     ]
    }
   ],
   "source": [
    "# read\n",
    "path_ts = cfg.PATH_LISFLOOD / 'iberia' / 'reanalysis'\n",
    "ds = xr.open_mfdataset(f'{path_ts}/{var}_*.nc', chunks='auto', parallel=True)\n",
    "\n",
    "# I substract 12 hours from the original 'time' dimension\n",
    "# 1. 6 h because we discovered an error in the storage of the EFAS data in the Climate Data Store\n",
    "# 2. 6 h to convert the end-of-timestep convention into start-of timestep, so I can apply `resample`\n",
    "ds['time'] = ds['time'] - pd.Timedelta(hours=12)\n",
    "\n",
    "# resample to daily resolution\n",
    "ds = ds.resample(time='1D').mean()\n",
    "\n",
    "# extract points of interest\n",
    "ds_poi = ds.sel(lat=points.LAT, lon=points.LON, method='nearest').compute()"
   ]
  },
  {
   "cell_type": "code",
   "execution_count": null,
   "id": "d6b70f5e-4c7c-4605-8049-37b312de9d99",
   "metadata": {},
   "outputs": [],
   "source": [
    "# export\n",
    "for ID in tqdm(ds_poi.SNCZI.data):\n",
    "    fileout = PATH_OUT / f'{ID:04}.nc'\n",
    "    if fileout.exists():\n",
    "        continue\n",
    "    ds_poi.sel(SNCZI=ID).to_netcdf(fileout)"
   ]
  }
 ],
 "metadata": {
  "kernelspec": {
   "display_name": "Python 3 (ipykernel)",
   "language": "python",
   "name": "python3"
  },
  "language_info": {
   "codemirror_mode": {
    "name": "ipython",
    "version": 3
   },
   "file_extension": ".py",
   "mimetype": "text/x-python",
   "name": "python",
   "nbconvert_exporter": "python",
   "pygments_lexer": "ipython3",
   "version": "3.9.13"
  }
 },
 "nbformat": 4,
 "nbformat_minor": 5
}
