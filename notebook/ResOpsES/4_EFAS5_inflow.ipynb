{
 "cells": [
  {
   "cell_type": "markdown",
   "id": "43599baa-e239-4b09-8b27-6ec5278d0a5e",
   "metadata": {},
   "source": [
    "# EFAS - extract time series\n",
    "***\n",
    "\n",
    "**Author:** Chus Casado Rodríguez<br>\n",
    "**Date:** 08-04-2024<br>\n",
    "\n",
    "**Introduction:**<br>\n",
    "\n",
    "This code extracts the discharge time series from the EFASv5 discharge reanalysis. It's simply a specific application of the tool `ncextract` in the `lisflood-utilities` repository. I had to do it because the tool returned errors reading some of the NetCDF files."
   ]
  },
  {
   "cell_type": "code",
   "execution_count": 1,
   "id": "82409c56-a10e-48c0-8c5d-02f9d42c269a",
   "metadata": {},
   "outputs": [],
   "source": [
    "import os\n",
    "os.environ['USE_PYGEOS'] = '0'\n",
    "import numpy as np\n",
    "import pandas as pd\n",
    "import xarray as xr\n",
    "import matplotlib.pyplot as plt\n",
    "from pathlib import Path\n",
    "from tqdm.notebook import tqdm\n",
    "import cartopy.crs as ccrs\n",
    "import cartopy.feature as cfeature\n",
    "import geopandas as gpd\n",
    "\n",
    "import warnings\n",
    "warnings.filterwarnings('ignore')\n",
    "\n",
    "from utils import upstream_pixel"
   ]
  },
  {
   "cell_type": "markdown",
   "id": "5e361c38-4978-4f38-87dc-84f175c0faf5",
   "metadata": {},
   "source": [
    "### Configuration"
   ]
  },
  {
   "cell_type": "code",
   "execution_count": 160,
   "id": "da40837f-1b9f-4ad3-bbe3-22ba624ba2d9",
   "metadata": {},
   "outputs": [],
   "source": [
    "# path where the original timeseries are stored\n",
    "path_EFAS = Path('E:/casadje/Documents/EFASv5/iberia')\n",
    "path_ts = path_EFAS / 'reanalysis'\n",
    "\n",
    "# directory of the ResOpsES data set\n",
    "path_ResOps = Path('Z:/nahaUsers/casadje/datasets/reservoirs/ResOpsES')\n",
    "path_aux = path_ResOps / 'ancillary' / 'ncextract'\n",
    "path_out = path_aux / 'discharge'\n",
    "path_out.mkdir(parents=True, exist_ok=True)\n",
    "\n",
    "# variable\n",
    "var = 'dis'"
   ]
  },
  {
   "cell_type": "markdown",
   "id": "9444c25d-93ee-4bbc-8456-3353b5a6acd4",
   "metadata": {},
   "source": [
    "### Reservoirs"
   ]
  },
  {
   "cell_type": "code",
   "execution_count": 147,
   "id": "84e327f1-e9df-4b8a-adea-a41f033d1d5e",
   "metadata": {},
   "outputs": [],
   "source": [
    "# import shapefile\n",
    "resops = gpd.read_file(path_aux / 'reservoirs.shp')\n",
    "resops[['LAT', 'LON']] = resops[['LAT', 'LON']].astype(float)\n",
    "resops.set_index('SNCZI', drop=True, inplace=True)"
   ]
  },
  {
   "cell_type": "code",
   "execution_count": 148,
   "id": "37d6793e-7394-4ff8-a533-e0b9f28746b0",
   "metadata": {},
   "outputs": [],
   "source": [
    "# load map of upstream area\n",
    "fac = xr.open_dataset(path_EFAS / 'maps' / 'upArea_iberian_01min.nc')['Band1']\n",
    "\n",
    "# load EFAS attributes\n",
    "attr_EFAS = pd.read_csv(path_ResOpesES / 'attributes' / 'attributes_EFAS.csv', index_col='SNCZI')\n",
    "\n",
    "# search upstream pixel for EFAS reservoirs\n",
    "for ID in tqdm(attr_EFAS.index.intersection(resops.index)):\n",
    "    resops.loc[ID, ['LAT', 'LON']] = upstream_pixel(*resops.loc[ID, ['LAT', 'LON']], upArea=fac)"
   ]
  },
  {
   "cell_type": "code",
   "execution_count": 154,
   "id": "f7a30030-c425-4468-a78d-ab62c6dd9a6e",
   "metadata": {},
   "outputs": [
    {
     "name": "stdout",
     "output_type": "stream",
     "text": [
      "305 reservoirs\n"
     ]
    },
    {
     "data": {
      "image/png": "[encoded data removed]",
      "text/plain": [
       "<Figure size 640x480 with 1 Axes>"
      ]
     },
     "metadata": {},
     "output_type": "display_data"
    }
   ],
   "source": [
    "# convert to DataArray of point coordinates\n",
    "points = resops[['LAT', 'LON']].to_xarray()\n",
    "n_reservoirs = len(points.LAT)\n",
    "print(f'{n_reservoirs} reservoirs')\n",
    "\n",
    "# plot reservoir locations\n",
    "fig, ax = plt.subplots(subplot_kw=dict(projection=ccrs.PlateCarree()))\n",
    "ax.add_feature(cfeature.NaturalEarthFeature('physical', 'land', '10m', edgecolor='face', facecolor='lightgray'),\n",
    "               alpha=.5,\n",
    "               zorder=0)\n",
    "ax.scatter(points.LON, points.LAT, s=5, alpha=.3)\n",
    "ax.set_aspect('equal')\n",
    "ax.axis('off');"
   ]
  },
  {
   "cell_type": "markdown",
   "id": "dcb5ad31-ef1c-443e-a89c-f545009b996e",
   "metadata": {},
   "source": [
    "### Time series of reservoir storage"
   ]
  },
  {
   "cell_type": "code",
   "execution_count": 155,
   "id": "3e13e302-9928-4684-96eb-aef84e1cb6bb",
   "metadata": {},
   "outputs": [],
   "source": [
    "# read\n",
    "ds = xr.open_mfdataset(f'{path_ts}/{var}_*.nc', chunks='auto', parallel=True)\n",
    "\n",
    "# I substract 12 hours from the original 'time' dimension\n",
    "# 1. 6 h because we discovered an error in the storage of the EFAS data in the Climate Data Store\n",
    "# 2. 6 h to convert the end-of-timestep convention into start-of timestep, so I can apply `resample`\n",
    "ds['time'] = ds['time'] - pd.Timedelta(hours=12)\n",
    "\n",
    "# resample to daily resolution\n",
    "ds = ds.resample(time='1D').mean()\n",
    "\n",
    "# extract points of interest\n",
    "ds_poi = ds.sel(lat=points.LAT, lon=points.LON, method='nearest').compute()"
   ]
  },
  {
   "cell_type": "code",
   "execution_count": 167,
   "id": "d6b70f5e-4c7c-4605-8049-37b312de9d99",
   "metadata": {},
   "outputs": [
    {
     "data": {
      "application/vnd.jupyter.widget-view+json": {
       "model_id": "432407cc22c54297a19d406595c5c22e",
       "version_major": 2,
       "version_minor": 0
      },
      "text/plain": [
       "  0%|          | 0/305 [00:00<?, ?it/s]"
      ]
     },
     "metadata": {},
     "output_type": "display_data"
    }
   ],
   "source": [
    "# export\n",
    "for ID in tqdm(ds_poi.SNCZI.data):\n",
    "    fileout = path_out / f'{ID:04}.nc'\n",
    "    if fileout.exists():\n",
    "        continue\n",
    "    ds_poi.sel(SNCZI=ID).to_netcdf(fileout)"
   ]
  }
 ],
 "metadata": {
  "kernelspec": {
   "display_name": "Python 3 (ipykernel)",
   "language": "python",
   "name": "python3"
  },
  "language_info": {
   "codemirror_mode": {
    "name": "ipython",
    "version": 3
   },
   "file_extension": ".py",
   "mimetype": "text/x-python",
   "name": "python",
   "nbconvert_exporter": "python",
   "pygments_lexer": "ipython3",
   "version": "3.9.13"
  }
 },
 "nbformat": 4,
 "nbformat_minor": 5
}
