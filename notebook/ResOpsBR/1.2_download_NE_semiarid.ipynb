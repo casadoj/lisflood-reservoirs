{
 "cells": [
  {
   "cell_type": "markdown",
   "id": "28a1e46f-26c3-4b48-ae5d-4139e704cbcf",
   "metadata": {},
   "source": [
    "# ResOpsBR: download data North-East semiarid\n",
    "***\n",
    "\n",
    "***Author:** Chus Casado Rodríguez*<br>\n",
    "***Date:** 18-07-2025*<br>\n",
    "\n",
    "**Introduction:**<br>\n",
    "\n",
    "This notebook downloads the reservoir time series from the Âgencia Nacional de Águas."
   ]
  },
  {
   "cell_type": "code",
   "execution_count": 1,
   "id": "15ae6b14-d8b3-47d3-b54d-09d6a8d440f2",
   "metadata": {},
   "outputs": [],
   "source": [
    "import pandas as pd\n",
    "import requests\n",
    "from bs4 import BeautifulSoup\n",
    "from datetime import datetime\n",
    "import urllib.parse\n",
    "from io import StringIO\n",
    "from tqdm.auto import tqdm\n",
    "from pathlib import Path\n",
    "\n",
    "from lisfloodreservoirs.utils import DatasetConfig"
   ]
  },
  {
   "cell_type": "markdown",
   "id": "d3ab4c6b-e340-4a08-bd0a-fcb420b645cf",
   "metadata": {},
   "source": [
    "### Configuration"
   ]
  },
  {
   "cell_type": "code",
   "execution_count": 2,
   "id": "52d5c871-392a-430a-9717-270598f03356",
   "metadata": {},
   "outputs": [],
   "source": [
    "cfg = DatasetConfig('config_ResOpsBR_v11.yml')\n",
    "\n",
    "SYSTEM = 'SIN'\n",
    "URL = 'https://www.ana.gov.br/sar0/Medicao'"
   ]
  },
  {
   "cell_type": "markdown",
   "id": "1b638938-e428-4ea8-b33d-32aa6feaf174",
   "metadata": {},
   "source": [
    "### List of reservoirs"
   ]
  },
  {
   "cell_type": "code",
   "execution_count": 4,
   "id": "52847499-b4ca-40d3-a7aa-32952cdf846e",
   "metadata": {},
   "outputs": [
    {
     "name": "stdout",
     "output_type": "stream",
     "text": [
      "542 reservoirs\n"
     ]
    }
   ],
   "source": [
    "response = requests.get(URL)\n",
    "if response.ok:\n",
    "    # parse HTML response\n",
    "    soup = BeautifulSoup(response.text, 'html.parser')\n",
    "\n",
    "    # find list of reservoirs\n",
    "    reservoir_list = soup.find('select', {'name': 'dropDownListReservatorios'})\n",
    "    reservoirs = {}\n",
    "    for option in reservoir_list.find_all('option'):\n",
    "        try:\n",
    "            reservoirs[int(option['value'])] = option.text.strip()\n",
    "        except:\n",
    "            continue\n",
    "    print('{0} reservoirs'.format(len(reservoirs)))\n",
    "\n",
    "# convert to DataFrame\n",
    "reservoirs = pd.DataFrame(pd.Series(reservoirs))\n",
    "reservoirs.index.name = 'ID'\n",
    "reservoirs.columns = ['name']\n",
    "\n",
    "# export\n",
    "PATH_ATTRS = cfg.PATH_RESOPS / 'raw' / 'attributes' / SYSTEM\n",
    "PATH_ATTRS.mkdir(parents=True, exist_ok=True)\n",
    "reservoirs.to_csv(PATH_ATTRS / f'reservoirs_{SYSTEM}.csv')"
   ]
  },
  {
   "cell_type": "markdown",
   "id": "06e7351d-bb73-4fe7-8e1d-c01aa63f0280",
   "metadata": {},
   "source": [
    "### Time series"
   ]
  },
  {
   "cell_type": "code",
   "execution_count": null,
   "id": "13df851b-1d44-40c9-9c54-81b753658eec",
   "metadata": {
    "tags": []
   },
   "outputs": [
    {
     "data": {
      "application/vnd.jupyter.widget-view+json": {
       "model_id": "7507dc54a70b4c3db9e8cb16ae9f3228",
       "version_major": 2,
       "version_minor": 0
      },
      "text/plain": [
       "  0%|          | 0/542 [00:00<?, ?it/s]"
      ]
     },
     "metadata": {},
     "output_type": "display_data"
    }
   ],
   "source": [
    "PATH_TS = cfg.PATH_RESOPS / 'raw' / 'time_series' / SYSTEM\n",
    "PATH_TS.mkdir(parents=True, exist_ok=True)\n",
    "\n",
    "rename_cols = {\n",
    "    'Estado': 'state',\n",
    "    'Reservatório': 'name',\n",
    "    'Capacidade (hm³)': 'capacity_mcm',\n",
    "    'Cota (m)': 'level_m',\n",
    "    'Volume (hm³)': 'volume_mcm',\n",
    "    'Volume (%)': 'volume_pct',\n",
    "    'Data da Medição': 'date'  \n",
    "}\n",
    "\n",
    "start_url = urllib.parse.quote(cfg.START.strftime('%d/%m/%Y'), safe='')\n",
    "end_url = urllib.parse.quote(cfg.END.strftime('%d/%m/%Y'), safe='')\n",
    "\n",
    "n_reservoirs = reservoirs.shape[0]\n",
    "error_IDs = []\n",
    "for ID in tqdm(reservoirs.index, total=n_reservoirs):\n",
    "\n",
    "    output_file = PATH_TS / f'{ID}.csv'\n",
    "    if output_file.is_file():\n",
    "        continue\n",
    "        \n",
    "    # request info from the URL\n",
    "    url_reservoir = f'{URL}?dropDownListEstados=&dropDownListReservatorios={ID}&dataInicial={start_url}&dataFinal={end_url}&button=Buscar'\n",
    "    response = requests.get(url_reservoir)\n",
    "    \n",
    "    if response.ok:\n",
    "        # parse HTML response\n",
    "        soup = BeautifulSoup(response.text, 'html.parser')\n",
    "        \n",
    "        # convert to pandas.DataFrame\n",
    "        # data = pd.read_html(str(soup.find('table')))[0]\n",
    "        html_table = str(soup.find('table'))\n",
    "        data = pd.read_html(StringIO(html_table), thousands='.', decimal=',')[0]\n",
    "        \n",
    "        # translate columns\n",
    "        data.rename(columns=rename_cols, inplace=True)\n",
    "        \n",
    "        # assign attributes to its table\n",
    "        for col in ['state', 'capacity_mcm']:\n",
    "            reservoirs.loc[ID, col] = data[col].unique()\n",
    "        \n",
    "        # remove redundant info\n",
    "        data.drop(['name', 'state', 'capacity_mcm'], axis=1, inplace=True)\n",
    "\n",
    "        # set a date index\n",
    "        data.date = pd.to_datetime(data.date, format='%d/%m/%Y')\n",
    "        data.set_index(data.date, drop=True, inplace=True)\n",
    "        data.drop('date', axis=1, inplace=True, errors='ignore')\n",
    "                \n",
    "        # export\n",
    "        data.to_csv(output_file)\n",
    "    else:\n",
    "        error_IDs.append(ID)\n",
    "        print(f'Data for reservoir {ID} could not be retrieved: {url_reservoir}')"
   ]
  },
  {
   "cell_type": "code",
   "execution_count": null,
   "id": "622f4b24-5382-4d60-b046-a068058109e5",
   "metadata": {},
   "outputs": [],
   "source": []
  }
 ],
 "metadata": {
  "kernelspec": {
   "display_name": "Python 3 (ipykernel)",
   "language": "python",
   "name": "python3"
  },
  "language_info": {
   "codemirror_mode": {
    "name": "ipython",
    "version": 3
   },
   "file_extension": ".py",
   "mimetype": "text/x-python",
   "name": "python",
   "nbconvert_exporter": "python",
   "pygments_lexer": "ipython3",
   "version": "3.11.11"
  }
 },
 "nbformat": 4,
 "nbformat_minor": 5
}
