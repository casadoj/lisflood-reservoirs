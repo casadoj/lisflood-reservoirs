{
 "cells": [
  {
   "cell_type": "markdown",
   "id": "28a1e46f-26c3-4b48-ae5d-4139e704cbcf",
   "metadata": {},
   "source": [
    "# Download data\n",
    "***\n",
    "\n",
    "***Author:** Chus Casado Rodríguez*<br>\n",
    "***Date:** 10-10-2024*<br>"
   ]
  },
  {
   "cell_type": "code",
   "execution_count": 1,
   "id": "15ae6b14-d8b3-47d3-b54d-09d6a8d440f2",
   "metadata": {},
   "outputs": [],
   "source": [
    "import numpy as np\n",
    "import pandas as pd\n",
    "import requests\n",
    "from bs4 import BeautifulSoup\n",
    "from datetime import datetime\n",
    "import urllib.parse\n",
    "from tqdm.auto import tqdm\n",
    "from pathlib import Path"
   ]
  },
  {
   "cell_type": "markdown",
   "id": "d3ab4c6b-e340-4a08-bd0a-fcb420b645cf",
   "metadata": {},
   "source": [
    "### Configuration"
   ]
  },
  {
   "cell_type": "code",
   "execution_count": 2,
   "id": "eabd18e7-61ec-4194-a8a4-d5f47115d073",
   "metadata": {},
   "outputs": [],
   "source": [
    "SYSTEM = 'Nordeste'\n",
    "URL = 'https://www.ana.gov.br/sar0/Medicao'\n",
    "START = datetime(1980, 1, 1)\n",
    "END = datetime.now().date()\n",
    "PATH = Path('Z:/nahaUsers/casadje/datasets/reservoirs/ResOpsBR/raw/')"
   ]
  },
  {
   "cell_type": "markdown",
   "id": "1b638938-e428-4ea8-b33d-32aa6feaf174",
   "metadata": {},
   "source": [
    "### List of reservoirs"
   ]
  },
  {
   "cell_type": "code",
   "execution_count": 3,
   "id": "52847499-b4ca-40d3-a7aa-32952cdf846e",
   "metadata": {},
   "outputs": [
    {
     "name": "stdout",
     "output_type": "stream",
     "text": [
      "542 reservoirs\n"
     ]
    }
   ],
   "source": [
    "response = requests.get(URL)\n",
    "if response.ok:\n",
    "    # parse HTML response\n",
    "    soup = BeautifulSoup(response.text, 'html.parser')\n",
    "\n",
    "    # find list of reservoirs\n",
    "    reservoir_list = soup.find('select', {'name': 'dropDownListReservatorios'})\n",
    "    reservoirs = {}\n",
    "    for option in reservoir_list.find_all('option'):\n",
    "        try:\n",
    "            reservoirs[int(option['value'])] = option.text.strip()\n",
    "        except:\n",
    "            continue\n",
    "    print('{0} reservoirs'.format(len(reservoirs)))\n",
    "\n",
    "# convert to DataFrame\n",
    "reservoirs = pd.DataFrame(pd.Series(reservoirs))\n",
    "reservoirs.index.name = 'ID'\n",
    "reservoirs.columns = ['name']"
   ]
  },
  {
   "cell_type": "markdown",
   "id": "06e7351d-bb73-4fe7-8e1d-c01aa63f0280",
   "metadata": {},
   "source": [
    "### Time series"
   ]
  },
  {
   "cell_type": "code",
   "execution_count": null,
   "id": "ef671801-2bc2-46f7-b866-f827df5f7450",
   "metadata": {
    "tags": []
   },
   "outputs": [
    {
     "data": {
      "application/vnd.jupyter.widget-view+json": {
       "model_id": "89dfd9aca9be43e7ae231885348654af",
       "version_major": 2,
       "version_minor": 0
      },
      "text/plain": [
       "  0%|          | 0/542 [00:00<?, ?it/s]"
      ]
     },
     "metadata": {},
     "output_type": "display_data"
    }
   ],
   "source": [
    "PATH_TS = PATH / 'timeseries' / SYSTEM\n",
    "PATH_TS.mkdir(parents=True, exist_ok=True)\n",
    "\n",
    "rename_cols = {\n",
    "    'Estado': 'state',\n",
    "    'Reservatório': 'name',\n",
    "    'Capacidade (hm³)': 'capacity_mcm',\n",
    "    'Cota (m)': 'level_m',\n",
    "    'Volume (hm³)': 'volume_mcm',\n",
    "    'Volume (%)': 'volume_pct',\n",
    "    'Data da Medição': 'date'  \n",
    "}\n",
    "\n",
    "start_url = urllib.parse.quote(START.strftime('%d/%m/%Y'), safe='')\n",
    "end_url = urllib.parse.quote(END.strftime('%d/%m/%Y'), safe='')\n",
    "\n",
    "n_reservoirs = reservoirs.shape[0]\n",
    "for ID in tqdm(reservoirs.index, total=n_reservoirs):\n",
    "    \n",
    "    # request info from the URL\n",
    "    url_reservoir = f'{URL}?dropDownListEstados=&dropDownListReservatorios={ID}&dataInicial={start_url}&dataFinal={end_url}&button=Buscar'\n",
    "    response = requests.get(url_reservoir)\n",
    "    \n",
    "    if response.ok:\n",
    "        # parse HTML response\n",
    "        soup = BeautifulSoup(response.text, 'html.parser')\n",
    "        \n",
    "        # convert to pandas.DataFrame\n",
    "        data = pd.read_html(str(soup.find('table')))[0]\n",
    "        \n",
    "        # translate columns\n",
    "        data.rename(columns=rename_cols, inplace=True)\n",
    "        \n",
    "        # assign attributes to its table\n",
    "        for col in ['state', 'capacity_mcm']:\n",
    "            reservoirs.loc[ID, col] = data[col].unique()\n",
    "        \n",
    "        # remove redundant info\n",
    "        data.drop(['name', 'state', 'capacity_mcm'], axis=1, inplace=True)\n",
    "\n",
    "        # set a date index\n",
    "        data.date = pd.to_datetime(data.date, format='%d/%m/%Y')\n",
    "        data.set_index(data.date, drop=True, inplace=True)\n",
    "        data.drop('date', axis=1, inplace=True, errors='ignore')\n",
    "                \n",
    "        # export\n",
    "        data.to_csv(PATH_TS / f'{ID}.csv')\n",
    "    else:\n",
    "        print(f'Data for reservoir {ID} could not be retrieved: {url_reservoir}')"
   ]
  },
  {
   "cell_type": "code",
   "execution_count": null,
   "id": "4aced07e-064c-492b-9ea5-6c2b449ed721",
   "metadata": {},
   "outputs": [],
   "source": [
    "# export\n",
    "PATH_ATTRS = PATH / 'attributes' / SYSTEM\n",
    "PATH_ATTRS.mkdir(parents=True, exist_ok=True)\n",
    "reservoirs.to_csv(PATH_ATTRS / 'reservoirs.csv')"
   ]
  }
 ],
 "metadata": {
  "kernelspec": {
   "display_name": "Python 3 (ipykernel)",
   "language": "python",
   "name": "python3"
  },
  "language_info": {
   "codemirror_mode": {
    "name": "ipython",
    "version": 3
   },
   "file_extension": ".py",
   "mimetype": "text/x-python",
   "name": "python",
   "nbconvert_exporter": "python",
   "pygments_lexer": "ipython3",
   "version": "3.9.13"
  }
 },
 "nbformat": 4,
 "nbformat_minor": 5
}
