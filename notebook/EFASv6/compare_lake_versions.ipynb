{
 "cells": [
  {
   "cell_type": "code",
   "execution_count": 1,
   "id": "f8556931-d0cb-45cc-8dc1-d1f9bad9d859",
   "metadata": {},
   "outputs": [],
   "source": [
    "import pandas as pd\n",
    "from pathlib import Path"
   ]
  },
  {
   "cell_type": "code",
   "execution_count": 2,
   "id": "d363e4bb-8371-4f2e-b152-504f3f311501",
   "metadata": {},
   "outputs": [
    {
     "name": "stdout",
     "output_type": "stream",
     "text": [
      "31 more lakes in the older version\n"
     ]
    }
   ],
   "source": [
    "path_lakes = Path('Z:/nahaUsers/casadje/EFASv6/lakes/tables')\n",
    "old = pd.read_excel(path_lakes / 'efas6_lakes_20250218.xlsx')\n",
    "new = pd.read_excel(path_lakes / 'efas6_lakes_20250304.xlsx')\n",
    "\n",
    "print('{0} more lakes in the older version'.format(len(old) - len(new)))"
   ]
  },
  {
   "cell_type": "code",
   "execution_count": 3,
   "id": "1dcf27a1-4d36-4738-bda7-9580b05f3665",
   "metadata": {},
   "outputs": [
    {
     "data": {
      "text/plain": [
       "(1359, 30)"
      ]
     },
     "execution_count": 3,
     "metadata": {},
     "output_type": "execute_result"
    }
   ],
   "source": [
    "path_reservoirs = Path('Z:/nahaUsers/casadje/EFASv6/reservoirs/tables')\n",
    "reservoirs = pd.read_excel(path_reservoirs / 'efas6_reservoirs_20250303+parameters.xlsx')\n",
    "\n",
    "reservoirs.shape"
   ]
  },
  {
   "cell_type": "code",
   "execution_count": 4,
   "id": "3aded6f6-94ce-4c7d-af65-9abbf05bcbf3",
   "metadata": {},
   "outputs": [
    {
     "data": {
      "text/plain": [
       "set()"
      ]
     },
     "execution_count": 4,
     "metadata": {},
     "output_type": "execute_result"
    }
   ],
   "source": [
    "# check lakes from EFAS 5 missing\n",
    "set(old.loc[old.LakID.notnull(), 'LakID']).difference(new.LAK_ID)"
   ]
  },
  {
   "cell_type": "code",
   "execution_count": 5,
   "id": "269e1321-7df3-4273-bec0-905e1322a461",
   "metadata": {},
   "outputs": [
    {
     "name": "stdout",
     "output_type": "stream",
     "text": [
      "32 reservoirs are missing\n"
     ]
    }
   ],
   "source": [
    "# check reservoirs from EFAS 5 missing\n",
    "res_ids = set(old.loc[old.ResID.notnull(), 'ResID']).difference(new.RES_ID)\n",
    "print(f'{len(res_ids)} reservoirs are missing')"
   ]
  },
  {
   "cell_type": "markdown",
   "id": "0b86b812-4a4c-4fc6-b807-6f196dba5533",
   "metadata": {},
   "source": [
    "¿Están en la tabla de embalses?"
   ]
  },
  {
   "cell_type": "code",
   "execution_count": 6,
   "id": "f40e29dc-eb10-432f-b5be-cb9a09d2fbc1",
   "metadata": {},
   "outputs": [
    {
     "data": {
      "text/plain": [
       "{126.0}"
      ]
     },
     "execution_count": 6,
     "metadata": {},
     "output_type": "execute_result"
    }
   ],
   "source": [
    "res_ids.difference(reservoirs.RES_ID)"
   ]
  },
  {
   "cell_type": "markdown",
   "id": "9664a487-e936-45ac-8576-5d5b57f26e95",
   "metadata": {},
   "source": [
    "Eliminé ResID 126, así que hasta aquí todo bien."
   ]
  },
  {
   "cell_type": "code",
   "execution_count": 7,
   "id": "86d020f9-0d95-44d3-96ea-0f62a401458d",
   "metadata": {},
   "outputs": [
    {
     "data": {
      "text/plain": [
       "set()"
      ]
     },
     "execution_count": 7,
     "metadata": {},
     "output_type": "execute_result"
    }
   ],
   "source": [
    "# check lakes from GLWD_ID\n",
    "set(old.loc[old.GLWD_ID.notnull(), 'GLWD_ID']).difference(new.GLWD_ID)"
   ]
  },
  {
   "cell_type": "code",
   "execution_count": 33,
   "id": "d11e471a-2ebd-409b-8494-f1d49c5e5461",
   "metadata": {},
   "outputs": [
    {
     "name": "stdout",
     "output_type": "stream",
     "text": [
      "30 reservoirs are missing\n"
     ]
    }
   ],
   "source": [
    "# check lakes from HYLAK_ID\n",
    "hylak_ids = set(old.loc[old.Hylak_id.notnull(), 'Hylak_id']).difference(new.HYLAK_ID)\n",
    "print(f'{len(hylak_ids)} reservoirs are missing')"
   ]
  },
  {
   "cell_type": "markdown",
   "id": "92d69cdd-8105-42a8-8a6a-860167fe5b2a",
   "metadata": {},
   "source": [
    "¿Están en la tabla de embalses?"
   ]
  },
  {
   "cell_type": "code",
   "execution_count": 34,
   "id": "a2f8e4a9-0b53-45c3-8c0a-53d2bac5f971",
   "metadata": {},
   "outputs": [
    {
     "data": {
      "text/plain": [
       "set()"
      ]
     },
     "execution_count": 34,
     "metadata": {},
     "output_type": "execute_result"
    }
   ],
   "source": [
    "hylak_ids.difference(reservoirs.HYLAK_ID)"
   ]
  },
  {
   "cell_type": "markdown",
   "id": "9268856a-4ffb-4517-9b19-45abeafbac82",
   "metadata": {},
   "source": [
    "Todo bien hasta aquí."
   ]
  }
 ],
 "metadata": {
  "kernelspec": {
   "display_name": "Python 3 (ipykernel)",
   "language": "python",
   "name": "python3"
  },
  "language_info": {
   "codemirror_mode": {
    "name": "ipython",
    "version": 3
   },
   "file_extension": ".py",
   "mimetype": "text/x-python",
   "name": "python",
   "nbconvert_exporter": "python",
   "pygments_lexer": "ipython3",
   "version": "3.11.11"
  }
 },
 "nbformat": 4,
 "nbformat_minor": 5
}
