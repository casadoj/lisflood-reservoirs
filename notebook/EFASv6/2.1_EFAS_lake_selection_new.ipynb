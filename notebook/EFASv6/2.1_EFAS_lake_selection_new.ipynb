{
 "cells": [
  {
   "cell_type": "markdown",
   "id": "e6cab479-b290-4ab0-a8ff-30206ddaeb0a",
   "metadata": {},
   "source": [
    "# Selection of lakes - EFAS\n",
    "***\n",
    "\n",
    "**Author:** Chus Casado Rodríguez<br>\n",
    "**Date:** 12-11-2024<br>\n",
    "\n",
    "**Introduction:**<br>\n",
    "\n",
    "Before I select the lakes to be included in EFAS6, I worked with those already in EFAS5. In GIS, I found the associated polygon in [GLWD](https://www.hydrosheds.org/products/glwd) (either level 1 or 2) and, if possible, the associated in [HydroLakes](https://www.hydrosheds.org/products/hydrolakes). Even though the metadata from EFASv5 lakes is not clear (it mostly references *Burek_lakes* as the source), it seems like the vast majority of lakes were extracted from GLWD, either level 1 or 2. Only a few lakes were taken from GRanD, one from GloFAS reservoirs and another one hast no clear source. The \n",
    "\n",
    "This notebook selects lakes to be added in EFASv6. [HydroLakes](https://www.hydrosheds.org/products/hydrolakes) is used as the only dataset source, as it is the most recent and exhaustive. The code does the following:\n",
    "\n",
    "* Imports lakes and reservoirs already in EFAS.\n",
    "* Imports the HydroLake dataset and keeps only the lake or controlled lakes within the EFAS domain than comply with these rules:\n",
    "    * Lake volume of at least 10 hm3.\n",
    "    * Lake area of at least 5 km².\n",
    "    * Catchment area of at least 50 km².\n",
    "    * Degree of regulation of at least 30 days.\n",
    "* For the resulting selection of lakes, it defines the priority to be added to EFAS (1 for highest priority, 4 for lowest). It sorts the lakes in decreasing order of volume and selects the minimum number of lakes needed to reach a target percentage of the total lake storage in Europe.\n",
    "\n",
    "| % total volume | priority |\n",
    "| :------------- | :------- |\n",
    "| 80             | 1        |\n",
    "| 85             | 2        |\n",
    "| 90             | 3        |\n",
    "| 95             | 4        |\n",
    "| -              | -9999    |\n",
    "\n",
    "* Finally, it removes from the selection those lakes already included in EFAS5 either as lakes or reservoirs, and reservoirs selected to be added in EFAS6.\n",
    "\n",
    "**To do:**\n",
    "\n",
    "* [x] Find lakes in D2 selection that are not in my selection and viceversa\n",
    "* [ ] Check why lakes in EFAS are not in HydroLakes\n",
    "* [x] Remove from selection those lakes already in EFASv5\n",
    "* [ ] I haven't used at all the GLWD dataset. The reservoirs in EFASv5 were mostly source from GLWD level 1 or 2."
   ]
  },
  {
   "cell_type": "code",
   "execution_count": 3,
   "id": "452f0e19-19d2-4f53-a094-bcf297b62163",
   "metadata": {},
   "outputs": [],
   "source": [
    "import os\n",
    "os.environ['USE_PYGEOS'] = '0'\n",
    "import pandas as pd\n",
    "# import dask.dataframe as dd\n",
    "import geopandas as gpd\n",
    "import dask_geopandas as dgpd\n",
    "import numpy as np\n",
    "import xarray as xr\n",
    "import rioxarray as rxr\n",
    "import matplotlib.pyplot as plt\n",
    "%matplotlib inline\n",
    "import seaborn as sns\n",
    "import cartopy.feature as cfeature\n",
    "import cartopy.crs as ccrs\n",
    "from tqdm.notebook import tqdm\n",
    "from shapely.geometry import Point\n",
    "from pathlib import Path\n",
    "from datetime import datetime\n",
    "\n",
    "import warnings\n",
    "warnings.simplefilter(action='ignore', category=FutureWarning)\n",
    "\n",
    "from lisfloodreservoirs.utils.utils import filter_domain, filter_reservoirs, find_connections, remove_duplicates\n",
    "from lisfloodreservoirs.utils.plots import plot_reservoir_map"
   ]
  },
  {
   "cell_type": "code",
   "execution_count": 4,
   "id": "b20740c4-0422-4f6b-a6ee-52e0409a8929",
   "metadata": {},
   "outputs": [],
   "source": [
    "# def scientific_format(num):\n",
    "#     if num == 0:\n",
    "#         return '0'\n",
    "#     else:\n",
    "#         exponent = int(np.log10(abs(num)))\n",
    "#         prefix = num / 10**(exponent - 1)\n",
    "#         suffix = '⁰¹²³⁴⁵⁶⁷⁸⁹'[exponent]  # Unicode superscript digits for 0 to 9\n",
    "#         return f\"{prefix:.0f}{suffix}\""
   ]
  },
  {
   "cell_type": "markdown",
   "id": "7bcc9ddb-75dd-4700-82cc-180c012df7d3",
   "metadata": {
    "tags": []
   },
   "source": [
    "## Configuration"
   ]
  },
  {
   "cell_type": "code",
   "execution_count": 5,
   "id": "afac568f-4e85-4c5a-905c-497fa465a128",
   "metadata": {},
   "outputs": [],
   "source": [
    "# paths\n",
    "PATH_EFAS = Path('Z:/nahaUsers/casadje/EFASv5')\n",
    "PATH_DATASETS = Path('Z:/nahaUsers/casadje/datasets/')\n",
    "PATH_HYDROLAKES = PATH_DATASETS / 'lakes' / 'HydroLAKES'\n",
    "PATH_OUT = PATH_DATASETS / 'lakes' / 'EFASv6' #Path('../results/reservoirs/selection/EFAS/')\n",
    "PATH_OUT.mkdir(parents=True, exist_ok=True)\n",
    "\n",
    "# selection limits\n",
    "MIN_VOLUME = 10 # hm³\n",
    "MIN_AREA = 5 # km²\n",
    "MIN_CATCHMENT = 50 # km²\n",
    "MIN_DOR = 30 # days"
   ]
  },
  {
   "cell_type": "markdown",
   "id": "592a6be5-236f-4aca-96ed-56cdd546b773",
   "metadata": {},
   "source": [
    "## EFAS"
   ]
  },
  {
   "cell_type": "markdown",
   "id": "3b9045e8-bf45-44ca-9be4-ae9a7231a0be",
   "metadata": {},
   "source": [
    "### Static map"
   ]
  },
  {
   "cell_type": "code",
   "execution_count": 6,
   "id": "0a079622-6374-467d-ab1b-51bbbe5b0bed",
   "metadata": {},
   "outputs": [],
   "source": [
    "# load the upstream area map\n",
    "uparea = rxr.open_rasterio(PATH_EFAS / 'static_maps' / 'upArea_European_01min.nc').squeeze(dim='band')\n",
    "uparea = uparea.where(uparea != -999999, np.nan)\n",
    "\n",
    "# load the domain\n",
    "domain = rxr.open_rasterio(PATH_EFAS / 'static_maps' / 'domain_area_European_01min.nc').squeeze(dim='band')\n",
    "lon_min, lat_min, lon_max, lat_max = np.round(domain.rio.bounds(), 6)\n",
    "efas_cellsize = np.mean(np.diff(domain.x)) # degrees"
   ]
  },
  {
   "cell_type": "markdown",
   "id": "053a84c1-e58f-47ab-b596-72bc35ac5466",
   "metadata": {},
   "source": [
    "### Reservoirs"
   ]
  },
  {
   "cell_type": "code",
   "execution_count": 9,
   "id": "81190d65-7f13-4e85-8c29-68baf6a40e09",
   "metadata": {},
   "outputs": [],
   "source": [
    "# reservoirs in EFASv5\n",
    "efas_res = gpd.read_file(PATH_OUT.parent.parent / 'reservoirs' / 'EFASv6' / 'EFAS5' / 'efas5_reservoirs.shp')\n",
    "efas_res.set_index('ResID', drop=True, inplace=True)\n",
    "efas_res = efas_res[efas_res.GRAND_ID.notnull()]\n",
    "efas_res.GRAND_ID = efas_res.GRAND_ID.astype(int)"
   ]
  },
  {
   "cell_type": "code",
   "execution_count": 10,
   "id": "1f986b8b-da14-4583-bfd5-8b60bb40d4e9",
   "metadata": {},
   "outputs": [],
   "source": [
    "# reservoirs to be added in EFASv6\n",
    "grand_to_add = gpd.read_file(PATH_OUT.parent.parent / 'reservoirs' / 'EFASv6' / 'GRanD' / 'grand_to_add.shp')\n",
    "grand_to_add.set_index('GRAND_ID', drop=True, inplace=True)"
   ]
  },
  {
   "cell_type": "markdown",
   "id": "576c32b1-0e62-41c3-90e7-e44250dbf11f",
   "metadata": {},
   "source": [
    "### Lakes\n",
    "\n",
    "#### Raster"
   ]
  },
  {
   "cell_type": "code",
   "execution_count": 11,
   "id": "2d07cd98-19be-4d69-8abe-5d850d1b1824",
   "metadata": {
    "tags": []
   },
   "outputs": [
    {
     "data": {
      "application/vnd.jupyter.widget-view+json": {
       "model_id": "8a0c96046f0d40dfa9817d706963240d",
       "version_major": 2,
       "version_minor": 0
      },
      "text/plain": [
       "  0%|          | 0/204 [00:00<?, ?it/s]"
      ]
     },
     "metadata": {},
     "output_type": "display_data"
    }
   ],
   "source": [
    "efas_raster = xr.open_dataset(PATH_EFAS / 'static_maps' / 'lakes_European_01min.nc')['lakes']\n",
    "\n",
    "# remove rows/columns with all NaN\n",
    "aux = efas_raster.where(~efas_raster.isnull(), drop=True)\n",
    "# extract an array of reservoir ID\n",
    "ids = np.unique(aux)\n",
    "ids = ids[~np.isnan(ids)]\n",
    "\n",
    "# extract coordinates of each reservoir\n",
    "efas_coords = pd.DataFrame(index=ids, columns=['lon', 'lat'])\n",
    "efas_area = pd.Series(index=ids, dtype=float)\n",
    "for ID in tqdm(efas_coords.index):\n",
    "    cell = efas_raster.where(efas_raster == ID, drop=True)\n",
    "    lon, lat = cell.lon.item(), cell.lat.item()\n",
    "    efas_coords.loc[int(ID)] = lon, lat\n",
    "    efas_area.loc[int(ID)] = uparea.sel(x=lon, y=lat, method='nearest', tolerance=1e-4).item()\n",
    "efas_coords = efas_coords.round(6)\n",
    "\n",
    "# convert area to km2\n",
    "efas_area *= 1e-6\n",
    "\n",
    "del aux"
   ]
  },
  {
   "cell_type": "markdown",
   "id": "86ddfeea-4b73-43db-b946-2f9bdf499ed5",
   "metadata": {},
   "source": [
    "#### Metadata"
   ]
  },
  {
   "cell_type": "code",
   "execution_count": 76,
   "id": "22663f9a-5dfb-4262-bec5-5c9b8a128393",
   "metadata": {},
   "outputs": [
    {
     "name": "stdout",
     "output_type": "stream",
     "text": [
      "no. lakes in the metadata:\t203\n",
      "no. lakes in the raster:\t204\n",
      "lakes missing in the metadata:\t[715.0]\n",
      "lakes missing in the raster:\t[]\n"
     ]
    },
    {
     "data": {
      "image/png": "[encoded data removed]",
      "text/plain": [
       "<Figure size 2000x500 with 1 Axes>"
      ]
     },
     "metadata": {},
     "output_type": "display_data"
    }
   ],
   "source": [
    "# load EFAS5 metadata\n",
    "efas = gpd.read_file(PATH_OUT / 'efasv5_lakes.shp').set_index('LakID', drop=True)\n",
    "efas[['GLWD_ID', 'Hylak_id']] = efas[['GLWD_ID', 'Hylak_id']].astype('Int64')\n",
    "efas.drop([col for col in efas.columns if col.startswith('HYLAK')]+ ['A', 'AREA', 'AREA_KM2'], axis=1, errors='ignore', inplace=True)\n",
    "\n",
    "# # load efas metadata\n",
    "# efas = pd.read_csv(PATH_EFAS / 'tables' / 'EFAS_HRES_lakes_metadata.csv')\n",
    "# efas.LakID = efas.LakID.astype(int)\n",
    "# efas.set_index('LakID', inplace=True)\n",
    "# efas = gpd.GeoDataFrame(efas,\n",
    "#                         geometry=[Point(xy) for xy in zip(efas.LisfloodX, efas.LisfloodY)],\n",
    "#                         crs=4326)\n",
    "\n",
    "# add catchment area (km2)\n",
    "efas['CATCH_AREA'] = efas_area\n",
    "\n",
    "# add attributes from the tables used in LISFLOOD\n",
    "prefix = 'lake'\n",
    "for file in (PATH_EFAS / 'tables').glob(f'{prefix}*.txt'):\n",
    "    var = file.stem.removeprefix(prefix)\n",
    "    try:\n",
    "        df = pd.read_csv(file, sep=' ', header=None)\n",
    "        df.dropna(axis=1, how='all', inplace=True)\n",
    "        df.columns = ['LakID', var]\n",
    "        df.set_index('LakID', inplace=True, drop=True)\n",
    "        efas[var] = df\n",
    "    except:\n",
    "        print(file)\n",
    "        continue\n",
    "        \n",
    "# convert area to km2\n",
    "efas['area'] /= 1e6\n",
    "\n",
    "efas.rename(columns={'area': 'AREA_SKM', 'a': 'ALPHA'}, inplace=True)\n",
    "efas.rename(columns={col: col.upper() for col in efas.columns if col != 'geometry'},\n",
    "            inplace=True)\n",
    "\n",
    "print('no. lakes in the metadata:\\t{0}'.format(efas.shape[0]))\n",
    "print('no. lakes in the raster:\\t{0}'.format(efas_coords.shape[0]))\n",
    "print('lakes missing in the metadata:\\t{0}'.format(efas_coords.index.difference(efas.index).to_list()))\n",
    "print('lakes missing in the raster:\\t{0}'.format(efas.index.difference(efas_coords.index).to_list()))\n",
    "\n",
    "# plot lake map\n",
    "plot_reservoir_map(\n",
    "    efas.geometry,\n",
    "    efas.AREA_SKM,\n",
    "    efas.CATCH_AREA,\n",
    "    # save=PATH_OUT / 'efasv5_lakes.jpg'\n",
    ")"
   ]
  },
  {
   "cell_type": "markdown",
   "id": "77660b69-95e5-47c2-97b3-92c3f2a9e6e4",
   "metadata": {},
   "source": [
    "The lake 715 was removed manually because it was a duplication of GLWD_ID 1030."
   ]
  },
  {
   "cell_type": "markdown",
   "id": "ee1e30f7-08ee-47c0-b37c-741908dfa328",
   "metadata": {},
   "source": [
    ">***Figure 1**. Lakes included in GloFAS. The size of the dots represents the lake area.*"
   ]
  },
  {
   "cell_type": "code",
   "execution_count": null,
   "id": "163fce51-2bd1-46bd-b13b-e5548687e75d",
   "metadata": {},
   "outputs": [],
   "source": [
    "# # map of GloFAS lakes\n",
    "# fig, ax = plt.subplots(figsize=(20, 5), subplot_kw=dict(projection=ccrs.PlateCarree()))\n",
    "# ax.add_feature(cfeature.NaturalEarthFeature('physical', 'land', '110m', edgecolor='face', facecolor='lightgray'), alpha=.5, zorder=0)\n",
    "# # glofas.plot(markersize=glofas.A * .5e-2, alpha=.5, ax=ax)#, cmap='coolwarm', c=grand_dams.DOR_PC\n",
    "# scatter = ax.scatter(glofas.geometry.x, glofas.geometry.y, s=glofas.A / 1000, alpha=.5)\n",
    "# ax.text(.5, 1.125, 'GloFAS lakes', horizontalalignment='center', verticalalignment='bottom', transform=ax.transAxes, fontsize=12)\n",
    "# text = '{0} lakes\\n{1:.0f}·10³ km²'.format(glofas.shape[0], glofas.A.sum() / 1000)\n",
    "# ax.text(.5, 1.02, text, horizontalalignment='center', verticalalignment='bottom', transform=ax.transAxes)\n",
    "# ax.axis('off');\n",
    "\n",
    "# # legend\n",
    "# legend2 = ax.legend(*scatter.legend_elements(prop='sizes', num=4, alpha=.5), title='area (10³ km²)', bbox_to_anchor=[1.025, .3, .1, .4], frameon=False)\n",
    "# ax.add_artist(legend2);\n",
    "\n",
    "# # save\n",
    "# plt.savefig(f'{path_out}glofas_lakes.jpg', dpi=300, bbox_inches='tight')\n",
    "\n",
    "# print('no. lakes in GloFAS:\\t\\t{0}\\t({1} with A > {2} km²)'.format(glofas.shape[0], (glofas.A >= MIN_CATCHMENT).sum(), MIN_CATCHMENT))\n",
    "# print('total lake area in GloFAS:\\t{0:.0f} km²'.format(glofas.A.sum()))"
   ]
  },
  {
   "cell_type": "code",
   "execution_count": null,
   "id": "c8cffa0e-5a1e-4809-8afc-83ed7f7588f3",
   "metadata": {},
   "outputs": [],
   "source": [
    "# efas.to_file(PATH_OUT / 'efasv5_lakes.shp')"
   ]
  },
  {
   "cell_type": "code",
   "execution_count": 58,
   "id": "3f95e7d6-0f3e-4e7b-bcb5-b464fb745fc2",
   "metadata": {},
   "outputs": [
    {
     "name": "stdout",
     "output_type": "stream",
     "text": [
      "Area of the smallest lake:\t1.600 km²\n"
     ]
    },
    {
     "data": {
      "image/png": "[encoded data removed]",
      "text/plain": [
       "<Figure size 500x500 with 1 Axes>"
      ]
     },
     "metadata": {},
     "output_type": "display_data"
    }
   ],
   "source": [
    "# distribution of the lake area\n",
    "sns.displot(efas.AREA_SKM)\n",
    "plt.xlabel('area (km²)')\n",
    "plt.ylabel('no. lakes');\n",
    "plt.xscale('log');\n",
    "\n",
    "print('Area of the smallest lake:\\t{0:.3f} km²'.format(efas.AREA_SKM.min()))"
   ]
  },
  {
   "cell_type": "markdown",
   "id": "136d0b1c-7d37-4db9-9c09-4da88fd78743",
   "metadata": {},
   "source": [
    ">***Figure 2**. Lake surface area distribution in GloFAS.*\n",
    "\n",
    "As explained in [Zajac et al. (2017)](https://www.sciencedirect.com/science/article/pii/S0022169417301671), only lakes with a minimum area of 50 km² are included in GloFAS."
   ]
  },
  {
   "cell_type": "markdown",
   "id": "16a606f5-7683-4f7f-889a-295c43d86eec",
   "metadata": {},
   "source": [
    "## HydroLakes"
   ]
  },
  {
   "cell_type": "markdown",
   "id": "f5b735a6-b0ef-4351-b303-ff3e7e534b24",
   "metadata": {},
   "source": [
    "HydroLAKES ([Messager et al., 2016](https://www.nature.com/articles/ncomms13603)) contains more than 1.4 million points of water bodies (both lakes, controlled lakes and reservoirs). \n",
    "\n",
    "Interesting fields:\n",
    "\n",
    "* `Lake_type` indicates the type of water body:\n",
    "    * 1: lake.\n",
    "    * 2: reservoir.\n",
    "    * 3: lake control\n",
    "* `Lake_area`: surface area in km².\n",
    "* `Vol_total`: total lake/reservoir volume in hm³.\n",
    "* `Vol_res`: reported reservoir volume, or storage volume of added lake regulation (hm³)\n",
    "* `Vol_src`: source of volume data:\n",
    "    * 1: ‘Vol_total’ is the reported total lake volume from literature\n",
    "    * 2: ‘Vol_total’ is the reported total reservoir volume from GRanD or literature\n",
    "    * 3: ‘Vol_total’ is the estimated total lake volume using the geostatistical modeling approach by Messager et al. (2016)\n",
    "* `Depth_avg`: average depth in m.\n",
    "* `Dis_avg`: average long-term discharge (m3).\n",
    "* `Res_time`: average residence time in days.\n",
    "* `Wshd_area`: area of the lake's watershed in km2.\n",
    "* `Pour_long` and `Pour_lat` are the coordinates of the pour point in decimal degrees.\n",
    "* `dis_m3_pyr`: annual average natural discharge."
   ]
  },
  {
   "cell_type": "markdown",
   "id": "bbeba247-07dc-4dc9-a165-51c256ab5039",
   "metadata": {},
   "source": [
    "### Import\n",
    "\n",
    "#### Outlets"
   ]
  },
  {
   "cell_type": "markdown",
   "id": "2dbe704f-a90f-445d-95e2-ecf5b91d0e9c",
   "metadata": {},
   "source": [
    "##### All water bodies"
   ]
  },
  {
   "cell_type": "code",
   "execution_count": null,
   "id": "6dca86a7-fd75-487e-90e6-795aeffdda74",
   "metadata": {},
   "outputs": [],
   "source": [
    "# # columns to be used from HydroATLAS\n",
    "# cols = ['Hylak_id', 'Lake_name', 'Country', 'Continent', 'Poly_src', 'Lake_type', 'Grand_id', 'Lake_area',\n",
    "#         'Shore_len', 'Shore_dev', 'Vol_total', 'Vol_res', 'Vol_src', 'Depth_avg', 'Dis_avg',\n",
    "#         'Res_time', 'Elevation', 'Slope_100', 'Wshd_area', 'Pour_long', 'Pour_lat', 'dis_m3_pyr']\n",
    "\n",
    "# load HydroLAKES\n",
    "hydrolakes= dgpd.read_file(\n",
    "    PATH_HYDROLAKES / 'LakeATLAS_v10_shp' / 'LakeATLAS_v10_pnt_east.shp',\n",
    "    # columns=cols,\n",
    "    npartitions=10\n",
    ").set_index('Hylak_id', drop=True)\n",
    "\n",
    "# keep only lakes (1) and lagoons (3)\n",
    "# mask_lakes = hydrolakes.Lake_type.isin([1, 3])\n",
    "# hydrolakes = hydrolakes[mask_lakes].compute()\n",
    "\n",
    "# filter by extent\n",
    "mask_extent = (lon_min <= hydrolakes.geometry.x) &  (hydrolakes.geometry.x <= lon_max) & (lat_min <= hydrolakes.geometry.y) & (hydrolakes.geometry.y <= lat_max)\n",
    "hydrolakes = hydrolakes[mask_extent].compute()\n",
    "\n",
    "# keep points inside the domain\n",
    "pbar = tqdm(hydrolakes.iterrows(), total=hydrolakes.shape[0])\n",
    "mask_domain = [\n",
    "    ID for ID, point in pbar\n",
    "    if domain.sel(x=point.geometry.x, y=point.geometry.y, method='nearest').item() == 1\n",
    "]\n",
    "hydrolakes = hydrolakes.loc[mask_domain]\n",
    "\n",
    "# total lake volume in the domain\n",
    "mask_lakes = hydrolakes.Lake_type.isin([1, 3])\n",
    "total_lake_volume = hydrolakes[mask_lakes].Vol_total.sum()\n",
    "print('total lake volume = {0:.0f} km3'.format(total_lake_volume * 1e-3))"
   ]
  },
  {
   "cell_type": "markdown",
   "id": "9dfd24e6-9bbb-4628-8164-2b53785ab861",
   "metadata": {},
   "source": [
    "##### Selection of lakes"
   ]
  },
  {
   "cell_type": "code",
   "execution_count": 178,
   "id": "5dcd1cd5-6a42-4fbc-9db9-749dcf15574f",
   "metadata": {},
   "outputs": [],
   "source": [
    "hylak_pnt_shp = PATH_OUT / 'hydrolakes_pnt.shp'\n",
    "if hylak_pnt_shp.is_file():\n",
    "    # import hydrolake points within the domain\n",
    "    E1 = gpd.read_file(hylak_pnt_shp).set_index('Hylak_id', drop=True)\n",
    "    print('{0:>5} lakes ({1:.0f} km3) comply with the catchment, volume and area rules'.format(\n",
    "        E1.shape[0],\n",
    "        E1.Vol_total.sum() * 1e-3,\n",
    "    ))\n",
    "else:\n",
    "    mask_catchment = hydrolakes.Wshd_area >= MIN_CATCHMENT\n",
    "    print('{0:>5} lakes ({1:.0f} km3) have a catchment larger than {2} km2'.format(\n",
    "        mask_catchment.sum(),\n",
    "        hydrolakes[mask_lakes & mask_catchment].Vol_total.sum() * 1e-3,\n",
    "        MIN_CATCHMENT\n",
    "    ))\n",
    "    \n",
    "    mask_volume = hydrolakes.Vol_total >= MIN_VOLUME\n",
    "    print('{0:>5} lakes ({1:.0f} km3) have a volume larger than {2} hm3'.format(\n",
    "        mask_volume.sum(),\n",
    "        hydrolakes[mask_lakes & mask_volume].Vol_total.sum() * 1e-3,\n",
    "        MIN_VOLUME\n",
    "    ))\n",
    "\n",
    "    mask_residence = hydrolakes.Res_time >= MIN_DOR\n",
    "    print('{0:>5} lakes ({1:.0f} km3) have a residence time larger than {2} days'.format(\n",
    "        mask_residence.sum(),\n",
    "        hydrolakes[mask_lakes & mask_residence].Vol_total.sum() * 1e-3,\n",
    "        MIN_DOR\n",
    "    ))\n",
    "\n",
    "    mask_area = hydrolakes.Lake_area >= MIN_AREA\n",
    "    print('{0:>5} lakes ({1:.0f} km3) have a surface area larger than {2} km2'.format(\n",
    "        mask_area.sum(),\n",
    "        hydrolakes[mask_lakes & mask_area].Vol_total.sum() * 1e-3,\n",
    "        MIN_AREA\n",
    "    ))\n",
    "\n",
    "    mask_cvr = mask_lakes & mask_volume & mask_residence & mask_catchment\n",
    "    print('{0:>5} lakes ({1:.0f} km3) comply with the catchment, volume and residence time rules'.format(\n",
    "        mask_cvr.sum(),\n",
    "        hydrolakes[mask_cvr].Vol_total.sum() * 1e-3,\n",
    "    ))\n",
    "\n",
    "    mask_cvra = mask_lakes & mask_volume & mask_catchment & mask_area\n",
    "    print('{0:>5} lakes ({1:.0f} km3) comply with the catchment, volume, and area rules'.format(\n",
    "        mask_cvra.sum(),\n",
    "        hydrolakes[mask_cvra].Vol_total.sum() * 1e-3,\n",
    "    ))\n",
    "    \n",
    "    # selection of lakes and accumulated volume\n",
    "    E1 = hydrolakes[mask_cvra].copy()\n",
    "\n",
    "    # export selection of points\n",
    "    E1.to_file(hylak_pnt_shp)"
   ]
  },
  {
   "cell_type": "markdown",
   "id": "8dfd088f-eaaf-4eb7-9b00-880ac88fdd1c",
   "metadata": {},
   "source": [
    "##### D2 selection"
   ]
  },
  {
   "cell_type": "code",
   "execution_count": 67,
   "id": "4c53bff0-aff9-4164-90ab-2605e43583f4",
   "metadata": {},
   "outputs": [
    {
     "name": "stdout",
     "output_type": "stream",
     "text": [
      "2190 were selected by Alberto\n",
      "2189 lakes (3299 km3) have a catchment larger than 50 km2\n",
      "2190 lakes (3299 km3) have a volume larger than 10 hm3\n",
      "2190 lakes (3299 km3) have a residence time larger than 30 days\n",
      "1316 lakes (3274 km3) have a surface area larger than 5 km2\n",
      "1316 lakes (3274 km3) comply with all the rules above\n"
     ]
    }
   ],
   "source": [
    "# selection of lakes whose polygon overlays the LISFLOOD river network\n",
    "sel1 = gpd.read_file(PATH_OUT / 'pistoal' / 'EFASselectedLakepoints.shp')\n",
    "sel1.set_index('Hylak_id', drop=True, inplace=True)\n",
    "\n",
    "# selection of lakes whose outlet overlays the LISFLOOD river network\n",
    "sel2 = gpd.read_file(PATH_OUT / 'pistoal' / 'EFASselectedOutlets.shp')\n",
    "sel2.set_index('HyLak_Id', drop=True, inplace=True)\n",
    "sel2.index.name = sel1.index.name\n",
    "sel2.index = sel2.index.astype(int)\n",
    "\n",
    "# merge the two sets and confirm they are in the EFAS domain\n",
    "hylak_ids = list(sel1.index.union(sel2.index).intersection(hydrolakes.index))\n",
    "D2 = hydrolakes.loc[hydrolakes.index.intersection(hylak_ids)]\n",
    "print(f'{len(hylak_ids)} were selected by Alberto')\n",
    "\n",
    "del sel1, sel2\n",
    "\n",
    "mask_catchment = D2.Wshd_area >= MIN_CATCHMENT\n",
    "print('{0} lakes ({1:.0f} km3) have a catchment larger than {2} km2'.format(\n",
    "    mask_catchment.sum(),\n",
    "    D2[mask_catchment].Vol_total.sum() * 1e-3,\n",
    "    MIN_CATCHMENT\n",
    "))\n",
    "\n",
    "mask_volume = D2.Vol_total >= MIN_VOLUME\n",
    "print('{0} lakes ({1:.0f} km3) have a volume larger than {2} hm3'.format(\n",
    "    mask_volume.sum(),\n",
    "    D2[mask_volume].Vol_total.sum() * 1e-3,\n",
    "    MIN_VOLUME\n",
    "))\n",
    "\n",
    "mask_residence = D2.Res_time >= MIN_DOR\n",
    "print('{0} lakes ({1:.0f} km3) have a residence time larger than {2} days'.format(\n",
    "    mask_residence.sum(),\n",
    "    D2[mask_residence].Vol_total.sum() * 1e-3,\n",
    "    MIN_DOR\n",
    "))\n",
    "\n",
    "mask_area = D2.Lake_area >= MIN_AREA\n",
    "print('{0} lakes ({1:.0f} km3) have a surface area larger than {2} km2'.format(\n",
    "    mask_area.sum(),\n",
    "    D2[mask_area].Vol_total.sum() * 1e-3,\n",
    "    MIN_AREA\n",
    "))\n",
    "\n",
    "mask_all = mask_area & mask_volume & mask_residence & mask_catchment\n",
    "print('{0} lakes ({1:.0f} km3) comply with all the rules above'.format(\n",
    "    mask_all.sum(),\n",
    "    D2[mask_all].Vol_total.sum() * 1e-3\n",
    "))"
   ]
  },
  {
   "cell_type": "markdown",
   "id": "6276ba33-9a26-446b-bc6a-66e564d5c0b0",
   "metadata": {},
   "source": [
    "Below I create two shapefiles to analyse the differences between the E1 and D2 selections."
   ]
  },
  {
   "cell_type": "code",
   "execution_count": 167,
   "id": "c6a0c7a8-a968-4712-9212-dfbc7b49c77b",
   "metadata": {},
   "outputs": [
    {
     "name": "stdout",
     "output_type": "stream",
     "text": [
      "874 reservoirs in D2 were not selected in E1\n"
     ]
    }
   ],
   "source": [
    "# export lakes from D2 selection not in E1 selection\n",
    "ids_diff = D2.index.difference(E1.index)\n",
    "print(f'{len(ids_diff)} reservoirs in D2 were not selected in E1')\n",
    "hydrolakes.loc[ids_diff].to_file(PATH_OUT / 'D2_removed.shp')"
   ]
  },
  {
   "cell_type": "code",
   "execution_count": 168,
   "id": "1f85babb-0bad-41a4-84f5-1c98ee51aa5a",
   "metadata": {},
   "outputs": [
    {
     "name": "stdout",
     "output_type": "stream",
     "text": [
      "1807 reservoirs in E1 were not selected in D2\n"
     ]
    }
   ],
   "source": [
    "# export lakes from E1 selection not in D2 selection\n",
    "ids_diff = E1.index.difference(D2.index)\n",
    "print(f'{len(ids_diff)} reservoirs in E1 were not selected in D2')\n",
    "hydrolakes.loc[ids_diff].to_file(PATH_OUT / 'E1_removed.shp')"
   ]
  },
  {
   "cell_type": "markdown",
   "id": "231c9e1f-7bb1-4694-a302-f52b17a345ba",
   "metadata": {},
   "source": [
    "#### Polygons"
   ]
  },
  {
   "cell_type": "code",
   "execution_count": 143,
   "id": "77cc01a2-0992-4289-86a2-20491d32ceb9",
   "metadata": {
    "collapsed": true,
    "jupyter": {
     "outputs_hidden": true
    },
    "tags": []
   },
   "outputs": [
    {
     "ename": "MemoryError",
     "evalue": "Unable to allocate 796. KiB for an array with shape (101897,) and data type uint64",
     "output_type": "error",
     "traceback": [
      "\u001b[1;31m---------------------------------------------------------------------------\u001b[0m",
      "\u001b[1;31mMemoryError\u001b[0m                               Traceback (most recent call last)",
      "Cell \u001b[1;32mIn [143], line 5\u001b[0m\n\u001b[0;32m      1\u001b[0m hylak_pol_shp \u001b[38;5;241m=\u001b[39m PATH_OUT \u001b[38;5;241m/\u001b[39m \u001b[38;5;124m'\u001b[39m\u001b[38;5;124mhydrolakes_pol.shp\u001b[39m\u001b[38;5;124m'\u001b[39m\n\u001b[0;32m      2\u001b[0m \u001b[38;5;28;01mif\u001b[39;00m hylak_pnt_shp\u001b[38;5;241m.\u001b[39mis_file():\n\u001b[0;32m      3\u001b[0m     \n\u001b[0;32m      4\u001b[0m     \u001b[38;5;66;03m# import hydrolake polygons within the domain\u001b[39;00m\n\u001b[1;32m----> 5\u001b[0m     hydrolakes_pol \u001b[38;5;241m=\u001b[39m \u001b[43mgpd\u001b[49m\u001b[38;5;241;43m.\u001b[39;49m\u001b[43mread_file\u001b[49m\u001b[43m(\u001b[49m\u001b[43mhylak_pol_shp\u001b[49m\u001b[43m)\u001b[49m\u001b[38;5;241m.\u001b[39mset_index(\u001b[38;5;124m'\u001b[39m\u001b[38;5;124mHylak_id\u001b[39m\u001b[38;5;124m'\u001b[39m, drop\u001b[38;5;241m=\u001b[39m\u001b[38;5;28;01mTrue\u001b[39;00m)\n\u001b[0;32m      7\u001b[0m \u001b[38;5;28;01melse\u001b[39;00m:\n\u001b[0;32m      8\u001b[0m \n\u001b[0;32m      9\u001b[0m     \u001b[38;5;66;03m# load HydroLakes polygons\u001b[39;00m\n\u001b[0;32m     10\u001b[0m     hydrolakes_pol \u001b[38;5;241m=\u001b[39m dgpd\u001b[38;5;241m.\u001b[39mread_file(\n\u001b[0;32m     11\u001b[0m         PATH_HYDROLAKES \u001b[38;5;241m/\u001b[39m \u001b[38;5;124m'\u001b[39m\u001b[38;5;124mLakeATLAS_v10_shp\u001b[39m\u001b[38;5;124m'\u001b[39m \u001b[38;5;241m/\u001b[39m \u001b[38;5;124m'\u001b[39m\u001b[38;5;124mLakeATLAS_v10_pol_east.shp\u001b[39m\u001b[38;5;124m'\u001b[39m,\n\u001b[0;32m     12\u001b[0m         \u001b[38;5;66;03m# columns=cols,\u001b[39;00m\n\u001b[0;32m     13\u001b[0m         npartitions\u001b[38;5;241m=\u001b[39m\u001b[38;5;241m20\u001b[39m\n\u001b[0;32m     14\u001b[0m     )\n",
      "File \u001b[1;32mC:\\DEV\\Anaconda3\\envs\\xr\\lib\\site-packages\\geopandas\\io\\file.py:259\u001b[0m, in \u001b[0;36m_read_file\u001b[1;34m(filename, bbox, mask, rows, engine, **kwargs)\u001b[0m\n\u001b[0;32m    256\u001b[0m     path_or_bytes \u001b[38;5;241m=\u001b[39m filename\n\u001b[0;32m    258\u001b[0m \u001b[38;5;28;01mif\u001b[39;00m engine \u001b[38;5;241m==\u001b[39m \u001b[38;5;124m\"\u001b[39m\u001b[38;5;124mfiona\u001b[39m\u001b[38;5;124m\"\u001b[39m:\n\u001b[1;32m--> 259\u001b[0m     \u001b[38;5;28;01mreturn\u001b[39;00m _read_file_fiona(\n\u001b[0;32m    260\u001b[0m         path_or_bytes, from_bytes, bbox\u001b[38;5;241m=\u001b[39mbbox, mask\u001b[38;5;241m=\u001b[39mmask, rows\u001b[38;5;241m=\u001b[39mrows, \u001b[38;5;241m*\u001b[39m\u001b[38;5;241m*\u001b[39mkwargs\n\u001b[0;32m    261\u001b[0m     )\n\u001b[0;32m    262\u001b[0m \u001b[38;5;28;01melif\u001b[39;00m engine \u001b[38;5;241m==\u001b[39m \u001b[38;5;124m\"\u001b[39m\u001b[38;5;124mpyogrio\u001b[39m\u001b[38;5;124m\"\u001b[39m:\n\u001b[0;32m    263\u001b[0m     \u001b[38;5;28;01mreturn\u001b[39;00m _read_file_pyogrio(\n\u001b[0;32m    264\u001b[0m         path_or_bytes, bbox\u001b[38;5;241m=\u001b[39mbbox, mask\u001b[38;5;241m=\u001b[39mmask, rows\u001b[38;5;241m=\u001b[39mrows, \u001b[38;5;241m*\u001b[39m\u001b[38;5;241m*\u001b[39mkwargs\n\u001b[0;32m    265\u001b[0m     )\n",
      "File \u001b[1;32mC:\\DEV\\Anaconda3\\envs\\xr\\lib\\site-packages\\geopandas\\io\\file.py:360\u001b[0m, in \u001b[0;36m_read_file_fiona\u001b[1;34m(path_or_bytes, from_bytes, bbox, mask, rows, where, **kwargs)\u001b[0m\n\u001b[0;32m    356\u001b[0m     df \u001b[38;5;241m=\u001b[39m pd\u001b[38;5;241m.\u001b[39mDataFrame(\n\u001b[0;32m    357\u001b[0m         [record[\u001b[38;5;124m\"\u001b[39m\u001b[38;5;124mproperties\u001b[39m\u001b[38;5;124m\"\u001b[39m] \u001b[38;5;28;01mfor\u001b[39;00m record \u001b[38;5;129;01min\u001b[39;00m f_filt], columns\u001b[38;5;241m=\u001b[39mcolumns\n\u001b[0;32m    358\u001b[0m     )\n\u001b[0;32m    359\u001b[0m \u001b[38;5;28;01melse\u001b[39;00m:\n\u001b[1;32m--> 360\u001b[0m     df \u001b[38;5;241m=\u001b[39m \u001b[43mGeoDataFrame\u001b[49m\u001b[38;5;241;43m.\u001b[39;49m\u001b[43mfrom_features\u001b[49m\u001b[43m(\u001b[49m\n\u001b[0;32m    361\u001b[0m \u001b[43m        \u001b[49m\u001b[43mf_filt\u001b[49m\u001b[43m,\u001b[49m\u001b[43m \u001b[49m\u001b[43mcrs\u001b[49m\u001b[38;5;241;43m=\u001b[39;49m\u001b[43mcrs\u001b[49m\u001b[43m,\u001b[49m\u001b[43m \u001b[49m\u001b[43mcolumns\u001b[49m\u001b[38;5;241;43m=\u001b[39;49m\u001b[43mcolumns\u001b[49m\u001b[43m \u001b[49m\u001b[38;5;241;43m+\u001b[39;49m\u001b[43m \u001b[49m\u001b[43m[\u001b[49m\u001b[38;5;124;43m\"\u001b[39;49m\u001b[38;5;124;43mgeometry\u001b[39;49m\u001b[38;5;124;43m\"\u001b[39;49m\u001b[43m]\u001b[49m\n\u001b[0;32m    362\u001b[0m \u001b[43m    \u001b[49m\u001b[43m)\u001b[49m\n\u001b[0;32m    363\u001b[0m \u001b[38;5;28;01mfor\u001b[39;00m k \u001b[38;5;129;01min\u001b[39;00m datetime_fields:\n\u001b[0;32m    364\u001b[0m     as_dt \u001b[38;5;241m=\u001b[39m pd\u001b[38;5;241m.\u001b[39mto_datetime(df[k], errors\u001b[38;5;241m=\u001b[39m\u001b[38;5;124m\"\u001b[39m\u001b[38;5;124mignore\u001b[39m\u001b[38;5;124m\"\u001b[39m)\n",
      "File \u001b[1;32mC:\\DEV\\Anaconda3\\envs\\xr\\lib\\site-packages\\geopandas\\geodataframe.py:643\u001b[0m, in \u001b[0;36mGeoDataFrame.from_features\u001b[1;34m(cls, features, crs, columns)\u001b[0m\n\u001b[0;32m    641\u001b[0m     row\u001b[38;5;241m.\u001b[39mupdate(properties)\n\u001b[0;32m    642\u001b[0m     rows\u001b[38;5;241m.\u001b[39mappend(row)\n\u001b[1;32m--> 643\u001b[0m \u001b[38;5;28;01mreturn\u001b[39;00m \u001b[38;5;28;43mcls\u001b[39;49m\u001b[43m(\u001b[49m\u001b[43mrows\u001b[49m\u001b[43m,\u001b[49m\u001b[43m \u001b[49m\u001b[43mcolumns\u001b[49m\u001b[38;5;241;43m=\u001b[39;49m\u001b[43mcolumns\u001b[49m\u001b[43m,\u001b[49m\u001b[43m \u001b[49m\u001b[43mcrs\u001b[49m\u001b[38;5;241;43m=\u001b[39;49m\u001b[43mcrs\u001b[49m\u001b[43m)\u001b[49m\n",
      "File \u001b[1;32mC:\\DEV\\Anaconda3\\envs\\xr\\lib\\site-packages\\geopandas\\geodataframe.py:135\u001b[0m, in \u001b[0;36mGeoDataFrame.__init__\u001b[1;34m(self, data, geometry, crs, *args, **kwargs)\u001b[0m\n\u001b[0;32m    133\u001b[0m \u001b[38;5;28;01mdef\u001b[39;00m \u001b[38;5;21m__init__\u001b[39m(\u001b[38;5;28mself\u001b[39m, data\u001b[38;5;241m=\u001b[39m\u001b[38;5;28;01mNone\u001b[39;00m, \u001b[38;5;241m*\u001b[39margs, geometry\u001b[38;5;241m=\u001b[39m\u001b[38;5;28;01mNone\u001b[39;00m, crs\u001b[38;5;241m=\u001b[39m\u001b[38;5;28;01mNone\u001b[39;00m, \u001b[38;5;241m*\u001b[39m\u001b[38;5;241m*\u001b[39mkwargs):\n\u001b[0;32m    134\u001b[0m     \u001b[38;5;28;01mwith\u001b[39;00m compat\u001b[38;5;241m.\u001b[39mignore_shapely2_warnings():\n\u001b[1;32m--> 135\u001b[0m         \u001b[38;5;28msuper\u001b[39m()\u001b[38;5;241m.\u001b[39m\u001b[38;5;21m__init__\u001b[39m(data, \u001b[38;5;241m*\u001b[39margs, \u001b[38;5;241m*\u001b[39m\u001b[38;5;241m*\u001b[39mkwargs)\n\u001b[0;32m    137\u001b[0m     \u001b[38;5;66;03m# set_geometry ensures the geometry data have the proper dtype,\u001b[39;00m\n\u001b[0;32m    138\u001b[0m     \u001b[38;5;66;03m# but is not called if `geometry=None` ('geometry' column present\u001b[39;00m\n\u001b[0;32m    139\u001b[0m     \u001b[38;5;66;03m# in the data), so therefore need to ensure it here manually\u001b[39;00m\n\u001b[1;32m   (...)\u001b[0m\n\u001b[0;32m    143\u001b[0m \n\u001b[0;32m    144\u001b[0m     \u001b[38;5;66;03m# if gdf passed in and geo_col is set, we use that for geometry\u001b[39;00m\n\u001b[0;32m    145\u001b[0m     \u001b[38;5;28;01mif\u001b[39;00m geometry \u001b[38;5;129;01mis\u001b[39;00m \u001b[38;5;28;01mNone\u001b[39;00m \u001b[38;5;129;01mand\u001b[39;00m \u001b[38;5;28misinstance\u001b[39m(data, GeoDataFrame):\n",
      "File \u001b[1;32mC:\\DEV\\Anaconda3\\envs\\xr\\lib\\site-packages\\pandas\\core\\frame.py:721\u001b[0m, in \u001b[0;36mDataFrame.__init__\u001b[1;34m(self, data, index, columns, dtype, copy)\u001b[0m\n\u001b[0;32m    716\u001b[0m     \u001b[38;5;28;01mif\u001b[39;00m columns \u001b[38;5;129;01mis\u001b[39;00m \u001b[38;5;129;01mnot\u001b[39;00m \u001b[38;5;28;01mNone\u001b[39;00m:\n\u001b[0;32m    717\u001b[0m         \u001b[38;5;66;03m# error: Argument 1 to \"ensure_index\" has incompatible type\u001b[39;00m\n\u001b[0;32m    718\u001b[0m         \u001b[38;5;66;03m# \"Collection[Any]\"; expected \"Union[Union[Union[ExtensionArray,\u001b[39;00m\n\u001b[0;32m    719\u001b[0m         \u001b[38;5;66;03m# ndarray], Index, Series], Sequence[Any]]\"\u001b[39;00m\n\u001b[0;32m    720\u001b[0m         columns \u001b[38;5;241m=\u001b[39m ensure_index(columns)  \u001b[38;5;66;03m# type: ignore[arg-type]\u001b[39;00m\n\u001b[1;32m--> 721\u001b[0m     arrays, columns, index \u001b[38;5;241m=\u001b[39m \u001b[43mnested_data_to_arrays\u001b[49m\u001b[43m(\u001b[49m\n\u001b[0;32m    722\u001b[0m \u001b[43m        \u001b[49m\u001b[38;5;66;43;03m# error: Argument 3 to \"nested_data_to_arrays\" has incompatible\u001b[39;49;00m\n\u001b[0;32m    723\u001b[0m \u001b[43m        \u001b[49m\u001b[38;5;66;43;03m# type \"Optional[Collection[Any]]\"; expected \"Optional[Index]\"\u001b[39;49;00m\n\u001b[0;32m    724\u001b[0m \u001b[43m        \u001b[49m\u001b[43mdata\u001b[49m\u001b[43m,\u001b[49m\n\u001b[0;32m    725\u001b[0m \u001b[43m        \u001b[49m\u001b[43mcolumns\u001b[49m\u001b[43m,\u001b[49m\n\u001b[0;32m    726\u001b[0m \u001b[43m        \u001b[49m\u001b[43mindex\u001b[49m\u001b[43m,\u001b[49m\u001b[43m  \u001b[49m\u001b[38;5;66;43;03m# type: ignore[arg-type]\u001b[39;49;00m\n\u001b[0;32m    727\u001b[0m \u001b[43m        \u001b[49m\u001b[43mdtype\u001b[49m\u001b[43m,\u001b[49m\n\u001b[0;32m    728\u001b[0m \u001b[43m    \u001b[49m\u001b[43m)\u001b[49m\n\u001b[0;32m    729\u001b[0m     mgr \u001b[38;5;241m=\u001b[39m arrays_to_mgr(\n\u001b[0;32m    730\u001b[0m         arrays,\n\u001b[0;32m    731\u001b[0m         columns,\n\u001b[1;32m   (...)\u001b[0m\n\u001b[0;32m    734\u001b[0m         typ\u001b[38;5;241m=\u001b[39mmanager,\n\u001b[0;32m    735\u001b[0m     )\n\u001b[0;32m    736\u001b[0m \u001b[38;5;28;01melse\u001b[39;00m:\n",
      "File \u001b[1;32mC:\\DEV\\Anaconda3\\envs\\xr\\lib\\site-packages\\pandas\\core\\internals\\construction.py:519\u001b[0m, in \u001b[0;36mnested_data_to_arrays\u001b[1;34m(data, columns, index, dtype)\u001b[0m\n\u001b[0;32m    516\u001b[0m \u001b[38;5;28;01mif\u001b[39;00m is_named_tuple(data[\u001b[38;5;241m0\u001b[39m]) \u001b[38;5;129;01mand\u001b[39;00m columns \u001b[38;5;129;01mis\u001b[39;00m \u001b[38;5;28;01mNone\u001b[39;00m:\n\u001b[0;32m    517\u001b[0m     columns \u001b[38;5;241m=\u001b[39m ensure_index(data[\u001b[38;5;241m0\u001b[39m]\u001b[38;5;241m.\u001b[39m_fields)\n\u001b[1;32m--> 519\u001b[0m arrays, columns \u001b[38;5;241m=\u001b[39m \u001b[43mto_arrays\u001b[49m\u001b[43m(\u001b[49m\u001b[43mdata\u001b[49m\u001b[43m,\u001b[49m\u001b[43m \u001b[49m\u001b[43mcolumns\u001b[49m\u001b[43m,\u001b[49m\u001b[43m \u001b[49m\u001b[43mdtype\u001b[49m\u001b[38;5;241;43m=\u001b[39;49m\u001b[43mdtype\u001b[49m\u001b[43m)\u001b[49m\n\u001b[0;32m    520\u001b[0m columns \u001b[38;5;241m=\u001b[39m ensure_index(columns)\n\u001b[0;32m    522\u001b[0m \u001b[38;5;28;01mif\u001b[39;00m index \u001b[38;5;129;01mis\u001b[39;00m \u001b[38;5;28;01mNone\u001b[39;00m:\n",
      "File \u001b[1;32mC:\\DEV\\Anaconda3\\envs\\xr\\lib\\site-packages\\pandas\\core\\internals\\construction.py:883\u001b[0m, in \u001b[0;36mto_arrays\u001b[1;34m(data, columns, dtype)\u001b[0m\n\u001b[0;32m    880\u001b[0m     data \u001b[38;5;241m=\u001b[39m [\u001b[38;5;28mtuple\u001b[39m(x) \u001b[38;5;28;01mfor\u001b[39;00m x \u001b[38;5;129;01min\u001b[39;00m data]\n\u001b[0;32m    881\u001b[0m     arr \u001b[38;5;241m=\u001b[39m _list_to_arrays(data)\n\u001b[1;32m--> 883\u001b[0m content, columns \u001b[38;5;241m=\u001b[39m \u001b[43m_finalize_columns_and_data\u001b[49m\u001b[43m(\u001b[49m\u001b[43marr\u001b[49m\u001b[43m,\u001b[49m\u001b[43m \u001b[49m\u001b[43mcolumns\u001b[49m\u001b[43m,\u001b[49m\u001b[43m \u001b[49m\u001b[43mdtype\u001b[49m\u001b[43m)\u001b[49m\n\u001b[0;32m    884\u001b[0m \u001b[38;5;28;01mreturn\u001b[39;00m content, columns\n",
      "File \u001b[1;32mC:\\DEV\\Anaconda3\\envs\\xr\\lib\\site-packages\\pandas\\core\\internals\\construction.py:988\u001b[0m, in \u001b[0;36m_finalize_columns_and_data\u001b[1;34m(content, columns, dtype)\u001b[0m\n\u001b[0;32m    985\u001b[0m     \u001b[38;5;28;01mraise\u001b[39;00m \u001b[38;5;167;01mValueError\u001b[39;00m(err) \u001b[38;5;28;01mfrom\u001b[39;00m \u001b[38;5;21;01merr\u001b[39;00m\n\u001b[0;32m    987\u001b[0m \u001b[38;5;28;01mif\u001b[39;00m \u001b[38;5;28mlen\u001b[39m(contents) \u001b[38;5;129;01mand\u001b[39;00m contents[\u001b[38;5;241m0\u001b[39m]\u001b[38;5;241m.\u001b[39mdtype \u001b[38;5;241m==\u001b[39m np\u001b[38;5;241m.\u001b[39mobject_:\n\u001b[1;32m--> 988\u001b[0m     contents \u001b[38;5;241m=\u001b[39m \u001b[43m_convert_object_array\u001b[49m\u001b[43m(\u001b[49m\u001b[43mcontents\u001b[49m\u001b[43m,\u001b[49m\u001b[43m \u001b[49m\u001b[43mdtype\u001b[49m\u001b[38;5;241;43m=\u001b[39;49m\u001b[43mdtype\u001b[49m\u001b[43m)\u001b[49m\n\u001b[0;32m    990\u001b[0m \u001b[38;5;28;01mreturn\u001b[39;00m contents, columns\n",
      "File \u001b[1;32mC:\\DEV\\Anaconda3\\envs\\xr\\lib\\site-packages\\pandas\\core\\internals\\construction.py:1073\u001b[0m, in \u001b[0;36m_convert_object_array\u001b[1;34m(content, dtype)\u001b[0m\n\u001b[0;32m   1070\u001b[0m         arr \u001b[38;5;241m=\u001b[39m maybe_cast_to_datetime(arr, dtype)\n\u001b[0;32m   1071\u001b[0m     \u001b[38;5;28;01mreturn\u001b[39;00m arr\n\u001b[1;32m-> 1073\u001b[0m arrays \u001b[38;5;241m=\u001b[39m [convert(arr) \u001b[38;5;28;01mfor\u001b[39;00m arr \u001b[38;5;129;01min\u001b[39;00m content]\n\u001b[0;32m   1075\u001b[0m \u001b[38;5;28;01mreturn\u001b[39;00m arrays\n",
      "File \u001b[1;32mC:\\DEV\\Anaconda3\\envs\\xr\\lib\\site-packages\\pandas\\core\\internals\\construction.py:1073\u001b[0m, in \u001b[0;36m<listcomp>\u001b[1;34m(.0)\u001b[0m\n\u001b[0;32m   1070\u001b[0m         arr \u001b[38;5;241m=\u001b[39m maybe_cast_to_datetime(arr, dtype)\n\u001b[0;32m   1071\u001b[0m     \u001b[38;5;28;01mreturn\u001b[39;00m arr\n\u001b[1;32m-> 1073\u001b[0m arrays \u001b[38;5;241m=\u001b[39m [\u001b[43mconvert\u001b[49m\u001b[43m(\u001b[49m\u001b[43marr\u001b[49m\u001b[43m)\u001b[49m \u001b[38;5;28;01mfor\u001b[39;00m arr \u001b[38;5;129;01min\u001b[39;00m content]\n\u001b[0;32m   1075\u001b[0m \u001b[38;5;28;01mreturn\u001b[39;00m arrays\n",
      "File \u001b[1;32mC:\\DEV\\Anaconda3\\envs\\xr\\lib\\site-packages\\pandas\\core\\internals\\construction.py:1069\u001b[0m, in \u001b[0;36m_convert_object_array.<locals>.convert\u001b[1;34m(arr)\u001b[0m\n\u001b[0;32m   1067\u001b[0m \u001b[38;5;28;01mdef\u001b[39;00m \u001b[38;5;21mconvert\u001b[39m(arr):\n\u001b[0;32m   1068\u001b[0m     \u001b[38;5;28;01mif\u001b[39;00m dtype \u001b[38;5;241m!=\u001b[39m np\u001b[38;5;241m.\u001b[39mdtype(\u001b[38;5;124m\"\u001b[39m\u001b[38;5;124mO\u001b[39m\u001b[38;5;124m\"\u001b[39m):\n\u001b[1;32m-> 1069\u001b[0m         arr \u001b[38;5;241m=\u001b[39m \u001b[43mlib\u001b[49m\u001b[38;5;241;43m.\u001b[39;49m\u001b[43mmaybe_convert_objects\u001b[49m\u001b[43m(\u001b[49m\u001b[43marr\u001b[49m\u001b[43m)\u001b[49m\n\u001b[0;32m   1070\u001b[0m         arr \u001b[38;5;241m=\u001b[39m maybe_cast_to_datetime(arr, dtype)\n\u001b[0;32m   1071\u001b[0m     \u001b[38;5;28;01mreturn\u001b[39;00m arr\n",
      "File \u001b[1;32mC:\\DEV\\Anaconda3\\envs\\xr\\lib\\site-packages\\pandas\\_libs\\lib.pyx:2459\u001b[0m, in \u001b[0;36mpandas._libs.lib.maybe_convert_objects\u001b[1;34m()\u001b[0m\n",
      "\u001b[1;31mMemoryError\u001b[0m: Unable to allocate 796. KiB for an array with shape (101897,) and data type uint64"
     ]
    }
   ],
   "source": [
    "hylak_pol_shp = PATH_OUT / 'hydrolakes_pol.shp'\n",
    "if hylak_pnt_shp.is_file():\n",
    "    \n",
    "    # import hydrolake polygons within the domain\n",
    "    hydrolakes_pol = gpd.read_file(hylak_pol_shp).set_index('Hylak_id', drop=True)\n",
    "    \n",
    "else:\n",
    "\n",
    "    # load HydroLakes polygons\n",
    "    hydrolakes_pol = dgpd.read_file(\n",
    "        PATH_HYDROLAKES / 'LakeATLAS_v10_shp' / 'LakeATLAS_v10_pol_east.shp',\n",
    "        # columns=cols,\n",
    "        npartitions=20\n",
    "    )\n",
    "    \n",
    "    # apply selection of points\n",
    "    mask = hydrolakes_pol.Hylak_id.isin(hydrolakes.index.tolist())\n",
    "    hydrolakes_pol = hydrolakes_pol[mask].compute()\n",
    "\n",
    "    # export selection of polygons\n",
    "    hydrolakes_pol.to_file(hylak_pol_shp)"
   ]
  },
  {
   "cell_type": "markdown",
   "id": "09dedb5c-6c7d-40d9-88e9-ecd658fb68fd",
   "metadata": {},
   "source": [
    "### Connect EFAS with HydroLakes\n",
    "\n",
    "In the following snippet I search for the `Hylak_id` associated to each lake in EFASv5. After the automatic search, I filled in in GIS the `Hylak_id` for some lakes that the tool could not find. That's why now I load a shapefile, because it includes the manually corrected IDs.\n",
    "\n",
    "```Python\n",
    "# find Hylak_id for EFASv5 lakes\n",
    "map_efas_hylak = find_connections(efas, hydrolakes, max_distance=5 * efas_cellsize)\n",
    "print('{0} out of {1} EFAS lakes were located in HydroLakes'.format(len(map_efas_hylak), efas.shape[0]))\n",
    "efas['Hylak_id'] = [map_efas_hylak[ID] if ID in map_efas_hylak else -9999 for ID in efas.index]\n",
    "print(f'{(efas.Hylak_id == -9999).sum()} lakes in EFAS-5 were not found in HydroLakes')\n",
    "\n",
    "# export\n",
    "efas.to_file(PATH_OUT / 'efasv5_lakes.shp')\n",
    "\n",
    "# MANUAL CORRECTION IN GIS\n",
    "\n",
    "# import EFAS lakes\n",
    "efas = gpd.read_file(PATH_OUT / 'efasv5_lakes.shp')\n",
    "efas.set_index('LakID', drop=True, inplace=True)\n",
    "print(f'{(efas.Hylak_id == -9999).sum()} lakes in EFAS-5 were not found in HydroLakes')# # import EFAS lakes\n",
    "efas = gpd.read_file(PATH_OUT / 'efasv5_lakes.shp')\n",
    "efas.set_index('LakID', drop=True, inplace=True)\n",
    "print(f'{(efas.Hylak_id == -9999).sum()} lakes in EFAS-5 were not found in HydroLakes')\n",
    "```\n",
    "\n",
    "In the end, I did a manual inspection of all the lakes in EFAS5, and assigned them both the ID in GLWD (`GLWD_ID`) and HydroLakes (`HYLAK_ID`)."
   ]
  },
  {
   "cell_type": "code",
   "execution_count": 169,
   "id": "055f965a-e5e9-442d-b592-67eb295b968a",
   "metadata": {},
   "outputs": [
    {
     "name": "stdout",
     "output_type": "stream",
     "text": [
      "25 lakes in EFAS5 are reservoirs in HydroLakes\n"
     ]
    }
   ],
   "source": [
    "hylak_ids = set(efas.HYLAK_ID).intersection(hydrolakes.index)\n",
    "\n",
    "mask_hylak = efas.HYLAK_ID.isin(hylak_ids)\n",
    "\n",
    "# assign other HydroLake attributes\n",
    "map_efas_hylak = {efas_id: hylak_id for efas_id, hylak_id in efas[mask_hylak].HYLAK_ID.items() if pd.notnull(hylak_id) and hylak_id in hydrolakes.index}\n",
    "map_fields = {\n",
    "    'HYLAK_NAME': 'Lake_name',\n",
    "    'HYLAK_TYPE': 'Lake_type',\n",
    "    'HYLAK_AREA': 'Lake_area',\n",
    "    'HYLAK_VOL': 'Vol_total',\n",
    "    'HYLAK_DEPT': 'Depth_avg',\n",
    "    'HYLAK_DIS': 'Dis_avg',\n",
    "    'HYLAK_DOR': 'Res_time',\n",
    "    'HYLAK_CAT': 'Wshd_area'\n",
    "}\n",
    "for col_dst, col_src in map_fields.items():\n",
    "    efas.loc[map_efas_hylak.keys(), col_dst] = hydrolakes.loc[map_efas_hylak.values(), col_src].values\n",
    "    \n",
    "print('{0} lakes in EFAS5 are reservoirs in HydroLakes'.format((efas.HYLAK_TYPE == 2).sum())) # -1 to remove the value NaN\n",
    "\n",
    "# # export\n",
    "# efas.to_file(PATH_OUT / 'efasv5_lakes.shp')"
   ]
  },
  {
   "cell_type": "markdown",
   "id": "f69bac46-5b7c-4043-9003-b06498535a37",
   "metadata": {},
   "source": [
    "## Select lakes \n",
    "\n",
    "### Analysis of accumulated volume"
   ]
  },
  {
   "cell_type": "code",
   "execution_count": 174,
   "id": "4ce6e048-54aa-438e-9bf0-98732628170e",
   "metadata": {},
   "outputs": [],
   "source": [
    "# hydrolakes\n",
    "hydrolakes_acc = hydrolakes[mask_lakes].sort_values('Vol_total', ascending=False).Vol_total.cumsum() / total_lake_volume * 100\n",
    "\n",
    "# E1 selection\n",
    "E1.sort_values('Vol_total', ascending=False, inplace=True)\n",
    "E1_acc = E1.Vol_total.cumsum() / total_lake_volume * 100\n",
    "\n",
    "# D2 selection\n",
    "D2_acc = D2.sort_values('Vol_total', ascending=False).Vol_total.cumsum() / total_lake_volume * 100\n",
    "\n",
    "# EFAS5\n",
    "efas_acc = efas[efas.HYLAK_TYPE != 2].sort_values('HYLAK_VOL', ascending=False).HYLAK_VOL.cumsum() / total_lake_volume * 100\n",
    "\n",
    "# intersection of E1 and D2\n",
    "E1_D2_acc = E1.loc[E1.index.intersection(D2.index)].sort_values('Vol_total', ascending=False).Vol_total.cumsum() / total_lake_volume * 100"
   ]
  },
  {
   "cell_type": "code",
   "execution_count": 175,
   "id": "912c8e7f-276b-4e2d-9779-c072df90022e",
   "metadata": {},
   "outputs": [
    {
     "data": {
      "image/png": "[encoded data removed]",
      "text/plain": [
       "<Figure size 400x400 with 1 Axes>"
      ]
     },
     "metadata": {},
     "output_type": "display_data"
    }
   ],
   "source": [
    "fig, ax = plt.subplots(figsize=(4, 4))\n",
    "\n",
    "# EFAS5\n",
    "ax.plot(np.arange(1, len(efas_acc) + 1), efas_acc, c='k', label='EFAS-5')\n",
    "\n",
    "# HydroLakes\n",
    "ax.plot(np.arange(1, len(hydrolakes_acc) + 1), hydrolakes_acc, c='C0', label='Hylak')\n",
    "\n",
    "# E1 selection\n",
    "ax.plot(np.arange(1, len(E1_acc) + 1), E1_acc, c='C3', ls='--', label='E1')\n",
    "for target in [80, 85, 90]:\n",
    "    n = (E1_acc - target).abs().argmin()\n",
    "    ax.hlines(target, 1, n, color='k', ls='--', lw=.5)\n",
    "    ax.vlines(n, -2, target, color='k', ls='--', lw=.5)\n",
    "    ax.text(n, 0, f'{n} lakes', va='bottom', ha='right', rotation=90)\n",
    "    ax.text(1, target, f'{target}%', va='bottom', ha='left', rotation=0)\n",
    "\n",
    "# D2 selection\n",
    "ax.plot(np.arange(1, len(D2_acc) + 1), D2_acc, c='C1', label='D2')\n",
    "\n",
    "# intersection E1 and D2\n",
    "n_lakes, pct_vol = len(E1_D2_acc), E1_D2_acc.max()\n",
    "ax.plot(np.arange(1, n_lakes + 1), E1_D2_acc, c='C2', ls='--', label='D2∩E1')\n",
    "# ax.hlines(pct_vol, 1, n_lakes, color='k', ls='--', lw=.5)\n",
    "# ax.vlines(n_lakes, -2, pct_vol, color='k', ls='--', lw=.5)\n",
    "# ax.text(n_lakes, pct_vol, f'{n_lakes} lakes', va='top', ha='right', rotation=90)\n",
    "# ax.text(1, pct_vol, f'{E1_D2_acc.max():.0f}%', va='bottom', ha='left', rotation=0)\n",
    "\n",
    "ax.set(\n",
    "    xlim=(1, hydrolakes.shape[0]),\n",
    "    xlabel='no. lakes',\n",
    "    ylim=(-2, 102),\n",
    "    ylabel='% total volume'\n",
    ")\n",
    "ax.set_xscale('log')\n",
    "ax.legend(frameon=False, loc=4);\n",
    "\n",
    "# plt.savefig(PATH_OUT / 'percentage_total_volume.jpg', dpi=300, bbox_inches='tight')"
   ]
  },
  {
   "cell_type": "markdown",
   "id": "cca928a0-da46-4fb0-ba08-27c5b91f72cd",
   "metadata": {
    "tags": []
   },
   "source": [
    "### Lakes to add\n",
    "\n",
    "I will select lakes to be added in EFASv6 from the `E1` object, i.e., the selection of lakes and controlled lakes in HydroLakes that comply with the lake area, lake volume, catchment area and degree of regulation rules. From those, I will create a classification in terms of `priority`. I will sort the lakes by decreasing volume, and assign priorities depending on the percentage of total lake volume we want to reproduce in EFASv6. For instance, the lakes required to reach a 80% of the total lake volume will have priority 1, those to reach 85% priority 2, ect."
   ]
  },
  {
   "cell_type": "code",
   "execution_count": 176,
   "id": "e796f482-57c2-40ba-b14d-58deba035f7e",
   "metadata": {},
   "outputs": [
    {
     "name": "stdout",
     "output_type": "stream",
     "text": [
      "4    1266\n",
      "3     911\n",
      "2     180\n",
      "1      73\n",
      "Name: priority, dtype: int64\n"
     ]
    }
   ],
   "source": [
    "# create dataframe of lakes to be added\n",
    "to_add_pnt = E1.copy()\n",
    "to_add_pnt.sort_values('Vol_total', ascending=False, inplace=True)\n",
    "to_add_acc = to_add_pnt.Vol_total.cumsum() / total_lake_volume * 100\n",
    "\n",
    "# define priority\n",
    "to_add_pnt['priority'] = -9999\n",
    "priorities = {\n",
    "    4: 95,\n",
    "    3: 90,\n",
    "    2: 85,\n",
    "    1: 80,\n",
    "}\n",
    "for priority, target in priorities.items():\n",
    "    # select lakes to reach the target\n",
    "    ID = (to_add_acc - target).abs().idxmin()\n",
    "    # assign priority\n",
    "    to_add_pnt.loc[:ID, 'priority'] = priority\n",
    "\n",
    "# remove lakes included in EFASv5\n",
    "to_add_pnt = to_add_pnt.loc[to_add_pnt.index.difference(efas.HYLAK_ID)]\n",
    "\n",
    "# remove lakes included as reservoirs in EFASv5\n",
    "to_add_pnt = to_add_pnt[~to_add_pnt.Grand_id.isin(efas_res.GRAND_ID)]\n",
    "\n",
    "# remove lakes that will be added to EFASv6 as reservoirs\n",
    "to_add_pnt = to_add_pnt[~to_add_pnt.Grand_id.isin(grand_to_add.index)]\n",
    "\n",
    "print(to_add_pnt.priority.value_counts())"
   ]
  },
  {
   "cell_type": "code",
   "execution_count": 177,
   "id": "66764a21-e556-4611-b800-1c164034988f",
   "metadata": {},
   "outputs": [],
   "source": [
    "# export points\n",
    "to_add_pnt.to_file(PATH_OUT / 'hydrolakes_pnt_to_add_{0}.shp'.format(datetime.now().strftime('%Y%m%d')))"
   ]
  },
  {
   "cell_type": "code",
   "execution_count": 142,
   "id": "241bfc36-fb48-4ed0-8f46-2f43820194c5",
   "metadata": {
    "collapsed": true,
    "jupyter": {
     "outputs_hidden": true
    },
    "tags": []
   },
   "outputs": [],
   "source": [
    "# apply selection to polygons\n",
    "if hydrolakes_pol.index.name != 'Hylak_id':\n",
    "    hydrolakes_pol.set_index('Hylak_id', drop=True, inplace=True)\n",
    "to_add_pol = hydrolakes_pol.loc[to_add_pnt.index]\n",
    "to_add_pol['priority'] = -9999\n",
    "to_add_pol.loc[to_add.index, 'priority'] = to_add_pnt.priority\n",
    "\n",
    "# export polygons\n",
    "to_add_pol.to_file(PATH_OUT / 'hydrolakes_pol_to_add_{0}.shp'.format(datetime.now().strftime('%Y%m%d')))"
   ]
  },
  {
   "cell_type": "markdown",
   "id": "2c616b74-e856-449e-b873-0793089cb240",
   "metadata": {},
   "source": [
    "## Conclusion\n"
   ]
  }
 ],
 "metadata": {
  "kernelspec": {
   "display_name": "Python 3 (ipykernel)",
   "language": "python",
   "name": "python3"
  },
  "language_info": {
   "codemirror_mode": {
    "name": "ipython",
    "version": 3
   },
   "file_extension": ".py",
   "mimetype": "text/x-python",
   "name": "python",
   "nbconvert_exporter": "python",
   "pygments_lexer": "ipython3",
   "version": "3.9.13"
  }
 },
 "nbformat": 4,
 "nbformat_minor": 5
}
