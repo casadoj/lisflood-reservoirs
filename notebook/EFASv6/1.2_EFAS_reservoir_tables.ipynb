{
 "cells": [
  {
   "cell_type": "markdown",
   "id": "deef035b-e213-4fcd-b8e4-2c8662d64b96",
   "metadata": {
    "tags": []
   },
   "source": [
    "# Reservoirs tables - EFAS\n",
    "***\n",
    "\n",
    "**Author:** Chus Casado Rodríguez<br>\n",
    "**Date:** 17-10-2024<br>\n",
    "\n",
    "**Introduction:**<br>\n",
    "\n",
    "* [x] 100-year return period of inflow\n",
    "* [x] average inflow\n",
    "* [ ] environmental flow?\n",
    "* [x] storage capacity\n",
    "* [x] catchment area\n",
    "* [ ] reservoir area: it would be necessary if we want to model the reservoir surface area\n",
    "* [ ] elevation crest: it would be necessary if we want to model the reservoir level\n",
    "* [ ] dam height: it would be necessary if we want to model the reservoir level"
   ]
  },
  {
   "cell_type": "code",
   "execution_count": 1,
   "id": "7d00b5cc-e275-46e8-9130-df9119a9cf37",
   "metadata": {},
   "outputs": [],
   "source": [
    "import os\n",
    "os.environ['USE_PYGEOS'] = '0'\n",
    "import numpy as np\n",
    "import pandas as pd\n",
    "import xarray as xr\n",
    "import rioxarray as rxr\n",
    "import geopandas as gpd\n",
    "from pathlib import Path\n",
    "from tqdm.auto import tqdm\n",
    "import matplotlib.pyplot as plt\n",
    "from scipy.stats import linregress\n",
    "import cartopy.crs as ccrs\n",
    "import cartopy.feature as cf\n",
    "\n",
    "import sys\n",
    "sys.path.append('E:/casadje/GitHub/lisflood-utilities/src/')\n",
    "from lisfloodutilities.thresholds import compute_thresholds_gumbel"
   ]
  },
  {
   "cell_type": "code",
   "execution_count": 2,
   "id": "7a5ac8db-0c85-483e-8d57-ec829629c040",
   "metadata": {},
   "outputs": [],
   "source": [
    "def compare_attributes(df, thr, vmin, vmax, **kwargs):\n",
    "    \"\"\"Pair plot comparing the attribute values in different data sources\n",
    "    \n",
    "    Parameters:\n",
    "    -----------\n",
    "    df: pandas.DataFrame\n",
    "        Values of an attributes in different data sources (columns)\n",
    "    thr: float\n",
    "        Minimum value of the attribute used in the selection\n",
    "    vmin: float\n",
    "        Minimum attribute value to be plotted\n",
    "    vmax: float\n",
    "        Maximum attribute value to be plotted\n",
    "    \"\"\"\n",
    "    \n",
    "    figsize = kwargs.get('figsize', (4, 4))\n",
    "    \n",
    "    cols = df.columns\n",
    "    ncols = len(cols) - 1\n",
    "    \n",
    "    fig, ax = plt.subplots(ncols=ncols, nrows=ncols, figsize=(ncols * figsize[0], ncols * figsize[1]), sharex=True, sharey=True)\n",
    "\n",
    "    for j, colx in enumerate(cols[:-1]):\n",
    "        for i, coly in enumerate(cols[1:]):\n",
    "            if j > i:\n",
    "                ax[i, j].axis('off')\n",
    "                continue\n",
    "            ax[i, j].plot([vmin, vmax], [vmin, vmax], c='k', lw=.5, zorder=0)\n",
    "            ax[i, j].vlines(thr, vmin, thr, color='k', ls='--', lw=.5, zorder=0)\n",
    "            ax[i, j].hlines(thr, vmin, thr, color='k', ls='--', lw=.5, zorder=0)\n",
    "            ax[i, j].scatter(df[colx], df[coly], s=10, alpha=.5)\n",
    "            ax[i, j].set_xscale('log')\n",
    "            ax[i, j].set_yscale('log')\n",
    "            if j == 0:\n",
    "                ax[i, j].set_ylabel(coly)\n",
    "            if i == 2:\n",
    "                ax[i, j].set_xlabel(colx)\n",
    "\n",
    "            ax[i, j].set(\n",
    "                xlim=(vmin, vmax),\n",
    "                ylim=(vmin, vmax),\n",
    "            );\n",
    "    \n",
    "    if 'title' in kwargs:\n",
    "        ax[0, 1].set_title(kwargs['title']);"
   ]
  },
  {
   "cell_type": "markdown",
   "id": "afd51623-ce6b-4822-b7e0-bacb481594a9",
   "metadata": {
    "tags": []
   },
   "source": [
    "## Configuration"
   ]
  },
  {
   "cell_type": "code",
   "execution_count": 3,
   "id": "9648123a-475b-4228-9db1-69756cd8097c",
   "metadata": {},
   "outputs": [],
   "source": [
    "# paths\n",
    "PATH_EFAS5 = Path('Z:/nahaUsers/casadje/EFASv5')\n",
    "PATH_DATASETS = Path('Z:/nahaUsers/casadje/datasets/')\n",
    "PATH_EFAS6 = PATH_DATASETS / 'reservoirs' / 'EFASv6' #Path('../results/reservoirs/selection/EFAS/')\n",
    "\n",
    "# minimum storage capacity included in EFAS\n",
    "MIN_VOLUME = 10 # hm³\n",
    "MIN_AREA = 50 # km²\n",
    "MIN_DOR = 0.08 # "
   ]
  },
  {
   "cell_type": "markdown",
   "id": "f689da47-a1e1-47a9-a527-f8ff42fa51b4",
   "metadata": {},
   "source": [
    "## Data\n",
    "\n",
    "### EFAS6\n",
    "I load a shapefile with the manual selection of reservoirs to be included in EFASv6, which have already been located in the LISFLOOD grid."
   ]
  },
  {
   "cell_type": "code",
   "execution_count": 13,
   "id": "ea993201-61f1-4b29-855b-6b11d146a606",
   "metadata": {},
   "outputs": [],
   "source": [
    "# import shapefile\n",
    "# reservoirs = gpd.read_file('Z:/H07_Global/GloFAS/data/reservoir and lakes EFAS Glofas 2024/reservoirEfasV6.shp')\n",
    "efas6 = gpd.read_file(PATH_EFAS6 / 'efas6_reservoirs.shp')\n",
    "efas6.GRanD_id = efas6.GRanD_id.astype('Int64')\n",
    "efas6.Hylak_id = efas6.Hylak_id.astype('Int64')\n",
    "efas6.ResID = efas6.ResID.astype('Int64')\n",
    "\n",
    "# assing ID in descending order of storage capacity\n",
    "efas6.sort_values('CAP_MCM', ascending=False, inplace=True)\n",
    "efas6.reset_index(drop=True, inplace=True)\n",
    "efas6.index.name = 'ID'\n",
    "efas6.drop('ID', axis=1, errors='ignore', inplace=True)\n",
    "# efas6['ID'] = efas6.index"
   ]
  },
  {
   "cell_type": "markdown",
   "id": "9e322785-d877-4a5b-8039-8cb64f23bac0",
   "metadata": {},
   "source": [
    "### EFAS5"
   ]
  },
  {
   "cell_type": "code",
   "execution_count": 9,
   "id": "f83247f1-14a6-48a5-a703-93814e477c97",
   "metadata": {},
   "outputs": [
    {
     "name": "stdout",
     "output_type": "stream",
     "text": [
      "(1393, 34)\n"
     ]
    }
   ],
   "source": [
    "efas5 = gpd.read_file(PATH_EFAS6 / 'EFAS5' / 'efas5_reservoirs.shp')#.set_index('ResID')\n",
    "\n",
    "# assign ID\n",
    "map_efas_ID = {ResID: ID for ID, ResID in zip(efas6.index, efas6.ResID) if not pd.isna(ResID)}\n",
    "efas5['ID'] = efas5.ResID.map(map_efas_ID).astype('Int64')\n",
    "efas5.dropna(subset=['ID'], inplace=True)\n",
    "efas5.set_index('ID', drop=False, inplace=True)\n",
    "\n",
    "print(efas5.shape)"
   ]
  },
  {
   "cell_type": "markdown",
   "id": "7f64d210-335f-47c0-a5ea-bcef2d26c3eb",
   "metadata": {},
   "source": [
    "### GRanD"
   ]
  },
  {
   "cell_type": "code",
   "execution_count": 22,
   "id": "35641b4d-0ea5-4fab-af9a-ba5dc0c8a31c",
   "metadata": {},
   "outputs": [
    {
     "name": "stdout",
     "output_type": "stream",
     "text": [
      "(1575, 62)\n"
     ]
    }
   ],
   "source": [
    "grand = gpd.read_file(PATH_EFAS6 / 'GRanD' / 'grand_dams.shp')\n",
    "\n",
    "# connection between GRanD_id and ID\n",
    "map_grand_ID = {grand_id: ID for ID, grand_id in zip(efas6.index, efas6.GRanD_id) if not pd.isna(grand_id)}\n",
    "grand['ID'] = grand.GRAND_ID.map(map_grand_ID).astype('Int64')\n",
    "grand.rename(columns={'GRAND_ID': 'GRanD_id'}, inplace=True)\n",
    "grand.set_index('GRanD_id', drop=True, inplace=True)\n",
    "\n",
    "print(grand.shape)"
   ]
  },
  {
   "cell_type": "markdown",
   "id": "91b11e9a-46f9-4926-8a67-2dbde906dfdf",
   "metadata": {
    "tags": []
   },
   "source": [
    "### ICOLD"
   ]
  },
  {
   "cell_type": "code",
   "execution_count": 67,
   "id": "468c6ae1-62ce-4755-93f7-2af9c5c1feef",
   "metadata": {
    "tags": []
   },
   "outputs": [
    {
     "name": "stdout",
     "output_type": "stream",
     "text": [
      "(7887, 46)\n"
     ]
    }
   ],
   "source": [
    "icold = gpd.read_file(PATH_EFAS6 / 'ICOLD' / 'icold.shp')#.set_index('Int_Code')\n",
    "\n",
    "# connection between ICOLD and ID\n",
    "map_icold_ID = {icold_id: ID for ID, icold_id in zip(efas6.index, efas6.ICOLD_id) if not pd.isna(icold_id)}\n",
    "icold['ID'] = icold.Int_Code.map(map_icold_ID).astype('Int64')\n",
    "icold.set_index('Int_Code', drop=True, inplace=True)\n",
    "\n",
    "print(icold.shape)"
   ]
  },
  {
   "cell_type": "markdown",
   "id": "15879f64-5f3e-419e-9785-b66156d2e036",
   "metadata": {
    "tags": []
   },
   "source": [
    "### HydroLakes"
   ]
  },
  {
   "cell_type": "code",
   "execution_count": 66,
   "id": "17f3509f-ea38-4ba2-9d1b-aa83f037204c",
   "metadata": {},
   "outputs": [
    {
     "name": "stdout",
     "output_type": "stream",
     "text": [
      "(1415, 307)\n"
     ]
    }
   ],
   "source": [
    "hylak = gpd.read_file(PATH_EFAS6 / 'HydroLakes' / 'hydrolakes_dams.shp')#.set_index('Hylak_id')\n",
    "\n",
    "# connection between ICOLD and ID\n",
    "map_hylak_ID = {hylak_id: ID for ID, hylak_id in zip(efas6.index, efas6.Hylak_id) if not pd.isna(hylak_id)}\n",
    "hylak['ID'] = hylak.Hylak_id.map(map_hylak_ID).astype('Int64')\n",
    "hylak.set_index('Hylak_id', drop=True, inplace=True)\n",
    "\n",
    "print(hylak.shape)"
   ]
  },
  {
   "cell_type": "markdown",
   "id": "4c152bcf-6217-44a4-b7c8-965cb6c35ec8",
   "metadata": {},
   "source": [
    "## Attributes\n",
    "### Capacity"
   ]
  },
  {
   "cell_type": "code",
   "execution_count": null,
   "id": "b01f3e18-ef52-430a-b1a4-4f0b34ee3132",
   "metadata": {},
   "outputs": [],
   "source": [
    "capacity = pd.DataFrame(index=efas6.index, columns=['EFAS5', 'GRAND', 'ICOLD', 'HYLAK', 'EFAS6', 'SOURCE'], dtype=float)\n",
    "capacity.SOURCE = capacity.SOURCE.astype(str)\n",
    "\n",
    "# EFAS5\n",
    "capacity.loc[efas5.index, 'EFAS5'] = efas5.tstor\n",
    "\n",
    "# GRanD\n",
    "# capacity.loc[efas6.index, 'GRAND'] = efas6.CAP_MCM\n",
    "mask = grand.ID.notnull()\n",
    "capacity.loc[grand.loc[mask, 'ID'], 'GRAND'] = grand.loc[mask, 'CAP_MCM'].values\n",
    "\n",
    "# ICOLD\n",
    "# capacity.loc[efas5.index, 'ICOLD'] = efas5.ICOLD_VOL\n",
    "mask = icold.ID.notnull()\n",
    "capacity.loc[icold.loc[mask, 'ID'], 'ICOLD'] = icold.loc[mask, 'Res_Vol'].values\n",
    "\n",
    "# HydroLakes\n",
    "mask = hylak.ID.notnull()\n",
    "capacity.loc[hylak.loc[mask, 'ID'], 'HYLAK'] = hylak.loc[mask, 'Vol_res'].values"
   ]
  },
  {
   "cell_type": "markdown",
   "id": "6cb9f8e7-ac1a-4226-950a-5a59efe1a95d",
   "metadata": {},
   "source": [
    "#### Comparison"
   ]
  },
  {
   "cell_type": "code",
   "execution_count": null,
   "id": "c46d5296-d4f0-4fd4-8ce2-ca5e7dbb3ada",
   "metadata": {},
   "outputs": [],
   "source": [
    "compare_attributes(\n",
    "    capacity[['EFAS5', 'GRAND', 'ICOLD', 'HYLAK']],\n",
    "    thr=MIN_VOLUME,\n",
    "    vmin=1e-1,\n",
    "    vmax=1e6,\n",
    "    title='storage (hm3)'\n",
    ")"
   ]
  },
  {
   "cell_type": "code",
   "execution_count": null,
   "id": "642f0893-ea5c-402e-ae2f-d27720d0905a",
   "metadata": {
    "tags": []
   },
   "outputs": [],
   "source": [
    "# error = 2\n",
    "# mask_error = (capacity.GRAND < capacity.EFAS5 / error) | (capacity.GRAND > error * capacity.EFAS5)\n",
    "# print(mask_error.sum())\n",
    "# capacity[mask_error]"
   ]
  },
  {
   "cell_type": "markdown",
   "id": "44ad8400-a711-499a-b5cc-cfc7577d9935",
   "metadata": {},
   "source": [
    "#### Select values\n",
    "\n",
    "I have manually checked the large discrepancies between EFAS5 and GRanD. In case of discrepancy, I compare with ICOLD and HydroLakes. It seems like GRanD is a more reliable source, so I will use the value from GRanD whenever possible, if not the value from EFAS5."
   ]
  },
  {
   "cell_type": "code",
   "execution_count": null,
   "id": "efad8fa5-6886-4776-a5f0-861ecabdff7b",
   "metadata": {},
   "outputs": [],
   "source": [
    "# select value from GRAND, EFAS5, HYLAK or ICOLD in that order\n",
    "for source in ['GRAND', 'EFAS5', 'HYLAK', 'ICOLD']:\n",
    "    missing = capacity.EFAS6.isnull()\n",
    "    mask = capacity[source].notnull()\n",
    "    capacity.loc[missing & mask, 'EFAS6'] = capacity.loc[missing & mask, source]\n",
    "    capacity.loc[missing & mask, 'SOURCE'] = source\n",
    "\n",
    "# add values to EFAS6\n",
    "efas6.loc[capacity.index, ['VOL_MCM', 'VOL_SRC']] = capacity[['EFAS6', 'SOURCE']].values\n",
    "\n",
    "# # storage of reservoirs coming from EFAS5\n",
    "# efas6[efas6.VOL_SRC == 'EFAS5']['VOL_MCM']\n",
    "\n",
    "print('{0} reservoirs do not comply with the minimum storage of {1} hm3'.format((efas6.VOL_MCM < MIN_VOLUME).sum(),\n",
    "                                                                                MIN_VOLUME))"
   ]
  },
  {
   "cell_type": "markdown",
   "id": "4edda088-9224-4d27-8962-27a2196df534",
   "metadata": {},
   "source": [
    "### Catchment area"
   ]
  },
  {
   "cell_type": "code",
   "execution_count": null,
   "id": "6f18e23e-e17a-498f-82aa-32ceeed7ba08",
   "metadata": {},
   "outputs": [],
   "source": [
    "area = pd.DataFrame(index=efas6.index, columns=['EFAS5', 'GRAND', 'ICOLD', 'HYLAK', 'EFAS6', 'SOURCE'], dtype=float)\n",
    "area.SOURCE = area.SOURCE.astype(str)\n",
    "\n",
    "# EFAS5\n",
    "area.loc[efas5.index, 'EFAS5'] = efas5['area']\n",
    "\n",
    "# # GRanD\n",
    "# area.loc[efas6.index, 'GRAND'] = efas6.CAP_MCM\n",
    "mask = grand.ID.notnull()\n",
    "area.loc[grand.loc[mask, 'ID'], 'GRAND'] = grand.loc[mask, 'CATCH_SKM'].values\n",
    "\n",
    "# ICOLD\n",
    "area.loc[efas5.index, 'ICOLD'] = efas5.ICOLD_AREA\n",
    "mask = icold.ID.notnull()\n",
    "area.loc[icold.loc[mask, 'ID'], 'ICOLD'] = icold.loc[mask, 'Catch_Area'].values\n",
    "\n",
    "# HydroLakes\n",
    "mask = hylak.ID.notnull()\n",
    "area.loc[hylak.loc[mask, 'ID'], 'HYLAK'] = hylak.loc[mask, 'Wshd_area'].values"
   ]
  },
  {
   "cell_type": "markdown",
   "id": "f6d695b4-c483-495f-994e-932a1c3f15bc",
   "metadata": {},
   "source": [
    "#### Comparison"
   ]
  },
  {
   "cell_type": "code",
   "execution_count": null,
   "id": "46bf41ea-cbe6-447e-b5a9-fc3b7b6638af",
   "metadata": {},
   "outputs": [],
   "source": [
    "compare_attributes(\n",
    "    area[['EFAS5', 'GRAND', 'ICOLD', 'HYLAK']],\n",
    "    thr=MIN_AREA,\n",
    "    vmin=1,\n",
    "    vmax=1e7,\n",
    "    title='catchment (km²)'\n",
    ")"
   ]
  },
  {
   "cell_type": "markdown",
   "id": "0927a49c-4af5-4634-bbb8-bdfeb5cff99c",
   "metadata": {},
   "source": [
    "#### Select values\n",
    "\n",
    "Following the procedure applied for the storage capacity, I will use the GRanD value when available."
   ]
  },
  {
   "cell_type": "code",
   "execution_count": null,
   "id": "4704574e-b722-4900-a535-da33f877bb0b",
   "metadata": {},
   "outputs": [],
   "source": [
    "# select value from GRAND, EFAS5, HYLAK or ICOLD in that order\n",
    "for source in ['GRAND', 'EFAS5', 'HYLAK', 'ICOLD']:\n",
    "    missing = area.EFAS6.isnull()\n",
    "    mask = area[source].notnull()\n",
    "    area.loc[missing & mask, 'EFAS6'] = area.loc[missing & mask, source]\n",
    "    area.loc[missing & mask, 'SOURCE'] = source\n",
    "\n",
    "# add values to EFAS6\n",
    "efas6.loc[area.index, ['CATCH_SKM', 'CATCH_SRC']] = area[['EFAS6', 'SOURCE']].values\n",
    "\n",
    "# # storage of reservoirs coming from EFAS5\n",
    "# efas6[efas6.VOL_SRC == 'EFAS5']['VOL_MCM']\n",
    "\n",
    "print('{0} reservoirs do not comply with the minimum catchment area of {1} km²'.format((efas6.CATCH_SKM < MIN_AREA).sum(),\n",
    "                                                                                       MIN_AREA))"
   ]
  },
  {
   "cell_type": "markdown",
   "id": "4e4d8be4-f044-4932-ac97-2d4734b1c060",
   "metadata": {},
   "source": [
    "## `ncextract`\n",
    "\n",
    "I run the tool `ncextract` on the EFASv5 long-term run simulation with natural flow, i.e, no reservoirs and no water abstraction. The discharge files resulting from this simulation are in the HPC: `/BGFS/DISASTER/casadje/EFASv5/natural_flow/`.\n",
    "\n",
    "The discharge time series extracted for the reservoir locations are proxies of the reservoir inflow. From these time series we need to estimate the 100-year return period and normal inflow."
   ]
  },
  {
   "cell_type": "code",
   "execution_count": null,
   "id": "20879fa5-d816-472a-9d23-3842960ddca9",
   "metadata": {},
   "outputs": [],
   "source": [
    "# export CSV needed to run `ncextract`\n",
    "points = efas6[['LisfloodX', 'LisfloodY']]\n",
    "points.columns = ['lon', 'lat']\n",
    "points.to_csv(PATH_EFAS6 / 'ncextract' / 'reservoirs_efas6_new.csv')"
   ]
  },
  {
   "cell_type": "markdown",
   "id": "d1d68a99-c307-48d8-8271-733591b3bb90",
   "metadata": {},
   "source": [
    "## `thresholds`"
   ]
  },
  {
   "cell_type": "code",
   "execution_count": null,
   "id": "52ed2235-66b6-421d-9043-c995be0e7369",
   "metadata": {},
   "outputs": [],
   "source": [
    "PATH_OUT = PATH_EFAS6 / 'tables'\n",
    "PATH_OUT.mkdir(parents=True, exist_ok=True)"
   ]
  },
  {
   "cell_type": "code",
   "execution_count": null,
   "id": "c95d185d-51f6-4ad3-a742-778060ffcbaf",
   "metadata": {},
   "outputs": [],
   "source": [
    "# load discharge timeseries\n",
    "dis_nat1 = xr.open_dataset(PATH_EFAS6 / 'ncextract' / 'inflow_natural_ltr.nc')['dis']\n",
    "dis_nat1.close()"
   ]
  },
  {
   "cell_type": "code",
   "execution_count": null,
   "id": "51c73056-8c63-46bc-bb1d-396bfd931b4c",
   "metadata": {},
   "outputs": [],
   "source": [
    "# load discharge timeseries\n",
    "dis_nat2 = xr.open_dataset(PATH_EFAS6 / 'ncextract' / 'natural_flow_prerunLZAVIN.nc')['dis']\n",
    "dis_nat2.close()"
   ]
  },
  {
   "cell_type": "code",
   "execution_count": null,
   "id": "fc69912d-1070-4d57-b138-c0e6caa5822a",
   "metadata": {
    "tags": []
   },
   "outputs": [],
   "source": [
    "# load discharge timeseries\n",
    "dis_ltr = xr.open_dataset(PATH_EFAS6 / 'ncextract' / 'inflow_ltr.nc')['dis']\n",
    "dis_ltr.close()\n",
    "# daily mean\n",
    "dis_ltr = dis_ltr.resample(time='1D').mean()"
   ]
  },
  {
   "cell_type": "code",
   "execution_count": null,
   "id": "17de35fd-e000-417b-8e87-a86ff3c29552",
   "metadata": {},
   "outputs": [],
   "source": [
    "ID = 4\n",
    "\n",
    "lw = .8\n",
    "for ID in tqdm(dis_nat2.ID.data):\n",
    "    fig, ax = plt.subplots(figsize=(12, 3))\n",
    "    dis_ltr.sel(ID=ID).plot(lw=lw, ax=ax, label='altered')\n",
    "    dis_nat1.sel(ID=ID).sel(time=slice('1993-01-02', None)).plot(lw=lw, ax=ax, label='natural')\n",
    "    dis_nat2.sel(ID=ID).sel(time=slice('1993-01-02', None)).plot(lw=lw, ax=ax, label='natural lzavin')\n",
    "    ax.legend(frameon=False)\n",
    "    ax.set_title(ID)\n",
    "    # ax.set(xlim=(dis_nat.time.min().item(), dis_nat.time.max().item()))\n",
    "    plt.savefig(PATH_EFAS6 / 'ncextract' / 'plots' / 'natural_vs_lzavin_vs_regular' / f'{ID}.jpg', dpi=300, bbox_inches='tight')\n",
    "    plt.close(fig)"
   ]
  },
  {
   "cell_type": "code",
   "execution_count": null,
   "id": "81afc726-6a43-4522-add1-818a8351c77d",
   "metadata": {},
   "outputs": [],
   "source": []
  },
  {
   "cell_type": "code",
   "execution_count": null,
   "id": "cc506564-d1d9-429f-8325-b93ba2b33ff2",
   "metadata": {
    "tags": []
   },
   "outputs": [],
   "source": [
    "avg_dis_nat1 = dis_nat1.sel(time=slice('1993-01-01', None)).groupby('time.year').mean().to_pandas()\n",
    "\n",
    "linreg = pd.DataFrame(index=avg_dis_nat1.columns, columns=['slope', 'intercept', 'rvalue', 'pvalue', 'stderr'])\n",
    "for ID in avg_dis_nat1.columns:\n",
    "    linreg.loc[ID,:] = linregress(avg_dis_nat1.index, avg_dis_nat1[ID] / avg_dis_nat1[ID].mean())\n",
    "\n",
    "IDs1 = linreg[(linreg.pvalue < 0.05) & (linreg.slope < -0.05)].index.tolist()\n",
    "print(len(IDs))\n",
    "\n",
    "fig, ax = plt.subplots(subplot_kw=dict(projection=ccrs.PlateCarree()))\n",
    "ax.add_feature(cf.NaturalEarthFeature('physical', 'land', '50m', edgecolor='face', facecolor='lightgray'), alpha=.5, zorder=0)\n",
    "ax.axis('off')\n",
    "efas6.loc[IDs1].plot(markersize=5, ax=ax);\n",
    "# plt.savefig(PATH_EFAS6 / 'ncextract' / 'plots' / 'natural' / 'map.jpg', dpi=300, bbox_inches='tight')\n",
    "# plt.close(fig);"
   ]
  },
  {
   "cell_type": "code",
   "execution_count": null,
   "id": "ddc09ed6-18b1-47c7-9fc9-1af6638bfefe",
   "metadata": {},
   "outputs": [],
   "source": [
    "avg_dis_nat2 = dis_nat2.sel(time=slice('1993-01-01', None)).groupby('time.year').mean().to_pandas()\n",
    "\n",
    "linreg = pd.DataFrame(index=avg_dis_nat2.columns, columns=['slope', 'intercept', 'rvalue', 'pvalue', 'stderr'])\n",
    "for ID in avg_dis_nat2.columns:\n",
    "    linreg.loc[ID,:] = linregress(avg_dis_nat2.index, avg_dis_nat2[ID] / avg_dis_nat2[ID].mean())\n",
    "\n",
    "IDs2 = linreg[(linreg.pvalue < 0.05) & (linreg.slope < -0.05)].index.tolist()\n",
    "print(len(IDs2))\n",
    "\n",
    "fig, ax = plt.subplots(subplot_kw=dict(projection=ccrs.PlateCarree()))\n",
    "ax.add_feature(cf.NaturalEarthFeature('physical', 'land', '50m', edgecolor='face', facecolor='lightgray'), alpha=.5, zorder=0)\n",
    "ax.axis('off')\n",
    "efas6.loc[IDs2].plot(markersize=5, ax=ax);\n",
    "# plt.savefig(PATH_EFAS6 / 'ncextract' / 'plots' / 'natural' / 'map.jpg', dpi=300, bbox_inches='tight')\n",
    "# plt.close(fig);"
   ]
  },
  {
   "cell_type": "code",
   "execution_count": null,
   "id": "2e8acc30-ce09-413d-8736-7f99cc02d592",
   "metadata": {},
   "outputs": [],
   "source": [
    "# efas6.drop('ID', axis=1, inplace=True)\n",
    "# efas6.loc[IDs].to_file(PATH_EFAS6 / 'ncextract' / 'points_to_test.shp')"
   ]
  },
  {
   "cell_type": "code",
   "execution_count": null,
   "id": "afe90182-9ae0-4c07-a84c-d84715499074",
   "metadata": {
    "tags": []
   },
   "outputs": [],
   "source": [
    "avg_dis_nat2.index = pd.to_datetime([f'{year}-07-01' for year in avg_dis_nat2.index])\n",
    "lw = .8\n",
    "for ID in tqdm(IDs2):\n",
    "    fig, ax = plt.subplots(figsize=(12, 3))\n",
    "    dis_ltr.sel(ID=ID).plot(lw=lw, ax=ax, label='altered')\n",
    "    dis_nat1.sel(ID=ID).sel(time=slice('1993-01-02', None)).plot(lw=lw, ax=ax, label='natural')\n",
    "    dis_nat2.sel(ID=ID).sel(time=slice('1993-01-02', None)).plot(lw=lw, ax=ax, label='natural')\n",
    "    avg_dis_nat2[ID].plot(c='C1', ls='--', lw=lw*.8, ax=ax, label='natural_trend')\n",
    "    ax.legend(frameon=False)\n",
    "    ax.set_title(ID)\n",
    "    # ax.set(xlim=(dis_nat.time.min().item(), dis_nat.time.max().item()))\n",
    "    # plt.savefig(PATH_EFAS6 / 'ncextract' / 'plots' / 'natural_vs_regular' / f'{ID}.jpg', dpi=300, bbox_inches='tight')\n",
    "    # plt.close(fig)"
   ]
  },
  {
   "cell_type": "code",
   "execution_count": null,
   "id": "56e9cde6-70f1-40c4-ae75-8f1fd795afef",
   "metadata": {},
   "outputs": [],
   "source": [
    "dis_nat.sel(ID=1515, time=slice('1993-01-01', None)).plot()"
   ]
  },
  {
   "cell_type": "code",
   "execution_count": null,
   "id": "9cd26369-de66-4912-9234-75162300f5dd",
   "metadata": {
    "tags": []
   },
   "outputs": [],
   "source": [
    "avg_dis_nat.plot()"
   ]
  },
  {
   "cell_type": "code",
   "execution_count": null,
   "id": "bf1cd34a-b770-44ad-a836-f0ed2799e9c6",
   "metadata": {},
   "outputs": [],
   "source": [
    "linreg.pvalue"
   ]
  },
  {
   "cell_type": "code",
   "execution_count": null,
   "id": "8cfd5d3f-db28-47ea-b873-afd44e5439f3",
   "metadata": {},
   "outputs": [],
   "source": [
    "# # load discharge timeseries\n",
    "# dis_efas5 = xr.open_dataset(PATH_EFAS6 / 'ncextract' / 'dis_EFAS5_extract.nc')"
   ]
  },
  {
   "cell_type": "code",
   "execution_count": null,
   "id": "2094a48a-6351-4101-bd67-aa0252350558",
   "metadata": {},
   "outputs": [],
   "source": [
    "aux = xr.open_dataset(PATH_EFAS6 / 'ncextract' / 'inflow_ltr_points.nc')['dis']\n",
    "aux.close()\n",
    "aux"
   ]
  },
  {
   "cell_type": "code",
   "execution_count": null,
   "id": "0fae1f86-737a-4a24-b6dc-007fb6726a14",
   "metadata": {},
   "outputs": [],
   "source": []
  },
  {
   "cell_type": "code",
   "execution_count": null,
   "id": "be5afce1-c43d-46fb-a26b-3211347aca0d",
   "metadata": {},
   "outputs": [],
   "source": []
  },
  {
   "cell_type": "code",
   "execution_count": null,
   "id": "fcda6905-0910-4484-89f0-bd52129df3e0",
   "metadata": {},
   "outputs": [],
   "source": [
    "PATH_EFAS6"
   ]
  },
  {
   "cell_type": "code",
   "execution_count": null,
   "id": "5eafe7f8-8089-4f7f-a268-38a0505f4875",
   "metadata": {},
   "outputs": [],
   "source": [
    "xmin, xmax, ymin, ymax = 33.5, 45.5, 31.5, 38\n",
    "start, end = '1993-01-02', None # '1997-01-01'\n",
    "for ID in aux.ID.data:\n",
    "    lon, lat = dis.sel(ID=ID).lon.item(), dis.sel(ID=ID).lat.item()\n",
    "    if (xmin < lon) & (lon < xmax) & (ymin < lat) & (lat < ymax):\n",
    "        fig, ax = plt.subplots(figsize=(12, 3))\n",
    "        aux.sel(ID=ID).sel(time=slice(start, end)).plot(ax=ax, label='altered');\n",
    "        dis.sel(ID=ID).sel(time=slice(start, end)).plot(ax=ax, label='natural')\n",
    "        ax.set(ylim=(-10, None), title=ID)\n",
    "        ax.legend(frameon=False);\n",
    "        # plt.savefig(PATH_EFAS6 / 'ncextract' / 'plots' / f'{ID}.jpg', dpi=300, bbox_inches='tight')"
   ]
  },
  {
   "cell_type": "code",
   "execution_count": null,
   "id": "9231325a-909c-4641-8506-9938d8329f22",
   "metadata": {},
   "outputs": [],
   "source": [
    "efas6.shape"
   ]
  },
  {
   "cell_type": "code",
   "execution_count": null,
   "id": "ae56e635-be3c-46f4-8976-d047bbb5f95d",
   "metadata": {},
   "outputs": [],
   "source": [
    "IDs"
   ]
  },
  {
   "cell_type": "code",
   "execution_count": null,
   "id": "c1e92950-7fa1-4407-92cc-85b2ed7711dc",
   "metadata": {},
   "outputs": [],
   "source": [
    "import random\n",
    "\n",
    "IDs = [random.randint(1, 1544) for i in range(20)]\n",
    "for ID in IDs:\n",
    "    dis.sel(ID=ID).sel(time=slice('1993-01-02', None)).plot(figsize=(12, 3))\n",
    "    plt.title(ID);"
   ]
  },
  {
   "cell_type": "code",
   "execution_count": null,
   "id": "20f6e586-c5c9-49ae-b36e-c1d4160514dd",
   "metadata": {},
   "outputs": [],
   "source": [
    "dis_ltr.time.data[-1]"
   ]
  },
  {
   "cell_type": "code",
   "execution_count": null,
   "id": "2bf3b412-a25c-47f6-b6eb-d7ecadbe8810",
   "metadata": {},
   "outputs": [],
   "source": [
    "dis_ltr.sel(ID=12).lon.item(), dis_ltr.sel(ID=12).lat.item()"
   ]
  },
  {
   "cell_type": "code",
   "execution_count": null,
   "id": "b2a168b8-0046-4169-accc-5994f65515d5",
   "metadata": {},
   "outputs": [],
   "source": [
    "dis.sel(ID=12).lon.item(), dis.sel(ID=12).lat.item()"
   ]
  },
  {
   "cell_type": "code",
   "execution_count": null,
   "id": "f784f34f-67b6-4890-b788-cbf0dd2fa7f7",
   "metadata": {
    "tags": []
   },
   "outputs": [],
   "source": []
  },
  {
   "cell_type": "code",
   "execution_count": null,
   "id": "1a1999c1-1a65-478a-9224-320df0cf9e37",
   "metadata": {},
   "outputs": [],
   "source": [
    "dis.sel(ID=14).sel(time=slice('1993-01-02', None)).plot(figsize=(12, 3));"
   ]
  },
  {
   "cell_type": "code",
   "execution_count": null,
   "id": "c539e95f-37fe-4148-bc13-df182e338dc7",
   "metadata": {},
   "outputs": [],
   "source": []
  },
  {
   "cell_type": "code",
   "execution_count": null,
   "id": "748a2199-6bfb-48aa-9171-bd6727c31b4e",
   "metadata": {},
   "outputs": [],
   "source": [
    "efas6.iloc[[12, 100, 4]]"
   ]
  },
  {
   "cell_type": "code",
   "execution_count": null,
   "id": "45893e5d-f620-4bcb-bf4c-84d28238b7c5",
   "metadata": {},
   "outputs": [],
   "source": [
    "dis.isel(ID=15).sel(time=slice('1993-01-02', None)).plot(figsize=(12, 3));"
   ]
  },
  {
   "cell_type": "code",
   "execution_count": null,
   "id": "83f9de09-ee9e-4c6f-aac9-058c545d1c0d",
   "metadata": {},
   "outputs": [],
   "source": [
    "dis.isel(ID=18).plot(figsize=(12, 3));"
   ]
  },
  {
   "cell_type": "code",
   "execution_count": null,
   "id": "cbc01e2b-aecc-4599-a4df-cd18922f9b34",
   "metadata": {},
   "outputs": [],
   "source": [
    "# remove first year to avoid initialization errors\n",
    "dis = dis.sel(time=slice('1993-01-02', None))\n",
    "\n",
    "# keep selected reservoirs\n",
    "dis = dis.sel(ID=efas6.index.tolist())\n",
    "\n",
    "# # remove IDs with all NaN\n",
    "# print('IDs with all NaN: {0}'.format(*dis.ID[dis.isnull().all('time')].data))\n",
    "# dis = dis.dropna(dim='ID', how='all')"
   ]
  },
  {
   "cell_type": "markdown",
   "id": "ecff9e6d-7670-4869-a86e-4e2bd8aeb0a7",
   "metadata": {},
   "source": [
    "### Mean inflow"
   ]
  },
  {
   "cell_type": "code",
   "execution_count": null,
   "id": "a705082e-2497-4493-aeb2-8525bcae867c",
   "metadata": {},
   "outputs": [],
   "source": [
    "# mean inflow\n",
    "efas6['AVG_INFLOW'] = dis.mean('time').to_pandas()\n",
    "efas6['AVG_INFLOW'].to_csv(PATH_OUT / 'inflow_mean.txt', header=None, sep=' ', float_format='%.1f')"
   ]
  },
  {
   "cell_type": "markdown",
   "id": "10848891-a918-4ae8-bd11-b61fcb035ea9",
   "metadata": {},
   "source": [
    "### Degree of regulation"
   ]
  },
  {
   "cell_type": "code",
   "execution_count": null,
   "id": "51917225-6dec-4ac0-bf65-78af888b620c",
   "metadata": {},
   "outputs": [],
   "source": [
    "efas6['DOR'] = efas6.VOL_MCM * 1e6 / (efas6.AVG_INFLOW  * 24 * 3600 * 365) \n",
    "\n",
    "print('{0} reservoirs do not comply with the minimum degree of regulation {1}'.format((efas6.DOR < MIN_DOR).sum(),\n",
    "                                                                                       MIN_DOR))"
   ]
  },
  {
   "cell_type": "markdown",
   "id": "59076c50-93e3-4239-9ef0-1ce7cd389c17",
   "metadata": {},
   "source": [
    "### 100-year return period"
   ]
  },
  {
   "cell_type": "code",
   "execution_count": null,
   "id": "2c30218e-c076-4a67-8626-cc7306719db7",
   "metadata": {},
   "outputs": [],
   "source": [
    "# annual maxima\n",
    "dis_max = dis.groupby('time.year').max(dim='time')#.rename({'year': 'time'})\n",
    "\n",
    "# inflow return periods\n",
    "return_periods = [100]\n",
    "thresholds = compute_thresholds_gumbel(dis_max, return_periods=return_periods, dim='year')"
   ]
  },
  {
   "cell_type": "code",
   "execution_count": null,
   "id": "ff8a64f5-4921-4c77-b127-f8d677e19dba",
   "metadata": {},
   "outputs": [],
   "source": [
    "# export discharge values\n",
    "for rp in return_periods:\n",
    "    var = f'INFLOW_{rp}'\n",
    "    efas6[var] = thresholds[f'rp_{rp}'].to_pandas()\n",
    "    efas6[var].to_csv(PATH_OUT / f'{var.lower()}.txt', header=None, sep=' ', float_format='%.1f')"
   ]
  },
  {
   "cell_type": "code",
   "execution_count": null,
   "id": "8a75c380-aca0-4749-8bda-e89deff30447",
   "metadata": {},
   "outputs": [],
   "source": [
    "# export parameters\n",
    "for par in ['mu', 'sigma']:\n",
    "    thresholds[par].to_pandas().to_csv(PATH_OUT / f'gumbel_{par}.txt', header=None, sep=' ', float_format='%.1f')"
   ]
  },
  {
   "cell_type": "code",
   "execution_count": null,
   "id": "00b029ab-46dc-4b04-b222-ba5edfd255e3",
   "metadata": {},
   "outputs": [],
   "source": [
    "# export input shapefile with added attributes\n",
    "efas6.to_file(PATH_EFAS6 / 'efas6_reservoirs.shp')"
   ]
  },
  {
   "cell_type": "markdown",
   "id": "6db2b0f3-6fe4-432c-9d3c-577d18d5c655",
   "metadata": {},
   "source": [
    "***\n",
    "\n",
    "## EFAS Annual Meeting"
   ]
  },
  {
   "cell_type": "code",
   "execution_count": 85,
   "id": "509174a2-c8d5-4342-8bb0-e079f4fc09cc",
   "metadata": {},
   "outputs": [],
   "source": [
    "# copyt efas6 as main source\n",
    "jrcbox = efas6.copy()\n",
    "jrcbox.drop(['COMMENTS', 'ToAdd', 'grid_code', 'EFAS5'], axis=1, inplace=True)"
   ]
  },
  {
   "cell_type": "code",
   "execution_count": 86,
   "id": "62ec68ac-b0a1-4444-a415-fc879b9e91dd",
   "metadata": {},
   "outputs": [],
   "source": [
    "# add data from GRanD\n",
    "grand_ids = jrcbox.GRanD_id.dropna()\n",
    "grand_cols = ['RES_NAME', 'DAM_NAME', 'RIVER', 'MAIN_BASIN', 'COUNTRY', 'YEAR', 'LONG_DD', 'LAT_DD']\n",
    "jrcbox.loc[grand_ids.index, grand_cols] = grand.loc[grand_ids.values, grand_cols].values"
   ]
  },
  {
   "cell_type": "code",
   "execution_count": 87,
   "id": "ee6cccff-0592-496d-98e5-cdc369099877",
   "metadata": {},
   "outputs": [],
   "source": [
    "# mask_no_grand = jrcbox.GRanD_id.isnull()\n",
    "# mask_efas5 = jrcbox.ResID.notnull()"
   ]
  },
  {
   "cell_type": "code",
   "execution_count": 88,
   "id": "810f715f-454f-46d2-b1f8-3268aeb3411b",
   "metadata": {},
   "outputs": [],
   "source": [
    "# add info from EFAS5\n",
    "ids = jrcbox[jrcbox.GRanD_id.isnull() & jrcbox.ResID.notnull()].index\n",
    "cols_efas5 = ['COUNTRY', 'DAM_NAME']\n",
    "# jrcbox.loc[ids, cols_efas5] = efas5.loc[ids, cols_efas5]"
   ]
  },
  {
   "cell_type": "code",
   "execution_count": 89,
   "id": "cef91eb4-b58d-4eaf-8613-78ce1e11d0b4",
   "metadata": {},
   "outputs": [],
   "source": [
    "# reorder and rename columns\n",
    "cols = ['ResID', 'GRanD_id', 'Hylak_id', 'ICOLD_id', \n",
    "        'RES_NAME', 'DAM_NAME', 'RIVER', 'MAIN_BASIN', 'COUNTRY', 'YEAR',\n",
    "        'LONG_DD', 'LAT_DD', 'LisfloodX', 'LisfloodY',\n",
    "        'VOL_MCM', 'VOL_SRC', 'CATCH_SKM', 'CATCH_SRC', 'AVG_INFLOW', 'INFLOW_100', 'DOR',\n",
    "        'geometry']\n",
    "jrcbox = jrcbox[cols]\n",
    "jrcbox.rename(columns={'VOL_MCM': 'CAP_MCM', 'VOL_SRC': 'CAP_SRC'}, inplace=True)\n",
    "jrcbox.YEAR = jrcbox.YEAR.astype('Int64')"
   ]
  },
  {
   "cell_type": "code",
   "execution_count": 91,
   "id": "983aafc8-4575-4263-8a85-e5e32d169798",
   "metadata": {},
   "outputs": [],
   "source": [
    "# export\n",
    "path_jrcbox = Path('E:/casadje/jrcbox/Documents/EFAS6/reservoirs')\n",
    "jrcbox.to_file(path_jrcbox / 'GIS' / 'efas6_reservoirs.shp')\n",
    "jrcbox.drop('geometry', axis=1).to_excel(path_jrcbox / 'table' / 'efas6_reservoirs.xlsx')"
   ]
  }
 ],
 "metadata": {
  "kernelspec": {
   "display_name": "Python 3 (ipykernel)",
   "language": "python",
   "name": "python3"
  },
  "language_info": {
   "codemirror_mode": {
    "name": "ipython",
    "version": 3
   },
   "file_extension": ".py",
   "mimetype": "text/x-python",
   "name": "python",
   "nbconvert_exporter": "python",
   "pygments_lexer": "ipython3",
   "version": "3.9.13"
  }
 },
 "nbformat": 4,
 "nbformat_minor": 5
}
