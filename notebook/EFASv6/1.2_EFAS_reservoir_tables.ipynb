{
 "cells": [
  {
   "cell_type": "markdown",
   "id": "deef035b-e213-4fcd-b8e4-2c8662d64b96",
   "metadata": {
    "tags": []
   },
   "source": [
    "# Reservoirs tables - EFAS\n",
    "***\n",
    "\n",
    "**Author:** Chus Casado Rodríguez<br>\n",
    "**Date:** 02-03-2025<br>\n",
    "\n",
    "**Introduction:**<br>\n",
    "\n",
    "* [x] 100-year return period of inflow\n",
    "* [x] average inflow\n",
    "* [x] environmental flow\n",
    "* [x] storage capacity\n",
    "* [x] catchment area\n",
    "* [ ] reservoir area: it would be necessary if we want to model the reservoir surface area\n",
    "* [ ] elevation crest: it would be necessary if we want to model the reservoir level\n",
    "* [ ] dam height: it would be necessary if we want to model the reservoir level"
   ]
  },
  {
   "cell_type": "code",
   "execution_count": 1,
   "id": "7d00b5cc-e275-46e8-9130-df9119a9cf37",
   "metadata": {},
   "outputs": [],
   "source": [
    "import os\n",
    "os.environ['USE_PYGEOS'] = '0'\n",
    "import numpy as np\n",
    "import pandas as pd\n",
    "import xarray as xr\n",
    "import rioxarray as rxr\n",
    "import geopandas as gpd\n",
    "from pathlib import Path\n",
    "from tqdm.auto import tqdm\n",
    "import matplotlib.pyplot as plt\n",
    "from scipy.stats import linregress\n",
    "import cartopy.crs as ccrs\n",
    "import cartopy.feature as cf\n",
    "from datetime import datetime\n",
    "\n",
    "# BRANCH `lfoords` REQUIRED FOR THIS TOOL TO WORK!!!!\n",
    "import sys\n",
    "sys.path.append('E:/casadje/GitHub/lisflood-utilities/src/')\n",
    "from lisfloodutilities.thresholds import compute_thresholds_gumbel"
   ]
  },
  {
   "cell_type": "code",
   "execution_count": 2,
   "id": "ce8e8874-06af-4f61-9500-386e02379f56",
   "metadata": {},
   "outputs": [],
   "source": [
    "import warnings\n",
    "warnings.simplefilter(action='ignore', category=FutureWarning)"
   ]
  },
  {
   "cell_type": "code",
   "execution_count": 5,
   "id": "6307c5b8-4037-4d2b-8d84-4dc435b05025",
   "metadata": {},
   "outputs": [],
   "source": [
    "from lisfloodreservoirs.utils.plots import plot_reservoir_map, compare_attributes\n",
    "from lisfloodreservoirs.utils.ncextract import extract_timeseries"
   ]
  },
  {
   "cell_type": "code",
   "execution_count": 4,
   "id": "75dc141c-1155-41b6-bc71-080460c1352c",
   "metadata": {},
   "outputs": [],
   "source": [
    "import cartopy.feature as cfeature\n",
    "import cartopy.crs as ccrs"
   ]
  },
  {
   "cell_type": "markdown",
   "id": "afd51623-ce6b-4822-b7e0-bacb481594a9",
   "metadata": {
    "tags": []
   },
   "source": [
    "## Configuration"
   ]
  },
  {
   "cell_type": "code",
   "execution_count": 6,
   "id": "9648123a-475b-4228-9db1-69756cd8097c",
   "metadata": {},
   "outputs": [],
   "source": [
    "# paths\n",
    "PATH_EFAS5 = Path('Z:/nahaUsers/casadje/EFASv5')\n",
    "PATH_EFAS6 = Path('Z:/nahaUsers/casadje/EFASv6')\n",
    "PATH_GDW = Path('Z:/nahaUsers/casadje/datasets/reservoirs/GDW/GDW_v1_0_shp')\n",
    "PATH_OUT = PATH_EFAS6 / 'reservoirs' / 'tables'\n",
    "PATH_OUT.mkdir(parents=True, exist_ok=True)\n",
    "\n",
    "# minimum storage capacity included in EFAS\n",
    "MIN_VOLUME = 10 # hm³\n",
    "MIN_CATCHMENT = 50 # km²\n",
    "MIN_AREA = None # km²\n",
    "MIN_DOR = 0.08 # "
   ]
  },
  {
   "cell_type": "code",
   "execution_count": 7,
   "id": "18aecf85-7bbd-4019-acca-fed1c309f0ce",
   "metadata": {},
   "outputs": [],
   "source": [
    "PATH_PLOTS = PATH_OUT / 'plots'\n",
    "PATH_PLOTS.mkdir(parents=True, exist_ok=True)"
   ]
  },
  {
   "cell_type": "markdown",
   "id": "f689da47-a1e1-47a9-a527-f8ff42fa51b4",
   "metadata": {},
   "source": [
    "## Data\n",
    "\n",
    "### EFAS6\n",
    "\n",
    "I load a shapefile with the manual selection of reservoirs to be included in EFASv6, which have already been located in the LISFLOOD grid."
   ]
  },
  {
   "cell_type": "code",
   "execution_count": 51,
   "id": "ea993201-61f1-4b29-855b-6b11d146a606",
   "metadata": {},
   "outputs": [
    {
     "name": "stdout",
     "output_type": "stream",
     "text": [
      "(1545, 19)\n"
     ]
    }
   ],
   "source": [
    "# import shapefile\n",
    "# reservoirs = gpd.read_file(PATH_EFAS6 / 'reservoirs' / 'reservoirEfasV6.shp')\n",
    "efas6 = gpd.read_file(PATH_EFAS6 / 'reservoirs' / 'efas6_reservoirs.shp')\n",
    "id_cols = {col: col.upper() for col in efas6.columns if col.lower().endswith('id')}\n",
    "efas6.rename(columns=id_cols, inplace=True)\n",
    "efas6[['GRAND_ID', 'HYLAK_ID', 'RESID']] = efas6[['GRAND_ID', 'HYLAK_ID', 'RESID']].astype('Int64')\n",
    "\n",
    "# assing ID in descending order of storage capacity\n",
    "efas6.sort_values('CAP_MCM', ascending=False, inplace=True)\n",
    "efas6.reset_index(drop=True, inplace=True)\n",
    "efas6.index.name = 'ID'\n",
    "efas6.drop('ID', axis=1, errors='ignore', inplace=True)\n",
    "# efas6 = efas6[['ResID', 'GRAND_ID', 'Hylak_id', 'ICOLD_id', 'geometry']]\n",
    "# efas6['ID'] = efas6.index\n",
    "\n",
    "print(efas6.shape)"
   ]
  },
  {
   "cell_type": "code",
   "execution_count": 43,
   "id": "e6db3a50-9848-4f8d-885a-cf75f9d380d1",
   "metadata": {},
   "outputs": [],
   "source": [
    "# points of interest used to extract values from maps (coordinates from GloFAS5)\n",
    "poi6 = pd.concat((efas6.geometry.x, efas6.geometry.y), axis=1)\n",
    "poi6.columns = ['x', 'y']\n",
    "poi6 = poi6.to_xarray()"
   ]
  },
  {
   "cell_type": "markdown",
   "id": "9e322785-d877-4a5b-8039-8cb64f23bac0",
   "metadata": {},
   "source": [
    "### EFAS5\n",
    "\n",
    "#### Reservoirs"
   ]
  },
  {
   "cell_type": "code",
   "execution_count": 12,
   "id": "f83247f1-14a6-48a5-a703-93814e477c97",
   "metadata": {},
   "outputs": [
    {
     "name": "stdout",
     "output_type": "stream",
     "text": [
      "(1393, 34)\n"
     ]
    }
   ],
   "source": [
    "efas5 = gpd.read_file(PATH_EFAS5 / 'tables' / 'EFAS5_reservoirs.shp')#.set_index('ResID')\n",
    "\n",
    "# assign ID\n",
    "map_efas_ID = {ResID: ID for ID, ResID in zip(efas6.index, efas6.ResID) if not pd.isna(ResID)}\n",
    "efas5['ID'] = efas5.ResID.map(map_efas_ID).astype('Int64')\n",
    "\n",
    "# filter reservoirs in EFAS5 also in EFAS6\n",
    "efas5.dropna(subset=['ID'], inplace=True)\n",
    "efas5.set_index('ID', drop=False, inplace=True)\n",
    "\n",
    "print(efas5.shape)"
   ]
  },
  {
   "cell_type": "code",
   "execution_count": null,
   "id": "14b1cdd1-1557-4714-9d33-94ac01b2a466",
   "metadata": {},
   "outputs": [],
   "source": [
    "# # points of interest used to extract values from maps (coordinates from GloFAS5 or GloFAS4)\n",
    "# poi5 = pd.DataFrame(index=efas6.index, columns=['x', 'y'], dtype=float)\n",
    "# for ID in tqdm(poi5.index):\n",
    "#     if pd.notna(efas6.loc[ID, 'ResID']):\n",
    "#         lat, lon = efas5.loc[ID].geometry.y, efas5.loc[ID].geometry.x\n",
    "#     else:\n",
    "#         lat, lon = efas6.loc[ID].geometry.y, efas6.loc[ID].geometry.x\n",
    "#     poi5.loc[ID, :] = lon, lat\n",
    "# poi5.index.name = efas6.index.name\n",
    "# poi5 = poi5.to_xarray()"
   ]
  },
  {
   "cell_type": "markdown",
   "id": "64620745-dca8-4d2a-a3fb-937ffb381582",
   "metadata": {},
   "source": [
    "#### Static maps"
   ]
  },
  {
   "cell_type": "code",
   "execution_count": 14,
   "id": "204cacbf-f830-46b9-b9ab-05aef698d11d",
   "metadata": {},
   "outputs": [],
   "source": [
    "# load the upstream area map\n",
    "uparea = rxr.open_rasterio(PATH_EFAS5 / 'static_maps' / 'upArea_European_01min.nc').squeeze(dim='band')\n",
    "# uparea = uparea.where(uparea != -999999, np.nan)\n",
    "uparea = uparea.where(uparea >= 0, np.nan)\n",
    "uparea /= 1e6 # km2\n",
    "\n",
    "# local drainage direction map\n",
    "ldd = rxr.open_rasterio(PATH_EFAS5 / 'static_maps' / 'ldd_European_01min.nc').squeeze(dim='band')"
   ]
  },
  {
   "cell_type": "markdown",
   "id": "07eb7b0a-22e0-46d2-b69e-aced0b3e146f",
   "metadata": {},
   "source": [
    "#### Natural flow"
   ]
  },
  {
   "cell_type": "markdown",
   "id": "4e4d8be4-f044-4932-ac97-2d4734b1c060",
   "metadata": {
    "tags": []
   },
   "source": [
    "I have run the tool `ncextract` on the EFASv5 long-term run simulation with natural flow, i.e, no reservoirs and no water abstraction. The discharge files resulting from this simulation are in the HPC: `/mnt/DISASTER/FLOODS/nahaUsers/grimast/EFASNatflow/`.\n",
    "\n",
    "The discharge time series extracted for the reservoir locations are proxies of the reservoir inflow. From these time series we need to estimate the 100-year return period, average inflow and environmental flow."
   ]
  },
  {
   "cell_type": "code",
   "execution_count": 15,
   "id": "20879fa5-d816-472a-9d23-3842960ddca9",
   "metadata": {
    "tags": []
   },
   "outputs": [],
   "source": [
    "# # export CSV needed to run `ncextract`\n",
    "# points = pd.concat((efas6.geometry.x, efas6.geometry.y), axis=1)\n",
    "# points.columns = ['lon', 'lat']\n",
    "# points.to_csv(PATH_EFAS6 / 'reservoirs' / 'ancillary' / 'ncextract' / f'reservoirs_efas6_{len(efas6)}.csv')"
   ]
  },
  {
   "cell_type": "code",
   "execution_count": 16,
   "id": "05b6d57a-15ac-45a0-a692-70952bbb2c25",
   "metadata": {},
   "outputs": [],
   "source": [
    "# daily timeseries of naturalised discharge\n",
    "dis_nat = xr.open_dataset(PATH_EFAS6 / 'reservoirs' / 'ancillary' / 'ncextract' / f'nat_dis_EFAS5_{len(efas6)}.nc')['dis']\n",
    "dis_nat = dis_nat.sel(time=slice('1993-01-02', None))\n",
    "dis_nat.close()"
   ]
  },
  {
   "cell_type": "code",
   "execution_count": 17,
   "id": "1e2caac6-08ed-4d00-84dd-64de6a22eef8",
   "metadata": {},
   "outputs": [],
   "source": [
    "# 10th percentile of the natural flow\n",
    "dis_env_nat = xr.open_dataset(PATH_EFAS5 / 'natural_flow' / 'dis_all20_pctl10.nc')['dis'].squeeze('time')"
   ]
  },
  {
   "cell_type": "markdown",
   "id": "79977228-e241-41be-a526-83c6a9f33ed3",
   "metadata": {},
   "source": [
    "#### Long-term run\n",
    "Average discharge in the EFAS5 long-term run."
   ]
  },
  {
   "cell_type": "code",
   "execution_count": 19,
   "id": "211bc123-12e6-4786-9008-1484648d5055",
   "metadata": {},
   "outputs": [],
   "source": [
    "# average discharge\n",
    "dis_avg_ltr = rxr.open_rasterio(PATH_EFAS5 / 'long_run' / 'disavg_1992_2023.nc').squeeze(dim='time')\n",
    "dis_avg_ltr.close()\n",
    "\n",
    "# 100-year discharge\n",
    "dis_100_ltr = rxr.open_rasterio(PATH_EFAS5 / 'long_run' / 'flood_threshold_efas_v5.1_rl_100.0.nc').squeeze(dim='band')"
   ]
  },
  {
   "cell_type": "markdown",
   "id": "8b54cdc9-0f58-43c4-9ee9-18d74469f0ab",
   "metadata": {},
   "source": [
    "### Global Dam Watch"
   ]
  },
  {
   "cell_type": "code",
   "execution_count": 53,
   "id": "14ea51ee-98ae-4dd6-a323-c001b98dfb8e",
   "metadata": {},
   "outputs": [],
   "source": [
    "# load Global Dam Watch\n",
    "gdw = gpd.read_file(PATH_GDW / 'GDW_barriers_v1_0.shp').set_index('GDW_ID')\n",
    "gdw['GRAND_ID'] = gdw['GRAND_ID'].replace(0, np.nan).astype('Int64')\n",
    "gdw.replace(-99, np.nan, inplace=True)\n",
    "cols_years = ['YEAR_DAM', 'PRE_YEAR', 'ALT_YEAR', 'REM_YEAR']\n",
    "gdw[cols_years] = gdw[cols_years].astype('Int64')"
   ]
  },
  {
   "cell_type": "code",
   "execution_count": 54,
   "id": "ce9454a7-3644-4ed6-ae66-829afdb36cb5",
   "metadata": {},
   "outputs": [],
   "source": [
    "# map IDs in GRanD and GDW\n",
    "map_grand_gdw = {}\n",
    "for grand_id in efas6.GRAND_ID:\n",
    "    mask = gdw.GRAND_ID == grand_id\n",
    "    if mask.sum() > 0:\n",
    "        map_grand_gdw[grand_id] = gdw[mask].index.item()"
   ]
  },
  {
   "cell_type": "code",
   "execution_count": 55,
   "id": "8fb48fea-a4e3-45e0-8e18-176cb9b3b744",
   "metadata": {},
   "outputs": [
    {
     "data": {
      "text/plain": [
       "1520"
      ]
     },
     "execution_count": 55,
     "metadata": {},
     "output_type": "execute_result"
    }
   ],
   "source": [
    "len(map_grand_gdw)"
   ]
  },
  {
   "cell_type": "code",
   "execution_count": 56,
   "id": "0b8f3169-b760-4f97-a6dc-97ceb1303b4c",
   "metadata": {},
   "outputs": [
    {
     "data": {
      "text/plain": [
       "(1545, 19)"
      ]
     },
     "execution_count": 56,
     "metadata": {},
     "output_type": "execute_result"
    }
   ],
   "source": [
    "efas6.shape"
   ]
  },
  {
   "cell_type": "code",
   "execution_count": 57,
   "id": "75d45dc3-4161-4abb-bea3-dc1db0198c47",
   "metadata": {},
   "outputs": [
    {
     "data": {
      "text/plain": [
       "1520"
      ]
     },
     "execution_count": 57,
     "metadata": {},
     "output_type": "execute_result"
    }
   ],
   "source": [
    "efas6.GRAND_ID.notnull().sum()"
   ]
  },
  {
   "cell_type": "code",
   "execution_count": 58,
   "id": "7a17d968-1bd9-415c-918a-9877f32a3f24",
   "metadata": {},
   "outputs": [],
   "source": [
    "# add the GDW_ID to glofas5\n",
    "efas6['GDW_ID'] = efas6.GRAND_ID.map(map_grand_gdw)\n",
    "efas6['GDW_ID'] = efas6['GDW_ID'].astype('Int64')"
   ]
  },
  {
   "cell_type": "code",
   "execution_count": 59,
   "id": "8e53f778-b050-48a5-a14d-fd0cf2271005",
   "metadata": {},
   "outputs": [],
   "source": [
    "# export\n",
    "efas6.to_file(PATH_EFAS6 / 'reservoirs' / 'tables' / 'efas6_reservoirs+GDW.shp')"
   ]
  },
  {
   "cell_type": "code",
   "execution_count": 66,
   "id": "e4a92884-8597-4bbf-b4b8-6a32ce191c13",
   "metadata": {},
   "outputs": [
    {
     "data": {
      "text/plain": [
       "HYLAK_ID     97\n",
       "GRAND_ID     25\n",
       "RESID       152\n",
       "ICOLD_ID     33\n",
       "GDW_ID       25\n",
       "dtype: int64"
      ]
     },
     "execution_count": 66,
     "metadata": {},
     "output_type": "execute_result"
    }
   ],
   "source": [
    "efas6[efas6.columns.intersection(id_cols.values()).tolist() + ['GDW_ID']].isnull().sum()"
   ]
  },
  {
   "cell_type": "markdown",
   "id": "7f64d210-335f-47c0-a5ea-bcef2d26c3eb",
   "metadata": {},
   "source": [
    "### GRanD"
   ]
  },
  {
   "cell_type": "code",
   "execution_count": null,
   "id": "35641b4d-0ea5-4fab-af9a-ba5dc0c8a31c",
   "metadata": {},
   "outputs": [],
   "source": [
    "grand = gpd.read_file(PATH_EFAS6 / 'reservoirs' / 'GRanD' / 'grand_dams.shp')\n",
    "\n",
    "# connection between GRAND_ID and ID\n",
    "map_grand_ID = {grand_id: ID for ID, grand_id in zip(efas6.index, efas6.GRAND_ID) if not pd.isna(grand_id)}\n",
    "grand['ID'] = grand.GRAND_ID.map(map_grand_ID).astype('Int64')\n",
    "grand.rename(columns={'GRAND_ID': 'GRAND_ID'}, inplace=True)\n",
    "grand.set_index('GRAND_ID', drop=True, inplace=True)\n",
    "\n",
    "print(grand.shape)"
   ]
  },
  {
   "cell_type": "markdown",
   "id": "91b11e9a-46f9-4926-8a67-2dbde906dfdf",
   "metadata": {
    "tags": []
   },
   "source": [
    "### ICOLD"
   ]
  },
  {
   "cell_type": "code",
   "execution_count": null,
   "id": "468c6ae1-62ce-4755-93f7-2af9c5c1feef",
   "metadata": {
    "tags": []
   },
   "outputs": [],
   "source": [
    "icold = gpd.read_file(PATH_EFAS6 / 'reservoirs' / 'ICOLD' / 'icold.shp')#.set_index('Int_Code')\n",
    "\n",
    "# connection between ICOLD and ID\n",
    "map_icold_ID = {icold_id: ID for ID, icold_id in zip(efas6.index, efas6.ICOLD_id) if not pd.isna(icold_id)}\n",
    "icold['ID'] = icold.Int_Code.map(map_icold_ID).astype('Int64')\n",
    "icold.set_index('Int_Code', drop=True, inplace=True)\n",
    "\n",
    "print(icold.shape)"
   ]
  },
  {
   "cell_type": "markdown",
   "id": "15879f64-5f3e-419e-9785-b66156d2e036",
   "metadata": {
    "tags": []
   },
   "source": [
    "### HydroLakes"
   ]
  },
  {
   "cell_type": "code",
   "execution_count": null,
   "id": "c7b44ae1-0972-4a11-83b5-c45851157797",
   "metadata": {},
   "outputs": [],
   "source": [
    "# hylak = gpd.read_file(PATH_EFAS6 / 'reservoirs' / 'HydroLakes' / 'hydrolakes_dams.shp').set_index('Hylak_id')\n",
    "hylak = gpd.read_file(PATH_EFAS6 / 'lakes' / 'hydrolakes_domain.shp').set_index('Hylak_id', drop=True)\n",
    "hylak.Grand_id = hylak.Grand_id.replace(0, np.nan)\n",
    "\n",
    "# connection between GRanD and ID\n",
    "map_hylak_ID = {hylak_id: ID for ID, hylak_id in zip(efas6.index, efas6.Hylak_id) if not pd.isna(hylak_id)}\n",
    "hylak['ID'] = hylak.index.map(map_hylak_ID)\n",
    "# hylak.set_index('Hylak_id', drop=True, inplace=True)\n",
    "hylak = hylak[hylak.ID.notnull() | hylak.Grand_id.notnull()]"
   ]
  },
  {
   "cell_type": "markdown",
   "id": "4c152bcf-6217-44a4-b7c8-965cb6c35ec8",
   "metadata": {},
   "source": [
    "## Attributes\n",
    "### Capacity"
   ]
  },
  {
   "cell_type": "code",
   "execution_count": null,
   "id": "b01f3e18-ef52-430a-b1a4-4f0b34ee3132",
   "metadata": {},
   "outputs": [],
   "source": [
    "capacity = pd.DataFrame(index=efas6.index, columns=['EFAS5', 'GRAND', 'ICOLD', 'HYLAK', 'EFAS6', 'SOURCE'], dtype=float)\n",
    "capacity.SOURCE = capacity.SOURCE.astype(str)\n",
    "\n",
    "# EFAS5\n",
    "capacity.loc[efas5.index, 'EFAS5'] = efas5.tstor\n",
    "\n",
    "# GRanD\n",
    "# capacity.loc[efas6.index, 'GRAND'] = efas6.CAP_MCM\n",
    "mask = grand.ID.notnull()\n",
    "capacity.loc[grand.loc[mask, 'ID'], 'GRAND'] = grand.loc[mask, 'CAP_MCM'].values\n",
    "\n",
    "# ICOLD\n",
    "# capacity.loc[efas5.index, 'ICOLD'] = efas5.ICOLD_VOL\n",
    "mask = icold.ID.notnull()\n",
    "capacity.loc[icold.loc[mask, 'ID'], 'ICOLD'] = icold.loc[mask, 'Res_Vol'].values\n",
    "\n",
    "# HydroLakes\n",
    "mask = hylak.ID.notnull()\n",
    "capacity.loc[hylak.loc[mask, 'ID'], 'HYLAK'] = hylak.loc[mask, 'Vol_res'].values"
   ]
  },
  {
   "cell_type": "markdown",
   "id": "6cb9f8e7-ac1a-4226-950a-5a59efe1a95d",
   "metadata": {},
   "source": [
    "#### Comparison"
   ]
  },
  {
   "cell_type": "code",
   "execution_count": null,
   "id": "c46d5296-d4f0-4fd4-8ce2-ca5e7dbb3ada",
   "metadata": {},
   "outputs": [],
   "source": [
    "compare_attributes(\n",
    "    capacity[['EFAS5', 'GRAND', 'ICOLD', 'HYLAK']],\n",
    "    thr=MIN_VOLUME,\n",
    "    vmin=1e-1,\n",
    "    vmax=1e6,\n",
    "    title='storage (hm3)'\n",
    ")\n",
    "plt.savefig(PATH_OUT / 'plots' / 'storage_pairplot.jpg', dpi=300, bbox_inches='tight')"
   ]
  },
  {
   "cell_type": "code",
   "execution_count": null,
   "id": "642f0893-ea5c-402e-ae2f-d27720d0905a",
   "metadata": {
    "tags": []
   },
   "outputs": [],
   "source": [
    "# error = 2\n",
    "# mask_error = (capacity.GRAND < capacity.EFAS5 / error) | (capacity.GRAND > error * capacity.EFAS5)\n",
    "# print(mask_error.sum())\n",
    "# capacity[mask_error]"
   ]
  },
  {
   "cell_type": "markdown",
   "id": "44ad8400-a711-499a-b5cc-cfc7577d9935",
   "metadata": {},
   "source": [
    "#### Select values\n",
    "\n",
    "I have manually checked the large discrepancies between EFAS5 and GRanD. In case of discrepancy, I compare with ICOLD and HydroLakes. It seems like GRanD is a more reliable source, so I will use the value from GRanD whenever possible, if not the value from EFAS5."
   ]
  },
  {
   "cell_type": "code",
   "execution_count": null,
   "id": "c02b34a1-fc87-4c7d-9dde-1516e972c098",
   "metadata": {},
   "outputs": [],
   "source": [
    "# select value from GRAND, EFAS5, HYLAK or ICOLD in that order\n",
    "for source in ['GRAND', 'EFAS5', 'HYLAK', 'ICOLD']:\n",
    "    missing = capacity.EFAS6.isnull()\n",
    "    mask = capacity[source].notnull()\n",
    "    capacity.loc[missing & mask, 'EFAS6'] = capacity.loc[missing & mask, source]\n",
    "    capacity.loc[missing & mask, 'SOURCE'] = source\n",
    "\n",
    "fig, ax = plt.subplots(figsize=(20, 5), subplot_kw=dict(projection=ccrs.PlateCarree()))\n",
    "ax.add_feature(cfeature.NaturalEarthFeature('physical', 'land', '10m', edgecolor='face', facecolor='lightgray'), alpha=.5, zorder=0)\n",
    "sct = ax.scatter(\n",
    "    efas6.geometry.x,\n",
    "    efas6.geometry.y,\n",
    "    c=np.log10(capacity.EFAS6),\n",
    "    cmap='viridis_r',\n",
    "    s=5,\n",
    "    vmin=0,\n",
    "    # vmax=2.5\n",
    ")\n",
    "cbar = plt.colorbar(sct, shrink=.5, label='storage (hm3)')\n",
    "ticks = [0, 1, 2, 3, 4, 5]\n",
    "cbar.set_ticks(ticks)\n",
    "cbar.set_ticklabels([10**x for x in ticks])\n",
    "plt.axis('off');\n",
    "plt.savefig(PATH_OUT / 'plots' / 'storage_map.jpg', dpi=300, bbox_inches='tight')\n",
    "\n",
    "# add values to EFAS6\n",
    "efas6.loc[capacity.index, ['CAP_MCM', 'CAP_SRC']] = capacity[['EFAS6', 'SOURCE']].values\n",
    "\n",
    "print('{0} reservoirs do not comply with the minimum storage of {1} hm3'.format((efas6.CAP_MCM < MIN_VOLUME).sum(),\n",
    "                                                                                MIN_VOLUME))"
   ]
  },
  {
   "cell_type": "markdown",
   "id": "4edda088-9224-4d27-8962-27a2196df534",
   "metadata": {},
   "source": [
    "### Catchment area"
   ]
  },
  {
   "cell_type": "code",
   "execution_count": null,
   "id": "8ac4bed5-dc1f-486f-8775-07bb29795ba7",
   "metadata": {},
   "outputs": [],
   "source": [
    "catchment = pd.DataFrame(index=efas6.index, columns=['EFAS5', 'UPAREA', 'GRAND', 'ICOLD', 'HYLAK', 'EFAS6', 'SOURCE'], dtype=float)\n",
    "catchment.SOURCE = catchment.SOURCE.astype(str)\n",
    "\n",
    "# EFAS5\n",
    "catchment.loc[efas5.index, 'EFAS5'] = efas5['area']\n",
    "\n",
    "# upstream area map\n",
    "for ID, point in efas6.geometry.items():\n",
    "    catchment.loc[ID, 'UPAREA'] = uparea.sel(x=point.x, y=point.y, method='nearest').item() * 1e-6\n",
    "\n",
    "# GRanD\n",
    "mask = grand.ID.notnull()\n",
    "catchment.loc[grand.loc[mask, 'ID'], 'GRAND'] = grand.loc[mask, 'CATCH_SKM'].values\n",
    "\n",
    "# ICOLD\n",
    "# catchment.loc[efas5.index, 'ICOLD'] = efas5.ICOLD_AREA\n",
    "mask = icold.ID.notnull()\n",
    "catchment.loc[icold.loc[mask, 'ID'], 'ICOLD'] = icold.loc[mask, 'Catch_Area'].values\n",
    "\n",
    "# HydroLakes\n",
    "mask = hylak.ID.notnull()\n",
    "catchment.loc[hylak.loc[mask, 'ID'], 'HYLAK'] = hylak.loc[mask, 'Wshd_area'].values"
   ]
  },
  {
   "cell_type": "markdown",
   "id": "f6d695b4-c483-495f-994e-932a1c3f15bc",
   "metadata": {},
   "source": [
    "#### Comparison"
   ]
  },
  {
   "cell_type": "code",
   "execution_count": null,
   "id": "46bf41ea-cbe6-447e-b5a9-fc3b7b6638af",
   "metadata": {},
   "outputs": [],
   "source": [
    "compare_attributes(\n",
    "    catchment[['EFAS5', 'UPAREA', 'GRAND', 'HYLAK', 'ICOLD']],\n",
    "    thr=MIN_CATCHMENT,\n",
    "    vmin=1,\n",
    "    vmax=1e7,\n",
    "    title='catchment (km²)'\n",
    ")\n",
    "plt.savefig(PATH_OUT / 'plots' / 'catchment_pairplot.jpg', dpi=300, bbox_inches='tight')"
   ]
  },
  {
   "cell_type": "markdown",
   "id": "0927a49c-4af5-4634-bbb8-bdfeb5cff99c",
   "metadata": {},
   "source": [
    "#### Select values\n",
    "\n",
    "Following the procedure applied for the storage capacity, I will use the GRanD value when available."
   ]
  },
  {
   "cell_type": "code",
   "execution_count": null,
   "id": "1208beef-e820-402e-8d86-908610637b03",
   "metadata": {},
   "outputs": [],
   "source": [
    "# select value from GRAND, EFAS5, HYLAK or ICOLD in that order\n",
    "for source in ['GRAND', 'EFAS5', 'HYLAK', 'ICOLD', 'UPAREA']:\n",
    "    missing = catchment.EFAS6.isnull()\n",
    "    mask = catchment[source].notnull()\n",
    "    catchment.loc[missing & mask, 'EFAS6'] = catchment.loc[missing & mask, source]\n",
    "    catchment.loc[missing & mask, 'SOURCE'] = source\n",
    "\n",
    "fig, ax = plt.subplots(figsize=(20, 5), subplot_kw=dict(projection=ccrs.PlateCarree()))\n",
    "ax.add_feature(cfeature.NaturalEarthFeature('physical', 'land', '10m', edgecolor='face', facecolor='lightgray'), alpha=.5, zorder=0)\n",
    "sct = ax.scatter(\n",
    "    efas6.geometry.x,\n",
    "    efas6.geometry.y,\n",
    "    c=np.log10(catchment.EFAS6),\n",
    "    cmap='viridis_r',\n",
    "    s=5,\n",
    "    # vmin=0,\n",
    "    # vmax=2.5\n",
    ")\n",
    "cbar = plt.colorbar(sct, shrink=.5, label='catchment (km2)')\n",
    "ticks = [2, 4, 6]\n",
    "cbar.set_ticks(ticks)\n",
    "cbar.set_ticklabels([10**x for x in ticks])\n",
    "plt.axis('off');\n",
    "plt.savefig(PATH_OUT / 'plots' / 'catchment_map.jpg', dpi=300, bbox_inches='tight')\n",
    "\n",
    "# add values to EFAS6\n",
    "efas6.loc[catchment.index, ['CATCH_SKM', 'CATCH_SRC']] = catchment[['EFAS6', 'SOURCE']].values\n",
    "print('{0} reservoirs do not comply with the minimum catchment area of {1} km²'.format((efas6.CATCH_SKM < MIN_CATCHMENT).sum(),\n",
    "                                                                                       MIN_CATCHMENT))"
   ]
  },
  {
   "cell_type": "markdown",
   "id": "9e2e55ca-2d0b-40e4-8efc-90342808c651",
   "metadata": {},
   "source": [
    "### Surface area"
   ]
  },
  {
   "cell_type": "code",
   "execution_count": null,
   "id": "beb94729-4e95-4a36-a2ed-797acc50a3e0",
   "metadata": {},
   "outputs": [],
   "source": [
    "area = pd.DataFrame(index=efas6.index, columns=['GRAND', 'ICOLD', 'HYLAK', 'EFAS6', 'SOURCE'], dtype=float)\n",
    "area.SOURCE = area.SOURCE.astype(str)\n",
    "\n",
    "# GRanD\n",
    "mask = grand.ID.notnull()\n",
    "area.loc[grand.loc[mask, 'ID'], 'GRAND'] = grand.loc[mask, 'AREA_SKM'].values\n",
    "\n",
    "# ICOLD\n",
    "mask = icold.ID.notnull()\n",
    "area.loc[icold.loc[mask, 'ID'], 'ICOLD'] = icold.loc[mask, 'Res_Area'].values * 1e-3\n",
    "\n",
    "# HydroLakes\n",
    "mask = hylak.ID.notnull()\n",
    "area.loc[hylak.loc[mask, 'ID'], 'HYLAK'] = hylak.loc[mask, 'Lake_area'].values"
   ]
  },
  {
   "cell_type": "markdown",
   "id": "ed0962e7-d9a1-4d12-acd2-780f26c41390",
   "metadata": {},
   "source": [
    "#### Comparison"
   ]
  },
  {
   "cell_type": "code",
   "execution_count": null,
   "id": "42cc9450-b6de-4238-aa9c-4bafc5e2333a",
   "metadata": {},
   "outputs": [],
   "source": [
    "compare_attributes(\n",
    "    area[['GRAND', 'HYLAK', 'ICOLD']],\n",
    "    thr=MIN_AREA,\n",
    "    vmin=1,\n",
    "    vmax=1e7,\n",
    "    title='area (km²)'\n",
    ")\n",
    "plt.savefig(PATH_OUT / 'plots' / 'area_pairplot.jpg', dpi=300, bbox_inches='tight')"
   ]
  },
  {
   "cell_type": "markdown",
   "id": "a1033b76-1de4-4e95-a761-7acb9acfbf36",
   "metadata": {},
   "source": [
    "There is a eror in the units in some ICOLD values."
   ]
  },
  {
   "cell_type": "markdown",
   "id": "6868f1bd-5aea-4c69-88e5-dc8457f4e358",
   "metadata": {},
   "source": [
    "#### Select values"
   ]
  },
  {
   "cell_type": "code",
   "execution_count": null,
   "id": "4ded154f-62d4-412b-856a-f921f4f06bb7",
   "metadata": {},
   "outputs": [],
   "source": [
    "# select value from GRAND, EFAS5, HYLAK or ICOLD in that order\n",
    "for source in ['GRAND', 'HYLAK', 'ICOLD']:\n",
    "    missing = area.EFAS6.isnull()\n",
    "    mask = area[source].notnull()\n",
    "    area.loc[missing & mask, 'EFAS6'] = area.loc[missing & mask, source]\n",
    "    area.loc[missing & mask, 'SOURCE'] = source\n",
    "\n",
    "fig, ax = plt.subplots(figsize=(20, 5), subplot_kw=dict(projection=ccrs.PlateCarree()))\n",
    "ax.add_feature(cfeature.NaturalEarthFeature('physical', 'land', '10m', edgecolor='face', facecolor='lightgray'), alpha=.5, zorder=0)\n",
    "sct = ax.scatter(\n",
    "    efas6.geometry.x,\n",
    "    efas6.geometry.y,\n",
    "    c=np.log10(area.EFAS6),\n",
    "    cmap='viridis_r',\n",
    "    s=5,\n",
    "    # vmin=0,\n",
    "    # vmax=2.5\n",
    ")\n",
    "cbar = plt.colorbar(sct, shrink=.5, label='area (km2)')\n",
    "ticks = [0, 1, 2, 3]\n",
    "cbar.set_ticks(ticks)\n",
    "cbar.set_ticklabels([10**x for x in ticks])\n",
    "plt.axis('off');\n",
    "plt.savefig(PATH_OUT / 'plots' / 'area_map.jpg', dpi=300, bbox_inches='tight')\n",
    "\n",
    "# add values to EFAS6\n",
    "efas6.loc[area.index, ['AREA_SKM', 'AREA_SRC']] = area[['EFAS6', 'SOURCE']].values"
   ]
  },
  {
   "cell_type": "markdown",
   "id": "ecff9e6d-7670-4869-a86e-4e2bd8aeb0a7",
   "metadata": {},
   "source": [
    "### Mean inflow"
   ]
  },
  {
   "cell_type": "markdown",
   "id": "b9744131-4bdb-4946-adb5-fb7f20bc4b8d",
   "metadata": {},
   "source": [
    "I do not include the values reported in HydroLakes (`Dis_avg`) because they are identical to those in GRanD."
   ]
  },
  {
   "cell_type": "code",
   "execution_count": null,
   "id": "06050ca7-6b90-475d-a86c-adc66aa7de22",
   "metadata": {},
   "outputs": [],
   "source": [
    "dis_avg = pd.DataFrame(index=efas6.index, columns=['EFAS5', 'NAT_FLOW', 'LTR', 'GRAND', 'EFAS6', 'SOURCE'], dtype=float)\n",
    "dis_avg.SOURCE = dis_avg.SOURCE.astype(str)\n",
    "\n",
    "# EFAS5 reservoir parameter\n",
    "dis_avg.loc[efas5.index, 'EFAS5'] = efas5.normq\n",
    "\n",
    "# EFAS5 natural flow\n",
    "dis_avg['NAT_FLOW'] = dis_nat.mean('time').to_pandas()\n",
    "\n",
    "# EFAS5 long-run average\n",
    "for ID, point in efas6.geometry.items():\n",
    "    dis_avg.loc[ID, 'LTR'] = dis_avg_ltr.sel(x=point.x, y=point.y, method='nearest').item()\n",
    "\n",
    "# GRanD\n",
    "mask = grand.ID.notnull()\n",
    "dis_avg.loc[grand.loc[mask, 'ID'], 'GRAND'] = grand.loc[mask, 'DIS_AVG_LS'].values * 1e-3\n",
    "\n",
    "# HydroLakes\n",
    "mask = hylak.ID.notnull()\n",
    "dis_avg.loc[hylak.loc[mask, 'ID'], 'HYLAK'] = hylak.loc[mask, 'Dis_avg'].values"
   ]
  },
  {
   "cell_type": "markdown",
   "id": "fa219a27-34b9-4cba-b6c3-3ee55a92b323",
   "metadata": {},
   "source": [
    "#### Comparison"
   ]
  },
  {
   "cell_type": "code",
   "execution_count": null,
   "id": "b9cb1de5-3a10-4702-ba29-395d19c3a992",
   "metadata": {},
   "outputs": [],
   "source": [
    "compare_attributes(\n",
    "    dis_avg[['EFAS5', 'NAT_FLOW', 'LTR', 'GRAND']],\n",
    "    thr=0,\n",
    "    vmin=0.01,\n",
    "    vmax=1e4,\n",
    "    title='average discharge (m3/s)'\n",
    ")\n",
    "plt.savefig(PATH_OUT / 'plots' / 'dis_avg_pairplot.jpg', dpi=300, bbox_inches='tight')"
   ]
  },
  {
   "cell_type": "markdown",
   "id": "10cbe1ca-e329-4e24-bc56-2963c16d9bef",
   "metadata": {},
   "source": [
    "Some reservoirs have average flow surprisingly small. 390 reservoirs have a \"natural\" average inflow below 1 m3/s. That number was 534 for EFAS5, and 355 in GRanD. These low values indirectly affect the reservoirs that will be modelled as lakes, as the degree of regulation is the reservoir volume divided by the average inflow."
   ]
  },
  {
   "cell_type": "markdown",
   "id": "280a4654-55ed-4039-86df-62235085c664",
   "metadata": {},
   "source": [
    "#### Select values\n",
    "Despite the previous concern, I will use in all cases the naturalised average inflow."
   ]
  },
  {
   "cell_type": "code",
   "execution_count": null,
   "id": "d7863798-eb86-4e4b-8ac2-d94d97f8c41d",
   "metadata": {},
   "outputs": [],
   "source": [
    "# select values from the EFAS5 naturalised run\n",
    "dis_avg.EFAS6 = dis_avg.NAT_FLOW\n",
    "dis_avg.SOURCE = 'EFAS5_nat'\n",
    "\n",
    "fig, ax = plt.subplots(figsize=(20, 5), subplot_kw=dict(projection=ccrs.PlateCarree()))\n",
    "ax.add_feature(cfeature.NaturalEarthFeature('physical', 'land', '10m', edgecolor='face', facecolor='lightgray'), alpha=.5, zorder=0)\n",
    "sct = ax.scatter(\n",
    "    efas6.geometry.x,\n",
    "    efas6.geometry.y,\n",
    "    c=dis_avg.EFAS6 / catchment.UPAREA * 3.6 * 24,\n",
    "    cmap='viridis_r',\n",
    "    s=5,\n",
    ")\n",
    "cbar = plt.colorbar(sct, shrink=.5, label='average discharge\\n(mm/day)')\n",
    "plt.axis('off');\n",
    "plt.savefig(PATH_OUT / 'plots' / 'dis_avg_map.jpg', dpi=300, bbox_inches='tight')\n",
    "\n",
    "# add values to EFAS6\n",
    "efas6.loc[dis_avg.index, 'DISAVG_CMS'] = dis_avg['EFAS6'].round(1).values\n",
    "\n",
    "print('{0} reservoirs have an average inflow below 1 m3/s'.format((efas6.DISAVG_CMS < 1).sum()))"
   ]
  },
  {
   "cell_type": "markdown",
   "id": "10848891-a918-4ae8-bd11-b61fcb035ea9",
   "metadata": {},
   "source": [
    "### Degree of regulation\n",
    "\n",
    "The degree of regulation is the amount of annual inflow that the reservoir can store. I'll cap this value to 10,000 years (same as GRanD does), since it's not feasible that a reservoir was designed to store that amount of water."
   ]
  },
  {
   "cell_type": "code",
   "execution_count": null,
   "id": "23dc8939-575d-4f63-9a81-ff163cace9e7",
   "metadata": {},
   "outputs": [],
   "source": [
    "dor = pd.DataFrame(index=efas6.index, columns=['EFAS6', 'GRAND', 'HYLAK'], dtype=float)\n",
    "\n",
    "# EFAS6\n",
    "dor['EFAS6'] = np.minimum(efas6.CAP_MCM * 1e6 / (efas6.DISAVG_CMS  * 24 * 3600 * 365), 1e4)\n",
    "\n",
    "# GRanD\n",
    "mask = grand.ID.notnull()\n",
    "dor.loc[grand.loc[mask, 'ID'], 'GRAND'] = grand.loc[mask, 'DOR'].values\n",
    "\n",
    "# HydroLakes\n",
    "mask = hylak.ID.notnull()\n",
    "dor.loc[hylak.loc[mask, 'ID'], 'HYLAK'] = hylak.loc[mask, 'dor_pc_pva'].values"
   ]
  },
  {
   "cell_type": "markdown",
   "id": "a5a9fc07-bf94-4051-a0d0-1ca5340ae0af",
   "metadata": {},
   "source": [
    "#### Comparison"
   ]
  },
  {
   "cell_type": "code",
   "execution_count": null,
   "id": "d447b98d-588f-4f8d-b4c4-885940637c66",
   "metadata": {},
   "outputs": [],
   "source": [
    "compare_attributes(\n",
    "    dis_avg[['EFAS6', 'GRAND', 'HYLAK']],\n",
    "    thr=0,\n",
    "    vmin=0.001,\n",
    "    vmax=1e4,\n",
    "    title='degree of regulation (-)'\n",
    ")\n",
    "plt.savefig(PATH_OUT / 'plots' / 'dor_pairplot.jpg', dpi=300, bbox_inches='tight')"
   ]
  },
  {
   "cell_type": "markdown",
   "id": "de8e79e2-b4b8-43a6-840a-a1165376b80b",
   "metadata": {},
   "source": [
    "#### Select values\n",
    "\n",
    "I will use the values obtained from the attributes in EFAS6."
   ]
  },
  {
   "cell_type": "code",
   "execution_count": null,
   "id": "52b784b0-d402-4e6e-af50-bfbd823eab16",
   "metadata": {},
   "outputs": [],
   "source": [
    "fig, ax = plt.subplots(figsize=(20, 5), subplot_kw=dict(projection=ccrs.PlateCarree()))\n",
    "ax.add_feature(cfeature.NaturalEarthFeature('physical', 'land', '10m', edgecolor='face', facecolor='lightgray'), alpha=.5, zorder=0)\n",
    "sct = ax.scatter(\n",
    "    efas6.geometry.x,\n",
    "    efas6.geometry.y,\n",
    "    c=dor.EFAS6,\n",
    "    cmap='viridis_r',\n",
    "    s=5,\n",
    "    vmin=0,\n",
    "    vmax=10\n",
    ")\n",
    "cbar = plt.colorbar(sct, shrink=.5, label='degree of regulation\\n(-)')\n",
    "plt.axis('off');\n",
    "plt.savefig(PATH_OUT / 'plots' / 'dor_map.jpg', dpi=300, bbox_inches='tight')"
   ]
  },
  {
   "cell_type": "code",
   "execution_count": null,
   "id": "51917225-6dec-4ac0-bf65-78af888b620c",
   "metadata": {},
   "outputs": [],
   "source": [
    "efas6['DOR'] = dor.EFAS6.round(3)\n",
    "\n",
    "print('{0} reservoirs do not comply with the minimum degree of regulation {1}'.format((efas6.DOR < MIN_DOR).sum(),\n",
    "                                                                                       MIN_DOR))\n",
    "print('{0} reservoirs have a degree of regulation larger than 10 years'.format((efas6.DOR > 10).sum()))"
   ]
  },
  {
   "cell_type": "markdown",
   "id": "92ff439f-c9a4-4ae1-8745-62d1e23918bf",
   "metadata": {},
   "source": [
    "There are problems in the computation of the degree of regulation, inherited either from the reservoir storage or the average inflow. It's not realistic that 96 reservoirs were designed to store 10 years of inflow."
   ]
  },
  {
   "cell_type": "markdown",
   "id": "59076c50-93e3-4239-9ef0-1ce7cd389c17",
   "metadata": {},
   "source": [
    "### 100-year return period"
   ]
  },
  {
   "cell_type": "code",
   "execution_count": null,
   "id": "03439d5c-7300-4686-b5bd-d7d52181237b",
   "metadata": {
    "tags": []
   },
   "outputs": [],
   "source": [
    "dis_100 = pd.DataFrame(index=efas6.index, columns=['EFAS5', 'NAT_FLOW', 'LTR', 'EFAS6', 'SOURCE'], dtype=float)\n",
    "dis_100.SOURCE = dis_100.SOURCE.astype(str)\n",
    "\n",
    "# EFAS5\n",
    "dis_100.loc[efas5.index, 'EFAS5'] = efas5.ndq\n",
    "    \n",
    "# EFAS5 natural flow\n",
    "dis_max = dis_nat.groupby('time.year').max(dim='time')\n",
    "thresholds = compute_thresholds_gumbel(dis_max, return_periods=[100], dim='year')\n",
    "dis_100['NAT_FLOW'] = thresholds['rp_100'].to_pandas()\n",
    "\n",
    "# EFAS5 long-run average\n",
    "for ID, point in efas6.geometry.items():\n",
    "    dis_100.loc[ID, 'LTR'] = dis_100_ltr.sel(x=point.x, y=point.y, method='nearest').item()"
   ]
  },
  {
   "cell_type": "markdown",
   "id": "fd00ee3c-a51b-4654-a6f6-fd5fbf232059",
   "metadata": {},
   "source": [
    "#### Comparison"
   ]
  },
  {
   "cell_type": "code",
   "execution_count": null,
   "id": "5e781e9f-187a-46f5-a906-ab44a36c3989",
   "metadata": {},
   "outputs": [],
   "source": [
    "compare_attributes(\n",
    "    dis_100[['EFAS5', 'NAT_FLOW', 'LTR']],\n",
    "    thr=0,\n",
    "    vmin=0.1,\n",
    "    vmax=1e5,\n",
    "    title='100-year discharge (m3/s)',\n",
    "    # scale='linear'\n",
    ")\n",
    "plt.savefig(PATH_OUT / 'plots' / 'dis_100_pairplot.jpg', dpi=300, bbox_inches='tight');"
   ]
  },
  {
   "cell_type": "markdown",
   "id": "1a66398d-73e6-4b6d-a088-fbc8bb936185",
   "metadata": {},
   "source": [
    "There is a great difference in the values of reservoir 1540 (GRanD 6851), a reservoir in the Nile."
   ]
  },
  {
   "cell_type": "code",
   "execution_count": null,
   "id": "6c7cfaf3-0dd7-4986-b04e-947bd60d3155",
   "metadata": {},
   "outputs": [],
   "source": [
    "(dis_100.NAT_FLOW / dis_100.EFAS5).median()"
   ]
  },
  {
   "cell_type": "markdown",
   "id": "5a692867-7728-4809-ac5a-d41d5cbe8e81",
   "metadata": {},
   "source": [
    "The EFAS5 non-damaging flow must have been the 97th percentile of a previous EFAS run, so it's not exactely the 100-year return period computed here. The median difference between the 100-year inflow and the EFAS5 non-damaging flow is 3.2. Bear in mind that the flood outflow in the Hanazaki routine is by default 30% of the 100-year inflow, therefore overall similar values."
   ]
  },
  {
   "cell_type": "markdown",
   "id": "38bac150-ff59-4e2b-8e22-e0879fbd94f6",
   "metadata": {},
   "source": [
    "#### Select values"
   ]
  },
  {
   "cell_type": "code",
   "execution_count": null,
   "id": "236bdac2-a3b2-4341-acb6-1a6a3d815d58",
   "metadata": {},
   "outputs": [],
   "source": [
    "# select values from the EFAS5 naturalised run\n",
    "dis_100.EFAS6 = dis_100.NAT_FLOW\n",
    "dis_100.SOURCE = 'EFAS5_nat'\n",
    "\n",
    "fig, ax = plt.subplots(figsize=(20, 5), subplot_kw=dict(projection=ccrs.PlateCarree()))\n",
    "ax.add_feature(cfeature.NaturalEarthFeature('physical', 'land', '10m', edgecolor='face', facecolor='lightgray'), alpha=.5, zorder=0)\n",
    "sct = ax.scatter(\n",
    "    efas6.geometry.x,\n",
    "    efas6.geometry.y,\n",
    "    c=dis_100.EFAS6 / catchment.UPAREA * 3.6 * 24,\n",
    "    cmap='viridis_r',\n",
    "    s=5,\n",
    ")\n",
    "cbar = plt.colorbar(sct, shrink=.5, label='100-year discharge\\n(mm/day)')\n",
    "plt.axis('off');\n",
    "plt.savefig(PATH_OUT / 'plots' / 'dis_100_map.jpg', dpi=300, bbox_inches='tight')\n",
    "\n",
    "# add values to EFAS6\n",
    "efas6.loc[dis_100.index, 'DIS100_CMS'] = dis_100['EFAS6'].round(1).values\n",
    "\n",
    "print('{0} reservoirs have an 100-year inflow below 10 m3/s'.format((efas6.DIS100_CMS < 10).sum()))"
   ]
  },
  {
   "cell_type": "markdown",
   "id": "87037429-7ae1-42b4-aca1-6084bcf9a792",
   "metadata": {},
   "source": [
    "### Environment flow"
   ]
  },
  {
   "cell_type": "code",
   "execution_count": null,
   "id": "ba9b61ce-d9ae-4e11-9b1f-3d605c80cfe7",
   "metadata": {},
   "outputs": [],
   "source": [
    "dis_env = pd.DataFrame(index=efas6.index, columns=['EFAS5', 'NAT_FLOW', 'D2', 'EFAS6', 'SOURCE'], dtype=float)\n",
    "dis_env.SOURCE = dis_env.SOURCE.astype(str)\n",
    "\n",
    "# EFAS5\n",
    "dis_env.loc[efas5.index, 'EFAS5'] = efas5.minq\n",
    "\n",
    "# EFAS5 natural flow\n",
    "dis_env['NAT_FLOW'] = dis_nat.sel(time=slice('2000-01-01', None)).quantile(.1, dim='time').to_pandas()\n",
    "\n",
    "# EFAS5 naturalised run\n",
    "for ID, point in efas6.geometry.items():\n",
    "    dis_env.loc[ID, 'D2'] = dis_env_nat.sel(lon=point.x, lat=point.y, method='nearest').item()"
   ]
  },
  {
   "cell_type": "code",
   "execution_count": null,
   "id": "e15e4f6d-e469-4063-bb6e-2b4eac98eba1",
   "metadata": {},
   "outputs": [],
   "source": [
    "dis_env.describe()"
   ]
  },
  {
   "cell_type": "markdown",
   "id": "113f40d7-2214-4c23-9dd6-f44e055dfa7c",
   "metadata": {},
   "source": [
    "#### Comparison"
   ]
  },
  {
   "cell_type": "code",
   "execution_count": null,
   "id": "7c2c1fe1-8f7c-4eba-9665-9e0f0d4f71e7",
   "metadata": {},
   "outputs": [],
   "source": [
    "compare_attributes(\n",
    "    dis_env[['EFAS5', 'NAT_FLOW', 'D2']],\n",
    "    thr=0,\n",
    "    vmin=1e-4,\n",
    "    vmax=1e4,\n",
    "    title='environmental discharge (m3/s)',\n",
    "    # scale='linear'\n",
    ")\n",
    "plt.savefig(PATH_OUT / 'plots' / 'dis_env_pairplot.jpg', dpi=300, bbox_inches='tight');"
   ]
  },
  {
   "cell_type": "markdown",
   "id": "c7fe3bcf-aad0-485b-982f-958b56a5bbc7",
   "metadata": {},
   "source": [
    "#### Select values\n",
    "\n",
    "I will select the values extracted from the D2 map, as it limits extremely low values."
   ]
  },
  {
   "cell_type": "code",
   "execution_count": null,
   "id": "a230122e-f889-426f-aa80-6ab98cd9337f",
   "metadata": {},
   "outputs": [],
   "source": [
    "# select values from the EFAS5 naturalised run\n",
    "dis_env.EFAS6 = dis_env.D2\n",
    "dis_env.SOURCE = 'EFAS5_nat'\n",
    "\n",
    "fig, ax = plt.subplots(figsize=(20, 5), subplot_kw=dict(projection=ccrs.PlateCarree()))\n",
    "ax.add_feature(cfeature.NaturalEarthFeature('physical', 'land', '10m', edgecolor='face', facecolor='lightgray'), alpha=.5, zorder=0)\n",
    "sct = ax.scatter(\n",
    "    efas6.geometry.x,\n",
    "    efas6.geometry.y,\n",
    "    c=dis_env.EFAS6 / catchment.UPAREA * 3.6 * 24,\n",
    "    cmap='viridis_r',\n",
    "    s=5,\n",
    "    # vmin=0,\n",
    "    # vmax=2.5\n",
    ")\n",
    "cbar = plt.colorbar(sct, shrink=.5, label='environmental discharge\\n(mm/day)')\n",
    "plt.axis('off');\n",
    "plt.savefig(PATH_OUT / 'plots' / 'dis_env_map.jpg', dpi=300, bbox_inches='tight')\n",
    "\n",
    "# add values to EFAS6\n",
    "efas6.loc[dis_env.index, 'DISENV_CMS'] = dis_env['EFAS6'].round(4).values\n",
    "\n",
    "print('{0} reservoirs have an environmental flow below 0.1 m3/s'.format((efas6.DISENV_CMS < 0.1).sum()))"
   ]
  },
  {
   "cell_type": "markdown",
   "id": "57e2d175-bda9-4611-92ce-682dca5be916",
   "metadata": {},
   "source": [
    "There are very low values of environmental flow."
   ]
  },
  {
   "cell_type": "markdown",
   "id": "6db2b0f3-6fe4-432c-9d3c-577d18d5c655",
   "metadata": {},
   "source": [
    "## Export\n",
    "### Excel file"
   ]
  },
  {
   "cell_type": "code",
   "execution_count": null,
   "id": "f154519a-eaaa-473f-9abc-b5e90d11fc4a",
   "metadata": {},
   "outputs": [],
   "source": [
    "# copy efas6 as main source\n",
    "reservoirs = efas6.copy()\n",
    "\n",
    "# LISFLOOD coordinates\n",
    "reservoirs['LisfloodX'] = reservoirs.geometry.x\n",
    "reservoirs['LisfloodY'] = reservoirs.geometry.y\n",
    "\n",
    "# source of discharge data\n",
    "reservoirs['DIS_SRC'] = 'EFAS5_natflow'\n",
    "\n",
    "# add data from GRanD\n",
    "grand_ids = reservoirs.GRAND_ID.dropna()\n",
    "grand_cols = ['RES_NAME', 'DAM_NAME', 'RIVER', 'MAIN_BASIN', 'COUNTRY', 'YEAR', 'REM_YEAR', 'LONG_DD', 'LAT_DD']\n",
    "reservoirs.loc[grand_ids.index, grand_cols] = grand.loc[grand_ids.values, grand_cols].values\n",
    "\n",
    "# add info from EFAS5\n",
    "ids = reservoirs[reservoirs.GRAND_ID.isnull() & reservoirs.ResID.notnull()].index\n",
    "cols_efas5 = ['COUNTRY', 'DAM_NAME']\n",
    "reservoirs.loc[ids, cols_efas5] = efas5.loc[ids, cols_efas5]\n",
    "\n",
    "# reorder and rename columns\n",
    "cols = ['ResID', 'GRAND_ID', 'Hylak_id', 'ICOLD_id', \n",
    "        'RES_NAME', 'DAM_NAME', 'RIVER', 'MAIN_BASIN', 'COUNTRY', 'YEAR', 'REM_YEAR',\n",
    "        'LONG_DD', 'LAT_DD', 'LisfloodX', 'LisfloodY',\n",
    "        'CAP_MCM', 'CAP_SRC', 'CATCH_SKM', 'CATCH_SRC', 'AREA_SKM', 'AREA_SRC', 'DISENV_CMS', 'DISAVG_CMS', 'DIS100_CMS', 'DIS_SRC', 'DOR',\n",
    "        'geometry']\n",
    "reservoirs = reservoirs[cols]\n",
    "\n",
    "# adapt dtypes\n",
    "reservoirs[['YEAR', 'REM_YEAR']] = reservoirs[['YEAR', 'REM_YEAR']].astype('Int64')\n",
    "\n",
    "# reset index\n",
    "# reservoirs['FID'] = np.arange(1, reservoirs.shape[0] + 1)\n",
    "# reservoirs.loc[reservoirs.ResID > 5000, 'FID'] = reservoirs.loc[reservoirs.ResID > 5000, 'ResID']\n",
    "idx = []\n",
    "i = 6000\n",
    "for res_id in reservoirs.ResID.values:\n",
    "    if pd.isna(res_id):\n",
    "        i += 1\n",
    "        idx.append(i)\n",
    "    else:\n",
    "        idx.append(res_id)\n",
    "reservoirs['FID'] = idx\n",
    "reservoirs.set_index('FID', drop=True, inplace=True)\n",
    "reservoirs.sort_index(axis=0, inplace=True)\n",
    "\n",
    "mask_res = (reservoirs.DOR >= MIN_DOR) | ((reservoirs.index > 5000) & (reservoirs.index < 6000)) | (reservoirs.AREA_SKM.isnull())\n",
    "print('{0} reservoirs will be modelled as lakes'.format((~mask_res).sum()))"
   ]
  },
  {
   "cell_type": "code",
   "execution_count": null,
   "id": "444b717c-b81a-4b32-b2e2-7ff6ec694b16",
   "metadata": {},
   "outputs": [],
   "source": [
    "xls_file = PATH_OUT / 'efas6_reservoirs_{0}.xlsx'.format(datetime.now().strftime('%Y%m%d'))\n",
    "with pd.ExcelWriter(xls_file, engine='openpyxl') as writer:\n",
    "    # Reservoirs in EFAS6 (as reservoirs)\n",
    "    reservoirs[mask_res].drop('geometry', axis=1).to_excel(writer, sheet_name='as_reservoirs', float_format='%.4f')\n",
    "    \n",
    "    # Reservoirs modeled as lakes in EFAS6 (as lakes)\n",
    "    reservoirs[~mask_res].drop('geometry', axis=1).to_excel(writer, sheet_name='as_lakes', float_format='%.4f')\n",
    "print(f'Reservoir Excel table saved in : {xls_file}')"
   ]
  },
  {
   "cell_type": "markdown",
   "id": "63506e01-2eef-4514-a91b-5e18dc40ec72",
   "metadata": {},
   "source": [
    "### TXT tables"
   ]
  },
  {
   "cell_type": "code",
   "execution_count": null,
   "id": "cd949495-623d-4e3f-8600-84ef0ef72cf3",
   "metadata": {},
   "outputs": [],
   "source": [
    "# filter reservoirs to be modelled as reservoirs\n",
    "res = pd.read_excel(PATH_OUT / 'efas6_reservoirs.xlsx', sheet_name='as_reservoirs', index_col='FID')\n",
    "# res = reservoirs[mask_res]\n",
    "\n",
    "# table reservoir capacity\n",
    "(res.CAP_MCM * 1e6).to_csv(\n",
    "    PATH_OUT / 'reservoirs_efas6_capacity_{0}.txt'.format(datetime.now().strftime('%Y%m%d')),\n",
    "    sep='\\t',\n",
    "    header=None,\n",
    "    float_format='%.0f'\n",
    ")\n",
    "\n",
    "# table environmental flow\n",
    "res.DISENV_CMS.round(1).to_csv(\n",
    "    PATH_OUT / 'reservoirs_efas6_env_flow_{0}.txt'.format(datetime.now().strftime('%Y%m%d')),\n",
    "    sep='\\t',\n",
    "    header=None\n",
    ")\n",
    "\n",
    "# table average discharge\n",
    "res.DISAVG_CMS.round(1).to_csv(\n",
    "    PATH_OUT / 'reservoirs_efas6_avg_inflow_{0}.txt'.format(datetime.now().strftime('%Y%m%d')),\n",
    "    sep='\\t',\n",
    "    header=None\n",
    ")\n",
    "\n",
    "# table 100-year discharge\n",
    "res.DIS100_CMS.round(1).to_csv(\n",
    "    PATH_OUT / 'reservoirs_efas6_100yr_inflow_{0}.txt'.format(datetime.now().strftime('%Y%m%d')),\n",
    "    sep='\\t',\n",
    "    header=None\n",
    ")"
   ]
  },
  {
   "cell_type": "code",
   "execution_count": null,
   "id": "76d190fc-a0da-43cf-88d3-7920d0598957",
   "metadata": {},
   "outputs": [],
   "source": [
    "# years of construction and demolition\n",
    "res[['YEAR', 'REM_YEAR']].rename(columns={'YEAR': 'CONSTR_YEAR', 'REM_YEAR': 'DEMOL_YEAR'}).to_csv(\n",
    "    PATH_OUT / 'reservoirs_glofas5_years_ {0}.csv'.format(datetime.now().strftime('%Y%m%d')),\n",
    ")"
   ]
  },
  {
   "cell_type": "markdown",
   "id": "2da73eaa-25cb-446d-90fd-05a5fdfb6838",
   "metadata": {},
   "source": [
    "### NetCDF map"
   ]
  },
  {
   "cell_type": "code",
   "execution_count": null,
   "id": "f3b748b4-40ec-4fa6-9e13-06db4c68ba0f",
   "metadata": {},
   "outputs": [],
   "source": [
    "# load map from GloFAS4\n",
    "mapa = rxr.open_rasterio(PATH_EFAS5 / 'static_maps' / 'res_European_01min.nc')#.squeeze(dim='band').astype(int)\n",
    "mapa.close()\n",
    "\n",
    "# remove all lakes\n",
    "mapa[:,:] = 0\n",
    "\n",
    "# assign IDs of lakes in GloFAS5\n",
    "for ID, row in tqdm(res.iterrows(), total=len(res)):\n",
    "    pixel = mapa.sel({'x': row.LisfloodX, 'y': row.LisfloodY}, method='nearest')\n",
    "    mapa.loc[{'x': pixel.x.item(), 'y': pixel.y.item()}] = ID"
   ]
  },
  {
   "cell_type": "code",
   "execution_count": null,
   "id": "7b5fe3f1-8035-43cd-af57-0abc4cfaf1e0",
   "metadata": {},
   "outputs": [],
   "source": [
    "# modify attributes\n",
    "mapa.attrs['contributors'] = 'Juliana Disperati <juliana.disperati@ext.ec.europa.eu'\n",
    "mapa.attrs['creator'] = 'Jesús Casado Rodríguez <jesus.casado-rodriguez@ec.europa.eu'\n",
    "mapa.attrs['creator_name'] = 'casadje'\n",
    "mapa.attrs['history'] = ('Created {0}'.format(datetime.now().strftime(\"%a %b %e %H:%M:%S %Y\")))\n",
    "mapa.attrs['history_of_appended_files'] = ''\n",
    "mapa.attrs['institution'] = 'Joint Research Centre - European Commission'\n",
    "mapa.attrs['references'] = 'https://www.globaldamwatch.org/grand'\n",
    "mapa.attrs['long_name'] = 'reservoirs'\n",
    "\n",
    "# define coordinate reference system\n",
    "mapa = mapa.rio.write_crs('EPSG:4326')\n",
    "\n",
    "# export NetCDF map\n",
    "mapa.rio.to_raster(PATH_OUT / 'reservoirs_efas6_01min_{0}.nc'.format(datetime.now().strftime('%Y%m%d')))"
   ]
  },
  {
   "cell_type": "code",
   "execution_count": null,
   "id": "fa02eab1-db4a-429f-ad29-3d62286a1ede",
   "metadata": {},
   "outputs": [],
   "source": []
  }
 ],
 "metadata": {
  "kernelspec": {
   "display_name": "Python 3 (ipykernel)",
   "language": "python",
   "name": "python3"
  },
  "language_info": {
   "codemirror_mode": {
    "name": "ipython",
    "version": 3
   },
   "file_extension": ".py",
   "mimetype": "text/x-python",
   "name": "python",
   "nbconvert_exporter": "python",
   "pygments_lexer": "ipython3",
   "version": "3.9.13"
  }
 },
 "nbformat": 4,
 "nbformat_minor": 5
}
