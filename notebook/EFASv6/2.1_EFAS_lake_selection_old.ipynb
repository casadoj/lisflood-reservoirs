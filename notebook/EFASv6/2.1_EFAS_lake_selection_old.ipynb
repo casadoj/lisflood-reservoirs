{
 "cells": [
  {
   "cell_type": "markdown",
   "id": "e6cab479-b290-4ab0-a8ff-30206ddaeb0a",
   "metadata": {},
   "source": [
    "# Selection of lakes - EFAS\n",
    "***\n",
    "\n",
    "**Author:** Chus Casado Rodríguez<br>\n",
    "**Date:** 12-11-2024<br>\n",
    "\n",
    "**Introduction:**<br>\n",
    "This notebook selects lakes to be added in EFASv6. [HydroLakes](https://www.hydrosheds.org/products/hydrolakes) is used as the only dataset source, as it is the most recent and exhaustive. The code does the following:\n",
    "\n",
    "* Imports lakes and reservoirs already in EFAS.\n",
    "* Imports the HydroLake dataset and keeps only the lake or controlled lakes within the EFAS domain than comply with these rules:\n",
    "    * Lake volume of at least 10 hm3.\n",
    "    * Lake area of at least 5 km².\n",
    "    * Catchment area of at least 50 km².\n",
    "    * Degree of regulation of at least 30 days.\n",
    "* For the resulting selection of lakes, it defines the priority to be added to EFAS (1 for highest priority, 4 for lowest). It sorts the lakes in decreasing order of volume and selects the minimum number of lakes needed to reach a target percentage of the total lake storage in Europe.\n",
    "\n",
    "| % total volume | priority |\n",
    "| :------------- | :------- |\n",
    "| 80             | 1        |\n",
    "| 85             | 2        |\n",
    "| 90             | 3        |\n",
    "| 95             | 4        |\n",
    "| -              | -9999    |\n",
    "\n",
    "* Finally, it removes from the selection those lakes already included in EFAS5 either as lakes or reservoirs, and reservoirs selected to be added in EFAS6.\n",
    "\n",
    "**To do:**\n",
    "\n",
    "* [x] Find lakes in D2 selection that are not in my selection and viceversa\n",
    "* [ ] Check why lakes in EFAS are not in HydroLakes\n",
    "* [x] Remove from selection those lakes already in EFASv5\n",
    "* [ ] I haven't used at all the GLWD dataset. The reservoirs in EFASv5 were mostly source from GLWD level 1 or 2."
   ]
  },
  {
   "cell_type": "code",
   "execution_count": 1,
   "id": "36c7af24-1913-4e11-99de-225bdf8e8e45",
   "metadata": {},
   "outputs": [],
   "source": [
    "import os\n",
    "os.environ['USE_PYGEOS'] = '0'\n",
    "import glob\n",
    "import pandas as pd\n",
    "import dask.dataframe as dd\n",
    "import dask_geopandas as dgpd\n",
    "import numpy as np\n",
    "import xarray as xr\n",
    "import rioxarray as rxr\n",
    "import matplotlib.pyplot as plt\n",
    "%matplotlib inline\n",
    "import seaborn as sns\n",
    "import geopandas as gpd\n",
    "import cartopy.feature as cfeature\n",
    "import cartopy.crs as ccrs\n",
    "from tqdm.notebook import tqdm\n",
    "from shapely.geometry import Point\n",
    "from pathlib import Path"
   ]
  },
  {
   "cell_type": "code",
   "execution_count": 2,
   "id": "dd61998f-2ce3-4fa2-afab-569afe8e1ec9",
   "metadata": {},
   "outputs": [],
   "source": [
    "import warnings\n",
    "warnings.simplefilter(action='ignore', category=FutureWarning)"
   ]
  },
  {
   "cell_type": "code",
   "execution_count": 3,
   "id": "c936cd78-4580-4110-9d50-15dec8065b44",
   "metadata": {},
   "outputs": [],
   "source": [
    "from lisfloodreservoirs.utils.utils import filter_domain, filter_reservoirs, find_connections, remove_duplicates\n",
    "from lisfloodreservoirs.utils.plots import plot_reservoir_map"
   ]
  },
  {
   "cell_type": "code",
   "execution_count": 4,
   "id": "b20740c4-0422-4f6b-a6ee-52e0409a8929",
   "metadata": {},
   "outputs": [],
   "source": [
    "# def scientific_format(num):\n",
    "#     if num == 0:\n",
    "#         return '0'\n",
    "#     else:\n",
    "#         exponent = int(np.log10(abs(num)))\n",
    "#         prefix = num / 10**(exponent - 1)\n",
    "#         suffix = '⁰¹²³⁴⁵⁶⁷⁸⁹'[exponent]  # Unicode superscript digits for 0 to 9\n",
    "#         return f\"{prefix:.0f}{suffix}\""
   ]
  },
  {
   "cell_type": "markdown",
   "id": "7bcc9ddb-75dd-4700-82cc-180c012df7d3",
   "metadata": {
    "tags": []
   },
   "source": [
    "## Configuration"
   ]
  },
  {
   "cell_type": "code",
   "execution_count": 21,
   "id": "afac568f-4e85-4c5a-905c-497fa465a128",
   "metadata": {},
   "outputs": [],
   "source": [
    "# paths\n",
    "PATH_EFAS = Path('Z:/nahaUsers/casadje/EFASv5')\n",
    "PATH_DATASETS = Path('Z:/nahaUsers/casadje/datasets/')\n",
    "PATH_HYDROLAKES = PATH_DATASETS / 'lakes' / 'HydroLAKES'\n",
    "PATH_OUT = PATH_DATASETS / 'lakes' / 'EFASv6' #Path('../results/reservoirs/selection/EFAS/')\n",
    "PATH_OUT.mkdir(parents=True, exist_ok=True)\n",
    "\n",
    "# minimum storage capacity included in EFAS\n",
    "MIN_VOLUME = 10 # hm³\n",
    "MIN_AREA = 5 # km²\n",
    "MIN_CATCHMENT = 50 # km²\n",
    "MIN_DOR = 30 # days"
   ]
  },
  {
   "cell_type": "markdown",
   "id": "592a6be5-236f-4aca-96ed-56cdd546b773",
   "metadata": {},
   "source": [
    "## EFAS"
   ]
  },
  {
   "cell_type": "markdown",
   "id": "3b9045e8-bf45-44ca-9be4-ae9a7231a0be",
   "metadata": {},
   "source": [
    "### Static map"
   ]
  },
  {
   "cell_type": "code",
   "execution_count": 6,
   "id": "0a079622-6374-467d-ab1b-51bbbe5b0bed",
   "metadata": {},
   "outputs": [],
   "source": [
    "# load the upstream area map\n",
    "uparea = rxr.open_rasterio(PATH_EFAS / 'static_maps' / 'upArea_European_01min.nc').squeeze(dim='band')\n",
    "uparea = uparea.where(uparea != -999999, np.nan)\n",
    "\n",
    "# load the domain\n",
    "domain = rxr.open_rasterio(PATH_EFAS / 'static_maps' / 'domain_area_European_01min.nc').squeeze(dim='band')\n",
    "lon_min, lat_min, lon_max, lat_max = np.round(domain.rio.bounds(), 6)\n",
    "efas_cellsize = np.mean(np.diff(domain.x)) # degrees"
   ]
  },
  {
   "cell_type": "markdown",
   "id": "053a84c1-e58f-47ab-b596-72bc35ac5466",
   "metadata": {},
   "source": [
    "### Reservoirs"
   ]
  },
  {
   "cell_type": "code",
   "execution_count": 7,
   "id": "81190d65-7f13-4e85-8c29-68baf6a40e09",
   "metadata": {},
   "outputs": [],
   "source": [
    "# reservoirs in EFASv5\n",
    "efas_res = gpd.read_file(PATH_OUT.parent.parent / 'reservoirs' / 'EFASv6' / 'EFAS5' / 'efas5_reservoirs.shp')\n",
    "efas_res.set_index('ResID', drop=True, inplace=True)\n",
    "efas_res = efas_res[efas_res.GRAND_ID.notnull()]\n",
    "efas_res.GRAND_ID = efas_res.GRAND_ID.astype(int)"
   ]
  },
  {
   "cell_type": "code",
   "execution_count": 8,
   "id": "1f986b8b-da14-4583-bfd5-8b60bb40d4e9",
   "metadata": {},
   "outputs": [],
   "source": [
    "# reservoirs to be added in EFASv6\n",
    "grand_to_add = gpd.read_file(PATH_OUT.parent.parent / 'reservoirs' / 'EFASv6' / 'GRanD' / 'grand_to_add.shp')\n",
    "grand_to_add.set_index('GRAND_ID', drop=True, inplace=True)"
   ]
  },
  {
   "cell_type": "markdown",
   "id": "576c32b1-0e62-41c3-90e7-e44250dbf11f",
   "metadata": {},
   "source": [
    "### Lakes\n",
    "\n",
    "#### Raster"
   ]
  },
  {
   "cell_type": "code",
   "execution_count": 9,
   "id": "2d07cd98-19be-4d69-8abe-5d850d1b1824",
   "metadata": {
    "tags": []
   },
   "outputs": [
    {
     "data": {
      "application/vnd.jupyter.widget-view+json": {
       "model_id": "150a114a3a8048d7a093cf574b427bea",
       "version_major": 2,
       "version_minor": 0
      },
      "text/plain": [
       "  0%|          | 0/204 [00:00<?, ?it/s]"
      ]
     },
     "metadata": {},
     "output_type": "display_data"
    }
   ],
   "source": [
    "efas_raster = xr.open_dataset(PATH_EFAS / 'static_maps' / 'lakes_European_01min.nc')['lakes']\n",
    "\n",
    "# remove rows/columns with all NaN\n",
    "aux = efas_raster.where(~efas_raster.isnull(), drop=True)\n",
    "# extract an array of reservoir ID\n",
    "ids = np.unique(aux)\n",
    "ids = ids[~np.isnan(ids)]\n",
    "\n",
    "# extract coordinates of each reservoir\n",
    "efas_coords = pd.DataFrame(index=ids, columns=['lon', 'lat'])\n",
    "efas_area = pd.Series(index=ids, dtype=float)\n",
    "for ID in tqdm(efas_coords.index):\n",
    "    cell = efas_raster.where(efas_raster == ID, drop=True)\n",
    "    lon, lat = cell.lon.item(), cell.lat.item()\n",
    "    efas_coords.loc[int(ID)] = lon, lat\n",
    "    efas_area.loc[int(ID)] = uparea.sel(x=lon, y=lat, method='nearest', tolerance=1e-4).item()\n",
    "efas_coords = efas_coords.round(6)\n",
    "\n",
    "# convert area to km2\n",
    "efas_area *= 1e-6\n",
    "\n",
    "del aux"
   ]
  },
  {
   "cell_type": "markdown",
   "id": "86ddfeea-4b73-43db-b946-2f9bdf499ed5",
   "metadata": {},
   "source": [
    "#### Metadata"
   ]
  },
  {
   "cell_type": "code",
   "execution_count": 10,
   "id": "aa5c4d6d-61f7-4b5b-8081-abfdb6d396b7",
   "metadata": {},
   "outputs": [],
   "source": [
    "# load efas metadata\n",
    "efas = pd.read_csv(PATH_EFAS / 'tables' / 'EFAS_HRES_lakes_metadata.csv')\n",
    "efas.LakID = efas.LakID.astype(int)\n",
    "efas.set_index('LakID', inplace=True)\n",
    "efas = gpd.GeoDataFrame(efas,\n",
    "                        geometry=[Point(xy) for xy in zip(efas.LisfloodX, efas.LisfloodY)],\n",
    "                        crs=4326)\n",
    "\n",
    "# add catchment area (km2)\n",
    "efas['catch_area'] = efas_area\n",
    "\n",
    "# add attributes from the tables used in LISFLOOD\n",
    "prefix = 'lake'\n",
    "for file in (PATH_EFAS / 'tables').glob(f'{prefix}*.txt'):\n",
    "    var = file.stem.removeprefix(prefix)\n",
    "    try:\n",
    "        df = pd.read_csv(file, sep=' ', header=None)\n",
    "        df.dropna(axis=1, how='all', inplace=True)\n",
    "        df.columns = ['LakID', var]\n",
    "        df.set_index('LakID', inplace=True, drop=True)\n",
    "        efas[var] = df\n",
    "    except:\n",
    "        print(file)\n",
    "        continue\n",
    "\n",
    "# convert area to km2\n",
    "efas['area'] /= 1e6 \n",
    "\n",
    "efas.rename(columns={col: col.upper() for col in efas.columns if col != 'geometry'},\n",
    "            inplace=True)"
   ]
  },
  {
   "cell_type": "markdown",
   "id": "c7aed72b-d97c-4db7-a96d-762eff5927ae",
   "metadata": {},
   "source": [
    "#### Comparison"
   ]
  },
  {
   "cell_type": "code",
   "execution_count": 11,
   "id": "0e4c0f6e-bf3d-499d-b103-582e6d0b3dab",
   "metadata": {},
   "outputs": [
    {
     "name": "stdout",
     "output_type": "stream",
     "text": [
      "no. lakes in the metadata:\t204\n",
      "no. lakes in the raster:\t204\n",
      "lakes missing in the metadata:\t[]\n",
      "lakes missing in the raster:\t[]\n"
     ]
    }
   ],
   "source": [
    "print('no. lakes in the metadata:\\t{0}'.format(efas.shape[0]))\n",
    "print('no. lakes in the raster:\\t{0}'.format(efas_coords.shape[0]))\n",
    "print('lakes missing in the metadata:\\t{0}'.format(efas_coords.index.difference(efas.index).to_list()))\n",
    "print('lakes missing in the raster:\\t{0}'.format(efas.index.difference(efas_coords.index).to_list()))"
   ]
  },
  {
   "cell_type": "code",
   "execution_count": 14,
   "id": "e895d980-6d76-45e9-a1f5-4587ec212117",
   "metadata": {},
   "outputs": [
    {
     "data": {
      "image/png": "[encoded data removed]",
      "text/plain": [
       "<Figure size 2000x500 with 1 Axes>"
      ]
     },
     "metadata": {},
     "output_type": "display_data"
    }
   ],
   "source": [
    "# plot lake map\n",
    "plot_reservoir_map(\n",
    "    efas.geometry,\n",
    "    efas.AREA_KM2,\n",
    "    efas.CATCH_AREA,\n",
    "    # save=PATH_OUT / 'efasv5_lakes.jpg'\n",
    ")"
   ]
  },
  {
   "cell_type": "markdown",
   "id": "ee1e30f7-08ee-47c0-b37c-741908dfa328",
   "metadata": {},
   "source": [
    ">***Figure 1**. Lakes included in GloFAS. The size of the dots represents the lake area.*"
   ]
  },
  {
   "cell_type": "code",
   "execution_count": 13,
   "id": "163fce51-2bd1-46bd-b13b-e5548687e75d",
   "metadata": {},
   "outputs": [],
   "source": [
    "# # map of GloFAS lakes\n",
    "# fig, ax = plt.subplots(figsize=(20, 5), subplot_kw=dict(projection=ccrs.PlateCarree()))\n",
    "# ax.add_feature(cfeature.NaturalEarthFeature('physical', 'land', '110m', edgecolor='face', facecolor='lightgray'), alpha=.5, zorder=0)\n",
    "# # glofas.plot(markersize=glofas.A * .5e-2, alpha=.5, ax=ax)#, cmap='coolwarm', c=grand_dams.DOR_PC\n",
    "# scatter = ax.scatter(glofas.geometry.x, glofas.geometry.y, s=glofas.A / 1000, alpha=.5)\n",
    "# ax.text(.5, 1.125, 'GloFAS lakes', horizontalalignment='center', verticalalignment='bottom', transform=ax.transAxes, fontsize=12)\n",
    "# text = '{0} lakes\\n{1:.0f}·10³ km²'.format(glofas.shape[0], glofas.A.sum() / 1000)\n",
    "# ax.text(.5, 1.02, text, horizontalalignment='center', verticalalignment='bottom', transform=ax.transAxes)\n",
    "# ax.axis('off');\n",
    "\n",
    "# # legend\n",
    "# legend2 = ax.legend(*scatter.legend_elements(prop='sizes', num=4, alpha=.5), title='area (10³ km²)', bbox_to_anchor=[1.025, .3, .1, .4], frameon=False)\n",
    "# ax.add_artist(legend2);\n",
    "\n",
    "# # save\n",
    "# plt.savefig(f'{path_out}glofas_lakes.jpg', dpi=300, bbox_inches='tight')\n",
    "\n",
    "# print('no. lakes in GloFAS:\\t\\t{0}\\t({1} with A > {2} km²)'.format(glofas.shape[0], (glofas.A >= MIN_CATCHMENT).sum(), MIN_CATCHMENT))\n",
    "# print('total lake area in GloFAS:\\t{0:.0f} km²'.format(glofas.A.sum()))"
   ]
  },
  {
   "cell_type": "code",
   "execution_count": 14,
   "id": "c8cffa0e-5a1e-4809-8afc-83ed7f7588f3",
   "metadata": {},
   "outputs": [],
   "source": [
    "# efas.to_file(PATH_OUT / 'efasv5_lakes.shp')"
   ]
  },
  {
   "cell_type": "code",
   "execution_count": 15,
   "id": "3f95e7d6-0f3e-4e7b-bcb5-b464fb745fc2",
   "metadata": {},
   "outputs": [
    {
     "name": "stdout",
     "output_type": "stream",
     "text": [
      "Area of the smallest lake:\t1.600 km²\n"
     ]
    },
    {
     "data": {
      "image/png": "[encoded data removed]",
      "text/plain": [
       "<Figure size 500x500 with 1 Axes>"
      ]
     },
     "metadata": {},
     "output_type": "display_data"
    }
   ],
   "source": [
    "# distribution of the lake area\n",
    "sns.displot(efas.AREA_KM2)\n",
    "plt.xlabel('area (km²)')\n",
    "plt.ylabel('no. lakes');\n",
    "plt.xscale('log');\n",
    "\n",
    "print('Area of the smallest lake:\\t{0:.3f} km²'.format(efas.AREA_KM2.min()))"
   ]
  },
  {
   "cell_type": "markdown",
   "id": "136d0b1c-7d37-4db9-9c09-4da88fd78743",
   "metadata": {},
   "source": [
    ">***Figure 2**. Lake surface area distribution in GloFAS.*\n",
    "\n",
    "As explained in [Zajac et al. (2017)](https://www.sciencedirect.com/science/article/pii/S0022169417301671), only lakes with a minimum area of 50 km² are included in GloFAS."
   ]
  },
  {
   "cell_type": "markdown",
   "id": "f587fd4c-0f30-4b0e-8da3-e23bad6ef8d6",
   "metadata": {},
   "source": [
    "### Selection rules"
   ]
  },
  {
   "cell_type": "code",
   "execution_count": 16,
   "id": "e1262d2a-7e7d-4edd-8813-256f89dcf7d8",
   "metadata": {
    "collapsed": true,
    "jupyter": {
     "outputs_hidden": true
    },
    "tags": []
   },
   "outputs": [
    {
     "ename": "AttributeError",
     "evalue": "'GeoDataFrame' object has no attribute 'Hylak_id'",
     "output_type": "error",
     "traceback": [
      "\u001b[1;31m---------------------------------------------------------------------------\u001b[0m",
      "\u001b[1;31mAttributeError\u001b[0m                            Traceback (most recent call last)",
      "Cell \u001b[1;32mIn [16], line 1\u001b[0m\n\u001b[1;32m----> 1\u001b[0m mask_hylak \u001b[38;5;241m=\u001b[39m \u001b[43mefas\u001b[49m\u001b[38;5;241;43m.\u001b[39;49m\u001b[43mHylak_id\u001b[49m \u001b[38;5;241m!=\u001b[39m \u001b[38;5;241m-\u001b[39m\u001b[38;5;241m9999\u001b[39m\n\u001b[0;32m      2\u001b[0m \u001b[38;5;28mprint\u001b[39m(\u001b[38;5;124m'\u001b[39m\u001b[38;5;132;01m{0:>5}\u001b[39;00m\u001b[38;5;124m lakes (\u001b[39m\u001b[38;5;132;01m{1:.0f}\u001b[39;00m\u001b[38;5;124m km3) have a HydroLakes ID\u001b[39m\u001b[38;5;124m'\u001b[39m\u001b[38;5;241m.\u001b[39mformat(\n\u001b[0;32m      3\u001b[0m     mask_hylak\u001b[38;5;241m.\u001b[39msum(),\n\u001b[0;32m      4\u001b[0m     efas[mask_hylak]\u001b[38;5;241m.\u001b[39mHYLAK_VOL\u001b[38;5;241m.\u001b[39msum() \u001b[38;5;241m*\u001b[39m \u001b[38;5;241m1e-3\u001b[39m\n\u001b[0;32m      5\u001b[0m ))\n\u001b[0;32m      7\u001b[0m mask_catchment \u001b[38;5;241m=\u001b[39m efas\u001b[38;5;241m.\u001b[39mAREA_KM2 \u001b[38;5;241m>\u001b[39m\u001b[38;5;241m=\u001b[39m MIN_CATCHMENT\n",
      "File \u001b[1;32mC:\\DEV\\Anaconda3\\envs\\xr\\lib\\site-packages\\pandas\\core\\generic.py:5575\u001b[0m, in \u001b[0;36mNDFrame.__getattr__\u001b[1;34m(self, name)\u001b[0m\n\u001b[0;32m   5568\u001b[0m \u001b[38;5;28;01mif\u001b[39;00m (\n\u001b[0;32m   5569\u001b[0m     name \u001b[38;5;129;01mnot\u001b[39;00m \u001b[38;5;129;01min\u001b[39;00m \u001b[38;5;28mself\u001b[39m\u001b[38;5;241m.\u001b[39m_internal_names_set\n\u001b[0;32m   5570\u001b[0m     \u001b[38;5;129;01mand\u001b[39;00m name \u001b[38;5;129;01mnot\u001b[39;00m \u001b[38;5;129;01min\u001b[39;00m \u001b[38;5;28mself\u001b[39m\u001b[38;5;241m.\u001b[39m_metadata\n\u001b[0;32m   5571\u001b[0m     \u001b[38;5;129;01mand\u001b[39;00m name \u001b[38;5;129;01mnot\u001b[39;00m \u001b[38;5;129;01min\u001b[39;00m \u001b[38;5;28mself\u001b[39m\u001b[38;5;241m.\u001b[39m_accessors\n\u001b[0;32m   5572\u001b[0m     \u001b[38;5;129;01mand\u001b[39;00m \u001b[38;5;28mself\u001b[39m\u001b[38;5;241m.\u001b[39m_info_axis\u001b[38;5;241m.\u001b[39m_can_hold_identifiers_and_holds_name(name)\n\u001b[0;32m   5573\u001b[0m ):\n\u001b[0;32m   5574\u001b[0m     \u001b[38;5;28;01mreturn\u001b[39;00m \u001b[38;5;28mself\u001b[39m[name]\n\u001b[1;32m-> 5575\u001b[0m \u001b[38;5;28;01mreturn\u001b[39;00m \u001b[38;5;28;43mobject\u001b[39;49m\u001b[38;5;241;43m.\u001b[39;49m\u001b[38;5;21;43m__getattribute__\u001b[39;49m\u001b[43m(\u001b[49m\u001b[38;5;28;43mself\u001b[39;49m\u001b[43m,\u001b[49m\u001b[43m \u001b[49m\u001b[43mname\u001b[49m\u001b[43m)\u001b[49m\n",
      "\u001b[1;31mAttributeError\u001b[0m: 'GeoDataFrame' object has no attribute 'Hylak_id'"
     ]
    }
   ],
   "source": [
    "mask_hylak = efas.Hylak_id != -9999\n",
    "print('{0:>5} lakes ({1:.0f} km3) have a HydroLakes ID'.format(\n",
    "    mask_hylak.sum(),\n",
    "    efas[mask_hylak].HYLAK_VOL.sum() * 1e-3\n",
    "))\n",
    "\n",
    "mask_catchment = efas.AREA_KM2 >= MIN_CATCHMENT\n",
    "print('{0:>5} lakes ({1:.0f} km3) have a catchment larger than {2} km2'.format(\n",
    "    mask_catchment.sum(),\n",
    "    efas[mask_catchment].HYLAK_VOL.sum() * 1e-3,\n",
    "    MIN_CATCHMENT\n",
    "))\n",
    "\n",
    "mask_volume = efas.HYLAK_VOL >= MIN_VOLUME\n",
    "print('{0:>5} lakes ({1:.0f} km3) have a volume larger than {2} hm3'.format(\n",
    "    mask_volume.sum(),\n",
    "    efas[mask_volume].HYLAK_VOL.sum() * 1e-3,\n",
    "    MIN_VOLUME\n",
    "))\n",
    "\n",
    "mask_residence = efas.HYLAK_DOR >= MIN_DOR\n",
    "print('{0:>5} lakes ({1:.0f} km3) have a residence time larger than {2} days'.format(\n",
    "    mask_residence.sum(),\n",
    "    efas[mask_residence].HYLAK_VOL.sum() * 1e-3,\n",
    "    MIN_DOR\n",
    "))\n",
    "\n",
    "mask_area = efas.AREA_KM2 >= MIN_AREA\n",
    "print('{0:>5} lakes ({1:.0f} km3) have a surface area larger than {2} km2'.format(\n",
    "    mask_area.sum(),\n",
    "    efas[mask_area].HYLAK_VOL.sum() * 1e-3,\n",
    "    MIN_AREA\n",
    "))\n",
    "\n",
    "mask_cvr = mask_volume & mask_residence & mask_catchment\n",
    "print('{0:>5} lakes ({1:.0f} km3) comply with the catchment, volume and residence time rules'.format(\n",
    "    mask_cvr.sum(),\n",
    "    efas[mask_cvr].HYLAK_VOL.sum() * 1e-3,\n",
    "))\n",
    "\n",
    "mask_cvra = mask_cvr & mask_area\n",
    "print('{0:>5} lakes ({1:.0f} km3) comply with the catchment, volume, residence time and area rules'.format(\n",
    "    mask_cvra.sum(),\n",
    "    efas[mask_cvra].HYLAK_VOL.sum() * 1e-3,\n",
    "))"
   ]
  },
  {
   "cell_type": "markdown",
   "id": "16a606f5-7683-4f7f-889a-295c43d86eec",
   "metadata": {},
   "source": [
    "## HydroLakes"
   ]
  },
  {
   "cell_type": "markdown",
   "id": "f5b735a6-b0ef-4351-b303-ff3e7e534b24",
   "metadata": {},
   "source": [
    "HydroLAKES ([Messager et al., 2016](https://www.nature.com/articles/ncomms13603)) contains more than 1.4 million points of water bodies (both lakes, controlled lakes and reservoirs). \n",
    "\n",
    "Interesting fields:\n",
    "\n",
    "* `Lake_type` indicates the type of water body:\n",
    "    * 1: lake.\n",
    "    * 2: reservoir.\n",
    "    * 3: lake control\n",
    "* `Lake_area`: surface area in km².\n",
    "* `Vol_total`: total lake/reservoir volume in hm³.\n",
    "* `Vol_res`: reported reservoir volume, or storage volume of added lake regulation (hm³)\n",
    "* `Vol_src`: source of volume data:\n",
    "    * 1: ‘Vol_total’ is the reported total lake volume from literature\n",
    "    * 2: ‘Vol_total’ is the reported total reservoir volume from GRanD or literature\n",
    "    * 3: ‘Vol_total’ is the estimated total lake volume using the geostatistical modeling approach by Messager et al. (2016)\n",
    "* `Depth_avg`: average depth in m.\n",
    "* `Dis_avg`: average long-term discharge (m3).\n",
    "* `Res_time`: average residence time in days.\n",
    "* `Wshd_area`: area of the lake's watershed in km2.\n",
    "* `Pour_long` and `Pour_lat` are the coordinates of the pour point in decimal degrees.\n",
    "* `dis_m3_pyr`: annual average natural discharge."
   ]
  },
  {
   "cell_type": "markdown",
   "id": "bbeba247-07dc-4dc9-a165-51c256ab5039",
   "metadata": {},
   "source": [
    "### Import\n",
    "\n",
    "#### Outlets"
   ]
  },
  {
   "cell_type": "code",
   "execution_count": null,
   "id": "c63862cb-20c4-40da-b130-42829618dfcb",
   "metadata": {},
   "outputs": [],
   "source": [
    "# # columns to be used from HydroATLAS\n",
    "# cols = ['Hylak_id', 'Lake_name', 'Country', 'Continent', 'Poly_src', 'Lake_type', 'Grand_id', 'Lake_area',\n",
    "#         'Shore_len', 'Shore_dev', 'Vol_total', 'Vol_res', 'Vol_src', 'Depth_avg', 'Dis_avg',\n",
    "#         'Res_time', 'Elevation', 'Slope_100', 'Wshd_area', 'Pour_long', 'Pour_lat', 'dis_m3_pyr']"
   ]
  },
  {
   "cell_type": "code",
   "execution_count": 22,
   "id": "9e9e946c-4248-4594-aae2-f2c0337d74a7",
   "metadata": {},
   "outputs": [
    {
     "data": {
      "application/vnd.jupyter.widget-view+json": {
       "model_id": "61a284da3fc24090949a198f7b6c553c",
       "version_major": 2,
       "version_minor": 0
      },
      "text/plain": [
       "  0%|          | 0/106553 [00:00<?, ?it/s]"
      ]
     },
     "metadata": {},
     "output_type": "display_data"
    }
   ],
   "source": [
    "# load HydroLAKES\n",
    "hydrolakes= dgpd.read_file(\n",
    "    PATH_HYDROLAKES / 'LakeATLAS_v10_shp' / 'LakeATLAS_v10_pnt_east.shp',\n",
    "    # columns=cols,\n",
    "    npartitions=10\n",
    ").set_index('Hylak_id', drop=True)\n",
    "\n",
    "# keep only lakes (1) and lagoons (3)\n",
    "hydrolakes = hydrolakes[hydrolakes.Lake_type.isin([1, 3])].compute()\n",
    "\n",
    "# filter by extent\n",
    "mask_extent = (lon_min <= hydrolakes.geometry.x) &  (hydrolakes.geometry.x <= lon_max) & (lat_min <= hydrolakes.geometry.y) & (hydrolakes.geometry.y <= lat_max)\n",
    "hydrolakes = hydrolakes[mask_extent]\n",
    "\n",
    "# keep points inside the domain\n",
    "pbar = tqdm(hydrolakes.iterrows(), total=hydrolakes.shape[0])\n",
    "mask_domain = [\n",
    "    ID for ID, point in pbar\n",
    "    if domain.sel(x=point.geometry.x, y=point.geometry.y, method='nearest').item() == 1\n",
    "]\n",
    "hydrolakes = hydrolakes.loc[mask_domain]"
   ]
  },
  {
   "cell_type": "code",
   "execution_count": 23,
   "id": "0c376cf9-199b-46a1-91e2-5d554cf87be7",
   "metadata": {},
   "outputs": [
    {
     "name": "stdout",
     "output_type": "stream",
     "text": [
      "total lake volume = 4140 km3\n"
     ]
    }
   ],
   "source": [
    "# total lake volume in the domain\n",
    "total_lake_volume = hydrolakes.Vol_total.sum()\n",
    "print('total lake volume = {0:.0f} km3'.format(total_lake_volume * 1e-3))"
   ]
  },
  {
   "cell_type": "code",
   "execution_count": 24,
   "id": "f626888e-8748-44cb-b1df-1a72bc66b785",
   "metadata": {},
   "outputs": [
    {
     "ename": "NameError",
     "evalue": "name 'hylak_shp' is not defined",
     "output_type": "error",
     "traceback": [
      "\u001b[1;31m---------------------------------------------------------------------------\u001b[0m",
      "\u001b[1;31mNameError\u001b[0m                                 Traceback (most recent call last)",
      "Cell \u001b[1;32mIn [24], line 4\u001b[0m\n\u001b[0;32m      1\u001b[0m hylak_pnt_shp \u001b[38;5;241m=\u001b[39m PATH_OUT \u001b[38;5;241m/\u001b[39m \u001b[38;5;124m'\u001b[39m\u001b[38;5;124mhydrolakes_pnt.shp\u001b[39m\u001b[38;5;124m'\u001b[39m\n\u001b[0;32m      2\u001b[0m \u001b[38;5;28;01mif\u001b[39;00m hylak_pnt_shp\u001b[38;5;241m.\u001b[39mis_file():\n\u001b[0;32m      3\u001b[0m     \u001b[38;5;66;03m# import hydrolake points within the domain\u001b[39;00m\n\u001b[1;32m----> 4\u001b[0m     E1 \u001b[38;5;241m=\u001b[39m gpd\u001b[38;5;241m.\u001b[39mread_file(\u001b[43mhylak_shp\u001b[49m)\u001b[38;5;241m.\u001b[39mset_index(\u001b[38;5;124m'\u001b[39m\u001b[38;5;124mHylak_id\u001b[39m\u001b[38;5;124m'\u001b[39m, drop\u001b[38;5;241m=\u001b[39m\u001b[38;5;28;01mTrue\u001b[39;00m)\n\u001b[0;32m      5\u001b[0m     \u001b[38;5;28mprint\u001b[39m(\u001b[38;5;124m'\u001b[39m\u001b[38;5;132;01m{0:>5}\u001b[39;00m\u001b[38;5;124m lakes (\u001b[39m\u001b[38;5;132;01m{1:.0f}\u001b[39;00m\u001b[38;5;124m km3) comply with the catchment, volume, residence time and area rules\u001b[39m\u001b[38;5;124m'\u001b[39m\u001b[38;5;241m.\u001b[39mformat(\n\u001b[0;32m      6\u001b[0m         E1\u001b[38;5;241m.\u001b[39mshape[\u001b[38;5;241m0\u001b[39m],\n\u001b[0;32m      7\u001b[0m         E1\u001b[38;5;241m.\u001b[39mVol_total\u001b[38;5;241m.\u001b[39msum() \u001b[38;5;241m*\u001b[39m \u001b[38;5;241m1e-3\u001b[39m,\n\u001b[0;32m      8\u001b[0m     ))\n\u001b[0;32m     10\u001b[0m \u001b[38;5;28;01melse\u001b[39;00m:\n",
      "\u001b[1;31mNameError\u001b[0m: name 'hylak_shp' is not defined"
     ]
    }
   ],
   "source": [
    "hylak_pnt_shp = PATH_OUT / 'hydrolakes_pnt.shp'\n",
    "if hylak_pnt_shp.is_file():\n",
    "    # import hydrolake points within the domain\n",
    "    E1 = gpd.read_file(hylak_shp).set_index('Hylak_id', drop=True)\n",
    "    print('{0:>5} lakes ({1:.0f} km3) comply with the catchment, volume, residence time and area rules'.format(\n",
    "        E1.shape[0],\n",
    "        E1.Vol_total.sum() * 1e-3,\n",
    "    ))\n",
    "\n",
    "else:\n",
    "\n",
    "    mask_catchment = hydrolakes.Wshd_area >= MIN_CATCHMENT\n",
    "    print('{0:>5} lakes ({1:.0f} km3) have a catchment larger than {2} km2'.format(\n",
    "        mask_catchment.sum(),\n",
    "        hydrolakes[mask_catchment].Vol_total.sum() * 1e-3,\n",
    "        MIN_CATCHMENT\n",
    "    ))\n",
    "    \n",
    "    mask_volume = hydrolakes.Vol_total >= MIN_VOLUME\n",
    "    print('{0:>5} lakes ({1:.0f} km3) have a volume larger than {2} hm3'.format(\n",
    "        mask_volume.sum(),\n",
    "        hydrolakes[mask_volume].Vol_total.sum() * 1e-3,\n",
    "        MIN_VOLUME\n",
    "    ))\n",
    "\n",
    "    mask_residence = hydrolakes.Res_time >= MIN_DOR\n",
    "    print('{0:>5} lakes ({1:.0f} km3) have a residence time larger than {2} days'.format(\n",
    "        mask_residence.sum(),\n",
    "        hydrolakes[mask_residence].Vol_total.sum() * 1e-3,\n",
    "        MIN_DOR\n",
    "    ))\n",
    "\n",
    "    mask_area = hydrolakes.Lake_area >= MIN_AREA\n",
    "    print('{0:>5} lakes ({1:.0f} km3) have a surface area larger than {2} km2'.format(\n",
    "        mask_area.sum(),\n",
    "        hydrolakes[mask_area].Vol_total.sum() * 1e-3,\n",
    "        MIN_AREA\n",
    "    ))\n",
    "\n",
    "    mask_cvr = mask_volume & mask_residence & mask_catchment\n",
    "    print('{0:>5} lakes ({1:.0f} km3) comply with the catchment, volume and residence time rules'.format(\n",
    "        mask_cvr.sum(),\n",
    "        hydrolakes[mask_cvr].Vol_total.sum() * 1e-3,\n",
    "    ))\n",
    "\n",
    "    mask_cvra = mask_cvr & mask_area\n",
    "    print('{0:>5} lakes ({1:.0f} km3) comply with the catchment, volume, residence time and area rules'.format(\n",
    "        mask_cvra.sum(),\n",
    "        hydrolakes[mask_cvra].Vol_total.sum() * 1e-3,\n",
    "    ))\n",
    "    \n",
    "    # selection of lakes and accumulated volume\n",
    "    E1 = hydrolakes[mask_cvra].copy()\n",
    "\n",
    "    # export selection of points\n",
    "    E1.to_file(PATH_OUT / 'hydrolakes_pnt.shp')"
   ]
  },
  {
   "cell_type": "markdown",
   "id": "231c9e1f-7bb1-4694-a302-f52b17a345ba",
   "metadata": {},
   "source": [
    "#### Polygons"
   ]
  },
  {
   "cell_type": "code",
   "execution_count": null,
   "id": "77cc01a2-0992-4289-86a2-20491d32ceb9",
   "metadata": {},
   "outputs": [],
   "source": [
    "hylak_pol_shp = PATH_OUT / 'hydrolakes_pol.shp'\n",
    "if hylak_pnt_shp.is_file() is False:\n",
    "\n",
    "    # load HydroLakes polygons\n",
    "    hydrolakes_pol = dgpd.read_file(\n",
    "        PATH_HYDROLAKES / 'LakeATLAS_v10_shp' / 'LakeATLAS_v10_pol_east.shp',\n",
    "        # columns=cols,\n",
    "        npartitions=20\n",
    "    )\n",
    "    \n",
    "    # apply selection of points\n",
    "    mask = hydrolakes_pol.Hylak_id.isin(hydrolakes.index.tolist())\n",
    "    hydrolakes_pol = hydrolakes_pol[mask].compute()\n",
    "\n",
    "    # export selection of polygons\n",
    "    hydrolakes_pol.to_file(hylak_pol_shp)"
   ]
  },
  {
   "cell_type": "markdown",
   "id": "8dfd088f-eaaf-4eb7-9b00-880ac88fdd1c",
   "metadata": {},
   "source": [
    "#### D2 selection"
   ]
  },
  {
   "cell_type": "code",
   "execution_count": null,
   "id": "4c53bff0-aff9-4164-90ab-2605e43583f4",
   "metadata": {},
   "outputs": [],
   "source": [
    "# selection of lakes whose polygon overlays the LISFLOOD river network\n",
    "sel1 = gpd.read_file(PATH_OUT / 'pistoal' / 'EFASselectedLakepoints.shp')\n",
    "sel1.set_index('Hylak_id', drop=True, inplace=True)\n",
    "\n",
    "# selection of lakes whose outlet overlays the LISFLOOD river network\n",
    "sel2 = gpd.read_file(PATH_OUT / 'pistoal' / 'EFASselectedOutlets.shp')\n",
    "sel2.set_index('HyLak_Id', drop=True, inplace=True)\n",
    "sel2.index.name = sel1.index.name\n",
    "sel2.index = sel2.index.astype(int)\n",
    "\n",
    "# merge the two sets and confirm they are in the EFAS domain\n",
    "hylak_ids = list(sel1.index.union(sel2.index).intersection(hydrolakes.index))\n",
    "D2 = hydrolakes.loc[hydrolakes.index.intersection(hylak_ids)]\n",
    "print(f'{len(hylak_ids)} were selected by Alberto')\n",
    "\n",
    "del sel1, sel2\n",
    "\n",
    "mask_catchment = D2.Wshd_area >= MIN_CATCHMENT\n",
    "print('{0} lakes ({1:.0f} km3) have a catchment larger than {2} km2'.format(\n",
    "    mask_catchment.sum(),\n",
    "    D2[mask_catchment].Vol_total.sum() * 1e-3,\n",
    "    MIN_CATCHMENT\n",
    "))\n",
    "\n",
    "mask_volume = D2.Vol_total >= MIN_VOLUME\n",
    "print('{0} lakes ({1:.0f} km3) have a volume larger than {2} hm3'.format(\n",
    "    mask_volume.sum(),\n",
    "    D2[mask_volume].Vol_total.sum() * 1e-3,\n",
    "    MIN_VOLUME\n",
    "))\n",
    "\n",
    "mask_residence = D2.Res_time >= MIN_DOR\n",
    "print('{0} lakes ({1:.0f} km3) have a residence time larger than {2} days'.format(\n",
    "    mask_residence.sum(),\n",
    "    D2[mask_residence].Vol_total.sum() * 1e-3,\n",
    "    MIN_DOR\n",
    "))\n",
    "\n",
    "mask_area = D2.Lake_area >= MIN_AREA\n",
    "print('{0} lakes ({1:.0f} km3) have a surface area larger than {2} km2'.format(\n",
    "    mask_area.sum(),\n",
    "    D2[mask_area].Vol_total.sum() * 1e-3,\n",
    "    MIN_AREA\n",
    "))\n",
    "\n",
    "mask_all = mask_area & mask_volume & mask_residence & mask_catchment\n",
    "print('{0} lakes ({1:.0f} km3) comply with all the rules above'.format(\n",
    "    mask_all.sum(),\n",
    "    D2[mask_all].Vol_total.sum() * 1e-3\n",
    "))"
   ]
  },
  {
   "cell_type": "markdown",
   "id": "6276ba33-9a26-446b-bc6a-66e564d5c0b0",
   "metadata": {},
   "source": [
    "Below I create two shapefiles to analyse the differences between the E1 and D2 selections."
   ]
  },
  {
   "cell_type": "code",
   "execution_count": null,
   "id": "c6a0c7a8-a968-4712-9212-dfbc7b49c77b",
   "metadata": {},
   "outputs": [],
   "source": [
    "# export lakes from D2 selection not in E1 selection\n",
    "ids_diff = D2.index.difference(E1.index)\n",
    "print(f'{len(ids_diff)} reservoirs in D2 were not selected in E1')\n",
    "hydrolakes.loc[ids_diff].to_file(PATH_OUT / 'D2_removed.shp')"
   ]
  },
  {
   "cell_type": "code",
   "execution_count": null,
   "id": "1f85babb-0bad-41a4-84f5-1c98ee51aa5a",
   "metadata": {},
   "outputs": [],
   "source": [
    "# export lakes from E1 selection not in D2 selection\n",
    "ids_diff = E1.index.difference(D2.index)\n",
    "print(f'{len(ids_diff)} reservoirs in E1 were not selected in D2')\n",
    "hydrolakes.loc[ids_diff].to_file(PATH_OUT / 'E1_removed.shp')"
   ]
  },
  {
   "cell_type": "markdown",
   "id": "09dedb5c-6c7d-40d9-88e9-ecd658fb68fd",
   "metadata": {},
   "source": [
    "### Connect EFAS with HydroLakes\n",
    "\n",
    "In the following snippet I search for the `Hylak_id` associated to each lake in EFASv5. After the automatic search, I filled in in GIS the `Hylak_id` for some lakes that the tool could not find. That's why now I load a shapefile, because it includes the manually corrected IDs.\n",
    "\n",
    "```Python\n",
    "# find Hylak_id for EFASv5 lakes\n",
    "map_efas_hylak = find_connections(efas, hydrolakes, max_distance=5 * efas_cellsize)\n",
    "print('{0} out of {1} EFAS lakes were located in HydroLakes'.format(len(map_efas_hylak), efas.shape[0]))\n",
    "efas['Hylak_id'] = [map_efas_hylak[ID] if ID in map_efas_hylak else -9999 for ID in efas.index]\n",
    "print(f'{(efas.Hylak_id == -9999).sum()} lakes in EFAS-5 were not found in HydroLakes')\n",
    "\n",
    "# export\n",
    "efas.to_file(PATH_OUT / 'efasv5_lakes.shp')\n",
    "```"
   ]
  },
  {
   "cell_type": "code",
   "execution_count": null,
   "id": "9e76d216-9880-4d34-8845-6c551b9dd32d",
   "metadata": {},
   "outputs": [],
   "source": [
    "# import EFAS lakes\n",
    "efas = gpd.read_file(PATH_OUT / 'efasv5_lakes.shp')\n",
    "efas.set_index('LakID', drop=True, inplace=True)\n",
    "print(f'{(efas.Hylak_id == -9999).sum()} lakes in EFAS-5 were not found in HydroLakes')\n",
    "\n",
    "# assign other GRanD attributes\n",
    "map_fields = {\n",
    "    'HYLAK_NAME': 'Lake_name',\n",
    "    'HYLAK_TYPE': 'Lake_type',\n",
    "    'HYLAK_AREA': 'Lake_area',\n",
    "    'HYLAK_VOL': 'Vol_total',\n",
    "    'HYLAK_DEPT': 'Depth_avg',\n",
    "    'HYLAK_DIS': 'Dis_avg',\n",
    "    'HYLAK_DOR': 'Res_time',\n",
    "    'HYLAK_CAT': 'Wshd_area'\n",
    "}\n",
    "map_efas_hylak = {efas_id: hylak_id for efas_id, hylak_id in zip(efas.index, efas.Hylak_id) if hylak_id != -9999}\n",
    "for col_dst, col_src in map_fields.items():\n",
    "    efas.loc[map_efas_hylak.keys(), col_dst] = hydrolakes.loc[map_efas_hylak.values(), col_src].values\n",
    "    \n",
    "# export\n",
    "efas.to_file(PATH_OUT / 'efasv5_lakes.shp')"
   ]
  },
  {
   "cell_type": "markdown",
   "id": "f69bac46-5b7c-4043-9003-b06498535a37",
   "metadata": {},
   "source": [
    "## Select lakes \n",
    "\n",
    "### Analysis of accumulated volume"
   ]
  },
  {
   "cell_type": "code",
   "execution_count": null,
   "id": "4ce6e048-54aa-438e-9bf0-98732628170e",
   "metadata": {},
   "outputs": [],
   "source": [
    "# hydrolakes\n",
    "hydrolakes_acc = hydrolakes.sort_values('Vol_total', ascending=False).Vol_total.cumsum() / total_lake_volume * 100\n",
    "\n",
    "# E1 selection\n",
    "E1.sort_values('Vol_total', ascending=False, inplace=True)\n",
    "E1_acc = E1.Vol_total.cumsum() / total_lake_volume * 100\n",
    "\n",
    "# D2 selection\n",
    "D2_acc = D2.sort_values('Vol_total', ascending=False).Vol_total.cumsum() / total_lake_volume * 100\n",
    "\n",
    "# EFAS5\n",
    "efas_acc = efas.sort_values('HYLAK_VOL', ascending=False).HYLAK_VOL.cumsum() / total_lake_volume * 100\n",
    "\n",
    "# intersection of E1 and D2\n",
    "E1_D2_acc = E1.loc[E1.index.intersection(D2.index)].sort_values('Vol_total', ascending=False).Vol_total.cumsum() / total_lake_volume * 100"
   ]
  },
  {
   "cell_type": "code",
   "execution_count": 18,
   "id": "0173755e-cae6-49e4-a3c0-1b4803065b52",
   "metadata": {},
   "outputs": [
    {
     "data": {
      "text/plain": [
       "(204, 15)"
      ]
     },
     "execution_count": 18,
     "metadata": {},
     "output_type": "execute_result"
    }
   ],
   "source": [
    "efas.shape"
   ]
  },
  {
   "cell_type": "code",
   "execution_count": 631,
   "id": "912c8e7f-276b-4e2d-9779-c072df90022e",
   "metadata": {},
   "outputs": [
    {
     "data": {
      "image/png": "[encoded data removed]",
      "text/plain": [
       "<Figure size 400x400 with 1 Axes>"
      ]
     },
     "metadata": {},
     "output_type": "display_data"
    }
   ],
   "source": [
    "fig, ax = plt.subplots(figsize=(4, 4))\n",
    "\n",
    "# EFAS5\n",
    "ax.plot(np.arange(1, len(efas_acc) + 1), efas_acc, c='k', label='EFAS-5')\n",
    "\n",
    "# HydroLakes\n",
    "ax.plot(np.arange(1, len(hydrolakes_acc) + 1), hydrolakes_acc, c='C0', label='Hylak')\n",
    "\n",
    "# E1 selection\n",
    "ax.plot(np.arange(1, len(E1_acc) + 1), E1_acc, c='C3', ls='--', label='E1')\n",
    "for target in [80, 85, 90]:\n",
    "    n = (E1_acc - target).abs().argmin()\n",
    "    ax.hlines(target, 1, n, color='k', ls='--', lw=.5)\n",
    "    ax.vlines(n, -2, target, color='k', ls='--', lw=.5)\n",
    "    ax.text(n, 0, f'{n} lakes', va='bottom', ha='right', rotation=90)\n",
    "    ax.text(1, target, f'{target}%', va='bottom', ha='left', rotation=0)\n",
    "\n",
    "# D2 selection\n",
    "ax.plot(np.arange(1, len(D2_acc) + 1), D2_acc, c='C1', label='D2')\n",
    "\n",
    "# intersection E1 and D2\n",
    "n_lakes, pct_vol = len(E1_D2_acc), E1_D2_acc.max()\n",
    "ax.plot(np.arange(1, n_lakes + 1), E1_D2_acc, c='C2', ls='--', label='D2∩E1')\n",
    "# ax.hlines(pct_vol, 1, n_lakes, color='k', ls='--', lw=.5)\n",
    "# ax.vlines(n_lakes, -2, pct_vol, color='k', ls='--', lw=.5)\n",
    "# ax.text(n_lakes, pct_vol, f'{n_lakes} lakes', va='top', ha='right', rotation=90)\n",
    "# ax.text(1, pct_vol, f'{E1_D2_acc.max():.0f}%', va='bottom', ha='left', rotation=0)\n",
    "\n",
    "ax.set(\n",
    "    xlim=(1, hydrolakes.shape[0]),\n",
    "    xlabel='no. lakes',\n",
    "    ylim=(-2, 102),\n",
    "    ylabel='% total volume'\n",
    ")\n",
    "ax.set_xscale('log')\n",
    "ax.legend(frameon=False, loc=4);\n",
    "\n",
    "plt.savefig(PATH_OUT / 'percentage_total_volume.jpg', dpi=300, bbox_inches='tight')"
   ]
  },
  {
   "cell_type": "markdown",
   "id": "cca928a0-da46-4fb0-ba08-27c5b91f72cd",
   "metadata": {
    "tags": []
   },
   "source": [
    "#### Lakes to add\n",
    "\n",
    "I will select lakes to be added in EFASv6 from the `E1` object, i.e., the selection of lakes and controlled lakes in HydroLakes that comply with the lake area, lake volume, catchment area and degree of regulation rules. From those, I will create a classification in terms of `priority`. I will sort the lakes by decreasing volume, and assign priorities depending on the percentage of total lake volume we want to reproduce in EFASv6. For instance, the lakes required to reach a 80% of the total lake volume will have priority 1, those to reach 85% priority 2, ect."
   ]
  },
  {
   "cell_type": "code",
   "execution_count": 643,
   "id": "e796f482-57c2-40ba-b14d-58deba035f7e",
   "metadata": {},
   "outputs": [
    {
     "name": "stdout",
     "output_type": "stream",
     "text": [
      "3    1052\n",
      "4     892\n",
      "2     198\n",
      "1      98\n",
      "Name: priority, dtype: int64\n"
     ]
    }
   ],
   "source": [
    "# create dataframe of lakes to be added\n",
    "to_add_pnt = E1.copy()\n",
    "to_add_pnt.sort_values('Vol_total', ascending=False, inplace=True)\n",
    "to_add_acc = to_add_pnt.Vol_total.cumsum() / total_lake_volume * 100\n",
    "\n",
    "# define priority\n",
    "to_add_pnt['priority'] = -9999\n",
    "priorities = {\n",
    "    4: 95,\n",
    "    3: 90,\n",
    "    2: 85,\n",
    "    1: 80,\n",
    "}\n",
    "for priority, target in priorities.items():\n",
    "    # select lakes to reach the target\n",
    "    ID = (to_add_acc - target).abs().idxmin()\n",
    "    # assign priority\n",
    "    to_add_pnt.loc[:ID, 'priority'] = priority\n",
    "\n",
    "# remove lakes included in EFASv5\n",
    "to_add_pnt = to_add_pnt.loc[to_add_pnt.index.difference(efas.Hylak_id)]\n",
    "\n",
    "# remove lakes included as reservoirs in EFASv5\n",
    "to_add_pnt = to_add_pnt[~to_add_pnt.Grand_id.isin(efas_res.GRAND_ID)]\n",
    "\n",
    "# remove lakes that will be added to EFASv6 as reservoirs\n",
    "to_add_pnt = to_add_pnt[~to_add_pnt.Grand_id.isin(grand_to_add.index)]\n",
    "\n",
    "print(to_add_pnt.priority.value_counts())"
   ]
  },
  {
   "cell_type": "code",
   "execution_count": 644,
   "id": "dcd201e1-fd62-41c8-b247-96efa2197bf4",
   "metadata": {},
   "outputs": [],
   "source": [
    "# apply selection to polygons\n",
    "if hydrolakes_pol.index.name != 'Hylak_id':\n",
    "    hydrolakes_pol.set_index('Hylak_id', drop=True, inplace=True)\n",
    "to_add_pol = hydrolakes_pol.loc[to_add_pnt.index]\n",
    "to_add_pol['priority'] = -9999\n",
    "to_add_pol.loc[to_add.index, 'priority'] = to_add_pnt.priority"
   ]
  },
  {
   "cell_type": "code",
   "execution_count": 645,
   "id": "1920ce3b-97f8-4ddd-a4e9-2b2cb6b3ed17",
   "metadata": {},
   "outputs": [],
   "source": [
    "# export\n",
    "to_add_pnt.to_file(PATH_OUT / 'hydrolakes_pnt_to_add.shp')\n",
    "to_add_pol.to_file(PATH_OUT / 'hydrolakes_pol_to_add.shp')"
   ]
  },
  {
   "cell_type": "markdown",
   "id": "2c616b74-e856-449e-b873-0793089cb240",
   "metadata": {},
   "source": [
    "## Conclusion\n",
    "\n",
    "The result of this notebook is a polygon shapefile with the 500 lakes in GLWD not already included in GloFAS with the larger surface area. The 500 lakes include 272 classified as open lakes and 228 unclassified. The addition of these lakes would increase the total lake area in GloFAS in 184·10³ km² (24% increase).\n",
    "\n",
    "The selected lakes were checked to overlay with GloFAS rivers, being those understood as cells with an catchment area of at least 1000 km². However, visual inspection in GIS shows that some of these lakes are coastal water bodies that will probably not affect the LISFLOOD simulation. Another special case are the lakes in the Tibetan Plateau, which were selected even thouth the river network in this area is unusual.\n",
    "\n",
    "To do a finer selection of lakes, it would be interesting to compare the list of selected lakes with GloFAS model performance to identify areas where the introduction of new lakes can improve the model simulations."
   ]
  }
 ],
 "metadata": {
  "kernelspec": {
   "display_name": "Python 3 (ipykernel)",
   "language": "python",
   "name": "python3"
  },
  "language_info": {
   "codemirror_mode": {
    "name": "ipython",
    "version": 3
   },
   "file_extension": ".py",
   "mimetype": "text/x-python",
   "name": "python",
   "nbconvert_exporter": "python",
   "pygments_lexer": "ipython3",
   "version": "3.9.13"
  }
 },
 "nbformat": 4,
 "nbformat_minor": 5
}
