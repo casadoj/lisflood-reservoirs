{
 "cells": [
  {
   "cell_type": "markdown",
   "id": "0fe9c11a-30b7-4f6f-8f06-6bd93523123e",
   "metadata": {},
   "source": [
    "# Test EFAS6: Ebro\n",
    "***"
   ]
  },
  {
   "cell_type": "code",
   "execution_count": 1,
   "id": "74f9a168-598e-4b48-9112-253457aa0307",
   "metadata": {},
   "outputs": [],
   "source": [
    "import numpy as np\n",
    "import pandas as pd\n",
    "import geopandas as gpd\n",
    "import xarray as xr\n",
    "import matplotlib.pyplot as plt\n",
    "from pathlib import Path\n",
    "from tqdm.auto import tqdm\n",
    "\n",
    "# from lisflood_read_plot import *"
   ]
  },
  {
   "cell_type": "code",
   "execution_count": null,
   "id": "68655b7c-ea28-41fe-88c6-3f7b6991a4ef",
   "metadata": {},
   "outputs": [],
   "source": [
    "from lisfloodreservoirs import read_timeseries\n",
    "from lisfloodreservoirs.calibration import read_results\n",
    "from lisfloodreservoirs.calibration.camaflood_calibrator import CamafloodCalibrator\n",
    "from lisfloodreservoirs.models import get_model\n",
    "from lisfloodreservoirs.models import Camaflood\n",
    "from lisfloodreservoirs.utils.metrics import KGEmod\n",
    "from lisfloodreservoirs.utils.utils import return_period"
   ]
  },
  {
   "cell_type": "code",
   "execution_count": 4,
   "id": "70fb4fbc-3a59-4b3c-97c0-2c2de77b6d91",
   "metadata": {},
   "outputs": [],
   "source": [
    "import spotpy"
   ]
  },
  {
   "cell_type": "code",
   "execution_count": 5,
   "id": "d903e4c8-fe02-455a-a1f4-b46152a53b91",
   "metadata": {},
   "outputs": [],
   "source": [
    "import yaml"
   ]
  },
  {
   "cell_type": "code",
   "execution_count": 6,
   "id": "232316e3-e8c0-4ca8-b360-3f55ee11c238",
   "metadata": {},
   "outputs": [],
   "source": [
    "import cartopy.crs as ccrs\n",
    "import cartopy.feature as cfeature"
   ]
  },
  {
   "cell_type": "markdown",
   "id": "55f2a079-a887-47b5-becb-5e6327a509c0",
   "metadata": {},
   "source": [
    "## Configuration"
   ]
  },
  {
   "cell_type": "code",
   "execution_count": 7,
   "id": "b3ae4594-4c0c-4a42-a087-1ccb4899ecdf",
   "metadata": {},
   "outputs": [],
   "source": [
    "path_efas = Path('Z:/nahaUsers/casadje/EFASv6/reservoirs/')"
   ]
  },
  {
   "cell_type": "code",
   "execution_count": 8,
   "id": "ef69dcd4-56b8-48c6-962d-5d7ecf0e8ff8",
   "metadata": {},
   "outputs": [],
   "source": [
    "path_resops = Path('Z:/nahaUsers/casadje/datasets/reservoirs/ResOpsES/v3.0')"
   ]
  },
  {
   "cell_type": "markdown",
   "id": "76a6edcc-804a-484a-8f6d-57f039eed321",
   "metadata": {},
   "source": [
    "## Data\n",
    "### Reservoirs"
   ]
  },
  {
   "cell_type": "code",
   "execution_count": 39,
   "id": "74fdd487-eb80-4dbe-b663-fc675b7a1701",
   "metadata": {},
   "outputs": [
    {
     "name": "stdout",
     "output_type": "stream",
     "text": [
      "1545 reservoirs in total\n",
      "37 reservoirs in the Ebro\n"
     ]
    }
   ],
   "source": [
    "# import reservoirs\n",
    "reservoirs = gpd.read_file(\n",
    "    path_efas / 'tables' / 'reservoirs_efas6_20250303.shp'\n",
    ").set_index('GDW_ID')\n",
    "reservoirs.GRAND_ID = reservoirs.GRAND_ID.astype('Int64')\n",
    "\n",
    "# add calibrated/estimated parameters\n",
    "for parname in ['flood_storage', 'outflow_factor']:\n",
    "    series = pd.read_csv(\n",
    "        path_efas / 'tables' / 'parameters' / f'reservoirs_efas6_{parname}.txt', \n",
    "        header=None,\n",
    "        index_col=0,\n",
    "        sep='\\t'\n",
    "    ).squeeze()\n",
    "    series.index.name = 'GDW_ID',\n",
    "    series.name = parname\n",
    "    reservoirs = pd.concat((reservoirs, series), axis=1)\n",
    "\n",
    "print(f'{len(reservoirs)} reservoirs in total')\n",
    "\n",
    "# keep only reservoirs in the Ebro\n",
    "grand_ids = pd.read_csv(path_resops / 'selection' / 'ebro_all.txt', header=None).squeeze().tolist()\n",
    "reservoirs = reservoirs[reservoirs.GRAND_ID.isin(grand_ids)]\n",
    "reservoirs.sort_index(inplace=True)\n",
    "\n",
    "print(f'{len(reservoirs)} reservoirs in the Ebro')"
   ]
  },
  {
   "cell_type": "markdown",
   "id": "ae5bc30f-5107-455b-a459-a4e06d754e7c",
   "metadata": {},
   "source": [
    "### Time series"
   ]
  },
  {
   "cell_type": "markdown",
   "id": "a92a1732-b462-4d12-ba82-30270553b044",
   "metadata": {},
   "source": [
    "#### LISFLOOD simulation"
   ]
  },
  {
   "cell_type": "code",
   "execution_count": 40,
   "id": "37231b2d-a6a0-4012-80ea-8e4e34d3ea96",
   "metadata": {},
   "outputs": [
    {
     "name": "stdout",
     "output_type": "stream",
     "text": [
      "28 reservoirs\n"
     ]
    }
   ],
   "source": [
    "path_sim = path_efas / 'tests' / 'Ebro'\n",
    "\n",
    "# read_simulated time series\n",
    "timeseries = {}\n",
    "files = {\n",
    "    'storage': path_sim / 'RES_fill.csv',\n",
    "    'inflow': path_sim / 'RES_inflow.csv',\n",
    "    'outflow': path_sim / 'RES_outflow.csv'\n",
    "}\n",
    "\n",
    "for var, file in files.items():\n",
    "    df = pd.read_csv(file, parse_dates=True, index_col='Timestamp')\n",
    "    df.index = pd.to_datetime(df.index, format=\"%d/%m/%Y %H:%M\")\n",
    "    df.columns = df.columns.astype(int)\n",
    "    gdw_ids = df.columns.intersection(reservoirs.index)\n",
    "    timeseries[var] = df[gdw_ids]\n",
    "gdw_ids.sort()\n",
    "\n",
    "# reorganize by ID\n",
    "Sim_lisflood = {}\n",
    "for gdw_id in gdw_ids:\n",
    "    serie_list = []\n",
    "    for var, df in timeseries.items():\n",
    "        serie = df[gdw_id]\n",
    "        serie.name = var\n",
    "        if var == 'storage':\n",
    "            cap_cm = reservoirs.loc[gdw_id, 'CAP_MCM'] * 1e6\n",
    "            serie *= cap_cm\n",
    "        serie_list.append(serie)\n",
    "    Sim_lisflood[gdw_id] = pd.concat(serie_list, axis=1)\n",
    "\n",
    "# clip reservoirs to those simulated\n",
    "reservoirs = reservoirs.loc[Sim_lisflood.keys()]\n",
    "\n",
    "print(f'{len(reservoirs)} reservoirs with simulated time series')"
   ]
  },
  {
   "cell_type": "markdown",
   "id": "8acc5bd0-59fc-490a-b026-327a2b3dc273",
   "metadata": {},
   "source": [
    "### Observed"
   ]
  },
  {
   "cell_type": "code",
   "execution_count": 42,
   "id": "4ee4e7c4-ac1c-4c87-b6f9-9743d492155d",
   "metadata": {},
   "outputs": [
    {
     "data": {
      "application/vnd.jupyter.widget-view+json": {
       "model_id": "24d40d8952974a0ea3ab8d2845593d9e",
       "version_major": 2,
       "version_minor": 0
      },
      "text/plain": [
       "  0%|          | 0/28 [00:00<?, ?it/s]"
      ]
     },
     "metadata": {},
     "output_type": "display_data"
    },
    {
     "name": "stdout",
     "output_type": "stream",
     "text": [
      "File Z:\\nahaUsers\\casadje\\datasets\\reservoirs\\ResOpsES\\v3.0\\time_series\\csv\\3474.csv doesn't exist\n",
      "File Z:\\nahaUsers\\casadje\\datasets\\reservoirs\\ResOpsES\\v3.0\\time_series\\csv\\3500.csv doesn't exist\n",
      "File Z:\\nahaUsers\\casadje\\datasets\\reservoirs\\ResOpsES\\v3.0\\time_series\\csv\\2757.csv doesn't exist\n",
      "File Z:\\nahaUsers\\casadje\\datasets\\reservoirs\\ResOpsES\\v3.0\\time_series\\csv\\2729.csv doesn't exist\n",
      "24 reservoirs with observed time series\n"
     ]
    }
   ],
   "source": [
    "# read observed time series\n",
    "Obs = read_timeseries(\n",
    "    path=path_resops / 'time_series' / 'csv',\n",
    "    reservoirs=reservoirs.loc[Sim_lisflood.keys(), 'GRAND_ID'].dropna().astype(int).tolist(),\n",
    "    variables=['inflow', 'outflow', 'storage']\n",
    ")\n",
    "# convert GRAND_ID to GDW_ID \n",
    "Obs = {reservoirs.loc[reservoirs.GRAND_ID == grand_id].index.item(): ts for grand_id, ts in Obs.items()}\n",
    "# # convert storage to filling\n",
    "# for gdw_id, ts in obs.items():\n",
    "#     ts['storage'] /= reservoirs.loc[gdw_id, 'CAP_MCM'] * 1e6\n",
    "\n",
    "print(f'{len(Obs)} reservoirs with observed time series')"
   ]
  },
  {
   "cell_type": "markdown",
   "id": "aadd52e2-f3db-4942-ada1-16a5f15e20fc",
   "metadata": {},
   "source": [
    "## Analysis"
   ]
  },
  {
   "cell_type": "code",
   "execution_count": 43,
   "id": "70dc3404-8627-407a-8720-c26903ff16fc",
   "metadata": {},
   "outputs": [],
   "source": [
    "path_plots = path_sim / 'plots'\n",
    "path_plots.mkdir(exist_ok=True)"
   ]
  },
  {
   "cell_type": "markdown",
   "id": "c0e41521-6244-4c23-ae37-4962ff3a8901",
   "metadata": {},
   "source": [
    "### LISFLOOD calibration"
   ]
  },
  {
   "cell_type": "code",
   "execution_count": 44,
   "id": "5dc8a04b-d2f6-457c-9694-1cf0ac5703a5",
   "metadata": {},
   "outputs": [
    {
     "data": {
      "application/vnd.jupyter.widget-view+json": {
       "model_id": "246be5f4a8444f98a895a90782665e75",
       "version_major": 2,
       "version_minor": 0
      },
      "text/plain": [
       "reservoirs:   0%|          | 0/28 [00:00<?, ?it/s]"
      ]
     },
     "metadata": {},
     "output_type": "display_data"
    }
   ],
   "source": [
    "variables = ['inflow', 'storage', 'outflow']\n",
    "lisflood_performance = pd.DataFrame(index=gdw_ids, columns=[f'KGE_{var}' for var in variables])\n",
    "for gdw_id in tqdm(gdw_ids, desc='reservoirs'):\n",
    "\n",
    "    # extract reservoir characteristics\n",
    "    cap_cm, catch_sm, area_sm = reservoirs.loc[gdw_id, ['CAP_MCM', 'CATCH_SKM', 'AREA_SKM']] * 1e6\n",
    "    # extract inflow characteristics\n",
    "    Qmin, Qn, Q100 = reservoirs.loc[gdw_id, ['DISENV_CMS', 'DISAVG_CMS', 'DIS100_CMS']]\n",
    "    # extract reservoir parameters\n",
    "    par_Vf, par_Qf = reservoirs.loc[gdw_id, ['flood_storage', 'outflow_factor']]\n",
    "\n",
    "    # define reservoir limits\n",
    "    Vf = par_Vf * cap_cm\n",
    "    Ve = cap_cm * (0.8 + 0.2 * par_Vf)\n",
    "    Vmin = 0.5 * Vf\n",
    "    Qf = Q100 * par_Qf\n",
    "    Qmin = 0.5 * Qn\n",
    "\n",
    "    # reservoir limits\n",
    "    Vlims = [Vmin, Vf, Ve, cap_cm]\n",
    "    Qlims = [Qmin, Qf, Qf, Qf]\n",
    "\n",
    "    # declare reservoir\n",
    "    res = Camaflood(\n",
    "        Vmin=Vmin,\n",
    "        Vf=Vf,\n",
    "        Ve=Ve,\n",
    "        Vtot=cap_cm,\n",
    "        Qn=Qn,\n",
    "        Qf=Qf,\n",
    "        catchment=catch_sm,\n",
    "        Atot=area_sm,\n",
    "        # timestep=6*3600\n",
    "    )\n",
    "\n",
    "    # time series\n",
    "    if gdw_id in Obs:\n",
    "        obs = Obs[gdw_id]\n",
    "    else:\n",
    "        continue\n",
    "    sim = Sim_lisflood[gdw_id]\n",
    "    \n",
    "    # compare LISFLOOD vs observation\n",
    "    res.scatter(\n",
    "        sim,\n",
    "        obs,\n",
    "        norm=False,\n",
    "        title=gdw_id,\n",
    "        Vlims=Vlims,\n",
    "        Qlims=Qlims,\n",
    "        labels=['Lisflood', 'observed'],\n",
    "        save=path_plots / f'{gdw_id}_scatter_lisflood_vs_observed.jpg'\n",
    "    )\n",
    "\n",
    "    for var in variables:\n",
    "        lisflood_performance.loc[gdw_id, f'KGE_{var}'] = KGEmod(obs[var], sim[var])[0]"
   ]
  },
  {
   "cell_type": "code",
   "execution_count": 45,
   "id": "30b64451-02da-4351-ad54-2b39adca1c25",
   "metadata": {},
   "outputs": [
    {
     "data": {
      "image/png": "[encoded data removed]",
      "text/plain": [
       "<Figure size 1600x250 with 4 Axes>"
      ]
     },
     "metadata": {},
     "output_type": "display_data"
    }
   ],
   "source": [
    "projection = ccrs.PlateCarree()\n",
    "fig, axes = plt.subplots(ncols=3, figsize=(16, 2.5), subplot_kw={\"projection\": projection})\n",
    "for ax, var in zip(axes, variables):\n",
    "    col = f'KGE_{var}'\n",
    "    sct = ax.scatter(\n",
    "        reservoirs.geometry.x,\n",
    "        reservoirs.geometry.y,\n",
    "        c=lisflood_performance[col],\n",
    "        cmap='coolwarm_r',\n",
    "        s=12,\n",
    "        vmin=-1, \n",
    "        vmax=1\n",
    "    )\n",
    "    ax.add_feature(cfeature.RIVERS.with_scale('10m'), edgecolor='lightblue', linewidth=0.5, zorder=0)\n",
    "    ax.set_title(var)\n",
    "    ax.axis('off')\n",
    "fig.colorbar(sct, ax=axes, label=\"KGE'\", shrink=.666)\n",
    "fig.suptitle('EFAS6 vs observed');"
   ]
  },
  {
   "cell_type": "markdown",
   "id": "bfc69ecb-4739-4a2d-84cc-cfe66fa09554",
   "metadata": {},
   "source": [
    "### CaMa-Flood simulation\n",
    "\n",
    "Simulation of the CaMa-Flood routine with the inflow simulated with the new GloFAS setup."
   ]
  },
  {
   "cell_type": "code",
   "execution_count": 46,
   "id": "85ceef7d-f8eb-4f2e-ace6-66a683040599",
   "metadata": {},
   "outputs": [
    {
     "data": {
      "application/vnd.jupyter.widget-view+json": {
       "model_id": "13903795e0964e81b631dd4548d6cae7",
       "version_major": 2,
       "version_minor": 0
      },
      "text/plain": [
       "reservoirs:   0%|          | 0/28 [00:00<?, ?it/s]"
      ]
     },
     "metadata": {},
     "output_type": "display_data"
    },
    {
     "data": {
      "application/vnd.jupyter.widget-view+json": {
       "model_id": "b2dde8b316014a0f81129735282a9c2d",
       "version_major": 2,
       "version_minor": 0
      },
      "text/plain": [
       "timesteps:   0%|          | 0/54056 [00:00<?, ?it/s]"
      ]
     },
     "metadata": {},
     "output_type": "display_data"
    },
    {
     "data": {
      "application/vnd.jupyter.widget-view+json": {
       "model_id": "641e21d4e1c1460292c3dcb434651a11",
       "version_major": 2,
       "version_minor": 0
      },
      "text/plain": [
       "timesteps:   0%|          | 0/54056 [00:00<?, ?it/s]"
      ]
     },
     "metadata": {},
     "output_type": "display_data"
    },
    {
     "data": {
      "application/vnd.jupyter.widget-view+json": {
       "model_id": "22b1df8d05d0491f80d75e4092cda49c",
       "version_major": 2,
       "version_minor": 0
      },
      "text/plain": [
       "timesteps:   0%|          | 0/54056 [00:00<?, ?it/s]"
      ]
     },
     "metadata": {},
     "output_type": "display_data"
    },
    {
     "data": {
      "application/vnd.jupyter.widget-view+json": {
       "model_id": "b0ac64db9d204fffad24339090206e3e",
       "version_major": 2,
       "version_minor": 0
      },
      "text/plain": [
       "timesteps:   0%|          | 0/54056 [00:00<?, ?it/s]"
      ]
     },
     "metadata": {},
     "output_type": "display_data"
    },
    {
     "data": {
      "application/vnd.jupyter.widget-view+json": {
       "model_id": "eb4a9d36bf22438084177a88393a043d",
       "version_major": 2,
       "version_minor": 0
      },
      "text/plain": [
       "timesteps:   0%|          | 0/54056 [00:00<?, ?it/s]"
      ]
     },
     "metadata": {},
     "output_type": "display_data"
    },
    {
     "data": {
      "application/vnd.jupyter.widget-view+json": {
       "model_id": "47195ae9534b4921b130be194b4d8f8b",
       "version_major": 2,
       "version_minor": 0
      },
      "text/plain": [
       "timesteps:   0%|          | 0/54056 [00:00<?, ?it/s]"
      ]
     },
     "metadata": {},
     "output_type": "display_data"
    },
    {
     "data": {
      "application/vnd.jupyter.widget-view+json": {
       "model_id": "b1f0612dd7ce44beb8883eb1a86395e1",
       "version_major": 2,
       "version_minor": 0
      },
      "text/plain": [
       "timesteps:   0%|          | 0/54056 [00:00<?, ?it/s]"
      ]
     },
     "metadata": {},
     "output_type": "display_data"
    },
    {
     "data": {
      "application/vnd.jupyter.widget-view+json": {
       "model_id": "2b484a38b365462790b22503c4cba369",
       "version_major": 2,
       "version_minor": 0
      },
      "text/plain": [
       "timesteps:   0%|          | 0/54056 [00:00<?, ?it/s]"
      ]
     },
     "metadata": {},
     "output_type": "display_data"
    },
    {
     "data": {
      "application/vnd.jupyter.widget-view+json": {
       "model_id": "de2c39d942864ebb9f30bcafc96b2350",
       "version_major": 2,
       "version_minor": 0
      },
      "text/plain": [
       "timesteps:   0%|          | 0/54056 [00:00<?, ?it/s]"
      ]
     },
     "metadata": {},
     "output_type": "display_data"
    },
    {
     "data": {
      "application/vnd.jupyter.widget-view+json": {
       "model_id": "702e0d97a0a84679a01629fcc064d7cb",
       "version_major": 2,
       "version_minor": 0
      },
      "text/plain": [
       "timesteps:   0%|          | 0/54056 [00:00<?, ?it/s]"
      ]
     },
     "metadata": {},
     "output_type": "display_data"
    },
    {
     "data": {
      "application/vnd.jupyter.widget-view+json": {
       "model_id": "b43e7be752d146dd841da731c73a3de3",
       "version_major": 2,
       "version_minor": 0
      },
      "text/plain": [
       "timesteps:   0%|          | 0/54056 [00:00<?, ?it/s]"
      ]
     },
     "metadata": {},
     "output_type": "display_data"
    },
    {
     "data": {
      "application/vnd.jupyter.widget-view+json": {
       "model_id": "00b62a313da5464b862c44ba84f68b10",
       "version_major": 2,
       "version_minor": 0
      },
      "text/plain": [
       "timesteps:   0%|          | 0/54056 [00:00<?, ?it/s]"
      ]
     },
     "metadata": {},
     "output_type": "display_data"
    },
    {
     "data": {
      "application/vnd.jupyter.widget-view+json": {
       "model_id": "bc040d64803940c4a644ea192835cc97",
       "version_major": 2,
       "version_minor": 0
      },
      "text/plain": [
       "timesteps:   0%|          | 0/54056 [00:00<?, ?it/s]"
      ]
     },
     "metadata": {},
     "output_type": "display_data"
    },
    {
     "data": {
      "application/vnd.jupyter.widget-view+json": {
       "model_id": "825b0bc6799b4386bd6ae2005952a642",
       "version_major": 2,
       "version_minor": 0
      },
      "text/plain": [
       "timesteps:   0%|          | 0/54056 [00:00<?, ?it/s]"
      ]
     },
     "metadata": {},
     "output_type": "display_data"
    },
    {
     "data": {
      "application/vnd.jupyter.widget-view+json": {
       "model_id": "504537736cdc4500891819eab67fd3a7",
       "version_major": 2,
       "version_minor": 0
      },
      "text/plain": [
       "timesteps:   0%|          | 0/54056 [00:00<?, ?it/s]"
      ]
     },
     "metadata": {},
     "output_type": "display_data"
    },
    {
     "data": {
      "application/vnd.jupyter.widget-view+json": {
       "model_id": "74b06eee540a464692f45a37e34fc453",
       "version_major": 2,
       "version_minor": 0
      },
      "text/plain": [
       "timesteps:   0%|          | 0/54056 [00:00<?, ?it/s]"
      ]
     },
     "metadata": {},
     "output_type": "display_data"
    },
    {
     "data": {
      "application/vnd.jupyter.widget-view+json": {
       "model_id": "f512e1fe83234541aa41903892039921",
       "version_major": 2,
       "version_minor": 0
      },
      "text/plain": [
       "timesteps:   0%|          | 0/54056 [00:00<?, ?it/s]"
      ]
     },
     "metadata": {},
     "output_type": "display_data"
    },
    {
     "data": {
      "application/vnd.jupyter.widget-view+json": {
       "model_id": "3e743691505946a1b61578e591eeb168",
       "version_major": 2,
       "version_minor": 0
      },
      "text/plain": [
       "timesteps:   0%|          | 0/54056 [00:00<?, ?it/s]"
      ]
     },
     "metadata": {},
     "output_type": "display_data"
    },
    {
     "data": {
      "application/vnd.jupyter.widget-view+json": {
       "model_id": "3b9f5bfa944f41ca8a5a53d44c9f9c49",
       "version_major": 2,
       "version_minor": 0
      },
      "text/plain": [
       "timesteps:   0%|          | 0/54056 [00:00<?, ?it/s]"
      ]
     },
     "metadata": {},
     "output_type": "display_data"
    },
    {
     "data": {
      "application/vnd.jupyter.widget-view+json": {
       "model_id": "d550d9d9884c471b8aa493240ea749b1",
       "version_major": 2,
       "version_minor": 0
      },
      "text/plain": [
       "timesteps:   0%|          | 0/54056 [00:00<?, ?it/s]"
      ]
     },
     "metadata": {},
     "output_type": "display_data"
    },
    {
     "data": {
      "application/vnd.jupyter.widget-view+json": {
       "model_id": "9c6e2972fd654e95a528ffe82516680a",
       "version_major": 2,
       "version_minor": 0
      },
      "text/plain": [
       "timesteps:   0%|          | 0/54056 [00:00<?, ?it/s]"
      ]
     },
     "metadata": {},
     "output_type": "display_data"
    },
    {
     "data": {
      "application/vnd.jupyter.widget-view+json": {
       "model_id": "7cf1db27b5ae49e3a2c328e4b5a3197e",
       "version_major": 2,
       "version_minor": 0
      },
      "text/plain": [
       "timesteps:   0%|          | 0/54056 [00:00<?, ?it/s]"
      ]
     },
     "metadata": {},
     "output_type": "display_data"
    },
    {
     "data": {
      "application/vnd.jupyter.widget-view+json": {
       "model_id": "1e5c23988167478c9dc7691aab3643cb",
       "version_major": 2,
       "version_minor": 0
      },
      "text/plain": [
       "timesteps:   0%|          | 0/54056 [00:00<?, ?it/s]"
      ]
     },
     "metadata": {},
     "output_type": "display_data"
    },
    {
     "data": {
      "application/vnd.jupyter.widget-view+json": {
       "model_id": "f131077a33d74031b577b0bee275be19",
       "version_major": 2,
       "version_minor": 0
      },
      "text/plain": [
       "timesteps:   0%|          | 0/54056 [00:00<?, ?it/s]"
      ]
     },
     "metadata": {},
     "output_type": "display_data"
    },
    {
     "data": {
      "application/vnd.jupyter.widget-view+json": {
       "model_id": "357495f52dec4b4c82e5be1ce6162bd6",
       "version_major": 2,
       "version_minor": 0
      },
      "text/plain": [
       "timesteps:   0%|          | 0/54056 [00:00<?, ?it/s]"
      ]
     },
     "metadata": {},
     "output_type": "display_data"
    },
    {
     "data": {
      "application/vnd.jupyter.widget-view+json": {
       "model_id": "95ee492a679949bc833d80b508c985ec",
       "version_major": 2,
       "version_minor": 0
      },
      "text/plain": [
       "timesteps:   0%|          | 0/54056 [00:00<?, ?it/s]"
      ]
     },
     "metadata": {},
     "output_type": "display_data"
    },
    {
     "data": {
      "application/vnd.jupyter.widget-view+json": {
       "model_id": "a2359a4178f34bd99ecc96328e3d24f0",
       "version_major": 2,
       "version_minor": 0
      },
      "text/plain": [
       "timesteps:   0%|          | 0/54056 [00:00<?, ?it/s]"
      ]
     },
     "metadata": {},
     "output_type": "display_data"
    },
    {
     "data": {
      "application/vnd.jupyter.widget-view+json": {
       "model_id": "b9ae761770884d6fa3b426ce66fb617b",
       "version_major": 2,
       "version_minor": 0
      },
      "text/plain": [
       "timesteps:   0%|          | 0/54056 [00:00<?, ?it/s]"
      ]
     },
     "metadata": {},
     "output_type": "display_data"
    }
   ],
   "source": [
    "Sim_camaflood = {}\n",
    "camaflood_performance = pd.DataFrame(index=gdw_ids, columns=[f'KGE_{var}' for var in variables])\n",
    "for gdw_id in tqdm(gdw_ids, desc='reservoirs'):\n",
    "\n",
    "    # extract reservoir characteristics\n",
    "    cap_cm, catch_sm, area_sm = reservoirs.loc[gdw_id, ['CAP_MCM', 'CATCH_SKM', 'AREA_SKM']] * 1e6\n",
    "    # extract inflow characteristics\n",
    "    Qmin, Qn, Q100 = reservoirs.loc[gdw_id, ['DISENV_CMS', 'DISAVG_CMS', 'DIS100_CMS']]\n",
    "    # extract reservoir parameters\n",
    "    par_Vf, par_Qf = reservoirs.loc[gdw_id, ['flood_storage', 'outflow_factor']]\n",
    "\n",
    "    # define reservoir limits\n",
    "    Vf = par_Vf * cap_cm\n",
    "    Ve = cap_cm * (0.8 + 0.2 * par_Vf)\n",
    "    Vmin = 0.5 * Vf\n",
    "    Qf = Q100 * par_Qf\n",
    "    Qmin = 0.5 * Qn\n",
    "\n",
    "    # reservoir limits\n",
    "    Vlims = [Vmin, Vf, Ve, cap_cm]\n",
    "    Qlims = [Qmin, Qf, Qf, Qf]\n",
    "\n",
    "    # declare reservoir\n",
    "    res = Camaflood(\n",
    "        Vmin=Vmin,\n",
    "        Vf=Vf,\n",
    "        Ve=Ve,\n",
    "        Vtot=cap_cm,\n",
    "        Qn=Qn,\n",
    "        Qf=Qf,\n",
    "        catchment=catch_sm,\n",
    "        Atot=area_sm,\n",
    "        timestep=6*3600\n",
    "    )\n",
    "\n",
    "    # time series\n",
    "    obs = Obs[gdw_id] if gdw_id in Obs else None\n",
    "    sim_lf = Sim_lisflood[gdw_id]\n",
    "    \n",
    "    # simulate with Lisflood inflow\n",
    "    sim_cf = res.simulate(sim_lf.inflow)\n",
    "    # ts.storage /= cap_cm\n",
    "    Sim_camaflood[gdw_id] = sim_cf\n",
    "\n",
    "    # compare LISFLOOD vs observation\n",
    "    if obs is not None:\n",
    "        res.scatter(\n",
    "            sim_lf,\n",
    "            sim_cf,\n",
    "            norm=False,\n",
    "            title=gdw_id,\n",
    "            Vlims=Vlims,\n",
    "            Qlims=Qlims,\n",
    "            labels=['Lisflood', 'CaMa-Flood'],\n",
    "            save=path_plots / f'{gdw_id}_scatter_lisflood_vs_camaflood.jpg'\n",
    "        )\n",
    "    res.lineplot(\n",
    "        sim={\n",
    "            'Lisflood': sim_lf.groupby(sim_lf.index.floor('D')).mean(),\n",
    "            'CaMa-Flood': sim_cf.groupby(sim_cf.index.floor('D')).mean()\n",
    "        },\n",
    "        obs=obs,\n",
    "        Vlims=Vlims,\n",
    "        Qlims=Qlims,\n",
    "        # spinup=cfg.SPINUP,\n",
    "        title=gdw_id,\n",
    "        figsize=(12, 6),\n",
    "        save=path_plots / f'{gdw_id}_line_simulated_vs_observed.jpg'\n",
    "    )\n",
    "\n",
    "    if obs is not None:\n",
    "        for var in variables:\n",
    "            camaflood_performance.loc[gdw_id, f'KGE_{var}'] = KGEmod(obs[var], sim_cf[var])[0]"
   ]
  },
  {
   "cell_type": "code",
   "execution_count": 47,
   "id": "d15be40d-15ae-4096-abde-efeec073bd6e",
   "metadata": {},
   "outputs": [
    {
     "data": {
      "image/png": "[encoded data removed]",
      "text/plain": [
       "<Figure size 1600x250 with 4 Axes>"
      ]
     },
     "metadata": {},
     "output_type": "display_data"
    }
   ],
   "source": [
    "projection = ccrs.PlateCarree()\n",
    "fig, axes = plt.subplots(ncols=3, figsize=(16, 2.5), subplot_kw={\"projection\": projection})\n",
    "for ax, var in zip(axes, variables):\n",
    "    col = f'KGE_{var}'\n",
    "    sct = ax.scatter(\n",
    "        reservoirs.geometry.x,\n",
    "        reservoirs.geometry.y,\n",
    "        c=camaflood_performance[col],\n",
    "        cmap='coolwarm_r',\n",
    "        s=12,\n",
    "        vmin=-1, \n",
    "        vmax=1\n",
    "    )\n",
    "    ax.add_feature(cfeature.RIVERS.with_scale('10m'), edgecolor='lightblue', linewidth=0.5, zorder=0)\n",
    "    ax.set_title(var)\n",
    "    ax.axis('off')\n",
    "fig.colorbar(sct, ax=axes, label=\"KGE'\", shrink=.666)\n",
    "fig.suptitle('CaMa-Flood vs observed');"
   ]
  },
  {
   "cell_type": "markdown",
   "id": "6cf508dd-0d44-48d8-bb65-6983a0fab778",
   "metadata": {},
   "source": [
    "### CaMa-Flood calibration"
   ]
  },
  {
   "cell_type": "code",
   "execution_count": 51,
   "id": "aea9b28f-8982-434e-9e44-f620251a3f98",
   "metadata": {},
   "outputs": [],
   "source": [
    "parameters = {\n",
    "    'alpha': {\n",
    "        'low': 0.2,\n",
    "        'high': 0.99\n",
    "    },\n",
    "    'delta': {\n",
    "        'low': 0.1,\n",
    "        'high': 0.5\n",
    "    },\n",
    "}\n",
    "\n",
    "target = ['storage', 'outflow']"
   ]
  },
  {
   "cell_type": "code",
   "execution_count": 62,
   "id": "bfc3946d-5707-4654-8a42-9a332fb6a855",
   "metadata": {
    "scrolled": true
   },
   "outputs": [
    {
     "data": {
      "application/vnd.jupyter.widget-view+json": {
       "model_id": "6074344c656e433b9c2c4e97b30d4453",
       "version_major": 2,
       "version_minor": 0
      },
      "text/plain": [
       "reservoirs:   0%|          | 0/28 [00:00<?, ?it/s]"
      ]
     },
     "metadata": {},
     "output_type": "display_data"
    },
    {
     "name": "stdout",
     "output_type": "stream",
     "text": [
      "Initializing the  Shuffled Complex Evolution (SCE-UA) algorithm  with  5000  repetitions\n",
      "The objective function will be minimized\n",
      "Starting burn-in sampling...\n"
     ]
    },
    {
     "data": {
      "application/vnd.jupyter.widget-view+json": {
       "model_id": "d5d3edf967c443009bedcf4488d02948",
       "version_major": 2,
       "version_minor": 0
      },
      "text/plain": [
       "timesteps:   0%|          | 0/11231 [00:00<?, ?it/s]"
      ]
     },
     "metadata": {},
     "output_type": "display_data"
    },
    {
     "name": "stdout",
     "output_type": "stream",
     "text": [
      "Initialize database...\n",
      "['csv', 'hdf5', 'ram', 'sql', 'custom', 'noData']\n",
      "* Database file 'Z:\\nahaUsers\\casadje\\EFASv6\\reservoirs\\tests\\Ebro\\camaflood/3974_samples.csv' created.\n"
     ]
    },
    {
     "data": {
      "application/vnd.jupyter.widget-view+json": {
       "model_id": "2cdf9da301b44c92ae4abbf610f1f809",
       "version_major": 2,
       "version_minor": 0
      },
      "text/plain": [
       "timesteps:   0%|          | 0/11231 [00:00<?, ?it/s]"
      ]
     },
     "metadata": {},
     "output_type": "display_data"
    },
    {
     "data": {
      "application/vnd.jupyter.widget-view+json": {
       "model_id": "1590d4e1e9ea46bd81ac342aa5f2a70d",
       "version_major": 2,
       "version_minor": 0
      },
      "text/plain": [
       "timesteps:   0%|          | 0/11231 [00:00<?, ?it/s]"
      ]
     },
     "metadata": {},
     "output_type": "display_data"
    },
    {
     "data": {
      "application/vnd.jupyter.widget-view+json": {
       "model_id": "190c0d9c6f164726b3cde657dc87d54f",
       "version_major": 2,
       "version_minor": 0
      },
      "text/plain": [
       "timesteps:   0%|          | 0/11231 [00:00<?, ?it/s]"
      ]
     },
     "metadata": {},
     "output_type": "display_data"
    },
    {
     "data": {
      "application/vnd.jupyter.widget-view+json": {
       "model_id": "f1cd3496ad6c434eb417951de66eefa4",
       "version_major": 2,
       "version_minor": 0
      },
      "text/plain": [
       "timesteps:   0%|          | 0/11231 [00:00<?, ?it/s]"
      ]
     },
     "metadata": {},
     "output_type": "display_data"
    },
    {
     "name": "stdout",
     "output_type": "stream",
     "text": [
      "5 of 5000, minimal objective function=1.12217, time remaining: 00:29:41\n"
     ]
    },
    {
     "data": {
      "application/vnd.jupyter.widget-view+json": {
       "model_id": "f3aa7558206342fe900b01c91ca2b3ed",
       "version_major": 2,
       "version_minor": 0
      },
      "text/plain": [
       "timesteps:   0%|          | 0/11231 [00:00<?, ?it/s]"
      ]
     },
     "metadata": {},
     "output_type": "display_data"
    },
    {
     "data": {
      "application/vnd.jupyter.widget-view+json": {
       "model_id": "9838601dde784580876b9c7ca417d78e",
       "version_major": 2,
       "version_minor": 0
      },
      "text/plain": [
       "timesteps:   0%|          | 0/11231 [00:00<?, ?it/s]"
      ]
     },
     "metadata": {},
     "output_type": "display_data"
    },
    {
     "data": {
      "application/vnd.jupyter.widget-view+json": {
       "model_id": "b1ee0a17069a45bcb939ca2d4c682524",
       "version_major": 2,
       "version_minor": 0
      },
      "text/plain": [
       "timesteps:   0%|          | 0/11231 [00:00<?, ?it/s]"
      ]
     },
     "metadata": {},
     "output_type": "display_data"
    },
    {
     "data": {
      "application/vnd.jupyter.widget-view+json": {
       "model_id": "4cdef28dab2e4606b2cb1052ac2c334a",
       "version_major": 2,
       "version_minor": 0
      },
      "text/plain": [
       "timesteps:   0%|          | 0/11231 [00:00<?, ?it/s]"
      ]
     },
     "metadata": {},
     "output_type": "display_data"
    },
    {
     "data": {
      "application/vnd.jupyter.widget-view+json": {
       "model_id": "8deda4f2be0b42b889d34fcab7f0c498",
       "version_major": 2,
       "version_minor": 0
      },
      "text/plain": [
       "timesteps:   0%|          | 0/11231 [00:00<?, ?it/s]"
      ]
     },
     "metadata": {},
     "output_type": "display_data"
    },
    {
     "data": {
      "application/vnd.jupyter.widget-view+json": {
       "model_id": "aaa9e9e10a5240dda635accdfa933d72",
       "version_major": 2,
       "version_minor": 0
      },
      "text/plain": [
       "timesteps:   0%|          | 0/11231 [00:00<?, ?it/s]"
      ]
     },
     "metadata": {},
     "output_type": "display_data"
    },
    {
     "name": "stdout",
     "output_type": "stream",
     "text": [
      "11 of 5000, minimal objective function=1.10614, time remaining: 00:30:39\n"
     ]
    },
    {
     "data": {
      "application/vnd.jupyter.widget-view+json": {
       "model_id": "ce13651e21974077a2fa1dcfd36c47e0",
       "version_major": 2,
       "version_minor": 0
      },
      "text/plain": [
       "timesteps:   0%|          | 0/11231 [00:00<?, ?it/s]"
      ]
     },
     "metadata": {},
     "output_type": "display_data"
    },
    {
     "data": {
      "application/vnd.jupyter.widget-view+json": {
       "model_id": "1a1e83e9bde649a9a54ce415632e3db2",
       "version_major": 2,
       "version_minor": 0
      },
      "text/plain": [
       "timesteps:   0%|          | 0/11231 [00:00<?, ?it/s]"
      ]
     },
     "metadata": {},
     "output_type": "display_data"
    },
    {
     "data": {
      "application/vnd.jupyter.widget-view+json": {
       "model_id": "594239c344754913a6c3fb57d09c7b20",
       "version_major": 2,
       "version_minor": 0
      },
      "text/plain": [
       "timesteps:   0%|          | 0/11231 [00:00<?, ?it/s]"
      ]
     },
     "metadata": {},
     "output_type": "display_data"
    },
    {
     "data": {
      "application/vnd.jupyter.widget-view+json": {
       "model_id": "e99c232ce92440be96d1940084e2f8a6",
       "version_major": 2,
       "version_minor": 0
      },
      "text/plain": [
       "timesteps:   0%|          | 0/11231 [00:00<?, ?it/s]"
      ]
     },
     "metadata": {},
     "output_type": "display_data"
    },
    {
     "data": {
      "application/vnd.jupyter.widget-view+json": {
       "model_id": "010f0fdfbcb542a1afcc93f9796a0763",
       "version_major": 2,
       "version_minor": 0
      },
      "text/plain": [
       "timesteps:   0%|          | 0/11231 [00:00<?, ?it/s]"
      ]
     },
     "metadata": {},
     "output_type": "display_data"
    },
    {
     "data": {
      "application/vnd.jupyter.widget-view+json": {
       "model_id": "7adb8aaf69f14823a84c3f8845ba739c",
       "version_major": 2,
       "version_minor": 0
      },
      "text/plain": [
       "timesteps:   0%|          | 0/11231 [00:00<?, ?it/s]"
      ]
     },
     "metadata": {},
     "output_type": "display_data"
    },
    {
     "name": "stdout",
     "output_type": "stream",
     "text": [
      "17 of 5000, minimal objective function=1.10614, time remaining: 00:31:07\n"
     ]
    },
    {
     "data": {
      "application/vnd.jupyter.widget-view+json": {
       "model_id": "eb2f0d57582c4004be1f8257ccd18395",
       "version_major": 2,
       "version_minor": 0
      },
      "text/plain": [
       "timesteps:   0%|          | 0/11231 [00:00<?, ?it/s]"
      ]
     },
     "metadata": {},
     "output_type": "display_data"
    },
    {
     "data": {
      "application/vnd.jupyter.widget-view+json": {
       "model_id": "127e5fe9707f48a3a70e1b2ab17d61d4",
       "version_major": 2,
       "version_minor": 0
      },
      "text/plain": [
       "timesteps:   0%|          | 0/11231 [00:00<?, ?it/s]"
      ]
     },
     "metadata": {},
     "output_type": "display_data"
    },
    {
     "data": {
      "application/vnd.jupyter.widget-view+json": {
       "model_id": "f83b0c5e277943cf881711cb7aed5cda",
       "version_major": 2,
       "version_minor": 0
      },
      "text/plain": [
       "timesteps:   0%|          | 0/11231 [00:00<?, ?it/s]"
      ]
     },
     "metadata": {},
     "output_type": "display_data"
    },
    {
     "name": "stdout",
     "output_type": "stream",
     "text": [
      "Burn-in sampling completed...\n",
      "Starting Complex Evolution...\n",
      "ComplexEvo loop #1 in progress...\n"
     ]
    },
    {
     "data": {
      "application/vnd.jupyter.widget-view+json": {
       "model_id": "20ba3f26d4014f7c97b9f98f3d5f6a0e",
       "version_major": 2,
       "version_minor": 0
      },
      "text/plain": [
       "timesteps:   0%|          | 0/11231 [00:00<?, ?it/s]"
      ]
     },
     "metadata": {},
     "output_type": "display_data"
    },
    {
     "data": {
      "application/vnd.jupyter.widget-view+json": {
       "model_id": "4bfe321be28b42c7a2c462c93a471088",
       "version_major": 2,
       "version_minor": 0
      },
      "text/plain": [
       "timesteps:   0%|          | 0/11231 [00:00<?, ?it/s]"
      ]
     },
     "metadata": {},
     "output_type": "display_data"
    },
    {
     "data": {
      "application/vnd.jupyter.widget-view+json": {
       "model_id": "e859151f4e804bf5b4701956b72b0b8e",
       "version_major": 2,
       "version_minor": 0
      },
      "text/plain": [
       "timesteps:   0%|          | 0/11231 [00:00<?, ?it/s]"
      ]
     },
     "metadata": {},
     "output_type": "display_data"
    },
    {
     "data": {
      "application/vnd.jupyter.widget-view+json": {
       "model_id": "372520555f0e46c2b67a152f4a14fa5f",
       "version_major": 2,
       "version_minor": 0
      },
      "text/plain": [
       "timesteps:   0%|          | 0/11231 [00:00<?, ?it/s]"
      ]
     },
     "metadata": {},
     "output_type": "display_data"
    },
    {
     "data": {
      "application/vnd.jupyter.widget-view+json": {
       "model_id": "2cf82fdab9044b4ca11a94dfb6ae34ad",
       "version_major": 2,
       "version_minor": 0
      },
      "text/plain": [
       "timesteps:   0%|          | 0/11231 [00:00<?, ?it/s]"
      ]
     },
     "metadata": {},
     "output_type": "display_data"
    },
    {
     "data": {
      "application/vnd.jupyter.widget-view+json": {
       "model_id": "9784e1c8c4e8471aaef30e64db01926b",
       "version_major": 2,
       "version_minor": 0
      },
      "text/plain": [
       "timesteps:   0%|          | 0/11231 [00:00<?, ?it/s]"
      ]
     },
     "metadata": {},
     "output_type": "display_data"
    },
    {
     "data": {
      "application/vnd.jupyter.widget-view+json": {
       "model_id": "e1bb2f839f634c71bd70304105528174",
       "version_major": 2,
       "version_minor": 0
      },
      "text/plain": [
       "timesteps:   0%|          | 0/11231 [00:00<?, ?it/s]"
      ]
     },
     "metadata": {},
     "output_type": "display_data"
    },
    {
     "data": {
      "application/vnd.jupyter.widget-view+json": {
       "model_id": "2b64669de26f4d6fa0a8ab8238c21684",
       "version_major": 2,
       "version_minor": 0
      },
      "text/plain": [
       "timesteps:   0%|          | 0/11231 [00:00<?, ?it/s]"
      ]
     },
     "metadata": {},
     "output_type": "display_data"
    },
    {
     "name": "stdout",
     "output_type": "stream",
     "text": [
      "29 of 5000, minimal objective function=1.10614, time remaining: 00:30:07\n"
     ]
    },
    {
     "data": {
      "application/vnd.jupyter.widget-view+json": {
       "model_id": "8b25b82c8b954305aa6a7e8b60bd2355",
       "version_major": 2,
       "version_minor": 0
      },
      "text/plain": [
       "timesteps:   0%|          | 0/11231 [00:00<?, ?it/s]"
      ]
     },
     "metadata": {},
     "output_type": "display_data"
    },
    {
     "data": {
      "application/vnd.jupyter.widget-view+json": {
       "model_id": "b19cc33b568b42d09089ea28896e909c",
       "version_major": 2,
       "version_minor": 0
      },
      "text/plain": [
       "timesteps:   0%|          | 0/11231 [00:00<?, ?it/s]"
      ]
     },
     "metadata": {},
     "output_type": "display_data"
    },
    {
     "data": {
      "application/vnd.jupyter.widget-view+json": {
       "model_id": "d0f0b1933d6d4c8b83e02ab21c4c0f21",
       "version_major": 2,
       "version_minor": 0
      },
      "text/plain": [
       "timesteps:   0%|          | 0/11231 [00:00<?, ?it/s]"
      ]
     },
     "metadata": {},
     "output_type": "display_data"
    },
    {
     "data": {
      "application/vnd.jupyter.widget-view+json": {
       "model_id": "14372a1bcb4a46bf88bafda650bab26e",
       "version_major": 2,
       "version_minor": 0
      },
      "text/plain": [
       "timesteps:   0%|          | 0/11231 [00:00<?, ?it/s]"
      ]
     },
     "metadata": {},
     "output_type": "display_data"
    },
    {
     "data": {
      "application/vnd.jupyter.widget-view+json": {
       "model_id": "95ed15056a7b4cd39587655808c50d61",
       "version_major": 2,
       "version_minor": 0
      },
      "text/plain": [
       "timesteps:   0%|          | 0/11231 [00:00<?, ?it/s]"
      ]
     },
     "metadata": {},
     "output_type": "display_data"
    },
    {
     "data": {
      "application/vnd.jupyter.widget-view+json": {
       "model_id": "bd38f660c0d541419b4affe2eb41c348",
       "version_major": 2,
       "version_minor": 0
      },
      "text/plain": [
       "timesteps:   0%|          | 0/11231 [00:00<?, ?it/s]"
      ]
     },
     "metadata": {},
     "output_type": "display_data"
    },
    {
     "data": {
      "application/vnd.jupyter.widget-view+json": {
       "model_id": "984a1b9cc79f42328fbfb548cee517b4",
       "version_major": 2,
       "version_minor": 0
      },
      "text/plain": [
       "timesteps:   0%|          | 0/11231 [00:00<?, ?it/s]"
      ]
     },
     "metadata": {},
     "output_type": "display_data"
    },
    {
     "data": {
      "application/vnd.jupyter.widget-view+json": {
       "model_id": "fceadf1b71374241aedeef552c2e292b",
       "version_major": 2,
       "version_minor": 0
      },
      "text/plain": [
       "timesteps:   0%|          | 0/11231 [00:00<?, ?it/s]"
      ]
     },
     "metadata": {},
     "output_type": "display_data"
    },
    {
     "data": {
      "application/vnd.jupyter.widget-view+json": {
       "model_id": "225b6671f2494a0d827276de49456f27",
       "version_major": 2,
       "version_minor": 0
      },
      "text/plain": [
       "timesteps:   0%|          | 0/11231 [00:00<?, ?it/s]"
      ]
     },
     "metadata": {},
     "output_type": "display_data"
    },
    {
     "name": "stdout",
     "output_type": "stream",
     "text": [
      "43 of 5000, minimal objective function=1.10614, time remaining: 00:27:14\n"
     ]
    },
    {
     "data": {
      "application/vnd.jupyter.widget-view+json": {
       "model_id": "c9d04e972a6f4966866b40031f0758c7",
       "version_major": 2,
       "version_minor": 0
      },
      "text/plain": [
       "timesteps:   0%|          | 0/11231 [00:00<?, ?it/s]"
      ]
     },
     "metadata": {},
     "output_type": "display_data"
    },
    {
     "data": {
      "application/vnd.jupyter.widget-view+json": {
       "model_id": "f777d354fa154d31964813afe7420639",
       "version_major": 2,
       "version_minor": 0
      },
      "text/plain": [
       "timesteps:   0%|          | 0/11231 [00:00<?, ?it/s]"
      ]
     },
     "metadata": {},
     "output_type": "display_data"
    },
    {
     "data": {
      "application/vnd.jupyter.widget-view+json": {
       "model_id": "74eeb91c03094159b6fdfe458c7013f2",
       "version_major": 2,
       "version_minor": 0
      },
      "text/plain": [
       "timesteps:   0%|          | 0/11231 [00:00<?, ?it/s]"
      ]
     },
     "metadata": {},
     "output_type": "display_data"
    },
    {
     "data": {
      "application/vnd.jupyter.widget-view+json": {
       "model_id": "1d799c02ade948049dfc4291093e6b58",
       "version_major": 2,
       "version_minor": 0
      },
      "text/plain": [
       "timesteps:   0%|          | 0/11231 [00:00<?, ?it/s]"
      ]
     },
     "metadata": {},
     "output_type": "display_data"
    },
    {
     "data": {
      "application/vnd.jupyter.widget-view+json": {
       "model_id": "6f2c6be4f4254cfc9ab532d3ba7ed52b",
       "version_major": 2,
       "version_minor": 0
      },
      "text/plain": [
       "timesteps:   0%|          | 0/11231 [00:00<?, ?it/s]"
      ]
     },
     "metadata": {},
     "output_type": "display_data"
    },
    {
     "data": {
      "application/vnd.jupyter.widget-view+json": {
       "model_id": "0828c68e80ab435c8a27066ef3c16d77",
       "version_major": 2,
       "version_minor": 0
      },
      "text/plain": [
       "timesteps:   0%|          | 0/11231 [00:00<?, ?it/s]"
      ]
     },
     "metadata": {},
     "output_type": "display_data"
    },
    {
     "data": {
      "application/vnd.jupyter.widget-view+json": {
       "model_id": "6d0f06ea348a4f8b9dd4dda00bd092fc",
       "version_major": 2,
       "version_minor": 0
      },
      "text/plain": [
       "timesteps:   0%|          | 0/11231 [00:00<?, ?it/s]"
      ]
     },
     "metadata": {},
     "output_type": "display_data"
    },
    {
     "name": "stdout",
     "output_type": "stream",
     "text": [
      "55 of 5000, minimal objective function=1.10513, time remaining: 00:25:12\n"
     ]
    },
    {
     "data": {
      "application/vnd.jupyter.widget-view+json": {
       "model_id": "4b364be13fda41eaa8fbccc3c2e91a15",
       "version_major": 2,
       "version_minor": 0
      },
      "text/plain": [
       "timesteps:   0%|          | 0/11231 [00:00<?, ?it/s]"
      ]
     },
     "metadata": {},
     "output_type": "display_data"
    },
    {
     "data": {
      "application/vnd.jupyter.widget-view+json": {
       "model_id": "2f13e61c2a384276bbcc449775578fb2",
       "version_major": 2,
       "version_minor": 0
      },
      "text/plain": [
       "timesteps:   0%|          | 0/11231 [00:00<?, ?it/s]"
      ]
     },
     "metadata": {},
     "output_type": "display_data"
    },
    {
     "data": {
      "application/vnd.jupyter.widget-view+json": {
       "model_id": "98339418f94447608ce30cfbb736b818",
       "version_major": 2,
       "version_minor": 0
      },
      "text/plain": [
       "timesteps:   0%|          | 0/11231 [00:00<?, ?it/s]"
      ]
     },
     "metadata": {},
     "output_type": "display_data"
    },
    {
     "data": {
      "application/vnd.jupyter.widget-view+json": {
       "model_id": "603c4bf6acae4a3d8a57c7a9730d4819",
       "version_major": 2,
       "version_minor": 0
      },
      "text/plain": [
       "timesteps:   0%|          | 0/11231 [00:00<?, ?it/s]"
      ]
     },
     "metadata": {},
     "output_type": "display_data"
    },
    {
     "data": {
      "application/vnd.jupyter.widget-view+json": {
       "model_id": "1046aed928ee43748114ebc7284c2c58",
       "version_major": 2,
       "version_minor": 0
      },
      "text/plain": [
       "timesteps:   0%|          | 0/11231 [00:00<?, ?it/s]"
      ]
     },
     "metadata": {},
     "output_type": "display_data"
    },
    {
     "data": {
      "application/vnd.jupyter.widget-view+json": {
       "model_id": "232a65e054ed4d8f93ec0e69005172bc",
       "version_major": 2,
       "version_minor": 0
      },
      "text/plain": [
       "timesteps:   0%|          | 0/11231 [00:00<?, ?it/s]"
      ]
     },
     "metadata": {},
     "output_type": "display_data"
    },
    {
     "data": {
      "application/vnd.jupyter.widget-view+json": {
       "model_id": "30b3ee8aafa748e7ba3e4a9f825ab6ed",
       "version_major": 2,
       "version_minor": 0
      },
      "text/plain": [
       "timesteps:   0%|          | 0/11231 [00:00<?, ?it/s]"
      ]
     },
     "metadata": {},
     "output_type": "display_data"
    },
    {
     "data": {
      "application/vnd.jupyter.widget-view+json": {
       "model_id": "5d0f7328e3e94c24a7cf4999c54afb23",
       "version_major": 2,
       "version_minor": 0
      },
      "text/plain": [
       "timesteps:   0%|          | 0/11231 [00:00<?, ?it/s]"
      ]
     },
     "metadata": {},
     "output_type": "display_data"
    },
    {
     "data": {
      "application/vnd.jupyter.widget-view+json": {
       "model_id": "2e01c699ad2546428917ef821c2c05d0",
       "version_major": 2,
       "version_minor": 0
      },
      "text/plain": [
       "timesteps:   0%|          | 0/11231 [00:00<?, ?it/s]"
      ]
     },
     "metadata": {},
     "output_type": "display_data"
    },
    {
     "name": "stdout",
     "output_type": "stream",
     "text": [
      "69 of 5000, minimal objective function=1.10513, time remaining: 00:24:10\n",
      "ComplexEvo loop #2 in progress...\n"
     ]
    },
    {
     "data": {
      "application/vnd.jupyter.widget-view+json": {
       "model_id": "1939d371517c45f88c9a51f2d8917212",
       "version_major": 2,
       "version_minor": 0
      },
      "text/plain": [
       "timesteps:   0%|          | 0/11231 [00:00<?, ?it/s]"
      ]
     },
     "metadata": {},
     "output_type": "display_data"
    },
    {
     "data": {
      "application/vnd.jupyter.widget-view+json": {
       "model_id": "c2534262b4cf4e75abbe19a20bf573e0",
       "version_major": 2,
       "version_minor": 0
      },
      "text/plain": [
       "timesteps:   0%|          | 0/11231 [00:00<?, ?it/s]"
      ]
     },
     "metadata": {},
     "output_type": "display_data"
    },
    {
     "data": {
      "application/vnd.jupyter.widget-view+json": {
       "model_id": "000b4648da174d859892df086bda6518",
       "version_major": 2,
       "version_minor": 0
      },
      "text/plain": [
       "timesteps:   0%|          | 0/11231 [00:00<?, ?it/s]"
      ]
     },
     "metadata": {},
     "output_type": "display_data"
    },
    {
     "data": {
      "application/vnd.jupyter.widget-view+json": {
       "model_id": "ea0d67e6957942dc888b60b7343035cd",
       "version_major": 2,
       "version_minor": 0
      },
      "text/plain": [
       "timesteps:   0%|          | 0/11231 [00:00<?, ?it/s]"
      ]
     },
     "metadata": {},
     "output_type": "display_data"
    },
    {
     "data": {
      "application/vnd.jupyter.widget-view+json": {
       "model_id": "7e173f3cb1694cc283d065639d5576d0",
       "version_major": 2,
       "version_minor": 0
      },
      "text/plain": [
       "timesteps:   0%|          | 0/11231 [00:00<?, ?it/s]"
      ]
     },
     "metadata": {},
     "output_type": "display_data"
    },
    {
     "data": {
      "application/vnd.jupyter.widget-view+json": {
       "model_id": "eb344ab61f4e4717a414b339f79e7c71",
       "version_major": 2,
       "version_minor": 0
      },
      "text/plain": [
       "timesteps:   0%|          | 0/11231 [00:00<?, ?it/s]"
      ]
     },
     "metadata": {},
     "output_type": "display_data"
    },
    {
     "data": {
      "application/vnd.jupyter.widget-view+json": {
       "model_id": "47c98f1a169a482fbab58b733b13408e",
       "version_major": 2,
       "version_minor": 0
      },
      "text/plain": [
       "timesteps:   0%|          | 0/11231 [00:00<?, ?it/s]"
      ]
     },
     "metadata": {},
     "output_type": "display_data"
    },
    {
     "name": "stdout",
     "output_type": "stream",
     "text": [
      "81 of 5000, minimal objective function=1.10496, time remaining: 00:23:14\n"
     ]
    },
    {
     "data": {
      "application/vnd.jupyter.widget-view+json": {
       "model_id": "dca815feea21481994329486921c7502",
       "version_major": 2,
       "version_minor": 0
      },
      "text/plain": [
       "timesteps:   0%|          | 0/11231 [00:00<?, ?it/s]"
      ]
     },
     "metadata": {},
     "output_type": "display_data"
    },
    {
     "data": {
      "application/vnd.jupyter.widget-view+json": {
       "model_id": "260013e6b534431292e25361dd5c5ee1",
       "version_major": 2,
       "version_minor": 0
      },
      "text/plain": [
       "timesteps:   0%|          | 0/11231 [00:00<?, ?it/s]"
      ]
     },
     "metadata": {},
     "output_type": "display_data"
    },
    {
     "data": {
      "application/vnd.jupyter.widget-view+json": {
       "model_id": "d502faac3a914c0584939b191aafdb2a",
       "version_major": 2,
       "version_minor": 0
      },
      "text/plain": [
       "timesteps:   0%|          | 0/11231 [00:00<?, ?it/s]"
      ]
     },
     "metadata": {},
     "output_type": "display_data"
    },
    {
     "data": {
      "application/vnd.jupyter.widget-view+json": {
       "model_id": "da9e48775f154278864aea56949a456a",
       "version_major": 2,
       "version_minor": 0
      },
      "text/plain": [
       "timesteps:   0%|          | 0/11231 [00:00<?, ?it/s]"
      ]
     },
     "metadata": {},
     "output_type": "display_data"
    },
    {
     "data": {
      "application/vnd.jupyter.widget-view+json": {
       "model_id": "9abe894e32c14408b5503ebf1c0b6415",
       "version_major": 2,
       "version_minor": 0
      },
      "text/plain": [
       "timesteps:   0%|          | 0/11231 [00:00<?, ?it/s]"
      ]
     },
     "metadata": {},
     "output_type": "display_data"
    },
    {
     "data": {
      "application/vnd.jupyter.widget-view+json": {
       "model_id": "e0c249da1ecb46389764a7e9bc0ab93d",
       "version_major": 2,
       "version_minor": 0
      },
      "text/plain": [
       "timesteps:   0%|          | 0/11231 [00:00<?, ?it/s]"
      ]
     },
     "metadata": {},
     "output_type": "display_data"
    },
    {
     "data": {
      "application/vnd.jupyter.widget-view+json": {
       "model_id": "3b8b198799654279b2fdee1e337f8381",
       "version_major": 2,
       "version_minor": 0
      },
      "text/plain": [
       "timesteps:   0%|          | 0/11231 [00:00<?, ?it/s]"
      ]
     },
     "metadata": {},
     "output_type": "display_data"
    },
    {
     "data": {
      "application/vnd.jupyter.widget-view+json": {
       "model_id": "69fd234a038542768f7ee1c4c58dc0ea",
       "version_major": 2,
       "version_minor": 0
      },
      "text/plain": [
       "timesteps:   0%|          | 0/11231 [00:00<?, ?it/s]"
      ]
     },
     "metadata": {},
     "output_type": "display_data"
    },
    {
     "data": {
      "application/vnd.jupyter.widget-view+json": {
       "model_id": "6df33501beb74f68b6372d6484380f60",
       "version_major": 2,
       "version_minor": 0
      },
      "text/plain": [
       "timesteps:   0%|          | 0/11231 [00:00<?, ?it/s]"
      ]
     },
     "metadata": {},
     "output_type": "display_data"
    },
    {
     "data": {
      "application/vnd.jupyter.widget-view+json": {
       "model_id": "7f0cc51222e64d0cb4fbc1688bad3e1c",
       "version_major": 2,
       "version_minor": 0
      },
      "text/plain": [
       "timesteps:   0%|          | 0/11231 [00:00<?, ?it/s]"
      ]
     },
     "metadata": {},
     "output_type": "display_data"
    },
    {
     "name": "stdout",
     "output_type": "stream",
     "text": [
      "96 of 5000, minimal objective function=1.10496, time remaining: 00:23:01\n"
     ]
    },
    {
     "data": {
      "application/vnd.jupyter.widget-view+json": {
       "model_id": "f0ea9174819849f1a927dc82d20d1a57",
       "version_major": 2,
       "version_minor": 0
      },
      "text/plain": [
       "timesteps:   0%|          | 0/11231 [00:00<?, ?it/s]"
      ]
     },
     "metadata": {},
     "output_type": "display_data"
    },
    {
     "data": {
      "application/vnd.jupyter.widget-view+json": {
       "model_id": "f61744fd8a2f40ef8a18e60c59d23cdf",
       "version_major": 2,
       "version_minor": 0
      },
      "text/plain": [
       "timesteps:   0%|          | 0/11231 [00:00<?, ?it/s]"
      ]
     },
     "metadata": {},
     "output_type": "display_data"
    },
    {
     "data": {
      "application/vnd.jupyter.widget-view+json": {
       "model_id": "74fd66553af4499bb693f9effa7dc7bb",
       "version_major": 2,
       "version_minor": 0
      },
      "text/plain": [
       "timesteps:   0%|          | 0/11231 [00:00<?, ?it/s]"
      ]
     },
     "metadata": {},
     "output_type": "display_data"
    },
    {
     "data": {
      "application/vnd.jupyter.widget-view+json": {
       "model_id": "7facbb5e59d54085a044c9ef2202d795",
       "version_major": 2,
       "version_minor": 0
      },
      "text/plain": [
       "timesteps:   0%|          | 0/11231 [00:00<?, ?it/s]"
      ]
     },
     "metadata": {},
     "output_type": "display_data"
    },
    {
     "data": {
      "application/vnd.jupyter.widget-view+json": {
       "model_id": "8818b01a36ed4c0a9dc41ffef350fc3e",
       "version_major": 2,
       "version_minor": 0
      },
      "text/plain": [
       "timesteps:   0%|          | 0/11231 [00:00<?, ?it/s]"
      ]
     },
     "metadata": {},
     "output_type": "display_data"
    },
    {
     "data": {
      "application/vnd.jupyter.widget-view+json": {
       "model_id": "078476a0c0294102acfd0d39d3657beb",
       "version_major": 2,
       "version_minor": 0
      },
      "text/plain": [
       "timesteps:   0%|          | 0/11231 [00:00<?, ?it/s]"
      ]
     },
     "metadata": {},
     "output_type": "display_data"
    },
    {
     "data": {
      "application/vnd.jupyter.widget-view+json": {
       "model_id": "304d88d6612d49b588d0c968b4ec188b",
       "version_major": 2,
       "version_minor": 0
      },
      "text/plain": [
       "timesteps:   0%|          | 0/11231 [00:00<?, ?it/s]"
      ]
     },
     "metadata": {},
     "output_type": "display_data"
    },
    {
     "name": "stdout",
     "output_type": "stream",
     "text": [
      "108 of 5000, minimal objective function=1.10496, time remaining: 00:22:28\n"
     ]
    },
    {
     "data": {
      "application/vnd.jupyter.widget-view+json": {
       "model_id": "ebb0ec8f99c54809a4c8937cd39d322d",
       "version_major": 2,
       "version_minor": 0
      },
      "text/plain": [
       "timesteps:   0%|          | 0/11231 [00:00<?, ?it/s]"
      ]
     },
     "metadata": {},
     "output_type": "display_data"
    },
    {
     "data": {
      "application/vnd.jupyter.widget-view+json": {
       "model_id": "ced9e474fe4f4c998cc7fd0625cf5497",
       "version_major": 2,
       "version_minor": 0
      },
      "text/plain": [
       "timesteps:   0%|          | 0/11231 [00:00<?, ?it/s]"
      ]
     },
     "metadata": {},
     "output_type": "display_data"
    },
    {
     "data": {
      "application/vnd.jupyter.widget-view+json": {
       "model_id": "d27ef42ee7b643eeabda845d8076a667",
       "version_major": 2,
       "version_minor": 0
      },
      "text/plain": [
       "timesteps:   0%|          | 0/11231 [00:00<?, ?it/s]"
      ]
     },
     "metadata": {},
     "output_type": "display_data"
    },
    {
     "data": {
      "application/vnd.jupyter.widget-view+json": {
       "model_id": "f84776aca1d64cdda14d2d46071b2a3a",
       "version_major": 2,
       "version_minor": 0
      },
      "text/plain": [
       "timesteps:   0%|          | 0/11231 [00:00<?, ?it/s]"
      ]
     },
     "metadata": {},
     "output_type": "display_data"
    },
    {
     "data": {
      "application/vnd.jupyter.widget-view+json": {
       "model_id": "8edffdc825b34d4e920c718326d69645",
       "version_major": 2,
       "version_minor": 0
      },
      "text/plain": [
       "timesteps:   0%|          | 0/11231 [00:00<?, ?it/s]"
      ]
     },
     "metadata": {},
     "output_type": "display_data"
    },
    {
     "data": {
      "application/vnd.jupyter.widget-view+json": {
       "model_id": "3e949758fb364c97b474b041e7574a21",
       "version_major": 2,
       "version_minor": 0
      },
      "text/plain": [
       "timesteps:   0%|          | 0/11231 [00:00<?, ?it/s]"
      ]
     },
     "metadata": {},
     "output_type": "display_data"
    },
    {
     "data": {
      "application/vnd.jupyter.widget-view+json": {
       "model_id": "6a808fcc86044d359e2097bb129520de",
       "version_major": 2,
       "version_minor": 0
      },
      "text/plain": [
       "timesteps:   0%|          | 0/11231 [00:00<?, ?it/s]"
      ]
     },
     "metadata": {},
     "output_type": "display_data"
    },
    {
     "data": {
      "application/vnd.jupyter.widget-view+json": {
       "model_id": "27b172ec59ed4487b12ef97ed73e72f0",
       "version_major": 2,
       "version_minor": 0
      },
      "text/plain": [
       "timesteps:   0%|          | 0/11231 [00:00<?, ?it/s]"
      ]
     },
     "metadata": {},
     "output_type": "display_data"
    },
    {
     "data": {
      "application/vnd.jupyter.widget-view+json": {
       "model_id": "89cb5c9021aa40d1955bb32464d26eac",
       "version_major": 2,
       "version_minor": 0
      },
      "text/plain": [
       "timesteps:   0%|          | 0/11231 [00:00<?, ?it/s]"
      ]
     },
     "metadata": {},
     "output_type": "display_data"
    },
    {
     "name": "stdout",
     "output_type": "stream",
     "text": [
      "122 of 5000, minimal objective function=1.10475, time remaining: 00:22:05\n",
      "ComplexEvo loop #3 in progress...\n"
     ]
    },
    {
     "data": {
      "application/vnd.jupyter.widget-view+json": {
       "model_id": "859b761e46ec4992bf8ece11f54f18f2",
       "version_major": 2,
       "version_minor": 0
      },
      "text/plain": [
       "timesteps:   0%|          | 0/11231 [00:00<?, ?it/s]"
      ]
     },
     "metadata": {},
     "output_type": "display_data"
    },
    {
     "data": {
      "application/vnd.jupyter.widget-view+json": {
       "model_id": "58d01ba9a6da471ebf0c671de37be93f",
       "version_major": 2,
       "version_minor": 0
      },
      "text/plain": [
       "timesteps:   0%|          | 0/11231 [00:00<?, ?it/s]"
      ]
     },
     "metadata": {},
     "output_type": "display_data"
    },
    {
     "data": {
      "application/vnd.jupyter.widget-view+json": {
       "model_id": "18bd882130d3411ea35622f46a2bfb10",
       "version_major": 2,
       "version_minor": 0
      },
      "text/plain": [
       "timesteps:   0%|          | 0/11231 [00:00<?, ?it/s]"
      ]
     },
     "metadata": {},
     "output_type": "display_data"
    },
    {
     "data": {
      "application/vnd.jupyter.widget-view+json": {
       "model_id": "857ebb135e8a47d4862bdae4b7e5e4fb",
       "version_major": 2,
       "version_minor": 0
      },
      "text/plain": [
       "timesteps:   0%|          | 0/11231 [00:00<?, ?it/s]"
      ]
     },
     "metadata": {},
     "output_type": "display_data"
    },
    {
     "data": {
      "application/vnd.jupyter.widget-view+json": {
       "model_id": "f8bbfe1b52b34c75843af0afba4b14bd",
       "version_major": 2,
       "version_minor": 0
      },
      "text/plain": [
       "timesteps:   0%|          | 0/11231 [00:00<?, ?it/s]"
      ]
     },
     "metadata": {},
     "output_type": "display_data"
    },
    {
     "data": {
      "application/vnd.jupyter.widget-view+json": {
       "model_id": "d21753e9c28742fd92c22a0eaa5b09b3",
       "version_major": 2,
       "version_minor": 0
      },
      "text/plain": [
       "timesteps:   0%|          | 0/11231 [00:00<?, ?it/s]"
      ]
     },
     "metadata": {},
     "output_type": "display_data"
    },
    {
     "data": {
      "application/vnd.jupyter.widget-view+json": {
       "model_id": "97f8acb58914484aa91d71698551eb61",
       "version_major": 2,
       "version_minor": 0
      },
      "text/plain": [
       "timesteps:   0%|          | 0/11231 [00:00<?, ?it/s]"
      ]
     },
     "metadata": {},
     "output_type": "display_data"
    },
    {
     "data": {
      "application/vnd.jupyter.widget-view+json": {
       "model_id": "72bbeb82970d4012b92e6d159e7f3ece",
       "version_major": 2,
       "version_minor": 0
      },
      "text/plain": [
       "timesteps:   0%|          | 0/11231 [00:00<?, ?it/s]"
      ]
     },
     "metadata": {},
     "output_type": "display_data"
    },
    {
     "name": "stdout",
     "output_type": "stream",
     "text": [
      "135 of 5000, minimal objective function=1.10426, time remaining: 00:21:52\n"
     ]
    },
    {
     "data": {
      "application/vnd.jupyter.widget-view+json": {
       "model_id": "75c0b01a4a6542669bade99d49c03ac1",
       "version_major": 2,
       "version_minor": 0
      },
      "text/plain": [
       "timesteps:   0%|          | 0/11231 [00:00<?, ?it/s]"
      ]
     },
     "metadata": {},
     "output_type": "display_data"
    },
    {
     "data": {
      "application/vnd.jupyter.widget-view+json": {
       "model_id": "f5986ee0084e479fb31e492d81745d22",
       "version_major": 2,
       "version_minor": 0
      },
      "text/plain": [
       "timesteps:   0%|          | 0/11231 [00:00<?, ?it/s]"
      ]
     },
     "metadata": {},
     "output_type": "display_data"
    },
    {
     "data": {
      "application/vnd.jupyter.widget-view+json": {
       "model_id": "88c9f6e346ec400b9fa551f482e80f69",
       "version_major": 2,
       "version_minor": 0
      },
      "text/plain": [
       "timesteps:   0%|          | 0/11231 [00:00<?, ?it/s]"
      ]
     },
     "metadata": {},
     "output_type": "display_data"
    },
    {
     "data": {
      "application/vnd.jupyter.widget-view+json": {
       "model_id": "ac0caee0470c46409b154198e30ac56f",
       "version_major": 2,
       "version_minor": 0
      },
      "text/plain": [
       "timesteps:   0%|          | 0/11231 [00:00<?, ?it/s]"
      ]
     },
     "metadata": {},
     "output_type": "display_data"
    },
    {
     "data": {
      "application/vnd.jupyter.widget-view+json": {
       "model_id": "67d811e418a64cc4914e4bc9b443746c",
       "version_major": 2,
       "version_minor": 0
      },
      "text/plain": [
       "timesteps:   0%|          | 0/11231 [00:00<?, ?it/s]"
      ]
     },
     "metadata": {},
     "output_type": "display_data"
    },
    {
     "data": {
      "application/vnd.jupyter.widget-view+json": {
       "model_id": "82e1bf9e076341e59c15836de7fff08f",
       "version_major": 2,
       "version_minor": 0
      },
      "text/plain": [
       "timesteps:   0%|          | 0/11231 [00:00<?, ?it/s]"
      ]
     },
     "metadata": {},
     "output_type": "display_data"
    },
    {
     "data": {
      "application/vnd.jupyter.widget-view+json": {
       "model_id": "666f697f062949f6b38ff581d0810cbb",
       "version_major": 2,
       "version_minor": 0
      },
      "text/plain": [
       "timesteps:   0%|          | 0/11231 [00:00<?, ?it/s]"
      ]
     },
     "metadata": {},
     "output_type": "display_data"
    },
    {
     "data": {
      "application/vnd.jupyter.widget-view+json": {
       "model_id": "c904859773c94fdbbe8b2096dc43c5a6",
       "version_major": 2,
       "version_minor": 0
      },
      "text/plain": [
       "timesteps:   0%|          | 0/11231 [00:00<?, ?it/s]"
      ]
     },
     "metadata": {},
     "output_type": "display_data"
    },
    {
     "data": {
      "application/vnd.jupyter.widget-view+json": {
       "model_id": "9b4faadb24874d7eb6403b381c12f639",
       "version_major": 2,
       "version_minor": 0
      },
      "text/plain": [
       "timesteps:   0%|          | 0/11231 [00:00<?, ?it/s]"
      ]
     },
     "metadata": {},
     "output_type": "display_data"
    },
    {
     "name": "stdout",
     "output_type": "stream",
     "text": [
      "149 of 5000, minimal objective function=1.10426, time remaining: 00:21:36\n"
     ]
    },
    {
     "data": {
      "application/vnd.jupyter.widget-view+json": {
       "model_id": "5916d05b1ee44911a5a46fd087bc2f9c",
       "version_major": 2,
       "version_minor": 0
      },
      "text/plain": [
       "timesteps:   0%|          | 0/11231 [00:00<?, ?it/s]"
      ]
     },
     "metadata": {},
     "output_type": "display_data"
    },
    {
     "data": {
      "application/vnd.jupyter.widget-view+json": {
       "model_id": "4eef9ec05a9e4e849780e65a09feba6d",
       "version_major": 2,
       "version_minor": 0
      },
      "text/plain": [
       "timesteps:   0%|          | 0/11231 [00:00<?, ?it/s]"
      ]
     },
     "metadata": {},
     "output_type": "display_data"
    },
    {
     "data": {
      "application/vnd.jupyter.widget-view+json": {
       "model_id": "f53265e9d3cf4a07b7276d13375c7d58",
       "version_major": 2,
       "version_minor": 0
      },
      "text/plain": [
       "timesteps:   0%|          | 0/11231 [00:00<?, ?it/s]"
      ]
     },
     "metadata": {},
     "output_type": "display_data"
    },
    {
     "data": {
      "application/vnd.jupyter.widget-view+json": {
       "model_id": "bea4ee6de87a47c885ec17c3aafaad4b",
       "version_major": 2,
       "version_minor": 0
      },
      "text/plain": [
       "timesteps:   0%|          | 0/11231 [00:00<?, ?it/s]"
      ]
     },
     "metadata": {},
     "output_type": "display_data"
    },
    {
     "data": {
      "application/vnd.jupyter.widget-view+json": {
       "model_id": "13981e2bfd664636a482aea7e17abc41",
       "version_major": 2,
       "version_minor": 0
      },
      "text/plain": [
       "timesteps:   0%|          | 0/11231 [00:00<?, ?it/s]"
      ]
     },
     "metadata": {},
     "output_type": "display_data"
    },
    {
     "data": {
      "application/vnd.jupyter.widget-view+json": {
       "model_id": "4e8fb53bde904e7b93b49bf3dd6f5dc4",
       "version_major": 2,
       "version_minor": 0
      },
      "text/plain": [
       "timesteps:   0%|          | 0/11231 [00:00<?, ?it/s]"
      ]
     },
     "metadata": {},
     "output_type": "display_data"
    },
    {
     "data": {
      "application/vnd.jupyter.widget-view+json": {
       "model_id": "13f4c805484347eebc1b5ae7af564adc",
       "version_major": 2,
       "version_minor": 0
      },
      "text/plain": [
       "timesteps:   0%|          | 0/11231 [00:00<?, ?it/s]"
      ]
     },
     "metadata": {},
     "output_type": "display_data"
    },
    {
     "data": {
      "application/vnd.jupyter.widget-view+json": {
       "model_id": "18d9c8acf9954f93a7c29d8c3e497e87",
       "version_major": 2,
       "version_minor": 0
      },
      "text/plain": [
       "timesteps:   0%|          | 0/11231 [00:00<?, ?it/s]"
      ]
     },
     "metadata": {},
     "output_type": "display_data"
    },
    {
     "name": "stdout",
     "output_type": "stream",
     "text": [
      "162 of 5000, minimal objective function=1.10426, time remaining: 00:21:18\n"
     ]
    },
    {
     "data": {
      "application/vnd.jupyter.widget-view+json": {
       "model_id": "8be96257f87d4ac6a4bac8f4d95700c8",
       "version_major": 2,
       "version_minor": 0
      },
      "text/plain": [
       "timesteps:   0%|          | 0/11231 [00:00<?, ?it/s]"
      ]
     },
     "metadata": {},
     "output_type": "display_data"
    },
    {
     "data": {
      "application/vnd.jupyter.widget-view+json": {
       "model_id": "67ee712c38014be89399dbd00ec5d080",
       "version_major": 2,
       "version_minor": 0
      },
      "text/plain": [
       "timesteps:   0%|          | 0/11231 [00:00<?, ?it/s]"
      ]
     },
     "metadata": {},
     "output_type": "display_data"
    },
    {
     "data": {
      "application/vnd.jupyter.widget-view+json": {
       "model_id": "9ca66926b7cb418482452b9faa50ea1c",
       "version_major": 2,
       "version_minor": 0
      },
      "text/plain": [
       "timesteps:   0%|          | 0/11231 [00:00<?, ?it/s]"
      ]
     },
     "metadata": {},
     "output_type": "display_data"
    },
    {
     "data": {
      "application/vnd.jupyter.widget-view+json": {
       "model_id": "03ea5cd28bf646fc8b665686fa693dbb",
       "version_major": 2,
       "version_minor": 0
      },
      "text/plain": [
       "timesteps:   0%|          | 0/11231 [00:00<?, ?it/s]"
      ]
     },
     "metadata": {},
     "output_type": "display_data"
    },
    {
     "data": {
      "application/vnd.jupyter.widget-view+json": {
       "model_id": "659d54ec3c784336bceca316437580f0",
       "version_major": 2,
       "version_minor": 0
      },
      "text/plain": [
       "timesteps:   0%|          | 0/11231 [00:00<?, ?it/s]"
      ]
     },
     "metadata": {},
     "output_type": "display_data"
    },
    {
     "data": {
      "application/vnd.jupyter.widget-view+json": {
       "model_id": "13647d22e09f4536959865d24b7501b2",
       "version_major": 2,
       "version_minor": 0
      },
      "text/plain": [
       "timesteps:   0%|          | 0/11231 [00:00<?, ?it/s]"
      ]
     },
     "metadata": {},
     "output_type": "display_data"
    },
    {
     "data": {
      "application/vnd.jupyter.widget-view+json": {
       "model_id": "b6a48d8b939d420c83ceac115d493a8f",
       "version_major": 2,
       "version_minor": 0
      },
      "text/plain": [
       "timesteps:   0%|          | 0/11231 [00:00<?, ?it/s]"
      ]
     },
     "metadata": {},
     "output_type": "display_data"
    },
    {
     "data": {
      "application/vnd.jupyter.widget-view+json": {
       "model_id": "68827cdda9b24975bae295f916eb35f1",
       "version_major": 2,
       "version_minor": 0
      },
      "text/plain": [
       "timesteps:   0%|          | 0/11231 [00:00<?, ?it/s]"
      ]
     },
     "metadata": {},
     "output_type": "display_data"
    },
    {
     "name": "stdout",
     "output_type": "stream",
     "text": [
      "175 of 5000, minimal objective function=1.10426, time remaining: 00:21:03\n",
      "ComplexEvo loop #4 in progress...\n"
     ]
    },
    {
     "data": {
      "application/vnd.jupyter.widget-view+json": {
       "model_id": "1aaa101523a34d0d8b3477b5d548dc42",
       "version_major": 2,
       "version_minor": 0
      },
      "text/plain": [
       "timesteps:   0%|          | 0/11231 [00:00<?, ?it/s]"
      ]
     },
     "metadata": {},
     "output_type": "display_data"
    },
    {
     "data": {
      "application/vnd.jupyter.widget-view+json": {
       "model_id": "cae8168b443340b7ab2e85ac39ff4673",
       "version_major": 2,
       "version_minor": 0
      },
      "text/plain": [
       "timesteps:   0%|          | 0/11231 [00:00<?, ?it/s]"
      ]
     },
     "metadata": {},
     "output_type": "display_data"
    },
    {
     "data": {
      "application/vnd.jupyter.widget-view+json": {
       "model_id": "b69ce5f5e44d43e3bff3a7e84ef772d4",
       "version_major": 2,
       "version_minor": 0
      },
      "text/plain": [
       "timesteps:   0%|          | 0/11231 [00:00<?, ?it/s]"
      ]
     },
     "metadata": {},
     "output_type": "display_data"
    },
    {
     "data": {
      "application/vnd.jupyter.widget-view+json": {
       "model_id": "7b1e244e44ad4267ba2fa6b975c18d10",
       "version_major": 2,
       "version_minor": 0
      },
      "text/plain": [
       "timesteps:   0%|          | 0/11231 [00:00<?, ?it/s]"
      ]
     },
     "metadata": {},
     "output_type": "display_data"
    },
    {
     "data": {
      "application/vnd.jupyter.widget-view+json": {
       "model_id": "ceffa3d2f55e429d9b940e319b27b281",
       "version_major": 2,
       "version_minor": 0
      },
      "text/plain": [
       "timesteps:   0%|          | 0/11231 [00:00<?, ?it/s]"
      ]
     },
     "metadata": {},
     "output_type": "display_data"
    },
    {
     "data": {
      "application/vnd.jupyter.widget-view+json": {
       "model_id": "1800ab6fac444fbdaa66c2f69bcdf78b",
       "version_major": 2,
       "version_minor": 0
      },
      "text/plain": [
       "timesteps:   0%|          | 0/11231 [00:00<?, ?it/s]"
      ]
     },
     "metadata": {},
     "output_type": "display_data"
    },
    {
     "data": {
      "application/vnd.jupyter.widget-view+json": {
       "model_id": "751f7965d50c48bbb4a6d3fca2b2ee89",
       "version_major": 2,
       "version_minor": 0
      },
      "text/plain": [
       "timesteps:   0%|          | 0/11231 [00:00<?, ?it/s]"
      ]
     },
     "metadata": {},
     "output_type": "display_data"
    },
    {
     "data": {
      "application/vnd.jupyter.widget-view+json": {
       "model_id": "55753b5b47b24f13bd001437121081bf",
       "version_major": 2,
       "version_minor": 0
      },
      "text/plain": [
       "timesteps:   0%|          | 0/11231 [00:00<?, ?it/s]"
      ]
     },
     "metadata": {},
     "output_type": "display_data"
    },
    {
     "data": {
      "application/vnd.jupyter.widget-view+json": {
       "model_id": "1e820330e924467f9f9c35e236adafd8",
       "version_major": 2,
       "version_minor": 0
      },
      "text/plain": [
       "timesteps:   0%|          | 0/11231 [00:00<?, ?it/s]"
      ]
     },
     "metadata": {},
     "output_type": "display_data"
    },
    {
     "data": {
      "application/vnd.jupyter.widget-view+json": {
       "model_id": "d66f6713cefa45b285c180da997d68fa",
       "version_major": 2,
       "version_minor": 0
      },
      "text/plain": [
       "timesteps:   0%|          | 0/11231 [00:00<?, ?it/s]"
      ]
     },
     "metadata": {},
     "output_type": "display_data"
    },
    {
     "name": "stdout",
     "output_type": "stream",
     "text": [
      "190 of 5000, minimal objective function=1.10357, time remaining: 00:21:01\n"
     ]
    },
    {
     "data": {
      "application/vnd.jupyter.widget-view+json": {
       "model_id": "97484d5414344da89cc3d18e60d8583f",
       "version_major": 2,
       "version_minor": 0
      },
      "text/plain": [
       "timesteps:   0%|          | 0/11231 [00:00<?, ?it/s]"
      ]
     },
     "metadata": {},
     "output_type": "display_data"
    },
    {
     "data": {
      "application/vnd.jupyter.widget-view+json": {
       "model_id": "9a1a867348a744adbce9d69042754e2f",
       "version_major": 2,
       "version_minor": 0
      },
      "text/plain": [
       "timesteps:   0%|          | 0/11231 [00:00<?, ?it/s]"
      ]
     },
     "metadata": {},
     "output_type": "display_data"
    },
    {
     "data": {
      "application/vnd.jupyter.widget-view+json": {
       "model_id": "9cad2921dfc84de2b71d2e3ff764d471",
       "version_major": 2,
       "version_minor": 0
      },
      "text/plain": [
       "timesteps:   0%|          | 0/11231 [00:00<?, ?it/s]"
      ]
     },
     "metadata": {},
     "output_type": "display_data"
    },
    {
     "data": {
      "application/vnd.jupyter.widget-view+json": {
       "model_id": "6e771e1616df472e9117b796bd4f1244",
       "version_major": 2,
       "version_minor": 0
      },
      "text/plain": [
       "timesteps:   0%|          | 0/11231 [00:00<?, ?it/s]"
      ]
     },
     "metadata": {},
     "output_type": "display_data"
    },
    {
     "data": {
      "application/vnd.jupyter.widget-view+json": {
       "model_id": "3804e45a4abf4e50a3ac7c6a6b4bfa87",
       "version_major": 2,
       "version_minor": 0
      },
      "text/plain": [
       "timesteps:   0%|          | 0/11231 [00:00<?, ?it/s]"
      ]
     },
     "metadata": {},
     "output_type": "display_data"
    },
    {
     "data": {
      "application/vnd.jupyter.widget-view+json": {
       "model_id": "ad8c78cd7323461787396c9043bbda79",
       "version_major": 2,
       "version_minor": 0
      },
      "text/plain": [
       "timesteps:   0%|          | 0/11231 [00:00<?, ?it/s]"
      ]
     },
     "metadata": {},
     "output_type": "display_data"
    },
    {
     "data": {
      "application/vnd.jupyter.widget-view+json": {
       "model_id": "ca5d479c333b4e2e88b66ffde59f8af6",
       "version_major": 2,
       "version_minor": 0
      },
      "text/plain": [
       "timesteps:   0%|          | 0/11231 [00:00<?, ?it/s]"
      ]
     },
     "metadata": {},
     "output_type": "display_data"
    },
    {
     "data": {
      "application/vnd.jupyter.widget-view+json": {
       "model_id": "bfbcd3c6f4a042748169acae9f1cebd6",
       "version_major": 2,
       "version_minor": 0
      },
      "text/plain": [
       "timesteps:   0%|          | 0/11231 [00:00<?, ?it/s]"
      ]
     },
     "metadata": {},
     "output_type": "display_data"
    },
    {
     "data": {
      "application/vnd.jupyter.widget-view+json": {
       "model_id": "4259ed6704244f4b95f452dcc951843e",
       "version_major": 2,
       "version_minor": 0
      },
      "text/plain": [
       "timesteps:   0%|          | 0/11231 [00:00<?, ?it/s]"
      ]
     },
     "metadata": {},
     "output_type": "display_data"
    },
    {
     "data": {
      "application/vnd.jupyter.widget-view+json": {
       "model_id": "8e281a80b17640ad95c94e5846dc7060",
       "version_major": 2,
       "version_minor": 0
      },
      "text/plain": [
       "timesteps:   0%|          | 0/11231 [00:00<?, ?it/s]"
      ]
     },
     "metadata": {},
     "output_type": "display_data"
    },
    {
     "data": {
      "application/vnd.jupyter.widget-view+json": {
       "model_id": "a4f567c5ab804bccb4cab98f858fb2e4",
       "version_major": 2,
       "version_minor": 0
      },
      "text/plain": [
       "timesteps:   0%|          | 0/11231 [00:00<?, ?it/s]"
      ]
     },
     "metadata": {},
     "output_type": "display_data"
    },
    {
     "name": "stdout",
     "output_type": "stream",
     "text": [
      "206 of 5000, minimal objective function=1.10357, time remaining: 00:21:01\n"
     ]
    },
    {
     "data": {
      "application/vnd.jupyter.widget-view+json": {
       "model_id": "ed01e1cd68994579806e2d64f655d561",
       "version_major": 2,
       "version_minor": 0
      },
      "text/plain": [
       "timesteps:   0%|          | 0/11231 [00:00<?, ?it/s]"
      ]
     },
     "metadata": {},
     "output_type": "display_data"
    },
    {
     "data": {
      "application/vnd.jupyter.widget-view+json": {
       "model_id": "3f36db218e2349eca490eafb52db5e90",
       "version_major": 2,
       "version_minor": 0
      },
      "text/plain": [
       "timesteps:   0%|          | 0/11231 [00:00<?, ?it/s]"
      ]
     },
     "metadata": {},
     "output_type": "display_data"
    },
    {
     "data": {
      "application/vnd.jupyter.widget-view+json": {
       "model_id": "092a18892b9b4b89a763d347932fd468",
       "version_major": 2,
       "version_minor": 0
      },
      "text/plain": [
       "timesteps:   0%|          | 0/11231 [00:00<?, ?it/s]"
      ]
     },
     "metadata": {},
     "output_type": "display_data"
    },
    {
     "data": {
      "application/vnd.jupyter.widget-view+json": {
       "model_id": "0345635cd0ae48d7855a3bb93c5e031b",
       "version_major": 2,
       "version_minor": 0
      },
      "text/plain": [
       "timesteps:   0%|          | 0/11231 [00:00<?, ?it/s]"
      ]
     },
     "metadata": {},
     "output_type": "display_data"
    },
    {
     "data": {
      "application/vnd.jupyter.widget-view+json": {
       "model_id": "a8551756d779476191c7318c8537deac",
       "version_major": 2,
       "version_minor": 0
      },
      "text/plain": [
       "timesteps:   0%|          | 0/11231 [00:00<?, ?it/s]"
      ]
     },
     "metadata": {},
     "output_type": "display_data"
    },
    {
     "data": {
      "application/vnd.jupyter.widget-view+json": {
       "model_id": "4ddcada04e464675b47cdd49e458fde5",
       "version_major": 2,
       "version_minor": 0
      },
      "text/plain": [
       "timesteps:   0%|          | 0/11231 [00:00<?, ?it/s]"
      ]
     },
     "metadata": {},
     "output_type": "display_data"
    },
    {
     "data": {
      "application/vnd.jupyter.widget-view+json": {
       "model_id": "3694d5fc5c6d4ff2aa81a90a234c4d80",
       "version_major": 2,
       "version_minor": 0
      },
      "text/plain": [
       "timesteps:   0%|          | 0/11231 [00:00<?, ?it/s]"
      ]
     },
     "metadata": {},
     "output_type": "display_data"
    },
    {
     "name": "stdout",
     "output_type": "stream",
     "text": [
      "218 of 5000, minimal objective function=1.10327, time remaining: 00:20:52\n"
     ]
    },
    {
     "data": {
      "application/vnd.jupyter.widget-view+json": {
       "model_id": "e1a3b578292b428298cdc75a809c2b49",
       "version_major": 2,
       "version_minor": 0
      },
      "text/plain": [
       "timesteps:   0%|          | 0/11231 [00:00<?, ?it/s]"
      ]
     },
     "metadata": {},
     "output_type": "display_data"
    },
    {
     "data": {
      "application/vnd.jupyter.widget-view+json": {
       "model_id": "1a9a2755a2cb4d78a8cc7012650d8bd2",
       "version_major": 2,
       "version_minor": 0
      },
      "text/plain": [
       "timesteps:   0%|          | 0/11231 [00:00<?, ?it/s]"
      ]
     },
     "metadata": {},
     "output_type": "display_data"
    },
    {
     "data": {
      "application/vnd.jupyter.widget-view+json": {
       "model_id": "f361afeba7654ac4812a26a9509ea7b8",
       "version_major": 2,
       "version_minor": 0
      },
      "text/plain": [
       "timesteps:   0%|          | 0/11231 [00:00<?, ?it/s]"
      ]
     },
     "metadata": {},
     "output_type": "display_data"
    },
    {
     "data": {
      "application/vnd.jupyter.widget-view+json": {
       "model_id": "633e77b971234e7ba1ff87397114d4e2",
       "version_major": 2,
       "version_minor": 0
      },
      "text/plain": [
       "timesteps:   0%|          | 0/11231 [00:00<?, ?it/s]"
      ]
     },
     "metadata": {},
     "output_type": "display_data"
    },
    {
     "data": {
      "application/vnd.jupyter.widget-view+json": {
       "model_id": "293727babeea49b397ceb1a47979fafc",
       "version_major": 2,
       "version_minor": 0
      },
      "text/plain": [
       "timesteps:   0%|          | 0/11231 [00:00<?, ?it/s]"
      ]
     },
     "metadata": {},
     "output_type": "display_data"
    },
    {
     "data": {
      "application/vnd.jupyter.widget-view+json": {
       "model_id": "55399cc2ba72445a9a2344f914a0742a",
       "version_major": 2,
       "version_minor": 0
      },
      "text/plain": [
       "timesteps:   0%|          | 0/11231 [00:00<?, ?it/s]"
      ]
     },
     "metadata": {},
     "output_type": "display_data"
    },
    {
     "data": {
      "application/vnd.jupyter.widget-view+json": {
       "model_id": "839f44e259ce4ccd85086e6cd9d77f15",
       "version_major": 2,
       "version_minor": 0
      },
      "text/plain": [
       "timesteps:   0%|          | 0/11231 [00:00<?, ?it/s]"
      ]
     },
     "metadata": {},
     "output_type": "display_data"
    },
    {
     "name": "stdout",
     "output_type": "stream",
     "text": [
      "230 of 5000, minimal objective function=1.10327, time remaining: 00:20:43\n",
      "ComplexEvo loop #5 in progress...\n"
     ]
    },
    {
     "data": {
      "application/vnd.jupyter.widget-view+json": {
       "model_id": "0f05daa7c34e4306bafe5aa1e339ff3e",
       "version_major": 2,
       "version_minor": 0
      },
      "text/plain": [
       "timesteps:   0%|          | 0/11231 [00:00<?, ?it/s]"
      ]
     },
     "metadata": {},
     "output_type": "display_data"
    },
    {
     "data": {
      "application/vnd.jupyter.widget-view+json": {
       "model_id": "a11010d5ec3c499492b6dde75e8d8c5a",
       "version_major": 2,
       "version_minor": 0
      },
      "text/plain": [
       "timesteps:   0%|          | 0/11231 [00:00<?, ?it/s]"
      ]
     },
     "metadata": {},
     "output_type": "display_data"
    },
    {
     "data": {
      "application/vnd.jupyter.widget-view+json": {
       "model_id": "428e5b232fbd4356ba71327f9fc41914",
       "version_major": 2,
       "version_minor": 0
      },
      "text/plain": [
       "timesteps:   0%|          | 0/11231 [00:00<?, ?it/s]"
      ]
     },
     "metadata": {},
     "output_type": "display_data"
    },
    {
     "data": {
      "application/vnd.jupyter.widget-view+json": {
       "model_id": "082c0735133c4821a8ea9ee515395e51",
       "version_major": 2,
       "version_minor": 0
      },
      "text/plain": [
       "timesteps:   0%|          | 0/11231 [00:00<?, ?it/s]"
      ]
     },
     "metadata": {},
     "output_type": "display_data"
    },
    {
     "data": {
      "application/vnd.jupyter.widget-view+json": {
       "model_id": "7c150cf6a2cb4cc188156bdfa6988ae8",
       "version_major": 2,
       "version_minor": 0
      },
      "text/plain": [
       "timesteps:   0%|          | 0/11231 [00:00<?, ?it/s]"
      ]
     },
     "metadata": {},
     "output_type": "display_data"
    },
    {
     "data": {
      "application/vnd.jupyter.widget-view+json": {
       "model_id": "54700ad5b8974f07aacefa309e96e300",
       "version_major": 2,
       "version_minor": 0
      },
      "text/plain": [
       "timesteps:   0%|          | 0/11231 [00:00<?, ?it/s]"
      ]
     },
     "metadata": {},
     "output_type": "display_data"
    },
    {
     "data": {
      "application/vnd.jupyter.widget-view+json": {
       "model_id": "1403db5e92f74527b3e81a42dee94007",
       "version_major": 2,
       "version_minor": 0
      },
      "text/plain": [
       "timesteps:   0%|          | 0/11231 [00:00<?, ?it/s]"
      ]
     },
     "metadata": {},
     "output_type": "display_data"
    },
    {
     "data": {
      "application/vnd.jupyter.widget-view+json": {
       "model_id": "fe77b844762840489172fdf29fdac1c3",
       "version_major": 2,
       "version_minor": 0
      },
      "text/plain": [
       "timesteps:   0%|          | 0/11231 [00:00<?, ?it/s]"
      ]
     },
     "metadata": {},
     "output_type": "display_data"
    },
    {
     "data": {
      "application/vnd.jupyter.widget-view+json": {
       "model_id": "bceea5b73c12426d8d91b511f833c747",
       "version_major": 2,
       "version_minor": 0
      },
      "text/plain": [
       "timesteps:   0%|          | 0/11231 [00:00<?, ?it/s]"
      ]
     },
     "metadata": {},
     "output_type": "display_data"
    },
    {
     "data": {
      "application/vnd.jupyter.widget-view+json": {
       "model_id": "7db6ebf1b6a446d7bd31095ad3cf70e2",
       "version_major": 2,
       "version_minor": 0
      },
      "text/plain": [
       "timesteps:   0%|          | 0/11231 [00:00<?, ?it/s]"
      ]
     },
     "metadata": {},
     "output_type": "display_data"
    },
    {
     "name": "stdout",
     "output_type": "stream",
     "text": [
      "245 of 5000, minimal objective function=1.10327, time remaining: 00:20:38\n"
     ]
    },
    {
     "data": {
      "application/vnd.jupyter.widget-view+json": {
       "model_id": "dae0f014d4fe43d9b086192a34f6dba4",
       "version_major": 2,
       "version_minor": 0
      },
      "text/plain": [
       "timesteps:   0%|          | 0/11231 [00:00<?, ?it/s]"
      ]
     },
     "metadata": {},
     "output_type": "display_data"
    },
    {
     "data": {
      "application/vnd.jupyter.widget-view+json": {
       "model_id": "c17cff4adddc4bf2a00bb3b3424b8bfd",
       "version_major": 2,
       "version_minor": 0
      },
      "text/plain": [
       "timesteps:   0%|          | 0/11231 [00:00<?, ?it/s]"
      ]
     },
     "metadata": {},
     "output_type": "display_data"
    },
    {
     "data": {
      "application/vnd.jupyter.widget-view+json": {
       "model_id": "ccc12c4281654a88a75c9224376151e8",
       "version_major": 2,
       "version_minor": 0
      },
      "text/plain": [
       "timesteps:   0%|          | 0/11231 [00:00<?, ?it/s]"
      ]
     },
     "metadata": {},
     "output_type": "display_data"
    },
    {
     "data": {
      "application/vnd.jupyter.widget-view+json": {
       "model_id": "3d76785adbdd437ab7d31dc68588be2d",
       "version_major": 2,
       "version_minor": 0
      },
      "text/plain": [
       "timesteps:   0%|          | 0/11231 [00:00<?, ?it/s]"
      ]
     },
     "metadata": {},
     "output_type": "display_data"
    },
    {
     "data": {
      "application/vnd.jupyter.widget-view+json": {
       "model_id": "55e6226eb49d4ae18640c606714b2d7b",
       "version_major": 2,
       "version_minor": 0
      },
      "text/plain": [
       "timesteps:   0%|          | 0/11231 [00:00<?, ?it/s]"
      ]
     },
     "metadata": {},
     "output_type": "display_data"
    },
    {
     "data": {
      "application/vnd.jupyter.widget-view+json": {
       "model_id": "46b9e5f7b94740dfa3f17436797ed70a",
       "version_major": 2,
       "version_minor": 0
      },
      "text/plain": [
       "timesteps:   0%|          | 0/11231 [00:00<?, ?it/s]"
      ]
     },
     "metadata": {},
     "output_type": "display_data"
    },
    {
     "data": {
      "application/vnd.jupyter.widget-view+json": {
       "model_id": "ceaf9c1d31684dfdbc37002f5daebbd7",
       "version_major": 2,
       "version_minor": 0
      },
      "text/plain": [
       "timesteps:   0%|          | 0/11231 [00:00<?, ?it/s]"
      ]
     },
     "metadata": {},
     "output_type": "display_data"
    },
    {
     "data": {
      "application/vnd.jupyter.widget-view+json": {
       "model_id": "5899063c27384e98a3a44b76a6c462b3",
       "version_major": 2,
       "version_minor": 0
      },
      "text/plain": [
       "timesteps:   0%|          | 0/11231 [00:00<?, ?it/s]"
      ]
     },
     "metadata": {},
     "output_type": "display_data"
    },
    {
     "data": {
      "application/vnd.jupyter.widget-view+json": {
       "model_id": "b2afddbb5b814d8784fae2ed52d2f0c3",
       "version_major": 2,
       "version_minor": 0
      },
      "text/plain": [
       "timesteps:   0%|          | 0/11231 [00:00<?, ?it/s]"
      ]
     },
     "metadata": {},
     "output_type": "display_data"
    },
    {
     "name": "stdout",
     "output_type": "stream",
     "text": [
      "259 of 5000, minimal objective function=1.10327, time remaining: 00:20:31\n"
     ]
    },
    {
     "data": {
      "application/vnd.jupyter.widget-view+json": {
       "model_id": "da8ba04262384dd6b65e8135d3930e93",
       "version_major": 2,
       "version_minor": 0
      },
      "text/plain": [
       "timesteps:   0%|          | 0/11231 [00:00<?, ?it/s]"
      ]
     },
     "metadata": {},
     "output_type": "display_data"
    },
    {
     "data": {
      "application/vnd.jupyter.widget-view+json": {
       "model_id": "a9aa1c8461954f6da959b7c86146199f",
       "version_major": 2,
       "version_minor": 0
      },
      "text/plain": [
       "timesteps:   0%|          | 0/11231 [00:00<?, ?it/s]"
      ]
     },
     "metadata": {},
     "output_type": "display_data"
    },
    {
     "data": {
      "application/vnd.jupyter.widget-view+json": {
       "model_id": "227c758913b4407eb394fbc7d635b9f5",
       "version_major": 2,
       "version_minor": 0
      },
      "text/plain": [
       "timesteps:   0%|          | 0/11231 [00:00<?, ?it/s]"
      ]
     },
     "metadata": {},
     "output_type": "display_data"
    },
    {
     "data": {
      "application/vnd.jupyter.widget-view+json": {
       "model_id": "4af600a99f854ceeb5546d2fb826c3d3",
       "version_major": 2,
       "version_minor": 0
      },
      "text/plain": [
       "timesteps:   0%|          | 0/11231 [00:00<?, ?it/s]"
      ]
     },
     "metadata": {},
     "output_type": "display_data"
    },
    {
     "data": {
      "application/vnd.jupyter.widget-view+json": {
       "model_id": "bb9a4810b99a441489dbd09053f94743",
       "version_major": 2,
       "version_minor": 0
      },
      "text/plain": [
       "timesteps:   0%|          | 0/11231 [00:00<?, ?it/s]"
      ]
     },
     "metadata": {},
     "output_type": "display_data"
    },
    {
     "data": {
      "application/vnd.jupyter.widget-view+json": {
       "model_id": "007c21c49c804812a4c5816de13709d0",
       "version_major": 2,
       "version_minor": 0
      },
      "text/plain": [
       "timesteps:   0%|          | 0/11231 [00:00<?, ?it/s]"
      ]
     },
     "metadata": {},
     "output_type": "display_data"
    },
    {
     "data": {
      "application/vnd.jupyter.widget-view+json": {
       "model_id": "a9f8eab2816f46e1a19148ecc4f78e30",
       "version_major": 2,
       "version_minor": 0
      },
      "text/plain": [
       "timesteps:   0%|          | 0/11231 [00:00<?, ?it/s]"
      ]
     },
     "metadata": {},
     "output_type": "display_data"
    },
    {
     "data": {
      "application/vnd.jupyter.widget-view+json": {
       "model_id": "f73f02d373e5486ab640ee7a3e301d68",
       "version_major": 2,
       "version_minor": 0
      },
      "text/plain": [
       "timesteps:   0%|          | 0/11231 [00:00<?, ?it/s]"
      ]
     },
     "metadata": {},
     "output_type": "display_data"
    },
    {
     "data": {
      "application/vnd.jupyter.widget-view+json": {
       "model_id": "0f2298d7f12c4fcf8d75c812e34b2ebe",
       "version_major": 2,
       "version_minor": 0
      },
      "text/plain": [
       "timesteps:   0%|          | 0/11231 [00:00<?, ?it/s]"
      ]
     },
     "metadata": {},
     "output_type": "display_data"
    },
    {
     "name": "stdout",
     "output_type": "stream",
     "text": [
      "273 of 5000, minimal objective function=1.10327, time remaining: 00:20:27\n"
     ]
    },
    {
     "data": {
      "application/vnd.jupyter.widget-view+json": {
       "model_id": "d218c50fb80041c284d1db34b13d3bf2",
       "version_major": 2,
       "version_minor": 0
      },
      "text/plain": [
       "timesteps:   0%|          | 0/11231 [00:00<?, ?it/s]"
      ]
     },
     "metadata": {},
     "output_type": "display_data"
    },
    {
     "data": {
      "application/vnd.jupyter.widget-view+json": {
       "model_id": "06c428d166d0478c907b6aeff9f21489",
       "version_major": 2,
       "version_minor": 0
      },
      "text/plain": [
       "timesteps:   0%|          | 0/11231 [00:00<?, ?it/s]"
      ]
     },
     "metadata": {},
     "output_type": "display_data"
    },
    {
     "data": {
      "application/vnd.jupyter.widget-view+json": {
       "model_id": "4958546e34924e93b3bf7db099f94c1d",
       "version_major": 2,
       "version_minor": 0
      },
      "text/plain": [
       "timesteps:   0%|          | 0/11231 [00:00<?, ?it/s]"
      ]
     },
     "metadata": {},
     "output_type": "display_data"
    },
    {
     "data": {
      "application/vnd.jupyter.widget-view+json": {
       "model_id": "509f4454c15e4f47ad211feece1d9594",
       "version_major": 2,
       "version_minor": 0
      },
      "text/plain": [
       "timesteps:   0%|          | 0/11231 [00:00<?, ?it/s]"
      ]
     },
     "metadata": {},
     "output_type": "display_data"
    },
    {
     "data": {
      "application/vnd.jupyter.widget-view+json": {
       "model_id": "b99efed382c44457b3fb948a3393f1fa",
       "version_major": 2,
       "version_minor": 0
      },
      "text/plain": [
       "timesteps:   0%|          | 0/11231 [00:00<?, ?it/s]"
      ]
     },
     "metadata": {},
     "output_type": "display_data"
    },
    {
     "data": {
      "application/vnd.jupyter.widget-view+json": {
       "model_id": "babcf60735774c0b81a0600de6fdb620",
       "version_major": 2,
       "version_minor": 0
      },
      "text/plain": [
       "timesteps:   0%|          | 0/11231 [00:00<?, ?it/s]"
      ]
     },
     "metadata": {},
     "output_type": "display_data"
    },
    {
     "data": {
      "application/vnd.jupyter.widget-view+json": {
       "model_id": "37fa4aeb9cf5435fb5cf205c065dd078",
       "version_major": 2,
       "version_minor": 0
      },
      "text/plain": [
       "timesteps:   0%|          | 0/11231 [00:00<?, ?it/s]"
      ]
     },
     "metadata": {},
     "output_type": "display_data"
    },
    {
     "data": {
      "application/vnd.jupyter.widget-view+json": {
       "model_id": "e8ba91ea49a54fa5bfc71cfafb5300bf",
       "version_major": 2,
       "version_minor": 0
      },
      "text/plain": [
       "timesteps:   0%|          | 0/11231 [00:00<?, ?it/s]"
      ]
     },
     "metadata": {},
     "output_type": "display_data"
    },
    {
     "data": {
      "application/vnd.jupyter.widget-view+json": {
       "model_id": "cb8caf9010694a39b7800d32aa35f93b",
       "version_major": 2,
       "version_minor": 0
      },
      "text/plain": [
       "timesteps:   0%|          | 0/11231 [00:00<?, ?it/s]"
      ]
     },
     "metadata": {},
     "output_type": "display_data"
    },
    {
     "data": {
      "application/vnd.jupyter.widget-view+json": {
       "model_id": "c39fd0bef9964b8d9c2822d268645cf1",
       "version_major": 2,
       "version_minor": 0
      },
      "text/plain": [
       "timesteps:   0%|          | 0/11231 [00:00<?, ?it/s]"
      ]
     },
     "metadata": {},
     "output_type": "display_data"
    },
    {
     "name": "stdout",
     "output_type": "stream",
     "text": [
      "288 of 5000, minimal objective function=1.10327, time remaining: 00:20:22\n",
      "Objective function convergence criteria is now being updated and assessed...\n",
      "Updated convergence criteria: 0.168149\n",
      "ComplexEvo loop #6 in progress...\n"
     ]
    },
    {
     "data": {
      "application/vnd.jupyter.widget-view+json": {
       "model_id": "88d07c120f7e4a9ca0383e2daea15f03",
       "version_major": 2,
       "version_minor": 0
      },
      "text/plain": [
       "timesteps:   0%|          | 0/11231 [00:00<?, ?it/s]"
      ]
     },
     "metadata": {},
     "output_type": "display_data"
    },
    {
     "data": {
      "application/vnd.jupyter.widget-view+json": {
       "model_id": "fc56bc06f8784b73b6738e2d5b5651c2",
       "version_major": 2,
       "version_minor": 0
      },
      "text/plain": [
       "timesteps:   0%|          | 0/11231 [00:00<?, ?it/s]"
      ]
     },
     "metadata": {},
     "output_type": "display_data"
    },
    {
     "data": {
      "application/vnd.jupyter.widget-view+json": {
       "model_id": "c740d736b4fd4810adaa3ffe9ec889de",
       "version_major": 2,
       "version_minor": 0
      },
      "text/plain": [
       "timesteps:   0%|          | 0/11231 [00:00<?, ?it/s]"
      ]
     },
     "metadata": {},
     "output_type": "display_data"
    },
    {
     "data": {
      "application/vnd.jupyter.widget-view+json": {
       "model_id": "5cdb99daf2634894a00742c0219c3d96",
       "version_major": 2,
       "version_minor": 0
      },
      "text/plain": [
       "timesteps:   0%|          | 0/11231 [00:00<?, ?it/s]"
      ]
     },
     "metadata": {},
     "output_type": "display_data"
    },
    {
     "data": {
      "application/vnd.jupyter.widget-view+json": {
       "model_id": "d6b910b98f844e6bbf7cfc9afb0ae020",
       "version_major": 2,
       "version_minor": 0
      },
      "text/plain": [
       "timesteps:   0%|          | 0/11231 [00:00<?, ?it/s]"
      ]
     },
     "metadata": {},
     "output_type": "display_data"
    },
    {
     "data": {
      "application/vnd.jupyter.widget-view+json": {
       "model_id": "be5ec8a6215740089847e36a0bcb9a92",
       "version_major": 2,
       "version_minor": 0
      },
      "text/plain": [
       "timesteps:   0%|          | 0/11231 [00:00<?, ?it/s]"
      ]
     },
     "metadata": {},
     "output_type": "display_data"
    },
    {
     "data": {
      "application/vnd.jupyter.widget-view+json": {
       "model_id": "21b21fbf04c240a3933061575593ba14",
       "version_major": 2,
       "version_minor": 0
      },
      "text/plain": [
       "timesteps:   0%|          | 0/11231 [00:00<?, ?it/s]"
      ]
     },
     "metadata": {},
     "output_type": "display_data"
    },
    {
     "name": "stdout",
     "output_type": "stream",
     "text": [
      "300 of 5000, minimal objective function=1.10327, time remaining: 00:20:11\n"
     ]
    },
    {
     "data": {
      "application/vnd.jupyter.widget-view+json": {
       "model_id": "33195e52fa4a4304a51adf88410bb1ef",
       "version_major": 2,
       "version_minor": 0
      },
      "text/plain": [
       "timesteps:   0%|          | 0/11231 [00:00<?, ?it/s]"
      ]
     },
     "metadata": {},
     "output_type": "display_data"
    },
    {
     "data": {
      "application/vnd.jupyter.widget-view+json": {
       "model_id": "065f68d376fb4c1fbea5e9a7ab8eb660",
       "version_major": 2,
       "version_minor": 0
      },
      "text/plain": [
       "timesteps:   0%|          | 0/11231 [00:00<?, ?it/s]"
      ]
     },
     "metadata": {},
     "output_type": "display_data"
    },
    {
     "data": {
      "application/vnd.jupyter.widget-view+json": {
       "model_id": "273d482c67c94591adb47734b50cdb2b",
       "version_major": 2,
       "version_minor": 0
      },
      "text/plain": [
       "timesteps:   0%|          | 0/11231 [00:00<?, ?it/s]"
      ]
     },
     "metadata": {},
     "output_type": "display_data"
    },
    {
     "data": {
      "application/vnd.jupyter.widget-view+json": {
       "model_id": "7d5757ddf5794e399c5ead150d6e188f",
       "version_major": 2,
       "version_minor": 0
      },
      "text/plain": [
       "timesteps:   0%|          | 0/11231 [00:00<?, ?it/s]"
      ]
     },
     "metadata": {},
     "output_type": "display_data"
    },
    {
     "data": {
      "application/vnd.jupyter.widget-view+json": {
       "model_id": "054f9d04cbfb45588e8e3a84888bfc73",
       "version_major": 2,
       "version_minor": 0
      },
      "text/plain": [
       "timesteps:   0%|          | 0/11231 [00:00<?, ?it/s]"
      ]
     },
     "metadata": {},
     "output_type": "display_data"
    },
    {
     "data": {
      "application/vnd.jupyter.widget-view+json": {
       "model_id": "291c057d4fcc4489a4c4683d6b16e3fa",
       "version_major": 2,
       "version_minor": 0
      },
      "text/plain": [
       "timesteps:   0%|          | 0/11231 [00:00<?, ?it/s]"
      ]
     },
     "metadata": {},
     "output_type": "display_data"
    },
    {
     "data": {
      "application/vnd.jupyter.widget-view+json": {
       "model_id": "4b38132fd1044d568d195558261fdfc9",
       "version_major": 2,
       "version_minor": 0
      },
      "text/plain": [
       "timesteps:   0%|          | 0/11231 [00:00<?, ?it/s]"
      ]
     },
     "metadata": {},
     "output_type": "display_data"
    },
    {
     "data": {
      "application/vnd.jupyter.widget-view+json": {
       "model_id": "6ffe56b0a10c4d9888d9bde2a8f5693f",
       "version_major": 2,
       "version_minor": 0
      },
      "text/plain": [
       "timesteps:   0%|          | 0/11231 [00:00<?, ?it/s]"
      ]
     },
     "metadata": {},
     "output_type": "display_data"
    },
    {
     "data": {
      "application/vnd.jupyter.widget-view+json": {
       "model_id": "02545716047e44cc81448a897f89b3d4",
       "version_major": 2,
       "version_minor": 0
      },
      "text/plain": [
       "timesteps:   0%|          | 0/11231 [00:00<?, ?it/s]"
      ]
     },
     "metadata": {},
     "output_type": "display_data"
    },
    {
     "data": {
      "application/vnd.jupyter.widget-view+json": {
       "model_id": "2fdf11a040fb4281b74310c1264d80e0",
       "version_major": 2,
       "version_minor": 0
      },
      "text/plain": [
       "timesteps:   0%|          | 0/11231 [00:00<?, ?it/s]"
      ]
     },
     "metadata": {},
     "output_type": "display_data"
    },
    {
     "name": "stdout",
     "output_type": "stream",
     "text": [
      "315 of 5000, minimal objective function=1.10327, time remaining: 00:20:07\n"
     ]
    },
    {
     "data": {
      "application/vnd.jupyter.widget-view+json": {
       "model_id": "da561be804c94c97bcf877ad04f13be1",
       "version_major": 2,
       "version_minor": 0
      },
      "text/plain": [
       "timesteps:   0%|          | 0/11231 [00:00<?, ?it/s]"
      ]
     },
     "metadata": {},
     "output_type": "display_data"
    },
    {
     "data": {
      "application/vnd.jupyter.widget-view+json": {
       "model_id": "04ca3cf3bba2404f835c8076a5866160",
       "version_major": 2,
       "version_minor": 0
      },
      "text/plain": [
       "timesteps:   0%|          | 0/11231 [00:00<?, ?it/s]"
      ]
     },
     "metadata": {},
     "output_type": "display_data"
    },
    {
     "data": {
      "application/vnd.jupyter.widget-view+json": {
       "model_id": "2c5a8b7ace234170b2ea2b440531d545",
       "version_major": 2,
       "version_minor": 0
      },
      "text/plain": [
       "timesteps:   0%|          | 0/11231 [00:00<?, ?it/s]"
      ]
     },
     "metadata": {},
     "output_type": "display_data"
    },
    {
     "data": {
      "application/vnd.jupyter.widget-view+json": {
       "model_id": "5ae386501379469eb74633234937ba16",
       "version_major": 2,
       "version_minor": 0
      },
      "text/plain": [
       "timesteps:   0%|          | 0/11231 [00:00<?, ?it/s]"
      ]
     },
     "metadata": {},
     "output_type": "display_data"
    },
    {
     "data": {
      "application/vnd.jupyter.widget-view+json": {
       "model_id": "728f59e0517f4179aa22155cfe410c52",
       "version_major": 2,
       "version_minor": 0
      },
      "text/plain": [
       "timesteps:   0%|          | 0/11231 [00:00<?, ?it/s]"
      ]
     },
     "metadata": {},
     "output_type": "display_data"
    },
    {
     "data": {
      "application/vnd.jupyter.widget-view+json": {
       "model_id": "6f572c80bcb140469d893e3c15df33d7",
       "version_major": 2,
       "version_minor": 0
      },
      "text/plain": [
       "timesteps:   0%|          | 0/11231 [00:00<?, ?it/s]"
      ]
     },
     "metadata": {},
     "output_type": "display_data"
    },
    {
     "data": {
      "application/vnd.jupyter.widget-view+json": {
       "model_id": "7e42c0a9cb2948f4b437bba527440aa2",
       "version_major": 2,
       "version_minor": 0
      },
      "text/plain": [
       "timesteps:   0%|          | 0/11231 [00:00<?, ?it/s]"
      ]
     },
     "metadata": {},
     "output_type": "display_data"
    },
    {
     "data": {
      "application/vnd.jupyter.widget-view+json": {
       "model_id": "0ac8c12db0084819af19ba41e64c8324",
       "version_major": 2,
       "version_minor": 0
      },
      "text/plain": [
       "timesteps:   0%|          | 0/11231 [00:00<?, ?it/s]"
      ]
     },
     "metadata": {},
     "output_type": "display_data"
    },
    {
     "name": "stdout",
     "output_type": "stream",
     "text": [
      "328 of 5000, minimal objective function=1.10327, time remaining: 00:20:03\n"
     ]
    },
    {
     "data": {
      "application/vnd.jupyter.widget-view+json": {
       "model_id": "2288cdc487e548b0b4820476a9ae7354",
       "version_major": 2,
       "version_minor": 0
      },
      "text/plain": [
       "timesteps:   0%|          | 0/11231 [00:00<?, ?it/s]"
      ]
     },
     "metadata": {},
     "output_type": "display_data"
    },
    {
     "data": {
      "application/vnd.jupyter.widget-view+json": {
       "model_id": "dbb2be5e52304f67b43983c3988df20f",
       "version_major": 2,
       "version_minor": 0
      },
      "text/plain": [
       "timesteps:   0%|          | 0/11231 [00:00<?, ?it/s]"
      ]
     },
     "metadata": {},
     "output_type": "display_data"
    },
    {
     "data": {
      "application/vnd.jupyter.widget-view+json": {
       "model_id": "ae335f9e8dc246ac88c7e0c0829b1686",
       "version_major": 2,
       "version_minor": 0
      },
      "text/plain": [
       "timesteps:   0%|          | 0/11231 [00:00<?, ?it/s]"
      ]
     },
     "metadata": {},
     "output_type": "display_data"
    },
    {
     "data": {
      "application/vnd.jupyter.widget-view+json": {
       "model_id": "13cc762205cb4be39e3fe96d7ef5ddbd",
       "version_major": 2,
       "version_minor": 0
      },
      "text/plain": [
       "timesteps:   0%|          | 0/11231 [00:00<?, ?it/s]"
      ]
     },
     "metadata": {},
     "output_type": "display_data"
    },
    {
     "data": {
      "application/vnd.jupyter.widget-view+json": {
       "model_id": "9bb1713df3844ebc9f939461f7dea12a",
       "version_major": 2,
       "version_minor": 0
      },
      "text/plain": [
       "timesteps:   0%|          | 0/11231 [00:00<?, ?it/s]"
      ]
     },
     "metadata": {},
     "output_type": "display_data"
    },
    {
     "data": {
      "application/vnd.jupyter.widget-view+json": {
       "model_id": "6c6c016450784bae8dee28e72d4c3195",
       "version_major": 2,
       "version_minor": 0
      },
      "text/plain": [
       "timesteps:   0%|          | 0/11231 [00:00<?, ?it/s]"
      ]
     },
     "metadata": {},
     "output_type": "display_data"
    },
    {
     "data": {
      "application/vnd.jupyter.widget-view+json": {
       "model_id": "faa120578ebc4c209bc0f530bca394d5",
       "version_major": 2,
       "version_minor": 0
      },
      "text/plain": [
       "timesteps:   0%|          | 0/11231 [00:00<?, ?it/s]"
      ]
     },
     "metadata": {},
     "output_type": "display_data"
    },
    {
     "data": {
      "application/vnd.jupyter.widget-view+json": {
       "model_id": "9dc4eddad0b74a5b9cba7ecd0e664975",
       "version_major": 2,
       "version_minor": 0
      },
      "text/plain": [
       "timesteps:   0%|          | 0/11231 [00:00<?, ?it/s]"
      ]
     },
     "metadata": {},
     "output_type": "display_data"
    },
    {
     "data": {
      "application/vnd.jupyter.widget-view+json": {
       "model_id": "4db5109c44d44d0b96d7bc1a3b60f2e8",
       "version_major": 2,
       "version_minor": 0
      },
      "text/plain": [
       "timesteps:   0%|          | 0/11231 [00:00<?, ?it/s]"
      ]
     },
     "metadata": {},
     "output_type": "display_data"
    },
    {
     "data": {
      "application/vnd.jupyter.widget-view+json": {
       "model_id": "bf32ea9da66b4a96ab618b2b59d48dbf",
       "version_major": 2,
       "version_minor": 0
      },
      "text/plain": [
       "timesteps:   0%|          | 0/11231 [00:00<?, ?it/s]"
      ]
     },
     "metadata": {},
     "output_type": "display_data"
    },
    {
     "name": "stdout",
     "output_type": "stream",
     "text": [
      "343 of 5000, minimal objective function=1.10327, time remaining: 00:19:59\n",
      "Objective function convergence criteria is now being updated and assessed...\n",
      "Updated convergence criteria: 0.134061\n",
      "ComplexEvo loop #7 in progress...\n"
     ]
    },
    {
     "data": {
      "application/vnd.jupyter.widget-view+json": {
       "model_id": "24977c50054a4222b1c6f8c6c9859552",
       "version_major": 2,
       "version_minor": 0
      },
      "text/plain": [
       "timesteps:   0%|          | 0/11231 [00:00<?, ?it/s]"
      ]
     },
     "metadata": {},
     "output_type": "display_data"
    },
    {
     "data": {
      "application/vnd.jupyter.widget-view+json": {
       "model_id": "0c63eff82b8d41ae8e42699395e3d1db",
       "version_major": 2,
       "version_minor": 0
      },
      "text/plain": [
       "timesteps:   0%|          | 0/11231 [00:00<?, ?it/s]"
      ]
     },
     "metadata": {},
     "output_type": "display_data"
    },
    {
     "data": {
      "application/vnd.jupyter.widget-view+json": {
       "model_id": "49a3ef2f469a406abe2f86691c085a4b",
       "version_major": 2,
       "version_minor": 0
      },
      "text/plain": [
       "timesteps:   0%|          | 0/11231 [00:00<?, ?it/s]"
      ]
     },
     "metadata": {},
     "output_type": "display_data"
    },
    {
     "data": {
      "application/vnd.jupyter.widget-view+json": {
       "model_id": "fc9bd05f62d04f689c9e27a858524c72",
       "version_major": 2,
       "version_minor": 0
      },
      "text/plain": [
       "timesteps:   0%|          | 0/11231 [00:00<?, ?it/s]"
      ]
     },
     "metadata": {},
     "output_type": "display_data"
    },
    {
     "data": {
      "application/vnd.jupyter.widget-view+json": {
       "model_id": "9cb99e79529640d695cd6076ca29a18e",
       "version_major": 2,
       "version_minor": 0
      },
      "text/plain": [
       "timesteps:   0%|          | 0/11231 [00:00<?, ?it/s]"
      ]
     },
     "metadata": {},
     "output_type": "display_data"
    },
    {
     "data": {
      "application/vnd.jupyter.widget-view+json": {
       "model_id": "0a8742e6e7e640469334b61786d4c2b5",
       "version_major": 2,
       "version_minor": 0
      },
      "text/plain": [
       "timesteps:   0%|          | 0/11231 [00:00<?, ?it/s]"
      ]
     },
     "metadata": {},
     "output_type": "display_data"
    },
    {
     "data": {
      "application/vnd.jupyter.widget-view+json": {
       "model_id": "55985e938405401c8f175c6e60c97fb1",
       "version_major": 2,
       "version_minor": 0
      },
      "text/plain": [
       "timesteps:   0%|          | 0/11231 [00:00<?, ?it/s]"
      ]
     },
     "metadata": {},
     "output_type": "display_data"
    },
    {
     "data": {
      "application/vnd.jupyter.widget-view+json": {
       "model_id": "74841bb1f5a845459e3d5b7fe2b042ae",
       "version_major": 2,
       "version_minor": 0
      },
      "text/plain": [
       "timesteps:   0%|          | 0/11231 [00:00<?, ?it/s]"
      ]
     },
     "metadata": {},
     "output_type": "display_data"
    },
    {
     "name": "stdout",
     "output_type": "stream",
     "text": [
      "356 of 5000, minimal objective function=1.10327, time remaining: 00:19:51\n"
     ]
    },
    {
     "data": {
      "application/vnd.jupyter.widget-view+json": {
       "model_id": "ef6a92eaa27f4ee7ab533780abd010b7",
       "version_major": 2,
       "version_minor": 0
      },
      "text/plain": [
       "timesteps:   0%|          | 0/11231 [00:00<?, ?it/s]"
      ]
     },
     "metadata": {},
     "output_type": "display_data"
    },
    {
     "data": {
      "application/vnd.jupyter.widget-view+json": {
       "model_id": "c57358127a1a4207ad26cd1ee69dd104",
       "version_major": 2,
       "version_minor": 0
      },
      "text/plain": [
       "timesteps:   0%|          | 0/11231 [00:00<?, ?it/s]"
      ]
     },
     "metadata": {},
     "output_type": "display_data"
    },
    {
     "data": {
      "application/vnd.jupyter.widget-view+json": {
       "model_id": "cc17d39b153a4245b21366b733e1d634",
       "version_major": 2,
       "version_minor": 0
      },
      "text/plain": [
       "timesteps:   0%|          | 0/11231 [00:00<?, ?it/s]"
      ]
     },
     "metadata": {},
     "output_type": "display_data"
    },
    {
     "data": {
      "application/vnd.jupyter.widget-view+json": {
       "model_id": "eed5c6591ba14e06add3881f218b835b",
       "version_major": 2,
       "version_minor": 0
      },
      "text/plain": [
       "timesteps:   0%|          | 0/11231 [00:00<?, ?it/s]"
      ]
     },
     "metadata": {},
     "output_type": "display_data"
    },
    {
     "data": {
      "application/vnd.jupyter.widget-view+json": {
       "model_id": "b97a964145fa4c2cb83fd5f6020530ca",
       "version_major": 2,
       "version_minor": 0
      },
      "text/plain": [
       "timesteps:   0%|          | 0/11231 [00:00<?, ?it/s]"
      ]
     },
     "metadata": {},
     "output_type": "display_data"
    },
    {
     "data": {
      "application/vnd.jupyter.widget-view+json": {
       "model_id": "72b0e0db613c428eb1f3c519ea2e5c27",
       "version_major": 2,
       "version_minor": 0
      },
      "text/plain": [
       "timesteps:   0%|          | 0/11231 [00:00<?, ?it/s]"
      ]
     },
     "metadata": {},
     "output_type": "display_data"
    },
    {
     "data": {
      "application/vnd.jupyter.widget-view+json": {
       "model_id": "2ae3f12a39b14c6e93f605c29822444b",
       "version_major": 2,
       "version_minor": 0
      },
      "text/plain": [
       "timesteps:   0%|          | 0/11231 [00:00<?, ?it/s]"
      ]
     },
     "metadata": {},
     "output_type": "display_data"
    },
    {
     "data": {
      "application/vnd.jupyter.widget-view+json": {
       "model_id": "759b50fe0f4448d0b730738cd775e1a7",
       "version_major": 2,
       "version_minor": 0
      },
      "text/plain": [
       "timesteps:   0%|          | 0/11231 [00:00<?, ?it/s]"
      ]
     },
     "metadata": {},
     "output_type": "display_data"
    },
    {
     "name": "stdout",
     "output_type": "stream",
     "text": [
      "369 of 5000, minimal objective function=1.10327, time remaining: 00:19:44\n"
     ]
    },
    {
     "data": {
      "application/vnd.jupyter.widget-view+json": {
       "model_id": "1d71baf4c1e441228cd541d418b2c5c0",
       "version_major": 2,
       "version_minor": 0
      },
      "text/plain": [
       "timesteps:   0%|          | 0/11231 [00:00<?, ?it/s]"
      ]
     },
     "metadata": {},
     "output_type": "display_data"
    },
    {
     "data": {
      "application/vnd.jupyter.widget-view+json": {
       "model_id": "fa033f76d1ef4008a2dc969302b22325",
       "version_major": 2,
       "version_minor": 0
      },
      "text/plain": [
       "timesteps:   0%|          | 0/11231 [00:00<?, ?it/s]"
      ]
     },
     "metadata": {},
     "output_type": "display_data"
    },
    {
     "data": {
      "application/vnd.jupyter.widget-view+json": {
       "model_id": "2a28f2ee137a4a3fa6698be78173ab71",
       "version_major": 2,
       "version_minor": 0
      },
      "text/plain": [
       "timesteps:   0%|          | 0/11231 [00:00<?, ?it/s]"
      ]
     },
     "metadata": {},
     "output_type": "display_data"
    },
    {
     "data": {
      "application/vnd.jupyter.widget-view+json": {
       "model_id": "00072be143f747b787185261dc323ccb",
       "version_major": 2,
       "version_minor": 0
      },
      "text/plain": [
       "timesteps:   0%|          | 0/11231 [00:00<?, ?it/s]"
      ]
     },
     "metadata": {},
     "output_type": "display_data"
    },
    {
     "data": {
      "application/vnd.jupyter.widget-view+json": {
       "model_id": "a15cb9dcfd364fbcba517d339eef33c8",
       "version_major": 2,
       "version_minor": 0
      },
      "text/plain": [
       "timesteps:   0%|          | 0/11231 [00:00<?, ?it/s]"
      ]
     },
     "metadata": {},
     "output_type": "display_data"
    },
    {
     "data": {
      "application/vnd.jupyter.widget-view+json": {
       "model_id": "aa48201522a7439592c1bbd6ba0eb78a",
       "version_major": 2,
       "version_minor": 0
      },
      "text/plain": [
       "timesteps:   0%|          | 0/11231 [00:00<?, ?it/s]"
      ]
     },
     "metadata": {},
     "output_type": "display_data"
    },
    {
     "data": {
      "application/vnd.jupyter.widget-view+json": {
       "model_id": "6e83a77799084d9eadd25669b0beedcc",
       "version_major": 2,
       "version_minor": 0
      },
      "text/plain": [
       "timesteps:   0%|          | 0/11231 [00:00<?, ?it/s]"
      ]
     },
     "metadata": {},
     "output_type": "display_data"
    },
    {
     "data": {
      "application/vnd.jupyter.widget-view+json": {
       "model_id": "b699072c913f4bf8a920282d879809c7",
       "version_major": 2,
       "version_minor": 0
      },
      "text/plain": [
       "timesteps:   0%|          | 0/11231 [00:00<?, ?it/s]"
      ]
     },
     "metadata": {},
     "output_type": "display_data"
    },
    {
     "data": {
      "application/vnd.jupyter.widget-view+json": {
       "model_id": "f0a7c7e81a6648e88a77182a8ded801f",
       "version_major": 2,
       "version_minor": 0
      },
      "text/plain": [
       "timesteps:   0%|          | 0/11231 [00:00<?, ?it/s]"
      ]
     },
     "metadata": {},
     "output_type": "display_data"
    },
    {
     "data": {
      "application/vnd.jupyter.widget-view+json": {
       "model_id": "33300c0879964198b95e8d1f3423ec47",
       "version_major": 2,
       "version_minor": 0
      },
      "text/plain": [
       "timesteps:   0%|          | 0/11231 [00:00<?, ?it/s]"
      ]
     },
     "metadata": {},
     "output_type": "display_data"
    },
    {
     "name": "stdout",
     "output_type": "stream",
     "text": [
      "384 of 5000, minimal objective function=1.10327, time remaining: 00:19:42\n"
     ]
    },
    {
     "data": {
      "application/vnd.jupyter.widget-view+json": {
       "model_id": "baff63449b7b4069a3b493fa15432dc1",
       "version_major": 2,
       "version_minor": 0
      },
      "text/plain": [
       "timesteps:   0%|          | 0/11231 [00:00<?, ?it/s]"
      ]
     },
     "metadata": {},
     "output_type": "display_data"
    },
    {
     "data": {
      "application/vnd.jupyter.widget-view+json": {
       "model_id": "34298f1f622c47dca54cea83e25c9273",
       "version_major": 2,
       "version_minor": 0
      },
      "text/plain": [
       "timesteps:   0%|          | 0/11231 [00:00<?, ?it/s]"
      ]
     },
     "metadata": {},
     "output_type": "display_data"
    },
    {
     "data": {
      "application/vnd.jupyter.widget-view+json": {
       "model_id": "a4d7e98fd02b432eac05b055b48400d8",
       "version_major": 2,
       "version_minor": 0
      },
      "text/plain": [
       "timesteps:   0%|          | 0/11231 [00:00<?, ?it/s]"
      ]
     },
     "metadata": {},
     "output_type": "display_data"
    },
    {
     "data": {
      "application/vnd.jupyter.widget-view+json": {
       "model_id": "68d6b004e8a044b4b2d372bf4f20ba78",
       "version_major": 2,
       "version_minor": 0
      },
      "text/plain": [
       "timesteps:   0%|          | 0/11231 [00:00<?, ?it/s]"
      ]
     },
     "metadata": {},
     "output_type": "display_data"
    },
    {
     "data": {
      "application/vnd.jupyter.widget-view+json": {
       "model_id": "36cb2193653d47d3992d4484d1e77ed5",
       "version_major": 2,
       "version_minor": 0
      },
      "text/plain": [
       "timesteps:   0%|          | 0/11231 [00:00<?, ?it/s]"
      ]
     },
     "metadata": {},
     "output_type": "display_data"
    },
    {
     "data": {
      "application/vnd.jupyter.widget-view+json": {
       "model_id": "e6abb8fc6dd54c0b9787c153fb28b9a2",
       "version_major": 2,
       "version_minor": 0
      },
      "text/plain": [
       "timesteps:   0%|          | 0/11231 [00:00<?, ?it/s]"
      ]
     },
     "metadata": {},
     "output_type": "display_data"
    },
    {
     "data": {
      "application/vnd.jupyter.widget-view+json": {
       "model_id": "555c8e1ff2ac4feb8f231ea03b145ae8",
       "version_major": 2,
       "version_minor": 0
      },
      "text/plain": [
       "timesteps:   0%|          | 0/11231 [00:00<?, ?it/s]"
      ]
     },
     "metadata": {},
     "output_type": "display_data"
    },
    {
     "data": {
      "application/vnd.jupyter.widget-view+json": {
       "model_id": "62eaf7f6d44147a28e09ad7197e37981",
       "version_major": 2,
       "version_minor": 0
      },
      "text/plain": [
       "timesteps:   0%|          | 0/11231 [00:00<?, ?it/s]"
      ]
     },
     "metadata": {},
     "output_type": "display_data"
    },
    {
     "data": {
      "application/vnd.jupyter.widget-view+json": {
       "model_id": "072c40b8757f44b4984ab82afe95d080",
       "version_major": 2,
       "version_minor": 0
      },
      "text/plain": [
       "timesteps:   0%|          | 0/11231 [00:00<?, ?it/s]"
      ]
     },
     "metadata": {},
     "output_type": "display_data"
    },
    {
     "name": "stdout",
     "output_type": "stream",
     "text": [
      "398 of 5000, minimal objective function=1.10327, time remaining: 00:19:37\n",
      "Objective function convergence criteria is now being updated and assessed...\n",
      "Updated convergence criteria: 0.089432\n",
      "ComplexEvo loop #8 in progress...\n"
     ]
    },
    {
     "data": {
      "application/vnd.jupyter.widget-view+json": {
       "model_id": "2d6019df0a5d44acb6ebe8810695c596",
       "version_major": 2,
       "version_minor": 0
      },
      "text/plain": [
       "timesteps:   0%|          | 0/11231 [00:00<?, ?it/s]"
      ]
     },
     "metadata": {},
     "output_type": "display_data"
    },
    {
     "data": {
      "application/vnd.jupyter.widget-view+json": {
       "model_id": "d68d16d28c564b1396f75f03970921ca",
       "version_major": 2,
       "version_minor": 0
      },
      "text/plain": [
       "timesteps:   0%|          | 0/11231 [00:00<?, ?it/s]"
      ]
     },
     "metadata": {},
     "output_type": "display_data"
    },
    {
     "data": {
      "application/vnd.jupyter.widget-view+json": {
       "model_id": "544c5a0452574c68a349495f4f57e3f6",
       "version_major": 2,
       "version_minor": 0
      },
      "text/plain": [
       "timesteps:   0%|          | 0/11231 [00:00<?, ?it/s]"
      ]
     },
     "metadata": {},
     "output_type": "display_data"
    },
    {
     "data": {
      "application/vnd.jupyter.widget-view+json": {
       "model_id": "a20c1a93065947c1aa2441ae6e42f9aa",
       "version_major": 2,
       "version_minor": 0
      },
      "text/plain": [
       "timesteps:   0%|          | 0/11231 [00:00<?, ?it/s]"
      ]
     },
     "metadata": {},
     "output_type": "display_data"
    },
    {
     "data": {
      "application/vnd.jupyter.widget-view+json": {
       "model_id": "8f2be57233b342d6b8fd1da361b33f68",
       "version_major": 2,
       "version_minor": 0
      },
      "text/plain": [
       "timesteps:   0%|          | 0/11231 [00:00<?, ?it/s]"
      ]
     },
     "metadata": {},
     "output_type": "display_data"
    },
    {
     "data": {
      "application/vnd.jupyter.widget-view+json": {
       "model_id": "b08a610c475249329148b1d1bb0ff6b3",
       "version_major": 2,
       "version_minor": 0
      },
      "text/plain": [
       "timesteps:   0%|          | 0/11231 [00:00<?, ?it/s]"
      ]
     },
     "metadata": {},
     "output_type": "display_data"
    },
    {
     "data": {
      "application/vnd.jupyter.widget-view+json": {
       "model_id": "958306d513e744839d0cd668a82fa801",
       "version_major": 2,
       "version_minor": 0
      },
      "text/plain": [
       "timesteps:   0%|          | 0/11231 [00:00<?, ?it/s]"
      ]
     },
     "metadata": {},
     "output_type": "display_data"
    },
    {
     "data": {
      "application/vnd.jupyter.widget-view+json": {
       "model_id": "05a62bd54ee84ee18665cb7068a583a5",
       "version_major": 2,
       "version_minor": 0
      },
      "text/plain": [
       "timesteps:   0%|          | 0/11231 [00:00<?, ?it/s]"
      ]
     },
     "metadata": {},
     "output_type": "display_data"
    },
    {
     "data": {
      "application/vnd.jupyter.widget-view+json": {
       "model_id": "42410e3118ba4db2a7b0455ce5c7a570",
       "version_major": 2,
       "version_minor": 0
      },
      "text/plain": [
       "timesteps:   0%|          | 0/11231 [00:00<?, ?it/s]"
      ]
     },
     "metadata": {},
     "output_type": "display_data"
    },
    {
     "name": "stdout",
     "output_type": "stream",
     "text": [
      "412 of 5000, minimal objective function=1.10327, time remaining: 00:19:31\n"
     ]
    },
    {
     "data": {
      "application/vnd.jupyter.widget-view+json": {
       "model_id": "ea44a9851e814f939fd781b59d9d8563",
       "version_major": 2,
       "version_minor": 0
      },
      "text/plain": [
       "timesteps:   0%|          | 0/11231 [00:00<?, ?it/s]"
      ]
     },
     "metadata": {},
     "output_type": "display_data"
    },
    {
     "data": {
      "application/vnd.jupyter.widget-view+json": {
       "model_id": "3f9dccdd5c274df1989b217b3289b4dd",
       "version_major": 2,
       "version_minor": 0
      },
      "text/plain": [
       "timesteps:   0%|          | 0/11231 [00:00<?, ?it/s]"
      ]
     },
     "metadata": {},
     "output_type": "display_data"
    },
    {
     "data": {
      "application/vnd.jupyter.widget-view+json": {
       "model_id": "f1ecbd2fb60040cda51033583db1d5ab",
       "version_major": 2,
       "version_minor": 0
      },
      "text/plain": [
       "timesteps:   0%|          | 0/11231 [00:00<?, ?it/s]"
      ]
     },
     "metadata": {},
     "output_type": "display_data"
    },
    {
     "data": {
      "application/vnd.jupyter.widget-view+json": {
       "model_id": "7bda4793af274893bba1e336adf0c5a6",
       "version_major": 2,
       "version_minor": 0
      },
      "text/plain": [
       "timesteps:   0%|          | 0/11231 [00:00<?, ?it/s]"
      ]
     },
     "metadata": {},
     "output_type": "display_data"
    },
    {
     "data": {
      "application/vnd.jupyter.widget-view+json": {
       "model_id": "16111230a63948d7a8fa8d26da7f8f78",
       "version_major": 2,
       "version_minor": 0
      },
      "text/plain": [
       "timesteps:   0%|          | 0/11231 [00:00<?, ?it/s]"
      ]
     },
     "metadata": {},
     "output_type": "display_data"
    },
    {
     "data": {
      "application/vnd.jupyter.widget-view+json": {
       "model_id": "52fb9846dc7b4721aedbbe9857ade491",
       "version_major": 2,
       "version_minor": 0
      },
      "text/plain": [
       "timesteps:   0%|          | 0/11231 [00:00<?, ?it/s]"
      ]
     },
     "metadata": {},
     "output_type": "display_data"
    },
    {
     "data": {
      "application/vnd.jupyter.widget-view+json": {
       "model_id": "42f303f438d4462faf7afff00d850cf5",
       "version_major": 2,
       "version_minor": 0
      },
      "text/plain": [
       "timesteps:   0%|          | 0/11231 [00:00<?, ?it/s]"
      ]
     },
     "metadata": {},
     "output_type": "display_data"
    },
    {
     "data": {
      "application/vnd.jupyter.widget-view+json": {
       "model_id": "1f2ea94e358f4b6d9b06c71a63dfe8f6",
       "version_major": 2,
       "version_minor": 0
      },
      "text/plain": [
       "timesteps:   0%|          | 0/11231 [00:00<?, ?it/s]"
      ]
     },
     "metadata": {},
     "output_type": "display_data"
    },
    {
     "data": {
      "application/vnd.jupyter.widget-view+json": {
       "model_id": "ab6ce9a572eb41cba8ad04b396395f44",
       "version_major": 2,
       "version_minor": 0
      },
      "text/plain": [
       "timesteps:   0%|          | 0/11231 [00:00<?, ?it/s]"
      ]
     },
     "metadata": {},
     "output_type": "display_data"
    },
    {
     "data": {
      "application/vnd.jupyter.widget-view+json": {
       "model_id": "46a4a82411fd418c88ac5d3ce97c31ab",
       "version_major": 2,
       "version_minor": 0
      },
      "text/plain": [
       "timesteps:   0%|          | 0/11231 [00:00<?, ?it/s]"
      ]
     },
     "metadata": {},
     "output_type": "display_data"
    },
    {
     "data": {
      "application/vnd.jupyter.widget-view+json": {
       "model_id": "1f108c30926a410ab587010de3eb41af",
       "version_major": 2,
       "version_minor": 0
      },
      "text/plain": [
       "timesteps:   0%|          | 0/11231 [00:00<?, ?it/s]"
      ]
     },
     "metadata": {},
     "output_type": "display_data"
    },
    {
     "name": "stdout",
     "output_type": "stream",
     "text": [
      "428 of 5000, minimal objective function=1.10327, time remaining: 00:19:32\n"
     ]
    },
    {
     "data": {
      "application/vnd.jupyter.widget-view+json": {
       "model_id": "7b7170deb9db4a91834779a8d6c4cef3",
       "version_major": 2,
       "version_minor": 0
      },
      "text/plain": [
       "timesteps:   0%|          | 0/11231 [00:00<?, ?it/s]"
      ]
     },
     "metadata": {},
     "output_type": "display_data"
    },
    {
     "data": {
      "application/vnd.jupyter.widget-view+json": {
       "model_id": "4e9d6b2585dc4306bf776be3ef965c35",
       "version_major": 2,
       "version_minor": 0
      },
      "text/plain": [
       "timesteps:   0%|          | 0/11231 [00:00<?, ?it/s]"
      ]
     },
     "metadata": {},
     "output_type": "display_data"
    },
    {
     "data": {
      "application/vnd.jupyter.widget-view+json": {
       "model_id": "78cd0d8b4b704d0b9ca9cef712249055",
       "version_major": 2,
       "version_minor": 0
      },
      "text/plain": [
       "timesteps:   0%|          | 0/11231 [00:00<?, ?it/s]"
      ]
     },
     "metadata": {},
     "output_type": "display_data"
    },
    {
     "data": {
      "application/vnd.jupyter.widget-view+json": {
       "model_id": "acef97ec1aac4d849e9d8434bcb00d3f",
       "version_major": 2,
       "version_minor": 0
      },
      "text/plain": [
       "timesteps:   0%|          | 0/11231 [00:00<?, ?it/s]"
      ]
     },
     "metadata": {},
     "output_type": "display_data"
    },
    {
     "data": {
      "application/vnd.jupyter.widget-view+json": {
       "model_id": "601951eea7e544aaad1769840ad93000",
       "version_major": 2,
       "version_minor": 0
      },
      "text/plain": [
       "timesteps:   0%|          | 0/11231 [00:00<?, ?it/s]"
      ]
     },
     "metadata": {},
     "output_type": "display_data"
    },
    {
     "data": {
      "application/vnd.jupyter.widget-view+json": {
       "model_id": "672646cc11634f689a332ab453dd96d8",
       "version_major": 2,
       "version_minor": 0
      },
      "text/plain": [
       "timesteps:   0%|          | 0/11231 [00:00<?, ?it/s]"
      ]
     },
     "metadata": {},
     "output_type": "display_data"
    },
    {
     "data": {
      "application/vnd.jupyter.widget-view+json": {
       "model_id": "84b4d878371a444c954e55e31955d617",
       "version_major": 2,
       "version_minor": 0
      },
      "text/plain": [
       "timesteps:   0%|          | 0/11231 [00:00<?, ?it/s]"
      ]
     },
     "metadata": {},
     "output_type": "display_data"
    },
    {
     "data": {
      "application/vnd.jupyter.widget-view+json": {
       "model_id": "0e1ac3c1fdc6402f8aab6287c84ce20b",
       "version_major": 2,
       "version_minor": 0
      },
      "text/plain": [
       "timesteps:   0%|          | 0/11231 [00:00<?, ?it/s]"
      ]
     },
     "metadata": {},
     "output_type": "display_data"
    },
    {
     "data": {
      "application/vnd.jupyter.widget-view+json": {
       "model_id": "b56ab7f66b84401e8adea76f73cbedbd",
       "version_major": 2,
       "version_minor": 0
      },
      "text/plain": [
       "timesteps:   0%|          | 0/11231 [00:00<?, ?it/s]"
      ]
     },
     "metadata": {},
     "output_type": "display_data"
    },
    {
     "name": "stdout",
     "output_type": "stream",
     "text": [
      "442 of 5000, minimal objective function=1.10327, time remaining: 00:19:27\n"
     ]
    },
    {
     "data": {
      "application/vnd.jupyter.widget-view+json": {
       "model_id": "4b2687849910499a9bed8406d36b232a",
       "version_major": 2,
       "version_minor": 0
      },
      "text/plain": [
       "timesteps:   0%|          | 0/11231 [00:00<?, ?it/s]"
      ]
     },
     "metadata": {},
     "output_type": "display_data"
    },
    {
     "data": {
      "application/vnd.jupyter.widget-view+json": {
       "model_id": "269e97b7a02a43e9971c5e46f1c75dbc",
       "version_major": 2,
       "version_minor": 0
      },
      "text/plain": [
       "timesteps:   0%|          | 0/11231 [00:00<?, ?it/s]"
      ]
     },
     "metadata": {},
     "output_type": "display_data"
    },
    {
     "data": {
      "application/vnd.jupyter.widget-view+json": {
       "model_id": "282ef5e104a54906a96e67d4eb5b30fb",
       "version_major": 2,
       "version_minor": 0
      },
      "text/plain": [
       "timesteps:   0%|          | 0/11231 [00:00<?, ?it/s]"
      ]
     },
     "metadata": {},
     "output_type": "display_data"
    },
    {
     "data": {
      "application/vnd.jupyter.widget-view+json": {
       "model_id": "ea04fc17a1404feb9badf75560243642",
       "version_major": 2,
       "version_minor": 0
      },
      "text/plain": [
       "timesteps:   0%|          | 0/11231 [00:00<?, ?it/s]"
      ]
     },
     "metadata": {},
     "output_type": "display_data"
    },
    {
     "data": {
      "application/vnd.jupyter.widget-view+json": {
       "model_id": "251527386a0c468a8241f9fc2c40430b",
       "version_major": 2,
       "version_minor": 0
      },
      "text/plain": [
       "timesteps:   0%|          | 0/11231 [00:00<?, ?it/s]"
      ]
     },
     "metadata": {},
     "output_type": "display_data"
    },
    {
     "data": {
      "application/vnd.jupyter.widget-view+json": {
       "model_id": "ad0fe55b790740aba0d0dbdb0c74653e",
       "version_major": 2,
       "version_minor": 0
      },
      "text/plain": [
       "timesteps:   0%|          | 0/11231 [00:00<?, ?it/s]"
      ]
     },
     "metadata": {},
     "output_type": "display_data"
    },
    {
     "data": {
      "application/vnd.jupyter.widget-view+json": {
       "model_id": "f5155f05e7f343fa9386c4586d1d35f4",
       "version_major": 2,
       "version_minor": 0
      },
      "text/plain": [
       "timesteps:   0%|          | 0/11231 [00:00<?, ?it/s]"
      ]
     },
     "metadata": {},
     "output_type": "display_data"
    },
    {
     "data": {
      "application/vnd.jupyter.widget-view+json": {
       "model_id": "6c4bd4ab1d9f4d65918c006c248b30a6",
       "version_major": 2,
       "version_minor": 0
      },
      "text/plain": [
       "timesteps:   0%|          | 0/11231 [00:00<?, ?it/s]"
      ]
     },
     "metadata": {},
     "output_type": "display_data"
    },
    {
     "data": {
      "application/vnd.jupyter.widget-view+json": {
       "model_id": "1d92e4155ee1490daeeda1ace1a03ec6",
       "version_major": 2,
       "version_minor": 0
      },
      "text/plain": [
       "timesteps:   0%|          | 0/11231 [00:00<?, ?it/s]"
      ]
     },
     "metadata": {},
     "output_type": "display_data"
    },
    {
     "data": {
      "application/vnd.jupyter.widget-view+json": {
       "model_id": "45cb766747244dcb930c110c2f7e140f",
       "version_major": 2,
       "version_minor": 0
      },
      "text/plain": [
       "timesteps:   0%|          | 0/11231 [00:00<?, ?it/s]"
      ]
     },
     "metadata": {},
     "output_type": "display_data"
    },
    {
     "name": "stdout",
     "output_type": "stream",
     "text": [
      "457 of 5000, minimal objective function=1.10327, time remaining: 00:19:23\n",
      "Objective function convergence criteria is now being updated and assessed...\n",
      "Updated convergence criteria: 0.000000\n",
      "THE BEST POINT HAS IMPROVED IN LAST 5 LOOPS BY LESS THAN THE USER-SPECIFIED THRESHOLD 0.001000\n",
      "CONVERGENCY HAS ACHIEVED BASED ON OBJECTIVE FUNCTION CRITERIA!!!\n",
      "SEARCH WAS STOPPED AT TRIAL NUMBER: 461\n",
      "NUMBER OF DISCARDED TRIALS: 0\n",
      "NORMALIZED GEOMETRIC RANGE = 0.734941\n",
      "THE BEST POINT HAS IMPROVED IN LAST 5 LOOPS BY 0.000000 PERCENT\n",
      "\n",
      "*** Final SPOTPY summary ***\n",
      "Total Duration: 117.29 seconds\n",
      "Total Repetitions: 461\n",
      "Minimal objective value: 1.10327\n",
      "Corresponding parameter setting:\n",
      "alpha: 0.41201\n",
      "delta: 0.302977\n",
      "******************************\n",
      "\n",
      "Initializing the  Shuffled Complex Evolution (SCE-UA) algorithm  with  5000  repetitions\n",
      "The objective function will be minimized\n",
      "Starting burn-in sampling...\n"
     ]
    },
    {
     "data": {
      "application/vnd.jupyter.widget-view+json": {
       "model_id": "26e3f903c747449092566d0ea96cd6b9",
       "version_major": 2,
       "version_minor": 0
      },
      "text/plain": [
       "timesteps:   0%|          | 0/11231 [00:00<?, ?it/s]"
      ]
     },
     "metadata": {},
     "output_type": "display_data"
    },
    {
     "name": "stdout",
     "output_type": "stream",
     "text": [
      "Initialize database...\n",
      "['csv', 'hdf5', 'ram', 'sql', 'custom', 'noData']\n",
      "* Database file 'Z:\\nahaUsers\\casadje\\EFASv6\\reservoirs\\tests\\Ebro\\camaflood/6006_samples.csv' created.\n"
     ]
    },
    {
     "data": {
      "application/vnd.jupyter.widget-view+json": {
       "model_id": "ff1ede1fd8c84ed99cfd0a9f30fbb16a",
       "version_major": 2,
       "version_minor": 0
      },
      "text/plain": [
       "timesteps:   0%|          | 0/11231 [00:00<?, ?it/s]"
      ]
     },
     "metadata": {},
     "output_type": "display_data"
    },
    {
     "data": {
      "application/vnd.jupyter.widget-view+json": {
       "model_id": "e12b754c45e446218eba14131d5fc906",
       "version_major": 2,
       "version_minor": 0
      },
      "text/plain": [
       "timesteps:   0%|          | 0/11231 [00:00<?, ?it/s]"
      ]
     },
     "metadata": {},
     "output_type": "display_data"
    },
    {
     "data": {
      "application/vnd.jupyter.widget-view+json": {
       "model_id": "86159fafd49a49b89b4c9a59146deb82",
       "version_major": 2,
       "version_minor": 0
      },
      "text/plain": [
       "timesteps:   0%|          | 0/11231 [00:00<?, ?it/s]"
      ]
     },
     "metadata": {},
     "output_type": "display_data"
    },
    {
     "data": {
      "application/vnd.jupyter.widget-view+json": {
       "model_id": "b9f2136bfd8343ad9819ff3d2cd71f98",
       "version_major": 2,
       "version_minor": 0
      },
      "text/plain": [
       "timesteps:   0%|          | 0/11231 [00:00<?, ?it/s]"
      ]
     },
     "metadata": {},
     "output_type": "display_data"
    },
    {
     "name": "stdout",
     "output_type": "stream",
     "text": [
      "5 of 5000, minimal objective function=1.36221, time remaining: 00:28:22\n"
     ]
    },
    {
     "data": {
      "application/vnd.jupyter.widget-view+json": {
       "model_id": "c99cb7af2bbf4cf2a68500bac42f4a06",
       "version_major": 2,
       "version_minor": 0
      },
      "text/plain": [
       "timesteps:   0%|          | 0/11231 [00:00<?, ?it/s]"
      ]
     },
     "metadata": {},
     "output_type": "display_data"
    },
    {
     "data": {
      "application/vnd.jupyter.widget-view+json": {
       "model_id": "97b7fadaf12c4dc78ddfda2d70878db3",
       "version_major": 2,
       "version_minor": 0
      },
      "text/plain": [
       "timesteps:   0%|          | 0/11231 [00:00<?, ?it/s]"
      ]
     },
     "metadata": {},
     "output_type": "display_data"
    },
    {
     "data": {
      "application/vnd.jupyter.widget-view+json": {
       "model_id": "1472765fb899487998ab7e4587d485ef",
       "version_major": 2,
       "version_minor": 0
      },
      "text/plain": [
       "timesteps:   0%|          | 0/11231 [00:00<?, ?it/s]"
      ]
     },
     "metadata": {},
     "output_type": "display_data"
    },
    {
     "data": {
      "application/vnd.jupyter.widget-view+json": {
       "model_id": "0ce144cc7bb142cca07cde9c310cc103",
       "version_major": 2,
       "version_minor": 0
      },
      "text/plain": [
       "timesteps:   0%|          | 0/11231 [00:00<?, ?it/s]"
      ]
     },
     "metadata": {},
     "output_type": "display_data"
    },
    {
     "data": {
      "application/vnd.jupyter.widget-view+json": {
       "model_id": "c837262bc20940e89775e093f6a90bc9",
       "version_major": 2,
       "version_minor": 0
      },
      "text/plain": [
       "timesteps:   0%|          | 0/11231 [00:00<?, ?it/s]"
      ]
     },
     "metadata": {},
     "output_type": "display_data"
    },
    {
     "data": {
      "application/vnd.jupyter.widget-view+json": {
       "model_id": "0c80e6a6284c436e817e58349d8fcaaf",
       "version_major": 2,
       "version_minor": 0
      },
      "text/plain": [
       "timesteps:   0%|          | 0/11231 [00:00<?, ?it/s]"
      ]
     },
     "metadata": {},
     "output_type": "display_data"
    },
    {
     "name": "stdout",
     "output_type": "stream",
     "text": [
      "11 of 5000, minimal objective function=1.36221, time remaining: 00:29:33\n"
     ]
    },
    {
     "data": {
      "application/vnd.jupyter.widget-view+json": {
       "model_id": "e52d26dace3a4324b58628755c3d19ff",
       "version_major": 2,
       "version_minor": 0
      },
      "text/plain": [
       "timesteps:   0%|          | 0/11231 [00:00<?, ?it/s]"
      ]
     },
     "metadata": {},
     "output_type": "display_data"
    },
    {
     "data": {
      "application/vnd.jupyter.widget-view+json": {
       "model_id": "8670308d4da0452da8d109565c913489",
       "version_major": 2,
       "version_minor": 0
      },
      "text/plain": [
       "timesteps:   0%|          | 0/11231 [00:00<?, ?it/s]"
      ]
     },
     "metadata": {},
     "output_type": "display_data"
    },
    {
     "data": {
      "application/vnd.jupyter.widget-view+json": {
       "model_id": "a54c56bba88b4553ba66d92bb3d54034",
       "version_major": 2,
       "version_minor": 0
      },
      "text/plain": [
       "timesteps:   0%|          | 0/11231 [00:00<?, ?it/s]"
      ]
     },
     "metadata": {},
     "output_type": "display_data"
    },
    {
     "data": {
      "application/vnd.jupyter.widget-view+json": {
       "model_id": "6fd0a54715fd4ec783363c395804a7a7",
       "version_major": 2,
       "version_minor": 0
      },
      "text/plain": [
       "timesteps:   0%|          | 0/11231 [00:00<?, ?it/s]"
      ]
     },
     "metadata": {},
     "output_type": "display_data"
    },
    {
     "data": {
      "application/vnd.jupyter.widget-view+json": {
       "model_id": "6345014187b44356b92bced9974cdd1c",
       "version_major": 2,
       "version_minor": 0
      },
      "text/plain": [
       "timesteps:   0%|          | 0/11231 [00:00<?, ?it/s]"
      ]
     },
     "metadata": {},
     "output_type": "display_data"
    },
    {
     "data": {
      "application/vnd.jupyter.widget-view+json": {
       "model_id": "2538bc6dd38c47aa930a16f941de34d5",
       "version_major": 2,
       "version_minor": 0
      },
      "text/plain": [
       "timesteps:   0%|          | 0/11231 [00:00<?, ?it/s]"
      ]
     },
     "metadata": {},
     "output_type": "display_data"
    },
    {
     "name": "stdout",
     "output_type": "stream",
     "text": [
      "17 of 5000, minimal objective function=1.36221, time remaining: 00:29:51\n"
     ]
    },
    {
     "data": {
      "application/vnd.jupyter.widget-view+json": {
       "model_id": "fe3d0b59aa584431a7605b79c0f9bd2c",
       "version_major": 2,
       "version_minor": 0
      },
      "text/plain": [
       "timesteps:   0%|          | 0/11231 [00:00<?, ?it/s]"
      ]
     },
     "metadata": {},
     "output_type": "display_data"
    },
    {
     "data": {
      "application/vnd.jupyter.widget-view+json": {
       "model_id": "920ebd80c36b49d898338e34ebf9f158",
       "version_major": 2,
       "version_minor": 0
      },
      "text/plain": [
       "timesteps:   0%|          | 0/11231 [00:00<?, ?it/s]"
      ]
     },
     "metadata": {},
     "output_type": "display_data"
    },
    {
     "data": {
      "application/vnd.jupyter.widget-view+json": {
       "model_id": "5e98fb48956848738423da7cd3bce66f",
       "version_major": 2,
       "version_minor": 0
      },
      "text/plain": [
       "timesteps:   0%|          | 0/11231 [00:00<?, ?it/s]"
      ]
     },
     "metadata": {},
     "output_type": "display_data"
    },
    {
     "name": "stdout",
     "output_type": "stream",
     "text": [
      "Burn-in sampling completed...\n",
      "Starting Complex Evolution...\n",
      "ComplexEvo loop #1 in progress...\n"
     ]
    },
    {
     "data": {
      "application/vnd.jupyter.widget-view+json": {
       "model_id": "666ddf6b39784830a1ec81e35643bda2",
       "version_major": 2,
       "version_minor": 0
      },
      "text/plain": [
       "timesteps:   0%|          | 0/11231 [00:00<?, ?it/s]"
      ]
     },
     "metadata": {},
     "output_type": "display_data"
    },
    {
     "data": {
      "application/vnd.jupyter.widget-view+json": {
       "model_id": "3f7de58c094c4fa1b500ae45e089972e",
       "version_major": 2,
       "version_minor": 0
      },
      "text/plain": [
       "timesteps:   0%|          | 0/11231 [00:00<?, ?it/s]"
      ]
     },
     "metadata": {},
     "output_type": "display_data"
    },
    {
     "data": {
      "application/vnd.jupyter.widget-view+json": {
       "model_id": "84d947399f3542eabe1180e3349cbcaf",
       "version_major": 2,
       "version_minor": 0
      },
      "text/plain": [
       "timesteps:   0%|          | 0/11231 [00:00<?, ?it/s]"
      ]
     },
     "metadata": {},
     "output_type": "display_data"
    },
    {
     "data": {
      "application/vnd.jupyter.widget-view+json": {
       "model_id": "86d97852afd645359fb197a0a5a76d53",
       "version_major": 2,
       "version_minor": 0
      },
      "text/plain": [
       "timesteps:   0%|          | 0/11231 [00:00<?, ?it/s]"
      ]
     },
     "metadata": {},
     "output_type": "display_data"
    },
    {
     "data": {
      "application/vnd.jupyter.widget-view+json": {
       "model_id": "0ebb70fd3065487fa458f4a664c8b8f0",
       "version_major": 2,
       "version_minor": 0
      },
      "text/plain": [
       "timesteps:   0%|          | 0/11231 [00:00<?, ?it/s]"
      ]
     },
     "metadata": {},
     "output_type": "display_data"
    },
    {
     "data": {
      "application/vnd.jupyter.widget-view+json": {
       "model_id": "be62ea8953584c04a6e2fe1af90f5ab6",
       "version_major": 2,
       "version_minor": 0
      },
      "text/plain": [
       "timesteps:   0%|          | 0/11231 [00:00<?, ?it/s]"
      ]
     },
     "metadata": {},
     "output_type": "display_data"
    },
    {
     "data": {
      "application/vnd.jupyter.widget-view+json": {
       "model_id": "0c1922b3e5a841d7b62f49887484a935",
       "version_major": 2,
       "version_minor": 0
      },
      "text/plain": [
       "timesteps:   0%|          | 0/11231 [00:00<?, ?it/s]"
      ]
     },
     "metadata": {},
     "output_type": "display_data"
    },
    {
     "name": "stdout",
     "output_type": "stream",
     "text": [
      "28 of 5000, minimal objective function=1.36221, time remaining: 00:29:10\n"
     ]
    },
    {
     "data": {
      "application/vnd.jupyter.widget-view+json": {
       "model_id": "b06a6406661e4909a06f693c6d7aaefc",
       "version_major": 2,
       "version_minor": 0
      },
      "text/plain": [
       "timesteps:   0%|          | 0/11231 [00:00<?, ?it/s]"
      ]
     },
     "metadata": {},
     "output_type": "display_data"
    },
    {
     "data": {
      "application/vnd.jupyter.widget-view+json": {
       "model_id": "5c1492f0bf824bdd9b65543199c44248",
       "version_major": 2,
       "version_minor": 0
      },
      "text/plain": [
       "timesteps:   0%|          | 0/11231 [00:00<?, ?it/s]"
      ]
     },
     "metadata": {},
     "output_type": "display_data"
    },
    {
     "data": {
      "application/vnd.jupyter.widget-view+json": {
       "model_id": "21b8313b4d464e4ca96aa5986641a394",
       "version_major": 2,
       "version_minor": 0
      },
      "text/plain": [
       "timesteps:   0%|          | 0/11231 [00:00<?, ?it/s]"
      ]
     },
     "metadata": {},
     "output_type": "display_data"
    },
    {
     "data": {
      "application/vnd.jupyter.widget-view+json": {
       "model_id": "e4d4b790017f468b8835892a83db09c4",
       "version_major": 2,
       "version_minor": 0
      },
      "text/plain": [
       "timesteps:   0%|          | 0/11231 [00:00<?, ?it/s]"
      ]
     },
     "metadata": {},
     "output_type": "display_data"
    },
    {
     "data": {
      "application/vnd.jupyter.widget-view+json": {
       "model_id": "df48d9231c794f13a84d249bfce84bfe",
       "version_major": 2,
       "version_minor": 0
      },
      "text/plain": [
       "timesteps:   0%|          | 0/11231 [00:00<?, ?it/s]"
      ]
     },
     "metadata": {},
     "output_type": "display_data"
    },
    {
     "data": {
      "application/vnd.jupyter.widget-view+json": {
       "model_id": "820834da1bc54e92a74078307c9df4f7",
       "version_major": 2,
       "version_minor": 0
      },
      "text/plain": [
       "timesteps:   0%|          | 0/11231 [00:00<?, ?it/s]"
      ]
     },
     "metadata": {},
     "output_type": "display_data"
    },
    {
     "data": {
      "application/vnd.jupyter.widget-view+json": {
       "model_id": "aa08b399b06247dbbaf2187f4fb15a90",
       "version_major": 2,
       "version_minor": 0
      },
      "text/plain": [
       "timesteps:   0%|          | 0/11231 [00:00<?, ?it/s]"
      ]
     },
     "metadata": {},
     "output_type": "display_data"
    },
    {
     "data": {
      "application/vnd.jupyter.widget-view+json": {
       "model_id": "951f853896494e41af58d226567c482e",
       "version_major": 2,
       "version_minor": 0
      },
      "text/plain": [
       "timesteps:   0%|          | 0/11231 [00:00<?, ?it/s]"
      ]
     },
     "metadata": {},
     "output_type": "display_data"
    },
    {
     "name": "stdout",
     "output_type": "stream",
     "text": [
      "41 of 5000, minimal objective function=1.36221, time remaining: 00:26:21\n"
     ]
    },
    {
     "data": {
      "application/vnd.jupyter.widget-view+json": {
       "model_id": "3789073db08043df99bdd34693811718",
       "version_major": 2,
       "version_minor": 0
      },
      "text/plain": [
       "timesteps:   0%|          | 0/11231 [00:00<?, ?it/s]"
      ]
     },
     "metadata": {},
     "output_type": "display_data"
    },
    {
     "data": {
      "application/vnd.jupyter.widget-view+json": {
       "model_id": "f575b03dec274e05b4eebd37a12d36bf",
       "version_major": 2,
       "version_minor": 0
      },
      "text/plain": [
       "timesteps:   0%|          | 0/11231 [00:00<?, ?it/s]"
      ]
     },
     "metadata": {},
     "output_type": "display_data"
    },
    {
     "data": {
      "application/vnd.jupyter.widget-view+json": {
       "model_id": "974c9a8385dc42ffa5187b6b34ba4f78",
       "version_major": 2,
       "version_minor": 0
      },
      "text/plain": [
       "timesteps:   0%|          | 0/11231 [00:00<?, ?it/s]"
      ]
     },
     "metadata": {},
     "output_type": "display_data"
    },
    {
     "data": {
      "application/vnd.jupyter.widget-view+json": {
       "model_id": "5c23f69ab26d4e7c86197a35523c8494",
       "version_major": 2,
       "version_minor": 0
      },
      "text/plain": [
       "timesteps:   0%|          | 0/11231 [00:00<?, ?it/s]"
      ]
     },
     "metadata": {},
     "output_type": "display_data"
    },
    {
     "data": {
      "application/vnd.jupyter.widget-view+json": {
       "model_id": "160a7c9cdde1402cb972767740c97dff",
       "version_major": 2,
       "version_minor": 0
      },
      "text/plain": [
       "timesteps:   0%|          | 0/11231 [00:00<?, ?it/s]"
      ]
     },
     "metadata": {},
     "output_type": "display_data"
    },
    {
     "data": {
      "application/vnd.jupyter.widget-view+json": {
       "model_id": "65eece6728d04ffaa33f9e15913c3a8d",
       "version_major": 2,
       "version_minor": 0
      },
      "text/plain": [
       "timesteps:   0%|          | 0/11231 [00:00<?, ?it/s]"
      ]
     },
     "metadata": {},
     "output_type": "display_data"
    },
    {
     "data": {
      "application/vnd.jupyter.widget-view+json": {
       "model_id": "7e75b7a6ce39468eb27fd38b3a6178e2",
       "version_major": 2,
       "version_minor": 0
      },
      "text/plain": [
       "timesteps:   0%|          | 0/11231 [00:00<?, ?it/s]"
      ]
     },
     "metadata": {},
     "output_type": "display_data"
    },
    {
     "name": "stdout",
     "output_type": "stream",
     "text": [
      "53 of 5000, minimal objective function=1.36221, time remaining: 00:24:24\n"
     ]
    },
    {
     "data": {
      "application/vnd.jupyter.widget-view+json": {
       "model_id": "1235fa18dd9043c884c1f5dbb5c56275",
       "version_major": 2,
       "version_minor": 0
      },
      "text/plain": [
       "timesteps:   0%|          | 0/11231 [00:00<?, ?it/s]"
      ]
     },
     "metadata": {},
     "output_type": "display_data"
    },
    {
     "data": {
      "application/vnd.jupyter.widget-view+json": {
       "model_id": "43dc1ff0531d4071ab82914244d6f528",
       "version_major": 2,
       "version_minor": 0
      },
      "text/plain": [
       "timesteps:   0%|          | 0/11231 [00:00<?, ?it/s]"
      ]
     },
     "metadata": {},
     "output_type": "display_data"
    },
    {
     "data": {
      "application/vnd.jupyter.widget-view+json": {
       "model_id": "006cf8a3a2514406b58725d5c2fbe60c",
       "version_major": 2,
       "version_minor": 0
      },
      "text/plain": [
       "timesteps:   0%|          | 0/11231 [00:00<?, ?it/s]"
      ]
     },
     "metadata": {},
     "output_type": "display_data"
    },
    {
     "data": {
      "application/vnd.jupyter.widget-view+json": {
       "model_id": "3f19b31f08964318a94ddcdf37a2a164",
       "version_major": 2,
       "version_minor": 0
      },
      "text/plain": [
       "timesteps:   0%|          | 0/11231 [00:00<?, ?it/s]"
      ]
     },
     "metadata": {},
     "output_type": "display_data"
    },
    {
     "data": {
      "application/vnd.jupyter.widget-view+json": {
       "model_id": "2e7e1c99d94c4b598067ec6cb05dff49",
       "version_major": 2,
       "version_minor": 0
      },
      "text/plain": [
       "timesteps:   0%|          | 0/11231 [00:00<?, ?it/s]"
      ]
     },
     "metadata": {},
     "output_type": "display_data"
    },
    {
     "data": {
      "application/vnd.jupyter.widget-view+json": {
       "model_id": "741cd56171e14289ba289a61244f65c5",
       "version_major": 2,
       "version_minor": 0
      },
      "text/plain": [
       "timesteps:   0%|          | 0/11231 [00:00<?, ?it/s]"
      ]
     },
     "metadata": {},
     "output_type": "display_data"
    },
    {
     "data": {
      "application/vnd.jupyter.widget-view+json": {
       "model_id": "fda36c6fe2c94b6cb8ec7070a9431ad1",
       "version_major": 2,
       "version_minor": 0
      },
      "text/plain": [
       "timesteps:   0%|          | 0/11231 [00:00<?, ?it/s]"
      ]
     },
     "metadata": {},
     "output_type": "display_data"
    },
    {
     "name": "stdout",
     "output_type": "stream",
     "text": [
      "65 of 5000, minimal objective function=1.36208, time remaining: 00:23:12\n",
      "ComplexEvo loop #2 in progress...\n"
     ]
    },
    {
     "data": {
      "application/vnd.jupyter.widget-view+json": {
       "model_id": "d9f404c719554a9da2397389f6c292c0",
       "version_major": 2,
       "version_minor": 0
      },
      "text/plain": [
       "timesteps:   0%|          | 0/11231 [00:00<?, ?it/s]"
      ]
     },
     "metadata": {},
     "output_type": "display_data"
    },
    {
     "data": {
      "application/vnd.jupyter.widget-view+json": {
       "model_id": "ecbc43f97aee488bb6dc6f57ee98c151",
       "version_major": 2,
       "version_minor": 0
      },
      "text/plain": [
       "timesteps:   0%|          | 0/11231 [00:00<?, ?it/s]"
      ]
     },
     "metadata": {},
     "output_type": "display_data"
    },
    {
     "data": {
      "application/vnd.jupyter.widget-view+json": {
       "model_id": "48fdc8dae2734ba58105941a0f94120f",
       "version_major": 2,
       "version_minor": 0
      },
      "text/plain": [
       "timesteps:   0%|          | 0/11231 [00:00<?, ?it/s]"
      ]
     },
     "metadata": {},
     "output_type": "display_data"
    },
    {
     "data": {
      "application/vnd.jupyter.widget-view+json": {
       "model_id": "423a0128a5fe4a4cbdcd8b3020d4cb9e",
       "version_major": 2,
       "version_minor": 0
      },
      "text/plain": [
       "timesteps:   0%|          | 0/11231 [00:00<?, ?it/s]"
      ]
     },
     "metadata": {},
     "output_type": "display_data"
    },
    {
     "data": {
      "application/vnd.jupyter.widget-view+json": {
       "model_id": "ee91bfcd16ef41d1847b2b957394cd80",
       "version_major": 2,
       "version_minor": 0
      },
      "text/plain": [
       "timesteps:   0%|          | 0/11231 [00:00<?, ?it/s]"
      ]
     },
     "metadata": {},
     "output_type": "display_data"
    },
    {
     "data": {
      "application/vnd.jupyter.widget-view+json": {
       "model_id": "9128d964fbee4496b20ce10e0b5ebcc2",
       "version_major": 2,
       "version_minor": 0
      },
      "text/plain": [
       "timesteps:   0%|          | 0/11231 [00:00<?, ?it/s]"
      ]
     },
     "metadata": {},
     "output_type": "display_data"
    },
    {
     "data": {
      "application/vnd.jupyter.widget-view+json": {
       "model_id": "b24e13bcdf554c87948ee9979533e6cb",
       "version_major": 2,
       "version_minor": 0
      },
      "text/plain": [
       "timesteps:   0%|          | 0/11231 [00:00<?, ?it/s]"
      ]
     },
     "metadata": {},
     "output_type": "display_data"
    },
    {
     "data": {
      "application/vnd.jupyter.widget-view+json": {
       "model_id": "b7a5a479b1944caf970f74d2358a73eb",
       "version_major": 2,
       "version_minor": 0
      },
      "text/plain": [
       "timesteps:   0%|          | 0/11231 [00:00<?, ?it/s]"
      ]
     },
     "metadata": {},
     "output_type": "display_data"
    },
    {
     "data": {
      "application/vnd.jupyter.widget-view+json": {
       "model_id": "2e4e36bacd7f401ab00e2b360d260f51",
       "version_major": 2,
       "version_minor": 0
      },
      "text/plain": [
       "timesteps:   0%|          | 0/11231 [00:00<?, ?it/s]"
      ]
     },
     "metadata": {},
     "output_type": "display_data"
    },
    {
     "data": {
      "application/vnd.jupyter.widget-view+json": {
       "model_id": "edcdbcf173ab45a7854ae27200c4a094",
       "version_major": 2,
       "version_minor": 0
      },
      "text/plain": [
       "timesteps:   0%|          | 0/11231 [00:00<?, ?it/s]"
      ]
     },
     "metadata": {},
     "output_type": "display_data"
    },
    {
     "name": "stdout",
     "output_type": "stream",
     "text": [
      "80 of 5000, minimal objective function=1.36208, time remaining: 00:22:37\n"
     ]
    },
    {
     "data": {
      "application/vnd.jupyter.widget-view+json": {
       "model_id": "384b03d326ea44aa9993cccfebd7c155",
       "version_major": 2,
       "version_minor": 0
      },
      "text/plain": [
       "timesteps:   0%|          | 0/11231 [00:00<?, ?it/s]"
      ]
     },
     "metadata": {},
     "output_type": "display_data"
    },
    {
     "data": {
      "application/vnd.jupyter.widget-view+json": {
       "model_id": "8cc6997c434d4734ab308b47099657c0",
       "version_major": 2,
       "version_minor": 0
      },
      "text/plain": [
       "timesteps:   0%|          | 0/11231 [00:00<?, ?it/s]"
      ]
     },
     "metadata": {},
     "output_type": "display_data"
    },
    {
     "data": {
      "application/vnd.jupyter.widget-view+json": {
       "model_id": "44f080321dcb495dad342334e2f8072c",
       "version_major": 2,
       "version_minor": 0
      },
      "text/plain": [
       "timesteps:   0%|          | 0/11231 [00:00<?, ?it/s]"
      ]
     },
     "metadata": {},
     "output_type": "display_data"
    },
    {
     "data": {
      "application/vnd.jupyter.widget-view+json": {
       "model_id": "af3821a6693749ccabc3dfcc49c51f4c",
       "version_major": 2,
       "version_minor": 0
      },
      "text/plain": [
       "timesteps:   0%|          | 0/11231 [00:00<?, ?it/s]"
      ]
     },
     "metadata": {},
     "output_type": "display_data"
    },
    {
     "data": {
      "application/vnd.jupyter.widget-view+json": {
       "model_id": "92139fa560e24086855bf992a6974b38",
       "version_major": 2,
       "version_minor": 0
      },
      "text/plain": [
       "timesteps:   0%|          | 0/11231 [00:00<?, ?it/s]"
      ]
     },
     "metadata": {},
     "output_type": "display_data"
    },
    {
     "data": {
      "application/vnd.jupyter.widget-view+json": {
       "model_id": "50ae0082a01d423293e4204527d3ca12",
       "version_major": 2,
       "version_minor": 0
      },
      "text/plain": [
       "timesteps:   0%|          | 0/11231 [00:00<?, ?it/s]"
      ]
     },
     "metadata": {},
     "output_type": "display_data"
    },
    {
     "data": {
      "application/vnd.jupyter.widget-view+json": {
       "model_id": "ec114a9a08534a92953efb6d632a8370",
       "version_major": 2,
       "version_minor": 0
      },
      "text/plain": [
       "timesteps:   0%|          | 0/11231 [00:00<?, ?it/s]"
      ]
     },
     "metadata": {},
     "output_type": "display_data"
    },
    {
     "data": {
      "application/vnd.jupyter.widget-view+json": {
       "model_id": "0938fe45cf9d433aabf44065f81722d3",
       "version_major": 2,
       "version_minor": 0
      },
      "text/plain": [
       "timesteps:   0%|          | 0/11231 [00:00<?, ?it/s]"
      ]
     },
     "metadata": {},
     "output_type": "display_data"
    },
    {
     "data": {
      "application/vnd.jupyter.widget-view+json": {
       "model_id": "2e83ed9559b74f2d8d8b176073a5d895",
       "version_major": 2,
       "version_minor": 0
      },
      "text/plain": [
       "timesteps:   0%|          | 0/11231 [00:00<?, ?it/s]"
      ]
     },
     "metadata": {},
     "output_type": "display_data"
    },
    {
     "data": {
      "application/vnd.jupyter.widget-view+json": {
       "model_id": "136604c1da6b44db9ef03935e4f2ffca",
       "version_major": 2,
       "version_minor": 0
      },
      "text/plain": [
       "timesteps:   0%|          | 0/11231 [00:00<?, ?it/s]"
      ]
     },
     "metadata": {},
     "output_type": "display_data"
    },
    {
     "name": "stdout",
     "output_type": "stream",
     "text": [
      "95 of 5000, minimal objective function=1.36208, time remaining: 00:22:22\n"
     ]
    },
    {
     "data": {
      "application/vnd.jupyter.widget-view+json": {
       "model_id": "7061c60bc1e64c1a982b9e7c86c69878",
       "version_major": 2,
       "version_minor": 0
      },
      "text/plain": [
       "timesteps:   0%|          | 0/11231 [00:00<?, ?it/s]"
      ]
     },
     "metadata": {},
     "output_type": "display_data"
    },
    {
     "data": {
      "application/vnd.jupyter.widget-view+json": {
       "model_id": "bc6c67a55da349bf8dba6e2dfe7f9518",
       "version_major": 2,
       "version_minor": 0
      },
      "text/plain": [
       "timesteps:   0%|          | 0/11231 [00:00<?, ?it/s]"
      ]
     },
     "metadata": {},
     "output_type": "display_data"
    },
    {
     "data": {
      "application/vnd.jupyter.widget-view+json": {
       "model_id": "ef01b22593684c4fb82f54fee3b0ba62",
       "version_major": 2,
       "version_minor": 0
      },
      "text/plain": [
       "timesteps:   0%|          | 0/11231 [00:00<?, ?it/s]"
      ]
     },
     "metadata": {},
     "output_type": "display_data"
    },
    {
     "data": {
      "application/vnd.jupyter.widget-view+json": {
       "model_id": "d870488367054355a3e3abf2f7cb94d9",
       "version_major": 2,
       "version_minor": 0
      },
      "text/plain": [
       "timesteps:   0%|          | 0/11231 [00:00<?, ?it/s]"
      ]
     },
     "metadata": {},
     "output_type": "display_data"
    },
    {
     "data": {
      "application/vnd.jupyter.widget-view+json": {
       "model_id": "4b7193315d044138a1d621602401c5ca",
       "version_major": 2,
       "version_minor": 0
      },
      "text/plain": [
       "timesteps:   0%|          | 0/11231 [00:00<?, ?it/s]"
      ]
     },
     "metadata": {},
     "output_type": "display_data"
    },
    {
     "data": {
      "application/vnd.jupyter.widget-view+json": {
       "model_id": "4e931f3900ca4729a8a0ddc48c1d72cd",
       "version_major": 2,
       "version_minor": 0
      },
      "text/plain": [
       "timesteps:   0%|          | 0/11231 [00:00<?, ?it/s]"
      ]
     },
     "metadata": {},
     "output_type": "display_data"
    },
    {
     "data": {
      "application/vnd.jupyter.widget-view+json": {
       "model_id": "eee652cdb8064e06a3828e56586fc3aa",
       "version_major": 2,
       "version_minor": 0
      },
      "text/plain": [
       "timesteps:   0%|          | 0/11231 [00:00<?, ?it/s]"
      ]
     },
     "metadata": {},
     "output_type": "display_data"
    },
    {
     "data": {
      "application/vnd.jupyter.widget-view+json": {
       "model_id": "a9bd1a63a341498189d5ed06f3f05c2b",
       "version_major": 2,
       "version_minor": 0
      },
      "text/plain": [
       "timesteps:   0%|          | 0/11231 [00:00<?, ?it/s]"
      ]
     },
     "metadata": {},
     "output_type": "display_data"
    },
    {
     "data": {
      "application/vnd.jupyter.widget-view+json": {
       "model_id": "f0dc0b86289945ab9fa0026c141c42e4",
       "version_major": 2,
       "version_minor": 0
      },
      "text/plain": [
       "timesteps:   0%|          | 0/11231 [00:00<?, ?it/s]"
      ]
     },
     "metadata": {},
     "output_type": "display_data"
    },
    {
     "name": "stdout",
     "output_type": "stream",
     "text": [
      "109 of 5000, minimal objective function=1.36208, time remaining: 00:21:58\n"
     ]
    },
    {
     "data": {
      "application/vnd.jupyter.widget-view+json": {
       "model_id": "af64e9ed5d6c4de2b10afe06eebfe3f1",
       "version_major": 2,
       "version_minor": 0
      },
      "text/plain": [
       "timesteps:   0%|          | 0/11231 [00:00<?, ?it/s]"
      ]
     },
     "metadata": {},
     "output_type": "display_data"
    },
    {
     "data": {
      "application/vnd.jupyter.widget-view+json": {
       "model_id": "785b3df20d4848b9a0a352f992811ef7",
       "version_major": 2,
       "version_minor": 0
      },
      "text/plain": [
       "timesteps:   0%|          | 0/11231 [00:00<?, ?it/s]"
      ]
     },
     "metadata": {},
     "output_type": "display_data"
    },
    {
     "data": {
      "application/vnd.jupyter.widget-view+json": {
       "model_id": "bda7da72a1304f1c84a0176951d338ad",
       "version_major": 2,
       "version_minor": 0
      },
      "text/plain": [
       "timesteps:   0%|          | 0/11231 [00:00<?, ?it/s]"
      ]
     },
     "metadata": {},
     "output_type": "display_data"
    },
    {
     "data": {
      "application/vnd.jupyter.widget-view+json": {
       "model_id": "8ce921bf76df4fc68e46c9760d2ef557",
       "version_major": 2,
       "version_minor": 0
      },
      "text/plain": [
       "timesteps:   0%|          | 0/11231 [00:00<?, ?it/s]"
      ]
     },
     "metadata": {},
     "output_type": "display_data"
    },
    {
     "data": {
      "application/vnd.jupyter.widget-view+json": {
       "model_id": "7bbc156f518444f291194ab4e6a96a0d",
       "version_major": 2,
       "version_minor": 0
      },
      "text/plain": [
       "timesteps:   0%|          | 0/11231 [00:00<?, ?it/s]"
      ]
     },
     "metadata": {},
     "output_type": "display_data"
    },
    {
     "data": {
      "application/vnd.jupyter.widget-view+json": {
       "model_id": "02cce195009240bba36465ff2bd0f27e",
       "version_major": 2,
       "version_minor": 0
      },
      "text/plain": [
       "timesteps:   0%|          | 0/11231 [00:00<?, ?it/s]"
      ]
     },
     "metadata": {},
     "output_type": "display_data"
    },
    {
     "data": {
      "application/vnd.jupyter.widget-view+json": {
       "model_id": "71cda5f9405a4da0a18c56d048d90bc7",
       "version_major": 2,
       "version_minor": 0
      },
      "text/plain": [
       "timesteps:   0%|          | 0/11231 [00:00<?, ?it/s]"
      ]
     },
     "metadata": {},
     "output_type": "display_data"
    },
    {
     "name": "stdout",
     "output_type": "stream",
     "text": [
      "121 of 5000, minimal objective function=1.36208, time remaining: 00:21:29\n",
      "ComplexEvo loop #3 in progress...\n"
     ]
    },
    {
     "data": {
      "application/vnd.jupyter.widget-view+json": {
       "model_id": "95975d799dce4fc483db99f878a49995",
       "version_major": 2,
       "version_minor": 0
      },
      "text/plain": [
       "timesteps:   0%|          | 0/11231 [00:00<?, ?it/s]"
      ]
     },
     "metadata": {},
     "output_type": "display_data"
    },
    {
     "data": {
      "application/vnd.jupyter.widget-view+json": {
       "model_id": "41f1eaa47aed462eb2f6b3ae557511bb",
       "version_major": 2,
       "version_minor": 0
      },
      "text/plain": [
       "timesteps:   0%|          | 0/11231 [00:00<?, ?it/s]"
      ]
     },
     "metadata": {},
     "output_type": "display_data"
    },
    {
     "data": {
      "application/vnd.jupyter.widget-view+json": {
       "model_id": "ac0b2035352e4cdd85d14e931e839b9e",
       "version_major": 2,
       "version_minor": 0
      },
      "text/plain": [
       "timesteps:   0%|          | 0/11231 [00:00<?, ?it/s]"
      ]
     },
     "metadata": {},
     "output_type": "display_data"
    },
    {
     "data": {
      "application/vnd.jupyter.widget-view+json": {
       "model_id": "c1a4bb35d779492991006d8aeb6dbf13",
       "version_major": 2,
       "version_minor": 0
      },
      "text/plain": [
       "timesteps:   0%|          | 0/11231 [00:00<?, ?it/s]"
      ]
     },
     "metadata": {},
     "output_type": "display_data"
    },
    {
     "data": {
      "application/vnd.jupyter.widget-view+json": {
       "model_id": "20c97e6a5d184d069c04f260f4ad3ef0",
       "version_major": 2,
       "version_minor": 0
      },
      "text/plain": [
       "timesteps:   0%|          | 0/11231 [00:00<?, ?it/s]"
      ]
     },
     "metadata": {},
     "output_type": "display_data"
    },
    {
     "data": {
      "application/vnd.jupyter.widget-view+json": {
       "model_id": "14246c7e343e4ccb9c316a60a960382e",
       "version_major": 2,
       "version_minor": 0
      },
      "text/plain": [
       "timesteps:   0%|          | 0/11231 [00:00<?, ?it/s]"
      ]
     },
     "metadata": {},
     "output_type": "display_data"
    },
    {
     "data": {
      "application/vnd.jupyter.widget-view+json": {
       "model_id": "2b4bcba73bc946fead5d1cfca651fb35",
       "version_major": 2,
       "version_minor": 0
      },
      "text/plain": [
       "timesteps:   0%|          | 0/11231 [00:00<?, ?it/s]"
      ]
     },
     "metadata": {},
     "output_type": "display_data"
    },
    {
     "data": {
      "application/vnd.jupyter.widget-view+json": {
       "model_id": "209c71d9cd4746c283e3810b3c611372",
       "version_major": 2,
       "version_minor": 0
      },
      "text/plain": [
       "timesteps:   0%|          | 0/11231 [00:00<?, ?it/s]"
      ]
     },
     "metadata": {},
     "output_type": "display_data"
    },
    {
     "name": "stdout",
     "output_type": "stream",
     "text": [
      "134 of 5000, minimal objective function=1.36208, time remaining: 00:21:10\n"
     ]
    },
    {
     "data": {
      "application/vnd.jupyter.widget-view+json": {
       "model_id": "accb3069897a485e9c21f976c083c039",
       "version_major": 2,
       "version_minor": 0
      },
      "text/plain": [
       "timesteps:   0%|          | 0/11231 [00:00<?, ?it/s]"
      ]
     },
     "metadata": {},
     "output_type": "display_data"
    },
    {
     "data": {
      "application/vnd.jupyter.widget-view+json": {
       "model_id": "214f5a52ddb7472dbc0140e055049fd1",
       "version_major": 2,
       "version_minor": 0
      },
      "text/plain": [
       "timesteps:   0%|          | 0/11231 [00:00<?, ?it/s]"
      ]
     },
     "metadata": {},
     "output_type": "display_data"
    },
    {
     "data": {
      "application/vnd.jupyter.widget-view+json": {
       "model_id": "e9ec8afec95a45699892c7feaefdf2d4",
       "version_major": 2,
       "version_minor": 0
      },
      "text/plain": [
       "timesteps:   0%|          | 0/11231 [00:00<?, ?it/s]"
      ]
     },
     "metadata": {},
     "output_type": "display_data"
    },
    {
     "data": {
      "application/vnd.jupyter.widget-view+json": {
       "model_id": "d6da5bc8798142f29b601d200cd4c2ee",
       "version_major": 2,
       "version_minor": 0
      },
      "text/plain": [
       "timesteps:   0%|          | 0/11231 [00:00<?, ?it/s]"
      ]
     },
     "metadata": {},
     "output_type": "display_data"
    },
    {
     "data": {
      "application/vnd.jupyter.widget-view+json": {
       "model_id": "76b01069eaf740bfbea4c40b5f7c2cb7",
       "version_major": 2,
       "version_minor": 0
      },
      "text/plain": [
       "timesteps:   0%|          | 0/11231 [00:00<?, ?it/s]"
      ]
     },
     "metadata": {},
     "output_type": "display_data"
    },
    {
     "data": {
      "application/vnd.jupyter.widget-view+json": {
       "model_id": "f3210e37f7cf4265a32ecb1717411542",
       "version_major": 2,
       "version_minor": 0
      },
      "text/plain": [
       "timesteps:   0%|          | 0/11231 [00:00<?, ?it/s]"
      ]
     },
     "metadata": {},
     "output_type": "display_data"
    },
    {
     "data": {
      "application/vnd.jupyter.widget-view+json": {
       "model_id": "77b3efa23dc94963b6a24d5d589c4bc2",
       "version_major": 2,
       "version_minor": 0
      },
      "text/plain": [
       "timesteps:   0%|          | 0/11231 [00:00<?, ?it/s]"
      ]
     },
     "metadata": {},
     "output_type": "display_data"
    },
    {
     "data": {
      "application/vnd.jupyter.widget-view+json": {
       "model_id": "4e78833bf9e24697bf6dd3db5281c13b",
       "version_major": 2,
       "version_minor": 0
      },
      "text/plain": [
       "timesteps:   0%|          | 0/11231 [00:00<?, ?it/s]"
      ]
     },
     "metadata": {},
     "output_type": "display_data"
    },
    {
     "data": {
      "application/vnd.jupyter.widget-view+json": {
       "model_id": "e5b5828f625e4a548af28e7fae9a420e",
       "version_major": 2,
       "version_minor": 0
      },
      "text/plain": [
       "timesteps:   0%|          | 0/11231 [00:00<?, ?it/s]"
      ]
     },
     "metadata": {},
     "output_type": "display_data"
    },
    {
     "name": "stdout",
     "output_type": "stream",
     "text": [
      "148 of 5000, minimal objective function=1.36208, time remaining: 00:21:05\n"
     ]
    },
    {
     "data": {
      "application/vnd.jupyter.widget-view+json": {
       "model_id": "aeb6b916de6847258898857fe932b69e",
       "version_major": 2,
       "version_minor": 0
      },
      "text/plain": [
       "timesteps:   0%|          | 0/11231 [00:00<?, ?it/s]"
      ]
     },
     "metadata": {},
     "output_type": "display_data"
    },
    {
     "data": {
      "application/vnd.jupyter.widget-view+json": {
       "model_id": "fa7934cc7d1246b28e1c2d3ced5235f3",
       "version_major": 2,
       "version_minor": 0
      },
      "text/plain": [
       "timesteps:   0%|          | 0/11231 [00:00<?, ?it/s]"
      ]
     },
     "metadata": {},
     "output_type": "display_data"
    },
    {
     "data": {
      "application/vnd.jupyter.widget-view+json": {
       "model_id": "fad01fcad38c48db8fc96fcf10879d46",
       "version_major": 2,
       "version_minor": 0
      },
      "text/plain": [
       "timesteps:   0%|          | 0/11231 [00:00<?, ?it/s]"
      ]
     },
     "metadata": {},
     "output_type": "display_data"
    },
    {
     "data": {
      "application/vnd.jupyter.widget-view+json": {
       "model_id": "fcb20a7ae33a4631beba748825de5be6",
       "version_major": 2,
       "version_minor": 0
      },
      "text/plain": [
       "timesteps:   0%|          | 0/11231 [00:00<?, ?it/s]"
      ]
     },
     "metadata": {},
     "output_type": "display_data"
    },
    {
     "data": {
      "application/vnd.jupyter.widget-view+json": {
       "model_id": "9e425a2f6de1493d95a5fc9412fb59c9",
       "version_major": 2,
       "version_minor": 0
      },
      "text/plain": [
       "timesteps:   0%|          | 0/11231 [00:00<?, ?it/s]"
      ]
     },
     "metadata": {},
     "output_type": "display_data"
    },
    {
     "data": {
      "application/vnd.jupyter.widget-view+json": {
       "model_id": "db99240c3c554ddda1db1d801416dba8",
       "version_major": 2,
       "version_minor": 0
      },
      "text/plain": [
       "timesteps:   0%|          | 0/11231 [00:00<?, ?it/s]"
      ]
     },
     "metadata": {},
     "output_type": "display_data"
    },
    {
     "data": {
      "application/vnd.jupyter.widget-view+json": {
       "model_id": "d13842bf713549f6a9a188ad340fbc1f",
       "version_major": 2,
       "version_minor": 0
      },
      "text/plain": [
       "timesteps:   0%|          | 0/11231 [00:00<?, ?it/s]"
      ]
     },
     "metadata": {},
     "output_type": "display_data"
    },
    {
     "name": "stdout",
     "output_type": "stream",
     "text": [
      "160 of 5000, minimal objective function=1.36208, time remaining: 00:20:47\n"
     ]
    },
    {
     "data": {
      "application/vnd.jupyter.widget-view+json": {
       "model_id": "09e8943e2814499b90aad9d9531be7e1",
       "version_major": 2,
       "version_minor": 0
      },
      "text/plain": [
       "timesteps:   0%|          | 0/11231 [00:00<?, ?it/s]"
      ]
     },
     "metadata": {},
     "output_type": "display_data"
    },
    {
     "data": {
      "application/vnd.jupyter.widget-view+json": {
       "model_id": "62eac4d9f02e4dcbb5b175005eba6ba9",
       "version_major": 2,
       "version_minor": 0
      },
      "text/plain": [
       "timesteps:   0%|          | 0/11231 [00:00<?, ?it/s]"
      ]
     },
     "metadata": {},
     "output_type": "display_data"
    },
    {
     "data": {
      "application/vnd.jupyter.widget-view+json": {
       "model_id": "22f40b3e69624ce1ae42999fef8dc7e0",
       "version_major": 2,
       "version_minor": 0
      },
      "text/plain": [
       "timesteps:   0%|          | 0/11231 [00:00<?, ?it/s]"
      ]
     },
     "metadata": {},
     "output_type": "display_data"
    },
    {
     "data": {
      "application/vnd.jupyter.widget-view+json": {
       "model_id": "9aa56c1970bb4edaa2cffbe868944b11",
       "version_major": 2,
       "version_minor": 0
      },
      "text/plain": [
       "timesteps:   0%|          | 0/11231 [00:00<?, ?it/s]"
      ]
     },
     "metadata": {},
     "output_type": "display_data"
    },
    {
     "data": {
      "application/vnd.jupyter.widget-view+json": {
       "model_id": "2914d573dc0c4c2ea13cca88d1dcdadf",
       "version_major": 2,
       "version_minor": 0
      },
      "text/plain": [
       "timesteps:   0%|          | 0/11231 [00:00<?, ?it/s]"
      ]
     },
     "metadata": {},
     "output_type": "display_data"
    },
    {
     "data": {
      "application/vnd.jupyter.widget-view+json": {
       "model_id": "e93b22129a6a409ebaf0d8c873372e2b",
       "version_major": 2,
       "version_minor": 0
      },
      "text/plain": [
       "timesteps:   0%|          | 0/11231 [00:00<?, ?it/s]"
      ]
     },
     "metadata": {},
     "output_type": "display_data"
    },
    {
     "data": {
      "application/vnd.jupyter.widget-view+json": {
       "model_id": "ab62bd66b88943c0a0b89e32c223c698",
       "version_major": 2,
       "version_minor": 0
      },
      "text/plain": [
       "timesteps:   0%|          | 0/11231 [00:00<?, ?it/s]"
      ]
     },
     "metadata": {},
     "output_type": "display_data"
    },
    {
     "data": {
      "application/vnd.jupyter.widget-view+json": {
       "model_id": "a3302610fea342e88d5b2af7ac0baa98",
       "version_major": 2,
       "version_minor": 0
      },
      "text/plain": [
       "timesteps:   0%|          | 0/11231 [00:00<?, ?it/s]"
      ]
     },
     "metadata": {},
     "output_type": "display_data"
    },
    {
     "data": {
      "application/vnd.jupyter.widget-view+json": {
       "model_id": "5b28ab58a87f4633ae1f90f34a4f9cbd",
       "version_major": 2,
       "version_minor": 0
      },
      "text/plain": [
       "timesteps:   0%|          | 0/11231 [00:00<?, ?it/s]"
      ]
     },
     "metadata": {},
     "output_type": "display_data"
    },
    {
     "name": "stdout",
     "output_type": "stream",
     "text": [
      "174 of 5000, minimal objective function=1.36208, time remaining: 00:20:36\n",
      "ComplexEvo loop #4 in progress...\n"
     ]
    },
    {
     "data": {
      "application/vnd.jupyter.widget-view+json": {
       "model_id": "5c4ba56841414ef18c07adc986e5591f",
       "version_major": 2,
       "version_minor": 0
      },
      "text/plain": [
       "timesteps:   0%|          | 0/11231 [00:00<?, ?it/s]"
      ]
     },
     "metadata": {},
     "output_type": "display_data"
    },
    {
     "data": {
      "application/vnd.jupyter.widget-view+json": {
       "model_id": "6e0d3898020b405eba4e69777aa812fd",
       "version_major": 2,
       "version_minor": 0
      },
      "text/plain": [
       "timesteps:   0%|          | 0/11231 [00:00<?, ?it/s]"
      ]
     },
     "metadata": {},
     "output_type": "display_data"
    },
    {
     "data": {
      "application/vnd.jupyter.widget-view+json": {
       "model_id": "a58a9e1f50104cb39ec1de80cbf01d21",
       "version_major": 2,
       "version_minor": 0
      },
      "text/plain": [
       "timesteps:   0%|          | 0/11231 [00:00<?, ?it/s]"
      ]
     },
     "metadata": {},
     "output_type": "display_data"
    },
    {
     "data": {
      "application/vnd.jupyter.widget-view+json": {
       "model_id": "ffcab27fa7fc45e4ad852cb543479184",
       "version_major": 2,
       "version_minor": 0
      },
      "text/plain": [
       "timesteps:   0%|          | 0/11231 [00:00<?, ?it/s]"
      ]
     },
     "metadata": {},
     "output_type": "display_data"
    },
    {
     "data": {
      "application/vnd.jupyter.widget-view+json": {
       "model_id": "63595b038f974b2cb9ef92891966dca8",
       "version_major": 2,
       "version_minor": 0
      },
      "text/plain": [
       "timesteps:   0%|          | 0/11231 [00:00<?, ?it/s]"
      ]
     },
     "metadata": {},
     "output_type": "display_data"
    },
    {
     "data": {
      "application/vnd.jupyter.widget-view+json": {
       "model_id": "474d9d1df33b42b4af33d7800628ef9d",
       "version_major": 2,
       "version_minor": 0
      },
      "text/plain": [
       "timesteps:   0%|          | 0/11231 [00:00<?, ?it/s]"
      ]
     },
     "metadata": {},
     "output_type": "display_data"
    },
    {
     "data": {
      "application/vnd.jupyter.widget-view+json": {
       "model_id": "f2c6fce514064a7b94ebe1ab20c3676b",
       "version_major": 2,
       "version_minor": 0
      },
      "text/plain": [
       "timesteps:   0%|          | 0/11231 [00:00<?, ?it/s]"
      ]
     },
     "metadata": {},
     "output_type": "display_data"
    },
    {
     "data": {
      "application/vnd.jupyter.widget-view+json": {
       "model_id": "e288b290ff024477ab92321f54663a38",
       "version_major": 2,
       "version_minor": 0
      },
      "text/plain": [
       "timesteps:   0%|          | 0/11231 [00:00<?, ?it/s]"
      ]
     },
     "metadata": {},
     "output_type": "display_data"
    },
    {
     "name": "stdout",
     "output_type": "stream",
     "text": [
      "187 of 5000, minimal objective function=1.36208, time remaining: 00:20:23\n"
     ]
    },
    {
     "data": {
      "application/vnd.jupyter.widget-view+json": {
       "model_id": "9defae0990d0422087c1b711662971c5",
       "version_major": 2,
       "version_minor": 0
      },
      "text/plain": [
       "timesteps:   0%|          | 0/11231 [00:00<?, ?it/s]"
      ]
     },
     "metadata": {},
     "output_type": "display_data"
    },
    {
     "data": {
      "application/vnd.jupyter.widget-view+json": {
       "model_id": "6812bf24e62640a3b046516b04a2ab19",
       "version_major": 2,
       "version_minor": 0
      },
      "text/plain": [
       "timesteps:   0%|          | 0/11231 [00:00<?, ?it/s]"
      ]
     },
     "metadata": {},
     "output_type": "display_data"
    },
    {
     "data": {
      "application/vnd.jupyter.widget-view+json": {
       "model_id": "a43cec5b04384ae8a536b14427f19e41",
       "version_major": 2,
       "version_minor": 0
      },
      "text/plain": [
       "timesteps:   0%|          | 0/11231 [00:00<?, ?it/s]"
      ]
     },
     "metadata": {},
     "output_type": "display_data"
    },
    {
     "data": {
      "application/vnd.jupyter.widget-view+json": {
       "model_id": "f2fed8fa66d248269e2d12eaf8e269bd",
       "version_major": 2,
       "version_minor": 0
      },
      "text/plain": [
       "timesteps:   0%|          | 0/11231 [00:00<?, ?it/s]"
      ]
     },
     "metadata": {},
     "output_type": "display_data"
    },
    {
     "data": {
      "application/vnd.jupyter.widget-view+json": {
       "model_id": "77975037e3254e68b2004693fcfb368e",
       "version_major": 2,
       "version_minor": 0
      },
      "text/plain": [
       "timesteps:   0%|          | 0/11231 [00:00<?, ?it/s]"
      ]
     },
     "metadata": {},
     "output_type": "display_data"
    },
    {
     "data": {
      "application/vnd.jupyter.widget-view+json": {
       "model_id": "535a340d802a4540af6c3ea72b307b57",
       "version_major": 2,
       "version_minor": 0
      },
      "text/plain": [
       "timesteps:   0%|          | 0/11231 [00:00<?, ?it/s]"
      ]
     },
     "metadata": {},
     "output_type": "display_data"
    },
    {
     "data": {
      "application/vnd.jupyter.widget-view+json": {
       "model_id": "4bf4fc4137dd48cd87515bd9bdda9830",
       "version_major": 2,
       "version_minor": 0
      },
      "text/plain": [
       "timesteps:   0%|          | 0/11231 [00:00<?, ?it/s]"
      ]
     },
     "metadata": {},
     "output_type": "display_data"
    },
    {
     "data": {
      "application/vnd.jupyter.widget-view+json": {
       "model_id": "91bd9c587c574dae9144d29f08325e7c",
       "version_major": 2,
       "version_minor": 0
      },
      "text/plain": [
       "timesteps:   0%|          | 0/11231 [00:00<?, ?it/s]"
      ]
     },
     "metadata": {},
     "output_type": "display_data"
    },
    {
     "data": {
      "application/vnd.jupyter.widget-view+json": {
       "model_id": "760daf167f814b85b25ac62b3bde9ce5",
       "version_major": 2,
       "version_minor": 0
      },
      "text/plain": [
       "timesteps:   0%|          | 0/11231 [00:00<?, ?it/s]"
      ]
     },
     "metadata": {},
     "output_type": "display_data"
    },
    {
     "name": "stdout",
     "output_type": "stream",
     "text": [
      "201 of 5000, minimal objective function=1.35587, time remaining: 00:20:19\n"
     ]
    },
    {
     "data": {
      "application/vnd.jupyter.widget-view+json": {
       "model_id": "9e5ce118d5db44cd94bd7a9963eaced9",
       "version_major": 2,
       "version_minor": 0
      },
      "text/plain": [
       "timesteps:   0%|          | 0/11231 [00:00<?, ?it/s]"
      ]
     },
     "metadata": {},
     "output_type": "display_data"
    },
    {
     "data": {
      "application/vnd.jupyter.widget-view+json": {
       "model_id": "727c2f4c94a54135939fda2e75caeb2f",
       "version_major": 2,
       "version_minor": 0
      },
      "text/plain": [
       "timesteps:   0%|          | 0/11231 [00:00<?, ?it/s]"
      ]
     },
     "metadata": {},
     "output_type": "display_data"
    },
    {
     "data": {
      "application/vnd.jupyter.widget-view+json": {
       "model_id": "9c15e64c22ad4ecab110da2ec6a7ea92",
       "version_major": 2,
       "version_minor": 0
      },
      "text/plain": [
       "timesteps:   0%|          | 0/11231 [00:00<?, ?it/s]"
      ]
     },
     "metadata": {},
     "output_type": "display_data"
    },
    {
     "data": {
      "application/vnd.jupyter.widget-view+json": {
       "model_id": "e7b3ec7c877c4dc0abda9ccc482311ac",
       "version_major": 2,
       "version_minor": 0
      },
      "text/plain": [
       "timesteps:   0%|          | 0/11231 [00:00<?, ?it/s]"
      ]
     },
     "metadata": {},
     "output_type": "display_data"
    },
    {
     "data": {
      "application/vnd.jupyter.widget-view+json": {
       "model_id": "1b54e1d1478c4aa3a9a1c59f8dd5b91d",
       "version_major": 2,
       "version_minor": 0
      },
      "text/plain": [
       "timesteps:   0%|          | 0/11231 [00:00<?, ?it/s]"
      ]
     },
     "metadata": {},
     "output_type": "display_data"
    },
    {
     "data": {
      "application/vnd.jupyter.widget-view+json": {
       "model_id": "236cd6d692ac4ce59f3c4c3626286da5",
       "version_major": 2,
       "version_minor": 0
      },
      "text/plain": [
       "timesteps:   0%|          | 0/11231 [00:00<?, ?it/s]"
      ]
     },
     "metadata": {},
     "output_type": "display_data"
    },
    {
     "data": {
      "application/vnd.jupyter.widget-view+json": {
       "model_id": "a53287192eb04ca1bd4e9f3b58e6d75c",
       "version_major": 2,
       "version_minor": 0
      },
      "text/plain": [
       "timesteps:   0%|          | 0/11231 [00:00<?, ?it/s]"
      ]
     },
     "metadata": {},
     "output_type": "display_data"
    },
    {
     "data": {
      "application/vnd.jupyter.widget-view+json": {
       "model_id": "fc61f365476e42369a22b353fbc40a85",
       "version_major": 2,
       "version_minor": 0
      },
      "text/plain": [
       "timesteps:   0%|          | 0/11231 [00:00<?, ?it/s]"
      ]
     },
     "metadata": {},
     "output_type": "display_data"
    },
    {
     "data": {
      "application/vnd.jupyter.widget-view+json": {
       "model_id": "11a69eceb73c4547a813544fbd738dbd",
       "version_major": 2,
       "version_minor": 0
      },
      "text/plain": [
       "timesteps:   0%|          | 0/11231 [00:00<?, ?it/s]"
      ]
     },
     "metadata": {},
     "output_type": "display_data"
    },
    {
     "name": "stdout",
     "output_type": "stream",
     "text": [
      "215 of 5000, minimal objective function=1.34418, time remaining: 00:20:10\n"
     ]
    },
    {
     "data": {
      "application/vnd.jupyter.widget-view+json": {
       "model_id": "4fdb2f0e728d418fbec8d95e791b2f37",
       "version_major": 2,
       "version_minor": 0
      },
      "text/plain": [
       "timesteps:   0%|          | 0/11231 [00:00<?, ?it/s]"
      ]
     },
     "metadata": {},
     "output_type": "display_data"
    },
    {
     "data": {
      "application/vnd.jupyter.widget-view+json": {
       "model_id": "cd6f75fe226a448e9b85de6561eb6111",
       "version_major": 2,
       "version_minor": 0
      },
      "text/plain": [
       "timesteps:   0%|          | 0/11231 [00:00<?, ?it/s]"
      ]
     },
     "metadata": {},
     "output_type": "display_data"
    },
    {
     "data": {
      "application/vnd.jupyter.widget-view+json": {
       "model_id": "c9aabeb67a8a4b33a83fe5dfde82a442",
       "version_major": 2,
       "version_minor": 0
      },
      "text/plain": [
       "timesteps:   0%|          | 0/11231 [00:00<?, ?it/s]"
      ]
     },
     "metadata": {},
     "output_type": "display_data"
    },
    {
     "data": {
      "application/vnd.jupyter.widget-view+json": {
       "model_id": "81f6e7929c704bbeb098112ad7ed465f",
       "version_major": 2,
       "version_minor": 0
      },
      "text/plain": [
       "timesteps:   0%|          | 0/11231 [00:00<?, ?it/s]"
      ]
     },
     "metadata": {},
     "output_type": "display_data"
    },
    {
     "data": {
      "application/vnd.jupyter.widget-view+json": {
       "model_id": "964d9bfe357146818d5d4ef3e1bf322b",
       "version_major": 2,
       "version_minor": 0
      },
      "text/plain": [
       "timesteps:   0%|          | 0/11231 [00:00<?, ?it/s]"
      ]
     },
     "metadata": {},
     "output_type": "display_data"
    },
    {
     "data": {
      "application/vnd.jupyter.widget-view+json": {
       "model_id": "656f6af029ce4eb397eb03d5d80fd204",
       "version_major": 2,
       "version_minor": 0
      },
      "text/plain": [
       "timesteps:   0%|          | 0/11231 [00:00<?, ?it/s]"
      ]
     },
     "metadata": {},
     "output_type": "display_data"
    },
    {
     "data": {
      "application/vnd.jupyter.widget-view+json": {
       "model_id": "5348b17564034ed0bee6ea8c1727d46a",
       "version_major": 2,
       "version_minor": 0
      },
      "text/plain": [
       "timesteps:   0%|          | 0/11231 [00:00<?, ?it/s]"
      ]
     },
     "metadata": {},
     "output_type": "display_data"
    },
    {
     "data": {
      "application/vnd.jupyter.widget-view+json": {
       "model_id": "0f8579f99f944604947de839d258756c",
       "version_major": 2,
       "version_minor": 0
      },
      "text/plain": [
       "timesteps:   0%|          | 0/11231 [00:00<?, ?it/s]"
      ]
     },
     "metadata": {},
     "output_type": "display_data"
    },
    {
     "name": "stdout",
     "output_type": "stream",
     "text": [
      "228 of 5000, minimal objective function=1.34418, time remaining: 00:20:00\n",
      "ComplexEvo loop #5 in progress...\n"
     ]
    },
    {
     "data": {
      "application/vnd.jupyter.widget-view+json": {
       "model_id": "396cad0d0d6f477db7f3adc87716aeb4",
       "version_major": 2,
       "version_minor": 0
      },
      "text/plain": [
       "timesteps:   0%|          | 0/11231 [00:00<?, ?it/s]"
      ]
     },
     "metadata": {},
     "output_type": "display_data"
    },
    {
     "data": {
      "application/vnd.jupyter.widget-view+json": {
       "model_id": "6979f1588bf644609000c6330479e58f",
       "version_major": 2,
       "version_minor": 0
      },
      "text/plain": [
       "timesteps:   0%|          | 0/11231 [00:00<?, ?it/s]"
      ]
     },
     "metadata": {},
     "output_type": "display_data"
    },
    {
     "data": {
      "application/vnd.jupyter.widget-view+json": {
       "model_id": "e5623ae2679943558b1c72ad1ec984e5",
       "version_major": 2,
       "version_minor": 0
      },
      "text/plain": [
       "timesteps:   0%|          | 0/11231 [00:00<?, ?it/s]"
      ]
     },
     "metadata": {},
     "output_type": "display_data"
    },
    {
     "data": {
      "application/vnd.jupyter.widget-view+json": {
       "model_id": "e02f5e6599c74f82a226c7888b0fe628",
       "version_major": 2,
       "version_minor": 0
      },
      "text/plain": [
       "timesteps:   0%|          | 0/11231 [00:00<?, ?it/s]"
      ]
     },
     "metadata": {},
     "output_type": "display_data"
    },
    {
     "data": {
      "application/vnd.jupyter.widget-view+json": {
       "model_id": "a81d79aa7ea64d18829a403590e26787",
       "version_major": 2,
       "version_minor": 0
      },
      "text/plain": [
       "timesteps:   0%|          | 0/11231 [00:00<?, ?it/s]"
      ]
     },
     "metadata": {},
     "output_type": "display_data"
    },
    {
     "data": {
      "application/vnd.jupyter.widget-view+json": {
       "model_id": "a1b536274bb04f9999ebae384099b017",
       "version_major": 2,
       "version_minor": 0
      },
      "text/plain": [
       "timesteps:   0%|          | 0/11231 [00:00<?, ?it/s]"
      ]
     },
     "metadata": {},
     "output_type": "display_data"
    },
    {
     "data": {
      "application/vnd.jupyter.widget-view+json": {
       "model_id": "509383f2377c4cf68f0624dd7c5199dd",
       "version_major": 2,
       "version_minor": 0
      },
      "text/plain": [
       "timesteps:   0%|          | 0/11231 [00:00<?, ?it/s]"
      ]
     },
     "metadata": {},
     "output_type": "display_data"
    },
    {
     "data": {
      "application/vnd.jupyter.widget-view+json": {
       "model_id": "92a31bcf6ba84bb2af03e6db988e3382",
       "version_major": 2,
       "version_minor": 0
      },
      "text/plain": [
       "timesteps:   0%|          | 0/11231 [00:00<?, ?it/s]"
      ]
     },
     "metadata": {},
     "output_type": "display_data"
    },
    {
     "data": {
      "application/vnd.jupyter.widget-view+json": {
       "model_id": "ded79cb82e3d48b9b815b7db2ff2d8c8",
       "version_major": 2,
       "version_minor": 0
      },
      "text/plain": [
       "timesteps:   0%|          | 0/11231 [00:00<?, ?it/s]"
      ]
     },
     "metadata": {},
     "output_type": "display_data"
    },
    {
     "name": "stdout",
     "output_type": "stream",
     "text": [
      "242 of 5000, minimal objective function=1.32483, time remaining: 00:19:59\n"
     ]
    },
    {
     "data": {
      "application/vnd.jupyter.widget-view+json": {
       "model_id": "290f9aab5bfc4b9c8468ece75878816f",
       "version_major": 2,
       "version_minor": 0
      },
      "text/plain": [
       "timesteps:   0%|          | 0/11231 [00:00<?, ?it/s]"
      ]
     },
     "metadata": {},
     "output_type": "display_data"
    },
    {
     "data": {
      "application/vnd.jupyter.widget-view+json": {
       "model_id": "aac236184a8b4a77972b6eee5f3f8c24",
       "version_major": 2,
       "version_minor": 0
      },
      "text/plain": [
       "timesteps:   0%|          | 0/11231 [00:00<?, ?it/s]"
      ]
     },
     "metadata": {},
     "output_type": "display_data"
    },
    {
     "data": {
      "application/vnd.jupyter.widget-view+json": {
       "model_id": "fe5849e1a54a44a4b254b4bb23bc1ade",
       "version_major": 2,
       "version_minor": 0
      },
      "text/plain": [
       "timesteps:   0%|          | 0/11231 [00:00<?, ?it/s]"
      ]
     },
     "metadata": {},
     "output_type": "display_data"
    },
    {
     "data": {
      "application/vnd.jupyter.widget-view+json": {
       "model_id": "d1cd05ff52424cce99156a9261db4560",
       "version_major": 2,
       "version_minor": 0
      },
      "text/plain": [
       "timesteps:   0%|          | 0/11231 [00:00<?, ?it/s]"
      ]
     },
     "metadata": {},
     "output_type": "display_data"
    },
    {
     "data": {
      "application/vnd.jupyter.widget-view+json": {
       "model_id": "9cda51c237c5422f82dcae69010f4902",
       "version_major": 2,
       "version_minor": 0
      },
      "text/plain": [
       "timesteps:   0%|          | 0/11231 [00:00<?, ?it/s]"
      ]
     },
     "metadata": {},
     "output_type": "display_data"
    },
    {
     "data": {
      "application/vnd.jupyter.widget-view+json": {
       "model_id": "8bc98d461fae4448841dedb5f2f70434",
       "version_major": 2,
       "version_minor": 0
      },
      "text/plain": [
       "timesteps:   0%|          | 0/11231 [00:00<?, ?it/s]"
      ]
     },
     "metadata": {},
     "output_type": "display_data"
    },
    {
     "data": {
      "application/vnd.jupyter.widget-view+json": {
       "model_id": "ef88193980f847cbbb68c959e110ed2a",
       "version_major": 2,
       "version_minor": 0
      },
      "text/plain": [
       "timesteps:   0%|          | 0/11231 [00:00<?, ?it/s]"
      ]
     },
     "metadata": {},
     "output_type": "display_data"
    },
    {
     "data": {
      "application/vnd.jupyter.widget-view+json": {
       "model_id": "88ed22edd3694a6699931bc2cf556c13",
       "version_major": 2,
       "version_minor": 0
      },
      "text/plain": [
       "timesteps:   0%|          | 0/11231 [00:00<?, ?it/s]"
      ]
     },
     "metadata": {},
     "output_type": "display_data"
    },
    {
     "data": {
      "application/vnd.jupyter.widget-view+json": {
       "model_id": "02402e9fde0d45fb8a93be4920071b7c",
       "version_major": 2,
       "version_minor": 0
      },
      "text/plain": [
       "timesteps:   0%|          | 0/11231 [00:00<?, ?it/s]"
      ]
     },
     "metadata": {},
     "output_type": "display_data"
    },
    {
     "name": "stdout",
     "output_type": "stream",
     "text": [
      "256 of 5000, minimal objective function=1.32483, time remaining: 00:19:53\n"
     ]
    },
    {
     "data": {
      "application/vnd.jupyter.widget-view+json": {
       "model_id": "f46463d744214622a19335d9f3e6ba04",
       "version_major": 2,
       "version_minor": 0
      },
      "text/plain": [
       "timesteps:   0%|          | 0/11231 [00:00<?, ?it/s]"
      ]
     },
     "metadata": {},
     "output_type": "display_data"
    },
    {
     "data": {
      "application/vnd.jupyter.widget-view+json": {
       "model_id": "331148c2d4a0499db18f51da7257daf2",
       "version_major": 2,
       "version_minor": 0
      },
      "text/plain": [
       "timesteps:   0%|          | 0/11231 [00:00<?, ?it/s]"
      ]
     },
     "metadata": {},
     "output_type": "display_data"
    },
    {
     "data": {
      "application/vnd.jupyter.widget-view+json": {
       "model_id": "82f138559e3b420e9d302386905e2948",
       "version_major": 2,
       "version_minor": 0
      },
      "text/plain": [
       "timesteps:   0%|          | 0/11231 [00:00<?, ?it/s]"
      ]
     },
     "metadata": {},
     "output_type": "display_data"
    },
    {
     "data": {
      "application/vnd.jupyter.widget-view+json": {
       "model_id": "8b20267fa6e04669a1e33077e7efae2d",
       "version_major": 2,
       "version_minor": 0
      },
      "text/plain": [
       "timesteps:   0%|          | 0/11231 [00:00<?, ?it/s]"
      ]
     },
     "metadata": {},
     "output_type": "display_data"
    },
    {
     "data": {
      "application/vnd.jupyter.widget-view+json": {
       "model_id": "449202bdc7dc4c558c3a77aeaf96ee7c",
       "version_major": 2,
       "version_minor": 0
      },
      "text/plain": [
       "timesteps:   0%|          | 0/11231 [00:00<?, ?it/s]"
      ]
     },
     "metadata": {},
     "output_type": "display_data"
    },
    {
     "data": {
      "application/vnd.jupyter.widget-view+json": {
       "model_id": "e980a2e065da4888aab72ec4411344e9",
       "version_major": 2,
       "version_minor": 0
      },
      "text/plain": [
       "timesteps:   0%|          | 0/11231 [00:00<?, ?it/s]"
      ]
     },
     "metadata": {},
     "output_type": "display_data"
    },
    {
     "data": {
      "application/vnd.jupyter.widget-view+json": {
       "model_id": "45b80475364f469cbfb69575bf0f99ec",
       "version_major": 2,
       "version_minor": 0
      },
      "text/plain": [
       "timesteps:   0%|          | 0/11231 [00:00<?, ?it/s]"
      ]
     },
     "metadata": {},
     "output_type": "display_data"
    },
    {
     "data": {
      "application/vnd.jupyter.widget-view+json": {
       "model_id": "0ff443ccbfa04bd1bcf69c74a727e328",
       "version_major": 2,
       "version_minor": 0
      },
      "text/plain": [
       "timesteps:   0%|          | 0/11231 [00:00<?, ?it/s]"
      ]
     },
     "metadata": {},
     "output_type": "display_data"
    },
    {
     "data": {
      "application/vnd.jupyter.widget-view+json": {
       "model_id": "26b7db5a12ea4e088876b56ebd541946",
       "version_major": 2,
       "version_minor": 0
      },
      "text/plain": [
       "timesteps:   0%|          | 0/11231 [00:00<?, ?it/s]"
      ]
     },
     "metadata": {},
     "output_type": "display_data"
    },
    {
     "name": "stdout",
     "output_type": "stream",
     "text": [
      "270 of 5000, minimal objective function=1.32483, time remaining: 00:19:47\n"
     ]
    },
    {
     "data": {
      "application/vnd.jupyter.widget-view+json": {
       "model_id": "b74b0619d31b4d29bd1dce63a66060ab",
       "version_major": 2,
       "version_minor": 0
      },
      "text/plain": [
       "timesteps:   0%|          | 0/11231 [00:00<?, ?it/s]"
      ]
     },
     "metadata": {},
     "output_type": "display_data"
    },
    {
     "data": {
      "application/vnd.jupyter.widget-view+json": {
       "model_id": "9e4755ae3e4b448f8a0acd37403cde45",
       "version_major": 2,
       "version_minor": 0
      },
      "text/plain": [
       "timesteps:   0%|          | 0/11231 [00:00<?, ?it/s]"
      ]
     },
     "metadata": {},
     "output_type": "display_data"
    },
    {
     "data": {
      "application/vnd.jupyter.widget-view+json": {
       "model_id": "d5a9d7bbfc8d44939dbd0843e5084134",
       "version_major": 2,
       "version_minor": 0
      },
      "text/plain": [
       "timesteps:   0%|          | 0/11231 [00:00<?, ?it/s]"
      ]
     },
     "metadata": {},
     "output_type": "display_data"
    },
    {
     "data": {
      "application/vnd.jupyter.widget-view+json": {
       "model_id": "defbd4ea606140fe8dec6339ef603bb7",
       "version_major": 2,
       "version_minor": 0
      },
      "text/plain": [
       "timesteps:   0%|          | 0/11231 [00:00<?, ?it/s]"
      ]
     },
     "metadata": {},
     "output_type": "display_data"
    },
    {
     "data": {
      "application/vnd.jupyter.widget-view+json": {
       "model_id": "ef6bcad6abc94e23850e7e534ad759e3",
       "version_major": 2,
       "version_minor": 0
      },
      "text/plain": [
       "timesteps:   0%|          | 0/11231 [00:00<?, ?it/s]"
      ]
     },
     "metadata": {},
     "output_type": "display_data"
    },
    {
     "data": {
      "application/vnd.jupyter.widget-view+json": {
       "model_id": "a2354fca5ba748d28111f6e4024b4415",
       "version_major": 2,
       "version_minor": 0
      },
      "text/plain": [
       "timesteps:   0%|          | 0/11231 [00:00<?, ?it/s]"
      ]
     },
     "metadata": {},
     "output_type": "display_data"
    },
    {
     "data": {
      "application/vnd.jupyter.widget-view+json": {
       "model_id": "b7019955c0684a4fba1f4691cd1fd29c",
       "version_major": 2,
       "version_minor": 0
      },
      "text/plain": [
       "timesteps:   0%|          | 0/11231 [00:00<?, ?it/s]"
      ]
     },
     "metadata": {},
     "output_type": "display_data"
    },
    {
     "name": "stdout",
     "output_type": "stream",
     "text": [
      "282 of 5000, minimal objective function=1.31443, time remaining: 00:19:37\n",
      "Objective function convergence criteria is now being updated and assessed...\n",
      "Updated convergence criteria: 3.532431\n",
      "ComplexEvo loop #6 in progress...\n"
     ]
    },
    {
     "data": {
      "application/vnd.jupyter.widget-view+json": {
       "model_id": "d14626f3c45948a5ad54c1bff324ede6",
       "version_major": 2,
       "version_minor": 0
      },
      "text/plain": [
       "timesteps:   0%|          | 0/11231 [00:00<?, ?it/s]"
      ]
     },
     "metadata": {},
     "output_type": "display_data"
    },
    {
     "data": {
      "application/vnd.jupyter.widget-view+json": {
       "model_id": "7f96ac6fb4274d3f8112ab403bc168e0",
       "version_major": 2,
       "version_minor": 0
      },
      "text/plain": [
       "timesteps:   0%|          | 0/11231 [00:00<?, ?it/s]"
      ]
     },
     "metadata": {},
     "output_type": "display_data"
    },
    {
     "data": {
      "application/vnd.jupyter.widget-view+json": {
       "model_id": "ce2372dd9dc14494a034f062fd26f667",
       "version_major": 2,
       "version_minor": 0
      },
      "text/plain": [
       "timesteps:   0%|          | 0/11231 [00:00<?, ?it/s]"
      ]
     },
     "metadata": {},
     "output_type": "display_data"
    },
    {
     "data": {
      "application/vnd.jupyter.widget-view+json": {
       "model_id": "12dee9aeaf484dca8e9b2f2ede00c733",
       "version_major": 2,
       "version_minor": 0
      },
      "text/plain": [
       "timesteps:   0%|          | 0/11231 [00:00<?, ?it/s]"
      ]
     },
     "metadata": {},
     "output_type": "display_data"
    },
    {
     "data": {
      "application/vnd.jupyter.widget-view+json": {
       "model_id": "ae2de1ab753f4068b93bb810f092d86b",
       "version_major": 2,
       "version_minor": 0
      },
      "text/plain": [
       "timesteps:   0%|          | 0/11231 [00:00<?, ?it/s]"
      ]
     },
     "metadata": {},
     "output_type": "display_data"
    },
    {
     "data": {
      "application/vnd.jupyter.widget-view+json": {
       "model_id": "651a0dee14854ed69fad9f3bcbe6ecd8",
       "version_major": 2,
       "version_minor": 0
      },
      "text/plain": [
       "timesteps:   0%|          | 0/11231 [00:00<?, ?it/s]"
      ]
     },
     "metadata": {},
     "output_type": "display_data"
    },
    {
     "data": {
      "application/vnd.jupyter.widget-view+json": {
       "model_id": "9496c675069d4823ae143325b3a0c538",
       "version_major": 2,
       "version_minor": 0
      },
      "text/plain": [
       "timesteps:   0%|          | 0/11231 [00:00<?, ?it/s]"
      ]
     },
     "metadata": {},
     "output_type": "display_data"
    },
    {
     "data": {
      "application/vnd.jupyter.widget-view+json": {
       "model_id": "acd5bb1e7bf846699552619fbfb52ba1",
       "version_major": 2,
       "version_minor": 0
      },
      "text/plain": [
       "timesteps:   0%|          | 0/11231 [00:00<?, ?it/s]"
      ]
     },
     "metadata": {},
     "output_type": "display_data"
    },
    {
     "data": {
      "application/vnd.jupyter.widget-view+json": {
       "model_id": "10db03ef74004ed2b88eff56ab38762e",
       "version_major": 2,
       "version_minor": 0
      },
      "text/plain": [
       "timesteps:   0%|          | 0/11231 [00:00<?, ?it/s]"
      ]
     },
     "metadata": {},
     "output_type": "display_data"
    },
    {
     "data": {
      "application/vnd.jupyter.widget-view+json": {
       "model_id": "60a3e1bf177845a4846aef5a3604b492",
       "version_major": 2,
       "version_minor": 0
      },
      "text/plain": [
       "timesteps:   0%|          | 0/11231 [00:00<?, ?it/s]"
      ]
     },
     "metadata": {},
     "output_type": "display_data"
    },
    {
     "name": "stdout",
     "output_type": "stream",
     "text": [
      "297 of 5000, minimal objective function=1.31443, time remaining: 00:19:36\n"
     ]
    },
    {
     "data": {
      "application/vnd.jupyter.widget-view+json": {
       "model_id": "b9ea42555a324cb984823eb223841480",
       "version_major": 2,
       "version_minor": 0
      },
      "text/plain": [
       "timesteps:   0%|          | 0/11231 [00:00<?, ?it/s]"
      ]
     },
     "metadata": {},
     "output_type": "display_data"
    },
    {
     "data": {
      "application/vnd.jupyter.widget-view+json": {
       "model_id": "f695078997c94008959ab24700a8c5e0",
       "version_major": 2,
       "version_minor": 0
      },
      "text/plain": [
       "timesteps:   0%|          | 0/11231 [00:00<?, ?it/s]"
      ]
     },
     "metadata": {},
     "output_type": "display_data"
    },
    {
     "data": {
      "application/vnd.jupyter.widget-view+json": {
       "model_id": "6d2e816a726d48068faee9ab16f8cca3",
       "version_major": 2,
       "version_minor": 0
      },
      "text/plain": [
       "timesteps:   0%|          | 0/11231 [00:00<?, ?it/s]"
      ]
     },
     "metadata": {},
     "output_type": "display_data"
    },
    {
     "data": {
      "application/vnd.jupyter.widget-view+json": {
       "model_id": "32a60475c7254ff2b82771bf72b3e580",
       "version_major": 2,
       "version_minor": 0
      },
      "text/plain": [
       "timesteps:   0%|          | 0/11231 [00:00<?, ?it/s]"
      ]
     },
     "metadata": {},
     "output_type": "display_data"
    },
    {
     "data": {
      "application/vnd.jupyter.widget-view+json": {
       "model_id": "85efff3a6167475cb90753d520f5ae9b",
       "version_major": 2,
       "version_minor": 0
      },
      "text/plain": [
       "timesteps:   0%|          | 0/11231 [00:00<?, ?it/s]"
      ]
     },
     "metadata": {},
     "output_type": "display_data"
    },
    {
     "data": {
      "application/vnd.jupyter.widget-view+json": {
       "model_id": "8993bbc247a8481884eb6e150b99d431",
       "version_major": 2,
       "version_minor": 0
      },
      "text/plain": [
       "timesteps:   0%|          | 0/11231 [00:00<?, ?it/s]"
      ]
     },
     "metadata": {},
     "output_type": "display_data"
    },
    {
     "data": {
      "application/vnd.jupyter.widget-view+json": {
       "model_id": "0d42e4190d5f48fdbde2438abc064881",
       "version_major": 2,
       "version_minor": 0
      },
      "text/plain": [
       "timesteps:   0%|          | 0/11231 [00:00<?, ?it/s]"
      ]
     },
     "metadata": {},
     "output_type": "display_data"
    },
    {
     "data": {
      "application/vnd.jupyter.widget-view+json": {
       "model_id": "dc4c73496f6948eebc2e024d030e0aaa",
       "version_major": 2,
       "version_minor": 0
      },
      "text/plain": [
       "timesteps:   0%|          | 0/11231 [00:00<?, ?it/s]"
      ]
     },
     "metadata": {},
     "output_type": "display_data"
    },
    {
     "data": {
      "application/vnd.jupyter.widget-view+json": {
       "model_id": "39971c32679c4483b42e26e9d5e0200a",
       "version_major": 2,
       "version_minor": 0
      },
      "text/plain": [
       "timesteps:   0%|          | 0/11231 [00:00<?, ?it/s]"
      ]
     },
     "metadata": {},
     "output_type": "display_data"
    },
    {
     "data": {
      "application/vnd.jupyter.widget-view+json": {
       "model_id": "5df93d39d94845cfaf0b98136e4a4119",
       "version_major": 2,
       "version_minor": 0
      },
      "text/plain": [
       "timesteps:   0%|          | 0/11231 [00:00<?, ?it/s]"
      ]
     },
     "metadata": {},
     "output_type": "display_data"
    },
    {
     "name": "stdout",
     "output_type": "stream",
     "text": [
      "312 of 5000, minimal objective function=1.31443, time remaining: 00:19:31\n"
     ]
    },
    {
     "data": {
      "application/vnd.jupyter.widget-view+json": {
       "model_id": "40b149027c9948ceb01dc42a885b5662",
       "version_major": 2,
       "version_minor": 0
      },
      "text/plain": [
       "timesteps:   0%|          | 0/11231 [00:00<?, ?it/s]"
      ]
     },
     "metadata": {},
     "output_type": "display_data"
    },
    {
     "data": {
      "application/vnd.jupyter.widget-view+json": {
       "model_id": "4901916565424340bd5f646e9c965b46",
       "version_major": 2,
       "version_minor": 0
      },
      "text/plain": [
       "timesteps:   0%|          | 0/11231 [00:00<?, ?it/s]"
      ]
     },
     "metadata": {},
     "output_type": "display_data"
    },
    {
     "data": {
      "application/vnd.jupyter.widget-view+json": {
       "model_id": "47bc1f05a2f64c20be8868b69dcbe4d4",
       "version_major": 2,
       "version_minor": 0
      },
      "text/plain": [
       "timesteps:   0%|          | 0/11231 [00:00<?, ?it/s]"
      ]
     },
     "metadata": {},
     "output_type": "display_data"
    },
    {
     "data": {
      "application/vnd.jupyter.widget-view+json": {
       "model_id": "aa08a5d1707c46449d9ffd13ee637420",
       "version_major": 2,
       "version_minor": 0
      },
      "text/plain": [
       "timesteps:   0%|          | 0/11231 [00:00<?, ?it/s]"
      ]
     },
     "metadata": {},
     "output_type": "display_data"
    },
    {
     "data": {
      "application/vnd.jupyter.widget-view+json": {
       "model_id": "b62faa2ec0ac431b9c9639704f2a17ca",
       "version_major": 2,
       "version_minor": 0
      },
      "text/plain": [
       "timesteps:   0%|          | 0/11231 [00:00<?, ?it/s]"
      ]
     },
     "metadata": {},
     "output_type": "display_data"
    },
    {
     "data": {
      "application/vnd.jupyter.widget-view+json": {
       "model_id": "e51c187eca4d4de39bd4b5c751647967",
       "version_major": 2,
       "version_minor": 0
      },
      "text/plain": [
       "timesteps:   0%|          | 0/11231 [00:00<?, ?it/s]"
      ]
     },
     "metadata": {},
     "output_type": "display_data"
    },
    {
     "data": {
      "application/vnd.jupyter.widget-view+json": {
       "model_id": "110e308d85974a3ab93747450af3f030",
       "version_major": 2,
       "version_minor": 0
      },
      "text/plain": [
       "timesteps:   0%|          | 0/11231 [00:00<?, ?it/s]"
      ]
     },
     "metadata": {},
     "output_type": "display_data"
    },
    {
     "data": {
      "application/vnd.jupyter.widget-view+json": {
       "model_id": "dde3a6eb3b0b45de9c4bf03a4543db94",
       "version_major": 2,
       "version_minor": 0
      },
      "text/plain": [
       "timesteps:   0%|          | 0/11231 [00:00<?, ?it/s]"
      ]
     },
     "metadata": {},
     "output_type": "display_data"
    },
    {
     "data": {
      "application/vnd.jupyter.widget-view+json": {
       "model_id": "c47f51f3f6be451e8984b2fcc61142ea",
       "version_major": 2,
       "version_minor": 0
      },
      "text/plain": [
       "timesteps:   0%|          | 0/11231 [00:00<?, ?it/s]"
      ]
     },
     "metadata": {},
     "output_type": "display_data"
    },
    {
     "data": {
      "application/vnd.jupyter.widget-view+json": {
       "model_id": "344c1bfc65b94472ad6f366246f6d793",
       "version_major": 2,
       "version_minor": 0
      },
      "text/plain": [
       "timesteps:   0%|          | 0/11231 [00:00<?, ?it/s]"
      ]
     },
     "metadata": {},
     "output_type": "display_data"
    },
    {
     "name": "stdout",
     "output_type": "stream",
     "text": [
      "327 of 5000, minimal objective function=1.31443, time remaining: 00:19:27\n"
     ]
    },
    {
     "data": {
      "application/vnd.jupyter.widget-view+json": {
       "model_id": "99c791e920984dfeb67a833986f11c97",
       "version_major": 2,
       "version_minor": 0
      },
      "text/plain": [
       "timesteps:   0%|          | 0/11231 [00:00<?, ?it/s]"
      ]
     },
     "metadata": {},
     "output_type": "display_data"
    },
    {
     "data": {
      "application/vnd.jupyter.widget-view+json": {
       "model_id": "8e0fe7294c3b45a0a6e955a527d8c61c",
       "version_major": 2,
       "version_minor": 0
      },
      "text/plain": [
       "timesteps:   0%|          | 0/11231 [00:00<?, ?it/s]"
      ]
     },
     "metadata": {},
     "output_type": "display_data"
    },
    {
     "data": {
      "application/vnd.jupyter.widget-view+json": {
       "model_id": "b27183f5bba84736b7c959321fab30ff",
       "version_major": 2,
       "version_minor": 0
      },
      "text/plain": [
       "timesteps:   0%|          | 0/11231 [00:00<?, ?it/s]"
      ]
     },
     "metadata": {},
     "output_type": "display_data"
    },
    {
     "data": {
      "application/vnd.jupyter.widget-view+json": {
       "model_id": "fe0c128b084b4952aed8943e6aa561af",
       "version_major": 2,
       "version_minor": 0
      },
      "text/plain": [
       "timesteps:   0%|          | 0/11231 [00:00<?, ?it/s]"
      ]
     },
     "metadata": {},
     "output_type": "display_data"
    },
    {
     "data": {
      "application/vnd.jupyter.widget-view+json": {
       "model_id": "d2349e4259a24d36bdf59f94ce5301ef",
       "version_major": 2,
       "version_minor": 0
      },
      "text/plain": [
       "timesteps:   0%|          | 0/11231 [00:00<?, ?it/s]"
      ]
     },
     "metadata": {},
     "output_type": "display_data"
    },
    {
     "data": {
      "application/vnd.jupyter.widget-view+json": {
       "model_id": "9e994342b9ad4382bdd9fe05b04599d3",
       "version_major": 2,
       "version_minor": 0
      },
      "text/plain": [
       "timesteps:   0%|          | 0/11231 [00:00<?, ?it/s]"
      ]
     },
     "metadata": {},
     "output_type": "display_data"
    },
    {
     "data": {
      "application/vnd.jupyter.widget-view+json": {
       "model_id": "966e5e45ebdd479eb482240746c8e2e5",
       "version_major": 2,
       "version_minor": 0
      },
      "text/plain": [
       "timesteps:   0%|          | 0/11231 [00:00<?, ?it/s]"
      ]
     },
     "metadata": {},
     "output_type": "display_data"
    },
    {
     "data": {
      "application/vnd.jupyter.widget-view+json": {
       "model_id": "250395ec1ace43d6b345a69c0427b659",
       "version_major": 2,
       "version_minor": 0
      },
      "text/plain": [
       "timesteps:   0%|          | 0/11231 [00:00<?, ?it/s]"
      ]
     },
     "metadata": {},
     "output_type": "display_data"
    },
    {
     "data": {
      "application/vnd.jupyter.widget-view+json": {
       "model_id": "d2027177926f4b249a687dc0d6a5cef9",
       "version_major": 2,
       "version_minor": 0
      },
      "text/plain": [
       "timesteps:   0%|          | 0/11231 [00:00<?, ?it/s]"
      ]
     },
     "metadata": {},
     "output_type": "display_data"
    },
    {
     "name": "stdout",
     "output_type": "stream",
     "text": [
      "341 of 5000, minimal objective function=1.31443, time remaining: 00:19:25\n",
      "Objective function convergence criteria is now being updated and assessed...\n",
      "Updated convergence criteria: 3.557565\n",
      "ComplexEvo loop #7 in progress...\n"
     ]
    },
    {
     "data": {
      "application/vnd.jupyter.widget-view+json": {
       "model_id": "87ce14fe5a9d470bbb1bb450b1f98ba2",
       "version_major": 2,
       "version_minor": 0
      },
      "text/plain": [
       "timesteps:   0%|          | 0/11231 [00:00<?, ?it/s]"
      ]
     },
     "metadata": {},
     "output_type": "display_data"
    },
    {
     "data": {
      "application/vnd.jupyter.widget-view+json": {
       "model_id": "5841c6a9adf4494da88cbcf95674f5dd",
       "version_major": 2,
       "version_minor": 0
      },
      "text/plain": [
       "timesteps:   0%|          | 0/11231 [00:00<?, ?it/s]"
      ]
     },
     "metadata": {},
     "output_type": "display_data"
    },
    {
     "data": {
      "application/vnd.jupyter.widget-view+json": {
       "model_id": "11f663e250654bbb96ed072364eb23ef",
       "version_major": 2,
       "version_minor": 0
      },
      "text/plain": [
       "timesteps:   0%|          | 0/11231 [00:00<?, ?it/s]"
      ]
     },
     "metadata": {},
     "output_type": "display_data"
    },
    {
     "data": {
      "application/vnd.jupyter.widget-view+json": {
       "model_id": "2b156bb182374c558368b9e2a55322e6",
       "version_major": 2,
       "version_minor": 0
      },
      "text/plain": [
       "timesteps:   0%|          | 0/11231 [00:00<?, ?it/s]"
      ]
     },
     "metadata": {},
     "output_type": "display_data"
    },
    {
     "data": {
      "application/vnd.jupyter.widget-view+json": {
       "model_id": "da7593cbbd8c4ef0adccee6213bad891",
       "version_major": 2,
       "version_minor": 0
      },
      "text/plain": [
       "timesteps:   0%|          | 0/11231 [00:00<?, ?it/s]"
      ]
     },
     "metadata": {},
     "output_type": "display_data"
    },
    {
     "data": {
      "application/vnd.jupyter.widget-view+json": {
       "model_id": "a102d1ff57b34bc5824c1aba20627709",
       "version_major": 2,
       "version_minor": 0
      },
      "text/plain": [
       "timesteps:   0%|          | 0/11231 [00:00<?, ?it/s]"
      ]
     },
     "metadata": {},
     "output_type": "display_data"
    },
    {
     "data": {
      "application/vnd.jupyter.widget-view+json": {
       "model_id": "49e356d3266046448fb36c2b0f9e8ed7",
       "version_major": 2,
       "version_minor": 0
      },
      "text/plain": [
       "timesteps:   0%|          | 0/11231 [00:00<?, ?it/s]"
      ]
     },
     "metadata": {},
     "output_type": "display_data"
    },
    {
     "data": {
      "application/vnd.jupyter.widget-view+json": {
       "model_id": "766e4c3cfba847778eed7deb80441fb9",
       "version_major": 2,
       "version_minor": 0
      },
      "text/plain": [
       "timesteps:   0%|          | 0/11231 [00:00<?, ?it/s]"
      ]
     },
     "metadata": {},
     "output_type": "display_data"
    },
    {
     "data": {
      "application/vnd.jupyter.widget-view+json": {
       "model_id": "dddf36b79f244bb4a574b4fe5871e77b",
       "version_major": 2,
       "version_minor": 0
      },
      "text/plain": [
       "timesteps:   0%|          | 0/11231 [00:00<?, ?it/s]"
      ]
     },
     "metadata": {},
     "output_type": "display_data"
    },
    {
     "name": "stdout",
     "output_type": "stream",
     "text": [
      "355 of 5000, minimal objective function=1.31443, time remaining: 00:19:19\n"
     ]
    },
    {
     "data": {
      "application/vnd.jupyter.widget-view+json": {
       "model_id": "0caeb691a7b046338b5cee50e7310dba",
       "version_major": 2,
       "version_minor": 0
      },
      "text/plain": [
       "timesteps:   0%|          | 0/11231 [00:00<?, ?it/s]"
      ]
     },
     "metadata": {},
     "output_type": "display_data"
    },
    {
     "data": {
      "application/vnd.jupyter.widget-view+json": {
       "model_id": "2fabce0ae2084288a6d90ce7e712862a",
       "version_major": 2,
       "version_minor": 0
      },
      "text/plain": [
       "timesteps:   0%|          | 0/11231 [00:00<?, ?it/s]"
      ]
     },
     "metadata": {},
     "output_type": "display_data"
    },
    {
     "data": {
      "application/vnd.jupyter.widget-view+json": {
       "model_id": "06108d4858f7417383405d8b6c0c8bfb",
       "version_major": 2,
       "version_minor": 0
      },
      "text/plain": [
       "timesteps:   0%|          | 0/11231 [00:00<?, ?it/s]"
      ]
     },
     "metadata": {},
     "output_type": "display_data"
    },
    {
     "data": {
      "application/vnd.jupyter.widget-view+json": {
       "model_id": "cf98c9122fc34be1ac07bb8db503d167",
       "version_major": 2,
       "version_minor": 0
      },
      "text/plain": [
       "timesteps:   0%|          | 0/11231 [00:00<?, ?it/s]"
      ]
     },
     "metadata": {},
     "output_type": "display_data"
    },
    {
     "data": {
      "application/vnd.jupyter.widget-view+json": {
       "model_id": "709efd2cef364fbb94179b4ee131da83",
       "version_major": 2,
       "version_minor": 0
      },
      "text/plain": [
       "timesteps:   0%|          | 0/11231 [00:00<?, ?it/s]"
      ]
     },
     "metadata": {},
     "output_type": "display_data"
    },
    {
     "data": {
      "application/vnd.jupyter.widget-view+json": {
       "model_id": "0ee29efd2e084ae8bc9224c8415b0175",
       "version_major": 2,
       "version_minor": 0
      },
      "text/plain": [
       "timesteps:   0%|          | 0/11231 [00:00<?, ?it/s]"
      ]
     },
     "metadata": {},
     "output_type": "display_data"
    },
    {
     "data": {
      "application/vnd.jupyter.widget-view+json": {
       "model_id": "0d9b884d4a3a49d284c099851913de1b",
       "version_major": 2,
       "version_minor": 0
      },
      "text/plain": [
       "timesteps:   0%|          | 0/11231 [00:00<?, ?it/s]"
      ]
     },
     "metadata": {},
     "output_type": "display_data"
    },
    {
     "data": {
      "application/vnd.jupyter.widget-view+json": {
       "model_id": "507fb65a653a46f3a1178adca9018323",
       "version_major": 2,
       "version_minor": 0
      },
      "text/plain": [
       "timesteps:   0%|          | 0/11231 [00:00<?, ?it/s]"
      ]
     },
     "metadata": {},
     "output_type": "display_data"
    },
    {
     "name": "stdout",
     "output_type": "stream",
     "text": [
      "368 of 5000, minimal objective function=1.31443, time remaining: 00:19:13\n"
     ]
    },
    {
     "data": {
      "application/vnd.jupyter.widget-view+json": {
       "model_id": "2d4bf59218704517a1e14abb33b38499",
       "version_major": 2,
       "version_minor": 0
      },
      "text/plain": [
       "timesteps:   0%|          | 0/11231 [00:00<?, ?it/s]"
      ]
     },
     "metadata": {},
     "output_type": "display_data"
    },
    {
     "data": {
      "application/vnd.jupyter.widget-view+json": {
       "model_id": "0aaa6d97f10a476bb1cad32d8d8c1fa7",
       "version_major": 2,
       "version_minor": 0
      },
      "text/plain": [
       "timesteps:   0%|          | 0/11231 [00:00<?, ?it/s]"
      ]
     },
     "metadata": {},
     "output_type": "display_data"
    },
    {
     "data": {
      "application/vnd.jupyter.widget-view+json": {
       "model_id": "927f138f894e4c95bc803e3061231622",
       "version_major": 2,
       "version_minor": 0
      },
      "text/plain": [
       "timesteps:   0%|          | 0/11231 [00:00<?, ?it/s]"
      ]
     },
     "metadata": {},
     "output_type": "display_data"
    },
    {
     "data": {
      "application/vnd.jupyter.widget-view+json": {
       "model_id": "bfaf680621b14743a6f7bf4d85623142",
       "version_major": 2,
       "version_minor": 0
      },
      "text/plain": [
       "timesteps:   0%|          | 0/11231 [00:00<?, ?it/s]"
      ]
     },
     "metadata": {},
     "output_type": "display_data"
    },
    {
     "data": {
      "application/vnd.jupyter.widget-view+json": {
       "model_id": "164627395b3a4e9581f2e4cffd17246f",
       "version_major": 2,
       "version_minor": 0
      },
      "text/plain": [
       "timesteps:   0%|          | 0/11231 [00:00<?, ?it/s]"
      ]
     },
     "metadata": {},
     "output_type": "display_data"
    },
    {
     "data": {
      "application/vnd.jupyter.widget-view+json": {
       "model_id": "b0b83e18f654485681aed8e18d104d09",
       "version_major": 2,
       "version_minor": 0
      },
      "text/plain": [
       "timesteps:   0%|          | 0/11231 [00:00<?, ?it/s]"
      ]
     },
     "metadata": {},
     "output_type": "display_data"
    },
    {
     "data": {
      "application/vnd.jupyter.widget-view+json": {
       "model_id": "3a88c86834414ad08310686b8776db7c",
       "version_major": 2,
       "version_minor": 0
      },
      "text/plain": [
       "timesteps:   0%|          | 0/11231 [00:00<?, ?it/s]"
      ]
     },
     "metadata": {},
     "output_type": "display_data"
    },
    {
     "data": {
      "application/vnd.jupyter.widget-view+json": {
       "model_id": "8105b449d72346cfb2b627da68c151be",
       "version_major": 2,
       "version_minor": 0
      },
      "text/plain": [
       "timesteps:   0%|          | 0/11231 [00:00<?, ?it/s]"
      ]
     },
     "metadata": {},
     "output_type": "display_data"
    },
    {
     "name": "stdout",
     "output_type": "stream",
     "text": [
      "381 of 5000, minimal objective function=1.31443, time remaining: 00:19:06\n"
     ]
    },
    {
     "data": {
      "application/vnd.jupyter.widget-view+json": {
       "model_id": "6ea4d6ebb082418b810cd3950082239e",
       "version_major": 2,
       "version_minor": 0
      },
      "text/plain": [
       "timesteps:   0%|          | 0/11231 [00:00<?, ?it/s]"
      ]
     },
     "metadata": {},
     "output_type": "display_data"
    },
    {
     "data": {
      "application/vnd.jupyter.widget-view+json": {
       "model_id": "7c888b8cfe2b4642a18b7d02705413d7",
       "version_major": 2,
       "version_minor": 0
      },
      "text/plain": [
       "timesteps:   0%|          | 0/11231 [00:00<?, ?it/s]"
      ]
     },
     "metadata": {},
     "output_type": "display_data"
    },
    {
     "data": {
      "application/vnd.jupyter.widget-view+json": {
       "model_id": "e7b31007a5b54289986f508104f12ec0",
       "version_major": 2,
       "version_minor": 0
      },
      "text/plain": [
       "timesteps:   0%|          | 0/11231 [00:00<?, ?it/s]"
      ]
     },
     "metadata": {},
     "output_type": "display_data"
    },
    {
     "data": {
      "application/vnd.jupyter.widget-view+json": {
       "model_id": "5593ce664f204b2c83164b5c158d6cdb",
       "version_major": 2,
       "version_minor": 0
      },
      "text/plain": [
       "timesteps:   0%|          | 0/11231 [00:00<?, ?it/s]"
      ]
     },
     "metadata": {},
     "output_type": "display_data"
    },
    {
     "data": {
      "application/vnd.jupyter.widget-view+json": {
       "model_id": "d663578b6d8f436f9f05889f6aa2274a",
       "version_major": 2,
       "version_minor": 0
      },
      "text/plain": [
       "timesteps:   0%|          | 0/11231 [00:00<?, ?it/s]"
      ]
     },
     "metadata": {},
     "output_type": "display_data"
    },
    {
     "data": {
      "application/vnd.jupyter.widget-view+json": {
       "model_id": "dd2ec7fc6131483b9fdcc48233b82578",
       "version_major": 2,
       "version_minor": 0
      },
      "text/plain": [
       "timesteps:   0%|          | 0/11231 [00:00<?, ?it/s]"
      ]
     },
     "metadata": {},
     "output_type": "display_data"
    },
    {
     "data": {
      "application/vnd.jupyter.widget-view+json": {
       "model_id": "0e0f6efecfbe41cf917a331dded873a2",
       "version_major": 2,
       "version_minor": 0
      },
      "text/plain": [
       "timesteps:   0%|          | 0/11231 [00:00<?, ?it/s]"
      ]
     },
     "metadata": {},
     "output_type": "display_data"
    },
    {
     "data": {
      "application/vnd.jupyter.widget-view+json": {
       "model_id": "c6444ded48fd42b186d0d8e3a821408f",
       "version_major": 2,
       "version_minor": 0
      },
      "text/plain": [
       "timesteps:   0%|          | 0/11231 [00:00<?, ?it/s]"
      ]
     },
     "metadata": {},
     "output_type": "display_data"
    },
    {
     "name": "stdout",
     "output_type": "stream",
     "text": [
      "394 of 5000, minimal objective function=1.31443, time remaining: 00:19:03\n",
      "Objective function convergence criteria is now being updated and assessed...\n",
      "Updated convergence criteria: 3.583059\n",
      "ComplexEvo loop #8 in progress...\n"
     ]
    },
    {
     "data": {
      "application/vnd.jupyter.widget-view+json": {
       "model_id": "3d2fc732992a4967b9d60f3afce9527a",
       "version_major": 2,
       "version_minor": 0
      },
      "text/plain": [
       "timesteps:   0%|          | 0/11231 [00:00<?, ?it/s]"
      ]
     },
     "metadata": {},
     "output_type": "display_data"
    },
    {
     "data": {
      "application/vnd.jupyter.widget-view+json": {
       "model_id": "9856813a6c04440b960bfe2207f8995c",
       "version_major": 2,
       "version_minor": 0
      },
      "text/plain": [
       "timesteps:   0%|          | 0/11231 [00:00<?, ?it/s]"
      ]
     },
     "metadata": {},
     "output_type": "display_data"
    },
    {
     "data": {
      "application/vnd.jupyter.widget-view+json": {
       "model_id": "825801879d7e425788a2209fb8b03f92",
       "version_major": 2,
       "version_minor": 0
      },
      "text/plain": [
       "timesteps:   0%|          | 0/11231 [00:00<?, ?it/s]"
      ]
     },
     "metadata": {},
     "output_type": "display_data"
    },
    {
     "data": {
      "application/vnd.jupyter.widget-view+json": {
       "model_id": "e0aaf90c6aef484ea2422d91cc83f024",
       "version_major": 2,
       "version_minor": 0
      },
      "text/plain": [
       "timesteps:   0%|          | 0/11231 [00:00<?, ?it/s]"
      ]
     },
     "metadata": {},
     "output_type": "display_data"
    },
    {
     "data": {
      "application/vnd.jupyter.widget-view+json": {
       "model_id": "9612eb908e9b488984138a2afe8e6657",
       "version_major": 2,
       "version_minor": 0
      },
      "text/plain": [
       "timesteps:   0%|          | 0/11231 [00:00<?, ?it/s]"
      ]
     },
     "metadata": {},
     "output_type": "display_data"
    },
    {
     "data": {
      "application/vnd.jupyter.widget-view+json": {
       "model_id": "82a3622bc032482a8e5a1a8f07e203b2",
       "version_major": 2,
       "version_minor": 0
      },
      "text/plain": [
       "timesteps:   0%|          | 0/11231 [00:00<?, ?it/s]"
      ]
     },
     "metadata": {},
     "output_type": "display_data"
    },
    {
     "data": {
      "application/vnd.jupyter.widget-view+json": {
       "model_id": "aa31f0fc786447c28bcff1c3f5d1124d",
       "version_major": 2,
       "version_minor": 0
      },
      "text/plain": [
       "timesteps:   0%|          | 0/11231 [00:00<?, ?it/s]"
      ]
     },
     "metadata": {},
     "output_type": "display_data"
    },
    {
     "data": {
      "application/vnd.jupyter.widget-view+json": {
       "model_id": "03146e88b9e54f3791bc823e68649b74",
       "version_major": 2,
       "version_minor": 0
      },
      "text/plain": [
       "timesteps:   0%|          | 0/11231 [00:00<?, ?it/s]"
      ]
     },
     "metadata": {},
     "output_type": "display_data"
    },
    {
     "data": {
      "application/vnd.jupyter.widget-view+json": {
       "model_id": "5bb74e368a9c4798bf0b015b1a9eb084",
       "version_major": 2,
       "version_minor": 0
      },
      "text/plain": [
       "timesteps:   0%|          | 0/11231 [00:00<?, ?it/s]"
      ]
     },
     "metadata": {},
     "output_type": "display_data"
    },
    {
     "data": {
      "application/vnd.jupyter.widget-view+json": {
       "model_id": "426685543f524b5c8e394cee8877bc27",
       "version_major": 2,
       "version_minor": 0
      },
      "text/plain": [
       "timesteps:   0%|          | 0/11231 [00:00<?, ?it/s]"
      ]
     },
     "metadata": {},
     "output_type": "display_data"
    },
    {
     "name": "stdout",
     "output_type": "stream",
     "text": [
      "409 of 5000, minimal objective function=1.31443, time remaining: 00:18:59\n"
     ]
    },
    {
     "data": {
      "application/vnd.jupyter.widget-view+json": {
       "model_id": "5e8ac586526b4ba697410e0fb13348a4",
       "version_major": 2,
       "version_minor": 0
      },
      "text/plain": [
       "timesteps:   0%|          | 0/11231 [00:00<?, ?it/s]"
      ]
     },
     "metadata": {},
     "output_type": "display_data"
    },
    {
     "data": {
      "application/vnd.jupyter.widget-view+json": {
       "model_id": "e869605c0df840b6ba17c1d65d800978",
       "version_major": 2,
       "version_minor": 0
      },
      "text/plain": [
       "timesteps:   0%|          | 0/11231 [00:00<?, ?it/s]"
      ]
     },
     "metadata": {},
     "output_type": "display_data"
    },
    {
     "data": {
      "application/vnd.jupyter.widget-view+json": {
       "model_id": "5c84e317af6e4cb0ba149a0d1c745507",
       "version_major": 2,
       "version_minor": 0
      },
      "text/plain": [
       "timesteps:   0%|          | 0/11231 [00:00<?, ?it/s]"
      ]
     },
     "metadata": {},
     "output_type": "display_data"
    },
    {
     "data": {
      "application/vnd.jupyter.widget-view+json": {
       "model_id": "70619f0577c8400f876d3eb74cd4aa67",
       "version_major": 2,
       "version_minor": 0
      },
      "text/plain": [
       "timesteps:   0%|          | 0/11231 [00:00<?, ?it/s]"
      ]
     },
     "metadata": {},
     "output_type": "display_data"
    },
    {
     "data": {
      "application/vnd.jupyter.widget-view+json": {
       "model_id": "bb3f1ec698664ab38b0ba914ea339432",
       "version_major": 2,
       "version_minor": 0
      },
      "text/plain": [
       "timesteps:   0%|          | 0/11231 [00:00<?, ?it/s]"
      ]
     },
     "metadata": {},
     "output_type": "display_data"
    },
    {
     "data": {
      "application/vnd.jupyter.widget-view+json": {
       "model_id": "2e4052ba513844f2b45e02a304bfc82b",
       "version_major": 2,
       "version_minor": 0
      },
      "text/plain": [
       "timesteps:   0%|          | 0/11231 [00:00<?, ?it/s]"
      ]
     },
     "metadata": {},
     "output_type": "display_data"
    },
    {
     "data": {
      "application/vnd.jupyter.widget-view+json": {
       "model_id": "e41e69297f3f41afac0719ea7efdc49e",
       "version_major": 2,
       "version_minor": 0
      },
      "text/plain": [
       "timesteps:   0%|          | 0/11231 [00:00<?, ?it/s]"
      ]
     },
     "metadata": {},
     "output_type": "display_data"
    },
    {
     "data": {
      "application/vnd.jupyter.widget-view+json": {
       "model_id": "bd8b20758c6d448cba519505c7458186",
       "version_major": 2,
       "version_minor": 0
      },
      "text/plain": [
       "timesteps:   0%|          | 0/11231 [00:00<?, ?it/s]"
      ]
     },
     "metadata": {},
     "output_type": "display_data"
    },
    {
     "data": {
      "application/vnd.jupyter.widget-view+json": {
       "model_id": "29a7690972ea48ffab43b0c7f00d4a2f",
       "version_major": 2,
       "version_minor": 0
      },
      "text/plain": [
       "timesteps:   0%|          | 0/11231 [00:00<?, ?it/s]"
      ]
     },
     "metadata": {},
     "output_type": "display_data"
    },
    {
     "data": {
      "application/vnd.jupyter.widget-view+json": {
       "model_id": "4c6f764c9da04e85a84de87e2762f0de",
       "version_major": 2,
       "version_minor": 0
      },
      "text/plain": [
       "timesteps:   0%|          | 0/11231 [00:00<?, ?it/s]"
      ]
     },
     "metadata": {},
     "output_type": "display_data"
    },
    {
     "name": "stdout",
     "output_type": "stream",
     "text": [
      "424 of 5000, minimal objective function=1.31443, time remaining: 00:18:55\n"
     ]
    },
    {
     "data": {
      "application/vnd.jupyter.widget-view+json": {
       "model_id": "c842bfbe0e8d4a1fb032da140341c2e5",
       "version_major": 2,
       "version_minor": 0
      },
      "text/plain": [
       "timesteps:   0%|          | 0/11231 [00:00<?, ?it/s]"
      ]
     },
     "metadata": {},
     "output_type": "display_data"
    },
    {
     "data": {
      "application/vnd.jupyter.widget-view+json": {
       "model_id": "6f5f7f3575834ec7910cbb8d6080ed6c",
       "version_major": 2,
       "version_minor": 0
      },
      "text/plain": [
       "timesteps:   0%|          | 0/11231 [00:00<?, ?it/s]"
      ]
     },
     "metadata": {},
     "output_type": "display_data"
    },
    {
     "data": {
      "application/vnd.jupyter.widget-view+json": {
       "model_id": "e650527b2bf04472aab6ce70602fea5a",
       "version_major": 2,
       "version_minor": 0
      },
      "text/plain": [
       "timesteps:   0%|          | 0/11231 [00:00<?, ?it/s]"
      ]
     },
     "metadata": {},
     "output_type": "display_data"
    },
    {
     "data": {
      "application/vnd.jupyter.widget-view+json": {
       "model_id": "f0ad03ea699243dca2627ea6fbb7ea4e",
       "version_major": 2,
       "version_minor": 0
      },
      "text/plain": [
       "timesteps:   0%|          | 0/11231 [00:00<?, ?it/s]"
      ]
     },
     "metadata": {},
     "output_type": "display_data"
    },
    {
     "data": {
      "application/vnd.jupyter.widget-view+json": {
       "model_id": "9116167c650b419989993cd19746a1c3",
       "version_major": 2,
       "version_minor": 0
      },
      "text/plain": [
       "timesteps:   0%|          | 0/11231 [00:00<?, ?it/s]"
      ]
     },
     "metadata": {},
     "output_type": "display_data"
    },
    {
     "data": {
      "application/vnd.jupyter.widget-view+json": {
       "model_id": "035f02b01f934e58addc482d17420633",
       "version_major": 2,
       "version_minor": 0
      },
      "text/plain": [
       "timesteps:   0%|          | 0/11231 [00:00<?, ?it/s]"
      ]
     },
     "metadata": {},
     "output_type": "display_data"
    },
    {
     "data": {
      "application/vnd.jupyter.widget-view+json": {
       "model_id": "993415bfa10e471cb54fd425bc08cc87",
       "version_major": 2,
       "version_minor": 0
      },
      "text/plain": [
       "timesteps:   0%|          | 0/11231 [00:00<?, ?it/s]"
      ]
     },
     "metadata": {},
     "output_type": "display_data"
    },
    {
     "data": {
      "application/vnd.jupyter.widget-view+json": {
       "model_id": "32665b94d921418a8ea5beb65f125f6b",
       "version_major": 2,
       "version_minor": 0
      },
      "text/plain": [
       "timesteps:   0%|          | 0/11231 [00:00<?, ?it/s]"
      ]
     },
     "metadata": {},
     "output_type": "display_data"
    },
    {
     "data": {
      "application/vnd.jupyter.widget-view+json": {
       "model_id": "92347c03e4094da1abd6e2aea174965c",
       "version_major": 2,
       "version_minor": 0
      },
      "text/plain": [
       "timesteps:   0%|          | 0/11231 [00:00<?, ?it/s]"
      ]
     },
     "metadata": {},
     "output_type": "display_data"
    },
    {
     "name": "stdout",
     "output_type": "stream",
     "text": [
      "438 of 5000, minimal objective function=1.31443, time remaining: 00:18:53\n"
     ]
    },
    {
     "data": {
      "application/vnd.jupyter.widget-view+json": {
       "model_id": "41deadae39f34c3eb55850b013ea3b03",
       "version_major": 2,
       "version_minor": 0
      },
      "text/plain": [
       "timesteps:   0%|          | 0/11231 [00:00<?, ?it/s]"
      ]
     },
     "metadata": {},
     "output_type": "display_data"
    },
    {
     "data": {
      "application/vnd.jupyter.widget-view+json": {
       "model_id": "005411859f4948f4afc9a95ac3fe26db",
       "version_major": 2,
       "version_minor": 0
      },
      "text/plain": [
       "timesteps:   0%|          | 0/11231 [00:00<?, ?it/s]"
      ]
     },
     "metadata": {},
     "output_type": "display_data"
    },
    {
     "data": {
      "application/vnd.jupyter.widget-view+json": {
       "model_id": "bf2c83ed8c7c4389b0282314b01d8ce3",
       "version_major": 2,
       "version_minor": 0
      },
      "text/plain": [
       "timesteps:   0%|          | 0/11231 [00:00<?, ?it/s]"
      ]
     },
     "metadata": {},
     "output_type": "display_data"
    },
    {
     "data": {
      "application/vnd.jupyter.widget-view+json": {
       "model_id": "bd46ff19ad584a1c99fc8a8b6b15dbef",
       "version_major": 2,
       "version_minor": 0
      },
      "text/plain": [
       "timesteps:   0%|          | 0/11231 [00:00<?, ?it/s]"
      ]
     },
     "metadata": {},
     "output_type": "display_data"
    },
    {
     "data": {
      "application/vnd.jupyter.widget-view+json": {
       "model_id": "01550f83cf5d4f109c5e103bbfcea43a",
       "version_major": 2,
       "version_minor": 0
      },
      "text/plain": [
       "timesteps:   0%|          | 0/11231 [00:00<?, ?it/s]"
      ]
     },
     "metadata": {},
     "output_type": "display_data"
    },
    {
     "data": {
      "application/vnd.jupyter.widget-view+json": {
       "model_id": "5776cb5e8f8b413b979b4791293b5932",
       "version_major": 2,
       "version_minor": 0
      },
      "text/plain": [
       "timesteps:   0%|          | 0/11231 [00:00<?, ?it/s]"
      ]
     },
     "metadata": {},
     "output_type": "display_data"
    },
    {
     "data": {
      "application/vnd.jupyter.widget-view+json": {
       "model_id": "d3a52f84ee14413a82eea146c3f3f1c9",
       "version_major": 2,
       "version_minor": 0
      },
      "text/plain": [
       "timesteps:   0%|          | 0/11231 [00:00<?, ?it/s]"
      ]
     },
     "metadata": {},
     "output_type": "display_data"
    },
    {
     "data": {
      "application/vnd.jupyter.widget-view+json": {
       "model_id": "9b535ee97cc6466d956fab1801bedbdb",
       "version_major": 2,
       "version_minor": 0
      },
      "text/plain": [
       "timesteps:   0%|          | 0/11231 [00:00<?, ?it/s]"
      ]
     },
     "metadata": {},
     "output_type": "display_data"
    },
    {
     "data": {
      "application/vnd.jupyter.widget-view+json": {
       "model_id": "48bfe4b591d14f62b4c3c454c271ca42",
       "version_major": 2,
       "version_minor": 0
      },
      "text/plain": [
       "timesteps:   0%|          | 0/11231 [00:00<?, ?it/s]"
      ]
     },
     "metadata": {},
     "output_type": "display_data"
    },
    {
     "name": "stdout",
     "output_type": "stream",
     "text": [
      "452 of 5000, minimal objective function=1.31443, time remaining: 00:18:50\n",
      "Objective function convergence criteria is now being updated and assessed...\n",
      "Updated convergence criteria: 2.253133\n",
      "ComplexEvo loop #9 in progress...\n"
     ]
    },
    {
     "data": {
      "application/vnd.jupyter.widget-view+json": {
       "model_id": "1c6ebe14ca65402a97fa7779ce0c4448",
       "version_major": 2,
       "version_minor": 0
      },
      "text/plain": [
       "timesteps:   0%|          | 0/11231 [00:00<?, ?it/s]"
      ]
     },
     "metadata": {},
     "output_type": "display_data"
    },
    {
     "data": {
      "application/vnd.jupyter.widget-view+json": {
       "model_id": "711ef143fcd941eeaa5f9f804cb41c49",
       "version_major": 2,
       "version_minor": 0
      },
      "text/plain": [
       "timesteps:   0%|          | 0/11231 [00:00<?, ?it/s]"
      ]
     },
     "metadata": {},
     "output_type": "display_data"
    },
    {
     "data": {
      "application/vnd.jupyter.widget-view+json": {
       "model_id": "847aa1c590294840b8402447cf4a76ac",
       "version_major": 2,
       "version_minor": 0
      },
      "text/plain": [
       "timesteps:   0%|          | 0/11231 [00:00<?, ?it/s]"
      ]
     },
     "metadata": {},
     "output_type": "display_data"
    },
    {
     "data": {
      "application/vnd.jupyter.widget-view+json": {
       "model_id": "51b6b49283a44fdcbf69db4f87ebd112",
       "version_major": 2,
       "version_minor": 0
      },
      "text/plain": [
       "timesteps:   0%|          | 0/11231 [00:00<?, ?it/s]"
      ]
     },
     "metadata": {},
     "output_type": "display_data"
    },
    {
     "data": {
      "application/vnd.jupyter.widget-view+json": {
       "model_id": "773ba1703e9f41d99ed011e8647f9bd7",
       "version_major": 2,
       "version_minor": 0
      },
      "text/plain": [
       "timesteps:   0%|          | 0/11231 [00:00<?, ?it/s]"
      ]
     },
     "metadata": {},
     "output_type": "display_data"
    },
    {
     "data": {
      "application/vnd.jupyter.widget-view+json": {
       "model_id": "e56d686ba8a54bb28ebb6227eb23b425",
       "version_major": 2,
       "version_minor": 0
      },
      "text/plain": [
       "timesteps:   0%|          | 0/11231 [00:00<?, ?it/s]"
      ]
     },
     "metadata": {},
     "output_type": "display_data"
    },
    {
     "data": {
      "application/vnd.jupyter.widget-view+json": {
       "model_id": "8a06391be7474ed192c171c784dc4813",
       "version_major": 2,
       "version_minor": 0
      },
      "text/plain": [
       "timesteps:   0%|          | 0/11231 [00:00<?, ?it/s]"
      ]
     },
     "metadata": {},
     "output_type": "display_data"
    },
    {
     "data": {
      "application/vnd.jupyter.widget-view+json": {
       "model_id": "42ff2c4ac7824b48a8e94e802286a178",
       "version_major": 2,
       "version_minor": 0
      },
      "text/plain": [
       "timesteps:   0%|          | 0/11231 [00:00<?, ?it/s]"
      ]
     },
     "metadata": {},
     "output_type": "display_data"
    },
    {
     "data": {
      "application/vnd.jupyter.widget-view+json": {
       "model_id": "f50c299904a0473cbc75c204fcce3159",
       "version_major": 2,
       "version_minor": 0
      },
      "text/plain": [
       "timesteps:   0%|          | 0/11231 [00:00<?, ?it/s]"
      ]
     },
     "metadata": {},
     "output_type": "display_data"
    },
    {
     "data": {
      "application/vnd.jupyter.widget-view+json": {
       "model_id": "cd21c6139ca04846bdfc5690715cade0",
       "version_major": 2,
       "version_minor": 0
      },
      "text/plain": [
       "timesteps:   0%|          | 0/11231 [00:00<?, ?it/s]"
      ]
     },
     "metadata": {},
     "output_type": "display_data"
    },
    {
     "name": "stdout",
     "output_type": "stream",
     "text": [
      "467 of 5000, minimal objective function=1.31443, time remaining: 00:18:46\n"
     ]
    },
    {
     "data": {
      "application/vnd.jupyter.widget-view+json": {
       "model_id": "16d51125445b4faa9fd43b3e694c5d5b",
       "version_major": 2,
       "version_minor": 0
      },
      "text/plain": [
       "timesteps:   0%|          | 0/11231 [00:00<?, ?it/s]"
      ]
     },
     "metadata": {},
     "output_type": "display_data"
    },
    {
     "data": {
      "application/vnd.jupyter.widget-view+json": {
       "model_id": "c572b638047d44a0a6bc199f8252f371",
       "version_major": 2,
       "version_minor": 0
      },
      "text/plain": [
       "timesteps:   0%|          | 0/11231 [00:00<?, ?it/s]"
      ]
     },
     "metadata": {},
     "output_type": "display_data"
    },
    {
     "data": {
      "application/vnd.jupyter.widget-view+json": {
       "model_id": "8e054fc65b3e41bdb9c8bf2ac8c5d827",
       "version_major": 2,
       "version_minor": 0
      },
      "text/plain": [
       "timesteps:   0%|          | 0/11231 [00:00<?, ?it/s]"
      ]
     },
     "metadata": {},
     "output_type": "display_data"
    },
    {
     "data": {
      "application/vnd.jupyter.widget-view+json": {
       "model_id": "78e4ce84e3d04b718b61513544736b19",
       "version_major": 2,
       "version_minor": 0
      },
      "text/plain": [
       "timesteps:   0%|          | 0/11231 [00:00<?, ?it/s]"
      ]
     },
     "metadata": {},
     "output_type": "display_data"
    },
    {
     "data": {
      "application/vnd.jupyter.widget-view+json": {
       "model_id": "71a6ffc5a9ce43d2a890671214aca46a",
       "version_major": 2,
       "version_minor": 0
      },
      "text/plain": [
       "timesteps:   0%|          | 0/11231 [00:00<?, ?it/s]"
      ]
     },
     "metadata": {},
     "output_type": "display_data"
    },
    {
     "data": {
      "application/vnd.jupyter.widget-view+json": {
       "model_id": "20ce5bcacf744747983ffb8fe2c60bda",
       "version_major": 2,
       "version_minor": 0
      },
      "text/plain": [
       "timesteps:   0%|          | 0/11231 [00:00<?, ?it/s]"
      ]
     },
     "metadata": {},
     "output_type": "display_data"
    },
    {
     "data": {
      "application/vnd.jupyter.widget-view+json": {
       "model_id": "95137f793cc145679288445c90738f1c",
       "version_major": 2,
       "version_minor": 0
      },
      "text/plain": [
       "timesteps:   0%|          | 0/11231 [00:00<?, ?it/s]"
      ]
     },
     "metadata": {},
     "output_type": "display_data"
    },
    {
     "data": {
      "application/vnd.jupyter.widget-view+json": {
       "model_id": "1ac55cb3ed874a2cbbe4bc814fc570f2",
       "version_major": 2,
       "version_minor": 0
      },
      "text/plain": [
       "timesteps:   0%|          | 0/11231 [00:00<?, ?it/s]"
      ]
     },
     "metadata": {},
     "output_type": "display_data"
    },
    {
     "data": {
      "application/vnd.jupyter.widget-view+json": {
       "model_id": "7c382f02320a4d2e900cbc59c93722b3",
       "version_major": 2,
       "version_minor": 0
      },
      "text/plain": [
       "timesteps:   0%|          | 0/11231 [00:00<?, ?it/s]"
      ]
     },
     "metadata": {},
     "output_type": "display_data"
    },
    {
     "name": "stdout",
     "output_type": "stream",
     "text": [
      "481 of 5000, minimal objective function=1.3137, time remaining: 00:18:41\n"
     ]
    },
    {
     "data": {
      "application/vnd.jupyter.widget-view+json": {
       "model_id": "f9c0f61c19144fa6aeae471c99d5ef02",
       "version_major": 2,
       "version_minor": 0
      },
      "text/plain": [
       "timesteps:   0%|          | 0/11231 [00:00<?, ?it/s]"
      ]
     },
     "metadata": {},
     "output_type": "display_data"
    },
    {
     "data": {
      "application/vnd.jupyter.widget-view+json": {
       "model_id": "c481ccd7d52b4b33b0b3bc3cb4fd0955",
       "version_major": 2,
       "version_minor": 0
      },
      "text/plain": [
       "timesteps:   0%|          | 0/11231 [00:00<?, ?it/s]"
      ]
     },
     "metadata": {},
     "output_type": "display_data"
    },
    {
     "data": {
      "application/vnd.jupyter.widget-view+json": {
       "model_id": "200f2da4434d44e190effc49e72e5122",
       "version_major": 2,
       "version_minor": 0
      },
      "text/plain": [
       "timesteps:   0%|          | 0/11231 [00:00<?, ?it/s]"
      ]
     },
     "metadata": {},
     "output_type": "display_data"
    },
    {
     "data": {
      "application/vnd.jupyter.widget-view+json": {
       "model_id": "770ae9a6b1a74854958f8a5d6d70433f",
       "version_major": 2,
       "version_minor": 0
      },
      "text/plain": [
       "timesteps:   0%|          | 0/11231 [00:00<?, ?it/s]"
      ]
     },
     "metadata": {},
     "output_type": "display_data"
    },
    {
     "data": {
      "application/vnd.jupyter.widget-view+json": {
       "model_id": "0339c669bde147bfb11a00e78a4ae51d",
       "version_major": 2,
       "version_minor": 0
      },
      "text/plain": [
       "timesteps:   0%|          | 0/11231 [00:00<?, ?it/s]"
      ]
     },
     "metadata": {},
     "output_type": "display_data"
    },
    {
     "data": {
      "application/vnd.jupyter.widget-view+json": {
       "model_id": "38c72fe64432441286243a582060a0f4",
       "version_major": 2,
       "version_minor": 0
      },
      "text/plain": [
       "timesteps:   0%|          | 0/11231 [00:00<?, ?it/s]"
      ]
     },
     "metadata": {},
     "output_type": "display_data"
    },
    {
     "data": {
      "application/vnd.jupyter.widget-view+json": {
       "model_id": "31c1b6b6ef6a456fbbdec6f2c246c3b8",
       "version_major": 2,
       "version_minor": 0
      },
      "text/plain": [
       "timesteps:   0%|          | 0/11231 [00:00<?, ?it/s]"
      ]
     },
     "metadata": {},
     "output_type": "display_data"
    },
    {
     "data": {
      "application/vnd.jupyter.widget-view+json": {
       "model_id": "eb822e26604c4435a39b678a1c9f500a",
       "version_major": 2,
       "version_minor": 0
      },
      "text/plain": [
       "timesteps:   0%|          | 0/11231 [00:00<?, ?it/s]"
      ]
     },
     "metadata": {},
     "output_type": "display_data"
    },
    {
     "name": "stdout",
     "output_type": "stream",
     "text": [
      "494 of 5000, minimal objective function=1.3137, time remaining: 00:18:38\n"
     ]
    },
    {
     "data": {
      "application/vnd.jupyter.widget-view+json": {
       "model_id": "d53b944ed3ee4127900d1b8d56b4b853",
       "version_major": 2,
       "version_minor": 0
      },
      "text/plain": [
       "timesteps:   0%|          | 0/11231 [00:00<?, ?it/s]"
      ]
     },
     "metadata": {},
     "output_type": "display_data"
    },
    {
     "data": {
      "application/vnd.jupyter.widget-view+json": {
       "model_id": "1fe96b2ab4524f5e87702308981653ad",
       "version_major": 2,
       "version_minor": 0
      },
      "text/plain": [
       "timesteps:   0%|          | 0/11231 [00:00<?, ?it/s]"
      ]
     },
     "metadata": {},
     "output_type": "display_data"
    },
    {
     "data": {
      "application/vnd.jupyter.widget-view+json": {
       "model_id": "96d7ea2095104dd7873bc11bf69313d6",
       "version_major": 2,
       "version_minor": 0
      },
      "text/plain": [
       "timesteps:   0%|          | 0/11231 [00:00<?, ?it/s]"
      ]
     },
     "metadata": {},
     "output_type": "display_data"
    },
    {
     "data": {
      "application/vnd.jupyter.widget-view+json": {
       "model_id": "8a10d39efff24ef9a827f58bc3389c17",
       "version_major": 2,
       "version_minor": 0
      },
      "text/plain": [
       "timesteps:   0%|          | 0/11231 [00:00<?, ?it/s]"
      ]
     },
     "metadata": {},
     "output_type": "display_data"
    },
    {
     "data": {
      "application/vnd.jupyter.widget-view+json": {
       "model_id": "62ade31c3ba841deb8e938a1bb9116e7",
       "version_major": 2,
       "version_minor": 0
      },
      "text/plain": [
       "timesteps:   0%|          | 0/11231 [00:00<?, ?it/s]"
      ]
     },
     "metadata": {},
     "output_type": "display_data"
    },
    {
     "data": {
      "application/vnd.jupyter.widget-view+json": {
       "model_id": "3db094b998324f16a39757f12674ae53",
       "version_major": 2,
       "version_minor": 0
      },
      "text/plain": [
       "timesteps:   0%|          | 0/11231 [00:00<?, ?it/s]"
      ]
     },
     "metadata": {},
     "output_type": "display_data"
    },
    {
     "data": {
      "application/vnd.jupyter.widget-view+json": {
       "model_id": "50f7d064c3314567b60e2dbdce01c210",
       "version_major": 2,
       "version_minor": 0
      },
      "text/plain": [
       "timesteps:   0%|          | 0/11231 [00:00<?, ?it/s]"
      ]
     },
     "metadata": {},
     "output_type": "display_data"
    },
    {
     "data": {
      "application/vnd.jupyter.widget-view+json": {
       "model_id": "b1d7c6e7a5904055b5e9e607a46f525d",
       "version_major": 2,
       "version_minor": 0
      },
      "text/plain": [
       "timesteps:   0%|          | 0/11231 [00:00<?, ?it/s]"
      ]
     },
     "metadata": {},
     "output_type": "display_data"
    },
    {
     "name": "stdout",
     "output_type": "stream",
     "text": [
      "507 of 5000, minimal objective function=1.3137, time remaining: 00:18:32\n",
      "Objective function convergence criteria is now being updated and assessed...\n",
      "Updated convergence criteria: 0.055593\n",
      "ComplexEvo loop #10 in progress...\n"
     ]
    },
    {
     "data": {
      "application/vnd.jupyter.widget-view+json": {
       "model_id": "037c50c7c7e0446e866c28a2b7f30f28",
       "version_major": 2,
       "version_minor": 0
      },
      "text/plain": [
       "timesteps:   0%|          | 0/11231 [00:00<?, ?it/s]"
      ]
     },
     "metadata": {},
     "output_type": "display_data"
    },
    {
     "data": {
      "application/vnd.jupyter.widget-view+json": {
       "model_id": "c9452da7f93544bd87a4994b363e1052",
       "version_major": 2,
       "version_minor": 0
      },
      "text/plain": [
       "timesteps:   0%|          | 0/11231 [00:00<?, ?it/s]"
      ]
     },
     "metadata": {},
     "output_type": "display_data"
    },
    {
     "data": {
      "application/vnd.jupyter.widget-view+json": {
       "model_id": "acade01ac4c64698a722fb4aa587d806",
       "version_major": 2,
       "version_minor": 0
      },
      "text/plain": [
       "timesteps:   0%|          | 0/11231 [00:00<?, ?it/s]"
      ]
     },
     "metadata": {},
     "output_type": "display_data"
    },
    {
     "data": {
      "application/vnd.jupyter.widget-view+json": {
       "model_id": "8dd1371ee96146669f9e9180f7a7a96f",
       "version_major": 2,
       "version_minor": 0
      },
      "text/plain": [
       "timesteps:   0%|          | 0/11231 [00:00<?, ?it/s]"
      ]
     },
     "metadata": {},
     "output_type": "display_data"
    },
    {
     "data": {
      "application/vnd.jupyter.widget-view+json": {
       "model_id": "7eb5aff46bc843629d71a5008dedfdd2",
       "version_major": 2,
       "version_minor": 0
      },
      "text/plain": [
       "timesteps:   0%|          | 0/11231 [00:00<?, ?it/s]"
      ]
     },
     "metadata": {},
     "output_type": "display_data"
    },
    {
     "data": {
      "application/vnd.jupyter.widget-view+json": {
       "model_id": "f1ac84491ceb4e84b76c405efef57fd1",
       "version_major": 2,
       "version_minor": 0
      },
      "text/plain": [
       "timesteps:   0%|          | 0/11231 [00:00<?, ?it/s]"
      ]
     },
     "metadata": {},
     "output_type": "display_data"
    },
    {
     "data": {
      "application/vnd.jupyter.widget-view+json": {
       "model_id": "154fe5b41e2741cdb82333abc1f7f893",
       "version_major": 2,
       "version_minor": 0
      },
      "text/plain": [
       "timesteps:   0%|          | 0/11231 [00:00<?, ?it/s]"
      ]
     },
     "metadata": {},
     "output_type": "display_data"
    },
    {
     "data": {
      "application/vnd.jupyter.widget-view+json": {
       "model_id": "9c934ca8f6bd456faf72d824d75795dd",
       "version_major": 2,
       "version_minor": 0
      },
      "text/plain": [
       "timesteps:   0%|          | 0/11231 [00:00<?, ?it/s]"
      ]
     },
     "metadata": {},
     "output_type": "display_data"
    },
    {
     "data": {
      "application/vnd.jupyter.widget-view+json": {
       "model_id": "b167ba7937c345bc84ceb9e922702821",
       "version_major": 2,
       "version_minor": 0
      },
      "text/plain": [
       "timesteps:   0%|          | 0/11231 [00:00<?, ?it/s]"
      ]
     },
     "metadata": {},
     "output_type": "display_data"
    },
    {
     "data": {
      "application/vnd.jupyter.widget-view+json": {
       "model_id": "63376a46bef148a1991a4d14fec2156a",
       "version_major": 2,
       "version_minor": 0
      },
      "text/plain": [
       "timesteps:   0%|          | 0/11231 [00:00<?, ?it/s]"
      ]
     },
     "metadata": {},
     "output_type": "display_data"
    },
    {
     "name": "stdout",
     "output_type": "stream",
     "text": [
      "522 of 5000, minimal objective function=1.3137, time remaining: 00:18:28\n"
     ]
    },
    {
     "data": {
      "application/vnd.jupyter.widget-view+json": {
       "model_id": "b2168b81f26a4151a50cbfcfe80efc66",
       "version_major": 2,
       "version_minor": 0
      },
      "text/plain": [
       "timesteps:   0%|          | 0/11231 [00:00<?, ?it/s]"
      ]
     },
     "metadata": {},
     "output_type": "display_data"
    },
    {
     "data": {
      "application/vnd.jupyter.widget-view+json": {
       "model_id": "c8c9a4507eaa4e1b850d6395b23918e2",
       "version_major": 2,
       "version_minor": 0
      },
      "text/plain": [
       "timesteps:   0%|          | 0/11231 [00:00<?, ?it/s]"
      ]
     },
     "metadata": {},
     "output_type": "display_data"
    },
    {
     "data": {
      "application/vnd.jupyter.widget-view+json": {
       "model_id": "f3a36ee415404973958fd56b8908574f",
       "version_major": 2,
       "version_minor": 0
      },
      "text/plain": [
       "timesteps:   0%|          | 0/11231 [00:00<?, ?it/s]"
      ]
     },
     "metadata": {},
     "output_type": "display_data"
    },
    {
     "data": {
      "application/vnd.jupyter.widget-view+json": {
       "model_id": "703843848f0b48b494e8e4d413d2d8ee",
       "version_major": 2,
       "version_minor": 0
      },
      "text/plain": [
       "timesteps:   0%|          | 0/11231 [00:00<?, ?it/s]"
      ]
     },
     "metadata": {},
     "output_type": "display_data"
    },
    {
     "data": {
      "application/vnd.jupyter.widget-view+json": {
       "model_id": "d1c7172f66af4d318d5fe36dd043a103",
       "version_major": 2,
       "version_minor": 0
      },
      "text/plain": [
       "timesteps:   0%|          | 0/11231 [00:00<?, ?it/s]"
      ]
     },
     "metadata": {},
     "output_type": "display_data"
    },
    {
     "data": {
      "application/vnd.jupyter.widget-view+json": {
       "model_id": "fca9aa1d825e4793a9500effd0c24dd9",
       "version_major": 2,
       "version_minor": 0
      },
      "text/plain": [
       "timesteps:   0%|          | 0/11231 [00:00<?, ?it/s]"
      ]
     },
     "metadata": {},
     "output_type": "display_data"
    },
    {
     "data": {
      "application/vnd.jupyter.widget-view+json": {
       "model_id": "6e73ecd9f62c4af48e22bc1bece05aa5",
       "version_major": 2,
       "version_minor": 0
      },
      "text/plain": [
       "timesteps:   0%|          | 0/11231 [00:00<?, ?it/s]"
      ]
     },
     "metadata": {},
     "output_type": "display_data"
    },
    {
     "data": {
      "application/vnd.jupyter.widget-view+json": {
       "model_id": "134b23d2be38427f880d886d1153bcac",
       "version_major": 2,
       "version_minor": 0
      },
      "text/plain": [
       "timesteps:   0%|          | 0/11231 [00:00<?, ?it/s]"
      ]
     },
     "metadata": {},
     "output_type": "display_data"
    },
    {
     "data": {
      "application/vnd.jupyter.widget-view+json": {
       "model_id": "35bc8519c56a4f308c8e11a95e47fedb",
       "version_major": 2,
       "version_minor": 0
      },
      "text/plain": [
       "timesteps:   0%|          | 0/11231 [00:00<?, ?it/s]"
      ]
     },
     "metadata": {},
     "output_type": "display_data"
    },
    {
     "name": "stdout",
     "output_type": "stream",
     "text": [
      "536 of 5000, minimal objective function=1.3137, time remaining: 00:18:24\n"
     ]
    },
    {
     "data": {
      "application/vnd.jupyter.widget-view+json": {
       "model_id": "e5de7c61c051455894484d2a68f7cdca",
       "version_major": 2,
       "version_minor": 0
      },
      "text/plain": [
       "timesteps:   0%|          | 0/11231 [00:00<?, ?it/s]"
      ]
     },
     "metadata": {},
     "output_type": "display_data"
    },
    {
     "data": {
      "application/vnd.jupyter.widget-view+json": {
       "model_id": "e2d6e105be5942faac862782fb9ea66d",
       "version_major": 2,
       "version_minor": 0
      },
      "text/plain": [
       "timesteps:   0%|          | 0/11231 [00:00<?, ?it/s]"
      ]
     },
     "metadata": {},
     "output_type": "display_data"
    },
    {
     "data": {
      "application/vnd.jupyter.widget-view+json": {
       "model_id": "0dccf28ac20741738f5eca7749c67db5",
       "version_major": 2,
       "version_minor": 0
      },
      "text/plain": [
       "timesteps:   0%|          | 0/11231 [00:00<?, ?it/s]"
      ]
     },
     "metadata": {},
     "output_type": "display_data"
    },
    {
     "data": {
      "application/vnd.jupyter.widget-view+json": {
       "model_id": "34e0c5dcc84a480186d604511268f33c",
       "version_major": 2,
       "version_minor": 0
      },
      "text/plain": [
       "timesteps:   0%|          | 0/11231 [00:00<?, ?it/s]"
      ]
     },
     "metadata": {},
     "output_type": "display_data"
    },
    {
     "data": {
      "application/vnd.jupyter.widget-view+json": {
       "model_id": "ceb6196707fc4e96a76d72798b76f7bf",
       "version_major": 2,
       "version_minor": 0
      },
      "text/plain": [
       "timesteps:   0%|          | 0/11231 [00:00<?, ?it/s]"
      ]
     },
     "metadata": {},
     "output_type": "display_data"
    },
    {
     "data": {
      "application/vnd.jupyter.widget-view+json": {
       "model_id": "b78ec204d78143658fc64c20cbe98180",
       "version_major": 2,
       "version_minor": 0
      },
      "text/plain": [
       "timesteps:   0%|          | 0/11231 [00:00<?, ?it/s]"
      ]
     },
     "metadata": {},
     "output_type": "display_data"
    },
    {
     "data": {
      "application/vnd.jupyter.widget-view+json": {
       "model_id": "92b4b82958a74441ac02580742b446e9",
       "version_major": 2,
       "version_minor": 0
      },
      "text/plain": [
       "timesteps:   0%|          | 0/11231 [00:00<?, ?it/s]"
      ]
     },
     "metadata": {},
     "output_type": "display_data"
    },
    {
     "data": {
      "application/vnd.jupyter.widget-view+json": {
       "model_id": "6abc89782def410193186f1924c009e1",
       "version_major": 2,
       "version_minor": 0
      },
      "text/plain": [
       "timesteps:   0%|          | 0/11231 [00:00<?, ?it/s]"
      ]
     },
     "metadata": {},
     "output_type": "display_data"
    },
    {
     "data": {
      "application/vnd.jupyter.widget-view+json": {
       "model_id": "a908eaf6559c44b78a0f9050973ed6bc",
       "version_major": 2,
       "version_minor": 0
      },
      "text/plain": [
       "timesteps:   0%|          | 0/11231 [00:00<?, ?it/s]"
      ]
     },
     "metadata": {},
     "output_type": "display_data"
    },
    {
     "name": "stdout",
     "output_type": "stream",
     "text": [
      "550 of 5000, minimal objective function=1.31319, time remaining: 00:18:22\n"
     ]
    },
    {
     "data": {
      "application/vnd.jupyter.widget-view+json": {
       "model_id": "8c6702a1f42947a9a81a2df0dfc618a7",
       "version_major": 2,
       "version_minor": 0
      },
      "text/plain": [
       "timesteps:   0%|          | 0/11231 [00:00<?, ?it/s]"
      ]
     },
     "metadata": {},
     "output_type": "display_data"
    },
    {
     "data": {
      "application/vnd.jupyter.widget-view+json": {
       "model_id": "dc1783d09fe34e4696ac082171613c38",
       "version_major": 2,
       "version_minor": 0
      },
      "text/plain": [
       "timesteps:   0%|          | 0/11231 [00:00<?, ?it/s]"
      ]
     },
     "metadata": {},
     "output_type": "display_data"
    },
    {
     "data": {
      "application/vnd.jupyter.widget-view+json": {
       "model_id": "f94180b55ac54a9e8ecb6e2e68d038d5",
       "version_major": 2,
       "version_minor": 0
      },
      "text/plain": [
       "timesteps:   0%|          | 0/11231 [00:00<?, ?it/s]"
      ]
     },
     "metadata": {},
     "output_type": "display_data"
    },
    {
     "data": {
      "application/vnd.jupyter.widget-view+json": {
       "model_id": "bc75e5f01f6343edbe5980986c9b4950",
       "version_major": 2,
       "version_minor": 0
      },
      "text/plain": [
       "timesteps:   0%|          | 0/11231 [00:00<?, ?it/s]"
      ]
     },
     "metadata": {},
     "output_type": "display_data"
    },
    {
     "data": {
      "application/vnd.jupyter.widget-view+json": {
       "model_id": "5e7e699179404362af8fad8b473e956a",
       "version_major": 2,
       "version_minor": 0
      },
      "text/plain": [
       "timesteps:   0%|          | 0/11231 [00:00<?, ?it/s]"
      ]
     },
     "metadata": {},
     "output_type": "display_data"
    },
    {
     "data": {
      "application/vnd.jupyter.widget-view+json": {
       "model_id": "993ce48377e044e595acb91dccf137f6",
       "version_major": 2,
       "version_minor": 0
      },
      "text/plain": [
       "timesteps:   0%|          | 0/11231 [00:00<?, ?it/s]"
      ]
     },
     "metadata": {},
     "output_type": "display_data"
    },
    {
     "data": {
      "application/vnd.jupyter.widget-view+json": {
       "model_id": "6a5d5b1f81da4b7abcf1669044d619ac",
       "version_major": 2,
       "version_minor": 0
      },
      "text/plain": [
       "timesteps:   0%|          | 0/11231 [00:00<?, ?it/s]"
      ]
     },
     "metadata": {},
     "output_type": "display_data"
    },
    {
     "data": {
      "application/vnd.jupyter.widget-view+json": {
       "model_id": "adc7f1bab51d4a8da137f16fd889f299",
       "version_major": 2,
       "version_minor": 0
      },
      "text/plain": [
       "timesteps:   0%|          | 0/11231 [00:00<?, ?it/s]"
      ]
     },
     "metadata": {},
     "output_type": "display_data"
    },
    {
     "data": {
      "application/vnd.jupyter.widget-view+json": {
       "model_id": "c4849be15d974da0b721877dfa261c65",
       "version_major": 2,
       "version_minor": 0
      },
      "text/plain": [
       "timesteps:   0%|          | 0/11231 [00:00<?, ?it/s]"
      ]
     },
     "metadata": {},
     "output_type": "display_data"
    },
    {
     "data": {
      "application/vnd.jupyter.widget-view+json": {
       "model_id": "2a7e2f1cec354ae8b9c91ae6ad333e58",
       "version_major": 2,
       "version_minor": 0
      },
      "text/plain": [
       "timesteps:   0%|          | 0/11231 [00:00<?, ?it/s]"
      ]
     },
     "metadata": {},
     "output_type": "display_data"
    },
    {
     "name": "stdout",
     "output_type": "stream",
     "text": [
      "565 of 5000, minimal objective function=1.31319, time remaining: 00:18:18\n",
      "Objective function convergence criteria is now being updated and assessed...\n",
      "Updated convergence criteria: 0.094017\n",
      "ComplexEvo loop #11 in progress...\n"
     ]
    },
    {
     "data": {
      "application/vnd.jupyter.widget-view+json": {
       "model_id": "7f69fefa7ac34d489d1d5b0a19bcc3c9",
       "version_major": 2,
       "version_minor": 0
      },
      "text/plain": [
       "timesteps:   0%|          | 0/11231 [00:00<?, ?it/s]"
      ]
     },
     "metadata": {},
     "output_type": "display_data"
    },
    {
     "data": {
      "application/vnd.jupyter.widget-view+json": {
       "model_id": "7e4d672fb89345ae98a5c14abe7d0afd",
       "version_major": 2,
       "version_minor": 0
      },
      "text/plain": [
       "timesteps:   0%|          | 0/11231 [00:00<?, ?it/s]"
      ]
     },
     "metadata": {},
     "output_type": "display_data"
    },
    {
     "data": {
      "application/vnd.jupyter.widget-view+json": {
       "model_id": "6f5b969205b0460bb4a0cc9b39f3eaa5",
       "version_major": 2,
       "version_minor": 0
      },
      "text/plain": [
       "timesteps:   0%|          | 0/11231 [00:00<?, ?it/s]"
      ]
     },
     "metadata": {},
     "output_type": "display_data"
    },
    {
     "data": {
      "application/vnd.jupyter.widget-view+json": {
       "model_id": "922a5036754c49e6a8210ffa5a3a34ca",
       "version_major": 2,
       "version_minor": 0
      },
      "text/plain": [
       "timesteps:   0%|          | 0/11231 [00:00<?, ?it/s]"
      ]
     },
     "metadata": {},
     "output_type": "display_data"
    },
    {
     "data": {
      "application/vnd.jupyter.widget-view+json": {
       "model_id": "0201ffaf5bb94b7d983bbfb1f3007d27",
       "version_major": 2,
       "version_minor": 0
      },
      "text/plain": [
       "timesteps:   0%|          | 0/11231 [00:00<?, ?it/s]"
      ]
     },
     "metadata": {},
     "output_type": "display_data"
    },
    {
     "data": {
      "application/vnd.jupyter.widget-view+json": {
       "model_id": "e37929fac2e74415b599bf262ecd1fbd",
       "version_major": 2,
       "version_minor": 0
      },
      "text/plain": [
       "timesteps:   0%|          | 0/11231 [00:00<?, ?it/s]"
      ]
     },
     "metadata": {},
     "output_type": "display_data"
    },
    {
     "data": {
      "application/vnd.jupyter.widget-view+json": {
       "model_id": "1be329253a544b66b63f5fa4500c860f",
       "version_major": 2,
       "version_minor": 0
      },
      "text/plain": [
       "timesteps:   0%|          | 0/11231 [00:00<?, ?it/s]"
      ]
     },
     "metadata": {},
     "output_type": "display_data"
    },
    {
     "data": {
      "application/vnd.jupyter.widget-view+json": {
       "model_id": "9f57cd8e8c2c4c81bd47b6fc59d9346a",
       "version_major": 2,
       "version_minor": 0
      },
      "text/plain": [
       "timesteps:   0%|          | 0/11231 [00:00<?, ?it/s]"
      ]
     },
     "metadata": {},
     "output_type": "display_data"
    },
    {
     "data": {
      "application/vnd.jupyter.widget-view+json": {
       "model_id": "a6a424f8871b4089bb984a51f5999127",
       "version_major": 2,
       "version_minor": 0
      },
      "text/plain": [
       "timesteps:   0%|          | 0/11231 [00:00<?, ?it/s]"
      ]
     },
     "metadata": {},
     "output_type": "display_data"
    },
    {
     "data": {
      "application/vnd.jupyter.widget-view+json": {
       "model_id": "f81b76c646be421292b18f999f45e147",
       "version_major": 2,
       "version_minor": 0
      },
      "text/plain": [
       "timesteps:   0%|          | 0/11231 [00:00<?, ?it/s]"
      ]
     },
     "metadata": {},
     "output_type": "display_data"
    },
    {
     "name": "stdout",
     "output_type": "stream",
     "text": [
      "580 of 5000, minimal objective function=1.31319, time remaining: 00:18:15\n"
     ]
    },
    {
     "data": {
      "application/vnd.jupyter.widget-view+json": {
       "model_id": "c7376c5c5b8c482ca92a58d3e38cacda",
       "version_major": 2,
       "version_minor": 0
      },
      "text/plain": [
       "timesteps:   0%|          | 0/11231 [00:00<?, ?it/s]"
      ]
     },
     "metadata": {},
     "output_type": "display_data"
    },
    {
     "data": {
      "application/vnd.jupyter.widget-view+json": {
       "model_id": "e6cd7cfe888849bb806b7c26e4111fb1",
       "version_major": 2,
       "version_minor": 0
      },
      "text/plain": [
       "timesteps:   0%|          | 0/11231 [00:00<?, ?it/s]"
      ]
     },
     "metadata": {},
     "output_type": "display_data"
    },
    {
     "data": {
      "application/vnd.jupyter.widget-view+json": {
       "model_id": "2d3687bb957e42d488db3b8b0b6f971b",
       "version_major": 2,
       "version_minor": 0
      },
      "text/plain": [
       "timesteps:   0%|          | 0/11231 [00:00<?, ?it/s]"
      ]
     },
     "metadata": {},
     "output_type": "display_data"
    },
    {
     "data": {
      "application/vnd.jupyter.widget-view+json": {
       "model_id": "d7fc38ca53bf4e94ad6e7f9cd60d3c50",
       "version_major": 2,
       "version_minor": 0
      },
      "text/plain": [
       "timesteps:   0%|          | 0/11231 [00:00<?, ?it/s]"
      ]
     },
     "metadata": {},
     "output_type": "display_data"
    },
    {
     "data": {
      "application/vnd.jupyter.widget-view+json": {
       "model_id": "fa592898c4bb41fc81759919139316e0",
       "version_major": 2,
       "version_minor": 0
      },
      "text/plain": [
       "timesteps:   0%|          | 0/11231 [00:00<?, ?it/s]"
      ]
     },
     "metadata": {},
     "output_type": "display_data"
    },
    {
     "data": {
      "application/vnd.jupyter.widget-view+json": {
       "model_id": "4dc34619fff342f08c2e22129fc542b2",
       "version_major": 2,
       "version_minor": 0
      },
      "text/plain": [
       "timesteps:   0%|          | 0/11231 [00:00<?, ?it/s]"
      ]
     },
     "metadata": {},
     "output_type": "display_data"
    },
    {
     "data": {
      "application/vnd.jupyter.widget-view+json": {
       "model_id": "036c59a4228b47e6b3e7fc8ab0d22863",
       "version_major": 2,
       "version_minor": 0
      },
      "text/plain": [
       "timesteps:   0%|          | 0/11231 [00:00<?, ?it/s]"
      ]
     },
     "metadata": {},
     "output_type": "display_data"
    },
    {
     "data": {
      "application/vnd.jupyter.widget-view+json": {
       "model_id": "885c1f1773214a0e9489333bf1e8733d",
       "version_major": 2,
       "version_minor": 0
      },
      "text/plain": [
       "timesteps:   0%|          | 0/11231 [00:00<?, ?it/s]"
      ]
     },
     "metadata": {},
     "output_type": "display_data"
    },
    {
     "data": {
      "application/vnd.jupyter.widget-view+json": {
       "model_id": "1ec96336a6394670b8b74eb8d8272a45",
       "version_major": 2,
       "version_minor": 0
      },
      "text/plain": [
       "timesteps:   0%|          | 0/11231 [00:00<?, ?it/s]"
      ]
     },
     "metadata": {},
     "output_type": "display_data"
    },
    {
     "data": {
      "application/vnd.jupyter.widget-view+json": {
       "model_id": "326793974e8a440ea200f51cc30d581c",
       "version_major": 2,
       "version_minor": 0
      },
      "text/plain": [
       "timesteps:   0%|          | 0/11231 [00:00<?, ?it/s]"
      ]
     },
     "metadata": {},
     "output_type": "display_data"
    },
    {
     "name": "stdout",
     "output_type": "stream",
     "text": [
      "595 of 5000, minimal objective function=1.31319, time remaining: 00:18:13\n"
     ]
    },
    {
     "data": {
      "application/vnd.jupyter.widget-view+json": {
       "model_id": "87332d8d25794d36916390bdae4301af",
       "version_major": 2,
       "version_minor": 0
      },
      "text/plain": [
       "timesteps:   0%|          | 0/11231 [00:00<?, ?it/s]"
      ]
     },
     "metadata": {},
     "output_type": "display_data"
    },
    {
     "data": {
      "application/vnd.jupyter.widget-view+json": {
       "model_id": "bfa83d6778b54ac0b1be56fd67cbda62",
       "version_major": 2,
       "version_minor": 0
      },
      "text/plain": [
       "timesteps:   0%|          | 0/11231 [00:00<?, ?it/s]"
      ]
     },
     "metadata": {},
     "output_type": "display_data"
    },
    {
     "data": {
      "application/vnd.jupyter.widget-view+json": {
       "model_id": "e6b74ccd83f64120bfe15910deb3b232",
       "version_major": 2,
       "version_minor": 0
      },
      "text/plain": [
       "timesteps:   0%|          | 0/11231 [00:00<?, ?it/s]"
      ]
     },
     "metadata": {},
     "output_type": "display_data"
    },
    {
     "data": {
      "application/vnd.jupyter.widget-view+json": {
       "model_id": "aaea099334ba4c46af78793be32177bf",
       "version_major": 2,
       "version_minor": 0
      },
      "text/plain": [
       "timesteps:   0%|          | 0/11231 [00:00<?, ?it/s]"
      ]
     },
     "metadata": {},
     "output_type": "display_data"
    },
    {
     "data": {
      "application/vnd.jupyter.widget-view+json": {
       "model_id": "c5ff35ba9a8346f0a4d0700a4ccb723b",
       "version_major": 2,
       "version_minor": 0
      },
      "text/plain": [
       "timesteps:   0%|          | 0/11231 [00:00<?, ?it/s]"
      ]
     },
     "metadata": {},
     "output_type": "display_data"
    },
    {
     "data": {
      "application/vnd.jupyter.widget-view+json": {
       "model_id": "10617a9a636a4b1e995129582a08e457",
       "version_major": 2,
       "version_minor": 0
      },
      "text/plain": [
       "timesteps:   0%|          | 0/11231 [00:00<?, ?it/s]"
      ]
     },
     "metadata": {},
     "output_type": "display_data"
    },
    {
     "data": {
      "application/vnd.jupyter.widget-view+json": {
       "model_id": "adbccadf35d849059d7879b9a48abc91",
       "version_major": 2,
       "version_minor": 0
      },
      "text/plain": [
       "timesteps:   0%|          | 0/11231 [00:00<?, ?it/s]"
      ]
     },
     "metadata": {},
     "output_type": "display_data"
    },
    {
     "data": {
      "application/vnd.jupyter.widget-view+json": {
       "model_id": "4e02c5f24852484b8fc637189cd5ef79",
       "version_major": 2,
       "version_minor": 0
      },
      "text/plain": [
       "timesteps:   0%|          | 0/11231 [00:00<?, ?it/s]"
      ]
     },
     "metadata": {},
     "output_type": "display_data"
    },
    {
     "data": {
      "application/vnd.jupyter.widget-view+json": {
       "model_id": "62cd1ebb32e94760bc082dd06a170910",
       "version_major": 2,
       "version_minor": 0
      },
      "text/plain": [
       "timesteps:   0%|          | 0/11231 [00:00<?, ?it/s]"
      ]
     },
     "metadata": {},
     "output_type": "display_data"
    },
    {
     "name": "stdout",
     "output_type": "stream",
     "text": [
      "609 of 5000, minimal objective function=1.31318, time remaining: 00:18:09\n"
     ]
    },
    {
     "data": {
      "application/vnd.jupyter.widget-view+json": {
       "model_id": "86cd8313e16d492399805266749414ba",
       "version_major": 2,
       "version_minor": 0
      },
      "text/plain": [
       "timesteps:   0%|          | 0/11231 [00:00<?, ?it/s]"
      ]
     },
     "metadata": {},
     "output_type": "display_data"
    },
    {
     "data": {
      "application/vnd.jupyter.widget-view+json": {
       "model_id": "5af63b74e5aa4919b65f1453e42eb928",
       "version_major": 2,
       "version_minor": 0
      },
      "text/plain": [
       "timesteps:   0%|          | 0/11231 [00:00<?, ?it/s]"
      ]
     },
     "metadata": {},
     "output_type": "display_data"
    },
    {
     "data": {
      "application/vnd.jupyter.widget-view+json": {
       "model_id": "b4aa7fa5b34843f7a193577e0224f3ed",
       "version_major": 2,
       "version_minor": 0
      },
      "text/plain": [
       "timesteps:   0%|          | 0/11231 [00:00<?, ?it/s]"
      ]
     },
     "metadata": {},
     "output_type": "display_data"
    },
    {
     "data": {
      "application/vnd.jupyter.widget-view+json": {
       "model_id": "7602bf79349543908c3ef477bf259cc7",
       "version_major": 2,
       "version_minor": 0
      },
      "text/plain": [
       "timesteps:   0%|          | 0/11231 [00:00<?, ?it/s]"
      ]
     },
     "metadata": {},
     "output_type": "display_data"
    },
    {
     "data": {
      "application/vnd.jupyter.widget-view+json": {
       "model_id": "bbcff6881b2f4ba5b61864317a8adfea",
       "version_major": 2,
       "version_minor": 0
      },
      "text/plain": [
       "timesteps:   0%|          | 0/11231 [00:00<?, ?it/s]"
      ]
     },
     "metadata": {},
     "output_type": "display_data"
    },
    {
     "data": {
      "application/vnd.jupyter.widget-view+json": {
       "model_id": "c61c81629acf4a27a3cb54b9e1e9a748",
       "version_major": 2,
       "version_minor": 0
      },
      "text/plain": [
       "timesteps:   0%|          | 0/11231 [00:00<?, ?it/s]"
      ]
     },
     "metadata": {},
     "output_type": "display_data"
    },
    {
     "data": {
      "application/vnd.jupyter.widget-view+json": {
       "model_id": "4f7309fabb6a468a98c7a4177c5563f5",
       "version_major": 2,
       "version_minor": 0
      },
      "text/plain": [
       "timesteps:   0%|          | 0/11231 [00:00<?, ?it/s]"
      ]
     },
     "metadata": {},
     "output_type": "display_data"
    },
    {
     "data": {
      "application/vnd.jupyter.widget-view+json": {
       "model_id": "b508afe7f29e4e62ae0849adffce5fdd",
       "version_major": 2,
       "version_minor": 0
      },
      "text/plain": [
       "timesteps:   0%|          | 0/11231 [00:00<?, ?it/s]"
      ]
     },
     "metadata": {},
     "output_type": "display_data"
    },
    {
     "data": {
      "application/vnd.jupyter.widget-view+json": {
       "model_id": "75a0a748f9cd40f6a68f2a1b4ae21c4d",
       "version_major": 2,
       "version_minor": 0
      },
      "text/plain": [
       "timesteps:   0%|          | 0/11231 [00:00<?, ?it/s]"
      ]
     },
     "metadata": {},
     "output_type": "display_data"
    },
    {
     "name": "stdout",
     "output_type": "stream",
     "text": [
      "623 of 5000, minimal objective function=1.31318, time remaining: 00:18:05\n",
      "Objective function convergence criteria is now being updated and assessed...\n",
      "Updated convergence criteria: 0.094761\n",
      "ComplexEvo loop #12 in progress...\n"
     ]
    },
    {
     "data": {
      "application/vnd.jupyter.widget-view+json": {
       "model_id": "ad8293aa05c342d5955035d8267909ad",
       "version_major": 2,
       "version_minor": 0
      },
      "text/plain": [
       "timesteps:   0%|          | 0/11231 [00:00<?, ?it/s]"
      ]
     },
     "metadata": {},
     "output_type": "display_data"
    },
    {
     "data": {
      "application/vnd.jupyter.widget-view+json": {
       "model_id": "6ee35f01c62548e28c903def54ec9cd9",
       "version_major": 2,
       "version_minor": 0
      },
      "text/plain": [
       "timesteps:   0%|          | 0/11231 [00:00<?, ?it/s]"
      ]
     },
     "metadata": {},
     "output_type": "display_data"
    },
    {
     "data": {
      "application/vnd.jupyter.widget-view+json": {
       "model_id": "61c732857f364f6aa4c60146a4c2b4f3",
       "version_major": 2,
       "version_minor": 0
      },
      "text/plain": [
       "timesteps:   0%|          | 0/11231 [00:00<?, ?it/s]"
      ]
     },
     "metadata": {},
     "output_type": "display_data"
    },
    {
     "data": {
      "application/vnd.jupyter.widget-view+json": {
       "model_id": "d1a9acf1f8fb4db5ad2f02e296c1643d",
       "version_major": 2,
       "version_minor": 0
      },
      "text/plain": [
       "timesteps:   0%|          | 0/11231 [00:00<?, ?it/s]"
      ]
     },
     "metadata": {},
     "output_type": "display_data"
    },
    {
     "data": {
      "application/vnd.jupyter.widget-view+json": {
       "model_id": "ebd865f6ceeb413e9c3754ef98e58e21",
       "version_major": 2,
       "version_minor": 0
      },
      "text/plain": [
       "timesteps:   0%|          | 0/11231 [00:00<?, ?it/s]"
      ]
     },
     "metadata": {},
     "output_type": "display_data"
    },
    {
     "data": {
      "application/vnd.jupyter.widget-view+json": {
       "model_id": "ff5e17cf642c46a9a6471b9a1e8da7c5",
       "version_major": 2,
       "version_minor": 0
      },
      "text/plain": [
       "timesteps:   0%|          | 0/11231 [00:00<?, ?it/s]"
      ]
     },
     "metadata": {},
     "output_type": "display_data"
    },
    {
     "data": {
      "application/vnd.jupyter.widget-view+json": {
       "model_id": "0e9d5a80ee22418f8cb137ab3931694a",
       "version_major": 2,
       "version_minor": 0
      },
      "text/plain": [
       "timesteps:   0%|          | 0/11231 [00:00<?, ?it/s]"
      ]
     },
     "metadata": {},
     "output_type": "display_data"
    },
    {
     "data": {
      "application/vnd.jupyter.widget-view+json": {
       "model_id": "4fbdfc2684e142e8af995c6cbf9ea72a",
       "version_major": 2,
       "version_minor": 0
      },
      "text/plain": [
       "timesteps:   0%|          | 0/11231 [00:00<?, ?it/s]"
      ]
     },
     "metadata": {},
     "output_type": "display_data"
    },
    {
     "data": {
      "application/vnd.jupyter.widget-view+json": {
       "model_id": "beedae7a5384484a9429cc2da55e9e31",
       "version_major": 2,
       "version_minor": 0
      },
      "text/plain": [
       "timesteps:   0%|          | 0/11231 [00:00<?, ?it/s]"
      ]
     },
     "metadata": {},
     "output_type": "display_data"
    },
    {
     "data": {
      "application/vnd.jupyter.widget-view+json": {
       "model_id": "f9618f69467c49db829e00897b12fd25",
       "version_major": 2,
       "version_minor": 0
      },
      "text/plain": [
       "timesteps:   0%|          | 0/11231 [00:00<?, ?it/s]"
      ]
     },
     "metadata": {},
     "output_type": "display_data"
    },
    {
     "name": "stdout",
     "output_type": "stream",
     "text": [
      "638 of 5000, minimal objective function=1.31318, time remaining: 00:18:03\n"
     ]
    },
    {
     "data": {
      "application/vnd.jupyter.widget-view+json": {
       "model_id": "400d8f6fa9b542d8b09f206942f90642",
       "version_major": 2,
       "version_minor": 0
      },
      "text/plain": [
       "timesteps:   0%|          | 0/11231 [00:00<?, ?it/s]"
      ]
     },
     "metadata": {},
     "output_type": "display_data"
    },
    {
     "data": {
      "application/vnd.jupyter.widget-view+json": {
       "model_id": "7cf8e840bf2940609f12ddd716f84b47",
       "version_major": 2,
       "version_minor": 0
      },
      "text/plain": [
       "timesteps:   0%|          | 0/11231 [00:00<?, ?it/s]"
      ]
     },
     "metadata": {},
     "output_type": "display_data"
    },
    {
     "data": {
      "application/vnd.jupyter.widget-view+json": {
       "model_id": "4483508445c943f6a73a7d0d0fdbaafc",
       "version_major": 2,
       "version_minor": 0
      },
      "text/plain": [
       "timesteps:   0%|          | 0/11231 [00:00<?, ?it/s]"
      ]
     },
     "metadata": {},
     "output_type": "display_data"
    },
    {
     "data": {
      "application/vnd.jupyter.widget-view+json": {
       "model_id": "c5ac2443aaab447fa9fce8386c0dd707",
       "version_major": 2,
       "version_minor": 0
      },
      "text/plain": [
       "timesteps:   0%|          | 0/11231 [00:00<?, ?it/s]"
      ]
     },
     "metadata": {},
     "output_type": "display_data"
    },
    {
     "data": {
      "application/vnd.jupyter.widget-view+json": {
       "model_id": "581da81c07ad4fa68528f61c2cc5a47d",
       "version_major": 2,
       "version_minor": 0
      },
      "text/plain": [
       "timesteps:   0%|          | 0/11231 [00:00<?, ?it/s]"
      ]
     },
     "metadata": {},
     "output_type": "display_data"
    },
    {
     "data": {
      "application/vnd.jupyter.widget-view+json": {
       "model_id": "88613cffed874be1ac4ce2cb90652e0d",
       "version_major": 2,
       "version_minor": 0
      },
      "text/plain": [
       "timesteps:   0%|          | 0/11231 [00:00<?, ?it/s]"
      ]
     },
     "metadata": {},
     "output_type": "display_data"
    },
    {
     "data": {
      "application/vnd.jupyter.widget-view+json": {
       "model_id": "d398cdf5ae114a27b0233091d1a2b1b8",
       "version_major": 2,
       "version_minor": 0
      },
      "text/plain": [
       "timesteps:   0%|          | 0/11231 [00:00<?, ?it/s]"
      ]
     },
     "metadata": {},
     "output_type": "display_data"
    },
    {
     "data": {
      "application/vnd.jupyter.widget-view+json": {
       "model_id": "e8bfbb5b20fd4170b5a9a4208e8fd25e",
       "version_major": 2,
       "version_minor": 0
      },
      "text/plain": [
       "timesteps:   0%|          | 0/11231 [00:00<?, ?it/s]"
      ]
     },
     "metadata": {},
     "output_type": "display_data"
    },
    {
     "data": {
      "application/vnd.jupyter.widget-view+json": {
       "model_id": "653d23aa6ac1471cacb000a62a649b6c",
       "version_major": 2,
       "version_minor": 0
      },
      "text/plain": [
       "timesteps:   0%|          | 0/11231 [00:00<?, ?it/s]"
      ]
     },
     "metadata": {},
     "output_type": "display_data"
    },
    {
     "data": {
      "application/vnd.jupyter.widget-view+json": {
       "model_id": "4fda079e0b164f3899eefac67628f99f",
       "version_major": 2,
       "version_minor": 0
      },
      "text/plain": [
       "timesteps:   0%|          | 0/11231 [00:00<?, ?it/s]"
      ]
     },
     "metadata": {},
     "output_type": "display_data"
    },
    {
     "name": "stdout",
     "output_type": "stream",
     "text": [
      "653 of 5000, minimal objective function=1.31318, time remaining: 00:17:59\n"
     ]
    },
    {
     "data": {
      "application/vnd.jupyter.widget-view+json": {
       "model_id": "2259890ebde3420d8b5de08ecea00ea6",
       "version_major": 2,
       "version_minor": 0
      },
      "text/plain": [
       "timesteps:   0%|          | 0/11231 [00:00<?, ?it/s]"
      ]
     },
     "metadata": {},
     "output_type": "display_data"
    },
    {
     "data": {
      "application/vnd.jupyter.widget-view+json": {
       "model_id": "11b94704786f445286d1fd471121caee",
       "version_major": 2,
       "version_minor": 0
      },
      "text/plain": [
       "timesteps:   0%|          | 0/11231 [00:00<?, ?it/s]"
      ]
     },
     "metadata": {},
     "output_type": "display_data"
    },
    {
     "data": {
      "application/vnd.jupyter.widget-view+json": {
       "model_id": "b1e89feb98c748928231cd232b7139a0",
       "version_major": 2,
       "version_minor": 0
      },
      "text/plain": [
       "timesteps:   0%|          | 0/11231 [00:00<?, ?it/s]"
      ]
     },
     "metadata": {},
     "output_type": "display_data"
    },
    {
     "data": {
      "application/vnd.jupyter.widget-view+json": {
       "model_id": "a2854909d9764116bfc0ecc38527c4b2",
       "version_major": 2,
       "version_minor": 0
      },
      "text/plain": [
       "timesteps:   0%|          | 0/11231 [00:00<?, ?it/s]"
      ]
     },
     "metadata": {},
     "output_type": "display_data"
    },
    {
     "data": {
      "application/vnd.jupyter.widget-view+json": {
       "model_id": "f3219c9d431040639bd7fb7a96216a2f",
       "version_major": 2,
       "version_minor": 0
      },
      "text/plain": [
       "timesteps:   0%|          | 0/11231 [00:00<?, ?it/s]"
      ]
     },
     "metadata": {},
     "output_type": "display_data"
    },
    {
     "data": {
      "application/vnd.jupyter.widget-view+json": {
       "model_id": "99cfccc9fbbf4be2832e8676154fdb4f",
       "version_major": 2,
       "version_minor": 0
      },
      "text/plain": [
       "timesteps:   0%|          | 0/11231 [00:00<?, ?it/s]"
      ]
     },
     "metadata": {},
     "output_type": "display_data"
    },
    {
     "data": {
      "application/vnd.jupyter.widget-view+json": {
       "model_id": "18d252c05f694c42b063797ee84a9919",
       "version_major": 2,
       "version_minor": 0
      },
      "text/plain": [
       "timesteps:   0%|          | 0/11231 [00:00<?, ?it/s]"
      ]
     },
     "metadata": {},
     "output_type": "display_data"
    },
    {
     "data": {
      "application/vnd.jupyter.widget-view+json": {
       "model_id": "f0f66109d45b4f6791be69e4811c7fa6",
       "version_major": 2,
       "version_minor": 0
      },
      "text/plain": [
       "timesteps:   0%|          | 0/11231 [00:00<?, ?it/s]"
      ]
     },
     "metadata": {},
     "output_type": "display_data"
    },
    {
     "data": {
      "application/vnd.jupyter.widget-view+json": {
       "model_id": "682b50e81a804dac9c2cb04e179a10ef",
       "version_major": 2,
       "version_minor": 0
      },
      "text/plain": [
       "timesteps:   0%|          | 0/11231 [00:00<?, ?it/s]"
      ]
     },
     "metadata": {},
     "output_type": "display_data"
    },
    {
     "name": "stdout",
     "output_type": "stream",
     "text": [
      "667 of 5000, minimal objective function=1.31318, time remaining: 00:17:55\n"
     ]
    },
    {
     "data": {
      "application/vnd.jupyter.widget-view+json": {
       "model_id": "4061e789ca29487daa40e922b8d472f7",
       "version_major": 2,
       "version_minor": 0
      },
      "text/plain": [
       "timesteps:   0%|          | 0/11231 [00:00<?, ?it/s]"
      ]
     },
     "metadata": {},
     "output_type": "display_data"
    },
    {
     "data": {
      "application/vnd.jupyter.widget-view+json": {
       "model_id": "6d72603612f746ec9d14a8476f4277e6",
       "version_major": 2,
       "version_minor": 0
      },
      "text/plain": [
       "timesteps:   0%|          | 0/11231 [00:00<?, ?it/s]"
      ]
     },
     "metadata": {},
     "output_type": "display_data"
    },
    {
     "data": {
      "application/vnd.jupyter.widget-view+json": {
       "model_id": "af64561fdfd541888aa8920bc601e1a9",
       "version_major": 2,
       "version_minor": 0
      },
      "text/plain": [
       "timesteps:   0%|          | 0/11231 [00:00<?, ?it/s]"
      ]
     },
     "metadata": {},
     "output_type": "display_data"
    },
    {
     "data": {
      "application/vnd.jupyter.widget-view+json": {
       "model_id": "e64f5e8085644a30ade73615f6dac924",
       "version_major": 2,
       "version_minor": 0
      },
      "text/plain": [
       "timesteps:   0%|          | 0/11231 [00:00<?, ?it/s]"
      ]
     },
     "metadata": {},
     "output_type": "display_data"
    },
    {
     "data": {
      "application/vnd.jupyter.widget-view+json": {
       "model_id": "26beb1284e3644e5a976d1cedba0bf9f",
       "version_major": 2,
       "version_minor": 0
      },
      "text/plain": [
       "timesteps:   0%|          | 0/11231 [00:00<?, ?it/s]"
      ]
     },
     "metadata": {},
     "output_type": "display_data"
    },
    {
     "data": {
      "application/vnd.jupyter.widget-view+json": {
       "model_id": "3628d21c658d4489bfcd5b34a5b08716",
       "version_major": 2,
       "version_minor": 0
      },
      "text/plain": [
       "timesteps:   0%|          | 0/11231 [00:00<?, ?it/s]"
      ]
     },
     "metadata": {},
     "output_type": "display_data"
    },
    {
     "data": {
      "application/vnd.jupyter.widget-view+json": {
       "model_id": "19c74bda904e4e0ab3bb22df57aa18ef",
       "version_major": 2,
       "version_minor": 0
      },
      "text/plain": [
       "timesteps:   0%|          | 0/11231 [00:00<?, ?it/s]"
      ]
     },
     "metadata": {},
     "output_type": "display_data"
    },
    {
     "data": {
      "application/vnd.jupyter.widget-view+json": {
       "model_id": "bbd63c9efcd843e2b511d1edec5b1fea",
       "version_major": 2,
       "version_minor": 0
      },
      "text/plain": [
       "timesteps:   0%|          | 0/11231 [00:00<?, ?it/s]"
      ]
     },
     "metadata": {},
     "output_type": "display_data"
    },
    {
     "data": {
      "application/vnd.jupyter.widget-view+json": {
       "model_id": "1132bf2d29cf4094be19f7ac75d8066c",
       "version_major": 2,
       "version_minor": 0
      },
      "text/plain": [
       "timesteps:   0%|          | 0/11231 [00:00<?, ?it/s]"
      ]
     },
     "metadata": {},
     "output_type": "display_data"
    },
    {
     "name": "stdout",
     "output_type": "stream",
     "text": [
      "681 of 5000, minimal objective function=1.31318, time remaining: 00:17:50\n",
      "THE POPULATION HAS CONVERGED TO A PRESPECIFIED SMALL PARAMETER SPACE\n",
      "SEARCH WAS STOPPED AT TRIAL NUMBER: 685\n",
      "NUMBER OF DISCARDED TRIALS: 0\n",
      "NORMALIZED GEOMETRIC RANGE = 0.007554\n",
      "THE BEST POINT HAS IMPROVED IN LAST 5 LOOPS BY 0.094761 PERCENT\n",
      "\n",
      "*** Final SPOTPY summary ***\n",
      "Total Duration: 169.12 seconds\n",
      "Total Repetitions: 685\n",
      "Minimal objective value: 1.31318\n",
      "Corresponding parameter setting:\n",
      "alpha: 0.98999\n",
      "delta: 0.100088\n",
      "******************************\n",
      "\n"
     ]
    },
    {
     "ename": "TypeError",
     "evalue": "'NoneType' object is not subscriptable",
     "output_type": "error",
     "traceback": [
      "\u001b[31m---------------------------------------------------------------------------\u001b[39m",
      "\u001b[31mTypeError\u001b[39m                                 Traceback (most recent call last)",
      "\u001b[36mCell\u001b[39m\u001b[36m \u001b[39m\u001b[32mIn[62]\u001b[39m\u001b[32m, line 27\u001b[39m\n\u001b[32m     25\u001b[39m \u001b[38;5;66;03m# time series\u001b[39;00m\n\u001b[32m     26\u001b[39m obs = Obs[gdw_id] \u001b[38;5;28;01mif\u001b[39;00m gdw_id \u001b[38;5;129;01min\u001b[39;00m Obs \u001b[38;5;28;01melse\u001b[39;00m \u001b[38;5;28;01mNone\u001b[39;00m\n\u001b[32m---> \u001b[39m\u001b[32m27\u001b[39m available = \u001b[43mobs\u001b[49m\u001b[43m[\u001b[49m\u001b[43mtarget\u001b[49m\u001b[43m]\u001b[49m.notnull().all(axis=\u001b[32m1\u001b[39m)\n\u001b[32m     28\u001b[39m start, end = available[available].first_valid_index(), available[available].last_valid_index()\n\u001b[32m     29\u001b[39m sim_lf = Sim_lisflood[gdw_id]\n",
      "\u001b[31mTypeError\u001b[39m: 'NoneType' object is not subscriptable"
     ]
    }
   ],
   "source": [
    "path_calib = path_sim / 'camaflood'\n",
    "path_calib.mkdir(exist_ok=True)\n",
    "\n",
    "# sim_camaflood = {}\n",
    "for gdw_id in tqdm(gdw_ids, desc='reservoirs'):\n",
    "\n",
    "    # extract reservoir characteristics\n",
    "    cap_cm, catch_sm, area_sm = reservoirs.loc[gdw_id, ['CAP_MCM', 'CATCH_SKM', 'AREA_SKM']] * 1e6\n",
    "    # extract inflow characteristics\n",
    "    Qmin, Qn, Q100 = reservoirs.loc[gdw_id, ['DISENV_CMS', 'DISAVG_CMS', 'DIS100_CMS']]\n",
    "    # extract reservoir parameters\n",
    "    par_Vf, par_Qf = reservoirs.loc[gdw_id, ['flood_storage', 'outflow_factor']]\n",
    "\n",
    "    # define reservoir limits\n",
    "    Vf = par_Vf * cap_cm\n",
    "    Ve = cap_cm * (0.8 + 0.2 * par_Vf)\n",
    "    Vmin = 0.5 * Vf\n",
    "    Qf = Q100 * par_Qf\n",
    "    Qmin = 0.5 * Qn\n",
    "\n",
    "    # reservoir limits\n",
    "    Vlims = [Vmin, Vf, Ve, cap_cm]\n",
    "    Qlims = [Qmin, Qf, Qf, Qf]\n",
    "\n",
    "    # time series\n",
    "    obs = Obs[gdw_id] if gdw_id in Obs else None\n",
    "    available = obs[target].notnull().all(axis=1)\n",
    "    start, end = available[available].first_valid_index(), available[available].last_valid_index()\n",
    "    sim_lf = Sim_lisflood[gdw_id]\n",
    "    sim_lf = sim_lf.groupby(sim_cf.index.floor('D')).mean()\n",
    "    \n",
    "    # declare reservoir\n",
    "    calibrator = CamafloodCalibrator(\n",
    "        parameters=parameters,\n",
    "        inflow=sim_lf.loc[start:end, 'inflow'],\n",
    "        storage=obs.loc[start:end, 'storage'],\n",
    "        outflow=obs.loc[start:end, 'outflow'],\n",
    "        Vmin=max(0, min(0.1 * cap_cm, obs.storage.min())),\n",
    "        Vtot=cap_cm,\n",
    "        catchment=catch_sm,\n",
    "        # Atot=area_sm,\n",
    "        target=['storage', 'outflow'],\n",
    "        obj_func=KGEmod,\n",
    "        spinup=None,\n",
    "    )\n",
    "\n",
    "    # define the sampling method\n",
    "    dbname = f'{path_calib}/{gdw_id}_samples'\n",
    "    sceua = spotpy.algorithms.sceua(\n",
    "        calibrator, \n",
    "        dbname=dbname, \n",
    "        dbformat='csv', \n",
    "        save_sim=False,\n",
    "    )\n",
    "\n",
    "    # launch calibration\n",
    "    sceua.sample(\n",
    "        5000, \n",
    "        ngs=4, \n",
    "        kstop=5, \n",
    "        pcento=0.001, \n",
    "        peps=0.01\n",
    "    )"
   ]
  },
  {
   "cell_type": "code",
   "execution_count": null,
   "id": "04b5c37b-1f28-433c-a944-73d5ef9af3fa",
   "metadata": {},
   "outputs": [],
   "source": []
  },
  {
   "cell_type": "code",
   "execution_count": null,
   "id": "0b523b8d-7d9d-4b70-9142-cdf7c2e98ce3",
   "metadata": {},
   "outputs": [],
   "source": [
    "gdw_id = 1407"
   ]
  },
  {
   "cell_type": "code",
   "execution_count": null,
   "id": "13bbba89-06c7-4a62-8aa1-9b7438811847",
   "metadata": {},
   "outputs": [],
   "source": [
    "# read calibration results\n",
    "dbname = f'{path_calib}/{gdw_id}_samples'\n",
    "results, parameters = read_results(f'{dbname}.csv')\n",
    "\n",
    "# convert parameter into reservoir attributes\n",
    "calibrated_attrs = calibrator.pars2attrs(list(parameters.values()))\n",
    "\n",
    "# declare the reservoir with optimal parameters\n",
    "reservoir = get_model('camaflood', **calibrated_attrs)"
   ]
  },
  {
   "cell_type": "code",
   "execution_count": null,
   "id": "cb0ecd21-9223-484c-bed6-a3264fe13a9c",
   "metadata": {},
   "outputs": [],
   "source": [
    "calibrated_attrs"
   ]
  },
  {
   "cell_type": "code",
   "execution_count": null,
   "id": "f41f0f58-09e9-4e44-9711-5fa13fb38dad",
   "metadata": {},
   "outputs": [],
   "source": [
    "# export calibrated parameters\n",
    "with open(path_calib / f'{gdw_id}_optimal_parameters.yml', 'w') as file:\n",
    "    yaml.dump(reservoir.get_params(), file)"
   ]
  },
  {
   "cell_type": "code",
   "execution_count": null,
   "id": "6423271f-ea85-4e9f-bb5e-3bf647407868",
   "metadata": {},
   "outputs": [],
   "source": [
    "# simulate the reservoir\n",
    "Vo = obs[gdw_id].loc[start, 'storage'] #ts.storage.iloc[0]\n",
    "sim = reservoir.simulate(\n",
    "    inflow=sim_lisflood[gdw_id].loc[start:end, 'inflow'],\n",
    "    Vo=None if pd.isna(Vo) else Vo,\n",
    ")\n",
    "# sim_cal.to_csv(cfg.PATH_CALIB / f'{grand_id}_simulation.csv', float_format='%.3f')"
   ]
  },
  {
   "cell_type": "code",
   "execution_count": null,
   "id": "4abc08e4-9754-4665-a86e-1ecaf7758c78",
   "metadata": {},
   "outputs": [],
   "source": [
    "# extract reservoir characteristics\n",
    "cap_cm, catch_sm, area_sm = reservoirs.loc[gdw_id, ['CAP_MCM', 'CATCH_SKM', 'AREA_SKM']] * 1e6\n",
    "# extract inflow characteristics\n",
    "Qmin, Qn, Q100 = reservoirs.loc[gdw_id, ['DISENV_CMS', 'DISAVG_CMS', 'DIS100_CMS']]\n",
    "# extract reservoir parameters\n",
    "par_Vf, par_Qf = reservoirs.loc[gdw_id, ['flood_stor', 'outflow_fa']]\n",
    "\n",
    "k = max(1 - 5 * (cap_cm - Vf) / catch_sm, 0)\n",
    "print(f'{gdw_id}\\tk = {k:.3f}')\n",
    "\n",
    "# define reservoir limits\n",
    "Vf = par_Vf * cap_cm\n",
    "Ve = cap_cm * (0.8 + 0.2 * par_Vf)\n",
    "Qf = Q100 * par_Qf\n",
    "\n",
    "year_start, year_end = reservoirs.loc[gdw_id, ['YEAR_DAM', 'REM_YEAR']]\n",
    "\n",
    "fig, axes = plt.subplots(nrows=3, figsize=(16, 9), sharex=True)\n",
    "\n",
    "flood_mode = (sim.storage > Vf) & (sim.inflow > Qf)\n",
    "\n",
    "for ax, var in zip(axes, ['storage', 'inflow', 'outflow']):\n",
    "    ax.scatter(\n",
    "        sim[flood_mode].index, \n",
    "        sim.loc[flood_mode, var], \n",
    "        marker='.', \n",
    "        s=.8, \n",
    "        color='firebrick')\n",
    "    ax.scatter(\n",
    "        sim[~flood_mode].index, \n",
    "        sim.loc[~flood_mode, var], \n",
    "        marker='.', \n",
    "        s=.8, \n",
    "        color='steelblue'\n",
    "    )\n",
    "    if var in ['storage', 'outflow']:\n",
    "        ax.plot(obs[gdw_id][var], lw=.8, c='k', zorder=0)\n",
    "    ax.set_ylabel(var)\n",
    "    \n",
    "for y in [0.5 * Vf, Vf, Ve, cap_cm]:\n",
    "    axes[0].axhline(y, ls='--', c='k', lw=.5)\n",
    "start = max(datetime(int(year_start), 1, 1), sim.first_valid_index()) if year_start else sim.first_valid_index()\n",
    "end = min(datetime(int(year_end), 12, 31), sim.last_valid_index()) if year_end else sim.last_valid_index()\n",
    "ax.set_xlim(start, end)\n",
    "\n",
    "for y in [0.5 * Qn, Qf]:\n",
    "    axes[1].axhline(y, ls='--', c='k', lw=.5)\n",
    "    axes[2].axhline(y, ls='--', c='k', lw=.5)\n",
    "\n",
    "axes[0].set_title(f'{gdw_id} | k = {k:.3f}');\n",
    "\n",
    "# plt.savefig(path_plots / f'{gdw_id}_timeseries.jpg', dpi=300, bbox_inches='tight')"
   ]
  },
  {
   "cell_type": "code",
   "execution_count": null,
   "id": "d3cf812a-18f1-4c1c-8989-2e2fbc7aba85",
   "metadata": {},
   "outputs": [],
   "source": [
    "(1 - results.like1).plot()"
   ]
  },
  {
   "cell_type": "code",
   "execution_count": null,
   "id": "619befdc-1c58-40d3-9bb7-8f710aa60320",
   "metadata": {},
   "outputs": [],
   "source": [
    "fig, ax = plt.subplots(figsize=(5, 4))\n",
    "sct = ax.scatter(\n",
    "    x=results.alpha, \n",
    "    y=results.delta, \n",
    "    c=(1 - results.like1), \n",
    "    s=8,\n",
    "    cmap='coolwarm_r', \n",
    "    alpha=.5,\n",
    "    # vmin=-1, \n",
    "    # vmax=1\n",
    ")\n",
    "ax.set(\n",
    "    xlabel='flood storage',\n",
    "    ylabel='flood outflow',\n",
    "    title=gdw_id,\n",
    ")\n",
    "plt.colorbar(sct, shrink=.5, label=\"KGE'\");"
   ]
  },
  {
   "cell_type": "markdown",
   "id": "8b74e9ae-771f-451f-872d-28f3ee0f3b4d",
   "metadata": {},
   "source": [
    "***"
   ]
  },
  {
   "cell_type": "code",
   "execution_count": null,
   "id": "3e804e5e-7318-45bb-8681-552382f84798",
   "metadata": {},
   "outputs": [],
   "source": []
  },
  {
   "cell_type": "code",
   "execution_count": null,
   "id": "b80ae894-7244-4e0f-9319-21397e98c2d5",
   "metadata": {},
   "outputs": [],
   "source": [
    "for gdw_id, sim in tqdm(sim_lisflood.items(), desc='reservoirs'):\n",
    "\n",
    "    # extract reservoir characteristics\n",
    "    cap_cm, catch_sm, area_sm = reservoirs.loc[gdw_id, ['CAP_MCM', 'CATCH_SKM', 'AREA_SKM']] * 1e6\n",
    "    # extract inflow characteristics\n",
    "    Qmin, Qn, Q100 = reservoirs.loc[gdw_id, ['DISENV_CMS', 'DISAVG_CMS', 'DIS100_CMS']]\n",
    "    # extract reservoir parameters\n",
    "    par_Vf, par_Qf = reservoirs.loc[gdw_id, ['flood_stor', 'outflow_fa']]\n",
    "\n",
    "    k = max(1 - 5 * (cap_cm - Vf) / catch_sm, 0)\n",
    "    print(f'{gdw_id}\\tk = {k:.3f}')\n",
    "\n",
    "    # define reservoir limits\n",
    "    Vf = par_Vf * cap_cm\n",
    "    Ve = cap_cm * (0.8 + 0.2 * par_Vf)\n",
    "    Qf = Q100 * par_Qf\n",
    "\n",
    "    year_start, year_end = reservoirs.loc[gdw_id, ['YEAR_DAM', 'REM_YEAR']]\n",
    "\n",
    "    \n",
    "    fig, axes = plt.subplots(nrows=3, figsize=(16, 9), sharex=True)\n",
    "    \n",
    "    flood_mode = (sim.storage > Vf) & (sim.inflow > Qf)\n",
    "    \n",
    "    for ax, var in zip(axes, ['storage', 'inflow', 'outflow']):\n",
    "        ax.scatter(\n",
    "            sim[flood_mode].index, \n",
    "            sim.loc[flood_mode, var], \n",
    "            marker='.', \n",
    "            s=.8, \n",
    "            color='firebrick')\n",
    "        ax.scatter(\n",
    "            sim[~flood_mode].index, \n",
    "            sim.loc[~flood_mode, var], \n",
    "            marker='.', \n",
    "            s=.8, \n",
    "            color='steelblue'\n",
    "        )\n",
    "        if var in ['storage', 'outflow']:\n",
    "            ax.plot(obs[gdw_id][var], lw=.8, c='k', zorder=0)\n",
    "        ax.set_ylabel(var)\n",
    "        \n",
    "    for y in [0.5 * Vf, Vf, Ve, cap_cm]:\n",
    "        axes[0].axhline(y, ls='--', c='k', lw=.5)\n",
    "    start = max(datetime(int(year_start), 1, 1), sim.first_valid_index()) if year_start else sim.first_valid_index()\n",
    "    end = min(datetime(int(year_end), 12, 31), sim.last_valid_index()) if year_end else sim.last_valid_index()\n",
    "    ax.set_xlim(start, end)\n",
    "    \n",
    "    for y in [0.5 * Qn, Qf]:\n",
    "        axes[1].axhline(y, ls='--', c='k', lw=.5)\n",
    "        axes[2].axhline(y, ls='--', c='k', lw=.5)\n",
    "    \n",
    "    axes[0].set_title(f'{gdw_id} | k = {k:.3f}');\n",
    "    \n",
    "    plt.savefig(path_plots / f'{gdw_id}_timeseries.jpg', dpi=300, bbox_inches='tight')"
   ]
  },
  {
   "cell_type": "code",
   "execution_count": null,
   "id": "b84e791a-fa9f-49f1-9409-7e121fc8686f",
   "metadata": {},
   "outputs": [],
   "source": [
    "year_start, year_end"
   ]
  },
  {
   "cell_type": "code",
   "execution_count": null,
   "id": "8118ab19-03af-4897-a715-a67fe1580eaf",
   "metadata": {},
   "outputs": [],
   "source": [
    "reservoirs.loc[gdw_ids, 'parameters']"
   ]
  },
  {
   "cell_type": "code",
   "execution_count": null,
   "id": "877ea15a-ed31-4553-b763-c5d004235941",
   "metadata": {},
   "outputs": [],
   "source": [
    "cap_cm, catch_sm = reservoirs.loc[1410, ['CAP_MCM', 'CATCH_SKM']] * 1e6\n",
    "cap_cm, catch_sm"
   ]
  },
  {
   "cell_type": "code",
   "execution_count": null,
   "id": "d64dea3f-f7c4-469a-8eda-9ce6d7157240",
   "metadata": {},
   "outputs": [],
   "source": []
  },
  {
   "cell_type": "code",
   "execution_count": null,
   "id": "8e9a5f3b-da1e-4a17-8082-6ce56b2d7e00",
   "metadata": {},
   "outputs": [],
   "source": [
    "cap_cm, Vf, catch_sm"
   ]
  },
  {
   "cell_type": "code",
   "execution_count": null,
   "id": "9036bc49-d286-4e4c-87ca-162d1ebb9bde",
   "metadata": {},
   "outputs": [],
   "source": [
    "(cap_cm - Vf) / catch_sm"
   ]
  },
  {
   "cell_type": "code",
   "execution_count": null,
   "id": "493317bb-797b-428d-9057-73f205dd84a1",
   "metadata": {},
   "outputs": [],
   "source": []
  },
  {
   "cell_type": "code",
   "execution_count": null,
   "id": "b180273c-628b-4372-97fb-2c86b3b8d80a",
   "metadata": {},
   "outputs": [],
   "source": [
    "catch_sm"
   ]
  },
  {
   "cell_type": "code",
   "execution_count": null,
   "id": "3aa3331c-30f8-42a9-a592-f61369fad6f9",
   "metadata": {},
   "outputs": [],
   "source": [
    "cap_mcm, catch_skm, area_skm = reservoirs.loc[gdw_id, ['CAP_MCM', 'CATCH_SKM', 'AREA_SKM']].values"
   ]
  },
  {
   "cell_type": "code",
   "execution_count": null,
   "id": "1bf428ee-3297-459c-90b0-cec9c05d56fd",
   "metadata": {},
   "outputs": [],
   "source": [
    "cap_mcm"
   ]
  },
  {
   "cell_type": "markdown",
   "id": "5b5e2f91-221b-4fba-9693-5726a33f1837",
   "metadata": {},
   "source": [
    "***\n",
    "### CaMa-Flood calibration 3 pars"
   ]
  },
  {
   "cell_type": "code",
   "execution_count": null,
   "id": "df3372e0-116e-4316-88e8-1f1ff4763ccf",
   "metadata": {},
   "outputs": [],
   "source": [
    "import seaborn as sns"
   ]
  },
  {
   "cell_type": "code",
   "execution_count": null,
   "id": "3011c03e-15e2-473d-b3dc-9b5400f3f578",
   "metadata": {},
   "outputs": [],
   "source": [
    "path = path_resops / 'tests' / '3_pars'"
   ]
  },
  {
   "cell_type": "code",
   "execution_count": null,
   "id": "963af612-b5cc-4a52-b842-b3932dd3bf60",
   "metadata": {},
   "outputs": [],
   "source": [
    "subpath = Path('camaflood/calibration/bivariate')"
   ]
  },
  {
   "cell_type": "code",
   "execution_count": null,
   "id": "1be7a59b-e616-4861-bbe3-9d30f05ba392",
   "metadata": {},
   "outputs": [],
   "source": [
    "grand_id = 2662"
   ]
  },
  {
   "cell_type": "code",
   "execution_count": null,
   "id": "2283071a-5660-49ea-b3fa-b89c96825a56",
   "metadata": {},
   "outputs": [],
   "source": [
    "for grand_id in [2662, 2677, 2684]:\n",
    "    \n",
    "    iterations, parameters = read_results(path / subpath / f'{grand_id}_samples.csv')\n",
    "    \n",
    "    sns.pairplot(\n",
    "        iterations[['alpha', 'delta', 'k', 'like1']], \n",
    "        hue='like1',\n",
    "        palette='coolwarm',\n",
    "        diag_kind='kde',\n",
    "        corner=False\n",
    "    );"
   ]
  },
  {
   "cell_type": "markdown",
   "id": "c70dd6fb-35d7-458f-aac6-7243f4906d5e",
   "metadata": {},
   "source": [
    "### Compare tests"
   ]
  },
  {
   "cell_type": "code",
   "execution_count": null,
   "id": "b09c8a66-6434-4ef8-9ee7-5c74a8289040",
   "metadata": {},
   "outputs": [],
   "source": [
    "path = path_resops / 'results' / 'hanazaki_2pars' / 'calibration' / 'bivariate'\n",
    "for grand_id in [2662, 2677, 2684]:\n",
    "    print(grand_id)\n",
    "    iterations, parameters = read_results(path / f'{grand_id}_samples.csv')\n",
    "    best_iter = iterations.like1.idxmin()\n",
    "    print(iterations.loc[best_iter])"
   ]
  },
  {
   "cell_type": "code",
   "execution_count": null,
   "id": "17640535-6a79-4d6f-a4fd-175e497c69ff",
   "metadata": {},
   "outputs": [],
   "source": [
    "path = path_resops / 'results' / 'hanazaki_2pars' / 'calibration' / 'bivariate'\n",
    "for grand_id in [2662, 2677, 2684]:\n",
    "    print(grand_id)\n",
    "    sim = pd.read_csv(path / f'{grand_id}_simulation.csv', parse_dates=True, index_col='date')\n",
    "    rps = return_period(sim.outflow, T=np.array([5, 10, 20, 100]))\n",
    "    print(rps, sep='\\t')"
   ]
  },
  {
   "cell_type": "code",
   "execution_count": null,
   "id": "8bbe562a-37a3-4239-b0df-834b81de9349",
   "metadata": {},
   "outputs": [],
   "source": [
    "tests = ['3_pars', 'k_01', 'k_05', 'k_1']\n",
    "\n",
    "for test in tests:\n",
    "    print(test)\n",
    "    for grand_id in [2662, 2677, 2684]:\n",
    "        print(grand_id)\n",
    "        path = path_resops / 'tests' / test\n",
    "        iterations, parameters = read_results(path / subpath / f'{grand_id}_samples.csv')\n",
    "        best_iter = iterations.like1.idxmin()\n",
    "        print(iterations.loc[best_iter])"
   ]
  },
  {
   "cell_type": "code",
   "execution_count": null,
   "id": "c2cbe09e-05ab-45c1-9c41-41c8a20357ec",
   "metadata": {},
   "outputs": [],
   "source": []
  },
  {
   "cell_type": "code",
   "execution_count": null,
   "id": "10838cf4-59fe-4c84-866c-789bb5679bdf",
   "metadata": {},
   "outputs": [],
   "source": [
    "\n",
    "for test in tests:\n",
    "    print(test)\n",
    "    for grand_id in [2662, 2677, 2684]:\n",
    "        path = path_resops / 'tests' / test\n",
    "        sim = pd.read_csv(path / subpath / f'{grand_id}_simulation.csv', parse_dates=True, index_col='date')\n",
    "        rps = return_period(sim.outflow, T=np.array([5, 10, 20, 100]))\n",
    "        print(grand_id, rps, sep='\\t')"
   ]
  },
  {
   "cell_type": "code",
   "execution_count": null,
   "id": "34d9193e-e918-4b09-a8bd-4014788455f0",
   "metadata": {},
   "outputs": [],
   "source": []
  }
 ],
 "metadata": {
  "kernelspec": {
   "display_name": "Python 3 (ipykernel)",
   "language": "python",
   "name": "python3"
  },
  "language_info": {
   "codemirror_mode": {
    "name": "ipython",
    "version": 3
   },
   "file_extension": ".py",
   "mimetype": "text/x-python",
   "name": "python",
   "nbconvert_exporter": "python",
   "pygments_lexer": "ipython3",
   "version": "3.11.11"
  }
 },
 "nbformat": 4,
 "nbformat_minor": 5
}
