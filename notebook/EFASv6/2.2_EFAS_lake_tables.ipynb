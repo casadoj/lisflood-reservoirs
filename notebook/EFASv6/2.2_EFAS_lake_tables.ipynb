{
 "cells": [
  {
   "cell_type": "markdown",
   "id": "e6cab479-b290-4ab0-a8ff-30206ddaeb0a",
   "metadata": {},
   "source": [
    "# Lake tables - EFAS\n",
    "***\n",
    "\n",
    "**Author:** Chus Casado Rodríguez<br>\n",
    "**Date:** 21-10-2024<br>\n",
    "\n",
    "**Introduction:**<br>\n",
    "\n",
    "\n",
    "**To do:**"
   ]
  },
  {
   "cell_type": "code",
   "execution_count": 3,
   "id": "94e639fc-a675-4798-ac48-80a60e1700e0",
   "metadata": {},
   "outputs": [],
   "source": [
    "import os\n",
    "os.environ['USE_PYGEOS'] = '0'\n",
    "import numpy as np\n",
    "import pandas as pd\n",
    "import xarray as xr\n",
    "import rioxarray as rxr\n",
    "import matplotlib.pyplot as plt\n",
    "import geopandas as gpd\n",
    "import cartopy.feature as cfeature\n",
    "import cartopy.crs as ccrs\n",
    "from tqdm.notebook import tqdm\n",
    "from shapely.geometry import Point\n",
    "from pathlib import Path\n",
    "\n",
    "import warnings\n",
    "warnings.simplefilter(action='ignore', category=FutureWarning)\n",
    "\n",
    "from lisfloodreservoirs.utils.utils import filter_domain, filter_reservoirs, find_connections, remove_duplicates, upstream_pixel, downstream_pixel\n",
    "from lisfloodreservoirs.utils.plots import plot_reservoir_map"
   ]
  },
  {
   "cell_type": "code",
   "execution_count": 4,
   "id": "b20740c4-0422-4f6b-a6ee-52e0409a8929",
   "metadata": {},
   "outputs": [],
   "source": [
    "def scientific_format(num):\n",
    "    if num == 0:\n",
    "        return '0'\n",
    "    else:\n",
    "        exponent = int(np.log10(abs(num)))\n",
    "        prefix = num / 10**(exponent - 1)\n",
    "        suffix = '⁰¹²³⁴⁵⁶⁷⁸⁹'[exponent]  # Unicode superscript digits for 0 to 9\n",
    "        return f\"{prefix:.0f}{suffix}\""
   ]
  },
  {
   "cell_type": "code",
   "execution_count": 5,
   "id": "608b108a-38c1-42f2-a879-9d65e58ff2fe",
   "metadata": {},
   "outputs": [],
   "source": [
    "def compare_attributes(df, thr, vmin, vmax, **kwargs):\n",
    "    \"\"\"Pair plot comparing the attribute values in different data sources\n",
    "    \n",
    "    Parameters:\n",
    "    -----------\n",
    "    df: pandas.DataFrame\n",
    "        Values of an attributes in different data sources (columns)\n",
    "    thr: float\n",
    "        Minimum value of the attribute used in the selection\n",
    "    vmin: float\n",
    "        Minimum attribute value to be plotted\n",
    "    vmax: float\n",
    "        Maximum attribute value to be plotted\n",
    "    \"\"\"\n",
    "    \n",
    "    figsize = kwargs.get('figsize', (4, 4))\n",
    "    \n",
    "    cols = df.columns\n",
    "    ncols = len(cols) - 1\n",
    "    \n",
    "    fig, ax = plt.subplots(ncols=ncols, nrows=ncols, figsize=(ncols * figsize[0], ncols * figsize[1]), sharex=True, sharey=True)\n",
    "\n",
    "    for j, colx in enumerate(cols[:-1]):\n",
    "        for i, coly in enumerate(cols[1:]):\n",
    "            if j > i:\n",
    "                ax[i, j].axis('off')\n",
    "                continue\n",
    "            ax[i, j].plot([vmin, vmax], [vmin, vmax], c='k', lw=.5, zorder=0)\n",
    "            ax[i, j].vlines(thr, vmin, thr, color='k', ls='--', lw=.5, zorder=0)\n",
    "            ax[i, j].hlines(thr, vmin, thr, color='k', ls='--', lw=.5, zorder=0)\n",
    "            ax[i, j].scatter(df[colx], df[coly], s=10, alpha=.5)\n",
    "            ax[i, j].set_xscale('log')\n",
    "            ax[i, j].set_yscale('log')\n",
    "            if j == 0:\n",
    "                ax[i, j].set_ylabel(coly)\n",
    "            if i == 2:\n",
    "                ax[i, j].set_xlabel(colx)\n",
    "\n",
    "            ax[i, j].set(\n",
    "                xlim=(vmin, vmax),\n",
    "                ylim=(vmin, vmax),\n",
    "            );\n",
    "    \n",
    "    if 'title' in kwargs:\n",
    "        ax[0, 1].set_title(kwargs['title']);"
   ]
  },
  {
   "cell_type": "markdown",
   "id": "7bcc9ddb-75dd-4700-82cc-180c012df7d3",
   "metadata": {
    "tags": []
   },
   "source": [
    "## Configuration"
   ]
  },
  {
   "cell_type": "code",
   "execution_count": 6,
   "id": "afac568f-4e85-4c5a-905c-497fa465a128",
   "metadata": {},
   "outputs": [],
   "source": [
    "# paths\n",
    "PATH_EFAS5 = Path('Z:/nahaUsers/casadje/EFASv5')\n",
    "PATH_DATASETS = Path('Z:/nahaUsers/casadje/datasets/')\n",
    "PATH_EFAS6 = PATH_DATASETS / 'lakes' / 'EFASv6' #Path('../results/reservoirs/selection/EFAS/')\n",
    "\n",
    "# minimum storage capacity included in EFAS\n",
    "MIN_VOLUME = 10 # hm³\n",
    "MIN_AREA = 5 # km²\n",
    "MIN_CATCHMENT = 50 # km²\n",
    "# MIN_DOR = 30 # days"
   ]
  },
  {
   "cell_type": "markdown",
   "id": "592a6be5-236f-4aca-96ed-56cdd546b773",
   "metadata": {},
   "source": [
    "## DATA\n",
    "\n",
    "### EFAS6"
   ]
  },
  {
   "cell_type": "code",
   "execution_count": 7,
   "id": "98a42c25-6352-4115-80a2-d0c15919ebfc",
   "metadata": {},
   "outputs": [
    {
     "name": "stdout",
     "output_type": "stream",
     "text": [
      "216 lakes in EFAS6\n",
      "\t* 1 are not in HydroLakes\n",
      "\t* 95 were not in EFAS5\n"
     ]
    }
   ],
   "source": [
    "# import shapefile\n",
    "efas6 = gpd.read_file('Z:/H07_Global/GloFAS/data/reservoir and lakes EFAS Glofas 2024/LakesEfasV6.shp')\n",
    "\n",
    "# keep only selected lakes\n",
    "efas6 = efas6[efas6.checked != 3]\n",
    "\n",
    "# remove IDs equal to 0\n",
    "for col in ['LakID', 'Hylak_id', 'GLWD_ID']:\n",
    "    efas6[col] = efas6[col].astype('Int64')\n",
    "    efas6.loc[efas6[col] == 0, col] = np.nan\n",
    "\n",
    "# convert 0 to NaN\n",
    "for col in ['AREA_KM2', 'LON_ORG', 'LAT_ORG', 'CATCH_AREA', 'AREA']:\n",
    "    efas6.loc[efas6[col] == 0, col] = np.nan\n",
    "    \n",
    "print('{0} lakes in EFAS6'.format(efas6.shape[0]))\n",
    "print('\\t* {0} are not in HydroLakes'.format(efas6.Hylak_id.isnull().sum()))\n",
    "print('\\t* {0} were not in EFAS5'.format(efas6.LakID.isnull().sum()))"
   ]
  },
  {
   "cell_type": "code",
   "execution_count": 8,
   "id": "f6fc2a05-e1d7-4ba0-836a-92cc5a4ae9e6",
   "metadata": {},
   "outputs": [
    {
     "data": {
      "text/plain": [
       "LakID          95\n",
       "SOURCE         96\n",
       "TYPE           97\n",
       "COUNTRY        24\n",
       "LAKE_NAME      94\n",
       "AREA_KM2       97\n",
       "LON_ORG        97\n",
       "LAT_ORG        97\n",
       "LISFLOODX       0\n",
       "LISFLOODY       0\n",
       "CATCH_AREA     97\n",
       "AREA           97\n",
       "Hylak_id        1\n",
       "Comment       192\n",
       "GLWD_ID       216\n",
       "priority        0\n",
       "checked         0\n",
       "geometry        0\n",
       "dtype: int64"
      ]
     },
     "execution_count": 8,
     "metadata": {},
     "output_type": "execute_result"
    }
   ],
   "source": [
    "efas6.isnull().sum()"
   ]
  },
  {
   "cell_type": "markdown",
   "id": "70c0c01c-7ec8-4de6-8fdb-9975e750fc7b",
   "metadata": {},
   "source": [
    "### EFAS5"
   ]
  },
  {
   "cell_type": "code",
   "execution_count": 9,
   "id": "75d2390a-9378-45f2-bf7b-178b680f95df",
   "metadata": {},
   "outputs": [
    {
     "name": "stdout",
     "output_type": "stream",
     "text": [
      "204 lakes in EFAS5\n",
      "\t* 83 removed in EFAS6\n"
     ]
    }
   ],
   "source": [
    "efas5 = gpd.read_file(PATH_EFAS6 / 'efasv5_lakes.shp').set_index('LakID')\n",
    "efas5.rename(columns={'A': 'ALPHA'}, inplace=True)\n",
    "\n",
    "print('{0} lakes in EFAS5'.format(efas5.shape[0]))\n",
    "print('\\t* {0} removed in EFAS6'.format(len(efas5.index.difference(efas6.LakID))))"
   ]
  },
  {
   "cell_type": "code",
   "execution_count": 10,
   "id": "ed929a99-1f61-4d47-b13c-bd59340eb9e9",
   "metadata": {},
   "outputs": [
    {
     "data": {
      "text/plain": [
       "Index(['TAG', 'SOURCE', 'TYPE', 'COUNTRY', 'LAKE_NAME', 'AREA_KM2', 'LON_ORG',\n",
       "       'LAT_ORG', 'LISFLOODX', 'LISFLOODY', 'CATCH_AREA', 'ALPHA', 'AREA',\n",
       "       'AVINFLOW', 'Hylak_id', 'HYLAK_NAME', 'HYLAK_TYPE', 'HYLAK_AREA',\n",
       "       'HYLAK_VOL', 'HYLAK_DEPT', 'HYLAK_DIS', 'HYLAK_DOR', 'HYLAK_CAT',\n",
       "       'Comment', 'GLWD_ID', 'geometry'],\n",
       "      dtype='object')"
      ]
     },
     "execution_count": 10,
     "metadata": {},
     "output_type": "execute_result"
    }
   ],
   "source": [
    "efas5.columns"
   ]
  },
  {
   "cell_type": "markdown",
   "id": "61c9b40c-2cf7-4829-9f26-d31678f45d38",
   "metadata": {
    "tags": []
   },
   "source": [
    "### HydroLakes"
   ]
  },
  {
   "cell_type": "code",
   "execution_count": 11,
   "id": "fd2ba0e4-088d-40ab-ad9a-05c53e5a3e80",
   "metadata": {},
   "outputs": [],
   "source": [
    "hylak = gpd.read_file('Z:/nahaUsers/casadje/datasets/lakes/HydroLAKES/LakeATLAS_v10_shp/LakeATLAS_v10_pnt_east.shp').set_index('Hylak_id')"
   ]
  },
  {
   "cell_type": "code",
   "execution_count": 12,
   "id": "d8358c47-ffa3-4ea9-8550-db6c3e71f281",
   "metadata": {
    "tags": []
   },
   "outputs": [],
   "source": [
    "hylak_ids = set(efas6.loc[efas6.Hylak_id.notnull(), 'Hylak_id'])\n",
    "hylak = hylak.loc[hylak_ids]"
   ]
  },
  {
   "cell_type": "code",
   "execution_count": 13,
   "id": "42f1563d-f0d3-4275-b55b-dc84623d489e",
   "metadata": {},
   "outputs": [
    {
     "name": "stdout",
     "output_type": "stream",
     "text": [
      "213 lakes in HydroLakes\n",
      "\t* 213 in EFAS6\n"
     ]
    }
   ],
   "source": [
    "# hylak = gpd.read_file(PATH_EFAS6 / 'hydrolakes_pnt.shp').set_index('Hylak_id')\n",
    "\n",
    "print('{0} lakes in HydroLakes'.format(hylak.shape[0]))\n",
    "print('\\t* {0} in EFAS6'.format(len(hylak.index.intersection(efas6.Hylak_id))))"
   ]
  },
  {
   "cell_type": "code",
   "execution_count": 14,
   "id": "11ad5e90-3867-496b-aa1e-ef83c777b018",
   "metadata": {},
   "outputs": [],
   "source": [
    "# # connection between Hylak and ID\n",
    "# map_hylak_ID = {hylak_id: ID for ID, hylak_id in zip(efas6.index, efas6.Hylak_id) if not pd.isna(hylak_id)}\n",
    "# hylak['ID'] = hylak.Hylak_id.map(map_hylak_ID).astype('Int64')\n",
    "# hylak.set_index('Hylak_id', drop=True, inplace=True)\n",
    "\n",
    "# print(hylak.shape)"
   ]
  },
  {
   "cell_type": "markdown",
   "id": "c241edde-ca45-4eb3-adae-5727c5250e1c",
   "metadata": {},
   "source": [
    "## Attributes\n",
    "\n",
    "### $\\alpha$: channel width"
   ]
  },
  {
   "cell_type": "code",
   "execution_count": 49,
   "id": "a506955d-a62e-4797-82e7-4405b2f1623c",
   "metadata": {},
   "outputs": [],
   "source": [
    "# load EFAS static map\n",
    "path = Path('Z:/nahaUsers/grimast/EFAS_1arcminmaps_JRC_catalogue_UPLOAD/v1.1.2/Catchments_morphology_and_river_network')\n",
    "chanbw = rxr.open_rasterio(path / 'chanbw_European_01min.nc').squeeze(dim='band')\n",
    "\n",
    "uparea = rxr.open_rasterio(path / 'upArea_European_01min.nc').squeeze(dim='band')"
   ]
  },
  {
   "cell_type": "code",
   "execution_count": 50,
   "id": "de641603-92a4-4483-bbbf-d081c30ba2c8",
   "metadata": {},
   "outputs": [],
   "source": [
    "alpha = pd.DataFrame(index=efas6.index, columns=['EFAS5', 'CHANBW', 'algorithm'])"
   ]
  },
  {
   "cell_type": "code",
   "execution_count": 51,
   "id": "b04b602a-bbd6-4636-94f3-9184b9d73d1e",
   "metadata": {},
   "outputs": [],
   "source": [
    "# extract channel width from map\n",
    "alpha['CHANBW'] = pd.Series({ID: chanbw.sel(x=row.LISFLOODX, y=row.LISFLOODY, method='nearest').item() for ID, row in efas6.iterrows()})\n",
    "# alpha.name = 'alpha'"
   ]
  },
  {
   "cell_type": "code",
   "execution_count": 52,
   "id": "4b1f625f-e2c6-48fc-ac8a-e87f38ca210e",
   "metadata": {},
   "outputs": [],
   "source": [
    "# extract alpha values used in EFAS5\n",
    "for ID, LakID in zip(efas6.index, efas6.LakID):\n",
    "    if pd.isna(LakID):\n",
    "        continue\n",
    "    alpha.loc[ID, 'EFAS5'] = efas5.loc[LakID, 'ALPHA']"
   ]
  },
  {
   "cell_type": "markdown",
   "id": "9d3e8b80-8751-4330-8891-d3dd2f0e49de",
   "metadata": {},
   "source": [
    "***\n",
    "For each lake, I will extract the width of the bottom of the channel from the static map _chanbw.nc_. The value extracted is very sensitive to the exact location of the lake in the EFAS grid. If the lake is located in a pixel that is considered as lake in MERIT, the value will be large. For that reason, I will extract the values from one pixel upstream and 2 pixels downstream."
   ]
  },
  {
   "cell_type": "code",
   "execution_count": 82,
   "id": "71b78ea3-daa3-40f8-8faa-19d655b60a68",
   "metadata": {},
   "outputs": [],
   "source": [
    "def upstream_pixel(lat: float, lon: float, upArea: xr.DataArray) -> tuple:\n",
    "    \"\"\"This function finds the upstream coordinates of a given point\n",
    "    \n",
    "    Parameteres:\n",
    "    ------------\n",
    "    lat: float\n",
    "        latitude of the input point\n",
    "    lon: float\n",
    "        longitued of the input point\n",
    "    upArea: xarray.DataArray\n",
    "        map of upstream area\n",
    "        \n",
    "    Returns:\n",
    "    --------\n",
    "    lat: float\n",
    "        latitude of the inmediate upstream pixel\n",
    "    lon: float\n",
    "        longitued of the inmediate upstream pixel\n",
    "    \"\"\"\n",
    "    \n",
    "    # Determine coordinate system\n",
    "    lat_coord = 'lat' if 'lat' in upArea.coords else 'y'\n",
    "    lon_coord = 'lon' if 'lon' in upArea.coords else 'x'\n",
    "    \n",
    "    try:\n",
    "        # upstream area of the input coordinates\n",
    "        area = upArea.sel({lat_coord: lat, lon_coord: lon}, method='nearest').values\n",
    "        \n",
    "        # spatial resolution of the input map\n",
    "        resolution = np.mean(np.diff(upArea[lon_coord].values))\n",
    "        \n",
    "        # Define window around the input pixel\n",
    "        window = np.array([-1.5 * resolution, 1.5 * resolution])\n",
    "        upArea_window = upArea.sel({lat_coord: slice(lat + window[1], lat + window[0]),\n",
    "                                    lon_coord: slice(lon + window[0], lon + window[1])})\n",
    "    \n",
    "        # remove pixels with area equal or greater than the input pixel\n",
    "        mask = upArea_window.where(upArea_window < area, np.nan)\n",
    "        \n",
    "        # Find the pixel with the smallest upstream area\n",
    "        upstream_pixel = mask.where(mask == mask.min(), drop=True)\n",
    "    \n",
    "        return (upstream_pixel[lat_coord].data[0].round(4),\n",
    "                upstream_pixel[lon_coord].data[0].round(4))\n",
    "                \n",
    "    except Exception as e:\n",
    "        logger.error(f\"Failed to find upstream pixel: {e}\")\n",
    "        return None, None"
   ]
  },
  {
   "cell_type": "code",
   "execution_count": 71,
   "id": "d387c4dd-31a8-4f61-aec7-450dafd8a35f",
   "metadata": {},
   "outputs": [],
   "source": [
    "def downstream_pixel(lat: float, lon: float, upArea: xr.DataArray) -> tuple:\n",
    "    \"\"\"\n",
    "    This function finds the downstream pixel coordinates of a given point.\n",
    "    \n",
    "    Parameters:\n",
    "    -----------\n",
    "    lat: float\n",
    "        Latitude of the input point.\n",
    "    lon: float\n",
    "        Longitude of the input point.\n",
    "    upArea: xarray.DataArray\n",
    "        Map of upstream area.\n",
    "        \n",
    "    Returns:\n",
    "    --------\n",
    "    tuple:\n",
    "        Latitude and longitude of the immediate downstream pixel,\n",
    "        or (None, None) if not found.\n",
    "    \"\"\"\n",
    "    \n",
    "    # Determine coordinate system\n",
    "    lat_coord = 'lat' if 'lat' in upArea.coords else 'y'\n",
    "    lon_coord = 'lon' if 'lon' in upArea.coords else 'x'\n",
    "    \n",
    "    try:\n",
    "        # upstream area of the input coordinates\n",
    "        area = upArea.sel({lat_coord: lat, lon_coord: lon}, method='nearest').values\n",
    "        \n",
    "        # spatial resolution of the input map\n",
    "        resolution = np.mean(np.diff(upArea[lon_coord].values))\n",
    "        \n",
    "        # Define window around the input pixel\n",
    "        window = np.array([-1.5 * resolution, 1.5 * resolution])\n",
    "        upArea_window = upArea.sel({lat_coord: slice(lat + window[1], lat + window[0]),\n",
    "                                    lon_coord: slice(lon + window[0], lon + window[1])})\n",
    "        \n",
    "        # Mask out pixels with area less than or equal to the input pixel\n",
    "        mask = upArea_window.where(upArea_window > area, drop=True)\n",
    "        \n",
    "        # Find the pixel with the smallest upstream area\n",
    "        downstream_pixel = mask.where(mask == mask.min(), drop=True)\n",
    "        \n",
    "        return (downstream_pixel[lat_coord].data[0].round(4),\n",
    "                downstream_pixel[lon_coord].data[0].round(4))\n",
    "                \n",
    "    except Exception as e:\n",
    "        logger.error(f\"Failed to find downstream pixel: {e}\")\n",
    "        return None, None"
   ]
  },
  {
   "cell_type": "code",
   "execution_count": 102,
   "id": "d391f169-fd2d-42d5-8fd4-b4bdcf98aa84",
   "metadata": {},
   "outputs": [],
   "source": [
    "def channel_width(chanbw, uparea, x, y):\n",
    "    \"\"\"\n",
    "    \"\"\"\n",
    "    \n",
    "    xs = np.array([x])\n",
    "    ys = np.array([y])\n",
    "    \n",
    "    # coordinates of the two pixels upstream and downstream\n",
    "    i = 0\n",
    "    while i < 2:\n",
    "        try:\n",
    "            y_up, x_up = upstream_pixel(ys[0], xs[0], uparea)\n",
    "            xs = np.hstack([x_up, xs])\n",
    "            ys = np.hstack([y_up, ys])\n",
    "        except:\n",
    "            break\n",
    "        i += 1\n",
    "        \n",
    "    # coordinates of the two pixels downstream\n",
    "    i = 0\n",
    "    while i < 2:\n",
    "        try:\n",
    "            y_down, x_down = downstream_pixel(ys[-1], xs[-1], uparea)\n",
    "            xs = np.hstack([xs, x_down])\n",
    "            ys = np.hstack([ys, y_down])\n",
    "        except:\n",
    "            break\n",
    "        i += 1\n",
    "        \n",
    "    # extract channel width\n",
    "    width = np.array([chanbw.sel(x=x, y=y, method='nearest').item() for x, y in zip(xs, ys)])\n",
    "\n",
    "    # keep the width of the pixel with the largest difference with respect to the pixel upstream\n",
    "    idx = np.argmin(width[1:] - width[:-1]) + 1\n",
    "    return width[idx]"
   ]
  },
  {
   "cell_type": "code",
   "execution_count": 103,
   "id": "a0634fdb-784b-4dc7-bef2-c1512eb8dd97",
   "metadata": {},
   "outputs": [
    {
     "data": {
      "text/plain": [
       "(31.1749999999, 46.6583333334)"
      ]
     },
     "execution_count": 103,
     "metadata": {},
     "output_type": "execute_result"
    }
   ],
   "source": [
    "x, y"
   ]
  },
  {
   "cell_type": "code",
   "execution_count": 104,
   "id": "d728c689-af24-43cd-b2bb-853fac7db857",
   "metadata": {},
   "outputs": [
    {
     "data": {
      "text/plain": [
       "16.875"
      ]
     },
     "execution_count": 104,
     "metadata": {},
     "output_type": "execute_result"
    }
   ],
   "source": [
    "channel_width(chanbw, uparea, x, y)"
   ]
  },
  {
   "cell_type": "code",
   "execution_count": 94,
   "id": "1aabc86a-eb4c-49dd-8090-9ed9cd9db134",
   "metadata": {},
   "outputs": [
    {
     "data": {
      "text/html": [
       "<div><svg style=\"position: absolute; width: 0; height: 0; overflow: hidden\">\n",
       "<defs>\n",
       "<symbol id=\"icon-database\" viewBox=\"0 0 32 32\">\n",
       "<path d=\"M16 0c-8.837 0-16 2.239-16 5v4c0 2.761 7.163 5 16 5s16-2.239 16-5v-4c0-2.761-7.163-5-16-5z\"></path>\n",
       "<path d=\"M16 17c-8.837 0-16-2.239-16-5v6c0 2.761 7.163 5 16 5s16-2.239 16-5v-6c0 2.761-7.163 5-16 5z\"></path>\n",
       "<path d=\"M16 26c-8.837 0-16-2.239-16-5v6c0 2.761 7.163 5 16 5s16-2.239 16-5v-6c0 2.761-7.163 5-16 5z\"></path>\n",
       "</symbol>\n",
       "<symbol id=\"icon-file-text2\" viewBox=\"0 0 32 32\">\n",
       "<path d=\"M28.681 7.159c-0.694-0.947-1.662-2.053-2.724-3.116s-2.169-2.030-3.116-2.724c-1.612-1.182-2.393-1.319-2.841-1.319h-15.5c-1.378 0-2.5 1.121-2.5 2.5v27c0 1.378 1.122 2.5 2.5 2.5h23c1.378 0 2.5-1.122 2.5-2.5v-19.5c0-0.448-0.137-1.23-1.319-2.841zM24.543 5.457c0.959 0.959 1.712 1.825 2.268 2.543h-4.811v-4.811c0.718 0.556 1.584 1.309 2.543 2.268zM28 29.5c0 0.271-0.229 0.5-0.5 0.5h-23c-0.271 0-0.5-0.229-0.5-0.5v-27c0-0.271 0.229-0.5 0.5-0.5 0 0 15.499-0 15.5 0v7c0 0.552 0.448 1 1 1h7v19.5z\"></path>\n",
       "<path d=\"M23 26h-14c-0.552 0-1-0.448-1-1s0.448-1 1-1h14c0.552 0 1 0.448 1 1s-0.448 1-1 1z\"></path>\n",
       "<path d=\"M23 22h-14c-0.552 0-1-0.448-1-1s0.448-1 1-1h14c0.552 0 1 0.448 1 1s-0.448 1-1 1z\"></path>\n",
       "<path d=\"M23 18h-14c-0.552 0-1-0.448-1-1s0.448-1 1-1h14c0.552 0 1 0.448 1 1s-0.448 1-1 1z\"></path>\n",
       "</symbol>\n",
       "</defs>\n",
       "</svg>\n",
       "<style>/* CSS stylesheet for displaying xarray objects in jupyterlab.\n",
       " *\n",
       " */\n",
       "\n",
       ":root {\n",
       "  --xr-font-color0: var(--jp-content-font-color0, rgba(0, 0, 0, 1));\n",
       "  --xr-font-color2: var(--jp-content-font-color2, rgba(0, 0, 0, 0.54));\n",
       "  --xr-font-color3: var(--jp-content-font-color3, rgba(0, 0, 0, 0.38));\n",
       "  --xr-border-color: var(--jp-border-color2, #e0e0e0);\n",
       "  --xr-disabled-color: var(--jp-layout-color3, #bdbdbd);\n",
       "  --xr-background-color: var(--jp-layout-color0, white);\n",
       "  --xr-background-color-row-even: var(--jp-layout-color1, white);\n",
       "  --xr-background-color-row-odd: var(--jp-layout-color2, #eeeeee);\n",
       "}\n",
       "\n",
       "html[theme=dark],\n",
       "body.vscode-dark {\n",
       "  --xr-font-color0: rgba(255, 255, 255, 1);\n",
       "  --xr-font-color2: rgba(255, 255, 255, 0.54);\n",
       "  --xr-font-color3: rgba(255, 255, 255, 0.38);\n",
       "  --xr-border-color: #1F1F1F;\n",
       "  --xr-disabled-color: #515151;\n",
       "  --xr-background-color: #111111;\n",
       "  --xr-background-color-row-even: #111111;\n",
       "  --xr-background-color-row-odd: #313131;\n",
       "}\n",
       "\n",
       ".xr-wrap {\n",
       "  display: block;\n",
       "  min-width: 300px;\n",
       "  max-width: 700px;\n",
       "}\n",
       "\n",
       ".xr-text-repr-fallback {\n",
       "  /* fallback to plain text repr when CSS is not injected (untrusted notebook) */\n",
       "  display: none;\n",
       "}\n",
       "\n",
       ".xr-header {\n",
       "  padding-top: 6px;\n",
       "  padding-bottom: 6px;\n",
       "  margin-bottom: 4px;\n",
       "  border-bottom: solid 1px var(--xr-border-color);\n",
       "}\n",
       "\n",
       ".xr-header > div,\n",
       ".xr-header > ul {\n",
       "  display: inline;\n",
       "  margin-top: 0;\n",
       "  margin-bottom: 0;\n",
       "}\n",
       "\n",
       ".xr-obj-type,\n",
       ".xr-array-name {\n",
       "  margin-left: 2px;\n",
       "  margin-right: 10px;\n",
       "}\n",
       "\n",
       ".xr-obj-type {\n",
       "  color: var(--xr-font-color2);\n",
       "}\n",
       "\n",
       ".xr-sections {\n",
       "  padding-left: 0 !important;\n",
       "  display: grid;\n",
       "  grid-template-columns: 150px auto auto 1fr 20px 20px;\n",
       "}\n",
       "\n",
       ".xr-section-item {\n",
       "  display: contents;\n",
       "}\n",
       "\n",
       ".xr-section-item input {\n",
       "  display: none;\n",
       "}\n",
       "\n",
       ".xr-section-item input + label {\n",
       "  color: var(--xr-disabled-color);\n",
       "}\n",
       "\n",
       ".xr-section-item input:enabled + label {\n",
       "  cursor: pointer;\n",
       "  color: var(--xr-font-color2);\n",
       "}\n",
       "\n",
       ".xr-section-item input:enabled + label:hover {\n",
       "  color: var(--xr-font-color0);\n",
       "}\n",
       "\n",
       ".xr-section-summary {\n",
       "  grid-column: 1;\n",
       "  color: var(--xr-font-color2);\n",
       "  font-weight: 500;\n",
       "}\n",
       "\n",
       ".xr-section-summary > span {\n",
       "  display: inline-block;\n",
       "  padding-left: 0.5em;\n",
       "}\n",
       "\n",
       ".xr-section-summary-in:disabled + label {\n",
       "  color: var(--xr-font-color2);\n",
       "}\n",
       "\n",
       ".xr-section-summary-in + label:before {\n",
       "  display: inline-block;\n",
       "  content: '►';\n",
       "  font-size: 11px;\n",
       "  width: 15px;\n",
       "  text-align: center;\n",
       "}\n",
       "\n",
       ".xr-section-summary-in:disabled + label:before {\n",
       "  color: var(--xr-disabled-color);\n",
       "}\n",
       "\n",
       ".xr-section-summary-in:checked + label:before {\n",
       "  content: '▼';\n",
       "}\n",
       "\n",
       ".xr-section-summary-in:checked + label > span {\n",
       "  display: none;\n",
       "}\n",
       "\n",
       ".xr-section-summary,\n",
       ".xr-section-inline-details {\n",
       "  padding-top: 4px;\n",
       "  padding-bottom: 4px;\n",
       "}\n",
       "\n",
       ".xr-section-inline-details {\n",
       "  grid-column: 2 / -1;\n",
       "}\n",
       "\n",
       ".xr-section-details {\n",
       "  display: none;\n",
       "  grid-column: 1 / -1;\n",
       "  margin-bottom: 5px;\n",
       "}\n",
       "\n",
       ".xr-section-summary-in:checked ~ .xr-section-details {\n",
       "  display: contents;\n",
       "}\n",
       "\n",
       ".xr-array-wrap {\n",
       "  grid-column: 1 / -1;\n",
       "  display: grid;\n",
       "  grid-template-columns: 20px auto;\n",
       "}\n",
       "\n",
       ".xr-array-wrap > label {\n",
       "  grid-column: 1;\n",
       "  vertical-align: top;\n",
       "}\n",
       "\n",
       ".xr-preview {\n",
       "  color: var(--xr-font-color3);\n",
       "}\n",
       "\n",
       ".xr-array-preview,\n",
       ".xr-array-data {\n",
       "  padding: 0 5px !important;\n",
       "  grid-column: 2;\n",
       "}\n",
       "\n",
       ".xr-array-data,\n",
       ".xr-array-in:checked ~ .xr-array-preview {\n",
       "  display: none;\n",
       "}\n",
       "\n",
       ".xr-array-in:checked ~ .xr-array-data,\n",
       ".xr-array-preview {\n",
       "  display: inline-block;\n",
       "}\n",
       "\n",
       ".xr-dim-list {\n",
       "  display: inline-block !important;\n",
       "  list-style: none;\n",
       "  padding: 0 !important;\n",
       "  margin: 0;\n",
       "}\n",
       "\n",
       ".xr-dim-list li {\n",
       "  display: inline-block;\n",
       "  padding: 0;\n",
       "  margin: 0;\n",
       "}\n",
       "\n",
       ".xr-dim-list:before {\n",
       "  content: '(';\n",
       "}\n",
       "\n",
       ".xr-dim-list:after {\n",
       "  content: ')';\n",
       "}\n",
       "\n",
       ".xr-dim-list li:not(:last-child):after {\n",
       "  content: ',';\n",
       "  padding-right: 5px;\n",
       "}\n",
       "\n",
       ".xr-has-index {\n",
       "  font-weight: bold;\n",
       "}\n",
       "\n",
       ".xr-var-list,\n",
       ".xr-var-item {\n",
       "  display: contents;\n",
       "}\n",
       "\n",
       ".xr-var-item > div,\n",
       ".xr-var-item label,\n",
       ".xr-var-item > .xr-var-name span {\n",
       "  background-color: var(--xr-background-color-row-even);\n",
       "  margin-bottom: 0;\n",
       "}\n",
       "\n",
       ".xr-var-item > .xr-var-name:hover span {\n",
       "  padding-right: 5px;\n",
       "}\n",
       "\n",
       ".xr-var-list > li:nth-child(odd) > div,\n",
       ".xr-var-list > li:nth-child(odd) > label,\n",
       ".xr-var-list > li:nth-child(odd) > .xr-var-name span {\n",
       "  background-color: var(--xr-background-color-row-odd);\n",
       "}\n",
       "\n",
       ".xr-var-name {\n",
       "  grid-column: 1;\n",
       "}\n",
       "\n",
       ".xr-var-dims {\n",
       "  grid-column: 2;\n",
       "}\n",
       "\n",
       ".xr-var-dtype {\n",
       "  grid-column: 3;\n",
       "  text-align: right;\n",
       "  color: var(--xr-font-color2);\n",
       "}\n",
       "\n",
       ".xr-var-preview {\n",
       "  grid-column: 4;\n",
       "}\n",
       "\n",
       ".xr-var-name,\n",
       ".xr-var-dims,\n",
       ".xr-var-dtype,\n",
       ".xr-preview,\n",
       ".xr-attrs dt {\n",
       "  white-space: nowrap;\n",
       "  overflow: hidden;\n",
       "  text-overflow: ellipsis;\n",
       "  padding-right: 10px;\n",
       "}\n",
       "\n",
       ".xr-var-name:hover,\n",
       ".xr-var-dims:hover,\n",
       ".xr-var-dtype:hover,\n",
       ".xr-attrs dt:hover {\n",
       "  overflow: visible;\n",
       "  width: auto;\n",
       "  z-index: 1;\n",
       "}\n",
       "\n",
       ".xr-var-attrs,\n",
       ".xr-var-data {\n",
       "  display: none;\n",
       "  background-color: var(--xr-background-color) !important;\n",
       "  padding-bottom: 5px !important;\n",
       "}\n",
       "\n",
       ".xr-var-attrs-in:checked ~ .xr-var-attrs,\n",
       ".xr-var-data-in:checked ~ .xr-var-data {\n",
       "  display: block;\n",
       "}\n",
       "\n",
       ".xr-var-data > table {\n",
       "  float: right;\n",
       "}\n",
       "\n",
       ".xr-var-name span,\n",
       ".xr-var-data,\n",
       ".xr-attrs {\n",
       "  padding-left: 25px !important;\n",
       "}\n",
       "\n",
       ".xr-attrs,\n",
       ".xr-var-attrs,\n",
       ".xr-var-data {\n",
       "  grid-column: 1 / -1;\n",
       "}\n",
       "\n",
       "dl.xr-attrs {\n",
       "  padding: 0;\n",
       "  margin: 0;\n",
       "  display: grid;\n",
       "  grid-template-columns: 125px auto;\n",
       "}\n",
       "\n",
       ".xr-attrs dt,\n",
       ".xr-attrs dd {\n",
       "  padding: 0;\n",
       "  margin: 0;\n",
       "  float: left;\n",
       "  padding-right: 10px;\n",
       "  width: auto;\n",
       "}\n",
       "\n",
       ".xr-attrs dt {\n",
       "  font-weight: normal;\n",
       "  grid-column: 1;\n",
       "}\n",
       "\n",
       ".xr-attrs dt:hover span {\n",
       "  display: inline-block;\n",
       "  background: var(--xr-background-color);\n",
       "  padding-right: 10px;\n",
       "}\n",
       "\n",
       ".xr-attrs dd {\n",
       "  grid-column: 2;\n",
       "  white-space: pre-wrap;\n",
       "  word-break: break-all;\n",
       "}\n",
       "\n",
       ".xr-icon-database,\n",
       ".xr-icon-file-text2 {\n",
       "  display: inline-block;\n",
       "  vertical-align: middle;\n",
       "  width: 1em;\n",
       "  height: 1.5em !important;\n",
       "  stroke-width: 0;\n",
       "  stroke: currentColor;\n",
       "  fill: currentColor;\n",
       "}\n",
       "</style><pre class='xr-text-repr-fallback'>&lt;xarray.DataArray &#x27;Band1&#x27; (y: 2970, x: 4530)&gt;\n",
       "[13454100 values with dtype=float32]\n",
       "Coordinates:\n",
       "    band     int32 1\n",
       "  * x        (x) float64 -25.24 -25.23 -25.21 -25.19 ... 50.19 50.21 50.22 50.24\n",
       "  * y        (y) float64 72.24 72.23 72.21 72.19 ... 22.81 22.79 22.77 22.76\n",
       "    crs      int32 0\n",
       "Attributes:\n",
       "    lat#axis:                   Y\n",
       "    lat#long_name:              latitude\n",
       "    lat#standard_name:          latitude\n",
       "    lat#units:                  degrees_north\n",
       "    lat#_FillValue:             nan\n",
       "    lon#axis:                   X\n",
       "    lon#long_name:              longitude\n",
       "    lon#standard_name:          longitude\n",
       "    lon#units:                  degrees_east\n",
       "    lon#_FillValue:             nan\n",
       "    CDI:                        Climate Data Interface version 1.9.8 (https:/...\n",
       "    CDO:                        Climate Data Operators version 1.9.8 (https:/...\n",
       "    Conventions:                CF-1.5\n",
       "    GDAL:                       GDAL 3.0.4, released 2020/01/28\n",
       "    GDAL_AREA_OR_POINT:         Area\n",
       "    history:                    Sun Dec 13 10:29:42 2020: cdo setmissval,-999...\n",
       "    history_of_appended_files:  Sun Dec 13 10:29:42 2020: Appended file /perm...\n",
       "    NCO:                        netCDF Operators version 4.9.2 (Homepage = ht...\n",
       "    long_name:                  GDAL Band Number 1\n",
       "    missing_value:              -999999\n",
       "    STATISTICS_MAXIMUM:         154056.84375\n",
       "    STATISTICS_MEAN:            37.946524491408\n",
       "    STATISTICS_MINIMUM:         0\n",
       "    STATISTICS_STDDEV:          860.80091135961\n",
       "    _FillValue:                 -999999.0\n",
       "    scale_factor:               1.0\n",
       "    add_offset:                 0.0</pre><div class='xr-wrap' hidden><div class='xr-header'><div class='xr-obj-type'>xarray.DataArray</div><div class='xr-array-name'>'Band1'</div><ul class='xr-dim-list'><li><span class='xr-has-index'>y</span>: 2970</li><li><span class='xr-has-index'>x</span>: 4530</li></ul></div><ul class='xr-sections'><li class='xr-section-item'><div class='xr-array-wrap'><input id='section-8ef2f844-c54a-4f4d-b0fb-b8120dbb5d74' class='xr-array-in' type='checkbox' checked><label for='section-8ef2f844-c54a-4f4d-b0fb-b8120dbb5d74' title='Show/hide data repr'><svg class='icon xr-icon-database'><use xlink:href='#icon-database'></use></svg></label><div class='xr-array-preview xr-preview'><span>...</span></div><div class='xr-array-data'><pre>[13454100 values with dtype=float32]</pre></div></div></li><li class='xr-section-item'><input id='section-25ce1978-7cd5-476e-88c2-b3d765039e07' class='xr-section-summary-in' type='checkbox'  checked><label for='section-25ce1978-7cd5-476e-88c2-b3d765039e07' class='xr-section-summary' >Coordinates: <span>(4)</span></label><div class='xr-section-inline-details'></div><div class='xr-section-details'><ul class='xr-var-list'><li class='xr-var-item'><div class='xr-var-name'><span>band</span></div><div class='xr-var-dims'>()</div><div class='xr-var-dtype'>int32</div><div class='xr-var-preview xr-preview'>1</div><input id='attrs-916b879e-08ac-44ae-90d9-7d653d67063e' class='xr-var-attrs-in' type='checkbox' disabled><label for='attrs-916b879e-08ac-44ae-90d9-7d653d67063e' title='Show/Hide attributes'><svg class='icon xr-icon-file-text2'><use xlink:href='#icon-file-text2'></use></svg></label><input id='data-8a26d9ab-0fae-4ccd-b21f-0d6127b24881' class='xr-var-data-in' type='checkbox'><label for='data-8a26d9ab-0fae-4ccd-b21f-0d6127b24881' title='Show/Hide data repr'><svg class='icon xr-icon-database'><use xlink:href='#icon-database'></use></svg></label><div class='xr-var-attrs'><dl class='xr-attrs'></dl></div><div class='xr-var-data'><pre>array(1)</pre></div></li><li class='xr-var-item'><div class='xr-var-name'><span class='xr-has-index'>x</span></div><div class='xr-var-dims'>(x)</div><div class='xr-var-dtype'>float64</div><div class='xr-var-preview xr-preview'>-25.24 -25.23 ... 50.22 50.24</div><input id='attrs-5e61e645-00b7-4bd9-b244-733e14023adf' class='xr-var-attrs-in' type='checkbox' disabled><label for='attrs-5e61e645-00b7-4bd9-b244-733e14023adf' title='Show/Hide attributes'><svg class='icon xr-icon-file-text2'><use xlink:href='#icon-file-text2'></use></svg></label><input id='data-b2b47c24-d188-498b-bbaa-43ff2a6cbb21' class='xr-var-data-in' type='checkbox'><label for='data-b2b47c24-d188-498b-bbaa-43ff2a6cbb21' title='Show/Hide data repr'><svg class='icon xr-icon-database'><use xlink:href='#icon-database'></use></svg></label><div class='xr-var-attrs'><dl class='xr-attrs'></dl></div><div class='xr-var-data'><pre>array([-25.241667, -25.225   , -25.208333, ...,  50.208333,  50.225   ,\n",
       "        50.241667])</pre></div></li><li class='xr-var-item'><div class='xr-var-name'><span class='xr-has-index'>y</span></div><div class='xr-var-dims'>(y)</div><div class='xr-var-dtype'>float64</div><div class='xr-var-preview xr-preview'>72.24 72.23 72.21 ... 22.77 22.76</div><input id='attrs-bc8bdfcd-bb7d-4b3f-a24c-e7fc9b5a866f' class='xr-var-attrs-in' type='checkbox' disabled><label for='attrs-bc8bdfcd-bb7d-4b3f-a24c-e7fc9b5a866f' title='Show/Hide attributes'><svg class='icon xr-icon-file-text2'><use xlink:href='#icon-file-text2'></use></svg></label><input id='data-04b90399-d4cb-4f38-a2eb-9527032e8d8f' class='xr-var-data-in' type='checkbox'><label for='data-04b90399-d4cb-4f38-a2eb-9527032e8d8f' title='Show/Hide data repr'><svg class='icon xr-icon-database'><use xlink:href='#icon-database'></use></svg></label><div class='xr-var-attrs'><dl class='xr-attrs'></dl></div><div class='xr-var-data'><pre>array([72.241667, 72.225   , 72.208333, ..., 22.791667, 22.775   , 22.758333])</pre></div></li><li class='xr-var-item'><div class='xr-var-name'><span>crs</span></div><div class='xr-var-dims'>()</div><div class='xr-var-dtype'>int32</div><div class='xr-var-preview xr-preview'>0</div><input id='attrs-e9ece91e-7887-444c-ab52-22ffb61f9c32' class='xr-var-attrs-in' type='checkbox' ><label for='attrs-e9ece91e-7887-444c-ab52-22ffb61f9c32' title='Show/Hide attributes'><svg class='icon xr-icon-file-text2'><use xlink:href='#icon-file-text2'></use></svg></label><input id='data-bc1a5734-7c44-41c5-bfbe-b2f48080b1c0' class='xr-var-data-in' type='checkbox'><label for='data-bc1a5734-7c44-41c5-bfbe-b2f48080b1c0' title='Show/Hide data repr'><svg class='icon xr-icon-database'><use xlink:href='#icon-database'></use></svg></label><div class='xr-var-attrs'><dl class='xr-attrs'><dt><span>crs_wkt :</span></dt><dd>GEOGCS[&quot;WGS 84&quot;,DATUM[&quot;WGS_1984&quot;,SPHEROID[&quot;WGS 84&quot;,6378137,298.257223563,AUTHORITY[&quot;EPSG&quot;,&quot;7030&quot;]],AUTHORITY[&quot;EPSG&quot;,&quot;6326&quot;]],PRIMEM[&quot;Greenwich&quot;,0,AUTHORITY[&quot;EPSG&quot;,&quot;8901&quot;]],UNIT[&quot;degree&quot;,0.0174532925199433,AUTHORITY[&quot;EPSG&quot;,&quot;9122&quot;]],AXIS[&quot;Latitude&quot;,NORTH],AXIS[&quot;Longitude&quot;,EAST],AUTHORITY[&quot;EPSG&quot;,&quot;4326&quot;]]</dd><dt><span>semi_major_axis :</span></dt><dd>6378137.0</dd><dt><span>semi_minor_axis :</span></dt><dd>6356752.314245179</dd><dt><span>inverse_flattening :</span></dt><dd>298.257223563</dd><dt><span>reference_ellipsoid_name :</span></dt><dd>WGS 84</dd><dt><span>longitude_of_prime_meridian :</span></dt><dd>0.0</dd><dt><span>prime_meridian_name :</span></dt><dd>Greenwich</dd><dt><span>geographic_crs_name :</span></dt><dd>WGS 84</dd><dt><span>grid_mapping_name :</span></dt><dd>latitude_longitude</dd><dt><span>spatial_ref :</span></dt><dd>GEOGCS[&quot;WGS 84&quot;,DATUM[&quot;WGS_1984&quot;,SPHEROID[&quot;WGS 84&quot;,6378137,298.257223563,AUTHORITY[&quot;EPSG&quot;,&quot;7030&quot;]],AUTHORITY[&quot;EPSG&quot;,&quot;6326&quot;]],PRIMEM[&quot;Greenwich&quot;,0,AUTHORITY[&quot;EPSG&quot;,&quot;8901&quot;]],UNIT[&quot;degree&quot;,0.0174532925199433,AUTHORITY[&quot;EPSG&quot;,&quot;9122&quot;]],AXIS[&quot;Latitude&quot;,NORTH],AXIS[&quot;Longitude&quot;,EAST],AUTHORITY[&quot;EPSG&quot;,&quot;4326&quot;]]</dd><dt><span>GeoTransform :</span></dt><dd>-25.25 0.016666666666666663 0.0 72.25000000000001 0.0 -0.01666666666666667</dd></dl></div><div class='xr-var-data'><pre>array(0)</pre></div></li></ul></div></li><li class='xr-section-item'><input id='section-9a347d44-58a1-4278-9b4c-f951e5ac87ca' class='xr-section-summary-in' type='checkbox'  ><label for='section-9a347d44-58a1-4278-9b4c-f951e5ac87ca' class='xr-section-summary' >Attributes: <span>(27)</span></label><div class='xr-section-inline-details'></div><div class='xr-section-details'><dl class='xr-attrs'><dt><span>lat#axis :</span></dt><dd>Y</dd><dt><span>lat#long_name :</span></dt><dd>latitude</dd><dt><span>lat#standard_name :</span></dt><dd>latitude</dd><dt><span>lat#units :</span></dt><dd>degrees_north</dd><dt><span>lat#_FillValue :</span></dt><dd>nan</dd><dt><span>lon#axis :</span></dt><dd>X</dd><dt><span>lon#long_name :</span></dt><dd>longitude</dd><dt><span>lon#standard_name :</span></dt><dd>longitude</dd><dt><span>lon#units :</span></dt><dd>degrees_east</dd><dt><span>lon#_FillValue :</span></dt><dd>nan</dd><dt><span>CDI :</span></dt><dd>Climate Data Interface version 1.9.8 (https://mpimet.mpg.de/cdi)</dd><dt><span>CDO :</span></dt><dd>Climate Data Operators version 1.9.8 (https://mpimet.mpg.de/cdo)</dd><dt><span>Conventions :</span></dt><dd>CF-1.5</dd><dt><span>GDAL :</span></dt><dd>GDAL 3.0.4, released 2020/01/28</dd><dt><span>GDAL_AREA_OR_POINT :</span></dt><dd>Area</dd><dt><span>history :</span></dt><dd>Sun Dec 13 10:29:42 2020: cdo setmissval,-999999.0 tmp_3E.nc /perm/rd/pa5/ERVIN/CutToTemplate/channel_parameters/chanbw_European_01min.nc\n",
       "Sun Dec 13 10:29:42 2020: ncks -A -v lat,lon /perm/rd/pa5/ERVIN/CutToTemplate/mask/area_European_01min.nc tmp_3E.nc\n",
       "Sun Dec 13 10:29:42 2020: cdo -invertlat tmp_2E.nc tmp_3E.nc\n",
       "Sun Dec 13 10:29:41 2020: GDAL CreateCopy( tmp_2E.nc, ... )</dd><dt><span>history_of_appended_files :</span></dt><dd>Sun Dec 13 10:29:42 2020: Appended file /perm/rd/pa5/ERVIN/CutToTemplate/mask/area_European_01min.nc had following &quot;history&quot; attribute:\n",
       "Wed Nov 18 13:58:07 2020: cdo -invertlat tmp_4E.nc /hugetmp/NOT_Permanent/LDD/LDD_BOX/res/CHECKED/area_European_01min.nc\n",
       "Wed Nov 18 13:58:05 2020: GDAL CreateCopy( tmp_4E.nc, ... )\n",
       "Wed Nov 18 13:58:00 2020: cdo -b I8 -setattribute,area@standard_name=area,area@long_name=model execution area,title=Model execution map based on global river network D8,contributors=Margarita Choulga &lt;margarita.choulga@ecmwf.int&gt; -setmissval,0 tmp_2.nc tmp_3.nc\n",
       "Wed Nov 18 13:57:49 2020: cdo setvals,-1,1,0,1,1,1,2,1,3,1,4,1,5,1,6,1,7,1,8,1 tmp_1.nc tmp_2.nc\n",
       "Wed Nov 18 13:57:43 2020: cdo chname,flwdir,area /hugetmp/NOT_Permanent/LDD/LDD_BOX/data/flwdir_202009_01min.nc tmp_1.nc\n",
       "Fri Oct 23 13:12:49 2020: ncks -v flwdir ncdata.nc /hugetmp/NOT_Permanent/LDD/flwdir.nc\n",
       "Created Tue Sep 15 11:48:55 2020\n",
       "</dd><dt><span>NCO :</span></dt><dd>netCDF Operators version 4.9.2 (Homepage = http://nco.sf.net, Code = http://github.com/nco/nco)</dd><dt><span>long_name :</span></dt><dd>GDAL Band Number 1</dd><dt><span>missing_value :</span></dt><dd>-999999</dd><dt><span>STATISTICS_MAXIMUM :</span></dt><dd>154056.84375</dd><dt><span>STATISTICS_MEAN :</span></dt><dd>37.946524491408</dd><dt><span>STATISTICS_MINIMUM :</span></dt><dd>0</dd><dt><span>STATISTICS_STDDEV :</span></dt><dd>860.80091135961</dd><dt><span>_FillValue :</span></dt><dd>-999999.0</dd><dt><span>scale_factor :</span></dt><dd>1.0</dd><dt><span>add_offset :</span></dt><dd>0.0</dd></dl></div></li></ul></div></div>"
      ],
      "text/plain": [
       "<xarray.DataArray 'Band1' (y: 2970, x: 4530)>\n",
       "[13454100 values with dtype=float32]\n",
       "Coordinates:\n",
       "    band     int32 1\n",
       "  * x        (x) float64 -25.24 -25.23 -25.21 -25.19 ... 50.19 50.21 50.22 50.24\n",
       "  * y        (y) float64 72.24 72.23 72.21 72.19 ... 22.81 22.79 22.77 22.76\n",
       "    crs      int32 0\n",
       "Attributes:\n",
       "    lat#axis:                   Y\n",
       "    lat#long_name:              latitude\n",
       "    lat#standard_name:          latitude\n",
       "    lat#units:                  degrees_north\n",
       "    lat#_FillValue:             nan\n",
       "    lon#axis:                   X\n",
       "    lon#long_name:              longitude\n",
       "    lon#standard_name:          longitude\n",
       "    lon#units:                  degrees_east\n",
       "    lon#_FillValue:             nan\n",
       "    CDI:                        Climate Data Interface version 1.9.8 (https:/...\n",
       "    CDO:                        Climate Data Operators version 1.9.8 (https:/...\n",
       "    Conventions:                CF-1.5\n",
       "    GDAL:                       GDAL 3.0.4, released 2020/01/28\n",
       "    GDAL_AREA_OR_POINT:         Area\n",
       "    history:                    Sun Dec 13 10:29:42 2020: cdo setmissval,-999...\n",
       "    history_of_appended_files:  Sun Dec 13 10:29:42 2020: Appended file /perm...\n",
       "    NCO:                        netCDF Operators version 4.9.2 (Homepage = ht...\n",
       "    long_name:                  GDAL Band Number 1\n",
       "    missing_value:              -999999\n",
       "    STATISTICS_MAXIMUM:         154056.84375\n",
       "    STATISTICS_MEAN:            37.946524491408\n",
       "    STATISTICS_MINIMUM:         0\n",
       "    STATISTICS_STDDEV:          860.80091135961\n",
       "    _FillValue:                 -999999.0\n",
       "    scale_factor:               1.0\n",
       "    add_offset:                 0.0"
      ]
     },
     "execution_count": 94,
     "metadata": {},
     "output_type": "execute_result"
    }
   ],
   "source": [
    "chanbw"
   ]
  },
  {
   "cell_type": "code",
   "execution_count": null,
   "id": "14dffe2b-9b4e-48e0-bb72-94132187017d",
   "metadata": {},
   "outputs": [],
   "source": [
    "ID"
   ]
  },
  {
   "cell_type": "code",
   "execution_count": 105,
   "id": "5e4fc011-bd79-4feb-a99e-52efd9ae0f0e",
   "metadata": {},
   "outputs": [],
   "source": [
    "for ID, row in efas6.iterrows():\n",
    "    try:\n",
    "        alpha.loc[ID, 'algorithm'] = channel_width(chanbw, uparea, row.LISFLOODX, row.LISFLOODY)\n",
    "    except:\n",
    "        print(ID)"
   ]
  },
  {
   "cell_type": "code",
   "execution_count": 55,
   "id": "637776fe-25cd-4c30-8e01-d44be78263a8",
   "metadata": {},
   "outputs": [
    {
     "data": {
      "text/plain": [
       "LakID       <NA>\n",
       "Hylak_id    1253\n",
       "Name: 243, dtype: object"
      ]
     },
     "execution_count": 55,
     "metadata": {},
     "output_type": "execute_result"
    }
   ],
   "source": [
    "efas6.loc[243, ['LakID', 'Hylak_id']]"
   ]
  },
  {
   "cell_type": "code",
   "execution_count": 97,
   "id": "1f16f8e9-eff0-461d-af65-3c3cc958aed7",
   "metadata": {},
   "outputs": [],
   "source": [
    "x, y = efas6.loc[243, ['LISFLOODX', 'LISFLOODY']]"
   ]
  },
  {
   "cell_type": "code",
   "execution_count": 99,
   "id": "03052d93-c507-42f1-a308-4cd7face138b",
   "metadata": {},
   "outputs": [
    {
     "data": {
      "text/plain": [
       "array([7.55845942e-03, 7.56076258e-03, 3.58378235e+02, 7.56076258e-03,\n",
       "       7.55845942e-03])"
      ]
     },
     "execution_count": 99,
     "metadata": {},
     "output_type": "execute_result"
    }
   ],
   "source": [
    "width = channel_width(chanbw, uparea, x, y)\n",
    "\n",
    "width"
   ]
  },
  {
   "cell_type": "code",
   "execution_count": 100,
   "id": "0e74425e-9648-477f-8fdc-c8bae443b5f0",
   "metadata": {},
   "outputs": [
    {
     "data": {
      "text/plain": [
       "array([7.55845942e-03, 7.56076258e-03, 3.58378235e+02, 7.56076258e-03,\n",
       "       7.55845942e-03])"
      ]
     },
     "execution_count": 100,
     "metadata": {},
     "output_type": "execute_result"
    }
   ],
   "source": [
    "width"
   ]
  },
  {
   "cell_type": "code",
   "execution_count": null,
   "id": "2c060216-ebb8-4002-8492-a42165c0e2a4",
   "metadata": {},
   "outputs": [],
   "source": []
  },
  {
   "cell_type": "code",
   "execution_count": 63,
   "id": "225a28c5-3bc0-40e6-a39c-e3e40eece458",
   "metadata": {},
   "outputs": [
    {
     "name": "stdout",
     "output_type": "stream",
     "text": [
      "No downstream pixel was found\n"
     ]
    }
   ],
   "source": [
    "# coordinates of the two pixels upstream\n",
    "y_u1, x_u1 = upstream_pixel(y, x, uparea)\n",
    "y_u2, x_u2 = upstream_pixel(y_u1, x_u1, uparea)\n",
    "\n",
    "# coordinates of the tow pixels downstream\n",
    "y_d1, x_d1 = downstream_pixel(y, x, uparea)\n",
    "y_d2, x_d2 = downstream_pixel(y_d1, x_d1, uparea)"
   ]
  },
  {
   "cell_type": "code",
   "execution_count": 64,
   "id": "2bb26663-b74b-4e02-b206-6b87c072a271",
   "metadata": {},
   "outputs": [
    {
     "ename": "KeyError",
     "evalue": "nan",
     "output_type": "error",
     "traceback": [
      "\u001b[1;31m---------------------------------------------------------------------------\u001b[0m",
      "\u001b[1;31mKeyError\u001b[0m                                  Traceback (most recent call last)",
      "Cell \u001b[1;32mIn [64], line 4\u001b[0m\n\u001b[0;32m      2\u001b[0m xs \u001b[38;5;241m=\u001b[39m [x_u2, x_u1, x, x_d1, x_d2]\n\u001b[0;32m      3\u001b[0m ys \u001b[38;5;241m=\u001b[39m [y_u2, y_u1, y, y_d1, y_d2]\n\u001b[1;32m----> 4\u001b[0m width \u001b[38;5;241m=\u001b[39m np\u001b[38;5;241m.\u001b[39marray([chanbw\u001b[38;5;241m.\u001b[39msel(x\u001b[38;5;241m=\u001b[39mxi, y\u001b[38;5;241m=\u001b[39myi, method\u001b[38;5;241m=\u001b[39m\u001b[38;5;124m'\u001b[39m\u001b[38;5;124mnearest\u001b[39m\u001b[38;5;124m'\u001b[39m)\u001b[38;5;241m.\u001b[39mitem() \u001b[38;5;28;01mfor\u001b[39;00m xi, yi \u001b[38;5;129;01min\u001b[39;00m \u001b[38;5;28mzip\u001b[39m(xs, ys)])\n",
      "Cell \u001b[1;32mIn [64], line 4\u001b[0m, in \u001b[0;36m<listcomp>\u001b[1;34m(.0)\u001b[0m\n\u001b[0;32m      2\u001b[0m xs \u001b[38;5;241m=\u001b[39m [x_u2, x_u1, x, x_d1, x_d2]\n\u001b[0;32m      3\u001b[0m ys \u001b[38;5;241m=\u001b[39m [y_u2, y_u1, y, y_d1, y_d2]\n\u001b[1;32m----> 4\u001b[0m width \u001b[38;5;241m=\u001b[39m np\u001b[38;5;241m.\u001b[39marray([\u001b[43mchanbw\u001b[49m\u001b[38;5;241;43m.\u001b[39;49m\u001b[43msel\u001b[49m\u001b[43m(\u001b[49m\u001b[43mx\u001b[49m\u001b[38;5;241;43m=\u001b[39;49m\u001b[43mxi\u001b[49m\u001b[43m,\u001b[49m\u001b[43m \u001b[49m\u001b[43my\u001b[49m\u001b[38;5;241;43m=\u001b[39;49m\u001b[43myi\u001b[49m\u001b[43m,\u001b[49m\u001b[43m \u001b[49m\u001b[43mmethod\u001b[49m\u001b[38;5;241;43m=\u001b[39;49m\u001b[38;5;124;43m'\u001b[39;49m\u001b[38;5;124;43mnearest\u001b[39;49m\u001b[38;5;124;43m'\u001b[39;49m\u001b[43m)\u001b[49m\u001b[38;5;241m.\u001b[39mitem() \u001b[38;5;28;01mfor\u001b[39;00m xi, yi \u001b[38;5;129;01min\u001b[39;00m \u001b[38;5;28mzip\u001b[39m(xs, ys)])\n",
      "File \u001b[1;32mC:\\DEV\\Anaconda3\\envs\\xr\\lib\\site-packages\\xarray\\core\\dataarray.py:1332\u001b[0m, in \u001b[0;36mDataArray.sel\u001b[1;34m(self, indexers, method, tolerance, drop, **indexers_kwargs)\u001b[0m\n\u001b[0;32m   1223\u001b[0m \u001b[38;5;28;01mdef\u001b[39;00m \u001b[38;5;21msel\u001b[39m(\n\u001b[0;32m   1224\u001b[0m     \u001b[38;5;28mself\u001b[39m,\n\u001b[0;32m   1225\u001b[0m     indexers: Mapping[Any, Any] \u001b[38;5;241m=\u001b[39m \u001b[38;5;28;01mNone\u001b[39;00m,\n\u001b[1;32m   (...)\u001b[0m\n\u001b[0;32m   1229\u001b[0m     \u001b[38;5;241m*\u001b[39m\u001b[38;5;241m*\u001b[39mindexers_kwargs: Any,\n\u001b[0;32m   1230\u001b[0m ) \u001b[38;5;241m-\u001b[39m\u001b[38;5;241m>\u001b[39m \u001b[38;5;124m\"\u001b[39m\u001b[38;5;124mDataArray\u001b[39m\u001b[38;5;124m\"\u001b[39m:\n\u001b[0;32m   1231\u001b[0m     \u001b[38;5;124;03m\"\"\"Return a new DataArray whose data is given by selecting index\u001b[39;00m\n\u001b[0;32m   1232\u001b[0m \u001b[38;5;124;03m    labels along the specified dimension(s).\u001b[39;00m\n\u001b[0;32m   1233\u001b[0m \n\u001b[1;32m   (...)\u001b[0m\n\u001b[0;32m   1330\u001b[0m \u001b[38;5;124;03m    Dimensions without coordinates: points\u001b[39;00m\n\u001b[0;32m   1331\u001b[0m \u001b[38;5;124;03m    \"\"\"\u001b[39;00m\n\u001b[1;32m-> 1332\u001b[0m     ds \u001b[38;5;241m=\u001b[39m \u001b[38;5;28mself\u001b[39m\u001b[38;5;241m.\u001b[39m_to_temp_dataset()\u001b[38;5;241m.\u001b[39msel(\n\u001b[0;32m   1333\u001b[0m         indexers\u001b[38;5;241m=\u001b[39mindexers,\n\u001b[0;32m   1334\u001b[0m         drop\u001b[38;5;241m=\u001b[39mdrop,\n\u001b[0;32m   1335\u001b[0m         method\u001b[38;5;241m=\u001b[39mmethod,\n\u001b[0;32m   1336\u001b[0m         tolerance\u001b[38;5;241m=\u001b[39mtolerance,\n\u001b[0;32m   1337\u001b[0m         \u001b[38;5;241m*\u001b[39m\u001b[38;5;241m*\u001b[39mindexers_kwargs,\n\u001b[0;32m   1338\u001b[0m     )\n\u001b[0;32m   1339\u001b[0m     \u001b[38;5;28;01mreturn\u001b[39;00m \u001b[38;5;28mself\u001b[39m\u001b[38;5;241m.\u001b[39m_from_temp_dataset(ds)\n",
      "File \u001b[1;32mC:\\DEV\\Anaconda3\\envs\\xr\\lib\\site-packages\\xarray\\core\\dataset.py:2504\u001b[0m, in \u001b[0;36mDataset.sel\u001b[1;34m(self, indexers, method, tolerance, drop, **indexers_kwargs)\u001b[0m\n\u001b[0;32m   2443\u001b[0m \u001b[38;5;124;03m\"\"\"Returns a new dataset with each array indexed by tick labels\u001b[39;00m\n\u001b[0;32m   2444\u001b[0m \u001b[38;5;124;03malong the specified dimension(s).\u001b[39;00m\n\u001b[0;32m   2445\u001b[0m \n\u001b[1;32m   (...)\u001b[0m\n\u001b[0;32m   2501\u001b[0m \u001b[38;5;124;03mDataArray.sel\u001b[39;00m\n\u001b[0;32m   2502\u001b[0m \u001b[38;5;124;03m\"\"\"\u001b[39;00m\n\u001b[0;32m   2503\u001b[0m indexers \u001b[38;5;241m=\u001b[39m either_dict_or_kwargs(indexers, indexers_kwargs, \u001b[38;5;124m\"\u001b[39m\u001b[38;5;124msel\u001b[39m\u001b[38;5;124m\"\u001b[39m)\n\u001b[1;32m-> 2504\u001b[0m pos_indexers, new_indexes \u001b[38;5;241m=\u001b[39m \u001b[43mremap_label_indexers\u001b[49m\u001b[43m(\u001b[49m\n\u001b[0;32m   2505\u001b[0m \u001b[43m    \u001b[49m\u001b[38;5;28;43mself\u001b[39;49m\u001b[43m,\u001b[49m\u001b[43m \u001b[49m\u001b[43mindexers\u001b[49m\u001b[38;5;241;43m=\u001b[39;49m\u001b[43mindexers\u001b[49m\u001b[43m,\u001b[49m\u001b[43m \u001b[49m\u001b[43mmethod\u001b[49m\u001b[38;5;241;43m=\u001b[39;49m\u001b[43mmethod\u001b[49m\u001b[43m,\u001b[49m\u001b[43m \u001b[49m\u001b[43mtolerance\u001b[49m\u001b[38;5;241;43m=\u001b[39;49m\u001b[43mtolerance\u001b[49m\n\u001b[0;32m   2506\u001b[0m \u001b[43m\u001b[49m\u001b[43m)\u001b[49m\n\u001b[0;32m   2507\u001b[0m \u001b[38;5;66;03m# TODO: benbovy - flexible indexes: also use variables returned by Index.query\u001b[39;00m\n\u001b[0;32m   2508\u001b[0m \u001b[38;5;66;03m# (temporary dirty fix).\u001b[39;00m\n\u001b[0;32m   2509\u001b[0m new_indexes \u001b[38;5;241m=\u001b[39m {k: v[\u001b[38;5;241m0\u001b[39m] \u001b[38;5;28;01mfor\u001b[39;00m k, v \u001b[38;5;129;01min\u001b[39;00m new_indexes\u001b[38;5;241m.\u001b[39mitems()}\n",
      "File \u001b[1;32mC:\\DEV\\Anaconda3\\envs\\xr\\lib\\site-packages\\xarray\\core\\coordinates.py:421\u001b[0m, in \u001b[0;36mremap_label_indexers\u001b[1;34m(obj, indexers, method, tolerance, **indexers_kwargs)\u001b[0m\n\u001b[0;32m    414\u001b[0m indexers \u001b[38;5;241m=\u001b[39m either_dict_or_kwargs(indexers, indexers_kwargs, \u001b[38;5;124m\"\u001b[39m\u001b[38;5;124mremap_label_indexers\u001b[39m\u001b[38;5;124m\"\u001b[39m)\n\u001b[0;32m    416\u001b[0m v_indexers \u001b[38;5;241m=\u001b[39m {\n\u001b[0;32m    417\u001b[0m     k: v\u001b[38;5;241m.\u001b[39mvariable\u001b[38;5;241m.\u001b[39mdata \u001b[38;5;28;01mif\u001b[39;00m \u001b[38;5;28misinstance\u001b[39m(v, DataArray) \u001b[38;5;28;01melse\u001b[39;00m v\n\u001b[0;32m    418\u001b[0m     \u001b[38;5;28;01mfor\u001b[39;00m k, v \u001b[38;5;129;01min\u001b[39;00m indexers\u001b[38;5;241m.\u001b[39mitems()\n\u001b[0;32m    419\u001b[0m }\n\u001b[1;32m--> 421\u001b[0m pos_indexers, new_indexes \u001b[38;5;241m=\u001b[39m \u001b[43mindexing\u001b[49m\u001b[38;5;241;43m.\u001b[39;49m\u001b[43mremap_label_indexers\u001b[49m\u001b[43m(\u001b[49m\n\u001b[0;32m    422\u001b[0m \u001b[43m    \u001b[49m\u001b[43mobj\u001b[49m\u001b[43m,\u001b[49m\u001b[43m \u001b[49m\u001b[43mv_indexers\u001b[49m\u001b[43m,\u001b[49m\u001b[43m \u001b[49m\u001b[43mmethod\u001b[49m\u001b[38;5;241;43m=\u001b[39;49m\u001b[43mmethod\u001b[49m\u001b[43m,\u001b[49m\u001b[43m \u001b[49m\u001b[43mtolerance\u001b[49m\u001b[38;5;241;43m=\u001b[39;49m\u001b[43mtolerance\u001b[49m\n\u001b[0;32m    423\u001b[0m \u001b[43m\u001b[49m\u001b[43m)\u001b[49m\n\u001b[0;32m    424\u001b[0m \u001b[38;5;66;03m# attach indexer's coordinate to pos_indexers\u001b[39;00m\n\u001b[0;32m    425\u001b[0m \u001b[38;5;28;01mfor\u001b[39;00m k, v \u001b[38;5;129;01min\u001b[39;00m indexers\u001b[38;5;241m.\u001b[39mitems():\n",
      "File \u001b[1;32mC:\\DEV\\Anaconda3\\envs\\xr\\lib\\site-packages\\xarray\\core\\indexing.py:120\u001b[0m, in \u001b[0;36mremap_label_indexers\u001b[1;34m(data_obj, indexers, method, tolerance)\u001b[0m\n\u001b[0;32m    118\u001b[0m \u001b[38;5;28;01mfor\u001b[39;00m dim, index \u001b[38;5;129;01min\u001b[39;00m indexes\u001b[38;5;241m.\u001b[39mitems():\n\u001b[0;32m    119\u001b[0m     labels \u001b[38;5;241m=\u001b[39m grouped_indexers[dim]\n\u001b[1;32m--> 120\u001b[0m     idxr, new_idx \u001b[38;5;241m=\u001b[39m \u001b[43mindex\u001b[49m\u001b[38;5;241;43m.\u001b[39;49m\u001b[43mquery\u001b[49m\u001b[43m(\u001b[49m\u001b[43mlabels\u001b[49m\u001b[43m,\u001b[49m\u001b[43m \u001b[49m\u001b[43mmethod\u001b[49m\u001b[38;5;241;43m=\u001b[39;49m\u001b[43mmethod\u001b[49m\u001b[43m,\u001b[49m\u001b[43m \u001b[49m\u001b[43mtolerance\u001b[49m\u001b[38;5;241;43m=\u001b[39;49m\u001b[43mtolerance\u001b[49m\u001b[43m)\u001b[49m\n\u001b[0;32m    121\u001b[0m     pos_indexers[dim] \u001b[38;5;241m=\u001b[39m idxr\n\u001b[0;32m    122\u001b[0m     \u001b[38;5;28;01mif\u001b[39;00m new_idx \u001b[38;5;129;01mis\u001b[39;00m \u001b[38;5;129;01mnot\u001b[39;00m \u001b[38;5;28;01mNone\u001b[39;00m:\n",
      "File \u001b[1;32mC:\\DEV\\Anaconda3\\envs\\xr\\lib\\site-packages\\xarray\\core\\indexes.py:234\u001b[0m, in \u001b[0;36mPandasIndex.query\u001b[1;34m(self, labels, method, tolerance)\u001b[0m\n\u001b[0;32m    232\u001b[0m         indexer \u001b[38;5;241m=\u001b[39m \u001b[38;5;28mself\u001b[39m\u001b[38;5;241m.\u001b[39mindex\u001b[38;5;241m.\u001b[39mget_loc(label_value)\n\u001b[0;32m    233\u001b[0m     \u001b[38;5;28;01melse\u001b[39;00m:\n\u001b[1;32m--> 234\u001b[0m         indexer \u001b[38;5;241m=\u001b[39m \u001b[38;5;28;43mself\u001b[39;49m\u001b[38;5;241;43m.\u001b[39;49m\u001b[43mindex\u001b[49m\u001b[38;5;241;43m.\u001b[39;49m\u001b[43mget_loc\u001b[49m\u001b[43m(\u001b[49m\n\u001b[0;32m    235\u001b[0m \u001b[43m            \u001b[49m\u001b[43mlabel_value\u001b[49m\u001b[43m,\u001b[49m\u001b[43m \u001b[49m\u001b[43mmethod\u001b[49m\u001b[38;5;241;43m=\u001b[39;49m\u001b[43mmethod\u001b[49m\u001b[43m,\u001b[49m\u001b[43m \u001b[49m\u001b[43mtolerance\u001b[49m\u001b[38;5;241;43m=\u001b[39;49m\u001b[43mtolerance\u001b[49m\n\u001b[0;32m    236\u001b[0m \u001b[43m        \u001b[49m\u001b[43m)\u001b[49m\n\u001b[0;32m    237\u001b[0m \u001b[38;5;28;01melif\u001b[39;00m label\u001b[38;5;241m.\u001b[39mdtype\u001b[38;5;241m.\u001b[39mkind \u001b[38;5;241m==\u001b[39m \u001b[38;5;124m\"\u001b[39m\u001b[38;5;124mb\u001b[39m\u001b[38;5;124m\"\u001b[39m:\n\u001b[0;32m    238\u001b[0m     indexer \u001b[38;5;241m=\u001b[39m label\n",
      "File \u001b[1;32mC:\\DEV\\Anaconda3\\envs\\xr\\lib\\site-packages\\pandas\\core\\indexes\\base.py:3641\u001b[0m, in \u001b[0;36mIndex.get_loc\u001b[1;34m(self, key, method, tolerance)\u001b[0m\n\u001b[0;32m   3632\u001b[0m warnings\u001b[38;5;241m.\u001b[39mwarn(\n\u001b[0;32m   3633\u001b[0m     \u001b[38;5;124mf\u001b[39m\u001b[38;5;124m\"\u001b[39m\u001b[38;5;124mPassing method to \u001b[39m\u001b[38;5;132;01m{\u001b[39;00m\u001b[38;5;28mtype\u001b[39m(\u001b[38;5;28mself\u001b[39m)\u001b[38;5;241m.\u001b[39m\u001b[38;5;18m__name__\u001b[39m\u001b[38;5;132;01m}\u001b[39;00m\u001b[38;5;124m.get_loc is deprecated \u001b[39m\u001b[38;5;124m\"\u001b[39m\n\u001b[0;32m   3634\u001b[0m     \u001b[38;5;124m\"\u001b[39m\u001b[38;5;124mand will raise in a future version. Use \u001b[39m\u001b[38;5;124m\"\u001b[39m\n\u001b[1;32m   (...)\u001b[0m\n\u001b[0;32m   3637\u001b[0m     stacklevel\u001b[38;5;241m=\u001b[39mfind_stack_level(),\n\u001b[0;32m   3638\u001b[0m )\n\u001b[0;32m   3640\u001b[0m \u001b[38;5;28;01mif\u001b[39;00m is_scalar(key) \u001b[38;5;129;01mand\u001b[39;00m isna(key) \u001b[38;5;129;01mand\u001b[39;00m \u001b[38;5;129;01mnot\u001b[39;00m \u001b[38;5;28mself\u001b[39m\u001b[38;5;241m.\u001b[39mhasnans:\n\u001b[1;32m-> 3641\u001b[0m     \u001b[38;5;28;01mraise\u001b[39;00m \u001b[38;5;167;01mKeyError\u001b[39;00m(key)\n\u001b[0;32m   3643\u001b[0m \u001b[38;5;28;01mif\u001b[39;00m tolerance \u001b[38;5;129;01mis\u001b[39;00m \u001b[38;5;129;01mnot\u001b[39;00m \u001b[38;5;28;01mNone\u001b[39;00m:\n\u001b[0;32m   3644\u001b[0m     tolerance \u001b[38;5;241m=\u001b[39m \u001b[38;5;28mself\u001b[39m\u001b[38;5;241m.\u001b[39m_convert_tolerance(tolerance, np\u001b[38;5;241m.\u001b[39masarray(key))\n",
      "\u001b[1;31mKeyError\u001b[0m: nan"
     ]
    }
   ],
   "source": [
    "# extract channel width in the 5 pixels\n",
    "xs = [x_u2, x_u1, x, x_d1, x_d2]\n",
    "ys = [y_u2, y_u1, y, y_d1, y_d2]\n",
    "width = np.array([chanbw.sel(x=xi, y=yi, method='nearest').item() for xi, yi in zip(xs, ys)])"
   ]
  },
  {
   "cell_type": "code",
   "execution_count": null,
   "id": "de47c0aa-ae7a-460e-b49f-c5b9f2ac5e81",
   "metadata": {},
   "outputs": [],
   "source": [
    "width"
   ]
  },
  {
   "cell_type": "code",
   "execution_count": 46,
   "id": "d2dc98f8-8c5a-4ad5-8924-88e1ecf504c3",
   "metadata": {},
   "outputs": [
    {
     "data": {
      "text/plain": [
       "0.0"
      ]
     },
     "execution_count": 46,
     "metadata": {},
     "output_type": "execute_result"
    }
   ],
   "source": [
    "# keep the width of the pixel with the largest difference with respect to the pixel upstream\n",
    "idx = np.argmin(width[1:] - width[:-1]) + 1\n",
    "width[idx]"
   ]
  },
  {
   "cell_type": "code",
   "execution_count": 61,
   "id": "4c0ca8e2-90fc-43fb-ba6b-823a2f0201c0",
   "metadata": {},
   "outputs": [
    {
     "data": {
      "text/plain": [
       "0.0"
      ]
     },
     "execution_count": 61,
     "metadata": {},
     "output_type": "execute_result"
    }
   ],
   "source": [
    "chanbw.sel(x=x, y=y, method='nearest').item()"
   ]
  },
  {
   "cell_type": "code",
   "execution_count": 60,
   "id": "26f5e94a-3ef4-4eac-9aa5-542af1e4243b",
   "metadata": {},
   "outputs": [
    {
     "data": {
      "text/plain": [
       "EFAS5               NaN\n",
       "CHANBW       358.378235\n",
       "algorithm           NaN\n",
       "Name: 243, dtype: object"
      ]
     },
     "execution_count": 60,
     "metadata": {},
     "output_type": "execute_result"
    }
   ],
   "source": [
    "alpha.loc[243]"
   ]
  },
  {
   "cell_type": "code",
   "execution_count": 47,
   "id": "92c18a7b-803e-4431-84d8-5d5fa8ffaa2f",
   "metadata": {},
   "outputs": [
    {
     "data": {
      "text/plain": [
       "<matplotlib.collections.PathCollection at 0x1cee17269a0>"
      ]
     },
     "execution_count": 47,
     "metadata": {},
     "output_type": "execute_result"
    },
    {
     "data": {
      "image/png": "[encoded data removed]",
      "text/plain": [
       "<Figure size 640x480 with 1 Axes>"
      ]
     },
     "metadata": {},
     "output_type": "display_data"
    }
   ],
   "source": [
    "# plt.imshow(chanbw)\n",
    "plt.scatter(xs, ys)\n",
    "# plt.xlim(np.min(xs), np.max(xs))\n",
    "# plt.ylim(np.min(ys), np.max(ys));"
   ]
  },
  {
   "cell_type": "code",
   "execution_count": null,
   "id": "2ca798b2-9486-4d06-b424-6ac51c267d2a",
   "metadata": {},
   "outputs": [],
   "source": [
    "plat.scatter(x, y)"
   ]
  },
  {
   "cell_type": "code",
   "execution_count": null,
   "id": "13299ed7-662d-41e0-9431-2f2000adaaff",
   "metadata": {},
   "outputs": [],
   "source": [
    "w"
   ]
  },
  {
   "cell_type": "code",
   "execution_count": null,
   "id": "8d815de1-d82c-46ae-a750-8c5fa0aad235",
   "metadata": {},
   "outputs": [],
   "source": [
    "# upstream area of the input coordinates\n",
    "area = uparea.sel(y=y, x=x, method='nearest').values\n",
    "\n",
    "# spatial resolution of the input map\n",
    "resolution = np.mean(np.diff(uparea.x.values))\n",
    "\n",
    "# window around the input pixel\n",
    "window = np.array([-1.5 * resolution, 1.5 * resolution])\n",
    "upArea_ = uparea.sel(y=slice(*window[::-1] + y)).sel(x=slice(*window + x))\n",
    "\n",
    "# remove pixels with area equal or smaller than the input pixel\n",
    "mask = upArea_.where(upArea_ > area, np.nan)\n",
    "\n",
    "# from the remaining, find pixel with the smallest upstream area\n",
    "pixel = upArea_.where(upArea_ == mask.min(), drop=True)"
   ]
  },
  {
   "cell_type": "code",
   "execution_count": null,
   "id": "be4ca82e-fa52-4e05-8bd0-607f5eb03f2b",
   "metadata": {},
   "outputs": [],
   "source": [
    "{ID: channel_width(chanbw, uparea, row.LISFLOODX, row.LISFLOODY) for ID, row in efas6.iterrows()}"
   ]
  },
  {
   "cell_type": "code",
   "execution_count": null,
   "id": "c627f462-11e0-4a45-a9e8-d67ca3d2e2db",
   "metadata": {},
   "outputs": [],
   "source": [
    "for i, (ID, row) in enumerate(efas6.iterrows()):\n",
    "    # if row.LakID == 576:\n",
    "    if i == 0:\n",
    "        break"
   ]
  },
  {
   "cell_type": "code",
   "execution_count": null,
   "id": "32bc1e4c-246b-4602-a07a-4e896a5d32c3",
   "metadata": {},
   "outputs": [],
   "source": [
    "row"
   ]
  },
  {
   "cell_type": "code",
   "execution_count": null,
   "id": "52082e38-6dcc-4ca3-bb91-54438f7080d1",
   "metadata": {},
   "outputs": [],
   "source": [
    "    "
   ]
  },
  {
   "cell_type": "code",
   "execution_count": null,
   "id": "a3eb930d-96b5-459e-9909-705579da4224",
   "metadata": {},
   "outputs": [],
   "source": [
    "plt.plot(width)"
   ]
  },
  {
   "cell_type": "code",
   "execution_count": null,
   "id": "3897a27d-55f1-4ed4-8fcb-9b074619b6ef",
   "metadata": {},
   "outputs": [],
   "source": [
    "    pd.Series({ID: chanbw.sel(x=row.LISFLOODX, y=row.LISFLOODY, method='nearest').item() for ID, row in efas6.iterrows()})"
   ]
  },
  {
   "cell_type": "code",
   "execution_count": null,
   "id": "937fe966-9526-4470-adf7-368dc4bca0e9",
   "metadata": {},
   "outputs": [],
   "source": [
    "pd.Series({ID: chanbw.sel(x=row.LISFLOODX, y=row.LISFLOODY, method='nearest').item() for ID, row in efas6.iterrows()})"
   ]
  },
  {
   "cell_type": "markdown",
   "id": "fd213552-2f15-42e5-a56f-fcb10e14af0e",
   "metadata": {},
   "source": [
    "***"
   ]
  },
  {
   "cell_type": "markdown",
   "id": "f3d9266a-cd89-41e5-9ae4-813c70f2168f",
   "metadata": {},
   "source": [
    "#### Comparison"
   ]
  },
  {
   "cell_type": "code",
   "execution_count": null,
   "id": "8c778ed5-cccf-41a9-81b6-64fb8d6d9482",
   "metadata": {},
   "outputs": [],
   "source": [
    "fig, ax = plt.subplots(figsize=(4, 4))\n",
    "\n",
    "vmin, vmax = -100, 4000\n",
    "ax.plot([vmin, vmax], [vmin, vmax], c='k', lw=.5, zorder=0)\n",
    "ax.scatter(alpha.EFAS5, alpha.CHANBW, s=10, alpha=.5)\n",
    "ax.set(\n",
    "    xlim=(vmin, vmax),\n",
    "    xlabel='EFAS 5',\n",
    "    ylim=(vmin, vmax),\n",
    "    ylabel='chanbw',\n",
    "    title=r'$\\alpha$'\n",
    ");"
   ]
  },
  {
   "cell_type": "code",
   "execution_count": null,
   "id": "b9dedeeb-7120-46e1-a8d9-d0045c513d3f",
   "metadata": {},
   "outputs": [],
   "source": [
    "efas6.loc[178, ['LakID', 'Hylak_id']]"
   ]
  },
  {
   "cell_type": "code",
   "execution_count": null,
   "id": "6b2dcff9-4093-4662-a06c-8ce5fee6188d",
   "metadata": {},
   "outputs": [],
   "source": [
    "alpha['PCT_ERROR'] = abs(alpha.EFAS5 - alpha.CHANBW) / alpha.EFAS5 * 100\n",
    "\n",
    "alpha[alpha.PCT_ERROR > 50].sort_values('PCT_ERROR', ascending=False)"
   ]
  },
  {
   "cell_type": "code",
   "execution_count": null,
   "id": "ae30c91c-f1e3-444d-89e1-e45ee8c0633d",
   "metadata": {},
   "outputs": [],
   "source": [
    "alpha.CHANBW.idxmax()"
   ]
  },
  {
   "cell_type": "code",
   "execution_count": null,
   "id": "68135780-ed4e-443c-908e-0eb5626e2db2",
   "metadata": {},
   "outputs": [],
   "source": [
    "alpha.loc[95]"
   ]
  },
  {
   "cell_type": "code",
   "execution_count": null,
   "id": "5a82e8db-26e0-45e4-adb7-39cbc5e2120c",
   "metadata": {},
   "outputs": [],
   "source": [
    "efas6.loc[95]"
   ]
  },
  {
   "cell_type": "markdown",
   "id": "d6f3ac1e-800e-406c-b18f-af09a4cd0e28",
   "metadata": {},
   "source": [
    "### Area"
   ]
  },
  {
   "cell_type": "code",
   "execution_count": null,
   "id": "8471a719-0cfa-4faf-ab6b-7ae2a8f908fe",
   "metadata": {},
   "outputs": [],
   "source": [
    "area = pd.DataFrame(index=efas6.index, columns=['EFAS5', 'HYLAK'])"
   ]
  },
  {
   "cell_type": "code",
   "execution_count": null,
   "id": "0d623f76-5e42-4036-a860-8319b0efff93",
   "metadata": {},
   "outputs": [],
   "source": [
    "# extract alpha values used in EFAS5\n",
    "for ID, LakID, Hylak_id in zip(efas6.index, efas6.LakID, efas6.Hylak_id):\n",
    "    if not pd.isna(LakID):\n",
    "        try:\n",
    "            area.loc[ID, 'EFAS5'] = efas5.loc[LakID, 'AREA_KM2']\n",
    "        except:\n",
    "            print('EFAS ID:', LakID)\n",
    "    if not pd.isna(Hylak_id):\n",
    "        try:\n",
    "            area.loc[ID, 'HYLAK'] = hylak.loc[Hylak_id, 'Lake_area']\n",
    "        except:\n",
    "            print('Hylak ID:', Hylak_id)"
   ]
  },
  {
   "cell_type": "code",
   "execution_count": null,
   "id": "511d1c0e-caab-4bdc-a2ac-002339e1e6f8",
   "metadata": {},
   "outputs": [],
   "source": []
  },
  {
   "cell_type": "code",
   "execution_count": null,
   "id": "68ae80f7-3132-4142-9e4f-55e11f44ebe7",
   "metadata": {},
   "outputs": [],
   "source": [
    "fig, ax = plt.subplots(figsize=(4, 4))\n",
    "vmin, vmax = 1, 21000\n",
    "ax.plot([vmin, vmax], [vmin, vmax], c='k', lw=.5, zorder=0)\n",
    "ax.scatter(area.EFAS5, area.HYLAK, s=10, alpha=.5)\n",
    "ax.set(\n",
    "    xlim=(vmin, vmax),\n",
    "    xlabel='EFAS 5',\n",
    "    ylim=(vmin, vmax),\n",
    "    ylabel='HydroLakes',\n",
    "    title=r'area (km²)'\n",
    ");\n",
    "\n",
    "ax.set_xscale('log')\n",
    "ax.set_yscale('log');"
   ]
  },
  {
   "cell_type": "code",
   "execution_count": null,
   "id": "549c2750-81ec-4301-bd0b-d8a01d4c04db",
   "metadata": {},
   "outputs": [],
   "source": [
    "area['PCT_ERROR'] = abs(area.EFAS5 - area.HYLAK) / area.EFAS5 * 100"
   ]
  },
  {
   "cell_type": "code",
   "execution_count": null,
   "id": "30c237e9-fd7d-4df9-a604-3e9d4be60928",
   "metadata": {},
   "outputs": [],
   "source": [
    "efas6[efas6.Hylak_id == 1110]"
   ]
  },
  {
   "cell_type": "code",
   "execution_count": null,
   "id": "f651d9b8-94a4-4682-80a9-b45c94fc6f76",
   "metadata": {},
   "outputs": [],
   "source": [
    "efas6.loc[131]"
   ]
  },
  {
   "cell_type": "code",
   "execution_count": null,
   "id": "c7b1238b-297f-4712-8324-8abfc38b9207",
   "metadata": {},
   "outputs": [],
   "source": [
    "area[area.PCT_ERROR > 20].sort_values('PCT_ERROR', ascending=False)"
   ]
  },
  {
   "cell_type": "code",
   "execution_count": null,
   "id": "60344d34-d093-4364-b843-346f1255d991",
   "metadata": {},
   "outputs": [],
   "source": [
    "hylak.Lake_area"
   ]
  },
  {
   "cell_type": "code",
   "execution_count": null,
   "id": "ac1ea7b1-e24a-4c84-99f3-18542c7ea276",
   "metadata": {},
   "outputs": [],
   "source": [
    "1054 in hylak.index"
   ]
  },
  {
   "cell_type": "code",
   "execution_count": null,
   "id": "3ea001ee-39c7-4d00-9b55-ddba85240120",
   "metadata": {},
   "outputs": [],
   "source": [
    "hylak.columns"
   ]
  },
  {
   "cell_type": "code",
   "execution_count": null,
   "id": "6dc11135-ac4b-4c37-86d0-e1b7f1b8f6fa",
   "metadata": {},
   "outputs": [],
   "source": []
  },
  {
   "cell_type": "markdown",
   "id": "d6787a87-cc86-4054-b7af-e71925f15b2e",
   "metadata": {},
   "source": [
    "***"
   ]
  },
  {
   "cell_type": "markdown",
   "id": "3b9045e8-bf45-44ca-9be4-ae9a7231a0be",
   "metadata": {},
   "source": [
    "### Static map"
   ]
  },
  {
   "cell_type": "code",
   "execution_count": null,
   "id": "0a079622-6374-467d-ab1b-51bbbe5b0bed",
   "metadata": {},
   "outputs": [],
   "source": [
    "# load the upstream area map\n",
    "uparea = rxr.open_rasterio(PATH_EFAS / 'static_maps' / 'upArea_European_01min.nc').squeeze(dim='band')\n",
    "uparea = uparea.where(uparea != -999999, np.nan)\n",
    "\n",
    "# load the domain\n",
    "domain = rxr.open_rasterio(PATH_EFAS / 'static_maps' / 'domain_area_European_01min.nc').squeeze(dim='band')\n",
    "lon_min, lat_min, lon_max, lat_max = np.round(domain.rio.bounds(), 6)\n",
    "efas_cellsize = np.mean(np.diff(domain.x)) # degrees"
   ]
  },
  {
   "cell_type": "markdown",
   "id": "053a84c1-e58f-47ab-b596-72bc35ac5466",
   "metadata": {},
   "source": [
    "### Reservoirs"
   ]
  },
  {
   "cell_type": "code",
   "execution_count": null,
   "id": "81190d65-7f13-4e85-8c29-68baf6a40e09",
   "metadata": {},
   "outputs": [],
   "source": [
    "# reservoirs in EFASv5\n",
    "efas_res = gpd.read_file(PATH_OUT.parent.parent / 'reservoirs' / 'EFASv6' / 'EFAS5' / 'efas5_reservoirs.shp')\n",
    "efas_res.set_index('ResID', drop=True, inplace=True)\n",
    "efas_res = efas_res[efas_res.GRAND_ID.notnull()]\n",
    "efas_res.GRAND_ID = efas_res.GRAND_ID.astype(int)"
   ]
  },
  {
   "cell_type": "code",
   "execution_count": null,
   "id": "1f986b8b-da14-4583-bfd5-8b60bb40d4e9",
   "metadata": {},
   "outputs": [],
   "source": [
    "# reservoirs to be added in EFASv6\n",
    "grand_to_add = gpd.read_file(PATH_OUT.parent.parent / 'reservoirs' / 'EFASv6' / 'GRanD' / 'grand_to_add.shp')\n",
    "grand_to_add.set_index('GRAND_ID', drop=True, inplace=True)"
   ]
  },
  {
   "cell_type": "markdown",
   "id": "576c32b1-0e62-41c3-90e7-e44250dbf11f",
   "metadata": {},
   "source": [
    "### Lakes\n",
    "\n",
    "#### Raster"
   ]
  },
  {
   "cell_type": "code",
   "execution_count": null,
   "id": "2d07cd98-19be-4d69-8abe-5d850d1b1824",
   "metadata": {
    "tags": []
   },
   "outputs": [],
   "source": [
    "efas_raster = xr.open_dataset(PATH_EFAS / 'static_maps' / 'lakes_European_01min.nc')['lakes']\n",
    "\n",
    "# remove rows/columns with all NaN\n",
    "aux = efas_raster.where(~efas_raster.isnull(), drop=True)\n",
    "# extract an array of reservoir ID\n",
    "ids = np.unique(aux)\n",
    "ids = ids[~np.isnan(ids)]\n",
    "\n",
    "# extract coordinates of each reservoir\n",
    "efas_coords = pd.DataFrame(index=ids, columns=['lon', 'lat'])\n",
    "efas_area = pd.Series(index=ids, dtype=float)\n",
    "for ID in tqdm(efas_coords.index):\n",
    "    cell = efas_raster.where(efas_raster == ID, drop=True)\n",
    "    lon, lat = cell.lon.item(), cell.lat.item()\n",
    "    efas_coords.loc[int(ID)] = lon, lat\n",
    "    efas_area.loc[int(ID)] = uparea.sel(x=lon, y=lat, method='nearest', tolerance=1e-4).item()\n",
    "efas_coords = efas_coords.round(6)\n",
    "\n",
    "# convert area to km2\n",
    "efas_area *= 1e-6\n",
    "\n",
    "del aux"
   ]
  },
  {
   "cell_type": "markdown",
   "id": "86ddfeea-4b73-43db-b946-2f9bdf499ed5",
   "metadata": {},
   "source": [
    "#### Metadata"
   ]
  },
  {
   "cell_type": "code",
   "execution_count": null,
   "id": "aa5c4d6d-61f7-4b5b-8081-abfdb6d396b7",
   "metadata": {},
   "outputs": [],
   "source": [
    "# load efas metadata\n",
    "efas = pd.read_csv(PATH_EFAS / 'tables' / 'EFAS_HRES_lakes_metadata.csv')\n",
    "efas.LakID = efas.LakID.astype(int)\n",
    "efas.set_index('LakID', inplace=True)\n",
    "efas = gpd.GeoDataFrame(efas,\n",
    "                        geometry=[Point(xy) for xy in zip(efas.LisfloodX, efas.LisfloodY)],\n",
    "                        crs=4326)\n",
    "\n",
    "# add catchment area (km2)\n",
    "efas['catch_area'] = efas_area\n",
    "\n",
    "# add attributes from the tables used in LISFLOOD\n",
    "prefix = 'lake'\n",
    "for file in (PATH_EFAS / 'tables').glob(f'{prefix}*.txt'):\n",
    "    var = file.stem.removeprefix(prefix)\n",
    "    try:\n",
    "        df = pd.read_csv(file, sep=' ', header=None)\n",
    "        df.dropna(axis=1, how='all', inplace=True)\n",
    "        df.columns = ['LakID', var]\n",
    "        df.set_index('LakID', inplace=True, drop=True)\n",
    "        efas[var] = df\n",
    "    except:\n",
    "        print(file)\n",
    "        continue\n",
    "\n",
    "# convert area to km2\n",
    "efas['area'] /= 1e6 \n",
    "\n",
    "efas.rename(columns={col: col.upper() for col in efas.columns if col != 'geometry'},\n",
    "            inplace=True)"
   ]
  },
  {
   "cell_type": "markdown",
   "id": "c7aed72b-d97c-4db7-a96d-762eff5927ae",
   "metadata": {},
   "source": [
    "#### Comparison"
   ]
  },
  {
   "cell_type": "code",
   "execution_count": null,
   "id": "0e4c0f6e-bf3d-499d-b103-582e6d0b3dab",
   "metadata": {},
   "outputs": [],
   "source": [
    "print('no. lakes in the metadata:\\t{0}'.format(efas.shape[0]))\n",
    "print('no. lakes in the raster:\\t{0}'.format(efas_coords.shape[0]))\n",
    "print('lakes missing in the metadata:\\t{0}'.format(efas_coords.index.difference(efas.index).to_list()))\n",
    "print('lakes missing in the raster:\\t{0}'.format(efas.index.difference(efas_coords.index).to_list()))"
   ]
  },
  {
   "cell_type": "code",
   "execution_count": null,
   "id": "e895d980-6d76-45e9-a1f5-4587ec212117",
   "metadata": {},
   "outputs": [],
   "source": [
    "# plot lake map\n",
    "plot_reservoir_map(efas.geometry, efas.AREA_KM2, efas.CATCH_AREA, save=None)#PATH_OUT / 'efasv5_reservoirs.jpg')"
   ]
  },
  {
   "cell_type": "markdown",
   "id": "ee1e30f7-08ee-47c0-b37c-741908dfa328",
   "metadata": {},
   "source": [
    ">***Figure 1**. Lakes included in GloFAS. The size of the dots represents the lake area.*"
   ]
  },
  {
   "cell_type": "code",
   "execution_count": null,
   "id": "163fce51-2bd1-46bd-b13b-e5548687e75d",
   "metadata": {},
   "outputs": [],
   "source": [
    "# # map of GloFAS lakes\n",
    "# fig, ax = plt.subplots(figsize=(20, 5), subplot_kw=dict(projection=ccrs.PlateCarree()))\n",
    "# ax.add_feature(cfeature.NaturalEarthFeature('physical', 'land', '110m', edgecolor='face', facecolor='lightgray'), alpha=.5, zorder=0)\n",
    "# # glofas.plot(markersize=glofas.A * .5e-2, alpha=.5, ax=ax)#, cmap='coolwarm', c=grand_dams.DOR_PC\n",
    "# scatter = ax.scatter(glofas.geometry.x, glofas.geometry.y, s=glofas.A / 1000, alpha=.5)\n",
    "# ax.text(.5, 1.125, 'GloFAS lakes', horizontalalignment='center', verticalalignment='bottom', transform=ax.transAxes, fontsize=12)\n",
    "# text = '{0} lakes\\n{1:.0f}·10³ km²'.format(glofas.shape[0], glofas.A.sum() / 1000)\n",
    "# ax.text(.5, 1.02, text, horizontalalignment='center', verticalalignment='bottom', transform=ax.transAxes)\n",
    "# ax.axis('off');\n",
    "\n",
    "# # legend\n",
    "# legend2 = ax.legend(*scatter.legend_elements(prop='sizes', num=4, alpha=.5), title='area (10³ km²)', bbox_to_anchor=[1.025, .3, .1, .4], frameon=False)\n",
    "# ax.add_artist(legend2);\n",
    "\n",
    "# # save\n",
    "# plt.savefig(f'{path_out}glofas_lakes.jpg', dpi=300, bbox_inches='tight')\n",
    "\n",
    "# print('no. lakes in GloFAS:\\t\\t{0}\\t({1} with A > {2} km²)'.format(glofas.shape[0], (glofas.A >= MIN_CATCHMENT).sum(), MIN_CATCHMENT))\n",
    "# print('total lake area in GloFAS:\\t{0:.0f} km²'.format(glofas.A.sum()))"
   ]
  },
  {
   "cell_type": "code",
   "execution_count": null,
   "id": "c8cffa0e-5a1e-4809-8afc-83ed7f7588f3",
   "metadata": {},
   "outputs": [],
   "source": [
    "# efas.to_file(PATH_OUT / 'efasv5_lakes.shp')"
   ]
  },
  {
   "cell_type": "code",
   "execution_count": null,
   "id": "3f95e7d6-0f3e-4e7b-bcb5-b464fb745fc2",
   "metadata": {},
   "outputs": [],
   "source": [
    "# distribution of the lake area\n",
    "sns.displot(efas.AREA_KM2)\n",
    "plt.xlabel('area (km²)')\n",
    "plt.ylabel('no. lakes');\n",
    "plt.xscale('log');\n",
    "\n",
    "print('Area of the smallest lake:\\t{0:.3f} km²'.format(efas.AREA_KM2.min()))"
   ]
  },
  {
   "cell_type": "markdown",
   "id": "136d0b1c-7d37-4db9-9c09-4da88fd78743",
   "metadata": {},
   "source": [
    ">***Figure 2**. Lake surface area distribution in GloFAS.*\n",
    "\n",
    "As explained in [Zajac et al. (2017)](https://www.sciencedirect.com/science/article/pii/S0022169417301671), only lakes with a minimum area of 50 km² are included in GloFAS."
   ]
  },
  {
   "cell_type": "markdown",
   "id": "f587fd4c-0f30-4b0e-8da3-e23bad6ef8d6",
   "metadata": {},
   "source": [
    "### Selection rules"
   ]
  },
  {
   "cell_type": "code",
   "execution_count": null,
   "id": "e1262d2a-7e7d-4edd-8813-256f89dcf7d8",
   "metadata": {},
   "outputs": [],
   "source": [
    "mask_hylak = efas.Hylak_id != -9999\n",
    "print('{0:>5} lakes ({1:.0f} km3) have a HydroLakes ID'.format(\n",
    "    mask_hylak.sum(),\n",
    "    efas[mask_hylak].HYLAK_VOL.sum() * 1e-3\n",
    "))\n",
    "\n",
    "mask_catchment = efas.AREA_KM2 >= MIN_CATCHMENT\n",
    "print('{0:>5} lakes ({1:.0f} km3) have a catchment larger than {2} km2'.format(\n",
    "    mask_catchment.sum(),\n",
    "    efas[mask_catchment].HYLAK_VOL.sum() * 1e-3,\n",
    "    MIN_CATCHMENT\n",
    "))\n",
    "\n",
    "mask_volume = efas.HYLAK_VOL >= MIN_VOLUME\n",
    "print('{0:>5} lakes ({1:.0f} km3) have a volume larger than {2} hm3'.format(\n",
    "    mask_volume.sum(),\n",
    "    efas[mask_volume].HYLAK_VOL.sum() * 1e-3,\n",
    "    MIN_VOLUME\n",
    "))\n",
    "\n",
    "mask_residence = efas.HYLAK_DOR >= MIN_DOR\n",
    "print('{0:>5} lakes ({1:.0f} km3) have a residence time larger than {2} days'.format(\n",
    "    mask_residence.sum(),\n",
    "    efas[mask_residence].HYLAK_VOL.sum() * 1e-3,\n",
    "    MIN_DOR\n",
    "))\n",
    "\n",
    "mask_area = efas.AREA_KM2 >= MIN_AREA\n",
    "print('{0:>5} lakes ({1:.0f} km3) have a surface area larger than {2} km2'.format(\n",
    "    mask_area.sum(),\n",
    "    efas[mask_area].HYLAK_VOL.sum() * 1e-3,\n",
    "    MIN_AREA\n",
    "))\n",
    "\n",
    "mask_cvr = mask_volume & mask_residence & mask_catchment\n",
    "print('{0:>5} lakes ({1:.0f} km3) comply with the catchment, volume and residence time rules'.format(\n",
    "    mask_cvr.sum(),\n",
    "    efas[mask_cvr].HYLAK_VOL.sum() * 1e-3,\n",
    "))\n",
    "\n",
    "mask_cvra = mask_cvr & mask_area\n",
    "print('{0:>5} lakes ({1:.0f} km3) comply with the catchment, volume, residence time and area rules'.format(\n",
    "    mask_cvra.sum(),\n",
    "    efas[mask_cvra].HYLAK_VOL.sum() * 1e-3,\n",
    "))"
   ]
  },
  {
   "cell_type": "markdown",
   "id": "16a606f5-7683-4f7f-889a-295c43d86eec",
   "metadata": {},
   "source": [
    "## HydroLakes"
   ]
  },
  {
   "cell_type": "markdown",
   "id": "f5b735a6-b0ef-4351-b303-ff3e7e534b24",
   "metadata": {},
   "source": [
    "HydroLAKES ([Messager et al., 2016](https://www.nature.com/articles/ncomms13603)) contains more than 1.4 million points of water bodies (both lakes, controlled lakes and reservoirs). \n",
    "\n",
    "Interesting fields:\n",
    "\n",
    "* `Lake_type` indicates the type of water body:\n",
    "    * 1: lake.\n",
    "    * 2: reservoir.\n",
    "    * 3: lake control\n",
    "* `Lake_area`: surface area in km².\n",
    "* `Vol_total`: total lake/reservoir volume in hm³.\n",
    "* `Vol_res`: reported reservoir volume, or storage volume of added lake regulation (hm³)\n",
    "* `Vol_src`: source of volume data:\n",
    "    * 1: ‘Vol_total’ is the reported total lake volume from literature\n",
    "    * 2: ‘Vol_total’ is the reported total reservoir volume from GRanD or literature\n",
    "    * 3: ‘Vol_total’ is the estimated total lake volume using the geostatistical modeling approach by Messager et al. (2016)\n",
    "* `Depth_avg`: average depth in m.\n",
    "* `Dis_avg`: average long-term discharge (m3).\n",
    "* `Res_time`: average residence time in days.\n",
    "* `Wshd_area`: area of the lake's watershed in km2.\n",
    "* `Pour_long` and `Pour_lat` are the coordinates of the pour point in decimal degrees.\n",
    "* `dis_m3_pyr`: annual average natural discharge."
   ]
  },
  {
   "cell_type": "markdown",
   "id": "bbeba247-07dc-4dc9-a165-51c256ab5039",
   "metadata": {},
   "source": [
    "### Import\n",
    "\n",
    "#### Outlets"
   ]
  },
  {
   "cell_type": "code",
   "execution_count": null,
   "id": "c63862cb-20c4-40da-b130-42829618dfcb",
   "metadata": {},
   "outputs": [],
   "source": [
    "PATH_HYDROLAKES = PATH_DATASETS / 'lakes' / 'HydroLAKES'\n",
    "\n",
    "# # columns to be used from HydroATLAS\n",
    "# cols = ['Hylak_id', 'Lake_name', 'Country', 'Continent', 'Poly_src', 'Lake_type', 'Grand_id', 'Lake_area',\n",
    "#         'Shore_len', 'Shore_dev', 'Vol_total', 'Vol_res', 'Vol_src', 'Depth_avg', 'Dis_avg',\n",
    "#         'Res_time', 'Elevation', 'Slope_100', 'Wshd_area', 'Pour_long', 'Pour_lat', 'dis_m3_pyr']"
   ]
  },
  {
   "cell_type": "code",
   "execution_count": null,
   "id": "9e9e946c-4248-4594-aae2-f2c0337d74a7",
   "metadata": {},
   "outputs": [],
   "source": [
    "# load HydroLAKES\n",
    "hydrolakes= dgpd.read_file(\n",
    "    PATH_HYDROLAKES / 'LakeATLAS_v10_shp' / 'LakeATLAS_v10_pnt_east.shp',\n",
    "    # columns=cols,\n",
    "    npartitions=10\n",
    ").set_index('Hylak_id', drop=True)\n",
    "\n",
    "# remove reservoirs and small lakes\n",
    "hydrolakes = hydrolakes[hydrolakes.Lake_type.isin([1, 3])].compute()\n",
    "\n",
    "# filter by extent\n",
    "mask_extent = (lon_min <= hydrolakes.geometry.x) &  (hydrolakes.geometry.x <= lon_max) & (lat_min <= hydrolakes.geometry.y) & (hydrolakes.geometry.y <= lat_max)\n",
    "hydrolakes = hydrolakes[mask_extent]\n",
    "\n",
    "# keep points inside the domain\n",
    "pbar = tqdm(hydrolakes.iterrows(), total=hydrolakes.shape[0])\n",
    "mask_domain = [\n",
    "    ID for ID, point in pbar\n",
    "    if domain.sel(x=point.geometry.x, y=point.geometry.y, method='nearest').item() == 1\n",
    "]\n",
    "hydrolakes = hydrolakes.loc[mask_domain]"
   ]
  },
  {
   "cell_type": "code",
   "execution_count": null,
   "id": "0c376cf9-199b-46a1-91e2-5d554cf87be7",
   "metadata": {},
   "outputs": [],
   "source": [
    "# total lake volume in the domain\n",
    "total_lake_volume = hydrolakes.Vol_total.sum()\n",
    "print('total lake volume = {0:.0f} km3'.format(total_lake_volume * 1e-3))"
   ]
  },
  {
   "cell_type": "code",
   "execution_count": null,
   "id": "25c594b7-9666-4a12-a4b7-c9ef0598ca70",
   "metadata": {},
   "outputs": [],
   "source": [
    "hylak_pnt_shp = PATH_OUT / 'hydrolakes_pnt.shp'\n",
    "if hylak_pnt_shp.is_file():\n",
    "    # import hydrolake points within the domain\n",
    "    E1 = gpd.read_file(hylak_shp).set_index('Hylak_id', drop=True)\n",
    "    print('{0:>5} lakes ({1:.0f} km3) comply with the catchment, volume, residence time and area rules'.format(\n",
    "        E1.shape[0],\n",
    "        E1.Vol_total.sum() * 1e-3,\n",
    "    ))\n",
    "\n",
    "else:"
   ]
  },
  {
   "cell_type": "code",
   "execution_count": null,
   "id": "88a36452-9694-4b44-94b4-61c502a31ad8",
   "metadata": {},
   "outputs": [],
   "source": [
    "    mask_catchment = hydrolakes.Wshd_area >= MIN_CATCHMENT\n",
    "    print('{0:>5} lakes ({1:.0f} km3) have a catchment larger than {2} km2'.format(\n",
    "        mask_catchment.sum(),\n",
    "        hydrolakes[mask_catchment].Vol_total.sum() * 1e-3,\n",
    "        MIN_CATCHMENT\n",
    "    ))\n",
    "    \n",
    "    mask_volume = hydrolakes.Vol_total >= MIN_VOLUME\n",
    "    print('{0:>5} lakes ({1:.0f} km3) have a volume larger than {2} hm3'.format(\n",
    "        mask_volume.sum(),\n",
    "        hydrolakes[mask_volume].Vol_total.sum() * 1e-3,\n",
    "        MIN_VOLUME\n",
    "    ))\n",
    "\n",
    "    mask_residence = hydrolakes.Res_time >= MIN_DOR\n",
    "    print('{0:>5} lakes ({1:.0f} km3) have a residence time larger than {2} days'.format(\n",
    "        mask_residence.sum(),\n",
    "        hydrolakes[mask_residence].Vol_total.sum() * 1e-3,\n",
    "        MIN_DOR\n",
    "    ))\n",
    "\n",
    "    mask_area = hydrolakes.Lake_area >= MIN_AREA\n",
    "    print('{0:>5} lakes ({1:.0f} km3) have a surface area larger than {2} km2'.format(\n",
    "        mask_area.sum(),\n",
    "        hydrolakes[mask_area].Vol_total.sum() * 1e-3,\n",
    "        MIN_AREA\n",
    "    ))\n",
    "\n",
    "    mask_cvr = mask_volume & mask_residence & mask_catchment\n",
    "    print('{0:>5} lakes ({1:.0f} km3) comply with the catchment, volume and residence time rules'.format(\n",
    "        mask_cvr.sum(),\n",
    "        hydrolakes[mask_cvr].Vol_total.sum() * 1e-3,\n",
    "    ))\n",
    "\n",
    "    mask_cvra = mask_cvr & mask_area\n",
    "    print('{0:>5} lakes ({1:.0f} km3) comply with the catchment, volume, residence time and area rules'.format(\n",
    "        mask_cvra.sum(),\n",
    "        hydrolakes[mask_cvra].Vol_total.sum() * 1e-3,\n",
    "    ))\n",
    "    \n",
    "    # selection of lakes and accumulated volume\n",
    "    E1 = hydrolakes[mask_cvra].copy()"
   ]
  },
  {
   "cell_type": "code",
   "execution_count": null,
   "id": "9c3fbf64-1c63-44f5-8ea1-21474c065405",
   "metadata": {},
   "outputs": [],
   "source": [
    "    # export selection of points\n",
    "    E1.to_file(PATH_OUT / 'hydrolakes_pnt.shp')"
   ]
  },
  {
   "cell_type": "markdown",
   "id": "231c9e1f-7bb1-4694-a302-f52b17a345ba",
   "metadata": {},
   "source": [
    "#### Polygons"
   ]
  },
  {
   "cell_type": "code",
   "execution_count": null,
   "id": "77cc01a2-0992-4289-86a2-20491d32ceb9",
   "metadata": {},
   "outputs": [],
   "source": [
    "hylak_pol_shp = PATH_OUT / 'hydrolakes_pol.shp'\n",
    "if hylak_pnt_shp.is_file() is False:\n",
    "\n",
    "    # load HydroLakes polygons\n",
    "    hydrolakes_pol = dgpd.read_file(\n",
    "        PATH_HYDROLAKES / 'LakeATLAS_v10_shp' / 'LakeATLAS_v10_pol_east.shp',\n",
    "        # columns=cols,\n",
    "        npartitions=20\n",
    "    )\n",
    "    \n",
    "    # apply selection of points\n",
    "    mask = hydrolakes_pol.Hylak_id.isin(hydrolakes.index.tolist())\n",
    "    hydrolakes_pol = hydrolakes_pol[mask].compute()\n",
    "\n",
    "    # export selection of polygons\n",
    "    hydrolakes_pol.to_file(hylak_pol_shp)"
   ]
  },
  {
   "cell_type": "markdown",
   "id": "8dfd088f-eaaf-4eb7-9b00-880ac88fdd1c",
   "metadata": {},
   "source": [
    "#### D2 selection"
   ]
  },
  {
   "cell_type": "code",
   "execution_count": null,
   "id": "4c53bff0-aff9-4164-90ab-2605e43583f4",
   "metadata": {},
   "outputs": [],
   "source": [
    "# selection of lakes whose polygon overlays the LISFLOOD river network\n",
    "sel1 = gpd.read_file(PATH_OUT / 'pistoal' / 'EFASselectedLakepoints.shp')\n",
    "sel1.set_index('Hylak_id', drop=True, inplace=True)\n",
    "\n",
    "# selection of lakes whose outlet overlays the LISFLOOD river network\n",
    "sel2 = gpd.read_file(PATH_OUT / 'pistoal' / 'EFASselectedOutlets.shp')\n",
    "sel2.set_index('HyLak_Id', drop=True, inplace=True)\n",
    "sel2.index.name = sel1.index.name\n",
    "sel2.index = sel2.index.astype(int)\n",
    "\n",
    "# merge the two sets and confirm they are in the EFAS domain\n",
    "hylak_ids = list(sel1.index.union(sel2.index).intersection(hydrolakes.index))\n",
    "D2 = hydrolakes.loc[hydrolakes.index.intersection(hylak_ids)]\n",
    "print(f'{len(hylak_ids)} were selected by Alberto')\n",
    "\n",
    "del sel1, sel2\n",
    "\n",
    "mask_catchment = D2.Wshd_area >= MIN_CATCHMENT\n",
    "print('{0} lakes ({1:.0f} km3) have a catchment larger than {2} km2'.format(\n",
    "    mask_catchment.sum(),\n",
    "    D2[mask_catchment].Vol_total.sum() * 1e-3,\n",
    "    MIN_CATCHMENT\n",
    "))\n",
    "\n",
    "mask_volume = D2.Vol_total >= MIN_VOLUME\n",
    "print('{0} lakes ({1:.0f} km3) have a volume larger than {2} hm3'.format(\n",
    "    mask_volume.sum(),\n",
    "    D2[mask_volume].Vol_total.sum() * 1e-3,\n",
    "    MIN_VOLUME\n",
    "))\n",
    "\n",
    "mask_residence = D2.Res_time >= MIN_DOR\n",
    "print('{0} lakes ({1:.0f} km3) have a residence time larger than {2} days'.format(\n",
    "    mask_residence.sum(),\n",
    "    D2[mask_residence].Vol_total.sum() * 1e-3,\n",
    "    MIN_DOR\n",
    "))\n",
    "\n",
    "mask_area = D2.Lake_area >= MIN_AREA\n",
    "print('{0} lakes ({1:.0f} km3) have a surface area larger than {2} km2'.format(\n",
    "    mask_area.sum(),\n",
    "    D2[mask_area].Vol_total.sum() * 1e-3,\n",
    "    MIN_AREA\n",
    "))\n",
    "\n",
    "mask_all = mask_area & mask_volume & mask_residence & mask_catchment\n",
    "print('{0} lakes ({1:.0f} km3) comply with all the rules above'.format(\n",
    "    mask_all.sum(),\n",
    "    D2[mask_all].Vol_total.sum() * 1e-3\n",
    "))"
   ]
  },
  {
   "cell_type": "markdown",
   "id": "6276ba33-9a26-446b-bc6a-66e564d5c0b0",
   "metadata": {},
   "source": [
    "Below I create two shapefiles to analyse the differences between the E1 and D2 selections."
   ]
  },
  {
   "cell_type": "code",
   "execution_count": null,
   "id": "c6a0c7a8-a968-4712-9212-dfbc7b49c77b",
   "metadata": {},
   "outputs": [],
   "source": [
    "# export lakes from D2 selection not in E1 selection\n",
    "ids_diff = D2.index.difference(E1.index)\n",
    "print(f'{len(ids_diff)} reservoirs in D2 were not selected in E1')\n",
    "hydrolakes.loc[ids_diff].to_file(PATH_OUT / 'D2_removed.shp')"
   ]
  },
  {
   "cell_type": "code",
   "execution_count": null,
   "id": "1f85babb-0bad-41a4-84f5-1c98ee51aa5a",
   "metadata": {},
   "outputs": [],
   "source": [
    "# export lakes from E1 selection not in D2 selection\n",
    "ids_diff = E1.index.difference(D2.index)\n",
    "print(f'{len(ids_diff)} reservoirs in E1 were not selected in D2')\n",
    "hydrolakes.loc[ids_diff].to_file(PATH_OUT / 'E1_removed.shp')"
   ]
  },
  {
   "cell_type": "markdown",
   "id": "09dedb5c-6c7d-40d9-88e9-ecd658fb68fd",
   "metadata": {},
   "source": [
    "### Connect EFAS with HydroLakes\n",
    "\n",
    "In the following snippet I search for the `Hylak_id` associated to each lake in EFASv5. After the automatic search, I filled in in GIS the `Hylak_id` for some lakes that the tool could not find. That's why now I load a shapefile, because it includes the manually corrected IDs.\n",
    "\n",
    "```Python\n",
    "# find Hylak_id for EFASv5 lakes\n",
    "map_efas_hylak = find_connections(efas, hydrolakes, max_distance=5 * efas_cellsize)\n",
    "print('{0} out of {1} EFAS lakes were located in HydroLakes'.format(len(map_efas_hylak), efas.shape[0]))\n",
    "efas['Hylak_id'] = [map_efas_hylak[ID] if ID in map_efas_hylak else -9999 for ID in efas.index]\n",
    "print(f'{(efas.Hylak_id == -9999).sum()} lakes in EFAS-5 were not found in HydroLakes')\n",
    "\n",
    "# export\n",
    "efas.to_file(PATH_OUT / 'efasv5_lakes.shp')\n",
    "```"
   ]
  },
  {
   "cell_type": "code",
   "execution_count": null,
   "id": "9e76d216-9880-4d34-8845-6c551b9dd32d",
   "metadata": {},
   "outputs": [],
   "source": [
    "# import EFAS lakes\n",
    "efas = gpd.read_file(PATH_OUT / 'efasv5_lakes.shp')\n",
    "efas.set_index('LakID', drop=True, inplace=True)\n",
    "print(f'{(efas.Hylak_id == -9999).sum()} lakes in EFAS-5 were not found in HydroLakes')\n",
    "\n",
    "# assign other GRanD attributes\n",
    "map_fields = {\n",
    "    'HYLAK_NAME': 'Lake_name',\n",
    "    'HYLAK_TYPE': 'Lake_type',\n",
    "    'HYLAK_AREA': 'Lake_area',\n",
    "    'HYLAK_VOL': 'Vol_total',\n",
    "    'HYLAK_DEPT': 'Depth_avg',\n",
    "    'HYLAK_DIS': 'Dis_avg',\n",
    "    'HYLAK_DOR': 'Res_time',\n",
    "    'HYLAK_CAT': 'Wshd_area'\n",
    "}\n",
    "map_efas_hylak = {efas_id: hylak_id for efas_id, hylak_id in zip(efas.index, efas.Hylak_id) if hylak_id != -9999}\n",
    "for col_dst, col_src in map_fields.items():\n",
    "    efas.loc[map_efas_hylak.keys(), col_dst] = hydrolakes.loc[map_efas_hylak.values(), col_src].values\n",
    "    \n",
    "# export\n",
    "efas.to_file(PATH_OUT / 'efasv5_lakes.shp')"
   ]
  },
  {
   "cell_type": "markdown",
   "id": "f69bac46-5b7c-4043-9003-b06498535a37",
   "metadata": {},
   "source": [
    "## Select lakes \n",
    "\n",
    "### Analysis of accumulated volume"
   ]
  },
  {
   "cell_type": "code",
   "execution_count": null,
   "id": "4ce6e048-54aa-438e-9bf0-98732628170e",
   "metadata": {},
   "outputs": [],
   "source": [
    "# hydrolakes\n",
    "hydrolakes_acc = hydrolakes.sort_values('Vol_total', ascending=False).Vol_total.cumsum() / total_lake_volume * 100\n",
    "\n",
    "# E1 selection\n",
    "E1.sort_values('Vol_total', ascending=False, inplace=True)\n",
    "E1_acc = E1.Vol_total.cumsum() / total_lake_volume * 100\n",
    "\n",
    "# D2 selection\n",
    "D2_acc = D2.sort_values('Vol_total', ascending=False).Vol_total.cumsum() / total_lake_volume * 100\n",
    "\n",
    "# EFAS5\n",
    "efas_acc = efas.sort_values('HYLAK_VOL', ascending=False).HYLAK_VOL.cumsum() / total_lake_volume * 100\n",
    "\n",
    "# intersection of E1 and D2\n",
    "E1_D2_acc = E1.loc[E1.index.intersection(D2.index)].sort_values('Vol_total', ascending=False).Vol_total.cumsum() / total_lake_volume * 100"
   ]
  },
  {
   "cell_type": "code",
   "execution_count": null,
   "id": "912c8e7f-276b-4e2d-9779-c072df90022e",
   "metadata": {},
   "outputs": [],
   "source": [
    "fig, ax = plt.subplots(figsize=(4, 4))\n",
    "\n",
    "# EFAS5\n",
    "ax.plot(np.arange(1, len(efas_acc) + 1), efas_acc, c='k', label='EFAS-5')\n",
    "\n",
    "# HydroLakes\n",
    "ax.plot(np.arange(1, len(hydrolakes_acc) + 1), hydrolakes_acc, c='C0', label='Hylak')\n",
    "\n",
    "# E1 selection\n",
    "ax.plot(np.arange(1, len(E1_acc) + 1), E1_acc, c='C3', ls='--', label='E1')\n",
    "for target in [80, 85, 90]:\n",
    "    n = (E1_acc - target).abs().argmin()\n",
    "    ax.hlines(target, 1, n, color='k', ls='--', lw=.5)\n",
    "    ax.vlines(n, -2, target, color='k', ls='--', lw=.5)\n",
    "    ax.text(n, 0, f'{n} lakes', va='bottom', ha='right', rotation=90)\n",
    "    ax.text(1, target, f'{target}%', va='bottom', ha='left', rotation=0)\n",
    "\n",
    "# D2 selection\n",
    "ax.plot(np.arange(1, len(D2_acc) + 1), D2_acc, c='C1', label='D2')\n",
    "\n",
    "# intersection E1 and D2\n",
    "n_lakes, pct_vol = len(E1_D2_acc), E1_D2_acc.max()\n",
    "ax.plot(np.arange(1, n_lakes + 1), E1_D2_acc, c='C2', ls='--', label='D2∩E1')\n",
    "# ax.hlines(pct_vol, 1, n_lakes, color='k', ls='--', lw=.5)\n",
    "# ax.vlines(n_lakes, -2, pct_vol, color='k', ls='--', lw=.5)\n",
    "# ax.text(n_lakes, pct_vol, f'{n_lakes} lakes', va='top', ha='right', rotation=90)\n",
    "# ax.text(1, pct_vol, f'{E1_D2_acc.max():.0f}%', va='bottom', ha='left', rotation=0)\n",
    "\n",
    "ax.set(\n",
    "    xlim=(1, hydrolakes.shape[0]),\n",
    "    xlabel='no. lakes',\n",
    "    ylim=(-2, 102),\n",
    "    ylabel='% total volume'\n",
    ")\n",
    "ax.set_xscale('log')\n",
    "ax.legend(frameon=False, loc=4);\n",
    "\n",
    "plt.savefig(PATH_OUT / 'percentage_total_volume.jpg', dpi=300, bbox_inches='tight')"
   ]
  },
  {
   "cell_type": "markdown",
   "id": "cca928a0-da46-4fb0-ba08-27c5b91f72cd",
   "metadata": {
    "tags": []
   },
   "source": [
    "#### Lakes to add\n",
    "\n",
    "I will select lakes to be added in EFASv6 from the `E1` object, i.e., the selection of lakes and controlled lakes in HydroLakes that comply with the lake area, lake volume, catchment area and degree of regulation rules. From those, I will create a classification in terms of `priority`. I will sort the lakes by decreasing volume, and assign priorities depending on the percentage of total lake volume we want to reproduce in EFASv6. For instance, the lakes required to reach a 80% of the total lake volume will have priority 1, those to reach 85% priority 2, ect."
   ]
  },
  {
   "cell_type": "code",
   "execution_count": null,
   "id": "e796f482-57c2-40ba-b14d-58deba035f7e",
   "metadata": {},
   "outputs": [],
   "source": [
    "# create dataframe of lakes to be added\n",
    "to_add_pnt = E1.copy()\n",
    "to_add_pnt.sort_values('Vol_total', ascending=False, inplace=True)\n",
    "to_add_acc = to_add_pnt.Vol_total.cumsum() / total_lake_volume * 100\n",
    "\n",
    "# define priority\n",
    "to_add_pnt['priority'] = -9999\n",
    "priorities = {\n",
    "    4: 95,\n",
    "    3: 90,\n",
    "    2: 85,\n",
    "    1: 80,\n",
    "}\n",
    "for priority, target in priorities.items():\n",
    "    # select lakes to reach the target\n",
    "    ID = (to_add_acc - target).abs().idxmin()\n",
    "    # assign priority\n",
    "    to_add_pnt.loc[:ID, 'priority'] = priority\n",
    "\n",
    "# remove lakes included in EFASv5\n",
    "to_add_pnt = to_add_pnt.loc[to_add_pnt.index.difference(efas.Hylak_id)]\n",
    "\n",
    "# remove lakes included as reservoirs in EFASv5\n",
    "to_add_pnt = to_add_pnt[~to_add_pnt.Grand_id.isin(efas_res.GRAND_ID)]\n",
    "\n",
    "# remove lakes that will be added to EFASv6 as reservoirs\n",
    "to_add_pnt = to_add_pnt[~to_add_pnt.Grand_id.isin(grand_to_add.index)]\n",
    "\n",
    "print(to_add_pnt.priority.value_counts())"
   ]
  },
  {
   "cell_type": "code",
   "execution_count": null,
   "id": "dcd201e1-fd62-41c8-b247-96efa2197bf4",
   "metadata": {},
   "outputs": [],
   "source": [
    "# apply selection to polygons\n",
    "if hydrolakes_pol.index.name != 'Hylak_id':\n",
    "    hydrolakes_pol.set_index('Hylak_id', drop=True, inplace=True)\n",
    "to_add_pol = hydrolakes_pol.loc[to_add_pnt.index]\n",
    "to_add_pol['priority'] = -9999\n",
    "to_add_pol.loc[to_add.index, 'priority'] = to_add_pnt.priority"
   ]
  },
  {
   "cell_type": "code",
   "execution_count": null,
   "id": "1920ce3b-97f8-4ddd-a4e9-2b2cb6b3ed17",
   "metadata": {},
   "outputs": [],
   "source": [
    "# export\n",
    "to_add_pnt.to_file(PATH_OUT / 'hydrolakes_pnt_to_add.shp')\n",
    "to_add_pol.to_file(PATH_OUT / 'hydrolakes_pol_to_add.shp')"
   ]
  },
  {
   "cell_type": "markdown",
   "id": "2c616b74-e856-449e-b873-0793089cb240",
   "metadata": {},
   "source": [
    "## Conclusion\n",
    "\n",
    "The result of this notebook is a polygon shapefile with the 500 lakes in GLWD not already included in GloFAS with the larger surface area. The 500 lakes include 272 classified as open lakes and 228 unclassified. The addition of these lakes would increase the total lake area in GloFAS in 184·10³ km² (24% increase).\n",
    "\n",
    "The selected lakes were checked to overlay with GloFAS rivers, being those understood as cells with an catchment area of at least 1000 km². However, visual inspection in GIS shows that some of these lakes are coastal water bodies that will probably not affect the LISFLOOD simulation. Another special case are the lakes in the Tibetan Plateau, which were selected even thouth the river network in this area is unusual.\n",
    "\n",
    "To do a finer selection of lakes, it would be interesting to compare the list of selected lakes with GloFAS model performance to identify areas where the introduction of new lakes can improve the model simulations."
   ]
  }
 ],
 "metadata": {
  "kernelspec": {
   "display_name": "Python 3 (ipykernel)",
   "language": "python",
   "name": "python3"
  },
  "language_info": {
   "codemirror_mode": {
    "name": "ipython",
    "version": 3
   },
   "file_extension": ".py",
   "mimetype": "text/x-python",
   "name": "python",
   "nbconvert_exporter": "python",
   "pygments_lexer": "ipython3",
   "version": "3.9.13"
  }
 },
 "nbformat": 4,
 "nbformat_minor": 5
}
