{
 "cells": [
  {
   "cell_type": "markdown",
   "id": "65f4b8d4-ad30-4526-82f3-a9c6e9449904",
   "metadata": {},
   "source": [
    "# Catchment masks\n",
    "***\n",
    "\n",
    "\n",
    "**Author:** Chus Casado Rodríguez<br>\n",
    "**Date:** 30-09-2024<br>\n",
    "\n",
    "**Introduction:**<br>\n",
    "This notebook reads the upstream area maps for each catchment created with the `cutmaps` tool, converts it into masks, and export them as NetCDF files."
   ]
  },
  {
   "cell_type": "code",
   "execution_count": 1,
   "id": "1defc724-6bfc-4f1f-aa9c-a399a9a716d9",
   "metadata": {},
   "outputs": [],
   "source": [
    "import os\n",
    "os.environ['USE_PYGEOS'] = '0'\n",
    "from pathlib import Path\n",
    "import numpy as np\n",
    "import pandas as pd\n",
    "import xarray as xr\n",
    "# import rioxarray\n",
    "from tqdm.auto import tqdm\n",
    "\n",
    "from lisfloodreservoirs.utils import DatasetConfig"
   ]
  },
  {
   "cell_type": "markdown",
   "id": "96133aa3-204f-4896-82f2-7039105873e3",
   "metadata": {
    "tags": []
   },
   "source": [
    "## Configuration"
   ]
  },
  {
   "cell_type": "code",
   "execution_count": 2,
   "id": "5961a038-9785-4b79-997c-e2fbbef2467a",
   "metadata": {},
   "outputs": [
    {
     "name": "stdout",
     "output_type": "stream",
     "text": [
      "Attribute tables will be saved in Z:\\nahaUsers\\casadje\\datasets\\reservoirs\\ResOpsUS\\v2.0\\attributes\n"
     ]
    }
   ],
   "source": [
    "cfg = DatasetConfig('../ResOpsUS/config_dataset.yml')\n",
    "\n",
    "print(f'Attribute tables will be saved in {cfg.PATH_ATTRS}')"
   ]
  },
  {
   "cell_type": "markdown",
   "id": "690da599-0be0-4e6d-8d85-5a33b95a2cb9",
   "metadata": {},
   "source": [
    "## Data"
   ]
  },
  {
   "cell_type": "code",
   "execution_count": 8,
   "id": "3f28c1db-64a9-4b5d-8f5c-a2bccbb8b23e",
   "metadata": {},
   "outputs": [
    {
     "name": "stdout",
     "output_type": "stream",
     "text": [
      "119 reservoirs in the input points\n"
     ]
    }
   ],
   "source": [
    "reservoirs = pd.read_csv(cfg.PATH_RESOPS / 'ancillary' / 'cutmaps' / 'points.txt', header=None, sep='\\t')\n",
    "reservoirs.columns = ['lat', 'lon', 'ID']\n",
    "reservoirs.set_index('ID', drop=True, inplace=True)\n",
    "\n",
    "print(f'{reservoirs.shape[0]} reservoirs in the input points')"
   ]
  },
  {
   "cell_type": "markdown",
   "id": "5323d024-c2e4-4d62-9c8d-3ecc34a8b876",
   "metadata": {},
   "source": [
    "## Create masks"
   ]
  },
  {
   "cell_type": "code",
   "execution_count": 9,
   "id": "ae6d3d92-f71c-4f75-8d70-4bcccb41e26a",
   "metadata": {},
   "outputs": [
    {
     "data": {
      "application/vnd.jupyter.widget-view+json": {
       "model_id": "4fa464d4ef274be09144467af465c288",
       "version_major": 2,
       "version_minor": 0
      },
      "text/plain": [
       "  0%|          | 0/119 [00:00<?, ?it/s]"
      ]
     },
     "metadata": {},
     "output_type": "display_data"
    }
   ],
   "source": [
    "# load catchment maps derived using `cutmaps`\n",
    "path = cfg.PATH_RESOPS / 'ancillary' / 'cutmaps'\n",
    "mask_map = 'upArea_repaired.nc'\n",
    "\n",
    "masks = {}\n",
    "directories = [dir for dir in path.iterdir() if dir.is_dir()]\n",
    "for directory in tqdm(directories):\n",
    "    try:\n",
    "        # reservoir ID\n",
    "        ID = int(directory.stem)\n",
    "        \n",
    "        # load upstream area map\n",
    "        mask = xr.open_dataset(directory / mask_map)['Band1']\n",
    "        mask.name = str(ID)\n",
    "        \n",
    "        # create and save a mask out of the previous map\n",
    "        mask = xr.where(mask.notnull(), 1, mask)\n",
    "        masks[ID] = mask\n",
    "    except Exceptio as e:\n",
    "        print(e)\n",
    "        continue"
   ]
  },
  {
   "cell_type": "code",
   "execution_count": 12,
   "id": "17e3d1a6-6adb-4159-8a85-c2ad98e3bd9c",
   "metadata": {
    "tags": []
   },
   "outputs": [
    {
     "data": {
      "application/vnd.jupyter.widget-view+json": {
       "model_id": "da91319ffe8b47d28e4f2f256a926985",
       "version_major": 2,
       "version_minor": 0
      },
      "text/plain": [
       "  0%|          | 0/119 [00:00<?, ?it/s]"
      ]
     },
     "metadata": {},
     "output_type": "display_data"
    }
   ],
   "source": [
    "# export\n",
    "PATH_OUT = cfg.PATH_RESOPS / 'ancillary' / 'catchstats' / 'masks'\n",
    "PATH_OUT.mkdir(parents=True, exist_ok=True)1\n",
    "for ID, mask in tqdm(masks.items()):\n",
    "    mask.to_netcdf(PATH_OUT / f'{ID}.nc')"
   ]
  }
 ],
 "metadata": {
  "kernelspec": {
   "display_name": "Python 3 (ipykernel)",
   "language": "python",
   "name": "python3"
  },
  "language_info": {
   "codemirror_mode": {
    "name": "ipython",
    "version": 3
   },
   "file_extension": ".py",
   "mimetype": "text/x-python",
   "name": "python",
   "nbconvert_exporter": "python",
   "pygments_lexer": "ipython3",
   "version": "3.9.13"
  }
 },
 "nbformat": 4,
 "nbformat_minor": 5
}
