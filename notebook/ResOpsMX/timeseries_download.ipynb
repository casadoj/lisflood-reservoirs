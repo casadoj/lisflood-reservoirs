{
 "cells": [
  {
   "cell_type": "code",
   "execution_count": 1,
   "id": "21a8b9f7-746a-4cbc-996e-9002368991c1",
   "metadata": {},
   "outputs": [],
   "source": [
    "import os\n",
    "os.environ['USE_PYGEOS'] = '0'\n",
    "import numpy as np\n",
    "import pandas as pd\n",
    "import geopandas as gpd\n",
    "from shapely.geometry import Point\n",
    "import requests\n",
    "from pathlib import Path\n",
    "from io import StringIO\n",
    "from tqdm.notebook import tqdm"
   ]
  },
  {
   "cell_type": "code",
   "execution_count": 2,
   "id": "b534412d-9402-4bf8-8a49-9963ea965fe7",
   "metadata": {},
   "outputs": [],
   "source": [
    "path = Path('Z:/nahaUsers/casadje/datasets/reservoirs/Mexico/raw')\n",
    "path_attr = path / 'attributes'\n",
    "path_attr.mkdir(parents=True, exist_ok=True)\n",
    "path_ts = path / 'timeseries'\n",
    "path_ts.mkdir(parents=True, exist_ok=True)"
   ]
  },
  {
   "cell_type": "code",
   "execution_count": 3,
   "id": "32e8b7f3-46b0-42e7-8168-2a6ab72aa3db",
   "metadata": {},
   "outputs": [],
   "source": [
    "url = 'https://sih.conagua.gob.mx/basedatos/Presas/'"
   ]
  },
  {
   "cell_type": "markdown",
   "id": "70034036-e070-4faf-af83-734769efbe6e",
   "metadata": {},
   "source": [
    "## Catalogue of dams"
   ]
  },
  {
   "cell_type": "code",
   "execution_count": 6,
   "id": "2e76b03c-ff12-4f56-9f3a-c26aad161ef0",
   "metadata": {},
   "outputs": [
    {
     "name": "stdout",
     "output_type": "stream",
     "text": [
      "File downloaded successfully!\n"
     ]
    }
   ],
   "source": [
    "# download catalogue of dams\n",
    "response = requests.get(url + '0_Catalogo_de_presas.csv')\n",
    "\n",
    "# if correct response\n",
    "if response.status_code == 200:\n",
    "    \n",
    "    # format table of attributes\n",
    "    data_str = response.content.decode('latin-1')\n",
    "    data_io = StringIO(data_str)\n",
    "    dams = pd.read_csv(data_io)\n",
    "\n",
    "    # rename columns\n",
    "    rename_cols = {'Número': 'dam_ID',\n",
    "                   'Clave ': 'key',\n",
    "                   'Nombre de la presa': 'name',\n",
    "                   'Latitud': 'lat',\n",
    "                   'Longitud': 'lon',\n",
    "                   'Altitud': 'Z',\n",
    "                   'Estado': 'state',\n",
    "                   'Municipio': 'city',\n",
    "                   'Identificador de la \\ncuenca de disponibilidad': 'cat_ID',\n",
    "                   'Cuenca de disponibilidad': 'catchment',\n",
    "                   'Número de la \\nregión hidrológica': 'reg_ID',\n",
    "                   'Región hidrológica': 'region'}\n",
    "    dams.rename(columns=rename_cols, inplace=True)\n",
    "    dams.set_index('dam_ID', inplace=True, drop=True)\n",
    "    \n",
    "    # convert into GeoDataFrame\n",
    "    geometry = [Point(xy) for xy in zip(dams.lon, dams.lat)]\n",
    "    dams = gpd.GeoDataFrame(dams, geometry=geometry, crs='epsg:4326')\n",
    "\n",
    "    # export with columns renamed\n",
    "    dams.drop('geometry', axis=1).to_csv(path_attr / 'dams.csv', encoding='utf-8')\n",
    "    dams.to_file(path_attr / 'dams.shp', encoding='utf-8')\n",
    "    print(\"File downloaded successfully!\")\n",
    "else:\n",
    "    print(\"Failed to retrieve the file.\")"
   ]
  },
  {
   "cell_type": "markdown",
   "id": "bd43f718-b458-4709-87e0-1e2b2df80c76",
   "metadata": {},
   "source": [
    "## Time series"
   ]
  },
  {
   "cell_type": "code",
   "execution_count": null,
   "id": "a0a1869b-9c78-4954-bd4a-831a8811e11b",
   "metadata": {},
   "outputs": [],
   "source": [
    "for key in tqdm(dams.key.sort_values()):\n",
    "    \n",
    "    # download data\n",
    "    data = pd.read_csv(url + f'{key}.csv', skiprows=7)\n",
    "    data.columns = [col.strip() for col in data.columns]\n",
    "\n",
    "    # rename columns\n",
    "    rename_cols = {'Fecha': 'date',\n",
    "                   'Elevación(msnm)': 'Z_MASL',\n",
    "                   'Almacenamiento(hm³)': 'V_MCM',\n",
    "                   'Area(ha)': 'A_HA',\n",
    "                   'Extracciones por Obra de Toma(m³/s)': 'SLUICE_CMS',\n",
    "                   'Extracciones por Vertedor(m³/s)': 'SPILL_CMS',\n",
    "                   'Evaporación(mm)': 'EVAP_MM',\n",
    "                   'Precipitación(mm)': 'PRECIP_MM'}\n",
    "    data.rename(columns=rename_cols, inplace=True)\n",
    "\n",
    "    # set date as index\n",
    "    data.date = pd.to_datetime(data.date, format='%Y/%m/%d')\n",
    "    data.set_index('date', drop=True, inplace=True)\n",
    "\n",
    "    # convert data to float\n",
    "    data.replace('-', np.nan, inplace=True)\n",
    "    data = data.astype(float)\n",
    "\n",
    "    # export\n",
    "    data.to_csv(path_ts / f'{key}.csv')"
   ]
  }
 ],
 "metadata": {
  "kernelspec": {
   "display_name": "Python 3 (ipykernel)",
   "language": "python",
   "name": "python3"
  },
  "language_info": {
   "codemirror_mode": {
    "name": "ipython",
    "version": 3
   },
   "file_extension": ".py",
   "mimetype": "text/x-python",
   "name": "python",
   "nbconvert_exporter": "python",
   "pygments_lexer": "ipython3",
   "version": "3.9.13"
  }
 },
 "nbformat": 4,
 "nbformat_minor": 5
}
