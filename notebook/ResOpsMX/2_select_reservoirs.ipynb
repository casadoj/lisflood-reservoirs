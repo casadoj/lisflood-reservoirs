{
 "cells": [
  {
   "cell_type": "markdown",
   "id": "e7bfb620-0515-4bbe-adde-71b978d69700",
   "metadata": {},
   "source": [
    "# ResOpsMX: select reservoirs\n",
    "***\n",
    "\n",
    "**Autor:** Chus Casado Rodríguez<br>\n",
    "**Fecha:** 16-05-2024<br>\n",
    "\n",
    "**Introduction:**<br>\n",
    "This code compares the available attributes for reservoirs in Mexico from different sources: the Mexican Ministry, ICOLD, GRanD.\n",
    "\n",
    "**To be checked:**<br>"
   ]
  },
  {
   "cell_type": "code",
   "execution_count": 1,
   "id": "9ce5457d-7d3e-4cc3-8a28-8084b05c56c7",
   "metadata": {},
   "outputs": [],
   "source": [
    "import os\n",
    "os.environ['USE_PYGEOS'] = '0'\n",
    "from pathlib import Path\n",
    "import sys\n",
    "sys.path.append('../../src/')\n",
    "import geopandas as gpd\n",
    "from shapely.geometry import Point\n",
    "import re\n",
    "\n",
    "import numpy as np\n",
    "import pandas as pd\n",
    "import xarray as xr\n",
    "from datetime import datetime, timedelta\n",
    "from tqdm.notebook import tqdm\n",
    "import matplotlib.pyplot as plt\n",
    "import seaborn as sns\n",
    "import cartopy.crs as ccrs\n",
    "import cartopy.feature as cfeature\n",
    "import seaborn as sns\n",
    "sns.set_style('ticks')\n",
    "import yaml\n",
    "\n",
    "from lisfloodreservoirs.utils.SNCZI import reservoir_attributes, dam_attributes\n",
    "from lisfloodreservoirs.utils.names import remove_accents, correct_names\n",
    "from lisfloodreservoirs.utils.utils import filter_reservoirs, remove_duplicates\n",
    "\n",
    "import warnings\n",
    "warnings.filterwarnings(\"ignore\", category=FutureWarning)"
   ]
  },
  {
   "cell_type": "markdown",
   "id": "e0f8d181-fc8f-4b5b-87dd-46f1b68d2830",
   "metadata": {
    "tags": []
   },
   "source": [
    "## Configuration"
   ]
  },
  {
   "cell_type": "code",
   "execution_count": 2,
   "id": "23347daa-79f2-498c-a1e1-55725b27c583",
   "metadata": {},
   "outputs": [],
   "source": [
    "with open('config_dataset.yml', 'r', encoding='utf8') as ymlfile:\n",
    "    cfg = yaml.load(ymlfile, Loader=yaml.FullLoader)\n",
    "\n",
    "VERSION = cfg['version']\n",
    "\n",
    "PATH_RESOPS = Path(cfg['paths']['dataset']['root'])\n",
    "\n",
    "# path where results will be saved\n",
    "PATH_OUT = PATH_RESOPS / VERSION / 'attributes'\n",
    "PATH_PLOTS = PATH_OUT / 'plots'\n",
    "PATH_PLOTS.mkdir(parents=True, exist_ok=True)\n",
    "\n",
    "# path to GloFAS files\n",
    "# PATH_GLOFAS = Path(cfg['paths']['GloFAS']['root'])\n",
    "PATH_GRAND = Path(cfg['paths']['GRanD'])\n",
    "\n",
    "# conditions to consider a reservoir in the ResOpsES dataset\n",
    "MIN_AREA = cfg['conditions'].get('min_area', None) # km2\n",
    "MIN_VOL = cfg['conditions'].get('min_volume', None) # hm3"
   ]
  },
  {
   "cell_type": "markdown",
   "id": "d7370645-04b8-4d5c-9a7c-110cbdc0330b",
   "metadata": {},
   "source": [
    "## CONAGUA"
   ]
  },
  {
   "cell_type": "markdown",
   "id": "011afccc-5c7d-44e1-9faa-f9e566aefb01",
   "metadata": {},
   "source": [
    "### Dam catalogue\n",
    "\n",
    "There are several attributes of interest in this table:\n",
    "\n",
    "* Name\n",
    "* Coordinates"
   ]
  },
  {
   "cell_type": "code",
   "execution_count": 3,
   "id": "62de395c-8e9a-41b0-a289-6d22d289a6fc",
   "metadata": {},
   "outputs": [
    {
     "name": "stdout",
     "output_type": "stream",
     "text": [
      "Imported from CONAGUA 210 reservoirs and 12 attributes\n"
     ]
    }
   ],
   "source": [
    "# load reservoirs\n",
    "conagua = gpd.read_file(PATH_RESOPS / 'raw' / 'attributes' / 'dams.shp')\n",
    "conagua.columns = conagua.columns.str.upper()\n",
    "conagua.set_index('KEY', drop=False, inplace=True)\n",
    "conagua.rename(columns={'NAME': 'RES_NAME'}, inplace=True)\n",
    "conagua.drop('DAM_ID', axis=1, inplace=True)\n",
    "\n",
    "# correct names\n",
    "for col in ['RES_NAME', 'STATE']:\n",
    "    conagua[col] = [remove_accents(name.split(', ')[0]) for name in conagua[col].str.upper()]\n",
    "\n",
    "print('Imported from CONAGUA {0} reservoirs and {1} attributes'.format(*conagua.shape))"
   ]
  },
  {
   "cell_type": "markdown",
   "id": "1677439f-64b6-49ed-ad8c-71f2bcffc688",
   "metadata": {},
   "source": [
    "### Dam attributes\n",
    "\n",
    "I don't know where I got this data. The \"DAM_ID\" field is not coherent between sources, so I will use the \"KEY\" as the reservoir identifier. Besides, the key is used to name the time series files."
   ]
  },
  {
   "cell_type": "code",
   "execution_count": 4,
   "id": "981da98a-83f9-4672-b12e-d78f6441c23a",
   "metadata": {},
   "outputs": [
    {
     "name": "stdout",
     "output_type": "stream",
     "text": [
      "Imported from attributes 210 reservoirs and 8 attributes\n"
     ]
    }
   ],
   "source": [
    "# load reservoir attributes ¡¡I don't know where I got this data!!\n",
    "attrs = pd.read_csv(PATH_RESOPS / 'raw' / 'attributes' / 'attributes.csv', index_col='dam_ID', encoding='UTF-8')\n",
    "rename_cols = {\n",
    "    'Nombre de presa': 'RES_NAME',\n",
    "    'Nombre común': 'ALT_NAME',\n",
    "    'Organismo de cuenca': 'AGENCY',\n",
    "    'Entidad federativa': 'STATE',\n",
    "    'NAME Elevación (msnm)': 'NAME_masl',\n",
    "    'NAME Almacenamiento (hm3)': 'NAME_MCM',\n",
    "    'NAMO Elevación (msnm)': 'NAMO_masl',\n",
    "    'NAMO Almacenamiento (hm3)': 'NAMO_MCM'\n",
    "}\n",
    "attrs.rename(columns=rename_cols, inplace=True)\n",
    "attrs.columns = attrs.columns.str.upper()\n",
    "for col in ['RES_NAME', 'ALT_NAME', 'AGENCY', 'STATE']:\n",
    "    attrs[col].replace(np.nan, '', inplace=True)\n",
    "    attrs[col] = [remove_accents(name.split(', ')[0]) for name in attrs[col].str.upper()]\n",
    "attrs.STATE.replace({'ESTADO DE MEXICO': 'MEXICO'}, inplace=True)\n",
    "\n",
    "print('Imported from attributes {0} reservoirs and {1} attributes'.format(*attrs.shape))"
   ]
  },
  {
   "cell_type": "code",
   "execution_count": 5,
   "id": "561830cd-202e-4b30-8faf-aeacd107638e",
   "metadata": {},
   "outputs": [
    {
     "name": "stdout",
     "output_type": "stream",
     "text": [
      "The key was not found for 1 reservoirs\n"
     ]
    }
   ],
   "source": [
    "# find the key for the reservoirs in 'attrs'\n",
    "attrs['KEY'] = np.nan\n",
    "for key in conagua.index:\n",
    "    name, state = conagua.loc[key, ['RES_NAME', 'STATE']]\n",
    "    mask_name = attrs.RES_NAME == name\n",
    "    if mask_name.sum() == 1:\n",
    "        mask_state = True\n",
    "    else:\n",
    "        mask_state = attrs.STATE == state\n",
    "    attrs.loc[mask_name & mask_state, 'KEY'] = key\n",
    "if attrs.KEY.isnull().sum() > 0:\n",
    "    print('The key was not found for {0} reservoirs'.format(attrs.KEY.isnull().sum()))\n",
    "attrs.set_index('KEY', inplace=True)"
   ]
  },
  {
   "cell_type": "markdown",
   "id": "28bb973d-073b-4887-87a5-491bf82536c7",
   "metadata": {},
   "source": [
    "### Combine"
   ]
  },
  {
   "cell_type": "code",
   "execution_count": 6,
   "id": "7aa5ec17-1e03-4eab-ac1a-5ce542203793",
   "metadata": {},
   "outputs": [
    {
     "name": "stdout",
     "output_type": "stream",
     "text": [
      "No. reservoirs:\t211\n",
      "No. attributes:\t18\n",
      "\n"
     ]
    }
   ],
   "source": [
    "# concat tables\n",
    "new_cols = attrs.columns.difference(conagua.columns)\n",
    "conagua = pd.concat((conagua, attrs[new_cols]), axis=1).sort_index()\n",
    "\n",
    "print('No. reservoirs:\\t{0}\\nNo. attributes:\\t{1}\\n'.format(*conagua.shape))"
   ]
  },
  {
   "cell_type": "markdown",
   "id": "2eb3c32b-f0f9-41c3-bced-19b7fae85ca4",
   "metadata": {},
   "source": [
    "## GRanD "
   ]
  },
  {
   "cell_type": "code",
   "execution_count": 7,
   "id": "ad25ac85-8bea-4729-ad17-58309fbd7d87",
   "metadata": {},
   "outputs": [
    {
     "name": "stdout",
     "output_type": "stream",
     "text": [
      "No. reservoirs:\t107\n",
      "No. attributes:\t61\n",
      "\n",
      "99 out of 107 reservoirs exceed the minimum catchment area of 250 km2 (0 missing values)\n",
      "107 out of 107 reservoirs exceed the minimum reservoir volume of 10 hm3 (0 missing values)\n",
      "99 out of 107 reservoirs exceed the minimum catchment area (250 km2) and the minimum reservoir volume (10 hm3)\n"
     ]
    },
    {
     "data": {
      "image/png": "[encoded data removed]",
      "text/plain": [
       "<Figure size 640x480 with 1 Axes>"
      ]
     },
     "metadata": {},
     "output_type": "display_data"
    }
   ],
   "source": [
    "# load shapefile of dams\n",
    "grand = gpd.read_file(PATH_GRAND / 'GRanD_dams_v1_3.shp')\n",
    "grand.set_index('GRAND_ID', drop=False, inplace=True)\n",
    "\n",
    "# filter dams in Spain\n",
    "grand = grand.loc[grand.COUNTRY == 'Mexico']\n",
    "\n",
    "# correct names\n",
    "grand.DAM_NAME = grand.DAM_NAME.str.upper()\n",
    "grand.RES_NAME = grand.RES_NAME.str.upper()\n",
    "grand.ADMIN_UNIT = grand.ADMIN_UNIT.str.upper()\n",
    "\n",
    "# rename columns\n",
    "grand['LON'] = grand.geometry.x\n",
    "grand['LAT'] = grand.geometry.y\n",
    "\n",
    "print('No. reservoirs:\\t{0}\\nNo. attributes:\\t{1}\\n'.format(*grand.shape))\n",
    "\n",
    "# select reservoirs based on catchment area and reservoir volume\n",
    "mask_grand = filter_reservoirs(grand.CATCH_SKM, grand.CAP_MCM, MIN_AREA, MIN_VOL)\n",
    "\n",
    "fig, ax = plt.subplots(subplot_kw=dict(projection=ccrs.PlateCarree()))\n",
    "ax.add_feature(cfeature.NaturalEarthFeature('physical', 'land', '10m', edgecolor='face', facecolor='lightgray'),\n",
    "               alpha=.5,\n",
    "               zorder=0)\n",
    "grand.loc[~mask_grand].plot(markersize=grand.CAP_MCM**.5, c='indianred', alpha=.5, ax=ax, label='discarded')\n",
    "grand.loc[mask_grand].plot(markersize=grand.CAP_MCM**.5, alpha=.5, ax=ax, label='selected')\n",
    "fig.legend(frameon=False, bbox_to_anchor=[1, .4, .1, .2])\n",
    "ax.axis('off');\n",
    "\n",
    "# apply the selection\n",
    "# grand = grand.loc[mask_grand]"
   ]
  },
  {
   "cell_type": "markdown",
   "id": "537c3ddf-0447-4326-8f22-faeff76212be",
   "metadata": {},
   "source": [
    "### Connect CONAGUA and GRanD"
   ]
  },
  {
   "cell_type": "code",
   "execution_count": 8,
   "id": "f05091ad-7077-44eb-b877-c50cd166e385",
   "metadata": {},
   "outputs": [
    {
     "name": "stdout",
     "output_type": "stream",
     "text": [
      "8 reservoir are missing the CONAGUA connection\n",
      "No. reservoirs:\t99\n",
      "No. attributes:\t62\n",
      "\n"
     ]
    }
   ],
   "source": [
    "# create field for the CONAGUA key\n",
    "grand['KEY'] = np.nan\n",
    "for src_col in ['RES_NAME', 'ALT_NAME']:\n",
    "    for dst_col in ['RES_NAME', 'DAM_NAME', 'ALT_NAME']:\n",
    "        # find matches\n",
    "        mask_name = conagua[src_col].isin(grand[dst_col])\n",
    "        for key in conagua[mask_name].KEY:\n",
    "            name, state = conagua.loc[key, [src_col, 'STATE']]\n",
    "            grand.loc[(grand[dst_col] == name) & (grand.ADMIN_UNIT == state), 'KEY'] = key\n",
    "\n",
    "# check missing values\n",
    "missing = grand.KEY.isnull().sum()\n",
    "if missing > 0:\n",
    "    print(f'{missing} reservoir are missing the CONAGUA connection')    \n",
    "    grand = grand[grand.KEY.notnull()]\n",
    "grand.set_index('KEY', drop=False, inplace=True)\n",
    "\n",
    "print('No. reservoirs:\\t{0}\\nNo. attributes:\\t{1}\\n'.format(*grand.shape))"
   ]
  },
  {
   "cell_type": "code",
   "execution_count": 9,
   "id": "b2a04dde-7af0-461e-a63e-d3180e763803",
   "metadata": {},
   "outputs": [
    {
     "name": "stdout",
     "output_type": "stream",
     "text": [
      "99 reservoir match between CONAGUA and GRanD\n"
     ]
    },
    {
     "name": "stderr",
     "output_type": "stream",
     "text": [
      "C:\\DEV\\Anaconda3\\envs\\xr\\lib\\site-packages\\geopandas\\geodataframe.py:1443: SettingWithCopyWarning: \n",
      "A value is trying to be set on a copy of a slice from a DataFrame.\n",
      "Try using .loc[row_indexer,col_indexer] = value instead\n",
      "\n",
      "See the caveats in the documentation: https://pandas.pydata.org/pandas-docs/stable/user_guide/indexing.html#returning-a-view-versus-a-copy\n",
      "  super().__setitem__(key, value)\n"
     ]
    }
   ],
   "source": [
    "# assign GRAND_ID to the 'conagua' table\n",
    "keys = set(conagua.KEY).intersection(grand.KEY)\n",
    "print(f'{len(keys)} reservoir match between CONAGUA and GRanD')\n",
    "conagua.loc[keys, 'GRAND_ID'] = grand.loc[keys, 'GRAND_ID']\n",
    "conagua = conagua[conagua.GRAND_ID.notnull()]\n",
    "conagua['GRAND_ID'] = conagua.GRAND_ID.astype(int)"
   ]
  },
  {
   "cell_type": "code",
   "execution_count": 17,
   "id": "353d3f22-f504-4fd3-9896-638e2792adc2",
   "metadata": {},
   "outputs": [],
   "source": [
    "conagua.set_index('GRAND_ID', drop=True, inplace=True)\n",
    "grand.set_index('GRAND_ID', drop=True, inplace=True)"
   ]
  },
  {
   "cell_type": "markdown",
   "id": "5331905e-d72c-41b7-a413-791a42912486",
   "metadata": {},
   "source": [
    "### Reservoir use"
   ]
  },
  {
   "cell_type": "code",
   "execution_count": 11,
   "id": "7025b062-4d2d-4fca-878d-b9785e12f731",
   "metadata": {},
   "outputs": [],
   "source": [
    "# rename columns\n",
    "rename_uses_grand = {'USE_IRRI': 'irrigation',\n",
    "                  'USE_ELEC': 'hydropower',\n",
    "                     'USE_SUPP': 'supply',\n",
    "                     'USE_FCON': 'flood',\n",
    "                     'USE_RECR': 'recreation',\n",
    "                     'USE_NAVI': 'navigation',\n",
    "                     'USE_FISH': 'fish',\n",
    "                     'USE_PCON': 'pollution',\n",
    "                     'USE_LIVE': 'livestock',\n",
    "                     'USE_OTHR': 'other'}\n",
    "grand.rename(columns=rename_uses_grand, inplace=True)\n",
    "\n",
    "# replace values in 'MAIN_USE' to be consistent with the columns\n",
    "grand.MAIN_USE.replace({'Irrigation': 'irrigation',\n",
    "                        'Hydroelectricity': 'hydropower',\n",
    "                        'Water supply': 'supply',\n",
    "                        'Other': 'other',\n",
    "                        'Recreation': 'recreation',\n",
    "                        'Flood control': 'flood'},\n",
    "                       inplace=True)\n",
    "\n",
    "# convert to boolean\n",
    "grand_uses = list(rename_uses_grand.values())\n",
    "grand[grand_uses] = grand[grand_uses].replace({'Main': True, 'Major': True, 'Sec': True, None: False})\n",
    "\n",
    "# identify single purpose reservoirs\n",
    "grand['SINGLE_USE'] = False\n",
    "mask_singleuse = grand[grand_uses].sum(axis=1) == 1\n",
    "grand.loc[mask_singleuse, 'SINGLE_USE'] = True"
   ]
  },
  {
   "cell_type": "markdown",
   "id": "38bab59a-b8db-4fd7-a372-faab06313ae4",
   "metadata": {},
   "source": [
    "**Main use**"
   ]
  },
  {
   "cell_type": "code",
   "execution_count": 12,
   "id": "f4d1fd93-92ae-4eae-adf6-f8c555b149b2",
   "metadata": {},
   "outputs": [],
   "source": [
    "mask_singleuse = grand.SINGLE_USE\n",
    "mask_hdcc = ~grand.index.isnull()\n",
    "\n",
    "mainuse_singlepurpose = grand.loc[mask_hdcc & mask_singleuse, 'MAIN_USE'].value_counts()\n",
    "mainuse_multipurpose = grand.loc[mask_hdcc, 'MAIN_USE'].value_counts()\n",
    "mainuse_summary_grand = pd.concat((mainuse_singlepurpose, mainuse_multipurpose), axis=1)\n",
    "mainuse_summary_grand.columns = ['singlepurpose', 'multipurpose']\n",
    "mainuse_summary_grand.sort_values('multipurpose', ascending=False, inplace=True)\n",
    "del mainuse_singlepurpose, mainuse_multipurpose"
   ]
  },
  {
   "cell_type": "markdown",
   "id": "4a54f0ac-09fa-4cda-b6fc-67c757daf2dd",
   "metadata": {},
   "source": [
    "**All uses**"
   ]
  },
  {
   "cell_type": "code",
   "execution_count": 13,
   "id": "545c1ac6-365e-42f9-828e-0ae12e1996ec",
   "metadata": {},
   "outputs": [],
   "source": [
    "alluses_singlepurpose = grand.loc[mask_hdcc & mask_singleuse, grand_uses].sum()\n",
    "alluses_multipurpose = grand.loc[mask_hdcc, grand_uses].sum()\n",
    "alluses_summary_grand = pd.concat((alluses_singlepurpose, alluses_multipurpose), axis=1)\n",
    "alluses_summary_grand.columns = ['singlepurpose', 'multipurpose']\n",
    "alluses_summary_grand.sort_values('multipurpose', ascending=False, inplace=True)\n",
    "alluses_summary_grand.dropna(axis=0, how='all', inplace=True)\n",
    "alluses_summary_grand = alluses_summary_grand[~(alluses_summary_grand == 0).all(axis=1)]\n",
    "del alluses_singlepurpose, alluses_multipurpose"
   ]
  },
  {
   "cell_type": "markdown",
   "id": "149a0faa-5932-48e7-8a0d-b53e51a2525e",
   "metadata": {},
   "source": [
    "### Export"
   ]
  },
  {
   "cell_type": "code",
   "execution_count": 19,
   "id": "26a69edf-990a-488d-a083-59e45b69ce1e",
   "metadata": {},
   "outputs": [],
   "source": [
    "# convert boolean fields to 0-1\n",
    "bool_cols = list(rename_uses_grand.values()) + ['SINGLE_USE']\n",
    "grand[bool_cols] = grand[bool_cols].astype(bool).astype(int)\n",
    "\n",
    "# attributes to be included from EFAS\n",
    "cols_grand = ['KEY', 'RES_NAME', 'DAM_NAME', 'YEAR', 'REM_YEAR', 'LON', 'LAT',\n",
    "              'DAM_HGT_M', 'DAM_LEN_M', 'AREA_SKM', 'CAP_MCM', 'DEPTH_M', 'DIS_AVG_LS', 'DOR_PC', 'ELEV_MASL', 'CATCH_SKM',\n",
    "              'irrigation', 'hydropower', 'supply', 'flood', 'recreation', 'navigation', 'fish', 'pollution', 'livestock', 'other', 'MAIN_USE', 'SINGLE_USE','LAKE_CTRL']"
   ]
  },
  {
   "cell_type": "code",
   "execution_count": 20,
   "id": "ac2cb1c6-f559-4792-9897-1eae21d5266e",
   "metadata": {},
   "outputs": [],
   "source": [
    "# export as CSV\n",
    "grand[cols_grand].to_csv(PATH_OUT / 'grand.csv')\n",
    "#grand.loc[:, cols_grand].to_csv(PATH_OUT / 'attributes_GRanD.csv')"
   ]
  },
  {
   "cell_type": "code",
   "execution_count": null,
   "id": "53c2fd98-1d93-400d-91f4-b3e7ebed197f",
   "metadata": {},
   "outputs": [],
   "source": [
    "conagua.to_csv(PATH_OUT / 'conagua.csv')"
   ]
  },
  {
   "cell_type": "markdown",
   "id": "535b31db-8025-41af-92c5-0e10c6572934",
   "metadata": {},
   "source": [
    "## Comparison of data sets"
   ]
  },
  {
   "cell_type": "code",
   "execution_count": null,
   "id": "db85c7cb-067f-49b8-98ac-8e8fee352bcd",
   "metadata": {},
   "outputs": [],
   "source": [
    "# limit `cedex` to the reservoirs that fulfil the conditions\n",
    "cedex = cedex.loc[mask_cedex]"
   ]
  },
  {
   "cell_type": "markdown",
   "id": "041d91a4-d55b-4943-9945-757331bb819c",
   "metadata": {},
   "source": [
    "### Reservoir volume\n",
    "\n",
    "* CEDEX dams: `'V_MNL'`. This value does not represent total capacity, but the capacity at a normal level. Therefore, the actual reservoir capacity should always be larger than this value.\n",
    "* CEDEX reservoirs: `'V_total'`, `'V_live'`\n",
    "* ICOLD: `'Res_Vol'`\n",
    "* EFAS: `'Vtotal'`\n",
    "* GRanD: `'CAP_MCM'`"
   ]
  },
  {
   "cell_type": "code",
   "execution_count": null,
   "id": "4d84ad2b-7676-414c-9492-236cd60653b1",
   "metadata": {},
   "outputs": [],
   "source": [
    "variable = 'CAP_MCM'\n",
    "\n",
    "# combine all volume data in a single table\n",
    "volume = pd.concat((cedex[[variable, 'VOL_MNL']],\n",
    "                    efas[variable],\n",
    "                    icold[variable],\n",
    "                    grand[variable], \n",
    "                   ), axis=1)\n",
    "volume.columns = ['CEDEX', 'CEDEX_MNL', 'EFAS', 'ICOLD', 'GRanD']\n",
    "\n",
    "print('Number of reservoirs:\\t{0}\\nNumber of data sets:\\t{1}'.format(*volume.shape))\n",
    "\n",
    "# summarize\n",
    "volume_summary = pd.concat(((~volume.isnull()).sum(), volume.sum()), axis=1)\n",
    "volume_summary.columns = ['no_reservoirs', 'total_volume']\n",
    "volume_summary.sort_values('no_reservoirs', ascending=False, inplace=True)\n",
    "\n",
    "# plot summary\n",
    "fig, axes = plt.subplots(ncols=2, figsize=(8.5, 4), sharey=True)\n",
    "for ax, col in zip(axes, volume_summary):\n",
    "    ax.barh(volume_summary.index, volume_summary[col], color='lightsteelblue')\n",
    "    ax.spines[['top', 'left', 'right', 'bottom']].set_visible(False)\n",
    "    ax.tick_params(axis='y', length=0)\n",
    "    if ax == axes[0]:\n",
    "        ax.set(xlabel='no. reservoirs')\n",
    "    elif ax == axes[1]:\n",
    "        ax.set(xlabel='total volume (hm3)')\n",
    "        \n",
    "plt.savefig(PATH_PLOTS / 'reservoir_volume_barplot.jpg', dpi=300, bbox_inches='tight');"
   ]
  },
  {
   "cell_type": "markdown",
   "id": "f19d374d-85e8-4a48-9e03-65928fb407d8",
   "metadata": {},
   "source": [
    "The data in the plots above only represents the reservoirs in the datasets (EFAS, GRanD, ICOLD) that I could match with reservoirs in the HDCC database. The datasets on their own may contain more reservoirs; for instance, ICOLD includes 1066 reservoirs in Spain, but \"only\" 374 could be matched with the 394 reservoirs in HDCC.\n",
    "\n",
    "EFAS and GRanD are the two data sets with fewer number of reservoirs. However, the total volume that those reservoirs represent is very close to more comprehensive data sets as ICOLD or CEDEX. Interestingly, the total volume in ICOLD slightly exceeds that in CEDEX. This could be caused by the fact that CEDEX volume does not represent total capacity, but the storage at the normal reservoir level."
   ]
  },
  {
   "cell_type": "code",
   "execution_count": null,
   "id": "31dcbebf-92cd-4722-bcdf-e955333eff51",
   "metadata": {},
   "outputs": [],
   "source": [
    "# pair plot\n",
    "pair_plot = sns.pairplot(volume, corner=True, plot_kws={'alpha': .5})\n",
    "\n",
    "# reference 1:1 line\n",
    "nrow, ncol = pair_plot.axes.shape\n",
    "vmin, vmax = volume.min().min(), volume.max().max()\n",
    "for i in range(nrow):\n",
    "    for j in range(ncol):\n",
    "        if i > j:\n",
    "            pair_plot.axes[i, j].plot([vmin, vmax], [vmin, vmax],\n",
    "                                      c='k', lw=1, ls=':', zorder=0)\n",
    "pair_plot.fig.suptitle('Reservoir volume (hm3)')\n",
    "\n",
    "plt.savefig(PATH_PLOTS / 'reservoir_volume_pairplot.jpg', dpi=300, bbox_inches='tight');"
   ]
  },
  {
   "cell_type": "markdown",
   "id": "87beca08-9a5a-4541-8798-04b6a6d76dd5",
   "metadata": {},
   "source": [
    "I assume that CEDEX `CEDEX` is the reference data set, as it is the local data set that probably was used by GRanD and ICOLD to develop their global data sets.\n",
    "\n",
    "Overall, there's a good agreement between all data sets:\n",
    " * ICOLD has a few reservoirs whose storage clearly exceeds the values reported by CEDEX.\n",
    " * GRanD reservoir storage shows more deviations compared with CEDEX. This deviations are small in most cases, and both overestimate or underestimate storage.\n",
    " * As the majority of reservoirs in EFAS come from GRanD, the analysis is similar to that of GRanD.\n",
    " * The live volume in CEDEX reservoirs is obviously smaller than the normal storage in most of the cases. However, there are a couple of errors in which the live volume exceeds the normal volume."
   ]
  },
  {
   "cell_type": "markdown",
   "id": "9e68d303-dfd5-422e-b216-edf803c649f4",
   "metadata": {},
   "source": [
    "### Reservoir surface area\n",
    "\n",
    "All reservoir area values are in km2:\n",
    "\n",
    "* CEDEX dams: `'A_MNL'` in ha. This value does not represent the maximum area, but the surface at a normal level.\n",
    "* CEDEX reservoirs: `'AREA'`\n",
    "* ICOLD: `'Res_Area'`\n",
    "* EFAS: none\n",
    "* GRanD: `'AREA_SKM'`"
   ]
  },
  {
   "cell_type": "code",
   "execution_count": null,
   "id": "55b60666-95b9-4e3b-b569-74e49023a456",
   "metadata": {},
   "outputs": [],
   "source": [
    "variable = 'AREA_SKM'\n",
    "\n",
    "# combine all volume data in a single table\n",
    "area = pd.concat((cedex[[variable, 'AREA_MNL']],\n",
    "                  icold[variable],\n",
    "                  #efas[variable],\n",
    "                  grand[variable], \n",
    "                 ), axis=1)\n",
    "area.columns = ['CEDEX', 'CEDEX_MNL', 'ICOLD', 'GRanD']\n",
    "\n",
    "print('Number of reservoirs:\\t{0}\\nNumber of data sets:\\t{1}'.format(*area.shape))\n",
    "\n",
    "# summarize\n",
    "area_summary = pd.concat(((~area.isnull()).sum(), area.sum()), axis=1)\n",
    "area_summary.columns = ['no_reservoirs', 'total_area']\n",
    "area_summary.sort_values('no_reservoirs', ascending=False, inplace=True)\n",
    "\n",
    "# plot summary\n",
    "fig, axes = plt.subplots(ncols=2, figsize=(8.5, 4), sharey=True)\n",
    "for ax, col in zip(axes, area_summary):\n",
    "    ax.barh(area_summary.index, area_summary[col], color='lightsteelblue')\n",
    "    ax.spines[['top', 'left', 'right', 'bottom']].set_visible(False)\n",
    "    ax.tick_params(axis='y', length=0)\n",
    "    if ax == axes[0]:\n",
    "        ax.set(xlabel='no. reservoirs')\n",
    "    elif ax == axes[1]:\n",
    "        ax.set(xlabel='total area (km²)')\n",
    "        \n",
    "plt.savefig(PATH_PLOTS / 'reservoir_area_barplot.jpg', dpi=300, bbox_inches='tight');"
   ]
  },
  {
   "cell_type": "markdown",
   "id": "ef680d2f-3f10-449b-8c98-4d0d9c934577",
   "metadata": {},
   "source": [
    "The values for ICOD and CEDEX are very similar, both in terms of number of reservoirs and the total reservoir area. As seen for volume, ICOLD has a slightly smaller set of reservoirs than CEDEX, but the total aggregation slightly exceeds CEDEX. Again, this could be caused by CEDEX reporting area/volume at normal reservoir level, not at its maximum level.\n",
    "\n",
    "GRanD reports reservoir area in approximately half of the reservoirs. The total reservoir area seems to be in a similar proportion."
   ]
  },
  {
   "cell_type": "code",
   "execution_count": null,
   "id": "6ca26967-9a1a-4a04-84fe-8d0ad4932220",
   "metadata": {},
   "outputs": [],
   "source": [
    "# pair plot\n",
    "pair_plot = sns.pairplot(area, corner=True, plot_kws={'alpha': .5})\n",
    "\n",
    "# reference 1:1 line\n",
    "nrow, ncol = pair_plot.axes.shape\n",
    "amin, amax = area.min().min(), area.max().max()\n",
    "for i in range(nrow):\n",
    "    for j in range(ncol):\n",
    "        if i > j:\n",
    "            pair_plot.axes[i, j].plot([amin, amax], [amin, amax],\n",
    "                                      c='k', lw=1, ls=':', zorder=0)\n",
    "pair_plot.fig.suptitle('Reservoir surface (km²)')\n",
    "\n",
    "plt.savefig(PATH_PLOTS / 'reservoir_area_pairplot.jpg', dpi=300, bbox_inches='tight');"
   ]
  },
  {
   "cell_type": "markdown",
   "id": "2397f787-863a-44c1-a362-02b92db1f125",
   "metadata": {},
   "source": [
    "The pair plots above show that GRanD underestimates reservoir area., and there seems to be a clear trend (even though the spread increases with increasing reservoir size).\n",
    "\n",
    "ICOLD data agrees appropriately with CEDEX."
   ]
  },
  {
   "cell_type": "markdown",
   "id": "a2226df9-3b55-4978-96ce-48c08e72cee9",
   "metadata": {},
   "source": [
    "### Catchment area"
   ]
  },
  {
   "cell_type": "markdown",
   "id": "eafcb0cf-abec-4407-9177-60bac46a01ce",
   "metadata": {},
   "source": [
    "All catchment area values are in km2?\n",
    "\n",
    "* CEDEX dams: `'catch_area'` in ha. This value does not represent the maximum area, but the surface at a normal level.\n",
    "* ICOLD: `'Catch_Area'`\n",
    "* EFAS: none\n",
    "* GRanD: `'CATCH_SKM'`"
   ]
  },
  {
   "cell_type": "code",
   "execution_count": null,
   "id": "6a5afb2f-c05b-49dc-a6c7-d50d4fc1087f",
   "metadata": {},
   "outputs": [],
   "source": [
    "variable = 'CATCH_SKM'\n",
    "\n",
    "# combine all volume data in a single table\n",
    "catchment = pd.concat((cedex[variable],\n",
    "                       efas[variable],\n",
    "                       icold[variable],\n",
    "                       grand[variable], \n",
    "                      ), axis=1)\n",
    "catchment.columns = ['CEDEX', 'EFAS', 'ICOLD', 'GRanD']\n",
    "\n",
    "print('Number of reservoirs:\\t{0}\\nNumber of data sets:\\t{1}'.format(*catchment.shape))\n",
    "\n",
    "# summarize\n",
    "catchment_summary = pd.concat(((~catchment.isnull()).sum(), catchment.sum()), axis=1)\n",
    "catchment_summary.columns = ['no_reservoirs', 'total_area']\n",
    "catchment_summary.sort_values('no_reservoirs', ascending=False, inplace=True)\n",
    "\n",
    "# plot summary\n",
    "fig, axes = plt.subplots(ncols=2, figsize=(8.5, 4), sharey=True)\n",
    "for ax, col in zip(axes, catchment_summary):\n",
    "    ax.barh(catchment_summary.index, catchment_summary[col], color='lightsteelblue')\n",
    "    ax.spines[['top', 'left', 'right', 'bottom']].set_visible(False)\n",
    "    ax.tick_params(axis='y', length=0)\n",
    "    if ax == axes[0]:\n",
    "        ax.set(xlabel='no. reservoirs')\n",
    "    elif ax == axes[1]:\n",
    "        ax.set(xlabel='total catchment area (km²)')\n",
    "        \n",
    "plt.savefig(PATH_PLOTS / 'reservoir_catchment_barplot.jpg', dpi=300, bbox_inches='tight');"
   ]
  },
  {
   "cell_type": "markdown",
   "id": "9fc406fa-7805-4f20-9804-d62f9e80c594",
   "metadata": {},
   "source": [
    "The catchment area value is missing from several reservoirs in CEDEX, which causes that ICOLD is the most comprehensive data set. Even though the number of reservoirs in GRanD that report catchment area is notably smaller, the total catchment area is close to other data sets, meaning that GRanD includes the reservoirs with larger contributing area."
   ]
  },
  {
   "cell_type": "code",
   "execution_count": null,
   "id": "3e25e0c8-4f82-425b-ba37-b6e6c6b12c8c",
   "metadata": {},
   "outputs": [],
   "source": [
    "# pair plot\n",
    "pair_plot = sns.pairplot(catchment, corner=True, plot_kws={'alpha': .5})\n",
    "\n",
    "# reference 1:1 line\n",
    "nrow, ncol = pair_plot.axes.shape\n",
    "amin, amax = catchment.min().min(), catchment.max().max()\n",
    "for i in range(nrow):\n",
    "    for j in range(ncol):\n",
    "        if i > j:\n",
    "            pair_plot.axes[i, j].plot([amin, amax], [amin, amax],\n",
    "                                      c='k', lw=1, ls=':', zorder=0)\n",
    "pair_plot.fig.suptitle('Catchment area (km²)')\n",
    "            \n",
    "plt.savefig(PATH_PLOTS / 'reservoir_catchment_pairplot.jpg', dpi=300, bbox_inches='tight');"
   ]
  },
  {
   "cell_type": "markdown",
   "id": "03e698ab-b54f-4f09-b36f-08cf4a81969a",
   "metadata": {},
   "source": [
    "There is a considerable scatter in the areas among the smallest catchments. Specifically, GRanD has some rerservoirs which overestimate catchment area compared both with CEDEX and ICOLD. ICOLD, instead, includes catchment areas that differ in both ways (over or underestimate) the area of small catchments compared with CEDEX."
   ]
  },
  {
   "cell_type": "markdown",
   "id": "eabfec54-5917-403a-a9c4-992547e45e03",
   "metadata": {},
   "source": [
    "**Test GIS and `cutmaps` catchments**"
   ]
  },
  {
   "cell_type": "code",
   "execution_count": null,
   "id": "cf82fc8a-c475-4ca9-9e78-80518600f2fc",
   "metadata": {
    "tags": []
   },
   "outputs": [],
   "source": [
    "# calculate the upstream area for each reservoir catchment\n",
    "filename = 'upArea_01min.nc'\n",
    "path_cutmaps = PATH_RESOPSMX / 'ancillary' / 'cutmaps'\n",
    "cutmaps = pd.Series(index=points.id, dtype=float, name='CATCH_SKM')\n",
    "cutmaps.index.name = 'SNCZI'\n",
    "for ID in tqdm(cutmaps.index):\n",
    "    # load map cut\n",
    "    data = xr.open_dataset(path_cutmaps / ID / filename)['Band1']\n",
    "    # calculate catchment area in km²\n",
    "    cutmaps.loc[ID] = data.max().values / 1e6\n",
    "\n",
    "# assign values to the \"catchment\" DataFrame\n",
    "cutmaps.index = cutmaps.index.astype(int)\n",
    "catchment.loc[cutmaps.index, 'cutmaps'] = cutmaps.values"
   ]
  },
  {
   "cell_type": "code",
   "execution_count": null,
   "id": "e977a2af-264b-4876-b789-79d20fccc618",
   "metadata": {
    "tags": []
   },
   "outputs": [],
   "source": [
    "# import watershed polygons derived in GIS\n",
    "gis = gpd.read_file(PATH_RESOPSMX / 'GIS' / 'Layers' / 'watershed_305.shp')\n",
    "gis.Name = gis.Name.astype('Int64')\n",
    "gis.rename(columns={'Name': 'SNCZI', 'Shape_Leng': 'LENG_KM', 'Shape_Area': 'CATCH_SKM'}, inplace=True)\n",
    "gis.set_index('SNCZI', inplace=True)\n",
    "gis.drop(['OID_', 'HydroID'], axis=1, inplace=True)\n",
    "\n",
    "# assign values to the \"catchment\" DataFrame\n",
    "catchment.loc[gis.index, 'GIS'] = gis.CATCH_SKM.values"
   ]
  },
  {
   "cell_type": "code",
   "execution_count": null,
   "id": "98a8f477-101c-41ce-8e02-d44343e5350a",
   "metadata": {},
   "outputs": [],
   "source": [
    "sns.pairplot(catchment, corner=True, plot_kws={'alpha': .5});"
   ]
  },
  {
   "cell_type": "code",
   "execution_count": null,
   "id": "515b8c71-ad1e-49db-a52e-d38f3ba94ad4",
   "metadata": {},
   "outputs": [],
   "source": [
    "catchment.loc[[616, 1038, 1290, 1342, 1643, 1840, 1953, 2050]]"
   ]
  },
  {
   "cell_type": "code",
   "execution_count": null,
   "id": "b96a6d4d-bf1a-48ce-a504-7c9bdd3ca663",
   "metadata": {},
   "outputs": [],
   "source": [
    "idx = reservoirs.loc[reservoirs.TS == 1].index.difference(watershed.index).tolist()"
   ]
  },
  {
   "cell_type": "code",
   "execution_count": null,
   "id": "79d95bf6-e92a-4c63-9777-fac54e1dee36",
   "metadata": {},
   "outputs": [],
   "source": [
    "reservoirs.loc[idx]"
   ]
  },
  {
   "cell_type": "code",
   "execution_count": null,
   "id": "ea611bdd-4f66-4556-a5fc-ee2f76df4316",
   "metadata": {
    "tags": []
   },
   "outputs": [],
   "source": [
    "watershed.boundary.plot()"
   ]
  },
  {
   "cell_type": "code",
   "execution_count": null,
   "id": "45687633-cab5-4c11-a3b7-a0a2d4aceecf",
   "metadata": {},
   "outputs": [],
   "source": [
    "# add to the comparative table the area of the polygons derived in GIS\n",
    "catchment.loc[watershed.index, 'GIS'] = watershed['CATCH_SKM']"
   ]
  },
  {
   "cell_type": "code",
   "execution_count": null,
   "id": "2294d5a1-1d2a-4428-be5d-e78160300efd",
   "metadata": {},
   "outputs": [],
   "source": [
    "# # create a field reporting the most reliable value of the catchment area\n",
    "# catchment['CATCH_SKM'] = catchment[['CEDEX', 'ICOLD']].max(axis=1)\n",
    "# mask = catchment.CATCH_SKM.isnull()\n",
    "# catchment.loc[mask, 'CATCH_SKM'] = catchment.loc[mask, 'GRanD']"
   ]
  },
  {
   "cell_type": "code",
   "execution_count": null,
   "id": "1b2cd5d5-22b0-4def-9fac-419891c0fac8",
   "metadata": {},
   "outputs": [],
   "source": [
    "# create a field reporting the most reliable value of the catchment area\n",
    "catchment['CATCH_SKM'] = catchment.GRanD\n",
    "mask = catchment.CATCH_SKM.isnull()\n",
    "catchment.loc[mask, 'CATCH_SKM'] = catchment.loc[mask, ['CEDEX', 'ICOLD']].min(axis=1)"
   ]
  },
  {
   "cell_type": "code",
   "execution_count": null,
   "id": "a2b0e842-09d7-4625-893e-2488d4458b22",
   "metadata": {},
   "outputs": [],
   "source": [
    "error = (catchment.GIS - catchment.CATCH_SKM) / catchment.CATCH_SKM * 100\n",
    "catchment.loc[error.abs() > 50].sort_index().round(0)"
   ]
  },
  {
   "cell_type": "markdown",
   "id": "efb77720-848e-4999-96a2-098b3963f576",
   "metadata": {},
   "source": [
    "It seems like GRanD is a more reliable source in terms of catchment area, so, when available, I compare against this data set. If not avaible, I compare agains the minimum between CEDEX and ICOLD.\n",
    "\n",
    "* __Correct in GIS__: 52, 173, 317, 400, 442, 620, 916, 993, 1019, 1062, 1075, 1125, 1285, 1565, 1657, 2083, 2101, 2175, 2261, 2469?, 2561\n",
    "* __Wrong in GIS__: 616, 1038, 1290, 1342, 1643, 1840, 1953, 2050"
   ]
  },
  {
   "cell_type": "markdown",
   "id": "4279ef89-05c6-47e5-86f4-e4a5f9ce899d",
   "metadata": {},
   "source": [
    "Incongruences between CEDEX and ICOLD."
   ]
  },
  {
   "cell_type": "code",
   "execution_count": null,
   "id": "8a7f8fb4-6ca4-44cb-be42-c5225ae52455",
   "metadata": {},
   "outputs": [],
   "source": [
    "print(f'{catchment.CEDEX.isnull().sum()} reservoir miss the catchment area in CEDEX')\n",
    "print(f'{catchment.ICOLD.isnull().sum()} reservoir miss the catchment area in ICOLD')\n",
    "print(f'{catchment.GRanD.isnull().sum()} reservoir miss the catchment area in GRanD')\n",
    "print(f'{catchment.GIS.isnull().sum()} reservoir miss the catchment area in GIS')"
   ]
  },
  {
   "cell_type": "markdown",
   "id": "1c92fa1f-a904-49e1-a9b5-f4967fc4bee0",
   "metadata": {
    "tags": []
   },
   "source": [
    "### Reservoir use"
   ]
  },
  {
   "cell_type": "markdown",
   "id": "3a154cdc-23c3-4a0d-a120-f61dba50761e",
   "metadata": {},
   "source": [
    "**Main use**"
   ]
  },
  {
   "cell_type": "code",
   "execution_count": null,
   "id": "bf1db75b-576a-4ccd-b294-0ccf33f03f29",
   "metadata": {},
   "outputs": [],
   "source": [
    "main_use = {'CEDEX': mainuse_summary_cedex,\n",
    "            'ICOLD': mainuse_summary_icold,\n",
    "            'GRanD': mainuse_summary_grand}\n",
    "\n",
    "fig, axes = plt.subplots(ncols=len(main_use), figsize=(len(main_use) * 4, 4), sharex=True, tight_layout=True)\n",
    "for ax, (label, df) in zip(axes, main_use.items()):\n",
    "    ax.barh(df.index, df.multipurpose, color='steelblue', label='multi-purpose')\n",
    "    ax.barh(df.index, df.singlepurpose, color='lightsteelblue', label='single purpose')\n",
    "    ax.set(title=label,\n",
    "           xlabel='no. reservoirs')\n",
    "    ax.tick_params(axis='y', length=0)\n",
    "    ax.spines[['top', 'left', 'right', 'bottom']].set_visible(False);\n",
    "fig.suptitle('Main reservoir use')\n",
    "fig.legend(*ax.get_legend_handles_labels(), loc=5, frameon=False, bbox_to_anchor=[1.02, .4, .1, .2]);\n",
    "\n",
    "plt.savefig(PATH_PLOTS / 'reservoir_main_use.jpg', dpi=300, bbox_inches='tight');"
   ]
  },
  {
   "cell_type": "markdown",
   "id": "1cfa0bb9-eef9-4d61-a2d7-63dd85c39982",
   "metadata": {},
   "source": [
    "The definition of the main use of a reservoir is ambiguous. Is it the use that requires larger water volume? Is it a design decision? \n",
    "\n",
    "The ambiguity is clear in the plot above. Even though the two most common main uses (supply and hydropower) coincide in CEDEX and ICOLD, the figures differ notably. These two data sets assign different importance to flood and irrigation. On the contrary, GRanD identifies irrigation as the main reservoir use in Spain, followed by hydropower and supply; flood control has no importance in this data set."
   ]
  },
  {
   "cell_type": "markdown",
   "id": "b27de15f-40c2-4e1c-863a-65cbdcb40d4e",
   "metadata": {},
   "source": [
    "**All uses**"
   ]
  },
  {
   "cell_type": "code",
   "execution_count": null,
   "id": "04fd3481-b0f1-4815-ab10-e94778766b59",
   "metadata": {},
   "outputs": [],
   "source": [
    "all_uses = {'CEDEX': alluses_summary_cedex,\n",
    "            'ICOLD': alluses_summary_icold,\n",
    "            'GRanD': alluses_summary_grand}\n",
    "\n",
    "fig, axes = plt.subplots(ncols=len(all_uses), figsize=(len(all_uses) * 4, 4), sharex=True, tight_layout=True)\n",
    "for ax, (label, df) in zip(axes, all_uses.items()):\n",
    "    ax.barh(df.index, df.multipurpose, color='steelblue', label='multi-purpose')\n",
    "    ax.barh(df.index, df.singlepurpose, color='lightsteelblue', label='single purpose')\n",
    "    ax.set(title=label,\n",
    "           xlabel='no. reservoirs')\n",
    "    ax.tick_params(axis='y', length=0)\n",
    "    ax.spines[['top', 'left', 'right', 'bottom']].set_visible(False);\n",
    "fig.suptitle('All reservoir uses')\n",
    "fig.legend(*ax.get_legend_handles_labels(), loc=5, frameon=False, bbox_to_anchor=[1.02, .4, .1, .2]);\n",
    "\n",
    "plt.savefig(PATH_PLOTS / 'reservoir_all_uses.jpg', dpi=300, bbox_inches='tight');"
   ]
  },
  {
   "cell_type": "markdown",
   "id": "4dce7120-e483-406d-8cff-e71b8f367bb6",
   "metadata": {},
   "source": [
    "The difference between the three data sets remains when looking at all the reservoir uses. ICOLD and GRanD identify hydropower and irrigation as the two most common uses, even though the order differs between them two. CEDEX, instead, considers water supply as the main use (3rd in ICOLD and GRanD), and limits hydropower and irrigation to the 3rd and 4th rank. It's remarkable that flood control is the second most common use in CEDEX, but it has a residual value in both ICOLD and GRanD."
   ]
  },
  {
   "cell_type": "markdown",
   "id": "2a69598e-147e-441b-b870-30a17a7e7129",
   "metadata": {},
   "source": [
    "## Conclusion\n",
    "\n",
    "ICOLD seems to be the best data set to extract the reservoir static attributes. In the specific case of Spain, the Spanish National Inventory of Reservoirs and Dams (CEDEX) is more comprehensive, both in terms of number of reservoirs and the number of attributes. However, since this is only an exercise that must be extrapolated continentally/globally, we need to use a global data set like ICOLD or GRanD. The comparison of these two global data sets against CEDEX shows that the figures in ICOLD are closer to the reference. On top of that, I could match 374 reservoirs between the observed time series and ICOLD, and only 225 with GRanD, so using ICOLD increases notably the sample of reservoirs.\n",
    "\n",
    "The drawback of using ICOLD is that the data can not be open."
   ]
  },
  {
   "cell_type": "code",
   "execution_count": null,
   "id": "ed7ceb30-4100-485d-859d-cf882b595d54",
   "metadata": {},
   "outputs": [],
   "source": [
    "# export shapefile of reservoirs\n",
    "hdcc['lon_orig'] = hdcc.geometry.x\n",
    "hdcc['lat_orig'] = hdcc.geometry.y\n",
    "hdcc[['lon_lisf', 'lat_lisf']] = np.nan\n",
    "\n",
    "# hdcc.to_file(PATH_RESOPSMX / 'GIS' / 'reservoirs_ResOpsES.shp')"
   ]
  },
  {
   "cell_type": "markdown",
   "id": "dd555531-7479-47be-8da7-69b89bc182c8",
   "metadata": {},
   "source": [
    "### Reservoirs with time series"
   ]
  },
  {
   "cell_type": "markdown",
   "id": "e9c531fa-9508-47b3-be55-6fccc1482440",
   "metadata": {},
   "source": [
    "**Anuario de Aforos**"
   ]
  },
  {
   "cell_type": "markdown",
   "id": "9bc3ba33-683f-477f-a034-c08f02b406b4",
   "metadata": {},
   "source": [
    "Import shapefile of reservoirs in the Hydrological Data Colection Center (HDCC) database."
   ]
  },
  {
   "cell_type": "code",
   "execution_count": null,
   "id": "477bb7cc-d50d-49ab-ad07-0329602faa25",
   "metadata": {},
   "outputs": [],
   "source": [
    "path_cedex = PATH_RESOPSS / 'CEDEX' / 'processed' / 'reservoirs'\n",
    "reservoirs_AA = gpd.read_file(path_cedex / 'attributes' / 'GIS' / 'reservoirs.shp')\n",
    "reservoirs_AA.ref_ceh = reservoirs_AA.ref_ceh.astype('Int64')\n",
    "reservoirs_AA['source'] = 'CEDEX'\n",
    "reservoirs_AA.rename(columns={'nombre': 'name', 'ref_ceh': 'ID'}, inplace=True)\n",
    "reservoirs_AA['SNCZI'] = reservoirs_AA['SNCZI'].replace(0, np.nan).astype('Int64')\n",
    "reservoirs_AA.set_index('SNCZI', drop=True, inplace=True)\n",
    "reservoirs_AA.sort_index(axis=0, inplace=True)\n",
    "\n",
    "print('Anuario de Aforos contains {0} reservoirs'.format(reservoirs_AA.shape[0]))\n",
    "print('{0} reservoirs are not connected to the SNCZI database'.format((reservoirs_AA.index.isnull()).sum()))\n",
    "# reservoirs_AA.head()"
   ]
  },
  {
   "cell_type": "markdown",
   "id": "482e3f1f-3b2c-4dea-baa0-4e6dd6c341dc",
   "metadata": {},
   "source": [
    "**Agència Catalana de l'Aigua**\n",
    "\n",
    "I have downloaded reservoir records from the ACA website, but these reservoirs are not yet in HDCC. I will upload here the shapefile of the ACA reservoirs and concatenate it to HDCC."
   ]
  },
  {
   "cell_type": "code",
   "execution_count": null,
   "id": "0c003556-c6c7-4826-8efb-0c61643e16be",
   "metadata": {},
   "outputs": [],
   "source": [
    "# load shapefile and treat the data\n",
    "reservoirs_aca = gpd.read_file(PATH_RESOPSS / 'ACA' / 'processed' / 'reservoirs' / 'attributes' / 'GIS' / 'reservoirs_ACA.shp')\n",
    "reservoirs_aca['source'] = 'ACA'\n",
    "reservoirs_aca.set_index('SNCZI', inplace=True, drop=True)\n",
    "reservoirs_aca.rename(columns={'ID_ACA': 'ID'}, inplace=True)\n",
    "\n",
    "print('ACA contains {0} reservoirs'.format(reservoirs_aca.shape[0]))\n",
    "print('{0} reservoirs are not connected to the SNCZI database'.format((reservoirs_aca.index.isnull()).sum()))\n",
    "# reservoirs_aca.head()"
   ]
  },
  {
   "cell_type": "markdown",
   "id": "02bddecc-16e3-474c-96ad-c4eacf95b2a9",
   "metadata": {},
   "source": [
    "**Hidrosur**\n",
    "\n",
    "I have requested reservoir data from Hidrosur. This data is not yet in HDCC, so I will load it here and combine it with the reservoirs in HDCC."
   ]
  },
  {
   "cell_type": "code",
   "execution_count": null,
   "id": "ab930bfc-3d93-4566-94c8-f100efba1dd3",
   "metadata": {},
   "outputs": [],
   "source": [
    "# load shapefile and treat the data\n",
    "reservoirs_sur = gpd.read_file(PATH_RESOPSS / 'Hidrosur' / 'processed' / 'reservoirs' / 'attributes' / 'GIS' / 'reservoirs_hidrosur.shp')\n",
    "reservoirs_sur['source'] = 'Hidrosur'\n",
    "reservoirs_sur['SNCZI'] = reservoirs_sur['SNCZI'].astype('Int64')\n",
    "reservoirs_sur.set_index('SNCZI', drop=True, inplace=True)\n",
    "\n",
    "print('Hidrosur contains {0} reservoirs'.format(reservoirs_sur.shape[0]))\n",
    "print('{0} reservoirs are not connected to the SNCZI database'.format((reservoirs_sur.index.isnull()).sum()))\n",
    "# reservoirs_sur.head()"
   ]
  },
  {
   "cell_type": "markdown",
   "id": "21bddf17-e2f1-49b0-afb3-e7dbc53ed330",
   "metadata": {},
   "source": [
    "**Merge all**\n",
    "\n",
    "<font color='indianred'>I remove the reservoirs without SNCZI code.</font>"
   ]
  },
  {
   "cell_type": "code",
   "execution_count": null,
   "id": "79145027-62a2-4cbc-8af1-e4e7d3499fec",
   "metadata": {},
   "outputs": [],
   "source": [
    "cols = ['ID', 'name', 'source', 'geometry']\n",
    "hdcc = pd.concat((reservoirs_AA[cols], reservoirs_aca[cols], reservoirs_sur[cols]), axis=0)\n",
    "hdcc.index = hdcc.index.astype('Int64')\n",
    "# remove one of the instances of the Siurana reservoir (included both in Anuario and ACA)\n",
    "# I remove the instance in the ACA (`ID == 'E18')\n",
    "hdcc = hdcc.loc[hdcc.ID != 'E18']\n",
    "hdcc.name = hdcc.name.str.replace(r'(.+), (.+)', r'\\2 \\1', regex=True)\n",
    "# hdcc.name = hdcc.name.apply(unidecode.unidecode)\n",
    "hdcc.name = [remove_accents(name) for name in hdcc.name]\n",
    "\n",
    "print('Anuario + ACA + Hidrosur:\\t{0} reservoirs'.format(hdcc.shape[0]))\n",
    "print('{0} reservoirs are not connected to the SNCZI database'.format((hdcc.index.isnull()).sum()))\n",
    "\n",
    "hdcc = hdcc.loc[~(hdcc.index.isnull())]\n",
    "\n",
    "fig, ax = plt.subplots(subplot_kw=dict(projection=ccrs.PlateCarree()))\n",
    "ax.add_feature(cfeature.NaturalEarthFeature('physical', 'land', '10m', edgecolor='face', facecolor='lightgray'),\n",
    "               alpha=.5,\n",
    "               zorder=0)\n",
    "hdcc.plot(markersize=5, ax=ax)\n",
    "ax.set_title(f'Hydro DB\\n{hdcc.shape[0]} reservoirs')\n",
    "ax.set_extent([-10, 4.5, 35.5, 44])\n",
    "ax.axis('off');"
   ]
  },
  {
   "cell_type": "markdown",
   "id": "6db2b1dd-9674-4ebd-805a-c39fc046d0fd",
   "metadata": {},
   "source": [
    "### Select reservoirs"
   ]
  },
  {
   "cell_type": "code",
   "execution_count": null,
   "id": "b9a89e7f-43d2-4de7-9eed-e541b48dab66",
   "metadata": {},
   "outputs": [],
   "source": [
    "masks = {'CEDEX': mask_cedex,\n",
    "         'EFAS': mask_efas,\n",
    "         'ICOLD': mask_icold,\n",
    "         'GRanD': mask_grand}\n",
    "\n",
    "attributes = {'CEDEX': cedex,\n",
    "              'EFAS': efas,\n",
    "              'ICOLD': icold,\n",
    "              'GRanD': grand}\n",
    "\n",
    "summary = pd.DataFrame(index=attributes.keys(), columns=['initially', 'selected', 'timeseries'])\n",
    "for label, df in attributes.items():\n",
    "    summary.loc[label, 'initially'] = masks[label].shape[0]\n",
    "    summary.loc[label, 'selected'] = df.shape[0]\n",
    "    summary.loc[label, 'timeseries'] = len(df.index.intersection(hdcc.index))\n",
    "    \n",
    "total_IDs = []\n",
    "for label, serie in masks.items():\n",
    "    total_IDs += serie.index.tolist()\n",
    "total_IDs = set(total_IDs)\n",
    "summary.loc['total', 'initially'] = len(total_IDs)\n",
    "    \n",
    "selected_IDs = []\n",
    "for label, df in attributes.items():\n",
    "    selected_IDs += df.index.tolist()\n",
    "selected_IDs = set(selected_IDs)\n",
    "summary.loc['total', 'selected'] = len(selected_IDs)\n",
    "summary.loc['total', 'timeseries'] = len(selected_IDs.intersection(hdcc.index))\n",
    "\n",
    "summary"
   ]
  },
  {
   "cell_type": "code",
   "execution_count": null,
   "id": "961c0ed2-1fbb-4b42-9f12-7eee2f7386e4",
   "metadata": {},
   "outputs": [],
   "source": [
    "reservoirs = pd.DataFrame(columns=['RES_NAME', 'DAM_NAME', 'LON', 'LAT', 'CAP_MCM', 'AREA_SKM', 'CATCH_SKM'])\n",
    "reservoirs.index.name = 'SNCZI'\n",
    "\n",
    "# add reservoirs from CEDEX\n",
    "reservoirs = pd.concat((reservoirs, cedex[reservoirs.columns]))\n",
    "\n",
    "# add reservoirs from ICOLD\n",
    "sel = icold.index.difference(reservoirs.index)\n",
    "reservoirs = pd.concat((reservoirs, icold.loc[sel, reservoirs.columns]))\n",
    "\n",
    "# add reservoirs from GRanD\n",
    "sel = grand.index.difference(reservoirs.index)\n",
    "reservoirs = pd.concat((reservoirs, grand.loc[sel, reservoirs.columns]))\n",
    "\n",
    "# add reservoirs from EFAS\n",
    "sel = efas.index.difference(reservoirs.index)\n",
    "reservoirs = pd.concat((reservoirs, efas.loc[sel, ['DAM_NAME', 'LON', 'LAT', 'CAP_MCM', 'CATCH_SKM']]))\n",
    "\n",
    "# time series available?\n",
    "# reservoirs['TS'] = 0\n",
    "idx_ts = reservoirs.index.intersection(hdcc.index)\n",
    "# reservoirs.loc[idx_ts, 'TS'] = 1\n",
    "reservoirs.loc[idx_ts, ['SOURCE_TS', 'ID_TS']] = hdcc.loc[idx_ts, ['source', 'ID']].values\n",
    "\n",
    "# convert into GeoDataFrame\n",
    "geometry = [Point(xy) for xy in zip(reservoirs.LON, reservoirs.LAT)]\n",
    "reservoirs = gpd.GeoDataFrame(reservoirs, geometry=geometry, crs='epsg:4326')\n",
    "\n",
    "# export point shapefile\n",
    "reservoirs.loc[reservoirs.ID_TS.notnull()].to_file(PATH_RESOPSMX / 'GIS' / 'reservoirs_ResOpsES.shp')\n",
    "\n",
    "reservoirs.head()"
   ]
  },
  {
   "cell_type": "markdown",
   "id": "05ffdee0-e8d5-4184-a1d4-302cd6d85485",
   "metadata": {},
   "source": [
    "***"
   ]
  },
  {
   "cell_type": "code",
   "execution_count": null,
   "id": "152951ce-3811-4a1e-af96-56c27c8e6d33",
   "metadata": {},
   "outputs": [],
   "source": [
    "# create TXT file to apply CUTMAPS\n",
    "path_cutmaps = PATH_RESOPSMX / 'ancillary' / 'cutmaps' / 'input'\n",
    "points = gpd.read_file(path_cutmaps / 'reservoirs.shp')\n",
    "points = points[['LON', 'LAT', 'SNCZI']]\n",
    "points[['LON', 'LAT']] = points[['LON', 'LAT']].astype(float).round(4)\n",
    "points['SNCZI'] = [f'{ID:04}' for ID in points.SNCZI]\n",
    "\n",
    "points.to_csv(path_cutmaps / 'reservoirs.txt',\n",
    "              sep='\\t',\n",
    "              header=False,\n",
    "              index=False,\n",
    "              float_format='%.4f')"
   ]
  },
  {
   "cell_type": "markdown",
   "id": "7d8ec080-46f9-4d9e-aba1-f552c3babbe5",
   "metadata": {},
   "source": [
    "***"
   ]
  },
  {
   "cell_type": "code",
   "execution_count": null,
   "id": "693182f6-4a59-40e5-a7e4-879a43cf7b9b",
   "metadata": {},
   "outputs": [],
   "source": [
    "# create CSV file to apply NCEXTRACT\n",
    "path_ncextract = PATH_RESOPSMX / 'ancillary' / 'ncextract'\n",
    "points = gpd.read_file(path_ncextract / 'reservoirs.shp')\n",
    "points = points[['LON', 'LAT', 'SNCZI']]\n",
    "points[['LON', 'LAT']] = points[['LON', 'LAT']].astype(float).round(4)\n",
    "points['SNCZI'] = [f'{ID:04}' for ID in points.SNCZI]\n",
    "points.rename(columns={'SNCZI': 'id', 'LAT': 'lat', 'LON': 'lon'}, inplace=True)\n",
    "\n",
    "points[['id', 'lat', 'lon']].to_csv(path_ncextract / 'reservoirs.csv',\n",
    "                                    header=True,\n",
    "                                    index=False,\n",
    "                                    float_format='%.4f')"
   ]
  },
  {
   "cell_type": "markdown",
   "id": "09ea858f-426c-48b1-b755-1d3b19a83121",
   "metadata": {},
   "source": [
    "***"
   ]
  }
 ],
 "metadata": {
  "kernelspec": {
   "display_name": "Python 3 (ipykernel)",
   "language": "python",
   "name": "python3"
  },
  "language_info": {
   "codemirror_mode": {
    "name": "ipython",
    "version": 3
   },
   "file_extension": ".py",
   "mimetype": "text/x-python",
   "name": "python",
   "nbconvert_exporter": "python",
   "pygments_lexer": "ipython3",
   "version": "3.9.13"
  }
 },
 "nbformat": 4,
 "nbformat_minor": 5
}
