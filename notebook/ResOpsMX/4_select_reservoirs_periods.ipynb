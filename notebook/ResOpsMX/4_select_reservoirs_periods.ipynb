{
 "cells": [
  {
   "cell_type": "markdown",
   "id": "631e1812-9c8c-4f8e-ad1b-41578130117b",
   "metadata": {},
   "source": [
    "# Select reservoirs and study period\n",
    "***\n",
    "\n",
    "**Author:** Chus Casado Rodríguez<br>\n",
    "**Date:** 30-09-2024<br>\n",
    "\n",
    "**Introduction:**<br>\n",
    "This notebook reads all the attributes and time series in the dataset and selects the reservoirs appropriate for testing the different reservoir routines. Several conditions need to be met for a reservoir to be selected:\n",
    "\n",
    "1. It must contain observed time series of the variables `inflow`, `storage` and `outflow`.\n",
    "2. The longest period without gaps in those three time series needs to be longer than `min_years` years.\n",
    "3. The bias between the observed inflow and outflow timeseries needs to be between 1+-`tol_bias`."
   ]
  },
  {
   "cell_type": "code",
   "execution_count": 1,
   "id": "c1940f88-25de-47e5-88ec-2ba55e079da6",
   "metadata": {},
   "outputs": [],
   "source": [
    "import numpy as np\n",
    "import pandas as pd\n",
    "from tqdm.auto import tqdm\n",
    "from pathlib import Path\n",
    "import pickle\n",
    "\n",
    "from lisfloodreservoirs.utils import DatasetConfig\n",
    "from lisfloodreservoirs import read_attributes, read_timeseries\n",
    "from lisfloodreservoirs.utils.timeseries import define_period"
   ]
  },
  {
   "cell_type": "markdown",
   "id": "72d503d3-dd70-4b64-b148-ff7f86e0b789",
   "metadata": {
    "tags": []
   },
   "source": [
    "## Configuration"
   ]
  },
  {
   "cell_type": "code",
   "execution_count": 2,
   "id": "436b7df9-9647-462b-bbfa-21472b4c18d4",
   "metadata": {},
   "outputs": [
    {
     "name": "stdout",
     "output_type": "stream",
     "text": [
      "Selected reservoirs and periods will be saved in:\n",
      "\tZ:\\nahaUsers\\casadje\\datasets\\reservoirs\\ResOpsMX\\v1.0\\selection\n",
      "\n"
     ]
    }
   ],
   "source": [
    "cfg = DatasetConfig('config_dataset.yml')\n",
    "\n",
    "PATH_OUT = cfg.PATH_RESOPS / cfg.VERSION / 'selection'\n",
    "PATH_OUT.mkdir(parents=True, exist_ok=True)\n",
    "print(f'Selected reservoirs and periods will be saved in:\\n\\t{PATH_OUT}\\n')\n",
    "\n",
    "variables = ['inflow', 'storage', 'outflow']"
   ]
  },
  {
   "cell_type": "markdown",
   "id": "da057a63-1f1b-412b-9188-3b984c86a637",
   "metadata": {
    "tags": []
   },
   "source": [
    "## Data"
   ]
  },
  {
   "cell_type": "markdown",
   "id": "92ab25ee-79ef-423a-aaf5-eb3c10fc6d6a",
   "metadata": {},
   "source": [
    "### Attributes"
   ]
  },
  {
   "cell_type": "code",
   "execution_count": 3,
   "id": "e28a0d05-6a52-45b3-80e1-3ca6f3c4963a",
   "metadata": {},
   "outputs": [
    {
     "name": "stdout",
     "output_type": "stream",
     "text": [
      "99 reservoirs in the attribute tables\n"
     ]
    }
   ],
   "source": [
    "# import all tables of attributes\n",
    "attributes = read_attributes(cfg.PATH_ATTRS, reservoirs=None)\n",
    "print(f'{attributes.shape[0]} reservoirs in the attribute tables')\n",
    "\n",
    "# # keep only reservoirs with all observed variables\n",
    "# mask = pd.concat([attributes[var.upper()] == 1 for var in variables], axis=1).all(axis=1)\n",
    "# attributes = attributes[mask]\n",
    "# attributes.sort_index(axis=0, inplace=True)\n",
    "# print('{0} reservoirs include observed time series for all variables: {1}'.format(attributes.shape[0],\n",
    "#                                                                                 ', '.join(variables)))\n",
    "\n",
    "# NOTE!! The checks below (area and volume) were alreday done in notebook 1\n",
    "\n",
    "# # keep reservoirs that comply with the catchment area and total storage conditions\n",
    "# if cfg.MIN_AREA is not None:\n",
    "#     mask_area = attributes.CATCH_SKM >= cfg.MIN_AREA\n",
    "#     attributes = attributes[mask_area]\n",
    "#     print('{0} reservoirs comply with the minimum catchment area: {1} km²'.format(attributes.shape[0],\n",
    "#                                                                                            cfg.MIN_AREA))\n",
    "# if cfg.MIN_VOL is not None:\n",
    "#     mask_volume = attributes.CAP_MCM >= cfg.MIN_VOL\n",
    "#     attributes = attributes[mask_volume]\n",
    "#     print('{0} reservoirs comply with the minimum storage capacity: {1} hm3'.format(attributes.shape[0],\n",
    "#                                                                                 cfg.MIN_VOL))"
   ]
  },
  {
   "cell_type": "markdown",
   "id": "9a07a7af-b676-4a54-b2f9-d7f62acf74ae",
   "metadata": {},
   "source": [
    "#### Time series"
   ]
  },
  {
   "cell_type": "code",
   "execution_count": 4,
   "id": "58234ef5-08be-4818-99cc-cc9731808ccc",
   "metadata": {},
   "outputs": [
    {
     "name": "stdout",
     "output_type": "stream",
     "text": [
      "99 reservoirs with timeseries\n",
      "\n",
      "89 reservoirs with timeseries or all variables\n",
      "\n",
      "87 reservoirs comply with the minimum degre of regulation: 0.08\n"
     ]
    }
   ],
   "source": [
    "# read time series\n",
    "timeseries = read_timeseries(cfg.PATH_TS / 'csv', attributes.index)\n",
    "print(f'{len(timeseries)} reservoirs with timeseries\\n')\n",
    "\n",
    "# keep only reservors with all variables\n",
    "timeseries = {ID: ts for ID, ts in timeseries.items() if len(ts.columns.intersection(variables)) == len(variables)}\n",
    "attributes = attributes.loc[list(timeseries)]\n",
    "print(f'{len(timeseries)} reservoirs with timeseries or all variables\\n')\n",
    "\n",
    "# remove reservoirs with excessively low degree of regulation\n",
    "if cfg.MIN_DOR is not None:\n",
    "    dor = pd.Series({grand_id: attributes.loc[grand_id, 'CAP_MCM'] * 1e6 / (ts.inflow.mean() * 365 * 24 * 3600) for grand_id, ts in timeseries.items()},\n",
    "                    name='DOR')\n",
    "    mask_dor = dor > cfg.MIN_DOR\n",
    "    attributes = attributes[mask_dor]\n",
    "    timeseries = {grand_id: ts for grand_id, ts in timeseries.items() if mask_dor[grand_id]}\n",
    "    print('{0} reservoirs comply with the minimum degre of regulation: {1}'.format(attributes.shape[0],\n",
    "                                                                                   cfg.MIN_DOR))"
   ]
  },
  {
   "cell_type": "markdown",
   "id": "d691a230-50d0-42e8-b1c9-a3fb6bef772f",
   "metadata": {},
   "source": [
    "## Selection"
   ]
  },
  {
   "cell_type": "code",
   "execution_count": 5,
   "id": "f53d31c9-1d85-47d9-8dfa-fadefe9ff162",
   "metadata": {},
   "outputs": [
    {
     "data": {
      "application/vnd.jupyter.widget-view+json": {
       "model_id": "67ce9f9d3f6d447abdb6dddcd33f06de",
       "version_major": 2,
       "version_minor": 0
      },
      "text/plain": [
       "select reservoirs:   0%|          | 0/87 [00:00<?, ?it/s]"
      ]
     },
     "metadata": {},
     "output_type": "display_data"
    },
    {
     "name": "stdout",
     "output_type": "stream",
     "text": [
      " 673 discarded for excesive bias:\t0.63\n",
      " 675 discarded for excesive bias:\t0.58\n",
      " 677 discarded for excesive bias:\t0.36\n",
      " 678 discarded for excesive bias:\t0.58\n",
      " 682 discarded for excesive bias:\t0.51\n",
      " 683 discarded for excesive bias:\t0.53\n",
      " 685 discarded for excesive bias:\t0.69\n",
      " 687 discarded for excesive bias:\t0.69\n",
      "1307 discarded for excesive bias:\t1.34\n",
      "1323 discarded for excesive bias:\t0.67\n",
      "1328 discarded for excesive bias:\t0.61\n",
      "1331 discarded for excesive bias:\t0.42\n",
      "1333 discarded for excesive bias:\t0.01\n",
      "1334 discarded for excesive bias:\t0.46\n",
      "1335 discarded for excesive bias:\t0.57\n",
      "1336 discarded for excesive bias:\t0.61\n",
      "1341 discarded for excesive bias:\t0.64\n",
      "1349 discarded for excesive bias:\t0.00\n",
      "1350 discarded for excesive bias:\t0.33\n",
      "1351 discarded for excesive bias:\t0.43\n",
      "1353 discarded for excesive bias:\t0.36\n",
      "1364 discarded for excesive bias:\t0.58\n",
      "1376 discarded for excesive bias:\t0.51\n",
      "1378 discarded for excesive bias:\t0.45\n",
      "1383 discarded for excesive bias:\t0.68\n",
      "1385 discarded for excesive bias:\t0.40\n",
      "1389 discarded for excesive bias:\t0.58\n",
      "1392 discarded for excesive bias:\t0.65\n",
      "\n",
      "59 reservoirs selected\n"
     ]
    }
   ],
   "source": [
    "bias = {}\n",
    "periods = {}\n",
    "for grand_id, ts in tqdm(timeseries.items(), desc='select reservoirs', total=len(timeseries)):\n",
    "    \n",
    "    # select study period\n",
    "    start, end = define_period(ts[variables])\n",
    "    if np.isnan(start) or np.isnan(end):\n",
    "        print(f'{grand_id:>4} discarded for lack of records')\n",
    "        continue\n",
    "    duration = (end - start) / np.timedelta64(1, 'D')\n",
    "    if duration >= cfg.MIN_YEARS * 365:\n",
    "        ts = ts.loc[start:end]\n",
    "    else:\n",
    "        print(f'{grand_id:>4} discarded for lack of records:\\t{duration:.0f} days')\n",
    "        continue\n",
    "        \n",
    "    # bias between inflow and outflow\n",
    "    bias[grand_id] = ts.outflow.mean() / ts.inflow.mean()\n",
    "    if (1 - cfg.TOL_BIAS) <= bias[grand_id] <= (1 + cfg.TOL_BIAS):\n",
    "        # save periods\n",
    "        periods[str(grand_id)] = {\n",
    "            'start_dates': [pd.Timestamp(start)],\n",
    "            'end_dates': [pd.Timestamp(end)]\n",
    "        }\n",
    "    else:\n",
    "        print(f'{grand_id:>4} discarded for excesive bias:\\t{bias[grand_id]:.2f}')\n",
    "    \n",
    "print(f'\\n{len(periods)} reservoirs selected')"
   ]
  },
  {
   "cell_type": "markdown",
   "id": "8219fb1c-1968-4ac0-a1de-ceb5f8ea3b7d",
   "metadata": {},
   "source": [
    "### Export"
   ]
  },
  {
   "cell_type": "code",
   "execution_count": 6,
   "id": "23409f11-7fd9-47da-abe7-c545f1300f75",
   "metadata": {},
   "outputs": [],
   "source": [
    "# export list of selected reservoirs\n",
    "with open(PATH_OUT / 'reservoirs.txt', 'w') as f:\n",
    "    for grand_id in periods.keys():\n",
    "        f.write(f'{grand_id}\\n')"
   ]
  },
  {
   "cell_type": "code",
   "execution_count": 7,
   "id": "2333bb16-7bbe-4d9c-a9a2-dfc72b62f77d",
   "metadata": {},
   "outputs": [],
   "source": [
    "# export selected study period\n",
    "with open(PATH_OUT / 'periods.pkl', 'wb') as f:\n",
    "    pickle.dump(periods, f)"
   ]
  }
 ],
 "metadata": {
  "kernelspec": {
   "display_name": "Python 3 (ipykernel)",
   "language": "python",
   "name": "python3"
  },
  "language_info": {
   "codemirror_mode": {
    "name": "ipython",
    "version": 3
   },
   "file_extension": ".py",
   "mimetype": "text/x-python",
   "name": "python",
   "nbconvert_exporter": "python",
   "pygments_lexer": "ipython3",
   "version": "3.9.13"
  }
 },
 "nbformat": 4,
 "nbformat_minor": 5
}
